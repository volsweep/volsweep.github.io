{
 "cells": [
  {
   "cell_type": "markdown",
   "metadata": {},
   "source": [
    "## Read in & concatenate data, clean 'datestop' column"
   ]
  },
  {
   "cell_type": "code",
   "execution_count": 1,
   "metadata": {},
   "outputs": [],
   "source": [
    "import numpy as np\n",
    "import pandas as pd\n",
    "import warnings\n",
    "warnings.filterwarnings(\"ignore\")\n",
    "\n",
    "from datetime import datetime as dt"
   ]
  },
  {
   "cell_type": "markdown",
   "metadata": {},
   "source": [
    "Data: http://www1.nyc.gov/site/nypd/stats/reports-analysis/stopfrisk.page\n",
    "\n",
    "Data dictionary: https://data.cityofnewyork.us/api/views/ftxv-d5ix/files/9cecce6d-baca-4a60-be9d-31501b5639f0"
   ]
  },
  {
   "cell_type": "code",
   "execution_count": 2,
   "metadata": {
    "scrolled": false
   },
   "outputs": [
    {
     "name": "stdout",
     "output_type": "stream",
     "text": [
      "\n",
      "\n",
      "2003\n",
      "new columns this year: ['ac_evasv', 'ac_cgdir', 'race', 'comppct', 'haircolr', 'addrtyp', 'radio', 'ac_assoc', 'cs_drgtr', 'zip', 'recstat', 'pf_wall', 'pf_pepsp', 'ycoord', 'ac_inves', 'rf_bulg', 'rf_othsw', 'rf_rfcmp', 'ht_inch', 'stinter', 'sb_hdobj', 'othfeatr', 'sector', 'year', 'arstoffn', 'cs_other', 'xcoord', 'sumissue', 'pf_hands', 'ac_time', 'ac_stsnd', 'ht_feet', 'perstop', 'stname', 'offunif', 'offshld', 'ser_num', 'cs_descr', 'pf_other', 'dob', 'othrweap', 'cs_casng', 'state', 'ac_other', 'explnstp', 'repcmd', 'trhsloc', 'offverb', 'weight', 'pistol', 'city', 'sumoffen', 'addrnum', 'contrabn', 'rescode', 'officrid', 'cs_bulge', 'ac_proxm', 'sb_other', 'othpers', 'sex', 'eyecolor', 'riflshot', 'crossst', 'cs_vcrim', 'premname', 'aptnum', 'rf_vcact', 'revcmd', 'cs_lkout', 'pf_drwep', 'sb_outln', 'pf_hcuff', 'frisked', 'rf_knowl', 'rf_furt', 'inout', 'rf_attir', 'crimsusp', 'machgun', 'timestop', 'rf_verbl', 'post', 'knifcuti', 'asltweap', 'sb_admis', 'rf_vcrim', 'cs_objcs', 'build', 'pf_baton', 'cs_cloth', 'pct', 'pf_grnd', 'datestop', 'adtlrept', 'compyear', 'age', 'premtype', 'addrpct', 'pf_ptwep', 'arstmade', 'searched', 'beat', 'cs_furtv', 'ac_incid', 'typeofid', 'ac_rept', 'perobs']\n",
      "missing columns this year: []\n",
      "\n",
      "\n",
      "2004\n",
      "new columns this year: []\n",
      "missing columns this year: []\n",
      "\n",
      "\n",
      "2005\n",
      "new columns this year: []\n",
      "missing columns this year: []\n",
      "\n",
      "\n",
      "2006\n",
      "new columns this year: []\n",
      "missing columns this year: []\n",
      "\n",
      "\n",
      "2007\n",
      "new columns this year: []\n",
      "missing columns this year: []\n",
      "\n",
      "\n",
      "2008\n",
      "new columns this year: []\n",
      "missing columns this year: []\n",
      "\n",
      "\n",
      "2009\n",
      "new columns this year: []\n",
      "missing columns this year: []\n",
      "\n",
      "\n",
      "2010\n",
      "new columns this year: []\n",
      "missing columns this year: []\n",
      "\n",
      "\n",
      "2011\n",
      "new columns this year: ['forceuse']\n",
      "missing columns this year: []\n",
      "\n",
      "\n",
      "2012\n",
      "new columns this year: []\n",
      "missing columns this year: []\n",
      "\n",
      "\n",
      "2013\n",
      "new columns this year: []\n",
      "missing columns this year: []\n",
      "\n",
      "\n",
      "2014\n",
      "new columns this year: []\n",
      "missing columns this year: []\n",
      "\n",
      "\n",
      "2015\n",
      "new columns this year: []\n",
      "missing columns this year: []\n",
      "\n",
      "\n",
      "2016\n",
      "new columns this year: []\n",
      "missing columns this year: []\n",
      "\n",
      "\n",
      "2017\n",
      "new columns this year: ['SUSPECTS_ACTIONS_PROXIMITY_TO_SCENE_FLAG', 'STOP_FRISK_ID', 'PHYSICAL_FORCE_RESTRAINT_USED_FLAG', 'SUPERVISING_OFFICER_RANK', 'DAY2', 'JURISDICTION_DESCRIPTION', 'SUPERVISING_ACTION_CORRESPONDING_ACTIVITY_LOG_ENTRY_REVIEWED', 'SUSPECTS_ACTIONS_OTHER_FLAG', 'WEAPON_FOUND_FLAG', 'STOP_LOCATION_PATROL_BORO_NAME', 'ISSUING_OFFICER_RANK', 'STOP_LOCATION_ZIP_CODE', 'SUSPECTS_ACTIONS_IDENTIFY_CRIME_PATTERN_FLAG', 'OFFICER_NOT_EXPLAINED_STOP_DESCRIPTION', 'PHYSICAL_FORCE_CEW_FLAG', 'BACKROUND_CIRCUMSTANCES_SUSPECT_KNOWN_TO_CARRY_WEAPON_FLAG', 'SEARCH_BASIS_CONSENT_FLAG', 'DEMEANOR_OF_PERSON_STOPPED', 'PHYSICAL_FORCE_OTHER_FLAG', 'SUPERVISING_OFFICER_COMMAND_CODE', 'STOP_WAS_INITIATED', 'STOP_LOCATION_FULL_ADDRESS', 'MONTH2', 'ISSUING_OFFICER_COMMAND_CODE', 'FIREARM_FLAG', 'SUSPECT_OTHER_DESCRIPTION', 'OTHER_WEAPON_FLAG', 'STOP_LOCATION_SECTOR_CODE', 'DEMEANOR_CODE', 'SEARCH_BASIS_INCIDENTAL_TO_ARREST_FLAG', 'PHYSICAL_FORCE_VERBAL_INSTRUCTION_FLAG']\n",
      "missing columns this year: ['ac_evasv', 'ac_cgdir', 'rescode', 'comppct', 'addrtyp', 'ac_proxm', 'radio', 'ac_assoc', 'riflshot', 'crossst', 'zip', 'aptnum', 'rf_vcact', 'revcmd', 'pf_wall', 'ac_inves', 'rf_bulg', 'rf_knowl', 'rf_othsw', 'rf_rfcmp', 'ht_inch', 'rf_furt', 'stinter', 'othfeatr', 'rf_attir', 'sector', 'machgun', 'rf_verbl', 'post', 'cs_other', 'asltweap', 'pf_hands', 'ac_time', 'ac_stsnd', 'rf_vcrim', 'cs_objcs', 'forceuse', 'cs_cloth', 'ser_num', 'pf_other', 'dob', 'pf_grnd', 'othrweap', 'adtlrept', 'compyear', 'state', 'premtype', 'addrpct', 'ac_other', 'pf_ptwep', 'repcmd', 'beat', 'cs_furtv', 'ac_incid', 'typeofid', 'ac_rept', 'pistol']\n",
      "\n",
      "\n",
      "2018\n",
      "new columns this year: ['Stop Frisk Time']\n",
      "missing columns this year: ['ac_evasv', 'ac_cgdir', 'rescode', 'comppct', 'addrtyp', 'ac_proxm', 'radio', 'ac_assoc', 'riflshot', 'crossst', 'zip', 'aptnum', 'rf_vcact', 'revcmd', 'pf_wall', 'ac_inves', 'rf_bulg', 'rf_knowl', 'rf_othsw', 'rf_rfcmp', 'ht_inch', 'rf_furt', 'stinter', 'othfeatr', 'rf_attir', 'sector', 'machgun', 'timestop', 'rf_verbl', 'post', 'cs_other', 'asltweap', 'pf_hands', 'ac_time', 'ac_stsnd', 'rf_vcrim', 'cs_objcs', 'forceuse', 'cs_cloth', 'ser_num', 'pf_other', 'dob', 'pf_grnd', 'othrweap', 'adtlrept', 'compyear', 'state', 'premtype', 'addrpct', 'ac_other', 'pf_ptwep', 'repcmd', 'beat', 'cs_furtv', 'ac_incid', 'typeofid', 'ac_rept', 'pistol']\n",
      "\n",
      "\n",
      "2019\n",
      "new columns this year: ['STOP_ID_ANONY', 'CONSENT_GIVEN_FLG', 'ASK_FOR_CONSENT_FLG']\n",
      "missing columns this year: ['ac_evasv', 'ac_cgdir', 'rescode', 'comppct', 'addrtyp', 'STOP_FRISK_ID', 'Stop Frisk Time', 'ac_proxm', 'radio', 'ac_assoc', 'riflshot', 'crossst', 'zip', 'premname', 'aptnum', 'rf_vcact', 'revcmd', 'pf_wall', 'ac_inves', 'rf_bulg', 'rf_knowl', 'rf_othsw', 'SUPERVISING_ACTION_CORRESPONDING_ACTIVITY_LOG_ENTRY_REVIEWED', 'rf_rfcmp', 'ht_inch', 'rf_furt', 'stinter', 'othfeatr', 'rf_attir', 'sector', 'machgun', 'rf_verbl', 'post', 'cs_other', 'asltweap', 'pf_hands', 'ac_time', 'ac_stsnd', 'rf_vcrim', 'cs_objcs', 'forceuse', 'cs_cloth', 'ser_num', 'pf_other', 'dob', 'pf_grnd', 'othrweap', 'adtlrept', 'compyear', 'state', 'premtype', 'addrpct', 'ac_other', 'pf_ptwep', 'repcmd', 'beat', 'cs_furtv', 'ac_incid', 'typeofid', 'ac_rept', 'pistol']\n",
      "\n",
      "\n",
      "5101244\n",
      "\n",
      "\n"
     ]
    },
    {
     "data": {
      "text/plain": [
       "Stop Frisk Time                                                 5090238\n",
       "ASK_FOR_CONSENT_FLG                                             5087785\n",
       "STOP_ID_ANONY                                                   5087785\n",
       "CONSENT_GIVEN_FLG                                               5087785\n",
       "SUPERVISING_ACTION_CORRESPONDING_ACTIVITY_LOG_ENTRY_REVIEWED    5078607\n",
       "                                                                 ...   \n",
       "addrnum                                                            6407\n",
       "crimsusp                                                           1001\n",
       "sumoffen                                                            522\n",
       "arstoffn                                                            331\n",
       "stname                                                               84\n",
       "Length: 99, dtype: int64"
      ]
     },
     "execution_count": 2,
     "metadata": {},
     "output_type": "execute_result"
    }
   ],
   "source": [
    "# NYPD released the data sets in three different formats: .zip, .csv, .xlsx\n",
    "# create lists of parts to use in URL formation\n",
    "\n",
    "base_link_zip = ['zip', '-csv.zip']\n",
    "\n",
    "base_link_csv = ['excel', '.csv']\n",
    "\n",
    "base_link_excel = ['excel', '.xlsx']\n",
    "\n",
    "rename_dict = {\n",
    "    #  in the middle of Bloomberg, one year some column names changed\n",
    "    # 'forceuse' started in 2011\n",
    "    'strname' : 'stname', \n",
    "    'rescod' : 'rescode', \n",
    "    'adrpct' : 'addrpct', \n",
    "    'prenam' : 'premname', \n",
    "    'strintr' : 'stinter', \n",
    "    'premtyp' : 'premtype', \n",
    "    'adrnum' : 'addrnum', \n",
    "    \n",
    "    ## De Blasio change\n",
    "    'STOP_FRISK_DATE' : 'datestop',\n",
    "    'YEAR2' : 'year',\n",
    "    'STOP_FRISK_TIME' : 'timestop',\n",
    "    'RECORD_STATUS_CODE' : 'recstat',\n",
    "    'LOCATION_IN_OUT_CODE' : 'inout',\n",
    "    'OBSERVED_DURATION_MINUTES' : 'perobs',\n",
    "    'SUSPECTED_CRIME_DESCRIPTION' : 'crimsusp',\n",
    "    'STOP_DURATION_MINUTES' : 'perstop',\n",
    "    'OFFICER_EXPLAINED_STOP_FLAG' : 'explnstp',\n",
    "    'OTHER_PERSON_STOPPED_FLAG' : 'othpers',\n",
    "    'SUSPECT_ARRESTED_FLAG' : 'arstmade',\n",
    "    'SUSPECT_ARREST_OFFENSE' : 'arstoffn',\n",
    "    'SUMMONS_ISSUED_FLAG' : 'sumissue',\n",
    "    'SUMMONS_OFFENSE_DESCRIPTION' : 'sumoffen',\n",
    "    'OFFICER_IN_UNIFORM_FLAG' : 'offunif',\n",
    "    'SHIELD_IDENTIFIES_OFFICER_FLAG' : 'offshld',\n",
    "    'VERBAL_IDENTIFIES_OFFICER_FLAG' : 'offverb',\n",
    "    'ID_CARD_IDENTIFIES_OFFICER_FLAG' : 'officrid',\n",
    "    'FRISKED_FLAG' : 'frisked',\n",
    "    'SEARCHED_FLAG' : 'searched',\n",
    "    'OTHER_CONTRABAND_FLAG' : 'contrabn',\n",
    "    'SUSPECT_HEIGHT' : 'ht_feet', \n",
    "    'SUSPECT_WEIGHT' : 'weight',\n",
    "    'SUSPECT_SEX' : 'sex',\n",
    "    'KNIFE_CUTTER_FLAG' : 'knifcuti',\n",
    "    'STOP_LOCATION_X' : 'xcoord',\n",
    "    'STOP_LOCATION_Y' : 'ycoord',\n",
    "    'SUSPECT_EYE_COLOR' : 'eyecolor',\n",
    "    'SUSPECT_HAIR_COLOR' : 'haircolr',\n",
    "    'SUSPECT_REPORTED_AGE' : 'age',\n",
    "    'PHYSICAL_FORCE_HANDCUFF_SUSPECT_FLAG' : 'pf_hcuff',\n",
    "    'SUSPECT_BODY_BUILD_TYPE' : 'build',\n",
    "    'STOP_LOCATION_PRECINCT' : 'pct',\n",
    "    'SEARCH_BASIS_ADMISSION_FLAG' : 'sb_admis',\n",
    "    'SUSPECTS_ACTIONS_LOOKOUT_FLAG' : 'cs_lkout',\n",
    "    'PHYSICAL_FORCE_OC_SPRAY_USED_FLAG' : 'pf_pepsp',\n",
    "    'PHYSICAL_FORCE_DRAW_POINT_FIREARM_FLAG' : 'pf_drwep',\n",
    "    'PHYSICAL_FORCE_WEAPON_IMPACT_FLAG' : 'pf_baton',\n",
    "    'STOP_LOCATION_APARTMENT' : 'addrnum',\n",
    "    'SUSPECT_RACE_DESCRIPTION' : 'race',\n",
    "    'SEARCH_BASIS_HARD_OBJECT_FLAG' : 'sb_hdobj',\n",
    "    'SUSPECTS_ACTIONS_CASING_FLAG' : 'cs_casng',\n",
    "    'BACKROUND_CIRCUMSTANCES_VIOLENT_CRIME_FLAG' : 'cs_vcrim',\n",
    "    'SEARCH_BASIS_OUTLINE_FLAG' : 'sb_outln',\n",
    "    'SEARCH_BASIS_OTHER_FLAG' : 'sb_other',\n",
    "    'STOP_LOCATION_BORO_NAME' : 'city',\n",
    "    'SUSPECTS_ACTIONS_DRUG_TRANSACTIONS_FLAG' : 'cs_drgtr',\n",
    "    'STOP_LOCATION_PREMISES_NAME' : 'premname',\n",
    "    'STOP_LOCATION_STREET_NAME' : 'stname',\n",
    "    'SUSPECTS_ACTIONS_DECRIPTION_FLAG' : 'cs_descr',\n",
    "    'SUSPECTS_ACTIONS_CONCEALED_POSSESSION_WEAPON_FLAG' : 'cs_bulge',\n",
    "    'JURISDICTION_CODE' : 'trhsloc'\n",
    "}\n",
    "\n",
    "drops = [\n",
    "    'lineCM', \n",
    "    'detailCM', \n",
    "    'dettypCM',\n",
    "    'wepfound',\n",
    "    'detail1_',\n",
    "    'linecm',\n",
    "    'dettypcm', \n",
    "    'detailcm',\n",
    "    'dettyp_c',\n",
    "    'details_',\n",
    "]\n",
    "\n",
    "years = range(2003, 2020) \n",
    "\n",
    "all_columns = []\n",
    "\n",
    "df = pd.DataFrame()\n",
    "for year in years:\n",
    "    firstpart = 'https://www1.nyc.gov/assets/nypd/downloads/'\n",
    "    secondpart = '/analysis_and_planning/stop-question-frisk/sqf-'\n",
    "    if year in range(2003, 2015):\n",
    "        URL = ''.join([firstpart, base_link_zip[0], secondpart, str(year), base_link_zip[1]])\n",
    "        lil_df = pd.read_csv(URL, encoding='ISO-8859-1')\n",
    "    elif year in range(2015, 2017):\n",
    "        URL = ''.join([firstpart, base_link_csv[0], secondpart, str(year), base_link_csv[1]])\n",
    "        lil_df = pd.read_csv(URL, encoding='ISO-8859-1')\n",
    "    else:\n",
    "        URL = ''.join([firstpart, base_link_excel[0], secondpart, str(year), base_link_excel[1]])\n",
    "        lil_df = pd.read_excel(URL, encoding='ISO-8859-1')\n",
    "    print('\\n')\n",
    "    lil_df.rename(columns = rename_dict, inplace = True)\n",
    "    for drop in drops:\n",
    "        try:\n",
    "            lil_df.drop([drop], axis = 1, inplace = True)\n",
    "        except:\n",
    "            pass\n",
    "    print(year)\n",
    "    print('new columns this year:', list(set(lil_df.columns) - set(all_columns)))\n",
    "    print('missing columns this year:', list(set(all_columns) - set(lil_df.columns)))\n",
    "    all_columns.extend(list(lil_df.columns))\n",
    "    all_columns = list(set(all_columns))\n",
    "    df = pd.concat([df, lil_df], axis = 0, sort = True)\n",
    "print('\\n')\n",
    "print(len(df))\n",
    "print('\\n')\n",
    "df.reset_index(drop = True, inplace = True)\n",
    "df.isnull().sum()[(df.isnull().sum() > 0)].sort_values(ascending = False)"
   ]
  },
  {
   "cell_type": "code",
   "execution_count": 3,
   "metadata": {},
   "outputs": [],
   "source": [
    "# drop columns missing more than half of rows\n",
    "drops = list((df.isnull().sum()/len(df))[(df.isnull().sum()/len(df) > 0.5)].index)\n",
    "\n",
    "df.drop(drops, axis = 1, inplace = True)"
   ]
  },
  {
   "cell_type": "code",
   "execution_count": 4,
   "metadata": {},
   "outputs": [
    {
     "data": {
      "text/plain": [
       "revcmd      36824\n",
       "othfeatr    36635\n",
       "stinter     36439\n",
       "repcmd      36382\n",
       "asltweap    36096\n",
       "            ...  \n",
       "addrnum      6407\n",
       "crimsusp     1001\n",
       "sumoffen      522\n",
       "arstoffn      331\n",
       "stname         84\n",
       "Length: 63, dtype: int64"
      ]
     },
     "execution_count": 4,
     "metadata": {},
     "output_type": "execute_result"
    }
   ],
   "source": [
    "df.isnull().sum()[(df.isnull().sum() > 0)].sort_values(ascending = False)"
   ]
  },
  {
   "cell_type": "markdown",
   "metadata": {},
   "source": [
    "### Stop date"
   ]
  },
  {
   "cell_type": "code",
   "execution_count": 5,
   "metadata": {},
   "outputs": [
    {
     "data": {
      "text/plain": [
       "2112011    3255\n",
       "2102012    3200\n",
       "1062012    3069\n",
       "4302010    3067\n",
       "1272012    2983\n",
       "3092012    2932\n",
       "3022012    2881\n",
       "1202012    2874\n",
       "2012012    2847\n",
       "2032012    2843\n",
       "Name: datestop, dtype: int64"
      ]
     },
     "execution_count": 5,
     "metadata": {},
     "output_type": "execute_result"
    }
   ],
   "source": [
    "df['datestop'].value_counts()[:10]"
   ]
  },
  {
   "cell_type": "code",
   "execution_count": 6,
   "metadata": {},
   "outputs": [
    {
     "data": {
      "text/plain": [
       "7     3552146\n",
       "8     1006510\n",
       "10     506489\n",
       "19      36096\n",
       "1           3\n",
       "Name: datestop, dtype: int64"
      ]
     },
     "execution_count": 6,
     "metadata": {},
     "output_type": "execute_result"
    }
   ],
   "source": [
    "df['datestop'].apply(lambda x: len(str(x))).value_counts()"
   ]
  },
  {
   "cell_type": "code",
   "execution_count": 7,
   "metadata": {},
   "outputs": [
    {
     "data": {
      "text/plain": [
       "[' ', ' ', ' ']"
      ]
     },
     "execution_count": 7,
     "metadata": {},
     "output_type": "execute_result"
    }
   ],
   "source": [
    "list(df.loc[df['datestop'].apply(lambda x: len(str(x)) == 1), 'datestop'].values)"
   ]
  },
  {
   "cell_type": "code",
   "execution_count": 8,
   "metadata": {},
   "outputs": [
    {
     "data": {
      "text/html": [
       "<div>\n",
       "<style scoped>\n",
       "    .dataframe tbody tr th:only-of-type {\n",
       "        vertical-align: middle;\n",
       "    }\n",
       "\n",
       "    .dataframe tbody tr th {\n",
       "        vertical-align: top;\n",
       "    }\n",
       "\n",
       "    .dataframe thead th {\n",
       "        text-align: right;\n",
       "    }\n",
       "</style>\n",
       "<table border=\"1\" class=\"dataframe\">\n",
       "  <thead>\n",
       "    <tr style=\"text-align: right;\">\n",
       "      <th></th>\n",
       "      <th>datestop</th>\n",
       "      <th>pct</th>\n",
       "    </tr>\n",
       "  </thead>\n",
       "  <tbody>\n",
       "    <tr>\n",
       "      <td>872565</td>\n",
       "      <td></td>\n",
       "      <td></td>\n",
       "    </tr>\n",
       "    <tr>\n",
       "      <td>872566</td>\n",
       "      <td></td>\n",
       "      <td></td>\n",
       "    </tr>\n",
       "    <tr>\n",
       "      <td>5065147</td>\n",
       "      <td></td>\n",
       "      <td></td>\n",
       "    </tr>\n",
       "  </tbody>\n",
       "</table>\n",
       "</div>"
      ],
      "text/plain": [
       "        datestop pct\n",
       "872565              \n",
       "872566              \n",
       "5065147             "
      ]
     },
     "execution_count": 8,
     "metadata": {},
     "output_type": "execute_result"
    }
   ],
   "source": [
    "df.loc[df['datestop'].apply(lambda x: len(str(x)) == 1), ['datestop', 'pct']]"
   ]
  },
  {
   "cell_type": "code",
   "execution_count": 9,
   "metadata": {},
   "outputs": [],
   "source": [
    "df = df[df['datestop'] != ' ']"
   ]
  },
  {
   "cell_type": "code",
   "execution_count": 10,
   "metadata": {},
   "outputs": [
    {
     "data": {
      "text/plain": [
       "2006-02-16    2018\n",
       "2006-04-12    1995\n",
       "2006-05-12    1983\n",
       "2006-02-08    1960\n",
       "2006-06-06    1959\n",
       "2006-03-08    1951\n",
       "2006-02-15    1949\n",
       "2006-01-20    1929\n",
       "2006-01-19    1898\n",
       "2006-02-17    1897\n",
       "Name: datestop, dtype: int64"
      ]
     },
     "execution_count": 10,
     "metadata": {},
     "output_type": "execute_result"
    }
   ],
   "source": [
    "df.loc[df['datestop'].apply(lambda x: '-' in str(x)), 'datestop'].value_counts()[:10]"
   ]
  },
  {
   "cell_type": "code",
   "execution_count": 11,
   "metadata": {},
   "outputs": [
    {
     "data": {
      "text/plain": [
       "<class 'int'>                                         4554444\n",
       "<class 'str'>                                          510701\n",
       "<class 'pandas._libs.tslibs.timestamps.Timestamp'>      36096\n",
       "Name: datestop, dtype: int64"
      ]
     },
     "execution_count": 11,
     "metadata": {},
     "output_type": "execute_result"
    }
   ],
   "source": [
    "df['datestop'].apply(lambda x: type(x)).value_counts()"
   ]
  },
  {
   "cell_type": "code",
   "execution_count": 12,
   "metadata": {},
   "outputs": [
    {
     "name": "stdout",
     "output_type": "stream",
     "text": [
      "36096\n",
      "506489\n",
      "4558656\n",
      "hyphendate done\n",
      "0s added to cleandate\n",
      "cleandate done\n"
     ]
    }
   ],
   "source": [
    "alreadymask = [True if ((type(x) != int) & (type(x) != str)) else False for x in df['datestop']]\n",
    "alreadytimestamp = df[alreadymask]\n",
    "print(len(alreadytimestamp))\n",
    "\n",
    "notalready = [True if x == False else False for x in alreadymask]\n",
    "\n",
    "hyphenmask = [True if '-' in str(x) else False for x in df.loc[notalready, 'datestop']]\n",
    "hyphendate = df[notalready][hyphenmask]\n",
    "print(len(hyphendate))\n",
    "\n",
    "cleanmask = [True if '-' not in str(x) else False for x in df.loc[notalready, 'datestop']]\n",
    "cleandate = df[notalready][cleanmask]\n",
    "print(len(cleandate))\n",
    "\n",
    "hyphendate['datestop'] = [dt.strptime(x, '%Y-%m-%d') for x in hyphendate['datestop']]\n",
    "print('hyphendate done')\n",
    "cleandate['datestop'] = ['0' + str(x) if len(str(x)) == 7 else str(x) for x in cleandate['datestop']]\n",
    "print('0s added to cleandate')\n",
    "cleandate['datestop'] = [dt.strptime(x, '%m%d%Y') for x in cleandate['datestop']]\n",
    "print('cleandate done')\n",
    "\n",
    "df = pd.concat([hyphendate, cleandate], axis = 0, sort = True)\n",
    "df = pd.concat([df, alreadytimestamp], axis = 0, sort = True)\n",
    "del cleandate, hyphendate, alreadytimestamp"
   ]
  },
  {
   "cell_type": "code",
   "execution_count": 13,
   "metadata": {},
   "outputs": [],
   "source": [
    "df['dayofmonth'] = [x.day for x in df['datestop']]\n",
    "df['month'] = [x.strftime('%B') for x in df['datestop']]\n",
    "df['weekday'] = [x.strftime('%A') for x in df['datestop']]\n",
    "df['ordinalday'] = [x.toordinal() for x in df['datestop']]"
   ]
  },
  {
   "cell_type": "code",
   "execution_count": 14,
   "metadata": {},
   "outputs": [
    {
     "data": {
      "text/plain": [
       "536581    1900-12-31\n",
       "1340839   1900-12-31\n",
       "1160274   1900-12-31\n",
       "1160187   1900-12-31\n",
       "392384    1900-12-31\n",
       "1365909   1900-12-31\n",
       "1376784   1900-12-31\n",
       "1126117   1900-12-31\n",
       "1123584   1900-12-31\n",
       "1112750   1900-12-31\n",
       "Name: datestop, dtype: datetime64[ns]"
      ]
     },
     "execution_count": 14,
     "metadata": {},
     "output_type": "execute_result"
    }
   ],
   "source": [
    "df['datestop'].sort_values()[:10]"
   ]
  },
  {
   "cell_type": "code",
   "execution_count": 16,
   "metadata": {},
   "outputs": [
    {
     "name": "stdout",
     "output_type": "stream",
     "text": [
      "56\n"
     ]
    },
    {
     "data": {
      "text/plain": [
       "113    12\n",
       "75      4\n",
       "23      4\n",
       "28      2\n",
       "43      2\n",
       "62      2\n",
       "34      2\n",
       "101     2\n",
       "79      2\n",
       "81      2\n",
       "70      2\n",
       "68      2\n",
       "73      1\n",
       "72      1\n",
       "30      1\n",
       "83      1\n",
       "76      1\n",
       "84      1\n",
       "88      1\n",
       "90      1\n",
       "94      1\n",
       "100     1\n",
       "103     1\n",
       "26      1\n",
       "17      1\n",
       "52      1\n",
       "6       1\n",
       "120     1\n",
       "123     1\n",
       "66      1\n",
       "Name: pct, dtype: int64"
      ]
     },
     "execution_count": 16,
     "metadata": {},
     "output_type": "execute_result"
    }
   ],
   "source": [
    "tooearly = dt.strptime('1900-12-31', '%Y-%m-%d')\n",
    "all_early = df.loc[df['datestop'] == tooearly, 'pct']\n",
    "print(len(all_early))\n",
    "all_early.value_counts()"
   ]
  },
  {
   "cell_type": "code",
   "execution_count": 17,
   "metadata": {},
   "outputs": [],
   "source": [
    "df = df[df['datestop'] != tooearly]"
   ]
  },
  {
   "cell_type": "code",
   "execution_count": 18,
   "metadata": {},
   "outputs": [
    {
     "data": {
      "text/plain": [
       "0     2003-01-01\n",
       "340   2003-01-01\n",
       "339   2003-01-01\n",
       "338   2003-01-01\n",
       "337   2003-01-01\n",
       "336   2003-01-01\n",
       "335   2003-01-01\n",
       "341   2003-01-01\n",
       "334   2003-01-01\n",
       "332   2003-01-01\n",
       "Name: datestop, dtype: datetime64[ns]"
      ]
     },
     "execution_count": 18,
     "metadata": {},
     "output_type": "execute_result"
    }
   ],
   "source": [
    "df['datestop'].sort_values()[:10]"
   ]
  },
  {
   "cell_type": "code",
   "execution_count": 19,
   "metadata": {},
   "outputs": [
    {
     "data": {
      "text/plain": [
       "count    5.101185e+06\n",
       "mean     7.334317e+05\n",
       "std      1.058512e+03\n",
       "min      7.312160e+05\n",
       "25%      7.325940e+05\n",
       "50%      7.334900e+05\n",
       "75%      7.342610e+05\n",
       "max      7.374240e+05\n",
       "Name: ordinalday, dtype: float64"
      ]
     },
     "execution_count": 19,
     "metadata": {},
     "output_type": "execute_result"
    }
   ],
   "source": [
    "df['ordinalday'].describe()"
   ]
  },
  {
   "cell_type": "code",
   "execution_count": 20,
   "metadata": {},
   "outputs": [
    {
     "data": {
      "text/plain": [
       "16.996577686516083"
      ]
     },
     "execution_count": 20,
     "metadata": {},
     "output_type": "execute_result"
    }
   ],
   "source": [
    "(df['ordinalday'].max() - df['ordinalday'].min())/365.25"
   ]
  },
  {
   "cell_type": "code",
   "execution_count": 21,
   "metadata": {},
   "outputs": [],
   "source": [
    "df.to_csv('data/SQF_2003_through_2019.csv', index = False)"
   ]
  }
 ],
 "metadata": {
  "kernelspec": {
   "display_name": "Python 3",
   "language": "python",
   "name": "python3"
  },
  "language_info": {
   "codemirror_mode": {
    "name": "ipython",
    "version": 3
   },
   "file_extension": ".py",
   "mimetype": "text/x-python",
   "name": "python",
   "nbconvert_exporter": "python",
   "pygments_lexer": "ipython3",
   "version": "3.7.4"
  }
 },
 "nbformat": 4,
 "nbformat_minor": 2
}
