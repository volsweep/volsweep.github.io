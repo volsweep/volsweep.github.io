{
 "cells": [
  {
   "cell_type": "code",
   "execution_count": null,
   "metadata": {},
   "outputs": [],
   "source": [
    "**U.S. House, Ohio District 12**\n",
    "\n",
    "<div class=\"clearfix\">\n",
    "  <div class=\"img-contaiOHr\">\n",
    "    <span>Fig. 42(a)</span><br/>\n",
    "    <a href=\"{{ site.url }}/assets/FECpt2/appendix/incumbentwon/OH12a.png\">\n",
    "      <img alt=\"OH_12 committee contributions\" src=\"{{ site.url }}/assets/FECpt2/appendix/incumbentwon/OH12a.png\" style=\"width: 100%\">\n",
    "    </a>\n",
    "  </div>  \n",
    "  <div class=\"img-contaiOHr\">\n",
    "    <span>Fig. 42(b)</span><br/>\n",
    "    <a href=\"{{ site.url }}/assets/FECpt2/appendix/incumbentwon/OH12a.png\">\n",
    "      <img alt=\"OH_12 individual contributions\" src=\"{{ site.url }}/assets/FECpt2/appendix/incumbentwon/OH12b.png\" style=\"width: 100%\">\n",
    "    </a>\n",
    "  </div>\n",
    "  <div class=\"img-contaiOHr\">\n",
    "    <span>Fig. 42(c)</span><br/>\n",
    "    <a href=\"{{ site.url }}/assets/FECpt2/appendix/incumbentwon/OH12a.png\">\n",
    "      <img alt=\"OH_12 transfers between committees\" src=\"{{ site.url }}/assets/FECpt2/appendix/incumbentwon/OH12c.png\" style=\"width: 100%\">\n",
    "    </a>\n",
    "  </div>\n",
    "</div>"
   ]
  }
 ],
 "metadata": {
  "kernelspec": {
   "display_name": "Python 3",
   "language": "python",
   "name": "python3"
  },
  "language_info": {
   "codemirror_mode": {
    "name": "ipython",
    "version": 3
   },
   "file_extension": ".py",
   "mimetype": "text/x-python",
   "name": "python",
   "nbconvert_exporter": "python",
   "pygments_lexer": "ipython3",
   "version": "3.7.4"
  }
 },
 "nbformat": 4,
 "nbformat_minor": 2
}
