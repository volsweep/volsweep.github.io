{
 "cells": [
  {
   "cell_type": "code",
   "execution_count": null,
   "metadata": {},
   "outputs": [],
   "source": [
    "**U.S. House, New Jersey District 07**\n",
    "\n",
    "<div class=\"clearfix\">\n",
    "  <div class=\"img-container\">\n",
    "    <span>Fig. 31(a)</span><br/>\n",
    "    <a href=\"{{ site.url }}/assets/FECpt2/appendix/incumbentlost/NJ07a.png\">\n",
    "      <img alt=\"NJ_07 committee contributions\" src=\"{{ site.url }}/assets/FECpt2/appendix/incumbentlost/NJ07a.png\" style=\"width: 100%\">\n",
    "    </a>\n",
    "  </div>  \n",
    "  <div class=\"img-container\">\n",
    "    <span>Fig. 31(b)</span><br/>\n",
    "    <a href=\"{{ site.url }}/assets/FECpt2/appendix/incumbentlost/NJ07a.png\">\n",
    "      <img alt=\"NJ_07 individual contributions\" src=\"{{ site.url }}/assets/FECpt2/appendix/incumbentlost/NJ07b.png\" style=\"width: 100%\">\n",
    "    </a>\n",
    "  </div>\n",
    "  <div class=\"img-container\">\n",
    "    <span>Fig. 31(c)</span><br/>\n",
    "    <a href=\"{{ site.url }}/assets/FECpt2/appendix/incumbentlost/NJ07a.png\">\n",
    "      <img alt=\"NJ_07 transfers between committees\" src=\"{{ site.url }}/assets/FECpt2/appendix/incumbentlost/NJ07c.png\" style=\"width: 100%\">\n",
    "    </a>\n",
    "  </div>\n",
    "</div>"
   ]
  }
 ],
 "metadata": {
  "kernelspec": {
   "display_name": "Python 3",
   "language": "python",
   "name": "python3"
  },
  "language_info": {
   "codemirror_mode": {
    "name": "ipython",
    "version": 3
   },
   "file_extension": ".py",
   "mimetype": "text/x-python",
   "name": "python",
   "nbconvert_exporter": "python",
   "pygments_lexer": "ipython3",
   "version": "3.7.4"
  }
 },
 "nbformat": 4,
 "nbformat_minor": 2
}
