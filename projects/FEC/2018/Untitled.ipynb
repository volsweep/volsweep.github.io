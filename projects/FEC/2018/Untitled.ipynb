{
 "cells": [
  {
   "cell_type": "code",
   "execution_count": null,
   "metadata": {},
   "outputs": [],
   "source": [
    "**U.S. House, California District 4**\n",
    "\n",
    "<div class=\"clearfix\">\n",
    "  <div class=\"img-container\">\n",
    "    <span>Fig. 25(a)</span><br/>\n",
    "    <a href=\"{{ site.url }}/assets/FECpt2/appendix/incumbentlost/CA48a.png\">\n",
    "      <img alt=\"CA_48 committee contributions\" src=\"{{ site.url }}/assets/FECpt2/appendix/incumbentlost/CA48a.png\" style=\"width: 100%\">\n",
    "    </a>\n",
    "  </div>  \n",
    "  <div class=\"img-container\">\n",
    "    <span>Fig. 25(b)</span><br/>\n",
    "    <a href=\"{{ site.url }}/assets/FECpt2/appendix/incumbentlost/CA48a.png\">\n",
    "      <img alt=\"CA_48 individual contributions\" src=\"{{ site.url }}/assets/FECpt2/appendix/incumbentlost/CA48b.png\" style=\"width: 100%\">\n",
    "    </a>\n",
    "  </div>\n",
    "  <div class=\"img-container\">\n",
    "    <span>Fig. 25(c)</span><br/>\n",
    "    <a href=\"{{ site.url }}/assets/FECpt2/appendix/incumbentlost/CA48a.png\">\n",
    "      <img alt=\"CA_48 transfers between committees\" src=\"{{ site.url }}/assets/FECpt2/appendix/incumbentlost/CA48c.png\" style=\"width: 100%\">\n",
    "    </a>\n",
    "  </div>\n",
    "</div>"
   ]
  }
 ],
 "metadata": {
  "kernelspec": {
   "display_name": "Python 3",
   "language": "python",
   "name": "python3"
  },
  "language_info": {
   "codemirror_mode": {
    "name": "ipython",
    "version": 3
   },
   "file_extension": ".py",
   "mimetype": "text/x-python",
   "name": "python",
   "nbconvert_exporter": "python",
   "pygments_lexer": "ipython3",
   "version": "3.7.4"
  }
 },
 "nbformat": 4,
 "nbformat_minor": 2
}
