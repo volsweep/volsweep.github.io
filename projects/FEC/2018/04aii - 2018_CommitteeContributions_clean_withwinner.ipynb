{
 "cells": [
  {
   "cell_type": "markdown",
   "metadata": {},
   "source": [
    "## FEC Campaign Finance\n",
    "\n",
    "### Contributions from committees to candidates & independent expenditures"
   ]
  },
  {
   "cell_type": "markdown",
   "metadata": {},
   "source": [
    "resolve color/ls dupe issue"
   ]
  },
  {
   "cell_type": "code",
   "execution_count": 1,
   "metadata": {},
   "outputs": [],
   "source": [
    "import matplotlib.patches as mpatches\n",
    "import matplotlib.pyplot as plt\n",
    "import numpy as np\n",
    "import pandas as pd\n",
    "import re\n",
    "import warnings\n",
    "warnings.filterwarnings('ignore')\n",
    "\n",
    "from datetime import datetime as dt\n",
    "from matplotlib import font_manager as fm, rcParams\n",
    "import matplotlib.dates as mdates\n",
    "from matplotlib.lines import Line2D\n",
    "from matplotlib.offsetbox import (\n",
    "    AnnotationBbox,\n",
    "    OffsetImage, \n",
    ")\n",
    "\n",
    "%matplotlib inline"
   ]
  },
  {
   "cell_type": "code",
   "execution_count": 2,
   "metadata": {},
   "outputs": [],
   "source": [
    "year = '2018'\n",
    "maxdate = dt.strptime(f'{int(year) - 0}-11-30', '%Y-%m-%d')\n",
    "mindate = dt.strptime(f'{int(year) - 1}-01-01', '%Y-%m-%d')"
   ]
  },
  {
   "cell_type": "code",
   "execution_count": 3,
   "metadata": {},
   "outputs": [
    {
     "data": {
      "text/html": [
       "<div>\n",
       "<style scoped>\n",
       "    .dataframe tbody tr th:only-of-type {\n",
       "        vertical-align: middle;\n",
       "    }\n",
       "\n",
       "    .dataframe tbody tr th {\n",
       "        vertical-align: top;\n",
       "    }\n",
       "\n",
       "    .dataframe thead th {\n",
       "        text-align: right;\n",
       "    }\n",
       "</style>\n",
       "<table border=\"1\" class=\"dataframe\">\n",
       "  <thead>\n",
       "    <tr style=\"text-align: right;\">\n",
       "      <th></th>\n",
       "      <th>contest</th>\n",
       "      <th>cand_id</th>\n",
       "    </tr>\n",
       "  </thead>\n",
       "  <tbody>\n",
       "    <tr>\n",
       "      <td>0</td>\n",
       "      <td>AK_00</td>\n",
       "      <td>H6AK00045</td>\n",
       "    </tr>\n",
       "    <tr>\n",
       "      <td>1</td>\n",
       "      <td>AL_01</td>\n",
       "      <td>H4AL01123</td>\n",
       "    </tr>\n",
       "    <tr>\n",
       "      <td>2</td>\n",
       "      <td>AL_02</td>\n",
       "      <td>H0AL02087</td>\n",
       "    </tr>\n",
       "    <tr>\n",
       "      <td>3</td>\n",
       "      <td>AL_03</td>\n",
       "      <td>H2AL03032</td>\n",
       "    </tr>\n",
       "    <tr>\n",
       "      <td>4</td>\n",
       "      <td>AL_04</td>\n",
       "      <td>H6AL04098</td>\n",
       "    </tr>\n",
       "  </tbody>\n",
       "</table>\n",
       "</div>"
      ],
      "text/plain": [
       "  contest    cand_id\n",
       "0   AK_00  H6AK00045\n",
       "1   AL_01  H4AL01123\n",
       "2   AL_02  H0AL02087\n",
       "3   AL_03  H2AL03032\n",
       "4   AL_04  H6AL04098"
      ]
     },
     "execution_count": 3,
     "metadata": {},
     "output_type": "execute_result"
    }
   ],
   "source": [
    "winners = pd.read_csv('data/winners_2018.csv')\n",
    "winners.head()"
   ]
  },
  {
   "cell_type": "code",
   "execution_count": 4,
   "metadata": {},
   "outputs": [
    {
     "data": {
      "text/html": [
       "<div>\n",
       "<style scoped>\n",
       "    .dataframe tbody tr th:only-of-type {\n",
       "        vertical-align: middle;\n",
       "    }\n",
       "\n",
       "    .dataframe tbody tr th {\n",
       "        vertical-align: top;\n",
       "    }\n",
       "\n",
       "    .dataframe thead th {\n",
       "        text-align: right;\n",
       "    }\n",
       "</style>\n",
       "<table border=\"1\" class=\"dataframe\">\n",
       "  <thead>\n",
       "    <tr style=\"text-align: right;\">\n",
       "      <th></th>\n",
       "      <th>cand_id</th>\n",
       "      <th>cand_name</th>\n",
       "      <th>cand_ici</th>\n",
       "      <th>cand_pty_affiliation</th>\n",
       "      <th>ttl_receipts</th>\n",
       "      <th>trans_from_auth</th>\n",
       "      <th>ttl_disb</th>\n",
       "      <th>trans_to_auth</th>\n",
       "      <th>coh_bop</th>\n",
       "      <th>coh_cop</th>\n",
       "      <th>...</th>\n",
       "      <th>(for) count</th>\n",
       "      <th>(for) sum</th>\n",
       "      <th>(against) count</th>\n",
       "      <th>(against) sum</th>\n",
       "      <th>(coord pty exp) count</th>\n",
       "      <th>(coord pty exp) sum</th>\n",
       "      <th>(in-kind) count</th>\n",
       "      <th>(in-kind) sum</th>\n",
       "      <th>(nonaffiliated) count</th>\n",
       "      <th>(nonaffiliated) sum</th>\n",
       "    </tr>\n",
       "  </thead>\n",
       "  <tbody>\n",
       "    <tr>\n",
       "      <td>0</td>\n",
       "      <td>H0AL02087</td>\n",
       "      <td>ROBY, MARTHA</td>\n",
       "      <td>I</td>\n",
       "      <td>Republican</td>\n",
       "      <td>2573681.12</td>\n",
       "      <td>85734.19</td>\n",
       "      <td>2277448.83</td>\n",
       "      <td>0.0</td>\n",
       "      <td>45450.72</td>\n",
       "      <td>341683.01</td>\n",
       "      <td>...</td>\n",
       "      <td>3.0</td>\n",
       "      <td>353829.0</td>\n",
       "      <td>3.0</td>\n",
       "      <td>933.0</td>\n",
       "      <td>0.0</td>\n",
       "      <td>0.0</td>\n",
       "      <td>0.0</td>\n",
       "      <td>0.0</td>\n",
       "      <td>4.0</td>\n",
       "      <td>1646955.0</td>\n",
       "    </tr>\n",
       "    <tr>\n",
       "      <td>1</td>\n",
       "      <td>H0AL05163</td>\n",
       "      <td>BROOKS, MO</td>\n",
       "      <td>I</td>\n",
       "      <td>Republican</td>\n",
       "      <td>1527246.16</td>\n",
       "      <td>0.00</td>\n",
       "      <td>2006001.97</td>\n",
       "      <td>0.0</td>\n",
       "      <td>1170937.70</td>\n",
       "      <td>692181.51</td>\n",
       "      <td>...</td>\n",
       "      <td>3.0</td>\n",
       "      <td>4703.0</td>\n",
       "      <td>2.0</td>\n",
       "      <td>861.0</td>\n",
       "      <td>0.0</td>\n",
       "      <td>0.0</td>\n",
       "      <td>0.0</td>\n",
       "      <td>0.0</td>\n",
       "      <td>3.0</td>\n",
       "      <td>250700.0</td>\n",
       "    </tr>\n",
       "  </tbody>\n",
       "</table>\n",
       "<p>2 rows × 2831 columns</p>\n",
       "</div>"
      ],
      "text/plain": [
       "     cand_id     cand_name cand_ici cand_pty_affiliation  ttl_receipts  \\\n",
       "0  H0AL02087  ROBY, MARTHA        I           Republican    2573681.12   \n",
       "1  H0AL05163    BROOKS, MO        I           Republican    1527246.16   \n",
       "\n",
       "   trans_from_auth    ttl_disb  trans_to_auth     coh_bop    coh_cop  ...  \\\n",
       "0         85734.19  2277448.83            0.0    45450.72  341683.01  ...   \n",
       "1             0.00  2006001.97            0.0  1170937.70  692181.51  ...   \n",
       "\n",
       "   (for) count  (for) sum  (against) count  (against) sum  \\\n",
       "0          3.0   353829.0              3.0          933.0   \n",
       "1          3.0     4703.0              2.0          861.0   \n",
       "\n",
       "   (coord pty exp) count  (coord pty exp) sum  (in-kind) count (in-kind) sum  \\\n",
       "0                    0.0                  0.0              0.0           0.0   \n",
       "1                    0.0                  0.0              0.0           0.0   \n",
       "\n",
       "   (nonaffiliated) count  (nonaffiliated) sum  \n",
       "0                    4.0            1646955.0  \n",
       "1                    3.0             250700.0  \n",
       "\n",
       "[2 rows x 2831 columns]"
      ]
     },
     "execution_count": 4,
     "metadata": {},
     "output_type": "execute_result"
    }
   ],
   "source": [
    "cand = pd.read_csv('data/04a_cand_cleaned.csv')\n",
    "cand_dict = dict(zip(cand['cand_id'], cand['cand_name']))\n",
    "cand.head(2)"
   ]
  },
  {
   "cell_type": "code",
   "execution_count": 6,
   "metadata": {},
   "outputs": [
    {
     "data": {
      "text/html": [
       "<div>\n",
       "<style scoped>\n",
       "    .dataframe tbody tr th:only-of-type {\n",
       "        vertical-align: middle;\n",
       "    }\n",
       "\n",
       "    .dataframe tbody tr th {\n",
       "        vertical-align: top;\n",
       "    }\n",
       "\n",
       "    .dataframe thead th {\n",
       "        text-align: right;\n",
       "    }\n",
       "</style>\n",
       "<table border=\"1\" class=\"dataframe\">\n",
       "  <thead>\n",
       "    <tr style=\"text-align: right;\">\n",
       "      <th></th>\n",
       "      <th>cmte_id</th>\n",
       "      <th>cmte_nm</th>\n",
       "      <th>tres_nm</th>\n",
       "      <th>cmte_st1</th>\n",
       "      <th>cmte_st2</th>\n",
       "      <th>cmte_city</th>\n",
       "      <th>cmte_st</th>\n",
       "      <th>cmte_zip</th>\n",
       "      <th>cmte_dsgn</th>\n",
       "      <th>cmte_tp</th>\n",
       "      <th>cmte_pty_affiliation</th>\n",
       "      <th>cmte_filing_freq</th>\n",
       "      <th>org_tp</th>\n",
       "      <th>connected_org_nm</th>\n",
       "      <th>cand_id</th>\n",
       "      <th>orig_tres_nm</th>\n",
       "      <th>orig_cmte_st1</th>\n",
       "      <th>address</th>\n",
       "      <th>pcc</th>\n",
       "    </tr>\n",
       "  </thead>\n",
       "  <tbody>\n",
       "    <tr>\n",
       "      <td>0</td>\n",
       "      <td>C00000018</td>\n",
       "      <td>IRONWORKERS LOCAL UNION NO. 25 POLITICAL EDUCA...</td>\n",
       "      <td>STEVEN GULICK</td>\n",
       "      <td>43335 W 10 MILE</td>\n",
       "      <td>P O BOX 965</td>\n",
       "      <td>NOVI</td>\n",
       "      <td>MI</td>\n",
       "      <td>48050.0</td>\n",
       "      <td>Unauthorized</td>\n",
       "      <td>cmte_PACqual</td>\n",
       "      <td>UNK</td>\n",
       "      <td>T</td>\n",
       "      <td>NaN</td>\n",
       "      <td>IRON WORKERS; INT'L ASS'N OF BRIDGE...</td>\n",
       "      <td>H8TX22313</td>\n",
       "      <td>STEVEN N GULICK</td>\n",
       "      <td>43335 W 10 MILE</td>\n",
       "      <td>43335 W 10 MILE, NOVI, MI 48050</td>\n",
       "      <td>False</td>\n",
       "    </tr>\n",
       "    <tr>\n",
       "      <td>1</td>\n",
       "      <td>C00000059</td>\n",
       "      <td>HALLMARK CARDS PAC</td>\n",
       "      <td>SARAH MOE</td>\n",
       "      <td>2501 MCGEE</td>\n",
       "      <td>MD #500</td>\n",
       "      <td>KANSAS CITY</td>\n",
       "      <td>MO</td>\n",
       "      <td>64108.0</td>\n",
       "      <td>Unauthorized</td>\n",
       "      <td>cmte_PACqual</td>\n",
       "      <td>UNK</td>\n",
       "      <td>M</td>\n",
       "      <td>org_Corporation</td>\n",
       "      <td>NaN</td>\n",
       "      <td>NaN</td>\n",
       "      <td>SARAH MOE</td>\n",
       "      <td>2501 MCGEE</td>\n",
       "      <td>2501 MCGEE, KANSAS CITY, MO 64108</td>\n",
       "      <td>False</td>\n",
       "    </tr>\n",
       "  </tbody>\n",
       "</table>\n",
       "</div>"
      ],
      "text/plain": [
       "     cmte_id                                            cmte_nm  \\\n",
       "0  C00000018  IRONWORKERS LOCAL UNION NO. 25 POLITICAL EDUCA...   \n",
       "1  C00000059                                 HALLMARK CARDS PAC   \n",
       "\n",
       "         tres_nm         cmte_st1     cmte_st2    cmte_city cmte_st  cmte_zip  \\\n",
       "0  STEVEN GULICK  43335 W 10 MILE  P O BOX 965         NOVI      MI   48050.0   \n",
       "1      SARAH MOE       2501 MCGEE      MD #500  KANSAS CITY      MO   64108.0   \n",
       "\n",
       "      cmte_dsgn       cmte_tp cmte_pty_affiliation cmte_filing_freq  \\\n",
       "0  Unauthorized  cmte_PACqual                  UNK                T   \n",
       "1  Unauthorized  cmte_PACqual                  UNK                M   \n",
       "\n",
       "            org_tp                        connected_org_nm    cand_id  \\\n",
       "0              NaN  IRON WORKERS; INT'L ASS'N OF BRIDGE...  H8TX22313   \n",
       "1  org_Corporation                                     NaN        NaN   \n",
       "\n",
       "      orig_tres_nm    orig_cmte_st1                            address    pcc  \n",
       "0  STEVEN N GULICK  43335 W 10 MILE    43335 W 10 MILE, NOVI, MI 48050  False  \n",
       "1        SARAH MOE       2501 MCGEE  2501 MCGEE, KANSAS CITY, MO 64108  False  "
      ]
     },
     "execution_count": 6,
     "metadata": {},
     "output_type": "execute_result"
    }
   ],
   "source": [
    "cm = pd.read_csv('data/03a_committees.csv')\n",
    "cm_dict = dict(zip(cm['cmte_id'], cm['cmte_nm']))\n",
    "cm.head(2)"
   ]
  },
  {
   "cell_type": "code",
   "execution_count": 5,
   "metadata": {},
   "outputs": [
    {
     "data": {
      "text/html": [
       "<div>\n",
       "<style scoped>\n",
       "    .dataframe tbody tr th:only-of-type {\n",
       "        vertical-align: middle;\n",
       "    }\n",
       "\n",
       "    .dataframe tbody tr th {\n",
       "        vertical-align: top;\n",
       "    }\n",
       "\n",
       "    .dataframe thead th {\n",
       "        text-align: right;\n",
       "    }\n",
       "</style>\n",
       "<table border=\"1\" class=\"dataframe\">\n",
       "  <thead>\n",
       "    <tr style=\"text-align: right;\">\n",
       "      <th></th>\n",
       "      <th>cmte_id</th>\n",
       "      <th>cmte_name</th>\n",
       "      <th>entity_tp</th>\n",
       "      <th>name</th>\n",
       "      <th>other_id</th>\n",
       "      <th>other_name</th>\n",
       "      <th>transaction_amt</th>\n",
       "      <th>cand_id</th>\n",
       "      <th>cand_name</th>\n",
       "      <th>transaction_dt</th>\n",
       "      <th>...</th>\n",
       "      <th>rpt_tp</th>\n",
       "      <th>image_num</th>\n",
       "      <th>transaction_tp</th>\n",
       "      <th>city</th>\n",
       "      <th>state</th>\n",
       "      <th>zip_code</th>\n",
       "      <th>employer</th>\n",
       "      <th>file_num</th>\n",
       "      <th>memo_cd</th>\n",
       "      <th>cmte_tres</th>\n",
       "    </tr>\n",
       "  </thead>\n",
       "  <tbody>\n",
       "    <tr>\n",
       "      <td>0</td>\n",
       "      <td>C00390633</td>\n",
       "      <td>SCHOOLSFIRST FEDERAL CREDIT UNION EMPLOYEES FE...</td>\n",
       "      <td>enttp_Candidate Committee</td>\n",
       "      <td>comm2__PETE AGUILAR FOR CONGRESS (nonaffiliated)</td>\n",
       "      <td>C00510461</td>\n",
       "      <td>PETE AGUILAR FOR CONGRESS</td>\n",
       "      <td>2500</td>\n",
       "      <td>H2CA31125</td>\n",
       "      <td>AGUILAR, PETE</td>\n",
       "      <td>2017-12-18</td>\n",
       "      <td>...</td>\n",
       "      <td>Year end</td>\n",
       "      <td>201801249090614097</td>\n",
       "      <td>Contribution made to nonaffiliated committee</td>\n",
       "      <td>SAN BERNARDINO</td>\n",
       "      <td>CA</td>\n",
       "      <td>92423</td>\n",
       "      <td>NaN</td>\n",
       "      <td>1199694</td>\n",
       "      <td>NaN</td>\n",
       "      <td>CARY DAVIDSON</td>\n",
       "    </tr>\n",
       "    <tr>\n",
       "      <td>1</td>\n",
       "      <td>C00392464</td>\n",
       "      <td>UNIVERSAL MUSIC GROUP PAC</td>\n",
       "      <td>enttp_Candidate Committee</td>\n",
       "      <td>comm2__RATCLIFFE FOR CONGRESS (nonaffiliated)</td>\n",
       "      <td>C00554113</td>\n",
       "      <td>RATCLIFFE FOR CONGRESS</td>\n",
       "      <td>500</td>\n",
       "      <td>H4TX04153</td>\n",
       "      <td>RATCLIFFE, JOHN L</td>\n",
       "      <td>2017-12-12</td>\n",
       "      <td>...</td>\n",
       "      <td>Year end</td>\n",
       "      <td>201801249090614162</td>\n",
       "      <td>Contribution made to nonaffiliated committee</td>\n",
       "      <td>ROCKWALL</td>\n",
       "      <td>TX</td>\n",
       "      <td>75032</td>\n",
       "      <td>NaN</td>\n",
       "      <td>1199696</td>\n",
       "      <td>NaN</td>\n",
       "      <td>CARY DAVIDSON</td>\n",
       "    </tr>\n",
       "    <tr>\n",
       "      <td>2</td>\n",
       "      <td>C00392464</td>\n",
       "      <td>UNIVERSAL MUSIC GROUP PAC</td>\n",
       "      <td>enttp_Candidate Committee</td>\n",
       "      <td>comm2__TED DEUTCH FOR CONGRESS COMMITTEE (nona...</td>\n",
       "      <td>C00469163</td>\n",
       "      <td>TED DEUTCH FOR CONGRESS COMMITTEE</td>\n",
       "      <td>2000</td>\n",
       "      <td>H0FL19080</td>\n",
       "      <td>DEUTCH, THEODORE ELIOT</td>\n",
       "      <td>2017-12-13</td>\n",
       "      <td>...</td>\n",
       "      <td>Year end</td>\n",
       "      <td>201801249090614162</td>\n",
       "      <td>Contribution made to nonaffiliated committee</td>\n",
       "      <td>WASHINGTON</td>\n",
       "      <td>DC</td>\n",
       "      <td>20036</td>\n",
       "      <td>NaN</td>\n",
       "      <td>1199696</td>\n",
       "      <td>NaN</td>\n",
       "      <td>CARY DAVIDSON</td>\n",
       "    </tr>\n",
       "    <tr>\n",
       "      <td>3</td>\n",
       "      <td>C00368993</td>\n",
       "      <td>WINNING STRATEGIES WASHINGTON PAC</td>\n",
       "      <td>enttp_Candidate Committee</td>\n",
       "      <td>comm2__DONALD M PAYNE JR FOR CONGRESS (nonaffi...</td>\n",
       "      <td>C00519355</td>\n",
       "      <td>DONALD M PAYNE JR FOR CONGRESS</td>\n",
       "      <td>1300</td>\n",
       "      <td>H2NJ10154</td>\n",
       "      <td>PAYNE, DONALD M., JR.</td>\n",
       "      <td>2017-12-12</td>\n",
       "      <td>...</td>\n",
       "      <td>Year end</td>\n",
       "      <td>201801249090614336</td>\n",
       "      <td>Contribution made to nonaffiliated committee</td>\n",
       "      <td>NEWARK</td>\n",
       "      <td>NJ</td>\n",
       "      <td>07114</td>\n",
       "      <td>NaN</td>\n",
       "      <td>1199704</td>\n",
       "      <td>NaN</td>\n",
       "      <td>MICHAEL MEROLA</td>\n",
       "    </tr>\n",
       "    <tr>\n",
       "      <td>4</td>\n",
       "      <td>C00368993</td>\n",
       "      <td>WINNING STRATEGIES WASHINGTON PAC</td>\n",
       "      <td>enttp_Candidate Committee</td>\n",
       "      <td>comm2__FRIENDS OF DON BEYER (nonaffiliated)</td>\n",
       "      <td>C00555888</td>\n",
       "      <td>FRIENDS OF DON BEYER</td>\n",
       "      <td>500</td>\n",
       "      <td>H4VA08224</td>\n",
       "      <td>BEYER, DONALD STERNOFF HONORABLE JR.</td>\n",
       "      <td>2017-10-31</td>\n",
       "      <td>...</td>\n",
       "      <td>Year end</td>\n",
       "      <td>201801249090614337</td>\n",
       "      <td>Contribution made to nonaffiliated committee</td>\n",
       "      <td>ALEXANDRIA</td>\n",
       "      <td>VA</td>\n",
       "      <td>22314</td>\n",
       "      <td>NaN</td>\n",
       "      <td>1199704</td>\n",
       "      <td>NaN</td>\n",
       "      <td>MICHAEL MEROLA</td>\n",
       "    </tr>\n",
       "  </tbody>\n",
       "</table>\n",
       "<p>5 rows × 22 columns</p>\n",
       "</div>"
      ],
      "text/plain": [
       "     cmte_id                                          cmte_name  \\\n",
       "0  C00390633  SCHOOLSFIRST FEDERAL CREDIT UNION EMPLOYEES FE...   \n",
       "1  C00392464                          UNIVERSAL MUSIC GROUP PAC   \n",
       "2  C00392464                          UNIVERSAL MUSIC GROUP PAC   \n",
       "3  C00368993                  WINNING STRATEGIES WASHINGTON PAC   \n",
       "4  C00368993                  WINNING STRATEGIES WASHINGTON PAC   \n",
       "\n",
       "                   entity_tp  \\\n",
       "0  enttp_Candidate Committee   \n",
       "1  enttp_Candidate Committee   \n",
       "2  enttp_Candidate Committee   \n",
       "3  enttp_Candidate Committee   \n",
       "4  enttp_Candidate Committee   \n",
       "\n",
       "                                                name   other_id  \\\n",
       "0   comm2__PETE AGUILAR FOR CONGRESS (nonaffiliated)  C00510461   \n",
       "1      comm2__RATCLIFFE FOR CONGRESS (nonaffiliated)  C00554113   \n",
       "2  comm2__TED DEUTCH FOR CONGRESS COMMITTEE (nona...  C00469163   \n",
       "3  comm2__DONALD M PAYNE JR FOR CONGRESS (nonaffi...  C00519355   \n",
       "4        comm2__FRIENDS OF DON BEYER (nonaffiliated)  C00555888   \n",
       "\n",
       "                          other_name  transaction_amt    cand_id  \\\n",
       "0          PETE AGUILAR FOR CONGRESS             2500  H2CA31125   \n",
       "1             RATCLIFFE FOR CONGRESS              500  H4TX04153   \n",
       "2  TED DEUTCH FOR CONGRESS COMMITTEE             2000  H0FL19080   \n",
       "3     DONALD M PAYNE JR FOR CONGRESS             1300  H2NJ10154   \n",
       "4               FRIENDS OF DON BEYER              500  H4VA08224   \n",
       "\n",
       "                              cand_name transaction_dt  ...    rpt_tp  \\\n",
       "0                         AGUILAR, PETE     2017-12-18  ...  Year end   \n",
       "1                     RATCLIFFE, JOHN L     2017-12-12  ...  Year end   \n",
       "2                DEUTCH, THEODORE ELIOT     2017-12-13  ...  Year end   \n",
       "3                 PAYNE, DONALD M., JR.     2017-12-12  ...  Year end   \n",
       "4  BEYER, DONALD STERNOFF HONORABLE JR.     2017-10-31  ...  Year end   \n",
       "\n",
       "            image_num                                transaction_tp  \\\n",
       "0  201801249090614097  Contribution made to nonaffiliated committee   \n",
       "1  201801249090614162  Contribution made to nonaffiliated committee   \n",
       "2  201801249090614162  Contribution made to nonaffiliated committee   \n",
       "3  201801249090614336  Contribution made to nonaffiliated committee   \n",
       "4  201801249090614337  Contribution made to nonaffiliated committee   \n",
       "\n",
       "             city state zip_code employer file_num memo_cd       cmte_tres  \n",
       "0  SAN BERNARDINO    CA    92423      NaN  1199694     NaN   CARY DAVIDSON  \n",
       "1        ROCKWALL    TX    75032      NaN  1199696     NaN   CARY DAVIDSON  \n",
       "2      WASHINGTON    DC    20036      NaN  1199696     NaN   CARY DAVIDSON  \n",
       "3          NEWARK    NJ    07114      NaN  1199704     NaN  MICHAEL MEROLA  \n",
       "4      ALEXANDRIA    VA    22314      NaN  1199704     NaN  MICHAEL MEROLA  \n",
       "\n",
       "[5 rows x 22 columns]"
      ]
     },
     "execution_count": 5,
     "metadata": {},
     "output_type": "execute_result"
    }
   ],
   "source": [
    "pas = pd.read_csv('data/04a_pas_cleaned.csv')\n",
    "\n",
    "pas.head()"
   ]
  },
  {
   "cell_type": "code",
   "execution_count": 18,
   "metadata": {},
   "outputs": [
    {
     "data": {
      "text/plain": [
       "employer      290437\n",
       "memo_cd       286517\n",
       "other_name     46629\n",
       "entity_tp       3472\n",
       "cmte_name       1768\n",
       "zip_code         329\n",
       "state            277\n",
       "city             231\n",
       "dtype: int64"
      ]
     },
     "execution_count": 18,
     "metadata": {},
     "output_type": "execute_result"
    }
   ],
   "source": [
    "pas.isnull().sum()[pas.isnull().sum() > 0].sort_values(ascending = False)"
   ]
  },
  {
   "cell_type": "code",
   "execution_count": 26,
   "metadata": {
    "scrolled": false
   },
   "outputs": [],
   "source": [
    "checks = list(pas.loc[pas['cmte_name'].isnull(), 'cmte_id'].value_counts().index)\n",
    "for check in checks:\n",
    "    if check in list(cm_dict.keys()):\n",
    "        print(cm_dict[check])"
   ]
  },
  {
   "cell_type": "code",
   "execution_count": null,
   "metadata": {},
   "outputs": [],
   "source": []
  },
  {
   "cell_type": "code",
   "execution_count": 17,
   "metadata": {},
   "outputs": [
    {
     "name": "stdout",
     "output_type": "stream",
     "text": [
      "4725\n",
      "4494\n"
     ]
    }
   ],
   "source": [
    "print(len(set(pas['cmte_id'])))\n",
    "print(len(set(pas['cmte_name'])))"
   ]
  },
  {
   "cell_type": "code",
   "execution_count": 16,
   "metadata": {
    "scrolled": false
   },
   "outputs": [
    {
     "name": "stdout",
     "output_type": "stream",
     "text": [
      "PROGRESSIVE TURNOUT PROJECT\n",
      "\n",
      "\n",
      "PROGRESSIVE TURNOUT PROJECT    3218\n",
      "Name: cmte_name, dtype: int64\n",
      "\n",
      "\n",
      "\n",
      "COURAGE CAMPAIGN SUPER PAC\n",
      "\n",
      "\n",
      "COURAGE CAMPAIGN SUPER PAC    2462\n",
      "Name: cmte_name, dtype: int64\n",
      "\n",
      "\n",
      "\n",
      "NATIONAL AIR TRAFFIC CONTROLLERS ASSOCIATION PAC\n",
      "\n",
      "\n",
      "NATIONAL AIR TRAFFIC CONTROLLERS ASSOCIATION PAC    2213\n",
      "Name: cmte_name, dtype: int64\n",
      "\n",
      "\n",
      "\n",
      "WORKING AMERICA\n",
      "\n",
      "\n",
      "WORKING AMERICA    2085\n",
      "Name: cmte_name, dtype: int64\n",
      "\n",
      "\n",
      "\n",
      "LOCKHEED MARTIN CORPORATION EMPLOYEES' POLITICAL ACTION COMMITTEE\n",
      "\n",
      "\n",
      "LOCKHEED MARTIN CORP EMPLOYEES' PAC    1934\n",
      "Name: cmte_name, dtype: int64\n",
      "\n",
      "\n",
      "\n",
      "DCCC\n",
      "\n",
      "\n",
      "DCCC    1934\n",
      "Name: cmte_name, dtype: int64\n",
      "\n",
      "\n",
      "\n",
      "MOVEON.ORG POLITICAL ACTION\n",
      "\n",
      "\n",
      "MOVEON.ORG POLITICAL ACTION    1885\n",
      "Name: cmte_name, dtype: int64\n",
      "\n",
      "\n",
      "\n",
      "NATIONAL RIFLE ASSOCIATION OF AMERICA POLITICAL VICTORY FUND\n",
      "\n",
      "\n",
      "NATIONAL RIFLE ASSOCIATION OF AMERICA POLITICAL VICTORY FUND    1631\n",
      "Name: cmte_name, dtype: int64\n",
      "\n",
      "\n",
      "\n",
      "THE BOEING COMPANY POLITICAL ACTION COMMITTEE\n",
      "\n",
      "\n",
      "THE BOEING COMPANY PAC    1613\n",
      "Name: cmte_name, dtype: int64\n",
      "\n",
      "\n",
      "\n",
      "NATIONAL ASSOCIATION OF REALTORS POLITICAL ACTION COMMITTEE\n",
      "\n",
      "\n",
      "NATIONAL ASSOCIATION OF REALTORS PAC    1575\n",
      "Name: cmte_name, dtype: int64\n",
      "\n",
      "\n",
      "\n",
      "UNITED PARCEL SERVICE INC. PAC\n",
      "\n",
      "\n",
      "UNITED PARCEL SERVICE INC. PAC    1486\n",
      "Name: cmte_name, dtype: int64\n",
      "\n",
      "\n",
      "\n",
      "HOUSE FREEDOM FUND\n",
      "\n",
      "\n",
      "HOUSE FREEDOM FUND    1416\n",
      "Name: cmte_name, dtype: int64\n",
      "\n",
      "\n",
      "\n",
      "IT STARTS TODAY\n",
      "\n",
      "\n",
      "IT STARTS TODAY    1385\n",
      "Name: cmte_name, dtype: int64\n",
      "\n",
      "\n",
      "\n",
      "AT&T INC. FEDERAL POLITICAL ACTION COMMITTEE (AT&T FEDERAL PAC)\n",
      "\n",
      "\n",
      "AT&T INC. FEDERAL PAC (AT&T FEDERAL PAC)    1310\n",
      "Name: cmte_name, dtype: int64\n",
      "\n",
      "\n",
      "\n",
      "FEMINIST MAJORITY\n",
      "\n",
      "\n",
      "FEMINIST MAJORITY    1264\n",
      "Name: cmte_name, dtype: int64\n",
      "\n",
      "\n",
      "\n",
      "HONEYWELL INTERNATIONAL POLITICAL ACTION COMMITTEE\n",
      "\n",
      "\n",
      "HONEYWELL INTERNATIONAL PAC    1253\n",
      "Name: cmte_name, dtype: int64\n",
      "\n",
      "\n",
      "\n",
      "REPUBLICAN JEWISH COALITION-POLITICAL ACTION COMMITTEE (RJC-PAC)\n",
      "\n",
      "\n",
      "REPUBLICAN JEWISH COALITION-PAC (RJC-PAC)    1230\n",
      "Name: cmte_name, dtype: int64\n",
      "\n",
      "\n",
      "\n",
      "NATIONAL BEER WHOLESALERS ASSOCIATION POLITICAL ACTION COMMITTEE\n",
      "\n",
      "\n",
      "NATIONAL BEER WHOLESALERS ASSOCIATION PAC    1218\n",
      "Name: cmte_name, dtype: int64\n",
      "\n",
      "\n",
      "\n",
      "CONGRESSIONAL LEADERSHIP FUND\n",
      "\n",
      "\n",
      "CONGRESSIONAL LEADERSHIP FUND    1211\n",
      "Name: cmte_name, dtype: int64\n",
      "\n",
      "\n",
      "\n",
      "CULAC THE PAC OF CREDIT UNION NATIONAL ASSOCIATION\n",
      "\n",
      "\n",
      "CULAC THE PAC OF CREDIT UNION NATIONAL ASSOCIATION    1210\n",
      "Name: cmte_name, dtype: int64\n",
      "\n",
      "\n",
      "\n",
      "AMERICAN BANKERS ASSOCIATION PAC (BANKPAC)\n",
      "\n",
      "\n",
      "AMERICAN BANKERS ASSOCIATION PAC (BANKPAC)    1192\n",
      "Name: cmte_name, dtype: int64\n",
      "\n",
      "\n",
      "\n",
      "NATIONAL ASSOCIATION OF INSURANCE AND FINANCIAL ADVISORS POLITICAL ACTION COMM\n",
      "\n",
      "\n",
      "NATIONAL ASSOCIATION OF INSURANCE AND FINANCIAL ADVISORS POLITICAL ACTION COMM    1125\n",
      "Name: cmte_name, dtype: int64\n",
      "\n",
      "\n",
      "\n",
      "GENERAL ELECTRIC COMPANY POLITICAL ACTION COMMITTEE (GEPAC)\n",
      "\n",
      "\n",
      "GENERAL ELECTRIC COMPANY PAC (GEPAC)    1094\n",
      "Name: cmte_name, dtype: int64\n",
      "\n",
      "\n",
      "\n",
      "THE NATIONAL RURAL ELECTRIC COOPERATIVE ASSOCIATION ACTION COMMITTEE FOR RURAL ELECTRIFICATION (ACRE)\n",
      "\n",
      "\n",
      "THE NATIONAL RURAL ELECTRIC COOPERATIVE ASSOCIATION ACTION COMMITTEE FOR RURAL ELECTRIFICATION (ACRE)    1081\n",
      "Name: cmte_name, dtype: int64\n",
      "\n",
      "\n",
      "\n",
      "COMCAST CORPORATION & NBCUNIVERSAL POLITICAL ACTION COMMITTEE - FEDERAL\n",
      "\n",
      "\n",
      "COMCAST CORP AND NBCUNIVERSAL PAC - FEDERAL    1035\n",
      "Name: cmte_name, dtype: int64\n",
      "\n",
      "\n",
      "\n",
      "SENATE CONSERVATIVES FUND\n",
      "\n",
      "\n",
      "SENATE CONSERVATIVES FUND    1034\n",
      "Name: cmte_name, dtype: int64\n",
      "\n",
      "\n",
      "\n",
      "AMERICAN FEDERATION OF STATE COUNTY & MUNICIPAL EMPLOYEES  P E O P L E\n",
      "\n",
      "\n",
      "AMERICAN FEDERATION OF STATE COUNTY AND MUNICIPAL EMPLOYEES  P E O P L E    995\n",
      "Name: cmte_name, dtype: int64\n",
      "\n",
      "\n",
      "\n",
      "GENERAL DYNAMICS CORPORATION POLITICAL ACTION COMMITTEE (GDC PAC)\n",
      "\n",
      "\n",
      "GENERAL DYNAMICS CORP PAC (GDC PAC)    983\n",
      "Name: cmte_name, dtype: int64\n",
      "\n",
      "\n",
      "\n",
      "LEAGUE OF CONSERVATION VOTERS ACTION FUND\n",
      "\n",
      "\n",
      "LEAGUE OF CONSERVATION VOTERS ACTION FUND    925\n",
      "Name: cmte_name, dtype: int64\n",
      "\n",
      "\n",
      "\n",
      "INDIVISIBLE PROJECT INC.\n",
      "\n",
      "\n",
      "INDIVISIBLE PROJECT INC.    918\n",
      "Name: cmte_name, dtype: int64\n",
      "\n",
      "\n",
      "\n",
      "AMERICAN ASSOCIATION FOR JUSTICE POLITICAL ACTION COMMITTEE (AAJ PAC)\n",
      "\n",
      "\n",
      "AMERICAN ASSOCIATION FOR JUSTICE PAC (AAJ PAC)    912\n",
      "Name: cmte_name, dtype: int64\n",
      "\n",
      "\n",
      "\n",
      "UNITE HERE ARIZONA\n",
      "\n",
      "\n",
      "UNITE HERE ARIZONA    900\n",
      "Name: cmte_name, dtype: int64\n",
      "\n",
      "\n",
      "\n",
      "FLIP THE 14\n",
      "\n",
      "\n",
      "FLIP THE 14    892\n",
      "Name: cmte_name, dtype: int64\n",
      "\n",
      "\n",
      "\n",
      "CASA IN ACTION PAC\n",
      "\n",
      "\n",
      "CASA IN ACTION PAC    860\n",
      "Name: cmte_name, dtype: int64\n",
      "\n",
      "\n",
      "\n",
      "RAYTHEON COMPANY POLITICAL ACTION COMMITTTEE\n",
      "\n",
      "\n",
      "RAYTHEON COMPANY POLITICAL ACTION COMMITTTEE    855\n",
      "Name: cmte_name, dtype: int64\n",
      "\n",
      "\n",
      "\n",
      "WALMART INC. PAC FOR RESPONSIBLE GOVERNMENT\n",
      "\n",
      "\n",
      "WALMART INC. PAC FOR RESPONSIBLE GOVERNMENT    851\n",
      "Name: cmte_name, dtype: int64\n",
      "\n",
      "\n",
      "\n",
      "EMPLOYEES OF NORTHROP GRUMMAN CORPORATION PAC\n",
      "\n",
      "\n",
      "EMPLOYEES OF NORTHROP GRUMMAN CORP PAC    845\n",
      "Name: cmte_name, dtype: int64\n",
      "\n",
      "\n",
      "\n",
      "HOUSE MAJORITY PAC\n",
      "\n",
      "\n",
      "HOUSE MAJORITY PAC    835\n",
      "Name: cmte_name, dtype: int64\n",
      "\n",
      "\n",
      "\n",
      "VIGOP (VIRGIN ISLANDS REPUBLICAN PARTY)\n",
      "\n",
      "\n",
      "VIGOP (VIRGIN ISLANDS REPUBLICAN PARTY)    826\n",
      "Name: cmte_name, dtype: int64\n",
      "\n",
      "\n",
      "\n",
      "VERIZON COMMUNICATIONS, INC. POLITICAL ACTION COMMITTEE (VERIZON PAC)\n",
      "\n",
      "\n",
      "VERIZON COMMUNICATIONS, INC. PAC (VERIZON PAC)    805\n",
      "Name: cmte_name, dtype: int64\n",
      "\n",
      "\n",
      "\n",
      "SIERRA CLUB POLITICAL COMMITTEE\n",
      "\n",
      "\n",
      "SIERRA CLUB POLITICAL COMMITTEE    803\n",
      "Name: cmte_name, dtype: int64\n",
      "\n",
      "\n",
      "\n",
      "ERNST & YOUNG POLITICAL ACTION COMMITTEE\n",
      "\n",
      "\n",
      "ERNST AND YOUNG PAC    765\n",
      "Name: cmte_name, dtype: int64\n",
      "\n",
      "\n",
      "\n",
      "BUILD POLITICAL ACTION COMMITTEE OF THE NATIONAL ASSOCIATION OF HOME BUILDERS (BUILDPAC)\n",
      "\n",
      "\n",
      "BUILD PAC OF THE NATIONAL ASSOCIATION OF HOME BUILDERS (BUILDPAC)    763\n",
      "Name: cmte_name, dtype: int64\n",
      "\n",
      "\n",
      "\n",
      "POLITICAL ACTION COMMITTEE OF THE AMERICAN ASSOCIATION OF ORTHOPAEDIC SURGEONS--PAC OF AAOS\n",
      "\n",
      "\n",
      "PAC OF THE AMERICAN ASSOCIATION OF ORTHOPAEDIC SURGEONS--PAC OF AAOS    756\n",
      "Name: cmte_name, dtype: int64\n",
      "\n",
      "\n",
      "\n",
      "AIR LINE PILOTS ASSOCIATION PAC\n",
      "\n",
      "\n",
      "AIR LINE PILOTS ASSOCIATION PAC    752\n",
      "Name: cmte_name, dtype: int64\n",
      "\n",
      "\n",
      "\n",
      "AMERICAN INSTITUTE OF CERTIFIED PUBLIC ACCOUNTANTS POLITICAL ACTION COMMITTEE\n",
      "\n",
      "\n",
      "AMERICAN INSTITUTE OF CERTIFIED PUBLIC ACCOUNTANTS PAC    749\n",
      "Name: cmte_name, dtype: int64\n",
      "\n",
      "\n",
      "\n",
      "AMERICAN COUNCIL OF ENGINEERING COMPANIES (ACEC/PAC)\n",
      "\n",
      "\n",
      "AMERICAN COUNCIL OF ENGINEERING COMPANIES (ACEC/PAC)    742\n",
      "Name: cmte_name, dtype: int64\n",
      "\n",
      "\n",
      "\n",
      "AMERICAN DENTAL ASSOCIATION POLITICAL ACTION COMMITTEE\n",
      "\n",
      "\n",
      "AMERICAN DENTAL ASSOCIATION PAC    735\n",
      "Name: cmte_name, dtype: int64\n",
      "\n",
      "\n",
      "\n",
      "INDEPENDENT COMMUNITY BANKERS OF AMERICA POLITICAL ACTION COMMITTEE\n",
      "\n",
      "\n",
      "INDEPENDENT COMMUNITY BANKERS OF AMERICA PAC    721\n",
      "Name: cmte_name, dtype: int64\n",
      "\n",
      "\n",
      "\n",
      "END CITIZENS UNITED\n",
      "\n",
      "\n",
      "END CITIZENS UNITED    718\n",
      "Name: cmte_name, dtype: int64\n",
      "\n",
      "\n",
      "\n",
      "NATIONAL AUTOMOBILE DEALERS ASSOCIATION POLITICAL ACTION COMMITTEE\n",
      "\n",
      "\n",
      "NATIONAL AUTOMOBILE DEALERS ASSOCIATION PAC    713\n",
      "Name: cmte_name, dtype: int64\n",
      "\n",
      "\n",
      "\n",
      "DELOITTE POLITICAL ACTION COMMITTEE\n",
      "\n",
      "\n",
      "DELOITTE PAC    709\n",
      "Name: cmte_name, dtype: int64\n",
      "\n",
      "\n",
      "\n",
      "AMERICAN HOSPITAL ASSOCIATION PAC\n",
      "\n",
      "\n",
      "AMERICAN HOSPITAL ASSOCIATION PAC    705\n",
      "Name: cmte_name, dtype: int64\n",
      "\n",
      "\n",
      "\n",
      "PRIORITIES USA ACTION\n",
      "\n",
      "\n",
      "PRIORITIES USA ACTION    699\n",
      "Name: cmte_name, dtype: int64\n",
      "\n",
      "\n",
      "\n",
      "INTERNATIONAL BROTHERHOOD OF ELECTRICAL WORKERS POLITICAL ACTION COMMITTEE\n",
      "\n",
      "\n",
      "INTERNATIONAL BROTHERHOOD OF ELECTRICAL WORKERS PAC    698\n",
      "Name: cmte_name, dtype: int64\n",
      "\n",
      "\n",
      "\n",
      "INVESTMENT COMPANY INSTITUTE POLITICAL ACTION COMMITTEE\n",
      "\n",
      "\n",
      "INVESTMENT COMPANY INSTITUTE PAC    681\n",
      "Name: cmte_name, dtype: int64\n",
      "\n",
      "\n",
      "\n",
      "INDEPENDENT INSURANCE AGENTS & BROKERS OF AMERICA, INC. POLITICAL ACTION COMMITTEE (INSURPAC)\n",
      "\n",
      "\n",
      "INDEPENDENT INSURANCE AGENTS AND BROKERS OF AMERICA, INC. PAC (INSURPAC)    679\n",
      "Name: cmte_name, dtype: int64\n",
      "\n",
      "\n",
      "\n",
      "AMERICAN SOCIETY OF ANESTHESIOLOGISTS POLITICAL ACTION COMMITTEE (ASA PAC)\n",
      "\n",
      "\n",
      "AMERICAN SOCIETY OF ANESTHESIOLOGISTS PAC (ASA PAC)    664\n",
      "Name: cmte_name, dtype: int64\n",
      "\n",
      "\n",
      "\n",
      "PRICEWATERHOUSECOOPERS POLITICAL ACTION COMMITTEE I\n",
      "\n",
      "\n",
      "PRICEWATERHOUSECOOPERS PAC I    663\n",
      "Name: cmte_name, dtype: int64\n",
      "\n",
      "\n",
      "\n",
      "NEW YORK LIFE INSURANCE COMPANY POLITICAL ACTION COMMITTEE\n",
      "\n",
      "\n",
      "NEW YORK LIFE INSURANCE COMPANY PAC    649\n",
      "Name: cmte_name, dtype: int64\n",
      "\n",
      "\n",
      "\n",
      "AMAZON.COM SERVICES, INC. SEPARATE SEGREGATED FUND (AMAZON PAC)\n",
      "\n",
      "\n",
      "AMAZON.COM SERVICES, INC. SEPARATE SEGREGATED FUND (AMAZON PAC)    648\n",
      "Name: cmte_name, dtype: int64\n",
      "\n",
      "\n",
      "\n",
      "AFLAC POLITICAL ACTION COMMITTEE (AFLAC PAC)\n",
      "\n",
      "\n",
      "AFLAC PAC (AFLAC PAC)    642\n",
      "Name: cmte_name, dtype: int64\n",
      "\n",
      "\n",
      "\n",
      "UNITED TECHNOLOGIES CORPORATION POLITICAL ACTION COMMITTEE\n",
      "\n",
      "\n",
      "UNITED TECHNOLOGIES CORP PAC    640\n",
      "Name: cmte_name, dtype: int64\n",
      "\n",
      "\n",
      "\n",
      "NATIONAL EMERGENCY MEDICINE POLITICAL ACTION COMMITTEE / AMERICAN COLLEGE OF EMERGENCY PHYSICIANS\n",
      "\n",
      "\n",
      "NATIONAL EMERGENCY MEDICINE PAC / AMERICAN COLLEGE OF EMERGENCY PHYSICIANS    639\n",
      "Name: cmte_name, dtype: int64\n",
      "\n",
      "\n",
      "\n",
      "AMERICAN OPTOMETRIC ASSOCIATION POLITICAL ACTION COMMITTEE\n",
      "\n",
      "\n",
      "AMERICAN OPTOMETRIC ASSOCIATION PAC    631\n",
      "Name: cmte_name, dtype: int64\n",
      "\n",
      "\n",
      "\n",
      "AMERICAN FEDERATION OF GOVT. EMPL. POLITICAL ACTION COMMITTEE\n",
      "\n",
      "\n",
      "AMERICAN FEDERATION OF GOVT. EMPL. PAC    621\n",
      "Name: cmte_name, dtype: int64\n",
      "\n",
      "\n",
      "\n",
      "THE HOME DEPOT INC. POLITICAL ACTION COMMITTEE\n",
      "\n",
      "\n",
      "THE HOME DEPOT INC. PAC    619\n",
      "Name: cmte_name, dtype: int64\n",
      "\n",
      "\n",
      "\n"
     ]
    },
    {
     "name": "stdout",
     "output_type": "stream",
     "text": [
      "BNSF RAILWAY COMPANY RAILPAC (BNSF RAILPAC)\n",
      "\n",
      "\n",
      "BNSF RAILWAY COMPANY RAILPAC (BNSF RAILPAC)    619\n",
      "Name: cmte_name, dtype: int64\n",
      "\n",
      "\n",
      "\n",
      "GENERAL MOTORS COMPANY POLITICAL ACTION COMMITTEE (GM PAC)\n",
      "\n",
      "\n",
      "GENERAL MOTORS COMPANY PAC (GM PAC)    619\n",
      "Name: cmte_name, dtype: int64\n",
      "\n",
      "\n",
      "\n",
      "NATIONAL MULTIFAMILY HOUSING COUNCIL POLITICAL ACTION COMMITTEE\n",
      "\n",
      "\n",
      "NATIONAL MULTIFAMILY HOUSING COUNCIL PAC    615\n",
      "Name: cmte_name, dtype: int64\n",
      "\n",
      "\n",
      "\n",
      "NEA FUND FOR CHILDREN AND PUBLIC EDUCATION\n",
      "\n",
      "\n",
      "NEA FUND FOR CHILDREN AND PUBLIC EDUCATION    613\n",
      "Name: cmte_name, dtype: int64\n",
      "\n",
      "\n",
      "\n",
      "NRCC\n",
      "\n",
      "\n",
      "NRCC    607\n",
      "Name: cmte_name, dtype: int64\n",
      "\n",
      "\n",
      "\n",
      "NATIONAL ASSOCIATION FOR GUN RIGHTS INC PAC\n",
      "\n",
      "\n",
      "NATIONAL ASSOCIATION FOR GUN RIGHTS INC PAC    593\n",
      "Name: cmte_name, dtype: int64\n",
      "\n",
      "\n",
      "\n",
      "CLUB FOR GROWTH PAC\n",
      "\n",
      "\n",
      "CLUB FOR GROWTH PAC    593\n",
      "Name: cmte_name, dtype: int64\n",
      "\n",
      "\n",
      "\n",
      "AMERICAN POSTAL WORKERS UNION COMMITTEE ON POLITICAL ACTION\n",
      "\n",
      "\n",
      "AMERICAN POSTAL WORKERS UNION COMMITTEE ON POLITICAL ACTION    591\n",
      "Name: cmte_name, dtype: int64\n",
      "\n",
      "\n",
      "\n",
      "UNITED TRANSPORTATION UNION POLITICAL ACTION COMMITTEE (UTU PAC)\n",
      "\n",
      "\n",
      "UNITED TRANSPORTATION UNION PAC (UTU PAC)    591\n",
      "Name: cmte_name, dtype: int64\n",
      "\n",
      "\n",
      "\n",
      "THE FARM CREDIT COUNCIL POLITICAL ACTION COMMITTEE\n",
      "\n",
      "\n",
      "THE FARM CREDIT COUNCIL PAC    589\n",
      "Name: cmte_name, dtype: int64\n",
      "\n",
      "\n",
      "\n",
      "AMERICAN PHYSICAL THERAPY ASSOCIATION PHYSICAL THERAPY POLITICAL ACTION COMMITTEE (PT-PAC)\n",
      "\n",
      "\n",
      "AMERICAN PHYSICAL THERAPY ASSOCIATION PHYSICAL THERAPY PAC (PT-PAC)    588\n",
      "Name: cmte_name, dtype: int64\n",
      "\n",
      "\n",
      "\n",
      "AMERICAN MEDICAL ASSOCIATION POLITICAL ACTION COMMITTEE\n",
      "\n",
      "\n",
      "AMERICAN MEDICAL ASSOCIATION PAC    582\n",
      "Name: cmte_name, dtype: int64\n",
      "\n",
      "\n",
      "\n",
      "FEDEX CORPORATION POLITICAL ACTION COMMITTEE (FEDEXPAC)\n",
      "\n",
      "\n",
      "FEDEX CORP PAC (FEDEXPAC)    578\n",
      "Name: cmte_name, dtype: int64\n",
      "\n",
      "\n",
      "\n",
      "NATIONAL ASSOCIATION OF LETTER CARRIERS OF U.S.A. POLITICAL FUND (LETTER CARRIER POLITICAL FUND)\n",
      "\n",
      "\n",
      "NATIONAL ASSOCIATION OF LETTER CARRIERS OF U.S.A. POLITICAL FUND (LETTER CARRIER POLITICAL FUND)    570\n",
      "Name: cmte_name, dtype: int64\n",
      "\n",
      "\n",
      "\n",
      "TOYOTA MOTOR NORTH AMERICA, INC POLITICAL ACTION COMMITTEE (TOYOTA/LEXUS PAC)\n",
      "\n",
      "\n",
      "TOYOTA MOTOR NORTH AMERICA, INC PAC (TOYOTA/LEXUS PAC)    561\n",
      "Name: cmte_name, dtype: int64\n",
      "\n",
      "\n",
      "\n",
      "LABORERS' INTERNATIONAL UNION OF NORTH AMERICA (LIUNA) PAC\n",
      "\n",
      "\n",
      "LABORERS' INTERNATIONAL UNION OF NORTH AMERICA (LIUNA) PAC    561\n",
      "Name: cmte_name, dtype: int64\n",
      "\n",
      "\n",
      "\n",
      "JSTREETPAC\n",
      "\n",
      "\n",
      "JSTREETPAC    552\n",
      "Name: cmte_name, dtype: int64\n",
      "\n",
      "\n",
      "\n",
      "KOCH INDUSTRIES, INC. POLITICAL ACTION COMMITTEE (KOCHPAC)\n",
      "\n",
      "\n",
      "KOCH INDUSTRIES, INC. PAC (KOCHPAC)    550\n",
      "Name: cmte_name, dtype: int64\n",
      "\n",
      "\n",
      "\n",
      "AMERICAN FEDERATION OF TEACHERS, AFL-CIO COMMITTEE ON POLITICAL EDUCATION\n",
      "\n",
      "\n",
      "AMERICAN FEDERATION OF TEACHERS, AFL-CIO COMMITTEE ON POLITICAL EDUCATION    544\n",
      "Name: cmte_name, dtype: int64\n",
      "\n",
      "\n",
      "\n",
      "EXXON MOBIL CORPORATION POLITICAL ACTION COMMITTEE (EXXONMOBIL PAC)\n",
      "\n",
      "\n",
      "EXXON MOBIL CORP PAC (EXXONMOBIL PAC)    543\n",
      "Name: cmte_name, dtype: int64\n",
      "\n",
      "\n",
      "\n",
      "COX ENTERPRISES PAC (COXPAC) INC.\n",
      "\n",
      "\n",
      "COX ENTERPRISES PAC (COXPAC) INC.    539\n",
      "Name: cmte_name, dtype: int64\n",
      "\n",
      "\n",
      "\n",
      "GOOGLE LLC NETPAC\n",
      "\n",
      "\n",
      "GOOGLE LLC NETPAC    539\n",
      "Name: cmte_name, dtype: int64\n",
      "\n",
      "\n",
      "\n",
      "HOTEL WORKERS FOR STRONGER COMMUNITIES\n",
      "\n",
      "\n",
      "HOTEL WORKERS FOR STRONGER COMMUNITIES    538\n",
      "Name: cmte_name, dtype: int64\n",
      "\n",
      "\n",
      "\n",
      "INTERNATIONAL ASSOCIATION OF FIREFIGHTERS INTERESTED IN REGISTRATION AND EDUCATION PAC\n",
      "\n",
      "\n",
      "INTERNATIONAL ASSOCIATION OF FIREFIGHTERS INTERESTED IN REGISTRATION AND EDUCATION PAC    537\n",
      "Name: cmte_name, dtype: int64\n",
      "\n",
      "\n",
      "\n",
      "FORD MOTOR COMPANY CIVIC ACTION FUND\n",
      "\n",
      "\n",
      "FORD MOTOR COMPANY CIVIC ACTION FUND    532\n",
      "Name: cmte_name, dtype: int64\n",
      "\n",
      "\n",
      "\n",
      "THE GOLDMAN SACHS GROUP, INC. POLITICAL ACTION COMMITTEE\n",
      "\n",
      "\n",
      "THE GOLDMAN SACHS GROUP, INC. PAC    532\n",
      "Name: cmte_name, dtype: int64\n",
      "\n",
      "\n",
      "\n",
      "SENATE LEADERSHIP FUND\n",
      "\n",
      "\n",
      "SENATE LEADERSHIP FUND    531\n",
      "Name: cmte_name, dtype: int64\n",
      "\n",
      "\n",
      "\n",
      "ENGINEERS POLITICAL EDUCATION COMMITTEE (EPEC)/INTERNATIONAL UNION OF OPERATING ENGINEERS\n",
      "\n",
      "\n",
      "ENGINEERS POLITICAL EDUCATION COMMITTEE (EPEC)/INTERNATIONAL UNION OF OPERATING ENGINEERS    525\n",
      "Name: cmte_name, dtype: int64\n",
      "\n",
      "\n",
      "\n",
      "THE COUNCIL OF INSURANCE AGENTS & BROKERS POLITICAL ACTION COMMITTEE\n",
      "\n",
      "\n",
      "THE COUNCIL OF INSURANCE AGENTS AND BROKERS PAC    523\n",
      "Name: cmte_name, dtype: int64\n",
      "\n",
      "\n",
      "\n",
      "AMERICAN CRYSTAL SUGAR COMPANY POLITICAL ACTION COMMITTEE\n",
      "\n",
      "\n",
      "AMERICAN CRYSTAL SUGAR COMPANY PAC    519\n",
      "Name: cmte_name, dtype: int64\n",
      "\n",
      "\n",
      "\n",
      "SOCIAL SECURITY WORKS PAC\n",
      "\n",
      "\n",
      "SOCIAL SECURITY WORKS PAC    518\n",
      "Name: cmte_name, dtype: int64\n",
      "\n",
      "\n",
      "\n",
      "KRC IN ACTION\n",
      "\n",
      "\n",
      "KRC IN ACTION    514\n",
      "Name: cmte_name, dtype: int64\n",
      "\n",
      "\n",
      "\n",
      "CALIFORNIANS FOR HUMAN IMMIGRANT RIGHTS LEADERSHIP ACTION FUND\n",
      "\n",
      "\n",
      "CALIFORNIANS FOR HUMAN IMMIGRANT RIGHTS LEADERSHIP ACTION FUND    512\n",
      "Name: cmte_name, dtype: int64\n",
      "\n",
      "\n",
      "\n",
      "NCTA - THE INTERNET AND TELEVISION ASSOCIATION POLITICAL ACTION COMMITTEE (NCTA PAC)\n",
      "\n",
      "\n",
      "NCTA - THE INTERNET AND TELEVISION ASSOCIATION PAC (NCTA PAC)    504\n",
      "Name: cmte_name, dtype: int64\n",
      "\n",
      "\n",
      "\n",
      "KPMG PARTNERS/PRINCIPALS AND EMPLOYEES PAC\n",
      "\n",
      "\n",
      "KPMG PARTNERS/PRINCIPALS AND EMPLOYEES PAC    499\n",
      "Name: cmte_name, dtype: int64\n",
      "\n",
      "\n",
      "\n",
      "NATIONAL ACTIVE AND RETIRED FEDERAL EMPLOYEES ASSOCIATION POLITICAL ACTION COM (NARFE-PAC)\n",
      "\n",
      "\n",
      "NATIONAL ACTIVE AND RETIRED FEDERAL EMPLOYEES ASSOCIATION POLITICAL ACTION COM (NARFE-PAC)    498\n",
      "Name: cmte_name, dtype: int64\n",
      "\n",
      "\n",
      "\n",
      "EVERYTOWN FOR GUN SAFETY ACTION FUND\n",
      "\n",
      "\n",
      "EVERYTOWN FOR GUN SAFETY ACTION FUND    491\n",
      "Name: cmte_name, dtype: int64\n",
      "\n",
      "\n",
      "\n",
      "CARPENTERS LEGISLATIVE IMPROVEMENT COMMITTEE UNITED BROTHERHOOD OF CARPENTERS AND JOINERS\n",
      "\n",
      "\n",
      "CARPENTERS LEGISLATIVE IMPROVEMENT COMMITTEE UNITED BROTHERHOOD OF CARPENTERS AND JOINERS    490\n",
      "Name: cmte_name, dtype: int64\n",
      "\n",
      "\n",
      "\n",
      "STATE FARM MUTUAL AUTOMOBILE INSURANCE COMPANY FEDERAL POLITICAL ACTION COMMITTEE (STATE FARM FEDERAL PAC)\n",
      "\n",
      "\n",
      "STATE FARM MUTUAL AUTOMOBILE INSURANCE COMPANY FEDERAL PAC (STATE FARM FEDERAL PAC)    486\n",
      "Name: cmte_name, dtype: int64\n",
      "\n",
      "\n",
      "\n",
      "TEACHERS INSURANCE ANNUITY ASSOCIATION OF AMERICA PAC (TIAA PAC)\n",
      "\n",
      "\n",
      "TEACHERS INSURANCE ANNUITY ASSOCIATION OF AMERICA PAC (TIAA PAC)    484\n",
      "Name: cmte_name, dtype: int64\n",
      "\n",
      "\n",
      "\n",
      "STARS AND STRIPES FOREVER PAC\n",
      "\n",
      "\n",
      "STARS AND STRIPES FOREVER PAC    482\n",
      "Name: cmte_name, dtype: int64\n",
      "\n",
      "\n",
      "\n",
      "UNION PACIFIC CORP. FUND FOR EFFECTIVE GOVERNMENT\n",
      "\n",
      "\n",
      "UNION PACIFIC CORP. FUND FOR EFFECTIVE GOVERNMENT    481\n",
      "Name: cmte_name, dtype: int64\n",
      "\n",
      "\n",
      "\n",
      "COMMUNICATIONS WORKERS OF AMERICA-COPE POLITICAL CONTRIBUTIONS COMMITTEE\n",
      "\n",
      "\n",
      "COMMUNICATIONS WORKERS OF AMERICA-COPE POLITICAL CONTRIBUTIONS COMMITTEE    475\n",
      "Name: cmte_name, dtype: int64\n",
      "\n",
      "\n",
      "\n",
      "INTERNATIONAL FRANCHISE ASSOCIATION FRANCHISING POLITICAL ACTION COMMITTEE INC\n",
      "\n",
      "\n",
      "INTERNATIONAL FRANCHISE ASSOCIATION FRANCHISING PAC INC    474\n",
      "Name: cmte_name, dtype: int64\n",
      "\n",
      "\n",
      "\n",
      "INTERNATIONAL ASSOCIATION OF SHEET METAL, AIR, RAIL AND TRANSPORTATION WORKERS POLITICAL ACTION LEAGUE\n",
      "\n",
      "\n",
      "INTERNATIONAL ASSOCIATION OF SHEET METAL, AIR, RAIL AND TRANSPORTATION WORKERS POLITICAL ACTION LEAGUE    473\n",
      "Name: cmte_name, dtype: int64\n",
      "\n",
      "\n",
      "\n",
      "AMERICAN ACADEMY OF DERMATOLOGY ASSOCIATION POLITICAL ACTION COMMITTEE (SKINPAC)\n",
      "\n",
      "\n",
      "AMERICAN ACADEMY OF DERMATOLOGY ASSOCIATION PAC (SKINPAC)    473\n",
      "Name: cmte_name, dtype: int64\n",
      "\n",
      "\n",
      "\n",
      "AMGEN INC. POLITICAL ACTION COMMITTEE\n",
      "\n",
      "\n",
      "AMGEN INC. PAC    472\n",
      "Name: cmte_name, dtype: int64\n",
      "\n",
      "\n",
      "\n",
      "CITIGROUP INC. POLITICAL ACTION COMMITTEE - FEDERAL (CITIGROUP PAC-FEDERAL)\n",
      "\n",
      "\n",
      "CITIGROUP INC. PAC - FEDERAL (CITIGROUP PAC-FEDERAL)    470\n",
      "Name: cmte_name, dtype: int64\n",
      "\n",
      "\n",
      "\n",
      "SEIU COPE (SERVICE EMPLOYEES INTERNATIONAL UNION COMMITTEE ON POLITICAL EDUCATION)\n",
      "\n",
      "\n",
      "SEIU COPE (SERVICE EMPLOYEES INTERNATIONAL UNION COMMITTEE ON POLITICAL EDUCATION)    469\n",
      "Name: cmte_name, dtype: int64\n",
      "\n",
      "\n",
      "\n",
      "MORGAN STANLEY POLITICAL ACTION COMMITTEE\n",
      "\n",
      "\n",
      "MORGAN STANLEY PAC    467\n",
      "Name: cmte_name, dtype: int64\n",
      "\n",
      "\n",
      "\n",
      "MORTGAGE BANKERS ASSOCIATION POLITICAL ACTION COMMITTEE (MORPAC)\n",
      "\n",
      "\n",
      "MORTGAGE BANKERS ASSOCIATION PAC (MORPAC)    466\n",
      "Name: cmte_name, dtype: int64\n",
      "\n",
      "\n",
      "\n",
      "HARRIS CORPORATION POLITICAL ACTION COMMITTEE\n",
      "\n",
      "\n",
      "HARRIS CORP PAC    463\n",
      "Name: cmte_name, dtype: int64\n",
      "\n",
      "\n",
      "\n",
      "MACHINISTS NON PARTISAN POLITICAL LEAGUE OF THE INTERNATIONAL ASSOCIATION OF MACHINISTS & AEROSPACE WORKERS\n",
      "\n",
      "\n",
      "MACHINISTS NON PARTISAN POLITICAL LEAGUE OF THE INTERNATIONAL ASSOCIATION OF MACHINISTS AND AEROSPACE WORKERS    459\n",
      "Name: cmte_name, dtype: int64\n",
      "\n",
      "\n",
      "\n",
      "WINE AND SPIRITS WHOLESALERS OF AMERICA, INC. POLITICAL ACTION COMMITTEE\n",
      "\n",
      "\n",
      "WINE AND SPIRITS WHOLESALERS OF AMERICA, INC. PAC    458\n",
      "Name: cmte_name, dtype: int64\n",
      "\n",
      "\n",
      "\n",
      "NATIONAL FEDERATION OF INDEPENDENT BUSINESS FEDERAL POLITICAL ACTION COMMITTEE\n",
      "\n",
      "\n",
      "NATIONAL FEDERATION OF INDEPENDENT BUSINESS FEDERAL PAC    457\n",
      "Name: cmte_name, dtype: int64\n",
      "\n",
      "\n",
      "\n",
      "MAJORITY COMMITTEE PAC--MC PAC\n",
      "\n",
      "\n",
      "MAJORITY COMMITTEE PAC--MC PAC    451\n",
      "Name: cmte_name, dtype: int64\n",
      "\n",
      "\n",
      "\n",
      "ALTRIA GROUP, INC. POLITICAL ACTION COMMITTEE (ALTRIAPAC)\n",
      "\n",
      "\n",
      "ALTRIA GROUP, INC. PAC (ALTRIAPAC)    441\n",
      "Name: cmte_name, dtype: int64\n",
      "\n",
      "\n",
      "\n",
      "NATIONAL ASSOCIATION OF REAL ESTATE INVESTMENT TRUSTS, INC. POLITICAL ACTION COMMITTEE\n",
      "\n",
      "\n",
      "NATIONAL ASSOCIATION OF REAL ESTATE INVESTMENT TRUSTS, INC. PAC    439\n",
      "Name: cmte_name, dtype: int64\n",
      "\n",
      "\n",
      "\n"
     ]
    },
    {
     "name": "stdout",
     "output_type": "stream",
     "text": [
      "DELTA AIR LINES POLITICAL ACTION COMMITTEE\n",
      "\n",
      "\n",
      "DELTA AIR LINES PAC    438\n",
      "Name: cmte_name, dtype: int64\n",
      "\n",
      "\n",
      "\n",
      "NATIONAL ASSOCIATION OF BROADCASTERS POLITICAL ACTION COMMITTEE (NABPAC)\n",
      "\n",
      "\n",
      "NATIONAL ASSOCIATION OF BROADCASTERS PAC (NABPAC)    437\n",
      "Name: cmte_name, dtype: int64\n",
      "\n",
      "\n",
      "\n",
      "D.R.I.V.E. - DEMOCRAT, REPUBLICAN, INDEPENDENT VOTER EDUCATION (THE PAC OF THE INTERNATIONAL BROTHERHOOD OF TEAMSTERS)\n",
      "\n",
      "\n",
      "D.R.I.V.E. - DEMOCRAT, REPUBLICAN, INDEPENDENT VOTER EDUCATION (THE PAC OF THE INTERNATIONAL BROTHERHOOD OF TEAMSTERS)    436\n",
      "Name: cmte_name, dtype: int64\n",
      "\n",
      "\n",
      "\n",
      "MICROSOFT CORPORATION POLITICAL ACTION COMMITTEE\n",
      "\n",
      "\n",
      "MICROSOFT CORP PAC    427\n",
      "Name: cmte_name, dtype: int64\n",
      "\n",
      "\n",
      "\n",
      "CHARTER COMMUNICATIONS INC. POLITICAL ACTION COMMITTEE\n",
      "\n",
      "\n",
      "CHARTER COMMUNICATIONS INC. PAC    426\n",
      "Name: cmte_name, dtype: int64\n",
      "\n",
      "\n",
      "\n",
      "REPUBLICAN MAINSTREET PARTNERSHIP PAC\n",
      "\n",
      "\n",
      "REPUBLICAN MAINSTREET PARTNERSHIP PAC    426\n",
      "Name: cmte_name, dtype: int64\n",
      "\n",
      "\n",
      "\n",
      "NATIONAL STONE, SAND & GRAVEL ASSOCIATION ROCKPAC\n",
      "\n",
      "\n",
      "NATIONAL STONE, SAND AND GRAVEL ASSOCIATION ROCKPAC    419\n",
      "Name: cmte_name, dtype: int64\n",
      "\n",
      "\n",
      "\n",
      "UAW - V - CAP (UAW VOLUNTARY COMMUNITY ACTION PROGRAM)\n",
      "\n",
      "\n",
      "UAW - V - CAP (UAW VOLUNTARY COMMUNITY ACTION PROGRAM)    417\n",
      "Name: cmte_name, dtype: int64\n",
      "\n",
      "\n",
      "\n",
      "UBS AMERICAS INC. POLITICAL ACTION COMMITTEE (UBS PAC)\n",
      "\n",
      "\n",
      "UBS AMERICAS INC. PAC (UBS PAC)    414\n",
      "Name: cmte_name, dtype: int64\n",
      "\n",
      "\n",
      "\n",
      "AMERICAN OSTEOPATHIC INFORMATION ASSOCIATION - OSTEOPATHIC POLITICAL ACTION COMMITTEE\n",
      "\n",
      "\n",
      "AMERICAN OSTEOPATHIC INFORMATION ASSOCIATION - OSTEOPATHIC PAC    414\n",
      "Name: cmte_name, dtype: int64\n",
      "\n",
      "\n",
      "\n",
      "HUMAN RIGHTS CAMPAIGN PAC\n",
      "\n",
      "\n",
      "HUMAN RIGHTS CAMPAIGN PAC    412\n",
      "Name: cmte_name, dtype: int64\n",
      "\n",
      "\n",
      "\n",
      "PFIZER INC. PAC\n",
      "\n",
      "\n",
      "PFIZER INC. PAC    411\n",
      "Name: cmte_name, dtype: int64\n",
      "\n",
      "\n",
      "\n",
      "NATIONAL ASSOCIATION OF MUTUAL INSURANCE COMPANIES PAC\n",
      "\n",
      "\n",
      "NATIONAL ASSOCIATION OF MUTUAL INSURANCE COMPANIES PAC    410\n",
      "Name: cmte_name, dtype: int64\n",
      "\n",
      "\n",
      "\n",
      "CLUB FOR GROWTH ACTION\n",
      "\n",
      "\n",
      "CLUB FOR GROWTH ACTION    409\n",
      "Name: cmte_name, dtype: int64\n",
      "\n",
      "\n",
      "\n",
      "CSX CORPORATION GOOD GOVERNMENT FUND\n",
      "\n",
      "\n",
      "CSX CORP GOOD GOVERNMENT FUND    409\n",
      "Name: cmte_name, dtype: int64\n",
      "\n",
      "\n",
      "\n",
      "INTERNATIONAL UNION OF PAINTERS AND ALLIED TRADES POLITICAL ACTION TOGETHER POLITICAL COMMITTEE\n",
      "\n",
      "\n",
      "INTERNATIONAL UNION OF PAINTERS AND ALLIED TRADES POLITICAL ACTION TOGETHER POLITICAL COMMITTEE    408\n",
      "Name: cmte_name, dtype: int64\n",
      "\n",
      "\n",
      "\n",
      "NATIONAL ASSOCIATION OF HEALTH UNDERWRITERS PAC (HUPAC)\n",
      "\n",
      "\n",
      "NATIONAL ASSOCIATION OF HEALTH UNDERWRITERS PAC (HUPAC)    407\n",
      "Name: cmte_name, dtype: int64\n",
      "\n",
      "\n",
      "\n",
      "AMERICAN COUNCIL OF LIFE INSURERS POLITICAL ACTION COMMITTEE\n",
      "\n",
      "\n",
      "AMERICAN COUNCIL OF LIFE INSURERS PAC    407\n",
      "Name: cmte_name, dtype: int64\n",
      "\n",
      "\n",
      "\n",
      "AMERICAN ASSOCIATION OF NURSE ANESTHETISTS SEPARATE SEGREGATED FUND (CRNA-PAC)\n",
      "\n",
      "\n",
      "AMERICAN ASSOCIATION OF NURSE ANESTHETISTS SEPARATE SEGREGATED FUND (CRNA-PAC)    405\n",
      "Name: cmte_name, dtype: int64\n",
      "\n",
      "\n",
      "\n",
      "LEIDOS INC. POLITICAL ACTION COMMITTEE\n",
      "\n",
      "\n",
      "LEIDOS INC. PAC    401\n",
      "Name: cmte_name, dtype: int64\n",
      "\n",
      "\n",
      "\n",
      "JPMORGAN CHASE & CO. FEDERAL POLITICAL ACTION COMMITTEE\n",
      "\n",
      "\n",
      "JPMORGAN CHASE AND CO. FEDERAL PAC    398\n",
      "Name: cmte_name, dtype: int64\n",
      "\n",
      "\n",
      "\n",
      "UNITED SERVICES AUTOMOBILE ASSOCIATION EMPLOYEE PAC - USAA EMPLOYEE PAC\n",
      "\n",
      "\n",
      "UNITED SERVICES AUTOMOBILE ASSOCIATION EMPLOYEE PAC - USAA EMPLOYEE PAC    397\n",
      "Name: cmte_name, dtype: int64\n",
      "\n",
      "\n",
      "\n",
      "NATIONAL COTTON COUNCIL OF AMERICA COMMITTEE FOR THE ADVANCEMENT OF COTTON\n",
      "\n",
      "\n",
      "NATIONAL COTTON COUNCIL OF AMERICA COMMITTEE FOR THE ADVANCEMENT OF COTTON    396\n",
      "Name: cmte_name, dtype: int64\n",
      "\n",
      "\n",
      "\n",
      "DUKE ENERGY CORPORATION PAC\n",
      "\n",
      "\n",
      "DUKE ENERGY CORP PAC    395\n",
      "Name: cmte_name, dtype: int64\n",
      "\n",
      "\n",
      "\n",
      "ANTHEM, INC. POLITICAL ACTION COMMITTEE (ANTHEM PAC)\n",
      "\n",
      "\n",
      "ANTHEM, INC. PAC (ANTHEM PAC)    395\n",
      "Name: cmte_name, dtype: int64\n",
      "\n",
      "\n",
      "\n",
      "NORTHROP GRUMMAN INNOVATION SYSTEMS INC. POLITICAL ACTION COMMITTEE AKA OAPAC\n",
      "\n",
      "\n",
      "NORTHROP GRUMMAN INNOVATION SYSTEMS INC. PAC AKA OAPAC    395\n",
      "Name: cmte_name, dtype: int64\n",
      "\n",
      "\n",
      "\n",
      "PLANNED PARENTHOOD VOTES\n",
      "\n",
      "\n",
      "PLANNED PARENTHOOD VOTES    394\n",
      "Name: cmte_name, dtype: int64\n",
      "\n",
      "\n",
      "\n",
      "PROSPERITY ACTION INC.\n",
      "\n",
      "\n",
      "PROSPERITY ACTION INC.    389\n",
      "Name: cmte_name, dtype: int64\n",
      "\n",
      "\n",
      "\n",
      "NATIONAL TREASURY EMPLOYEES UNION POLITICAL ACTION COMMITTEE\n",
      "\n",
      "\n",
      "NATIONAL TREASURY EMPLOYEES UNION PAC    384\n",
      "Name: cmte_name, dtype: int64\n",
      "\n",
      "\n",
      "\n",
      "UNITEDHEALTH GROUP INCORPORATED PAC (UNITEDHEALTH GROUP PAC)\n",
      "\n",
      "\n",
      "UNITEDHEALTH GROUP INCORPORATED PAC (UNITEDHEALTH GROUP PAC)    384\n",
      "Name: cmte_name, dtype: int64\n",
      "\n",
      "\n",
      "\n",
      "UNITED FOOD AND COMMERCIAL WORKERS INTERNATIONAL UNION ACTIVE BALLOT CLUB\n",
      "\n",
      "\n",
      "UNITED FOOD AND COMMERCIAL WORKERS INTERNATIONAL UNION ACTIVE BALLOT CLUB    383\n",
      "Name: cmte_name, dtype: int64\n",
      "\n",
      "\n",
      "\n",
      "CHEVRON EMPLOYEES POLITICAL ACTION COMMITTEE - CHEVRON CORPORATION\n",
      "\n",
      "\n",
      "CHEVRON EMPLOYEES PAC - CHEVRON CORP    379\n",
      "Name: cmte_name, dtype: int64\n",
      "\n",
      "\n",
      "\n",
      "HUNTINGTON INGALLS INDUSTRIES, INC. EMPLOYEES POLITICAL ACTION COMMITTEE (HIIPAC)\n",
      "\n",
      "\n",
      "HUNTINGTON INGALLS INDUSTRIES, INC. EMPLOYEES PAC (HIIPAC)    378\n",
      "Name: cmte_name, dtype: int64\n",
      "\n",
      "\n",
      "\n",
      "INTERNATIONAL PAPER POLITICAL ACTION COMMITTEE (IP-PAC)\n",
      "\n",
      "\n",
      "INTERNATIONAL PAPER PAC (IP-PAC)    376\n",
      "Name: cmte_name, dtype: int64\n",
      "\n",
      "\n",
      "\n",
      "CASE ACTION FUND\n",
      "\n",
      "\n",
      "CASE ACTION FUND    371\n",
      "Name: cmte_name, dtype: int64\n",
      "\n",
      "\n",
      "\n",
      "ABBVIE POLITICAL ACTION COMMITTEE\n",
      "\n",
      "\n",
      "ABBVIE PAC    364\n",
      "Name: cmte_name, dtype: int64\n",
      "\n",
      "\n",
      "\n",
      "IHEARTMEDIA INC. - CLEAR CHANNEL OUTDOOR PAC\n",
      "\n",
      "\n",
      "IHEARTMEDIA INC. - CLEAR CHANNEL OUTDOOR PAC    363\n",
      "Name: cmte_name, dtype: int64\n",
      "\n",
      "\n",
      "\n",
      "MARATHON PETROLEUM CORPORATION EMPLOYEES POLITICAL ACTION COMMITTEE (MPAC)\n",
      "\n",
      "\n",
      "MARATHON PETROLEUM CORP EMPLOYEES PAC (MPAC)    363\n",
      "Name: cmte_name, dtype: int64\n",
      "\n",
      "\n",
      "\n",
      "CENTER FOR POPULAR DEMOCRACY ACTION\n",
      "\n",
      "\n",
      "CENTER FOR POPULAR DEMOCRACY ACTION    363\n",
      "Name: cmte_name, dtype: int64\n",
      "\n",
      "\n",
      "\n",
      "INT'L ASSOCIATION OF BRIDGE, STRUCTURAL, ORNAMENTAL AND REINFORCING IRON WORKERS (IPAL)\n",
      "\n",
      "\n",
      "INT'L ASSOCIATION OF BRIDGE, STRUCTURAL, ORNAMENTAL AND REINFORCING IRON WORKERS (IPAL)    362\n",
      "Name: cmte_name, dtype: int64\n",
      "\n",
      "\n",
      "\n",
      "T-MOBILE USA, INC.  POLITICAL ACTION COMMITTEE (T-PAC)\n",
      "\n",
      "\n",
      "T-MOBILE USA, INC.  PAC (T-PAC)    361\n",
      "Name: cmte_name, dtype: int64\n",
      "\n",
      "\n",
      "\n",
      "NATIONAL APARTMENT ASSOCIATION POLITICAL ACTION COMMITTEE\n",
      "\n",
      "\n",
      "NATIONAL APARTMENT ASSOCIATION PAC    359\n",
      "Name: cmte_name, dtype: int64\n",
      "\n",
      "\n",
      "\n",
      "BAE SYSTEMS INC. POLITICAL ACTION COMMITTEE (BAE SYSTEMS USA PAC)\n",
      "\n",
      "\n",
      "BAE SYSTEMS INC. PAC (BAE SYSTEMS USA PAC)    356\n",
      "Name: cmte_name, dtype: int64\n",
      "\n",
      "\n",
      "\n",
      "SMP\n",
      "\n",
      "\n",
      "SMP    352\n",
      "Name: cmte_name, dtype: int64\n",
      "\n",
      "\n",
      "\n",
      "BASF CORPORATION EMPLOYEES POLITICAL ACTION COMMITTEE\n",
      "\n",
      "\n",
      "BASF CORP EMPLOYEES PAC    352\n",
      "Name: cmte_name, dtype: int64\n",
      "\n",
      "\n",
      "\n",
      "NATIONAL ELECTRICAL CONTRACTORS ASSOCIATION POLITICAL ACTION COMMITTEE (NECAPAC)\n",
      "\n",
      "\n",
      "NATIONAL ELECTRICAL CONTRACTORS ASSOCIATION PAC (NECAPAC)    352\n",
      "Name: cmte_name, dtype: int64\n",
      "\n",
      "\n",
      "\n",
      "AMERICAN ACADEMY OF OPHTHALMOLOGY INC POLITICAL COMMITTEE (OPHTHPAC)\n",
      "\n",
      "\n",
      "AMERICAN ACADEMY OF OPHTHALMOLOGY INC POLITICAL COMMITTEE (OPHTHPAC)    349\n",
      "Name: cmte_name, dtype: int64\n",
      "\n",
      "\n",
      "\n",
      "SOUTHERN MINNESOTA BEET SUGAR COOPERATIVE POLITICAL ACTION COMMITTEE\n",
      "\n",
      "\n",
      "SOUTHERN MINNESOTA BEET SUGAR COOPERATIVE PAC    347\n",
      "Name: cmte_name, dtype: int64\n",
      "\n",
      "\n",
      "\n",
      "HOLLAND & KNIGHT COMMITTEE FOR EFFECTIVE GOVERNMENT\n",
      "\n",
      "\n",
      "HOLLAND AND KNIGHT COMMITTEE FOR EFFECTIVE GOVERNMENT    346\n",
      "Name: cmte_name, dtype: int64\n",
      "\n",
      "\n",
      "\n",
      "AMERISOURCEBERGEN CORPORATION POLITICAL ACTION COMMITTEE (ABC PAC)\n",
      "\n",
      "\n",
      "AMERISOURCEBERGEN CORP PAC (ABC PAC)    345\n",
      "Name: cmte_name, dtype: int64\n",
      "\n",
      "\n",
      "\n",
      "LIBERTY MUTUAL INSURANCE COMPANY - PAC\n",
      "\n",
      "\n",
      "LIBERTY MUTUAL INSURANCE COMPANY - PAC    343\n",
      "Name: cmte_name, dtype: int64\n",
      "\n",
      "\n",
      "\n",
      "WOMEN VOTE!\n",
      "\n",
      "\n",
      "WOMEN VOTE!    343\n",
      "Name: cmte_name, dtype: int64\n",
      "\n",
      "\n",
      "\n",
      "HUMANE SOCIETY LEGISLATIVE FUND\n",
      "\n",
      "\n",
      "HUMANE SOCIETY LEGISLATIVE FUND    342\n",
      "Name: cmte_name, dtype: int64\n",
      "\n",
      "\n",
      "\n",
      "NEW DEMOCRAT COALITION PAC\n",
      "\n",
      "\n",
      "NEW DEMOCRAT COALITION PAC    341\n",
      "Name: cmte_name, dtype: int64\n",
      "\n",
      "\n",
      "\n",
      "THE COCA-COLA COMPANY NONPARTISAN COMMITTEE FOR GOOD GOVERNMENT\n",
      "\n",
      "\n",
      "THE COCA-COLA COMPANY NONPARTISAN COMMITTEE FOR GOOD GOVERNMENT    340\n",
      "Name: cmte_name, dtype: int64\n",
      "\n",
      "\n",
      "\n",
      "K&L GATES LLP POLITICAL ACTION COMMITTEE (DC)\n",
      "\n",
      "\n",
      "K&L GATES LLP PAC (DC)    340\n",
      "Name: cmte_name, dtype: int64\n",
      "\n",
      "\n",
      "\n",
      "NRSC\n",
      "\n",
      "\n",
      "NRSC    339\n",
      "Name: cmte_name, dtype: int64\n",
      "\n",
      "\n",
      "\n",
      "BANK OF AMERICA CORPORATION FEDERAL PAC\n",
      "\n",
      "\n",
      "BANK OF AMERICA CORP FEDERAL PAC    338\n",
      "Name: cmte_name, dtype: int64\n",
      "\n",
      "\n",
      "\n",
      "DAVITA INC. POLITICAL ACTION COMMITTEE (DAPAC)\n",
      "\n",
      "\n",
      "DAVITA INC. PAC (DAPAC)    335\n",
      "Name: cmte_name, dtype: int64\n",
      "\n",
      "\n",
      "\n",
      "CAPITAL ONE FINANCIAL CORP. ASSOC. POLITICAL FUND\n",
      "\n",
      "\n",
      "CAPITAL ONE FINANCIAL CORP. ASSOC. POLITICAL FUND    333\n",
      "Name: cmte_name, dtype: int64\n",
      "\n",
      "\n",
      "\n",
      "AKIN GUMP STRAUSS HAUER & FELD LLP CIVIC ACTION COMMITTEE (AKA AGSH&F CIVIC ACTION COMMITT\n",
      "\n",
      "\n",
      "AKIN GUMP STRAUSS HAUER AND FELD LLP CIVIC ACTION COMMITTEE (AKA AGSH&F CIVIC ACTION COMMITT    332\n",
      "Name: cmte_name, dtype: int64\n",
      "\n",
      "\n",
      "\n"
     ]
    },
    {
     "name": "stdout",
     "output_type": "stream",
     "text": [
      "PG&E CORPORATION EMPLOYEES ENERGYPAC\n",
      "\n",
      "\n",
      "PG&E CORP EMPLOYEES ENERGYPAC    331\n",
      "Name: cmte_name, dtype: int64\n",
      "\n",
      "\n",
      "\n",
      "DSCC\n",
      "\n",
      "\n",
      "DSCC    330\n",
      "Name: cmte_name, dtype: int64\n",
      "\n",
      "\n",
      "\n",
      "INTERNATIONAL BROTHERHOOD OF BOILERMAKERS CAMPAIGN ASSISTANCE FUND\n",
      "\n",
      "\n",
      "INTERNATIONAL BROTHERHOOD OF BOILERMAKERS CAMPAIGN ASSISTANCE FUND    330\n",
      "Name: cmte_name, dtype: int64\n",
      "\n",
      "\n",
      "\n",
      "ASSOCIATED GENERAL CONTRACTORS OF AMERICA POLITICAL ACTION COMMITTEE\n",
      "\n",
      "\n",
      "ASSOCIATED GENERAL CONTRACTORS OF AMERICA PAC    330\n",
      "Name: cmte_name, dtype: int64\n",
      "\n",
      "\n",
      "\n",
      "NEXTERA ENERGY, INC. POLITICAL ACTION COMMITTEE\n",
      "\n",
      "\n",
      "NEXTERA ENERGY, INC. PAC    329\n",
      "Name: cmte_name, dtype: int64\n",
      "\n",
      "\n",
      "\n",
      "ASSOCIATION FOR ADVANCED LIFE UNDERWRITING PAC (AALU PAC)\n",
      "\n",
      "\n",
      "ASSOCIATION FOR ADVANCED LIFE UNDERWRITING PAC (AALU PAC)    329\n",
      "Name: cmte_name, dtype: int64\n",
      "\n",
      "\n",
      "\n",
      "CME GROUP INC. PAC\n",
      "\n",
      "\n",
      "CME GROUP INC. PAC    327\n",
      "Name: cmte_name, dtype: int64\n",
      "\n",
      "\n",
      "\n",
      "WORKING PEOPLE RISING\n",
      "\n",
      "\n",
      "WORKING PEOPLE RISING    325\n",
      "Name: cmte_name, dtype: int64\n",
      "\n",
      "\n",
      "\n",
      "SECURITIES INDUSTRY AND FINANCIAL MARKETS ASSOCIATION POLITICAL ACTION COMMITTEE\n",
      "\n",
      "\n",
      "SECURITIES INDUSTRY AND FINANCIAL MARKETS ASSOCIATION PAC    323\n",
      "Name: cmte_name, dtype: int64\n",
      "\n",
      "\n",
      "\n",
      "AMERICAN COLLEGE OF RADIOLOGY ASSOCIATION PAC\n",
      "\n",
      "\n",
      "AMERICAN COLLEGE OF RADIOLOGY ASSOCIATION PAC    322\n",
      "Name: cmte_name, dtype: int64\n",
      "\n",
      "\n",
      "\n",
      "L3 TECHNOLOGIES, INC. PAC\n",
      "\n",
      "\n",
      "L3 TECHNOLOGIES, INC. PAC    322\n",
      "Name: cmte_name, dtype: int64\n",
      "\n",
      "\n",
      "\n",
      "NATIONAL CONFECTIONERS ASSOCIATION OF THE UNITED STATES, INC. POLITICAL ACTION COMMITTEE (CANDY PAC)\n",
      "\n",
      "\n",
      "NATIONAL CONFECTIONERS ASSOCIATION OF THE UNITED STATES, INC. PAC (CANDY PAC)    322\n",
      "Name: cmte_name, dtype: int64\n",
      "\n",
      "\n",
      "\n",
      "INTEL CORPORATION POLITICAL ACTION COMMITTEE\n",
      "\n",
      "\n",
      "INTEL CORP PAC    321\n",
      "Name: cmte_name, dtype: int64\n",
      "\n",
      "\n",
      "\n",
      "FMR LLC POLITICAL ACTION COMMITTEE - FEDERAL (FIDELITY PAC)\n",
      "\n",
      "\n",
      "FMR LLC PAC - FEDERAL (FIDELITY PAC)    320\n",
      "Name: cmte_name, dtype: int64\n",
      "\n",
      "\n",
      "\n",
      "TOGETHER WE THRIVE\n",
      "\n",
      "\n",
      "TOGETHER WE THRIVE    318\n",
      "Name: cmte_name, dtype: int64\n",
      "\n",
      "\n",
      "\n",
      "UNITED ASSOCIATION POLITICAL EDUCATION COMMITTEE (UNITED ASSOCIATION OF JOURNEYMEN AND APPRENTICES OF THE PLUMBING & PIPEFITTING INDUSTRY OF THE UNITED STATES AND CANADA)\n",
      "\n",
      "\n",
      "UNITED ASSOCIATION POLITICAL EDUCATION COMMITTEE (UNITED ASSOCIATION OF JOURNEYMEN AND APPRENTICES OF THE PLUMBING AND PIPEFITTING INDUSTRY OF THE UNITED STATES AND CANADA)    317\n",
      "Name: cmte_name, dtype: int64\n",
      "\n",
      "\n",
      "\n",
      "MORE CONSERVATIVES PAC (MCPAC)\n",
      "\n",
      "\n",
      "MORE CONSERVATIVES PAC (MCPAC)    316\n",
      "Name: cmte_name, dtype: int64\n",
      "\n",
      "\n",
      "\n",
      "MASSACHUSETTS MUTUAL LIFE INSURANCE COMPANY POLITICAL ACTION COMMITTEE\n",
      "\n",
      "\n",
      "MASSACHUSETTS MUTUAL LIFE INSURANCE COMPANY PAC    316\n",
      "Name: cmte_name, dtype: int64\n",
      "\n",
      "\n",
      "\n",
      "AIRCRAFT OWNERS AND PILOTS ASSOCIATION POLITICAL ACTION COMMITTEE\n",
      "\n",
      "\n",
      "AIRCRAFT OWNERS AND PILOTS ASSOCIATION PAC    315\n",
      "Name: cmte_name, dtype: int64\n",
      "\n",
      "\n",
      "\n",
      "NATIONAL TELECOMMUNICATIONS COOPERATIVE ASSOCIATION RURAL BROADBAND PAC\n",
      "\n",
      "\n",
      "NATIONAL TELECOMMUNICATIONS COOPERATIVE ASSOCIATION RURAL BROADBAND PAC    312\n",
      "Name: cmte_name, dtype: int64\n",
      "\n",
      "\n",
      "\n",
      "WELLS FARGO AND COMPANY EMPLOYEE PAC (AKA WELLS FARGO EMPLOYEE PAC)\n",
      "\n",
      "\n",
      "WELLS FARGO AND COMPANY EMPLOYEE PAC (AKA WELLS FARGO EMPLOYEE PAC)    312\n",
      "Name: cmte_name, dtype: int64\n",
      "\n",
      "\n",
      "\n",
      "CRH AMERICAS, INC. PAC\n",
      "\n",
      "\n",
      "CRH AMERICAS, INC. PAC    308\n",
      "Name: cmte_name, dtype: int64\n",
      "\n",
      "\n",
      "\n",
      "NATIONAL ASSOCIATION OF CONVENIENCE STORES POLITICAL ACTION COMMITTEE\n",
      "\n",
      "\n",
      "NATIONAL ASSOCIATION OF CONVENIENCE STORES PAC    307\n",
      "Name: cmte_name, dtype: int64\n",
      "\n",
      "\n",
      "\n",
      "EQUALITY PAC\n",
      "\n",
      "\n",
      "EQUALITY PAC    306\n",
      "Name: cmte_name, dtype: int64\n",
      "\n",
      "\n",
      "\n",
      "PLANNED PARENTHOOD ACTION FUND INC. PAC, DBA PLANNED PARENTHOOD FEDERAL PAC\n",
      "\n",
      "\n",
      "PLANNED PARENTHOOD ACTION FUND INC. PAC, DBA PLANNED PARENTHOOD FEDERAL PAC    306\n",
      "Name: cmte_name, dtype: int64\n",
      "\n",
      "\n",
      "\n",
      "AMERICAN HEALTH CARE ASSOCIATION POLITICAL ACTION COMMITTEE\n",
      "\n",
      "\n",
      "AMERICAN HEALTH CARE ASSOCIATION PAC    305\n",
      "Name: cmte_name, dtype: int64\n",
      "\n",
      "\n",
      "\n",
      "ASSOCIATED BUILDERS AND CONTRACTORS POLITICAL ACTION COMMITTEE (ABC PAC)\n",
      "\n",
      "\n",
      "ASSOCIATED BUILDERS AND CONTRACTORS PAC (ABC PAC)    305\n",
      "Name: cmte_name, dtype: int64\n",
      "\n",
      "\n",
      "\n",
      "MICHIGAN SUGAR COMPANY GROWERS POLITICAL ACTION COMMITTEE\n",
      "\n",
      "\n",
      "MICHIGAN SUGAR COMPANY GROWERS PAC    303\n",
      "Name: cmte_name, dtype: int64\n",
      "\n",
      "\n",
      "\n",
      "AMERICAN FINANCIAL SERVICES ASSOCIATION PAC\n",
      "\n",
      "\n",
      "AMERICAN FINANCIAL SERVICES ASSOCIATION PAC    300\n",
      "Name: cmte_name, dtype: int64\n",
      "\n",
      "\n",
      "\n",
      "MERCK & CO., INC., EMPLOYEES POLITICAL ACTION COMMITTEE (MERCK PAC)\n",
      "\n",
      "\n",
      "MERCK AND CO., INC., EMPLOYEES PAC (MERCK PAC)    298\n",
      "Name: cmte_name, dtype: int64\n",
      "\n",
      "\n",
      "\n",
      "AMERICAN HOTEL AND LODGING ASSOCIATION POLITICAL ACTION COMMITTEE ('HOTELPAC')\n",
      "\n",
      "\n",
      "AMERICAN HOTEL AND LODGING ASSOCIATION PAC ('HOTELPAC')    298\n",
      "Name: cmte_name, dtype: int64\n",
      "\n",
      "\n",
      "\n",
      "AMERICAN ACADEMY OF NEUROLOGY BRAINPAC\n",
      "\n",
      "\n",
      "AMERICAN ACADEMY OF NEUROLOGY BRAINPAC    297\n",
      "Name: cmte_name, dtype: int64\n",
      "\n",
      "\n",
      "\n",
      "UNITED MINE WORKERS OF AMERICA - COAL MINERS POLITICAL ACTION COMMITTEE\n",
      "\n",
      "\n",
      "UNITED MINE WORKERS OF AMERICA - COAL MINERS PAC    297\n",
      "Name: cmte_name, dtype: int64\n",
      "\n",
      "\n",
      "\n",
      "PRUDENTIAL FINANCIAL INC. FEDERAL POLITICAL ACTION COMMITTEE (AKA - PRUDENTIAL FEDERAL PAC)\n",
      "\n",
      "\n",
      "PRUDENTIAL FINANCIAL INC. FEDERAL PAC (AKA - PRUDENTIAL FEDERAL PAC)    297\n",
      "Name: cmte_name, dtype: int64\n",
      "\n",
      "\n",
      "\n",
      "EXELON CORPORATION POLITICAL ACTION COMMITTEE (EXELON PAC)\n",
      "\n",
      "\n",
      "EXELON CORP PAC (EXELON PAC)    297\n",
      "Name: cmte_name, dtype: int64\n",
      "\n",
      "\n",
      "\n",
      "TRANSPORT WORKERS UNION POLITICAL CONTRIBUTIONS COMMITTEE\n",
      "\n",
      "\n",
      "TRANSPORT WORKERS UNION POLITICAL CONTRIBUTIONS COMMITTEE    296\n",
      "Name: cmte_name, dtype: int64\n",
      "\n",
      "\n",
      "\n",
      "NARAL PRO-CHOICE AMERICA PAC\n",
      "\n",
      "\n",
      "NARAL PRO-CHOICE AMERICA PAC    294\n",
      "Name: cmte_name, dtype: int64\n",
      "\n",
      "\n",
      "\n",
      "USA PAC - UNITED FOR A STRONG AMERICA\n",
      "\n",
      "\n",
      "USA PAC - UNITED FOR A STRONG AMERICA    292\n",
      "Name: cmte_name, dtype: int64\n",
      "\n",
      "\n",
      "\n",
      "FOR OUR FUTURE\n",
      "\n",
      "\n",
      "FOR OUR FUTURE    292\n",
      "Name: cmte_name, dtype: int64\n",
      "\n",
      "\n",
      "\n",
      "NATIONAL RESTAURANT ASSOCIATION PAC (RESTAURANT PAC)\n",
      "\n",
      "\n",
      "NATIONAL RESTAURANT ASSOCIATION PAC (RESTAURANT PAC)    289\n",
      "Name: cmte_name, dtype: int64\n",
      "\n",
      "\n",
      "\n",
      "THE EYE OF THE TIGER POLITICAL ACTION COMMITTEE\n",
      "\n",
      "\n",
      "THE EYE OF THE TIGER PAC    286\n",
      "Name: cmte_name, dtype: int64\n",
      "\n",
      "\n",
      "\n",
      "NORFOLK SOUTHERN CORPORATION GOOD GOVERNMENT FUND\n",
      "\n",
      "\n",
      "NORFOLK SOUTHERN CORP GOOD GOVERNMENT FUND    285\n",
      "Name: cmte_name, dtype: int64\n",
      "\n",
      "\n",
      "\n",
      "JOHNSON & JOHNSON POLITICAL ACTION COMMITTEE\n",
      "\n",
      "\n",
      "JOHNSON AND JOHNSON PAC    285\n",
      "Name: cmte_name, dtype: int64\n",
      "\n",
      "\n",
      "\n",
      "EXPRESS SCRIPTS INC. POLITICAL FUND (A/K/A EXPRESS SCRIPTS PAC)\n",
      "\n",
      "\n",
      "EXPRESS SCRIPTS INC. POLITICAL FUND (A/K/A EXPRESS SCRIPTS PAC)    282\n",
      "Name: cmte_name, dtype: int64\n",
      "\n",
      "\n",
      "\n",
      "ELI LILLY AND COMPANY POLITICAL ACTION COMMITTEE\n",
      "\n",
      "\n",
      "ELI LILLY AND COMPANY PAC    281\n",
      "Name: cmte_name, dtype: int64\n",
      "\n",
      "\n",
      "\n",
      "TEXANS FOR JODEY ARRINGTON\n",
      "\n",
      "\n",
      "TEXANS FOR JODEY ARRINGTON    281\n",
      "Name: cmte_name, dtype: int64\n",
      "\n",
      "\n",
      "\n",
      "NATIONAL COMMUNITY PHARMACISTS ASSOCIATION - PAC\n",
      "\n",
      "\n",
      "NATIONAL COMMUNITY PHARMACISTS ASSOCIATION - PAC    281\n",
      "Name: cmte_name, dtype: int64\n",
      "\n",
      "\n",
      "\n",
      "REGIONS FINANCIAL CORPORATION POLITICAL ACTION COMMITTEE\n",
      "\n",
      "\n",
      "REGIONS FINANCIAL CORP PAC    280\n",
      "Name: cmte_name, dtype: int64\n",
      "\n",
      "\n",
      "\n",
      "AMERICAN AIRLINES INC. POLITICAL ACTION COMMITTEE (AAPAC)\n",
      "\n",
      "\n",
      "AMERICAN AIRLINES INC. PAC (AAPAC)    278\n",
      "Name: cmte_name, dtype: int64\n",
      "\n",
      "\n",
      "\n",
      "SNAKE RIVER SUGAR COMPANY POLITICAL ACTION COMMITTEE\n",
      "\n",
      "\n",
      "SNAKE RIVER SUGAR COMPANY PAC    276\n",
      "Name: cmte_name, dtype: int64\n",
      "\n",
      "\n",
      "\n",
      "BEND THE ARC JEWISH ACTION INC. PAC\n",
      "\n",
      "\n",
      "BEND THE ARC JEWISH ACTION INC. PAC    274\n",
      "Name: cmte_name, dtype: int64\n",
      "\n",
      "\n",
      "\n",
      "AMERICAN MARITIME OFFICERS VOLUNTARY POLITICAL ACTION FUND\n",
      "\n",
      "\n",
      "AMERICAN MARITIME OFFICERS VOLUNTARY POLITICAL ACTION FUND    273\n",
      "Name: cmte_name, dtype: int64\n",
      "\n",
      "\n",
      "\n",
      "TRUCKING POLITICAL ACTION COMMITTEE OF THE AMERICAN TRUCKING ASSOCIATIONS INC.\n",
      "\n",
      "\n",
      "TRUCKING PAC OF THE AMERICAN TRUCKING ASSOCIATIONS INC.    273\n",
      "Name: cmte_name, dtype: int64\n",
      "\n",
      "\n",
      "\n"
     ]
    },
    {
     "ename": "KeyError",
     "evalue": "'C00330894'",
     "output_type": "error",
     "traceback": [
      "\u001b[0;31m---------------------------------------------------------------------------\u001b[0m",
      "\u001b[0;31mKeyError\u001b[0m                                  Traceback (most recent call last)",
      "\u001b[0;32m<ipython-input-16-3b9fc8d8d3a3>\u001b[0m in \u001b[0;36m<module>\u001b[0;34m\u001b[0m\n\u001b[1;32m      2\u001b[0m     \u001b[0mlil_pas\u001b[0m \u001b[0;34m=\u001b[0m \u001b[0mpas\u001b[0m\u001b[0;34m[\u001b[0m\u001b[0mpas\u001b[0m\u001b[0;34m[\u001b[0m\u001b[0;34m'cmte_id'\u001b[0m\u001b[0;34m]\u001b[0m \u001b[0;34m==\u001b[0m \u001b[0mcmte_id\u001b[0m\u001b[0;34m]\u001b[0m\u001b[0;34m\u001b[0m\u001b[0;34m\u001b[0m\u001b[0m\n\u001b[1;32m      3\u001b[0m     \u001b[0mnames\u001b[0m \u001b[0;34m=\u001b[0m \u001b[0mlil_pas\u001b[0m\u001b[0;34m[\u001b[0m\u001b[0;34m'cmte_name'\u001b[0m\u001b[0;34m]\u001b[0m\u001b[0;34m.\u001b[0m\u001b[0mvalue_counts\u001b[0m\u001b[0;34m(\u001b[0m\u001b[0;34m)\u001b[0m\u001b[0;34m\u001b[0m\u001b[0;34m\u001b[0m\u001b[0m\n\u001b[0;32m----> 4\u001b[0;31m     \u001b[0mprint\u001b[0m\u001b[0;34m(\u001b[0m\u001b[0mcm_dict\u001b[0m\u001b[0;34m[\u001b[0m\u001b[0mcmte_id\u001b[0m\u001b[0;34m]\u001b[0m\u001b[0;34m)\u001b[0m\u001b[0;34m\u001b[0m\u001b[0;34m\u001b[0m\u001b[0m\n\u001b[0m\u001b[1;32m      5\u001b[0m     \u001b[0mprint\u001b[0m\u001b[0;34m(\u001b[0m\u001b[0;34m'\\n'\u001b[0m\u001b[0;34m)\u001b[0m\u001b[0;34m\u001b[0m\u001b[0;34m\u001b[0m\u001b[0m\n\u001b[1;32m      6\u001b[0m     \u001b[0mprint\u001b[0m\u001b[0;34m(\u001b[0m\u001b[0mnames\u001b[0m\u001b[0;34m)\u001b[0m\u001b[0;34m\u001b[0m\u001b[0;34m\u001b[0m\u001b[0m\n",
      "\u001b[0;31mKeyError\u001b[0m: 'C00330894'"
     ]
    }
   ],
   "source": [
    "for cmte_id in list(pas['cmte_id'].value_counts().index):\n",
    "    lil_pas = pas[pas['cmte_id'] == cmte_id]\n",
    "    names = lil_pas['cmte_name'].value_counts()\n",
    "    print(cm_dict[cmte_id])\n",
    "    print('\\n')\n",
    "    print(names)\n",
    "    print('\\n\\n')"
   ]
  },
  {
   "cell_type": "code",
   "execution_count": 10,
   "metadata": {},
   "outputs": [
    {
     "data": {
      "text/plain": [
       "PROGRESSIVE TURNOUT PROJECT                                     3218\n",
       "COURAGE CAMPAIGN SUPER PAC                                      2462\n",
       "NATIONAL AIR TRAFFIC CONTROLLERS ASSOCIATION PAC                2213\n",
       "WORKING AMERICA                                                 2085\n",
       "LOCKHEED MARTIN CORP EMPLOYEES' PAC                             1934\n",
       "DCCC                                                            1934\n",
       "MOVEON.ORG POLITICAL ACTION                                     1885\n",
       "NATIONAL RIFLE ASSOCIATION OF AMERICA POLITICAL VICTORY FUND    1631\n",
       "THE BOEING COMPANY PAC                                          1613\n",
       "NATIONAL ASSOCIATION OF REALTORS PAC                            1575\n",
       "Name: cmte_name, dtype: int64"
      ]
     },
     "execution_count": 10,
     "metadata": {},
     "output_type": "execute_result"
    }
   ],
   "source": [
    "pas['cmte_name'].value_counts()[:10]"
   ]
  },
  {
   "cell_type": "code",
   "execution_count": null,
   "metadata": {},
   "outputs": [],
   "source": [
    "def findall(name):\n",
    "    '''find pattern in treasurer names columns'''\n",
    "    all_name = list(set(pas['name']))\n",
    "    if type(name) == str:\n",
    "        these = [x for x in all_name if name.lower() in str(x).lower()]\n",
    "    else:  \n",
    "        these = all_name\n",
    "        for which in name:\n",
    "            these = [x for x in these if which in str(x).lower()]\n",
    "    return sorted(these)"
   ]
  },
  {
   "cell_type": "code",
   "execution_count": null,
   "metadata": {},
   "outputs": [],
   "source": [
    "lil_pas = pas[pas['transaction_tp'].apply(lambda x: x in [\n",
    "    'Independent expenditure opposing election of candidate', \n",
    "    'Independent expenditure advocating election of candidate', \n",
    "    'Coordinated party expenditure',\n",
    "])]\n",
    "lil_pas['name'].value_counts()[:50]"
   ]
  },
  {
   "cell_type": "code",
   "execution_count": null,
   "metadata": {},
   "outputs": [],
   "source": []
  },
  {
   "cell_type": "code",
   "execution_count": null,
   "metadata": {
    "scrolled": false
   },
   "outputs": [],
   "source": [
    "data = []\n",
    "labels = list(set(pas.loc[pd.notnull(pas['cand_id']), 'transaction_tp']))\n",
    "for which in labels:\n",
    "    lil_pas = pas[pd.notnull(pas['cand_id']) & (pas['transaction_tp'] == which)]\n",
    "    data.append(lil_pas['transaction_amt']/1.0E6)\n",
    "    print(which)\n",
    "    print('count:', len(lil_pas))\n",
    "    print('unique:', len(lil_pas['name'].value_counts()))\n",
    "    print('median:', lil_pas['transaction_amt'].median())\n",
    "    print('mean:', lil_pas['transaction_amt'].mean())\n",
    "    print('std dev:', lil_pas['transaction_amt'].std())\n",
    "    print(lil_pas['name'].value_counts()[:10])\n",
    "    print('\\n')\n",
    "\n",
    "plt.figure(figsize = (20, 2))\n",
    "\n",
    "plt.boxplot(data, vert = False)\n",
    "plt.yticks(range(1, len(labels) + 1), labels, fontsize = 12)\n",
    "plt.xlabel('$MM USD')\n",
    "\n",
    "plt.show();"
   ]
  },
  {
   "cell_type": "markdown",
   "metadata": {},
   "source": [
    "### Split dataframe, dedupe 'name' column"
   ]
  },
  {
   "cell_type": "code",
   "execution_count": null,
   "metadata": {},
   "outputs": [],
   "source": [
    "def findall(name):\n",
    "    '''find pattern in treasurer names columns'''\n",
    "    all_name = list(set(pas['name']))\n",
    "    if type(name) == str:\n",
    "        these = [x for x in all_name if name.lower() in str(x).lower()]\n",
    "    else:  \n",
    "        these = all_name\n",
    "        for which in name:\n",
    "            these = [x for x in these if which in str(x).lower()]\n",
    "    return sorted(these)"
   ]
  },
  {
   "cell_type": "code",
   "execution_count": null,
   "metadata": {},
   "outputs": [],
   "source": [
    "lil_pas = pas[pas['transaction_tp'].apply(lambda x: x in [\n",
    "    'Independent expenditure opposing election of candidate', \n",
    "    'Independent expenditure advocating election of candidate', \n",
    "    'Coordinated party expenditure',\n",
    "])]\n",
    "lil_pas['name'].value_counts()[:50]"
   ]
  },
  {
   "cell_type": "code",
   "execution_count": null,
   "metadata": {},
   "outputs": [],
   "source": [
    "findall('courage')"
   ]
  },
  {
   "cell_type": "code",
   "execution_count": null,
   "metadata": {},
   "outputs": [],
   "source": [
    "findall(['face', 'book'])"
   ]
  },
  {
   "cell_type": "code",
   "execution_count": null,
   "metadata": {},
   "outputs": [],
   "source": [
    "pas.loc[pas['name'].apply(lambda x: 'FACEBOOK' in x), 'name'] = 'FACEBOOK'"
   ]
  },
  {
   "cell_type": "code",
   "execution_count": null,
   "metadata": {},
   "outputs": [],
   "source": [
    "findall(['water', 'front'])"
   ]
  },
  {
   "cell_type": "code",
   "execution_count": null,
   "metadata": {},
   "outputs": [],
   "source": [
    "findall('bully')"
   ]
  },
  {
   "cell_type": "code",
   "execution_count": null,
   "metadata": {},
   "outputs": [],
   "source": [
    "findall(['house', 'freedom'])"
   ]
  },
  {
   "cell_type": "code",
   "execution_count": null,
   "metadata": {},
   "outputs": [],
   "source": [
    "findall('twilio')"
   ]
  },
  {
   "cell_type": "code",
   "execution_count": null,
   "metadata": {},
   "outputs": [],
   "source": [
    "findall(['club', 'growth'])"
   ]
  },
  {
   "cell_type": "code",
   "execution_count": null,
   "metadata": {},
   "outputs": [],
   "source": [
    "pas.loc[pas['name'].apply(lambda x: 'CLUB FOR GROWTH' in x), 'name'].value_counts()"
   ]
  },
  {
   "cell_type": "code",
   "execution_count": null,
   "metadata": {},
   "outputs": [],
   "source": [
    "findall('cfg')"
   ]
  },
  {
   "cell_type": "code",
   "execution_count": null,
   "metadata": {},
   "outputs": [],
   "source": [
    "pas.loc[pas['name'].apply(lambda x: ('CLUB FOR GROWTH' in x) | ('CFG' in x)), 'name'] = 'CLUB FOR GROWTH (umbrella)'"
   ]
  },
  {
   "cell_type": "code",
   "execution_count": null,
   "metadata": {},
   "outputs": [],
   "source": [
    "findall(['metro', 'strat'])"
   ]
  },
  {
   "cell_type": "code",
   "execution_count": null,
   "metadata": {},
   "outputs": [],
   "source": [
    "findall(['right', 'country'])"
   ]
  },
  {
   "cell_type": "code",
   "execution_count": null,
   "metadata": {},
   "outputs": [],
   "source": [
    "findall('nebo')"
   ]
  },
  {
   "cell_type": "code",
   "execution_count": null,
   "metadata": {},
   "outputs": [],
   "source": [
    "findall(['senate', 'conserv'])"
   ]
  },
  {
   "cell_type": "code",
   "execution_count": null,
   "metadata": {},
   "outputs": [],
   "source": [
    "findall('indivisible')"
   ]
  },
  {
   "cell_type": "code",
   "execution_count": null,
   "metadata": {},
   "outputs": [],
   "source": [
    "findall(['pro', 'list'])"
   ]
  },
  {
   "cell_type": "code",
   "execution_count": null,
   "metadata": {},
   "outputs": [],
   "source": [
    "pas.loc[pas['name'].apply(lambda x: 'PROLIST' in x), 'name'].value_counts()"
   ]
  },
  {
   "cell_type": "code",
   "execution_count": null,
   "metadata": {},
   "outputs": [],
   "source": [
    "pas.loc[pas['name'].apply(lambda x: 'PROLIST' in x), 'name'] = 'PROLIST'"
   ]
  },
  {
   "cell_type": "code",
   "execution_count": null,
   "metadata": {},
   "outputs": [],
   "source": [
    "findall('hustle')"
   ]
  },
  {
   "cell_type": "code",
   "execution_count": null,
   "metadata": {},
   "outputs": [],
   "source": [
    "findall('skd')"
   ]
  },
  {
   "cell_type": "code",
   "execution_count": null,
   "metadata": {},
   "outputs": [],
   "source": [
    "pas.loc[pas['name'].apply(lambda x: 'SKD' in x), 'name'].value_counts()"
   ]
  },
  {
   "cell_type": "code",
   "execution_count": null,
   "metadata": {},
   "outputs": [],
   "source": [
    "pas.loc[pas['name'].apply(lambda x: 'SKD' in x), 'name'] = 'SKDKNICKERBOCKER'"
   ]
  },
  {
   "cell_type": "code",
   "execution_count": null,
   "metadata": {},
   "outputs": [],
   "source": [
    "findall('sierra club')"
   ]
  },
  {
   "cell_type": "code",
   "execution_count": null,
   "metadata": {},
   "outputs": [],
   "source": [
    "findall('pivot')"
   ]
  },
  {
   "cell_type": "code",
   "execution_count": null,
   "metadata": {},
   "outputs": [],
   "source": [
    "pas.loc[pas['name'].apply(lambda x: 'PIVOT' in x), 'name'].value_counts()"
   ]
  },
  {
   "cell_type": "code",
   "execution_count": null,
   "metadata": {},
   "outputs": [],
   "source": [
    "pas.loc[pas['name'].apply(lambda x: 'PIVOT' in x), 'name'] = 'THE PIVOT GROUP'"
   ]
  },
  {
   "cell_type": "code",
   "execution_count": null,
   "metadata": {},
   "outputs": [],
   "source": [
    "findall('alliance')"
   ]
  },
  {
   "cell_type": "code",
   "execution_count": null,
   "metadata": {},
   "outputs": [],
   "source": [
    "findall('pdq')"
   ]
  },
  {
   "cell_type": "code",
   "execution_count": null,
   "metadata": {},
   "outputs": [],
   "source": [
    "findall(['maj', 'strat'])"
   ]
  },
  {
   "cell_type": "code",
   "execution_count": null,
   "metadata": {},
   "outputs": [],
   "source": [
    "pas.loc[pas['name'] == 'MAJORITIES STRATEGIES', 'name'] = 'MAJORITY STRATEGIES'"
   ]
  },
  {
   "cell_type": "code",
   "execution_count": null,
   "metadata": {},
   "outputs": [],
   "source": [
    "findall(['next', 'gen'])"
   ]
  },
  {
   "cell_type": "code",
   "execution_count": null,
   "metadata": {},
   "outputs": [],
   "source": [
    "findall('deliver')"
   ]
  },
  {
   "cell_type": "code",
   "execution_count": null,
   "metadata": {},
   "outputs": [],
   "source": [
    "findall('every')"
   ]
  },
  {
   "cell_type": "code",
   "execution_count": null,
   "metadata": {},
   "outputs": [],
   "source": [
    "findall('mother')"
   ]
  },
  {
   "cell_type": "code",
   "execution_count": null,
   "metadata": {},
   "outputs": [],
   "source": [
    "findall('spaff')"
   ]
  },
  {
   "cell_type": "code",
   "execution_count": null,
   "metadata": {},
   "outputs": [],
   "source": [
    "findall(['forth', 'right'])"
   ]
  },
  {
   "cell_type": "code",
   "execution_count": null,
   "metadata": {},
   "outputs": [],
   "source": [
    "findall('lincoln')"
   ]
  },
  {
   "cell_type": "code",
   "execution_count": null,
   "metadata": {},
   "outputs": [],
   "source": [
    "findall('humane')"
   ]
  },
  {
   "cell_type": "code",
   "execution_count": null,
   "metadata": {},
   "outputs": [],
   "source": [
    "findall('360')"
   ]
  },
  {
   "cell_type": "code",
   "execution_count": null,
   "metadata": {},
   "outputs": [],
   "source": [
    "pas.loc[pas['name'].apply(lambda x: 'I360' in x), 'name'] = 'I360'"
   ]
  },
  {
   "cell_type": "code",
   "execution_count": null,
   "metadata": {},
   "outputs": [],
   "source": [
    "findall('fp1')"
   ]
  },
  {
   "cell_type": "code",
   "execution_count": null,
   "metadata": {},
   "outputs": [],
   "source": [
    "pas.loc[pas['name'].apply(lambda x: 'FP1' in x), 'name'].value_counts()"
   ]
  },
  {
   "cell_type": "code",
   "execution_count": null,
   "metadata": {},
   "outputs": [],
   "source": [
    "pas.loc[pas['name'].apply(lambda x: 'FP1' in x), 'name'] = 'FP1 STRATEGIES'"
   ]
  },
  {
   "cell_type": "code",
   "execution_count": null,
   "metadata": {},
   "outputs": [],
   "source": [
    "findall('solidarity')"
   ]
  },
  {
   "cell_type": "code",
   "execution_count": null,
   "metadata": {},
   "outputs": [],
   "source": [
    "findall('groundbase')"
   ]
  },
  {
   "cell_type": "code",
   "execution_count": null,
   "metadata": {},
   "outputs": [],
   "source": [
    "pas.loc[pas['name'].apply(lambda x: 'SOLIDARITY COMPANY' in x), 'name'] = 'GROUNDBASE/SOLIDARITY COMPANY'\n",
    "pas.loc[pas['name'].apply(lambda x: 'GROUNDBASE' in x), 'name'] = 'GROUNDBASE/SOLIDARITY COMPANY'"
   ]
  },
  {
   "cell_type": "code",
   "execution_count": null,
   "metadata": {},
   "outputs": [],
   "source": [
    "findall(['blue', 'print'])"
   ]
  },
  {
   "cell_type": "code",
   "execution_count": null,
   "metadata": {},
   "outputs": [],
   "source": [
    "pas.loc[pas['name'].apply(lambda x: ('BLUE' in x) & ('PRINT INTER' in x)), 'name'].value_counts()"
   ]
  },
  {
   "cell_type": "code",
   "execution_count": null,
   "metadata": {},
   "outputs": [],
   "source": [
    "pas.loc[pas['name'] == 'BLUE PRINT INTERACTIVE', 'name'] = 'BLUEPRINT INTERACTIVE'"
   ]
  },
  {
   "cell_type": "code",
   "execution_count": null,
   "metadata": {},
   "outputs": [],
   "source": [
    "findall(['demo', 'live'])"
   ]
  },
  {
   "cell_type": "code",
   "execution_count": null,
   "metadata": {},
   "outputs": [],
   "source": [
    "findall(['conn', 'strat'])"
   ]
  },
  {
   "cell_type": "code",
   "execution_count": null,
   "metadata": {},
   "outputs": [],
   "source": [
    "findall(['creative', 'dir'])"
   ]
  },
  {
   "cell_type": "code",
   "execution_count": null,
   "metadata": {},
   "outputs": [],
   "source": [
    "findall(['del', 'ray'])"
   ]
  },
  {
   "cell_type": "code",
   "execution_count": null,
   "metadata": {},
   "outputs": [],
   "source": [
    "findall(['texas', 'org'])"
   ]
  },
  {
   "cell_type": "code",
   "execution_count": null,
   "metadata": {},
   "outputs": [],
   "source": [
    "findall(['pay', 'chex'])"
   ]
  },
  {
   "cell_type": "code",
   "execution_count": null,
   "metadata": {},
   "outputs": [],
   "source": [
    "findall('imge')"
   ]
  },
  {
   "cell_type": "code",
   "execution_count": null,
   "metadata": {},
   "outputs": [],
   "source": [
    "findall('unite here')"
   ]
  },
  {
   "cell_type": "code",
   "execution_count": null,
   "metadata": {},
   "outputs": [],
   "source": [
    "pas.loc[pas['name'].apply(lambda x: 'UNITE HERE' in x), 'name'].value_counts()"
   ]
  },
  {
   "cell_type": "code",
   "execution_count": null,
   "metadata": {},
   "outputs": [],
   "source": [
    "pas.loc[pas['name'].apply(lambda x: 'UNITE HERE' in x), 'name'] = 'UNITE HERE TIP STATE AND LOCAL FUND'"
   ]
  },
  {
   "cell_type": "code",
   "execution_count": null,
   "metadata": {},
   "outputs": [],
   "source": [
    "findall('amplify')"
   ]
  },
  {
   "cell_type": "code",
   "execution_count": null,
   "metadata": {},
   "outputs": [],
   "source": [
    "pas.loc[pas['name'].apply(lambda x: 'AMPLIFY' in x), 'name'].value_counts()"
   ]
  },
  {
   "cell_type": "code",
   "execution_count": null,
   "metadata": {},
   "outputs": [],
   "source": [
    "pas.loc[pas['name'].apply(lambda x: 'AMPLIFY' in x), 'name'] = 'AMPLIFY MEDIA'"
   ]
  },
  {
   "cell_type": "code",
   "execution_count": null,
   "metadata": {},
   "outputs": [],
   "source": [
    "findall('consolidate')"
   ]
  },
  {
   "cell_type": "code",
   "execution_count": null,
   "metadata": {},
   "outputs": [],
   "source": [
    "pas.loc[pas['name'] == 'CONSOLIDATED MAILING SERVICE', 'name'] = 'CONSOLIDATED MAILING SERVICES'"
   ]
  },
  {
   "cell_type": "code",
   "execution_count": null,
   "metadata": {},
   "outputs": [],
   "source": [
    "findall('for our')"
   ]
  },
  {
   "cell_type": "code",
   "execution_count": null,
   "metadata": {},
   "outputs": [],
   "source": [
    "findall(['master', 'print'])"
   ]
  },
  {
   "cell_type": "code",
   "execution_count": null,
   "metadata": {},
   "outputs": [],
   "source": [
    "findall('arena')"
   ]
  },
  {
   "cell_type": "code",
   "execution_count": null,
   "metadata": {},
   "outputs": [],
   "source": [
    "pas.loc[pas['name'].apply(lambda x: 'ARENA' in x), 'name'].value_counts()"
   ]
  },
  {
   "cell_type": "code",
   "execution_count": null,
   "metadata": {},
   "outputs": [],
   "source": [
    "findall('main street')"
   ]
  },
  {
   "cell_type": "code",
   "execution_count": null,
   "metadata": {},
   "outputs": [],
   "source": [
    "findall('mission')"
   ]
  },
  {
   "cell_type": "code",
   "execution_count": null,
   "metadata": {},
   "outputs": [],
   "source": [
    "findall('lukens')"
   ]
  },
  {
   "cell_type": "code",
   "execution_count": null,
   "metadata": {},
   "outputs": [],
   "source": [
    "pas.loc[pas['name'].apply(lambda x: 'LUKENS' in x), 'name'].value_counts()"
   ]
  },
  {
   "cell_type": "code",
   "execution_count": null,
   "metadata": {},
   "outputs": [],
   "source": [
    "pas.loc[pas['name'].apply(lambda x: 'LUKENS' in x), 'name'] = 'THE LUKENS COMPANY'"
   ]
  },
  {
   "cell_type": "code",
   "execution_count": null,
   "metadata": {},
   "outputs": [],
   "source": [
    "findall('sage media')"
   ]
  },
  {
   "cell_type": "code",
   "execution_count": null,
   "metadata": {},
   "outputs": [],
   "source": [
    "findall(['league', 'cons'])"
   ]
  },
  {
   "cell_type": "code",
   "execution_count": null,
   "metadata": {},
   "outputs": [],
   "source": [
    "pas.loc[pas['name'].apply(lambda x: 'LEAGUE OF CONSERVATION VOTERS' in x), 'name'].value_counts()"
   ]
  },
  {
   "cell_type": "code",
   "execution_count": null,
   "metadata": {},
   "outputs": [],
   "source": [
    "pas.loc[pas['name'].apply(lambda x: 'LEAGUE OF CONSERVATION VOTERS' in x), 'name'] = \\\n",
    "'LEAGUE OF CONSERVATION VOTERS'"
   ]
  },
  {
   "cell_type": "code",
   "execution_count": null,
   "metadata": {},
   "outputs": [],
   "source": [
    "lil_pas = pas[pas['transaction_tp'].apply(lambda x: x in [\n",
    "    'Independent expenditure opposing election of candidate', \n",
    "    'Independent expenditure advocating election of candidate', \n",
    "    'Coordinated party expenditure',\n",
    "])]\n",
    "lil_pas['name'].value_counts()[:50]"
   ]
  },
  {
   "cell_type": "code",
   "execution_count": null,
   "metadata": {},
   "outputs": [],
   "source": [
    "lil_pas = pas[pas['transaction_tp'].apply(lambda x: x in [\n",
    "    'Independent expenditure opposing election of candidate', \n",
    "    'Independent expenditure advocating election of candidate', \n",
    "    'Coordinated party expenditure',\n",
    "])]\n",
    "lil_pas['name'].value_counts()[50:100]"
   ]
  },
  {
   "cell_type": "code",
   "execution_count": null,
   "metadata": {},
   "outputs": [],
   "source": [
    "findall('allegiance')"
   ]
  },
  {
   "cell_type": "code",
   "execution_count": null,
   "metadata": {},
   "outputs": [],
   "source": [
    "findall('resonance')"
   ]
  },
  {
   "cell_type": "code",
   "execution_count": null,
   "metadata": {},
   "outputs": [],
   "source": [
    "findall(['strategy group'])"
   ]
  },
  {
   "cell_type": "code",
   "execution_count": null,
   "metadata": {},
   "outputs": [],
   "source": [
    "pas.loc[pas['name'] == 'MOSIAC MEDIA STRATEGY GROUP', 'name'] = 'MOSAIC MEDIA STRATEGY GROUP'"
   ]
  },
  {
   "cell_type": "code",
   "execution_count": null,
   "metadata": {},
   "outputs": [],
   "source": [
    "pas.loc[pas['name'] == 'STRATEGY GROUP FOR MEDIA', 'name'] = 'THE STRATEGY GROUP FOR MEDIA'\n",
    "pas.loc[pas['name'].apply(lambda x: 'THE STRATEGY GROUP' in x), 'name'].value_counts()"
   ]
  },
  {
   "cell_type": "code",
   "execution_count": null,
   "metadata": {},
   "outputs": [],
   "source": [
    "pas.loc[pas['name'].apply(lambda x: 'THE STRATEGY GROUP' in x), 'name'] = 'THE STRATEGY GROUP'"
   ]
  },
  {
   "cell_type": "code",
   "execution_count": null,
   "metadata": {},
   "outputs": [],
   "source": [
    "findall(['spoken', 'hub'])"
   ]
  },
  {
   "cell_type": "code",
   "execution_count": null,
   "metadata": {},
   "outputs": [],
   "source": [
    "pas.loc[pas['name'].apply(lambda x: 'SPOKEN HUB' in x), 'name'].value_counts()"
   ]
  },
  {
   "cell_type": "code",
   "execution_count": null,
   "metadata": {},
   "outputs": [],
   "source": [
    "pas.loc[pas['name'].apply(lambda x: 'SPOKEN HUB' in x), 'name'] = 'THE SPOKEN HUB'"
   ]
  },
  {
   "cell_type": "code",
   "execution_count": null,
   "metadata": {},
   "outputs": [],
   "source": [
    "findall(['stone', 'ridge'])"
   ]
  },
  {
   "cell_type": "code",
   "execution_count": null,
   "metadata": {},
   "outputs": [],
   "source": [
    "pas.loc[pas['name'].apply(lambda x: 'STONERIDGE' in x), 'name'].value_counts()"
   ]
  },
  {
   "cell_type": "code",
   "execution_count": null,
   "metadata": {},
   "outputs": [],
   "source": [
    "pas.loc[pas['name'].apply(lambda x: 'STONERIDGE' in x), 'name'] = 'THE STONERIDGE GROUP'"
   ]
  },
  {
   "cell_type": "code",
   "execution_count": null,
   "metadata": {},
   "outputs": [],
   "source": [
    "findall('priorities')"
   ]
  },
  {
   "cell_type": "code",
   "execution_count": null,
   "metadata": {},
   "outputs": [],
   "source": [
    "findall('dssi')"
   ]
  },
  {
   "cell_type": "code",
   "execution_count": null,
   "metadata": {},
   "outputs": [],
   "source": [
    "findall(['conserv', 'connect'])"
   ]
  },
  {
   "cell_type": "code",
   "execution_count": null,
   "metadata": {},
   "outputs": [],
   "source": [
    "findall(['rev', 'com'])"
   ]
  },
  {
   "cell_type": "code",
   "execution_count": null,
   "metadata": {},
   "outputs": [],
   "source": [
    "pas.loc[pas['name'] == 'REV COM', 'name'] = 'REV.COM'"
   ]
  },
  {
   "cell_type": "code",
   "execution_count": null,
   "metadata": {},
   "outputs": [],
   "source": [
    "findall(['pin', 'point'])"
   ]
  },
  {
   "cell_type": "code",
   "execution_count": null,
   "metadata": {},
   "outputs": [],
   "source": [
    "pas.loc[pas['name'].apply(lambda x: 'PINPOINT WEB' in x), 'name'].value_counts()"
   ]
  },
  {
   "cell_type": "code",
   "execution_count": null,
   "metadata": {},
   "outputs": [],
   "source": [
    "pas.loc[pas['name'].apply(lambda x: 'PINPOINT WEB' in x), 'name'] = 'PINPOINT WEBSOLUTIONS'"
   ]
  },
  {
   "cell_type": "code",
   "execution_count": null,
   "metadata": {},
   "outputs": [],
   "source": [
    "findall(['rev', 'messag'])"
   ]
  },
  {
   "cell_type": "code",
   "execution_count": null,
   "metadata": {},
   "outputs": [],
   "source": [
    "findall('google')"
   ]
  },
  {
   "cell_type": "code",
   "execution_count": null,
   "metadata": {},
   "outputs": [],
   "source": [
    "pas.loc[pas['name'].apply(lambda x: 'GOOGLE' in x), 'name'] = 'GOOGLE'"
   ]
  },
  {
   "cell_type": "code",
   "execution_count": null,
   "metadata": {},
   "outputs": [],
   "source": [
    "findall('interactive')"
   ]
  },
  {
   "cell_type": "code",
   "execution_count": null,
   "metadata": {},
   "outputs": [],
   "source": [
    "findall('postal')"
   ]
  },
  {
   "cell_type": "code",
   "execution_count": null,
   "metadata": {},
   "outputs": [],
   "source": [
    "findall('usps')"
   ]
  },
  {
   "cell_type": "code",
   "execution_count": null,
   "metadata": {},
   "outputs": [],
   "source": [
    "pas.loc[pas['name'].apply(lambda x: ('POSTAL' in x) | ('USPS' in x)), 'name'] = 'UNITED STATES POSTAL SERVICE'"
   ]
  },
  {
   "cell_type": "code",
   "execution_count": null,
   "metadata": {},
   "outputs": [],
   "source": [
    "findall('western')"
   ]
  },
  {
   "cell_type": "code",
   "execution_count": null,
   "metadata": {},
   "outputs": [],
   "source": [
    "pas.loc[pas['name'].apply(lambda x: 'BEST WESTERN' in x), 'name'] = 'BEST WESTERN'"
   ]
  },
  {
   "cell_type": "code",
   "execution_count": null,
   "metadata": {},
   "outputs": [],
   "source": [
    "findall('target')"
   ]
  },
  {
   "cell_type": "code",
   "execution_count": null,
   "metadata": {},
   "outputs": [],
   "source": [
    "pas.loc[pas['name'].apply(lambda x: 'MICRO TARGETING' in x), 'name'] = 'ADVANCED MICRO TARGETING'\n",
    "pas.loc[pas['name'].apply(lambda x: 'TARGETED VICOTRY' in x), 'name'] = 'TARGETED VICTORY'\n",
    "pas.loc[pas['name'].apply(lambda x: 'TARGETSMART' in x), 'name'] = 'TARGETSMART'\n",
    "pas.loc[\n",
    "    (pas['name'] == 'TARGET') | \\\n",
    "    (pas['name'] == 'TARGET COM') | \\\n",
    "    (pas['name'] == 'TARGET STORES'), 'name'] = 'TARGET CORP'"
   ]
  },
  {
   "cell_type": "code",
   "execution_count": null,
   "metadata": {},
   "outputs": [],
   "source": [
    "findall('ppws')"
   ]
  },
  {
   "cell_type": "code",
   "execution_count": null,
   "metadata": {},
   "outputs": [],
   "source": [
    "pas.loc[pas['name'].apply(lambda x: 'PPWS' in x), 'name'].value_counts()"
   ]
  },
  {
   "cell_type": "code",
   "execution_count": null,
   "metadata": {},
   "outputs": [],
   "source": [
    "pas.loc[pas['name'].apply(lambda x: 'PPWS' in x), 'name'] = 'PPWS'"
   ]
  },
  {
   "cell_type": "code",
   "execution_count": null,
   "metadata": {},
   "outputs": [],
   "source": [
    "findall('ralston')"
   ]
  },
  {
   "cell_type": "code",
   "execution_count": null,
   "metadata": {},
   "outputs": [],
   "source": [
    "pas.loc[pas['name'].apply(lambda x: 'RALSTON' in x), 'name'].value_counts()"
   ]
  },
  {
   "cell_type": "code",
   "execution_count": null,
   "metadata": {},
   "outputs": [],
   "source": [
    "pas.loc[pas['name'].apply(lambda x: 'RALSTON' in x), 'name'] = 'RALSTON LAPP MEDIA'"
   ]
  },
  {
   "cell_type": "code",
   "execution_count": null,
   "metadata": {},
   "outputs": [],
   "source": [
    "findall(['columbia', 'road'])"
   ]
  },
  {
   "cell_type": "code",
   "execution_count": null,
   "metadata": {},
   "outputs": [],
   "source": [
    "findall(['campaign', 'funding'])"
   ]
  },
  {
   "cell_type": "code",
   "execution_count": null,
   "metadata": {},
   "outputs": [],
   "source": [
    "findall(['federal', 'capit'])"
   ]
  },
  {
   "cell_type": "code",
   "execution_count": null,
   "metadata": {},
   "outputs": [],
   "source": [
    "findall('fccc')"
   ]
  },
  {
   "cell_type": "code",
   "execution_count": null,
   "metadata": {},
   "outputs": [],
   "source": [
    "findall('bend')"
   ]
  },
  {
   "cell_type": "code",
   "execution_count": null,
   "metadata": {},
   "outputs": [],
   "source": [
    "pas.loc[pas['name'].apply(lambda x: 'BRABENDER' in x), 'name'].value_counts()"
   ]
  },
  {
   "cell_type": "code",
   "execution_count": null,
   "metadata": {},
   "outputs": [],
   "source": [
    "pas.loc[pas['name'].apply(lambda x: 'BRABENDER' in x), 'name'] = 'BRABENDER COX'"
   ]
  },
  {
   "cell_type": "code",
   "execution_count": null,
   "metadata": {},
   "outputs": [],
   "source": [
    "findall('paramount')"
   ]
  },
  {
   "cell_type": "code",
   "execution_count": null,
   "metadata": {},
   "outputs": [],
   "source": [
    "pas.loc[pas['name'].apply(lambda x: 'PARAMOUNT COMM' in x), 'name'].value_counts()"
   ]
  },
  {
   "cell_type": "code",
   "execution_count": null,
   "metadata": {},
   "outputs": [],
   "source": [
    "pas.loc[pas['name'].apply(lambda x: 'PARAMOUNT COMM' in x), 'name'] = 'PARAMOUNT COMMUNICATIONS'"
   ]
  },
  {
   "cell_type": "code",
   "execution_count": null,
   "metadata": {},
   "outputs": [],
   "source": [
    "findall('paramount')"
   ]
  },
  {
   "cell_type": "code",
   "execution_count": null,
   "metadata": {},
   "outputs": [],
   "source": [
    "findall('direct support')"
   ]
  },
  {
   "cell_type": "code",
   "execution_count": null,
   "metadata": {},
   "outputs": [],
   "source": [
    "findall(['great', 'america'])"
   ]
  },
  {
   "cell_type": "code",
   "execution_count": null,
   "metadata": {},
   "outputs": [],
   "source": [
    "findall(['political', 'data'])"
   ]
  },
  {
   "cell_type": "code",
   "execution_count": null,
   "metadata": {},
   "outputs": [],
   "source": [
    "findall('dmm')"
   ]
  },
  {
   "cell_type": "code",
   "execution_count": null,
   "metadata": {},
   "outputs": [],
   "source": [
    "findall('digital media')"
   ]
  },
  {
   "cell_type": "code",
   "execution_count": null,
   "metadata": {},
   "outputs": [],
   "source": [
    "findall('forum')"
   ]
  },
  {
   "cell_type": "code",
   "execution_count": null,
   "metadata": {},
   "outputs": [],
   "source": [
    "pas.loc[pas['name'].apply(lambda x: 'FORUM' in x), 'name'] = 'FORUM COMMUNICATIONS COMPANY'"
   ]
  },
  {
   "cell_type": "code",
   "execution_count": null,
   "metadata": {},
   "outputs": [],
   "source": [
    "findall('seiu')"
   ]
  },
  {
   "cell_type": "code",
   "execution_count": null,
   "metadata": {},
   "outputs": [],
   "source": [
    "pas.loc[pas['name'].apply(lambda x: 'SEIU' in x), 'name'].value_counts()"
   ]
  },
  {
   "cell_type": "code",
   "execution_count": null,
   "metadata": {},
   "outputs": [],
   "source": [
    "pas.loc[pas['name'].apply(lambda x: 'SEIU' in x), 'name'] = 'SEIU (umbrella)'"
   ]
  },
  {
   "cell_type": "code",
   "execution_count": null,
   "metadata": {},
   "outputs": [],
   "source": [
    "findall('enterprise')"
   ]
  },
  {
   "cell_type": "code",
   "execution_count": null,
   "metadata": {},
   "outputs": [],
   "source": [
    "pas.loc[pas['name'].apply(lambda x: ('ENTERPRISE' in x) & ('RENT' in x)), 'name'] = 'ENTERPRISE'\n",
    "pas.loc[pas['name'] == 'ENTERPRISE', 'name'] = 'ENTERPRISE CAR RENTAL'"
   ]
  },
  {
   "cell_type": "code",
   "execution_count": null,
   "metadata": {},
   "outputs": [],
   "source": [
    "findall(['tele', 'town'])"
   ]
  },
  {
   "cell_type": "code",
   "execution_count": null,
   "metadata": {},
   "outputs": [],
   "source": [
    "pas.loc[pas['name'].apply(lambda x: ('TELE' in x) & ('TOWN' in x)), 'name'].value_counts()"
   ]
  },
  {
   "cell_type": "code",
   "execution_count": null,
   "metadata": {},
   "outputs": [],
   "source": [
    "pas.loc[pas['name'].apply(lambda x: ('TELE' in x) & ('TOWN' in x)), 'name'] = 'TELE-TOWN HALL'"
   ]
  },
  {
   "cell_type": "code",
   "execution_count": null,
   "metadata": {},
   "outputs": [],
   "source": [
    "findall('for life')"
   ]
  },
  {
   "cell_type": "code",
   "execution_count": null,
   "metadata": {},
   "outputs": [],
   "source": [
    "pas.loc[pas['name'].apply(lambda x: 'WEST VIRGINIANS FOR LIFE' in x), 'name'] = 'WEST VIRGINIANS FOR LIFE'"
   ]
  },
  {
   "cell_type": "code",
   "execution_count": null,
   "metadata": {},
   "outputs": [],
   "source": [
    "findall('mcafee')"
   ]
  },
  {
   "cell_type": "code",
   "execution_count": null,
   "metadata": {},
   "outputs": [],
   "source": [
    "findall('headway')"
   ]
  },
  {
   "cell_type": "code",
   "execution_count": null,
   "metadata": {},
   "outputs": [],
   "source": [
    "findall(['mw', 'pol'])"
   ]
  },
  {
   "cell_type": "code",
   "execution_count": null,
   "metadata": {},
   "outputs": [],
   "source": [
    "findall(['human', 'right'])"
   ]
  },
  {
   "cell_type": "code",
   "execution_count": null,
   "metadata": {},
   "outputs": [],
   "source": [
    "findall(['american', 'prosper'])"
   ]
  },
  {
   "cell_type": "code",
   "execution_count": null,
   "metadata": {},
   "outputs": [],
   "source": [
    "findall('legacy')"
   ]
  },
  {
   "cell_type": "code",
   "execution_count": null,
   "metadata": {},
   "outputs": [],
   "source": [
    "findall('mentzer')"
   ]
  },
  {
   "cell_type": "code",
   "execution_count": null,
   "metadata": {},
   "outputs": [],
   "source": [
    "findall(['sales', 'media'])"
   ]
  },
  {
   "cell_type": "code",
   "execution_count": null,
   "metadata": {},
   "outputs": [],
   "source": [
    "lil_pas = pas[pas['transaction_tp'].apply(lambda x: x in [\n",
    "    'Independent expenditure opposing election of candidate', \n",
    "    'Independent expenditure advocating election of candidate', \n",
    "    'Coordinated party expenditure',\n",
    "])]\n",
    "lil_pas['name'].value_counts()[100:150]"
   ]
  },
  {
   "cell_type": "code",
   "execution_count": null,
   "metadata": {},
   "outputs": [],
   "source": [
    "findall('fls')"
   ]
  },
  {
   "cell_type": "code",
   "execution_count": null,
   "metadata": {},
   "outputs": [],
   "source": [
    "findall('amazon')"
   ]
  },
  {
   "cell_type": "code",
   "execution_count": null,
   "metadata": {},
   "outputs": [],
   "source": [
    "pas.loc[pas['name'].apply(lambda x: 'AMAZON' in x), 'name'] = 'AMAZON'"
   ]
  },
  {
   "cell_type": "code",
   "execution_count": null,
   "metadata": {},
   "outputs": [],
   "source": [
    "findall(['wild', 'fire'])"
   ]
  },
  {
   "cell_type": "code",
   "execution_count": null,
   "metadata": {},
   "outputs": [],
   "source": [
    "pas.loc[pas['name'].apply(lambda x: 'WILDFIRE' in x), 'name'].value_counts()"
   ]
  },
  {
   "cell_type": "code",
   "execution_count": null,
   "metadata": {},
   "outputs": [],
   "source": [
    "pas.loc[pas['name'].apply(lambda x: 'WILDFIRE' in x), 'name'] = 'WILDFIRE CONTACT'"
   ]
  },
  {
   "cell_type": "code",
   "execution_count": null,
   "metadata": {},
   "outputs": [],
   "source": [
    "findall('moxie')"
   ]
  },
  {
   "cell_type": "code",
   "execution_count": null,
   "metadata": {},
   "outputs": [],
   "source": [
    "findall('converg')"
   ]
  },
  {
   "cell_type": "code",
   "execution_count": null,
   "metadata": {},
   "outputs": [],
   "source": [
    "findall('hennings')"
   ]
  },
  {
   "cell_type": "code",
   "execution_count": null,
   "metadata": {},
   "outputs": [],
   "source": [
    "pas.loc[pas['name'].apply(lambda x: 'HENNINGS' in x), 'name'].value_counts()"
   ]
  },
  {
   "cell_type": "code",
   "execution_count": null,
   "metadata": {},
   "outputs": [],
   "source": [
    "pas.loc[pas['name'].apply(lambda x: 'HENNINGS' in x), 'name'] = 'MCCARTHY HENNINGS WHALEN'"
   ]
  },
  {
   "cell_type": "code",
   "execution_count": null,
   "metadata": {},
   "outputs": [],
   "source": [
    "findall('singularis')"
   ]
  },
  {
   "cell_type": "code",
   "execution_count": null,
   "metadata": {},
   "outputs": [],
   "source": [
    "pas.loc[pas['name'].apply(lambda x: 'SINGULARIS' in x), 'name'].value_counts()"
   ]
  },
  {
   "cell_type": "code",
   "execution_count": null,
   "metadata": {},
   "outputs": [],
   "source": [
    "pas.loc[pas['name'].apply(lambda x: 'SINGULARIS' in x), 'name'] = 'SINGULARIS GROUP'"
   ]
  },
  {
   "cell_type": "code",
   "execution_count": null,
   "metadata": {},
   "outputs": [],
   "source": [
    "findall('envision')"
   ]
  },
  {
   "cell_type": "code",
   "execution_count": null,
   "metadata": {},
   "outputs": [],
   "source": [
    "pas.loc[pas['name'].apply(lambda x: 'ENVISION' in x), 'name'].value_counts()"
   ]
  },
  {
   "cell_type": "code",
   "execution_count": null,
   "metadata": {},
   "outputs": [],
   "source": [
    "pas.loc[pas['name'].apply(lambda x: 'ENVISION' in x), 'name'] = 'ENVISION MARKETING'"
   ]
  },
  {
   "cell_type": "code",
   "execution_count": null,
   "metadata": {},
   "outputs": [],
   "source": [
    "findall('rifle')"
   ]
  },
  {
   "cell_type": "code",
   "execution_count": null,
   "metadata": {},
   "outputs": [],
   "source": [
    "findall('nra')"
   ]
  },
  {
   "cell_type": "code",
   "execution_count": null,
   "metadata": {},
   "outputs": [],
   "source": [
    "findall('warfield')"
   ]
  },
  {
   "cell_type": "code",
   "execution_count": null,
   "metadata": {},
   "outputs": [],
   "source": [
    "findall(['berlin', 'rosen'])"
   ]
  },
  {
   "cell_type": "code",
   "execution_count": null,
   "metadata": {},
   "outputs": [],
   "source": [
    "pas.loc[pas['name'].apply(lambda x: 'BERLIN ROSEN' in x), 'name'].value_counts()"
   ]
  },
  {
   "cell_type": "code",
   "execution_count": null,
   "metadata": {},
   "outputs": [],
   "source": [
    "pas.loc[pas['name'].apply(lambda x: 'BERLIN ROSEN' in x), 'name'] = 'BERLIN ROSEN LTD'"
   ]
  },
  {
   "cell_type": "code",
   "execution_count": null,
   "metadata": {},
   "outputs": [],
   "source": [
    "findall(['np', 'consult'])"
   ]
  },
  {
   "cell_type": "code",
   "execution_count": null,
   "metadata": {},
   "outputs": [],
   "source": [
    "findall('mvar')"
   ]
  },
  {
   "cell_type": "code",
   "execution_count": null,
   "metadata": {},
   "outputs": [],
   "source": [
    "findall('homewood')"
   ]
  },
  {
   "cell_type": "code",
   "execution_count": null,
   "metadata": {},
   "outputs": [],
   "source": [
    "findall('tide')"
   ]
  },
  {
   "cell_type": "code",
   "execution_count": null,
   "metadata": {},
   "outputs": [],
   "source": [
    "findall('three')"
   ]
  },
  {
   "cell_type": "code",
   "execution_count": null,
   "metadata": {},
   "outputs": [],
   "source": [
    "findall('ngp')"
   ]
  },
  {
   "cell_type": "code",
   "execution_count": null,
   "metadata": {},
   "outputs": [],
   "source": [
    "findall(['voter', 'action'])"
   ]
  },
  {
   "cell_type": "code",
   "execution_count": null,
   "metadata": {},
   "outputs": [],
   "source": [
    "findall('valtim')"
   ]
  },
  {
   "cell_type": "code",
   "execution_count": null,
   "metadata": {},
   "outputs": [],
   "source": [
    "findall('killer')"
   ]
  },
  {
   "cell_type": "code",
   "execution_count": null,
   "metadata": {},
   "outputs": [],
   "source": [
    "findall(['work', 'prog'])"
   ]
  },
  {
   "cell_type": "code",
   "execution_count": null,
   "metadata": {},
   "outputs": [],
   "source": [
    "findall(['camp', 'sol'])"
   ]
  },
  {
   "cell_type": "code",
   "execution_count": null,
   "metadata": {},
   "outputs": [],
   "source": [
    "findall('speedway')"
   ]
  },
  {
   "cell_type": "code",
   "execution_count": null,
   "metadata": {},
   "outputs": [],
   "source": [
    "findall('eagle')"
   ]
  },
  {
   "cell_type": "code",
   "execution_count": null,
   "metadata": {},
   "outputs": [],
   "source": [
    "findall(['camp', 'group'])"
   ]
  },
  {
   "cell_type": "code",
   "execution_count": null,
   "metadata": {},
   "outputs": [],
   "source": [
    "findall('budget')"
   ]
  },
  {
   "cell_type": "code",
   "execution_count": null,
   "metadata": {},
   "outputs": [],
   "source": [
    "pas.loc[pas['name'].apply(lambda x: ('BUDGET' in x) & ('AVIS' not in x)), 'name'] = 'BUDGET (umbrella)'"
   ]
  },
  {
   "cell_type": "code",
   "execution_count": null,
   "metadata": {},
   "outputs": [],
   "source": [
    "findall('donor')"
   ]
  },
  {
   "cell_type": "code",
   "execution_count": null,
   "metadata": {},
   "outputs": [],
   "source": [
    "findall(['blue', 'light'])"
   ]
  },
  {
   "cell_type": "code",
   "execution_count": null,
   "metadata": {},
   "outputs": [],
   "source": [
    "findall('eberle')"
   ]
  },
  {
   "cell_type": "code",
   "execution_count": null,
   "metadata": {},
   "outputs": [],
   "source": [
    "findall(['vision', 'strat'])"
   ]
  },
  {
   "cell_type": "code",
   "execution_count": null,
   "metadata": {},
   "outputs": [],
   "source": [
    "findall(['bank', 'card'])"
   ]
  },
  {
   "cell_type": "code",
   "execution_count": null,
   "metadata": {},
   "outputs": [],
   "source": [
    "findall('bank of america')"
   ]
  },
  {
   "cell_type": "code",
   "execution_count": null,
   "metadata": {},
   "outputs": [],
   "source": [
    "pas.loc[pas['name'].apply(lambda x: 'BANK OF AMERICA' in x), 'name'] = 'BANK OF AMERICA'"
   ]
  },
  {
   "cell_type": "code",
   "execution_count": null,
   "metadata": {},
   "outputs": [],
   "source": [
    "findall('herald')"
   ]
  },
  {
   "cell_type": "code",
   "execution_count": null,
   "metadata": {},
   "outputs": [],
   "source": [
    "findall('vell')"
   ]
  },
  {
   "cell_type": "code",
   "execution_count": null,
   "metadata": {},
   "outputs": [],
   "source": [
    "findall('public interest')"
   ]
  },
  {
   "cell_type": "code",
   "execution_count": null,
   "metadata": {},
   "outputs": [],
   "source": [
    "findall(['american', 'express'])"
   ]
  },
  {
   "cell_type": "code",
   "execution_count": null,
   "metadata": {},
   "outputs": [],
   "source": [
    "pas.loc[pas['name'].apply(lambda x: 'AMERICAN EXPRESS ' in x), 'name'] = 'AMERICAN EXPRESS'"
   ]
  },
  {
   "cell_type": "code",
   "execution_count": null,
   "metadata": {},
   "outputs": [],
   "source": [
    "findall('amex')"
   ]
  },
  {
   "cell_type": "code",
   "execution_count": null,
   "metadata": {},
   "outputs": [],
   "source": [
    "findall('savanna')"
   ]
  },
  {
   "cell_type": "code",
   "execution_count": null,
   "metadata": {},
   "outputs": [],
   "source": [
    "findall(['print', 'partner'])"
   ]
  },
  {
   "cell_type": "code",
   "execution_count": null,
   "metadata": {},
   "outputs": [],
   "source": [
    "findall(['sb', 'strat'])"
   ]
  },
  {
   "cell_type": "code",
   "execution_count": null,
   "metadata": {},
   "outputs": [],
   "source": [
    "findall('planned parent')"
   ]
  },
  {
   "cell_type": "code",
   "execution_count": null,
   "metadata": {},
   "outputs": [],
   "source": [
    "pas.loc[pas['name'].apply(lambda x: 'PLANNED PARENT' in x), 'name'] = 'PLANNED PARENTHOOD (umbrella)'"
   ]
  },
  {
   "cell_type": "code",
   "execution_count": null,
   "metadata": {},
   "outputs": [],
   "source": [
    "findall(['zip', 'mail'])"
   ]
  },
  {
   "cell_type": "code",
   "execution_count": null,
   "metadata": {},
   "outputs": [],
   "source": [
    "findall('twitter')"
   ]
  },
  {
   "cell_type": "code",
   "execution_count": null,
   "metadata": {},
   "outputs": [],
   "source": [
    "pas.loc[pas['name'].apply(lambda x: 'TWITTER' in x), 'name'] = 'TWITTER'"
   ]
  },
  {
   "cell_type": "code",
   "execution_count": null,
   "metadata": {},
   "outputs": [],
   "source": [
    "findall('trilogy')"
   ]
  },
  {
   "cell_type": "code",
   "execution_count": null,
   "metadata": {},
   "outputs": [],
   "source": [
    "findall(['strategic', 'media'])"
   ]
  },
  {
   "cell_type": "code",
   "execution_count": null,
   "metadata": {},
   "outputs": [],
   "source": [
    "pas.loc[pas['name'].apply(lambda x: 'STRATEGIC MEDIA' in x), 'name'].value_counts()"
   ]
  },
  {
   "cell_type": "code",
   "execution_count": null,
   "metadata": {},
   "outputs": [],
   "source": [
    "findall('chong')"
   ]
  },
  {
   "cell_type": "code",
   "execution_count": null,
   "metadata": {},
   "outputs": [],
   "source": [
    "lil_pas = pas[pas['transaction_tp'].apply(lambda x: x in [\n",
    "    'Independent expenditure opposing election of candidate', \n",
    "    'Independent expenditure advocating election of candidate', \n",
    "    'Coordinated party expenditure',\n",
    "])]\n",
    "lil_pas['name'].value_counts()[100:150]"
   ]
  },
  {
   "cell_type": "code",
   "execution_count": null,
   "metadata": {},
   "outputs": [],
   "source": [
    "findall(['flex', 'point'])"
   ]
  },
  {
   "cell_type": "code",
   "execution_count": null,
   "metadata": {},
   "outputs": [],
   "source": [
    "pas.loc[pas['name'] == 'FLEX POINT MEDIA', 'name'] = 'FLEXPOINT MEDIA'"
   ]
  },
  {
   "cell_type": "code",
   "execution_count": null,
   "metadata": {},
   "outputs": [],
   "source": [
    "findall('pursuit')"
   ]
  },
  {
   "cell_type": "code",
   "execution_count": null,
   "metadata": {},
   "outputs": [],
   "source": [
    "findall('airline')"
   ]
  },
  {
   "cell_type": "code",
   "execution_count": null,
   "metadata": {},
   "outputs": [],
   "source": [
    "pas.loc[pas['name'].apply(lambda x: 'AMERICAN AIRLINE' in x), 'name'] = 'AMERICAN AIRLINES'\n",
    "pas.loc[pas['name'].apply(lambda x: 'SOUTHWEST AIRLINE' in x), 'name'] = 'SOUTHWEST AIRLINES'"
   ]
  },
  {
   "cell_type": "code",
   "execution_count": null,
   "metadata": {},
   "outputs": [],
   "source": [
    "lil_pas = pas[pas['transaction_tp'].apply(lambda x: x in [\n",
    "    'Independent expenditure opposing election of candidate', \n",
    "    'Independent expenditure advocating election of candidate', \n",
    "    'Coordinated party expenditure',\n",
    "])]\n",
    "lil_pas['name'].value_counts()[150:200]"
   ]
  },
  {
   "cell_type": "code",
   "execution_count": null,
   "metadata": {},
   "outputs": [],
   "source": [
    "findall('talbot')"
   ]
  },
  {
   "cell_type": "code",
   "execution_count": null,
   "metadata": {},
   "outputs": [],
   "source": [
    "findall('service employees international')"
   ]
  },
  {
   "cell_type": "code",
   "execution_count": null,
   "metadata": {},
   "outputs": [],
   "source": [
    "pas.loc[pas['name'].apply(lambda x: 'SERVICE EMPLOYEES INTERNATIONAL' in x), 'name'] = 'SEIU (umbrella)'"
   ]
  },
  {
   "cell_type": "code",
   "execution_count": null,
   "metadata": {},
   "outputs": [],
   "source": [
    "findall('wright')"
   ]
  },
  {
   "cell_type": "code",
   "execution_count": null,
   "metadata": {},
   "outputs": [],
   "source": [
    "findall('trippi')"
   ]
  },
  {
   "cell_type": "code",
   "execution_count": null,
   "metadata": {},
   "outputs": [],
   "source": [
    "pas.loc[pas['name'].apply(lambda x: 'TRIPPI' in x), 'name'] = 'JOE TRIPPI AND ASSOCIATES'"
   ]
  },
  {
   "cell_type": "code",
   "execution_count": null,
   "metadata": {},
   "outputs": [],
   "source": [
    "findall(['america', 'market'])"
   ]
  },
  {
   "cell_type": "code",
   "execution_count": null,
   "metadata": {},
   "outputs": [],
   "source": [
    "findall('j-ad')"
   ]
  },
  {
   "cell_type": "code",
   "execution_count": null,
   "metadata": {},
   "outputs": [],
   "source": [
    "findall(['water', 'mark'])"
   ]
  },
  {
   "cell_type": "code",
   "execution_count": null,
   "metadata": {},
   "outputs": [],
   "source": [
    "findall('putnam')"
   ]
  },
  {
   "cell_type": "code",
   "execution_count": null,
   "metadata": {},
   "outputs": [],
   "source": [
    "findall('donatelli')"
   ]
  },
  {
   "cell_type": "code",
   "execution_count": null,
   "metadata": {},
   "outputs": [],
   "source": [
    "findall('rumble')"
   ]
  },
  {
   "cell_type": "code",
   "execution_count": null,
   "metadata": {},
   "outputs": [],
   "source": [
    "pas.loc[pas['name'].apply(lambda x: 'RUMBLE' in x), 'name'] = 'RUMBLEUP'"
   ]
  },
  {
   "cell_type": "code",
   "execution_count": null,
   "metadata": {},
   "outputs": [],
   "source": [
    "findall('prime')"
   ]
  },
  {
   "cell_type": "code",
   "execution_count": null,
   "metadata": {},
   "outputs": [],
   "source": [
    "pas.loc[pas['name'].apply(lambda x: 'PRIME' in x), 'name'].value_counts()"
   ]
  },
  {
   "cell_type": "code",
   "execution_count": null,
   "metadata": {},
   "outputs": [],
   "source": [
    "pas.loc[pas['name'] == 'PRIME MEDIA', 'name'] = 'PRIME MEDIA PARTNERS'"
   ]
  },
  {
   "cell_type": "code",
   "execution_count": null,
   "metadata": {},
   "outputs": [],
   "source": [
    "findall('magic')"
   ]
  },
  {
   "cell_type": "code",
   "execution_count": null,
   "metadata": {},
   "outputs": [],
   "source": [
    "findall('national media')"
   ]
  },
  {
   "cell_type": "code",
   "execution_count": null,
   "metadata": {},
   "outputs": [],
   "source": [
    "pas.loc[pas['name'] == 'NATIONAL MEDIA RESEARCH PLANNING &PLACEMENT', 'name'] = \\\n",
    "'NATIONAL MEDIA RESEARCH PLANNING & PLACEMENT'"
   ]
  },
  {
   "cell_type": "code",
   "execution_count": null,
   "metadata": {},
   "outputs": [],
   "source": [
    "findall('solidarity')"
   ]
  },
  {
   "cell_type": "code",
   "execution_count": null,
   "metadata": {},
   "outputs": [],
   "source": [
    "findall('korean')"
   ]
  },
  {
   "cell_type": "code",
   "execution_count": null,
   "metadata": {},
   "outputs": [],
   "source": [
    "findall('akpd')"
   ]
  },
  {
   "cell_type": "code",
   "execution_count": null,
   "metadata": {},
   "outputs": [],
   "source": [
    "pas.loc[pas['name'] == 'AKPD MEDIA', 'name'] = 'AKPD MESSAGE AND MEDIA'"
   ]
  },
  {
   "cell_type": "code",
   "execution_count": null,
   "metadata": {},
   "outputs": [],
   "source": [
    "findall(['pol', 'ink'])"
   ]
  },
  {
   "cell_type": "code",
   "execution_count": null,
   "metadata": {},
   "outputs": [],
   "source": [
    "findall('think')"
   ]
  },
  {
   "cell_type": "code",
   "execution_count": null,
   "metadata": {},
   "outputs": [],
   "source": [
    "findall(['camp', 'hq']) ## relationship?"
   ]
  },
  {
   "cell_type": "code",
   "execution_count": null,
   "metadata": {},
   "outputs": [],
   "source": [
    "findall('hulu')"
   ]
  },
  {
   "cell_type": "code",
   "execution_count": null,
   "metadata": {},
   "outputs": [],
   "source": [
    "findall(['env', 'america'])"
   ]
  },
  {
   "cell_type": "code",
   "execution_count": null,
   "metadata": {},
   "outputs": [],
   "source": [
    "findall('gumbinner')"
   ]
  },
  {
   "cell_type": "code",
   "execution_count": null,
   "metadata": {},
   "outputs": [],
   "source": [
    "pas.loc[pas['name'].apply(lambda x: 'GUMBINNER' in x), 'name'].value_counts()"
   ]
  },
  {
   "cell_type": "code",
   "execution_count": null,
   "metadata": {},
   "outputs": [],
   "source": [
    "pas.loc[pas['name'].apply(lambda x: 'GUMBINNER' in x), 'name'] = 'GUMBINNER AND DAVIES COMMUNICATIONS'"
   ]
  },
  {
   "cell_type": "code",
   "execution_count": null,
   "metadata": {},
   "outputs": [],
   "source": [
    "findall('76')"
   ]
  },
  {
   "cell_type": "code",
   "execution_count": null,
   "metadata": {},
   "outputs": [],
   "source": [
    "pas.loc[pas['name'].apply(lambda x: '76 WORDS' in x), 'name'].value_counts()"
   ]
  },
  {
   "cell_type": "code",
   "execution_count": null,
   "metadata": {},
   "outputs": [],
   "source": [
    "pas.loc[pas['name'] == '76 WORDS', 'name'] = '76 WORDS CORP'"
   ]
  },
  {
   "cell_type": "code",
   "execution_count": null,
   "metadata": {},
   "outputs": [],
   "source": [
    "findall('toskr')"
   ]
  },
  {
   "cell_type": "code",
   "execution_count": null,
   "metadata": {},
   "outputs": [],
   "source": [
    "pas.loc[pas['name'].apply(lambda x: 'TOSKR' in x), 'name'] = 'TOSKR INC'"
   ]
  },
  {
   "cell_type": "code",
   "execution_count": null,
   "metadata": {},
   "outputs": [],
   "source": [
    "findall('opn')"
   ]
  },
  {
   "cell_type": "code",
   "execution_count": null,
   "metadata": {},
   "outputs": [],
   "source": [
    "findall('rst market')"
   ]
  },
  {
   "cell_type": "code",
   "execution_count": null,
   "metadata": {},
   "outputs": [],
   "source": [
    "pas.loc[pas['name'] == 'RST MARKETING ASSOC', 'name'] = 'RST MARKETING'"
   ]
  },
  {
   "cell_type": "code",
   "execution_count": null,
   "metadata": {},
   "outputs": [],
   "source": [
    "findall('apex')"
   ]
  },
  {
   "cell_type": "code",
   "execution_count": null,
   "metadata": {},
   "outputs": [],
   "source": [
    "findall('burrell')"
   ]
  },
  {
   "cell_type": "code",
   "execution_count": null,
   "metadata": {},
   "outputs": [],
   "source": [
    "findall('srcp')"
   ]
  },
  {
   "cell_type": "code",
   "execution_count": null,
   "metadata": {},
   "outputs": [],
   "source": [
    "findall(['west', 'affair'])"
   ]
  },
  {
   "cell_type": "code",
   "execution_count": null,
   "metadata": {},
   "outputs": [],
   "source": [
    "findall('simko')"
   ]
  },
  {
   "cell_type": "code",
   "execution_count": null,
   "metadata": {},
   "outputs": [],
   "source": [
    "findall(['big', 'eye'])"
   ]
  },
  {
   "cell_type": "code",
   "execution_count": null,
   "metadata": {},
   "outputs": [],
   "source": [
    "findall('lps')"
   ]
  },
  {
   "cell_type": "code",
   "execution_count": null,
   "metadata": {},
   "outputs": [],
   "source": [
    "findall(['modern', 'litho'])"
   ]
  },
  {
   "cell_type": "code",
   "execution_count": null,
   "metadata": {},
   "outputs": [],
   "source": [
    "findall(['dixon', 'davis'])"
   ]
  },
  {
   "cell_type": "code",
   "execution_count": null,
   "metadata": {},
   "outputs": [],
   "source": [
    "pas.loc[pas['name'].apply(lambda x: ('DAVIS' in x) & ('DIXON' in x)), 'name'].value_counts()"
   ]
  },
  {
   "cell_type": "code",
   "execution_count": null,
   "metadata": {},
   "outputs": [],
   "source": [
    "pas.loc[pas['name'].apply(lambda x: ('DAVIS' in x) & ('DIXON' in x)), 'name'] = 'DIXON DAVIS MEDIA GROUP'"
   ]
  },
  {
   "cell_type": "code",
   "execution_count": null,
   "metadata": {},
   "outputs": [],
   "source": [
    "findall('nasica')"
   ]
  },
  {
   "cell_type": "code",
   "execution_count": null,
   "metadata": {},
   "outputs": [],
   "source": [
    "findall('lockwood')"
   ]
  },
  {
   "cell_type": "code",
   "execution_count": null,
   "metadata": {},
   "outputs": [],
   "source": [
    "findall(['harris', 'media'])"
   ]
  },
  {
   "cell_type": "code",
   "execution_count": null,
   "metadata": {},
   "outputs": [],
   "source": [
    "findall('omega')"
   ]
  },
  {
   "cell_type": "code",
   "execution_count": null,
   "metadata": {},
   "outputs": [],
   "source": [
    "findall('cavalry')"
   ]
  },
  {
   "cell_type": "code",
   "execution_count": null,
   "metadata": {},
   "outputs": [],
   "source": [
    "findall('american way')"
   ]
  },
  {
   "cell_type": "code",
   "execution_count": null,
   "metadata": {},
   "outputs": [],
   "source": [
    "findall('yongho')"
   ]
  },
  {
   "cell_type": "code",
   "execution_count": null,
   "metadata": {},
   "outputs": [],
   "source": [
    "findall(['conserv', 'ohio'])"
   ]
  },
  {
   "cell_type": "code",
   "execution_count": null,
   "metadata": {},
   "outputs": [],
   "source": [
    "findall('mdi')"
   ]
  },
  {
   "cell_type": "code",
   "execution_count": null,
   "metadata": {},
   "outputs": [],
   "source": [
    "findall('anne lewis')"
   ]
  },
  {
   "cell_type": "code",
   "execution_count": null,
   "metadata": {},
   "outputs": [],
   "source": [
    "findall('extended')"
   ]
  },
  {
   "cell_type": "code",
   "execution_count": null,
   "metadata": {},
   "outputs": [],
   "source": [
    "lil_pas = pas[pas['transaction_tp'].apply(lambda x: x in [\n",
    "    'Independent expenditure opposing election of candidate', \n",
    "    'Independent expenditure advocating election of candidate', \n",
    "    'Coordinated party expenditure',\n",
    "])]\n",
    "lil_pas['name'].value_counts()[150:200]"
   ]
  },
  {
   "cell_type": "code",
   "execution_count": null,
   "metadata": {},
   "outputs": [],
   "source": [
    "findall(['wilson', 'grand'])"
   ]
  },
  {
   "cell_type": "code",
   "execution_count": null,
   "metadata": {},
   "outputs": [],
   "source": [
    "findall(['professional', 'profit'])"
   ]
  },
  {
   "cell_type": "code",
   "execution_count": null,
   "metadata": {},
   "outputs": [],
   "source": [
    "lil_pas = pas[pas['transaction_tp'].apply(lambda x: x in [\n",
    "    'Independent expenditure opposing election of candidate', \n",
    "    'Independent expenditure advocating election of candidate', \n",
    "    'Coordinated party expenditure',\n",
    "])]\n",
    "lil_pas['name'].value_counts()[200:250]"
   ]
  },
  {
   "cell_type": "code",
   "execution_count": null,
   "metadata": {},
   "outputs": [],
   "source": [
    "findall(['in', 'field'])"
   ]
  },
  {
   "cell_type": "code",
   "execution_count": null,
   "metadata": {},
   "outputs": [],
   "source": [
    "pas.loc[pas['name'].apply(lambda x: 'FAIRFIELD INN' in x), 'name'].value_counts()"
   ]
  },
  {
   "cell_type": "code",
   "execution_count": null,
   "metadata": {},
   "outputs": [],
   "source": [
    "pas.loc[pas['name'].apply(lambda x: 'FAIRFIELD INN' in x), 'name'] = 'FAIRFIELD INN'"
   ]
  },
  {
   "cell_type": "code",
   "execution_count": null,
   "metadata": {},
   "outputs": [],
   "source": [
    "findall('revenue')"
   ]
  },
  {
   "cell_type": "code",
   "execution_count": null,
   "metadata": {},
   "outputs": [],
   "source": [
    "pas.loc[pas['name'].apply(lambda x: 'INTERNAL REVENUE' in x), 'name'] = 'INTERNAL REVENUE SERVICE'"
   ]
  },
  {
   "cell_type": "code",
   "execution_count": null,
   "metadata": {},
   "outputs": [],
   "source": [
    "findall('canal')"
   ]
  },
  {
   "cell_type": "code",
   "execution_count": null,
   "metadata": {},
   "outputs": [],
   "source": [
    "findall('ibew')"
   ]
  },
  {
   "cell_type": "code",
   "execution_count": null,
   "metadata": {},
   "outputs": [],
   "source": [
    "pas.loc[pas['name'].apply(lambda x: 'IBEW' in x), 'name'] = 'IBEW (umbrella)'"
   ]
  },
  {
   "cell_type": "code",
   "execution_count": null,
   "metadata": {},
   "outputs": [],
   "source": [
    "findall(['on', 'message'])"
   ]
  },
  {
   "cell_type": "code",
   "execution_count": null,
   "metadata": {},
   "outputs": [],
   "source": [
    "pas.loc[pas['name'] == 'ON MESSAGE', 'name'] = 'ONMESSAGE'"
   ]
  },
  {
   "cell_type": "code",
   "execution_count": null,
   "metadata": {},
   "outputs": [],
   "source": [
    "findall('jamestown')"
   ]
  },
  {
   "cell_type": "code",
   "execution_count": null,
   "metadata": {},
   "outputs": [],
   "source": [
    "findall('outreach')"
   ]
  },
  {
   "cell_type": "code",
   "execution_count": null,
   "metadata": {},
   "outputs": [],
   "source": [
    "findall('lyft')"
   ]
  },
  {
   "cell_type": "code",
   "execution_count": null,
   "metadata": {},
   "outputs": [],
   "source": [
    "findall('precision')"
   ]
  },
  {
   "cell_type": "code",
   "execution_count": null,
   "metadata": {},
   "outputs": [],
   "source": [
    "findall(['bull', 'eye'])"
   ]
  },
  {
   "cell_type": "code",
   "execution_count": null,
   "metadata": {},
   "outputs": [],
   "source": [
    "findall('confluent')"
   ]
  },
  {
   "cell_type": "code",
   "execution_count": null,
   "metadata": {},
   "outputs": [],
   "source": [
    "findall(['adela', 'roche'])"
   ]
  },
  {
   "cell_type": "code",
   "execution_count": null,
   "metadata": {},
   "outputs": [],
   "source": [
    "findall(['color', 'change'])"
   ]
  },
  {
   "cell_type": "code",
   "execution_count": null,
   "metadata": {},
   "outputs": [],
   "source": [
    "pas.loc[pas['name'] == 'COLOROFCHANGE ORG', 'name'] = 'COLOROFCHANGE.ORG'"
   ]
  },
  {
   "cell_type": "code",
   "execution_count": null,
   "metadata": {},
   "outputs": [],
   "source": [
    "findall(['active', 'engag'])"
   ]
  },
  {
   "cell_type": "code",
   "execution_count": null,
   "metadata": {},
   "outputs": [],
   "source": [
    "findall(['comm', 'worker'])"
   ]
  },
  {
   "cell_type": "code",
   "execution_count": null,
   "metadata": {},
   "outputs": [],
   "source": [
    "pas.loc[pas['name'].apply(lambda x: 'COMMUNICATIONS WORKERS' in x), 'name'] = 'COMMUNICATIONS WORKERS OF AMERICA'"
   ]
  },
  {
   "cell_type": "code",
   "execution_count": null,
   "metadata": {},
   "outputs": [],
   "source": [
    "findall(['stone', 'phone'])"
   ]
  },
  {
   "cell_type": "code",
   "execution_count": null,
   "metadata": {},
   "outputs": [],
   "source": [
    "pas.loc[pas['name'].apply(lambda x: ('STONE' in x) & ('PHONE' in x)), 'name'] = 'STONES PHONES'"
   ]
  },
  {
   "cell_type": "code",
   "execution_count": null,
   "metadata": {},
   "outputs": [],
   "source": [
    "findall('strategic service')"
   ]
  },
  {
   "cell_type": "code",
   "execution_count": null,
   "metadata": {},
   "outputs": [],
   "source": [
    "pas.loc[pas['name'] == 'M&R STRATEGIC SERVICES', 'name'] = 'M+R STRATEGIC SERVICES'"
   ]
  },
  {
   "cell_type": "code",
   "execution_count": null,
   "metadata": {},
   "outputs": [],
   "source": [
    "findall('steel')"
   ]
  },
  {
   "cell_type": "code",
   "execution_count": null,
   "metadata": {},
   "outputs": [],
   "source": [
    "findall('pacific')"
   ]
  },
  {
   "cell_type": "code",
   "execution_count": null,
   "metadata": {},
   "outputs": [],
   "source": [
    "pas.loc[pas['name'].apply(lambda x: 'OF THE PACIFIC S' in x), 'name'].value_counts()"
   ]
  },
  {
   "cell_type": "code",
   "execution_count": null,
   "metadata": {},
   "outputs": [],
   "source": [
    "pas.loc[pas['name'] == 'PPAF OF THE PACIFIC SOUTHWEST', 'name'] = 'PLANNED PARENTHOOD (umbrella)'\n",
    "pas.loc[pas['name'] == 'PP ACTION FUND OF THE PACIFIC SW', 'name'] = 'PLANNED PARENTHOOD (umbrella)'"
   ]
  },
  {
   "cell_type": "code",
   "execution_count": null,
   "metadata": {},
   "outputs": [],
   "source": [
    "findall('pp ')"
   ]
  },
  {
   "cell_type": "code",
   "execution_count": null,
   "metadata": {},
   "outputs": [],
   "source": [
    "findall('sss')"
   ]
  },
  {
   "cell_type": "code",
   "execution_count": null,
   "metadata": {},
   "outputs": [],
   "source": [
    "pas['name'] = [x.replace('CONGRESSS', 'CONGRESS') for x in pas['name']]"
   ]
  },
  {
   "cell_type": "code",
   "execution_count": null,
   "metadata": {},
   "outputs": [],
   "source": [
    "findall('integram')"
   ]
  },
  {
   "cell_type": "code",
   "execution_count": null,
   "metadata": {},
   "outputs": [],
   "source": [
    "findall('mosaic')"
   ]
  },
  {
   "cell_type": "code",
   "execution_count": null,
   "metadata": {},
   "outputs": [],
   "source": [
    "pas.loc[pas['name'].apply(lambda x: 'MOSAIC' in x), 'name'].value_counts()"
   ]
  },
  {
   "cell_type": "code",
   "execution_count": null,
   "metadata": {},
   "outputs": [],
   "source": [
    "pas.loc[pas['name'] == 'MOSAIC', 'name'] = 'MOSAIC MEDIA STRATEGY GROUP'"
   ]
  },
  {
   "cell_type": "code",
   "execution_count": null,
   "metadata": {},
   "outputs": [],
   "source": [
    "findall(['yes', 'print'])"
   ]
  },
  {
   "cell_type": "code",
   "execution_count": null,
   "metadata": {},
   "outputs": [],
   "source": [
    "findall(['tru', 'corp'])"
   ]
  },
  {
   "cell_type": "code",
   "execution_count": null,
   "metadata": {},
   "outputs": [],
   "source": [
    "pas.loc[pas['name'].apply(lambda x: 'TRUCORPS' in x), 'name'] = 'TRUCORPS'"
   ]
  },
  {
   "cell_type": "code",
   "execution_count": null,
   "metadata": {},
   "outputs": [],
   "source": [
    "findall(['left', 'hook'])"
   ]
  },
  {
   "cell_type": "code",
   "execution_count": null,
   "metadata": {},
   "outputs": [],
   "source": [
    "findall('politxt')"
   ]
  },
  {
   "cell_type": "code",
   "execution_count": null,
   "metadata": {},
   "outputs": [],
   "source": [
    "findall('staples')"
   ]
  },
  {
   "cell_type": "code",
   "execution_count": null,
   "metadata": {},
   "outputs": [],
   "source": [
    "pas.loc[pas['name'].apply(lambda x: 'STAPLES' in x), 'name'] = 'STAPLES'"
   ]
  },
  {
   "cell_type": "code",
   "execution_count": null,
   "metadata": {},
   "outputs": [],
   "source": [
    "findall(['something', 'else'])"
   ]
  },
  {
   "cell_type": "code",
   "execution_count": null,
   "metadata": {},
   "outputs": [],
   "source": [
    "findall('l2')"
   ]
  },
  {
   "cell_type": "code",
   "execution_count": null,
   "metadata": {},
   "outputs": [],
   "source": [
    "findall('meridian')"
   ]
  },
  {
   "cell_type": "code",
   "execution_count": null,
   "metadata": {},
   "outputs": [],
   "source": [
    "findall('mocap')"
   ]
  },
  {
   "cell_type": "code",
   "execution_count": null,
   "metadata": {},
   "outputs": [],
   "source": [
    "findall(['white', 'board'])"
   ]
  },
  {
   "cell_type": "code",
   "execution_count": null,
   "metadata": {},
   "outputs": [],
   "source": [
    "findall('jva')"
   ]
  },
  {
   "cell_type": "code",
   "execution_count": null,
   "metadata": {},
   "outputs": [],
   "source": [
    "pas.loc[pas['name'] == 'JVA CAMPAGINS', 'name'] = 'JVA CAMPAIGNS'"
   ]
  },
  {
   "cell_type": "code",
   "execution_count": null,
   "metadata": {},
   "outputs": [],
   "source": [
    "findall('erdman')"
   ]
  },
  {
   "cell_type": "code",
   "execution_count": null,
   "metadata": {},
   "outputs": [],
   "source": [
    "findall('robo')"
   ]
  },
  {
   "cell_type": "code",
   "execution_count": null,
   "metadata": {},
   "outputs": [],
   "source": [
    "findall('honold')"
   ]
  },
  {
   "cell_type": "code",
   "execution_count": null,
   "metadata": {},
   "outputs": [],
   "source": [
    "findall(['red', 'print'])"
   ]
  },
  {
   "cell_type": "code",
   "execution_count": null,
   "metadata": {},
   "outputs": [],
   "source": [
    "pas.loc[pas['name'] == 'RED PRINT STRATEGY', 'name'] = 'REDPRINT STRATEGY'"
   ]
  },
  {
   "cell_type": "code",
   "execution_count": null,
   "metadata": {},
   "outputs": [],
   "source": [
    "findall('adp')"
   ]
  },
  {
   "cell_type": "code",
   "execution_count": null,
   "metadata": {},
   "outputs": [],
   "source": [
    "findall('store')"
   ]
  },
  {
   "cell_type": "code",
   "execution_count": null,
   "metadata": {},
   "outputs": [],
   "source": [
    "pas.loc[pas['name'] == 'U P S STORE', 'name'] = 'UPS STORE'\n",
    "pas.loc[pas['name'].apply(lambda x: 'UPS STORE' in x), 'name'] = 'UNITED PARCEL SERVICE (UPS)'"
   ]
  },
  {
   "cell_type": "code",
   "execution_count": null,
   "metadata": {},
   "outputs": [],
   "source": [
    "findall('united parcel')"
   ]
  },
  {
   "cell_type": "code",
   "execution_count": null,
   "metadata": {},
   "outputs": [],
   "source": [
    "pas.loc[pas['name'] == 'UNITED PARCEL SERVICES', 'name'] = 'UNITED PARCEL SERVICE (UPS)'"
   ]
  },
  {
   "cell_type": "code",
   "execution_count": null,
   "metadata": {},
   "outputs": [],
   "source": [
    "findall('million')"
   ]
  },
  {
   "cell_type": "code",
   "execution_count": null,
   "metadata": {},
   "outputs": [],
   "source": [
    "pas.loc[pas['name'] == 'MILLION MORE VOTERS SPONSORED BY THE', 'name'] = \\\n",
    "'MILLION MORE VOTERS SPONSORED BY THE CA LABOR FEDERATION AFL-CIO'"
   ]
  },
  {
   "cell_type": "code",
   "execution_count": null,
   "metadata": {},
   "outputs": [],
   "source": [
    "findall('zeus')"
   ]
  },
  {
   "cell_type": "code",
   "execution_count": null,
   "metadata": {},
   "outputs": [],
   "source": [
    "findall('maverick')"
   ]
  },
  {
   "cell_type": "code",
   "execution_count": null,
   "metadata": {},
   "outputs": [],
   "source": [
    "findall('fairmont')"
   ]
  },
  {
   "cell_type": "code",
   "execution_count": null,
   "metadata": {},
   "outputs": [],
   "source": [
    "findall(['cross', 'screen'])"
   ]
  },
  {
   "cell_type": "code",
   "execution_count": null,
   "metadata": {},
   "outputs": [],
   "source": [
    "lil_pas = pas[pas['transaction_tp'].apply(lambda x: x in [\n",
    "    'Independent expenditure opposing election of candidate', \n",
    "    'Independent expenditure advocating election of candidate', \n",
    "    'Coordinated party expenditure',\n",
    "])]\n",
    "lil_pas['name'].value_counts()[200:250]"
   ]
  },
  {
   "cell_type": "code",
   "execution_count": null,
   "metadata": {},
   "outputs": [],
   "source": [
    "findall(['cross', 'screen'])"
   ]
  },
  {
   "cell_type": "code",
   "execution_count": null,
   "metadata": {},
   "outputs": [],
   "source": [
    "lil_pas = pas[pas['transaction_tp'].apply(lambda x: x in [\n",
    "    'Independent expenditure opposing election of candidate', \n",
    "    'Independent expenditure advocating election of candidate', \n",
    "    'Coordinated party expenditure',\n",
    "])]\n",
    "lil_pas['name'].value_counts()[250:300]"
   ]
  },
  {
   "cell_type": "code",
   "execution_count": null,
   "metadata": {},
   "outputs": [],
   "source": [
    "findall('ianza')"
   ]
  },
  {
   "cell_type": "code",
   "execution_count": null,
   "metadata": {},
   "outputs": [],
   "source": [
    "findall('savvy')"
   ]
  },
  {
   "cell_type": "code",
   "execution_count": null,
   "metadata": {},
   "outputs": [],
   "source": [
    "findall(['siegel', 'strat'])"
   ]
  },
  {
   "cell_type": "code",
   "execution_count": null,
   "metadata": {},
   "outputs": [],
   "source": [
    "findall(['star', 'board'])"
   ]
  },
  {
   "cell_type": "code",
   "execution_count": null,
   "metadata": {},
   "outputs": [],
   "source": [
    "pas.loc[pas['name'] == 'STARBOARD STRAGEGIC', 'name'] = 'STARBOARD STRATEGIC'"
   ]
  },
  {
   "cell_type": "code",
   "execution_count": null,
   "metadata": {},
   "outputs": [],
   "source": [
    "findall('fairmont')"
   ]
  },
  {
   "cell_type": "code",
   "execution_count": null,
   "metadata": {},
   "outputs": [],
   "source": [
    "findall('tampa')"
   ]
  },
  {
   "cell_type": "code",
   "execution_count": null,
   "metadata": {},
   "outputs": [],
   "source": [
    "findall(['mail', 'haus'])"
   ]
  },
  {
   "cell_type": "code",
   "execution_count": null,
   "metadata": {},
   "outputs": [],
   "source": [
    "findall(['story', 'teller'])"
   ]
  },
  {
   "cell_type": "code",
   "execution_count": null,
   "metadata": {},
   "outputs": [],
   "source": [
    "pas.loc[pas['name'] == 'STORYTELLERS', 'name'] = 'STORYTELLERS GROUP'"
   ]
  },
  {
   "cell_type": "code",
   "execution_count": null,
   "metadata": {},
   "outputs": [],
   "source": [
    "findall('victory media')"
   ]
  },
  {
   "cell_type": "code",
   "execution_count": null,
   "metadata": {},
   "outputs": [],
   "source": [
    "pas.loc[pas['name'] == 'VICTORY MEDIA GROUP LTD', 'name'] = 'VICTORY MEDIA GROUP'"
   ]
  },
  {
   "cell_type": "code",
   "execution_count": null,
   "metadata": {},
   "outputs": [],
   "source": [
    "findall('matson')"
   ]
  },
  {
   "cell_type": "code",
   "execution_count": null,
   "metadata": {},
   "outputs": [],
   "source": [
    "findall(['creat', 'design'])"
   ]
  },
  {
   "cell_type": "code",
   "execution_count": null,
   "metadata": {},
   "outputs": [],
   "source": [
    "findall('milli')"
   ]
  },
  {
   "cell_type": "code",
   "execution_count": null,
   "metadata": {},
   "outputs": [],
   "source": [
    "findall(['hard', 'knock'])"
   ]
  },
  {
   "cell_type": "code",
   "execution_count": null,
   "metadata": {},
   "outputs": [],
   "source": [
    "pas.loc[pas['name'] == 'HARD KNOCKS', 'name'] = 'HARD KNOCKS FIELD'"
   ]
  },
  {
   "cell_type": "code",
   "execution_count": null,
   "metadata": {},
   "outputs": [],
   "source": [
    "findall('cpm')"
   ]
  },
  {
   "cell_type": "code",
   "execution_count": null,
   "metadata": {},
   "outputs": [],
   "source": [
    "findall(['micro', 'soft'])"
   ]
  },
  {
   "cell_type": "code",
   "execution_count": null,
   "metadata": {},
   "outputs": [],
   "source": [
    "findall('fuse')"
   ]
  },
  {
   "cell_type": "code",
   "execution_count": null,
   "metadata": {},
   "outputs": [],
   "source": [
    "findall(['north', 'shore'])"
   ]
  },
  {
   "cell_type": "code",
   "execution_count": null,
   "metadata": {},
   "outputs": [],
   "source": [
    "findall('wolverine')"
   ]
  },
  {
   "cell_type": "code",
   "execution_count": null,
   "metadata": {},
   "outputs": [],
   "source": [
    "findall('kapol')"
   ]
  },
  {
   "cell_type": "code",
   "execution_count": null,
   "metadata": {},
   "outputs": [],
   "source": [
    "findall(['keri', 'max'])"
   ]
  },
  {
   "cell_type": "code",
   "execution_count": null,
   "metadata": {},
   "outputs": [],
   "source": [
    "findall('amagi')"
   ]
  },
  {
   "cell_type": "code",
   "execution_count": null,
   "metadata": {},
   "outputs": [],
   "source": [
    "findall('youtube')"
   ]
  },
  {
   "cell_type": "code",
   "execution_count": null,
   "metadata": {},
   "outputs": [],
   "source": [
    "pas.loc[pas['name'] == 'YOUTUBE', 'name'] = 'GOOGLE'"
   ]
  },
  {
   "cell_type": "code",
   "execution_count": null,
   "metadata": {},
   "outputs": [],
   "source": [
    "findall('eichen')"
   ]
  },
  {
   "cell_type": "code",
   "execution_count": null,
   "metadata": {},
   "outputs": [],
   "source": [
    "findall(['river', 'city'])"
   ]
  },
  {
   "cell_type": "code",
   "execution_count": null,
   "metadata": {},
   "outputs": [],
   "source": [
    "findall('ufcw')"
   ]
  },
  {
   "cell_type": "code",
   "execution_count": null,
   "metadata": {},
   "outputs": [],
   "source": [
    "pas.loc[pas['name'].apply(lambda x: 'UFCW' in x), 'name'] = 'UFCW (umbrella)'"
   ]
  },
  {
   "cell_type": "code",
   "execution_count": null,
   "metadata": {},
   "outputs": [],
   "source": [
    "findall('4c')"
   ]
  },
  {
   "cell_type": "code",
   "execution_count": null,
   "metadata": {},
   "outputs": [],
   "source": [
    "findall(['pier', 'media'])"
   ]
  },
  {
   "cell_type": "code",
   "execution_count": null,
   "metadata": {},
   "outputs": [],
   "source": [
    "findall('otg')"
   ]
  },
  {
   "cell_type": "code",
   "execution_count": null,
   "metadata": {},
   "outputs": [],
   "source": [
    "findall('clean water')"
   ]
  },
  {
   "cell_type": "code",
   "execution_count": null,
   "metadata": {},
   "outputs": [],
   "source": [
    "findall(['brown', 'print']) # same?"
   ]
  },
  {
   "cell_type": "code",
   "execution_count": null,
   "metadata": {},
   "outputs": [],
   "source": [
    "findall('catalist')"
   ]
  },
  {
   "cell_type": "code",
   "execution_count": null,
   "metadata": {},
   "outputs": [],
   "source": [
    "findall(['ground', 'swell'])"
   ]
  },
  {
   "cell_type": "code",
   "execution_count": null,
   "metadata": {},
   "outputs": [],
   "source": [
    "findall('gps')"
   ]
  },
  {
   "cell_type": "code",
   "execution_count": null,
   "metadata": {},
   "outputs": [],
   "source": [
    "pas.loc[pas['name'] == 'GROUNDSWELL PUBLIC STRATEGIES INC GPS IMPACT', 'name'] = 'GPS IMPACT'"
   ]
  },
  {
   "cell_type": "code",
   "execution_count": null,
   "metadata": {},
   "outputs": [],
   "source": [
    "findall(['loud', 'print'])"
   ]
  },
  {
   "cell_type": "code",
   "execution_count": null,
   "metadata": {},
   "outputs": [],
   "source": [
    "findall('ipm')"
   ]
  },
  {
   "cell_type": "code",
   "execution_count": null,
   "metadata": {},
   "outputs": [],
   "source": [
    "lil_pas = pas[pas['transaction_tp'].apply(lambda x: x in [\n",
    "    'Independent expenditure opposing election of candidate', \n",
    "    'Independent expenditure advocating election of candidate', \n",
    "    'Coordinated party expenditure',\n",
    "])]\n",
    "lil_pas['name'].value_counts()[250:300]"
   ]
  },
  {
   "cell_type": "code",
   "execution_count": null,
   "metadata": {},
   "outputs": [],
   "source": [
    "findall('lcx')"
   ]
  },
  {
   "cell_type": "code",
   "execution_count": null,
   "metadata": {},
   "outputs": [],
   "source": [
    "pas.loc[pas['name'] == 'LCX COM', 'name'] = 'LCX.COM'"
   ]
  },
  {
   "cell_type": "code",
   "execution_count": null,
   "metadata": {},
   "outputs": [],
   "source": [
    "findall('beacon')"
   ]
  },
  {
   "cell_type": "code",
   "execution_count": null,
   "metadata": {},
   "outputs": [],
   "source": [
    "pas.loc[pas['name'].apply(lambda x: 'BEACON HILL' in x), 'name'].value_counts()"
   ]
  },
  {
   "cell_type": "code",
   "execution_count": null,
   "metadata": {},
   "outputs": [],
   "source": [
    "pas.loc[pas['name'].apply(lambda x: 'BEACON HILL' in x), 'name'] = 'BEACON HILL STAFFING GROUP'"
   ]
  },
  {
   "cell_type": "code",
   "execution_count": null,
   "metadata": {},
   "outputs": [],
   "source": [
    "lil_pas = pas[pas['transaction_tp'].apply(lambda x: x in [\n",
    "    'Independent expenditure opposing election of candidate', \n",
    "    'Independent expenditure advocating election of candidate', \n",
    "    'Coordinated party expenditure',\n",
    "])]\n",
    "lil_pas['name'].value_counts()[300:350]"
   ]
  },
  {
   "cell_type": "code",
   "execution_count": null,
   "metadata": {},
   "outputs": [],
   "source": [
    "findall(['ams', 'comm'])"
   ]
  },
  {
   "cell_type": "code",
   "execution_count": null,
   "metadata": {},
   "outputs": [],
   "source": [
    "pas.loc[pas['name'].apply(lambda x: 'AMS COMMUNICATIONS' in x), 'name'] = 'AMS COMMUNICATIONS'"
   ]
  },
  {
   "cell_type": "code",
   "execution_count": null,
   "metadata": {},
   "outputs": [],
   "source": [
    "findall('burdick')"
   ]
  },
  {
   "cell_type": "code",
   "execution_count": null,
   "metadata": {},
   "outputs": [],
   "source": [
    "findall('new media')"
   ]
  },
  {
   "cell_type": "code",
   "execution_count": null,
   "metadata": {},
   "outputs": [],
   "source": [
    "pas.loc[pas['name'].apply(lambda x: 'NEW MEDIA FIRM' in x), 'name'] = 'THE NEW MEDIA FIRM'"
   ]
  },
  {
   "cell_type": "code",
   "execution_count": null,
   "metadata": {},
   "outputs": [],
   "source": [
    "findall('broker')"
   ]
  },
  {
   "cell_type": "code",
   "execution_count": null,
   "metadata": {},
   "outputs": [],
   "source": [
    "findall('bouchard')"
   ]
  },
  {
   "cell_type": "code",
   "execution_count": null,
   "metadata": {},
   "outputs": [],
   "source": [
    "pas.loc[pas['name'].apply(lambda x: 'BOUCHARD GOLD' in x), 'name'] = 'BOUCHARD GOLD COMMUNICATIONS'"
   ]
  },
  {
   "cell_type": "code",
   "execution_count": null,
   "metadata": {},
   "outputs": [],
   "source": [
    "findall(['center', 'popular'])"
   ]
  },
  {
   "cell_type": "code",
   "execution_count": null,
   "metadata": {},
   "outputs": [],
   "source": [
    "findall('excelsior')"
   ]
  },
  {
   "cell_type": "code",
   "execution_count": null,
   "metadata": {},
   "outputs": [],
   "source": [
    "findall(['chambers', 'strat'])"
   ]
  },
  {
   "cell_type": "code",
   "execution_count": null,
   "metadata": {},
   "outputs": [],
   "source": [
    "findall(['open', 'hand'])"
   ]
  },
  {
   "cell_type": "code",
   "execution_count": null,
   "metadata": {},
   "outputs": [],
   "source": [
    "findall(['penn', 'united'])"
   ]
  },
  {
   "cell_type": "code",
   "execution_count": null,
   "metadata": {},
   "outputs": [],
   "source": [
    "findall('buying')"
   ]
  },
  {
   "cell_type": "code",
   "execution_count": null,
   "metadata": {},
   "outputs": [],
   "source": [
    "findall(['ax', 'media'])"
   ]
  },
  {
   "cell_type": "code",
   "execution_count": null,
   "metadata": {},
   "outputs": [],
   "source": [
    "findall('equalization')"
   ]
  },
  {
   "cell_type": "code",
   "execution_count": null,
   "metadata": {},
   "outputs": [],
   "source": [
    "findall(['info', 'cision'])"
   ]
  },
  {
   "cell_type": "code",
   "execution_count": null,
   "metadata": {},
   "outputs": [],
   "source": [
    "findall('apple')"
   ]
  },
  {
   "cell_type": "code",
   "execution_count": null,
   "metadata": {},
   "outputs": [],
   "source": [
    "findall(['assoc', 'press'])"
   ]
  },
  {
   "cell_type": "code",
   "execution_count": null,
   "metadata": {},
   "outputs": [],
   "source": [
    "pas.loc[pas['name'].apply(lambda x: 'ASSOCIATED PRESS' in x), 'name'] = 'ASSOCIATED PRESS'"
   ]
  },
  {
   "cell_type": "code",
   "execution_count": null,
   "metadata": {},
   "outputs": [],
   "source": [
    "findall(['color', 'tree'])"
   ]
  },
  {
   "cell_type": "code",
   "execution_count": null,
   "metadata": {},
   "outputs": [],
   "source": [
    "findall(['red', 'horse'])"
   ]
  },
  {
   "cell_type": "code",
   "execution_count": null,
   "metadata": {},
   "outputs": [],
   "source": [
    "pas.loc[pas['name'] == 'REDHORSE STRATEGIES', 'name'] = 'RED HORSE STRATEGIES'"
   ]
  },
  {
   "cell_type": "code",
   "execution_count": null,
   "metadata": {},
   "outputs": [],
   "source": [
    "findall(['shorr', 'holding'])"
   ]
  },
  {
   "cell_type": "code",
   "execution_count": null,
   "metadata": {},
   "outputs": [],
   "source": [
    "findall('liftable')"
   ]
  },
  {
   "cell_type": "code",
   "execution_count": null,
   "metadata": {},
   "outputs": [],
   "source": [
    "findall('penneco')"
   ]
  },
  {
   "cell_type": "code",
   "execution_count": null,
   "metadata": {},
   "outputs": [],
   "source": [
    "findall(['allegheny', 'print'])"
   ]
  },
  {
   "cell_type": "code",
   "execution_count": null,
   "metadata": {},
   "outputs": [],
   "source": [
    "pas.loc[pas['name'] == 'COMMERCIAL PRINTING ALLEGHENY', 'name'] = 'ALLEGHENY COMMERCIAL PRINTING'"
   ]
  },
  {
   "cell_type": "code",
   "execution_count": null,
   "metadata": {},
   "outputs": [],
   "source": [
    "findall('cwa')"
   ]
  },
  {
   "cell_type": "code",
   "execution_count": null,
   "metadata": {},
   "outputs": [],
   "source": [
    "pas.loc[pas['name'].apply(lambda x: 'CWA' in x), 'name'] = 'CWA (umbrella)'"
   ]
  },
  {
   "cell_type": "code",
   "execution_count": null,
   "metadata": {},
   "outputs": [],
   "source": [
    "findall(['basis', 'd'])"
   ]
  },
  {
   "cell_type": "code",
   "execution_count": null,
   "metadata": {},
   "outputs": [],
   "source": [
    "findall('baughman')"
   ]
  },
  {
   "cell_type": "code",
   "execution_count": null,
   "metadata": {},
   "outputs": [],
   "source": [
    "findall(['voter', 'circle'])"
   ]
  },
  {
   "cell_type": "code",
   "execution_count": null,
   "metadata": {},
   "outputs": [],
   "source": [
    "pas.loc[pas['name'].apply(lambda x: ('VOTER' in x) & ('CIRCLE' in x)), 'name'].value_counts()"
   ]
  },
  {
   "cell_type": "code",
   "execution_count": null,
   "metadata": {},
   "outputs": [],
   "source": [
    "pas.loc[pas['name'].apply(lambda x: ('VOTER' in x) & ('CIRCLE' in x)), 'name'] = 'VOTERCIRCLE'"
   ]
  },
  {
   "cell_type": "code",
   "execution_count": null,
   "metadata": {},
   "outputs": [],
   "source": [
    "findall(['dover', 'strat'])"
   ]
  },
  {
   "cell_type": "code",
   "execution_count": null,
   "metadata": {},
   "outputs": [],
   "source": [
    "findall('voter info')"
   ]
  },
  {
   "cell_type": "code",
   "execution_count": null,
   "metadata": {},
   "outputs": [],
   "source": [
    "findall(['united', 'print'])"
   ]
  },
  {
   "cell_type": "code",
   "execution_count": null,
   "metadata": {},
   "outputs": [],
   "source": [
    "findall(['afl', 'cio'])"
   ]
  },
  {
   "cell_type": "code",
   "execution_count": null,
   "metadata": {},
   "outputs": [],
   "source": [
    "pas.loc[pas['name'].apply(lambda x: ('AFL' in x) & ('CIO' in x)), 'name'] = 'AFL-CIO (umbrella)'"
   ]
  },
  {
   "cell_type": "code",
   "execution_count": null,
   "metadata": {},
   "outputs": [],
   "source": [
    "findall(['talent', 'pay'])"
   ]
  },
  {
   "cell_type": "code",
   "execution_count": null,
   "metadata": {},
   "outputs": [],
   "source": [
    "lil_pas = pas[pas['transaction_tp'].apply(lambda x: x in [\n",
    "    'Independent expenditure opposing election of candidate', \n",
    "    'Independent expenditure advocating election of candidate', \n",
    "    'Coordinated party expenditure',\n",
    "])]\n",
    "lil_pas['name'].value_counts()[300:350]"
   ]
  },
  {
   "cell_type": "code",
   "execution_count": null,
   "metadata": {},
   "outputs": [],
   "source": [
    "findall(['pool', 'house'])"
   ]
  },
  {
   "cell_type": "code",
   "execution_count": null,
   "metadata": {},
   "outputs": [],
   "source": [
    "findall(['media', 'bridge'])"
   ]
  },
  {
   "cell_type": "code",
   "execution_count": null,
   "metadata": {},
   "outputs": [],
   "source": [
    "lil_pas = pas[pas['transaction_tp'].apply(lambda x: x in [\n",
    "    'Independent expenditure opposing election of candidate', \n",
    "    'Independent expenditure advocating election of candidate', \n",
    "    'Coordinated party expenditure',\n",
    "])]\n",
    "lil_pas['name'].value_counts()[350:400]"
   ]
  },
  {
   "cell_type": "code",
   "execution_count": null,
   "metadata": {},
   "outputs": [],
   "source": [
    "findall(['prog', 'contact'])"
   ]
  },
  {
   "cell_type": "code",
   "execution_count": null,
   "metadata": {},
   "outputs": [],
   "source": [
    "findall('circle')"
   ]
  },
  {
   "cell_type": "code",
   "execution_count": null,
   "metadata": {},
   "outputs": [],
   "source": [
    "findall('axiom')"
   ]
  },
  {
   "cell_type": "code",
   "execution_count": null,
   "metadata": {},
   "outputs": [],
   "source": [
    "findall('c3') # same?"
   ]
  },
  {
   "cell_type": "code",
   "execution_count": null,
   "metadata": {},
   "outputs": [],
   "source": [
    "findall('pex')"
   ]
  },
  {
   "cell_type": "code",
   "execution_count": null,
   "metadata": {},
   "outputs": [],
   "source": [
    "findall('mooney')"
   ]
  },
  {
   "cell_type": "code",
   "execution_count": null,
   "metadata": {},
   "outputs": [],
   "source": [
    "findall('fulk')"
   ]
  },
  {
   "cell_type": "code",
   "execution_count": null,
   "metadata": {},
   "outputs": [],
   "source": [
    "pas.loc[pas['name'].apply(lambda x: 'FULKERSON' in x), 'name'].value_counts()"
   ]
  },
  {
   "cell_type": "code",
   "execution_count": null,
   "metadata": {},
   "outputs": [],
   "source": [
    "pas.loc[pas['name'].apply(lambda x: 'FULKERSON' in x), 'name'] = 'FULKERSON KENNEDY & COMPANY'"
   ]
  },
  {
   "cell_type": "code",
   "execution_count": null,
   "metadata": {},
   "outputs": [],
   "source": [
    "findall('civis')"
   ]
  },
  {
   "cell_type": "code",
   "execution_count": null,
   "metadata": {},
   "outputs": [],
   "source": [
    "findall('getty')"
   ]
  },
  {
   "cell_type": "code",
   "execution_count": null,
   "metadata": {},
   "outputs": [],
   "source": [
    "findall(['at&t'])"
   ]
  },
  {
   "cell_type": "code",
   "execution_count": null,
   "metadata": {},
   "outputs": [],
   "source": [
    "pas.loc[pas['name'].apply(lambda x: 'AT&T' in x), 'name'] = 'AT&T'"
   ]
  },
  {
   "cell_type": "code",
   "execution_count": null,
   "metadata": {},
   "outputs": [],
   "source": [
    "findall('fiverr')"
   ]
  },
  {
   "cell_type": "code",
   "execution_count": null,
   "metadata": {},
   "outputs": [],
   "source": [
    "findall('cp direct')"
   ]
  },
  {
   "cell_type": "code",
   "execution_count": null,
   "metadata": {},
   "outputs": [],
   "source": [
    "findall('lamar')"
   ]
  },
  {
   "cell_type": "code",
   "execution_count": null,
   "metadata": {},
   "outputs": [],
   "source": [
    "pas.loc[pas['name'].apply(lambda x: 'LAMAR ' in x), 'name'].value_counts()"
   ]
  },
  {
   "cell_type": "code",
   "execution_count": null,
   "metadata": {},
   "outputs": [],
   "source": [
    "pas.loc[pas['name'].apply(lambda x: 'LAMAR ' in x), 'name'] = 'LAMAR'"
   ]
  },
  {
   "cell_type": "code",
   "execution_count": null,
   "metadata": {},
   "outputs": [],
   "source": [
    "findall(['action', 'mail'])"
   ]
  },
  {
   "cell_type": "code",
   "execution_count": null,
   "metadata": {},
   "outputs": [],
   "source": [
    "findall(['moore', 'camp'])"
   ]
  },
  {
   "cell_type": "code",
   "execution_count": null,
   "metadata": {},
   "outputs": [],
   "source": [
    "findall('shell')"
   ]
  },
  {
   "cell_type": "code",
   "execution_count": null,
   "metadata": {},
   "outputs": [],
   "source": [
    "pas.loc[pas['name'].apply(lambda x: ('SHELL ' in x) | ('SHELL-' in x)), 'name'] = 'SHELL CORP'"
   ]
  },
  {
   "cell_type": "code",
   "execution_count": null,
   "metadata": {},
   "outputs": [],
   "source": [
    "findall('opro')"
   ]
  },
  {
   "cell_type": "code",
   "execution_count": null,
   "metadata": {},
   "outputs": [],
   "source": [
    "findall(['mobile', 'log'])"
   ]
  },
  {
   "cell_type": "code",
   "execution_count": null,
   "metadata": {},
   "outputs": [],
   "source": [
    "findall('landscape')"
   ]
  },
  {
   "cell_type": "code",
   "execution_count": null,
   "metadata": {},
   "outputs": [],
   "source": [
    "findall('winning')"
   ]
  },
  {
   "cell_type": "code",
   "execution_count": null,
   "metadata": {},
   "outputs": [],
   "source": [
    "pas.loc[pas['name'].apply(lambda x: 'WINNING' in x), 'name'] = 'WINNING CONNECTIONS'"
   ]
  },
  {
   "cell_type": "code",
   "execution_count": null,
   "metadata": {},
   "outputs": [],
   "source": [
    "findall(['black', 'rock'])"
   ]
  },
  {
   "cell_type": "code",
   "execution_count": null,
   "metadata": {},
   "outputs": [],
   "source": [
    "findall(['hopkins', 'sachs'])"
   ]
  },
  {
   "cell_type": "code",
   "execution_count": null,
   "metadata": {},
   "outputs": [],
   "source": [
    "findall('reston')"
   ]
  },
  {
   "cell_type": "code",
   "execution_count": null,
   "metadata": {},
   "outputs": [],
   "source": [
    "findall('v12')"
   ]
  },
  {
   "cell_type": "code",
   "execution_count": null,
   "metadata": {},
   "outputs": [],
   "source": [
    "findall(['ad', 'victory'])"
   ]
  },
  {
   "cell_type": "code",
   "execution_count": null,
   "metadata": {},
   "outputs": [],
   "source": [
    "findall(['betty', 'smith'])"
   ]
  },
  {
   "cell_type": "code",
   "execution_count": null,
   "metadata": {},
   "outputs": [],
   "source": [
    "pas.loc[pas['name'].apply(lambda x: ('BETTY' in x) & ('SMITH' in x)), 'name'] = 'BETTY AND SMITH LLC'"
   ]
  },
  {
   "cell_type": "code",
   "execution_count": null,
   "metadata": {},
   "outputs": [],
   "source": [
    "lil_pas = pas[pas['transaction_tp'].apply(lambda x: x in [\n",
    "    'Independent expenditure opposing election of candidate', \n",
    "    'Independent expenditure advocating election of candidate', \n",
    "    'Coordinated party expenditure',\n",
    "])]\n",
    "lil_pas['name'].value_counts()[350:400]"
   ]
  },
  {
   "cell_type": "code",
   "execution_count": null,
   "metadata": {},
   "outputs": [],
   "source": [
    "findall('cfg')"
   ]
  },
  {
   "cell_type": "code",
   "execution_count": null,
   "metadata": {},
   "outputs": [],
   "source": [
    "findall('jm2')"
   ]
  },
  {
   "cell_type": "code",
   "execution_count": null,
   "metadata": {},
   "outputs": [],
   "source": [
    "lil_pas = pas[pas['transaction_tp'].apply(lambda x: x in [\n",
    "    'Independent expenditure opposing election of candidate', \n",
    "    'Independent expenditure advocating election of candidate', \n",
    "    'Coordinated party expenditure',\n",
    "])]\n",
    "lil_pas['name'].value_counts()[400:450]"
   ]
  },
  {
   "cell_type": "code",
   "execution_count": null,
   "metadata": {},
   "outputs": [],
   "source": [
    "findall('elevate')"
   ]
  },
  {
   "cell_type": "code",
   "execution_count": null,
   "metadata": {},
   "outputs": [],
   "source": [
    "findall('mottola')"
   ]
  },
  {
   "cell_type": "code",
   "execution_count": null,
   "metadata": {},
   "outputs": [],
   "source": [
    "pas.loc[pas['name'].apply(lambda x: 'MOTTOLA' in x), 'name'] = 'MOTTOLA CONSULTING'"
   ]
  },
  {
   "cell_type": "code",
   "execution_count": null,
   "metadata": {},
   "outputs": [],
   "source": [
    "findall('mcnally')"
   ]
  },
  {
   "cell_type": "code",
   "execution_count": null,
   "metadata": {},
   "outputs": [],
   "source": [
    "findall('costco')"
   ]
  },
  {
   "cell_type": "code",
   "execution_count": null,
   "metadata": {},
   "outputs": [],
   "source": [
    "pas.loc[pas['name'].apply(lambda x: 'COSTCO' in x), 'name'] = 'COSTCO (umbrella)'"
   ]
  },
  {
   "cell_type": "code",
   "execution_count": null,
   "metadata": {},
   "outputs": [],
   "source": [
    "findall(['nat', 'cable'])"
   ]
  },
  {
   "cell_type": "code",
   "execution_count": null,
   "metadata": {},
   "outputs": [],
   "source": [
    "findall(['vera', 'pax'])"
   ]
  },
  {
   "cell_type": "code",
   "execution_count": null,
   "metadata": {},
   "outputs": [],
   "source": [
    "findall('hello')"
   ]
  },
  {
   "cell_type": "code",
   "execution_count": null,
   "metadata": {},
   "outputs": [],
   "source": [
    "findall('map')"
   ]
  },
  {
   "cell_type": "code",
   "execution_count": null,
   "metadata": {},
   "outputs": [],
   "source": [
    "pas.loc[pas['name'].apply(lambda x: 'MAP' in x), 'name'].value_counts()"
   ]
  },
  {
   "cell_type": "code",
   "execution_count": null,
   "metadata": {},
   "outputs": [],
   "source": [
    "pas.loc[pas['name'] == 'MAP POLITICAL COMMUNICATION', 'name'] = 'MAP POLITICAL COMMUNICATIONS'"
   ]
  },
  {
   "cell_type": "code",
   "execution_count": null,
   "metadata": {},
   "outputs": [],
   "source": [
    "findall('engineer')"
   ]
  },
  {
   "cell_type": "code",
   "execution_count": null,
   "metadata": {},
   "outputs": [],
   "source": [
    "findall(['image', 'plus'])"
   ]
  },
  {
   "cell_type": "code",
   "execution_count": null,
   "metadata": {},
   "outputs": [],
   "source": [
    "findall('vedda')"
   ]
  },
  {
   "cell_type": "code",
   "execution_count": null,
   "metadata": {},
   "outputs": [],
   "source": [
    "findall('godfrey')"
   ]
  },
  {
   "cell_type": "code",
   "execution_count": null,
   "metadata": {},
   "outputs": [],
   "source": [
    "findall('wawa')"
   ]
  },
  {
   "cell_type": "code",
   "execution_count": null,
   "metadata": {},
   "outputs": [],
   "source": [
    "findall('grunwald')"
   ]
  },
  {
   "cell_type": "code",
   "execution_count": null,
   "metadata": {},
   "outputs": [],
   "source": [
    "findall('fuse')"
   ]
  },
  {
   "cell_type": "code",
   "execution_count": null,
   "metadata": {},
   "outputs": [],
   "source": [
    "findall('api ')"
   ]
  },
  {
   "cell_type": "code",
   "execution_count": null,
   "metadata": {},
   "outputs": [],
   "source": [
    "findall(['holiday', 'inn'])"
   ]
  },
  {
   "cell_type": "code",
   "execution_count": null,
   "metadata": {},
   "outputs": [],
   "source": [
    "pas.loc[pas['name'].apply(lambda x: 'HOLIDAY INN' in x), 'name'] = 'HOLIDAY INN (umbrella)'"
   ]
  },
  {
   "cell_type": "code",
   "execution_count": null,
   "metadata": {},
   "outputs": [],
   "source": [
    "findall(['hopkin', 'sac'])"
   ]
  },
  {
   "cell_type": "code",
   "execution_count": null,
   "metadata": {},
   "outputs": [],
   "source": [
    "pas.loc[pas['name'].apply(lambda x: ('HOPKIN' in x) & ('SACHS' in x)), 'name'] = 'HOPKINS+SACHS'"
   ]
  },
  {
   "cell_type": "code",
   "execution_count": null,
   "metadata": {},
   "outputs": [],
   "source": [
    "findall('marchant')"
   ]
  },
  {
   "cell_type": "code",
   "execution_count": null,
   "metadata": {},
   "outputs": [],
   "source": [
    "findall('ddc')"
   ]
  },
  {
   "cell_type": "code",
   "execution_count": null,
   "metadata": {},
   "outputs": [],
   "source": [
    "pas.loc[pas['name'].apply(lambda x: 'DDC' in x), 'name'].value_counts()"
   ]
  },
  {
   "cell_type": "code",
   "execution_count": null,
   "metadata": {},
   "outputs": [],
   "source": [
    "pas.loc[pas['name'].apply(lambda x: 'DDC' in x), 'name'] = 'DDC'"
   ]
  },
  {
   "cell_type": "code",
   "execution_count": null,
   "metadata": {},
   "outputs": [],
   "source": [
    "findall('gowan')"
   ]
  },
  {
   "cell_type": "code",
   "execution_count": null,
   "metadata": {},
   "outputs": [],
   "source": [
    "findall(['wish', 'list'])"
   ]
  },
  {
   "cell_type": "code",
   "execution_count": null,
   "metadata": {},
   "outputs": [],
   "source": [
    "findall('a&b')"
   ]
  },
  {
   "cell_type": "code",
   "execution_count": null,
   "metadata": {},
   "outputs": [],
   "source": [
    "lil_pas = pas[pas['transaction_tp'].apply(lambda x: x in [\n",
    "    'Independent expenditure opposing election of candidate', \n",
    "    'Independent expenditure advocating election of candidate', \n",
    "    'Coordinated party expenditure',\n",
    "])]\n",
    "lil_pas['name'].value_counts()[400:450]"
   ]
  },
  {
   "cell_type": "code",
   "execution_count": null,
   "metadata": {},
   "outputs": [],
   "source": [
    "findall('instagram')"
   ]
  },
  {
   "cell_type": "code",
   "execution_count": null,
   "metadata": {},
   "outputs": [],
   "source": [
    "pas.loc[pas['name'] == 'INSTAGRAM', 'name'] = 'FACEBOOK'"
   ]
  },
  {
   "cell_type": "code",
   "execution_count": null,
   "metadata": {},
   "outputs": [],
   "source": [
    "lil_pas = pas[pas['transaction_tp'].apply(lambda x: x in [\n",
    "    'Independent expenditure opposing election of candidate', \n",
    "    'Independent expenditure advocating election of candidate', \n",
    "    'Coordinated party expenditure',\n",
    "])]\n",
    "lil_pas['name'].value_counts()[450:500]"
   ]
  },
  {
   "cell_type": "code",
   "execution_count": null,
   "metadata": {},
   "outputs": [],
   "source": [
    "findall(['chi', 'dona'])"
   ]
  },
  {
   "cell_type": "code",
   "execution_count": null,
   "metadata": {},
   "outputs": [],
   "source": [
    "findall('strata')"
   ]
  },
  {
   "cell_type": "code",
   "execution_count": null,
   "metadata": {},
   "outputs": [],
   "source": [
    "findall(['right', 'way'])"
   ]
  },
  {
   "cell_type": "code",
   "execution_count": null,
   "metadata": {},
   "outputs": [],
   "source": [
    "findall(['camp', 'work'])"
   ]
  },
  {
   "cell_type": "code",
   "execution_count": null,
   "metadata": {},
   "outputs": [],
   "source": [
    "findall(['mega', 't', 'v'])"
   ]
  },
  {
   "cell_type": "code",
   "execution_count": null,
   "metadata": {},
   "outputs": [],
   "source": [
    "findall('letter')"
   ]
  },
  {
   "cell_type": "code",
   "execution_count": null,
   "metadata": {},
   "outputs": [],
   "source": [
    "findall('cielo')"
   ]
  },
  {
   "cell_type": "code",
   "execution_count": null,
   "metadata": {},
   "outputs": [],
   "source": [
    "findall(['black', 'fork'])"
   ]
  },
  {
   "cell_type": "code",
   "execution_count": null,
   "metadata": {},
   "outputs": [],
   "source": [
    "findall('sway')"
   ]
  },
  {
   "cell_type": "code",
   "execution_count": null,
   "metadata": {},
   "outputs": [],
   "source": [
    "pas.loc[pas['name'].apply(lambda x: 'SWAYABLE' in x), 'name'] = 'WORLDVIEW INC DBA SWAYABLE'"
   ]
  },
  {
   "cell_type": "code",
   "execution_count": null,
   "metadata": {},
   "outputs": [],
   "source": [
    "pas.loc[pas['name'] == 'SWAY', 'name'] = 'SWAY MEDIA'"
   ]
  },
  {
   "cell_type": "code",
   "execution_count": null,
   "metadata": {},
   "outputs": [],
   "source": [
    "findall('dunk')"
   ]
  },
  {
   "cell_type": "code",
   "execution_count": null,
   "metadata": {},
   "outputs": [],
   "source": [
    "pas.loc[pas['name'].apply(lambda x: 'DUNK' in x), 'name'] = 'DUNKIN DONUTS'"
   ]
  },
  {
   "cell_type": "code",
   "execution_count": null,
   "metadata": {},
   "outputs": [],
   "source": [
    "findall('futura')"
   ]
  },
  {
   "cell_type": "code",
   "execution_count": null,
   "metadata": {},
   "outputs": [],
   "source": [
    "findall('ethic')"
   ]
  },
  {
   "cell_type": "code",
   "execution_count": null,
   "metadata": {},
   "outputs": [],
   "source": [
    "pas.loc[pas['name'].apply(lambda x: 'ETHICA' in x), 'name'] = 'ETHICA MEDIA'"
   ]
  },
  {
   "cell_type": "code",
   "execution_count": null,
   "metadata": {},
   "outputs": [],
   "source": [
    "findall(['sun', 'pass'])"
   ]
  },
  {
   "cell_type": "code",
   "execution_count": null,
   "metadata": {},
   "outputs": [],
   "source": [
    "findall(['fed', 'ex'])"
   ]
  },
  {
   "cell_type": "code",
   "execution_count": null,
   "metadata": {},
   "outputs": [],
   "source": [
    "pas.loc[pas['name'].apply(lambda x: ('FEDEX' in x) | ('FED EX' in x)), 'name'] = 'FEDERAL EXPRESS'"
   ]
  },
  {
   "cell_type": "code",
   "execution_count": null,
   "metadata": {},
   "outputs": [],
   "source": [
    "findall(['lg', 'camp'])"
   ]
  },
  {
   "cell_type": "code",
   "execution_count": null,
   "metadata": {},
   "outputs": [],
   "source": [
    "findall('zwerd')"
   ]
  },
  {
   "cell_type": "code",
   "execution_count": null,
   "metadata": {},
   "outputs": [],
   "source": [
    "findall(['thom', 'comm'])"
   ]
  },
  {
   "cell_type": "code",
   "execution_count": null,
   "metadata": {},
   "outputs": [],
   "source": [
    "findall(['switch', 'board'])"
   ]
  },
  {
   "cell_type": "code",
   "execution_count": null,
   "metadata": {},
   "outputs": [],
   "source": [
    "pas.loc[pas['name'].apply(lambda x: 'SWITCHBOARD' in x), 'name'] = 'SWITCHBOARD COMMUNICATIONS'"
   ]
  },
  {
   "cell_type": "code",
   "execution_count": null,
   "metadata": {},
   "outputs": [],
   "source": [
    "findall(['lux', 'media'])"
   ]
  },
  {
   "cell_type": "code",
   "execution_count": null,
   "metadata": {},
   "outputs": [],
   "source": [
    "findall('advantage')"
   ]
  },
  {
   "cell_type": "code",
   "execution_count": null,
   "metadata": {},
   "outputs": [],
   "source": [
    "pas.loc[pas['name'].apply(lambda x: 'ADVANTAGE' in x), 'name'].value_counts()"
   ]
  },
  {
   "cell_type": "code",
   "execution_count": null,
   "metadata": {},
   "outputs": [],
   "source": [
    "pas.loc[pas['name'].apply(lambda x: ('ADVANTAGE DIRECT' in x) | (x == 'ADVANTAGE')), 'name'] = \\\n",
    "'ADVANTAGE DIRECT COMMUNICATIONS'"
   ]
  },
  {
   "cell_type": "code",
   "execution_count": null,
   "metadata": {},
   "outputs": [],
   "source": [
    "findall(['rev', 'field'])"
   ]
  },
  {
   "cell_type": "code",
   "execution_count": null,
   "metadata": {},
   "outputs": [],
   "source": [
    "findall(['ring', 'lim'])"
   ]
  },
  {
   "cell_type": "code",
   "execution_count": null,
   "metadata": {},
   "outputs": [],
   "source": [
    "findall(['voter', 'guide'])"
   ]
  },
  {
   "cell_type": "code",
   "execution_count": null,
   "metadata": {},
   "outputs": [],
   "source": [
    "lil_pas = pas[pas['transaction_tp'].apply(lambda x: x in [\n",
    "    'Independent expenditure opposing election of candidate', \n",
    "    'Independent expenditure advocating election of candidate', \n",
    "    'Coordinated party expenditure',\n",
    "])]\n",
    "lil_pas['name'].value_counts()[450:500]"
   ]
  },
  {
   "cell_type": "code",
   "execution_count": null,
   "metadata": {},
   "outputs": [],
   "source": [
    "lil_pas = pas[pas['transaction_tp'].apply(lambda x: x in [\n",
    "    'Independent expenditure opposing election of candidate', \n",
    "    'Independent expenditure advocating election of candidate', \n",
    "    'Coordinated party expenditure',\n",
    "])]\n",
    "lil_pas['name'].value_counts()[500:550]"
   ]
  },
  {
   "cell_type": "code",
   "execution_count": null,
   "metadata": {},
   "outputs": [],
   "source": [
    "data = []\n",
    "labels = list(set(pas.loc[pd.notnull(pas['cand_id']), 'transaction_tp']))\n",
    "for which in labels:\n",
    "    lil_pas = pas[pd.notnull(pas['cand_id']) & (pas['transaction_tp'] == which)]\n",
    "    data.append(lil_pas['transaction_amt']/1.0E6)\n",
    "    print(which)\n",
    "    print('count:', len(lil_pas))\n",
    "    print('unique:', len(lil_pas['name'].value_counts()))\n",
    "    print('median:', lil_pas['transaction_amt'].median())\n",
    "    print('mean:', lil_pas['transaction_amt'].mean())\n",
    "    print('std dev:', lil_pas['transaction_amt'].std())\n",
    "    print(lil_pas['name'].value_counts()[:10])\n",
    "    print('\\n')\n",
    "\n",
    "plt.figure(figsize = (20, 2))\n",
    "\n",
    "plt.boxplot(data, vert = False)\n",
    "plt.yticks(range(1, len(labels) + 1), labels, fontsize = 12)\n",
    "plt.xlabel('$MM USD')\n",
    "\n",
    "plt.show();"
   ]
  },
  {
   "cell_type": "code",
   "execution_count": null,
   "metadata": {},
   "outputs": [],
   "source": [
    "pas['transaction_tp'].value_counts()"
   ]
  },
  {
   "cell_type": "code",
   "execution_count": null,
   "metadata": {},
   "outputs": [],
   "source": [
    "tp_dict = dict(zip(list(pas['transaction_tp'].value_counts().index), [\n",
    "    {\n",
    "        'ls' : '-',\n",
    "        'lw' : 2.0,\n",
    "    },\n",
    "    {\n",
    "        'ls' : '--',\n",
    "        'lw' : 2.0,\n",
    "    },\n",
    "    {\n",
    "        'ls' : '-.',\n",
    "        'lw' : 2.0,\n",
    "    },\n",
    "    {\n",
    "        'ls' : ':',\n",
    "        'lw' : 2.0,\n",
    "    },\n",
    "    {\n",
    "        'ls' : ':',\n",
    "        'lw' : 1.0,\n",
    "    },\n",
    "    \n",
    "]))\n",
    "\n",
    "# states/territories\n",
    "# {<abbreviation> : <full name>}\n",
    "abbr_cand = pd.read_csv('../../assets/abbreviations.csv')\n",
    "abbr_dict = dict(zip(abbr_cand['abbreviation'], abbr_cand['name']))"
   ]
  },
  {
   "cell_type": "code",
   "execution_count": null,
   "metadata": {
    "scrolled": false
   },
   "outputs": [],
   "source": [
    "contests = sorted(list(set(cand['contest'])))\n",
    "# contests = [x for x in contests if x != '00_00']\n",
    "\n",
    "# plot settings per party\n",
    "party_dict = {\n",
    "    'Republican' : {\n",
    "        'hex' : '#FF6661', \n",
    "        'party' : 'Republican',\n",
    "    },\n",
    "    'Democrat' : {\n",
    "        'hex' : '#5494F7', \n",
    "        'party' : 'Democrat',\n",
    "    },\n",
    "    'Third party' : {\n",
    "        'hex' : '#15DCDC',\n",
    "        'party' : 'Third party',\n",
    "    },\n",
    "    'Democrat 2' : {\n",
    "        'hex' : '#0A59D3',\n",
    "        'party' : 'Democrat'\n",
    "        \n",
    "    },  \n",
    "    'Republican 2' : {\n",
    "        'hex' : '#cd0600',\n",
    "        'party' : 'Republican'\n",
    "    },\n",
    "    'Third party 2' : {\n",
    "        'hex' : '#0C8080',\n",
    "        'party' : 'Third party',\n",
    "    },\n",
    "    'Democrat 3' : {\n",
    "        'hex' : '#063784',\n",
    "        'party' : 'Democrat'\n",
    "        \n",
    "    },  \n",
    "    'Republican 3' : {\n",
    "        'hex' : '#750400',\n",
    "        'party' : 'Republican'\n",
    "    },\n",
    "    'Third party 3' : {\n",
    "        'hex' : '#074949',\n",
    "        'party' : 'Third party',\n",
    "    },\n",
    "}\n",
    "\n",
    "vol_light = '#f8fbfc'\n",
    "vol_dark = '#263C4D'\n",
    "    \n",
    "for contest in contests:\n",
    "    legend_elements = []\n",
    "    parties = []\n",
    "    lil_cand = cand[cand['contest'] == contest]\n",
    "    lil_cand.sort_values(['cand_pty_affiliation'], ascending = True, inplace = True)\n",
    "    \n",
    "    candidates = list(lil_cand['cand_id'])\n",
    "    candidates = [x for x in candidates if x in list(set(pas['cand_id']))]\n",
    "    if len(candidates) > 1:\n",
    "        print('\\n\\n---------------------------------------------------\\n')\n",
    "        print(contest)\n",
    "        fig = plt.figure(figsize = (14, 8))\n",
    "        fig.patch.set_facecolor(vol_light)\n",
    "        ax = fig.add_subplot(111)\n",
    "        ax.patch.set_facecolor(vol_light)\n",
    "\n",
    "        vol_dark_rcparams = [\n",
    "            'patch.edgecolor',\n",
    "            'grid.color',\n",
    "            'text.color',\n",
    "            'axes.labelcolor',\n",
    "            'xtick.color',\n",
    "            'ytick.color',\n",
    "            'axes.edgecolor'\n",
    "        ]\n",
    "\n",
    "        for which in vol_dark_rcparams:\n",
    "            plt.rcParams[which] = vol_dark\n",
    "\n",
    "        font_dirs = ['../../css/fonts/for_matplotlib/', ]\n",
    "        font_files = fm.findSystemFonts(fontpaths=font_dirs)\n",
    "        font_list = fm.createFontList(font_files)\n",
    "        fm.fontManager.ttflist.extend(font_list)\n",
    "\n",
    "        plt.rcParams['font.family'] = 'DM Sans Medium'\n",
    "    \n",
    "        for candidate in candidates:\n",
    "            if candidate in list(winners['cand_id'].values):\n",
    "                mult = 2\n",
    "                win = ' (winner)'\n",
    "            else:\n",
    "                mult = 1\n",
    "                win = ''\n",
    "            lil_pas = pas[pas['cand_id'] == candidate].sort_values(['transaction_dt'])\n",
    "            name = list(lil_cand.loc[lil_cand['cand_id'] == candidate, \n",
    "                                     'cand_name'].values)[0]\n",
    "            print(name)\n",
    "            print('\\n')\n",
    "            party = list(lil_cand.loc[lil_cand['cand_id'] == candidate, \n",
    "                                      'cand_pty_affiliation'].values)[0]\n",
    "            if party in parties:\n",
    "                if '2' in party:\n",
    "                    party = f'{party} 3'\n",
    "                else:\n",
    "                    party = f'{party} 2'\n",
    "            parties.append(party)\n",
    "            \n",
    "            incumbent = (list(lil_cand.loc[lil_cand['cand_id'] == candidate, \n",
    "                                      'cand_ici'].values)[0] == 'I')\n",
    "            if incumbent:\n",
    "                inc = ' (incumbent)'\n",
    "            else:\n",
    "                inc = ''\n",
    "            \n",
    "            opposers = list(set(lil_pas.loc[lil_pas['transaction_tp'] == \\\n",
    "                        'Independent expenditure opposing election of candidate', \n",
    "                        'name']))\n",
    "            # set the legend marker\n",
    "            legend_elements.append(\n",
    "                mpatches.Patch(\n",
    "                    [0], \n",
    "                    [0], \n",
    "                    color = party_dict[party]['hex'], \n",
    "                    label = party[0] + inc + win + ' - ' + name,\n",
    "                    alpha = 0.85,\n",
    "                    )\n",
    "            )\n",
    "            if len(opposers) > 0:\n",
    "                opp_list = []\n",
    "                for opposer in opposers:\n",
    "                    opp_pas = lil_pas.loc[lil_pas['name'] == opposer, 'transaction_amt'].sum()\n",
    "                    opp_list.append((opposer.replace(' (against)', '').replace('comm1__', ''), opp_pas))\n",
    "\n",
    "                opp_df = pd.DataFrame(\n",
    "                    opp_list, \n",
    "                )\n",
    "                opp_df.columns = ['name', 'total']\n",
    "                opp_df.sort_values(['total'], ascending = False, inplace = True)\n",
    "                opp_df.reset_index(drop = True, inplace = True)\n",
    "                if len(opp_df) > 5:\n",
    "                    opp_df = opp_df.loc[:5, :]\n",
    "                print('OPPOSING')\n",
    "                print(opp_df)\n",
    "                print('\\n')\n",
    "                \n",
    "            supporters = list(set(lil_pas.loc[lil_pas['transaction_tp'] == \\\n",
    "                        'Independent expenditure advocating election of candidate', \n",
    "                        'name']))\n",
    "            if len(supporters) > 0:\n",
    "                supp_list = []\n",
    "                for supporter in supporters:\n",
    "                    supp_pas = lil_pas.loc[\n",
    "                        lil_pas['name'] == supporter, \n",
    "                        'transaction_amt'].sum()\n",
    "                    supp_list.append((supporter.replace(' (for)', '').replace('comm1__', ''), supp_pas))\n",
    "\n",
    "                supp_df = pd.DataFrame(\n",
    "                    supp_list, \n",
    "                )\n",
    "                supp_df.columns = ['name', 'total']\n",
    "                supp_df.sort_values(['total'], ascending = False, inplace = True)\n",
    "                supp_df.reset_index(drop = True, inplace = True)\n",
    "                if len(supp_df) > 5:\n",
    "                    supp_df = supp_df.loc[:5, :]\n",
    "                print('ADVOCATING')\n",
    "                print(supp_df)\n",
    "                print('\\n')\n",
    "                \n",
    "            nonaffils = list(set(lil_pas.loc[lil_pas['transaction_tp'] == \\\n",
    "                        'Contribution made to nonaffiliated committee', \n",
    "                        'name']))\n",
    "            if len(nonaffils) > 0:\n",
    "                non_list = []\n",
    "                for nonaffil in nonaffils:\n",
    "                    non_pas = lil_pas.loc[\n",
    "                        lil_pas['name'] == nonaffil, \n",
    "                        'transaction_amt'].sum()\n",
    "                    non_list.append((nonaffil.replace(' (for)', '').replace('comm1__', ''), non_pas))\n",
    "\n",
    "                non_df = pd.DataFrame(\n",
    "                    non_list, \n",
    "                )\n",
    "                non_df.columns = ['name', 'total']\n",
    "                non_df.sort_values(['total'], ascending = False, inplace = True)\n",
    "                non_df.reset_index(drop = True, inplace = True)\n",
    "                if len(non_df) > 5:\n",
    "                    non_df = non_df.loc[:5, :]\n",
    "                print('TO NONAFFILIATED CMTE')\n",
    "                print(non_df)\n",
    "                print('\\n')\n",
    "                \n",
    "            tps = list(set(lil_pas['transaction_tp']))\n",
    "            for tp in tps:\n",
    "                liller_pas = lil_pas[lil_pas['transaction_tp'] == tp]\n",
    "                liller_pas['cumsum'] = liller_pas['transaction_amt'].cumsum()\n",
    "                if len(liller_pas) == 1:\n",
    "                    plt.scatter(\n",
    "                        liller_pas['transaction_dt'],\n",
    "                        liller_pas['cumsum']/1.0E6,\n",
    "                        color = party_dict[party]['hex'],\n",
    "                        alpha = 0.85,\n",
    "                    )\n",
    "                else:\n",
    "                    plt.plot(\n",
    "                        liller_pas['transaction_dt'],\n",
    "                        liller_pas['cumsum']/1.0E6,\n",
    "                        color = party_dict[party]['hex'],\n",
    "                        ls = tp_dict[tp]['ls'],\n",
    "                        alpha = 0.85,\n",
    "                        lw = mult*tp_dict[tp]['lw'],\n",
    "                    )\n",
    "            \n",
    "            print('\\n\\n---------------------------------------------------\\n')\n",
    "        \n",
    "        if contest == '00_00':\n",
    "            title = f'{year} Presidential Contest:\\nCommittee Contributions'\n",
    "        else:\n",
    "            state = abbr_dict[contest.split('_')[0]]\n",
    "            district = contest.split('_')[1]\n",
    "            if district == 'senate':\n",
    "                title = f'{year} U.S. Senate Elections:\\nCommittee Contributions for {state} Contest'\n",
    "            elif district != '00':\n",
    "                district = district.lstrip('0')\n",
    "                title = f'{year} U.S. House of Representatives Elections:\\nCommittee Contributions for {state} District {district}'\n",
    "            else:\n",
    "                title = f'{year} U.S. House of Representatives Elections:\\nCommittee Contributions in {state} At-Large District'\n",
    "        if 'O' in list(cand.loc[cand['cand_id'].apply(lambda x: x in candidates), 'cand_ici'].values):\n",
    "            openflag = ' (open seat)'\n",
    "        else:\n",
    "            openflag = ''\n",
    "        plt.title(\n",
    "            title + openflag, \n",
    "            fontsize = 18, \n",
    "        )\n",
    "        plt.xlabel('Date', fontsize = 18)\n",
    "        plt.xlim([pas['transaction_dt'].min(), pas['transaction_dt'].max()])\n",
    "        ax.xaxis.set_major_formatter(mdates.DateFormatter('%b \\'%y'))\n",
    "        plt.xticks(fontsize = 14)\n",
    "        plt.ylabel('Cumulative contributions\\n($MM USD)', fontsize = 14)\n",
    "        plt.yticks(fontsize = 14)\n",
    "        \n",
    "        plt.axvline(\n",
    "            dt.strptime('2018-11-06', '%Y-%m-%d'), \n",
    "            alpha = 0.3,\n",
    "            label = 'Election Day',\n",
    "            color = vol_dark,\n",
    "            ls = '--',\n",
    "            \n",
    "        )\n",
    "        fec_deadlines = [\n",
    "            '2017-03-31',\n",
    "            '2017-06-30',\n",
    "            '2017-09-30',\n",
    "            '2017-12-31',\n",
    "            '2018-03-31',\n",
    "            '2018-06-30',\n",
    "            '2018-09-30',\n",
    "            '2018-10-19', # pre-general\n",
    "            '2018-11-28', # post-general\n",
    "            '2018-12-31', # year-end\n",
    "            \n",
    "        ]\n",
    "        for x in fec_deadlines:\n",
    "            plt.axvline(\n",
    "                dt.strptime(x, '%Y-%m-%d'), \n",
    "                color = vol_dark,\n",
    "                alpha = 0.1,\n",
    "                lw = 1.0,\n",
    "                ls = '--',\n",
    "                \n",
    "            )\n",
    "        tps = sorted(list(set(pas.loc[pas['cand_id'].apply(lambda x: x in candidates), 'transaction_tp'])))\n",
    "        for tp in tps:\n",
    "            legend_elements.append(\n",
    "                Line2D(\n",
    "                    [0], \n",
    "                    [0], \n",
    "                    color = vol_dark, \n",
    "                    label = tp.replace('advocating', 'ADVOCATING').replace('opposing', 'OPPOSING'),\n",
    "                    ls = tp_dict[tp]['ls'],\n",
    "                    lw = tp_dict[tp]['lw'], \n",
    "                    alpha = 0.8,\n",
    "                    )\n",
    "                )\n",
    "        legend_elements.append(\n",
    "                mpatches.Patch(\n",
    "                    [0], \n",
    "                    [0], \n",
    "                    color = vol_light, \n",
    "                    label = 'NOTE: winner in bold',\n",
    "                    )\n",
    "                )\n",
    "            \n",
    "        legend = plt.legend(\n",
    "            loc='upper left', \n",
    "            fontsize=12, \n",
    "            facecolor='#f8fbfc', \n",
    "            handles=legend_elements,\n",
    "            handlelength=3.25,\n",
    "        )\n",
    "        \n",
    "        x = ax.annotate('Sources: Ballotpedia, FEC.gov', \n",
    "                        xy=(0.0, 0.0), \n",
    "                        xytext=(69.0, -28.0), \n",
    "                        ha='center', \n",
    "                        va='bottom', \n",
    "                        textcoords='axes pixels', \n",
    "                        xycoords='axes pixels', \n",
    "                       )\n",
    "        # logo\n",
    "        arr_img = plt.imread('../../assets/VOL_Logo_Color_Light_Green.png')\n",
    "        imagebox = OffsetImage(arr_img, zoom=0.07)\n",
    "        imagebox.image.axes = ax\n",
    "        xy = (0.0, -45.0)\n",
    "        ab = AnnotationBbox(imagebox, \n",
    "                            xy,\n",
    "                            xybox=(xy[0], xy[1]),\n",
    "                            xycoords='axes pixels',\n",
    "                            boxcoords=('axes pixels'),\n",
    "                            box_alignment=(0., 0.),\n",
    "                            frameon=False,\n",
    "                           )\n",
    "        ax.add_artist(ab)\n",
    "        plt.tight_layout()\n",
    "\n",
    "        plt.show();"
   ]
  },
  {
   "cell_type": "code",
   "execution_count": null,
   "metadata": {},
   "outputs": [],
   "source": [
    "data = []\n",
    "labels = list(set(pas.loc[pd.notnull(pas['cand_id']), 'transaction_tp']))\n",
    "for which in labels:\n",
    "    lil_pas = pas[pd.notnull(pas['cand_id']) & (pas['transaction_tp'] == which)]\n",
    "    data.append(lil_pas['transaction_amt']/1.0E6)\n",
    "    print(which)\n",
    "    print('count:', len(lil_pas))\n",
    "    print('unique:', len(lil_pas['name'].value_counts()))\n",
    "    print('median:', lil_pas['transaction_amt'].median())\n",
    "    print('mean:', lil_pas['transaction_amt'].mean())\n",
    "    print('std dev:', lil_pas['transaction_amt'].std())\n",
    "    print(lil_pas['name'].value_counts()[:10])\n",
    "    print('\\n')\n",
    "\n",
    "plt.figure(figsize = (20, 2))\n",
    "\n",
    "plt.boxplot(data, vert = False)\n",
    "plt.yticks(range(1, len(labels) + 1), labels, fontsize = 12)\n",
    "plt.xlabel('$MM USD')\n",
    "\n",
    "plt.show();"
   ]
  },
  {
   "cell_type": "code",
   "execution_count": null,
   "metadata": {},
   "outputs": [],
   "source": [
    "# label contributions *advocating for* candidate\n",
    "pas.loc[\n",
    "    pas['transaction_tp'] == 'Independent expenditure advocating election of candidate', \n",
    "    'name'] = \\\n",
    "pas.loc[\n",
    "    pas['transaction_tp'] == 'Independent expenditure advocating election of candidate', \n",
    "    'name'].apply(lambda x: 'comm1__' + x + ' (for)')"
   ]
  },
  {
   "cell_type": "code",
   "execution_count": null,
   "metadata": {},
   "outputs": [],
   "source": [
    "# label contributions *opposing* candidate\n",
    "pas.loc[\n",
    "    pas['transaction_tp'] == 'Independent expenditure opposing election of candidate', \n",
    "    'name'] = \\\n",
    "pas.loc[\n",
    "    pas['transaction_tp'] == 'Independent expenditure opposing election of candidate', \n",
    "    'name'].apply(lambda x: 'comm1__' + x + ' (against)')"
   ]
  },
  {
   "cell_type": "code",
   "execution_count": null,
   "metadata": {},
   "outputs": [],
   "source": [
    "# label coord party expenditures\n",
    "pas.loc[\n",
    "    pas['transaction_tp'] == 'Coordinated party expenditure', \n",
    "    'name'] = \\\n",
    "pas.loc[\n",
    "    pas['transaction_tp'] == 'Coordinated party expenditure', \n",
    "    'name'].apply(lambda x: 'comm1__' + x + ' (coord pty exp)')"
   ]
  },
  {
   "cell_type": "code",
   "execution_count": null,
   "metadata": {},
   "outputs": [],
   "source": [
    "# label coord party expenditures\n",
    "pas.loc[\n",
    "    pas['transaction_tp'] == 'Contribution made to nonaffiliated committee', \n",
    "    'name'] = \\\n",
    "pas.loc[\n",
    "    pas['transaction_tp'] == 'Contribution made to nonaffiliated committee', \n",
    "    'name'].apply(lambda x: 'comm2__' + x + ' (nonaffiliated)')"
   ]
  },
  {
   "cell_type": "code",
   "execution_count": null,
   "metadata": {},
   "outputs": [],
   "source": [
    "# label coord party expenditures\n",
    "pas.loc[\n",
    "    pas['transaction_tp'] == 'In-kind contribution made to registered filer', \n",
    "    'name'] = \\\n",
    "pas.loc[\n",
    "    pas['transaction_tp'] == 'In-kind contribution made to registered filer', \n",
    "    'name'].apply(lambda x: 'comm2__' + x + ' (in-kind)')"
   ]
  },
  {
   "cell_type": "code",
   "execution_count": null,
   "metadata": {
    "scrolled": false
   },
   "outputs": [],
   "source": [
    "# create dataframe to show summary stats per committee\n",
    "gave = pd.DataFrame()\n",
    "\n",
    "gave['name'] = sorted(list(pas['name'].value_counts()[pas['name'].value_counts() > 5].index))\n",
    "\n",
    "# one column for each candidate appearing\n",
    "each = sorted(list(set(pas['cand_id'])))\n",
    "for which in each:\n",
    "    gave[which] = [0]*len(gave)\n",
    "\n",
    "total = []\n",
    "count = []\n",
    "distinct = []\n",
    "ents = []\n",
    "for name in gave['name']:\n",
    "    lil_pas = pas[pas['name'] == name]\n",
    "    total.append(lil_pas['transaction_amt'].sum())\n",
    "    count.append(len(lil_pas))\n",
    "    distinct.append(len(lil_pas.drop_duplicates(['cand_id'])))\n",
    "    every_each = list(lil_pas['cand_id'].values)\n",
    "    for which in every_each:\n",
    "        comm_cand = lil_pas.loc[lil_pas['cand_id'] == which, 'transaction_amt'].sum()\n",
    "        if comm_cand > 0:\n",
    "            gave.loc[gave['name'] == name, which] = comm_cand\n",
    "    ents.append(list(set(lil_pas['entity_tp'])))\n",
    "            \n",
    "gave['total'] = total\n",
    "gave['count'] = count\n",
    "gave['distinct'] = distinct\n",
    "gave['entity_tps'] = ents\n",
    "del total, count, distinct, ents\n",
    "\n",
    "gave.sort_values(['total'], ascending = False, inplace = True)\n",
    "gave.reset_index(drop = True, inplace = True)\n",
    "print(len(gave))\n",
    "gave.head()"
   ]
  },
  {
   "cell_type": "code",
   "execution_count": null,
   "metadata": {},
   "outputs": [],
   "source": [
    "# merge gave.T & cand\n",
    "from_gave = pd.DataFrame()\n",
    "\n",
    "from_gave = gave.drop([\n",
    "    'name', \n",
    "    'total', \n",
    "    'count', \n",
    "    'distinct',  \n",
    "    'entity_tps',\n",
    "    \n",
    "], axis = 1).T\n",
    "\n",
    "from_gave.columns = list(gave['name'])\n",
    "\n",
    "# (for)\n",
    "fors_cols = [x for x in from_gave.columns if ('(for)' in x)]\n",
    "fors = from_gave[fors_cols]\n",
    "from_gave['(for) count'] = [len([x for x in fors.loc[y, :].values if (x > 0)]) for y in list(from_gave.index)]\n",
    "from_gave['(for) sum'] = [fors.loc[y, :].sum() for y in list(from_gave.index)]\n",
    "\n",
    "# (against)\n",
    "against_cols = [x for x in from_gave.columns if ('(against)' in x)]\n",
    "against = from_gave[against_cols]\n",
    "from_gave['(against) count'] = [len([x for x in against.loc[y, :].values if (x > 0)]) for y in list(from_gave.index)]\n",
    "from_gave['(against) sum'] = [against.loc[y, :].sum() for y in list(from_gave.index)]\n",
    "\n",
    "# (coord pty exp)\n",
    "coord_cols = [x for x in from_gave.columns if ('(coord pty exp)' in x)]\n",
    "coord = from_gave[coord_cols]\n",
    "from_gave['(coord pty exp) count'] = [len([x for x in coord.loc[y, :].values if (x > 0)]) for y in list(from_gave.index)]\n",
    "from_gave['(coord pty exp) sum'] = [coord.loc[y, :].sum() for y in list(from_gave.index)]\n",
    "\n",
    "# (in-kind)\n",
    "inkind_cols = [x for x in from_gave.columns if ('(in-kind)' in x)]\n",
    "inkind = from_gave[inkind_cols]\n",
    "from_gave['(in-kind) count'] = [len([x for x in inkind.loc[y, :].values if (x > 0)]) for y in list(from_gave.index)]\n",
    "from_gave['(in-kind) sum'] = [inkind.loc[y, :].sum() for y in list(from_gave.index)]\n",
    "\n",
    "# (nonaffiliated)\n",
    "nonaffil_cols = [x for x in from_gave.columns if ('(nonaffiliated)' in x)]\n",
    "nonaffil = from_gave[nonaffil_cols]\n",
    "from_gave['(nonaffiliated) count'] = [len([x for x in nonaffil.loc[y, :].values if (x > 0)]) for y in list(from_gave.index)]\n",
    "from_gave['(nonaffiliated) sum'] = [nonaffil.loc[y, :].sum() for y in list(from_gave.index)]\n",
    "\n",
    "from_gave.head(2)"
   ]
  },
  {
   "cell_type": "code",
   "execution_count": null,
   "metadata": {},
   "outputs": [],
   "source": [
    "cand.index = cand['cand_id']\n",
    "cand_new = pd.concat([cand, from_gave], axis = 1)\n",
    "cand_new.reset_index(drop = True, inplace = True)\n",
    "cand_new.rename(columns = {'index' : 'cand_id'}, inplace = True)\n",
    "cand_new.fillna(0, inplace = True)\n",
    "print(len(cand_new))\n",
    "cand_new.head(2)"
   ]
  },
  {
   "cell_type": "code",
   "execution_count": null,
   "metadata": {},
   "outputs": [],
   "source": [
    "pas.to_csv('data/04a_pas_cleaned.csv', index = False)"
   ]
  },
  {
   "cell_type": "code",
   "execution_count": null,
   "metadata": {},
   "outputs": [],
   "source": [
    "cand_new.to_csv('data/04a_cand_cleaned.csv', index = False)"
   ]
  },
  {
   "cell_type": "code",
   "execution_count": null,
   "metadata": {},
   "outputs": [],
   "source": [
    "gave.to_csv('data/04a_committee_stats.csv', index = False)"
   ]
  }
 ],
 "metadata": {
  "kernelspec": {
   "display_name": "Python 3",
   "language": "python",
   "name": "python3"
  },
  "language_info": {
   "codemirror_mode": {
    "name": "ipython",
    "version": 3
   },
   "file_extension": ".py",
   "mimetype": "text/x-python",
   "name": "python",
   "nbconvert_exporter": "python",
   "pygments_lexer": "ipython3",
   "version": "3.7.4"
  }
 },
 "nbformat": 4,
 "nbformat_minor": 2
}
