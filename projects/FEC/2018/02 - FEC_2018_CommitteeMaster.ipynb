{
 "cells": [
  {
   "cell_type": "markdown",
   "metadata": {},
   "source": [
    "## FEC 2018 Campaign Finance: \n",
    "\n",
    "### Committee Master"
   ]
  },
  {
   "cell_type": "code",
   "execution_count": 1,
   "metadata": {},
   "outputs": [],
   "source": [
    "import pandas as pd\n",
    "import numpy as np\n",
    "import matplotlib.pyplot as plt\n",
    "import warnings\n",
    "warnings.filterwarnings('ignore')\n",
    "\n",
    "from copy import deepcopy\n",
    "from datetime import datetime as dt\n",
    "\n",
    "%matplotlib inline"
   ]
  },
  {
   "cell_type": "code",
   "execution_count": 3,
   "metadata": {},
   "outputs": [
    {
     "name": "stdout",
     "output_type": "stream",
     "text": [
      "original length: 19018\n"
     ]
    },
    {
     "data": {
      "text/html": [
       "<div>\n",
       "<style scoped>\n",
       "    .dataframe tbody tr th:only-of-type {\n",
       "        vertical-align: middle;\n",
       "    }\n",
       "\n",
       "    .dataframe tbody tr th {\n",
       "        vertical-align: top;\n",
       "    }\n",
       "\n",
       "    .dataframe thead th {\n",
       "        text-align: right;\n",
       "    }\n",
       "</style>\n",
       "<table border=\"1\" class=\"dataframe\">\n",
       "  <thead>\n",
       "    <tr style=\"text-align: right;\">\n",
       "      <th></th>\n",
       "      <th>cmte_id</th>\n",
       "      <th>cmte_nm</th>\n",
       "      <th>tres_nm</th>\n",
       "      <th>cmte_st1</th>\n",
       "      <th>cmte_st2</th>\n",
       "      <th>cmte_city</th>\n",
       "      <th>cmte_st</th>\n",
       "      <th>cmte_zip</th>\n",
       "      <th>cmte_dsgn</th>\n",
       "      <th>cmte_tp</th>\n",
       "      <th>cmte_pty_affiliation</th>\n",
       "      <th>cmte_filing_freq</th>\n",
       "      <th>org_tp</th>\n",
       "      <th>connected_org_nm</th>\n",
       "      <th>cand_id</th>\n",
       "    </tr>\n",
       "  </thead>\n",
       "  <tbody>\n",
       "    <tr>\n",
       "      <td>0</td>\n",
       "      <td>C00000018</td>\n",
       "      <td>IRONWORKERS LOCAL UNION NO. 25 POLITICAL EDUCA...</td>\n",
       "      <td>STEVEN N GULICK</td>\n",
       "      <td>43335 W 10 MILE</td>\n",
       "      <td>P O BOX 965</td>\n",
       "      <td>NOVI</td>\n",
       "      <td>MI</td>\n",
       "      <td>48050</td>\n",
       "      <td>U</td>\n",
       "      <td>Q</td>\n",
       "      <td>NaN</td>\n",
       "      <td>T</td>\n",
       "      <td>NaN</td>\n",
       "      <td>IRON WORKERS; INT'L ASS'N OF BRIDGE...</td>\n",
       "      <td>H8TX22313</td>\n",
       "    </tr>\n",
       "    <tr>\n",
       "      <td>1</td>\n",
       "      <td>C00000059</td>\n",
       "      <td>HALLMARK CARDS PAC</td>\n",
       "      <td>SARAH MOE</td>\n",
       "      <td>2501 MCGEE</td>\n",
       "      <td>MD #500</td>\n",
       "      <td>KANSAS CITY</td>\n",
       "      <td>MO</td>\n",
       "      <td>64108</td>\n",
       "      <td>U</td>\n",
       "      <td>Q</td>\n",
       "      <td>UNK</td>\n",
       "      <td>M</td>\n",
       "      <td>C</td>\n",
       "      <td>NaN</td>\n",
       "      <td>NaN</td>\n",
       "    </tr>\n",
       "  </tbody>\n",
       "</table>\n",
       "</div>"
      ],
      "text/plain": [
       "     cmte_id                                            cmte_nm  \\\n",
       "0  C00000018  IRONWORKERS LOCAL UNION NO. 25 POLITICAL EDUCA...   \n",
       "1  C00000059                                 HALLMARK CARDS PAC   \n",
       "\n",
       "           tres_nm         cmte_st1     cmte_st2    cmte_city cmte_st  \\\n",
       "0  STEVEN N GULICK  43335 W 10 MILE  P O BOX 965         NOVI      MI   \n",
       "1        SARAH MOE       2501 MCGEE      MD #500  KANSAS CITY      MO   \n",
       "\n",
       "  cmte_zip cmte_dsgn cmte_tp cmte_pty_affiliation cmte_filing_freq org_tp  \\\n",
       "0    48050         U       Q                  NaN                T    NaN   \n",
       "1    64108         U       Q                  UNK                M      C   \n",
       "\n",
       "                         connected_org_nm    cand_id  \n",
       "0  IRON WORKERS; INT'L ASS'N OF BRIDGE...  H8TX22313  \n",
       "1                                     NaN        NaN  "
      ]
     },
     "execution_count": 3,
     "metadata": {},
     "output_type": "execute_result"
    }
   ],
   "source": [
    "# read in & clean\n",
    "# https://www.fec.gov/files/bulk-downloads/2018/cm18.zip\n",
    "cm = pd.read_csv('data/cm18.zip', sep = '|', error_bad_lines = False, header = None)\n",
    "print('original length:', len(cm))\n",
    "\n",
    "# add column headers from separate file\n",
    "headers = pd.read_csv('data/cm_header_file.csv')\n",
    "\n",
    "cm.columns = [x.lower() for x in headers.columns]\n",
    "\n",
    "cm = cm[pd.notnull(cm['cmte_nm'])]\n",
    "\n",
    "cm.head(2)"
   ]
  },
  {
   "cell_type": "code",
   "execution_count": 4,
   "metadata": {},
   "outputs": [
    {
     "data": {
      "text/plain": [
       "cmte_tp                     3\n",
       "cmte_dsgn                   5\n",
       "cmte_st                    12\n",
       "cmte_city                  14\n",
       "cmte_st1                   22\n",
       "cmte_zip                   25\n",
       "tres_nm                  1510\n",
       "cmte_pty_affiliation    11637\n",
       "connected_org_nm        12026\n",
       "cand_id                 12324\n",
       "cmte_st2                15294\n",
       "org_tp                  15414\n",
       "dtype: int64"
      ]
     },
     "execution_count": 4,
     "metadata": {},
     "output_type": "execute_result"
    }
   ],
   "source": [
    "cm.isnull().sum()[cm.isnull().sum() > 0].sort_values()"
   ]
  },
  {
   "cell_type": "code",
   "execution_count": 5,
   "metadata": {},
   "outputs": [
    {
     "data": {
      "text/html": [
       "<div>\n",
       "<style scoped>\n",
       "    .dataframe tbody tr th:only-of-type {\n",
       "        vertical-align: middle;\n",
       "    }\n",
       "\n",
       "    .dataframe tbody tr th {\n",
       "        vertical-align: top;\n",
       "    }\n",
       "\n",
       "    .dataframe thead th {\n",
       "        text-align: right;\n",
       "    }\n",
       "</style>\n",
       "<table border=\"1\" class=\"dataframe\">\n",
       "  <thead>\n",
       "    <tr style=\"text-align: right;\">\n",
       "      <th></th>\n",
       "      <th>cmte_id</th>\n",
       "      <th>cmte_nm</th>\n",
       "      <th>tres_nm</th>\n",
       "      <th>cmte_st1</th>\n",
       "      <th>cmte_st2</th>\n",
       "      <th>cmte_city</th>\n",
       "      <th>cmte_st</th>\n",
       "      <th>cmte_zip</th>\n",
       "      <th>cmte_dsgn</th>\n",
       "      <th>cmte_tp</th>\n",
       "      <th>cmte_pty_affiliation</th>\n",
       "      <th>cmte_filing_freq</th>\n",
       "      <th>org_tp</th>\n",
       "      <th>connected_org_nm</th>\n",
       "      <th>cand_id</th>\n",
       "    </tr>\n",
       "  </thead>\n",
       "  <tbody>\n",
       "    <tr>\n",
       "      <td>11363</td>\n",
       "      <td>C00631226</td>\n",
       "      <td>DREW TURIANO FOR US CONGRESS</td>\n",
       "      <td>ANDREW TURIANO</td>\n",
       "      <td>PO BOX 1331</td>\n",
       "      <td>NaN</td>\n",
       "      <td>EAST HELENA</td>\n",
       "      <td>MT</td>\n",
       "      <td>59635</td>\n",
       "      <td>NaN</td>\n",
       "      <td>NaN</td>\n",
       "      <td>REP</td>\n",
       "      <td>A</td>\n",
       "      <td>NaN</td>\n",
       "      <td>NaN</td>\n",
       "      <td>H4MT00084</td>\n",
       "    </tr>\n",
       "    <tr>\n",
       "      <td>11995</td>\n",
       "      <td>C00637835</td>\n",
       "      <td>CARLA SPALDING FOR U.S. CONGRESS</td>\n",
       "      <td>NaN</td>\n",
       "      <td>NaN</td>\n",
       "      <td>NaN</td>\n",
       "      <td>NaN</td>\n",
       "      <td>NaN</td>\n",
       "      <td>NaN</td>\n",
       "      <td>A</td>\n",
       "      <td>NaN</td>\n",
       "      <td>NaN</td>\n",
       "      <td>T</td>\n",
       "      <td>NaN</td>\n",
       "      <td>NaN</td>\n",
       "      <td>NaN</td>\n",
       "    </tr>\n",
       "    <tr>\n",
       "      <td>12415</td>\n",
       "      <td>C00646943</td>\n",
       "      <td>THE ALT-MIDDLE PAC</td>\n",
       "      <td>NaN</td>\n",
       "      <td>301 KING ST #1009</td>\n",
       "      <td>NaN</td>\n",
       "      <td>SAN FRANCISCO</td>\n",
       "      <td>CA</td>\n",
       "      <td>94158</td>\n",
       "      <td>NaN</td>\n",
       "      <td>NaN</td>\n",
       "      <td>NaN</td>\n",
       "      <td>T</td>\n",
       "      <td>NaN</td>\n",
       "      <td>NaN</td>\n",
       "      <td>NaN</td>\n",
       "    </tr>\n",
       "  </tbody>\n",
       "</table>\n",
       "</div>"
      ],
      "text/plain": [
       "         cmte_id                           cmte_nm         tres_nm  \\\n",
       "11363  C00631226      DREW TURIANO FOR US CONGRESS  ANDREW TURIANO   \n",
       "11995  C00637835  CARLA SPALDING FOR U.S. CONGRESS             NaN   \n",
       "12415  C00646943                THE ALT-MIDDLE PAC             NaN   \n",
       "\n",
       "                cmte_st1 cmte_st2      cmte_city cmte_st cmte_zip cmte_dsgn  \\\n",
       "11363        PO BOX 1331      NaN    EAST HELENA      MT    59635       NaN   \n",
       "11995                NaN      NaN            NaN     NaN      NaN         A   \n",
       "12415  301 KING ST #1009      NaN  SAN FRANCISCO      CA    94158       NaN   \n",
       "\n",
       "      cmte_tp cmte_pty_affiliation cmte_filing_freq org_tp connected_org_nm  \\\n",
       "11363     NaN                  REP                A    NaN              NaN   \n",
       "11995     NaN                  NaN                T    NaN              NaN   \n",
       "12415     NaN                  NaN                T    NaN              NaN   \n",
       "\n",
       "         cand_id  \n",
       "11363  H4MT00084  \n",
       "11995        NaN  \n",
       "12415        NaN  "
      ]
     },
     "execution_count": 5,
     "metadata": {},
     "output_type": "execute_result"
    }
   ],
   "source": [
    "cm[cm['cmte_tp'].isnull()]"
   ]
  },
  {
   "cell_type": "code",
   "execution_count": 16,
   "metadata": {},
   "outputs": [
    {
     "name": "stdout",
     "output_type": "stream",
     "text": [
      "CARLA SPALDING FOR CONGRESS\n",
      "H\n",
      "\n",
      "\n",
      "DREW TURIANO FOR US CONGRESS\n",
      "nan\n",
      "\n",
      "\n",
      "CARLA SPALDING FOR U.S. CONGRESS\n",
      "nan\n",
      "\n",
      "\n",
      "THE ALT-MIDDLE PAC\n",
      "nan\n",
      "\n",
      "\n",
      "THE ALT-MIDDLE\n",
      "N\n",
      "\n",
      "\n"
     ]
    }
   ],
   "source": [
    "finds = [\n",
    "    'TURIANO',\n",
    "    'CARLA SPALDING',\n",
    "    'ALT-MIDDLE',\n",
    "]\n",
    "for i in list(cm.index):\n",
    "    name = cm.loc[i, ['cmte_nm', 'cmte_tp']]\n",
    "    for which in finds:\n",
    "        if which in cm.loc[i, 'cmte_nm']:\n",
    "            print(cm.loc[i, 'cmte_nm'])\n",
    "            print(str(cm.loc[i, 'cmte_tp']))\n",
    "            print('\\n')"
   ]
  },
  {
   "cell_type": "code",
   "execution_count": null,
   "metadata": {},
   "outputs": [],
   "source": []
  },
  {
   "cell_type": "code",
   "execution_count": null,
   "metadata": {},
   "outputs": [],
   "source": [
    "cm['tres_nm'].value_counts()"
   ]
  },
  {
   "cell_type": "code",
   "execution_count": null,
   "metadata": {},
   "outputs": [],
   "source": [
    "# https://www.youtube.com/watch?v=c_6lIGI2gTQ\n",
    "\n",
    "cm.loc[cm['tres_nm'] == 'KILGORE, PAUL', 'cmte_nm'].value_counts()"
   ]
  },
  {
   "cell_type": "code",
   "execution_count": null,
   "metadata": {},
   "outputs": [],
   "source": [
    "cm.loc[cm['tres_nm'] == 'MARSTON, CHRIS', 'cmte_nm'].value_counts()"
   ]
  },
  {
   "cell_type": "code",
   "execution_count": null,
   "metadata": {},
   "outputs": [],
   "source": [
    "cm.loc[cm['tres_nm'] == 'LISKER, LISA', 'cmte_nm'].value_counts()"
   ]
  },
  {
   "cell_type": "code",
   "execution_count": null,
   "metadata": {},
   "outputs": [],
   "source": [
    "cmtetp_dict = {\n",
    "    'C' : 'cmte_CommunicationCost',\n",
    "    'D' : 'cmte_DelegateCommittee',\n",
    "    'E' : 'cmte_ElectioneeringComms',\n",
    "    'H' : 'cmte_House',\n",
    "    'I' : 'cmte_IndependentExpenditor',\n",
    "    'S' : 'cmte_Senate',\n",
    "    'N' : 'cmte_PACnonqual',\n",
    "    'Q' : 'cmte_PACqual',\n",
    "    'Y' : 'cmte_Partyqual',\n",
    "    'O' : 'cmte_SuperPAC',\n",
    "    'P' : 'cmte_Presidential',\n",
    "    'U' : 'cmte_Singlecand',\n",
    "    'V' : 'cmte_PACnoncontrib_nonqual',\n",
    "    'W' : 'cmte_PACnoncontrib_qual',\n",
    "    'X' : 'cmte_Partynonqual',\n",
    "    np.nan : np.nan,\n",
    "}\n",
    "\n",
    "cm['cmte_tp'] = [cmtetp_dict[x] for x in cm['cmte_tp']]\n",
    "cm['cmte_tp'].value_counts()"
   ]
  },
  {
   "cell_type": "code",
   "execution_count": null,
   "metadata": {},
   "outputs": [],
   "source": [
    "cmtedsgn_dict = {\n",
    "    'A' : 'Authorized by a candidate',\n",
    "    'B' : 'Lobbyist/Registrant PAC',\n",
    "    'D' : 'Leadership PAC',\n",
    "    'J' : 'Joint fundraiser',\n",
    "    'P' : 'Principal campaign committee',\n",
    "    'U' : 'Unauthorized',\n",
    "    np.nan : np.nan,\n",
    "}\n",
    "\n",
    "cm['cmte_dsgn'] = [cmtedsgn_dict[x] for x in cm['cmte_dsgn']]\n",
    "cm['cmte_dsgn'].value_counts()"
   ]
  },
  {
   "cell_type": "code",
   "execution_count": null,
   "metadata": {},
   "outputs": [],
   "source": [
    "cm['cmte_pty_affiliation'].value_counts()"
   ]
  },
  {
   "cell_type": "code",
   "execution_count": null,
   "metadata": {},
   "outputs": [],
   "source": [
    "cm['cmte_filing_freq'].value_counts()"
   ]
  },
  {
   "cell_type": "code",
   "execution_count": null,
   "metadata": {},
   "outputs": [],
   "source": [
    "orgtp_dict = {\n",
    "    'C' : 'org_Corporation',\n",
    "    'H' : 'org_HnotonFECsite',\n",
    "    'I' : 'org_InotonFECsite',\n",
    "    'L' : 'org_Labor organization',\n",
    "    'M' : 'org_Membership organization',\n",
    "    'T' : 'org_Trade association',\n",
    "    'V' : 'org_Cooperative',\n",
    "    'W' : 'org_Corporation without capital stock',\n",
    "    np.nan : np.nan,\n",
    "}\n",
    "\n",
    "cm['org_tp'] = [orgtp_dict[x] for x in cm['org_tp']]\n",
    "cm['org_tp'].value_counts()"
   ]
  },
  {
   "cell_type": "code",
   "execution_count": null,
   "metadata": {},
   "outputs": [],
   "source": [
    "cm['connected_org_nm'].value_counts()"
   ]
  },
  {
   "cell_type": "code",
   "execution_count": null,
   "metadata": {},
   "outputs": [],
   "source": [
    "cm['cand_id'].value_counts()"
   ]
  },
  {
   "cell_type": "code",
   "execution_count": null,
   "metadata": {},
   "outputs": [],
   "source": [
    "cm.to_csv('data/committees_2018.csv', index = False)"
   ]
  }
 ],
 "metadata": {
  "kernelspec": {
   "display_name": "Python 3",
   "language": "python",
   "name": "python3"
  },
  "language_info": {
   "codemirror_mode": {
    "name": "ipython",
    "version": 3
   },
   "file_extension": ".py",
   "mimetype": "text/x-python",
   "name": "python",
   "nbconvert_exporter": "python",
   "pygments_lexer": "ipython3",
   "version": "3.7.4"
  }
 },
 "nbformat": 4,
 "nbformat_minor": 2
}
