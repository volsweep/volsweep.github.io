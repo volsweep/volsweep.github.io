{
 "cells": [
  {
   "cell_type": "markdown",
   "metadata": {},
   "source": [
    "## FEC Campaign Finance\n",
    "\n",
    "### Contributions from committees to candidates & independent expenditures"
   ]
  },
  {
   "cell_type": "markdown",
   "metadata": {},
   "source": [
    "resolve color/ls dupe issue"
   ]
  },
  {
   "cell_type": "code",
   "execution_count": 1,
   "metadata": {},
   "outputs": [],
   "source": [
    "import matplotlib.pyplot as plt\n",
    "import numpy as np\n",
    "import pandas as pd\n",
    "import re\n",
    "import warnings\n",
    "warnings.filterwarnings('ignore')\n",
    "\n",
    "from datetime import datetime as dt\n",
    "from matplotlib import font_manager as fm, rcParams\n",
    "import matplotlib.dates as mdates\n",
    "from matplotlib.lines import Line2D\n",
    "from matplotlib.offsetbox import (\n",
    "    AnnotationBbox,\n",
    "    OffsetImage, \n",
    ")\n",
    "\n",
    "%matplotlib inline"
   ]
  },
  {
   "cell_type": "code",
   "execution_count": 2,
   "metadata": {},
   "outputs": [],
   "source": [
    "year = '2018'\n",
    "maxdate = dt.strptime(f'{int(year) - 0}-11-10', '%Y-%m-%d')\n",
    "mindate = dt.strptime(f'{int(year) - 1}-01-01', '%Y-%m-%d')"
   ]
  },
  {
   "cell_type": "code",
   "execution_count": 3,
   "metadata": {},
   "outputs": [
    {
     "data": {
      "text/html": [
       "<div>\n",
       "<style scoped>\n",
       "    .dataframe tbody tr th:only-of-type {\n",
       "        vertical-align: middle;\n",
       "    }\n",
       "\n",
       "    .dataframe tbody tr th {\n",
       "        vertical-align: top;\n",
       "    }\n",
       "\n",
       "    .dataframe thead th {\n",
       "        text-align: right;\n",
       "    }\n",
       "</style>\n",
       "<table border=\"1\" class=\"dataframe\">\n",
       "  <thead>\n",
       "    <tr style=\"text-align: right;\">\n",
       "      <th></th>\n",
       "      <th>contest</th>\n",
       "      <th>cand_id</th>\n",
       "    </tr>\n",
       "  </thead>\n",
       "  <tbody>\n",
       "    <tr>\n",
       "      <td>0</td>\n",
       "      <td>AK_00</td>\n",
       "      <td>H6AK00045</td>\n",
       "    </tr>\n",
       "    <tr>\n",
       "      <td>1</td>\n",
       "      <td>AL_01</td>\n",
       "      <td>H4AL01123</td>\n",
       "    </tr>\n",
       "    <tr>\n",
       "      <td>2</td>\n",
       "      <td>AL_02</td>\n",
       "      <td>H0AL02087</td>\n",
       "    </tr>\n",
       "    <tr>\n",
       "      <td>3</td>\n",
       "      <td>AL_03</td>\n",
       "      <td>H2AL03032</td>\n",
       "    </tr>\n",
       "    <tr>\n",
       "      <td>4</td>\n",
       "      <td>AL_04</td>\n",
       "      <td>H6AL04098</td>\n",
       "    </tr>\n",
       "  </tbody>\n",
       "</table>\n",
       "</div>"
      ],
      "text/plain": [
       "  contest    cand_id\n",
       "0   AK_00  H6AK00045\n",
       "1   AL_01  H4AL01123\n",
       "2   AL_02  H0AL02087\n",
       "3   AL_03  H2AL03032\n",
       "4   AL_04  H6AL04098"
      ]
     },
     "execution_count": 3,
     "metadata": {},
     "output_type": "execute_result"
    }
   ],
   "source": [
    "winners = pd.read_csv('data/winners_2018.csv')\n",
    "winners.head()"
   ]
  },
  {
   "cell_type": "code",
   "execution_count": 4,
   "metadata": {},
   "outputs": [
    {
     "data": {
      "text/html": [
       "<div>\n",
       "<style scoped>\n",
       "    .dataframe tbody tr th:only-of-type {\n",
       "        vertical-align: middle;\n",
       "    }\n",
       "\n",
       "    .dataframe tbody tr th {\n",
       "        vertical-align: top;\n",
       "    }\n",
       "\n",
       "    .dataframe thead th {\n",
       "        text-align: right;\n",
       "    }\n",
       "</style>\n",
       "<table border=\"1\" class=\"dataframe\">\n",
       "  <thead>\n",
       "    <tr style=\"text-align: right;\">\n",
       "      <th></th>\n",
       "      <th>cand_id</th>\n",
       "      <th>cand_name</th>\n",
       "      <th>cand_ici</th>\n",
       "      <th>cand_pty_affiliation</th>\n",
       "      <th>ttl_receipts</th>\n",
       "      <th>trans_from_auth</th>\n",
       "      <th>ttl_disb</th>\n",
       "      <th>trans_to_auth</th>\n",
       "      <th>coh_bop</th>\n",
       "      <th>coh_cop</th>\n",
       "      <th>...</th>\n",
       "      <th>other_pol_cmte_contrib</th>\n",
       "      <th>pol_pty_contrib</th>\n",
       "      <th>cvg_end_dt</th>\n",
       "      <th>indiv_refunds</th>\n",
       "      <th>cmte_refunds</th>\n",
       "      <th>position</th>\n",
       "      <th>contest</th>\n",
       "      <th>type</th>\n",
       "      <th>state</th>\n",
       "      <th>cm_links</th>\n",
       "    </tr>\n",
       "  </thead>\n",
       "  <tbody>\n",
       "    <tr>\n",
       "      <td>0</td>\n",
       "      <td>S8FL00273</td>\n",
       "      <td>SCOTT, RICK GOV</td>\n",
       "      <td>C</td>\n",
       "      <td>Republican</td>\n",
       "      <td>85231716.47</td>\n",
       "      <td>1036189.15</td>\n",
       "      <td>83771112.48</td>\n",
       "      <td>0.0</td>\n",
       "      <td>0.0</td>\n",
       "      <td>1460603.73</td>\n",
       "      <td>...</td>\n",
       "      <td>981797.67</td>\n",
       "      <td>5050.0</td>\n",
       "      <td>2018-12-01</td>\n",
       "      <td>185475.35</td>\n",
       "      <td>10000.0</td>\n",
       "      <td>S</td>\n",
       "      <td>FL_senate</td>\n",
       "      <td>Group 10</td>\n",
       "      <td>FL</td>\n",
       "      <td>3</td>\n",
       "    </tr>\n",
       "    <tr>\n",
       "      <td>1</td>\n",
       "      <td>S8TX00285</td>\n",
       "      <td>O'ROURKE, ROBERT (BETO)</td>\n",
       "      <td>C</td>\n",
       "      <td>Democrat</td>\n",
       "      <td>80344836.34</td>\n",
       "      <td>53666.26</td>\n",
       "      <td>80458720.11</td>\n",
       "      <td>0.0</td>\n",
       "      <td>398699.0</td>\n",
       "      <td>284815.77</td>\n",
       "      <td>...</td>\n",
       "      <td>83346.30</td>\n",
       "      <td>500.0</td>\n",
       "      <td>2018-12-01</td>\n",
       "      <td>1264011.92</td>\n",
       "      <td>5117.0</td>\n",
       "      <td>S</td>\n",
       "      <td>TX_senate</td>\n",
       "      <td>Group 04</td>\n",
       "      <td>TX</td>\n",
       "      <td>2</td>\n",
       "    </tr>\n",
       "  </tbody>\n",
       "</table>\n",
       "<p>2 rows × 29 columns</p>\n",
       "</div>"
      ],
      "text/plain": [
       "     cand_id                cand_name cand_ici cand_pty_affiliation  \\\n",
       "0  S8FL00273          SCOTT, RICK GOV        C           Republican   \n",
       "1  S8TX00285  O'ROURKE, ROBERT (BETO)        C             Democrat   \n",
       "\n",
       "   ttl_receipts  trans_from_auth     ttl_disb  trans_to_auth   coh_bop  \\\n",
       "0   85231716.47       1036189.15  83771112.48            0.0       0.0   \n",
       "1   80344836.34         53666.26  80458720.11            0.0  398699.0   \n",
       "\n",
       "      coh_cop  ...  other_pol_cmte_contrib  pol_pty_contrib  cvg_end_dt  \\\n",
       "0  1460603.73  ...               981797.67           5050.0  2018-12-01   \n",
       "1   284815.77  ...                83346.30            500.0  2018-12-01   \n",
       "\n",
       "   indiv_refunds  cmte_refunds  position    contest      type  state  cm_links  \n",
       "0      185475.35       10000.0         S  FL_senate  Group 10     FL         3  \n",
       "1     1264011.92        5117.0         S  TX_senate  Group 04     TX         2  \n",
       "\n",
       "[2 rows x 29 columns]"
      ]
     },
     "execution_count": 4,
     "metadata": {},
     "output_type": "execute_result"
    }
   ],
   "source": [
    "cand = pd.read_csv('data/02a_cand_clean.csv')\n",
    "cand_dict = dict(zip(cand['cand_id'], cand['cand_name']))\n",
    "cand.head(2)"
   ]
  },
  {
   "cell_type": "code",
   "execution_count": 5,
   "metadata": {},
   "outputs": [
    {
     "data": {
      "text/html": [
       "<div>\n",
       "<style scoped>\n",
       "    .dataframe tbody tr th:only-of-type {\n",
       "        vertical-align: middle;\n",
       "    }\n",
       "\n",
       "    .dataframe tbody tr th {\n",
       "        vertical-align: top;\n",
       "    }\n",
       "\n",
       "    .dataframe thead th {\n",
       "        text-align: right;\n",
       "    }\n",
       "</style>\n",
       "<table border=\"1\" class=\"dataframe\">\n",
       "  <thead>\n",
       "    <tr style=\"text-align: right;\">\n",
       "      <th></th>\n",
       "      <th>cmte_id</th>\n",
       "      <th>cmte_nm</th>\n",
       "      <th>tres_nm</th>\n",
       "      <th>cmte_st1</th>\n",
       "      <th>cmte_st2</th>\n",
       "      <th>cmte_city</th>\n",
       "      <th>cmte_st</th>\n",
       "      <th>cmte_zip</th>\n",
       "      <th>cmte_dsgn</th>\n",
       "      <th>cmte_tp</th>\n",
       "      <th>cmte_pty_affiliation</th>\n",
       "      <th>cmte_filing_freq</th>\n",
       "      <th>org_tp</th>\n",
       "      <th>connected_org_nm</th>\n",
       "      <th>cand_id</th>\n",
       "      <th>orig_tres_nm</th>\n",
       "      <th>orig_cmte_st1</th>\n",
       "      <th>address</th>\n",
       "    </tr>\n",
       "  </thead>\n",
       "  <tbody>\n",
       "    <tr>\n",
       "      <td>0</td>\n",
       "      <td>C00000018</td>\n",
       "      <td>IRONWORKERS LOCAL UNION NO. 25 POLITICAL EDUCA...</td>\n",
       "      <td>STEVEN GULICK</td>\n",
       "      <td>43335 W 10 MILE</td>\n",
       "      <td>P O BOX 965</td>\n",
       "      <td>NOVI</td>\n",
       "      <td>MI</td>\n",
       "      <td>48050.0</td>\n",
       "      <td>Unauthorized</td>\n",
       "      <td>cmte_PACqual</td>\n",
       "      <td>UNK</td>\n",
       "      <td>T</td>\n",
       "      <td>NaN</td>\n",
       "      <td>IRON WORKERS; INT'L ASS'N OF BRIDGE...</td>\n",
       "      <td>H8TX22313</td>\n",
       "      <td>STEVEN N GULICK</td>\n",
       "      <td>43335 W 10 MILE</td>\n",
       "      <td>43335 W 10 MILE, NOVI, MI 48050</td>\n",
       "    </tr>\n",
       "    <tr>\n",
       "      <td>1</td>\n",
       "      <td>C00000059</td>\n",
       "      <td>HALLMARK CARDS PAC</td>\n",
       "      <td>SARAH MOE</td>\n",
       "      <td>2501 MCGEE</td>\n",
       "      <td>MD #500</td>\n",
       "      <td>KANSAS CITY</td>\n",
       "      <td>MO</td>\n",
       "      <td>64108.0</td>\n",
       "      <td>Unauthorized</td>\n",
       "      <td>cmte_PACqual</td>\n",
       "      <td>UNK</td>\n",
       "      <td>M</td>\n",
       "      <td>org_Corporation</td>\n",
       "      <td>NaN</td>\n",
       "      <td>NaN</td>\n",
       "      <td>SARAH MOE</td>\n",
       "      <td>2501 MCGEE</td>\n",
       "      <td>2501 MCGEE, KANSAS CITY, MO 64108</td>\n",
       "    </tr>\n",
       "  </tbody>\n",
       "</table>\n",
       "</div>"
      ],
      "text/plain": [
       "     cmte_id                                            cmte_nm  \\\n",
       "0  C00000018  IRONWORKERS LOCAL UNION NO. 25 POLITICAL EDUCA...   \n",
       "1  C00000059                                 HALLMARK CARDS PAC   \n",
       "\n",
       "         tres_nm         cmte_st1     cmte_st2    cmte_city cmte_st  cmte_zip  \\\n",
       "0  STEVEN GULICK  43335 W 10 MILE  P O BOX 965         NOVI      MI   48050.0   \n",
       "1      SARAH MOE       2501 MCGEE      MD #500  KANSAS CITY      MO   64108.0   \n",
       "\n",
       "      cmte_dsgn       cmte_tp cmte_pty_affiliation cmte_filing_freq  \\\n",
       "0  Unauthorized  cmte_PACqual                  UNK                T   \n",
       "1  Unauthorized  cmte_PACqual                  UNK                M   \n",
       "\n",
       "            org_tp                        connected_org_nm    cand_id  \\\n",
       "0              NaN  IRON WORKERS; INT'L ASS'N OF BRIDGE...  H8TX22313   \n",
       "1  org_Corporation                                     NaN        NaN   \n",
       "\n",
       "      orig_tres_nm    orig_cmte_st1                            address  \n",
       "0  STEVEN N GULICK  43335 W 10 MILE    43335 W 10 MILE, NOVI, MI 48050  \n",
       "1        SARAH MOE       2501 MCGEE  2501 MCGEE, KANSAS CITY, MO 64108  "
      ]
     },
     "execution_count": 5,
     "metadata": {},
     "output_type": "execute_result"
    }
   ],
   "source": [
    "cm = pd.read_csv('data/03a_committees.csv')\n",
    "cm_dict = dict(zip(cm['cmte_id'], cm['cmte_nm']))\n",
    "cm.head(2)"
   ]
  },
  {
   "cell_type": "code",
   "execution_count": 6,
   "metadata": {},
   "outputs": [],
   "source": [
    "tres_dict = dict(zip(cm['cmte_id'], cm['tres_nm']))"
   ]
  },
  {
   "cell_type": "code",
   "execution_count": 7,
   "metadata": {
    "scrolled": false
   },
   "outputs": [
    {
     "name": "stdout",
     "output_type": "stream",
     "text": [
      "original length: 349594\n",
      "remove observations with transaction_amt == 0: 347637\n",
      "keep lines for relevant candidates: 295358\n",
      "remove a few nulls: 292295\n",
      "slice on date window: 288584\n"
     ]
    },
    {
     "data": {
      "text/html": [
       "<div>\n",
       "<style scoped>\n",
       "    .dataframe tbody tr th:only-of-type {\n",
       "        vertical-align: middle;\n",
       "    }\n",
       "\n",
       "    .dataframe tbody tr th {\n",
       "        vertical-align: top;\n",
       "    }\n",
       "\n",
       "    .dataframe thead th {\n",
       "        text-align: right;\n",
       "    }\n",
       "</style>\n",
       "<table border=\"1\" class=\"dataframe\">\n",
       "  <thead>\n",
       "    <tr style=\"text-align: right;\">\n",
       "      <th></th>\n",
       "      <th>cmte_id</th>\n",
       "      <th>cmte_name</th>\n",
       "      <th>entity_tp</th>\n",
       "      <th>name</th>\n",
       "      <th>other_id</th>\n",
       "      <th>other_name</th>\n",
       "      <th>transaction_amt</th>\n",
       "      <th>cand_id</th>\n",
       "      <th>cand_name</th>\n",
       "      <th>transaction_dt</th>\n",
       "      <th>...</th>\n",
       "      <th>amndt_ind</th>\n",
       "      <th>rpt_tp</th>\n",
       "      <th>image_num</th>\n",
       "      <th>transaction_tp</th>\n",
       "      <th>city</th>\n",
       "      <th>state</th>\n",
       "      <th>zip_code</th>\n",
       "      <th>employer</th>\n",
       "      <th>file_num</th>\n",
       "      <th>memo_cd</th>\n",
       "    </tr>\n",
       "  </thead>\n",
       "  <tbody>\n",
       "    <tr>\n",
       "      <td>0</td>\n",
       "      <td>C00390633</td>\n",
       "      <td>SCHOOLSFIRST FEDERAL CREDIT UNION EMPLOYEES FE...</td>\n",
       "      <td>enttp_Candidate Committee</td>\n",
       "      <td>PETE AGUILAR FOR CONGRESS</td>\n",
       "      <td>C00510461</td>\n",
       "      <td>PETE AGUILAR FOR CONGRESS</td>\n",
       "      <td>2500</td>\n",
       "      <td>H2CA31125</td>\n",
       "      <td>AGUILAR, PETE</td>\n",
       "      <td>2017-12-18</td>\n",
       "      <td>...</td>\n",
       "      <td>N</td>\n",
       "      <td>Year end</td>\n",
       "      <td>201801249090614097</td>\n",
       "      <td>Contribution made to nonaffiliated committee</td>\n",
       "      <td>SAN BERNARDINO</td>\n",
       "      <td>CA</td>\n",
       "      <td>92423</td>\n",
       "      <td>NaN</td>\n",
       "      <td>1199694</td>\n",
       "      <td>NaN</td>\n",
       "    </tr>\n",
       "    <tr>\n",
       "      <td>2</td>\n",
       "      <td>C00392464</td>\n",
       "      <td>UNIVERSAL MUSIC GROUP PAC</td>\n",
       "      <td>enttp_Candidate Committee</td>\n",
       "      <td>RATCLIFFE FOR CONGRESS</td>\n",
       "      <td>C00554113</td>\n",
       "      <td>RATCLIFFE FOR CONGRESS</td>\n",
       "      <td>500</td>\n",
       "      <td>H4TX04153</td>\n",
       "      <td>RATCLIFFE, JOHN L</td>\n",
       "      <td>2017-12-12</td>\n",
       "      <td>...</td>\n",
       "      <td>N</td>\n",
       "      <td>Year end</td>\n",
       "      <td>201801249090614162</td>\n",
       "      <td>Contribution made to nonaffiliated committee</td>\n",
       "      <td>ROCKWALL</td>\n",
       "      <td>TX</td>\n",
       "      <td>75032</td>\n",
       "      <td>NaN</td>\n",
       "      <td>1199696</td>\n",
       "      <td>NaN</td>\n",
       "    </tr>\n",
       "    <tr>\n",
       "      <td>3</td>\n",
       "      <td>C00392464</td>\n",
       "      <td>UNIVERSAL MUSIC GROUP PAC</td>\n",
       "      <td>enttp_Candidate Committee</td>\n",
       "      <td>TED DEUTCH FOR CONGRESS COMMITTEE</td>\n",
       "      <td>C00469163</td>\n",
       "      <td>TED DEUTCH FOR CONGRESS COMMITTEE</td>\n",
       "      <td>2000</td>\n",
       "      <td>H0FL19080</td>\n",
       "      <td>DEUTCH, THEODORE ELIOT</td>\n",
       "      <td>2017-12-13</td>\n",
       "      <td>...</td>\n",
       "      <td>N</td>\n",
       "      <td>Year end</td>\n",
       "      <td>201801249090614162</td>\n",
       "      <td>Contribution made to nonaffiliated committee</td>\n",
       "      <td>WASHINGTON</td>\n",
       "      <td>DC</td>\n",
       "      <td>20036</td>\n",
       "      <td>NaN</td>\n",
       "      <td>1199696</td>\n",
       "      <td>NaN</td>\n",
       "    </tr>\n",
       "    <tr>\n",
       "      <td>5</td>\n",
       "      <td>C00368993</td>\n",
       "      <td>WINNING STRATEGIES WASHINGTON PAC</td>\n",
       "      <td>enttp_Candidate Committee</td>\n",
       "      <td>DONALD M PAYNE JR FOR CONGRESS</td>\n",
       "      <td>C00519355</td>\n",
       "      <td>DONALD M PAYNE JR FOR CONGRESS</td>\n",
       "      <td>1300</td>\n",
       "      <td>H2NJ10154</td>\n",
       "      <td>PAYNE, DONALD M., JR.</td>\n",
       "      <td>2017-12-12</td>\n",
       "      <td>...</td>\n",
       "      <td>N</td>\n",
       "      <td>Year end</td>\n",
       "      <td>201801249090614336</td>\n",
       "      <td>Contribution made to nonaffiliated committee</td>\n",
       "      <td>NEWARK</td>\n",
       "      <td>NJ</td>\n",
       "      <td>07114</td>\n",
       "      <td>NaN</td>\n",
       "      <td>1199704</td>\n",
       "      <td>NaN</td>\n",
       "    </tr>\n",
       "    <tr>\n",
       "      <td>7</td>\n",
       "      <td>C00368993</td>\n",
       "      <td>WINNING STRATEGIES WASHINGTON PAC</td>\n",
       "      <td>enttp_Candidate Committee</td>\n",
       "      <td>FRIENDS OF DON BEYER</td>\n",
       "      <td>C00555888</td>\n",
       "      <td>FRIENDS OF DON BEYER</td>\n",
       "      <td>500</td>\n",
       "      <td>H4VA08224</td>\n",
       "      <td>BEYER, DONALD STERNOFF HONORABLE JR.</td>\n",
       "      <td>2017-10-31</td>\n",
       "      <td>...</td>\n",
       "      <td>N</td>\n",
       "      <td>Year end</td>\n",
       "      <td>201801249090614337</td>\n",
       "      <td>Contribution made to nonaffiliated committee</td>\n",
       "      <td>ALEXANDRIA</td>\n",
       "      <td>VA</td>\n",
       "      <td>22314</td>\n",
       "      <td>NaN</td>\n",
       "      <td>1199704</td>\n",
       "      <td>NaN</td>\n",
       "    </tr>\n",
       "  </tbody>\n",
       "</table>\n",
       "<p>5 rows × 21 columns</p>\n",
       "</div>"
      ],
      "text/plain": [
       "     cmte_id                                          cmte_name  \\\n",
       "0  C00390633  SCHOOLSFIRST FEDERAL CREDIT UNION EMPLOYEES FE...   \n",
       "2  C00392464                          UNIVERSAL MUSIC GROUP PAC   \n",
       "3  C00392464                          UNIVERSAL MUSIC GROUP PAC   \n",
       "5  C00368993                  WINNING STRATEGIES WASHINGTON PAC   \n",
       "7  C00368993                  WINNING STRATEGIES WASHINGTON PAC   \n",
       "\n",
       "                   entity_tp                               name   other_id  \\\n",
       "0  enttp_Candidate Committee          PETE AGUILAR FOR CONGRESS  C00510461   \n",
       "2  enttp_Candidate Committee             RATCLIFFE FOR CONGRESS  C00554113   \n",
       "3  enttp_Candidate Committee  TED DEUTCH FOR CONGRESS COMMITTEE  C00469163   \n",
       "5  enttp_Candidate Committee     DONALD M PAYNE JR FOR CONGRESS  C00519355   \n",
       "7  enttp_Candidate Committee               FRIENDS OF DON BEYER  C00555888   \n",
       "\n",
       "                          other_name  transaction_amt    cand_id  \\\n",
       "0          PETE AGUILAR FOR CONGRESS             2500  H2CA31125   \n",
       "2             RATCLIFFE FOR CONGRESS              500  H4TX04153   \n",
       "3  TED DEUTCH FOR CONGRESS COMMITTEE             2000  H0FL19080   \n",
       "5     DONALD M PAYNE JR FOR CONGRESS             1300  H2NJ10154   \n",
       "7               FRIENDS OF DON BEYER              500  H4VA08224   \n",
       "\n",
       "                              cand_name transaction_dt  ... amndt_ind  \\\n",
       "0                         AGUILAR, PETE     2017-12-18  ...         N   \n",
       "2                     RATCLIFFE, JOHN L     2017-12-12  ...         N   \n",
       "3                DEUTCH, THEODORE ELIOT     2017-12-13  ...         N   \n",
       "5                 PAYNE, DONALD M., JR.     2017-12-12  ...         N   \n",
       "7  BEYER, DONALD STERNOFF HONORABLE JR.     2017-10-31  ...         N   \n",
       "\n",
       "     rpt_tp           image_num                                transaction_tp  \\\n",
       "0  Year end  201801249090614097  Contribution made to nonaffiliated committee   \n",
       "2  Year end  201801249090614162  Contribution made to nonaffiliated committee   \n",
       "3  Year end  201801249090614162  Contribution made to nonaffiliated committee   \n",
       "5  Year end  201801249090614336  Contribution made to nonaffiliated committee   \n",
       "7  Year end  201801249090614337  Contribution made to nonaffiliated committee   \n",
       "\n",
       "             city state zip_code employer file_num  memo_cd  \n",
       "0  SAN BERNARDINO    CA    92423      NaN  1199694      NaN  \n",
       "2        ROCKWALL    TX    75032      NaN  1199696      NaN  \n",
       "3      WASHINGTON    DC    20036      NaN  1199696      NaN  \n",
       "5          NEWARK    NJ    07114      NaN  1199704      NaN  \n",
       "7      ALEXANDRIA    VA    22314      NaN  1199704      NaN  \n",
       "\n",
       "[5 rows x 21 columns]"
      ]
     },
     "execution_count": 7,
     "metadata": {},
     "output_type": "execute_result"
    }
   ],
   "source": [
    "# add column headers from separate file\n",
    "headers = pd.read_csv(\n",
    "    'https://www.fec.gov/files/bulk-downloads/data_dictionaries/pas2_header_file.csv', \n",
    ")\n",
    "\n",
    "# read in & clean\n",
    "pas = pd.read_csv(\n",
    "    f'https://www.fec.gov/files/bulk-downloads/{year}/pas2{year[2:]}.zip', \n",
    "    sep = '|', \n",
    "    error_bad_lines = False, \n",
    "    header = None, \n",
    ")\n",
    "pas.columns = [x.lower() for x in headers.columns]\n",
    "print('original length:', len(pas))\n",
    "\n",
    "# transaction_amt != 0\n",
    "pas = pas[pas['transaction_amt'] != 0]\n",
    "print('remove observations with transaction_amt == 0:', len(pas))\n",
    "\n",
    "# keep only lines pertaining to candidates currently in cand dataframe\n",
    "cands = list(set(cand['cand_id'].values))\n",
    "mask = [True if pas.loc[i, 'cand_id'] in cands else \\\n",
    "        False for i in list(pas.index)]\n",
    "pas = pas[mask]\n",
    "print('keep lines for relevant candidates:', len(pas))\n",
    "\n",
    "# # 18-digit image number normat (June 29, 2015)\n",
    "# # YYYYMMDDSSPPPPPPPP\n",
    "# # YYYY - scanning year\n",
    "# # MM - scanning month\n",
    "# # DD - scanning day\n",
    "# # SS - source (02 - Senate, 03 - FEC Paper, 90-99 - FEC Electronic)\n",
    "# # PPPPPPPP - page (reset to zero every year on January 1)\n",
    "# pas['image_num'] = [str(x) for x in pas['image_num']]\n",
    "# # pas['scan_dt'] = [dt.strptime(x[:8], '%Y%m%d') for x in pas['image_num']]\n",
    "# source_dict = {\n",
    "#     '02' : 'source_Senate',\n",
    "#     '03' : 'source_FECpaper',\n",
    "# }\n",
    "\n",
    "# # make amendment indicator readable\n",
    "# amndtind_dict = {\n",
    "#     'N' : 'new filing',\n",
    "#     'A' : 'amendment filing',\n",
    "#     'T' : 'termination filing',\n",
    "# }\n",
    "# pas['amndt_ind'] = [amndtind_dict[x] for x in pas['amndt_ind']]\n",
    "\n",
    "# make report type readable\n",
    "rpttp = pd.read_csv('data/pas2_rpttp.csv')\n",
    "rpttp = rpttp[['Report type code', 'Report type', 'explanation']]\n",
    "rpttp_dict = dict(zip(rpttp['Report type code'], rpttp['Report type']))\n",
    "pas['rpt_tp'] = [rpttp_dict[x] for x in pas['rpt_tp']]\n",
    "del rpttp_dict\n",
    "    \n",
    "# make transaction type readable\n",
    "transtp = pd.read_csv('data/pas2_transactiontp.csv')\n",
    "transtp = transtp[['Transaction type', 'Transaction type description']]\n",
    "transtp_dict = dict(zip(transtp['Transaction type'], transtp['Transaction type description']))\n",
    "pas['transaction_tp'] = [transtp_dict[x] for x in pas['transaction_tp']]\n",
    "del transtp_dict\n",
    "\n",
    "# make entity type readable\n",
    "entitytp_dict = {\n",
    "    'CAN' : 'enttp_Candidate',\n",
    "    'CCM' : 'enttp_Candidate Committee',\n",
    "    'COM' : 'enttp_Committee',\n",
    "    'IND' : 'enttp_Individual (a person)',\n",
    "    'ORG' : 'enttp_Organization (not a committee and not a person)',\n",
    "    'PAC' : 'enttp_Political Action Committee',\n",
    "    'PTY' : 'enttp_Party Organization',\n",
    "    np.nan : np.nan,\n",
    "}\n",
    "\n",
    "pas['entity_tp'] = [entitytp_dict[x] for x in pas['entity_tp']]\n",
    "del entitytp_dict\n",
    "\n",
    "pas.drop([\n",
    "    'memo_text', # too many nulls, memos vague\n",
    "    'occupation',\n",
    "    'sub_id', # bring this back if it's a key somewhere else\n",
    "    'transaction_pgi', # total mess\n",
    "], axis = 1, inplace = True)\n",
    "\n",
    "# remove where tran_id null; all are 4-digit negative $\n",
    "drops = [\n",
    "    'tran_id',\n",
    "    'transaction_dt',\n",
    "    'name', \n",
    "]\n",
    "for which in drops:\n",
    "    pas = pas[pd.notnull(pas[which])]\n",
    "print('remove a few nulls:', len(pas))\n",
    "\n",
    "# make all names uppercase, normalize for deduping\n",
    "pas['name'] = [' '.join(x\\\n",
    "                        .replace(',', ' ')\\\n",
    "                        .replace('.', ' ')\\\n",
    "                        .replace(' LLC', '')\\\n",
    "                        .split()) for x in pas['name']]\n",
    "pas['name'] = [re.sub(' INC$', '', x) for x in pas['name']]\n",
    "    \n",
    "# convert transaction_dt\n",
    "pas['transaction_dt'] = ['0' + str(int(x)) if len(str(int(x))) == 7 else str(int(x)) for \\\n",
    "                         x in pas['transaction_dt']]\n",
    "pas['transaction_dt'] = [dt.strptime(x, '%m%d%Y') for x in pas['transaction_dt']]\n",
    "pas = pas[(pas['transaction_dt'] <= maxdate) & (pas['transaction_dt'] >= mindate)]\n",
    "print('slice on date window:', len(pas))\n",
    "\n",
    "# drop null columns\n",
    "pas.dropna(axis = 1, how = 'all', inplace = True)\n",
    "\n",
    "pas['other_name'] = [cm_dict[x] if x in list(cm_dict.keys()) else \\\n",
    "                     np.nan for x in pas['other_id']]\n",
    "\n",
    "pas['cmte_name'] = [cm_dict[x] if x in list(cm_dict.keys()) else \\\n",
    "                     np.nan for x in pas['cmte_id']]\n",
    "\n",
    "pas['cand_name'] = [cand_dict[x] if x in list(cand_dict.keys()) else \\\n",
    "                   np.nan for x in pas['cand_id']]\n",
    "\n",
    "# prep for deduping\n",
    "replace_dict = {\n",
    "    'POLITICAL ACTION COMMITTEE' : 'PAC',\n",
    "    ' & ' : ' AND ',\n",
    "    'CMTE' : 'COMMITTEE',\n",
    "    ' + ' : ' AND ',\n",
    "    'CORPORATION' : 'CORP',\n",
    "    \n",
    "}\n",
    "for key in list(replace_dict.keys()):\n",
    "    pas['name'] = [x.replace(key, replace_dict[key]) for x in pas['name']]\n",
    "    pas['cmte_name'] = [x.replace(key, replace_dict[key]) if (key in str(x)) else x for x in pas['cmte_name']] \n",
    "\n",
    "# reorder columns\n",
    "putfront = [\n",
    "    'cmte_id',\n",
    "    'cmte_name',\n",
    "    'entity_tp',\n",
    "    'name',\n",
    "    'other_id',\n",
    "    'other_name',\n",
    "    'transaction_amt',\n",
    "    'cand_id',\n",
    "    'cand_name',\n",
    "    'transaction_dt', \n",
    "    'tran_id',\n",
    "\n",
    "]\n",
    "notfront = [x for x in pas.columns if x not in putfront]\n",
    "pas = pd.concat([pas[putfront], pas[notfront]], axis = 1)\n",
    "\n",
    "pas.head()"
   ]
  },
  {
   "cell_type": "code",
   "execution_count": 8,
   "metadata": {},
   "outputs": [
    {
     "data": {
      "text/plain": [
       "(no treasurer listed)    11551\n",
       "HARRY PASCAL              3218\n",
       "PAUL KILGORE              3215\n",
       "EDWARD KURTZ              2450\n",
       "PATRICIA GILBERT          2170\n",
       "                         ...  \n",
       "C00649962                    1\n",
       "JOEL DYAR                    1\n",
       "NATHANIEL IRVIN              1\n",
       "MOLLY BISHOP                 1\n",
       "ZACHARY QUINN                1\n",
       "Name: cmte_tres, Length: 3852, dtype: int64"
      ]
     },
     "execution_count": 8,
     "metadata": {},
     "output_type": "execute_result"
    }
   ],
   "source": [
    "pas['cmte_tres'] = [tres_dict[x] if x in list(tres_dict.keys()) else x for x in pas['cmte_id']]\n",
    "pas['cmte_tres'].value_counts()"
   ]
  },
  {
   "cell_type": "code",
   "execution_count": 34,
   "metadata": {},
   "outputs": [
    {
     "data": {
      "text/html": [
       "<div>\n",
       "<style scoped>\n",
       "    .dataframe tbody tr th:only-of-type {\n",
       "        vertical-align: middle;\n",
       "    }\n",
       "\n",
       "    .dataframe tbody tr th {\n",
       "        vertical-align: top;\n",
       "    }\n",
       "\n",
       "    .dataframe thead th {\n",
       "        text-align: right;\n",
       "    }\n",
       "</style>\n",
       "<table border=\"1\" class=\"dataframe\">\n",
       "  <thead>\n",
       "    <tr style=\"text-align: right;\">\n",
       "      <th></th>\n",
       "      <th>tres</th>\n",
       "      <th>total</th>\n",
       "    </tr>\n",
       "  </thead>\n",
       "  <tbody>\n",
       "    <tr>\n",
       "      <td>0</td>\n",
       "      <td>CALEB CROSBY</td>\n",
       "      <td>212373269</td>\n",
       "    </tr>\n",
       "    <tr>\n",
       "      <td>1</td>\n",
       "      <td>KEITH DAVIS</td>\n",
       "      <td>111017251</td>\n",
       "    </tr>\n",
       "    <tr>\n",
       "      <td>2</td>\n",
       "      <td>REBECCA LAMBE</td>\n",
       "      <td>107501507</td>\n",
       "    </tr>\n",
       "    <tr>\n",
       "      <td>3</td>\n",
       "      <td>(no treasurer listed)</td>\n",
       "      <td>96614358</td>\n",
       "    </tr>\n",
       "    <tr>\n",
       "      <td>4</td>\n",
       "      <td>DANIEL SENA</td>\n",
       "      <td>79245252</td>\n",
       "    </tr>\n",
       "    <tr>\n",
       "      <td>5</td>\n",
       "      <td>ALIXANDRIA LAPP</td>\n",
       "      <td>59380075</td>\n",
       "    </tr>\n",
       "    <tr>\n",
       "      <td>6</td>\n",
       "      <td>ALLISON WRIGHT</td>\n",
       "      <td>39781289</td>\n",
       "    </tr>\n",
       "    <tr>\n",
       "      <td>7</td>\n",
       "      <td>HOWARD WOLFSON</td>\n",
       "      <td>38146487</td>\n",
       "    </tr>\n",
       "    <tr>\n",
       "      <td>8</td>\n",
       "      <td>JULIE DOZIER</td>\n",
       "      <td>32068879</td>\n",
       "    </tr>\n",
       "    <tr>\n",
       "      <td>9</td>\n",
       "      <td>GREG SPEED</td>\n",
       "      <td>27098413</td>\n",
       "    </tr>\n",
       "    <tr>\n",
       "      <td>10</td>\n",
       "      <td>JON PROCH</td>\n",
       "      <td>26070794</td>\n",
       "    </tr>\n",
       "    <tr>\n",
       "      <td>11</td>\n",
       "      <td>LAURIE VAN HALL</td>\n",
       "      <td>24029985</td>\n",
       "    </tr>\n",
       "    <tr>\n",
       "      <td>12</td>\n",
       "      <td>PATRICK COLLINS</td>\n",
       "      <td>21930982</td>\n",
       "    </tr>\n",
       "    <tr>\n",
       "      <td>13</td>\n",
       "      <td>ADAM ROZANSKY</td>\n",
       "      <td>18239515</td>\n",
       "    </tr>\n",
       "    <tr>\n",
       "      <td>14</td>\n",
       "      <td>BENJAMIN OTTENHOFF</td>\n",
       "      <td>16653867</td>\n",
       "    </tr>\n",
       "    <tr>\n",
       "      <td>15</td>\n",
       "      <td>DEANNA NESBURG</td>\n",
       "      <td>11267852</td>\n",
       "    </tr>\n",
       "    <tr>\n",
       "      <td>16</td>\n",
       "      <td>RICK HEGDAHL</td>\n",
       "      <td>9937796</td>\n",
       "    </tr>\n",
       "    <tr>\n",
       "      <td>17</td>\n",
       "      <td>PAUL KILGORE</td>\n",
       "      <td>8703120</td>\n",
       "    </tr>\n",
       "    <tr>\n",
       "      <td>18</td>\n",
       "      <td>TIMOTHY KOCH</td>\n",
       "      <td>8404526</td>\n",
       "    </tr>\n",
       "  </tbody>\n",
       "</table>\n",
       "</div>"
      ],
      "text/plain": [
       "                     tres      total\n",
       "0            CALEB CROSBY  212373269\n",
       "1             KEITH DAVIS  111017251\n",
       "2           REBECCA LAMBE  107501507\n",
       "3   (no treasurer listed)   96614358\n",
       "4             DANIEL SENA   79245252\n",
       "5         ALIXANDRIA LAPP   59380075\n",
       "6          ALLISON WRIGHT   39781289\n",
       "7          HOWARD WOLFSON   38146487\n",
       "8            JULIE DOZIER   32068879\n",
       "9              GREG SPEED   27098413\n",
       "10              JON PROCH   26070794\n",
       "11        LAURIE VAN HALL   24029985\n",
       "12        PATRICK COLLINS   21930982\n",
       "13          ADAM ROZANSKY   18239515\n",
       "14     BENJAMIN OTTENHOFF   16653867\n",
       "15         DEANNA NESBURG   11267852\n",
       "16           RICK HEGDAHL    9937796\n",
       "17           PAUL KILGORE    8703120\n",
       "18           TIMOTHY KOCH    8404526"
      ]
     },
     "execution_count": 34,
     "metadata": {},
     "output_type": "execute_result"
    }
   ],
   "source": [
    "treses = list(pas['cmte_tres'].value_counts().index)\n",
    "\n",
    "tres_list = []\n",
    "for tres in treses:\n",
    "    lil_pas = pas[pas['cmte_tres'] == tres]\n",
    "    total = lil_pas['transaction_amt'].sum()\n",
    "    tres_list.append((tres, total))\n",
    "    \n",
    "tres_df = pd.DataFrame(tres_list)\n",
    "tres_df.columns = ['tres', 'total']\n",
    "tres_df.sort_values(['total'], ascending = False, inplace = True)\n",
    "tres_df = tres_df[tres_df['total'] > 5.0E6]\n",
    "tres_df.reset_index(drop = True, inplace = True)"
   ]
  },
  {
   "cell_type": "code",
   "execution_count": 37,
   "metadata": {
    "scrolled": false
   },
   "outputs": [
    {
     "name": "stdout",
     "output_type": "stream",
     "text": [
      "CALEB CROSBY\n",
      "                               cmte         total\n",
      "0     CONGRESSIONAL LEADERSHIP FUND  $124,708,177\n",
      "1            SENATE LEADERSHIP FUND   $85,791,877\n",
      "2            CLEARPATH ACTION, INC.    $1,856,215\n",
      "3              FRIENDS OF NEAL DUNN       $11,000\n",
      "4              FREE MARKETS PAC INC        $5,500\n",
      "5  ADVANCED MICRO DEVICES, INC. PAC          $500\n",
      "\n",
      "\n",
      "KEITH DAVIS\n",
      "                                                cmte        total\n",
      "0                                               NRCC  $68,563,300\n",
      "1                                               NRSC  $42,049,856\n",
      "2                            TENN PAC INC (TENN PAC)     $180,000\n",
      "3  TRUST PAC TEAM REPUBLICANS FOR UTILIZING SENSI...     $134,000\n",
      "4                           WICKER VICTORY COMMITTEE      $61,095\n",
      "5        COUNTRY FIRST PAC, INC. (COUNTRY FIRST PAC)      $15,000\n",
      "6                                        BULLDOG PAC       $7,000\n",
      "7                                 ACCOUNTABILITY PAC       $7,000\n",
      "\n",
      "\n",
      "REBECCA LAMBE\n",
      "  cmte         total\n",
      "0  SMP  $107,501,507\n",
      "\n",
      "\n",
      "(no treasurer listed)\n",
      "                                      cmte        total\n",
      "0                         MAJORITY FORWARD  $40,273,232\n",
      "1                 AMERICANS FOR PROSPERITY   $8,805,971\n",
      "2                     PATRIOT MAJORITY USA   $4,759,256\n",
      "3                   US CHAMBER OF COMMERCE   $4,271,893\n",
      "4       BLACK PROGRESSIVE ACTION COALITION   $4,231,582\n",
      "..                                     ...          ...\n",
      "140      LEAGUE OF CONSERVATION VOTERS INC         $358\n",
      "141                                SAM PAC         $241\n",
      "142             DIGNITY CA SEIU LOCAL 2015         $210\n",
      "143  ORGANIZERS IN THE LAND OF ENCHANTMENT          $17\n",
      "144               AGAINST HERRELL OR SMALL           $4\n",
      "\n",
      "[145 rows x 2 columns]\n",
      "\n",
      "\n",
      "DANIEL SENA\n",
      "   cmte        total\n",
      "0  DCCC  $79,245,252\n",
      "\n",
      "\n",
      "ALIXANDRIA LAPP\n",
      "                 cmte        total\n",
      "0  HOUSE MAJORITY PAC  $59,380,075\n",
      "\n",
      "\n",
      "ALLISON WRIGHT\n",
      "   cmte        total\n",
      "0  DSCC  $39,781,289\n",
      "\n",
      "\n",
      "HOWARD WOLFSON\n",
      "                   cmte        total\n",
      "0  INDEPENDENCE USA PAC  $38,146,487\n",
      "\n",
      "\n",
      "JULIE DOZIER\n",
      "                 cmte        total\n",
      "0  NEW REPUBLICAN PAC  $30,508,249\n",
      "1      OHIO FIRST PAC     $944,256\n",
      "2        OUTSIDER PAC     $616,374\n",
      "\n",
      "\n",
      "GREG SPEED\n",
      "                    cmte        total\n",
      "0  PRIORITIES USA ACTION  $27,098,413\n",
      "\n",
      "\n",
      "JON PROCH\n",
      "                         cmte        total\n",
      "0  AMERICA FIRST ACTION, INC.  $26,070,794\n",
      "\n",
      "\n",
      "LAURIE VAN HALL\n",
      "          cmte        total\n",
      "0  WOMEN VOTE!  $24,029,985\n",
      "\n",
      "\n",
      "PATRICK COLLINS\n",
      "                                        cmte        total\n",
      "0                           LCV VICTORY FUND  $13,642,475\n",
      "1                     NEW AMERICAN JOBS FUND   $7,464,567\n",
      "2  LEAGUE OF CONSERVATION VOTERS ACTION FUND     $757,940\n",
      "3                          CSL EMPLOYEES PAC      $66,000\n",
      "\n",
      "\n",
      "ADAM ROZANSKY\n",
      "                     cmte       total\n",
      "0  CLUB FOR GROWTH ACTION  $9,119,904\n",
      "1      CFG ACTION MONTANA  $3,204,514\n",
      "2     CFG ACTION MISSOURI  $2,963,659\n",
      "3    CFG ACTION WISCONSIN  $2,384,294\n",
      "4     CLUB FOR GROWTH PAC    $365,342\n",
      "5    CFG ACTION TENNESSEE    $201,802\n",
      "\n",
      "\n",
      "BENJAMIN OTTENHOFF\n",
      "                                                cmte        total\n",
      "0                                      DEFENDARIZONA  $15,855,028\n",
      "1                               SCALISE FOR CONGRESS     $243,000\n",
      "2                RAIN AND HAIL INSURANCE SOCIETY PAC     $167,500\n",
      "3                  COMMON SENSE COMMON SOLUTIONS PAC     $140,500\n",
      "4                                 PATRIOT DAY I 2017      $98,181\n",
      "5                                 MAJORITY IN ACTION      $53,863\n",
      "6                                PATRIOT DAY II 2017      $49,545\n",
      "7                         CHARTER SCHOOLS ACTION PAC      $27,250\n",
      "8  HELPING AMERICA'S NEXT DEDICATED ELECTED LEADE...      $19,000\n",
      "\n",
      "\n",
      "DEANNA NESBURG\n",
      "                  cmte        total\n",
      "0  END CITIZENS UNITED  $11,267,852\n",
      "\n",
      "\n",
      "RICK HEGDAHL\n",
      "       cmte       total\n",
      "0  VOTEVETS  $9,937,796\n",
      "\n",
      "\n",
      "PAUL KILGORE\n",
      "                                                 cmte       total\n",
      "0                           SENATE CONSERVATIVES FUND  $2,694,155\n",
      "1                              PROSPERITY ACTION INC.  $1,835,000\n",
      "2   SEAL PAC SUPPORTING ELECTING AMERICAN LEADERS PAC    $781,275\n",
      "3                         SENATE CONSERVATIVES ACTION    $458,063\n",
      "4                                         GEORGIA PAC    $261,500\n",
      "5                                FIRST IN FREEDOM PAC    $224,500\n",
      "6      ELECTING MAJORITY MAKING EFFECTIVE REPUBLICANS    $181,000\n",
      "7                              FREEDOM'S DEFENSE FUND    $167,957\n",
      "8                           CONSERVATIVE PROMISES PAC    $154,500\n",
      "9                                 WHAT A COUNTRY! PAC    $141,700\n",
      "10                                           BILL PAC    $135,500\n",
      "11                                ABRAHAM LINCOLN PAC    $135,000\n",
      "12                                            JET PAC    $135,000\n",
      "13                   TEA PARTY PATRIOTS CITIZENS FUND    $123,176\n",
      "14                          RELY ON YOUR BELIEFS FUND    $105,000\n",
      "15                                      EXCELSIOR PAC     $89,500\n",
      "16                                          BUDDY PAC     $87,200\n",
      "17                                    THUNDERBOLT PAC     $85,100\n",
      "18                               JOHNSON FOR CONGRESS     $76,500\n",
      "19                           ANDY HARRIS FOR CONGRESS     $69,500\n",
      "20                           GARY PALMER FOR CONGRESS     $63,700\n",
      "21                                          WELLS PAC     $63,500\n",
      "22                                     CHESAPEAKE PAC     $57,000\n",
      "23                                          PEACH PAC     $55,080\n",
      "24                                            JAM PAC     $54,500\n",
      "25                                 EMMER FOR CONGRESS     $43,263\n",
      "26                                        LINCOLN PAC     $42,700\n",
      "27                                           STAR PAC     $35,500\n",
      "28                             KINZINGER FOR CONGRESS     $31,000\n",
      "29                                            DBM PAC     $31,000\n",
      "30  BUILDING OPPORTUNITIES FOR A STRONGER TOMORROW...     $27,700\n",
      "31                                  BUCK FOR COLORADO     $25,000\n",
      "32                                          GO PAC GO     $23,600\n",
      "33                        RANDY HULTGREN FOR CONGRESS     $23,000\n",
      "34        BELIEF IN LIFE AND LIBERTY PAC (BILL'S PAC)     $20,300\n",
      "35                          DAN NEWHOUSE FOR CONGRESS     $19,500\n",
      "36                  GEORGIA LIFE ALLIANCE ACTION FUND     $17,500\n",
      "37   NEW ENERGY IN WASHINGTON HOUSE PAC NEW HOUSE PAC     $16,500\n",
      "38                          BUDDY CARTER FOR CONGRESS     $15,000\n",
      "39                                          STAND PAC     $13,000\n",
      "40                             JODY HICE FOR CONGRESS     $12,000\n",
      "41                                REAGAN HERITAGE PAC     $11,000\n",
      "42                               MADISON PROJECT INC.      $9,000\n",
      "43                                     FIRST TEAM PAC      $8,400\n",
      "44                               ROTHFUS FOR CONGRESS      $8,000\n",
      "45                                HUDSON FOR CONGRESS      $7,000\n",
      "46                                      PONDEROSA PAC      $6,000\n",
      "47                       MIKE GALLAGHER FOR WISCONSIN      $5,000\n",
      "48                                GRAVES FOR CONGRESS      $4,000\n",
      "49                                  BOST VICTORY FUND      $3,338\n",
      "50                      REBUILDING AMERICAS TRUST PAC      $2,700\n",
      "51                         MOUNTAIN STATE VICTORY PAC      $2,700\n",
      "52                       PEAKS VICTORY COMMITTEE 2018      $2,513\n",
      "53                            CARLOS CURBELO CONGRESS      $2,000\n",
      "\n",
      "\n",
      "TIMOTHY KOCH\n",
      "                                          cmte       total\n",
      "0                        WITH HONOR FUND, INC.  $7,725,899\n",
      "1               FUND FOR A CONSERVATIVE FUTURE    $225,000\n",
      "2                               WITH HONOR PAC    $178,645\n",
      "3                            COMMON VALUES PAC    $138,500\n",
      "4                               TRUE NORTH PAC    $120,000\n",
      "5                        FIRST PRINCIPLES FUND     $10,000\n",
      "6  2018 REPUBLICAN CHALLENGERS FUND (2018 RCF)      $3,991\n",
      "7                                  RAMPART PAC      $2,491\n",
      "\n",
      "\n"
     ]
    }
   ],
   "source": [
    "treses = list(tres_df['tres'].values)\n",
    "\n",
    "for tres in treses:\n",
    "    print(tres)\n",
    "    lil_pas = pas[pas['cmte_tres'] == tres]\n",
    "    comms = list(lil_pas['cmte_name'].value_counts().index)\n",
    "    lil_list = []\n",
    "    for comm in comms:\n",
    "        lil_comm = lil_pas[lil_pas['cmte_name'] == comm]\n",
    "        total = lil_comm['transaction_amt'].sum()\n",
    "        lil_list.append((comm, total))\n",
    "    lil_df = pd.DataFrame(lil_list)\n",
    "    lil_df.columns = ['cmte', 'total']\n",
    "    lil_df.sort_values(['total'], ascending = False, inplace = True)\n",
    "    lil_df.reset_index(drop = True, inplace = True)\n",
    "    lil_df['total'] = ['${:,}'.format(x) for x in lil_df['total']]\n",
    "    print(lil_df)\n",
    "    print('\\n')"
   ]
  },
  {
   "cell_type": "code",
   "execution_count": 32,
   "metadata": {},
   "outputs": [
    {
     "data": {
      "text/plain": [
       "WORKING AMERICA                            2085\n",
       "FEMINIST MAJORITY                          1264\n",
       "INDIVISIBLE PROJECT INC.                    918\n",
       "UNITE HERE ARIZONA                          900\n",
       "HOTEL WORKERS FOR STRONGER COMMUNITIES      538\n",
       "                                           ... \n",
       "SEIU OHIO STATE JOINT COUNCIL PCE             1\n",
       "ORGANIZERS IN THE LAND OF ENCHANTMENT         1\n",
       "OPEN PROGRESS                                 1\n",
       "ATKINSON, JOHN AND BONNIE                     1\n",
       "AMERICAN BRIDGE 21ST CENTURY FOUNDATION       1\n",
       "Name: cmte_name, Length: 145, dtype: int64"
      ]
     },
     "execution_count": 32,
     "metadata": {},
     "output_type": "execute_result"
    }
   ],
   "source": [
    "pas.loc[pas['cmte_tres'] == '(no treasurer listed)', 'cmte_name'].value_counts()[:20]"
   ]
  },
  {
   "cell_type": "code",
   "execution_count": null,
   "metadata": {},
   "outputs": [],
   "source": [
    "pas['transaction_dt'].sort_values()[:10]"
   ]
  },
  {
   "cell_type": "code",
   "execution_count": null,
   "metadata": {},
   "outputs": [],
   "source": [
    "pas.isnull().sum()[pas.isnull().sum() > 0].sort_values()"
   ]
  },
  {
   "cell_type": "code",
   "execution_count": null,
   "metadata": {
    "scrolled": false
   },
   "outputs": [],
   "source": [
    "pas['transaction_tp'].value_counts()"
   ]
  },
  {
   "cell_type": "code",
   "execution_count": null,
   "metadata": {},
   "outputs": [],
   "source": [
    "pas[pas['transaction_tp'] == 'Election recount disbursement']"
   ]
  },
  {
   "cell_type": "code",
   "execution_count": null,
   "metadata": {},
   "outputs": [],
   "source": [
    "pas = pas[pas['transaction_tp'] != 'Election recount disbursement']"
   ]
  },
  {
   "cell_type": "code",
   "execution_count": null,
   "metadata": {},
   "outputs": [],
   "source": [
    "pas[pas['transaction_tp'] == 'Communication cost against candidate (only for Form 7 filer)']"
   ]
  },
  {
   "cell_type": "code",
   "execution_count": null,
   "metadata": {},
   "outputs": [],
   "source": [
    "pas = pas[pas['transaction_tp'] != 'Communication cost against candidate (only for Form 7 filer)']"
   ]
  },
  {
   "cell_type": "code",
   "execution_count": null,
   "metadata": {},
   "outputs": [],
   "source": [
    "# other_id is a cand_id when other_name is null\n",
    "no_other_name = list(pas.loc[pas['other_name'].isnull(), 'other_id'].value_counts().index)\n",
    "list(set([x[0] for x in no_other_name]))"
   ]
  },
  {
   "cell_type": "code",
   "execution_count": null,
   "metadata": {},
   "outputs": [],
   "source": [
    "# transaction_tps when other_name is null-- do not directly involve a candidate\n",
    "pas.loc[pas['other_name'].isnull(), 'transaction_tp'].value_counts()"
   ]
  },
  {
   "cell_type": "code",
   "execution_count": null,
   "metadata": {},
   "outputs": [],
   "source": [
    "# other_id is a cmte_id when other_name is present\n",
    "other_name = list(pas.loc[pd.notnull(pas['other_name']), 'other_id'].value_counts().index)\n",
    "list(set([x[0] for x in other_name]))"
   ]
  },
  {
   "cell_type": "code",
   "execution_count": null,
   "metadata": {},
   "outputs": [],
   "source": [
    "# transaction_tps when other_name is present\n",
    "pas.loc[pd.notnull(pas['other_name']), 'transaction_tp'].value_counts()"
   ]
  },
  {
   "cell_type": "code",
   "execution_count": null,
   "metadata": {},
   "outputs": [],
   "source": [
    "plt.figure(figsize = (18, 3))\n",
    "plt.scatter(\n",
    "    pas['transaction_dt'],\n",
    "    pas['transaction_amt'],\n",
    "    s = 5,\n",
    ")\n",
    "\n",
    "plt.show();"
   ]
  },
  {
   "cell_type": "code",
   "execution_count": null,
   "metadata": {
    "scrolled": false
   },
   "outputs": [],
   "source": [
    "data = []\n",
    "labels = list(set(pas.loc[pd.notnull(pas['cand_id']), 'transaction_tp']))\n",
    "for which in labels:\n",
    "    lil_pas = pas[pd.notnull(pas['cand_id']) & (pas['transaction_tp'] == which)]\n",
    "    data.append(lil_pas['transaction_amt']/1.0E6)\n",
    "    print(which)\n",
    "    print('count:', len(lil_pas))\n",
    "    print('unique:', len(lil_pas['name'].value_counts()))\n",
    "    print('median:', lil_pas['transaction_amt'].median())\n",
    "    print('mean:', lil_pas['transaction_amt'].mean())\n",
    "    print('std dev:', lil_pas['transaction_amt'].std())\n",
    "    print(lil_pas['name'].value_counts()[:10])\n",
    "    print('\\n')\n",
    "\n",
    "plt.figure(figsize = (20, 2))\n",
    "\n",
    "plt.boxplot(data, vert = False)\n",
    "plt.yticks(range(1, len(labels) + 1), labels, fontsize = 12)\n",
    "plt.xlabel('$MM USD')\n",
    "\n",
    "plt.show();"
   ]
  },
  {
   "cell_type": "markdown",
   "metadata": {},
   "source": [
    "### Split dataframe, dedupe 'name' column"
   ]
  },
  {
   "cell_type": "code",
   "execution_count": null,
   "metadata": {},
   "outputs": [],
   "source": [
    "def findall(name):\n",
    "    '''find pattern in treasurer names columns'''\n",
    "    all_name = list(set(pas['name']))\n",
    "    if type(name) == str:\n",
    "        these = [x for x in all_name if name.lower() in str(x).lower()]\n",
    "    else:  \n",
    "        these = all_name\n",
    "        for which in name:\n",
    "            these = [x for x in these if which in str(x).lower()]\n",
    "    return sorted(these)"
   ]
  },
  {
   "cell_type": "code",
   "execution_count": null,
   "metadata": {},
   "outputs": [],
   "source": [
    "lil_pas = pas[pas['transaction_tp'].apply(lambda x: x in [\n",
    "    'Independent expenditure opposing election of candidate', \n",
    "    'Independent expenditure advocating election of candidate', \n",
    "    'Coordinated party expenditure',\n",
    "])]\n",
    "lil_pas['name'].value_counts()[:50]"
   ]
  },
  {
   "cell_type": "code",
   "execution_count": null,
   "metadata": {},
   "outputs": [],
   "source": [
    "findall('courage')"
   ]
  },
  {
   "cell_type": "code",
   "execution_count": null,
   "metadata": {},
   "outputs": [],
   "source": [
    "findall(['face', 'book'])"
   ]
  },
  {
   "cell_type": "code",
   "execution_count": null,
   "metadata": {},
   "outputs": [],
   "source": [
    "pas.loc[pas['name'].apply(lambda x: 'FACEBOOK' in x), 'name'] = 'FACEBOOK'"
   ]
  },
  {
   "cell_type": "code",
   "execution_count": null,
   "metadata": {},
   "outputs": [],
   "source": [
    "findall(['water', 'front'])"
   ]
  },
  {
   "cell_type": "code",
   "execution_count": null,
   "metadata": {},
   "outputs": [],
   "source": [
    "findall('bully')"
   ]
  },
  {
   "cell_type": "code",
   "execution_count": null,
   "metadata": {},
   "outputs": [],
   "source": [
    "findall(['house', 'freedom'])"
   ]
  },
  {
   "cell_type": "code",
   "execution_count": null,
   "metadata": {},
   "outputs": [],
   "source": [
    "findall('twilio')"
   ]
  },
  {
   "cell_type": "code",
   "execution_count": null,
   "metadata": {},
   "outputs": [],
   "source": [
    "findall(['club', 'growth'])"
   ]
  },
  {
   "cell_type": "code",
   "execution_count": null,
   "metadata": {},
   "outputs": [],
   "source": [
    "pas.loc[pas['name'].apply(lambda x: 'CLUB FOR GROWTH' in x), 'name'].value_counts()"
   ]
  },
  {
   "cell_type": "code",
   "execution_count": null,
   "metadata": {},
   "outputs": [],
   "source": [
    "pas.loc[pas['name'].apply(lambda x: 'CLUB FOR GROWTH' in x), 'name'] = 'CLUB FOR GROWTH'"
   ]
  },
  {
   "cell_type": "code",
   "execution_count": null,
   "metadata": {},
   "outputs": [],
   "source": [
    "findall(['metro', 'strat'])"
   ]
  },
  {
   "cell_type": "code",
   "execution_count": null,
   "metadata": {},
   "outputs": [],
   "source": [
    "findall(['right', 'country'])"
   ]
  },
  {
   "cell_type": "code",
   "execution_count": null,
   "metadata": {},
   "outputs": [],
   "source": [
    "findall('nebo')"
   ]
  },
  {
   "cell_type": "code",
   "execution_count": null,
   "metadata": {},
   "outputs": [],
   "source": [
    "findall(['senate', 'conserv'])"
   ]
  },
  {
   "cell_type": "code",
   "execution_count": null,
   "metadata": {},
   "outputs": [],
   "source": [
    "findall('indivisible')"
   ]
  },
  {
   "cell_type": "code",
   "execution_count": null,
   "metadata": {},
   "outputs": [],
   "source": [
    "findall(['pro', 'list'])"
   ]
  },
  {
   "cell_type": "code",
   "execution_count": null,
   "metadata": {},
   "outputs": [],
   "source": [
    "pas.loc[pas['name'].apply(lambda x: 'PROLIST' in x), 'name'].value_counts()"
   ]
  },
  {
   "cell_type": "code",
   "execution_count": null,
   "metadata": {},
   "outputs": [],
   "source": [
    "pas.loc[pas['name'].apply(lambda x: 'PROLIST' in x), 'name'] = 'PROLIST'"
   ]
  },
  {
   "cell_type": "code",
   "execution_count": null,
   "metadata": {},
   "outputs": [],
   "source": [
    "findall('hustle')"
   ]
  },
  {
   "cell_type": "code",
   "execution_count": null,
   "metadata": {},
   "outputs": [],
   "source": [
    "findall('skd')"
   ]
  },
  {
   "cell_type": "code",
   "execution_count": null,
   "metadata": {},
   "outputs": [],
   "source": [
    "pas.loc[pas['name'].apply(lambda x: 'SKD' in x), 'name'].value_counts()"
   ]
  },
  {
   "cell_type": "code",
   "execution_count": null,
   "metadata": {},
   "outputs": [],
   "source": [
    "pas.loc[pas['name'].apply(lambda x: 'SKD' in x), 'name'] = 'SKDKNICKERBOCKER'"
   ]
  },
  {
   "cell_type": "code",
   "execution_count": null,
   "metadata": {},
   "outputs": [],
   "source": [
    "findall('sierra club')"
   ]
  },
  {
   "cell_type": "code",
   "execution_count": null,
   "metadata": {},
   "outputs": [],
   "source": [
    "findall('pivot')"
   ]
  },
  {
   "cell_type": "code",
   "execution_count": null,
   "metadata": {},
   "outputs": [],
   "source": [
    "pas.loc[pas['name'].apply(lambda x: 'PIVOT' in x), 'name'].value_counts()"
   ]
  },
  {
   "cell_type": "code",
   "execution_count": null,
   "metadata": {},
   "outputs": [],
   "source": [
    "pas.loc[pas['name'].apply(lambda x: 'PIVOT' in x), 'name'] = 'THE PIVOT GROUP'"
   ]
  },
  {
   "cell_type": "code",
   "execution_count": null,
   "metadata": {},
   "outputs": [],
   "source": [
    "findall('alliance')"
   ]
  },
  {
   "cell_type": "code",
   "execution_count": null,
   "metadata": {},
   "outputs": [],
   "source": [
    "findall('pdq')"
   ]
  },
  {
   "cell_type": "code",
   "execution_count": null,
   "metadata": {},
   "outputs": [],
   "source": [
    "findall(['maj', 'strat'])"
   ]
  },
  {
   "cell_type": "code",
   "execution_count": null,
   "metadata": {},
   "outputs": [],
   "source": [
    "pas.loc[pas['name'] == 'MAJORITIES STRATEGIES', 'name'] = 'MAJORITY STRATEGIES'"
   ]
  },
  {
   "cell_type": "code",
   "execution_count": null,
   "metadata": {},
   "outputs": [],
   "source": [
    "findall(['next', 'gen'])"
   ]
  },
  {
   "cell_type": "code",
   "execution_count": null,
   "metadata": {},
   "outputs": [],
   "source": [
    "findall('deliver')"
   ]
  },
  {
   "cell_type": "code",
   "execution_count": null,
   "metadata": {},
   "outputs": [],
   "source": [
    "findall('every')"
   ]
  },
  {
   "cell_type": "code",
   "execution_count": null,
   "metadata": {},
   "outputs": [],
   "source": [
    "findall('mother')"
   ]
  },
  {
   "cell_type": "code",
   "execution_count": null,
   "metadata": {},
   "outputs": [],
   "source": [
    "findall('spaff')"
   ]
  },
  {
   "cell_type": "code",
   "execution_count": null,
   "metadata": {},
   "outputs": [],
   "source": [
    "findall(['forth', 'right'])"
   ]
  },
  {
   "cell_type": "code",
   "execution_count": null,
   "metadata": {},
   "outputs": [],
   "source": [
    "findall('lincoln')"
   ]
  },
  {
   "cell_type": "code",
   "execution_count": null,
   "metadata": {},
   "outputs": [],
   "source": [
    "findall('humane')"
   ]
  },
  {
   "cell_type": "code",
   "execution_count": null,
   "metadata": {},
   "outputs": [],
   "source": [
    "findall('360')"
   ]
  },
  {
   "cell_type": "code",
   "execution_count": null,
   "metadata": {},
   "outputs": [],
   "source": [
    "pas.loc[pas['name'].apply(lambda x: 'I360' in x), 'name'] = 'I360'"
   ]
  },
  {
   "cell_type": "code",
   "execution_count": null,
   "metadata": {},
   "outputs": [],
   "source": [
    "findall('fp1')"
   ]
  },
  {
   "cell_type": "code",
   "execution_count": null,
   "metadata": {},
   "outputs": [],
   "source": [
    "pas.loc[pas['name'].apply(lambda x: 'FP1' in x), 'name'].value_counts()"
   ]
  },
  {
   "cell_type": "code",
   "execution_count": null,
   "metadata": {},
   "outputs": [],
   "source": [
    "pas.loc[pas['name'].apply(lambda x: 'FP1' in x), 'name'] = 'FP1 STRATEGIES'"
   ]
  },
  {
   "cell_type": "code",
   "execution_count": null,
   "metadata": {},
   "outputs": [],
   "source": [
    "findall('solidarity')"
   ]
  },
  {
   "cell_type": "code",
   "execution_count": null,
   "metadata": {},
   "outputs": [],
   "source": [
    "findall('groundbase')"
   ]
  },
  {
   "cell_type": "code",
   "execution_count": null,
   "metadata": {},
   "outputs": [],
   "source": [
    "pas.loc[pas['name'].apply(lambda x: 'SOLIDARITY COMPANY' in x), 'name'] = 'GROUNDBASE/SOLIDARITY COMPANY'\n",
    "pas.loc[pas['name'].apply(lambda x: 'GROUNDBASE' in x), 'name'] = 'GROUNDBASE/SOLIDARITY COMPANY'"
   ]
  },
  {
   "cell_type": "code",
   "execution_count": null,
   "metadata": {},
   "outputs": [],
   "source": [
    "findall(['blue', 'print'])"
   ]
  },
  {
   "cell_type": "code",
   "execution_count": null,
   "metadata": {},
   "outputs": [],
   "source": [
    "pas.loc[pas['name'].apply(lambda x: ('BLUE' in x) & ('PRINT INTER' in x)), 'name'].value_counts()"
   ]
  },
  {
   "cell_type": "code",
   "execution_count": null,
   "metadata": {},
   "outputs": [],
   "source": [
    "pas.loc[pas['name'] == 'BLUE PRINT INTERACTIVE', 'name'] = 'BLUEPRINT INTERACTIVE'"
   ]
  },
  {
   "cell_type": "code",
   "execution_count": null,
   "metadata": {},
   "outputs": [],
   "source": [
    "findall(['demo', 'live'])"
   ]
  },
  {
   "cell_type": "code",
   "execution_count": null,
   "metadata": {},
   "outputs": [],
   "source": [
    "findall(['conn', 'strat'])"
   ]
  },
  {
   "cell_type": "code",
   "execution_count": null,
   "metadata": {},
   "outputs": [],
   "source": [
    "findall(['creative', 'dir'])"
   ]
  },
  {
   "cell_type": "code",
   "execution_count": null,
   "metadata": {},
   "outputs": [],
   "source": [
    "findall(['del', 'ray'])"
   ]
  },
  {
   "cell_type": "code",
   "execution_count": null,
   "metadata": {},
   "outputs": [],
   "source": [
    "findall(['texas', 'org'])"
   ]
  },
  {
   "cell_type": "code",
   "execution_count": null,
   "metadata": {},
   "outputs": [],
   "source": [
    "findall(['pay', 'chex'])"
   ]
  },
  {
   "cell_type": "code",
   "execution_count": null,
   "metadata": {},
   "outputs": [],
   "source": [
    "findall('imge')"
   ]
  },
  {
   "cell_type": "code",
   "execution_count": null,
   "metadata": {},
   "outputs": [],
   "source": [
    "findall('unite here')"
   ]
  },
  {
   "cell_type": "code",
   "execution_count": null,
   "metadata": {},
   "outputs": [],
   "source": [
    "pas.loc[pas['name'].apply(lambda x: 'UNITE HERE' in x), 'name'].value_counts()"
   ]
  },
  {
   "cell_type": "code",
   "execution_count": null,
   "metadata": {},
   "outputs": [],
   "source": [
    "pas.loc[pas['name'].apply(lambda x: 'UNITE HERE' in x), 'name'] = 'UNITE HERE TIP STATE AND LOCAL FUND'"
   ]
  },
  {
   "cell_type": "code",
   "execution_count": null,
   "metadata": {},
   "outputs": [],
   "source": [
    "findall('amplify')"
   ]
  },
  {
   "cell_type": "code",
   "execution_count": null,
   "metadata": {},
   "outputs": [],
   "source": [
    "pas.loc[pas['name'].apply(lambda x: 'AMPLIFY' in x), 'name'].value_counts()"
   ]
  },
  {
   "cell_type": "code",
   "execution_count": null,
   "metadata": {},
   "outputs": [],
   "source": [
    "pas.loc[pas['name'].apply(lambda x: 'AMPLIFY' in x), 'name'] = 'AMPLIFY MEDIA'"
   ]
  },
  {
   "cell_type": "code",
   "execution_count": null,
   "metadata": {},
   "outputs": [],
   "source": [
    "findall('consolidate')"
   ]
  },
  {
   "cell_type": "code",
   "execution_count": null,
   "metadata": {},
   "outputs": [],
   "source": [
    "pas.loc[pas['name'] == 'CONSOLIDATED MAILING SERVICE', 'name'] = 'CONSOLIDATED MAILING SERVICES'"
   ]
  },
  {
   "cell_type": "code",
   "execution_count": null,
   "metadata": {},
   "outputs": [],
   "source": [
    "findall('for our')"
   ]
  },
  {
   "cell_type": "code",
   "execution_count": null,
   "metadata": {},
   "outputs": [],
   "source": [
    "findall(['master', 'print'])"
   ]
  },
  {
   "cell_type": "code",
   "execution_count": null,
   "metadata": {},
   "outputs": [],
   "source": [
    "findall('arena')"
   ]
  },
  {
   "cell_type": "code",
   "execution_count": null,
   "metadata": {},
   "outputs": [],
   "source": [
    "pas.loc[pas['name'].apply(lambda x: 'ARENA' in x), 'name'].value_counts()"
   ]
  },
  {
   "cell_type": "code",
   "execution_count": null,
   "metadata": {},
   "outputs": [],
   "source": [
    "findall('main street')"
   ]
  },
  {
   "cell_type": "code",
   "execution_count": null,
   "metadata": {},
   "outputs": [],
   "source": [
    "findall('mission')"
   ]
  },
  {
   "cell_type": "code",
   "execution_count": null,
   "metadata": {},
   "outputs": [],
   "source": [
    "findall('lukens')"
   ]
  },
  {
   "cell_type": "code",
   "execution_count": null,
   "metadata": {},
   "outputs": [],
   "source": [
    "pas.loc[pas['name'].apply(lambda x: 'LUKENS' in x), 'name'].value_counts()"
   ]
  },
  {
   "cell_type": "code",
   "execution_count": null,
   "metadata": {},
   "outputs": [],
   "source": [
    "pas.loc[pas['name'].apply(lambda x: 'LUKENS' in x), 'name'] = 'THE LUKENS COMPANY'"
   ]
  },
  {
   "cell_type": "code",
   "execution_count": null,
   "metadata": {},
   "outputs": [],
   "source": [
    "findall('sage media')"
   ]
  },
  {
   "cell_type": "code",
   "execution_count": null,
   "metadata": {},
   "outputs": [],
   "source": [
    "findall(['league', 'cons'])"
   ]
  },
  {
   "cell_type": "code",
   "execution_count": null,
   "metadata": {},
   "outputs": [],
   "source": [
    "pas.loc[pas['name'].apply(lambda x: 'LEAGUE OF CONSERVATION VOTERS' in x), 'name'].value_counts()"
   ]
  },
  {
   "cell_type": "code",
   "execution_count": null,
   "metadata": {},
   "outputs": [],
   "source": [
    "pas.loc[pas['name'].apply(lambda x: 'LEAGUE OF CONSERVATION VOTERS' in x), 'name'] = \\\n",
    "'LEAGUE OF CONSERVATION VOTERS'"
   ]
  },
  {
   "cell_type": "code",
   "execution_count": null,
   "metadata": {},
   "outputs": [],
   "source": [
    "lil_pas = pas[pas['transaction_tp'].apply(lambda x: x in [\n",
    "    'Independent expenditure opposing election of candidate', \n",
    "    'Independent expenditure advocating election of candidate', \n",
    "    'Coordinated party expenditure',\n",
    "])]\n",
    "lil_pas['name'].value_counts()[:50]"
   ]
  },
  {
   "cell_type": "code",
   "execution_count": null,
   "metadata": {},
   "outputs": [],
   "source": [
    "lil_pas = pas[pas['transaction_tp'].apply(lambda x: x in [\n",
    "    'Independent expenditure opposing election of candidate', \n",
    "    'Independent expenditure advocating election of candidate', \n",
    "    'Coordinated party expenditure',\n",
    "])]\n",
    "lil_pas['name'].value_counts()[50:100]"
   ]
  },
  {
   "cell_type": "code",
   "execution_count": null,
   "metadata": {},
   "outputs": [],
   "source": [
    "findall('allegiance')"
   ]
  },
  {
   "cell_type": "code",
   "execution_count": null,
   "metadata": {},
   "outputs": [],
   "source": [
    "findall('resonance')"
   ]
  },
  {
   "cell_type": "code",
   "execution_count": null,
   "metadata": {},
   "outputs": [],
   "source": [
    "findall(['strategy group'])"
   ]
  },
  {
   "cell_type": "code",
   "execution_count": null,
   "metadata": {},
   "outputs": [],
   "source": [
    "pas.loc[pas['name'] == 'MOSIAC MEDIA STRATEGY GROUP', 'name'] = 'MOSAIC MEDIA STRATEGY GROUP'"
   ]
  },
  {
   "cell_type": "code",
   "execution_count": null,
   "metadata": {},
   "outputs": [],
   "source": [
    "pas.loc[pas['name'] == 'STRATEGY GROUP FOR MEDIA', 'name'] = 'THE STRATEGY GROUP FOR MEDIA'\n",
    "pas.loc[pas['name'].apply(lambda x: 'THE STRATEGY GROUP' in x), 'name'].value_counts()"
   ]
  },
  {
   "cell_type": "code",
   "execution_count": null,
   "metadata": {},
   "outputs": [],
   "source": [
    "pas.loc[pas['name'].apply(lambda x: 'THE STRATEGY GROUP' in x), 'name'] = 'THE STRATEGY GROUP'"
   ]
  },
  {
   "cell_type": "code",
   "execution_count": null,
   "metadata": {},
   "outputs": [],
   "source": [
    "findall(['spoken', 'hub'])"
   ]
  },
  {
   "cell_type": "code",
   "execution_count": null,
   "metadata": {},
   "outputs": [],
   "source": [
    "pas.loc[pas['name'].apply(lambda x: 'SPOKEN HUB' in x), 'name'].value_counts()"
   ]
  },
  {
   "cell_type": "code",
   "execution_count": null,
   "metadata": {},
   "outputs": [],
   "source": [
    "pas.loc[pas['name'].apply(lambda x: 'SPOKEN HUB' in x), 'name'] = 'THE SPOKEN HUB'"
   ]
  },
  {
   "cell_type": "code",
   "execution_count": null,
   "metadata": {},
   "outputs": [],
   "source": [
    "findall(['stone', 'ridge'])"
   ]
  },
  {
   "cell_type": "code",
   "execution_count": null,
   "metadata": {},
   "outputs": [],
   "source": [
    "pas.loc[pas['name'].apply(lambda x: 'STONERIDGE' in x), 'name'].value_counts()"
   ]
  },
  {
   "cell_type": "code",
   "execution_count": null,
   "metadata": {},
   "outputs": [],
   "source": [
    "pas.loc[pas['name'].apply(lambda x: 'STONERIDGE' in x), 'name'] = 'THE STONERIDGE GROUP'"
   ]
  },
  {
   "cell_type": "code",
   "execution_count": null,
   "metadata": {},
   "outputs": [],
   "source": [
    "findall('priorities')"
   ]
  },
  {
   "cell_type": "code",
   "execution_count": null,
   "metadata": {},
   "outputs": [],
   "source": [
    "findall('dssi')"
   ]
  },
  {
   "cell_type": "code",
   "execution_count": null,
   "metadata": {},
   "outputs": [],
   "source": [
    "findall(['conserv', 'connect'])"
   ]
  },
  {
   "cell_type": "code",
   "execution_count": null,
   "metadata": {},
   "outputs": [],
   "source": [
    "findall(['rev', 'com'])"
   ]
  },
  {
   "cell_type": "code",
   "execution_count": null,
   "metadata": {},
   "outputs": [],
   "source": [
    "pas.loc[pas['name'] == 'REV COM', 'name'] = 'REV.COM'"
   ]
  },
  {
   "cell_type": "code",
   "execution_count": null,
   "metadata": {},
   "outputs": [],
   "source": [
    "findall(['pin', 'point'])"
   ]
  },
  {
   "cell_type": "code",
   "execution_count": null,
   "metadata": {},
   "outputs": [],
   "source": [
    "pas.loc[pas['name'].apply(lambda x: 'PINPOINT WEB' in x), 'name'].value_counts()"
   ]
  },
  {
   "cell_type": "code",
   "execution_count": null,
   "metadata": {},
   "outputs": [],
   "source": [
    "pas.loc[pas['name'].apply(lambda x: 'PINPOINT WEB' in x), 'name'] = 'PINPOINT WEBSOLUTIONS'"
   ]
  },
  {
   "cell_type": "code",
   "execution_count": null,
   "metadata": {},
   "outputs": [],
   "source": [
    "findall(['rev', 'messag'])"
   ]
  },
  {
   "cell_type": "code",
   "execution_count": null,
   "metadata": {},
   "outputs": [],
   "source": [
    "findall('google')"
   ]
  },
  {
   "cell_type": "code",
   "execution_count": null,
   "metadata": {},
   "outputs": [],
   "source": [
    "pas.loc[pas['name'].apply(lambda x: 'GOOGLE' in x), 'name'] = 'GOOGLE'"
   ]
  },
  {
   "cell_type": "code",
   "execution_count": null,
   "metadata": {},
   "outputs": [],
   "source": [
    "findall('interactive')"
   ]
  },
  {
   "cell_type": "code",
   "execution_count": null,
   "metadata": {},
   "outputs": [],
   "source": [
    "findall('postal')"
   ]
  },
  {
   "cell_type": "code",
   "execution_count": null,
   "metadata": {},
   "outputs": [],
   "source": [
    "findall('usps')"
   ]
  },
  {
   "cell_type": "code",
   "execution_count": null,
   "metadata": {},
   "outputs": [],
   "source": [
    "pas.loc[pas['name'].apply(lambda x: ('POSTAL' in x) | ('USPS' in x)), 'name'] = 'UNITED STATES POSTAL SERVICE'"
   ]
  },
  {
   "cell_type": "code",
   "execution_count": null,
   "metadata": {},
   "outputs": [],
   "source": [
    "findall('western')"
   ]
  },
  {
   "cell_type": "code",
   "execution_count": null,
   "metadata": {},
   "outputs": [],
   "source": [
    "pas.loc[pas['name'].apply(lambda x: 'BEST WESTERN' in x), 'name'] = 'BEST WESTERN'"
   ]
  },
  {
   "cell_type": "code",
   "execution_count": null,
   "metadata": {},
   "outputs": [],
   "source": [
    "findall('target')"
   ]
  },
  {
   "cell_type": "code",
   "execution_count": null,
   "metadata": {},
   "outputs": [],
   "source": [
    "pas.loc[pas['name'].apply(lambda x: 'MICRO TARGETING' in x), 'name'] = 'ADVANCED MICRO TARGETING'\n",
    "pas.loc[pas['name'].apply(lambda x: 'TARGETED VICOTRY' in x), 'name'] = 'TARGETED VICTORY'\n",
    "pas.loc[pas['name'].apply(lambda x: 'TARGETSMART' in x), 'name'] = 'TARGETSMART'\n",
    "pas.loc[\n",
    "    (pas['name'] == 'TARGET') | \\\n",
    "    (pas['name'] == 'TARGET COM') | \\\n",
    "    (pas['name'] == 'TARGET STORES'), 'name'] = 'TARGET CORP'"
   ]
  },
  {
   "cell_type": "code",
   "execution_count": null,
   "metadata": {},
   "outputs": [],
   "source": [
    "findall('ppws')"
   ]
  },
  {
   "cell_type": "code",
   "execution_count": null,
   "metadata": {},
   "outputs": [],
   "source": [
    "pas.loc[pas['name'].apply(lambda x: 'PPWS' in x), 'name'].value_counts()"
   ]
  },
  {
   "cell_type": "code",
   "execution_count": null,
   "metadata": {},
   "outputs": [],
   "source": [
    "pas.loc[pas['name'].apply(lambda x: 'PPWS' in x), 'name'] = 'PPWS'"
   ]
  },
  {
   "cell_type": "code",
   "execution_count": null,
   "metadata": {},
   "outputs": [],
   "source": [
    "findall('ralston')"
   ]
  },
  {
   "cell_type": "code",
   "execution_count": null,
   "metadata": {},
   "outputs": [],
   "source": [
    "pas.loc[pas['name'].apply(lambda x: 'RALSTON' in x), 'name'].value_counts()"
   ]
  },
  {
   "cell_type": "code",
   "execution_count": null,
   "metadata": {},
   "outputs": [],
   "source": [
    "pas.loc[pas['name'].apply(lambda x: 'RALSTON' in x), 'name'] = 'RALSTON LAPP MEDIA'"
   ]
  },
  {
   "cell_type": "code",
   "execution_count": null,
   "metadata": {},
   "outputs": [],
   "source": [
    "findall(['columbia', 'road'])"
   ]
  },
  {
   "cell_type": "code",
   "execution_count": null,
   "metadata": {},
   "outputs": [],
   "source": [
    "findall(['campaign', 'funding'])"
   ]
  },
  {
   "cell_type": "code",
   "execution_count": null,
   "metadata": {},
   "outputs": [],
   "source": [
    "findall(['federal', 'capit'])"
   ]
  },
  {
   "cell_type": "code",
   "execution_count": null,
   "metadata": {},
   "outputs": [],
   "source": [
    "findall('fccc')"
   ]
  },
  {
   "cell_type": "code",
   "execution_count": null,
   "metadata": {},
   "outputs": [],
   "source": [
    "findall('bend')"
   ]
  },
  {
   "cell_type": "code",
   "execution_count": null,
   "metadata": {},
   "outputs": [],
   "source": [
    "pas.loc[pas['name'].apply(lambda x: 'BRABENDER' in x), 'name'].value_counts()"
   ]
  },
  {
   "cell_type": "code",
   "execution_count": null,
   "metadata": {},
   "outputs": [],
   "source": [
    "pas.loc[pas['name'].apply(lambda x: 'BRABENDER' in x), 'name'] = 'BRABENDER COX'"
   ]
  },
  {
   "cell_type": "code",
   "execution_count": null,
   "metadata": {},
   "outputs": [],
   "source": [
    "findall('paramount')"
   ]
  },
  {
   "cell_type": "code",
   "execution_count": null,
   "metadata": {},
   "outputs": [],
   "source": [
    "pas.loc[pas['name'].apply(lambda x: 'PARAMOUNT COMM' in x), 'name'].value_counts()"
   ]
  },
  {
   "cell_type": "code",
   "execution_count": null,
   "metadata": {},
   "outputs": [],
   "source": [
    "pas.loc[pas['name'].apply(lambda x: 'PARAMOUNT COMM' in x), 'name'] = 'PARAMOUNT COMMUNICATIONS'"
   ]
  },
  {
   "cell_type": "code",
   "execution_count": null,
   "metadata": {},
   "outputs": [],
   "source": [
    "findall('paramount')"
   ]
  },
  {
   "cell_type": "code",
   "execution_count": null,
   "metadata": {},
   "outputs": [],
   "source": [
    "findall('direct support')"
   ]
  },
  {
   "cell_type": "code",
   "execution_count": null,
   "metadata": {},
   "outputs": [],
   "source": [
    "findall(['great', 'america'])"
   ]
  },
  {
   "cell_type": "code",
   "execution_count": null,
   "metadata": {},
   "outputs": [],
   "source": [
    "findall(['political', 'data'])"
   ]
  },
  {
   "cell_type": "code",
   "execution_count": null,
   "metadata": {},
   "outputs": [],
   "source": [
    "findall('dmm')"
   ]
  },
  {
   "cell_type": "code",
   "execution_count": null,
   "metadata": {},
   "outputs": [],
   "source": [
    "findall('digital media')"
   ]
  },
  {
   "cell_type": "code",
   "execution_count": null,
   "metadata": {},
   "outputs": [],
   "source": [
    "findall('forum')"
   ]
  },
  {
   "cell_type": "code",
   "execution_count": null,
   "metadata": {},
   "outputs": [],
   "source": [
    "pas.loc[pas['name'].apply(lambda x: 'FORUM' in x), 'name'] = 'FORUM COMMUNICATIONS COMPANY'"
   ]
  },
  {
   "cell_type": "code",
   "execution_count": null,
   "metadata": {},
   "outputs": [],
   "source": [
    "findall('seiu')"
   ]
  },
  {
   "cell_type": "code",
   "execution_count": null,
   "metadata": {},
   "outputs": [],
   "source": [
    "pas.loc[pas['name'].apply(lambda x: 'SEIU' in x), 'name'].value_counts()"
   ]
  },
  {
   "cell_type": "code",
   "execution_count": null,
   "metadata": {},
   "outputs": [],
   "source": [
    "pas.loc[pas['name'].apply(lambda x: 'SEIU' in x), 'name'] = 'SEIU (umbrella)'"
   ]
  },
  {
   "cell_type": "code",
   "execution_count": null,
   "metadata": {},
   "outputs": [],
   "source": [
    "findall('enterprise')"
   ]
  },
  {
   "cell_type": "code",
   "execution_count": null,
   "metadata": {},
   "outputs": [],
   "source": [
    "pas.loc[pas['name'].apply(lambda x: ('ENTERPRISE' in x) & ('RENT' in x)), 'name'] = 'ENTERPRISE'\n",
    "pas.loc[pas['name'] == 'ENTERPRISE', 'name'] = 'ENTERPRISE CAR RENTAL'"
   ]
  },
  {
   "cell_type": "code",
   "execution_count": null,
   "metadata": {},
   "outputs": [],
   "source": [
    "findall(['tele', 'town'])"
   ]
  },
  {
   "cell_type": "code",
   "execution_count": null,
   "metadata": {},
   "outputs": [],
   "source": [
    "pas.loc[pas['name'].apply(lambda x: ('TELE' in x) & ('TOWN' in x)), 'name'].value_counts()"
   ]
  },
  {
   "cell_type": "code",
   "execution_count": null,
   "metadata": {},
   "outputs": [],
   "source": [
    "pas.loc[pas['name'].apply(lambda x: ('TELE' in x) & ('TOWN' in x)), 'name'] = 'TELE-TOWN HALL'"
   ]
  },
  {
   "cell_type": "code",
   "execution_count": null,
   "metadata": {},
   "outputs": [],
   "source": [
    "findall('for life')"
   ]
  },
  {
   "cell_type": "code",
   "execution_count": null,
   "metadata": {},
   "outputs": [],
   "source": [
    "pas.loc[pas['name'].apply(lambda x: 'WEST VIRGINIANS FOR LIFE' in x), 'name'] = 'WEST VIRGINIANS FOR LIFE'"
   ]
  },
  {
   "cell_type": "code",
   "execution_count": null,
   "metadata": {},
   "outputs": [],
   "source": [
    "findall('mcafee')"
   ]
  },
  {
   "cell_type": "code",
   "execution_count": null,
   "metadata": {},
   "outputs": [],
   "source": [
    "findall('headway')"
   ]
  },
  {
   "cell_type": "code",
   "execution_count": null,
   "metadata": {},
   "outputs": [],
   "source": [
    "findall(['mw', 'pol'])"
   ]
  },
  {
   "cell_type": "code",
   "execution_count": null,
   "metadata": {},
   "outputs": [],
   "source": [
    "findall(['human', 'right'])"
   ]
  },
  {
   "cell_type": "code",
   "execution_count": null,
   "metadata": {},
   "outputs": [],
   "source": [
    "findall(['american', 'prosper'])"
   ]
  },
  {
   "cell_type": "code",
   "execution_count": null,
   "metadata": {},
   "outputs": [],
   "source": [
    "findall('legacy')"
   ]
  },
  {
   "cell_type": "code",
   "execution_count": null,
   "metadata": {},
   "outputs": [],
   "source": [
    "findall('mentzer')"
   ]
  },
  {
   "cell_type": "code",
   "execution_count": null,
   "metadata": {},
   "outputs": [],
   "source": [
    "findall(['sales', 'media'])"
   ]
  },
  {
   "cell_type": "code",
   "execution_count": null,
   "metadata": {},
   "outputs": [],
   "source": [
    "lil_pas = pas[pas['transaction_tp'].apply(lambda x: x in [\n",
    "    'Independent expenditure opposing election of candidate', \n",
    "    'Independent expenditure advocating election of candidate', \n",
    "    'Coordinated party expenditure',\n",
    "])]\n",
    "lil_pas['name'].value_counts()[100:150]"
   ]
  },
  {
   "cell_type": "code",
   "execution_count": null,
   "metadata": {},
   "outputs": [],
   "source": [
    "findall('fls')"
   ]
  },
  {
   "cell_type": "code",
   "execution_count": null,
   "metadata": {},
   "outputs": [],
   "source": [
    "findall('amazon')"
   ]
  },
  {
   "cell_type": "code",
   "execution_count": null,
   "metadata": {},
   "outputs": [],
   "source": [
    "pas.loc[pas['name'].apply(lambda x: 'AMAZON' in x), 'name'] = 'AMAZON'"
   ]
  },
  {
   "cell_type": "code",
   "execution_count": null,
   "metadata": {},
   "outputs": [],
   "source": [
    "findall(['wild', 'fire'])"
   ]
  },
  {
   "cell_type": "code",
   "execution_count": null,
   "metadata": {},
   "outputs": [],
   "source": [
    "pas.loc[pas['name'].apply(lambda x: 'WILDFIRE' in x), 'name'].value_counts()"
   ]
  },
  {
   "cell_type": "code",
   "execution_count": null,
   "metadata": {},
   "outputs": [],
   "source": [
    "pas.loc[pas['name'].apply(lambda x: 'WILDFIRE' in x), 'name'] = 'WILDFIRE CONTACT'"
   ]
  },
  {
   "cell_type": "code",
   "execution_count": null,
   "metadata": {},
   "outputs": [],
   "source": [
    "findall('moxie')"
   ]
  },
  {
   "cell_type": "code",
   "execution_count": null,
   "metadata": {},
   "outputs": [],
   "source": [
    "findall('converg')"
   ]
  },
  {
   "cell_type": "code",
   "execution_count": null,
   "metadata": {},
   "outputs": [],
   "source": [
    "findall('hennings')"
   ]
  },
  {
   "cell_type": "code",
   "execution_count": null,
   "metadata": {},
   "outputs": [],
   "source": [
    "pas.loc[pas['name'].apply(lambda x: 'HENNINGS' in x), 'name'].value_counts()"
   ]
  },
  {
   "cell_type": "code",
   "execution_count": null,
   "metadata": {},
   "outputs": [],
   "source": [
    "pas.loc[pas['name'].apply(lambda x: 'HENNINGS' in x), 'name'] = 'MCCARTHY HENNINGS WHALEN'"
   ]
  },
  {
   "cell_type": "code",
   "execution_count": null,
   "metadata": {},
   "outputs": [],
   "source": [
    "findall('singularis')"
   ]
  },
  {
   "cell_type": "code",
   "execution_count": null,
   "metadata": {},
   "outputs": [],
   "source": [
    "pas.loc[pas['name'].apply(lambda x: 'SINGULARIS' in x), 'name'].value_counts()"
   ]
  },
  {
   "cell_type": "code",
   "execution_count": null,
   "metadata": {},
   "outputs": [],
   "source": [
    "pas.loc[pas['name'].apply(lambda x: 'SINGULARIS' in x), 'name'] = 'SINGULARIS GROUP'"
   ]
  },
  {
   "cell_type": "code",
   "execution_count": null,
   "metadata": {},
   "outputs": [],
   "source": [
    "findall('envision')"
   ]
  },
  {
   "cell_type": "code",
   "execution_count": null,
   "metadata": {},
   "outputs": [],
   "source": [
    "pas.loc[pas['name'].apply(lambda x: 'ENVISION' in x), 'name'].value_counts()"
   ]
  },
  {
   "cell_type": "code",
   "execution_count": null,
   "metadata": {},
   "outputs": [],
   "source": [
    "pas.loc[pas['name'].apply(lambda x: 'ENVISION' in x), 'name'] = 'ENVISION MARKETING'"
   ]
  },
  {
   "cell_type": "code",
   "execution_count": null,
   "metadata": {},
   "outputs": [],
   "source": [
    "findall('rifle')"
   ]
  },
  {
   "cell_type": "code",
   "execution_count": null,
   "metadata": {},
   "outputs": [],
   "source": [
    "findall('nra')"
   ]
  },
  {
   "cell_type": "code",
   "execution_count": null,
   "metadata": {},
   "outputs": [],
   "source": [
    "findall('warfield')"
   ]
  },
  {
   "cell_type": "code",
   "execution_count": null,
   "metadata": {},
   "outputs": [],
   "source": [
    "findall(['berlin', 'rosen'])"
   ]
  },
  {
   "cell_type": "code",
   "execution_count": null,
   "metadata": {},
   "outputs": [],
   "source": [
    "pas.loc[pas['name'].apply(lambda x: 'BERLIN ROSEN' in x), 'name'].value_counts()"
   ]
  },
  {
   "cell_type": "code",
   "execution_count": null,
   "metadata": {},
   "outputs": [],
   "source": [
    "pas.loc[pas['name'].apply(lambda x: 'BERLIN ROSEN' in x), 'name'] = 'BERLIN ROSEN LTD'"
   ]
  },
  {
   "cell_type": "code",
   "execution_count": null,
   "metadata": {},
   "outputs": [],
   "source": [
    "findall(['np', 'consult'])"
   ]
  },
  {
   "cell_type": "code",
   "execution_count": null,
   "metadata": {},
   "outputs": [],
   "source": [
    "findall('mvar')"
   ]
  },
  {
   "cell_type": "code",
   "execution_count": null,
   "metadata": {},
   "outputs": [],
   "source": [
    "findall('homewood')"
   ]
  },
  {
   "cell_type": "code",
   "execution_count": null,
   "metadata": {},
   "outputs": [],
   "source": [
    "findall('tide')"
   ]
  },
  {
   "cell_type": "code",
   "execution_count": null,
   "metadata": {},
   "outputs": [],
   "source": [
    "findall('three')"
   ]
  },
  {
   "cell_type": "code",
   "execution_count": null,
   "metadata": {},
   "outputs": [],
   "source": [
    "findall('ngp')"
   ]
  },
  {
   "cell_type": "code",
   "execution_count": null,
   "metadata": {},
   "outputs": [],
   "source": [
    "findall(['voter', 'action'])"
   ]
  },
  {
   "cell_type": "code",
   "execution_count": null,
   "metadata": {},
   "outputs": [],
   "source": [
    "findall('valtim')"
   ]
  },
  {
   "cell_type": "code",
   "execution_count": null,
   "metadata": {},
   "outputs": [],
   "source": [
    "findall('killer')"
   ]
  },
  {
   "cell_type": "code",
   "execution_count": null,
   "metadata": {},
   "outputs": [],
   "source": [
    "findall(['work', 'prog'])"
   ]
  },
  {
   "cell_type": "code",
   "execution_count": null,
   "metadata": {},
   "outputs": [],
   "source": [
    "findall(['camp', 'sol'])"
   ]
  },
  {
   "cell_type": "code",
   "execution_count": null,
   "metadata": {},
   "outputs": [],
   "source": [
    "findall('speedway')"
   ]
  },
  {
   "cell_type": "code",
   "execution_count": null,
   "metadata": {},
   "outputs": [],
   "source": [
    "findall('eagle')"
   ]
  },
  {
   "cell_type": "code",
   "execution_count": null,
   "metadata": {},
   "outputs": [],
   "source": [
    "findall(['camp', 'group'])"
   ]
  },
  {
   "cell_type": "code",
   "execution_count": null,
   "metadata": {},
   "outputs": [],
   "source": [
    "findall('budget')"
   ]
  },
  {
   "cell_type": "code",
   "execution_count": null,
   "metadata": {},
   "outputs": [],
   "source": [
    "pas.loc[pas['name'].apply(lambda x: ('BUDGET' in x) & ('AVIS' not in x)), 'name'] = 'BUDGET (umbrella)'"
   ]
  },
  {
   "cell_type": "code",
   "execution_count": null,
   "metadata": {},
   "outputs": [],
   "source": [
    "findall('donor')"
   ]
  },
  {
   "cell_type": "code",
   "execution_count": null,
   "metadata": {},
   "outputs": [],
   "source": [
    "findall(['blue', 'light'])"
   ]
  },
  {
   "cell_type": "code",
   "execution_count": null,
   "metadata": {},
   "outputs": [],
   "source": [
    "findall('eberle')"
   ]
  },
  {
   "cell_type": "code",
   "execution_count": null,
   "metadata": {},
   "outputs": [],
   "source": [
    "findall(['vision', 'strat'])"
   ]
  },
  {
   "cell_type": "code",
   "execution_count": null,
   "metadata": {},
   "outputs": [],
   "source": [
    "findall(['bank', 'card'])"
   ]
  },
  {
   "cell_type": "code",
   "execution_count": null,
   "metadata": {},
   "outputs": [],
   "source": [
    "findall('bank of america')"
   ]
  },
  {
   "cell_type": "code",
   "execution_count": null,
   "metadata": {},
   "outputs": [],
   "source": [
    "pas.loc[pas['name'].apply(lambda x: 'BANK OF AMERICA' in x), 'name'] = 'BANK OF AMERICA'"
   ]
  },
  {
   "cell_type": "code",
   "execution_count": null,
   "metadata": {},
   "outputs": [],
   "source": [
    "findall('herald')"
   ]
  },
  {
   "cell_type": "code",
   "execution_count": null,
   "metadata": {},
   "outputs": [],
   "source": [
    "findall('vell')"
   ]
  },
  {
   "cell_type": "code",
   "execution_count": null,
   "metadata": {},
   "outputs": [],
   "source": [
    "findall('public interest')"
   ]
  },
  {
   "cell_type": "code",
   "execution_count": null,
   "metadata": {},
   "outputs": [],
   "source": [
    "findall(['american', 'express'])"
   ]
  },
  {
   "cell_type": "code",
   "execution_count": null,
   "metadata": {},
   "outputs": [],
   "source": [
    "pas.loc[pas['name'].apply(lambda x: 'AMERICAN EXPRESS ' in x), 'name'] = 'AMERICAN EXPRESS'"
   ]
  },
  {
   "cell_type": "code",
   "execution_count": null,
   "metadata": {},
   "outputs": [],
   "source": [
    "findall('amex')"
   ]
  },
  {
   "cell_type": "code",
   "execution_count": null,
   "metadata": {},
   "outputs": [],
   "source": [
    "findall('savanna')"
   ]
  },
  {
   "cell_type": "code",
   "execution_count": null,
   "metadata": {},
   "outputs": [],
   "source": [
    "findall(['print', 'partner'])"
   ]
  },
  {
   "cell_type": "code",
   "execution_count": null,
   "metadata": {},
   "outputs": [],
   "source": [
    "findall(['sb', 'strat'])"
   ]
  },
  {
   "cell_type": "code",
   "execution_count": null,
   "metadata": {},
   "outputs": [],
   "source": [
    "findall('planned parent')"
   ]
  },
  {
   "cell_type": "code",
   "execution_count": null,
   "metadata": {},
   "outputs": [],
   "source": [
    "pas.loc[pas['name'].apply(lambda x: 'PLANNED PARENT' in x), 'name'] = 'PLANNED PARENTHOOD (umbrella)'"
   ]
  },
  {
   "cell_type": "code",
   "execution_count": null,
   "metadata": {},
   "outputs": [],
   "source": [
    "findall(['zip', 'mail'])"
   ]
  },
  {
   "cell_type": "code",
   "execution_count": null,
   "metadata": {},
   "outputs": [],
   "source": [
    "findall('twitter')"
   ]
  },
  {
   "cell_type": "code",
   "execution_count": null,
   "metadata": {},
   "outputs": [],
   "source": [
    "pas.loc[pas['name'].apply(lambda x: 'TWITTER' in x), 'name'] = 'TWITTER'"
   ]
  },
  {
   "cell_type": "code",
   "execution_count": null,
   "metadata": {},
   "outputs": [],
   "source": [
    "findall('trilogy')"
   ]
  },
  {
   "cell_type": "code",
   "execution_count": null,
   "metadata": {},
   "outputs": [],
   "source": [
    "findall(['strategic', 'media'])"
   ]
  },
  {
   "cell_type": "code",
   "execution_count": null,
   "metadata": {},
   "outputs": [],
   "source": [
    "pas.loc[pas['name'].apply(lambda x: 'STRATEGIC MEDIA' in x), 'name'].value_counts()"
   ]
  },
  {
   "cell_type": "code",
   "execution_count": null,
   "metadata": {},
   "outputs": [],
   "source": [
    "findall('chong')"
   ]
  },
  {
   "cell_type": "code",
   "execution_count": null,
   "metadata": {},
   "outputs": [],
   "source": [
    "lil_pas = pas[pas['transaction_tp'].apply(lambda x: x in [\n",
    "    'Independent expenditure opposing election of candidate', \n",
    "    'Independent expenditure advocating election of candidate', \n",
    "    'Coordinated party expenditure',\n",
    "])]\n",
    "lil_pas['name'].value_counts()[100:150]"
   ]
  },
  {
   "cell_type": "code",
   "execution_count": null,
   "metadata": {},
   "outputs": [],
   "source": [
    "findall(['flex', 'point'])"
   ]
  },
  {
   "cell_type": "code",
   "execution_count": null,
   "metadata": {},
   "outputs": [],
   "source": [
    "pas.loc[pas['name'] == 'FLEX POINT MEDIA', 'name'] = 'FLEXPOINT MEDIA'"
   ]
  },
  {
   "cell_type": "code",
   "execution_count": null,
   "metadata": {},
   "outputs": [],
   "source": [
    "findall('pursuit')"
   ]
  },
  {
   "cell_type": "code",
   "execution_count": null,
   "metadata": {},
   "outputs": [],
   "source": [
    "findall('airline')"
   ]
  },
  {
   "cell_type": "code",
   "execution_count": null,
   "metadata": {},
   "outputs": [],
   "source": [
    "pas.loc[pas['name'].apply(lambda x: 'AMERICAN AIRLINE' in x), 'name'] = 'AMERICAN AIRLINES'\n",
    "pas.loc[pas['name'].apply(lambda x: 'SOUTHWEST AIRLINE' in x), 'name'] = 'SOUTHWEST AIRLINES'"
   ]
  },
  {
   "cell_type": "code",
   "execution_count": null,
   "metadata": {},
   "outputs": [],
   "source": [
    "lil_pas = pas[pas['transaction_tp'].apply(lambda x: x in [\n",
    "    'Independent expenditure opposing election of candidate', \n",
    "    'Independent expenditure advocating election of candidate', \n",
    "    'Coordinated party expenditure',\n",
    "])]\n",
    "lil_pas['name'].value_counts()[150:200]"
   ]
  },
  {
   "cell_type": "code",
   "execution_count": null,
   "metadata": {},
   "outputs": [],
   "source": [
    "findall('talbot')"
   ]
  },
  {
   "cell_type": "code",
   "execution_count": null,
   "metadata": {},
   "outputs": [],
   "source": [
    "findall('service employees international')"
   ]
  },
  {
   "cell_type": "code",
   "execution_count": null,
   "metadata": {},
   "outputs": [],
   "source": [
    "pas.loc[pas['name'].apply(lambda x: 'SERVICE EMPLOYEES INTERNATIONAL' in x), 'name'] = 'SEIU (umbrella)'"
   ]
  },
  {
   "cell_type": "code",
   "execution_count": null,
   "metadata": {},
   "outputs": [],
   "source": [
    "findall('wright')"
   ]
  },
  {
   "cell_type": "code",
   "execution_count": null,
   "metadata": {},
   "outputs": [],
   "source": [
    "findall('trippi')"
   ]
  },
  {
   "cell_type": "code",
   "execution_count": null,
   "metadata": {},
   "outputs": [],
   "source": [
    "pas.loc[pas['name'].apply(lambda x: 'TRIPPI' in x), 'name'] = 'JOE TRIPPI AND ASSOCIATES'"
   ]
  },
  {
   "cell_type": "code",
   "execution_count": null,
   "metadata": {},
   "outputs": [],
   "source": [
    "findall(['america', 'market'])"
   ]
  },
  {
   "cell_type": "code",
   "execution_count": null,
   "metadata": {},
   "outputs": [],
   "source": [
    "findall('j-ad')"
   ]
  },
  {
   "cell_type": "code",
   "execution_count": null,
   "metadata": {},
   "outputs": [],
   "source": [
    "findall(['water', 'mark'])"
   ]
  },
  {
   "cell_type": "code",
   "execution_count": null,
   "metadata": {},
   "outputs": [],
   "source": [
    "findall('putnam')"
   ]
  },
  {
   "cell_type": "code",
   "execution_count": null,
   "metadata": {},
   "outputs": [],
   "source": [
    "findall('donatelli')"
   ]
  },
  {
   "cell_type": "code",
   "execution_count": null,
   "metadata": {},
   "outputs": [],
   "source": [
    "findall('rumble')"
   ]
  },
  {
   "cell_type": "code",
   "execution_count": null,
   "metadata": {},
   "outputs": [],
   "source": [
    "pas.loc[pas['name'].apply(lambda x: 'RUMBLE' in x), 'name'] = 'RUMBLEUP'"
   ]
  },
  {
   "cell_type": "code",
   "execution_count": null,
   "metadata": {},
   "outputs": [],
   "source": [
    "findall('prime')"
   ]
  },
  {
   "cell_type": "code",
   "execution_count": null,
   "metadata": {},
   "outputs": [],
   "source": [
    "pas.loc[pas['name'].apply(lambda x: 'PRIME' in x), 'name'].value_counts()"
   ]
  },
  {
   "cell_type": "code",
   "execution_count": null,
   "metadata": {},
   "outputs": [],
   "source": [
    "pas.loc[pas['name'] == 'PRIME MEDIA', 'name'] = 'PRIME MEDIA PARTNERS'"
   ]
  },
  {
   "cell_type": "code",
   "execution_count": null,
   "metadata": {},
   "outputs": [],
   "source": [
    "findall('magic')"
   ]
  },
  {
   "cell_type": "code",
   "execution_count": null,
   "metadata": {},
   "outputs": [],
   "source": [
    "findall('national media')"
   ]
  },
  {
   "cell_type": "code",
   "execution_count": null,
   "metadata": {},
   "outputs": [],
   "source": [
    "pas.loc[pas['name'] == 'NATIONAL MEDIA RESEARCH PLANNING &PLACEMENT', 'name'] = \\\n",
    "'NATIONAL MEDIA RESEARCH PLANNING & PLACEMENT'"
   ]
  },
  {
   "cell_type": "code",
   "execution_count": null,
   "metadata": {},
   "outputs": [],
   "source": [
    "findall('solidarity')"
   ]
  },
  {
   "cell_type": "code",
   "execution_count": null,
   "metadata": {},
   "outputs": [],
   "source": [
    "findall('korean')"
   ]
  },
  {
   "cell_type": "code",
   "execution_count": null,
   "metadata": {},
   "outputs": [],
   "source": [
    "findall('akpd')"
   ]
  },
  {
   "cell_type": "code",
   "execution_count": null,
   "metadata": {},
   "outputs": [],
   "source": [
    "pas.loc[pas['name'] == 'AKPD MEDIA', 'name'] = 'AKPD MESSAGE AND MEDIA'"
   ]
  },
  {
   "cell_type": "code",
   "execution_count": null,
   "metadata": {},
   "outputs": [],
   "source": [
    "findall(['pol', 'ink'])"
   ]
  },
  {
   "cell_type": "code",
   "execution_count": null,
   "metadata": {},
   "outputs": [],
   "source": [
    "findall('think')"
   ]
  },
  {
   "cell_type": "code",
   "execution_count": null,
   "metadata": {},
   "outputs": [],
   "source": [
    "findall(['camp', 'hq']) ## relationship?"
   ]
  },
  {
   "cell_type": "code",
   "execution_count": null,
   "metadata": {},
   "outputs": [],
   "source": [
    "findall('hulu')"
   ]
  },
  {
   "cell_type": "code",
   "execution_count": null,
   "metadata": {},
   "outputs": [],
   "source": [
    "findall(['env', 'america'])"
   ]
  },
  {
   "cell_type": "code",
   "execution_count": null,
   "metadata": {},
   "outputs": [],
   "source": [
    "findall('gumbinner')"
   ]
  },
  {
   "cell_type": "code",
   "execution_count": null,
   "metadata": {},
   "outputs": [],
   "source": [
    "pas.loc[pas['name'].apply(lambda x: 'GUMBINNER' in x), 'name'].value_counts()"
   ]
  },
  {
   "cell_type": "code",
   "execution_count": null,
   "metadata": {},
   "outputs": [],
   "source": [
    "pas.loc[pas['name'].apply(lambda x: 'GUMBINNER' in x), 'name'] = 'GUMBINNER AND DAVIES COMMUNICATIONS'"
   ]
  },
  {
   "cell_type": "code",
   "execution_count": null,
   "metadata": {},
   "outputs": [],
   "source": [
    "findall('76')"
   ]
  },
  {
   "cell_type": "code",
   "execution_count": null,
   "metadata": {},
   "outputs": [],
   "source": [
    "pas.loc[pas['name'].apply(lambda x: '76 WORDS' in x), 'name'].value_counts()"
   ]
  },
  {
   "cell_type": "code",
   "execution_count": null,
   "metadata": {},
   "outputs": [],
   "source": [
    "pas.loc[pas['name'] == '76 WORDS', 'name'] = '76 WORDS CORP'"
   ]
  },
  {
   "cell_type": "code",
   "execution_count": null,
   "metadata": {},
   "outputs": [],
   "source": [
    "findall('toskr')"
   ]
  },
  {
   "cell_type": "code",
   "execution_count": null,
   "metadata": {},
   "outputs": [],
   "source": [
    "pas.loc[pas['name'].apply(lambda x: 'TOSKR' in x), 'name'] = 'TOSKR INC'"
   ]
  },
  {
   "cell_type": "code",
   "execution_count": null,
   "metadata": {},
   "outputs": [],
   "source": [
    "findall('opn')"
   ]
  },
  {
   "cell_type": "code",
   "execution_count": null,
   "metadata": {},
   "outputs": [],
   "source": [
    "findall('rst market')"
   ]
  },
  {
   "cell_type": "code",
   "execution_count": null,
   "metadata": {},
   "outputs": [],
   "source": [
    "pas.loc[pas['name'] == 'RST MARKETING ASSOC', 'name'] = 'RST MARKETING'"
   ]
  },
  {
   "cell_type": "code",
   "execution_count": null,
   "metadata": {},
   "outputs": [],
   "source": [
    "findall('apex')"
   ]
  },
  {
   "cell_type": "code",
   "execution_count": null,
   "metadata": {},
   "outputs": [],
   "source": [
    "findall('burrell')"
   ]
  },
  {
   "cell_type": "code",
   "execution_count": null,
   "metadata": {},
   "outputs": [],
   "source": [
    "findall('srcp')"
   ]
  },
  {
   "cell_type": "code",
   "execution_count": null,
   "metadata": {},
   "outputs": [],
   "source": [
    "findall(['west', 'affair'])"
   ]
  },
  {
   "cell_type": "code",
   "execution_count": null,
   "metadata": {},
   "outputs": [],
   "source": [
    "findall('simko')"
   ]
  },
  {
   "cell_type": "code",
   "execution_count": null,
   "metadata": {},
   "outputs": [],
   "source": [
    "findall(['big', 'eye'])"
   ]
  },
  {
   "cell_type": "code",
   "execution_count": null,
   "metadata": {},
   "outputs": [],
   "source": [
    "findall('lps')"
   ]
  },
  {
   "cell_type": "code",
   "execution_count": null,
   "metadata": {},
   "outputs": [],
   "source": [
    "findall(['modern', 'litho'])"
   ]
  },
  {
   "cell_type": "code",
   "execution_count": null,
   "metadata": {},
   "outputs": [],
   "source": [
    "findall(['dixon', 'davis'])"
   ]
  },
  {
   "cell_type": "code",
   "execution_count": null,
   "metadata": {},
   "outputs": [],
   "source": [
    "pas.loc[pas['name'].apply(lambda x: ('DAVIS' in x) & ('DIXON' in x)), 'name'].value_counts()"
   ]
  },
  {
   "cell_type": "code",
   "execution_count": null,
   "metadata": {},
   "outputs": [],
   "source": [
    "pas.loc[pas['name'].apply(lambda x: ('DAVIS' in x) & ('DIXON' in x)), 'name'] = 'DIXON DAVIS MEDIA GROUP'"
   ]
  },
  {
   "cell_type": "code",
   "execution_count": null,
   "metadata": {},
   "outputs": [],
   "source": [
    "findall('nasica')"
   ]
  },
  {
   "cell_type": "code",
   "execution_count": null,
   "metadata": {},
   "outputs": [],
   "source": [
    "findall('lockwood')"
   ]
  },
  {
   "cell_type": "code",
   "execution_count": null,
   "metadata": {},
   "outputs": [],
   "source": [
    "findall(['harris', 'media'])"
   ]
  },
  {
   "cell_type": "code",
   "execution_count": null,
   "metadata": {},
   "outputs": [],
   "source": [
    "findall('omega')"
   ]
  },
  {
   "cell_type": "code",
   "execution_count": null,
   "metadata": {},
   "outputs": [],
   "source": [
    "findall('cavalry')"
   ]
  },
  {
   "cell_type": "code",
   "execution_count": null,
   "metadata": {},
   "outputs": [],
   "source": [
    "findall('american way')"
   ]
  },
  {
   "cell_type": "code",
   "execution_count": null,
   "metadata": {},
   "outputs": [],
   "source": [
    "findall('yongho')"
   ]
  },
  {
   "cell_type": "code",
   "execution_count": null,
   "metadata": {},
   "outputs": [],
   "source": [
    "findall(['conserv', 'ohio'])"
   ]
  },
  {
   "cell_type": "code",
   "execution_count": null,
   "metadata": {},
   "outputs": [],
   "source": [
    "findall('mdi')"
   ]
  },
  {
   "cell_type": "code",
   "execution_count": null,
   "metadata": {},
   "outputs": [],
   "source": [
    "findall('anne lewis')"
   ]
  },
  {
   "cell_type": "code",
   "execution_count": null,
   "metadata": {},
   "outputs": [],
   "source": [
    "findall('extended')"
   ]
  },
  {
   "cell_type": "code",
   "execution_count": null,
   "metadata": {},
   "outputs": [],
   "source": [
    "lil_pas = pas[pas['transaction_tp'].apply(lambda x: x in [\n",
    "    'Independent expenditure opposing election of candidate', \n",
    "    'Independent expenditure advocating election of candidate', \n",
    "    'Coordinated party expenditure',\n",
    "])]\n",
    "lil_pas['name'].value_counts()[150:200]"
   ]
  },
  {
   "cell_type": "code",
   "execution_count": null,
   "metadata": {},
   "outputs": [],
   "source": [
    "findall(['wilson', 'grand'])"
   ]
  },
  {
   "cell_type": "code",
   "execution_count": null,
   "metadata": {},
   "outputs": [],
   "source": [
    "findall(['professional', 'profit'])"
   ]
  },
  {
   "cell_type": "code",
   "execution_count": null,
   "metadata": {},
   "outputs": [],
   "source": [
    "lil_pas = pas[pas['transaction_tp'].apply(lambda x: x in [\n",
    "    'Independent expenditure opposing election of candidate', \n",
    "    'Independent expenditure advocating election of candidate', \n",
    "    'Coordinated party expenditure',\n",
    "])]\n",
    "lil_pas['name'].value_counts()[200:250]"
   ]
  },
  {
   "cell_type": "code",
   "execution_count": null,
   "metadata": {},
   "outputs": [],
   "source": [
    "findall(['in', 'field'])"
   ]
  },
  {
   "cell_type": "code",
   "execution_count": null,
   "metadata": {},
   "outputs": [],
   "source": [
    "pas.loc[pas['name'].apply(lambda x: 'FAIRFIELD INN' in x), 'name'].value_counts()"
   ]
  },
  {
   "cell_type": "code",
   "execution_count": null,
   "metadata": {},
   "outputs": [],
   "source": [
    "pas.loc[pas['name'].apply(lambda x: 'FAIRFIELD INN' in x), 'name'] = 'FAIRFIELD INN'"
   ]
  },
  {
   "cell_type": "code",
   "execution_count": null,
   "metadata": {},
   "outputs": [],
   "source": [
    "findall('revenue')"
   ]
  },
  {
   "cell_type": "code",
   "execution_count": null,
   "metadata": {},
   "outputs": [],
   "source": [
    "pas.loc[pas['name'].apply(lambda x: 'INTERNAL REVENUE' in x), 'name'] = 'INTERNAL REVENUE SERVICE'"
   ]
  },
  {
   "cell_type": "code",
   "execution_count": null,
   "metadata": {},
   "outputs": [],
   "source": [
    "findall('canal')"
   ]
  },
  {
   "cell_type": "code",
   "execution_count": null,
   "metadata": {},
   "outputs": [],
   "source": [
    "findall('ibew')"
   ]
  },
  {
   "cell_type": "code",
   "execution_count": null,
   "metadata": {},
   "outputs": [],
   "source": [
    "pas.loc[pas['name'].apply(lambda x: 'IBEW' in x), 'name'] = 'IBEW (umbrella)'"
   ]
  },
  {
   "cell_type": "code",
   "execution_count": null,
   "metadata": {},
   "outputs": [],
   "source": [
    "findall(['on', 'message'])"
   ]
  },
  {
   "cell_type": "code",
   "execution_count": null,
   "metadata": {},
   "outputs": [],
   "source": [
    "pas.loc[pas['name'] == 'ON MESSAGE', 'name'] = 'ONMESSAGE'"
   ]
  },
  {
   "cell_type": "code",
   "execution_count": null,
   "metadata": {},
   "outputs": [],
   "source": [
    "findall('jamestown')"
   ]
  },
  {
   "cell_type": "code",
   "execution_count": null,
   "metadata": {},
   "outputs": [],
   "source": [
    "findall('outreach')"
   ]
  },
  {
   "cell_type": "code",
   "execution_count": null,
   "metadata": {},
   "outputs": [],
   "source": [
    "findall('lyft')"
   ]
  },
  {
   "cell_type": "code",
   "execution_count": null,
   "metadata": {},
   "outputs": [],
   "source": [
    "findall('precision')"
   ]
  },
  {
   "cell_type": "code",
   "execution_count": null,
   "metadata": {},
   "outputs": [],
   "source": [
    "findall(['bull', 'eye'])"
   ]
  },
  {
   "cell_type": "code",
   "execution_count": null,
   "metadata": {},
   "outputs": [],
   "source": [
    "findall('confluent')"
   ]
  },
  {
   "cell_type": "code",
   "execution_count": null,
   "metadata": {},
   "outputs": [],
   "source": [
    "findall(['adela', 'roche'])"
   ]
  },
  {
   "cell_type": "code",
   "execution_count": null,
   "metadata": {},
   "outputs": [],
   "source": [
    "findall(['color', 'change'])"
   ]
  },
  {
   "cell_type": "code",
   "execution_count": null,
   "metadata": {},
   "outputs": [],
   "source": [
    "pas.loc[pas['name'] == 'COLOROFCHANGE ORG', 'name'] = 'COLOROFCHANGE.ORG'"
   ]
  },
  {
   "cell_type": "code",
   "execution_count": null,
   "metadata": {},
   "outputs": [],
   "source": [
    "findall(['active', 'engag'])"
   ]
  },
  {
   "cell_type": "code",
   "execution_count": null,
   "metadata": {},
   "outputs": [],
   "source": [
    "findall(['comm', 'worker'])"
   ]
  },
  {
   "cell_type": "code",
   "execution_count": null,
   "metadata": {},
   "outputs": [],
   "source": [
    "pas.loc[pas['name'].apply(lambda x: 'COMMUNICATIONS WORKERS' in x), 'name'] = 'COMMUNICATIONS WORKERS OF AMERICA'"
   ]
  },
  {
   "cell_type": "code",
   "execution_count": null,
   "metadata": {},
   "outputs": [],
   "source": [
    "findall(['stone', 'phone'])"
   ]
  },
  {
   "cell_type": "code",
   "execution_count": null,
   "metadata": {},
   "outputs": [],
   "source": [
    "pas.loc[pas['name'].apply(lambda x: ('STONE' in x) & ('PHONE' in x)), 'name'] = 'STONES PHONES'"
   ]
  },
  {
   "cell_type": "code",
   "execution_count": null,
   "metadata": {},
   "outputs": [],
   "source": [
    "findall('strategic service')"
   ]
  },
  {
   "cell_type": "code",
   "execution_count": null,
   "metadata": {},
   "outputs": [],
   "source": [
    "pas.loc[pas['name'] == 'M&R STRATEGIC SERVICES', 'name'] = 'M+R STRATEGIC SERVICES'"
   ]
  },
  {
   "cell_type": "code",
   "execution_count": null,
   "metadata": {},
   "outputs": [],
   "source": [
    "findall('steel')"
   ]
  },
  {
   "cell_type": "code",
   "execution_count": null,
   "metadata": {},
   "outputs": [],
   "source": [
    "findall('pacific')"
   ]
  },
  {
   "cell_type": "code",
   "execution_count": null,
   "metadata": {},
   "outputs": [],
   "source": [
    "pas.loc[pas['name'].apply(lambda x: 'OF THE PACIFIC S' in x), 'name'].value_counts()"
   ]
  },
  {
   "cell_type": "code",
   "execution_count": null,
   "metadata": {},
   "outputs": [],
   "source": [
    "pas.loc[pas['name'] == 'PPAF OF THE PACIFIC SOUTHWEST', 'name'] = 'PLANNED PARENTHOOD (umbrella)'\n",
    "pas.loc[pas['name'] == 'PP ACTION FUND OF THE PACIFIC SW', 'name'] = 'PLANNED PARENTHOOD (umbrella)'"
   ]
  },
  {
   "cell_type": "code",
   "execution_count": null,
   "metadata": {},
   "outputs": [],
   "source": [
    "findall('pp ')"
   ]
  },
  {
   "cell_type": "code",
   "execution_count": null,
   "metadata": {},
   "outputs": [],
   "source": [
    "findall('sss')"
   ]
  },
  {
   "cell_type": "code",
   "execution_count": null,
   "metadata": {},
   "outputs": [],
   "source": [
    "pas['name'] = [x.replace('CONGRESSS', 'CONGRESS') for x in pas['name']]"
   ]
  },
  {
   "cell_type": "code",
   "execution_count": null,
   "metadata": {},
   "outputs": [],
   "source": [
    "findall('integram')"
   ]
  },
  {
   "cell_type": "code",
   "execution_count": null,
   "metadata": {},
   "outputs": [],
   "source": [
    "findall('mosaic')"
   ]
  },
  {
   "cell_type": "code",
   "execution_count": null,
   "metadata": {},
   "outputs": [],
   "source": [
    "pas.loc[pas['name'].apply(lambda x: 'MOSAIC' in x), 'name'].value_counts()"
   ]
  },
  {
   "cell_type": "code",
   "execution_count": null,
   "metadata": {},
   "outputs": [],
   "source": [
    "pas.loc[pas['name'] == 'MOSAIC', 'name'] = 'MOSAIC MEDIA STRATEGY GROUP'"
   ]
  },
  {
   "cell_type": "code",
   "execution_count": null,
   "metadata": {},
   "outputs": [],
   "source": [
    "findall(['yes', 'print'])"
   ]
  },
  {
   "cell_type": "code",
   "execution_count": null,
   "metadata": {},
   "outputs": [],
   "source": [
    "findall(['tru', 'corp'])"
   ]
  },
  {
   "cell_type": "code",
   "execution_count": null,
   "metadata": {},
   "outputs": [],
   "source": [
    "pas.loc[pas['name'].apply(lambda x: 'TRUCORPS' in x), 'name'] = 'TRUCORPS'"
   ]
  },
  {
   "cell_type": "code",
   "execution_count": null,
   "metadata": {},
   "outputs": [],
   "source": [
    "findall(['left', 'hook'])"
   ]
  },
  {
   "cell_type": "code",
   "execution_count": null,
   "metadata": {},
   "outputs": [],
   "source": [
    "findall('politxt')"
   ]
  },
  {
   "cell_type": "code",
   "execution_count": null,
   "metadata": {},
   "outputs": [],
   "source": [
    "findall('staples')"
   ]
  },
  {
   "cell_type": "code",
   "execution_count": null,
   "metadata": {},
   "outputs": [],
   "source": [
    "pas.loc[pas['name'].apply(lambda x: 'STAPLES' in x), 'name'] = 'STAPLES'"
   ]
  },
  {
   "cell_type": "code",
   "execution_count": null,
   "metadata": {},
   "outputs": [],
   "source": [
    "findall(['something', 'else'])"
   ]
  },
  {
   "cell_type": "code",
   "execution_count": null,
   "metadata": {},
   "outputs": [],
   "source": [
    "findall('l2')"
   ]
  },
  {
   "cell_type": "code",
   "execution_count": null,
   "metadata": {},
   "outputs": [],
   "source": [
    "findall('meridian')"
   ]
  },
  {
   "cell_type": "code",
   "execution_count": null,
   "metadata": {},
   "outputs": [],
   "source": [
    "findall('mocap')"
   ]
  },
  {
   "cell_type": "code",
   "execution_count": null,
   "metadata": {},
   "outputs": [],
   "source": [
    "findall(['white', 'board'])"
   ]
  },
  {
   "cell_type": "code",
   "execution_count": null,
   "metadata": {},
   "outputs": [],
   "source": [
    "findall('jva')"
   ]
  },
  {
   "cell_type": "code",
   "execution_count": null,
   "metadata": {},
   "outputs": [],
   "source": [
    "pas.loc[pas['name'] == 'JVA CAMPAGINS', 'name'] = 'JVA CAMPAIGNS'"
   ]
  },
  {
   "cell_type": "code",
   "execution_count": null,
   "metadata": {},
   "outputs": [],
   "source": [
    "findall('erdman')"
   ]
  },
  {
   "cell_type": "code",
   "execution_count": null,
   "metadata": {},
   "outputs": [],
   "source": [
    "findall('robo')"
   ]
  },
  {
   "cell_type": "code",
   "execution_count": null,
   "metadata": {},
   "outputs": [],
   "source": [
    "findall('honold')"
   ]
  },
  {
   "cell_type": "code",
   "execution_count": null,
   "metadata": {},
   "outputs": [],
   "source": [
    "findall(['red', 'print'])"
   ]
  },
  {
   "cell_type": "code",
   "execution_count": null,
   "metadata": {},
   "outputs": [],
   "source": [
    "pas.loc[pas['name'] == 'RED PRINT STRATEGY', 'name'] = 'REDPRINT STRATEGY'"
   ]
  },
  {
   "cell_type": "code",
   "execution_count": null,
   "metadata": {},
   "outputs": [],
   "source": [
    "findall('adp')"
   ]
  },
  {
   "cell_type": "code",
   "execution_count": null,
   "metadata": {},
   "outputs": [],
   "source": [
    "findall('store')"
   ]
  },
  {
   "cell_type": "code",
   "execution_count": null,
   "metadata": {},
   "outputs": [],
   "source": [
    "pas.loc[pas['name'] == 'U P S STORE', 'name'] = 'UPS STORE'\n",
    "pas.loc[pas['name'].apply(lambda x: 'UPS STORE' in x), 'name'] = 'UNITED PARCEL SERVICE (UPS)'"
   ]
  },
  {
   "cell_type": "code",
   "execution_count": null,
   "metadata": {},
   "outputs": [],
   "source": [
    "findall('united parcel')"
   ]
  },
  {
   "cell_type": "code",
   "execution_count": null,
   "metadata": {},
   "outputs": [],
   "source": [
    "pas.loc[pas['name'] == 'UNITED PARCEL SERVICES', 'name'] = 'UNITED PARCEL SERVICE (UPS)'"
   ]
  },
  {
   "cell_type": "code",
   "execution_count": null,
   "metadata": {},
   "outputs": [],
   "source": [
    "findall('million')"
   ]
  },
  {
   "cell_type": "code",
   "execution_count": null,
   "metadata": {},
   "outputs": [],
   "source": [
    "pas.loc[pas['name'] == 'MILLION MORE VOTERS SPONSORED BY THE', 'name'] = \\\n",
    "'MILLION MORE VOTERS SPONSORED BY THE CA LABOR FEDERATION AFL-CIO'"
   ]
  },
  {
   "cell_type": "code",
   "execution_count": null,
   "metadata": {},
   "outputs": [],
   "source": [
    "findall('zeus')"
   ]
  },
  {
   "cell_type": "code",
   "execution_count": null,
   "metadata": {},
   "outputs": [],
   "source": [
    "findall('maverick')"
   ]
  },
  {
   "cell_type": "code",
   "execution_count": null,
   "metadata": {},
   "outputs": [],
   "source": [
    "findall('fairmont')"
   ]
  },
  {
   "cell_type": "code",
   "execution_count": null,
   "metadata": {},
   "outputs": [],
   "source": [
    "findall(['cross', 'screen'])"
   ]
  },
  {
   "cell_type": "code",
   "execution_count": null,
   "metadata": {},
   "outputs": [],
   "source": [
    "lil_pas = pas[pas['transaction_tp'].apply(lambda x: x in [\n",
    "    'Independent expenditure opposing election of candidate', \n",
    "    'Independent expenditure advocating election of candidate', \n",
    "    'Coordinated party expenditure',\n",
    "])]\n",
    "lil_pas['name'].value_counts()[200:250]"
   ]
  },
  {
   "cell_type": "code",
   "execution_count": null,
   "metadata": {},
   "outputs": [],
   "source": [
    "findall(['cross', 'screen'])"
   ]
  },
  {
   "cell_type": "code",
   "execution_count": null,
   "metadata": {},
   "outputs": [],
   "source": [
    "lil_pas = pas[pas['transaction_tp'].apply(lambda x: x in [\n",
    "    'Independent expenditure opposing election of candidate', \n",
    "    'Independent expenditure advocating election of candidate', \n",
    "    'Coordinated party expenditure',\n",
    "])]\n",
    "lil_pas['name'].value_counts()[250:300]"
   ]
  },
  {
   "cell_type": "code",
   "execution_count": null,
   "metadata": {},
   "outputs": [],
   "source": [
    "findall('ianza')"
   ]
  },
  {
   "cell_type": "code",
   "execution_count": null,
   "metadata": {},
   "outputs": [],
   "source": [
    "findall('savvy')"
   ]
  },
  {
   "cell_type": "code",
   "execution_count": null,
   "metadata": {},
   "outputs": [],
   "source": [
    "findall(['siegel', 'strat'])"
   ]
  },
  {
   "cell_type": "code",
   "execution_count": null,
   "metadata": {},
   "outputs": [],
   "source": [
    "findall(['star', 'board'])"
   ]
  },
  {
   "cell_type": "code",
   "execution_count": null,
   "metadata": {},
   "outputs": [],
   "source": [
    "pas.loc[pas['name'] == 'STARBOARD STRAGEGIC', 'name'] = 'STARBOARD STRATEGIC'"
   ]
  },
  {
   "cell_type": "code",
   "execution_count": null,
   "metadata": {},
   "outputs": [],
   "source": [
    "findall('fairmont')"
   ]
  },
  {
   "cell_type": "code",
   "execution_count": null,
   "metadata": {},
   "outputs": [],
   "source": [
    "findall('tampa')"
   ]
  },
  {
   "cell_type": "code",
   "execution_count": null,
   "metadata": {},
   "outputs": [],
   "source": [
    "findall(['mail', 'haus'])"
   ]
  },
  {
   "cell_type": "code",
   "execution_count": null,
   "metadata": {},
   "outputs": [],
   "source": [
    "findall(['story', 'teller'])"
   ]
  },
  {
   "cell_type": "code",
   "execution_count": null,
   "metadata": {},
   "outputs": [],
   "source": [
    "pas.loc[pas['name'] == 'STORYTELLERS', 'name'] = 'STORYTELLERS GROUP'"
   ]
  },
  {
   "cell_type": "code",
   "execution_count": null,
   "metadata": {},
   "outputs": [],
   "source": [
    "findall('victory media')"
   ]
  },
  {
   "cell_type": "code",
   "execution_count": null,
   "metadata": {},
   "outputs": [],
   "source": [
    "pas.loc[pas['name'] == 'VICTORY MEDIA GROUP LTD', 'name'] = 'VICTORY MEDIA GROUP'"
   ]
  },
  {
   "cell_type": "code",
   "execution_count": null,
   "metadata": {},
   "outputs": [],
   "source": [
    "findall('matson')"
   ]
  },
  {
   "cell_type": "code",
   "execution_count": null,
   "metadata": {},
   "outputs": [],
   "source": [
    "findall(['creat', 'design'])"
   ]
  },
  {
   "cell_type": "code",
   "execution_count": null,
   "metadata": {},
   "outputs": [],
   "source": [
    "findall('milli')"
   ]
  },
  {
   "cell_type": "code",
   "execution_count": null,
   "metadata": {},
   "outputs": [],
   "source": [
    "findall(['hard', 'knock'])"
   ]
  },
  {
   "cell_type": "code",
   "execution_count": null,
   "metadata": {},
   "outputs": [],
   "source": [
    "pas.loc[pas['name'] == 'HARD KNOCKS', 'name'] = 'HARD KNOCKS FIELD'"
   ]
  },
  {
   "cell_type": "code",
   "execution_count": null,
   "metadata": {},
   "outputs": [],
   "source": [
    "findall('cpm')"
   ]
  },
  {
   "cell_type": "code",
   "execution_count": null,
   "metadata": {},
   "outputs": [],
   "source": [
    "findall(['micro', 'soft'])"
   ]
  },
  {
   "cell_type": "code",
   "execution_count": null,
   "metadata": {},
   "outputs": [],
   "source": [
    "findall('fuse')"
   ]
  },
  {
   "cell_type": "code",
   "execution_count": null,
   "metadata": {},
   "outputs": [],
   "source": [
    "findall(['north', 'shore'])"
   ]
  },
  {
   "cell_type": "code",
   "execution_count": null,
   "metadata": {},
   "outputs": [],
   "source": [
    "findall('wolverine')"
   ]
  },
  {
   "cell_type": "code",
   "execution_count": null,
   "metadata": {},
   "outputs": [],
   "source": [
    "findall('kapol')"
   ]
  },
  {
   "cell_type": "code",
   "execution_count": null,
   "metadata": {},
   "outputs": [],
   "source": [
    "findall(['keri', 'max'])"
   ]
  },
  {
   "cell_type": "code",
   "execution_count": null,
   "metadata": {},
   "outputs": [],
   "source": [
    "findall('amagi')"
   ]
  },
  {
   "cell_type": "code",
   "execution_count": null,
   "metadata": {},
   "outputs": [],
   "source": [
    "findall('youtube')"
   ]
  },
  {
   "cell_type": "code",
   "execution_count": null,
   "metadata": {},
   "outputs": [],
   "source": [
    "pas.loc[pas['name'] == 'YOUTUBE', 'name'] = 'GOOGLE'"
   ]
  },
  {
   "cell_type": "code",
   "execution_count": null,
   "metadata": {},
   "outputs": [],
   "source": [
    "findall('eichen')"
   ]
  },
  {
   "cell_type": "code",
   "execution_count": null,
   "metadata": {},
   "outputs": [],
   "source": [
    "findall(['river', 'city'])"
   ]
  },
  {
   "cell_type": "code",
   "execution_count": null,
   "metadata": {},
   "outputs": [],
   "source": [
    "findall('ufcw')"
   ]
  },
  {
   "cell_type": "code",
   "execution_count": null,
   "metadata": {},
   "outputs": [],
   "source": [
    "pas.loc[pas['name'].apply(lambda x: 'UFCW' in x), 'name'] = 'UFCW (umbrella)'"
   ]
  },
  {
   "cell_type": "code",
   "execution_count": null,
   "metadata": {},
   "outputs": [],
   "source": [
    "findall('4c')"
   ]
  },
  {
   "cell_type": "code",
   "execution_count": null,
   "metadata": {},
   "outputs": [],
   "source": [
    "findall(['pier', 'media'])"
   ]
  },
  {
   "cell_type": "code",
   "execution_count": null,
   "metadata": {},
   "outputs": [],
   "source": [
    "findall('otg')"
   ]
  },
  {
   "cell_type": "code",
   "execution_count": null,
   "metadata": {},
   "outputs": [],
   "source": [
    "findall('clean water')"
   ]
  },
  {
   "cell_type": "code",
   "execution_count": null,
   "metadata": {},
   "outputs": [],
   "source": [
    "findall(['brown', 'print']) # same?"
   ]
  },
  {
   "cell_type": "code",
   "execution_count": null,
   "metadata": {},
   "outputs": [],
   "source": [
    "findall('catalist')"
   ]
  },
  {
   "cell_type": "code",
   "execution_count": null,
   "metadata": {},
   "outputs": [],
   "source": [
    "findall(['ground', 'swell'])"
   ]
  },
  {
   "cell_type": "code",
   "execution_count": null,
   "metadata": {},
   "outputs": [],
   "source": [
    "findall('gps')"
   ]
  },
  {
   "cell_type": "code",
   "execution_count": null,
   "metadata": {},
   "outputs": [],
   "source": [
    "pas.loc[pas['name'] == 'GROUNDSWELL PUBLIC STRATEGIES INC GPS IMPACT', 'name'] = 'GPS IMPACT'"
   ]
  },
  {
   "cell_type": "code",
   "execution_count": null,
   "metadata": {},
   "outputs": [],
   "source": [
    "findall(['loud', 'print'])"
   ]
  },
  {
   "cell_type": "code",
   "execution_count": null,
   "metadata": {},
   "outputs": [],
   "source": [
    "findall('ipm')"
   ]
  },
  {
   "cell_type": "code",
   "execution_count": null,
   "metadata": {},
   "outputs": [],
   "source": [
    "lil_pas = pas[pas['transaction_tp'].apply(lambda x: x in [\n",
    "    'Independent expenditure opposing election of candidate', \n",
    "    'Independent expenditure advocating election of candidate', \n",
    "    'Coordinated party expenditure',\n",
    "])]\n",
    "lil_pas['name'].value_counts()[250:300]"
   ]
  },
  {
   "cell_type": "code",
   "execution_count": null,
   "metadata": {},
   "outputs": [],
   "source": [
    "findall('lcx')"
   ]
  },
  {
   "cell_type": "code",
   "execution_count": null,
   "metadata": {},
   "outputs": [],
   "source": [
    "pas.loc[pas['name'] == 'LCX COM', 'name'] = 'LCX.COM'"
   ]
  },
  {
   "cell_type": "code",
   "execution_count": null,
   "metadata": {},
   "outputs": [],
   "source": [
    "findall('beacon')"
   ]
  },
  {
   "cell_type": "code",
   "execution_count": null,
   "metadata": {},
   "outputs": [],
   "source": [
    "pas.loc[pas['name'].apply(lambda x: 'BEACON HILL' in x), 'name'].value_counts()"
   ]
  },
  {
   "cell_type": "code",
   "execution_count": null,
   "metadata": {},
   "outputs": [],
   "source": [
    "pas.loc[pas['name'].apply(lambda x: 'BEACON HILL' in x), 'name'] = 'BEACON HILL STAFFING GROUP'"
   ]
  },
  {
   "cell_type": "code",
   "execution_count": null,
   "metadata": {},
   "outputs": [],
   "source": [
    "lil_pas = pas[pas['transaction_tp'].apply(lambda x: x in [\n",
    "    'Independent expenditure opposing election of candidate', \n",
    "    'Independent expenditure advocating election of candidate', \n",
    "    'Coordinated party expenditure',\n",
    "])]\n",
    "lil_pas['name'].value_counts()[300:350]"
   ]
  },
  {
   "cell_type": "code",
   "execution_count": null,
   "metadata": {},
   "outputs": [],
   "source": [
    "findall(['ams', 'comm'])"
   ]
  },
  {
   "cell_type": "code",
   "execution_count": null,
   "metadata": {},
   "outputs": [],
   "source": [
    "pas.loc[pas['name'].apply(lambda x: 'AMS COMMUNICATIONS' in x), 'name'] = 'AMS COMMUNICATIONS'"
   ]
  },
  {
   "cell_type": "code",
   "execution_count": null,
   "metadata": {},
   "outputs": [],
   "source": [
    "findall('burdick')"
   ]
  },
  {
   "cell_type": "code",
   "execution_count": null,
   "metadata": {},
   "outputs": [],
   "source": [
    "findall('new media')"
   ]
  },
  {
   "cell_type": "code",
   "execution_count": null,
   "metadata": {},
   "outputs": [],
   "source": [
    "pas.loc[pas['name'].apply(lambda x: 'NEW MEDIA FIRM' in x), 'name'] = 'THE NEW MEDIA FIRM'"
   ]
  },
  {
   "cell_type": "code",
   "execution_count": null,
   "metadata": {},
   "outputs": [],
   "source": [
    "findall('broker')"
   ]
  },
  {
   "cell_type": "code",
   "execution_count": null,
   "metadata": {},
   "outputs": [],
   "source": [
    "findall('bouchard')"
   ]
  },
  {
   "cell_type": "code",
   "execution_count": null,
   "metadata": {},
   "outputs": [],
   "source": [
    "pas.loc[pas['name'].apply(lambda x: 'BOUCHARD GOLD' in x), 'name'] = 'BOUCHARD GOLD COMMUNICATIONS'"
   ]
  },
  {
   "cell_type": "code",
   "execution_count": null,
   "metadata": {},
   "outputs": [],
   "source": [
    "findall(['center', 'popular'])"
   ]
  },
  {
   "cell_type": "code",
   "execution_count": null,
   "metadata": {},
   "outputs": [],
   "source": [
    "findall('excelsior')"
   ]
  },
  {
   "cell_type": "code",
   "execution_count": null,
   "metadata": {},
   "outputs": [],
   "source": [
    "findall(['chambers', 'strat'])"
   ]
  },
  {
   "cell_type": "code",
   "execution_count": null,
   "metadata": {},
   "outputs": [],
   "source": [
    "findall(['open', 'hand'])"
   ]
  },
  {
   "cell_type": "code",
   "execution_count": null,
   "metadata": {},
   "outputs": [],
   "source": [
    "findall(['penn', 'united'])"
   ]
  },
  {
   "cell_type": "code",
   "execution_count": null,
   "metadata": {},
   "outputs": [],
   "source": [
    "findall('buying')"
   ]
  },
  {
   "cell_type": "code",
   "execution_count": null,
   "metadata": {},
   "outputs": [],
   "source": [
    "findall(['ax', 'media'])"
   ]
  },
  {
   "cell_type": "code",
   "execution_count": null,
   "metadata": {},
   "outputs": [],
   "source": [
    "findall('equalization')"
   ]
  },
  {
   "cell_type": "code",
   "execution_count": null,
   "metadata": {},
   "outputs": [],
   "source": [
    "findall(['info', 'cision'])"
   ]
  },
  {
   "cell_type": "code",
   "execution_count": null,
   "metadata": {},
   "outputs": [],
   "source": [
    "findall('apple')"
   ]
  },
  {
   "cell_type": "code",
   "execution_count": null,
   "metadata": {},
   "outputs": [],
   "source": [
    "findall(['assoc', 'press'])"
   ]
  },
  {
   "cell_type": "code",
   "execution_count": null,
   "metadata": {},
   "outputs": [],
   "source": [
    "pas.loc[pas['name'].apply(lambda x: 'ASSOCIATED PRESS' in x), 'name'] = 'ASSOCIATED PRESS'"
   ]
  },
  {
   "cell_type": "code",
   "execution_count": null,
   "metadata": {},
   "outputs": [],
   "source": [
    "findall(['color', 'tree'])"
   ]
  },
  {
   "cell_type": "code",
   "execution_count": null,
   "metadata": {},
   "outputs": [],
   "source": [
    "findall(['red', 'horse'])"
   ]
  },
  {
   "cell_type": "code",
   "execution_count": null,
   "metadata": {},
   "outputs": [],
   "source": [
    "pas.loc[pas['name'] == 'REDHORSE STRATEGIES', 'name'] = 'RED HORSE STRATEGIES'"
   ]
  },
  {
   "cell_type": "code",
   "execution_count": null,
   "metadata": {},
   "outputs": [],
   "source": [
    "findall(['shorr', 'holding'])"
   ]
  },
  {
   "cell_type": "code",
   "execution_count": null,
   "metadata": {},
   "outputs": [],
   "source": [
    "findall('liftable')"
   ]
  },
  {
   "cell_type": "code",
   "execution_count": null,
   "metadata": {},
   "outputs": [],
   "source": [
    "findall('penneco')"
   ]
  },
  {
   "cell_type": "code",
   "execution_count": null,
   "metadata": {},
   "outputs": [],
   "source": [
    "findall(['allegheny', 'print'])"
   ]
  },
  {
   "cell_type": "code",
   "execution_count": null,
   "metadata": {},
   "outputs": [],
   "source": [
    "pas.loc[pas['name'] == 'COMMERCIAL PRINTING ALLEGHENY', 'name'] = 'ALLEGHENY COMMERCIAL PRINTING'"
   ]
  },
  {
   "cell_type": "code",
   "execution_count": null,
   "metadata": {},
   "outputs": [],
   "source": [
    "findall('cwa')"
   ]
  },
  {
   "cell_type": "code",
   "execution_count": null,
   "metadata": {},
   "outputs": [],
   "source": [
    "pas.loc[pas['name'].apply(lambda x: 'CWA' in x), 'name'] = 'CWA (umbrella)'"
   ]
  },
  {
   "cell_type": "code",
   "execution_count": null,
   "metadata": {},
   "outputs": [],
   "source": [
    "findall(['basis', 'd'])"
   ]
  },
  {
   "cell_type": "code",
   "execution_count": null,
   "metadata": {},
   "outputs": [],
   "source": [
    "findall('baughman')"
   ]
  },
  {
   "cell_type": "code",
   "execution_count": null,
   "metadata": {},
   "outputs": [],
   "source": [
    "findall(['voter', 'circle'])"
   ]
  },
  {
   "cell_type": "code",
   "execution_count": null,
   "metadata": {},
   "outputs": [],
   "source": [
    "pas.loc[pas['name'].apply(lambda x: ('VOTER' in x) & ('CIRCLE' in x)), 'name'].value_counts()"
   ]
  },
  {
   "cell_type": "code",
   "execution_count": null,
   "metadata": {},
   "outputs": [],
   "source": [
    "pas.loc[pas['name'].apply(lambda x: ('VOTER' in x) & ('CIRCLE' in x)), 'name'] = 'VOTERCIRCLE'"
   ]
  },
  {
   "cell_type": "code",
   "execution_count": null,
   "metadata": {},
   "outputs": [],
   "source": [
    "findall(['dover', 'strat'])"
   ]
  },
  {
   "cell_type": "code",
   "execution_count": null,
   "metadata": {},
   "outputs": [],
   "source": [
    "findall('voter info')"
   ]
  },
  {
   "cell_type": "code",
   "execution_count": null,
   "metadata": {},
   "outputs": [],
   "source": [
    "findall(['united', 'print'])"
   ]
  },
  {
   "cell_type": "code",
   "execution_count": null,
   "metadata": {},
   "outputs": [],
   "source": [
    "findall(['afl', 'cio'])"
   ]
  },
  {
   "cell_type": "code",
   "execution_count": null,
   "metadata": {},
   "outputs": [],
   "source": [
    "pas.loc[pas['name'].apply(lambda x: ('AFL' in x) & ('CIO' in x)), 'name'] = 'AFL-CIO (umbrella)'"
   ]
  },
  {
   "cell_type": "code",
   "execution_count": null,
   "metadata": {},
   "outputs": [],
   "source": [
    "findall(['talent', 'pay'])"
   ]
  },
  {
   "cell_type": "code",
   "execution_count": null,
   "metadata": {},
   "outputs": [],
   "source": [
    "lil_pas = pas[pas['transaction_tp'].apply(lambda x: x in [\n",
    "    'Independent expenditure opposing election of candidate', \n",
    "    'Independent expenditure advocating election of candidate', \n",
    "    'Coordinated party expenditure',\n",
    "])]\n",
    "lil_pas['name'].value_counts()[300:350]"
   ]
  },
  {
   "cell_type": "code",
   "execution_count": null,
   "metadata": {},
   "outputs": [],
   "source": [
    "findall(['pool', 'house'])"
   ]
  },
  {
   "cell_type": "code",
   "execution_count": null,
   "metadata": {},
   "outputs": [],
   "source": [
    "findall(['media', 'bridge'])"
   ]
  },
  {
   "cell_type": "code",
   "execution_count": null,
   "metadata": {},
   "outputs": [],
   "source": [
    "lil_pas = pas[pas['transaction_tp'].apply(lambda x: x in [\n",
    "    'Independent expenditure opposing election of candidate', \n",
    "    'Independent expenditure advocating election of candidate', \n",
    "    'Coordinated party expenditure',\n",
    "])]\n",
    "lil_pas['name'].value_counts()[350:400]"
   ]
  },
  {
   "cell_type": "code",
   "execution_count": null,
   "metadata": {},
   "outputs": [],
   "source": [
    "findall(['prog', 'contact'])"
   ]
  },
  {
   "cell_type": "code",
   "execution_count": null,
   "metadata": {},
   "outputs": [],
   "source": [
    "findall('circle')"
   ]
  },
  {
   "cell_type": "code",
   "execution_count": null,
   "metadata": {},
   "outputs": [],
   "source": [
    "findall('axiom')"
   ]
  },
  {
   "cell_type": "code",
   "execution_count": null,
   "metadata": {},
   "outputs": [],
   "source": [
    "findall('c3') # same?"
   ]
  },
  {
   "cell_type": "code",
   "execution_count": null,
   "metadata": {},
   "outputs": [],
   "source": [
    "findall('pex')"
   ]
  },
  {
   "cell_type": "code",
   "execution_count": null,
   "metadata": {},
   "outputs": [],
   "source": [
    "findall('mooney')"
   ]
  },
  {
   "cell_type": "code",
   "execution_count": null,
   "metadata": {},
   "outputs": [],
   "source": [
    "findall('fulk')"
   ]
  },
  {
   "cell_type": "code",
   "execution_count": null,
   "metadata": {},
   "outputs": [],
   "source": [
    "pas.loc[pas['name'].apply(lambda x: 'FULKERSON' in x), 'name'].value_counts()"
   ]
  },
  {
   "cell_type": "code",
   "execution_count": null,
   "metadata": {},
   "outputs": [],
   "source": [
    "pas.loc[pas['name'].apply(lambda x: 'FULKERSON' in x), 'name'] = 'FULKERSON KENNEDY & COMPANY'"
   ]
  },
  {
   "cell_type": "code",
   "execution_count": null,
   "metadata": {},
   "outputs": [],
   "source": [
    "findall('civis')"
   ]
  },
  {
   "cell_type": "code",
   "execution_count": null,
   "metadata": {},
   "outputs": [],
   "source": [
    "findall('getty')"
   ]
  },
  {
   "cell_type": "code",
   "execution_count": null,
   "metadata": {},
   "outputs": [],
   "source": [
    "findall(['at&t'])"
   ]
  },
  {
   "cell_type": "code",
   "execution_count": null,
   "metadata": {},
   "outputs": [],
   "source": [
    "pas.loc[pas['name'].apply(lambda x: 'AT&T' in x), 'name'] = 'AT&T'"
   ]
  },
  {
   "cell_type": "code",
   "execution_count": null,
   "metadata": {},
   "outputs": [],
   "source": [
    "findall('fiverr')"
   ]
  },
  {
   "cell_type": "code",
   "execution_count": null,
   "metadata": {},
   "outputs": [],
   "source": [
    "findall('cp direct')"
   ]
  },
  {
   "cell_type": "code",
   "execution_count": null,
   "metadata": {},
   "outputs": [],
   "source": [
    "findall('lamar')"
   ]
  },
  {
   "cell_type": "code",
   "execution_count": null,
   "metadata": {},
   "outputs": [],
   "source": [
    "pas.loc[pas['name'].apply(lambda x: 'LAMAR ' in x), 'name'].value_counts()"
   ]
  },
  {
   "cell_type": "code",
   "execution_count": null,
   "metadata": {},
   "outputs": [],
   "source": [
    "pas.loc[pas['name'].apply(lambda x: 'LAMAR ' in x), 'name'] = 'LAMAR'"
   ]
  },
  {
   "cell_type": "code",
   "execution_count": null,
   "metadata": {},
   "outputs": [],
   "source": [
    "findall(['action', 'mail'])"
   ]
  },
  {
   "cell_type": "code",
   "execution_count": null,
   "metadata": {},
   "outputs": [],
   "source": [
    "findall(['moore', 'camp'])"
   ]
  },
  {
   "cell_type": "code",
   "execution_count": null,
   "metadata": {},
   "outputs": [],
   "source": [
    "findall('shell')"
   ]
  },
  {
   "cell_type": "code",
   "execution_count": null,
   "metadata": {},
   "outputs": [],
   "source": [
    "pas.loc[pas['name'].apply(lambda x: ('SHELL ' in x) | ('SHELL-' in x)), 'name'] = 'SHELL CORP'"
   ]
  },
  {
   "cell_type": "code",
   "execution_count": null,
   "metadata": {},
   "outputs": [],
   "source": [
    "findall('opro')"
   ]
  },
  {
   "cell_type": "code",
   "execution_count": null,
   "metadata": {},
   "outputs": [],
   "source": [
    "findall(['mobile', 'log'])"
   ]
  },
  {
   "cell_type": "code",
   "execution_count": null,
   "metadata": {},
   "outputs": [],
   "source": [
    "findall('landscape')"
   ]
  },
  {
   "cell_type": "code",
   "execution_count": null,
   "metadata": {},
   "outputs": [],
   "source": [
    "findall('winning')"
   ]
  },
  {
   "cell_type": "code",
   "execution_count": null,
   "metadata": {},
   "outputs": [],
   "source": [
    "pas.loc[pas['name'].apply(lambda x: 'WINNING' in x), 'name'] = 'WINNING CONNECTIONS'"
   ]
  },
  {
   "cell_type": "code",
   "execution_count": null,
   "metadata": {},
   "outputs": [],
   "source": [
    "findall(['black', 'rock'])"
   ]
  },
  {
   "cell_type": "code",
   "execution_count": null,
   "metadata": {},
   "outputs": [],
   "source": [
    "findall(['hopkins', 'sachs'])"
   ]
  },
  {
   "cell_type": "code",
   "execution_count": null,
   "metadata": {},
   "outputs": [],
   "source": [
    "findall('reston')"
   ]
  },
  {
   "cell_type": "code",
   "execution_count": null,
   "metadata": {},
   "outputs": [],
   "source": [
    "findall('v12')"
   ]
  },
  {
   "cell_type": "code",
   "execution_count": null,
   "metadata": {},
   "outputs": [],
   "source": [
    "findall(['ad', 'victory'])"
   ]
  },
  {
   "cell_type": "code",
   "execution_count": null,
   "metadata": {},
   "outputs": [],
   "source": [
    "findall(['betty', 'smith'])"
   ]
  },
  {
   "cell_type": "code",
   "execution_count": null,
   "metadata": {},
   "outputs": [],
   "source": [
    "pas.loc[pas['name'].apply(lambda x: ('BETTY' in x) & ('SMITH' in x)), 'name'] = 'BETTY AND SMITH LLC'"
   ]
  },
  {
   "cell_type": "code",
   "execution_count": null,
   "metadata": {},
   "outputs": [],
   "source": [
    "lil_pas = pas[pas['transaction_tp'].apply(lambda x: x in [\n",
    "    'Independent expenditure opposing election of candidate', \n",
    "    'Independent expenditure advocating election of candidate', \n",
    "    'Coordinated party expenditure',\n",
    "])]\n",
    "lil_pas['name'].value_counts()[350:400]"
   ]
  },
  {
   "cell_type": "code",
   "execution_count": null,
   "metadata": {},
   "outputs": [],
   "source": [
    "findall('cfg')"
   ]
  },
  {
   "cell_type": "code",
   "execution_count": null,
   "metadata": {},
   "outputs": [],
   "source": [
    "findall('jm2')"
   ]
  },
  {
   "cell_type": "code",
   "execution_count": null,
   "metadata": {},
   "outputs": [],
   "source": [
    "lil_pas = pas[pas['transaction_tp'].apply(lambda x: x in [\n",
    "    'Independent expenditure opposing election of candidate', \n",
    "    'Independent expenditure advocating election of candidate', \n",
    "    'Coordinated party expenditure',\n",
    "])]\n",
    "lil_pas['name'].value_counts()[400:450]"
   ]
  },
  {
   "cell_type": "code",
   "execution_count": null,
   "metadata": {},
   "outputs": [],
   "source": [
    "findall('elevate')"
   ]
  },
  {
   "cell_type": "code",
   "execution_count": null,
   "metadata": {},
   "outputs": [],
   "source": [
    "findall('mottola')"
   ]
  },
  {
   "cell_type": "code",
   "execution_count": null,
   "metadata": {},
   "outputs": [],
   "source": [
    "pas.loc[pas['name'].apply(lambda x: 'MOTTOLA' in x), 'name'] = 'MOTTOLA CONSULTING'"
   ]
  },
  {
   "cell_type": "code",
   "execution_count": null,
   "metadata": {},
   "outputs": [],
   "source": [
    "findall('mcnally')"
   ]
  },
  {
   "cell_type": "code",
   "execution_count": null,
   "metadata": {},
   "outputs": [],
   "source": [
    "findall('costco')"
   ]
  },
  {
   "cell_type": "code",
   "execution_count": null,
   "metadata": {},
   "outputs": [],
   "source": [
    "pas.loc[pas['name'].apply(lambda x: 'COSTCO' in x), 'name'] = 'COSTCO (umbrella)'"
   ]
  },
  {
   "cell_type": "code",
   "execution_count": null,
   "metadata": {},
   "outputs": [],
   "source": [
    "findall(['nat', 'cable'])"
   ]
  },
  {
   "cell_type": "code",
   "execution_count": null,
   "metadata": {},
   "outputs": [],
   "source": [
    "findall(['vera', 'pax'])"
   ]
  },
  {
   "cell_type": "code",
   "execution_count": null,
   "metadata": {},
   "outputs": [],
   "source": [
    "findall('hello')"
   ]
  },
  {
   "cell_type": "code",
   "execution_count": null,
   "metadata": {},
   "outputs": [],
   "source": [
    "findall('map')"
   ]
  },
  {
   "cell_type": "code",
   "execution_count": null,
   "metadata": {},
   "outputs": [],
   "source": [
    "pas.loc[pas['name'].apply(lambda x: 'MAP' in x), 'name'].value_counts()"
   ]
  },
  {
   "cell_type": "code",
   "execution_count": null,
   "metadata": {},
   "outputs": [],
   "source": [
    "pas.loc[pas['name'] == 'MAP POLITICAL COMMUNICATION', 'name'] = 'MAP POLITICAL COMMUNICATIONS'"
   ]
  },
  {
   "cell_type": "code",
   "execution_count": null,
   "metadata": {},
   "outputs": [],
   "source": [
    "findall('engineer')"
   ]
  },
  {
   "cell_type": "code",
   "execution_count": null,
   "metadata": {},
   "outputs": [],
   "source": [
    "findall(['image', 'plus'])"
   ]
  },
  {
   "cell_type": "code",
   "execution_count": null,
   "metadata": {},
   "outputs": [],
   "source": [
    "findall('vedda')"
   ]
  },
  {
   "cell_type": "code",
   "execution_count": null,
   "metadata": {},
   "outputs": [],
   "source": [
    "findall('godfrey')"
   ]
  },
  {
   "cell_type": "code",
   "execution_count": null,
   "metadata": {},
   "outputs": [],
   "source": [
    "findall('wawa')"
   ]
  },
  {
   "cell_type": "code",
   "execution_count": null,
   "metadata": {},
   "outputs": [],
   "source": [
    "findall('grunwald')"
   ]
  },
  {
   "cell_type": "code",
   "execution_count": null,
   "metadata": {},
   "outputs": [],
   "source": [
    "findall('fuse')"
   ]
  },
  {
   "cell_type": "code",
   "execution_count": null,
   "metadata": {},
   "outputs": [],
   "source": [
    "findall('api ')"
   ]
  },
  {
   "cell_type": "code",
   "execution_count": null,
   "metadata": {},
   "outputs": [],
   "source": [
    "findall(['holiday', 'inn'])"
   ]
  },
  {
   "cell_type": "code",
   "execution_count": null,
   "metadata": {},
   "outputs": [],
   "source": [
    "pas.loc[pas['name'].apply(lambda x: 'HOLIDAY INN' in x), 'name'] = 'HOLIDAY INN (umbrella)'"
   ]
  },
  {
   "cell_type": "code",
   "execution_count": null,
   "metadata": {},
   "outputs": [],
   "source": [
    "findall(['hopkin', 'sac'])"
   ]
  },
  {
   "cell_type": "code",
   "execution_count": null,
   "metadata": {},
   "outputs": [],
   "source": [
    "pas.loc[pas['name'].apply(lambda x: ('HOPKIN' in x) & ('SACHS' in x)), 'name'] = 'HOPKINS+SACHS'"
   ]
  },
  {
   "cell_type": "code",
   "execution_count": null,
   "metadata": {},
   "outputs": [],
   "source": [
    "findall('marchant')"
   ]
  },
  {
   "cell_type": "code",
   "execution_count": null,
   "metadata": {},
   "outputs": [],
   "source": [
    "findall('ddc')"
   ]
  },
  {
   "cell_type": "code",
   "execution_count": null,
   "metadata": {},
   "outputs": [],
   "source": [
    "pas.loc[pas['name'].apply(lambda x: 'DDC' in x), 'name'].value_counts()"
   ]
  },
  {
   "cell_type": "code",
   "execution_count": null,
   "metadata": {},
   "outputs": [],
   "source": [
    "pas.loc[pas['name'].apply(lambda x: 'DDC' in x), 'name'] = 'DDC'"
   ]
  },
  {
   "cell_type": "code",
   "execution_count": null,
   "metadata": {},
   "outputs": [],
   "source": [
    "findall('gowan')"
   ]
  },
  {
   "cell_type": "code",
   "execution_count": null,
   "metadata": {},
   "outputs": [],
   "source": [
    "findall(['wish', 'list'])"
   ]
  },
  {
   "cell_type": "code",
   "execution_count": null,
   "metadata": {},
   "outputs": [],
   "source": [
    "findall('a&b')"
   ]
  },
  {
   "cell_type": "code",
   "execution_count": null,
   "metadata": {},
   "outputs": [],
   "source": [
    "lil_pas = pas[pas['transaction_tp'].apply(lambda x: x in [\n",
    "    'Independent expenditure opposing election of candidate', \n",
    "    'Independent expenditure advocating election of candidate', \n",
    "    'Coordinated party expenditure',\n",
    "])]\n",
    "lil_pas['name'].value_counts()[400:450]"
   ]
  },
  {
   "cell_type": "code",
   "execution_count": null,
   "metadata": {},
   "outputs": [],
   "source": [
    "findall('instagram')"
   ]
  },
  {
   "cell_type": "code",
   "execution_count": null,
   "metadata": {},
   "outputs": [],
   "source": [
    "pas.loc[pas['name'] == 'INSTAGRAM', 'name'] = 'FACEBOOK'"
   ]
  },
  {
   "cell_type": "code",
   "execution_count": null,
   "metadata": {},
   "outputs": [],
   "source": [
    "lil_pas = pas[pas['transaction_tp'].apply(lambda x: x in [\n",
    "    'Independent expenditure opposing election of candidate', \n",
    "    'Independent expenditure advocating election of candidate', \n",
    "    'Coordinated party expenditure',\n",
    "])]\n",
    "lil_pas['name'].value_counts()[450:500]"
   ]
  },
  {
   "cell_type": "code",
   "execution_count": null,
   "metadata": {},
   "outputs": [],
   "source": [
    "findall(['chi', 'dona'])"
   ]
  },
  {
   "cell_type": "code",
   "execution_count": null,
   "metadata": {},
   "outputs": [],
   "source": [
    "findall('strata')"
   ]
  },
  {
   "cell_type": "code",
   "execution_count": null,
   "metadata": {},
   "outputs": [],
   "source": [
    "findall(['right', 'way'])"
   ]
  },
  {
   "cell_type": "code",
   "execution_count": null,
   "metadata": {},
   "outputs": [],
   "source": [
    "findall(['camp', 'work'])"
   ]
  },
  {
   "cell_type": "code",
   "execution_count": null,
   "metadata": {},
   "outputs": [],
   "source": [
    "findall(['mega', 't', 'v'])"
   ]
  },
  {
   "cell_type": "code",
   "execution_count": null,
   "metadata": {},
   "outputs": [],
   "source": [
    "findall('letter')"
   ]
  },
  {
   "cell_type": "code",
   "execution_count": null,
   "metadata": {},
   "outputs": [],
   "source": [
    "findall('cielo')"
   ]
  },
  {
   "cell_type": "code",
   "execution_count": null,
   "metadata": {},
   "outputs": [],
   "source": [
    "findall(['black', 'fork'])"
   ]
  },
  {
   "cell_type": "code",
   "execution_count": null,
   "metadata": {},
   "outputs": [],
   "source": [
    "findall('sway')"
   ]
  },
  {
   "cell_type": "code",
   "execution_count": null,
   "metadata": {},
   "outputs": [],
   "source": [
    "pas.loc[pas['name'].apply(lambda x: 'SWAYABLE' in x), 'name'] = 'WORLDVIEW INC DBA SWAYABLE'"
   ]
  },
  {
   "cell_type": "code",
   "execution_count": null,
   "metadata": {},
   "outputs": [],
   "source": [
    "pas.loc[pas['name'] == 'SWAY', 'name'] = 'SWAY MEDIA'"
   ]
  },
  {
   "cell_type": "code",
   "execution_count": null,
   "metadata": {},
   "outputs": [],
   "source": [
    "findall('dunk')"
   ]
  },
  {
   "cell_type": "code",
   "execution_count": null,
   "metadata": {},
   "outputs": [],
   "source": [
    "pas.loc[pas['name'].apply(lambda x: 'DUNK' in x), 'name'] = 'DUNKIN DONUTS'"
   ]
  },
  {
   "cell_type": "code",
   "execution_count": null,
   "metadata": {},
   "outputs": [],
   "source": [
    "findall('futura')"
   ]
  },
  {
   "cell_type": "code",
   "execution_count": null,
   "metadata": {},
   "outputs": [],
   "source": [
    "findall('ethic')"
   ]
  },
  {
   "cell_type": "code",
   "execution_count": null,
   "metadata": {},
   "outputs": [],
   "source": [
    "pas.loc[pas['name'].apply(lambda x: 'ETHICA' in x), 'name'] = 'ETHICA MEDIA'"
   ]
  },
  {
   "cell_type": "code",
   "execution_count": null,
   "metadata": {},
   "outputs": [],
   "source": [
    "findall(['sun', 'pass'])"
   ]
  },
  {
   "cell_type": "code",
   "execution_count": null,
   "metadata": {},
   "outputs": [],
   "source": [
    "findall(['fed', 'ex'])"
   ]
  },
  {
   "cell_type": "code",
   "execution_count": null,
   "metadata": {},
   "outputs": [],
   "source": [
    "pas.loc[pas['name'].apply(lambda x: ('FEDEX' in x) | ('FED EX' in x)), 'name'] = 'FEDERAL EXPRESS'"
   ]
  },
  {
   "cell_type": "code",
   "execution_count": null,
   "metadata": {},
   "outputs": [],
   "source": [
    "findall(['lg', 'camp'])"
   ]
  },
  {
   "cell_type": "code",
   "execution_count": null,
   "metadata": {},
   "outputs": [],
   "source": [
    "findall('zwerd')"
   ]
  },
  {
   "cell_type": "code",
   "execution_count": null,
   "metadata": {},
   "outputs": [],
   "source": [
    "findall(['thom', 'comm'])"
   ]
  },
  {
   "cell_type": "code",
   "execution_count": null,
   "metadata": {},
   "outputs": [],
   "source": [
    "findall(['switch', 'board'])"
   ]
  },
  {
   "cell_type": "code",
   "execution_count": null,
   "metadata": {},
   "outputs": [],
   "source": [
    "pas.loc[pas['name'].apply(lambda x: 'SWITCHBOARD' in x), 'name'] = 'SWITCHBOARD COMMUNICATIONS'"
   ]
  },
  {
   "cell_type": "code",
   "execution_count": null,
   "metadata": {},
   "outputs": [],
   "source": [
    "findall(['lux', 'media'])"
   ]
  },
  {
   "cell_type": "code",
   "execution_count": null,
   "metadata": {},
   "outputs": [],
   "source": [
    "findall('advantage')"
   ]
  },
  {
   "cell_type": "code",
   "execution_count": null,
   "metadata": {},
   "outputs": [],
   "source": [
    "pas.loc[pas['name'].apply(lambda x: 'ADVANTAGE' in x), 'name'].value_counts()"
   ]
  },
  {
   "cell_type": "code",
   "execution_count": null,
   "metadata": {},
   "outputs": [],
   "source": [
    "pas.loc[pas['name'].apply(lambda x: ('ADVANTAGE DIRECT' in x) | (x == 'ADVANTAGE')), 'name'] = \\\n",
    "'ADVANTAGE DIRECT COMMUNICATIONS'"
   ]
  },
  {
   "cell_type": "code",
   "execution_count": null,
   "metadata": {},
   "outputs": [],
   "source": [
    "findall(['rev', 'field'])"
   ]
  },
  {
   "cell_type": "code",
   "execution_count": null,
   "metadata": {},
   "outputs": [],
   "source": [
    "findall(['ring', 'lim'])"
   ]
  },
  {
   "cell_type": "code",
   "execution_count": null,
   "metadata": {},
   "outputs": [],
   "source": [
    "findall(['voter', 'guide'])"
   ]
  },
  {
   "cell_type": "code",
   "execution_count": null,
   "metadata": {},
   "outputs": [],
   "source": [
    "lil_pas = pas[pas['transaction_tp'].apply(lambda x: x in [\n",
    "    'Independent expenditure opposing election of candidate', \n",
    "    'Independent expenditure advocating election of candidate', \n",
    "    'Coordinated party expenditure',\n",
    "])]\n",
    "lil_pas['name'].value_counts()[450:500]"
   ]
  },
  {
   "cell_type": "code",
   "execution_count": null,
   "metadata": {},
   "outputs": [],
   "source": [
    "lil_pas = pas[pas['transaction_tp'].apply(lambda x: x in [\n",
    "    'Independent expenditure opposing election of candidate', \n",
    "    'Independent expenditure advocating election of candidate', \n",
    "    'Coordinated party expenditure',\n",
    "])]\n",
    "lil_pas['name'].value_counts()[500:550]"
   ]
  },
  {
   "cell_type": "code",
   "execution_count": null,
   "metadata": {},
   "outputs": [],
   "source": [
    "data = []\n",
    "labels = list(set(pas.loc[pd.notnull(pas['cand_id']), 'transaction_tp']))\n",
    "for which in labels:\n",
    "    lil_pas = pas[pd.notnull(pas['cand_id']) & (pas['transaction_tp'] == which)]\n",
    "    data.append(lil_pas['transaction_amt']/1.0E6)\n",
    "    print(which)\n",
    "    print('count:', len(lil_pas))\n",
    "    print('unique:', len(lil_pas['name'].value_counts()))\n",
    "    print('median:', lil_pas['transaction_amt'].median())\n",
    "    print('mean:', lil_pas['transaction_amt'].mean())\n",
    "    print('std dev:', lil_pas['transaction_amt'].std())\n",
    "    print(lil_pas['name'].value_counts()[:10])\n",
    "    print('\\n')\n",
    "\n",
    "plt.figure(figsize = (20, 2))\n",
    "\n",
    "plt.boxplot(data, vert = False)\n",
    "plt.yticks(range(1, len(labels) + 1), labels, fontsize = 12)\n",
    "plt.xlabel('$MM USD')\n",
    "\n",
    "plt.show();"
   ]
  },
  {
   "cell_type": "code",
   "execution_count": null,
   "metadata": {},
   "outputs": [],
   "source": [
    "pas['transaction_tp'].value_counts()"
   ]
  },
  {
   "cell_type": "code",
   "execution_count": null,
   "metadata": {},
   "outputs": [],
   "source": [
    "tp_dict = dict(zip(list(pas['transaction_tp'].value_counts().index), [\n",
    "    {\n",
    "        'ls' : '-',\n",
    "        'lw' : 2.0,\n",
    "    },\n",
    "    {\n",
    "        'ls' : '--',\n",
    "        'lw' : 2.0,\n",
    "    },\n",
    "    {\n",
    "        'ls' : '-.',\n",
    "        'lw' : 2.0,\n",
    "    },\n",
    "    {\n",
    "        'ls' : ':',\n",
    "        'lw' : 2.0,\n",
    "    },\n",
    "    {\n",
    "        'ls' : ':',\n",
    "        'lw' : 1.0,\n",
    "    },\n",
    "    \n",
    "]))\n",
    "\n",
    "# states/territories\n",
    "# {<abbreviation> : <full name>}\n",
    "abbr_cand = pd.read_csv('../../assets/abbreviations.csv')\n",
    "abbr_dict = dict(zip(abbr_cand['abbreviation'], abbr_cand['name']))"
   ]
  },
  {
   "cell_type": "code",
   "execution_count": null,
   "metadata": {
    "scrolled": false
   },
   "outputs": [],
   "source": [
    "contests = sorted(list(set(cand['contest'])))\n",
    "# contests = [x for x in contests if x != '00_00']\n",
    "\n",
    "# plot settings per party\n",
    "party_dict = {\n",
    "    'Republican' : {\n",
    "        'hex' : '#FF6661', \n",
    "        'mult' : 0.3, \n",
    "        'party' : 'Republican',\n",
    "    },\n",
    "    'Democrat' : {\n",
    "        'hex' : '#5494F7', \n",
    "        'mult' : -0.3, \n",
    "        'party' : 'Democrat',\n",
    "    },\n",
    "    'Third party' : {\n",
    "        'hex' : '#15DCDC',\n",
    "        'mult' : 0,\n",
    "        'party' : 'Third party',\n",
    "    }\n",
    "}\n",
    "\n",
    "vol_light = '#f8fbfc'\n",
    "vol_dark = '#263C4D'\n",
    "    \n",
    "for contest in contests:\n",
    "    lil_cand = cand[cand['contest'] == contest]\n",
    "    candidates = list(lil_cand['cand_id'])\n",
    "    candidates = [x for x in candidates if x in list(set(pas['cand_id']))]\n",
    "    if len(candidates) > 1:\n",
    "        print('\\n\\n---------------------------------------------------\\n')\n",
    "        print(contest)\n",
    "        fig = plt.figure(figsize = (14, 8))\n",
    "        fig.patch.set_facecolor(vol_light)\n",
    "        ax = fig.add_subplot(111)\n",
    "        ax.patch.set_facecolor(vol_light)\n",
    "\n",
    "        vol_dark_rcparams = [\n",
    "            'patch.edgecolor',\n",
    "            'grid.color',\n",
    "            'text.color',\n",
    "            'axes.labelcolor',\n",
    "            'xtick.color',\n",
    "            'ytick.color',\n",
    "            'axes.edgecolor'\n",
    "        ]\n",
    "\n",
    "        for which in vol_dark_rcparams:\n",
    "            plt.rcParams[which] = vol_dark\n",
    "\n",
    "        font_dirs = ['../../css/fonts/for_matplotlib/', ]\n",
    "        font_files = fm.findSystemFonts(fontpaths=font_dirs)\n",
    "        font_list = fm.createFontList(font_files)\n",
    "        fm.fontManager.ttflist.extend(font_list)\n",
    "\n",
    "        plt.rcParams['font.family'] = 'DM Sans Medium'\n",
    "    \n",
    "        for candidate in candidates:\n",
    "            if candidate in list(winners['cand_id'].values):\n",
    "                mult = 2\n",
    "                win = ' (winner)'\n",
    "            else:\n",
    "                mult = 1\n",
    "                win = ''\n",
    "            lil_pas = pas[pas['cand_id'] == candidate].sort_values(['transaction_dt'])\n",
    "            name = list(lil_cand.loc[lil_cand['cand_id'] == candidate, \n",
    "                                     'cand_name'].values)[0]\n",
    "            party = list(lil_cand.loc[lil_cand['cand_id'] == candidate, \n",
    "                                      'cand_pty_affiliation'].values)[0]\n",
    "            incumbent = (list(lil_cand.loc[lil_cand['cand_id'] == candidate, \n",
    "                                      'cand_ici'].values)[0] == 'I')\n",
    "            \n",
    "            opposers = list(set(lil_pas.loc[lil_pas['transaction_tp'] == \\\n",
    "                        'Independent expenditure opposing election of candidate', \n",
    "                        'name']))\n",
    "            if len(opposers) > 0:\n",
    "                opp_list = []\n",
    "                for opposer in opposers:\n",
    "                    opp_pas = lil_pas.loc[lil_pas['name'] == opposer, 'transaction_amt'].sum()\n",
    "                    opp_list.append((opposer, opp_pas))\n",
    "\n",
    "                opp_df = pd.DataFrame(\n",
    "                    opp_list, \n",
    "                )\n",
    "                opp_df.columns = ['name', 'total']\n",
    "                opp_df.sort_values(['total'], ascending = False, inplace = True)\n",
    "                opp_df.reset_index(drop = True, inplace = True)\n",
    "                if len(opp_df) > 5:\n",
    "                    opp_df = opp_df.loc[:5, :]\n",
    "                print('OPPOSING:', name)\n",
    "                print(opp_df)\n",
    "                print('\\n')\n",
    "                \n",
    "            supporters = list(set(lil_pas.loc[lil_pas['transaction_tp'] == \\\n",
    "                        'Independent expenditure advocating election of candidate', \n",
    "                        'name']))\n",
    "            if len(supporters) > 0:\n",
    "                supp_list = []\n",
    "                for supporter in supporters:\n",
    "                    supp_pas = lil_pas.loc[\n",
    "                        lil_pas['name'] == supporter, \n",
    "                        'transaction_amt'].sum()\n",
    "                    supp_list.append((supporter, supp_pas))\n",
    "\n",
    "                supp_df = pd.DataFrame(\n",
    "                    supp_list, \n",
    "                )\n",
    "                supp_df.columns = ['name', 'total']\n",
    "                supp_df.sort_values(['total'], ascending = False, inplace = True)\n",
    "                supp_df.reset_index(drop = True, inplace = True)\n",
    "                if len(supp_df) > 5:\n",
    "                    supp_df = supp_df.loc[:5, :]\n",
    "                print('SUPPORTING:', name)\n",
    "                print(supp_df)\n",
    "                print('\\n')\n",
    "                \n",
    "            if incumbent:\n",
    "                inc = ' (incumbent)'\n",
    "            else:\n",
    "                inc = ''\n",
    "            tps = list(set(lil_pas['transaction_tp']))\n",
    "            for tp in tps:\n",
    "                liller_pas = lil_pas[lil_pas['transaction_tp'] == tp]\n",
    "                liller_pas['cumsum'] = liller_pas['transaction_amt'].cumsum()\n",
    "                if len(liller_pas) == 1:\n",
    "                    plt.scatter(\n",
    "                        liller_pas['transaction_dt'],\n",
    "                        liller_pas['cumsum']/1.0E6,\n",
    "                        color = party_dict[party]['hex'],\n",
    "                        label = name + inc + win + ' ' + tp,\n",
    "                        alpha = 1.0,\n",
    "                    )\n",
    "                else:\n",
    "                    plt.plot(\n",
    "                        liller_pas['transaction_dt'],\n",
    "                        liller_pas['cumsum']/1.0E6,\n",
    "                        color = party_dict[party]['hex'],\n",
    "                        ls = tp_dict[tp]['ls'],\n",
    "                        label = name + inc + win + ' ' + tp,\n",
    "                        alpha = 1.0,\n",
    "                        lw = mult*tp_dict[tp]['lw'],\n",
    "                    )\n",
    "                \n",
    "        if contest == '00_00':\n",
    "            title = f'{year} Presidential Contest:\\nCommittee Contributions'\n",
    "        else:\n",
    "            state = abbr_dict[contest.split('_')[0]]\n",
    "            district = contest.split('_')[1]\n",
    "            if district == 'senate':\n",
    "                title = f'{year} U.S. Senate Elections:\\nCommittee Contributions for {state} Contest'\n",
    "            elif district != '00':\n",
    "                district = district.lstrip('0')\n",
    "                title = f'{year} U.S. House of Representatives Elections:\\nCommittee Contributions for {state} District {district}'\n",
    "            else:\n",
    "                title = f'{year} U.S. House of Representatives Elections:\\nCommittee Contributions in {state} At-Large District'\n",
    "        plt.title(\n",
    "            title, \n",
    "            fontsize = 18, \n",
    "        )\n",
    "        plt.xlabel('Date', fontsize = 18)\n",
    "#         plt.xlim([dt.strptime('2018-12-20', '%Y-%m-%d'), \n",
    "#                   dt.strptime('2020-01-10', '%Y-%m-%d')])\n",
    "        plt.xlim([pas['transaction_dt'].min(), pas['transaction_dt'].max()])\n",
    "        ax.xaxis.set_major_formatter(mdates.DateFormatter('%b %y'))\n",
    "        plt.xticks(fontsize = 14)\n",
    "        plt.ylabel('Cumulative contributions\\n($MM USD)', fontsize = 14)\n",
    "        plt.yticks(fontsize = 14)\n",
    "        handles, labels = ax.get_legend_handles_labels()\n",
    "        # sort both labels and handles by labels\n",
    "        labels, handles = zip(*sorted(zip(labels, handles), key=lambda t: t[0]))\n",
    "        ax.legend(\n",
    "            handles, \n",
    "            labels, \n",
    "            loc = 'upper left', \n",
    "            fontsize = 12, \n",
    "            facecolor = vol_light,\n",
    "            \n",
    "        )\n",
    "        \n",
    "        plt.axvline(\n",
    "            dt.strptime('2018-11-06', '%Y-%m-%d'), \n",
    "            alpha = 0.3,\n",
    "            label = 'Election Day',\n",
    "            color = vol_dark,\n",
    "            ls = '--',\n",
    "            \n",
    "        )\n",
    "        fec_deadlines = [\n",
    "            '2017-03-31',\n",
    "            '2017-06-30',\n",
    "            '2017-09-30',\n",
    "            '2017-12-31',\n",
    "            '2018-03-31',\n",
    "            '2018-06-30',\n",
    "            '2018-09-30',\n",
    "            '2018-10-19', # pre-general\n",
    "            '2018-11-28', # post-general\n",
    "            '2018-12-31', # year-end\n",
    "            \n",
    "        ]\n",
    "        for x in fec_deadlines:\n",
    "            plt.axvline(\n",
    "                dt.strptime(x, '%Y-%m-%d'), \n",
    "                color = vol_dark,\n",
    "                alpha = 0.1,\n",
    "                lw = 1.0,\n",
    "                ls = '--',\n",
    "                \n",
    "            )\n",
    "\n",
    "        x = ax.annotate(\n",
    "            'Source: FEC.gov', \n",
    "            xy=(0.0, 0.0), \n",
    "            xytext=(38.0, -28.0), \n",
    "            ha='center', \n",
    "            va='bottom', \n",
    "            textcoords='axes pixels', \n",
    "            xycoords='axes pixels', \n",
    "        )\n",
    "        # logo\n",
    "        arr_img = plt.imread('../../assets/VOL_Logo_Color_Light_Green.png')\n",
    "        imagebox = OffsetImage(arr_img, zoom=0.07)\n",
    "        imagebox.image.axes = ax\n",
    "        xy = (0.0, -45.0)\n",
    "        ab = AnnotationBbox(imagebox, \n",
    "                            xy,\n",
    "                            xybox=(xy[0], xy[1]),\n",
    "                            xycoords='axes pixels',\n",
    "                            boxcoords=('axes pixels'),\n",
    "                            box_alignment=(0., 0.),\n",
    "                            frameon=False,\n",
    "                           )\n",
    "        ax.add_artist(ab)\n",
    "        plt.tight_layout()\n",
    "\n",
    "        plt.show();"
   ]
  },
  {
   "cell_type": "code",
   "execution_count": null,
   "metadata": {},
   "outputs": [],
   "source": [
    "data = []\n",
    "labels = list(set(pas.loc[pd.notnull(pas['cand_id']), 'transaction_tp']))\n",
    "for which in labels:\n",
    "    lil_pas = pas[pd.notnull(pas['cand_id']) & (pas['transaction_tp'] == which)]\n",
    "    data.append(lil_pas['transaction_amt']/1.0E6)\n",
    "    print(which)\n",
    "    print('count:', len(lil_pas))\n",
    "    print('unique:', len(lil_pas['name'].value_counts()))\n",
    "    print('median:', lil_pas['transaction_amt'].median())\n",
    "    print('mean:', lil_pas['transaction_amt'].mean())\n",
    "    print('std dev:', lil_pas['transaction_amt'].std())\n",
    "    print(lil_pas['name'].value_counts()[:10])\n",
    "    print('\\n')\n",
    "\n",
    "plt.figure(figsize = (20, 2))\n",
    "\n",
    "plt.boxplot(data, vert = False)\n",
    "plt.yticks(range(1, len(labels) + 1), labels, fontsize = 12)\n",
    "plt.xlabel('$MM USD')\n",
    "\n",
    "plt.show();"
   ]
  },
  {
   "cell_type": "code",
   "execution_count": null,
   "metadata": {},
   "outputs": [],
   "source": [
    "# label contributions *advocating for* candidate\n",
    "pas.loc[\n",
    "    pas['transaction_tp'] == 'Independent expenditure advocating election of candidate', \n",
    "    'name'] = \\\n",
    "pas.loc[\n",
    "    pas['transaction_tp'] == 'Independent expenditure advocating election of candidate', \n",
    "    'name'].apply(lambda x: 'comm1__' + x + ' (for)')"
   ]
  },
  {
   "cell_type": "code",
   "execution_count": null,
   "metadata": {},
   "outputs": [],
   "source": [
    "# label contributions *opposing* candidate\n",
    "pas.loc[\n",
    "    pas['transaction_tp'] == 'Independent expenditure opposing election of candidate', \n",
    "    'name'] = \\\n",
    "pas.loc[\n",
    "    pas['transaction_tp'] == 'Independent expenditure opposing election of candidate', \n",
    "    'name'].apply(lambda x: 'comm1__' + x + ' (against)')"
   ]
  },
  {
   "cell_type": "code",
   "execution_count": null,
   "metadata": {},
   "outputs": [],
   "source": [
    "# label coord party expenditures\n",
    "pas.loc[\n",
    "    pas['transaction_tp'] == 'Coordinated party expenditure', \n",
    "    'name'] = \\\n",
    "pas.loc[\n",
    "    pas['transaction_tp'] == 'Coordinated party expenditure', \n",
    "    'name'].apply(lambda x: 'comm1__' + x + ' (coord pty exp)')"
   ]
  },
  {
   "cell_type": "code",
   "execution_count": null,
   "metadata": {},
   "outputs": [],
   "source": [
    "# label coord party expenditures\n",
    "pas.loc[\n",
    "    pas['transaction_tp'] == 'Contribution made to nonaffiliated committee', \n",
    "    'name'] = \\\n",
    "pas.loc[\n",
    "    pas['transaction_tp'] == 'Contribution made to nonaffiliated committee', \n",
    "    'name'].apply(lambda x: 'comm2__' + x + ' (nonaffiliated)')"
   ]
  },
  {
   "cell_type": "code",
   "execution_count": null,
   "metadata": {},
   "outputs": [],
   "source": [
    "# label coord party expenditures\n",
    "pas.loc[\n",
    "    pas['transaction_tp'] == 'In-kind contribution made to registered filer', \n",
    "    'name'] = \\\n",
    "pas.loc[\n",
    "    pas['transaction_tp'] == 'In-kind contribution made to registered filer', \n",
    "    'name'].apply(lambda x: 'comm2__' + x + ' (in-kind)')"
   ]
  },
  {
   "cell_type": "code",
   "execution_count": null,
   "metadata": {
    "scrolled": false
   },
   "outputs": [],
   "source": [
    "# create dataframe to show summary stats per committee\n",
    "gave = pd.DataFrame()\n",
    "\n",
    "gave['name'] = sorted(list(pas['name'].value_counts()[pas['name'].value_counts() > 5].index))\n",
    "\n",
    "# one column for each candidate appearing\n",
    "each = sorted(list(set(pas['cand_id'])))\n",
    "for which in each:\n",
    "    gave[which] = [0]*len(gave)\n",
    "\n",
    "total = []\n",
    "count = []\n",
    "distinct = []\n",
    "ents = []\n",
    "for name in gave['name']:\n",
    "    lil_pas = pas[pas['name'] == name]\n",
    "    total.append(lil_pas['transaction_amt'].sum())\n",
    "    count.append(len(lil_pas))\n",
    "    distinct.append(len(lil_pas.drop_duplicates(['cand_id'])))\n",
    "    every_each = list(lil_pas['cand_id'].values)\n",
    "    for which in every_each:\n",
    "        comm_cand = lil_pas.loc[lil_pas['cand_id'] == which, 'transaction_amt'].sum()\n",
    "        if comm_cand > 0:\n",
    "            gave.loc[gave['name'] == name, which] = comm_cand\n",
    "    ents.append(list(set(lil_pas['entity_tp'])))\n",
    "            \n",
    "gave['total'] = total\n",
    "gave['count'] = count\n",
    "gave['distinct'] = distinct\n",
    "gave['entity_tps'] = ents\n",
    "del total, count, distinct, ents\n",
    "\n",
    "gave.sort_values(['total'], ascending = False, inplace = True)\n",
    "gave.reset_index(drop = True, inplace = True)\n",
    "print(len(gave))\n",
    "gave.head()"
   ]
  },
  {
   "cell_type": "code",
   "execution_count": null,
   "metadata": {},
   "outputs": [],
   "source": [
    "# merge gave.T & cand\n",
    "from_gave = pd.DataFrame()\n",
    "\n",
    "from_gave = gave.drop([\n",
    "    'name', \n",
    "    'total', \n",
    "    'count', \n",
    "    'distinct',  \n",
    "    'entity_tps',\n",
    "    \n",
    "], axis = 1).T\n",
    "\n",
    "from_gave.columns = list(gave['name'])\n",
    "\n",
    "# (for)\n",
    "fors_cols = [x for x in from_gave.columns if ('(for)' in x)]\n",
    "fors = from_gave[fors_cols]\n",
    "from_gave['(for) count'] = [len([x for x in fors.loc[y, :].values if (x > 0)]) for y in list(from_gave.index)]\n",
    "from_gave['(for) sum'] = [fors.loc[y, :].sum() for y in list(from_gave.index)]\n",
    "\n",
    "# (against)\n",
    "against_cols = [x for x in from_gave.columns if ('(against)' in x)]\n",
    "against = from_gave[against_cols]\n",
    "from_gave['(against) count'] = [len([x for x in against.loc[y, :].values if (x > 0)]) for y in list(from_gave.index)]\n",
    "from_gave['(against) sum'] = [against.loc[y, :].sum() for y in list(from_gave.index)]\n",
    "\n",
    "# (coord pty exp)\n",
    "coord_cols = [x for x in from_gave.columns if ('(coord pty exp)' in x)]\n",
    "coord = from_gave[coord_cols]\n",
    "from_gave['(coord pty exp) count'] = [len([x for x in coord.loc[y, :].values if (x > 0)]) for y in list(from_gave.index)]\n",
    "from_gave['(coord pty exp) sum'] = [coord.loc[y, :].sum() for y in list(from_gave.index)]\n",
    "\n",
    "# (in-kind)\n",
    "inkind_cols = [x for x in from_gave.columns if ('(in-kind)' in x)]\n",
    "inkind = from_gave[inkind_cols]\n",
    "from_gave['(in-kind) count'] = [len([x for x in inkind.loc[y, :].values if (x > 0)]) for y in list(from_gave.index)]\n",
    "from_gave['(in-kind) sum'] = [inkind.loc[y, :].sum() for y in list(from_gave.index)]\n",
    "\n",
    "# (nonaffiliated)\n",
    "nonaffil_cols = [x for x in from_gave.columns if ('(nonaffiliated)' in x)]\n",
    "nonaffil = from_gave[nonaffil_cols]\n",
    "from_gave['(nonaffiliated) count'] = [len([x for x in nonaffil.loc[y, :].values if (x > 0)]) for y in list(from_gave.index)]\n",
    "from_gave['(nonaffiliated) sum'] = [nonaffil.loc[y, :].sum() for y in list(from_gave.index)]\n",
    "\n",
    "from_gave.head(2)"
   ]
  },
  {
   "cell_type": "code",
   "execution_count": null,
   "metadata": {},
   "outputs": [],
   "source": [
    "cand.index = cand['cand_id']\n",
    "cand_new = pd.concat([cand, from_gave], axis = 1)\n",
    "cand_new.reset_index(drop = True, inplace = True)\n",
    "cand_new.rename(columns = {'index' : 'cand_id'}, inplace = True)\n",
    "cand_new.fillna(0, inplace = True)\n",
    "print(len(cand_new))\n",
    "cand_new.head(2)"
   ]
  },
  {
   "cell_type": "code",
   "execution_count": null,
   "metadata": {},
   "outputs": [],
   "source": [
    "pas.to_csv('data/04a_pas_cleaned.csv', index = False)"
   ]
  },
  {
   "cell_type": "code",
   "execution_count": null,
   "metadata": {},
   "outputs": [],
   "source": [
    "cand_new.to_csv('data/04a_cand_cleaned.csv', index = False)"
   ]
  },
  {
   "cell_type": "code",
   "execution_count": null,
   "metadata": {},
   "outputs": [],
   "source": [
    "gave.to_csv('data/04a_committee_stats.csv', index = False)"
   ]
  }
 ],
 "metadata": {
  "kernelspec": {
   "display_name": "Python 3",
   "language": "python",
   "name": "python3"
  },
  "language_info": {
   "codemirror_mode": {
    "name": "ipython",
    "version": 3
   },
   "file_extension": ".py",
   "mimetype": "text/x-python",
   "name": "python",
   "nbconvert_exporter": "python",
   "pygments_lexer": "ipython3",
   "version": "3.7.4"
  }
 },
 "nbformat": 4,
 "nbformat_minor": 2
}
