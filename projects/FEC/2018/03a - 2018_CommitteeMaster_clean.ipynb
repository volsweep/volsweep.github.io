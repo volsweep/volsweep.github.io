{
 "cells": [
  {
   "cell_type": "markdown",
   "metadata": {},
   "source": [
    "## FEC Campaign Finance\n",
    "\n",
    "### Committee Master"
   ]
  },
  {
   "cell_type": "code",
   "execution_count": 1,
   "metadata": {},
   "outputs": [],
   "source": [
    "import pandas as pd\n",
    "import numpy as np\n",
    "\n",
    "from datetime import datetime as dt"
   ]
  },
  {
   "cell_type": "code",
   "execution_count": 2,
   "metadata": {},
   "outputs": [],
   "source": [
    "year = '2018'"
   ]
  },
  {
   "cell_type": "code",
   "execution_count": 3,
   "metadata": {},
   "outputs": [
    {
     "name": "stdout",
     "output_type": "stream",
     "text": [
      "original length: 19027\n"
     ]
    },
    {
     "data": {
      "text/plain": [
       "3       33\n",
       "4        8\n",
       "5    18982\n",
       "6        1\n",
       "8        3\n",
       "Name: cmte_zip, dtype: int64"
      ]
     },
     "execution_count": 3,
     "metadata": {},
     "output_type": "execute_result"
    }
   ],
   "source": [
    "# read in & clean\n",
    "cm = pd.read_csv(\n",
    "    f'https://www.fec.gov/files/bulk-downloads/{year}/cm{year[2:]}.zip', \n",
    "    sep = '|', \n",
    "    error_bad_lines = False, \n",
    "    header = None, \n",
    ")\n",
    "print('original length:', len(cm))\n",
    "\n",
    "# add column headers from separate file\n",
    "headers = pd.read_csv(\n",
    "    'https://www.fec.gov/files/bulk-downloads/data_dictionaries/cm_header_file.csv', \n",
    ")\n",
    "cm.columns = [x.lower() for x in headers.columns]\n",
    "\n",
    "# fillna\n",
    "cm['cmte_pty_affiliation'].fillna('UNK', inplace = True)\n",
    "\n",
    "# preserve uncleaned tres_nm & cmte_st1\n",
    "cm['orig_tres_nm'] = list(cm['tres_nm'].values)\n",
    "cm['orig_cmte_st1'] = list(cm['cmte_st1'].values)\n",
    "\n",
    "# prep strings for deduping\n",
    "change_dict = {\n",
    "    ' STREET' : ' ST',\n",
    "    'AVENUE' : 'AVE',\n",
    "    ' DRIVE' : ' DR',\n",
    "    ' ROAD' : ' RD',\n",
    "    ' SUITE' : ' STE',\n",
    "    '.' : '',\n",
    "    ',' : '',\n",
    "    'BOULEVARD' : 'BLVD',\n",
    "    ' PLACE' : ' PL',\n",
    "    \n",
    "}\n",
    "keys = list(set(change_dict.keys()))\n",
    "for key in keys:\n",
    "    cm['cmte_st1'] = [str(x).replace(key, change_dict[key]) for x in cm['cmte_st1']]\n",
    "\n",
    "keep_0 = [\n",
    "    ' STE ',\n",
    "    '#',\n",
    "    ' ST ',\n",
    "    ' AVE ',\n",
    "    ' RD ',\n",
    "    ' PL ', \n",
    "    ' BLVD ', \n",
    "    ' DR ',\n",
    "]\n",
    "\n",
    "cm['cmte_st1'] = [x.split(' STE ')[0].split('#')[0].split(' NUM ')[0] for \\\n",
    "                  x in cm['cmte_st1']]\n",
    "cm['cmte_st1'] = [' '.join(str(x).split()) for x in cm['cmte_st1']]\n",
    "\n",
    "cm['cmte_zip'] = [str(x).strip() for x in cm['cmte_zip']]\n",
    "cm.loc[cm['cmte_zip'].apply(lambda x: len(str(x))) == 9, 'cmte_zip'] = \\\n",
    "cm.loc[cm['cmte_zip'].apply(lambda x: len(str(x))) == 9, 'cmte_zip'].apply(lambda x: x[:5])\n",
    "\n",
    "cm['cmte_zip'].apply(lambda x: len(x)).value_counts().sort_index()"
   ]
  },
  {
   "cell_type": "code",
   "execution_count": 4,
   "metadata": {},
   "outputs": [
    {
     "name": "stdout",
     "output_type": "stream",
     "text": [
      "13490\n"
     ]
    }
   ],
   "source": [
    "cands = pd.read_csv('data/02a_cand_clean.csv')\n",
    "\n",
    "cands = list(cands['cand_id'])\n",
    "\n",
    "mask = []\n",
    "for x in cm['cand_id']:\n",
    "    if type(x) == float:\n",
    "        mask.append(True)\n",
    "    else:\n",
    "        if x in cands:\n",
    "            mask.append(True)\n",
    "        else:\n",
    "            mask.append(False)\n",
    "        \n",
    "cm = cm[mask]\n",
    "\n",
    "print(len(cm))"
   ]
  },
  {
   "cell_type": "code",
   "execution_count": 5,
   "metadata": {
    "scrolled": false
   },
   "outputs": [
    {
     "data": {
      "text/html": [
       "<div>\n",
       "<style scoped>\n",
       "    .dataframe tbody tr th:only-of-type {\n",
       "        vertical-align: middle;\n",
       "    }\n",
       "\n",
       "    .dataframe tbody tr th {\n",
       "        vertical-align: top;\n",
       "    }\n",
       "\n",
       "    .dataframe thead th {\n",
       "        text-align: right;\n",
       "    }\n",
       "</style>\n",
       "<table border=\"1\" class=\"dataframe\">\n",
       "  <thead>\n",
       "    <tr style=\"text-align: right;\">\n",
       "      <th></th>\n",
       "      <th>cmte_st1</th>\n",
       "      <th>cmte_city</th>\n",
       "      <th>cmte_st</th>\n",
       "      <th>cmte_zip</th>\n",
       "    </tr>\n",
       "  </thead>\n",
       "  <tbody>\n",
       "    <tr>\n",
       "      <td>18190</td>\n",
       "      <td>510A SHERMAN ST</td>\n",
       "      <td>CANTON</td>\n",
       "      <td>MA</td>\n",
       "      <td>2021</td>\n",
       "    </tr>\n",
       "    <tr>\n",
       "      <td>18199</td>\n",
       "      <td>580 BRIDGE ST</td>\n",
       "      <td>DEDHAM</td>\n",
       "      <td>MA</td>\n",
       "      <td>2026</td>\n",
       "    </tr>\n",
       "    <tr>\n",
       "      <td>18200</td>\n",
       "      <td>580 BRIDGE ST</td>\n",
       "      <td>DEDHAM</td>\n",
       "      <td>MA</td>\n",
       "      <td>2026</td>\n",
       "    </tr>\n",
       "    <tr>\n",
       "      <td>18194</td>\n",
       "      <td>17 PLEASANT HILL AVE</td>\n",
       "      <td>BOSTON</td>\n",
       "      <td>MA</td>\n",
       "      <td>21232813</td>\n",
       "    </tr>\n",
       "    <tr>\n",
       "      <td>18198</td>\n",
       "      <td>33 THORONDIKE ST</td>\n",
       "      <td>BROOKLINE</td>\n",
       "      <td>MA</td>\n",
       "      <td>2446</td>\n",
       "    </tr>\n",
       "    <tr>\n",
       "      <td>18206</td>\n",
       "      <td>393 DORCHESTER RD</td>\n",
       "      <td>LYME</td>\n",
       "      <td>NH</td>\n",
       "      <td>3768</td>\n",
       "    </tr>\n",
       "    <tr>\n",
       "      <td>2060</td>\n",
       "      <td>1210 CORBIN ST</td>\n",
       "      <td>ELIZABETH</td>\n",
       "      <td>NJ</td>\n",
       "      <td>7201</td>\n",
       "    </tr>\n",
       "    <tr>\n",
       "      <td>10840</td>\n",
       "      <td>847 KENSINGTON CV</td>\n",
       "      <td>SPRINGDALE</td>\n",
       "      <td>AR</td>\n",
       "      <td>7276</td>\n",
       "    </tr>\n",
       "    <tr>\n",
       "      <td>18209</td>\n",
       "      <td>111 VICTORIA DR</td>\n",
       "      <td>EATONTOWN</td>\n",
       "      <td>NJ</td>\n",
       "      <td>7724</td>\n",
       "    </tr>\n",
       "    <tr>\n",
       "      <td>18116</td>\n",
       "      <td></td>\n",
       "      <td>.</td>\n",
       "      <td>VA</td>\n",
       "      <td>nan</td>\n",
       "    </tr>\n",
       "    <tr>\n",
       "      <td>6387</td>\n",
       "      <td>1055 CATALPA RD</td>\n",
       "      <td>ARCADIA</td>\n",
       "      <td>CA</td>\n",
       "      <td>nan</td>\n",
       "    </tr>\n",
       "    <tr>\n",
       "      <td>17750</td>\n",
       "      <td>2008 OLDTOWN VALLEY RD SE</td>\n",
       "      <td>NEW PHILADELPHIA</td>\n",
       "      <td>OH</td>\n",
       "      <td>nan</td>\n",
       "    </tr>\n",
       "    <tr>\n",
       "      <td>17959</td>\n",
       "      <td>247 THIRD ST</td>\n",
       "      <td>ASHLAND</td>\n",
       "      <td>OR</td>\n",
       "      <td>nan</td>\n",
       "    </tr>\n",
       "    <tr>\n",
       "      <td>18661</td>\n",
       "      <td>420 KEWANNA DR</td>\n",
       "      <td>JEFFERSONVILLE</td>\n",
       "      <td>IN</td>\n",
       "      <td>nan</td>\n",
       "    </tr>\n",
       "    <tr>\n",
       "      <td>18175</td>\n",
       "      <td>77 GILKISON ST</td>\n",
       "      <td>DUNEDIN OTAGO</td>\n",
       "      <td>ZZ</td>\n",
       "      <td>nan</td>\n",
       "    </tr>\n",
       "    <tr>\n",
       "      <td>18166</td>\n",
       "      <td>801 NKWANHOON BLDG 198-42</td>\n",
       "      <td>SEOUL</td>\n",
       "      <td>ZZ</td>\n",
       "      <td>nan</td>\n",
       "    </tr>\n",
       "    <tr>\n",
       "      <td>18707</td>\n",
       "      <td>868 CHURCH ST -</td>\n",
       "      <td>BOHEMIA</td>\n",
       "      <td>NY</td>\n",
       "      <td>nan</td>\n",
       "    </tr>\n",
       "    <tr>\n",
       "      <td>5044</td>\n",
       "      <td>PO BOX 356</td>\n",
       "      <td>LIVINGSTON</td>\n",
       "      <td>NJ</td>\n",
       "      <td>nan</td>\n",
       "    </tr>\n",
       "    <tr>\n",
       "      <td>17722</td>\n",
       "      <td>nan</td>\n",
       "      <td>HOUSTON</td>\n",
       "      <td>TX</td>\n",
       "      <td>nan</td>\n",
       "    </tr>\n",
       "    <tr>\n",
       "      <td>18056</td>\n",
       "      <td>nan</td>\n",
       "      <td>PHILADELPHIA</td>\n",
       "      <td>PA</td>\n",
       "      <td>nan</td>\n",
       "    </tr>\n",
       "    <tr>\n",
       "      <td>18782</td>\n",
       "      <td>nan</td>\n",
       "      <td>NaN</td>\n",
       "      <td>TX</td>\n",
       "      <td>nan</td>\n",
       "    </tr>\n",
       "    <tr>\n",
       "      <td>8006</td>\n",
       "      <td>nan</td>\n",
       "      <td>NaN</td>\n",
       "      <td>NaN</td>\n",
       "      <td>nan</td>\n",
       "    </tr>\n",
       "    <tr>\n",
       "      <td>9572</td>\n",
       "      <td>nan</td>\n",
       "      <td>NaN</td>\n",
       "      <td>NaN</td>\n",
       "      <td>nan</td>\n",
       "    </tr>\n",
       "    <tr>\n",
       "      <td>10164</td>\n",
       "      <td>nan</td>\n",
       "      <td>NaN</td>\n",
       "      <td>NaN</td>\n",
       "      <td>nan</td>\n",
       "    </tr>\n",
       "    <tr>\n",
       "      <td>10419</td>\n",
       "      <td>nan</td>\n",
       "      <td>NaN</td>\n",
       "      <td>NaN</td>\n",
       "      <td>nan</td>\n",
       "    </tr>\n",
       "    <tr>\n",
       "      <td>10519</td>\n",
       "      <td>nan</td>\n",
       "      <td>NaN</td>\n",
       "      <td>NaN</td>\n",
       "      <td>nan</td>\n",
       "    </tr>\n",
       "    <tr>\n",
       "      <td>11993</td>\n",
       "      <td>nan</td>\n",
       "      <td>NaN</td>\n",
       "      <td>NaN</td>\n",
       "      <td>nan</td>\n",
       "    </tr>\n",
       "    <tr>\n",
       "      <td>12322</td>\n",
       "      <td>nan</td>\n",
       "      <td>NaN</td>\n",
       "      <td>NaN</td>\n",
       "      <td>nan</td>\n",
       "    </tr>\n",
       "    <tr>\n",
       "      <td>13088</td>\n",
       "      <td>nan</td>\n",
       "      <td>NaN</td>\n",
       "      <td>NaN</td>\n",
       "      <td>nan</td>\n",
       "    </tr>\n",
       "    <tr>\n",
       "      <td>13089</td>\n",
       "      <td>nan</td>\n",
       "      <td>NaN</td>\n",
       "      <td>NaN</td>\n",
       "      <td>nan</td>\n",
       "    </tr>\n",
       "    <tr>\n",
       "      <td>13396</td>\n",
       "      <td>nan</td>\n",
       "      <td>NaN</td>\n",
       "      <td>NaN</td>\n",
       "      <td>nan</td>\n",
       "    </tr>\n",
       "    <tr>\n",
       "      <td>16234</td>\n",
       "      <td>nan</td>\n",
       "      <td>NaN</td>\n",
       "      <td>NaN</td>\n",
       "      <td>nan</td>\n",
       "    </tr>\n",
       "    <tr>\n",
       "      <td>17177</td>\n",
       "      <td>nan</td>\n",
       "      <td>NaN</td>\n",
       "      <td>NaN</td>\n",
       "      <td>nan</td>\n",
       "    </tr>\n",
       "    <tr>\n",
       "      <td>17452</td>\n",
       "      <td>nan</td>\n",
       "      <td>NaN</td>\n",
       "      <td>NaN</td>\n",
       "      <td>nan</td>\n",
       "    </tr>\n",
       "    <tr>\n",
       "      <td>17456</td>\n",
       "      <td>nan</td>\n",
       "      <td>NaN</td>\n",
       "      <td>NaN</td>\n",
       "      <td>nan</td>\n",
       "    </tr>\n",
       "    <tr>\n",
       "      <td>17760</td>\n",
       "      <td>nan</td>\n",
       "      <td>NaN</td>\n",
       "      <td>NaN</td>\n",
       "      <td>nan</td>\n",
       "    </tr>\n",
       "    <tr>\n",
       "      <td>17761</td>\n",
       "      <td>nan</td>\n",
       "      <td>NaN</td>\n",
       "      <td>NaN</td>\n",
       "      <td>nan</td>\n",
       "    </tr>\n",
       "    <tr>\n",
       "      <td>17762</td>\n",
       "      <td>nan</td>\n",
       "      <td>NaN</td>\n",
       "      <td>NaN</td>\n",
       "      <td>nan</td>\n",
       "    </tr>\n",
       "    <tr>\n",
       "      <td>17767</td>\n",
       "      <td>nan</td>\n",
       "      <td>NaN</td>\n",
       "      <td>NaN</td>\n",
       "      <td>nan</td>\n",
       "    </tr>\n",
       "    <tr>\n",
       "      <td>17908</td>\n",
       "      <td>nan</td>\n",
       "      <td>NaN</td>\n",
       "      <td>NaN</td>\n",
       "      <td>nan</td>\n",
       "    </tr>\n",
       "  </tbody>\n",
       "</table>\n",
       "</div>"
      ],
      "text/plain": [
       "                        cmte_st1         cmte_city cmte_st  cmte_zip\n",
       "18190            510A SHERMAN ST            CANTON      MA      2021\n",
       "18199              580 BRIDGE ST            DEDHAM      MA      2026\n",
       "18200              580 BRIDGE ST            DEDHAM      MA      2026\n",
       "18194       17 PLEASANT HILL AVE            BOSTON      MA  21232813\n",
       "18198           33 THORONDIKE ST         BROOKLINE      MA      2446\n",
       "18206          393 DORCHESTER RD              LYME      NH      3768\n",
       "2060              1210 CORBIN ST         ELIZABETH      NJ      7201\n",
       "10840          847 KENSINGTON CV        SPRINGDALE      AR      7276\n",
       "18209            111 VICTORIA DR         EATONTOWN      NJ      7724\n",
       "18116                                            .      VA       nan\n",
       "6387             1055 CATALPA RD           ARCADIA      CA       nan\n",
       "17750  2008 OLDTOWN VALLEY RD SE  NEW PHILADELPHIA      OH       nan\n",
       "17959               247 THIRD ST           ASHLAND      OR       nan\n",
       "18661             420 KEWANNA DR    JEFFERSONVILLE      IN       nan\n",
       "18175             77 GILKISON ST     DUNEDIN OTAGO      ZZ       nan\n",
       "18166  801 NKWANHOON BLDG 198-42             SEOUL      ZZ       nan\n",
       "18707            868 CHURCH ST -           BOHEMIA      NY       nan\n",
       "5044                  PO BOX 356        LIVINGSTON      NJ       nan\n",
       "17722                        nan           HOUSTON      TX       nan\n",
       "18056                        nan      PHILADELPHIA      PA       nan\n",
       "18782                        nan               NaN      TX       nan\n",
       "8006                         nan               NaN     NaN       nan\n",
       "9572                         nan               NaN     NaN       nan\n",
       "10164                        nan               NaN     NaN       nan\n",
       "10419                        nan               NaN     NaN       nan\n",
       "10519                        nan               NaN     NaN       nan\n",
       "11993                        nan               NaN     NaN       nan\n",
       "12322                        nan               NaN     NaN       nan\n",
       "13088                        nan               NaN     NaN       nan\n",
       "13089                        nan               NaN     NaN       nan\n",
       "13396                        nan               NaN     NaN       nan\n",
       "16234                        nan               NaN     NaN       nan\n",
       "17177                        nan               NaN     NaN       nan\n",
       "17452                        nan               NaN     NaN       nan\n",
       "17456                        nan               NaN     NaN       nan\n",
       "17760                        nan               NaN     NaN       nan\n",
       "17761                        nan               NaN     NaN       nan\n",
       "17762                        nan               NaN     NaN       nan\n",
       "17767                        nan               NaN     NaN       nan\n",
       "17908                        nan               NaN     NaN       nan"
      ]
     },
     "execution_count": 5,
     "metadata": {},
     "output_type": "execute_result"
    }
   ],
   "source": [
    "cm.loc[cm['cmte_zip'].apply(lambda x: len(str(x))) != 5, \n",
    "       ['cmte_st1', 'cmte_city', 'cmte_st', 'cmte_zip']].sort_values([\n",
    "    'cmte_zip', \n",
    "    'cmte_st1', \n",
    "    'cmte_city',\n",
    "    'cmte_st',\n",
    "])"
   ]
  },
  {
   "cell_type": "code",
   "execution_count": 6,
   "metadata": {},
   "outputs": [],
   "source": [
    "fix_zip = {\n",
    "    '291501' : '29150',\n",
    "    '89053145' : '89015',\n",
    "    '04342443' : '70433',\n",
    "    '21232813' : '02126',\n",
    "    '7276' : '72762',\n",
    "    '2021' : '02021',\n",
    "    '2026' : '02026',\n",
    "    '2446' : '02446',\n",
    "    '3768' : '03768',\n",
    "    '7201' : '07201',\n",
    "    '7724' : '07724',\n",
    "    \n",
    "}\n",
    "for key in list(fix_zip.keys()):\n",
    "    cm.loc[cm['cmte_zip'] == key, 'cmte_zip'] = fix_zip[key]\n",
    "\n",
    "cm.loc[cm['cmte_st1'] == '1055 CATALPA RD', 'cmte_zip'] = '91007'\n",
    "cm.loc[cm['cmte_st1'] == '2008 OLDTOWN VALLEY RD SE', 'cmte_zip'] = '44663'\n",
    "cm.loc[\n",
    "    (cm['cmte_st1'] == '247 THIRD ST') & \\\n",
    "    (cm['cmte_city'] == 'ASHLAND'), \n",
    "    'cmte_zip'] = '97520'\n",
    "cm.loc[cm['cmte_st1'] == '420 KEWANNA DR', 'cmte_zip'] = '47130'\n",
    "cm.loc[cm['cmte_st1'] == '868 CHURCH ST -', 'cmte_zip'] = '11716'\n",
    "cm.loc[\n",
    "    (cm['cmte_st1'] == 'PO BOX 334') & \\\n",
    "    (cm['cmte_city'] == 'DAVIDSONVILLE'), \n",
    "    'cmte_zip'] = '21035'\n",
    "cm.loc[\n",
    "    (cm['cmte_st1'] == 'PO BOX 356') & \\\n",
    "    (cm['cmte_city'] == 'LIVINGSTON'), \n",
    "    'cmte_zip'] = '07039'"
   ]
  },
  {
   "cell_type": "code",
   "execution_count": 7,
   "metadata": {},
   "outputs": [
    {
     "data": {
      "text/html": [
       "<div>\n",
       "<style scoped>\n",
       "    .dataframe tbody tr th:only-of-type {\n",
       "        vertical-align: middle;\n",
       "    }\n",
       "\n",
       "    .dataframe tbody tr th {\n",
       "        vertical-align: top;\n",
       "    }\n",
       "\n",
       "    .dataframe thead th {\n",
       "        text-align: right;\n",
       "    }\n",
       "</style>\n",
       "<table border=\"1\" class=\"dataframe\">\n",
       "  <thead>\n",
       "    <tr style=\"text-align: right;\">\n",
       "      <th></th>\n",
       "      <th>cmte_id</th>\n",
       "      <th>cmte_nm</th>\n",
       "      <th>tres_nm</th>\n",
       "      <th>cmte_st1</th>\n",
       "      <th>cmte_st2</th>\n",
       "      <th>cmte_city</th>\n",
       "      <th>cmte_st</th>\n",
       "      <th>cmte_zip</th>\n",
       "      <th>cmte_dsgn</th>\n",
       "      <th>cmte_tp</th>\n",
       "      <th>cmte_pty_affiliation</th>\n",
       "      <th>cmte_filing_freq</th>\n",
       "      <th>org_tp</th>\n",
       "      <th>connected_org_nm</th>\n",
       "      <th>cand_id</th>\n",
       "      <th>orig_tres_nm</th>\n",
       "      <th>orig_cmte_st1</th>\n",
       "      <th>address</th>\n",
       "    </tr>\n",
       "  </thead>\n",
       "  <tbody>\n",
       "    <tr>\n",
       "      <td>0</td>\n",
       "      <td>C00000018</td>\n",
       "      <td>IRONWORKERS LOCAL UNION NO. 25 POLITICAL EDUCA...</td>\n",
       "      <td>STEVEN N GULICK</td>\n",
       "      <td>43335 W 10 MILE</td>\n",
       "      <td>P O BOX 965</td>\n",
       "      <td>NOVI</td>\n",
       "      <td>MI</td>\n",
       "      <td>48050</td>\n",
       "      <td>U</td>\n",
       "      <td>Q</td>\n",
       "      <td>UNK</td>\n",
       "      <td>T</td>\n",
       "      <td>NaN</td>\n",
       "      <td>IRON WORKERS; INT'L ASS'N OF BRIDGE...</td>\n",
       "      <td>H8TX22313</td>\n",
       "      <td>STEVEN N GULICK</td>\n",
       "      <td>43335 W 10 MILE</td>\n",
       "      <td>43335 W 10 MILE, NOVI, MI 48050</td>\n",
       "    </tr>\n",
       "    <tr>\n",
       "      <td>1</td>\n",
       "      <td>C00000059</td>\n",
       "      <td>HALLMARK CARDS PAC</td>\n",
       "      <td>SARAH MOE</td>\n",
       "      <td>2501 MCGEE</td>\n",
       "      <td>MD #500</td>\n",
       "      <td>KANSAS CITY</td>\n",
       "      <td>MO</td>\n",
       "      <td>64108</td>\n",
       "      <td>U</td>\n",
       "      <td>Q</td>\n",
       "      <td>UNK</td>\n",
       "      <td>M</td>\n",
       "      <td>C</td>\n",
       "      <td>NaN</td>\n",
       "      <td>NaN</td>\n",
       "      <td>SARAH MOE</td>\n",
       "      <td>2501 MCGEE</td>\n",
       "      <td>2501 MCGEE, KANSAS CITY, MO 64108</td>\n",
       "    </tr>\n",
       "  </tbody>\n",
       "</table>\n",
       "</div>"
      ],
      "text/plain": [
       "     cmte_id                                            cmte_nm  \\\n",
       "0  C00000018  IRONWORKERS LOCAL UNION NO. 25 POLITICAL EDUCA...   \n",
       "1  C00000059                                 HALLMARK CARDS PAC   \n",
       "\n",
       "           tres_nm         cmte_st1     cmte_st2    cmte_city cmte_st  \\\n",
       "0  STEVEN N GULICK  43335 W 10 MILE  P O BOX 965         NOVI      MI   \n",
       "1        SARAH MOE       2501 MCGEE      MD #500  KANSAS CITY      MO   \n",
       "\n",
       "  cmte_zip cmte_dsgn cmte_tp cmte_pty_affiliation cmte_filing_freq org_tp  \\\n",
       "0    48050         U       Q                  UNK                T    NaN   \n",
       "1    64108         U       Q                  UNK                M      C   \n",
       "\n",
       "                         connected_org_nm    cand_id     orig_tres_nm  \\\n",
       "0  IRON WORKERS; INT'L ASS'N OF BRIDGE...  H8TX22313  STEVEN N GULICK   \n",
       "1                                     NaN        NaN        SARAH MOE   \n",
       "\n",
       "     orig_cmte_st1                            address  \n",
       "0  43335 W 10 MILE    43335 W 10 MILE, NOVI, MI 48050  \n",
       "1       2501 MCGEE  2501 MCGEE, KANSAS CITY, MO 64108  "
      ]
     },
     "execution_count": 7,
     "metadata": {},
     "output_type": "execute_result"
    }
   ],
   "source": [
    "cm.loc[cm['cmte_zip'].apply(lambda x: len(x) == 3), 'cmte_zip'] = np.nan\n",
    "# create full address column from cleaned parts\n",
    "cm['address'] = \\\n",
    "cm['cmte_st1'].apply(lambda x: str(x).strip()) + ', ' + \\\n",
    "cm['cmte_city'].apply(lambda x: str(x).strip()) + ', ' + \\\n",
    "cm['cmte_st'].apply(lambda x: str(x).strip()) + ' ' + \\\n",
    "cm['cmte_zip'].apply(lambda x: str(x).strip())\n",
    "\n",
    "cm.head(2)"
   ]
  },
  {
   "cell_type": "code",
   "execution_count": 8,
   "metadata": {},
   "outputs": [
    {
     "data": {
      "text/html": [
       "<div>\n",
       "<style scoped>\n",
       "    .dataframe tbody tr th:only-of-type {\n",
       "        vertical-align: middle;\n",
       "    }\n",
       "\n",
       "    .dataframe tbody tr th {\n",
       "        vertical-align: top;\n",
       "    }\n",
       "\n",
       "    .dataframe thead th {\n",
       "        text-align: right;\n",
       "    }\n",
       "</style>\n",
       "<table border=\"1\" class=\"dataframe\">\n",
       "  <thead>\n",
       "    <tr style=\"text-align: right;\">\n",
       "      <th></th>\n",
       "      <th>cmte_id</th>\n",
       "      <th>cmte_nm</th>\n",
       "      <th>tres_nm</th>\n",
       "      <th>cmte_st1</th>\n",
       "      <th>cmte_st2</th>\n",
       "      <th>cmte_city</th>\n",
       "      <th>cmte_st</th>\n",
       "      <th>cmte_zip</th>\n",
       "      <th>cmte_dsgn</th>\n",
       "      <th>cmte_tp</th>\n",
       "      <th>cmte_pty_affiliation</th>\n",
       "      <th>cmte_filing_freq</th>\n",
       "      <th>org_tp</th>\n",
       "      <th>connected_org_nm</th>\n",
       "      <th>cand_id</th>\n",
       "      <th>orig_tres_nm</th>\n",
       "      <th>orig_cmte_st1</th>\n",
       "      <th>address</th>\n",
       "    </tr>\n",
       "  </thead>\n",
       "  <tbody>\n",
       "    <tr>\n",
       "      <td>16591</td>\n",
       "      <td>C00690123</td>\n",
       "      <td>INDEPENDENT VOICES OF CHANGE</td>\n",
       "      <td>PHELAN, JOHN</td>\n",
       "      <td>2 MEGHANS WAY</td>\n",
       "      <td>NaN</td>\n",
       "      <td>LYNN</td>\n",
       "      <td>MA</td>\n",
       "      <td>01904</td>\n",
       "      <td>U</td>\n",
       "      <td>O</td>\n",
       "      <td>UNK</td>\n",
       "      <td>Q</td>\n",
       "      <td>NaN</td>\n",
       "      <td>NONE</td>\n",
       "      <td>H8NJ07256</td>\n",
       "      <td>PHELAN, JOHN</td>\n",
       "      <td>2 MEGHANS WAY</td>\n",
       "      <td>2 MEGHANS WAY, LYNN, MA 01904</td>\n",
       "    </tr>\n",
       "    <tr>\n",
       "      <td>16592</td>\n",
       "      <td>C00690123</td>\n",
       "      <td>INDEPENDENT VOICES OF CHANGE</td>\n",
       "      <td>PHELAN, JOHN</td>\n",
       "      <td>2 MEGHANS WAY</td>\n",
       "      <td>NaN</td>\n",
       "      <td>LYNN</td>\n",
       "      <td>MA</td>\n",
       "      <td>01904</td>\n",
       "      <td>U</td>\n",
       "      <td>O</td>\n",
       "      <td>UNK</td>\n",
       "      <td>Q</td>\n",
       "      <td>NaN</td>\n",
       "      <td>NONE</td>\n",
       "      <td>H8NJ07256</td>\n",
       "      <td>PHELAN, JOHN</td>\n",
       "      <td>2 MEGHANS WAY</td>\n",
       "      <td>2 MEGHANS WAY, LYNN, MA 01904</td>\n",
       "    </tr>\n",
       "  </tbody>\n",
       "</table>\n",
       "</div>"
      ],
      "text/plain": [
       "         cmte_id                       cmte_nm       tres_nm       cmte_st1  \\\n",
       "16591  C00690123  INDEPENDENT VOICES OF CHANGE  PHELAN, JOHN  2 MEGHANS WAY   \n",
       "16592  C00690123  INDEPENDENT VOICES OF CHANGE  PHELAN, JOHN  2 MEGHANS WAY   \n",
       "\n",
       "      cmte_st2 cmte_city cmte_st cmte_zip cmte_dsgn cmte_tp  \\\n",
       "16591      NaN      LYNN      MA    01904         U       O   \n",
       "16592      NaN      LYNN      MA    01904         U       O   \n",
       "\n",
       "      cmte_pty_affiliation cmte_filing_freq org_tp connected_org_nm  \\\n",
       "16591                  UNK                Q    NaN             NONE   \n",
       "16592                  UNK                Q    NaN             NONE   \n",
       "\n",
       "         cand_id  orig_tres_nm  orig_cmte_st1                        address  \n",
       "16591  H8NJ07256  PHELAN, JOHN  2 MEGHANS WAY  2 MEGHANS WAY, LYNN, MA 01904  \n",
       "16592  H8NJ07256  PHELAN, JOHN  2 MEGHANS WAY  2 MEGHANS WAY, LYNN, MA 01904  "
      ]
     },
     "execution_count": 8,
     "metadata": {},
     "output_type": "execute_result"
    }
   ],
   "source": [
    "# check for duplicate rows\n",
    "cm[cm.duplicated(keep = False)]"
   ]
  },
  {
   "cell_type": "code",
   "execution_count": 9,
   "metadata": {},
   "outputs": [],
   "source": [
    "# drop duplicates\n",
    "cm.drop_duplicates(keep = 'first', inplace = True)"
   ]
  },
  {
   "cell_type": "code",
   "execution_count": 10,
   "metadata": {},
   "outputs": [
    {
     "data": {
      "text/plain": [
       "Series([], Name: cmte_id, dtype: int64)"
      ]
     },
     "execution_count": 10,
     "metadata": {},
     "output_type": "execute_result"
    }
   ],
   "source": [
    "# see which cmte_ids appear more than once\n",
    "cm['cmte_id'].value_counts()[cm['cmte_id'].value_counts() > 1]"
   ]
  },
  {
   "cell_type": "code",
   "execution_count": 11,
   "metadata": {},
   "outputs": [
    {
     "data": {
      "text/plain": [
       "cmte_nm                 9\n",
       "cmte_tp                10\n",
       "cmte_dsgn              11\n",
       "cmte_st                19\n",
       "cmte_city              20\n",
       "cmte_zip               25\n",
       "orig_cmte_st1          27\n",
       "tres_nm              1513\n",
       "orig_tres_nm         1513\n",
       "connected_org_nm     7967\n",
       "org_tp               9898\n",
       "cmte_st2            10383\n",
       "cand_id             12344\n",
       "dtype: int64"
      ]
     },
     "execution_count": 11,
     "metadata": {},
     "output_type": "execute_result"
    }
   ],
   "source": [
    "# check for nulls\n",
    "cm.isnull().sum()[cm.isnull().sum() > 0].sort_values()"
   ]
  },
  {
   "cell_type": "code",
   "execution_count": 12,
   "metadata": {},
   "outputs": [
    {
     "data": {
      "text/html": [
       "<div>\n",
       "<style scoped>\n",
       "    .dataframe tbody tr th:only-of-type {\n",
       "        vertical-align: middle;\n",
       "    }\n",
       "\n",
       "    .dataframe tbody tr th {\n",
       "        vertical-align: top;\n",
       "    }\n",
       "\n",
       "    .dataframe thead th {\n",
       "        text-align: right;\n",
       "    }\n",
       "</style>\n",
       "<table border=\"1\" class=\"dataframe\">\n",
       "  <thead>\n",
       "    <tr style=\"text-align: right;\">\n",
       "      <th></th>\n",
       "      <th>cmte_id</th>\n",
       "      <th>cmte_nm</th>\n",
       "      <th>tres_nm</th>\n",
       "      <th>cmte_st1</th>\n",
       "      <th>cmte_st2</th>\n",
       "      <th>cmte_city</th>\n",
       "      <th>cmte_st</th>\n",
       "      <th>cmte_zip</th>\n",
       "      <th>cmte_dsgn</th>\n",
       "      <th>cmte_tp</th>\n",
       "      <th>cmte_pty_affiliation</th>\n",
       "      <th>cmte_filing_freq</th>\n",
       "      <th>org_tp</th>\n",
       "      <th>connected_org_nm</th>\n",
       "      <th>cand_id</th>\n",
       "      <th>orig_tres_nm</th>\n",
       "      <th>orig_cmte_st1</th>\n",
       "      <th>address</th>\n",
       "    </tr>\n",
       "  </thead>\n",
       "  <tbody>\n",
       "    <tr>\n",
       "      <td>8006</td>\n",
       "      <td>C00575308</td>\n",
       "      <td>NaN</td>\n",
       "      <td>NaN</td>\n",
       "      <td>nan</td>\n",
       "      <td>NaN</td>\n",
       "      <td>NaN</td>\n",
       "      <td>NaN</td>\n",
       "      <td>NaN</td>\n",
       "      <td>NaN</td>\n",
       "      <td>NaN</td>\n",
       "      <td>UNK</td>\n",
       "      <td>A</td>\n",
       "      <td>NaN</td>\n",
       "      <td>NaN</td>\n",
       "      <td>NaN</td>\n",
       "      <td>NaN</td>\n",
       "      <td>NaN</td>\n",
       "      <td>nan, nan, nan nan</td>\n",
       "    </tr>\n",
       "    <tr>\n",
       "      <td>10164</td>\n",
       "      <td>C00616649</td>\n",
       "      <td>NaN</td>\n",
       "      <td>NaN</td>\n",
       "      <td>nan</td>\n",
       "      <td>NaN</td>\n",
       "      <td>NaN</td>\n",
       "      <td>NaN</td>\n",
       "      <td>NaN</td>\n",
       "      <td>NaN</td>\n",
       "      <td>NaN</td>\n",
       "      <td>UNK</td>\n",
       "      <td>A</td>\n",
       "      <td>NaN</td>\n",
       "      <td>NaN</td>\n",
       "      <td>NaN</td>\n",
       "      <td>NaN</td>\n",
       "      <td>NaN</td>\n",
       "      <td>nan, nan, nan nan</td>\n",
       "    </tr>\n",
       "    <tr>\n",
       "      <td>10419</td>\n",
       "      <td>C00619916</td>\n",
       "      <td>NaN</td>\n",
       "      <td>NaN</td>\n",
       "      <td>nan</td>\n",
       "      <td>NaN</td>\n",
       "      <td>NaN</td>\n",
       "      <td>NaN</td>\n",
       "      <td>NaN</td>\n",
       "      <td>NaN</td>\n",
       "      <td>NaN</td>\n",
       "      <td>UNK</td>\n",
       "      <td>A</td>\n",
       "      <td>NaN</td>\n",
       "      <td>NaN</td>\n",
       "      <td>NaN</td>\n",
       "      <td>NaN</td>\n",
       "      <td>NaN</td>\n",
       "      <td>nan, nan, nan nan</td>\n",
       "    </tr>\n",
       "    <tr>\n",
       "      <td>10519</td>\n",
       "      <td>C00621201</td>\n",
       "      <td>NaN</td>\n",
       "      <td>NaN</td>\n",
       "      <td>nan</td>\n",
       "      <td>NaN</td>\n",
       "      <td>NaN</td>\n",
       "      <td>NaN</td>\n",
       "      <td>NaN</td>\n",
       "      <td>NaN</td>\n",
       "      <td>NaN</td>\n",
       "      <td>UNK</td>\n",
       "      <td>A</td>\n",
       "      <td>NaN</td>\n",
       "      <td>NaN</td>\n",
       "      <td>NaN</td>\n",
       "      <td>NaN</td>\n",
       "      <td>NaN</td>\n",
       "      <td>nan, nan, nan nan</td>\n",
       "    </tr>\n",
       "    <tr>\n",
       "      <td>12322</td>\n",
       "      <td>C00641233</td>\n",
       "      <td>NaN</td>\n",
       "      <td>NaN</td>\n",
       "      <td>nan</td>\n",
       "      <td>NaN</td>\n",
       "      <td>NaN</td>\n",
       "      <td>NaN</td>\n",
       "      <td>NaN</td>\n",
       "      <td>NaN</td>\n",
       "      <td>NaN</td>\n",
       "      <td>UNK</td>\n",
       "      <td>A</td>\n",
       "      <td>NaN</td>\n",
       "      <td>NaN</td>\n",
       "      <td>NaN</td>\n",
       "      <td>NaN</td>\n",
       "      <td>NaN</td>\n",
       "      <td>nan, nan, nan nan</td>\n",
       "    </tr>\n",
       "    <tr>\n",
       "      <td>13088</td>\n",
       "      <td>C00653873</td>\n",
       "      <td>NaN</td>\n",
       "      <td>NaN</td>\n",
       "      <td>nan</td>\n",
       "      <td>NaN</td>\n",
       "      <td>NaN</td>\n",
       "      <td>NaN</td>\n",
       "      <td>NaN</td>\n",
       "      <td>NaN</td>\n",
       "      <td>NaN</td>\n",
       "      <td>UNK</td>\n",
       "      <td>A</td>\n",
       "      <td>NaN</td>\n",
       "      <td>NaN</td>\n",
       "      <td>NaN</td>\n",
       "      <td>NaN</td>\n",
       "      <td>NaN</td>\n",
       "      <td>nan, nan, nan nan</td>\n",
       "    </tr>\n",
       "    <tr>\n",
       "      <td>13089</td>\n",
       "      <td>C00653881</td>\n",
       "      <td>NaN</td>\n",
       "      <td>NaN</td>\n",
       "      <td>nan</td>\n",
       "      <td>NaN</td>\n",
       "      <td>NaN</td>\n",
       "      <td>NaN</td>\n",
       "      <td>NaN</td>\n",
       "      <td>NaN</td>\n",
       "      <td>NaN</td>\n",
       "      <td>UNK</td>\n",
       "      <td>A</td>\n",
       "      <td>NaN</td>\n",
       "      <td>NaN</td>\n",
       "      <td>NaN</td>\n",
       "      <td>NaN</td>\n",
       "      <td>NaN</td>\n",
       "      <td>nan, nan, nan nan</td>\n",
       "    </tr>\n",
       "    <tr>\n",
       "      <td>13396</td>\n",
       "      <td>C00657031</td>\n",
       "      <td>NaN</td>\n",
       "      <td>NaN</td>\n",
       "      <td>nan</td>\n",
       "      <td>NaN</td>\n",
       "      <td>NaN</td>\n",
       "      <td>NaN</td>\n",
       "      <td>NaN</td>\n",
       "      <td>NaN</td>\n",
       "      <td>NaN</td>\n",
       "      <td>UNK</td>\n",
       "      <td>A</td>\n",
       "      <td>NaN</td>\n",
       "      <td>NaN</td>\n",
       "      <td>NaN</td>\n",
       "      <td>NaN</td>\n",
       "      <td>NaN</td>\n",
       "      <td>nan, nan, nan nan</td>\n",
       "    </tr>\n",
       "    <tr>\n",
       "      <td>17010</td>\n",
       "      <td>C30001184</td>\n",
       "      <td>NaN</td>\n",
       "      <td>NaN</td>\n",
       "      <td>PO BOX 33524</td>\n",
       "      <td>NaN</td>\n",
       "      <td>WASHINGTON</td>\n",
       "      <td>DC</td>\n",
       "      <td>20033</td>\n",
       "      <td>U</td>\n",
       "      <td>E</td>\n",
       "      <td>UNK</td>\n",
       "      <td>A</td>\n",
       "      <td>NaN</td>\n",
       "      <td>NaN</td>\n",
       "      <td>NaN</td>\n",
       "      <td>NaN</td>\n",
       "      <td>PO BOX 33524</td>\n",
       "      <td>PO BOX 33524, WASHINGTON, DC 20033</td>\n",
       "    </tr>\n",
       "  </tbody>\n",
       "</table>\n",
       "</div>"
      ],
      "text/plain": [
       "         cmte_id cmte_nm tres_nm      cmte_st1 cmte_st2   cmte_city cmte_st  \\\n",
       "8006   C00575308     NaN     NaN           nan      NaN         NaN     NaN   \n",
       "10164  C00616649     NaN     NaN           nan      NaN         NaN     NaN   \n",
       "10419  C00619916     NaN     NaN           nan      NaN         NaN     NaN   \n",
       "10519  C00621201     NaN     NaN           nan      NaN         NaN     NaN   \n",
       "12322  C00641233     NaN     NaN           nan      NaN         NaN     NaN   \n",
       "13088  C00653873     NaN     NaN           nan      NaN         NaN     NaN   \n",
       "13089  C00653881     NaN     NaN           nan      NaN         NaN     NaN   \n",
       "13396  C00657031     NaN     NaN           nan      NaN         NaN     NaN   \n",
       "17010  C30001184     NaN     NaN  PO BOX 33524      NaN  WASHINGTON      DC   \n",
       "\n",
       "      cmte_zip cmte_dsgn cmte_tp cmte_pty_affiliation cmte_filing_freq org_tp  \\\n",
       "8006       NaN       NaN     NaN                  UNK                A    NaN   \n",
       "10164      NaN       NaN     NaN                  UNK                A    NaN   \n",
       "10419      NaN       NaN     NaN                  UNK                A    NaN   \n",
       "10519      NaN       NaN     NaN                  UNK                A    NaN   \n",
       "12322      NaN       NaN     NaN                  UNK                A    NaN   \n",
       "13088      NaN       NaN     NaN                  UNK                A    NaN   \n",
       "13089      NaN       NaN     NaN                  UNK                A    NaN   \n",
       "13396      NaN       NaN     NaN                  UNK                A    NaN   \n",
       "17010    20033         U       E                  UNK                A    NaN   \n",
       "\n",
       "      connected_org_nm cand_id orig_tres_nm orig_cmte_st1  \\\n",
       "8006               NaN     NaN          NaN           NaN   \n",
       "10164              NaN     NaN          NaN           NaN   \n",
       "10419              NaN     NaN          NaN           NaN   \n",
       "10519              NaN     NaN          NaN           NaN   \n",
       "12322              NaN     NaN          NaN           NaN   \n",
       "13088              NaN     NaN          NaN           NaN   \n",
       "13089              NaN     NaN          NaN           NaN   \n",
       "13396              NaN     NaN          NaN           NaN   \n",
       "17010              NaN     NaN          NaN  PO BOX 33524   \n",
       "\n",
       "                                  address  \n",
       "8006                    nan, nan, nan nan  \n",
       "10164                   nan, nan, nan nan  \n",
       "10419                   nan, nan, nan nan  \n",
       "10519                   nan, nan, nan nan  \n",
       "12322                   nan, nan, nan nan  \n",
       "13088                   nan, nan, nan nan  \n",
       "13089                   nan, nan, nan nan  \n",
       "13396                   nan, nan, nan nan  \n",
       "17010  PO BOX 33524, WASHINGTON, DC 20033  "
      ]
     },
     "execution_count": 12,
     "metadata": {},
     "output_type": "execute_result"
    }
   ],
   "source": [
    "# see which have missing cmte_nm\n",
    "cm[cm['cmte_nm'].isnull()]"
   ]
  },
  {
   "cell_type": "code",
   "execution_count": 13,
   "metadata": {},
   "outputs": [],
   "source": [
    "# fill in placeholder cmte_nm\n",
    "cm.loc[cm['cmte_nm'].isnull(), 'cmte_nm'] = '(cmte_nm missing)'"
   ]
  },
  {
   "cell_type": "code",
   "execution_count": 14,
   "metadata": {},
   "outputs": [
    {
     "data": {
      "text/html": [
       "<div>\n",
       "<style scoped>\n",
       "    .dataframe tbody tr th:only-of-type {\n",
       "        vertical-align: middle;\n",
       "    }\n",
       "\n",
       "    .dataframe tbody tr th {\n",
       "        vertical-align: top;\n",
       "    }\n",
       "\n",
       "    .dataframe thead th {\n",
       "        text-align: right;\n",
       "    }\n",
       "</style>\n",
       "<table border=\"1\" class=\"dataframe\">\n",
       "  <thead>\n",
       "    <tr style=\"text-align: right;\">\n",
       "      <th></th>\n",
       "      <th>cmte_id</th>\n",
       "      <th>cmte_nm</th>\n",
       "      <th>tres_nm</th>\n",
       "      <th>cmte_st1</th>\n",
       "      <th>cmte_st2</th>\n",
       "      <th>cmte_city</th>\n",
       "      <th>cmte_st</th>\n",
       "      <th>cmte_zip</th>\n",
       "      <th>cmte_dsgn</th>\n",
       "      <th>cmte_tp</th>\n",
       "      <th>cmte_pty_affiliation</th>\n",
       "      <th>cmte_filing_freq</th>\n",
       "      <th>org_tp</th>\n",
       "      <th>connected_org_nm</th>\n",
       "      <th>cand_id</th>\n",
       "      <th>orig_tres_nm</th>\n",
       "      <th>orig_cmte_st1</th>\n",
       "      <th>address</th>\n",
       "    </tr>\n",
       "  </thead>\n",
       "  <tbody>\n",
       "  </tbody>\n",
       "</table>\n",
       "</div>"
      ],
      "text/plain": [
       "Empty DataFrame\n",
       "Columns: [cmte_id, cmte_nm, tres_nm, cmte_st1, cmte_st2, cmte_city, cmte_st, cmte_zip, cmte_dsgn, cmte_tp, cmte_pty_affiliation, cmte_filing_freq, org_tp, connected_org_nm, cand_id, orig_tres_nm, orig_cmte_st1, address]\n",
       "Index: []"
      ]
     },
     "execution_count": 14,
     "metadata": {},
     "output_type": "execute_result"
    }
   ],
   "source": [
    "# see which have missing address\n",
    "# then see if any other rows have matching cmte_nm\n",
    "cm[cm['address'].isnull()]"
   ]
  },
  {
   "cell_type": "code",
   "execution_count": 15,
   "metadata": {},
   "outputs": [
    {
     "data": {
      "text/plain": [
       "228 S WASHINGTON ST, ALEXANDRIA, VA 22314        156\n",
       "918 PENNSYLVANIA AVE SE, WASHINGTON, DC 20003    112\n",
       "824 S MILLEDGE AVE, ATHENS, GA 30605             101\n",
       "PO BOX 26141, ALEXANDRIA, VA 22313                95\n",
       "700 13TH ST NW, WASHINGTON, DC 20005              61\n",
       "PO BOX 9891, ARLINGTON, VA 22219                  56\n",
       "611 PENNSYLVANIA AVE SE, WASHINGTON, DC 20003     48\n",
       "PO BOX 30844, BETHESDA, MD 20824                  41\n",
       "610 S BLVD, TAMPA, FL 33606                       37\n",
       "777 S FIGUEROA ST, LOS ANGELES, CA 90017          37\n",
       "910 17TH ST NW, WASHINGTON, DC 20006              35\n",
       "PO BOX 15320, WASHINGTON, DC 20003                35\n",
       "5429 MADISON AVE, SACRAMENTO, CA 95841            32\n",
       "PO BOX 75357, WASHINGTON, DC 20013                26\n",
       "555 CAPITOL MALL, SACRAMENTO, CA 95814            26\n",
       "499 SOUTH CAPITOL ST SW, WASHINGTON, DC 20003     24\n",
       "901 N WASHINGTON ST, ALEXANDRIA, VA 22314         24\n",
       "120 MARYLAND AVE NE, WASHINGTON, DC 20002         24\n",
       "249 E OCEAN BLVD, LONG BEACH, CA 90802            22\n",
       "PO BOX 2485, SPRINGFIELD, VA 22152                21\n",
       "Name: address, dtype: int64"
      ]
     },
     "execution_count": 15,
     "metadata": {},
     "output_type": "execute_result"
    }
   ],
   "source": [
    "# see which street addresses appear most frequently\n",
    "cm['address'].value_counts()[:20]"
   ]
  },
  {
   "cell_type": "code",
   "execution_count": 16,
   "metadata": {
    "scrolled": false
   },
   "outputs": [
    {
     "name": "stdout",
     "output_type": "stream",
     "text": [
      "1513\n"
     ]
    },
    {
     "data": {
      "text/plain": [
       "(no treasurer listed)    1518\n",
       "PAUL KILGORE              144\n",
       "JUDITH ZAMORE             108\n",
       "CHRIS MARSTON             106\n",
       "LISA LISKER                88\n",
       "JENNIFER MAY               62\n",
       "JAY PETTERSON              56\n",
       "BENJAMIN OTTENHOFF         55\n",
       "DAVID SATTERFIELD          49\n",
       "CABELL HOBBS               47\n",
       "KEITH DAVIS                44\n",
       "BRADLEY CRATE              43\n",
       "NANCY WATKINS              42\n",
       "JANICA KYRIACOPOULOS       41\n",
       "THOMAS DATWYLER            36\n",
       "STEVEN MARTIN              25\n",
       "ROBERT CARLIN              24\n",
       "TIMOTHY KOCH               23\n",
       "STEVE RALLS                22\n",
       "LORA HAGGARD               22\n",
       "Name: tres_nm, dtype: int64"
      ]
     },
     "execution_count": 16,
     "metadata": {},
     "output_type": "execute_result"
    }
   ],
   "source": [
    "# fill in placeholder for missing treasurer name \n",
    "print(len(cm[cm['tres_nm'].isnull()]))\n",
    "cm.loc[cm['tres_nm'].isnull(), 'tres_nm'] = '(no treasurer listed)'\n",
    "cm.loc[cm['tres_nm'].apply(lambda x: x in ['.', 'NONE', '']), 'tres_nm'] = '(no treasurer listed)'\n",
    "\n",
    "# convert to <first name> <last name> format from <last name>, <first name>\n",
    "cm['tres_nm'] = [' '.join([' '.join(x.split(', ')[1:]), x.split(', ')[0]]) if ', ' in \\\n",
    "                 x else x for x in cm['tres_nm']]\n",
    "# clean up spacing\n",
    "# looks like this could just be ' '.join(x.strip()) \n",
    "# but i feel like i did it this way for a reason... leaving it\n",
    "cm['tres_nm'] = [' '.join([x for x in list(x.split(' ')) if len(x) > 1]).strip() for \\\n",
    "                 x in cm['tres_nm']]\n",
    "\n",
    "# prep for deduping\n",
    "\n",
    "# substitutions\n",
    "subs = {\n",
    "    'XAVUER' : 'XAVIER',\n",
    "    'JSOEPH' : 'JOSEPH',\n",
    "    'WILLAIM' : 'WILLIAM',\n",
    "    'V?RONIQUE' : 'VERONIQUE',\n",
    "    '.' : '',\n",
    "    ',' : '',\n",
    "    \n",
    "}\n",
    "for key in list(subs.keys()):\n",
    "    cm['tres_nm'] = [x.replace(key, subs[key]) for x in cm['tres_nm']]\n",
    "\n",
    "# drops\n",
    "drops = [\n",
    "    'MRS',\n",
    "    'MS',\n",
    "    'MR',\n",
    "    'MISS',\n",
    "    'JR',\n",
    "    'SR',\n",
    "    'UNDEFINED',\n",
    "    'JD',\n",
    "    'CPA',\n",
    "    'HONORABLE',\n",
    "    'FED',\n",
    "    'II', \n",
    "    'III',\n",
    "    'IV',\n",
    "    'ESQ',\n",
    "    'DR',\n",
    "    'MD',\n",
    "    'DO',\n",
    "    'CFO',\n",
    "    'CEO',\n",
    "    'CTO',\n",
    "    'TREAS',\n",
    "    'US',\n",
    "    '1970',\n",
    "    '--SELECT',\n",
    "    '1973',\n",
    "    '1979',\n",
    "    \n",
    "]\n",
    "for droplet in drops:\n",
    "    cm['tres_nm'] = [' '.join([x for x in x.split() if \\\n",
    "                               ((x not in drops) & (len(x) > 1))]) for x in cm['tres_nm']]\n",
    "\n",
    "# a bunch of entries have last name appearing twice; \n",
    "# check for this and keep only first instance\n",
    "cm['tres_nm'] = [x.split() for x in cm['tres_nm']]\n",
    "def f7(seq):\n",
    "    '''https://stackoverflow.com/questions/480214/\\\n",
    "    how-do-you-remove-duplicates-from-a-list-whilst-preserving-order'''\n",
    "    seen = set()\n",
    "    seen_add = seen.add\n",
    "    return [x for x in seq if not (x in seen or seen_add(x))]            \n",
    "cm['tres_nm'] = [' '.join(f7(x)) for x in cm['tres_nm']]\n",
    "\n",
    "# see tres_nms appearing most frequently\n",
    "cm['tres_nm'].value_counts()[:20]"
   ]
  },
  {
   "cell_type": "code",
   "execution_count": 17,
   "metadata": {},
   "outputs": [
    {
     "data": {
      "text/plain": [
       "nan, nan, nan nan                                 16\n",
       "1201 CONNECTICUT AVE NW, WASHINGTON, DC 20036     10\n",
       "700 13TH ST NW, WASHINGTON, DC 20005               6\n",
       "815 16TH ST NW, WASHINGTON, DC 20006               5\n",
       "300 M ST SE, WASHINGTON, DC 20003                  5\n",
       "555 CAPITOL MALL, SACRAMENTO, CA 95814             5\n",
       "1120 CONNECTICUT AVE NW, WASHINGTON, DC 20036      4\n",
       "5429 MADISON AVE, SACRAMENTO, CA 95841             4\n",
       "1401 NEW YORK AVE NW, WASHINGTON, DC 20005         4\n",
       "1747 PENNSYLVANIA AVE NW, WASHINGTON, DC 20006     4\n",
       "PO BOX 2259, WILMINGTON, NC 28402                  4\n",
       "1875 CONNECTICUT AVE NW, WASHINGTON, DC 20009      3\n",
       "414 N ORLEANS PLAZA, CHICAGO, IL 60654             3\n",
       "50 F ST NW, WASHINGTON, DC 20001                   3\n",
       "8655 EXPLORER DR, COLORADO SPRINGS, CO 80920       3\n",
       "2525 W ALAMEDA AVE, DENVER, CO 80219               3\n",
       "1201 15TH ST NW, WASHINGTON, DC 20005              3\n",
       "1615 H ST NW, WASHINGTON, DC 20062                 3\n",
       "1150 GRAND BLVD, KANSAS CITY, MO 64106             3\n",
       "515 KING ST, ALEXANDRIA, VA 22314                  3\n",
       "Name: address, dtype: int64"
      ]
     },
     "execution_count": 17,
     "metadata": {},
     "output_type": "execute_result"
    }
   ],
   "source": [
    "# what is street address of committees not listing treasurer\n",
    "cm.loc[cm['tres_nm'] == '(no treasurer listed)', 'address'].value_counts()[:20]"
   ]
  },
  {
   "cell_type": "code",
   "execution_count": 18,
   "metadata": {},
   "outputs": [
    {
     "data": {
      "text/plain": [
       "['CONSTITUTIONAL RESPONSIBILITY PROJECT',\n",
       " 'SOCAL HEALTH CARE COALITION A PROJECT OF SIXTEEN THIRTY FUND',\n",
       " 'FLORIDIANS FOR A FAIR SHAKE A PROJECT OF SIXTEEN THIRTY FUND',\n",
       " 'DEMAND JUSTICE A PROJECT OF SIXTEEN THIRTY FUND',\n",
       " 'SIXTEEN THIRTY FUND / MAKE IT WORK AMERICA1',\n",
       " 'SIXTEEN THIRTY FUND/MAKE IT WORK ACTION',\n",
       " 'SIXTEEN THIRTY FUND/NOT ONE PENNY',\n",
       " 'FLORIDIANS FOR A FAIR SHAKE A PROJECT OF SIXTEEN THIRTY FUND',\n",
       " 'SOCAL HEALTH CARE COALITION A PROJECT OF SIXTEEN THIRTY FUND',\n",
       " 'OHIOANS FOR ECONOMIC OPPORTUNITY A PROJECT OF SIXTEEN THIRTY FUND']"
      ]
     },
     "execution_count": 18,
     "metadata": {},
     "output_type": "execute_result"
    }
   ],
   "source": [
    "list(cm.loc[cm['address'] == '1201 CONNECTICUT AVE NW, WASHINGTON, DC 20036', 'cmte_nm'])"
   ]
  },
  {
   "cell_type": "code",
   "execution_count": 19,
   "metadata": {},
   "outputs": [
    {
     "data": {
      "text/plain": [
       "['MAJORITY FORWARD',\n",
       " 'MAJORITY FORWARD',\n",
       " 'AMERICA WORKING TOGETHER',\n",
       " 'DUTY AND HONOR',\n",
       " 'BLACK PROGRESSIVE ACTION COALITION',\n",
       " 'BLACK ECONOMIC ALLIANCE FUND']"
      ]
     },
     "execution_count": 19,
     "metadata": {},
     "output_type": "execute_result"
    }
   ],
   "source": [
    "list(cm.loc[\n",
    "    (cm['address'] == '700 13TH ST NW, WASHINGTON, DC 20005') & \\\n",
    "    (cm['tres_nm'] == '(no treasurer listed)'), 'cmte_nm'])"
   ]
  },
  {
   "cell_type": "code",
   "execution_count": 20,
   "metadata": {},
   "outputs": [
    {
     "data": {
      "text/plain": [
       "['PLANNED PARENTHOOD ADVOCACY PROJECT LOS ANGELES COUNTY',\n",
       " 'PLANNED PARENTHOOD AFFILIATES OF CALIF',\n",
       " 'ALAMEDANS UNITED SUPPORTING VELLA AND ASHCRAFT FOR CITY COUNCIL, ET AL',\n",
       " 'OPPORTUNITY PAC - A COALITION OF TEACHERS HEALTH CARE GIVERS FACULTY MEMBERS SCHOOL EMPLOYEES AND PUBLIC AND PR',\n",
       " 'GOLDEN CALIFORNIA COMMITTEE SPONSORED BY THE SEIU CALIFORNIA STATE COUNCIL']"
      ]
     },
     "execution_count": 20,
     "metadata": {},
     "output_type": "execute_result"
    }
   ],
   "source": [
    "list(cm.loc[\n",
    "    (cm['address'] == '555 CAPITOL MALL, SACRAMENTO, CA 95814') & \\\n",
    "    (cm['tres_nm'] == '(no treasurer listed)'), 'cmte_nm'])"
   ]
  },
  {
   "cell_type": "markdown",
   "metadata": {},
   "source": [
    "### Dedupe treasurer names\n",
    "\n",
    "This is a journey."
   ]
  },
  {
   "cell_type": "code",
   "execution_count": 21,
   "metadata": {},
   "outputs": [],
   "source": [
    "def findall(name):\n",
    "    '''find pattern in treasurer names columns'''\n",
    "    all_tres = list(set(cm['tres_nm']))\n",
    "    if type(name) == str:\n",
    "        these = [x for x in all_tres if name.lower() in str(x).lower()]\n",
    "    else:  \n",
    "        these = all_tres\n",
    "        for which in name:\n",
    "            these = [x for x in these if which in str(x).lower()]\n",
    "    return sorted(these)"
   ]
  },
  {
   "cell_type": "code",
   "execution_count": 22,
   "metadata": {},
   "outputs": [],
   "source": [
    "def getall(these, new):\n",
    "    '''assign deduped treasurer name'''\n",
    "    print('orig len:', len(cm[cm['tres_nm'] == new]))\n",
    "    for which in these:\n",
    "        cm.loc[cm['tres_nm'] == which, 'tres_nm'] = new\n",
    "    print('new len:', len(cm[cm['tres_nm'] == new]))\n",
    "    return "
   ]
  },
  {
   "cell_type": "code",
   "execution_count": 23,
   "metadata": {},
   "outputs": [],
   "source": [
    "# this list keeps track of the ones we've already addressed\n",
    "dones = ['(no treasurer listed)']"
   ]
  },
  {
   "cell_type": "code",
   "execution_count": 24,
   "metadata": {},
   "outputs": [
    {
     "data": {
      "text/plain": [
       "['EDWIN JAY KILPATRICK',\n",
       " 'GERALD KILPATRICK',\n",
       " 'JEFFREY TUTTLE KILLEEN',\n",
       " 'KEVIN KILEY',\n",
       " 'LAURA KILMER',\n",
       " 'LAWRENCE KILGORE',\n",
       " 'MEAGHAN KILLION JOYCE',\n",
       " 'MILES KILCOIN',\n",
       " 'PAUL KILGORE',\n",
       " 'RACHEL KILPATRICK',\n",
       " 'TERRY KILROY',\n",
       " 'WILLIAM KILLMER']"
      ]
     },
     "execution_count": 24,
     "metadata": {},
     "output_type": "execute_result"
    }
   ],
   "source": [
    "findall(' kil')"
   ]
  },
  {
   "cell_type": "code",
   "execution_count": 25,
   "metadata": {},
   "outputs": [
    {
     "data": {
      "text/plain": [
       "['JONATHAN JOYCE', 'MEAGHAN KILLION JOYCE', 'STEPHEN JOYCE']"
      ]
     },
     "execution_count": 25,
     "metadata": {},
     "output_type": "execute_result"
    }
   ],
   "source": [
    "findall(' joyce')"
   ]
  },
  {
   "cell_type": "code",
   "execution_count": 26,
   "metadata": {},
   "outputs": [],
   "source": [
    "dones.extend(findall(' kil'))"
   ]
  },
  {
   "cell_type": "code",
   "execution_count": 27,
   "metadata": {},
   "outputs": [
    {
     "data": {
      "text/plain": [
       "['(no treasurer listed)',\n",
       " 'EVAN ROGER LISTOPAD',\n",
       " 'JOHN LISTAK',\n",
       " 'LISA LISKER',\n",
       " 'SUSIE LISA']"
      ]
     },
     "execution_count": 27,
     "metadata": {},
     "output_type": "execute_result"
    }
   ],
   "source": [
    "findall(' lis')"
   ]
  },
  {
   "cell_type": "code",
   "execution_count": 28,
   "metadata": {},
   "outputs": [],
   "source": [
    "dones.extend(findall(' lis'))"
   ]
  },
  {
   "cell_type": "code",
   "execution_count": 29,
   "metadata": {},
   "outputs": [
    {
     "data": {
      "text/plain": [
       "['LISA LISKER']"
      ]
     },
     "execution_count": 29,
     "metadata": {},
     "output_type": "execute_result"
    }
   ],
   "source": [
    "findall('lisker')"
   ]
  },
  {
   "cell_type": "code",
   "execution_count": 30,
   "metadata": {},
   "outputs": [
    {
     "name": "stdout",
     "output_type": "stream",
     "text": [
      "orig len: 88\n",
      "new len: 88\n"
     ]
    }
   ],
   "source": [
    "new = 'LISA LISKER'\n",
    "dones.append(new)\n",
    "\n",
    "these = findall('lisker')\n",
    "\n",
    "getall(these, new)"
   ]
  },
  {
   "cell_type": "code",
   "execution_count": 31,
   "metadata": {},
   "outputs": [
    {
     "data": {
      "text/plain": [
       "['CHRIS MARSTEN', 'CHRIS MARSTON', 'CHRISTOPHER MARSTON']"
      ]
     },
     "execution_count": 31,
     "metadata": {},
     "output_type": "execute_result"
    }
   ],
   "source": [
    "findall(['c', 'marst'])"
   ]
  },
  {
   "cell_type": "code",
   "execution_count": 32,
   "metadata": {},
   "outputs": [
    {
     "data": {
      "text/html": [
       "<div>\n",
       "<style scoped>\n",
       "    .dataframe tbody tr th:only-of-type {\n",
       "        vertical-align: middle;\n",
       "    }\n",
       "\n",
       "    .dataframe tbody tr th {\n",
       "        vertical-align: top;\n",
       "    }\n",
       "\n",
       "    .dataframe thead th {\n",
       "        text-align: right;\n",
       "    }\n",
       "</style>\n",
       "<table border=\"1\" class=\"dataframe\">\n",
       "  <thead>\n",
       "    <tr style=\"text-align: right;\">\n",
       "      <th></th>\n",
       "      <th>cmte_id</th>\n",
       "      <th>cmte_nm</th>\n",
       "      <th>tres_nm</th>\n",
       "      <th>cmte_st1</th>\n",
       "      <th>cmte_st2</th>\n",
       "      <th>cmte_city</th>\n",
       "      <th>cmte_st</th>\n",
       "      <th>cmte_zip</th>\n",
       "      <th>cmte_dsgn</th>\n",
       "      <th>cmte_tp</th>\n",
       "      <th>cmte_pty_affiliation</th>\n",
       "      <th>cmte_filing_freq</th>\n",
       "      <th>org_tp</th>\n",
       "      <th>connected_org_nm</th>\n",
       "      <th>cand_id</th>\n",
       "      <th>orig_tres_nm</th>\n",
       "      <th>orig_cmte_st1</th>\n",
       "      <th>address</th>\n",
       "    </tr>\n",
       "  </thead>\n",
       "  <tbody>\n",
       "    <tr>\n",
       "      <td>11508</td>\n",
       "      <td>C00632760</td>\n",
       "      <td>WHITE COAT WASTE PAC</td>\n",
       "      <td>CHRIS MARSTEN</td>\n",
       "      <td>PO BOX 26141</td>\n",
       "      <td>NaN</td>\n",
       "      <td>ALEXANDRIA</td>\n",
       "      <td>VA</td>\n",
       "      <td>22313</td>\n",
       "      <td>U</td>\n",
       "      <td>Q</td>\n",
       "      <td>UNK</td>\n",
       "      <td>Q</td>\n",
       "      <td>NaN</td>\n",
       "      <td>NaN</td>\n",
       "      <td>NaN</td>\n",
       "      <td>CHRIS MARSTEN</td>\n",
       "      <td>PO BOX 26141</td>\n",
       "      <td>PO BOX 26141, ALEXANDRIA, VA 22313</td>\n",
       "    </tr>\n",
       "    <tr>\n",
       "      <td>12366</td>\n",
       "      <td>C00646463</td>\n",
       "      <td>BUCKEYE BATTLE PAC</td>\n",
       "      <td>CHRIS MARSTEN</td>\n",
       "      <td>PO BOX 26141</td>\n",
       "      <td>NaN</td>\n",
       "      <td>ALEXANDRIA</td>\n",
       "      <td>VA</td>\n",
       "      <td>22313</td>\n",
       "      <td>U</td>\n",
       "      <td>O</td>\n",
       "      <td>UNK</td>\n",
       "      <td>T</td>\n",
       "      <td>NaN</td>\n",
       "      <td>NaN</td>\n",
       "      <td>NaN</td>\n",
       "      <td>CHRIS MARSTEN</td>\n",
       "      <td>PO BOX 26141</td>\n",
       "      <td>PO BOX 26141, ALEXANDRIA, VA 22313</td>\n",
       "    </tr>\n",
       "    <tr>\n",
       "      <td>14309</td>\n",
       "      <td>C00666511</td>\n",
       "      <td>WE STAND FOR BETTER</td>\n",
       "      <td>CHRIS MARSTEN</td>\n",
       "      <td>PO BOX 26141</td>\n",
       "      <td>NaN</td>\n",
       "      <td>ALEXANDRIA</td>\n",
       "      <td>VA</td>\n",
       "      <td>22313</td>\n",
       "      <td>U</td>\n",
       "      <td>O</td>\n",
       "      <td>UNK</td>\n",
       "      <td>Q</td>\n",
       "      <td>NaN</td>\n",
       "      <td>NaN</td>\n",
       "      <td>NaN</td>\n",
       "      <td>CHRIS MARSTEN</td>\n",
       "      <td>PO BOX 26141</td>\n",
       "      <td>PO BOX 26141, ALEXANDRIA, VA 22313</td>\n",
       "    </tr>\n",
       "  </tbody>\n",
       "</table>\n",
       "</div>"
      ],
      "text/plain": [
       "         cmte_id               cmte_nm        tres_nm      cmte_st1 cmte_st2  \\\n",
       "11508  C00632760  WHITE COAT WASTE PAC  CHRIS MARSTEN  PO BOX 26141      NaN   \n",
       "12366  C00646463    BUCKEYE BATTLE PAC  CHRIS MARSTEN  PO BOX 26141      NaN   \n",
       "14309  C00666511   WE STAND FOR BETTER  CHRIS MARSTEN  PO BOX 26141      NaN   \n",
       "\n",
       "        cmte_city cmte_st cmte_zip cmte_dsgn cmte_tp cmte_pty_affiliation  \\\n",
       "11508  ALEXANDRIA      VA    22313         U       Q                  UNK   \n",
       "12366  ALEXANDRIA      VA    22313         U       O                  UNK   \n",
       "14309  ALEXANDRIA      VA    22313         U       O                  UNK   \n",
       "\n",
       "      cmte_filing_freq org_tp connected_org_nm cand_id   orig_tres_nm  \\\n",
       "11508                Q    NaN              NaN     NaN  CHRIS MARSTEN   \n",
       "12366                T    NaN              NaN     NaN  CHRIS MARSTEN   \n",
       "14309                Q    NaN              NaN     NaN  CHRIS MARSTEN   \n",
       "\n",
       "      orig_cmte_st1                             address  \n",
       "11508  PO BOX 26141  PO BOX 26141, ALEXANDRIA, VA 22313  \n",
       "12366  PO BOX 26141  PO BOX 26141, ALEXANDRIA, VA 22313  \n",
       "14309  PO BOX 26141  PO BOX 26141, ALEXANDRIA, VA 22313  "
      ]
     },
     "execution_count": 32,
     "metadata": {},
     "output_type": "execute_result"
    }
   ],
   "source": [
    "cm[cm['tres_nm'] == 'CHRIS MARSTEN']"
   ]
  },
  {
   "cell_type": "code",
   "execution_count": 33,
   "metadata": {},
   "outputs": [
    {
     "data": {
      "text/html": [
       "<div>\n",
       "<style scoped>\n",
       "    .dataframe tbody tr th:only-of-type {\n",
       "        vertical-align: middle;\n",
       "    }\n",
       "\n",
       "    .dataframe tbody tr th {\n",
       "        vertical-align: top;\n",
       "    }\n",
       "\n",
       "    .dataframe thead th {\n",
       "        text-align: right;\n",
       "    }\n",
       "</style>\n",
       "<table border=\"1\" class=\"dataframe\">\n",
       "  <thead>\n",
       "    <tr style=\"text-align: right;\">\n",
       "      <th></th>\n",
       "      <th>cmte_id</th>\n",
       "      <th>cmte_nm</th>\n",
       "      <th>tres_nm</th>\n",
       "      <th>cmte_st1</th>\n",
       "      <th>cmte_st2</th>\n",
       "      <th>cmte_city</th>\n",
       "      <th>cmte_st</th>\n",
       "      <th>cmte_zip</th>\n",
       "      <th>cmte_dsgn</th>\n",
       "      <th>cmte_tp</th>\n",
       "      <th>cmte_pty_affiliation</th>\n",
       "      <th>cmte_filing_freq</th>\n",
       "      <th>org_tp</th>\n",
       "      <th>connected_org_nm</th>\n",
       "      <th>cand_id</th>\n",
       "      <th>orig_tres_nm</th>\n",
       "      <th>orig_cmte_st1</th>\n",
       "      <th>address</th>\n",
       "    </tr>\n",
       "  </thead>\n",
       "  <tbody>\n",
       "    <tr>\n",
       "      <td>3558</td>\n",
       "      <td>C00433524</td>\n",
       "      <td>DUNCAN D. HUNTER FOR CONGRESS</td>\n",
       "      <td>CHRIS MARSTON</td>\n",
       "      <td>PO BOX 1545</td>\n",
       "      <td>NaN</td>\n",
       "      <td>EL CAJON</td>\n",
       "      <td>CA</td>\n",
       "      <td>92022</td>\n",
       "      <td>P</td>\n",
       "      <td>H</td>\n",
       "      <td>REP</td>\n",
       "      <td>Q</td>\n",
       "      <td>NaN</td>\n",
       "      <td>HUNTER VICTORY FUND</td>\n",
       "      <td>H8CA52052</td>\n",
       "      <td>MARSTON, CHRIS</td>\n",
       "      <td>PO BOX 1545</td>\n",
       "      <td>PO BOX 1545, EL CAJON, CA 92022</td>\n",
       "    </tr>\n",
       "    <tr>\n",
       "      <td>3723</td>\n",
       "      <td>C00441014</td>\n",
       "      <td>ROB WITTMAN FOR CONGRESS</td>\n",
       "      <td>CHRIS MARSTON</td>\n",
       "      <td>PO BOX 3770</td>\n",
       "      <td>NaN</td>\n",
       "      <td>OAKTON</td>\n",
       "      <td>VA</td>\n",
       "      <td>22124</td>\n",
       "      <td>P</td>\n",
       "      <td>H</td>\n",
       "      <td>REP</td>\n",
       "      <td>Q</td>\n",
       "      <td>NaN</td>\n",
       "      <td>WITTMAN VICTORY COMMITTEE</td>\n",
       "      <td>H8VA01147</td>\n",
       "      <td>MARSTON, CHRIS</td>\n",
       "      <td>PO BOX 3770</td>\n",
       "      <td>PO BOX 3770, OAKTON, VA 22124</td>\n",
       "    </tr>\n",
       "    <tr>\n",
       "      <td>3919</td>\n",
       "      <td>C00449926</td>\n",
       "      <td>AMERICAN FUTURE FUND POLITICAL ACTION</td>\n",
       "      <td>CHRIS MARSTON</td>\n",
       "      <td>45 N HILL DR</td>\n",
       "      <td>STE 100</td>\n",
       "      <td>WARRENTON</td>\n",
       "      <td>VA</td>\n",
       "      <td>20186</td>\n",
       "      <td>U</td>\n",
       "      <td>W</td>\n",
       "      <td>UNK</td>\n",
       "      <td>M</td>\n",
       "      <td>NaN</td>\n",
       "      <td>NaN</td>\n",
       "      <td>NaN</td>\n",
       "      <td>MARSTON, CHRIS</td>\n",
       "      <td>45 N HILL DR</td>\n",
       "      <td>45 N HILL DR, WARRENTON, VA 20186</td>\n",
       "    </tr>\n",
       "    <tr>\n",
       "      <td>4932</td>\n",
       "      <td>C00486738</td>\n",
       "      <td>MANY INDIVIDUAL CONSERVATIVES HELPING ELECT LE...</td>\n",
       "      <td>CHRIS MARSTON</td>\n",
       "      <td>PO BOX 26141</td>\n",
       "      <td>NaN</td>\n",
       "      <td>ALEXANDRIA</td>\n",
       "      <td>VA</td>\n",
       "      <td>22313</td>\n",
       "      <td>D</td>\n",
       "      <td>Q</td>\n",
       "      <td>UNK</td>\n",
       "      <td>Q</td>\n",
       "      <td>NaN</td>\n",
       "      <td>MICHELE BACHMANN</td>\n",
       "      <td>NaN</td>\n",
       "      <td>MARSTON, CHRIS</td>\n",
       "      <td>PO BOX 26141</td>\n",
       "      <td>PO BOX 26141, ALEXANDRIA, VA 22313</td>\n",
       "    </tr>\n",
       "    <tr>\n",
       "      <td>5364</td>\n",
       "      <td>C00499020</td>\n",
       "      <td>FREEDOMWORKS FOR AMERICA</td>\n",
       "      <td>CHRIS MARSTON</td>\n",
       "      <td>111 K ST NE</td>\n",
       "      <td>STE 600</td>\n",
       "      <td>WASHINGTON</td>\n",
       "      <td>DC</td>\n",
       "      <td>20002</td>\n",
       "      <td>U</td>\n",
       "      <td>O</td>\n",
       "      <td>UNK</td>\n",
       "      <td>Q</td>\n",
       "      <td>NaN</td>\n",
       "      <td>NONE</td>\n",
       "      <td>NaN</td>\n",
       "      <td>MARSTON, CHRIS</td>\n",
       "      <td>111 K ST NE</td>\n",
       "      <td>111 K ST NE, WASHINGTON, DC 20002</td>\n",
       "    </tr>\n",
       "  </tbody>\n",
       "</table>\n",
       "</div>"
      ],
      "text/plain": [
       "        cmte_id                                            cmte_nm  \\\n",
       "3558  C00433524                      DUNCAN D. HUNTER FOR CONGRESS   \n",
       "3723  C00441014                           ROB WITTMAN FOR CONGRESS   \n",
       "3919  C00449926              AMERICAN FUTURE FUND POLITICAL ACTION   \n",
       "4932  C00486738  MANY INDIVIDUAL CONSERVATIVES HELPING ELECT LE...   \n",
       "5364  C00499020                           FREEDOMWORKS FOR AMERICA   \n",
       "\n",
       "            tres_nm      cmte_st1 cmte_st2   cmte_city cmte_st cmte_zip  \\\n",
       "3558  CHRIS MARSTON   PO BOX 1545      NaN    EL CAJON      CA    92022   \n",
       "3723  CHRIS MARSTON   PO BOX 3770      NaN      OAKTON      VA    22124   \n",
       "3919  CHRIS MARSTON  45 N HILL DR  STE 100   WARRENTON      VA    20186   \n",
       "4932  CHRIS MARSTON  PO BOX 26141      NaN  ALEXANDRIA      VA    22313   \n",
       "5364  CHRIS MARSTON   111 K ST NE  STE 600  WASHINGTON      DC    20002   \n",
       "\n",
       "     cmte_dsgn cmte_tp cmte_pty_affiliation cmte_filing_freq org_tp  \\\n",
       "3558         P       H                  REP                Q    NaN   \n",
       "3723         P       H                  REP                Q    NaN   \n",
       "3919         U       W                  UNK                M    NaN   \n",
       "4932         D       Q                  UNK                Q    NaN   \n",
       "5364         U       O                  UNK                Q    NaN   \n",
       "\n",
       "               connected_org_nm    cand_id    orig_tres_nm orig_cmte_st1  \\\n",
       "3558        HUNTER VICTORY FUND  H8CA52052  MARSTON, CHRIS   PO BOX 1545   \n",
       "3723  WITTMAN VICTORY COMMITTEE  H8VA01147  MARSTON, CHRIS   PO BOX 3770   \n",
       "3919                        NaN        NaN  MARSTON, CHRIS  45 N HILL DR   \n",
       "4932           MICHELE BACHMANN        NaN  MARSTON, CHRIS  PO BOX 26141   \n",
       "5364                       NONE        NaN  MARSTON, CHRIS   111 K ST NE   \n",
       "\n",
       "                                 address  \n",
       "3558     PO BOX 1545, EL CAJON, CA 92022  \n",
       "3723       PO BOX 3770, OAKTON, VA 22124  \n",
       "3919   45 N HILL DR, WARRENTON, VA 20186  \n",
       "4932  PO BOX 26141, ALEXANDRIA, VA 22313  \n",
       "5364   111 K ST NE, WASHINGTON, DC 20002  "
      ]
     },
     "execution_count": 33,
     "metadata": {},
     "output_type": "execute_result"
    }
   ],
   "source": [
    "cm[cm['tres_nm'] == 'CHRIS MARSTON'].head()"
   ]
  },
  {
   "cell_type": "code",
   "execution_count": 34,
   "metadata": {},
   "outputs": [
    {
     "name": "stdout",
     "output_type": "stream",
     "text": [
      "orig len: 13\n",
      "new len: 122\n"
     ]
    }
   ],
   "source": [
    "new = 'CHRISTOPHER MARSTON'\n",
    "dones.append(new)\n",
    "\n",
    "these = findall(['c', 'marst'])\n",
    "\n",
    "getall(these, new)"
   ]
  },
  {
   "cell_type": "code",
   "execution_count": 35,
   "metadata": {},
   "outputs": [
    {
     "data": {
      "text/plain": [
       "['ERNESTO MARTINEZ', 'STEVEN MARTIN']"
      ]
     },
     "execution_count": 35,
     "metadata": {},
     "output_type": "execute_result"
    }
   ],
   "source": [
    "findall(['st', ' martin'])"
   ]
  },
  {
   "cell_type": "code",
   "execution_count": 36,
   "metadata": {},
   "outputs": [
    {
     "data": {
      "text/html": [
       "<div>\n",
       "<style scoped>\n",
       "    .dataframe tbody tr th:only-of-type {\n",
       "        vertical-align: middle;\n",
       "    }\n",
       "\n",
       "    .dataframe tbody tr th {\n",
       "        vertical-align: top;\n",
       "    }\n",
       "\n",
       "    .dataframe thead th {\n",
       "        text-align: right;\n",
       "    }\n",
       "</style>\n",
       "<table border=\"1\" class=\"dataframe\">\n",
       "  <thead>\n",
       "    <tr style=\"text-align: right;\">\n",
       "      <th></th>\n",
       "      <th>cmte_id</th>\n",
       "      <th>cmte_nm</th>\n",
       "      <th>tres_nm</th>\n",
       "      <th>cmte_st1</th>\n",
       "      <th>cmte_st2</th>\n",
       "      <th>cmte_city</th>\n",
       "      <th>cmte_st</th>\n",
       "      <th>cmte_zip</th>\n",
       "      <th>cmte_dsgn</th>\n",
       "      <th>cmte_tp</th>\n",
       "      <th>cmte_pty_affiliation</th>\n",
       "      <th>cmte_filing_freq</th>\n",
       "      <th>org_tp</th>\n",
       "      <th>connected_org_nm</th>\n",
       "      <th>cand_id</th>\n",
       "      <th>orig_tres_nm</th>\n",
       "      <th>orig_cmte_st1</th>\n",
       "      <th>address</th>\n",
       "    </tr>\n",
       "  </thead>\n",
       "  <tbody>\n",
       "  </tbody>\n",
       "</table>\n",
       "</div>"
      ],
      "text/plain": [
       "Empty DataFrame\n",
       "Columns: [cmte_id, cmte_nm, tres_nm, cmte_st1, cmte_st2, cmte_city, cmte_st, cmte_zip, cmte_dsgn, cmte_tp, cmte_pty_affiliation, cmte_filing_freq, org_tp, connected_org_nm, cand_id, orig_tres_nm, orig_cmte_st1, address]\n",
       "Index: []"
      ]
     },
     "execution_count": 36,
     "metadata": {},
     "output_type": "execute_result"
    }
   ],
   "source": [
    "cm[cm['tres_nm'] == 'STEVE MARTIN']"
   ]
  },
  {
   "cell_type": "code",
   "execution_count": 37,
   "metadata": {},
   "outputs": [
    {
     "data": {
      "text/html": [
       "<div>\n",
       "<style scoped>\n",
       "    .dataframe tbody tr th:only-of-type {\n",
       "        vertical-align: middle;\n",
       "    }\n",
       "\n",
       "    .dataframe tbody tr th {\n",
       "        vertical-align: top;\n",
       "    }\n",
       "\n",
       "    .dataframe thead th {\n",
       "        text-align: right;\n",
       "    }\n",
       "</style>\n",
       "<table border=\"1\" class=\"dataframe\">\n",
       "  <thead>\n",
       "    <tr style=\"text-align: right;\">\n",
       "      <th></th>\n",
       "      <th>cmte_id</th>\n",
       "      <th>cmte_nm</th>\n",
       "      <th>tres_nm</th>\n",
       "      <th>cmte_st1</th>\n",
       "      <th>cmte_st2</th>\n",
       "      <th>cmte_city</th>\n",
       "      <th>cmte_st</th>\n",
       "      <th>cmte_zip</th>\n",
       "      <th>cmte_dsgn</th>\n",
       "      <th>cmte_tp</th>\n",
       "      <th>cmte_pty_affiliation</th>\n",
       "      <th>cmte_filing_freq</th>\n",
       "      <th>org_tp</th>\n",
       "      <th>connected_org_nm</th>\n",
       "      <th>cand_id</th>\n",
       "      <th>orig_tres_nm</th>\n",
       "      <th>orig_cmte_st1</th>\n",
       "      <th>address</th>\n",
       "    </tr>\n",
       "  </thead>\n",
       "  <tbody>\n",
       "    <tr>\n",
       "      <td>1361</td>\n",
       "      <td>C00233353</td>\n",
       "      <td>AD ALLIANCE</td>\n",
       "      <td>STEVEN MARTIN</td>\n",
       "      <td>PO BOX 30844</td>\n",
       "      <td>NaN</td>\n",
       "      <td>BETHESDA</td>\n",
       "      <td>MD</td>\n",
       "      <td>20824</td>\n",
       "      <td>B</td>\n",
       "      <td>Q</td>\n",
       "      <td>UNK</td>\n",
       "      <td>M</td>\n",
       "      <td>M</td>\n",
       "      <td>NONE</td>\n",
       "      <td>NaN</td>\n",
       "      <td>MARTIN, STEVEN JR.</td>\n",
       "      <td>PO BOX 30844</td>\n",
       "      <td>PO BOX 30844, BETHESDA, MD 20824</td>\n",
       "    </tr>\n",
       "    <tr>\n",
       "      <td>2507</td>\n",
       "      <td>C00372532</td>\n",
       "      <td>MICHAEL BURGESS FOR CONGRESS</td>\n",
       "      <td>STEVEN MARTIN</td>\n",
       "      <td>PO BOX 2334</td>\n",
       "      <td>NaN</td>\n",
       "      <td>DENTON</td>\n",
       "      <td>TX</td>\n",
       "      <td>76202</td>\n",
       "      <td>P</td>\n",
       "      <td>H</td>\n",
       "      <td>REP</td>\n",
       "      <td>Q</td>\n",
       "      <td>NaN</td>\n",
       "      <td>CARE AMERICA</td>\n",
       "      <td>H2TX26093</td>\n",
       "      <td>MARTIN, STEVEN G. JR.</td>\n",
       "      <td>PO BOX 2334</td>\n",
       "      <td>PO BOX 2334, DENTON, TX 76202</td>\n",
       "    </tr>\n",
       "    <tr>\n",
       "      <td>3207</td>\n",
       "      <td>C00415208</td>\n",
       "      <td>LONE STAR LEADERSHIP PAC</td>\n",
       "      <td>STEVEN MARTIN</td>\n",
       "      <td>PO BOX 30844</td>\n",
       "      <td>NaN</td>\n",
       "      <td>BETHESDA</td>\n",
       "      <td>MD</td>\n",
       "      <td>20824</td>\n",
       "      <td>D</td>\n",
       "      <td>Q</td>\n",
       "      <td>UNK</td>\n",
       "      <td>M</td>\n",
       "      <td>NaN</td>\n",
       "      <td>MICHAEL BURGESS</td>\n",
       "      <td>NaN</td>\n",
       "      <td>MARTIN, STEVEN G. JR.</td>\n",
       "      <td>PO BOX 30844</td>\n",
       "      <td>PO BOX 30844, BETHESDA, MD 20824</td>\n",
       "    </tr>\n",
       "    <tr>\n",
       "      <td>5181</td>\n",
       "      <td>C00493783</td>\n",
       "      <td>FRESHMAN AGRICULTURAL REPUBLICAN MEMBERS TRUST...</td>\n",
       "      <td>STEVEN MARTIN</td>\n",
       "      <td>PO BOX 30844</td>\n",
       "      <td>NaN</td>\n",
       "      <td>BETHESDA</td>\n",
       "      <td>MD</td>\n",
       "      <td>20824</td>\n",
       "      <td>J</td>\n",
       "      <td>H</td>\n",
       "      <td>UNK</td>\n",
       "      <td>Q</td>\n",
       "      <td>NaN</td>\n",
       "      <td>NONE</td>\n",
       "      <td>H0AL02087</td>\n",
       "      <td>MARTIN, STEVEN G. JR.</td>\n",
       "      <td>PO BOX 30844</td>\n",
       "      <td>PO BOX 30844, BETHESDA, MD 20824</td>\n",
       "    </tr>\n",
       "    <tr>\n",
       "      <td>6843</td>\n",
       "      <td>C00551366</td>\n",
       "      <td>RIGHTNOW WOMEN PAC</td>\n",
       "      <td>STEVEN MARTIN</td>\n",
       "      <td>PO BOX 30844</td>\n",
       "      <td>NaN</td>\n",
       "      <td>BETHESDA</td>\n",
       "      <td>MD</td>\n",
       "      <td>20824</td>\n",
       "      <td>U</td>\n",
       "      <td>Q</td>\n",
       "      <td>UNK</td>\n",
       "      <td>Q</td>\n",
       "      <td>NaN</td>\n",
       "      <td>NONE</td>\n",
       "      <td>NaN</td>\n",
       "      <td>MARTIN, STEVEN G. JR.</td>\n",
       "      <td>PO BOX 30844</td>\n",
       "      <td>PO BOX 30844, BETHESDA, MD 20824</td>\n",
       "    </tr>\n",
       "  </tbody>\n",
       "</table>\n",
       "</div>"
      ],
      "text/plain": [
       "        cmte_id                                            cmte_nm  \\\n",
       "1361  C00233353                                        AD ALLIANCE   \n",
       "2507  C00372532                       MICHAEL BURGESS FOR CONGRESS   \n",
       "3207  C00415208                           LONE STAR LEADERSHIP PAC   \n",
       "5181  C00493783  FRESHMAN AGRICULTURAL REPUBLICAN MEMBERS TRUST...   \n",
       "6843  C00551366                                 RIGHTNOW WOMEN PAC   \n",
       "\n",
       "            tres_nm      cmte_st1 cmte_st2 cmte_city cmte_st cmte_zip  \\\n",
       "1361  STEVEN MARTIN  PO BOX 30844      NaN  BETHESDA      MD    20824   \n",
       "2507  STEVEN MARTIN   PO BOX 2334      NaN    DENTON      TX    76202   \n",
       "3207  STEVEN MARTIN  PO BOX 30844      NaN  BETHESDA      MD    20824   \n",
       "5181  STEVEN MARTIN  PO BOX 30844      NaN  BETHESDA      MD    20824   \n",
       "6843  STEVEN MARTIN  PO BOX 30844      NaN  BETHESDA      MD    20824   \n",
       "\n",
       "     cmte_dsgn cmte_tp cmte_pty_affiliation cmte_filing_freq org_tp  \\\n",
       "1361         B       Q                  UNK                M      M   \n",
       "2507         P       H                  REP                Q    NaN   \n",
       "3207         D       Q                  UNK                M    NaN   \n",
       "5181         J       H                  UNK                Q    NaN   \n",
       "6843         U       Q                  UNK                Q    NaN   \n",
       "\n",
       "     connected_org_nm    cand_id           orig_tres_nm orig_cmte_st1  \\\n",
       "1361             NONE        NaN     MARTIN, STEVEN JR.  PO BOX 30844   \n",
       "2507     CARE AMERICA  H2TX26093  MARTIN, STEVEN G. JR.   PO BOX 2334   \n",
       "3207  MICHAEL BURGESS        NaN  MARTIN, STEVEN G. JR.  PO BOX 30844   \n",
       "5181             NONE  H0AL02087  MARTIN, STEVEN G. JR.  PO BOX 30844   \n",
       "6843             NONE        NaN  MARTIN, STEVEN G. JR.  PO BOX 30844   \n",
       "\n",
       "                               address  \n",
       "1361  PO BOX 30844, BETHESDA, MD 20824  \n",
       "2507     PO BOX 2334, DENTON, TX 76202  \n",
       "3207  PO BOX 30844, BETHESDA, MD 20824  \n",
       "5181  PO BOX 30844, BETHESDA, MD 20824  \n",
       "6843  PO BOX 30844, BETHESDA, MD 20824  "
      ]
     },
     "execution_count": 37,
     "metadata": {},
     "output_type": "execute_result"
    }
   ],
   "source": [
    "cm[cm['tres_nm'] == 'STEVEN MARTIN'].head()"
   ]
  },
  {
   "cell_type": "code",
   "execution_count": 38,
   "metadata": {},
   "outputs": [],
   "source": [
    "dones.extend(findall(['st', ' martin']))"
   ]
  },
  {
   "cell_type": "code",
   "execution_count": 39,
   "metadata": {},
   "outputs": [
    {
     "data": {
      "text/plain": [
       "['BRADLEY CRATE', 'VIVIAN CRATER']"
      ]
     },
     "execution_count": 39,
     "metadata": {},
     "output_type": "execute_result"
    }
   ],
   "source": [
    "findall(' crat')"
   ]
  },
  {
   "cell_type": "code",
   "execution_count": 40,
   "metadata": {},
   "outputs": [],
   "source": [
    "dones.extend(findall(' crat'))"
   ]
  },
  {
   "cell_type": "code",
   "execution_count": 41,
   "metadata": {},
   "outputs": [
    {
     "data": {
      "text/plain": [
       "['THOMAS CHARLES DATWYLER', 'THOMAS DATWYLER']"
      ]
     },
     "execution_count": 41,
     "metadata": {},
     "output_type": "execute_result"
    }
   ],
   "source": [
    "findall('datwyler')"
   ]
  },
  {
   "cell_type": "code",
   "execution_count": 42,
   "metadata": {},
   "outputs": [
    {
     "name": "stdout",
     "output_type": "stream",
     "text": [
      "orig len: 36\n",
      "new len: 37\n"
     ]
    }
   ],
   "source": [
    "new = 'THOMAS DATWYLER'\n",
    "dones.append(new)\n",
    "\n",
    "these = findall('datwyler')\n",
    "\n",
    "getall(these, new)"
   ]
  },
  {
   "cell_type": "code",
   "execution_count": 43,
   "metadata": {},
   "outputs": [
    {
     "data": {
      "text/plain": [
       "['JUDITH ZAMORE', 'JUDY ZAMORE']"
      ]
     },
     "execution_count": 43,
     "metadata": {},
     "output_type": "execute_result"
    }
   ],
   "source": [
    "findall('zamore')"
   ]
  },
  {
   "cell_type": "code",
   "execution_count": 44,
   "metadata": {},
   "outputs": [
    {
     "name": "stdout",
     "output_type": "stream",
     "text": [
      "orig len: 108\n",
      "new len: 109\n"
     ]
    }
   ],
   "source": [
    "new = 'JUDITH ZAMORE'\n",
    "dones.append(new)\n",
    "\n",
    "these = findall('zamore')\n",
    "\n",
    "getall(these, new)"
   ]
  },
  {
   "cell_type": "code",
   "execution_count": 45,
   "metadata": {},
   "outputs": [
    {
     "data": {
      "text/plain": [
       "['BRENDAN PETTYJOHN', 'JAY PETTERSON']"
      ]
     },
     "execution_count": 45,
     "metadata": {},
     "output_type": "execute_result"
    }
   ],
   "source": [
    "findall(' pett')"
   ]
  },
  {
   "cell_type": "code",
   "execution_count": 46,
   "metadata": {},
   "outputs": [],
   "source": [
    "dones.extend(findall(' pett'))"
   ]
  },
  {
   "cell_type": "code",
   "execution_count": 47,
   "metadata": {},
   "outputs": [
    {
     "data": {
      "text/plain": [
       "['JENNIFER MAY']"
      ]
     },
     "execution_count": 47,
     "metadata": {},
     "output_type": "execute_result"
    }
   ],
   "source": [
    "findall(['jen', 'may'])"
   ]
  },
  {
   "cell_type": "code",
   "execution_count": 48,
   "metadata": {},
   "outputs": [],
   "source": [
    "dones.append('JENNIFER MAY')"
   ]
  },
  {
   "cell_type": "code",
   "execution_count": 49,
   "metadata": {},
   "outputs": [
    {
     "data": {
      "text/html": [
       "<div>\n",
       "<style scoped>\n",
       "    .dataframe tbody tr th:only-of-type {\n",
       "        vertical-align: middle;\n",
       "    }\n",
       "\n",
       "    .dataframe tbody tr th {\n",
       "        vertical-align: top;\n",
       "    }\n",
       "\n",
       "    .dataframe thead th {\n",
       "        text-align: right;\n",
       "    }\n",
       "</style>\n",
       "<table border=\"1\" class=\"dataframe\">\n",
       "  <thead>\n",
       "    <tr style=\"text-align: right;\">\n",
       "      <th></th>\n",
       "      <th>cmte_id</th>\n",
       "      <th>cmte_nm</th>\n",
       "      <th>tres_nm</th>\n",
       "      <th>cmte_st1</th>\n",
       "      <th>cmte_st2</th>\n",
       "      <th>cmte_city</th>\n",
       "      <th>cmte_st</th>\n",
       "      <th>cmte_zip</th>\n",
       "      <th>cmte_dsgn</th>\n",
       "      <th>cmte_tp</th>\n",
       "      <th>cmte_pty_affiliation</th>\n",
       "      <th>cmte_filing_freq</th>\n",
       "      <th>org_tp</th>\n",
       "      <th>connected_org_nm</th>\n",
       "      <th>cand_id</th>\n",
       "      <th>orig_tres_nm</th>\n",
       "      <th>orig_cmte_st1</th>\n",
       "      <th>address</th>\n",
       "    </tr>\n",
       "  </thead>\n",
       "  <tbody>\n",
       "    <tr>\n",
       "      <td>7845</td>\n",
       "      <td>C00572859</td>\n",
       "      <td>GRETCHEN DRISKELL FOR CONGRESS</td>\n",
       "      <td>JENNIFER FAIRFIELD</td>\n",
       "      <td>PO BOX 464</td>\n",
       "      <td>NaN</td>\n",
       "      <td>SALINE</td>\n",
       "      <td>MI</td>\n",
       "      <td>48176</td>\n",
       "      <td>P</td>\n",
       "      <td>H</td>\n",
       "      <td>DEM</td>\n",
       "      <td>Q</td>\n",
       "      <td>NaN</td>\n",
       "      <td>NONE</td>\n",
       "      <td>H6MI07223</td>\n",
       "      <td>FAIRFIELD, JENNIFER</td>\n",
       "      <td>PO BOX 464</td>\n",
       "      <td>PO BOX 464, SALINE, MI 48176</td>\n",
       "    </tr>\n",
       "  </tbody>\n",
       "</table>\n",
       "</div>"
      ],
      "text/plain": [
       "        cmte_id                         cmte_nm             tres_nm  \\\n",
       "7845  C00572859  GRETCHEN DRISKELL FOR CONGRESS  JENNIFER FAIRFIELD   \n",
       "\n",
       "        cmte_st1 cmte_st2 cmte_city cmte_st cmte_zip cmte_dsgn cmte_tp  \\\n",
       "7845  PO BOX 464      NaN    SALINE      MI    48176         P       H   \n",
       "\n",
       "     cmte_pty_affiliation cmte_filing_freq org_tp connected_org_nm    cand_id  \\\n",
       "7845                  DEM                Q    NaN             NONE  H6MI07223   \n",
       "\n",
       "             orig_tres_nm orig_cmte_st1                       address  \n",
       "7845  FAIRFIELD, JENNIFER    PO BOX 464  PO BOX 464, SALINE, MI 48176  "
      ]
     },
     "execution_count": 49,
     "metadata": {},
     "output_type": "execute_result"
    }
   ],
   "source": [
    "# first jennifer for driskell\n",
    "cm[cm['tres_nm'] == 'JENNIFER FAIRFIELD']"
   ]
  },
  {
   "cell_type": "code",
   "execution_count": 50,
   "metadata": {},
   "outputs": [
    {
     "data": {
      "text/html": [
       "<div>\n",
       "<style scoped>\n",
       "    .dataframe tbody tr th:only-of-type {\n",
       "        vertical-align: middle;\n",
       "    }\n",
       "\n",
       "    .dataframe tbody tr th {\n",
       "        vertical-align: top;\n",
       "    }\n",
       "\n",
       "    .dataframe thead th {\n",
       "        text-align: right;\n",
       "    }\n",
       "</style>\n",
       "<table border=\"1\" class=\"dataframe\">\n",
       "  <thead>\n",
       "    <tr style=\"text-align: right;\">\n",
       "      <th></th>\n",
       "      <th>cmte_id</th>\n",
       "      <th>cmte_nm</th>\n",
       "      <th>tres_nm</th>\n",
       "      <th>cmte_st1</th>\n",
       "      <th>cmte_st2</th>\n",
       "      <th>cmte_city</th>\n",
       "      <th>cmte_st</th>\n",
       "      <th>cmte_zip</th>\n",
       "      <th>cmte_dsgn</th>\n",
       "      <th>cmte_tp</th>\n",
       "      <th>cmte_pty_affiliation</th>\n",
       "      <th>cmte_filing_freq</th>\n",
       "      <th>org_tp</th>\n",
       "      <th>connected_org_nm</th>\n",
       "      <th>cand_id</th>\n",
       "      <th>orig_tres_nm</th>\n",
       "      <th>orig_cmte_st1</th>\n",
       "      <th>address</th>\n",
       "    </tr>\n",
       "  </thead>\n",
       "  <tbody>\n",
       "  </tbody>\n",
       "</table>\n",
       "</div>"
      ],
      "text/plain": [
       "Empty DataFrame\n",
       "Columns: [cmte_id, cmte_nm, tres_nm, cmte_st1, cmte_st2, cmte_city, cmte_st, cmte_zip, cmte_dsgn, cmte_tp, cmte_pty_affiliation, cmte_filing_freq, org_tp, connected_org_nm, cand_id, orig_tres_nm, orig_cmte_st1, address]\n",
       "Index: []"
      ]
     },
     "execution_count": 50,
     "metadata": {},
     "output_type": "execute_result"
    }
   ],
   "source": [
    "# second jennifer for driskell.  same?\n",
    "cm[(cm['tres_nm'] == 'JENNIFER MAY') & (cm['cmte_st1'] == 'PO BOX 464')]"
   ]
  },
  {
   "cell_type": "code",
   "execution_count": 51,
   "metadata": {},
   "outputs": [
    {
     "data": {
      "text/plain": [
       "['CRAIG WILLIAMSON', 'LES WILLIAMSON', 'SEAN WILLIAMSON']"
      ]
     },
     "execution_count": 51,
     "metadata": {},
     "output_type": "execute_result"
    }
   ],
   "source": [
    "findall(' williamson')"
   ]
  },
  {
   "cell_type": "code",
   "execution_count": 52,
   "metadata": {},
   "outputs": [],
   "source": [
    "dones.extend(findall(' williamson'))"
   ]
  },
  {
   "cell_type": "code",
   "execution_count": 53,
   "metadata": {},
   "outputs": [
    {
     "data": {
      "text/plain": [
       "['CHUCK KYRISH', 'JANICA KYRIACOPOULOS', 'SAMMY KYE']"
      ]
     },
     "execution_count": 53,
     "metadata": {},
     "output_type": "execute_result"
    }
   ],
   "source": [
    "findall(' ky')"
   ]
  },
  {
   "cell_type": "code",
   "execution_count": 54,
   "metadata": {},
   "outputs": [],
   "source": [
    "dones.extend(findall(' ky'))"
   ]
  },
  {
   "cell_type": "code",
   "execution_count": 55,
   "metadata": {},
   "outputs": [
    {
     "data": {
      "text/plain": [
       "['CATHLEEN WATKINS',\n",
       " 'CHARLES WATKINS',\n",
       " 'MICHAEL WATKINS',\n",
       " 'NANCY WATKINS',\n",
       " 'WILLIAM WATKINS']"
      ]
     },
     "execution_count": 55,
     "metadata": {},
     "output_type": "execute_result"
    }
   ],
   "source": [
    "findall(' watkins')"
   ]
  },
  {
   "cell_type": "code",
   "execution_count": 56,
   "metadata": {},
   "outputs": [
    {
     "data": {
      "text/html": [
       "<div>\n",
       "<style scoped>\n",
       "    .dataframe tbody tr th:only-of-type {\n",
       "        vertical-align: middle;\n",
       "    }\n",
       "\n",
       "    .dataframe tbody tr th {\n",
       "        vertical-align: top;\n",
       "    }\n",
       "\n",
       "    .dataframe thead th {\n",
       "        text-align: right;\n",
       "    }\n",
       "</style>\n",
       "<table border=\"1\" class=\"dataframe\">\n",
       "  <thead>\n",
       "    <tr style=\"text-align: right;\">\n",
       "      <th></th>\n",
       "      <th>cmte_id</th>\n",
       "      <th>cmte_nm</th>\n",
       "      <th>tres_nm</th>\n",
       "      <th>cmte_st1</th>\n",
       "      <th>cmte_st2</th>\n",
       "      <th>cmte_city</th>\n",
       "      <th>cmte_st</th>\n",
       "      <th>cmte_zip</th>\n",
       "      <th>cmte_dsgn</th>\n",
       "      <th>cmte_tp</th>\n",
       "      <th>cmte_pty_affiliation</th>\n",
       "      <th>cmte_filing_freq</th>\n",
       "      <th>org_tp</th>\n",
       "      <th>connected_org_nm</th>\n",
       "      <th>cand_id</th>\n",
       "      <th>orig_tres_nm</th>\n",
       "      <th>orig_cmte_st1</th>\n",
       "      <th>address</th>\n",
       "    </tr>\n",
       "  </thead>\n",
       "  <tbody>\n",
       "  </tbody>\n",
       "</table>\n",
       "</div>"
      ],
      "text/plain": [
       "Empty DataFrame\n",
       "Columns: [cmte_id, cmte_nm, tres_nm, cmte_st1, cmte_st2, cmte_city, cmte_st, cmte_zip, cmte_dsgn, cmte_tp, cmte_pty_affiliation, cmte_filing_freq, org_tp, connected_org_nm, cand_id, orig_tres_nm, orig_cmte_st1, address]\n",
       "Index: []"
      ]
     },
     "execution_count": 56,
     "metadata": {},
     "output_type": "execute_result"
    }
   ],
   "source": [
    "cm[cm['tres_nm'] == 'BILL WATKINS']"
   ]
  },
  {
   "cell_type": "code",
   "execution_count": 57,
   "metadata": {},
   "outputs": [
    {
     "data": {
      "text/html": [
       "<div>\n",
       "<style scoped>\n",
       "    .dataframe tbody tr th:only-of-type {\n",
       "        vertical-align: middle;\n",
       "    }\n",
       "\n",
       "    .dataframe tbody tr th {\n",
       "        vertical-align: top;\n",
       "    }\n",
       "\n",
       "    .dataframe thead th {\n",
       "        text-align: right;\n",
       "    }\n",
       "</style>\n",
       "<table border=\"1\" class=\"dataframe\">\n",
       "  <thead>\n",
       "    <tr style=\"text-align: right;\">\n",
       "      <th></th>\n",
       "      <th>cmte_id</th>\n",
       "      <th>cmte_nm</th>\n",
       "      <th>tres_nm</th>\n",
       "      <th>cmte_st1</th>\n",
       "      <th>cmte_st2</th>\n",
       "      <th>cmte_city</th>\n",
       "      <th>cmte_st</th>\n",
       "      <th>cmte_zip</th>\n",
       "      <th>cmte_dsgn</th>\n",
       "      <th>cmte_tp</th>\n",
       "      <th>cmte_pty_affiliation</th>\n",
       "      <th>cmte_filing_freq</th>\n",
       "      <th>org_tp</th>\n",
       "      <th>connected_org_nm</th>\n",
       "      <th>cand_id</th>\n",
       "      <th>orig_tres_nm</th>\n",
       "      <th>orig_cmte_st1</th>\n",
       "      <th>address</th>\n",
       "    </tr>\n",
       "  </thead>\n",
       "  <tbody>\n",
       "    <tr>\n",
       "      <td>2551</td>\n",
       "      <td>C00376244</td>\n",
       "      <td>KUSTOFF FOR CONGRESS 2002</td>\n",
       "      <td>WILLIAM WATKINS</td>\n",
       "      <td>1661 AARON BRENNER DR</td>\n",
       "      <td>SUITE 300</td>\n",
       "      <td>MEMPHIS</td>\n",
       "      <td>TN</td>\n",
       "      <td>38120</td>\n",
       "      <td>A</td>\n",
       "      <td>H</td>\n",
       "      <td>REP</td>\n",
       "      <td>Q</td>\n",
       "      <td>NaN</td>\n",
       "      <td>NONE</td>\n",
       "      <td>H2TN07103</td>\n",
       "      <td>WATKINS, WILLIAM H JR</td>\n",
       "      <td>1661 AARON BRENNER DRIVE</td>\n",
       "      <td>1661 AARON BRENNER DR, MEMPHIS, TN 38120</td>\n",
       "    </tr>\n",
       "    <tr>\n",
       "      <td>10036</td>\n",
       "      <td>C00614826</td>\n",
       "      <td>KUSTOFF FOR CONGRESS</td>\n",
       "      <td>WILLIAM WATKINS</td>\n",
       "      <td>1661 AARON BRENNER DR</td>\n",
       "      <td>STE 300</td>\n",
       "      <td>MEMPHIS</td>\n",
       "      <td>TN</td>\n",
       "      <td>38120</td>\n",
       "      <td>P</td>\n",
       "      <td>H</td>\n",
       "      <td>REP</td>\n",
       "      <td>Q</td>\n",
       "      <td>NaN</td>\n",
       "      <td>NaN</td>\n",
       "      <td>H2TN07103</td>\n",
       "      <td>WATKINS, WILLIAM H JR</td>\n",
       "      <td>1661 AARON BRENNER DR</td>\n",
       "      <td>1661 AARON BRENNER DR, MEMPHIS, TN 38120</td>\n",
       "    </tr>\n",
       "  </tbody>\n",
       "</table>\n",
       "</div>"
      ],
      "text/plain": [
       "         cmte_id                    cmte_nm          tres_nm  \\\n",
       "2551   C00376244  KUSTOFF FOR CONGRESS 2002  WILLIAM WATKINS   \n",
       "10036  C00614826       KUSTOFF FOR CONGRESS  WILLIAM WATKINS   \n",
       "\n",
       "                    cmte_st1   cmte_st2 cmte_city cmte_st cmte_zip cmte_dsgn  \\\n",
       "2551   1661 AARON BRENNER DR  SUITE 300   MEMPHIS      TN    38120         A   \n",
       "10036  1661 AARON BRENNER DR    STE 300   MEMPHIS      TN    38120         P   \n",
       "\n",
       "      cmte_tp cmte_pty_affiliation cmte_filing_freq org_tp connected_org_nm  \\\n",
       "2551        H                  REP                Q    NaN             NONE   \n",
       "10036       H                  REP                Q    NaN              NaN   \n",
       "\n",
       "         cand_id           orig_tres_nm             orig_cmte_st1  \\\n",
       "2551   H2TN07103  WATKINS, WILLIAM H JR  1661 AARON BRENNER DRIVE   \n",
       "10036  H2TN07103  WATKINS, WILLIAM H JR     1661 AARON BRENNER DR   \n",
       "\n",
       "                                        address  \n",
       "2551   1661 AARON BRENNER DR, MEMPHIS, TN 38120  \n",
       "10036  1661 AARON BRENNER DR, MEMPHIS, TN 38120  "
      ]
     },
     "execution_count": 57,
     "metadata": {},
     "output_type": "execute_result"
    }
   ],
   "source": [
    "cm[cm['tres_nm'] == 'WILLIAM WATKINS']"
   ]
  },
  {
   "cell_type": "code",
   "execution_count": 58,
   "metadata": {},
   "outputs": [
    {
     "name": "stdout",
     "output_type": "stream",
     "text": [
      "orig len: 2\n",
      "new len: 2\n"
     ]
    }
   ],
   "source": [
    "new = 'WILLIAM WATKINS'\n",
    "dones.append(new)\n",
    "\n",
    "these = ['BILL WATKINS', 'WILLIAM WATKINS']\n",
    "\n",
    "getall(these, new)"
   ]
  },
  {
   "cell_type": "code",
   "execution_count": 59,
   "metadata": {},
   "outputs": [],
   "source": [
    "dones.extend(findall(' watkins'))"
   ]
  },
  {
   "cell_type": "code",
   "execution_count": 60,
   "metadata": {},
   "outputs": [
    {
     "data": {
      "text/plain": [
       "['CABELL HOBBS', 'JENNIFER HOBBS', 'NICOLE HOBBS', 'SCOTT HOBBS']"
      ]
     },
     "execution_count": 60,
     "metadata": {},
     "output_type": "execute_result"
    }
   ],
   "source": [
    "findall('hobbs')"
   ]
  },
  {
   "cell_type": "code",
   "execution_count": 61,
   "metadata": {},
   "outputs": [
    {
     "data": {
      "text/plain": [
       "['JASON GILES', 'RODNEY GILES']"
      ]
     },
     "execution_count": 61,
     "metadata": {},
     "output_type": "execute_result"
    }
   ],
   "source": [
    "findall('giles')"
   ]
  },
  {
   "cell_type": "code",
   "execution_count": 62,
   "metadata": {},
   "outputs": [],
   "source": [
    "dones.extend(findall('giles'))"
   ]
  },
  {
   "cell_type": "code",
   "execution_count": 63,
   "metadata": {},
   "outputs": [],
   "source": [
    "dones.extend(findall('hobbs'))"
   ]
  },
  {
   "cell_type": "code",
   "execution_count": 64,
   "metadata": {},
   "outputs": [
    {
     "data": {
      "text/plain": [
       "['ADAM SATTERFIELD', 'DAVID SATTERFIELD', 'STACEY SATTERLEE']"
      ]
     },
     "execution_count": 64,
     "metadata": {},
     "output_type": "execute_result"
    }
   ],
   "source": [
    "findall(' satt')"
   ]
  },
  {
   "cell_type": "code",
   "execution_count": 65,
   "metadata": {},
   "outputs": [],
   "source": [
    "dones.extend(findall(' satt'))"
   ]
  },
  {
   "cell_type": "code",
   "execution_count": 66,
   "metadata": {},
   "outputs": [
    {
     "data": {
      "text/plain": [
       "['BOBBY CURTIS BRACKETT',\n",
       " 'DAVID MARLOW CURTIS',\n",
       " 'ELIZABETH CURTIS',\n",
       " 'JAMES CURTIS',\n",
       " 'KEVIN CURTIS',\n",
       " 'LIZ CURTIS',\n",
       " 'MICHAEL CURTIS DEAN',\n",
       " 'RON CURTIS',\n",
       " 'STEVEN DALE CURTIS']"
      ]
     },
     "execution_count": 66,
     "metadata": {},
     "output_type": "execute_result"
    }
   ],
   "source": [
    "findall(' curtis')"
   ]
  },
  {
   "cell_type": "code",
   "execution_count": 67,
   "metadata": {},
   "outputs": [
    {
     "data": {
      "text/plain": [
       "['BOBBY CURTIS BRACKETT']"
      ]
     },
     "execution_count": 67,
     "metadata": {},
     "output_type": "execute_result"
    }
   ],
   "source": [
    "findall('brackett')"
   ]
  },
  {
   "cell_type": "code",
   "execution_count": 68,
   "metadata": {},
   "outputs": [
    {
     "data": {
      "text/plain": [
       "['MICHAEL CURTIS DEAN']"
      ]
     },
     "execution_count": 68,
     "metadata": {},
     "output_type": "execute_result"
    }
   ],
   "source": [
    "findall(['mi', 'dean'])"
   ]
  },
  {
   "cell_type": "code",
   "execution_count": 69,
   "metadata": {},
   "outputs": [
    {
     "name": "stdout",
     "output_type": "stream",
     "text": [
      "orig len: 15\n",
      "new len: 17\n"
     ]
    }
   ],
   "source": [
    "new = 'ELIZABETH CURTIS'\n",
    "dones.append(new)\n",
    "\n",
    "these = findall(['liz', 'curtis'])\n",
    "\n",
    "getall(these, new)"
   ]
  },
  {
   "cell_type": "code",
   "execution_count": 70,
   "metadata": {},
   "outputs": [],
   "source": [
    "dones.extend(findall(' curtis'))"
   ]
  },
  {
   "cell_type": "code",
   "execution_count": 71,
   "metadata": {},
   "outputs": [
    {
     "data": {
      "text/plain": [
       "['ADAM DAVIS',\n",
       " 'BRADLEY DAVIS',\n",
       " 'BRIAN DAVIS',\n",
       " 'BROOKE DAVIS',\n",
       " 'CASEY DAVISON',\n",
       " 'CLAY PARKER DAVIS',\n",
       " 'CRYSTAL DAVIS-TAYLOR',\n",
       " 'CYNTHIA DAVIS',\n",
       " 'DEBORAH DAVIS',\n",
       " 'DONALD DAVIS',\n",
       " 'DYLAN DAVIS',\n",
       " 'GARY DAVIS',\n",
       " 'HAROLD DAVIS',\n",
       " 'JEFF DAVIS',\n",
       " 'JEREMY DAVIS',\n",
       " 'JOE DAVIS',\n",
       " 'JONATHAN DAVIS',\n",
       " 'KAYOLKA DAVIS',\n",
       " 'KEITH DAVIS',\n",
       " 'KELLY DAVIS',\n",
       " 'KETH DAVIS',\n",
       " 'LANCE DAVIS',\n",
       " 'LESLIE WALTER DAVIS',\n",
       " 'MARIAN DAVIS',\n",
       " 'MARIE ELIZABETH DAVIS',\n",
       " 'MARIENELLA DAVIS',\n",
       " 'MARK DAVIS',\n",
       " 'MICHAEL DAVIS',\n",
       " 'MICHELE DAVISON',\n",
       " 'MILTON DAVIS',\n",
       " 'PAUL DAVIS',\n",
       " 'REGINALD DAVIS',\n",
       " 'RICHARD BERNARD DAVIS',\n",
       " 'RICK DAVISON',\n",
       " 'ROBERT DAVIS',\n",
       " 'SANDRA DAVIS',\n",
       " 'SUSAN DAVIS',\n",
       " 'VANDY DAVIS',\n",
       " 'VERA DAVIS',\n",
       " 'VIRGINIA DAVIS',\n",
       " 'WAYNE DAVIS',\n",
       " 'WILLIAM DAVIS']"
      ]
     },
     "execution_count": 71,
     "metadata": {},
     "output_type": "execute_result"
    }
   ],
   "source": [
    "findall(' davis')"
   ]
  },
  {
   "cell_type": "code",
   "execution_count": 72,
   "metadata": {},
   "outputs": [
    {
     "data": {
      "text/html": [
       "<div>\n",
       "<style scoped>\n",
       "    .dataframe tbody tr th:only-of-type {\n",
       "        vertical-align: middle;\n",
       "    }\n",
       "\n",
       "    .dataframe tbody tr th {\n",
       "        vertical-align: top;\n",
       "    }\n",
       "\n",
       "    .dataframe thead th {\n",
       "        text-align: right;\n",
       "    }\n",
       "</style>\n",
       "<table border=\"1\" class=\"dataframe\">\n",
       "  <thead>\n",
       "    <tr style=\"text-align: right;\">\n",
       "      <th></th>\n",
       "      <th>cmte_id</th>\n",
       "      <th>cmte_nm</th>\n",
       "      <th>tres_nm</th>\n",
       "      <th>cmte_st1</th>\n",
       "      <th>cmte_st2</th>\n",
       "      <th>cmte_city</th>\n",
       "      <th>cmte_st</th>\n",
       "      <th>cmte_zip</th>\n",
       "      <th>cmte_dsgn</th>\n",
       "      <th>cmte_tp</th>\n",
       "      <th>cmte_pty_affiliation</th>\n",
       "      <th>cmte_filing_freq</th>\n",
       "      <th>org_tp</th>\n",
       "      <th>connected_org_nm</th>\n",
       "      <th>cand_id</th>\n",
       "      <th>orig_tres_nm</th>\n",
       "      <th>orig_cmte_st1</th>\n",
       "      <th>address</th>\n",
       "    </tr>\n",
       "  </thead>\n",
       "  <tbody>\n",
       "    <tr>\n",
       "      <td>12062</td>\n",
       "      <td>C00638536</td>\n",
       "      <td>FRIENDS OF DANNER KLINE</td>\n",
       "      <td>WILLIAM DAVIS</td>\n",
       "      <td>PO BOX 430191</td>\n",
       "      <td>NaN</td>\n",
       "      <td>VESTAVIA HILLS</td>\n",
       "      <td>AL</td>\n",
       "      <td>35243</td>\n",
       "      <td>P</td>\n",
       "      <td>H</td>\n",
       "      <td>DEM</td>\n",
       "      <td>Q</td>\n",
       "      <td>NaN</td>\n",
       "      <td>NONE</td>\n",
       "      <td>H8AL06099</td>\n",
       "      <td>DAVIS, WILLIAM</td>\n",
       "      <td>PO BOX 430191</td>\n",
       "      <td>PO BOX 430191, VESTAVIA HILLS, AL 35243</td>\n",
       "    </tr>\n",
       "  </tbody>\n",
       "</table>\n",
       "</div>"
      ],
      "text/plain": [
       "         cmte_id                  cmte_nm        tres_nm       cmte_st1  \\\n",
       "12062  C00638536  FRIENDS OF DANNER KLINE  WILLIAM DAVIS  PO BOX 430191   \n",
       "\n",
       "      cmte_st2       cmte_city cmte_st cmte_zip cmte_dsgn cmte_tp  \\\n",
       "12062      NaN  VESTAVIA HILLS      AL    35243         P       H   \n",
       "\n",
       "      cmte_pty_affiliation cmte_filing_freq org_tp connected_org_nm  \\\n",
       "12062                  DEM                Q    NaN             NONE   \n",
       "\n",
       "         cand_id    orig_tres_nm  orig_cmte_st1  \\\n",
       "12062  H8AL06099  DAVIS, WILLIAM  PO BOX 430191   \n",
       "\n",
       "                                       address  \n",
       "12062  PO BOX 430191, VESTAVIA HILLS, AL 35243  "
      ]
     },
     "execution_count": 72,
     "metadata": {},
     "output_type": "execute_result"
    }
   ],
   "source": [
    "cm[cm['tres_nm'].apply(lambda x: x in ['BILLY DAVIS', 'WILLIAM DAVIS'])]"
   ]
  },
  {
   "cell_type": "code",
   "execution_count": 73,
   "metadata": {},
   "outputs": [
    {
     "data": {
      "text/html": [
       "<div>\n",
       "<style scoped>\n",
       "    .dataframe tbody tr th:only-of-type {\n",
       "        vertical-align: middle;\n",
       "    }\n",
       "\n",
       "    .dataframe tbody tr th {\n",
       "        vertical-align: top;\n",
       "    }\n",
       "\n",
       "    .dataframe thead th {\n",
       "        text-align: right;\n",
       "    }\n",
       "</style>\n",
       "<table border=\"1\" class=\"dataframe\">\n",
       "  <thead>\n",
       "    <tr style=\"text-align: right;\">\n",
       "      <th></th>\n",
       "      <th>cmte_id</th>\n",
       "      <th>cmte_nm</th>\n",
       "      <th>tres_nm</th>\n",
       "      <th>cmte_st1</th>\n",
       "      <th>cmte_st2</th>\n",
       "      <th>cmte_city</th>\n",
       "      <th>cmte_st</th>\n",
       "      <th>cmte_zip</th>\n",
       "      <th>cmte_dsgn</th>\n",
       "      <th>cmte_tp</th>\n",
       "      <th>cmte_pty_affiliation</th>\n",
       "      <th>cmte_filing_freq</th>\n",
       "      <th>org_tp</th>\n",
       "      <th>connected_org_nm</th>\n",
       "      <th>cand_id</th>\n",
       "      <th>orig_tres_nm</th>\n",
       "      <th>orig_cmte_st1</th>\n",
       "      <th>address</th>\n",
       "    </tr>\n",
       "  </thead>\n",
       "  <tbody>\n",
       "    <tr>\n",
       "      <td>14187</td>\n",
       "      <td>C00665232</td>\n",
       "      <td>WIN IN 2018</td>\n",
       "      <td>KETH DAVIS</td>\n",
       "      <td>228 S WASHINGTON ST</td>\n",
       "      <td>SUITE 115</td>\n",
       "      <td>ALEXANDRIA</td>\n",
       "      <td>VA</td>\n",
       "      <td>22314</td>\n",
       "      <td>J</td>\n",
       "      <td>N</td>\n",
       "      <td>UNK</td>\n",
       "      <td>Q</td>\n",
       "      <td>NaN</td>\n",
       "      <td>NONE</td>\n",
       "      <td>NaN</td>\n",
       "      <td>DAVIS, KETH A.</td>\n",
       "      <td>228 S. WASHINGTON STREET</td>\n",
       "      <td>228 S WASHINGTON ST, ALEXANDRIA, VA 22314</td>\n",
       "    </tr>\n",
       "  </tbody>\n",
       "</table>\n",
       "</div>"
      ],
      "text/plain": [
       "         cmte_id      cmte_nm     tres_nm             cmte_st1   cmte_st2  \\\n",
       "14187  C00665232  WIN IN 2018  KETH DAVIS  228 S WASHINGTON ST  SUITE 115   \n",
       "\n",
       "        cmte_city cmte_st cmte_zip cmte_dsgn cmte_tp cmte_pty_affiliation  \\\n",
       "14187  ALEXANDRIA      VA    22314         J       N                  UNK   \n",
       "\n",
       "      cmte_filing_freq org_tp connected_org_nm cand_id    orig_tres_nm  \\\n",
       "14187                Q    NaN             NONE     NaN  DAVIS, KETH A.   \n",
       "\n",
       "                  orig_cmte_st1                                    address  \n",
       "14187  228 S. WASHINGTON STREET  228 S WASHINGTON ST, ALEXANDRIA, VA 22314  "
      ]
     },
     "execution_count": 73,
     "metadata": {},
     "output_type": "execute_result"
    }
   ],
   "source": [
    "cm[cm['tres_nm'] == 'KETH DAVIS']"
   ]
  },
  {
   "cell_type": "code",
   "execution_count": 74,
   "metadata": {
    "scrolled": false
   },
   "outputs": [
    {
     "data": {
      "text/html": [
       "<div>\n",
       "<style scoped>\n",
       "    .dataframe tbody tr th:only-of-type {\n",
       "        vertical-align: middle;\n",
       "    }\n",
       "\n",
       "    .dataframe tbody tr th {\n",
       "        vertical-align: top;\n",
       "    }\n",
       "\n",
       "    .dataframe thead th {\n",
       "        text-align: right;\n",
       "    }\n",
       "</style>\n",
       "<table border=\"1\" class=\"dataframe\">\n",
       "  <thead>\n",
       "    <tr style=\"text-align: right;\">\n",
       "      <th></th>\n",
       "      <th>cmte_id</th>\n",
       "      <th>cmte_nm</th>\n",
       "      <th>tres_nm</th>\n",
       "      <th>cmte_st1</th>\n",
       "      <th>cmte_st2</th>\n",
       "      <th>cmte_city</th>\n",
       "      <th>cmte_st</th>\n",
       "      <th>cmte_zip</th>\n",
       "      <th>cmte_dsgn</th>\n",
       "      <th>cmte_tp</th>\n",
       "      <th>cmte_pty_affiliation</th>\n",
       "      <th>cmte_filing_freq</th>\n",
       "      <th>org_tp</th>\n",
       "      <th>connected_org_nm</th>\n",
       "      <th>cand_id</th>\n",
       "      <th>orig_tres_nm</th>\n",
       "      <th>orig_cmte_st1</th>\n",
       "      <th>address</th>\n",
       "    </tr>\n",
       "  </thead>\n",
       "  <tbody>\n",
       "    <tr>\n",
       "      <td>212</td>\n",
       "      <td>C00027466</td>\n",
       "      <td>NRSC</td>\n",
       "      <td>KEITH DAVIS</td>\n",
       "      <td>425 2ND ST NE</td>\n",
       "      <td>NaN</td>\n",
       "      <td>WASHINGTON</td>\n",
       "      <td>DC</td>\n",
       "      <td>20002</td>\n",
       "      <td>U</td>\n",
       "      <td>Y</td>\n",
       "      <td>REP</td>\n",
       "      <td>M</td>\n",
       "      <td>NaN</td>\n",
       "      <td>2018 TILLIS SENATE CANDIDATE FUND</td>\n",
       "      <td>NaN</td>\n",
       "      <td>DAVIS, KEITH</td>\n",
       "      <td>425 2ND STREET NE</td>\n",
       "      <td>425 2ND ST NE, WASHINGTON, DC 20002</td>\n",
       "    </tr>\n",
       "    <tr>\n",
       "      <td>395</td>\n",
       "      <td>C00075820</td>\n",
       "      <td>NRCC</td>\n",
       "      <td>KEITH DAVIS</td>\n",
       "      <td>320 FIRST ST SE</td>\n",
       "      <td>.</td>\n",
       "      <td>WASHINGTON</td>\n",
       "      <td>DC</td>\n",
       "      <td>20003</td>\n",
       "      <td>U</td>\n",
       "      <td>Y</td>\n",
       "      <td>REP</td>\n",
       "      <td>M</td>\n",
       "      <td>NaN</td>\n",
       "      <td>COLE COMBINED COMMITTEE</td>\n",
       "      <td>NaN</td>\n",
       "      <td>DAVIS, KEITH A.</td>\n",
       "      <td>320 FIRST STREET SE</td>\n",
       "      <td>320 FIRST ST SE, WASHINGTON, DC 20003</td>\n",
       "    </tr>\n",
       "    <tr>\n",
       "      <td>2013</td>\n",
       "      <td>C00330720</td>\n",
       "      <td>TRUST PAC TEAM REPUBLICANS FOR UTILIZING SENSI...</td>\n",
       "      <td>KEITH DAVIS</td>\n",
       "      <td>228 S WASHINGTON ST</td>\n",
       "      <td>SUITE 115</td>\n",
       "      <td>ALEXANDRIA</td>\n",
       "      <td>VA</td>\n",
       "      <td>22314</td>\n",
       "      <td>D</td>\n",
       "      <td>Q</td>\n",
       "      <td>UNK</td>\n",
       "      <td>Q</td>\n",
       "      <td>NaN</td>\n",
       "      <td>NONE</td>\n",
       "      <td>NaN</td>\n",
       "      <td>DAVIS, KEITH A.</td>\n",
       "      <td>228 S. WASHINGTON STREET</td>\n",
       "      <td>228 S WASHINGTON ST, ALEXANDRIA, VA 22314</td>\n",
       "    </tr>\n",
       "    <tr>\n",
       "      <td>2738</td>\n",
       "      <td>C00388421</td>\n",
       "      <td>TENN POLITICAL ACTION COMMITTEE INC (TENN PAC)</td>\n",
       "      <td>KEITH DAVIS</td>\n",
       "      <td>228 S WASHINGTON ST</td>\n",
       "      <td>NaN</td>\n",
       "      <td>ALEXANDRIA</td>\n",
       "      <td>VA</td>\n",
       "      <td>22314</td>\n",
       "      <td>D</td>\n",
       "      <td>Q</td>\n",
       "      <td>UNK</td>\n",
       "      <td>Q</td>\n",
       "      <td>NaN</td>\n",
       "      <td>NONE</td>\n",
       "      <td>NaN</td>\n",
       "      <td>DAVIS, KEITH A.</td>\n",
       "      <td>228 S WASHINGTON STREET SUITE 115</td>\n",
       "      <td>228 S WASHINGTON ST, ALEXANDRIA, VA 22314</td>\n",
       "    </tr>\n",
       "    <tr>\n",
       "      <td>3819</td>\n",
       "      <td>C00445387</td>\n",
       "      <td>IMS HEALTH PAC</td>\n",
       "      <td>KEITH DAVIS</td>\n",
       "      <td>228 S WASHINGTON ST</td>\n",
       "      <td>NaN</td>\n",
       "      <td>ALEXANDRIA</td>\n",
       "      <td>VA</td>\n",
       "      <td>22314</td>\n",
       "      <td>U</td>\n",
       "      <td>Q</td>\n",
       "      <td>UNK</td>\n",
       "      <td>T</td>\n",
       "      <td>C</td>\n",
       "      <td>NaN</td>\n",
       "      <td>NaN</td>\n",
       "      <td>KEITH A DAVIS</td>\n",
       "      <td>228 S WASHINGTON STREET SUITE 115</td>\n",
       "      <td>228 S WASHINGTON ST, ALEXANDRIA, VA 22314</td>\n",
       "    </tr>\n",
       "  </tbody>\n",
       "</table>\n",
       "</div>"
      ],
      "text/plain": [
       "        cmte_id                                            cmte_nm  \\\n",
       "212   C00027466                                               NRSC   \n",
       "395   C00075820                                               NRCC   \n",
       "2013  C00330720  TRUST PAC TEAM REPUBLICANS FOR UTILIZING SENSI...   \n",
       "2738  C00388421     TENN POLITICAL ACTION COMMITTEE INC (TENN PAC)   \n",
       "3819  C00445387                                     IMS HEALTH PAC   \n",
       "\n",
       "          tres_nm             cmte_st1   cmte_st2   cmte_city cmte_st  \\\n",
       "212   KEITH DAVIS        425 2ND ST NE        NaN  WASHINGTON      DC   \n",
       "395   KEITH DAVIS      320 FIRST ST SE          .  WASHINGTON      DC   \n",
       "2013  KEITH DAVIS  228 S WASHINGTON ST  SUITE 115  ALEXANDRIA      VA   \n",
       "2738  KEITH DAVIS  228 S WASHINGTON ST        NaN  ALEXANDRIA      VA   \n",
       "3819  KEITH DAVIS  228 S WASHINGTON ST        NaN  ALEXANDRIA      VA   \n",
       "\n",
       "     cmte_zip cmte_dsgn cmte_tp cmte_pty_affiliation cmte_filing_freq org_tp  \\\n",
       "212     20002         U       Y                  REP                M    NaN   \n",
       "395     20003         U       Y                  REP                M    NaN   \n",
       "2013    22314         D       Q                  UNK                Q    NaN   \n",
       "2738    22314         D       Q                  UNK                Q    NaN   \n",
       "3819    22314         U       Q                  UNK                T      C   \n",
       "\n",
       "                       connected_org_nm cand_id     orig_tres_nm  \\\n",
       "212   2018 TILLIS SENATE CANDIDATE FUND     NaN     DAVIS, KEITH   \n",
       "395             COLE COMBINED COMMITTEE     NaN  DAVIS, KEITH A.   \n",
       "2013                               NONE     NaN  DAVIS, KEITH A.   \n",
       "2738                               NONE     NaN  DAVIS, KEITH A.   \n",
       "3819                                NaN     NaN    KEITH A DAVIS   \n",
       "\n",
       "                          orig_cmte_st1  \\\n",
       "212                   425 2ND STREET NE   \n",
       "395                 320 FIRST STREET SE   \n",
       "2013           228 S. WASHINGTON STREET   \n",
       "2738  228 S WASHINGTON STREET SUITE 115   \n",
       "3819  228 S WASHINGTON STREET SUITE 115   \n",
       "\n",
       "                                        address  \n",
       "212         425 2ND ST NE, WASHINGTON, DC 20002  \n",
       "395       320 FIRST ST SE, WASHINGTON, DC 20003  \n",
       "2013  228 S WASHINGTON ST, ALEXANDRIA, VA 22314  \n",
       "2738  228 S WASHINGTON ST, ALEXANDRIA, VA 22314  \n",
       "3819  228 S WASHINGTON ST, ALEXANDRIA, VA 22314  "
      ]
     },
     "execution_count": 74,
     "metadata": {},
     "output_type": "execute_result"
    }
   ],
   "source": [
    "cm[cm['tres_nm'] == 'KEITH DAVIS'].head()"
   ]
  },
  {
   "cell_type": "code",
   "execution_count": 75,
   "metadata": {},
   "outputs": [
    {
     "name": "stdout",
     "output_type": "stream",
     "text": [
      "orig len: 44\n",
      "new len: 45\n"
     ]
    }
   ],
   "source": [
    "new = 'KEITH DAVIS' \n",
    "dones.append(new)\n",
    "\n",
    "these = ['KEITH DAVIS', 'KETH DAVIS']\n",
    "\n",
    "getall(these, new)"
   ]
  },
  {
   "cell_type": "code",
   "execution_count": 76,
   "metadata": {},
   "outputs": [
    {
     "data": {
      "text/html": [
       "<div>\n",
       "<style scoped>\n",
       "    .dataframe tbody tr th:only-of-type {\n",
       "        vertical-align: middle;\n",
       "    }\n",
       "\n",
       "    .dataframe tbody tr th {\n",
       "        vertical-align: top;\n",
       "    }\n",
       "\n",
       "    .dataframe thead th {\n",
       "        text-align: right;\n",
       "    }\n",
       "</style>\n",
       "<table border=\"1\" class=\"dataframe\">\n",
       "  <thead>\n",
       "    <tr style=\"text-align: right;\">\n",
       "      <th></th>\n",
       "      <th>cmte_id</th>\n",
       "      <th>cmte_nm</th>\n",
       "      <th>tres_nm</th>\n",
       "      <th>cmte_st1</th>\n",
       "      <th>cmte_st2</th>\n",
       "      <th>cmte_city</th>\n",
       "      <th>cmte_st</th>\n",
       "      <th>cmte_zip</th>\n",
       "      <th>cmte_dsgn</th>\n",
       "      <th>cmte_tp</th>\n",
       "      <th>cmte_pty_affiliation</th>\n",
       "      <th>cmte_filing_freq</th>\n",
       "      <th>org_tp</th>\n",
       "      <th>connected_org_nm</th>\n",
       "      <th>cand_id</th>\n",
       "      <th>orig_tres_nm</th>\n",
       "      <th>orig_cmte_st1</th>\n",
       "      <th>address</th>\n",
       "    </tr>\n",
       "  </thead>\n",
       "  <tbody>\n",
       "    <tr>\n",
       "      <td>15960</td>\n",
       "      <td>C00683573</td>\n",
       "      <td>STRENGTH AND PROGRESS INC</td>\n",
       "      <td>MICHAEL DAVIS</td>\n",
       "      <td>30 N GOULD ST</td>\n",
       "      <td>STE 7981</td>\n",
       "      <td>SHERIDAN</td>\n",
       "      <td>WY</td>\n",
       "      <td>82801</td>\n",
       "      <td>U</td>\n",
       "      <td>N</td>\n",
       "      <td>UNK</td>\n",
       "      <td>Q</td>\n",
       "      <td>NaN</td>\n",
       "      <td>NaN</td>\n",
       "      <td>NaN</td>\n",
       "      <td>DAVIS, MICHAEL</td>\n",
       "      <td>30 N GOULD ST</td>\n",
       "      <td>30 N GOULD ST, SHERIDAN, WY 82801</td>\n",
       "    </tr>\n",
       "  </tbody>\n",
       "</table>\n",
       "</div>"
      ],
      "text/plain": [
       "         cmte_id                    cmte_nm        tres_nm       cmte_st1  \\\n",
       "15960  C00683573  STRENGTH AND PROGRESS INC  MICHAEL DAVIS  30 N GOULD ST   \n",
       "\n",
       "       cmte_st2 cmte_city cmte_st cmte_zip cmte_dsgn cmte_tp  \\\n",
       "15960  STE 7981  SHERIDAN      WY    82801         U       N   \n",
       "\n",
       "      cmte_pty_affiliation cmte_filing_freq org_tp connected_org_nm cand_id  \\\n",
       "15960                  UNK                Q    NaN              NaN     NaN   \n",
       "\n",
       "         orig_tres_nm  orig_cmte_st1                            address  \n",
       "15960  DAVIS, MICHAEL  30 N GOULD ST  30 N GOULD ST, SHERIDAN, WY 82801  "
      ]
     },
     "execution_count": 76,
     "metadata": {},
     "output_type": "execute_result"
    }
   ],
   "source": [
    "cm[cm['tres_nm'].apply(lambda x: x in ['MIKE DAVIS', 'MICHAEL DAVIS'])]"
   ]
  },
  {
   "cell_type": "code",
   "execution_count": 77,
   "metadata": {},
   "outputs": [],
   "source": [
    "dones.extend(findall(' davis'))"
   ]
  },
  {
   "cell_type": "code",
   "execution_count": 78,
   "metadata": {},
   "outputs": [
    {
     "data": {
      "text/plain": [
       "['ROB PHILLIPS', 'ROBERT PHILLIPS']"
      ]
     },
     "execution_count": 78,
     "metadata": {},
     "output_type": "execute_result"
    }
   ],
   "source": [
    "findall(['phillips', 'ob'])"
   ]
  },
  {
   "cell_type": "code",
   "execution_count": 79,
   "metadata": {},
   "outputs": [
    {
     "name": "stdout",
     "output_type": "stream",
     "text": [
      "orig len: 20\n",
      "new len: 24\n"
     ]
    }
   ],
   "source": [
    "new = 'ROBERT PHILLIPS' \n",
    "dones.append(new)\n",
    "\n",
    "these = findall(['phillips', 'ob'])\n",
    "\n",
    "getall(these, new)"
   ]
  },
  {
   "cell_type": "code",
   "execution_count": 80,
   "metadata": {},
   "outputs": [
    {
     "data": {
      "text/plain": [
       "['STEVE MELE', 'STEVEN MELE']"
      ]
     },
     "execution_count": 80,
     "metadata": {},
     "output_type": "execute_result"
    }
   ],
   "source": [
    "findall(' mele')"
   ]
  },
  {
   "cell_type": "code",
   "execution_count": 81,
   "metadata": {},
   "outputs": [
    {
     "data": {
      "text/html": [
       "<div>\n",
       "<style scoped>\n",
       "    .dataframe tbody tr th:only-of-type {\n",
       "        vertical-align: middle;\n",
       "    }\n",
       "\n",
       "    .dataframe tbody tr th {\n",
       "        vertical-align: top;\n",
       "    }\n",
       "\n",
       "    .dataframe thead th {\n",
       "        text-align: right;\n",
       "    }\n",
       "</style>\n",
       "<table border=\"1\" class=\"dataframe\">\n",
       "  <thead>\n",
       "    <tr style=\"text-align: right;\">\n",
       "      <th></th>\n",
       "      <th>cmte_id</th>\n",
       "      <th>cmte_nm</th>\n",
       "      <th>tres_nm</th>\n",
       "      <th>cmte_st1</th>\n",
       "      <th>cmte_st2</th>\n",
       "      <th>cmte_city</th>\n",
       "      <th>cmte_st</th>\n",
       "      <th>cmte_zip</th>\n",
       "      <th>cmte_dsgn</th>\n",
       "      <th>cmte_tp</th>\n",
       "      <th>cmte_pty_affiliation</th>\n",
       "      <th>cmte_filing_freq</th>\n",
       "      <th>org_tp</th>\n",
       "      <th>connected_org_nm</th>\n",
       "      <th>cand_id</th>\n",
       "      <th>orig_tres_nm</th>\n",
       "      <th>orig_cmte_st1</th>\n",
       "      <th>address</th>\n",
       "    </tr>\n",
       "  </thead>\n",
       "  <tbody>\n",
       "    <tr>\n",
       "      <td>5594</td>\n",
       "      <td>C00507574</td>\n",
       "      <td>MOTOR CITY PAC</td>\n",
       "      <td>STEVE MELE</td>\n",
       "      <td>611 PENNSYLVANIA AVE SE</td>\n",
       "      <td>STE 143</td>\n",
       "      <td>WASHINGTON</td>\n",
       "      <td>DC</td>\n",
       "      <td>20003</td>\n",
       "      <td>D</td>\n",
       "      <td>Q</td>\n",
       "      <td>UNK</td>\n",
       "      <td>M</td>\n",
       "      <td>NaN</td>\n",
       "      <td>NaN</td>\n",
       "      <td>NaN</td>\n",
       "      <td>MELE, STEVE</td>\n",
       "      <td>611 PENNSYLVANIA AVENUE SE</td>\n",
       "      <td>611 PENNSYLVANIA AVE SE, WASHINGTON, DC 20003</td>\n",
       "    </tr>\n",
       "    <tr>\n",
       "      <td>12747</td>\n",
       "      <td>C00650366</td>\n",
       "      <td>LESLIE COCKBURN FOR CONGRESS</td>\n",
       "      <td>STEVE MELE</td>\n",
       "      <td>PO BOX 186</td>\n",
       "      <td>NaN</td>\n",
       "      <td>SPERRYVILLE</td>\n",
       "      <td>VA</td>\n",
       "      <td>22740</td>\n",
       "      <td>P</td>\n",
       "      <td>H</td>\n",
       "      <td>DEM</td>\n",
       "      <td>Q</td>\n",
       "      <td>NaN</td>\n",
       "      <td>NONE</td>\n",
       "      <td>H8VA05155</td>\n",
       "      <td>MELE, STEVE</td>\n",
       "      <td>PO BOX 186</td>\n",
       "      <td>PO BOX 186, SPERRYVILLE, VA 22740</td>\n",
       "    </tr>\n",
       "    <tr>\n",
       "      <td>16182</td>\n",
       "      <td>C00685842</td>\n",
       "      <td>THE ARENA CANDIDATE PAC HOUSE VICTORY FUND</td>\n",
       "      <td>STEVE MELE</td>\n",
       "      <td>611 PENNSYLVANIA AVE SE</td>\n",
       "      <td>NUM 143</td>\n",
       "      <td>WASHINGTON</td>\n",
       "      <td>DC</td>\n",
       "      <td>20003</td>\n",
       "      <td>J</td>\n",
       "      <td>H</td>\n",
       "      <td>UNK</td>\n",
       "      <td>T</td>\n",
       "      <td>NaN</td>\n",
       "      <td>NaN</td>\n",
       "      <td>NaN</td>\n",
       "      <td>MELE, STEVE</td>\n",
       "      <td>611 PENNSYLVANIA AVE SE</td>\n",
       "      <td>611 PENNSYLVANIA AVE SE, WASHINGTON, DC 20003</td>\n",
       "    </tr>\n",
       "    <tr>\n",
       "      <td>16851</td>\n",
       "      <td>C00692988</td>\n",
       "      <td>ALL FOR OUR COUNTRY VICTORY FUND</td>\n",
       "      <td>STEVE MELE</td>\n",
       "      <td>611 PENNSYLVANIA AVE SE</td>\n",
       "      <td>STE. 143</td>\n",
       "      <td>WASHINGTON</td>\n",
       "      <td>DC</td>\n",
       "      <td>20003</td>\n",
       "      <td>J</td>\n",
       "      <td>N</td>\n",
       "      <td>UNK</td>\n",
       "      <td>Q</td>\n",
       "      <td>NaN</td>\n",
       "      <td>NONE</td>\n",
       "      <td>NaN</td>\n",
       "      <td>MELE, STEVE</td>\n",
       "      <td>611 PENNSYLVANIA AVENUE SE</td>\n",
       "      <td>611 PENNSYLVANIA AVE SE, WASHINGTON, DC 20003</td>\n",
       "    </tr>\n",
       "  </tbody>\n",
       "</table>\n",
       "</div>"
      ],
      "text/plain": [
       "         cmte_id                                     cmte_nm     tres_nm  \\\n",
       "5594   C00507574                              MOTOR CITY PAC  STEVE MELE   \n",
       "12747  C00650366                LESLIE COCKBURN FOR CONGRESS  STEVE MELE   \n",
       "16182  C00685842  THE ARENA CANDIDATE PAC HOUSE VICTORY FUND  STEVE MELE   \n",
       "16851  C00692988            ALL FOR OUR COUNTRY VICTORY FUND  STEVE MELE   \n",
       "\n",
       "                      cmte_st1  cmte_st2    cmte_city cmte_st cmte_zip  \\\n",
       "5594   611 PENNSYLVANIA AVE SE   STE 143   WASHINGTON      DC    20003   \n",
       "12747               PO BOX 186       NaN  SPERRYVILLE      VA    22740   \n",
       "16182  611 PENNSYLVANIA AVE SE   NUM 143   WASHINGTON      DC    20003   \n",
       "16851  611 PENNSYLVANIA AVE SE  STE. 143   WASHINGTON      DC    20003   \n",
       "\n",
       "      cmte_dsgn cmte_tp cmte_pty_affiliation cmte_filing_freq org_tp  \\\n",
       "5594          D       Q                  UNK                M    NaN   \n",
       "12747         P       H                  DEM                Q    NaN   \n",
       "16182         J       H                  UNK                T    NaN   \n",
       "16851         J       N                  UNK                Q    NaN   \n",
       "\n",
       "      connected_org_nm    cand_id orig_tres_nm               orig_cmte_st1  \\\n",
       "5594               NaN        NaN  MELE, STEVE  611 PENNSYLVANIA AVENUE SE   \n",
       "12747             NONE  H8VA05155  MELE, STEVE                  PO BOX 186   \n",
       "16182              NaN        NaN  MELE, STEVE     611 PENNSYLVANIA AVE SE   \n",
       "16851             NONE        NaN  MELE, STEVE  611 PENNSYLVANIA AVENUE SE   \n",
       "\n",
       "                                             address  \n",
       "5594   611 PENNSYLVANIA AVE SE, WASHINGTON, DC 20003  \n",
       "12747              PO BOX 186, SPERRYVILLE, VA 22740  \n",
       "16182  611 PENNSYLVANIA AVE SE, WASHINGTON, DC 20003  \n",
       "16851  611 PENNSYLVANIA AVE SE, WASHINGTON, DC 20003  "
      ]
     },
     "execution_count": 81,
     "metadata": {},
     "output_type": "execute_result"
    }
   ],
   "source": [
    "cm[cm['tres_nm'] == 'STEVE MELE']"
   ]
  },
  {
   "cell_type": "code",
   "execution_count": 82,
   "metadata": {},
   "outputs": [
    {
     "data": {
      "text/html": [
       "<div>\n",
       "<style scoped>\n",
       "    .dataframe tbody tr th:only-of-type {\n",
       "        vertical-align: middle;\n",
       "    }\n",
       "\n",
       "    .dataframe tbody tr th {\n",
       "        vertical-align: top;\n",
       "    }\n",
       "\n",
       "    .dataframe thead th {\n",
       "        text-align: right;\n",
       "    }\n",
       "</style>\n",
       "<table border=\"1\" class=\"dataframe\">\n",
       "  <thead>\n",
       "    <tr style=\"text-align: right;\">\n",
       "      <th></th>\n",
       "      <th>cmte_id</th>\n",
       "      <th>cmte_nm</th>\n",
       "      <th>tres_nm</th>\n",
       "      <th>cmte_st1</th>\n",
       "      <th>cmte_st2</th>\n",
       "      <th>cmte_city</th>\n",
       "      <th>cmte_st</th>\n",
       "      <th>cmte_zip</th>\n",
       "      <th>cmte_dsgn</th>\n",
       "      <th>cmte_tp</th>\n",
       "      <th>cmte_pty_affiliation</th>\n",
       "      <th>cmte_filing_freq</th>\n",
       "      <th>org_tp</th>\n",
       "      <th>connected_org_nm</th>\n",
       "      <th>cand_id</th>\n",
       "      <th>orig_tres_nm</th>\n",
       "      <th>orig_cmte_st1</th>\n",
       "      <th>address</th>\n",
       "    </tr>\n",
       "  </thead>\n",
       "  <tbody>\n",
       "    <tr>\n",
       "      <td>6138</td>\n",
       "      <td>C00526657</td>\n",
       "      <td>TOWARD TOMORROW PAC</td>\n",
       "      <td>STEVEN MELE</td>\n",
       "      <td>PO BOX 544</td>\n",
       "      <td>NaN</td>\n",
       "      <td>SAN ANTONIO</td>\n",
       "      <td>TX</td>\n",
       "      <td>78292</td>\n",
       "      <td>D</td>\n",
       "      <td>Q</td>\n",
       "      <td>UNK</td>\n",
       "      <td>M</td>\n",
       "      <td>NaN</td>\n",
       "      <td>NaN</td>\n",
       "      <td>NaN</td>\n",
       "      <td>MELE, STEVEN</td>\n",
       "      <td>PO BOX 544</td>\n",
       "      <td>PO BOX 544, SAN ANTONIO, TX 78292</td>\n",
       "    </tr>\n",
       "    <tr>\n",
       "      <td>8535</td>\n",
       "      <td>C00583104</td>\n",
       "      <td>CORTEZ MASTO VICTORY FUND</td>\n",
       "      <td>STEVEN MELE</td>\n",
       "      <td>611 PENNSYLVANIA AVE SE</td>\n",
       "      <td>NaN</td>\n",
       "      <td>WASHINGTON</td>\n",
       "      <td>DC</td>\n",
       "      <td>20003</td>\n",
       "      <td>J</td>\n",
       "      <td>N</td>\n",
       "      <td>UNK</td>\n",
       "      <td>T</td>\n",
       "      <td>NaN</td>\n",
       "      <td>NaN</td>\n",
       "      <td>NaN</td>\n",
       "      <td>STEVEN MELE</td>\n",
       "      <td>611 PENNSYLVANIA AVE SE SUITE 143</td>\n",
       "      <td>611 PENNSYLVANIA AVE SE, WASHINGTON, DC 20003</td>\n",
       "    </tr>\n",
       "    <tr>\n",
       "      <td>9460</td>\n",
       "      <td>C00606939</td>\n",
       "      <td>ROSEN FOR NEVADA</td>\n",
       "      <td>STEVEN MELE</td>\n",
       "      <td>PO BOX 27195</td>\n",
       "      <td>NaN</td>\n",
       "      <td>LAS VEGAS</td>\n",
       "      <td>NV</td>\n",
       "      <td>89126</td>\n",
       "      <td>P</td>\n",
       "      <td>S</td>\n",
       "      <td>DEM</td>\n",
       "      <td>Q</td>\n",
       "      <td>NaN</td>\n",
       "      <td>ROSEN VICTORY FUND</td>\n",
       "      <td>S8NV00156</td>\n",
       "      <td>MELE, STEVEN</td>\n",
       "      <td>PO BOX 27195</td>\n",
       "      <td>PO BOX 27195, LAS VEGAS, NV 89126</td>\n",
       "    </tr>\n",
       "    <tr>\n",
       "      <td>10991</td>\n",
       "      <td>C00627232</td>\n",
       "      <td>IVOTE ACTION FUND</td>\n",
       "      <td>STEVEN MELE</td>\n",
       "      <td>722 12TH ST NW</td>\n",
       "      <td>3RD FLOOR</td>\n",
       "      <td>WASHINGTON</td>\n",
       "      <td>DC</td>\n",
       "      <td>20005</td>\n",
       "      <td>U</td>\n",
       "      <td>O</td>\n",
       "      <td>UNK</td>\n",
       "      <td>Q</td>\n",
       "      <td>NaN</td>\n",
       "      <td>NONE</td>\n",
       "      <td>NaN</td>\n",
       "      <td>MELE, STEVEN</td>\n",
       "      <td>722 12TH ST NW</td>\n",
       "      <td>722 12TH ST NW, WASHINGTON, DC 20005</td>\n",
       "    </tr>\n",
       "    <tr>\n",
       "      <td>11170</td>\n",
       "      <td>C00629212</td>\n",
       "      <td>ALL FOR OUR COUNTRY LEADERSHIP PAC</td>\n",
       "      <td>STEVEN MELE</td>\n",
       "      <td>611 PENNSYLVANIA AVE SE</td>\n",
       "      <td>NaN</td>\n",
       "      <td>WASHINGTON</td>\n",
       "      <td>DC</td>\n",
       "      <td>20003</td>\n",
       "      <td>D</td>\n",
       "      <td>Q</td>\n",
       "      <td>UNK</td>\n",
       "      <td>M</td>\n",
       "      <td>NaN</td>\n",
       "      <td>NaN</td>\n",
       "      <td>NaN</td>\n",
       "      <td>STEVEN MELE</td>\n",
       "      <td>611 PENNSYLVANIA AVE SE, #143</td>\n",
       "      <td>611 PENNSYLVANIA AVE SE, WASHINGTON, DC 20003</td>\n",
       "    </tr>\n",
       "  </tbody>\n",
       "</table>\n",
       "</div>"
      ],
      "text/plain": [
       "         cmte_id                             cmte_nm      tres_nm  \\\n",
       "6138   C00526657                 TOWARD TOMORROW PAC  STEVEN MELE   \n",
       "8535   C00583104           CORTEZ MASTO VICTORY FUND  STEVEN MELE   \n",
       "9460   C00606939                    ROSEN FOR NEVADA  STEVEN MELE   \n",
       "10991  C00627232                   IVOTE ACTION FUND  STEVEN MELE   \n",
       "11170  C00629212  ALL FOR OUR COUNTRY LEADERSHIP PAC  STEVEN MELE   \n",
       "\n",
       "                      cmte_st1   cmte_st2    cmte_city cmte_st cmte_zip  \\\n",
       "6138                PO BOX 544        NaN  SAN ANTONIO      TX    78292   \n",
       "8535   611 PENNSYLVANIA AVE SE        NaN   WASHINGTON      DC    20003   \n",
       "9460              PO BOX 27195        NaN    LAS VEGAS      NV    89126   \n",
       "10991           722 12TH ST NW  3RD FLOOR   WASHINGTON      DC    20005   \n",
       "11170  611 PENNSYLVANIA AVE SE        NaN   WASHINGTON      DC    20003   \n",
       "\n",
       "      cmte_dsgn cmte_tp cmte_pty_affiliation cmte_filing_freq org_tp  \\\n",
       "6138          D       Q                  UNK                M    NaN   \n",
       "8535          J       N                  UNK                T    NaN   \n",
       "9460          P       S                  DEM                Q    NaN   \n",
       "10991         U       O                  UNK                Q    NaN   \n",
       "11170         D       Q                  UNK                M    NaN   \n",
       "\n",
       "         connected_org_nm    cand_id  orig_tres_nm  \\\n",
       "6138                  NaN        NaN  MELE, STEVEN   \n",
       "8535                  NaN        NaN   STEVEN MELE   \n",
       "9460   ROSEN VICTORY FUND  S8NV00156  MELE, STEVEN   \n",
       "10991                NONE        NaN  MELE, STEVEN   \n",
       "11170                 NaN        NaN   STEVEN MELE   \n",
       "\n",
       "                           orig_cmte_st1  \\\n",
       "6138                          PO BOX 544   \n",
       "8535   611 PENNSYLVANIA AVE SE SUITE 143   \n",
       "9460                        PO BOX 27195   \n",
       "10991                     722 12TH ST NW   \n",
       "11170      611 PENNSYLVANIA AVE SE, #143   \n",
       "\n",
       "                                             address  \n",
       "6138               PO BOX 544, SAN ANTONIO, TX 78292  \n",
       "8535   611 PENNSYLVANIA AVE SE, WASHINGTON, DC 20003  \n",
       "9460               PO BOX 27195, LAS VEGAS, NV 89126  \n",
       "10991           722 12TH ST NW, WASHINGTON, DC 20005  \n",
       "11170  611 PENNSYLVANIA AVE SE, WASHINGTON, DC 20003  "
      ]
     },
     "execution_count": 82,
     "metadata": {},
     "output_type": "execute_result"
    }
   ],
   "source": [
    "cm[cm['tres_nm'] == 'STEVEN MELE'].head()"
   ]
  },
  {
   "cell_type": "code",
   "execution_count": 83,
   "metadata": {},
   "outputs": [
    {
     "name": "stdout",
     "output_type": "stream",
     "text": [
      "orig len: 22\n",
      "new len: 26\n"
     ]
    }
   ],
   "source": [
    "new = 'STEVEN MELE'\n",
    "dones.append(new)\n",
    "\n",
    "these = findall(['steve', ' mele'])\n",
    "\n",
    "getall(these, new)"
   ]
  },
  {
   "cell_type": "code",
   "execution_count": 84,
   "metadata": {},
   "outputs": [
    {
     "data": {
      "text/plain": [
       "['SUE JACKSON', 'SUSAN JACKSON']"
      ]
     },
     "execution_count": 84,
     "metadata": {},
     "output_type": "execute_result"
    }
   ],
   "source": [
    "findall(['su', 'jackson'])"
   ]
  },
  {
   "cell_type": "code",
   "execution_count": 85,
   "metadata": {},
   "outputs": [
    {
     "name": "stdout",
     "output_type": "stream",
     "text": [
      "orig len: 2\n",
      "new len: 21\n"
     ]
    }
   ],
   "source": [
    "new = 'SUSAN JACKSON'\n",
    "dones.append(new)\n",
    "\n",
    "these = findall(['su', 'jackson'])\n",
    "\n",
    "getall(these, new)"
   ]
  },
  {
   "cell_type": "code",
   "execution_count": 86,
   "metadata": {},
   "outputs": [
    {
     "data": {
      "text/plain": [
       "['BENJAMIN OTTENHOFF', 'TIMOTHY OTTEN']"
      ]
     },
     "execution_count": 86,
     "metadata": {},
     "output_type": "execute_result"
    }
   ],
   "source": [
    "findall(' otte')"
   ]
  },
  {
   "cell_type": "code",
   "execution_count": 87,
   "metadata": {},
   "outputs": [
    {
     "name": "stdout",
     "output_type": "stream",
     "text": [
      "orig len: 55\n",
      "new len: 56\n"
     ]
    }
   ],
   "source": [
    "new = 'BENJAMIN OTTENHOFF'\n",
    "dones.append(new)\n",
    "\n",
    "these = findall(' otte')\n",
    "\n",
    "getall(these, new)"
   ]
  },
  {
   "cell_type": "code",
   "execution_count": 88,
   "metadata": {},
   "outputs": [
    {
     "data": {
      "text/plain": [
       "['ANN MCMILLAN',\n",
       " 'COLLIN MCMICHAEL',\n",
       " 'GEETA MCMILLAN',\n",
       " 'KURT MCMILLAN',\n",
       " 'MARY MCMILLAN']"
      ]
     },
     "execution_count": 88,
     "metadata": {},
     "output_type": "execute_result"
    }
   ],
   "source": [
    "findall(' mcmi')"
   ]
  },
  {
   "cell_type": "code",
   "execution_count": 89,
   "metadata": {},
   "outputs": [],
   "source": [
    "dones.extend(findall(' mcmi'))"
   ]
  },
  {
   "cell_type": "code",
   "execution_count": 90,
   "metadata": {},
   "outputs": [
    {
     "data": {
      "text/plain": [
       "['ANDY LEWIS JAMES',\n",
       " 'CHERYL LEWIS',\n",
       " 'CORDELIA LEWIS BURKS',\n",
       " 'DEBORAH LEWIS',\n",
       " 'DENISE LEWIS',\n",
       " 'EMANUEL LEWIS',\n",
       " 'JACK LEWIS CHARBONNEAU',\n",
       " 'JEFF LEWIS',\n",
       " 'JENNIFER LEWIS',\n",
       " 'KEET LEWIS',\n",
       " 'LARRY LEWIS',\n",
       " 'LEROY LEWIS',\n",
       " 'LINDSAY LEWIS',\n",
       " 'MARC LEWKOWITZ',\n",
       " 'MARK LEWIS',\n",
       " 'MARY PARKER LEWIS',\n",
       " 'MICHAEL LEWIS',\n",
       " 'NANCY LEWIS',\n",
       " 'NATHAN LEWIS WURTZEL',\n",
       " 'PAUL LEWIS',\n",
       " 'ROSS BAZELON LEWIN',\n",
       " \"SABRINA Y'VES LEWIS-JONES\",\n",
       " 'SANDRA LEWIS',\n",
       " 'SCOTT LEWIS',\n",
       " 'WENDY LEWIS',\n",
       " 'WILLIAM LEWIS FANATIA']"
      ]
     },
     "execution_count": 90,
     "metadata": {},
     "output_type": "execute_result"
    }
   ],
   "source": [
    "findall(' lew')"
   ]
  },
  {
   "cell_type": "code",
   "execution_count": 91,
   "metadata": {},
   "outputs": [
    {
     "data": {
      "text/plain": [
       "['ALEX-ST JAMES ANDREW RAILEY-CISCO',\n",
       " 'ANDREW JAMES MCDOWELL',\n",
       " 'ANDY LEWIS JAMES',\n",
       " 'BRANDON MICHAEL JAMES',\n",
       " 'CHANDLER JAMES HOUGHTLEN']"
      ]
     },
     "execution_count": 91,
     "metadata": {},
     "output_type": "execute_result"
    }
   ],
   "source": [
    "findall(['and', ' james'])"
   ]
  },
  {
   "cell_type": "code",
   "execution_count": 92,
   "metadata": {},
   "outputs": [
    {
     "data": {
      "text/plain": [
       "['CORDELIA LEWIS BURKS']"
      ]
     },
     "execution_count": 92,
     "metadata": {},
     "output_type": "execute_result"
    }
   ],
   "source": [
    "findall(['cord', 'burk'])"
   ]
  },
  {
   "cell_type": "code",
   "execution_count": 93,
   "metadata": {},
   "outputs": [
    {
     "data": {
      "text/plain": [
       "['JACK LEWIS CHARBONNEAU']"
      ]
     },
     "execution_count": 93,
     "metadata": {},
     "output_type": "execute_result"
    }
   ],
   "source": [
    "findall('charbon')"
   ]
  },
  {
   "cell_type": "code",
   "execution_count": 94,
   "metadata": {},
   "outputs": [
    {
     "data": {
      "text/plain": [
       "['NATHAN LEWIS WURTZEL']"
      ]
     },
     "execution_count": 94,
     "metadata": {},
     "output_type": "execute_result"
    }
   ],
   "source": [
    "findall(['nat', 'wurtz'])"
   ]
  },
  {
   "cell_type": "code",
   "execution_count": 95,
   "metadata": {},
   "outputs": [
    {
     "data": {
      "text/plain": [
       "['LINDA ALSTON']"
      ]
     },
     "execution_count": 95,
     "metadata": {},
     "output_type": "execute_result"
    }
   ],
   "source": [
    "findall(' alston')"
   ]
  },
  {
   "cell_type": "code",
   "execution_count": 96,
   "metadata": {},
   "outputs": [
    {
     "data": {
      "text/html": [
       "<div>\n",
       "<style scoped>\n",
       "    .dataframe tbody tr th:only-of-type {\n",
       "        vertical-align: middle;\n",
       "    }\n",
       "\n",
       "    .dataframe tbody tr th {\n",
       "        vertical-align: top;\n",
       "    }\n",
       "\n",
       "    .dataframe thead th {\n",
       "        text-align: right;\n",
       "    }\n",
       "</style>\n",
       "<table border=\"1\" class=\"dataframe\">\n",
       "  <thead>\n",
       "    <tr style=\"text-align: right;\">\n",
       "      <th></th>\n",
       "      <th>cmte_id</th>\n",
       "      <th>cmte_nm</th>\n",
       "      <th>tres_nm</th>\n",
       "      <th>cmte_st1</th>\n",
       "      <th>cmte_st2</th>\n",
       "      <th>cmte_city</th>\n",
       "      <th>cmte_st</th>\n",
       "      <th>cmte_zip</th>\n",
       "      <th>cmte_dsgn</th>\n",
       "      <th>cmte_tp</th>\n",
       "      <th>cmte_pty_affiliation</th>\n",
       "      <th>cmte_filing_freq</th>\n",
       "      <th>org_tp</th>\n",
       "      <th>connected_org_nm</th>\n",
       "      <th>cand_id</th>\n",
       "      <th>orig_tres_nm</th>\n",
       "      <th>orig_cmte_st1</th>\n",
       "      <th>address</th>\n",
       "    </tr>\n",
       "  </thead>\n",
       "  <tbody>\n",
       "    <tr>\n",
       "      <td>3934</td>\n",
       "      <td>C00450411</td>\n",
       "      <td>MOMENTUM PAC</td>\n",
       "      <td>WENDY LEWIS</td>\n",
       "      <td>1200 SMITH</td>\n",
       "      <td>SUITE 1600</td>\n",
       "      <td>HOUSTON</td>\n",
       "      <td>TX</td>\n",
       "      <td>77002</td>\n",
       "      <td>U</td>\n",
       "      <td>N</td>\n",
       "      <td>UNK</td>\n",
       "      <td>A</td>\n",
       "      <td>NaN</td>\n",
       "      <td>NaN</td>\n",
       "      <td>NaN</td>\n",
       "      <td>WENDY LEWIS</td>\n",
       "      <td>1200 SMITH</td>\n",
       "      <td>1200 SMITH, HOUSTON, TX 77002</td>\n",
       "    </tr>\n",
       "  </tbody>\n",
       "</table>\n",
       "</div>"
      ],
      "text/plain": [
       "        cmte_id       cmte_nm      tres_nm    cmte_st1    cmte_st2 cmte_city  \\\n",
       "3934  C00450411  MOMENTUM PAC  WENDY LEWIS  1200 SMITH  SUITE 1600   HOUSTON   \n",
       "\n",
       "     cmte_st cmte_zip cmte_dsgn cmte_tp cmte_pty_affiliation cmte_filing_freq  \\\n",
       "3934      TX    77002         U       N                  UNK                A   \n",
       "\n",
       "     org_tp connected_org_nm cand_id orig_tres_nm orig_cmte_st1  \\\n",
       "3934    NaN              NaN     NaN  WENDY LEWIS    1200 SMITH   \n",
       "\n",
       "                            address  \n",
       "3934  1200 SMITH, HOUSTON, TX 77002  "
      ]
     },
     "execution_count": 96,
     "metadata": {},
     "output_type": "execute_result"
    }
   ],
   "source": [
    "cm[cm['tres_nm'] == 'WENDY LEWIS']"
   ]
  },
  {
   "cell_type": "code",
   "execution_count": 97,
   "metadata": {},
   "outputs": [
    {
     "data": {
      "text/html": [
       "<div>\n",
       "<style scoped>\n",
       "    .dataframe tbody tr th:only-of-type {\n",
       "        vertical-align: middle;\n",
       "    }\n",
       "\n",
       "    .dataframe tbody tr th {\n",
       "        vertical-align: top;\n",
       "    }\n",
       "\n",
       "    .dataframe thead th {\n",
       "        text-align: right;\n",
       "    }\n",
       "</style>\n",
       "<table border=\"1\" class=\"dataframe\">\n",
       "  <thead>\n",
       "    <tr style=\"text-align: right;\">\n",
       "      <th></th>\n",
       "      <th>cmte_id</th>\n",
       "      <th>cmte_nm</th>\n",
       "      <th>tres_nm</th>\n",
       "      <th>cmte_st1</th>\n",
       "      <th>cmte_st2</th>\n",
       "      <th>cmte_city</th>\n",
       "      <th>cmte_st</th>\n",
       "      <th>cmte_zip</th>\n",
       "      <th>cmte_dsgn</th>\n",
       "      <th>cmte_tp</th>\n",
       "      <th>cmte_pty_affiliation</th>\n",
       "      <th>cmte_filing_freq</th>\n",
       "      <th>org_tp</th>\n",
       "      <th>connected_org_nm</th>\n",
       "      <th>cand_id</th>\n",
       "      <th>orig_tres_nm</th>\n",
       "      <th>orig_cmte_st1</th>\n",
       "      <th>address</th>\n",
       "    </tr>\n",
       "  </thead>\n",
       "  <tbody>\n",
       "  </tbody>\n",
       "</table>\n",
       "</div>"
      ],
      "text/plain": [
       "Empty DataFrame\n",
       "Columns: [cmte_id, cmte_nm, tres_nm, cmte_st1, cmte_st2, cmte_city, cmte_st, cmte_zip, cmte_dsgn, cmte_tp, cmte_pty_affiliation, cmte_filing_freq, org_tp, connected_org_nm, cand_id, orig_tres_nm, orig_cmte_st1, address]\n",
       "Index: []"
      ]
     },
     "execution_count": 97,
     "metadata": {},
     "output_type": "execute_result"
    }
   ],
   "source": [
    "cm[cm['tres_nm'] == 'WENDY LEWIS ARMSTRONG']"
   ]
  },
  {
   "cell_type": "code",
   "execution_count": 98,
   "metadata": {},
   "outputs": [
    {
     "name": "stdout",
     "output_type": "stream",
     "text": [
      "orig len: 1\n",
      "new len: 1\n"
     ]
    }
   ],
   "source": [
    "new = 'WENDY LEWIS'\n",
    "dones.append(new)\n",
    "\n",
    "these = findall('wendy lewis')\n",
    "\n",
    "getall(these, new)"
   ]
  },
  {
   "cell_type": "code",
   "execution_count": 99,
   "metadata": {},
   "outputs": [],
   "source": [
    "dones.extend(findall(' lew'))"
   ]
  },
  {
   "cell_type": "code",
   "execution_count": 100,
   "metadata": {},
   "outputs": [
    {
     "data": {
      "text/plain": [
       "['CHRISTOPHER LAWLOR', 'KELLY LAWLER', 'SEWARD LAWLOR']"
      ]
     },
     "execution_count": 100,
     "metadata": {},
     "output_type": "execute_result"
    }
   ],
   "source": [
    "findall(' lawl')"
   ]
  },
  {
   "cell_type": "code",
   "execution_count": 101,
   "metadata": {},
   "outputs": [],
   "source": [
    "dones.extend(findall(' lawl'))"
   ]
  },
  {
   "cell_type": "code",
   "execution_count": 102,
   "metadata": {},
   "outputs": [
    {
     "data": {
      "text/plain": [
       "['GARY CRUMMITT', 'JANE CRUMPLER', 'JOHN CRUMP']"
      ]
     },
     "execution_count": 102,
     "metadata": {},
     "output_type": "execute_result"
    }
   ],
   "source": [
    "findall(' crum')"
   ]
  },
  {
   "cell_type": "code",
   "execution_count": 103,
   "metadata": {},
   "outputs": [],
   "source": [
    "dones.extend(findall(' crum'))"
   ]
  },
  {
   "cell_type": "code",
   "execution_count": 104,
   "metadata": {},
   "outputs": [
    {
     "data": {
      "text/plain": [
       "['JEN SLATER', 'TODD SLATER']"
      ]
     },
     "execution_count": 104,
     "metadata": {},
     "output_type": "execute_result"
    }
   ],
   "source": [
    "findall(' slater')"
   ]
  },
  {
   "cell_type": "code",
   "execution_count": 105,
   "metadata": {},
   "outputs": [],
   "source": [
    "dones.extend(findall(' slater'))"
   ]
  },
  {
   "cell_type": "code",
   "execution_count": 106,
   "metadata": {},
   "outputs": [
    {
     "data": {
      "text/plain": [
       "['ALICIA MCCAULEY', 'MICHAEL MCCAULEY', 'MIKE MCCAULEY']"
      ]
     },
     "execution_count": 106,
     "metadata": {},
     "output_type": "execute_result"
    }
   ],
   "source": [
    "findall(' mccaul')"
   ]
  },
  {
   "cell_type": "code",
   "execution_count": 107,
   "metadata": {},
   "outputs": [],
   "source": [
    "dones.extend(findall(' mccaul'))"
   ]
  },
  {
   "cell_type": "code",
   "execution_count": 108,
   "metadata": {},
   "outputs": [
    {
     "data": {
      "text/plain": [
       "['CHRISTOPHER MONTGOMERY WOODFIN',\n",
       " 'DAVA MONTGOMERY',\n",
       " 'DIANE MONTGOMERY',\n",
       " 'JAY MONTGOMERY',\n",
       " 'LUKE MONTGOMERY',\n",
       " 'MEGAN MONTGOMERY',\n",
       " 'RUSSELL MONTGOMERY',\n",
       " 'THOMAS MONTGOMERY']"
      ]
     },
     "execution_count": 108,
     "metadata": {},
     "output_type": "execute_result"
    }
   ],
   "source": [
    "findall(' montg')"
   ]
  },
  {
   "cell_type": "code",
   "execution_count": 109,
   "metadata": {},
   "outputs": [],
   "source": [
    "dones.extend(findall(' montg'))"
   ]
  },
  {
   "cell_type": "code",
   "execution_count": 110,
   "metadata": {},
   "outputs": [
    {
     "data": {
      "text/plain": [
       "['MELISSA NISSEN']"
      ]
     },
     "execution_count": 110,
     "metadata": {},
     "output_type": "execute_result"
    }
   ],
   "source": [
    "findall(' nis')"
   ]
  },
  {
   "cell_type": "code",
   "execution_count": 111,
   "metadata": {},
   "outputs": [],
   "source": [
    "dones.extend(findall(' nis'))"
   ]
  },
  {
   "cell_type": "code",
   "execution_count": 112,
   "metadata": {},
   "outputs": [
    {
     "data": {
      "text/plain": [
       "['LAURA MATTHEWS', 'PAUL MATTHEWS']"
      ]
     },
     "execution_count": 112,
     "metadata": {},
     "output_type": "execute_result"
    }
   ],
   "source": [
    "findall(' matthews')"
   ]
  },
  {
   "cell_type": "code",
   "execution_count": 113,
   "metadata": {},
   "outputs": [],
   "source": [
    "dones.extend(findall(' matthews'))"
   ]
  },
  {
   "cell_type": "code",
   "execution_count": 114,
   "metadata": {},
   "outputs": [
    {
     "data": {
      "text/plain": [
       "['ANN MARIE GOULD', 'DAVID GOULD', 'VAN CHARLES GOULD']"
      ]
     },
     "execution_count": 114,
     "metadata": {},
     "output_type": "execute_result"
    }
   ],
   "source": [
    "findall(' goul')"
   ]
  },
  {
   "cell_type": "code",
   "execution_count": 115,
   "metadata": {},
   "outputs": [
    {
     "data": {
      "text/html": [
       "<div>\n",
       "<style scoped>\n",
       "    .dataframe tbody tr th:only-of-type {\n",
       "        vertical-align: middle;\n",
       "    }\n",
       "\n",
       "    .dataframe tbody tr th {\n",
       "        vertical-align: top;\n",
       "    }\n",
       "\n",
       "    .dataframe thead th {\n",
       "        text-align: right;\n",
       "    }\n",
       "</style>\n",
       "<table border=\"1\" class=\"dataframe\">\n",
       "  <thead>\n",
       "    <tr style=\"text-align: right;\">\n",
       "      <th></th>\n",
       "      <th>cmte_id</th>\n",
       "      <th>cmte_nm</th>\n",
       "      <th>tres_nm</th>\n",
       "      <th>cmte_st1</th>\n",
       "      <th>cmte_st2</th>\n",
       "      <th>cmte_city</th>\n",
       "      <th>cmte_st</th>\n",
       "      <th>cmte_zip</th>\n",
       "      <th>cmte_dsgn</th>\n",
       "      <th>cmte_tp</th>\n",
       "      <th>cmte_pty_affiliation</th>\n",
       "      <th>cmte_filing_freq</th>\n",
       "      <th>org_tp</th>\n",
       "      <th>connected_org_nm</th>\n",
       "      <th>cand_id</th>\n",
       "      <th>orig_tres_nm</th>\n",
       "      <th>orig_cmte_st1</th>\n",
       "      <th>address</th>\n",
       "    </tr>\n",
       "  </thead>\n",
       "  <tbody>\n",
       "  </tbody>\n",
       "</table>\n",
       "</div>"
      ],
      "text/plain": [
       "Empty DataFrame\n",
       "Columns: [cmte_id, cmte_nm, tres_nm, cmte_st1, cmte_st2, cmte_city, cmte_st, cmte_zip, cmte_dsgn, cmte_tp, cmte_pty_affiliation, cmte_filing_freq, org_tp, connected_org_nm, cand_id, orig_tres_nm, orig_cmte_st1, address]\n",
       "Index: []"
      ]
     },
     "execution_count": 115,
     "metadata": {},
     "output_type": "execute_result"
    }
   ],
   "source": [
    "cm[cm['tres_nm'].apply(lambda x: ('ADAM' in x) & ('GOULD' in x))]"
   ]
  },
  {
   "cell_type": "code",
   "execution_count": 116,
   "metadata": {},
   "outputs": [
    {
     "name": "stdout",
     "output_type": "stream",
     "text": [
      "orig len: 0\n",
      "new len: 0\n"
     ]
    }
   ],
   "source": [
    "new = 'ADAM KOHL GOULD'\n",
    "dones.append(new)\n",
    "\n",
    "these = findall(['adam', 'gould'])\n",
    "\n",
    "getall(these, new)"
   ]
  },
  {
   "cell_type": "code",
   "execution_count": 117,
   "metadata": {},
   "outputs": [],
   "source": [
    "dones.extend(findall(' goul'))"
   ]
  },
  {
   "cell_type": "code",
   "execution_count": 118,
   "metadata": {},
   "outputs": [
    {
     "data": {
      "text/plain": [
       "['CHARLES GANTT',\n",
       " 'HARVEY GANTT',\n",
       " 'MARIA VICTORIA GANACIAS BORJA',\n",
       " 'MARY RANDOLPH GANNON',\n",
       " 'PETER GANGI',\n",
       " 'RON GANT']"
      ]
     },
     "execution_count": 118,
     "metadata": {},
     "output_type": "execute_result"
    }
   ],
   "source": [
    "findall(' gan')"
   ]
  },
  {
   "cell_type": "code",
   "execution_count": 119,
   "metadata": {},
   "outputs": [
    {
     "data": {
      "text/plain": [
       "['MARIA VICTORIA GANACIAS BORJA']"
      ]
     },
     "execution_count": 119,
     "metadata": {},
     "output_type": "execute_result"
    }
   ],
   "source": [
    "findall('borja')"
   ]
  },
  {
   "cell_type": "code",
   "execution_count": 120,
   "metadata": {},
   "outputs": [
    {
     "data": {
      "text/plain": [
       "['MARY RANDOLPH GANNON']"
      ]
     },
     "execution_count": 120,
     "metadata": {},
     "output_type": "execute_result"
    }
   ],
   "source": [
    "findall(['mary', 'randolph'])"
   ]
  },
  {
   "cell_type": "code",
   "execution_count": 121,
   "metadata": {},
   "outputs": [],
   "source": [
    "dones.extend(findall(' gan'))"
   ]
  },
  {
   "cell_type": "code",
   "execution_count": 122,
   "metadata": {},
   "outputs": [
    {
     "data": {
      "text/plain": [
       "['HELEN CARLIN', 'JAMES CARLISLE', 'MICHAEL CARLIN', 'ROBERT CARLIN']"
      ]
     },
     "execution_count": 122,
     "metadata": {},
     "output_type": "execute_result"
    }
   ],
   "source": [
    "findall(' carli')"
   ]
  },
  {
   "cell_type": "code",
   "execution_count": 123,
   "metadata": {},
   "outputs": [],
   "source": [
    "dones.extend(findall(' carli'))"
   ]
  },
  {
   "cell_type": "code",
   "execution_count": 124,
   "metadata": {},
   "outputs": [
    {
     "data": {
      "text/plain": [
       "['ALLEN KRAMER',\n",
       " 'BETH KRATOCHVIL',\n",
       " 'BLAKE ALAN KRAPF',\n",
       " 'CATHERINE KRANTZ',\n",
       " 'DAVID KRALLE',\n",
       " 'DAVID KRAMER',\n",
       " 'DON KRAUS',\n",
       " 'JOHN KRALL',\n",
       " 'PATRICK KRASON',\n",
       " 'SHAWN KRAUSE',\n",
       " 'STEVEN KRAVITZ',\n",
       " 'TOM KRAUSE']"
      ]
     },
     "execution_count": 124,
     "metadata": {},
     "output_type": "execute_result"
    }
   ],
   "source": [
    "findall(' kra')"
   ]
  },
  {
   "cell_type": "code",
   "execution_count": 125,
   "metadata": {},
   "outputs": [
    {
     "data": {
      "text/html": [
       "<div>\n",
       "<style scoped>\n",
       "    .dataframe tbody tr th:only-of-type {\n",
       "        vertical-align: middle;\n",
       "    }\n",
       "\n",
       "    .dataframe tbody tr th {\n",
       "        vertical-align: top;\n",
       "    }\n",
       "\n",
       "    .dataframe thead th {\n",
       "        text-align: right;\n",
       "    }\n",
       "</style>\n",
       "<table border=\"1\" class=\"dataframe\">\n",
       "  <thead>\n",
       "    <tr style=\"text-align: right;\">\n",
       "      <th></th>\n",
       "      <th>cmte_id</th>\n",
       "      <th>cmte_nm</th>\n",
       "      <th>tres_nm</th>\n",
       "      <th>cmte_st1</th>\n",
       "      <th>cmte_st2</th>\n",
       "      <th>cmte_city</th>\n",
       "      <th>cmte_st</th>\n",
       "      <th>cmte_zip</th>\n",
       "      <th>cmte_dsgn</th>\n",
       "      <th>cmte_tp</th>\n",
       "      <th>cmte_pty_affiliation</th>\n",
       "      <th>cmte_filing_freq</th>\n",
       "      <th>org_tp</th>\n",
       "      <th>connected_org_nm</th>\n",
       "      <th>cand_id</th>\n",
       "      <th>orig_tres_nm</th>\n",
       "      <th>orig_cmte_st1</th>\n",
       "      <th>address</th>\n",
       "    </tr>\n",
       "  </thead>\n",
       "  <tbody>\n",
       "  </tbody>\n",
       "</table>\n",
       "</div>"
      ],
      "text/plain": [
       "Empty DataFrame\n",
       "Columns: [cmte_id, cmte_nm, tres_nm, cmte_st1, cmte_st2, cmte_city, cmte_st, cmte_zip, cmte_dsgn, cmte_tp, cmte_pty_affiliation, cmte_filing_freq, org_tp, connected_org_nm, cand_id, orig_tres_nm, orig_cmte_st1, address]\n",
       "Index: []"
      ]
     },
     "execution_count": 125,
     "metadata": {},
     "output_type": "execute_result"
    }
   ],
   "source": [
    "cm[cm['tres_nm'] == 'THOMAS KRAUS']"
   ]
  },
  {
   "cell_type": "code",
   "execution_count": 126,
   "metadata": {},
   "outputs": [
    {
     "data": {
      "text/html": [
       "<div>\n",
       "<style scoped>\n",
       "    .dataframe tbody tr th:only-of-type {\n",
       "        vertical-align: middle;\n",
       "    }\n",
       "\n",
       "    .dataframe tbody tr th {\n",
       "        vertical-align: top;\n",
       "    }\n",
       "\n",
       "    .dataframe thead th {\n",
       "        text-align: right;\n",
       "    }\n",
       "</style>\n",
       "<table border=\"1\" class=\"dataframe\">\n",
       "  <thead>\n",
       "    <tr style=\"text-align: right;\">\n",
       "      <th></th>\n",
       "      <th>cmte_id</th>\n",
       "      <th>cmte_nm</th>\n",
       "      <th>tres_nm</th>\n",
       "      <th>cmte_st1</th>\n",
       "      <th>cmte_st2</th>\n",
       "      <th>cmte_city</th>\n",
       "      <th>cmte_st</th>\n",
       "      <th>cmte_zip</th>\n",
       "      <th>cmte_dsgn</th>\n",
       "      <th>cmte_tp</th>\n",
       "      <th>cmte_pty_affiliation</th>\n",
       "      <th>cmte_filing_freq</th>\n",
       "      <th>org_tp</th>\n",
       "      <th>connected_org_nm</th>\n",
       "      <th>cand_id</th>\n",
       "      <th>orig_tres_nm</th>\n",
       "      <th>orig_cmte_st1</th>\n",
       "      <th>address</th>\n",
       "    </tr>\n",
       "  </thead>\n",
       "  <tbody>\n",
       "    <tr>\n",
       "      <td>15667</td>\n",
       "      <td>C00680504</td>\n",
       "      <td>BROADCOM INC. POLITICAL ACTION COMMITTEE (BROA...</td>\n",
       "      <td>TOM KRAUSE</td>\n",
       "      <td>1320 RIDDER PARK DR</td>\n",
       "      <td>NaN</td>\n",
       "      <td>SAN JOSE</td>\n",
       "      <td>CA</td>\n",
       "      <td>95131</td>\n",
       "      <td>U</td>\n",
       "      <td>Q</td>\n",
       "      <td>UNK</td>\n",
       "      <td>M</td>\n",
       "      <td>C</td>\n",
       "      <td>NaN</td>\n",
       "      <td>NaN</td>\n",
       "      <td>KRAUSE, TOM</td>\n",
       "      <td>1320 RIDDER PARK DR.</td>\n",
       "      <td>1320 RIDDER PARK DR, SAN JOSE, CA 95131</td>\n",
       "    </tr>\n",
       "  </tbody>\n",
       "</table>\n",
       "</div>"
      ],
      "text/plain": [
       "         cmte_id                                            cmte_nm  \\\n",
       "15667  C00680504  BROADCOM INC. POLITICAL ACTION COMMITTEE (BROA...   \n",
       "\n",
       "          tres_nm             cmte_st1 cmte_st2 cmte_city cmte_st cmte_zip  \\\n",
       "15667  TOM KRAUSE  1320 RIDDER PARK DR      NaN  SAN JOSE      CA    95131   \n",
       "\n",
       "      cmte_dsgn cmte_tp cmte_pty_affiliation cmte_filing_freq org_tp  \\\n",
       "15667         U       Q                  UNK                M      C   \n",
       "\n",
       "      connected_org_nm cand_id orig_tres_nm         orig_cmte_st1  \\\n",
       "15667              NaN     NaN  KRAUSE, TOM  1320 RIDDER PARK DR.   \n",
       "\n",
       "                                       address  \n",
       "15667  1320 RIDDER PARK DR, SAN JOSE, CA 95131  "
      ]
     },
     "execution_count": 126,
     "metadata": {},
     "output_type": "execute_result"
    }
   ],
   "source": [
    "cm[cm['tres_nm'] == 'TOM KRAUSE']"
   ]
  },
  {
   "cell_type": "code",
   "execution_count": 127,
   "metadata": {},
   "outputs": [],
   "source": [
    "dones.extend(findall(' kra'))"
   ]
  },
  {
   "cell_type": "code",
   "execution_count": 128,
   "metadata": {},
   "outputs": [
    {
     "data": {
      "text/plain": [
       "['KEVIN KOCH',\n",
       " 'LINDA KOCH',\n",
       " 'NICHOLAS KOCH',\n",
       " 'THEODORE KOCH',\n",
       " 'TIMOTHY KOCH',\n",
       " 'TOM KOCHAN']"
      ]
     },
     "execution_count": 128,
     "metadata": {},
     "output_type": "execute_result"
    }
   ],
   "source": [
    "findall(' koch')"
   ]
  },
  {
   "cell_type": "code",
   "execution_count": 129,
   "metadata": {},
   "outputs": [],
   "source": [
    "dones.extend(findall(' koch'))"
   ]
  },
  {
   "cell_type": "code",
   "execution_count": 130,
   "metadata": {},
   "outputs": [
    {
     "data": {
      "text/plain": [
       "['ALAN WINDGASSEN',\n",
       " 'ALISON WINGATE',\n",
       " 'ANDREW WINTERING',\n",
       " 'ARTHUR WINSTEAD',\n",
       " 'BRIGEN WINTERS',\n",
       " 'DEAN WINE',\n",
       " 'ELIZABETH WINN BJORK',\n",
       " 'HICKS WINTERS',\n",
       " 'JOHN WINKLER',\n",
       " 'KAREN WINGARD',\n",
       " 'MICHAEL WINTERHALTER',\n",
       " 'PATRICIA WINTER',\n",
       " 'ROBERT LEROY WINTER',\n",
       " 'ROBERT VAN WINTON',\n",
       " 'STEVE WIND',\n",
       " 'THOMAS WINTER',\n",
       " 'VICKIE WINPISINGER']"
      ]
     },
     "execution_count": 130,
     "metadata": {},
     "output_type": "execute_result"
    }
   ],
   "source": [
    "findall(' win')"
   ]
  },
  {
   "cell_type": "code",
   "execution_count": 131,
   "metadata": {},
   "outputs": [],
   "source": [
    "dones.extend(findall(' win'))"
   ]
  },
  {
   "cell_type": "code",
   "execution_count": 132,
   "metadata": {},
   "outputs": [
    {
     "data": {
      "text/plain": [
       "['ANDREW RITTENBERG',\n",
       " 'ERIN RITTER',\n",
       " 'JOEL RITER',\n",
       " 'MAX WILSON RITTER',\n",
       " 'TOM RITTER']"
      ]
     },
     "execution_count": 132,
     "metadata": {},
     "output_type": "execute_result"
    }
   ],
   "source": [
    "findall(' rit')"
   ]
  },
  {
   "cell_type": "code",
   "execution_count": 133,
   "metadata": {},
   "outputs": [],
   "source": [
    "dones.extend(findall(' rit'))"
   ]
  },
  {
   "cell_type": "code",
   "execution_count": 134,
   "metadata": {},
   "outputs": [
    {
     "data": {
      "text/plain": [
       "['ADAM TATUN',\n",
       " 'ALIX TATE',\n",
       " 'BRIAN TATUM',\n",
       " 'DARRYL TATTRIE',\n",
       " 'ELIZABETH TATE',\n",
       " 'JOHN TATE',\n",
       " 'MARTHA SHAW TATE',\n",
       " 'SAMBA TATA',\n",
       " 'SRINIVASA TATINENI',\n",
       " 'STANLEY TATE']"
      ]
     },
     "execution_count": 134,
     "metadata": {},
     "output_type": "execute_result"
    }
   ],
   "source": [
    "findall(' tat')"
   ]
  },
  {
   "cell_type": "code",
   "execution_count": 135,
   "metadata": {},
   "outputs": [
    {
     "data": {
      "text/html": [
       "<div>\n",
       "<style scoped>\n",
       "    .dataframe tbody tr th:only-of-type {\n",
       "        vertical-align: middle;\n",
       "    }\n",
       "\n",
       "    .dataframe tbody tr th {\n",
       "        vertical-align: top;\n",
       "    }\n",
       "\n",
       "    .dataframe thead th {\n",
       "        text-align: right;\n",
       "    }\n",
       "</style>\n",
       "<table border=\"1\" class=\"dataframe\">\n",
       "  <thead>\n",
       "    <tr style=\"text-align: right;\">\n",
       "      <th></th>\n",
       "      <th>cmte_id</th>\n",
       "      <th>cmte_nm</th>\n",
       "      <th>tres_nm</th>\n",
       "      <th>cmte_st1</th>\n",
       "      <th>cmte_st2</th>\n",
       "      <th>cmte_city</th>\n",
       "      <th>cmte_st</th>\n",
       "      <th>cmte_zip</th>\n",
       "      <th>cmte_dsgn</th>\n",
       "      <th>cmte_tp</th>\n",
       "      <th>cmte_pty_affiliation</th>\n",
       "      <th>cmte_filing_freq</th>\n",
       "      <th>org_tp</th>\n",
       "      <th>connected_org_nm</th>\n",
       "      <th>cand_id</th>\n",
       "      <th>orig_tres_nm</th>\n",
       "      <th>orig_cmte_st1</th>\n",
       "      <th>address</th>\n",
       "    </tr>\n",
       "  </thead>\n",
       "  <tbody>\n",
       "    <tr>\n",
       "      <td>3203</td>\n",
       "      <td>C00415026</td>\n",
       "      <td>AMERICAN FUELS AND PETROCHEMICAL MANUFACTURERS...</td>\n",
       "      <td>BRIAN TATUM</td>\n",
       "      <td>1800 M ST NW</td>\n",
       "      <td>SUITE 900 NORTH</td>\n",
       "      <td>WASHINGTON</td>\n",
       "      <td>DC</td>\n",
       "      <td>20036</td>\n",
       "      <td>B</td>\n",
       "      <td>Q</td>\n",
       "      <td>UNK</td>\n",
       "      <td>M</td>\n",
       "      <td>T</td>\n",
       "      <td>AMERICAN FUELS AND PETROCHEMICAL MANUFACTURERS...</td>\n",
       "      <td>NaN</td>\n",
       "      <td>TATUM, BRIAN</td>\n",
       "      <td>1800 M STREET NW</td>\n",
       "      <td>1800 M ST NW, WASHINGTON, DC 20036</td>\n",
       "    </tr>\n",
       "  </tbody>\n",
       "</table>\n",
       "</div>"
      ],
      "text/plain": [
       "        cmte_id                                            cmte_nm  \\\n",
       "3203  C00415026  AMERICAN FUELS AND PETROCHEMICAL MANUFACTURERS...   \n",
       "\n",
       "          tres_nm      cmte_st1         cmte_st2   cmte_city cmte_st cmte_zip  \\\n",
       "3203  BRIAN TATUM  1800 M ST NW  SUITE 900 NORTH  WASHINGTON      DC    20036   \n",
       "\n",
       "     cmte_dsgn cmte_tp cmte_pty_affiliation cmte_filing_freq org_tp  \\\n",
       "3203         B       Q                  UNK                M      T   \n",
       "\n",
       "                                       connected_org_nm cand_id  orig_tres_nm  \\\n",
       "3203  AMERICAN FUELS AND PETROCHEMICAL MANUFACTURERS...     NaN  TATUM, BRIAN   \n",
       "\n",
       "         orig_cmte_st1                             address  \n",
       "3203  1800 M STREET NW  1800 M ST NW, WASHINGTON, DC 20036  "
      ]
     },
     "execution_count": 135,
     "metadata": {},
     "output_type": "execute_result"
    }
   ],
   "source": [
    "cm[cm['tres_nm'].apply(lambda x: x in ['BRIAN TATUM', 'BRYAN TATUM'])]"
   ]
  },
  {
   "cell_type": "code",
   "execution_count": 136,
   "metadata": {},
   "outputs": [],
   "source": [
    "dones.extend(findall(' tat'))"
   ]
  },
  {
   "cell_type": "code",
   "execution_count": 137,
   "metadata": {},
   "outputs": [
    {
     "data": {
      "text/plain": [
       "['STEVE RALLS', 'STEVEN RALLS']"
      ]
     },
     "execution_count": 137,
     "metadata": {},
     "output_type": "execute_result"
    }
   ],
   "source": [
    "findall('ralls')"
   ]
  },
  {
   "cell_type": "code",
   "execution_count": 138,
   "metadata": {},
   "outputs": [
    {
     "data": {
      "text/html": [
       "<div>\n",
       "<style scoped>\n",
       "    .dataframe tbody tr th:only-of-type {\n",
       "        vertical-align: middle;\n",
       "    }\n",
       "\n",
       "    .dataframe tbody tr th {\n",
       "        vertical-align: top;\n",
       "    }\n",
       "\n",
       "    .dataframe thead th {\n",
       "        text-align: right;\n",
       "    }\n",
       "</style>\n",
       "<table border=\"1\" class=\"dataframe\">\n",
       "  <thead>\n",
       "    <tr style=\"text-align: right;\">\n",
       "      <th></th>\n",
       "      <th>cmte_id</th>\n",
       "      <th>cmte_nm</th>\n",
       "      <th>tres_nm</th>\n",
       "      <th>cmte_st1</th>\n",
       "      <th>cmte_st2</th>\n",
       "      <th>cmte_city</th>\n",
       "      <th>cmte_st</th>\n",
       "      <th>cmte_zip</th>\n",
       "      <th>cmte_dsgn</th>\n",
       "      <th>cmte_tp</th>\n",
       "      <th>cmte_pty_affiliation</th>\n",
       "      <th>cmte_filing_freq</th>\n",
       "      <th>org_tp</th>\n",
       "      <th>connected_org_nm</th>\n",
       "      <th>cand_id</th>\n",
       "      <th>orig_tres_nm</th>\n",
       "      <th>orig_cmte_st1</th>\n",
       "      <th>address</th>\n",
       "    </tr>\n",
       "  </thead>\n",
       "  <tbody>\n",
       "    <tr>\n",
       "      <td>2845</td>\n",
       "      <td>C00395467</td>\n",
       "      <td>JEFF FORTENBERRY FOR UNITED STATES CONGRESS</td>\n",
       "      <td>STEVEN RALLS</td>\n",
       "      <td>PO BOX 30265</td>\n",
       "      <td>NaN</td>\n",
       "      <td>LINCOLN</td>\n",
       "      <td>NE</td>\n",
       "      <td>68503</td>\n",
       "      <td>P</td>\n",
       "      <td>H</td>\n",
       "      <td>REP</td>\n",
       "      <td>Q</td>\n",
       "      <td>NaN</td>\n",
       "      <td>NONE</td>\n",
       "      <td>H4NE01064</td>\n",
       "      <td>RALLS, STEVEN</td>\n",
       "      <td>PO BOX 30265</td>\n",
       "      <td>PO BOX 30265, LINCOLN, NE 68503</td>\n",
       "    </tr>\n",
       "  </tbody>\n",
       "</table>\n",
       "</div>"
      ],
      "text/plain": [
       "        cmte_id                                      cmte_nm       tres_nm  \\\n",
       "2845  C00395467  JEFF FORTENBERRY FOR UNITED STATES CONGRESS  STEVEN RALLS   \n",
       "\n",
       "          cmte_st1 cmte_st2 cmte_city cmte_st cmte_zip cmte_dsgn cmte_tp  \\\n",
       "2845  PO BOX 30265      NaN   LINCOLN      NE    68503         P       H   \n",
       "\n",
       "     cmte_pty_affiliation cmte_filing_freq org_tp connected_org_nm    cand_id  \\\n",
       "2845                  REP                Q    NaN             NONE  H4NE01064   \n",
       "\n",
       "       orig_tres_nm orig_cmte_st1                          address  \n",
       "2845  RALLS, STEVEN  PO BOX 30265  PO BOX 30265, LINCOLN, NE 68503  "
      ]
     },
     "execution_count": 138,
     "metadata": {},
     "output_type": "execute_result"
    }
   ],
   "source": [
    "cm[cm['tres_nm'] == 'STEVEN RALLS']"
   ]
  },
  {
   "cell_type": "code",
   "execution_count": 139,
   "metadata": {},
   "outputs": [
    {
     "data": {
      "text/html": [
       "<div>\n",
       "<style scoped>\n",
       "    .dataframe tbody tr th:only-of-type {\n",
       "        vertical-align: middle;\n",
       "    }\n",
       "\n",
       "    .dataframe tbody tr th {\n",
       "        vertical-align: top;\n",
       "    }\n",
       "\n",
       "    .dataframe thead th {\n",
       "        text-align: right;\n",
       "    }\n",
       "</style>\n",
       "<table border=\"1\" class=\"dataframe\">\n",
       "  <thead>\n",
       "    <tr style=\"text-align: right;\">\n",
       "      <th></th>\n",
       "      <th>cmte_id</th>\n",
       "      <th>cmte_nm</th>\n",
       "      <th>tres_nm</th>\n",
       "      <th>cmte_st1</th>\n",
       "      <th>cmte_st2</th>\n",
       "      <th>cmte_city</th>\n",
       "      <th>cmte_st</th>\n",
       "      <th>cmte_zip</th>\n",
       "      <th>cmte_dsgn</th>\n",
       "      <th>cmte_tp</th>\n",
       "      <th>cmte_pty_affiliation</th>\n",
       "      <th>cmte_filing_freq</th>\n",
       "      <th>org_tp</th>\n",
       "      <th>connected_org_nm</th>\n",
       "      <th>cand_id</th>\n",
       "      <th>orig_tres_nm</th>\n",
       "      <th>orig_cmte_st1</th>\n",
       "      <th>address</th>\n",
       "    </tr>\n",
       "  </thead>\n",
       "  <tbody>\n",
       "    <tr>\n",
       "      <td>3389</td>\n",
       "      <td>C00426494</td>\n",
       "      <td>FOR OUR REPUBLIC'S TRADITIONS FUND AKA FORT FUND</td>\n",
       "      <td>STEVE RALLS</td>\n",
       "      <td>PO BOX 30883</td>\n",
       "      <td>NaN</td>\n",
       "      <td>LINCOLN</td>\n",
       "      <td>NE</td>\n",
       "      <td>68503</td>\n",
       "      <td>D</td>\n",
       "      <td>N</td>\n",
       "      <td>UNK</td>\n",
       "      <td>M</td>\n",
       "      <td>NaN</td>\n",
       "      <td>JEFF FORTENBERRY</td>\n",
       "      <td>NaN</td>\n",
       "      <td>RALLS, STEVE MR.</td>\n",
       "      <td>PO BOX 30883</td>\n",
       "      <td>PO BOX 30883, LINCOLN, NE 68503</td>\n",
       "    </tr>\n",
       "    <tr>\n",
       "      <td>3416</td>\n",
       "      <td>C00427781</td>\n",
       "      <td>ONLINE LENDERS ALLIANCE POLITICAL ACTION COMMI...</td>\n",
       "      <td>STEVE RALLS</td>\n",
       "      <td>PO BOX 15480</td>\n",
       "      <td>SE STATION</td>\n",
       "      <td>WASHINGTON</td>\n",
       "      <td>DC</td>\n",
       "      <td>20003</td>\n",
       "      <td>U</td>\n",
       "      <td>Q</td>\n",
       "      <td>UNK</td>\n",
       "      <td>M</td>\n",
       "      <td>M</td>\n",
       "      <td>ONLINE LENDERS ALLIANCE</td>\n",
       "      <td>NaN</td>\n",
       "      <td>RALLS, STEVE</td>\n",
       "      <td>PO BOX 15480</td>\n",
       "      <td>PO BOX 15480, WASHINGTON, DC 20003</td>\n",
       "    </tr>\n",
       "    <tr>\n",
       "      <td>5012</td>\n",
       "      <td>C00489336</td>\n",
       "      <td>WILD AND WONDERFUL PAC</td>\n",
       "      <td>STEVE RALLS</td>\n",
       "      <td>332 W LEE HWY</td>\n",
       "      <td># 303</td>\n",
       "      <td>WARRENTON</td>\n",
       "      <td>VA</td>\n",
       "      <td>20186</td>\n",
       "      <td>D</td>\n",
       "      <td>Q</td>\n",
       "      <td>UNK</td>\n",
       "      <td>M</td>\n",
       "      <td>NaN</td>\n",
       "      <td>NaN</td>\n",
       "      <td>NaN</td>\n",
       "      <td>RALLS, STEVE</td>\n",
       "      <td>332 W LEE HWY</td>\n",
       "      <td>332 W LEE HWY, WARRENTON, VA 20186</td>\n",
       "    </tr>\n",
       "    <tr>\n",
       "      <td>5345</td>\n",
       "      <td>C00498345</td>\n",
       "      <td>MULLIN FOR CONGRESS</td>\n",
       "      <td>STEVE RALLS</td>\n",
       "      <td>PO BOX 3681</td>\n",
       "      <td>NaN</td>\n",
       "      <td>MUSKOGEE</td>\n",
       "      <td>OK</td>\n",
       "      <td>74402</td>\n",
       "      <td>P</td>\n",
       "      <td>H</td>\n",
       "      <td>REP</td>\n",
       "      <td>Q</td>\n",
       "      <td>NaN</td>\n",
       "      <td>MULLIN VICTORY FUND</td>\n",
       "      <td>H2OK02083</td>\n",
       "      <td>RALLS, STEVE</td>\n",
       "      <td>PO BOX 3681</td>\n",
       "      <td>PO BOX 3681, MUSKOGEE, OK 74402</td>\n",
       "    </tr>\n",
       "    <tr>\n",
       "      <td>5508</td>\n",
       "      <td>C00504365</td>\n",
       "      <td>FUNDING REPUBLICANS SUPPORTING OPPORTUNITY AND...</td>\n",
       "      <td>STEVE RALLS</td>\n",
       "      <td>332 W LEE HWY</td>\n",
       "      <td># 303</td>\n",
       "      <td>WARRENTON</td>\n",
       "      <td>VA</td>\n",
       "      <td>20186</td>\n",
       "      <td>D</td>\n",
       "      <td>N</td>\n",
       "      <td>UNK</td>\n",
       "      <td>T</td>\n",
       "      <td>NaN</td>\n",
       "      <td>NaN</td>\n",
       "      <td>NaN</td>\n",
       "      <td>STEVE RALLS</td>\n",
       "      <td>332 W LEE HWY</td>\n",
       "      <td>332 W LEE HWY, WARRENTON, VA 20186</td>\n",
       "    </tr>\n",
       "  </tbody>\n",
       "</table>\n",
       "</div>"
      ],
      "text/plain": [
       "        cmte_id                                            cmte_nm  \\\n",
       "3389  C00426494   FOR OUR REPUBLIC'S TRADITIONS FUND AKA FORT FUND   \n",
       "3416  C00427781  ONLINE LENDERS ALLIANCE POLITICAL ACTION COMMI...   \n",
       "5012  C00489336                             WILD AND WONDERFUL PAC   \n",
       "5345  C00498345                                MULLIN FOR CONGRESS   \n",
       "5508  C00504365  FUNDING REPUBLICANS SUPPORTING OPPORTUNITY AND...   \n",
       "\n",
       "          tres_nm       cmte_st1    cmte_st2   cmte_city cmte_st cmte_zip  \\\n",
       "3389  STEVE RALLS   PO BOX 30883         NaN     LINCOLN      NE    68503   \n",
       "3416  STEVE RALLS   PO BOX 15480  SE STATION  WASHINGTON      DC    20003   \n",
       "5012  STEVE RALLS  332 W LEE HWY       # 303   WARRENTON      VA    20186   \n",
       "5345  STEVE RALLS    PO BOX 3681         NaN    MUSKOGEE      OK    74402   \n",
       "5508  STEVE RALLS  332 W LEE HWY       # 303   WARRENTON      VA    20186   \n",
       "\n",
       "     cmte_dsgn cmte_tp cmte_pty_affiliation cmte_filing_freq org_tp  \\\n",
       "3389         D       N                  UNK                M    NaN   \n",
       "3416         U       Q                  UNK                M      M   \n",
       "5012         D       Q                  UNK                M    NaN   \n",
       "5345         P       H                  REP                Q    NaN   \n",
       "5508         D       N                  UNK                T    NaN   \n",
       "\n",
       "             connected_org_nm    cand_id      orig_tres_nm  orig_cmte_st1  \\\n",
       "3389         JEFF FORTENBERRY        NaN  RALLS, STEVE MR.   PO BOX 30883   \n",
       "3416  ONLINE LENDERS ALLIANCE        NaN      RALLS, STEVE   PO BOX 15480   \n",
       "5012                      NaN        NaN      RALLS, STEVE  332 W LEE HWY   \n",
       "5345      MULLIN VICTORY FUND  H2OK02083      RALLS, STEVE    PO BOX 3681   \n",
       "5508                      NaN        NaN       STEVE RALLS  332 W LEE HWY   \n",
       "\n",
       "                                 address  \n",
       "3389     PO BOX 30883, LINCOLN, NE 68503  \n",
       "3416  PO BOX 15480, WASHINGTON, DC 20003  \n",
       "5012  332 W LEE HWY, WARRENTON, VA 20186  \n",
       "5345     PO BOX 3681, MUSKOGEE, OK 74402  \n",
       "5508  332 W LEE HWY, WARRENTON, VA 20186  "
      ]
     },
     "execution_count": 139,
     "metadata": {},
     "output_type": "execute_result"
    }
   ],
   "source": [
    "cm[cm['tres_nm'] == 'STEVE RALLS'].head()"
   ]
  },
  {
   "cell_type": "code",
   "execution_count": 140,
   "metadata": {},
   "outputs": [
    {
     "name": "stdout",
     "output_type": "stream",
     "text": [
      "orig len: 22\n",
      "new len: 23\n"
     ]
    }
   ],
   "source": [
    "new = 'STEVE RALLS'\n",
    "dones.append(new)\n",
    "\n",
    "these = findall('ralls')\n",
    "\n",
    "getall(these, new)"
   ]
  },
  {
   "cell_type": "code",
   "execution_count": 141,
   "metadata": {},
   "outputs": [
    {
     "data": {
      "text/plain": [
       "['BECKY HASSLEN',\n",
       " 'CHRISSIE HASTIE',\n",
       " 'GARY HASTY',\n",
       " 'JOSEPH HASTO',\n",
       " 'KHAWAR HASSAN',\n",
       " 'NEIL HASSETT']"
      ]
     },
     "execution_count": 141,
     "metadata": {},
     "output_type": "execute_result"
    }
   ],
   "source": [
    "findall(' has')"
   ]
  },
  {
   "cell_type": "code",
   "execution_count": 142,
   "metadata": {},
   "outputs": [],
   "source": [
    "dones.extend(findall(' has'))"
   ]
  },
  {
   "cell_type": "code",
   "execution_count": 143,
   "metadata": {},
   "outputs": [
    {
     "data": {
      "text/plain": [
       "['EMILY BUCHANAN',\n",
       " 'KATHERINE BUCHANAN',\n",
       " 'KIMBERLY BUCHAN',\n",
       " 'MARY ANNE BUCHANAN',\n",
       " 'SHAWN BUCHTEL',\n",
       " 'TIM BUCHE']"
      ]
     },
     "execution_count": 143,
     "metadata": {},
     "output_type": "execute_result"
    }
   ],
   "source": [
    "findall(' buch')"
   ]
  },
  {
   "cell_type": "code",
   "execution_count": 144,
   "metadata": {},
   "outputs": [],
   "source": [
    "dones.extend(findall(' buch'))"
   ]
  },
  {
   "cell_type": "code",
   "execution_count": 145,
   "metadata": {},
   "outputs": [
    {
     "data": {
      "text/plain": [
       "['ANDREW BACON',\n",
       " 'BENJAMIN BACKER',\n",
       " 'CATHARYNE BACH',\n",
       " 'DAN BACHUS',\n",
       " 'DAN BACKER',\n",
       " 'DANIEL BACINE',\n",
       " 'JA BACHMAN',\n",
       " 'JOEL BACON',\n",
       " 'WILLIAM BACHMAN']"
      ]
     },
     "execution_count": 145,
     "metadata": {},
     "output_type": "execute_result"
    }
   ],
   "source": [
    "findall(' bac')"
   ]
  },
  {
   "cell_type": "code",
   "execution_count": 146,
   "metadata": {},
   "outputs": [],
   "source": [
    "dones.extend(findall(' bac'))"
   ]
  },
  {
   "cell_type": "code",
   "execution_count": 147,
   "metadata": {},
   "outputs": [
    {
     "data": {
      "text/plain": [
       "['KEVIN BROGHAMER', 'LEE ANNE BROGOWSKI', 'MICHAEL BROGAN', 'RICHARD BROGAN']"
      ]
     },
     "execution_count": 147,
     "metadata": {},
     "output_type": "execute_result"
    }
   ],
   "source": [
    "findall(' brog')"
   ]
  },
  {
   "cell_type": "code",
   "execution_count": 148,
   "metadata": {},
   "outputs": [],
   "source": [
    "dones.extend(findall(' brog'))"
   ]
  },
  {
   "cell_type": "code",
   "execution_count": 149,
   "metadata": {},
   "outputs": [
    {
     "data": {
      "text/plain": [
       "['ANDREW GIANNONE',\n",
       " 'FRANCIS GIARDIELLO',\n",
       " 'HOLLY GIARRAPUTO',\n",
       " 'JOEL GIANNELLI',\n",
       " 'SAVERIO GIAMBALVO',\n",
       " 'SUSAN GIANNETTI LONGACRE']"
      ]
     },
     "execution_count": 149,
     "metadata": {},
     "output_type": "execute_result"
    }
   ],
   "source": [
    "findall(' gia')"
   ]
  },
  {
   "cell_type": "code",
   "execution_count": 150,
   "metadata": {},
   "outputs": [
    {
     "data": {
      "text/plain": [
       "['SUSAN GIANNETTI LONGACRE']"
      ]
     },
     "execution_count": 150,
     "metadata": {},
     "output_type": "execute_result"
    }
   ],
   "source": [
    "findall('longacre')"
   ]
  },
  {
   "cell_type": "code",
   "execution_count": 151,
   "metadata": {},
   "outputs": [],
   "source": [
    "dones.extend(findall(' gia'))"
   ]
  },
  {
   "cell_type": "code",
   "execution_count": 152,
   "metadata": {},
   "outputs": [
    {
     "data": {
      "text/plain": [
       "['SHAWNDA DEANE']"
      ]
     },
     "execution_count": 152,
     "metadata": {},
     "output_type": "execute_result"
    }
   ],
   "source": [
    "findall(' deane')"
   ]
  },
  {
   "cell_type": "code",
   "execution_count": 153,
   "metadata": {},
   "outputs": [],
   "source": [
    "dones.extend(findall(' deane'))"
   ]
  },
  {
   "cell_type": "code",
   "execution_count": 154,
   "metadata": {},
   "outputs": [
    {
     "data": {
      "text/plain": [
       "['DEBORAH RUTH HAGAR',\n",
       " 'HILLARY HAGERTY',\n",
       " 'JANICE GWYN HAGERMAN',\n",
       " 'JOHN HAGY',\n",
       " 'LORA HAGGARD',\n",
       " 'PAUL HAGY',\n",
       " 'RICHARD HAGEN',\n",
       " 'SARAH HAGER',\n",
       " 'TIMOTHY HAGAN']"
      ]
     },
     "execution_count": 154,
     "metadata": {},
     "output_type": "execute_result"
    }
   ],
   "source": [
    "findall(' hag')"
   ]
  },
  {
   "cell_type": "code",
   "execution_count": 155,
   "metadata": {},
   "outputs": [],
   "source": [
    "dones.extend(findall(' hag'))"
   ]
  },
  {
   "cell_type": "code",
   "execution_count": 156,
   "metadata": {},
   "outputs": [
    {
     "data": {
      "text/plain": [
       "['LINDSAY ANGERHOLZER']"
      ]
     },
     "execution_count": 156,
     "metadata": {},
     "output_type": "execute_result"
    }
   ],
   "source": [
    "findall(' anger')"
   ]
  },
  {
   "cell_type": "code",
   "execution_count": 157,
   "metadata": {},
   "outputs": [],
   "source": [
    "dones.extend(findall(' anger'))"
   ]
  },
  {
   "cell_type": "code",
   "execution_count": 158,
   "metadata": {},
   "outputs": [
    {
     "data": {
      "text/plain": [
       "['AARON LOWE',\n",
       " 'GRETCHEN LOWE',\n",
       " 'JENNIFER LOWE',\n",
       " 'KEITH LOWEY',\n",
       " 'LUCAS LOWELL EASLEY',\n",
       " 'ROSS LOWE',\n",
       " 'TRAVIS LOWE']"
      ]
     },
     "execution_count": 158,
     "metadata": {},
     "output_type": "execute_result"
    }
   ],
   "source": [
    "findall(' lowe')"
   ]
  },
  {
   "cell_type": "code",
   "execution_count": 159,
   "metadata": {},
   "outputs": [],
   "source": [
    "dones.extend(findall(' lowe'))"
   ]
  },
  {
   "cell_type": "code",
   "execution_count": 160,
   "metadata": {},
   "outputs": [
    {
     "data": {
      "text/plain": [
       "['BRIAN BAUER',\n",
       " 'CARL BAUMAN',\n",
       " 'DAVID BAUER',\n",
       " 'DAWN BAUMAN',\n",
       " 'GARY BAUER',\n",
       " 'LINDA BAUER DARR',\n",
       " 'NATALIE BAUR',\n",
       " 'ORPHEAO BAUM',\n",
       " 'PAULA BAUER',\n",
       " 'TED BAUER']"
      ]
     },
     "execution_count": 160,
     "metadata": {},
     "output_type": "execute_result"
    }
   ],
   "source": [
    "findall(' bau')"
   ]
  },
  {
   "cell_type": "code",
   "execution_count": 161,
   "metadata": {},
   "outputs": [
    {
     "data": {
      "text/plain": [
       "[]"
      ]
     },
     "execution_count": 161,
     "metadata": {},
     "output_type": "execute_result"
    }
   ],
   "source": [
    "findall(['ju', 'mart'])"
   ]
  },
  {
   "cell_type": "code",
   "execution_count": 162,
   "metadata": {},
   "outputs": [],
   "source": [
    "dones.extend(findall(' bau'))"
   ]
  },
  {
   "cell_type": "code",
   "execution_count": 163,
   "metadata": {},
   "outputs": [
    {
     "data": {
      "text/plain": [
       "['BRENT EVANS',\n",
       " 'BRIAN EVANS',\n",
       " 'DEBI EVANS',\n",
       " 'DIANE EVANS',\n",
       " 'DOUG EVANS',\n",
       " 'GEORGE EVANS',\n",
       " 'HEATHER EVANS',\n",
       " 'JAMES EVANS',\n",
       " 'JON EVANS',\n",
       " 'LYLE EVANS',\n",
       " 'MELISSA ANNE EVANS',\n",
       " 'NICHOLAS EVANS',\n",
       " 'WALTER EVANS']"
      ]
     },
     "execution_count": 163,
     "metadata": {},
     "output_type": "execute_result"
    }
   ],
   "source": [
    "findall(' evans')"
   ]
  },
  {
   "cell_type": "code",
   "execution_count": 164,
   "metadata": {},
   "outputs": [
    {
     "data": {
      "text/plain": [
       "['JOHN DOYLE', 'MATTHEW DOYLE', 'PETER DOYLE', 'TIM DOYLE']"
      ]
     },
     "execution_count": 164,
     "metadata": {},
     "output_type": "execute_result"
    }
   ],
   "source": [
    "findall(' doyle')"
   ]
  },
  {
   "cell_type": "code",
   "execution_count": 165,
   "metadata": {},
   "outputs": [],
   "source": [
    "dones.extend(findall(' doyle'))"
   ]
  },
  {
   "cell_type": "code",
   "execution_count": 166,
   "metadata": {},
   "outputs": [],
   "source": [
    "dones.extend(findall(' evans'))"
   ]
  },
  {
   "cell_type": "code",
   "execution_count": 167,
   "metadata": {},
   "outputs": [
    {
     "data": {
      "text/plain": [
       "['DAVE MASON',\n",
       " 'DAVID MASON',\n",
       " 'DIRK MASON CANTRELL',\n",
       " 'DYANA MASON',\n",
       " 'JACQUELINE MASON',\n",
       " 'MARCUS MASON',\n",
       " 'MICHAEL MASON',\n",
       " 'STACY MASON']"
      ]
     },
     "execution_count": 167,
     "metadata": {},
     "output_type": "execute_result"
    }
   ],
   "source": [
    "findall(' mason')"
   ]
  },
  {
   "cell_type": "code",
   "execution_count": 168,
   "metadata": {},
   "outputs": [
    {
     "data": {
      "text/html": [
       "<div>\n",
       "<style scoped>\n",
       "    .dataframe tbody tr th:only-of-type {\n",
       "        vertical-align: middle;\n",
       "    }\n",
       "\n",
       "    .dataframe tbody tr th {\n",
       "        vertical-align: top;\n",
       "    }\n",
       "\n",
       "    .dataframe thead th {\n",
       "        text-align: right;\n",
       "    }\n",
       "</style>\n",
       "<table border=\"1\" class=\"dataframe\">\n",
       "  <thead>\n",
       "    <tr style=\"text-align: right;\">\n",
       "      <th></th>\n",
       "      <th>cmte_id</th>\n",
       "      <th>cmte_nm</th>\n",
       "      <th>tres_nm</th>\n",
       "      <th>cmte_st1</th>\n",
       "      <th>cmte_st2</th>\n",
       "      <th>cmte_city</th>\n",
       "      <th>cmte_st</th>\n",
       "      <th>cmte_zip</th>\n",
       "      <th>cmte_dsgn</th>\n",
       "      <th>cmte_tp</th>\n",
       "      <th>cmte_pty_affiliation</th>\n",
       "      <th>cmte_filing_freq</th>\n",
       "      <th>org_tp</th>\n",
       "      <th>connected_org_nm</th>\n",
       "      <th>cand_id</th>\n",
       "      <th>orig_tres_nm</th>\n",
       "      <th>orig_cmte_st1</th>\n",
       "      <th>address</th>\n",
       "    </tr>\n",
       "  </thead>\n",
       "  <tbody>\n",
       "    <tr>\n",
       "      <td>3021</td>\n",
       "      <td>C00406850</td>\n",
       "      <td>BLUE CROSS BLUE SHIELD OF SOUTH CAROLINA FEDER...</td>\n",
       "      <td>DAVE MASON</td>\n",
       "      <td>INTERSTATE 20 AT ALPINE RD</td>\n",
       "      <td>NaN</td>\n",
       "      <td>COLUMBIA</td>\n",
       "      <td>SC</td>\n",
       "      <td>29214</td>\n",
       "      <td>B</td>\n",
       "      <td>Q</td>\n",
       "      <td>UNK</td>\n",
       "      <td>Q</td>\n",
       "      <td>C</td>\n",
       "      <td>NaN</td>\n",
       "      <td>NaN</td>\n",
       "      <td>MASON, DAVE MR.</td>\n",
       "      <td>INTERSTATE 20 AT ALPINE ROAD</td>\n",
       "      <td>INTERSTATE 20 AT ALPINE RD, COLUMBIA, SC 29214</td>\n",
       "    </tr>\n",
       "  </tbody>\n",
       "</table>\n",
       "</div>"
      ],
      "text/plain": [
       "        cmte_id                                            cmte_nm  \\\n",
       "3021  C00406850  BLUE CROSS BLUE SHIELD OF SOUTH CAROLINA FEDER...   \n",
       "\n",
       "         tres_nm                    cmte_st1 cmte_st2 cmte_city cmte_st  \\\n",
       "3021  DAVE MASON  INTERSTATE 20 AT ALPINE RD      NaN  COLUMBIA      SC   \n",
       "\n",
       "     cmte_zip cmte_dsgn cmte_tp cmte_pty_affiliation cmte_filing_freq org_tp  \\\n",
       "3021    29214         B       Q                  UNK                Q      C   \n",
       "\n",
       "     connected_org_nm cand_id     orig_tres_nm                 orig_cmte_st1  \\\n",
       "3021              NaN     NaN  MASON, DAVE MR.  INTERSTATE 20 AT ALPINE ROAD   \n",
       "\n",
       "                                             address  \n",
       "3021  INTERSTATE 20 AT ALPINE RD, COLUMBIA, SC 29214  "
      ]
     },
     "execution_count": 168,
     "metadata": {},
     "output_type": "execute_result"
    }
   ],
   "source": [
    "cm[cm['tres_nm'] == 'DAVE MASON'].head()"
   ]
  },
  {
   "cell_type": "code",
   "execution_count": 169,
   "metadata": {},
   "outputs": [
    {
     "data": {
      "text/html": [
       "<div>\n",
       "<style scoped>\n",
       "    .dataframe tbody tr th:only-of-type {\n",
       "        vertical-align: middle;\n",
       "    }\n",
       "\n",
       "    .dataframe tbody tr th {\n",
       "        vertical-align: top;\n",
       "    }\n",
       "\n",
       "    .dataframe thead th {\n",
       "        text-align: right;\n",
       "    }\n",
       "</style>\n",
       "<table border=\"1\" class=\"dataframe\">\n",
       "  <thead>\n",
       "    <tr style=\"text-align: right;\">\n",
       "      <th></th>\n",
       "      <th>cmte_id</th>\n",
       "      <th>cmte_nm</th>\n",
       "      <th>tres_nm</th>\n",
       "      <th>cmte_st1</th>\n",
       "      <th>cmte_st2</th>\n",
       "      <th>cmte_city</th>\n",
       "      <th>cmte_st</th>\n",
       "      <th>cmte_zip</th>\n",
       "      <th>cmte_dsgn</th>\n",
       "      <th>cmte_tp</th>\n",
       "      <th>cmte_pty_affiliation</th>\n",
       "      <th>cmte_filing_freq</th>\n",
       "      <th>org_tp</th>\n",
       "      <th>connected_org_nm</th>\n",
       "      <th>cand_id</th>\n",
       "      <th>orig_tres_nm</th>\n",
       "      <th>orig_cmte_st1</th>\n",
       "      <th>address</th>\n",
       "    </tr>\n",
       "  </thead>\n",
       "  <tbody>\n",
       "  </tbody>\n",
       "</table>\n",
       "</div>"
      ],
      "text/plain": [
       "Empty DataFrame\n",
       "Columns: [cmte_id, cmte_nm, tres_nm, cmte_st1, cmte_st2, cmte_city, cmte_st, cmte_zip, cmte_dsgn, cmte_tp, cmte_pty_affiliation, cmte_filing_freq, org_tp, connected_org_nm, cand_id, orig_tres_nm, orig_cmte_st1, address]\n",
       "Index: []"
      ]
     },
     "execution_count": 169,
     "metadata": {},
     "output_type": "execute_result"
    }
   ],
   "source": [
    "cm[(cm['tres_nm'] == 'DAVID MASON') & (cm['cmte_st'] == 'SC')].head()"
   ]
  },
  {
   "cell_type": "code",
   "execution_count": 170,
   "metadata": {},
   "outputs": [
    {
     "data": {
      "text/plain": [
       "['DIRK MASON CANTRELL']"
      ]
     },
     "execution_count": 170,
     "metadata": {},
     "output_type": "execute_result"
    }
   ],
   "source": [
    "findall('cantrell')"
   ]
  },
  {
   "cell_type": "code",
   "execution_count": 171,
   "metadata": {},
   "outputs": [
    {
     "data": {
      "text/html": [
       "<div>\n",
       "<style scoped>\n",
       "    .dataframe tbody tr th:only-of-type {\n",
       "        vertical-align: middle;\n",
       "    }\n",
       "\n",
       "    .dataframe tbody tr th {\n",
       "        vertical-align: top;\n",
       "    }\n",
       "\n",
       "    .dataframe thead th {\n",
       "        text-align: right;\n",
       "    }\n",
       "</style>\n",
       "<table border=\"1\" class=\"dataframe\">\n",
       "  <thead>\n",
       "    <tr style=\"text-align: right;\">\n",
       "      <th></th>\n",
       "      <th>cmte_id</th>\n",
       "      <th>cmte_nm</th>\n",
       "      <th>tres_nm</th>\n",
       "      <th>cmte_st1</th>\n",
       "      <th>cmte_st2</th>\n",
       "      <th>cmte_city</th>\n",
       "      <th>cmte_st</th>\n",
       "      <th>cmte_zip</th>\n",
       "      <th>cmte_dsgn</th>\n",
       "      <th>cmte_tp</th>\n",
       "      <th>cmte_pty_affiliation</th>\n",
       "      <th>cmte_filing_freq</th>\n",
       "      <th>org_tp</th>\n",
       "      <th>connected_org_nm</th>\n",
       "      <th>cand_id</th>\n",
       "      <th>orig_tres_nm</th>\n",
       "      <th>orig_cmte_st1</th>\n",
       "      <th>address</th>\n",
       "    </tr>\n",
       "  </thead>\n",
       "  <tbody>\n",
       "  </tbody>\n",
       "</table>\n",
       "</div>"
      ],
      "text/plain": [
       "Empty DataFrame\n",
       "Columns: [cmte_id, cmte_nm, tres_nm, cmte_st1, cmte_st2, cmte_city, cmte_st, cmte_zip, cmte_dsgn, cmte_tp, cmte_pty_affiliation, cmte_filing_freq, org_tp, connected_org_nm, cand_id, orig_tres_nm, orig_cmte_st1, address]\n",
       "Index: []"
      ]
     },
     "execution_count": 171,
     "metadata": {},
     "output_type": "execute_result"
    }
   ],
   "source": [
    "cm[cm['tres_nm'] == 'MICHAEL THOMAS MASON'].head()"
   ]
  },
  {
   "cell_type": "code",
   "execution_count": 172,
   "metadata": {},
   "outputs": [
    {
     "data": {
      "text/html": [
       "<div>\n",
       "<style scoped>\n",
       "    .dataframe tbody tr th:only-of-type {\n",
       "        vertical-align: middle;\n",
       "    }\n",
       "\n",
       "    .dataframe tbody tr th {\n",
       "        vertical-align: top;\n",
       "    }\n",
       "\n",
       "    .dataframe thead th {\n",
       "        text-align: right;\n",
       "    }\n",
       "</style>\n",
       "<table border=\"1\" class=\"dataframe\">\n",
       "  <thead>\n",
       "    <tr style=\"text-align: right;\">\n",
       "      <th></th>\n",
       "      <th>cmte_id</th>\n",
       "      <th>cmte_nm</th>\n",
       "      <th>tres_nm</th>\n",
       "      <th>cmte_st1</th>\n",
       "      <th>cmte_st2</th>\n",
       "      <th>cmte_city</th>\n",
       "      <th>cmte_st</th>\n",
       "      <th>cmte_zip</th>\n",
       "      <th>cmte_dsgn</th>\n",
       "      <th>cmte_tp</th>\n",
       "      <th>cmte_pty_affiliation</th>\n",
       "      <th>cmte_filing_freq</th>\n",
       "      <th>org_tp</th>\n",
       "      <th>connected_org_nm</th>\n",
       "      <th>cand_id</th>\n",
       "      <th>orig_tres_nm</th>\n",
       "      <th>orig_cmte_st1</th>\n",
       "      <th>address</th>\n",
       "    </tr>\n",
       "  </thead>\n",
       "  <tbody>\n",
       "    <tr>\n",
       "      <td>1574</td>\n",
       "      <td>C00268904</td>\n",
       "      <td>TRINITY INDUSTRIES EMPLOYEE POLITICAL ACTION C...</td>\n",
       "      <td>MICHAEL MASON</td>\n",
       "      <td>2525 N STEMMONS FREEWAY</td>\n",
       "      <td>NaN</td>\n",
       "      <td>DALLAS</td>\n",
       "      <td>TX</td>\n",
       "      <td>75207</td>\n",
       "      <td>B</td>\n",
       "      <td>Q</td>\n",
       "      <td>UNK</td>\n",
       "      <td>M</td>\n",
       "      <td>C</td>\n",
       "      <td>TRINITY INDUSTRIES INC.</td>\n",
       "      <td>NaN</td>\n",
       "      <td>MASON, MICHAEL J.</td>\n",
       "      <td>2525 N. STEMMONS FREEWAY</td>\n",
       "      <td>2525 N STEMMONS FREEWAY, DALLAS, TX 75207</td>\n",
       "    </tr>\n",
       "  </tbody>\n",
       "</table>\n",
       "</div>"
      ],
      "text/plain": [
       "        cmte_id                                            cmte_nm  \\\n",
       "1574  C00268904  TRINITY INDUSTRIES EMPLOYEE POLITICAL ACTION C...   \n",
       "\n",
       "            tres_nm                 cmte_st1 cmte_st2 cmte_city cmte_st  \\\n",
       "1574  MICHAEL MASON  2525 N STEMMONS FREEWAY      NaN    DALLAS      TX   \n",
       "\n",
       "     cmte_zip cmte_dsgn cmte_tp cmte_pty_affiliation cmte_filing_freq org_tp  \\\n",
       "1574    75207         B       Q                  UNK                M      C   \n",
       "\n",
       "             connected_org_nm cand_id       orig_tres_nm  \\\n",
       "1574  TRINITY INDUSTRIES INC.     NaN  MASON, MICHAEL J.   \n",
       "\n",
       "                 orig_cmte_st1                                    address  \n",
       "1574  2525 N. STEMMONS FREEWAY  2525 N STEMMONS FREEWAY, DALLAS, TX 75207  "
      ]
     },
     "execution_count": 172,
     "metadata": {},
     "output_type": "execute_result"
    }
   ],
   "source": [
    "cm[(cm['tres_nm'] == 'MICHAEL MASON') & (cm['cmte_st'] == 'TX')].head()"
   ]
  },
  {
   "cell_type": "code",
   "execution_count": 173,
   "metadata": {},
   "outputs": [
    {
     "name": "stdout",
     "output_type": "stream",
     "text": [
      "orig len: 1\n",
      "new len: 1\n"
     ]
    }
   ],
   "source": [
    "new = 'MICHAEL MASON'\n",
    "dones.append(new)\n",
    "\n",
    "these = findall(['michael', 'mason'])\n",
    "\n",
    "getall(these, new)"
   ]
  },
  {
   "cell_type": "code",
   "execution_count": 174,
   "metadata": {},
   "outputs": [
    {
     "data": {
      "text/plain": [
       "['CHRISTINA HALEY',\n",
       " 'DAN HALEY',\n",
       " 'DONALD BRETT HALE',\n",
       " 'JAMES HALE',\n",
       " 'NANCY HALEY',\n",
       " 'RANDY HALE',\n",
       " 'TONY HALE',\n",
       " 'YVONNE HALEJKO']"
      ]
     },
     "execution_count": 174,
     "metadata": {},
     "output_type": "execute_result"
    }
   ],
   "source": [
    "findall(' hale')"
   ]
  },
  {
   "cell_type": "code",
   "execution_count": 175,
   "metadata": {},
   "outputs": [],
   "source": [
    "dones.extend(findall(' mason'))"
   ]
  },
  {
   "cell_type": "code",
   "execution_count": 176,
   "metadata": {},
   "outputs": [
    {
     "data": {
      "text/plain": [
       "['JOHN LLOYD', 'JUSTIN LLOYD MCNEEL', 'PHILIP LLOYD', 'WILLIS LLOYD']"
      ]
     },
     "execution_count": 176,
     "metadata": {},
     "output_type": "execute_result"
    }
   ],
   "source": [
    "findall(' lloyd')"
   ]
  },
  {
   "cell_type": "code",
   "execution_count": 177,
   "metadata": {},
   "outputs": [
    {
     "data": {
      "text/plain": [
       "['JUSTIN LLOYD MCNEEL']"
      ]
     },
     "execution_count": 177,
     "metadata": {},
     "output_type": "execute_result"
    }
   ],
   "source": [
    "findall(' mcneel')"
   ]
  },
  {
   "cell_type": "code",
   "execution_count": 178,
   "metadata": {},
   "outputs": [],
   "source": [
    "dones.extend(findall(' lloyd'))"
   ]
  },
  {
   "cell_type": "code",
   "execution_count": 179,
   "metadata": {},
   "outputs": [
    {
     "data": {
      "text/plain": [
       "['ANDREW JOHNSON',\n",
       " 'AQUASIA JOHNSON',\n",
       " 'ARLEY JOHNSON',\n",
       " 'ARNOLD JOHNSON',\n",
       " 'BETTY JOHNSON',\n",
       " 'BRAD JOHNSON',\n",
       " 'BRIAN JOHNSON',\n",
       " 'BURT JOHNSON',\n",
       " 'CATHERINE JOHNSON',\n",
       " 'CHARLES JOHNSON',\n",
       " 'CHELSEA JOHNSON',\n",
       " 'CHRIS JOHNSON',\n",
       " 'CLAY JOHNSON',\n",
       " 'CLIFFORD JOHNSON',\n",
       " 'CONSTANCE JOHNSON',\n",
       " 'CORY JOHNSON',\n",
       " 'DAVID JOHNSON',\n",
       " 'DUANE JOSEPH JOHNSON',\n",
       " 'EDDIE JOHNSON',\n",
       " 'EMMA JOHNSON',\n",
       " 'ERIC JOHNSON',\n",
       " 'ERIK ARLEN JOHNSON',\n",
       " 'GEORGE JOHNSON',\n",
       " 'GREGORY JOHNSON',\n",
       " 'JAMES JOHNSON',\n",
       " 'JUDITH JOHNSON',\n",
       " 'JULIE JOHNSON',\n",
       " 'KENNETH JOHNSON',\n",
       " 'LINELL JOHNSON',\n",
       " 'LORRETTA JOHNSON',\n",
       " 'LOUIS JOHNSON',\n",
       " 'MARK JOHNSON',\n",
       " 'MATTHEW JOHNSON',\n",
       " 'MELODIE JOHNSON',\n",
       " 'MICHAEL JOHNSON',\n",
       " 'OTIS LEE JOHNSON',\n",
       " 'PRINCESS JOHNSON',\n",
       " 'ROBERT JOHNSON',\n",
       " 'SARAH JOHNSON',\n",
       " 'STANLEY JOHNSON',\n",
       " 'STEPHEN JOHNSON',\n",
       " 'SUSAN JOHNSON',\n",
       " 'THOMAS JOHNSON',\n",
       " 'THOMAS WAYNE JOHNSON',\n",
       " 'VERDELL JOHNSON',\n",
       " 'WILLIAM JOHNSON']"
      ]
     },
     "execution_count": 179,
     "metadata": {},
     "output_type": "execute_result"
    }
   ],
   "source": [
    "findall(' johnson')"
   ]
  },
  {
   "cell_type": "code",
   "execution_count": 180,
   "metadata": {},
   "outputs": [
    {
     "data": {
      "text/html": [
       "<div>\n",
       "<style scoped>\n",
       "    .dataframe tbody tr th:only-of-type {\n",
       "        vertical-align: middle;\n",
       "    }\n",
       "\n",
       "    .dataframe tbody tr th {\n",
       "        vertical-align: top;\n",
       "    }\n",
       "\n",
       "    .dataframe thead th {\n",
       "        text-align: right;\n",
       "    }\n",
       "</style>\n",
       "<table border=\"1\" class=\"dataframe\">\n",
       "  <thead>\n",
       "    <tr style=\"text-align: right;\">\n",
       "      <th></th>\n",
       "      <th>cmte_id</th>\n",
       "      <th>cmte_nm</th>\n",
       "      <th>tres_nm</th>\n",
       "      <th>cmte_st1</th>\n",
       "      <th>cmte_st2</th>\n",
       "      <th>cmte_city</th>\n",
       "      <th>cmte_st</th>\n",
       "      <th>cmte_zip</th>\n",
       "      <th>cmte_dsgn</th>\n",
       "      <th>cmte_tp</th>\n",
       "      <th>cmte_pty_affiliation</th>\n",
       "      <th>cmte_filing_freq</th>\n",
       "      <th>org_tp</th>\n",
       "      <th>connected_org_nm</th>\n",
       "      <th>cand_id</th>\n",
       "      <th>orig_tres_nm</th>\n",
       "      <th>orig_cmte_st1</th>\n",
       "      <th>address</th>\n",
       "    </tr>\n",
       "  </thead>\n",
       "  <tbody>\n",
       "  </tbody>\n",
       "</table>\n",
       "</div>"
      ],
      "text/plain": [
       "Empty DataFrame\n",
       "Columns: [cmte_id, cmte_nm, tres_nm, cmte_st1, cmte_st2, cmte_city, cmte_st, cmte_zip, cmte_dsgn, cmte_tp, cmte_pty_affiliation, cmte_filing_freq, org_tp, connected_org_nm, cand_id, orig_tres_nm, orig_cmte_st1, address]\n",
       "Index: []"
      ]
     },
     "execution_count": 180,
     "metadata": {},
     "output_type": "execute_result"
    }
   ],
   "source": [
    "cm[cm['tres_nm'] == 'ARLEN JOHNSON']"
   ]
  },
  {
   "cell_type": "code",
   "execution_count": 181,
   "metadata": {},
   "outputs": [
    {
     "data": {
      "text/html": [
       "<div>\n",
       "<style scoped>\n",
       "    .dataframe tbody tr th:only-of-type {\n",
       "        vertical-align: middle;\n",
       "    }\n",
       "\n",
       "    .dataframe tbody tr th {\n",
       "        vertical-align: top;\n",
       "    }\n",
       "\n",
       "    .dataframe thead th {\n",
       "        text-align: right;\n",
       "    }\n",
       "</style>\n",
       "<table border=\"1\" class=\"dataframe\">\n",
       "  <thead>\n",
       "    <tr style=\"text-align: right;\">\n",
       "      <th></th>\n",
       "      <th>cmte_id</th>\n",
       "      <th>cmte_nm</th>\n",
       "      <th>tres_nm</th>\n",
       "      <th>cmte_st1</th>\n",
       "      <th>cmte_st2</th>\n",
       "      <th>cmte_city</th>\n",
       "      <th>cmte_st</th>\n",
       "      <th>cmte_zip</th>\n",
       "      <th>cmte_dsgn</th>\n",
       "      <th>cmte_tp</th>\n",
       "      <th>cmte_pty_affiliation</th>\n",
       "      <th>cmte_filing_freq</th>\n",
       "      <th>org_tp</th>\n",
       "      <th>connected_org_nm</th>\n",
       "      <th>cand_id</th>\n",
       "      <th>orig_tres_nm</th>\n",
       "      <th>orig_cmte_st1</th>\n",
       "      <th>address</th>\n",
       "    </tr>\n",
       "  </thead>\n",
       "  <tbody>\n",
       "    <tr>\n",
       "      <td>16221</td>\n",
       "      <td>C00686238</td>\n",
       "      <td>RESISTERY PAC</td>\n",
       "      <td>ERIK ARLEN JOHNSON</td>\n",
       "      <td>275 LAKE DR</td>\n",
       "      <td>NaN</td>\n",
       "      <td>KENSINGTON</td>\n",
       "      <td>CA</td>\n",
       "      <td>94708</td>\n",
       "      <td>U</td>\n",
       "      <td>O</td>\n",
       "      <td>UNK</td>\n",
       "      <td>Q</td>\n",
       "      <td>NaN</td>\n",
       "      <td>NaN</td>\n",
       "      <td>NaN</td>\n",
       "      <td>ERIK ARLEN JOHNSON</td>\n",
       "      <td>275 LAKE DRIVE</td>\n",
       "      <td>275 LAKE DR, KENSINGTON, CA 94708</td>\n",
       "    </tr>\n",
       "  </tbody>\n",
       "</table>\n",
       "</div>"
      ],
      "text/plain": [
       "         cmte_id        cmte_nm             tres_nm     cmte_st1 cmte_st2  \\\n",
       "16221  C00686238  RESISTERY PAC  ERIK ARLEN JOHNSON  275 LAKE DR      NaN   \n",
       "\n",
       "         cmte_city cmte_st cmte_zip cmte_dsgn cmte_tp cmte_pty_affiliation  \\\n",
       "16221  KENSINGTON       CA    94708         U       O                  UNK   \n",
       "\n",
       "      cmte_filing_freq org_tp connected_org_nm cand_id        orig_tres_nm  \\\n",
       "16221                Q    NaN              NaN     NaN  ERIK ARLEN JOHNSON   \n",
       "\n",
       "        orig_cmte_st1                            address  \n",
       "16221  275 LAKE DRIVE  275 LAKE DR, KENSINGTON, CA 94708  "
      ]
     },
     "execution_count": 181,
     "metadata": {},
     "output_type": "execute_result"
    }
   ],
   "source": [
    "cm[cm['tres_nm'] == 'ERIK ARLEN JOHNSON']"
   ]
  },
  {
   "cell_type": "code",
   "execution_count": 182,
   "metadata": {},
   "outputs": [
    {
     "data": {
      "text/html": [
       "<div>\n",
       "<style scoped>\n",
       "    .dataframe tbody tr th:only-of-type {\n",
       "        vertical-align: middle;\n",
       "    }\n",
       "\n",
       "    .dataframe tbody tr th {\n",
       "        vertical-align: top;\n",
       "    }\n",
       "\n",
       "    .dataframe thead th {\n",
       "        text-align: right;\n",
       "    }\n",
       "</style>\n",
       "<table border=\"1\" class=\"dataframe\">\n",
       "  <thead>\n",
       "    <tr style=\"text-align: right;\">\n",
       "      <th></th>\n",
       "      <th>cmte_id</th>\n",
       "      <th>cmte_nm</th>\n",
       "      <th>tres_nm</th>\n",
       "      <th>cmte_st1</th>\n",
       "      <th>cmte_st2</th>\n",
       "      <th>cmte_city</th>\n",
       "      <th>cmte_st</th>\n",
       "      <th>cmte_zip</th>\n",
       "      <th>cmte_dsgn</th>\n",
       "      <th>cmte_tp</th>\n",
       "      <th>cmte_pty_affiliation</th>\n",
       "      <th>cmte_filing_freq</th>\n",
       "      <th>org_tp</th>\n",
       "      <th>connected_org_nm</th>\n",
       "      <th>cand_id</th>\n",
       "      <th>orig_tres_nm</th>\n",
       "      <th>orig_cmte_st1</th>\n",
       "      <th>address</th>\n",
       "    </tr>\n",
       "  </thead>\n",
       "  <tbody>\n",
       "    <tr>\n",
       "      <td>6169</td>\n",
       "      <td>C00528166</td>\n",
       "      <td>NATIONAL ASSOCIATION FOR FIXED ANNUITIES POLIT...</td>\n",
       "      <td>CHRIS JOHNSON</td>\n",
       "      <td>1155 F ST NW</td>\n",
       "      <td>SUITE 1050</td>\n",
       "      <td>WASHINGTON</td>\n",
       "      <td>DC</td>\n",
       "      <td>20004</td>\n",
       "      <td>U</td>\n",
       "      <td>Q</td>\n",
       "      <td>UNK</td>\n",
       "      <td>Q</td>\n",
       "      <td>T</td>\n",
       "      <td>NaN</td>\n",
       "      <td>NaN</td>\n",
       "      <td>JOHNSON, CHRIS</td>\n",
       "      <td>1155 F ST NW</td>\n",
       "      <td>1155 F ST NW, WASHINGTON, DC 20004</td>\n",
       "    </tr>\n",
       "  </tbody>\n",
       "</table>\n",
       "</div>"
      ],
      "text/plain": [
       "        cmte_id                                            cmte_nm  \\\n",
       "6169  C00528166  NATIONAL ASSOCIATION FOR FIXED ANNUITIES POLIT...   \n",
       "\n",
       "            tres_nm      cmte_st1    cmte_st2   cmte_city cmte_st cmte_zip  \\\n",
       "6169  CHRIS JOHNSON  1155 F ST NW  SUITE 1050  WASHINGTON      DC    20004   \n",
       "\n",
       "     cmte_dsgn cmte_tp cmte_pty_affiliation cmte_filing_freq org_tp  \\\n",
       "6169         U       Q                  UNK                Q      T   \n",
       "\n",
       "     connected_org_nm cand_id    orig_tres_nm orig_cmte_st1  \\\n",
       "6169              NaN     NaN  JOHNSON, CHRIS  1155 F ST NW   \n",
       "\n",
       "                                 address  \n",
       "6169  1155 F ST NW, WASHINGTON, DC 20004  "
      ]
     },
     "execution_count": 182,
     "metadata": {},
     "output_type": "execute_result"
    }
   ],
   "source": [
    "cm[cm['tres_nm'] == 'CHRIS JOHNSON']"
   ]
  },
  {
   "cell_type": "code",
   "execution_count": 183,
   "metadata": {},
   "outputs": [
    {
     "data": {
      "text/html": [
       "<div>\n",
       "<style scoped>\n",
       "    .dataframe tbody tr th:only-of-type {\n",
       "        vertical-align: middle;\n",
       "    }\n",
       "\n",
       "    .dataframe tbody tr th {\n",
       "        vertical-align: top;\n",
       "    }\n",
       "\n",
       "    .dataframe thead th {\n",
       "        text-align: right;\n",
       "    }\n",
       "</style>\n",
       "<table border=\"1\" class=\"dataframe\">\n",
       "  <thead>\n",
       "    <tr style=\"text-align: right;\">\n",
       "      <th></th>\n",
       "      <th>cmte_id</th>\n",
       "      <th>cmte_nm</th>\n",
       "      <th>tres_nm</th>\n",
       "      <th>cmte_st1</th>\n",
       "      <th>cmte_st2</th>\n",
       "      <th>cmte_city</th>\n",
       "      <th>cmte_st</th>\n",
       "      <th>cmte_zip</th>\n",
       "      <th>cmte_dsgn</th>\n",
       "      <th>cmte_tp</th>\n",
       "      <th>cmte_pty_affiliation</th>\n",
       "      <th>cmte_filing_freq</th>\n",
       "      <th>org_tp</th>\n",
       "      <th>connected_org_nm</th>\n",
       "      <th>cand_id</th>\n",
       "      <th>orig_tres_nm</th>\n",
       "      <th>orig_cmte_st1</th>\n",
       "      <th>address</th>\n",
       "    </tr>\n",
       "  </thead>\n",
       "  <tbody>\n",
       "  </tbody>\n",
       "</table>\n",
       "</div>"
      ],
      "text/plain": [
       "Empty DataFrame\n",
       "Columns: [cmte_id, cmte_nm, tres_nm, cmte_st1, cmte_st2, cmte_city, cmte_st, cmte_zip, cmte_dsgn, cmte_tp, cmte_pty_affiliation, cmte_filing_freq, org_tp, connected_org_nm, cand_id, orig_tres_nm, orig_cmte_st1, address]\n",
       "Index: []"
      ]
     },
     "execution_count": 183,
     "metadata": {},
     "output_type": "execute_result"
    }
   ],
   "source": [
    "cm[cm['tres_nm'] == 'CHRISTOPHER LEE JOHNSON']"
   ]
  },
  {
   "cell_type": "code",
   "execution_count": 184,
   "metadata": {},
   "outputs": [
    {
     "data": {
      "text/html": [
       "<div>\n",
       "<style scoped>\n",
       "    .dataframe tbody tr th:only-of-type {\n",
       "        vertical-align: middle;\n",
       "    }\n",
       "\n",
       "    .dataframe tbody tr th {\n",
       "        vertical-align: top;\n",
       "    }\n",
       "\n",
       "    .dataframe thead th {\n",
       "        text-align: right;\n",
       "    }\n",
       "</style>\n",
       "<table border=\"1\" class=\"dataframe\">\n",
       "  <thead>\n",
       "    <tr style=\"text-align: right;\">\n",
       "      <th></th>\n",
       "      <th>cmte_id</th>\n",
       "      <th>cmte_nm</th>\n",
       "      <th>tres_nm</th>\n",
       "      <th>cmte_st1</th>\n",
       "      <th>cmte_st2</th>\n",
       "      <th>cmte_city</th>\n",
       "      <th>cmte_st</th>\n",
       "      <th>cmte_zip</th>\n",
       "      <th>cmte_dsgn</th>\n",
       "      <th>cmte_tp</th>\n",
       "      <th>cmte_pty_affiliation</th>\n",
       "      <th>cmte_filing_freq</th>\n",
       "      <th>org_tp</th>\n",
       "      <th>connected_org_nm</th>\n",
       "      <th>cand_id</th>\n",
       "      <th>orig_tres_nm</th>\n",
       "      <th>orig_cmte_st1</th>\n",
       "      <th>address</th>\n",
       "    </tr>\n",
       "  </thead>\n",
       "  <tbody>\n",
       "  </tbody>\n",
       "</table>\n",
       "</div>"
      ],
      "text/plain": [
       "Empty DataFrame\n",
       "Columns: [cmte_id, cmte_nm, tres_nm, cmte_st1, cmte_st2, cmte_city, cmte_st, cmte_zip, cmte_dsgn, cmte_tp, cmte_pty_affiliation, cmte_filing_freq, org_tp, connected_org_nm, cand_id, orig_tres_nm, orig_cmte_st1, address]\n",
       "Index: []"
      ]
     },
     "execution_count": 184,
     "metadata": {},
     "output_type": "execute_result"
    }
   ],
   "source": [
    "cm[cm['tres_nm'] == 'JIM JOHNSON']"
   ]
  },
  {
   "cell_type": "code",
   "execution_count": 185,
   "metadata": {},
   "outputs": [
    {
     "data": {
      "text/html": [
       "<div>\n",
       "<style scoped>\n",
       "    .dataframe tbody tr th:only-of-type {\n",
       "        vertical-align: middle;\n",
       "    }\n",
       "\n",
       "    .dataframe tbody tr th {\n",
       "        vertical-align: top;\n",
       "    }\n",
       "\n",
       "    .dataframe thead th {\n",
       "        text-align: right;\n",
       "    }\n",
       "</style>\n",
       "<table border=\"1\" class=\"dataframe\">\n",
       "  <thead>\n",
       "    <tr style=\"text-align: right;\">\n",
       "      <th></th>\n",
       "      <th>cmte_id</th>\n",
       "      <th>cmte_nm</th>\n",
       "      <th>tres_nm</th>\n",
       "      <th>cmte_st1</th>\n",
       "      <th>cmte_st2</th>\n",
       "      <th>cmte_city</th>\n",
       "      <th>cmte_st</th>\n",
       "      <th>cmte_zip</th>\n",
       "      <th>cmte_dsgn</th>\n",
       "      <th>cmte_tp</th>\n",
       "      <th>cmte_pty_affiliation</th>\n",
       "      <th>cmte_filing_freq</th>\n",
       "      <th>org_tp</th>\n",
       "      <th>connected_org_nm</th>\n",
       "      <th>cand_id</th>\n",
       "      <th>orig_tres_nm</th>\n",
       "      <th>orig_cmte_st1</th>\n",
       "      <th>address</th>\n",
       "    </tr>\n",
       "  </thead>\n",
       "  <tbody>\n",
       "    <tr>\n",
       "      <td>1378</td>\n",
       "      <td>C00236034</td>\n",
       "      <td>WERNER ENTERPRISES INC POLITICAL ACTION COMMITTEE</td>\n",
       "      <td>JAMES JOHNSON</td>\n",
       "      <td>14507 FRONTIER RD</td>\n",
       "      <td>NaN</td>\n",
       "      <td>OMAHA</td>\n",
       "      <td>NE</td>\n",
       "      <td>68138</td>\n",
       "      <td>U</td>\n",
       "      <td>Q</td>\n",
       "      <td>UNK</td>\n",
       "      <td>Q</td>\n",
       "      <td>C</td>\n",
       "      <td>WERNER ENTERPRISES INC</td>\n",
       "      <td>NaN</td>\n",
       "      <td>JOHNSON, JAMES L.</td>\n",
       "      <td>14507 FRONTIER ROAD</td>\n",
       "      <td>14507 FRONTIER RD, OMAHA, NE 68138</td>\n",
       "    </tr>\n",
       "    <tr>\n",
       "      <td>3162</td>\n",
       "      <td>C00412569</td>\n",
       "      <td>DENTON COUNTY REPUBLICAN VICTORY FUND</td>\n",
       "      <td>JAMES JOHNSON</td>\n",
       "      <td>2921 COUNTRY CLUB RD</td>\n",
       "      <td>NaN</td>\n",
       "      <td>DENTON</td>\n",
       "      <td>TX</td>\n",
       "      <td>76202</td>\n",
       "      <td>U</td>\n",
       "      <td>X</td>\n",
       "      <td>REP</td>\n",
       "      <td>M</td>\n",
       "      <td>M</td>\n",
       "      <td>REPUBLICAN PARTY OF TEXAS</td>\n",
       "      <td>NaN</td>\n",
       "      <td>JOHNSON, JAMES S.</td>\n",
       "      <td>2921 COUNTRY CLUB RD #102</td>\n",
       "      <td>2921 COUNTRY CLUB RD, DENTON, TX 76202</td>\n",
       "    </tr>\n",
       "  </tbody>\n",
       "</table>\n",
       "</div>"
      ],
      "text/plain": [
       "        cmte_id                                            cmte_nm  \\\n",
       "1378  C00236034  WERNER ENTERPRISES INC POLITICAL ACTION COMMITTEE   \n",
       "3162  C00412569              DENTON COUNTY REPUBLICAN VICTORY FUND   \n",
       "\n",
       "            tres_nm              cmte_st1 cmte_st2 cmte_city cmte_st cmte_zip  \\\n",
       "1378  JAMES JOHNSON     14507 FRONTIER RD      NaN     OMAHA      NE    68138   \n",
       "3162  JAMES JOHNSON  2921 COUNTRY CLUB RD      NaN    DENTON      TX    76202   \n",
       "\n",
       "     cmte_dsgn cmte_tp cmte_pty_affiliation cmte_filing_freq org_tp  \\\n",
       "1378         U       Q                  UNK                Q      C   \n",
       "3162         U       X                  REP                M      M   \n",
       "\n",
       "               connected_org_nm cand_id       orig_tres_nm  \\\n",
       "1378     WERNER ENTERPRISES INC     NaN  JOHNSON, JAMES L.   \n",
       "3162  REPUBLICAN PARTY OF TEXAS     NaN  JOHNSON, JAMES S.   \n",
       "\n",
       "                  orig_cmte_st1                                 address  \n",
       "1378        14507 FRONTIER ROAD      14507 FRONTIER RD, OMAHA, NE 68138  \n",
       "3162  2921 COUNTRY CLUB RD #102  2921 COUNTRY CLUB RD, DENTON, TX 76202  "
      ]
     },
     "execution_count": 185,
     "metadata": {},
     "output_type": "execute_result"
    }
   ],
   "source": [
    "cm[cm['tres_nm'] == 'JAMES JOHNSON']"
   ]
  },
  {
   "cell_type": "code",
   "execution_count": 186,
   "metadata": {},
   "outputs": [
    {
     "data": {
      "text/html": [
       "<div>\n",
       "<style scoped>\n",
       "    .dataframe tbody tr th:only-of-type {\n",
       "        vertical-align: middle;\n",
       "    }\n",
       "\n",
       "    .dataframe tbody tr th {\n",
       "        vertical-align: top;\n",
       "    }\n",
       "\n",
       "    .dataframe thead th {\n",
       "        text-align: right;\n",
       "    }\n",
       "</style>\n",
       "<table border=\"1\" class=\"dataframe\">\n",
       "  <thead>\n",
       "    <tr style=\"text-align: right;\">\n",
       "      <th></th>\n",
       "      <th>cmte_id</th>\n",
       "      <th>cmte_nm</th>\n",
       "      <th>tres_nm</th>\n",
       "      <th>cmte_st1</th>\n",
       "      <th>cmte_st2</th>\n",
       "      <th>cmte_city</th>\n",
       "      <th>cmte_st</th>\n",
       "      <th>cmte_zip</th>\n",
       "      <th>cmte_dsgn</th>\n",
       "      <th>cmte_tp</th>\n",
       "      <th>cmte_pty_affiliation</th>\n",
       "      <th>cmte_filing_freq</th>\n",
       "      <th>org_tp</th>\n",
       "      <th>connected_org_nm</th>\n",
       "      <th>cand_id</th>\n",
       "      <th>orig_tres_nm</th>\n",
       "      <th>orig_cmte_st1</th>\n",
       "      <th>address</th>\n",
       "    </tr>\n",
       "  </thead>\n",
       "  <tbody>\n",
       "  </tbody>\n",
       "</table>\n",
       "</div>"
      ],
      "text/plain": [
       "Empty DataFrame\n",
       "Columns: [cmte_id, cmte_nm, tres_nm, cmte_st1, cmte_st2, cmte_city, cmte_st, cmte_zip, cmte_dsgn, cmte_tp, cmte_pty_affiliation, cmte_filing_freq, org_tp, connected_org_nm, cand_id, orig_tres_nm, orig_cmte_st1, address]\n",
       "Index: []"
      ]
     },
     "execution_count": 186,
     "metadata": {},
     "output_type": "execute_result"
    }
   ],
   "source": [
    "cm[cm['tres_nm'] == 'LORETTA JOHNSON']"
   ]
  },
  {
   "cell_type": "code",
   "execution_count": 187,
   "metadata": {},
   "outputs": [
    {
     "data": {
      "text/html": [
       "<div>\n",
       "<style scoped>\n",
       "    .dataframe tbody tr th:only-of-type {\n",
       "        vertical-align: middle;\n",
       "    }\n",
       "\n",
       "    .dataframe tbody tr th {\n",
       "        vertical-align: top;\n",
       "    }\n",
       "\n",
       "    .dataframe thead th {\n",
       "        text-align: right;\n",
       "    }\n",
       "</style>\n",
       "<table border=\"1\" class=\"dataframe\">\n",
       "  <thead>\n",
       "    <tr style=\"text-align: right;\">\n",
       "      <th></th>\n",
       "      <th>cmte_id</th>\n",
       "      <th>cmte_nm</th>\n",
       "      <th>tres_nm</th>\n",
       "      <th>cmte_st1</th>\n",
       "      <th>cmte_st2</th>\n",
       "      <th>cmte_city</th>\n",
       "      <th>cmte_st</th>\n",
       "      <th>cmte_zip</th>\n",
       "      <th>cmte_dsgn</th>\n",
       "      <th>cmte_tp</th>\n",
       "      <th>cmte_pty_affiliation</th>\n",
       "      <th>cmte_filing_freq</th>\n",
       "      <th>org_tp</th>\n",
       "      <th>connected_org_nm</th>\n",
       "      <th>cand_id</th>\n",
       "      <th>orig_tres_nm</th>\n",
       "      <th>orig_cmte_st1</th>\n",
       "      <th>address</th>\n",
       "    </tr>\n",
       "  </thead>\n",
       "  <tbody>\n",
       "    <tr>\n",
       "      <td>216</td>\n",
       "      <td>C00028860</td>\n",
       "      <td>AMERICAN FEDERATION OF TEACHERS, AFL-CIO COMMI...</td>\n",
       "      <td>LORRETTA JOHNSON</td>\n",
       "      <td>555 NEW JERSEY AVE NW</td>\n",
       "      <td>NaN</td>\n",
       "      <td>WASHINGTON</td>\n",
       "      <td>DC</td>\n",
       "      <td>20001</td>\n",
       "      <td>B</td>\n",
       "      <td>Q</td>\n",
       "      <td>UNK</td>\n",
       "      <td>M</td>\n",
       "      <td>L</td>\n",
       "      <td>AMERICAN FEDERATION OF TEACHERS, AFL-CIO</td>\n",
       "      <td>NaN</td>\n",
       "      <td>JOHNSON, LORRETTA</td>\n",
       "      <td>555 NEW JERSEY AVENUE, NW</td>\n",
       "      <td>555 NEW JERSEY AVE NW, WASHINGTON, DC 20001</td>\n",
       "    </tr>\n",
       "    <tr>\n",
       "      <td>17352</td>\n",
       "      <td>C70002472</td>\n",
       "      <td>AMERICAN FEDERATION OF TEACHERS, AFL-CIO</td>\n",
       "      <td>LORRETTA JOHNSON</td>\n",
       "      <td>555 NEW JERSEY AVE NW</td>\n",
       "      <td>NaN</td>\n",
       "      <td>WASHINGTON</td>\n",
       "      <td>DC</td>\n",
       "      <td>20001</td>\n",
       "      <td>U</td>\n",
       "      <td>C</td>\n",
       "      <td>UNK</td>\n",
       "      <td>Q</td>\n",
       "      <td>L</td>\n",
       "      <td>NaN</td>\n",
       "      <td>NaN</td>\n",
       "      <td>JOHNSON, LORRETTA</td>\n",
       "      <td>555 NEW JERSEY AVENUE, N.W.</td>\n",
       "      <td>555 NEW JERSEY AVE NW, WASHINGTON, DC 20001</td>\n",
       "    </tr>\n",
       "  </tbody>\n",
       "</table>\n",
       "</div>"
      ],
      "text/plain": [
       "         cmte_id                                            cmte_nm  \\\n",
       "216    C00028860  AMERICAN FEDERATION OF TEACHERS, AFL-CIO COMMI...   \n",
       "17352  C70002472           AMERICAN FEDERATION OF TEACHERS, AFL-CIO   \n",
       "\n",
       "                tres_nm               cmte_st1 cmte_st2   cmte_city cmte_st  \\\n",
       "216    LORRETTA JOHNSON  555 NEW JERSEY AVE NW      NaN  WASHINGTON      DC   \n",
       "17352  LORRETTA JOHNSON  555 NEW JERSEY AVE NW      NaN  WASHINGTON      DC   \n",
       "\n",
       "      cmte_zip cmte_dsgn cmte_tp cmte_pty_affiliation cmte_filing_freq org_tp  \\\n",
       "216      20001         B       Q                  UNK                M      L   \n",
       "17352    20001         U       C                  UNK                Q      L   \n",
       "\n",
       "                               connected_org_nm cand_id       orig_tres_nm  \\\n",
       "216    AMERICAN FEDERATION OF TEACHERS, AFL-CIO     NaN  JOHNSON, LORRETTA   \n",
       "17352                                       NaN     NaN  JOHNSON, LORRETTA   \n",
       "\n",
       "                     orig_cmte_st1  \\\n",
       "216      555 NEW JERSEY AVENUE, NW   \n",
       "17352  555 NEW JERSEY AVENUE, N.W.   \n",
       "\n",
       "                                           address  \n",
       "216    555 NEW JERSEY AVE NW, WASHINGTON, DC 20001  \n",
       "17352  555 NEW JERSEY AVE NW, WASHINGTON, DC 20001  "
      ]
     },
     "execution_count": 187,
     "metadata": {},
     "output_type": "execute_result"
    }
   ],
   "source": [
    "cm[cm['tres_nm'] == 'LORRETTA JOHNSON']"
   ]
  },
  {
   "cell_type": "code",
   "execution_count": 188,
   "metadata": {},
   "outputs": [
    {
     "name": "stdout",
     "output_type": "stream",
     "text": [
      "orig len: 2\n",
      "new len: 2\n"
     ]
    }
   ],
   "source": [
    "new = 'LORRETTA JOHNSON'\n",
    "dones.append(new)\n",
    "\n",
    "these = findall(['lor', 'etta', 'johnson'])\n",
    "\n",
    "getall(these, new)"
   ]
  },
  {
   "cell_type": "code",
   "execution_count": 189,
   "metadata": {},
   "outputs": [
    {
     "data": {
      "text/plain": [
       "['MICHAEL GIBSON']"
      ]
     },
     "execution_count": 189,
     "metadata": {},
     "output_type": "execute_result"
    }
   ],
   "source": [
    "findall(['mi', 'gibson'])"
   ]
  },
  {
   "cell_type": "code",
   "execution_count": 190,
   "metadata": {},
   "outputs": [],
   "source": [
    "dones.extend(findall(' johnson'))"
   ]
  },
  {
   "cell_type": "code",
   "execution_count": 191,
   "metadata": {},
   "outputs": [
    {
     "data": {
      "text/plain": [
       "[]"
      ]
     },
     "execution_count": 191,
     "metadata": {},
     "output_type": "execute_result"
    }
   ],
   "source": [
    "findall(' goldstein')"
   ]
  },
  {
   "cell_type": "code",
   "execution_count": 192,
   "metadata": {},
   "outputs": [],
   "source": [
    "dones.extend(findall(' goldstein'))"
   ]
  },
  {
   "cell_type": "code",
   "execution_count": 193,
   "metadata": {},
   "outputs": [
    {
     "data": {
      "text/plain": [
       "['BRUCE MARKS',\n",
       " 'ELENA MARKS',\n",
       " 'JEFFREY MARKS',\n",
       " 'MICHELLE MARKS-OSBORNE',\n",
       " 'NANCY MARKS',\n",
       " 'STEPHEN MARKS']"
      ]
     },
     "execution_count": 193,
     "metadata": {},
     "output_type": "execute_result"
    }
   ],
   "source": [
    "findall(' marks')"
   ]
  },
  {
   "cell_type": "code",
   "execution_count": 194,
   "metadata": {},
   "outputs": [],
   "source": [
    "dones.extend(findall(' marks'))"
   ]
  },
  {
   "cell_type": "code",
   "execution_count": 195,
   "metadata": {},
   "outputs": [
    {
     "data": {
      "text/plain": [
       "['RONALD GRAVINO', 'SCOTT GRAVES', 'SHARRON GRAVES']"
      ]
     },
     "execution_count": 195,
     "metadata": {},
     "output_type": "execute_result"
    }
   ],
   "source": [
    "findall(' grav')"
   ]
  },
  {
   "cell_type": "code",
   "execution_count": 196,
   "metadata": {},
   "outputs": [],
   "source": [
    "dones.extend(findall(' grav'))"
   ]
  },
  {
   "cell_type": "code",
   "execution_count": 197,
   "metadata": {},
   "outputs": [
    {
     "data": {
      "text/plain": [
       "['ALYSSA EICHMAN', 'FRED EICHEL', 'RICHARD EICHMAN']"
      ]
     },
     "execution_count": 197,
     "metadata": {},
     "output_type": "execute_result"
    }
   ],
   "source": [
    "findall(' eich')"
   ]
  },
  {
   "cell_type": "code",
   "execution_count": 198,
   "metadata": {},
   "outputs": [],
   "source": [
    "dones.extend(findall(' eich'))"
   ]
  },
  {
   "cell_type": "code",
   "execution_count": 199,
   "metadata": {},
   "outputs": [
    {
     "data": {
      "text/plain": [
       "['BRIAN FOUCART', 'KEITH FOURNIER', 'ROGER FOUNTAIN']"
      ]
     },
     "execution_count": 199,
     "metadata": {},
     "output_type": "execute_result"
    }
   ],
   "source": [
    "findall(' fou')"
   ]
  },
  {
   "cell_type": "code",
   "execution_count": 200,
   "metadata": {},
   "outputs": [],
   "source": [
    "dones.extend(findall(' fou'))"
   ]
  },
  {
   "cell_type": "code",
   "execution_count": 201,
   "metadata": {},
   "outputs": [
    {
     "data": {
      "text/plain": [
       "['ANDY MARTIN',\n",
       " 'ANTONIO MARTINEZ',\n",
       " 'CARL MARTIN NELSON',\n",
       " 'CASSANDRA MARTINEZ',\n",
       " 'CHARLES MARTIN',\n",
       " 'CHRIS MARTIN',\n",
       " 'CLIFFORD MARTIN',\n",
       " 'DAVID MARTIN',\n",
       " 'ED MARTIN',\n",
       " 'EDWARD MARTIN',\n",
       " 'ERNESTO MARTINEZ',\n",
       " 'FRANCES MARTIN',\n",
       " 'GAYLE MARTIN',\n",
       " 'GEMMA MARTIN',\n",
       " 'GREGORY MARTIN WADE',\n",
       " 'JANE MARTIN',\n",
       " 'JANICE MARTIN',\n",
       " 'JEAN MARTINEZ',\n",
       " 'JENA TONICE MARTIN',\n",
       " 'JENNIFER MARTIN',\n",
       " 'JOHN MARTIN',\n",
       " 'JONATHAN MARTIN',\n",
       " 'JOSE DANIEL MARTINES',\n",
       " 'JOSEPH MARTIN',\n",
       " 'KEVIN MARTIN',\n",
       " 'LARISSA MARTINEZ',\n",
       " 'LILIANA MARTINEZ',\n",
       " 'LISA MARTINEZ',\n",
       " 'LOUIE CRUZ MARTINEZ',\n",
       " 'MARIA MARTINEZ',\n",
       " 'MARIO MARTINEZ',\n",
       " 'NOVEL MARTIN',\n",
       " 'PAUL MARTINO',\n",
       " 'PAULETTE MARIE MARTIN',\n",
       " 'ROBERT MARTINEZ',\n",
       " 'ROQUE MARTINEZ',\n",
       " 'SANDRA MARTINEZ',\n",
       " 'SARAH MARTIN',\n",
       " 'STEVEN MARTIN',\n",
       " 'SUSAN MARTIN',\n",
       " 'TERESA MARTINEZ',\n",
       " 'XAVIER MARTINEZ']"
      ]
     },
     "execution_count": 201,
     "metadata": {},
     "output_type": "execute_result"
    }
   ],
   "source": [
    "findall(' martin')"
   ]
  },
  {
   "cell_type": "code",
   "execution_count": 202,
   "metadata": {},
   "outputs": [
    {
     "data": {
      "text/plain": [
       "[]"
      ]
     },
     "execution_count": 202,
     "metadata": {},
     "output_type": "execute_result"
    }
   ],
   "source": [
    "findall(' salazar')"
   ]
  },
  {
   "cell_type": "code",
   "execution_count": 203,
   "metadata": {},
   "outputs": [
    {
     "data": {
      "text/plain": [
       "['MICHAEL JOSEPH SALZBURG-FELTS']"
      ]
     },
     "execution_count": 203,
     "metadata": {},
     "output_type": "execute_result"
    }
   ],
   "source": [
    "findall('salzburg')"
   ]
  },
  {
   "cell_type": "code",
   "execution_count": 204,
   "metadata": {},
   "outputs": [
    {
     "data": {
      "text/html": [
       "<div>\n",
       "<style scoped>\n",
       "    .dataframe tbody tr th:only-of-type {\n",
       "        vertical-align: middle;\n",
       "    }\n",
       "\n",
       "    .dataframe tbody tr th {\n",
       "        vertical-align: top;\n",
       "    }\n",
       "\n",
       "    .dataframe thead th {\n",
       "        text-align: right;\n",
       "    }\n",
       "</style>\n",
       "<table border=\"1\" class=\"dataframe\">\n",
       "  <thead>\n",
       "    <tr style=\"text-align: right;\">\n",
       "      <th></th>\n",
       "      <th>cmte_id</th>\n",
       "      <th>cmte_nm</th>\n",
       "      <th>tres_nm</th>\n",
       "      <th>cmte_st1</th>\n",
       "      <th>cmte_st2</th>\n",
       "      <th>cmte_city</th>\n",
       "      <th>cmte_st</th>\n",
       "      <th>cmte_zip</th>\n",
       "      <th>cmte_dsgn</th>\n",
       "      <th>cmte_tp</th>\n",
       "      <th>cmte_pty_affiliation</th>\n",
       "      <th>cmte_filing_freq</th>\n",
       "      <th>org_tp</th>\n",
       "      <th>connected_org_nm</th>\n",
       "      <th>cand_id</th>\n",
       "      <th>orig_tres_nm</th>\n",
       "      <th>orig_cmte_st1</th>\n",
       "      <th>address</th>\n",
       "    </tr>\n",
       "  </thead>\n",
       "  <tbody>\n",
       "  </tbody>\n",
       "</table>\n",
       "</div>"
      ],
      "text/plain": [
       "Empty DataFrame\n",
       "Columns: [cmte_id, cmte_nm, tres_nm, cmte_st1, cmte_st2, cmte_city, cmte_st, cmte_zip, cmte_dsgn, cmte_tp, cmte_pty_affiliation, cmte_filing_freq, org_tp, connected_org_nm, cand_id, orig_tres_nm, orig_cmte_st1, address]\n",
       "Index: []"
      ]
     },
     "execution_count": 204,
     "metadata": {},
     "output_type": "execute_result"
    }
   ],
   "source": [
    "cm[cm['tres_nm'] == 'STEVE MARTIN']"
   ]
  },
  {
   "cell_type": "code",
   "execution_count": 205,
   "metadata": {},
   "outputs": [
    {
     "data": {
      "text/html": [
       "<div>\n",
       "<style scoped>\n",
       "    .dataframe tbody tr th:only-of-type {\n",
       "        vertical-align: middle;\n",
       "    }\n",
       "\n",
       "    .dataframe tbody tr th {\n",
       "        vertical-align: top;\n",
       "    }\n",
       "\n",
       "    .dataframe thead th {\n",
       "        text-align: right;\n",
       "    }\n",
       "</style>\n",
       "<table border=\"1\" class=\"dataframe\">\n",
       "  <thead>\n",
       "    <tr style=\"text-align: right;\">\n",
       "      <th></th>\n",
       "      <th>cmte_id</th>\n",
       "      <th>cmte_nm</th>\n",
       "      <th>tres_nm</th>\n",
       "      <th>cmte_st1</th>\n",
       "      <th>cmte_st2</th>\n",
       "      <th>cmte_city</th>\n",
       "      <th>cmte_st</th>\n",
       "      <th>cmte_zip</th>\n",
       "      <th>cmte_dsgn</th>\n",
       "      <th>cmte_tp</th>\n",
       "      <th>cmte_pty_affiliation</th>\n",
       "      <th>cmte_filing_freq</th>\n",
       "      <th>org_tp</th>\n",
       "      <th>connected_org_nm</th>\n",
       "      <th>cand_id</th>\n",
       "      <th>orig_tres_nm</th>\n",
       "      <th>orig_cmte_st1</th>\n",
       "      <th>address</th>\n",
       "    </tr>\n",
       "  </thead>\n",
       "  <tbody>\n",
       "  </tbody>\n",
       "</table>\n",
       "</div>"
      ],
      "text/plain": [
       "Empty DataFrame\n",
       "Columns: [cmte_id, cmte_nm, tres_nm, cmte_st1, cmte_st2, cmte_city, cmte_st, cmte_zip, cmte_dsgn, cmte_tp, cmte_pty_affiliation, cmte_filing_freq, org_tp, connected_org_nm, cand_id, orig_tres_nm, orig_cmte_st1, address]\n",
       "Index: []"
      ]
     },
     "execution_count": 205,
     "metadata": {},
     "output_type": "execute_result"
    }
   ],
   "source": [
    "cm[(cm['tres_nm'] == 'STEVEN MARTIN') & (cm['cmte_st'] == 'NC')]"
   ]
  },
  {
   "cell_type": "code",
   "execution_count": 206,
   "metadata": {},
   "outputs": [],
   "source": [
    "dones.extend(findall(' martin'))"
   ]
  },
  {
   "cell_type": "code",
   "execution_count": 207,
   "metadata": {},
   "outputs": [
    {
     "data": {
      "text/plain": [
       "['CARY DAVIDSON', 'DWIGHT DAVIDSON', 'REBECCA DAVIDSON', 'ROBERT DAVIDSON']"
      ]
     },
     "execution_count": 207,
     "metadata": {},
     "output_type": "execute_result"
    }
   ],
   "source": [
    "findall(' davidson')"
   ]
  },
  {
   "cell_type": "code",
   "execution_count": 208,
   "metadata": {},
   "outputs": [
    {
     "data": {
      "text/plain": [
       "['PAUL REYNOLDS']"
      ]
     },
     "execution_count": 208,
     "metadata": {},
     "output_type": "execute_result"
    }
   ],
   "source": [
    "findall(['paul', 'reynolds'])"
   ]
  },
  {
   "cell_type": "code",
   "execution_count": 209,
   "metadata": {},
   "outputs": [
    {
     "data": {
      "text/html": [
       "<div>\n",
       "<style scoped>\n",
       "    .dataframe tbody tr th:only-of-type {\n",
       "        vertical-align: middle;\n",
       "    }\n",
       "\n",
       "    .dataframe tbody tr th {\n",
       "        vertical-align: top;\n",
       "    }\n",
       "\n",
       "    .dataframe thead th {\n",
       "        text-align: right;\n",
       "    }\n",
       "</style>\n",
       "<table border=\"1\" class=\"dataframe\">\n",
       "  <thead>\n",
       "    <tr style=\"text-align: right;\">\n",
       "      <th></th>\n",
       "      <th>cmte_id</th>\n",
       "      <th>cmte_nm</th>\n",
       "      <th>tres_nm</th>\n",
       "      <th>cmte_st1</th>\n",
       "      <th>cmte_st2</th>\n",
       "      <th>cmte_city</th>\n",
       "      <th>cmte_st</th>\n",
       "      <th>cmte_zip</th>\n",
       "      <th>cmte_dsgn</th>\n",
       "      <th>cmte_tp</th>\n",
       "      <th>cmte_pty_affiliation</th>\n",
       "      <th>cmte_filing_freq</th>\n",
       "      <th>org_tp</th>\n",
       "      <th>connected_org_nm</th>\n",
       "      <th>cand_id</th>\n",
       "      <th>orig_tres_nm</th>\n",
       "      <th>orig_cmte_st1</th>\n",
       "      <th>address</th>\n",
       "    </tr>\n",
       "  </thead>\n",
       "  <tbody>\n",
       "    <tr>\n",
       "      <td>12660</td>\n",
       "      <td>C00649459</td>\n",
       "      <td>DIANE FOR COLORADO CD3</td>\n",
       "      <td>PAUL REYNOLDS</td>\n",
       "      <td>PO BOX 771606</td>\n",
       "      <td>NaN</td>\n",
       "      <td>STEAMBOAT SPRINGS</td>\n",
       "      <td>CO</td>\n",
       "      <td>80477</td>\n",
       "      <td>P</td>\n",
       "      <td>H</td>\n",
       "      <td>DEM</td>\n",
       "      <td>Q</td>\n",
       "      <td>NaN</td>\n",
       "      <td>DIANE MITSCH BUSH VICTORY FUND</td>\n",
       "      <td>H8CO03192</td>\n",
       "      <td>REYNOLDS, PAUL D. MR.</td>\n",
       "      <td>PO BOX 771606</td>\n",
       "      <td>PO BOX 771606, STEAMBOAT SPRINGS, CO 80477</td>\n",
       "    </tr>\n",
       "    <tr>\n",
       "      <td>16364</td>\n",
       "      <td>C00687715</td>\n",
       "      <td>DIANE MITSCH BUSH VICTORY FUND</td>\n",
       "      <td>PAUL REYNOLDS</td>\n",
       "      <td>PO BOX 771606</td>\n",
       "      <td>NaN</td>\n",
       "      <td>STEAMBOAT SPRINGS</td>\n",
       "      <td>DC</td>\n",
       "      <td>80477</td>\n",
       "      <td>J</td>\n",
       "      <td>N</td>\n",
       "      <td>UNK</td>\n",
       "      <td>Q</td>\n",
       "      <td>NaN</td>\n",
       "      <td>NONE</td>\n",
       "      <td>NaN</td>\n",
       "      <td>REYNOLDS, PAUL D. MR.</td>\n",
       "      <td>PO BOX 771606</td>\n",
       "      <td>PO BOX 771606, STEAMBOAT SPRINGS, DC 80477</td>\n",
       "    </tr>\n",
       "  </tbody>\n",
       "</table>\n",
       "</div>"
      ],
      "text/plain": [
       "         cmte_id                         cmte_nm        tres_nm  \\\n",
       "12660  C00649459          DIANE FOR COLORADO CD3  PAUL REYNOLDS   \n",
       "16364  C00687715  DIANE MITSCH BUSH VICTORY FUND  PAUL REYNOLDS   \n",
       "\n",
       "            cmte_st1 cmte_st2          cmte_city cmte_st cmte_zip cmte_dsgn  \\\n",
       "12660  PO BOX 771606      NaN  STEAMBOAT SPRINGS      CO    80477         P   \n",
       "16364  PO BOX 771606      NaN  STEAMBOAT SPRINGS      DC    80477         J   \n",
       "\n",
       "      cmte_tp cmte_pty_affiliation cmte_filing_freq org_tp  \\\n",
       "12660       H                  DEM                Q    NaN   \n",
       "16364       N                  UNK                Q    NaN   \n",
       "\n",
       "                     connected_org_nm    cand_id           orig_tres_nm  \\\n",
       "12660  DIANE MITSCH BUSH VICTORY FUND  H8CO03192  REYNOLDS, PAUL D. MR.   \n",
       "16364                            NONE        NaN  REYNOLDS, PAUL D. MR.   \n",
       "\n",
       "       orig_cmte_st1                                     address  \n",
       "12660  PO BOX 771606  PO BOX 771606, STEAMBOAT SPRINGS, CO 80477  \n",
       "16364  PO BOX 771606  PO BOX 771606, STEAMBOAT SPRINGS, DC 80477  "
      ]
     },
     "execution_count": 209,
     "metadata": {},
     "output_type": "execute_result"
    }
   ],
   "source": [
    "cm[cm['tres_nm'] == 'PAUL REYNOLDS']"
   ]
  },
  {
   "cell_type": "code",
   "execution_count": 210,
   "metadata": {},
   "outputs": [
    {
     "data": {
      "text/html": [
       "<div>\n",
       "<style scoped>\n",
       "    .dataframe tbody tr th:only-of-type {\n",
       "        vertical-align: middle;\n",
       "    }\n",
       "\n",
       "    .dataframe tbody tr th {\n",
       "        vertical-align: top;\n",
       "    }\n",
       "\n",
       "    .dataframe thead th {\n",
       "        text-align: right;\n",
       "    }\n",
       "</style>\n",
       "<table border=\"1\" class=\"dataframe\">\n",
       "  <thead>\n",
       "    <tr style=\"text-align: right;\">\n",
       "      <th></th>\n",
       "      <th>cmte_id</th>\n",
       "      <th>cmte_nm</th>\n",
       "      <th>tres_nm</th>\n",
       "      <th>cmte_st1</th>\n",
       "      <th>cmte_st2</th>\n",
       "      <th>cmte_city</th>\n",
       "      <th>cmte_st</th>\n",
       "      <th>cmte_zip</th>\n",
       "      <th>cmte_dsgn</th>\n",
       "      <th>cmte_tp</th>\n",
       "      <th>cmte_pty_affiliation</th>\n",
       "      <th>cmte_filing_freq</th>\n",
       "      <th>org_tp</th>\n",
       "      <th>connected_org_nm</th>\n",
       "      <th>cand_id</th>\n",
       "      <th>orig_tres_nm</th>\n",
       "      <th>orig_cmte_st1</th>\n",
       "      <th>address</th>\n",
       "    </tr>\n",
       "  </thead>\n",
       "  <tbody>\n",
       "  </tbody>\n",
       "</table>\n",
       "</div>"
      ],
      "text/plain": [
       "Empty DataFrame\n",
       "Columns: [cmte_id, cmte_nm, tres_nm, cmte_st1, cmte_st2, cmte_city, cmte_st, cmte_zip, cmte_dsgn, cmte_tp, cmte_pty_affiliation, cmte_filing_freq, org_tp, connected_org_nm, cand_id, orig_tres_nm, orig_cmte_st1, address]\n",
       "Index: []"
      ]
     },
     "execution_count": 210,
     "metadata": {},
     "output_type": "execute_result"
    }
   ],
   "source": [
    "cm[cm['tres_nm'] == 'PAUL DAVIDSON REYNOLDS']"
   ]
  },
  {
   "cell_type": "code",
   "execution_count": 211,
   "metadata": {},
   "outputs": [
    {
     "name": "stdout",
     "output_type": "stream",
     "text": [
      "orig len: 0\n",
      "new len: 2\n"
     ]
    }
   ],
   "source": [
    "new = 'PAUL DAVIDSON REYNOLDS'\n",
    "dones.append(new)\n",
    "\n",
    "these = findall(['paul', 'reynolds'])\n",
    "\n",
    "getall(these, new)"
   ]
  },
  {
   "cell_type": "code",
   "execution_count": 212,
   "metadata": {},
   "outputs": [],
   "source": [
    "dones.extend(findall(' davidson'))"
   ]
  },
  {
   "cell_type": "code",
   "execution_count": 213,
   "metadata": {},
   "outputs": [
    {
     "data": {
      "text/plain": [
       "['ANNE BRENSLEY',\n",
       " 'CHRISTOPHER BRENNAN',\n",
       " 'GREGORY BRENNICK',\n",
       " 'LAUREL BRENNAN',\n",
       " 'MEGAN BRENGARTH',\n",
       " 'OZY ROSE BRENNAN',\n",
       " 'TOM BRENEMAN',\n",
       " 'TUCKER BRENNAN']"
      ]
     },
     "execution_count": 213,
     "metadata": {},
     "output_type": "execute_result"
    }
   ],
   "source": [
    "findall(' bren')"
   ]
  },
  {
   "cell_type": "code",
   "execution_count": 214,
   "metadata": {},
   "outputs": [
    {
     "data": {
      "text/plain": [
       "[]"
      ]
     },
     "execution_count": 214,
     "metadata": {},
     "output_type": "execute_result"
    }
   ],
   "source": [
    "findall(' mantan')"
   ]
  },
  {
   "cell_type": "code",
   "execution_count": 215,
   "metadata": {},
   "outputs": [],
   "source": [
    "dones.extend(findall(' bren'))"
   ]
  },
  {
   "cell_type": "code",
   "execution_count": 216,
   "metadata": {},
   "outputs": [
    {
     "data": {
      "text/plain": [
       "['CHRISTOPHER MONTGOMERY WOODFIN',\n",
       " 'DACEY MONTOYA',\n",
       " 'DARRIN MONTEIRO',\n",
       " 'DAVA MONTGOMERY',\n",
       " 'DIANE MONTGOMERY',\n",
       " 'JAY MONTGOMERY',\n",
       " 'LUKE MONTGOMERY',\n",
       " 'MEGAN MONTGOMERY',\n",
       " 'MICHAEL MONT',\n",
       " 'PATRICIA MONTAGUE',\n",
       " 'RUSSELL MONTGOMERY',\n",
       " 'THOMAS MONTGOMERY']"
      ]
     },
     "execution_count": 216,
     "metadata": {},
     "output_type": "execute_result"
    }
   ],
   "source": [
    "findall(' mont')"
   ]
  },
  {
   "cell_type": "code",
   "execution_count": 217,
   "metadata": {},
   "outputs": [],
   "source": [
    "dones.extend(findall(' mont'))"
   ]
  },
  {
   "cell_type": "code",
   "execution_count": 218,
   "metadata": {},
   "outputs": [
    {
     "data": {
      "text/plain": [
       "['BRENDA HANKINS']"
      ]
     },
     "execution_count": 218,
     "metadata": {},
     "output_type": "execute_result"
    }
   ],
   "source": [
    "findall(' hank')"
   ]
  },
  {
   "cell_type": "code",
   "execution_count": 219,
   "metadata": {},
   "outputs": [],
   "source": [
    "dones.extend(findall(' hank'))"
   ]
  },
  {
   "cell_type": "code",
   "execution_count": 220,
   "metadata": {},
   "outputs": [
    {
     "data": {
      "text/plain": [
       "['GREGORY LESHOCK', 'MEREDITH LESHER', 'WARREN LESHNER']"
      ]
     },
     "execution_count": 220,
     "metadata": {},
     "output_type": "execute_result"
    }
   ],
   "source": [
    "findall(' lesh')"
   ]
  },
  {
   "cell_type": "code",
   "execution_count": 221,
   "metadata": {},
   "outputs": [],
   "source": [
    "dones.extend(findall(' lesh'))"
   ]
  },
  {
   "cell_type": "code",
   "execution_count": 222,
   "metadata": {
    "scrolled": false
   },
   "outputs": [
    {
     "data": {
      "text/plain": [
       "['ANNE BRENSLEY',\n",
       " 'BAILEY BRESSLER',\n",
       " 'BEN BREWSTER',\n",
       " 'BENJAMIN BREUER',\n",
       " 'CATHERINE BRESLER',\n",
       " 'CHARLES BREIT',\n",
       " 'CHRISTOPHER BRENNAN',\n",
       " 'CHRISTOPHER SCOTT BREWER',\n",
       " 'DONALD BRETT HALE',\n",
       " 'GREGORY BRENNICK',\n",
       " 'HANNELORE BREITMEYER-JONES',\n",
       " 'JAMES TROY BREWER',\n",
       " 'JONATHAN BRETT RINGHAM',\n",
       " 'LAUREL BRENNAN',\n",
       " 'MARK BREBBERMAN',\n",
       " 'MEGAN BRENGARTH',\n",
       " 'MICHAEL BREATHES',\n",
       " 'NICOLE BREWIN',\n",
       " 'OZY ROSE BRENNAN',\n",
       " 'PATRICIA BREED',\n",
       " 'PAUL BREAZEALE',\n",
       " 'TOM BRENEMAN',\n",
       " 'TROY BREWER',\n",
       " 'TUCKER BRENNAN',\n",
       " 'VICTOR BREED',\n",
       " 'WADE BREWER']"
      ]
     },
     "execution_count": 222,
     "metadata": {},
     "output_type": "execute_result"
    }
   ],
   "source": [
    "findall(' bre')"
   ]
  },
  {
   "cell_type": "code",
   "execution_count": 223,
   "metadata": {},
   "outputs": [
    {
     "data": {
      "text/html": [
       "<div>\n",
       "<style scoped>\n",
       "    .dataframe tbody tr th:only-of-type {\n",
       "        vertical-align: middle;\n",
       "    }\n",
       "\n",
       "    .dataframe tbody tr th {\n",
       "        vertical-align: top;\n",
       "    }\n",
       "\n",
       "    .dataframe thead th {\n",
       "        text-align: right;\n",
       "    }\n",
       "</style>\n",
       "<table border=\"1\" class=\"dataframe\">\n",
       "  <thead>\n",
       "    <tr style=\"text-align: right;\">\n",
       "      <th></th>\n",
       "      <th>cmte_id</th>\n",
       "      <th>cmte_nm</th>\n",
       "      <th>tres_nm</th>\n",
       "      <th>cmte_st1</th>\n",
       "      <th>cmte_st2</th>\n",
       "      <th>cmte_city</th>\n",
       "      <th>cmte_st</th>\n",
       "      <th>cmte_zip</th>\n",
       "      <th>cmte_dsgn</th>\n",
       "      <th>cmte_tp</th>\n",
       "      <th>cmte_pty_affiliation</th>\n",
       "      <th>cmte_filing_freq</th>\n",
       "      <th>org_tp</th>\n",
       "      <th>connected_org_nm</th>\n",
       "      <th>cand_id</th>\n",
       "      <th>orig_tres_nm</th>\n",
       "      <th>orig_cmte_st1</th>\n",
       "      <th>address</th>\n",
       "    </tr>\n",
       "  </thead>\n",
       "  <tbody>\n",
       "  </tbody>\n",
       "</table>\n",
       "</div>"
      ],
      "text/plain": [
       "Empty DataFrame\n",
       "Columns: [cmte_id, cmte_nm, tres_nm, cmte_st1, cmte_st2, cmte_city, cmte_st, cmte_zip, cmte_dsgn, cmte_tp, cmte_pty_affiliation, cmte_filing_freq, org_tp, connected_org_nm, cand_id, orig_tres_nm, orig_cmte_st1, address]\n",
       "Index: []"
      ]
     },
     "execution_count": 223,
     "metadata": {},
     "output_type": "execute_result"
    }
   ],
   "source": [
    "cm[cm['tres_nm'] == 'JAMES BREWER']"
   ]
  },
  {
   "cell_type": "code",
   "execution_count": 224,
   "metadata": {},
   "outputs": [
    {
     "data": {
      "text/html": [
       "<div>\n",
       "<style scoped>\n",
       "    .dataframe tbody tr th:only-of-type {\n",
       "        vertical-align: middle;\n",
       "    }\n",
       "\n",
       "    .dataframe tbody tr th {\n",
       "        vertical-align: top;\n",
       "    }\n",
       "\n",
       "    .dataframe thead th {\n",
       "        text-align: right;\n",
       "    }\n",
       "</style>\n",
       "<table border=\"1\" class=\"dataframe\">\n",
       "  <thead>\n",
       "    <tr style=\"text-align: right;\">\n",
       "      <th></th>\n",
       "      <th>cmte_id</th>\n",
       "      <th>cmte_nm</th>\n",
       "      <th>tres_nm</th>\n",
       "      <th>cmte_st1</th>\n",
       "      <th>cmte_st2</th>\n",
       "      <th>cmte_city</th>\n",
       "      <th>cmte_st</th>\n",
       "      <th>cmte_zip</th>\n",
       "      <th>cmte_dsgn</th>\n",
       "      <th>cmte_tp</th>\n",
       "      <th>cmte_pty_affiliation</th>\n",
       "      <th>cmte_filing_freq</th>\n",
       "      <th>org_tp</th>\n",
       "      <th>connected_org_nm</th>\n",
       "      <th>cand_id</th>\n",
       "      <th>orig_tres_nm</th>\n",
       "      <th>orig_cmte_st1</th>\n",
       "      <th>address</th>\n",
       "    </tr>\n",
       "  </thead>\n",
       "  <tbody>\n",
       "    <tr>\n",
       "      <td>11743</td>\n",
       "      <td>C00635219</td>\n",
       "      <td>DAVID PAC DELIVERING AMERICAN VALUES IN DC</td>\n",
       "      <td>JAMES TROY BREWER</td>\n",
       "      <td>95 WHITE BRIDGE RD</td>\n",
       "      <td>NaN</td>\n",
       "      <td>NASHVILLE</td>\n",
       "      <td>TN</td>\n",
       "      <td>37205</td>\n",
       "      <td>D</td>\n",
       "      <td>N</td>\n",
       "      <td>UNK</td>\n",
       "      <td>Q</td>\n",
       "      <td>NaN</td>\n",
       "      <td>DAVID KUSTOFF</td>\n",
       "      <td>NaN</td>\n",
       "      <td>JAMES TROY BREWER</td>\n",
       "      <td>95 WHITE BRIDGE RD SUITE 207</td>\n",
       "      <td>95 WHITE BRIDGE RD, NASHVILLE, TN 37205</td>\n",
       "    </tr>\n",
       "    <tr>\n",
       "      <td>15870</td>\n",
       "      <td>C00682633</td>\n",
       "      <td>TENNESSEANS FOR A STRONG AMERICA PAC</td>\n",
       "      <td>JAMES TROY BREWER</td>\n",
       "      <td>95 WHITE BRIDGE RD</td>\n",
       "      <td>SUITE 207</td>\n",
       "      <td>NASHVILLE</td>\n",
       "      <td>TN</td>\n",
       "      <td>37205</td>\n",
       "      <td>U</td>\n",
       "      <td>O</td>\n",
       "      <td>UNK</td>\n",
       "      <td>Q</td>\n",
       "      <td>NaN</td>\n",
       "      <td>NONE</td>\n",
       "      <td>NaN</td>\n",
       "      <td>BREWER, JAMES TROY</td>\n",
       "      <td>95 WHITE BRIDGE RD</td>\n",
       "      <td>95 WHITE BRIDGE RD, NASHVILLE, TN 37205</td>\n",
       "    </tr>\n",
       "  </tbody>\n",
       "</table>\n",
       "</div>"
      ],
      "text/plain": [
       "         cmte_id                                     cmte_nm  \\\n",
       "11743  C00635219  DAVID PAC DELIVERING AMERICAN VALUES IN DC   \n",
       "15870  C00682633        TENNESSEANS FOR A STRONG AMERICA PAC   \n",
       "\n",
       "                 tres_nm            cmte_st1   cmte_st2  cmte_city cmte_st  \\\n",
       "11743  JAMES TROY BREWER  95 WHITE BRIDGE RD        NaN  NASHVILLE      TN   \n",
       "15870  JAMES TROY BREWER  95 WHITE BRIDGE RD  SUITE 207  NASHVILLE      TN   \n",
       "\n",
       "      cmte_zip cmte_dsgn cmte_tp cmte_pty_affiliation cmte_filing_freq org_tp  \\\n",
       "11743    37205         D       N                  UNK                Q    NaN   \n",
       "15870    37205         U       O                  UNK                Q    NaN   \n",
       "\n",
       "      connected_org_nm cand_id        orig_tres_nm  \\\n",
       "11743    DAVID KUSTOFF     NaN   JAMES TROY BREWER   \n",
       "15870             NONE     NaN  BREWER, JAMES TROY   \n",
       "\n",
       "                      orig_cmte_st1                                  address  \n",
       "11743  95 WHITE BRIDGE RD SUITE 207  95 WHITE BRIDGE RD, NASHVILLE, TN 37205  \n",
       "15870            95 WHITE BRIDGE RD  95 WHITE BRIDGE RD, NASHVILLE, TN 37205  "
      ]
     },
     "execution_count": 224,
     "metadata": {},
     "output_type": "execute_result"
    }
   ],
   "source": [
    "cm[cm['tres_nm'] == 'JAMES TROY BREWER']"
   ]
  },
  {
   "cell_type": "code",
   "execution_count": 225,
   "metadata": {},
   "outputs": [
    {
     "name": "stdout",
     "output_type": "stream",
     "text": [
      "orig len: 0\n",
      "new len: 2\n"
     ]
    }
   ],
   "source": [
    "new = 'JAMES BREWER'\n",
    "dones.append(new)\n",
    "\n",
    "these = findall(['james', 'brewer'])\n",
    "\n",
    "getall(these, new)"
   ]
  },
  {
   "cell_type": "code",
   "execution_count": 226,
   "metadata": {},
   "outputs": [
    {
     "data": {
      "text/plain": [
       "['JONATHAN BRETT RINGHAM']"
      ]
     },
     "execution_count": 226,
     "metadata": {},
     "output_type": "execute_result"
    }
   ],
   "source": [
    "findall(' ringham')"
   ]
  },
  {
   "cell_type": "code",
   "execution_count": 227,
   "metadata": {},
   "outputs": [],
   "source": [
    "dones.extend(findall(' bre'))"
   ]
  },
  {
   "cell_type": "code",
   "execution_count": 228,
   "metadata": {},
   "outputs": [
    {
     "data": {
      "text/plain": [
       "['CRYSTAL SELLERS',\n",
       " 'GREGORY SELTZER',\n",
       " 'JANET SELWAY',\n",
       " 'JOHN SELPH',\n",
       " 'JUDITH SELZER',\n",
       " 'KATHY SELVAGGIO',\n",
       " 'LAURA SELKEN',\n",
       " 'LAURIE SELF',\n",
       " 'LINDA SELL',\n",
       " 'MONIKA SELMONT',\n",
       " 'PAUL SELTMAN',\n",
       " 'STEVE SELTZER']"
      ]
     },
     "execution_count": 228,
     "metadata": {},
     "output_type": "execute_result"
    }
   ],
   "source": [
    "findall(' sel')"
   ]
  },
  {
   "cell_type": "code",
   "execution_count": 229,
   "metadata": {},
   "outputs": [
    {
     "data": {
      "text/plain": [
       "[]"
      ]
     },
     "execution_count": 229,
     "metadata": {},
     "output_type": "execute_result"
    }
   ],
   "source": [
    "findall(['ja', 'peters'])"
   ]
  },
  {
   "cell_type": "code",
   "execution_count": 230,
   "metadata": {},
   "outputs": [
    {
     "data": {
      "text/plain": [
       "['SARAH HARPER SCOTT']"
      ]
     },
     "execution_count": 230,
     "metadata": {},
     "output_type": "execute_result"
    }
   ],
   "source": [
    "findall(['sar', 'scot'])"
   ]
  },
  {
   "cell_type": "code",
   "execution_count": 231,
   "metadata": {},
   "outputs": [],
   "source": [
    "dones.extend(findall(' sel'))"
   ]
  },
  {
   "cell_type": "code",
   "execution_count": 232,
   "metadata": {},
   "outputs": [
    {
     "data": {
      "text/plain": [
       "['DAVID OWEN',\n",
       " 'ETHAN OWENS',\n",
       " 'GAIL DENISE OWENS',\n",
       " 'JOHN OWENS',\n",
       " 'LINDA OWENS',\n",
       " 'OSCAR OWENS',\n",
       " 'ROBERT OWENS',\n",
       " 'RODNEY OWEN MOSIER',\n",
       " 'SELENA OWENS',\n",
       " 'STACY OWENS',\n",
       " 'THADDEUS OWENS',\n",
       " 'WENDI OWEN',\n",
       " 'WENDY ANNOR OWENS']"
      ]
     },
     "execution_count": 232,
     "metadata": {},
     "output_type": "execute_result"
    }
   ],
   "source": [
    "findall(' owen')"
   ]
  },
  {
   "cell_type": "code",
   "execution_count": 233,
   "metadata": {},
   "outputs": [
    {
     "data": {
      "text/plain": [
       "['HELEN MOSIER', 'JONATHAN MOSIER', 'RODNEY OWEN MOSIER']"
      ]
     },
     "execution_count": 233,
     "metadata": {},
     "output_type": "execute_result"
    }
   ],
   "source": [
    "findall(' mosier')"
   ]
  },
  {
   "cell_type": "code",
   "execution_count": 234,
   "metadata": {},
   "outputs": [],
   "source": [
    "dones.extend(findall(' owen'))"
   ]
  },
  {
   "cell_type": "code",
   "execution_count": 235,
   "metadata": {},
   "outputs": [
    {
     "data": {
      "text/plain": [
       "['CHRISTOPHER VOROS',\n",
       " 'DATHAN VOELTER',\n",
       " 'FRANCIS VOIGT',\n",
       " 'HARRISON WAGNER VON DWINGELO',\n",
       " 'JEN GILBERT VOSS',\n",
       " 'MARK VOGEL',\n",
       " 'MARTIN VOGT',\n",
       " 'PATRICK VOSS',\n",
       " 'PAUL VOGEL',\n",
       " 'RICHARD VOLIVA',\n",
       " 'ROBERT VOLTMANN',\n",
       " 'ROGER VON TING',\n",
       " 'TARYN VOGEL']"
      ]
     },
     "execution_count": 235,
     "metadata": {},
     "output_type": "execute_result"
    }
   ],
   "source": [
    "findall(' vo')"
   ]
  },
  {
   "cell_type": "code",
   "execution_count": 236,
   "metadata": {},
   "outputs": [
    {
     "data": {
      "text/plain": [
       "[]"
      ]
     },
     "execution_count": 236,
     "metadata": {},
     "output_type": "execute_result"
    }
   ],
   "source": [
    "findall(' luza')"
   ]
  },
  {
   "cell_type": "code",
   "execution_count": 237,
   "metadata": {},
   "outputs": [],
   "source": [
    "dones.extend(findall(' vo'))"
   ]
  },
  {
   "cell_type": "code",
   "execution_count": 238,
   "metadata": {},
   "outputs": [
    {
     "data": {
      "text/plain": [
       "['APRIL BOLING',\n",
       " 'CHRISTINE BOLDT',\n",
       " 'DANIEL BOLLNER',\n",
       " 'DIANE BOLAK',\n",
       " 'DONALD PATRICK BOLENA',\n",
       " 'ELDAR BOLSAKOV',\n",
       " 'JEFFERY BOLTON',\n",
       " 'JERRY BOLES',\n",
       " 'JESSE BOLIN',\n",
       " 'JOHN BOLING',\n",
       " 'KIMBERLY BOLIN',\n",
       " 'MICHAEL BOLAND',\n",
       " 'MICHAEL BOLLENTIN',\n",
       " 'MICHAEL BOLTON',\n",
       " 'MIKE BOLAND',\n",
       " 'NATHAN BOLT',\n",
       " 'PRENTISS BOLIN',\n",
       " 'REGINALD BOLDING',\n",
       " 'TOM BOLOVINOS',\n",
       " 'VINCENT BOLLON']"
      ]
     },
     "execution_count": 238,
     "metadata": {},
     "output_type": "execute_result"
    }
   ],
   "source": [
    "findall(' bol')"
   ]
  },
  {
   "cell_type": "code",
   "execution_count": 239,
   "metadata": {},
   "outputs": [],
   "source": [
    "dones.extend(findall(' bol'))"
   ]
  },
  {
   "cell_type": "code",
   "execution_count": 240,
   "metadata": {
    "scrolled": false
   },
   "outputs": [
    {
     "data": {
      "text/plain": [
       "['AARON HUBBARD',\n",
       " 'BEN HUBBY',\n",
       " 'CHARLES HUBERT HAUSER',\n",
       " 'EDWARD HUBBARD',\n",
       " 'FREDDIE HUBBARD',\n",
       " 'HARRY HUBBARD',\n",
       " 'JACK HUBBARD',\n",
       " 'JIM HUBBARD',\n",
       " 'SCOTT HUBAY',\n",
       " 'TSHOMBE HUBBARD']"
      ]
     },
     "execution_count": 240,
     "metadata": {},
     "output_type": "execute_result"
    }
   ],
   "source": [
    "findall(' hub')"
   ]
  },
  {
   "cell_type": "code",
   "execution_count": 241,
   "metadata": {},
   "outputs": [
    {
     "data": {
      "text/plain": [
       "['CHARLES HUBERT HAUSER']"
      ]
     },
     "execution_count": 241,
     "metadata": {},
     "output_type": "execute_result"
    }
   ],
   "source": [
    "findall(' hauser')"
   ]
  },
  {
   "cell_type": "code",
   "execution_count": 242,
   "metadata": {},
   "outputs": [],
   "source": [
    "dones.extend(findall(' hub'))"
   ]
  },
  {
   "cell_type": "code",
   "execution_count": 243,
   "metadata": {},
   "outputs": [
    {
     "data": {
      "text/plain": [
       "['NINA OZLU TUNCELI', 'WILLIAM OZANUS']"
      ]
     },
     "execution_count": 243,
     "metadata": {},
     "output_type": "execute_result"
    }
   ],
   "source": [
    "findall(' oz')"
   ]
  },
  {
   "cell_type": "code",
   "execution_count": 244,
   "metadata": {},
   "outputs": [
    {
     "data": {
      "text/plain": [
       "['NINA OZLU TUNCELI']"
      ]
     },
     "execution_count": 244,
     "metadata": {},
     "output_type": "execute_result"
    }
   ],
   "source": [
    "findall(' tunc')"
   ]
  },
  {
   "cell_type": "code",
   "execution_count": 245,
   "metadata": {},
   "outputs": [],
   "source": [
    "dones.extend(findall(' oz'))"
   ]
  },
  {
   "cell_type": "code",
   "execution_count": 246,
   "metadata": {},
   "outputs": [
    {
     "data": {
      "text/plain": [
       "['ERIC GROEN', 'REBECCA GROEN']"
      ]
     },
     "execution_count": 246,
     "metadata": {},
     "output_type": "execute_result"
    }
   ],
   "source": [
    "findall(' groe')"
   ]
  },
  {
   "cell_type": "code",
   "execution_count": 247,
   "metadata": {},
   "outputs": [],
   "source": [
    "dones.extend(findall(' groe'))"
   ]
  },
  {
   "cell_type": "code",
   "execution_count": 248,
   "metadata": {},
   "outputs": [
    {
     "data": {
      "text/plain": [
       "['DEREK SOLAR', 'KRISTIN SOLANDER']"
      ]
     },
     "execution_count": 248,
     "metadata": {},
     "output_type": "execute_result"
    }
   ],
   "source": [
    "findall(' sola')"
   ]
  },
  {
   "cell_type": "code",
   "execution_count": 249,
   "metadata": {},
   "outputs": [
    {
     "data": {
      "text/plain": [
       "[]"
      ]
     },
     "execution_count": 249,
     "metadata": {},
     "output_type": "execute_result"
    }
   ],
   "source": [
    "findall(['ed', 'patterson'])"
   ]
  },
  {
   "cell_type": "code",
   "execution_count": 250,
   "metadata": {},
   "outputs": [],
   "source": [
    "dones.extend(findall(' sola'))"
   ]
  },
  {
   "cell_type": "code",
   "execution_count": 251,
   "metadata": {},
   "outputs": [
    {
     "data": {
      "text/plain": [
       "['BEN RUPP', 'DAVID RUPPENICKER', 'JEFFREY RUPPERT', 'LORI RUPPEN']"
      ]
     },
     "execution_count": 251,
     "metadata": {},
     "output_type": "execute_result"
    }
   ],
   "source": [
    "findall(' rupp')"
   ]
  },
  {
   "cell_type": "code",
   "execution_count": 252,
   "metadata": {},
   "outputs": [],
   "source": [
    "dones.extend(findall(' rupp'))"
   ]
  },
  {
   "cell_type": "code",
   "execution_count": 253,
   "metadata": {},
   "outputs": [
    {
     "data": {
      "text/plain": [
       "['ADAM VICTOR SCHILLER',\n",
       " 'AMY SCHILLING',\n",
       " 'ANTHONY SCHIWEIER',\n",
       " 'ERIC SCHIPPERS',\n",
       " 'JAMES SCHISSER',\n",
       " 'JOHN SCHILLING',\n",
       " 'JOSEPH SCHINTZ',\n",
       " 'KEVIN SCHIEFFER',\n",
       " 'LOUIS SCHIAZZA',\n",
       " 'MARY SCHILLING',\n",
       " 'SARAH SCHIMDT']"
      ]
     },
     "execution_count": 253,
     "metadata": {},
     "output_type": "execute_result"
    }
   ],
   "source": [
    "findall(' schi')"
   ]
  },
  {
   "cell_type": "code",
   "execution_count": 254,
   "metadata": {},
   "outputs": [],
   "source": [
    "dones.extend(findall(' schi'))"
   ]
  },
  {
   "cell_type": "code",
   "execution_count": 255,
   "metadata": {},
   "outputs": [
    {
     "data": {
      "text/plain": [
       "[]"
      ]
     },
     "execution_count": 255,
     "metadata": {},
     "output_type": "execute_result"
    }
   ],
   "source": [
    "findall(' guin')"
   ]
  },
  {
   "cell_type": "code",
   "execution_count": 256,
   "metadata": {},
   "outputs": [],
   "source": [
    "dones.extend(findall(' guin'))"
   ]
  },
  {
   "cell_type": "code",
   "execution_count": 257,
   "metadata": {},
   "outputs": [
    {
     "data": {
      "text/plain": [
       "['ANN STONE',\n",
       " 'ERIC STONEHAM',\n",
       " 'LISA STONE',\n",
       " \"O'LENE STONE\",\n",
       " 'ROBIN STONE',\n",
       " 'RUTH ROCHELLE STONER',\n",
       " 'SAMUEL STONE',\n",
       " 'SHARON STONES',\n",
       " 'SHERRI STONE']"
      ]
     },
     "execution_count": 257,
     "metadata": {},
     "output_type": "execute_result"
    }
   ],
   "source": [
    "findall(' stone')"
   ]
  },
  {
   "cell_type": "code",
   "execution_count": 258,
   "metadata": {},
   "outputs": [],
   "source": [
    "dones.extend(findall(' stone'))"
   ]
  },
  {
   "cell_type": "code",
   "execution_count": 259,
   "metadata": {},
   "outputs": [
    {
     "data": {
      "text/plain": [
       "['CALEB CROSBY',\n",
       " 'COLLEEN CROSSEY',\n",
       " 'GRADY CROSBY',\n",
       " 'KAREN CROSS',\n",
       " 'MARK CROSS']"
      ]
     },
     "execution_count": 259,
     "metadata": {},
     "output_type": "execute_result"
    }
   ],
   "source": [
    "findall(' cros')"
   ]
  },
  {
   "cell_type": "code",
   "execution_count": 260,
   "metadata": {},
   "outputs": [],
   "source": [
    "dones.extend(findall(' cros'))"
   ]
  },
  {
   "cell_type": "code",
   "execution_count": 261,
   "metadata": {},
   "outputs": [
    {
     "data": {
      "text/plain": [
       "['ALAN GLAZIER',\n",
       " 'EUSTACE GLASGOW',\n",
       " 'EZRA GLASER',\n",
       " 'JOHN GLANCEY',\n",
       " 'MITCH GLAZIER',\n",
       " 'WILLIAM GLASS']"
      ]
     },
     "execution_count": 261,
     "metadata": {},
     "output_type": "execute_result"
    }
   ],
   "source": [
    "findall(' gla')"
   ]
  },
  {
   "cell_type": "code",
   "execution_count": 262,
   "metadata": {},
   "outputs": [
    {
     "data": {
      "text/plain": [
       "[]"
      ]
     },
     "execution_count": 262,
     "metadata": {},
     "output_type": "execute_result"
    }
   ],
   "source": [
    "findall('hemmig')"
   ]
  },
  {
   "cell_type": "code",
   "execution_count": 263,
   "metadata": {},
   "outputs": [],
   "source": [
    "dones.extend(findall(' gla'))"
   ]
  },
  {
   "cell_type": "code",
   "execution_count": 264,
   "metadata": {},
   "outputs": [
    {
     "data": {
      "text/plain": [
       "['ASHLEY RAGAN', 'JACKI RAGAN', 'JENNIFER RAGAN', 'VIRGINIA RAGAN']"
      ]
     },
     "execution_count": 264,
     "metadata": {},
     "output_type": "execute_result"
    }
   ],
   "source": [
    "findall(' ragan')"
   ]
  },
  {
   "cell_type": "code",
   "execution_count": 265,
   "metadata": {},
   "outputs": [],
   "source": [
    "dones.extend(findall(' ragan'))"
   ]
  },
  {
   "cell_type": "code",
   "execution_count": 266,
   "metadata": {},
   "outputs": [
    {
     "data": {
      "text/plain": [
       "['DAVID MAURO',\n",
       " 'GEORGE MAURER',\n",
       " 'STACEY MAUD',\n",
       " 'TERRY MAUPIN',\n",
       " 'WENDY MAUSOLF']"
      ]
     },
     "execution_count": 266,
     "metadata": {},
     "output_type": "execute_result"
    }
   ],
   "source": [
    "findall(' mau')"
   ]
  },
  {
   "cell_type": "code",
   "execution_count": 267,
   "metadata": {},
   "outputs": [
    {
     "data": {
      "text/plain": [
       "[]"
      ]
     },
     "execution_count": 267,
     "metadata": {},
     "output_type": "execute_result"
    }
   ],
   "source": [
    "findall('littlejohn')"
   ]
  },
  {
   "cell_type": "code",
   "execution_count": 268,
   "metadata": {},
   "outputs": [
    {
     "data": {
      "text/plain": [
       "[]"
      ]
     },
     "execution_count": 268,
     "metadata": {},
     "output_type": "execute_result"
    }
   ],
   "source": [
    "findall('buchser')"
   ]
  },
  {
   "cell_type": "code",
   "execution_count": 269,
   "metadata": {},
   "outputs": [],
   "source": [
    "dones.extend(findall(' mau'))"
   ]
  },
  {
   "cell_type": "code",
   "execution_count": 270,
   "metadata": {},
   "outputs": [
    {
     "data": {
      "text/plain": [
       "['CRAIG SNYDER', 'FRANK SNYDER', 'JASON SNYDER', 'RICHARD SNYDER']"
      ]
     },
     "execution_count": 270,
     "metadata": {},
     "output_type": "execute_result"
    }
   ],
   "source": [
    "findall(' snyd')"
   ]
  },
  {
   "cell_type": "code",
   "execution_count": 271,
   "metadata": {},
   "outputs": [],
   "source": [
    "dones.extend(findall(' snyd'))"
   ]
  },
  {
   "cell_type": "code",
   "execution_count": 272,
   "metadata": {},
   "outputs": [
    {
     "data": {
      "text/plain": [
       "['BYRON PURCELL',\n",
       " 'CRAIG PURSER',\n",
       " 'KENNETH PURNELL YANCY',\n",
       " 'MICHAEL PURZYCKI',\n",
       " 'PAULA PURDY',\n",
       " 'SALVATORE PURPURA',\n",
       " 'SANJAY PURI',\n",
       " 'STARR PURDUE']"
      ]
     },
     "execution_count": 272,
     "metadata": {},
     "output_type": "execute_result"
    }
   ],
   "source": [
    "findall(' pur')"
   ]
  },
  {
   "cell_type": "code",
   "execution_count": 273,
   "metadata": {},
   "outputs": [
    {
     "data": {
      "text/plain": [
       "[]"
      ]
     },
     "execution_count": 273,
     "metadata": {},
     "output_type": "execute_result"
    }
   ],
   "source": [
    "findall(' balc')"
   ]
  },
  {
   "cell_type": "code",
   "execution_count": 274,
   "metadata": {},
   "outputs": [],
   "source": [
    "dones.extend(findall(' pur'))"
   ]
  },
  {
   "cell_type": "code",
   "execution_count": 275,
   "metadata": {},
   "outputs": [
    {
     "data": {
      "text/plain": [
       "['BRYAN LEIB',\n",
       " 'CODY PAUL LEISTIKOW',\n",
       " 'CYNTHIA LEIGH APPLEBAUM',\n",
       " 'ERIC LEIGH KELLER',\n",
       " 'GARY LEIGH',\n",
       " 'GLEN LEIBOWITZ',\n",
       " 'JANE LEIDERMAN',\n",
       " 'JUSTIN LEIGH FARBER',\n",
       " 'MIGUEL LEIJA',\n",
       " 'SUSAN LEIVAS-STURNER']"
      ]
     },
     "execution_count": 275,
     "metadata": {},
     "output_type": "execute_result"
    }
   ],
   "source": [
    "findall(' lei')"
   ]
  },
  {
   "cell_type": "code",
   "execution_count": 276,
   "metadata": {},
   "outputs": [
    {
     "data": {
      "text/plain": [
       "[]"
      ]
     },
     "execution_count": 276,
     "metadata": {},
     "output_type": "execute_result"
    }
   ],
   "source": [
    "findall('bronson')"
   ]
  },
  {
   "cell_type": "code",
   "execution_count": 277,
   "metadata": {},
   "outputs": [
    {
     "data": {
      "text/plain": [
       "[]"
      ]
     },
     "execution_count": 277,
     "metadata": {},
     "output_type": "execute_result"
    }
   ],
   "source": [
    "findall('kasz')"
   ]
  },
  {
   "cell_type": "code",
   "execution_count": 278,
   "metadata": {},
   "outputs": [
    {
     "data": {
      "text/plain": [
       "['CYNTHIA LEIGH APPLEBAUM']"
      ]
     },
     "execution_count": 278,
     "metadata": {},
     "output_type": "execute_result"
    }
   ],
   "source": [
    "findall(['cynth', 'apple'])"
   ]
  },
  {
   "cell_type": "code",
   "execution_count": 279,
   "metadata": {},
   "outputs": [
    {
     "data": {
      "text/plain": [
       "['PAUL FOWLER', 'RICHARD ANTHONY FOWLER', 'SCOTT FOWLER', 'SEAN FOWLER']"
      ]
     },
     "execution_count": 279,
     "metadata": {},
     "output_type": "execute_result"
    }
   ],
   "source": [
    "findall('fowler')"
   ]
  },
  {
   "cell_type": "code",
   "execution_count": 280,
   "metadata": {},
   "outputs": [
    {
     "data": {
      "text/plain": [
       "['AARON KELLER',\n",
       " 'CRAIG KELLER',\n",
       " 'ERIC KELLER',\n",
       " 'ERIC LEIGH KELLER',\n",
       " 'JAMES KELLER',\n",
       " 'LYNNE KELLER']"
      ]
     },
     "execution_count": 280,
     "metadata": {},
     "output_type": "execute_result"
    }
   ],
   "source": [
    "findall('keller')"
   ]
  },
  {
   "cell_type": "code",
   "execution_count": 281,
   "metadata": {},
   "outputs": [
    {
     "data": {
      "text/html": [
       "<div>\n",
       "<style scoped>\n",
       "    .dataframe tbody tr th:only-of-type {\n",
       "        vertical-align: middle;\n",
       "    }\n",
       "\n",
       "    .dataframe tbody tr th {\n",
       "        vertical-align: top;\n",
       "    }\n",
       "\n",
       "    .dataframe thead th {\n",
       "        text-align: right;\n",
       "    }\n",
       "</style>\n",
       "<table border=\"1\" class=\"dataframe\">\n",
       "  <thead>\n",
       "    <tr style=\"text-align: right;\">\n",
       "      <th></th>\n",
       "      <th>cmte_id</th>\n",
       "      <th>cmte_nm</th>\n",
       "      <th>tres_nm</th>\n",
       "      <th>cmte_st1</th>\n",
       "      <th>cmte_st2</th>\n",
       "      <th>cmte_city</th>\n",
       "      <th>cmte_st</th>\n",
       "      <th>cmte_zip</th>\n",
       "      <th>cmte_dsgn</th>\n",
       "      <th>cmte_tp</th>\n",
       "      <th>cmte_pty_affiliation</th>\n",
       "      <th>cmte_filing_freq</th>\n",
       "      <th>org_tp</th>\n",
       "      <th>connected_org_nm</th>\n",
       "      <th>cand_id</th>\n",
       "      <th>orig_tres_nm</th>\n",
       "      <th>orig_cmte_st1</th>\n",
       "      <th>address</th>\n",
       "    </tr>\n",
       "  </thead>\n",
       "  <tbody>\n",
       "    <tr>\n",
       "      <td>16029</td>\n",
       "      <td>C00684282</td>\n",
       "      <td>EDEMOCRATS PAC LLC</td>\n",
       "      <td>ERIC KELLER</td>\n",
       "      <td>70 LINDEN AVE</td>\n",
       "      <td>P O BOX 2134</td>\n",
       "      <td>HADDONFIELD</td>\n",
       "      <td>NJ</td>\n",
       "      <td>08033</td>\n",
       "      <td>U</td>\n",
       "      <td>N</td>\n",
       "      <td>UNK</td>\n",
       "      <td>Q</td>\n",
       "      <td>NaN</td>\n",
       "      <td>NONE</td>\n",
       "      <td>NaN</td>\n",
       "      <td>KELLER, ERIC MR</td>\n",
       "      <td>70 LINDEN AVENUE</td>\n",
       "      <td>70 LINDEN AVE, HADDONFIELD, NJ 08033</td>\n",
       "    </tr>\n",
       "  </tbody>\n",
       "</table>\n",
       "</div>"
      ],
      "text/plain": [
       "         cmte_id             cmte_nm      tres_nm       cmte_st1  \\\n",
       "16029  C00684282  EDEMOCRATS PAC LLC  ERIC KELLER  70 LINDEN AVE   \n",
       "\n",
       "           cmte_st2    cmte_city cmte_st cmte_zip cmte_dsgn cmte_tp  \\\n",
       "16029  P O BOX 2134  HADDONFIELD      NJ    08033         U       N   \n",
       "\n",
       "      cmte_pty_affiliation cmte_filing_freq org_tp connected_org_nm cand_id  \\\n",
       "16029                  UNK                Q    NaN             NONE     NaN   \n",
       "\n",
       "          orig_tres_nm     orig_cmte_st1                               address  \n",
       "16029  KELLER, ERIC MR  70 LINDEN AVENUE  70 LINDEN AVE, HADDONFIELD, NJ 08033  "
      ]
     },
     "execution_count": 281,
     "metadata": {},
     "output_type": "execute_result"
    }
   ],
   "source": [
    "cm[cm['tres_nm'] == 'ERIC KELLER']"
   ]
  },
  {
   "cell_type": "code",
   "execution_count": 282,
   "metadata": {},
   "outputs": [
    {
     "data": {
      "text/html": [
       "<div>\n",
       "<style scoped>\n",
       "    .dataframe tbody tr th:only-of-type {\n",
       "        vertical-align: middle;\n",
       "    }\n",
       "\n",
       "    .dataframe tbody tr th {\n",
       "        vertical-align: top;\n",
       "    }\n",
       "\n",
       "    .dataframe thead th {\n",
       "        text-align: right;\n",
       "    }\n",
       "</style>\n",
       "<table border=\"1\" class=\"dataframe\">\n",
       "  <thead>\n",
       "    <tr style=\"text-align: right;\">\n",
       "      <th></th>\n",
       "      <th>cmte_id</th>\n",
       "      <th>cmte_nm</th>\n",
       "      <th>tres_nm</th>\n",
       "      <th>cmte_st1</th>\n",
       "      <th>cmte_st2</th>\n",
       "      <th>cmte_city</th>\n",
       "      <th>cmte_st</th>\n",
       "      <th>cmte_zip</th>\n",
       "      <th>cmte_dsgn</th>\n",
       "      <th>cmte_tp</th>\n",
       "      <th>cmte_pty_affiliation</th>\n",
       "      <th>cmte_filing_freq</th>\n",
       "      <th>org_tp</th>\n",
       "      <th>connected_org_nm</th>\n",
       "      <th>cand_id</th>\n",
       "      <th>orig_tres_nm</th>\n",
       "      <th>orig_cmte_st1</th>\n",
       "      <th>address</th>\n",
       "    </tr>\n",
       "  </thead>\n",
       "  <tbody>\n",
       "    <tr>\n",
       "      <td>14311</td>\n",
       "      <td>C00666537</td>\n",
       "      <td>PRESS FREEDOM POLITICAL ACTION COMMITTEE</td>\n",
       "      <td>ERIC LEIGH KELLER</td>\n",
       "      <td>902 TURKEY RUN RD</td>\n",
       "      <td>NaN</td>\n",
       "      <td>MCLEAN</td>\n",
       "      <td>VA</td>\n",
       "      <td>22101</td>\n",
       "      <td>U</td>\n",
       "      <td>N</td>\n",
       "      <td>UNK</td>\n",
       "      <td>Q</td>\n",
       "      <td>NaN</td>\n",
       "      <td>NONE</td>\n",
       "      <td>NaN</td>\n",
       "      <td>KELLER, ERIC LEIGH MR.</td>\n",
       "      <td>902 TURKEY RUN ROAD</td>\n",
       "      <td>902 TURKEY RUN RD, MCLEAN, VA 22101</td>\n",
       "    </tr>\n",
       "  </tbody>\n",
       "</table>\n",
       "</div>"
      ],
      "text/plain": [
       "         cmte_id                                   cmte_nm            tres_nm  \\\n",
       "14311  C00666537  PRESS FREEDOM POLITICAL ACTION COMMITTEE  ERIC LEIGH KELLER   \n",
       "\n",
       "                cmte_st1 cmte_st2 cmte_city cmte_st cmte_zip cmte_dsgn  \\\n",
       "14311  902 TURKEY RUN RD      NaN    MCLEAN      VA    22101         U   \n",
       "\n",
       "      cmte_tp cmte_pty_affiliation cmte_filing_freq org_tp connected_org_nm  \\\n",
       "14311       N                  UNK                Q    NaN             NONE   \n",
       "\n",
       "      cand_id            orig_tres_nm        orig_cmte_st1  \\\n",
       "14311     NaN  KELLER, ERIC LEIGH MR.  902 TURKEY RUN ROAD   \n",
       "\n",
       "                                   address  \n",
       "14311  902 TURKEY RUN RD, MCLEAN, VA 22101  "
      ]
     },
     "execution_count": 282,
     "metadata": {},
     "output_type": "execute_result"
    }
   ],
   "source": [
    "cm[cm['tres_nm'] == 'ERIC LEIGH KELLER']"
   ]
  },
  {
   "cell_type": "code",
   "execution_count": 283,
   "metadata": {},
   "outputs": [
    {
     "data": {
      "text/plain": [
       "['AARON HUBBARD',\n",
       " 'EDWARD HUBBARD',\n",
       " 'FREDDIE HUBBARD',\n",
       " 'HARRY HUBBARD',\n",
       " 'JACK HUBBARD',\n",
       " 'JIM HUBBARD',\n",
       " 'TSHOMBE HUBBARD']"
      ]
     },
     "execution_count": 283,
     "metadata": {},
     "output_type": "execute_result"
    }
   ],
   "source": [
    "findall(' hubbard')"
   ]
  },
  {
   "cell_type": "code",
   "execution_count": 284,
   "metadata": {},
   "outputs": [],
   "source": [
    "dones.extend(findall(' lei'))"
   ]
  },
  {
   "cell_type": "code",
   "execution_count": 285,
   "metadata": {},
   "outputs": [
    {
     "data": {
      "text/plain": [
       "['DONALD TEAL', 'GARY TEAL', 'MATT TEAGARDEN', 'RICHARD TEAMAN']"
      ]
     },
     "execution_count": 285,
     "metadata": {},
     "output_type": "execute_result"
    }
   ],
   "source": [
    "findall(' tea')"
   ]
  },
  {
   "cell_type": "code",
   "execution_count": 286,
   "metadata": {},
   "outputs": [],
   "source": [
    "dones.extend(findall(' tea'))"
   ]
  },
  {
   "cell_type": "code",
   "execution_count": 287,
   "metadata": {},
   "outputs": [
    {
     "data": {
      "text/plain": [
       "['DEBORAH RUTH HAGAR',\n",
       " 'JANNA RUTLAND',\n",
       " 'JEFFREY RUTAN',\n",
       " 'JOHN RUTKAUSKAS',\n",
       " 'LUCY RUTISHAUSER',\n",
       " 'REID RUTHERFORD',\n",
       " 'SUSAN RUTT']"
      ]
     },
     "execution_count": 287,
     "metadata": {},
     "output_type": "execute_result"
    }
   ],
   "source": [
    "findall(' rut')"
   ]
  },
  {
   "cell_type": "code",
   "execution_count": 288,
   "metadata": {},
   "outputs": [
    {
     "data": {
      "text/plain": [
       "[]"
      ]
     },
     "execution_count": 288,
     "metadata": {},
     "output_type": "execute_result"
    }
   ],
   "source": [
    "findall('bellar')"
   ]
  },
  {
   "cell_type": "code",
   "execution_count": 289,
   "metadata": {},
   "outputs": [
    {
     "data": {
      "text/plain": [
       "['HEATH MAYO']"
      ]
     },
     "execution_count": 289,
     "metadata": {},
     "output_type": "execute_result"
    }
   ],
   "source": [
    "findall(' mayo')"
   ]
  },
  {
   "cell_type": "code",
   "execution_count": 290,
   "metadata": {},
   "outputs": [],
   "source": [
    "dones.extend(findall(' mayo'))"
   ]
  },
  {
   "cell_type": "code",
   "execution_count": 291,
   "metadata": {},
   "outputs": [],
   "source": [
    "dones.extend(findall(' rut'))"
   ]
  },
  {
   "cell_type": "code",
   "execution_count": 292,
   "metadata": {},
   "outputs": [
    {
     "data": {
      "text/plain": [
       "['ALLEN ELLISON',\n",
       " 'AMY ELLIS',\n",
       " 'GREG ELLIOTT',\n",
       " 'HEIDI ELLIS ROBEY',\n",
       " 'JEROME ELLIOTT TRES TRUSTEE FIELDS',\n",
       " 'JOE ELLISON',\n",
       " 'JOHN CLELLAND ELLIS',\n",
       " 'LISA ELLIS',\n",
       " 'MICHAEL ELLIOTT',\n",
       " 'SCOTT ELLINGTON',\n",
       " 'THERESA ELLINGTON',\n",
       " 'TWANA ELLIOTT']"
      ]
     },
     "execution_count": 292,
     "metadata": {},
     "output_type": "execute_result"
    }
   ],
   "source": [
    "findall(' elli')"
   ]
  },
  {
   "cell_type": "code",
   "execution_count": 293,
   "metadata": {},
   "outputs": [
    {
     "data": {
      "text/plain": [
       "['HEIDI ELLIS ROBEY']"
      ]
     },
     "execution_count": 293,
     "metadata": {},
     "output_type": "execute_result"
    }
   ],
   "source": [
    "findall(' robey')"
   ]
  },
  {
   "cell_type": "code",
   "execution_count": 294,
   "metadata": {},
   "outputs": [
    {
     "data": {
      "text/plain": [
       "['LISA DAHLING', 'THOMAS DAHLEN']"
      ]
     },
     "execution_count": 294,
     "metadata": {},
     "output_type": "execute_result"
    }
   ],
   "source": [
    "findall(' dahl')"
   ]
  },
  {
   "cell_type": "code",
   "execution_count": 295,
   "metadata": {},
   "outputs": [],
   "source": [
    "dones.extend(findall(' elli'))"
   ]
  },
  {
   "cell_type": "code",
   "execution_count": 296,
   "metadata": {},
   "outputs": [
    {
     "data": {
      "text/plain": [
       "['BRONWYN KEENAN',\n",
       " 'DARRYL KEENAN SEGARS',\n",
       " 'DAVID KEEN',\n",
       " 'HELENE KEELEY',\n",
       " 'JOHN KEELING',\n",
       " 'LYNETTE KEETON',\n",
       " 'MICHAEL KEELING',\n",
       " 'THORNTON KEEL']"
      ]
     },
     "execution_count": 296,
     "metadata": {},
     "output_type": "execute_result"
    }
   ],
   "source": [
    "findall(' kee')"
   ]
  },
  {
   "cell_type": "code",
   "execution_count": 297,
   "metadata": {},
   "outputs": [
    {
     "data": {
      "text/plain": [
       "['DARRYL KEENAN SEGARS']"
      ]
     },
     "execution_count": 297,
     "metadata": {},
     "output_type": "execute_result"
    }
   ],
   "source": [
    "findall(' segars')"
   ]
  },
  {
   "cell_type": "code",
   "execution_count": 298,
   "metadata": {},
   "outputs": [],
   "source": [
    "dones.extend(findall(' kee'))"
   ]
  },
  {
   "cell_type": "code",
   "execution_count": 299,
   "metadata": {},
   "outputs": [
    {
     "data": {
      "text/plain": [
       "['AUSTIN BENNET TR JANSSEN',\n",
       " 'BEVE JANE THAKHAMHOR',\n",
       " 'DEBORAH JANSEN',\n",
       " 'DNP APRN JANICE JONES',\n",
       " 'ELAINE JANUS',\n",
       " 'GORAN JANKOVIC',\n",
       " 'JOHN JANKOWSKI',\n",
       " 'LATREASHA JANET GIVENS',\n",
       " 'MICHELLE JANEEN WHITE',\n",
       " 'TIMOTHY JANISSE']"
      ]
     },
     "execution_count": 299,
     "metadata": {},
     "output_type": "execute_result"
    }
   ],
   "source": [
    "findall(' jan')"
   ]
  },
  {
   "cell_type": "code",
   "execution_count": 300,
   "metadata": {},
   "outputs": [
    {
     "data": {
      "text/plain": [
       "['AUSTIN BENNET TR JANSSEN']"
      ]
     },
     "execution_count": 300,
     "metadata": {},
     "output_type": "execute_result"
    }
   ],
   "source": [
    "findall(' janssen')"
   ]
  },
  {
   "cell_type": "code",
   "execution_count": 301,
   "metadata": {},
   "outputs": [
    {
     "data": {
      "text/plain": [
       "['BEVE JANE THAKHAMHOR']"
      ]
     },
     "execution_count": 301,
     "metadata": {},
     "output_type": "execute_result"
    }
   ],
   "source": [
    "findall(' thakh')"
   ]
  },
  {
   "cell_type": "code",
   "execution_count": 302,
   "metadata": {},
   "outputs": [
    {
     "data": {
      "text/plain": [
       "[]"
      ]
     },
     "execution_count": 302,
     "metadata": {},
     "output_type": "execute_result"
    }
   ],
   "source": [
    "findall('osgerby')"
   ]
  },
  {
   "cell_type": "code",
   "execution_count": 303,
   "metadata": {},
   "outputs": [
    {
     "data": {
      "text/plain": [
       "['CYNTHIA WHARTON', 'KOTA WHARTON']"
      ]
     },
     "execution_count": 303,
     "metadata": {},
     "output_type": "execute_result"
    }
   ],
   "source": [
    "findall('wharton')"
   ]
  },
  {
   "cell_type": "code",
   "execution_count": 304,
   "metadata": {},
   "outputs": [
    {
     "data": {
      "text/plain": [
       "[]"
      ]
     },
     "execution_count": 304,
     "metadata": {},
     "output_type": "execute_result"
    }
   ],
   "source": [
    "findall(' tanis')"
   ]
  },
  {
   "cell_type": "code",
   "execution_count": 305,
   "metadata": {},
   "outputs": [],
   "source": [
    "dones.extend(findall(' jan'))"
   ]
  },
  {
   "cell_type": "code",
   "execution_count": 306,
   "metadata": {},
   "outputs": [
    {
     "data": {
      "text/plain": [
       "['ABBY DUPREE']"
      ]
     },
     "execution_count": 306,
     "metadata": {},
     "output_type": "execute_result"
    }
   ],
   "source": [
    "findall(' dupr')"
   ]
  },
  {
   "cell_type": "code",
   "execution_count": 307,
   "metadata": {},
   "outputs": [],
   "source": [
    "dones.extend(findall(' dupr'))"
   ]
  },
  {
   "cell_type": "code",
   "execution_count": 308,
   "metadata": {},
   "outputs": [
    {
     "data": {
      "text/plain": [
       "['ANDREW SCHWARTZ',\n",
       " 'ARTHUR SCHWARTZ',\n",
       " 'JAMES SCHWARTZ',\n",
       " 'JENNIFER SCHWARTZ',\n",
       " 'KARL SCHWARTZ',\n",
       " 'LAURA SCHWARTZ',\n",
       " 'MELODIE SCHWARTZ',\n",
       " 'STEVEN SCHWARTZ']"
      ]
     },
     "execution_count": 308,
     "metadata": {},
     "output_type": "execute_result"
    }
   ],
   "source": [
    "findall(' schwartz')"
   ]
  },
  {
   "cell_type": "code",
   "execution_count": 309,
   "metadata": {},
   "outputs": [
    {
     "data": {
      "text/html": [
       "<div>\n",
       "<style scoped>\n",
       "    .dataframe tbody tr th:only-of-type {\n",
       "        vertical-align: middle;\n",
       "    }\n",
       "\n",
       "    .dataframe tbody tr th {\n",
       "        vertical-align: top;\n",
       "    }\n",
       "\n",
       "    .dataframe thead th {\n",
       "        text-align: right;\n",
       "    }\n",
       "</style>\n",
       "<table border=\"1\" class=\"dataframe\">\n",
       "  <thead>\n",
       "    <tr style=\"text-align: right;\">\n",
       "      <th></th>\n",
       "      <th>cmte_id</th>\n",
       "      <th>cmte_nm</th>\n",
       "      <th>tres_nm</th>\n",
       "      <th>cmte_st1</th>\n",
       "      <th>cmte_st2</th>\n",
       "      <th>cmte_city</th>\n",
       "      <th>cmte_st</th>\n",
       "      <th>cmte_zip</th>\n",
       "      <th>cmte_dsgn</th>\n",
       "      <th>cmte_tp</th>\n",
       "      <th>cmte_pty_affiliation</th>\n",
       "      <th>cmte_filing_freq</th>\n",
       "      <th>org_tp</th>\n",
       "      <th>connected_org_nm</th>\n",
       "      <th>cand_id</th>\n",
       "      <th>orig_tres_nm</th>\n",
       "      <th>orig_cmte_st1</th>\n",
       "      <th>address</th>\n",
       "    </tr>\n",
       "  </thead>\n",
       "  <tbody>\n",
       "    <tr>\n",
       "      <td>8348</td>\n",
       "      <td>C00580415</td>\n",
       "      <td>FASO FOR CONGRESS</td>\n",
       "      <td>LAURA SCHWARTZ</td>\n",
       "      <td>PO BOX 448</td>\n",
       "      <td>NaN</td>\n",
       "      <td>KINDERHOOK</td>\n",
       "      <td>NY</td>\n",
       "      <td>12106</td>\n",
       "      <td>P</td>\n",
       "      <td>H</td>\n",
       "      <td>REP</td>\n",
       "      <td>Q</td>\n",
       "      <td>NaN</td>\n",
       "      <td>FRESHMAN AGRICULTURAL REPUBLICAN MEMBERS TRUST...</td>\n",
       "      <td>H6NY19169</td>\n",
       "      <td>SCHWARTZ, LAURA A. MS.</td>\n",
       "      <td>PO BOX 448</td>\n",
       "      <td>PO BOX 448, KINDERHOOK, NY 12106</td>\n",
       "    </tr>\n",
       "    <tr>\n",
       "      <td>9348</td>\n",
       "      <td>C00602755</td>\n",
       "      <td>LANGE FOR CONGRESS</td>\n",
       "      <td>LAURA SCHWARTZ</td>\n",
       "      <td>PO BOX 481</td>\n",
       "      <td>NaN</td>\n",
       "      <td>SOUTH SALEM</td>\n",
       "      <td>NY</td>\n",
       "      <td>10590</td>\n",
       "      <td>P</td>\n",
       "      <td>H</td>\n",
       "      <td>REP</td>\n",
       "      <td>Q</td>\n",
       "      <td>NaN</td>\n",
       "      <td>NONE</td>\n",
       "      <td>NaN</td>\n",
       "      <td>SCHWARTZ, LAURA A.</td>\n",
       "      <td>PO BOX 481</td>\n",
       "      <td>PO BOX 481, SOUTH SALEM, NY 10590</td>\n",
       "    </tr>\n",
       "    <tr>\n",
       "      <td>10580</td>\n",
       "      <td>C00622100</td>\n",
       "      <td>FASO VICTORY COMMITTEE</td>\n",
       "      <td>LAURA SCHWARTZ</td>\n",
       "      <td>PO BOX 98</td>\n",
       "      <td>NaN</td>\n",
       "      <td>SOUTH SALEM</td>\n",
       "      <td>NY</td>\n",
       "      <td>10590</td>\n",
       "      <td>J</td>\n",
       "      <td>N</td>\n",
       "      <td>UNK</td>\n",
       "      <td>T</td>\n",
       "      <td>NaN</td>\n",
       "      <td>NaN</td>\n",
       "      <td>NaN</td>\n",
       "      <td>SCHWARTZ, LAURA</td>\n",
       "      <td>PO BOX 98</td>\n",
       "      <td>PO BOX 98, SOUTH SALEM, NY 10590</td>\n",
       "    </tr>\n",
       "    <tr>\n",
       "      <td>11309</td>\n",
       "      <td>C00630681</td>\n",
       "      <td>EMPIRE STATE PAC</td>\n",
       "      <td>LAURA SCHWARTZ</td>\n",
       "      <td>PO BOX 98</td>\n",
       "      <td>NaN</td>\n",
       "      <td>SOUTH SALEM</td>\n",
       "      <td>NY</td>\n",
       "      <td>10590</td>\n",
       "      <td>D</td>\n",
       "      <td>N</td>\n",
       "      <td>UNK</td>\n",
       "      <td>Q</td>\n",
       "      <td>NaN</td>\n",
       "      <td>NaN</td>\n",
       "      <td>NaN</td>\n",
       "      <td>SCHWARTZ, LAURA A.</td>\n",
       "      <td>PO BOX 98</td>\n",
       "      <td>PO BOX 98, SOUTH SALEM, NY 10590</td>\n",
       "    </tr>\n",
       "    <tr>\n",
       "      <td>11556</td>\n",
       "      <td>C00633263</td>\n",
       "      <td>JOHN FASO VICTORY COMMITTEE</td>\n",
       "      <td>LAURA SCHWARTZ</td>\n",
       "      <td>PO BOX 98</td>\n",
       "      <td>NaN</td>\n",
       "      <td>SOUTH SALEM</td>\n",
       "      <td>NY</td>\n",
       "      <td>10590</td>\n",
       "      <td>J</td>\n",
       "      <td>N</td>\n",
       "      <td>UNK</td>\n",
       "      <td>Q</td>\n",
       "      <td>NaN</td>\n",
       "      <td>NONE</td>\n",
       "      <td>NaN</td>\n",
       "      <td>SCHWARTZ, LAURA</td>\n",
       "      <td>PO BOX 98</td>\n",
       "      <td>PO BOX 98, SOUTH SALEM, NY 10590</td>\n",
       "    </tr>\n",
       "    <tr>\n",
       "      <td>14735</td>\n",
       "      <td>C00670885</td>\n",
       "      <td>NEW YORK MAJORITY VICTORY</td>\n",
       "      <td>LAURA SCHWARTZ</td>\n",
       "      <td>PO BOX 98</td>\n",
       "      <td>NaN</td>\n",
       "      <td>SOUTH SALEM</td>\n",
       "      <td>NY</td>\n",
       "      <td>10590</td>\n",
       "      <td>J</td>\n",
       "      <td>H</td>\n",
       "      <td>UNK</td>\n",
       "      <td>T</td>\n",
       "      <td>NaN</td>\n",
       "      <td>NaN</td>\n",
       "      <td>NaN</td>\n",
       "      <td>SCHWARTZ, LAURA</td>\n",
       "      <td>PO BOX 98</td>\n",
       "      <td>PO BOX 98, SOUTH SALEM, NY 10590</td>\n",
       "    </tr>\n",
       "    <tr>\n",
       "      <td>15542</td>\n",
       "      <td>C00679225</td>\n",
       "      <td>KEEP THE HOUSE</td>\n",
       "      <td>LAURA SCHWARTZ</td>\n",
       "      <td>PO BOX 98</td>\n",
       "      <td>NaN</td>\n",
       "      <td>SOUTH SALEM</td>\n",
       "      <td>NY</td>\n",
       "      <td>10590</td>\n",
       "      <td>J</td>\n",
       "      <td>N</td>\n",
       "      <td>UNK</td>\n",
       "      <td>T</td>\n",
       "      <td>NaN</td>\n",
       "      <td>NaN</td>\n",
       "      <td>NaN</td>\n",
       "      <td>LAURA SCHWARTZ</td>\n",
       "      <td>P.O. BOX 98</td>\n",
       "      <td>PO BOX 98, SOUTH SALEM, NY 10590</td>\n",
       "    </tr>\n",
       "  </tbody>\n",
       "</table>\n",
       "</div>"
      ],
      "text/plain": [
       "         cmte_id                      cmte_nm         tres_nm    cmte_st1  \\\n",
       "8348   C00580415            FASO FOR CONGRESS  LAURA SCHWARTZ  PO BOX 448   \n",
       "9348   C00602755           LANGE FOR CONGRESS  LAURA SCHWARTZ  PO BOX 481   \n",
       "10580  C00622100       FASO VICTORY COMMITTEE  LAURA SCHWARTZ   PO BOX 98   \n",
       "11309  C00630681             EMPIRE STATE PAC  LAURA SCHWARTZ   PO BOX 98   \n",
       "11556  C00633263  JOHN FASO VICTORY COMMITTEE  LAURA SCHWARTZ   PO BOX 98   \n",
       "14735  C00670885    NEW YORK MAJORITY VICTORY  LAURA SCHWARTZ   PO BOX 98   \n",
       "15542  C00679225               KEEP THE HOUSE  LAURA SCHWARTZ   PO BOX 98   \n",
       "\n",
       "      cmte_st2    cmte_city cmte_st cmte_zip cmte_dsgn cmte_tp  \\\n",
       "8348       NaN   KINDERHOOK      NY    12106         P       H   \n",
       "9348       NaN  SOUTH SALEM      NY    10590         P       H   \n",
       "10580      NaN  SOUTH SALEM      NY    10590         J       N   \n",
       "11309      NaN  SOUTH SALEM      NY    10590         D       N   \n",
       "11556      NaN  SOUTH SALEM      NY    10590         J       N   \n",
       "14735      NaN  SOUTH SALEM      NY    10590         J       H   \n",
       "15542      NaN  SOUTH SALEM      NY    10590         J       N   \n",
       "\n",
       "      cmte_pty_affiliation cmte_filing_freq org_tp  \\\n",
       "8348                   REP                Q    NaN   \n",
       "9348                   REP                Q    NaN   \n",
       "10580                  UNK                T    NaN   \n",
       "11309                  UNK                Q    NaN   \n",
       "11556                  UNK                Q    NaN   \n",
       "14735                  UNK                T    NaN   \n",
       "15542                  UNK                T    NaN   \n",
       "\n",
       "                                        connected_org_nm    cand_id  \\\n",
       "8348   FRESHMAN AGRICULTURAL REPUBLICAN MEMBERS TRUST...  H6NY19169   \n",
       "9348                                                NONE        NaN   \n",
       "10580                                                NaN        NaN   \n",
       "11309                                                NaN        NaN   \n",
       "11556                                               NONE        NaN   \n",
       "14735                                                NaN        NaN   \n",
       "15542                                                NaN        NaN   \n",
       "\n",
       "                 orig_tres_nm orig_cmte_st1                            address  \n",
       "8348   SCHWARTZ, LAURA A. MS.    PO BOX 448   PO BOX 448, KINDERHOOK, NY 12106  \n",
       "9348       SCHWARTZ, LAURA A.    PO BOX 481  PO BOX 481, SOUTH SALEM, NY 10590  \n",
       "10580         SCHWARTZ, LAURA     PO BOX 98   PO BOX 98, SOUTH SALEM, NY 10590  \n",
       "11309      SCHWARTZ, LAURA A.     PO BOX 98   PO BOX 98, SOUTH SALEM, NY 10590  \n",
       "11556         SCHWARTZ, LAURA     PO BOX 98   PO BOX 98, SOUTH SALEM, NY 10590  \n",
       "14735         SCHWARTZ, LAURA     PO BOX 98   PO BOX 98, SOUTH SALEM, NY 10590  \n",
       "15542          LAURA SCHWARTZ   P.O. BOX 98   PO BOX 98, SOUTH SALEM, NY 10590  "
      ]
     },
     "execution_count": 309,
     "metadata": {},
     "output_type": "execute_result"
    }
   ],
   "source": [
    "cm[cm['tres_nm'] == 'LAURA SCHWARTZ']"
   ]
  },
  {
   "cell_type": "code",
   "execution_count": 310,
   "metadata": {},
   "outputs": [
    {
     "data": {
      "text/html": [
       "<div>\n",
       "<style scoped>\n",
       "    .dataframe tbody tr th:only-of-type {\n",
       "        vertical-align: middle;\n",
       "    }\n",
       "\n",
       "    .dataframe tbody tr th {\n",
       "        vertical-align: top;\n",
       "    }\n",
       "\n",
       "    .dataframe thead th {\n",
       "        text-align: right;\n",
       "    }\n",
       "</style>\n",
       "<table border=\"1\" class=\"dataframe\">\n",
       "  <thead>\n",
       "    <tr style=\"text-align: right;\">\n",
       "      <th></th>\n",
       "      <th>cmte_id</th>\n",
       "      <th>cmte_nm</th>\n",
       "      <th>tres_nm</th>\n",
       "      <th>cmte_st1</th>\n",
       "      <th>cmte_st2</th>\n",
       "      <th>cmte_city</th>\n",
       "      <th>cmte_st</th>\n",
       "      <th>cmte_zip</th>\n",
       "      <th>cmte_dsgn</th>\n",
       "      <th>cmte_tp</th>\n",
       "      <th>cmte_pty_affiliation</th>\n",
       "      <th>cmte_filing_freq</th>\n",
       "      <th>org_tp</th>\n",
       "      <th>connected_org_nm</th>\n",
       "      <th>cand_id</th>\n",
       "      <th>orig_tres_nm</th>\n",
       "      <th>orig_cmte_st1</th>\n",
       "      <th>address</th>\n",
       "    </tr>\n",
       "  </thead>\n",
       "  <tbody>\n",
       "  </tbody>\n",
       "</table>\n",
       "</div>"
      ],
      "text/plain": [
       "Empty DataFrame\n",
       "Columns: [cmte_id, cmte_nm, tres_nm, cmte_st1, cmte_st2, cmte_city, cmte_st, cmte_zip, cmte_dsgn, cmte_tp, cmte_pty_affiliation, cmte_filing_freq, org_tp, connected_org_nm, cand_id, orig_tres_nm, orig_cmte_st1, address]\n",
       "Index: []"
      ]
     },
     "execution_count": 310,
     "metadata": {},
     "output_type": "execute_result"
    }
   ],
   "source": [
    "cm[cm['tres_nm'] == 'LAURA ANN SCHWARTZ']"
   ]
  },
  {
   "cell_type": "code",
   "execution_count": 311,
   "metadata": {},
   "outputs": [],
   "source": [
    "dones.extend(findall(' schwartz'))"
   ]
  },
  {
   "cell_type": "code",
   "execution_count": 312,
   "metadata": {},
   "outputs": [
    {
     "data": {
      "text/plain": [
       "['AMIT KAUL',\n",
       " 'EMILY KAUFMAN',\n",
       " 'JASON KAUNE',\n",
       " 'KARL KAUFMANN',\n",
       " 'PHIL KAUFMAN',\n",
       " 'ROBERT KAUFMANN',\n",
       " 'SCOTT KAUFMAN',\n",
       " 'STEPHEN KAUFMAN']"
      ]
     },
     "execution_count": 312,
     "metadata": {},
     "output_type": "execute_result"
    }
   ],
   "source": [
    "findall(' kau')"
   ]
  },
  {
   "cell_type": "code",
   "execution_count": 313,
   "metadata": {},
   "outputs": [
    {
     "data": {
      "text/html": [
       "<div>\n",
       "<style scoped>\n",
       "    .dataframe tbody tr th:only-of-type {\n",
       "        vertical-align: middle;\n",
       "    }\n",
       "\n",
       "    .dataframe tbody tr th {\n",
       "        vertical-align: top;\n",
       "    }\n",
       "\n",
       "    .dataframe thead th {\n",
       "        text-align: right;\n",
       "    }\n",
       "</style>\n",
       "<table border=\"1\" class=\"dataframe\">\n",
       "  <thead>\n",
       "    <tr style=\"text-align: right;\">\n",
       "      <th></th>\n",
       "      <th>cmte_id</th>\n",
       "      <th>cmte_nm</th>\n",
       "      <th>tres_nm</th>\n",
       "      <th>cmte_st1</th>\n",
       "      <th>cmte_st2</th>\n",
       "      <th>cmte_city</th>\n",
       "      <th>cmte_st</th>\n",
       "      <th>cmte_zip</th>\n",
       "      <th>cmte_dsgn</th>\n",
       "      <th>cmte_tp</th>\n",
       "      <th>cmte_pty_affiliation</th>\n",
       "      <th>cmte_filing_freq</th>\n",
       "      <th>org_tp</th>\n",
       "      <th>connected_org_nm</th>\n",
       "      <th>cand_id</th>\n",
       "      <th>orig_tres_nm</th>\n",
       "      <th>orig_cmte_st1</th>\n",
       "      <th>address</th>\n",
       "    </tr>\n",
       "  </thead>\n",
       "  <tbody>\n",
       "  </tbody>\n",
       "</table>\n",
       "</div>"
      ],
      "text/plain": [
       "Empty DataFrame\n",
       "Columns: [cmte_id, cmte_nm, tres_nm, cmte_st1, cmte_st2, cmte_city, cmte_st, cmte_zip, cmte_dsgn, cmte_tp, cmte_pty_affiliation, cmte_filing_freq, org_tp, connected_org_nm, cand_id, orig_tres_nm, orig_cmte_st1, address]\n",
       "Index: []"
      ]
     },
     "execution_count": 313,
     "metadata": {},
     "output_type": "execute_result"
    }
   ],
   "source": [
    "cm[cm['tres_nm'] == 'RON KAUFMAN']"
   ]
  },
  {
   "cell_type": "code",
   "execution_count": 314,
   "metadata": {},
   "outputs": [
    {
     "data": {
      "text/html": [
       "<div>\n",
       "<style scoped>\n",
       "    .dataframe tbody tr th:only-of-type {\n",
       "        vertical-align: middle;\n",
       "    }\n",
       "\n",
       "    .dataframe tbody tr th {\n",
       "        vertical-align: top;\n",
       "    }\n",
       "\n",
       "    .dataframe thead th {\n",
       "        text-align: right;\n",
       "    }\n",
       "</style>\n",
       "<table border=\"1\" class=\"dataframe\">\n",
       "  <thead>\n",
       "    <tr style=\"text-align: right;\">\n",
       "      <th></th>\n",
       "      <th>cmte_id</th>\n",
       "      <th>cmte_nm</th>\n",
       "      <th>tres_nm</th>\n",
       "      <th>cmte_st1</th>\n",
       "      <th>cmte_st2</th>\n",
       "      <th>cmte_city</th>\n",
       "      <th>cmte_st</th>\n",
       "      <th>cmte_zip</th>\n",
       "      <th>cmte_dsgn</th>\n",
       "      <th>cmte_tp</th>\n",
       "      <th>cmte_pty_affiliation</th>\n",
       "      <th>cmte_filing_freq</th>\n",
       "      <th>org_tp</th>\n",
       "      <th>connected_org_nm</th>\n",
       "      <th>cand_id</th>\n",
       "      <th>orig_tres_nm</th>\n",
       "      <th>orig_cmte_st1</th>\n",
       "      <th>address</th>\n",
       "    </tr>\n",
       "  </thead>\n",
       "  <tbody>\n",
       "  </tbody>\n",
       "</table>\n",
       "</div>"
      ],
      "text/plain": [
       "Empty DataFrame\n",
       "Columns: [cmte_id, cmte_nm, tres_nm, cmte_st1, cmte_st2, cmte_city, cmte_st, cmte_zip, cmte_dsgn, cmte_tp, cmte_pty_affiliation, cmte_filing_freq, org_tp, connected_org_nm, cand_id, orig_tres_nm, orig_cmte_st1, address]\n",
       "Index: []"
      ]
     },
     "execution_count": 314,
     "metadata": {},
     "output_type": "execute_result"
    }
   ],
   "source": [
    "cm[cm['tres_nm'] == 'RONALD KAUFMAN']"
   ]
  },
  {
   "cell_type": "code",
   "execution_count": 315,
   "metadata": {},
   "outputs": [
    {
     "name": "stdout",
     "output_type": "stream",
     "text": [
      "orig len: 0\n",
      "new len: 0\n"
     ]
    }
   ],
   "source": [
    "new = 'RONALD KAUFMAN'\n",
    "dones.append(new)\n",
    "\n",
    "these = findall(['ron', ' kaufman'])\n",
    "\n",
    "getall(these, new)"
   ]
  },
  {
   "cell_type": "code",
   "execution_count": 316,
   "metadata": {},
   "outputs": [],
   "source": [
    "dones.extend(findall(' kau'))"
   ]
  },
  {
   "cell_type": "code",
   "execution_count": 317,
   "metadata": {},
   "outputs": [
    {
     "data": {
      "text/plain": [
       "['JOSE RIESCO']"
      ]
     },
     "execution_count": 317,
     "metadata": {},
     "output_type": "execute_result"
    }
   ],
   "source": [
    "findall(' riesc')"
   ]
  },
  {
   "cell_type": "code",
   "execution_count": 318,
   "metadata": {},
   "outputs": [],
   "source": [
    "dones.extend(findall(' riesc'))"
   ]
  },
  {
   "cell_type": "code",
   "execution_count": 319,
   "metadata": {},
   "outputs": [
    {
     "data": {
      "text/plain": [
       "['ARTHUR COPLESTON',\n",
       " 'BILLY COPELAND',\n",
       " 'ELIZABETH COPPINGER',\n",
       " 'MICHAEL COPELEY',\n",
       " 'RITA COPELAND',\n",
       " 'VONA COPP']"
      ]
     },
     "execution_count": 319,
     "metadata": {},
     "output_type": "execute_result"
    }
   ],
   "source": [
    "findall(' cop')"
   ]
  },
  {
   "cell_type": "code",
   "execution_count": 320,
   "metadata": {},
   "outputs": [],
   "source": [
    "dones.extend(findall(' cop'))"
   ]
  },
  {
   "cell_type": "code",
   "execution_count": 321,
   "metadata": {},
   "outputs": [
    {
     "data": {
      "text/plain": [
       "['AJ BALUKOFF',\n",
       " 'BRIANA BALESKIE',\n",
       " 'JAMES BALL',\n",
       " 'JOHN BALLARD',\n",
       " 'JONATHAN BALDWIN',\n",
       " 'JONATHAN BALL',\n",
       " 'JOSHUA BALLARD',\n",
       " 'KAREN BALLARD',\n",
       " 'KEITH BALKCOM',\n",
       " 'KRYSTAL BALL',\n",
       " 'LAURA BALDI',\n",
       " 'MATANGI BALA',\n",
       " 'MATTHEW BALAZIK',\n",
       " 'MICHAEL BALL',\n",
       " 'PAUL BALASSA',\n",
       " 'ROBERT BALGENORTH',\n",
       " 'SUSAN BALKENBUSH',\n",
       " 'TRACEY BALL']"
      ]
     },
     "execution_count": 321,
     "metadata": {},
     "output_type": "execute_result"
    }
   ],
   "source": [
    "findall(' bal')"
   ]
  },
  {
   "cell_type": "code",
   "execution_count": 322,
   "metadata": {},
   "outputs": [],
   "source": [
    "dones.extend(findall(' bal'))"
   ]
  },
  {
   "cell_type": "code",
   "execution_count": 323,
   "metadata": {},
   "outputs": [
    {
     "data": {
      "text/plain": [
       "['VINCENT TALLMAN']"
      ]
     },
     "execution_count": 323,
     "metadata": {},
     "output_type": "execute_result"
    }
   ],
   "source": [
    "findall(' tall')"
   ]
  },
  {
   "cell_type": "code",
   "execution_count": 324,
   "metadata": {},
   "outputs": [],
   "source": [
    "dones.extend(findall(' tall'))"
   ]
  },
  {
   "cell_type": "code",
   "execution_count": 325,
   "metadata": {},
   "outputs": [
    {
     "data": {
      "text/plain": [
       "['JOEL JUKUS']"
      ]
     },
     "execution_count": 325,
     "metadata": {},
     "output_type": "execute_result"
    }
   ],
   "source": [
    "findall(' juk')"
   ]
  },
  {
   "cell_type": "code",
   "execution_count": 326,
   "metadata": {},
   "outputs": [],
   "source": [
    "dones.extend(findall(' juk'))"
   ]
  },
  {
   "cell_type": "code",
   "execution_count": 327,
   "metadata": {},
   "outputs": [
    {
     "data": {
      "text/plain": [
       "[]"
      ]
     },
     "execution_count": 327,
     "metadata": {},
     "output_type": "execute_result"
    }
   ],
   "source": [
    "findall(' milln')"
   ]
  },
  {
   "cell_type": "code",
   "execution_count": 328,
   "metadata": {},
   "outputs": [],
   "source": [
    "dones.extend(findall(' milln'))"
   ]
  },
  {
   "cell_type": "code",
   "execution_count": 329,
   "metadata": {},
   "outputs": [
    {
     "data": {
      "text/plain": [
       "['KIMBERLY GOODEN', 'MICHAEL GOODE', 'WARREN GOODE']"
      ]
     },
     "execution_count": 329,
     "metadata": {},
     "output_type": "execute_result"
    }
   ],
   "source": [
    "findall(' goode')"
   ]
  },
  {
   "cell_type": "code",
   "execution_count": 330,
   "metadata": {},
   "outputs": [],
   "source": [
    "dones.extend(findall(' goode'))"
   ]
  },
  {
   "cell_type": "code",
   "execution_count": 331,
   "metadata": {},
   "outputs": [
    {
     "data": {
      "text/plain": [
       "['ADEN KUN',\n",
       " 'CRAIG KUNKLE',\n",
       " 'DAVE KUNES',\n",
       " 'HOORIA KUNDI',\n",
       " 'JOHN KUNITZ',\n",
       " 'JOHN WILLIAM KUNITZ',\n",
       " 'LORNA KUNEY',\n",
       " 'TEKIN KUNT']"
      ]
     },
     "execution_count": 331,
     "metadata": {},
     "output_type": "execute_result"
    }
   ],
   "source": [
    "findall(' kun')"
   ]
  },
  {
   "cell_type": "code",
   "execution_count": 332,
   "metadata": {},
   "outputs": [
    {
     "data": {
      "text/html": [
       "<div>\n",
       "<style scoped>\n",
       "    .dataframe tbody tr th:only-of-type {\n",
       "        vertical-align: middle;\n",
       "    }\n",
       "\n",
       "    .dataframe tbody tr th {\n",
       "        vertical-align: top;\n",
       "    }\n",
       "\n",
       "    .dataframe thead th {\n",
       "        text-align: right;\n",
       "    }\n",
       "</style>\n",
       "<table border=\"1\" class=\"dataframe\">\n",
       "  <thead>\n",
       "    <tr style=\"text-align: right;\">\n",
       "      <th></th>\n",
       "      <th>cmte_id</th>\n",
       "      <th>cmte_nm</th>\n",
       "      <th>tres_nm</th>\n",
       "      <th>cmte_st1</th>\n",
       "      <th>cmte_st2</th>\n",
       "      <th>cmte_city</th>\n",
       "      <th>cmte_st</th>\n",
       "      <th>cmte_zip</th>\n",
       "      <th>cmte_dsgn</th>\n",
       "      <th>cmte_tp</th>\n",
       "      <th>cmte_pty_affiliation</th>\n",
       "      <th>cmte_filing_freq</th>\n",
       "      <th>org_tp</th>\n",
       "      <th>connected_org_nm</th>\n",
       "      <th>cand_id</th>\n",
       "      <th>orig_tres_nm</th>\n",
       "      <th>orig_cmte_st1</th>\n",
       "      <th>address</th>\n",
       "    </tr>\n",
       "  </thead>\n",
       "  <tbody>\n",
       "    <tr>\n",
       "      <td>10896</td>\n",
       "      <td>C00626093</td>\n",
       "      <td>THIRD CONGRESSIONAL DISTRICT REPUBLICAN PARTY ...</td>\n",
       "      <td>JOHN KUNITZ</td>\n",
       "      <td>PO 390722</td>\n",
       "      <td>NaN</td>\n",
       "      <td>EDINA</td>\n",
       "      <td>MN</td>\n",
       "      <td>55439</td>\n",
       "      <td>U</td>\n",
       "      <td>X</td>\n",
       "      <td>REP</td>\n",
       "      <td>Q</td>\n",
       "      <td>NaN</td>\n",
       "      <td>NONE</td>\n",
       "      <td>NaN</td>\n",
       "      <td>KUNITZ, JOHN W MR.</td>\n",
       "      <td>PO 390722</td>\n",
       "      <td>PO 390722, EDINA, MN 55439</td>\n",
       "    </tr>\n",
       "    <tr>\n",
       "      <td>15499</td>\n",
       "      <td>C00678789</td>\n",
       "      <td>CONSERVATIVES FOR AMERICA</td>\n",
       "      <td>JOHN WILLIAM KUNITZ</td>\n",
       "      <td>6441 BRETTON WAY</td>\n",
       "      <td>NaN</td>\n",
       "      <td>CHANHASSEN</td>\n",
       "      <td>MN</td>\n",
       "      <td>55317</td>\n",
       "      <td>U</td>\n",
       "      <td>X</td>\n",
       "      <td>REP</td>\n",
       "      <td>Q</td>\n",
       "      <td>NaN</td>\n",
       "      <td>NONE</td>\n",
       "      <td>NaN</td>\n",
       "      <td>KUNITZ, JOHN WILLIAM MR</td>\n",
       "      <td>6441 BRETTON WAY</td>\n",
       "      <td>6441 BRETTON WAY, CHANHASSEN, MN 55317</td>\n",
       "    </tr>\n",
       "  </tbody>\n",
       "</table>\n",
       "</div>"
      ],
      "text/plain": [
       "         cmte_id                                            cmte_nm  \\\n",
       "10896  C00626093  THIRD CONGRESSIONAL DISTRICT REPUBLICAN PARTY ...   \n",
       "15499  C00678789                          CONSERVATIVES FOR AMERICA   \n",
       "\n",
       "                   tres_nm          cmte_st1 cmte_st2   cmte_city cmte_st  \\\n",
       "10896          JOHN KUNITZ         PO 390722      NaN       EDINA      MN   \n",
       "15499  JOHN WILLIAM KUNITZ  6441 BRETTON WAY      NaN  CHANHASSEN      MN   \n",
       "\n",
       "      cmte_zip cmte_dsgn cmte_tp cmte_pty_affiliation cmte_filing_freq org_tp  \\\n",
       "10896    55439         U       X                  REP                Q    NaN   \n",
       "15499    55317         U       X                  REP                Q    NaN   \n",
       "\n",
       "      connected_org_nm cand_id             orig_tres_nm     orig_cmte_st1  \\\n",
       "10896             NONE     NaN       KUNITZ, JOHN W MR.         PO 390722   \n",
       "15499             NONE     NaN  KUNITZ, JOHN WILLIAM MR  6441 BRETTON WAY   \n",
       "\n",
       "                                      address  \n",
       "10896              PO 390722, EDINA, MN 55439  \n",
       "15499  6441 BRETTON WAY, CHANHASSEN, MN 55317  "
      ]
     },
     "execution_count": 332,
     "metadata": {},
     "output_type": "execute_result"
    }
   ],
   "source": [
    "cm[cm['tres_nm'].apply(lambda x: ('KUNITZ' in x) & ('JOHN' in x))]"
   ]
  },
  {
   "cell_type": "code",
   "execution_count": 333,
   "metadata": {},
   "outputs": [
    {
     "name": "stdout",
     "output_type": "stream",
     "text": [
      "orig len: 1\n",
      "new len: 2\n"
     ]
    }
   ],
   "source": [
    "new = 'JOHN WILLIAM KUNITZ'\n",
    "dones.append(new)\n",
    "\n",
    "these = findall(['kunitz', 'john'])\n",
    "\n",
    "getall(these, new)"
   ]
  },
  {
   "cell_type": "code",
   "execution_count": 334,
   "metadata": {},
   "outputs": [],
   "source": [
    "dones.extend(findall(' kun'))"
   ]
  },
  {
   "cell_type": "code",
   "execution_count": 335,
   "metadata": {},
   "outputs": [
    {
     "data": {
      "text/plain": [
       "[]"
      ]
     },
     "execution_count": 335,
     "metadata": {},
     "output_type": "execute_result"
    }
   ],
   "source": [
    "findall('lefko')"
   ]
  },
  {
   "cell_type": "code",
   "execution_count": 336,
   "metadata": {},
   "outputs": [
    {
     "data": {
      "text/html": [
       "<div>\n",
       "<style scoped>\n",
       "    .dataframe tbody tr th:only-of-type {\n",
       "        vertical-align: middle;\n",
       "    }\n",
       "\n",
       "    .dataframe tbody tr th {\n",
       "        vertical-align: top;\n",
       "    }\n",
       "\n",
       "    .dataframe thead th {\n",
       "        text-align: right;\n",
       "    }\n",
       "</style>\n",
       "<table border=\"1\" class=\"dataframe\">\n",
       "  <thead>\n",
       "    <tr style=\"text-align: right;\">\n",
       "      <th></th>\n",
       "      <th>cmte_id</th>\n",
       "      <th>cmte_nm</th>\n",
       "      <th>tres_nm</th>\n",
       "      <th>cmte_st1</th>\n",
       "      <th>cmte_st2</th>\n",
       "      <th>cmte_city</th>\n",
       "      <th>cmte_st</th>\n",
       "      <th>cmte_zip</th>\n",
       "      <th>cmte_dsgn</th>\n",
       "      <th>cmte_tp</th>\n",
       "      <th>cmte_pty_affiliation</th>\n",
       "      <th>cmte_filing_freq</th>\n",
       "      <th>org_tp</th>\n",
       "      <th>connected_org_nm</th>\n",
       "      <th>cand_id</th>\n",
       "      <th>orig_tres_nm</th>\n",
       "      <th>orig_cmte_st1</th>\n",
       "      <th>address</th>\n",
       "    </tr>\n",
       "  </thead>\n",
       "  <tbody>\n",
       "  </tbody>\n",
       "</table>\n",
       "</div>"
      ],
      "text/plain": [
       "Empty DataFrame\n",
       "Columns: [cmte_id, cmte_nm, tres_nm, cmte_st1, cmte_st2, cmte_city, cmte_st, cmte_zip, cmte_dsgn, cmte_tp, cmte_pty_affiliation, cmte_filing_freq, org_tp, connected_org_nm, cand_id, orig_tres_nm, orig_cmte_st1, address]\n",
       "Index: []"
      ]
     },
     "execution_count": 336,
     "metadata": {},
     "output_type": "execute_result"
    }
   ],
   "source": [
    "cm[cm['tres_nm'].apply(lambda x: 'LEFKOWITZ' in x)]"
   ]
  },
  {
   "cell_type": "code",
   "execution_count": 337,
   "metadata": {},
   "outputs": [
    {
     "name": "stdout",
     "output_type": "stream",
     "text": [
      "orig len: 0\n",
      "new len: 0\n"
     ]
    }
   ],
   "source": [
    "new = 'JON LEFKOWITZ'\n",
    "dones.append(new)\n",
    "\n",
    "these = findall('lefkowitz')\n",
    "\n",
    "getall(these, new)"
   ]
  },
  {
   "cell_type": "code",
   "execution_count": 338,
   "metadata": {},
   "outputs": [
    {
     "data": {
      "text/plain": [
       "['TIM SIFERT', 'TIMOTHY SIFERT']"
      ]
     },
     "execution_count": 338,
     "metadata": {},
     "output_type": "execute_result"
    }
   ],
   "source": [
    "findall(' sif')"
   ]
  },
  {
   "cell_type": "code",
   "execution_count": 339,
   "metadata": {},
   "outputs": [],
   "source": [
    "dones.extend(findall(' sif'))"
   ]
  },
  {
   "cell_type": "code",
   "execution_count": 340,
   "metadata": {},
   "outputs": [
    {
     "data": {
      "text/plain": [
       "['CRAIG VANDERVEER',\n",
       " 'DAWNE VANDIVER',\n",
       " 'DICK VANDER WOUDE',\n",
       " 'DIRK VANDONGEN',\n",
       " 'ELIZABETH ANN VANDERWAY',\n",
       " 'MIKE VANDERWEY',\n",
       " 'NIGEL VANDERFORD',\n",
       " 'RAY VANDRIESSCHE',\n",
       " 'SHAWN VANDIVER',\n",
       " 'WILLIAM VANDERBROOK']"
      ]
     },
     "execution_count": 340,
     "metadata": {},
     "output_type": "execute_result"
    }
   ],
   "source": [
    "findall(' vand')"
   ]
  },
  {
   "cell_type": "code",
   "execution_count": 341,
   "metadata": {},
   "outputs": [],
   "source": [
    "dones.extend(findall(' vand'))"
   ]
  },
  {
   "cell_type": "code",
   "execution_count": 342,
   "metadata": {},
   "outputs": [
    {
     "data": {
      "text/plain": [
       "[]"
      ]
     },
     "execution_count": 342,
     "metadata": {},
     "output_type": "execute_result"
    }
   ],
   "source": [
    "findall(' changkyu')"
   ]
  },
  {
   "cell_type": "code",
   "execution_count": 343,
   "metadata": {},
   "outputs": [
    {
     "name": "stdout",
     "output_type": "stream",
     "text": [
      "orig len: 0\n",
      "new len: 0\n"
     ]
    }
   ],
   "source": [
    "new = 'JASON CHANGKYU KIM'\n",
    "dones.append(new)\n",
    "\n",
    "these = findall(' changkyu')\n",
    "\n",
    "getall(these, new)"
   ]
  },
  {
   "cell_type": "code",
   "execution_count": 344,
   "metadata": {},
   "outputs": [
    {
     "data": {
      "text/plain": [
       "['ASHLEY NEWMAN']"
      ]
     },
     "execution_count": 344,
     "metadata": {},
     "output_type": "execute_result"
    }
   ],
   "source": [
    "findall(['ash', 'newman'])"
   ]
  },
  {
   "cell_type": "code",
   "execution_count": 345,
   "metadata": {},
   "outputs": [],
   "source": [
    "dones.extend(findall(['ash', 'newman']))"
   ]
  },
  {
   "cell_type": "code",
   "execution_count": 346,
   "metadata": {},
   "outputs": [
    {
     "data": {
      "text/plain": [
       "['BRETT ROGERS',\n",
       " 'CHERI ROGERS',\n",
       " 'CINNAMON ROGERS',\n",
       " 'DENNIS ROGERS',\n",
       " 'EMORY ROGERS',\n",
       " 'GEORGE ROGERS',\n",
       " 'GLEN ROGERS',\n",
       " 'GRACE ROGERS',\n",
       " 'KEVIN ROGERS',\n",
       " 'MARCIA MATHISON ROGERS',\n",
       " 'MICHAEL ROGERS',\n",
       " 'STEVEN ROGERS']"
      ]
     },
     "execution_count": 346,
     "metadata": {},
     "output_type": "execute_result"
    }
   ],
   "source": [
    "findall(' rogers')"
   ]
  },
  {
   "cell_type": "code",
   "execution_count": 347,
   "metadata": {},
   "outputs": [],
   "source": [
    "dones.extend(findall(' rogers'))"
   ]
  },
  {
   "cell_type": "code",
   "execution_count": 348,
   "metadata": {},
   "outputs": [
    {
     "data": {
      "text/plain": [
       "['CASTLEN KENNEDY',\n",
       " 'GORDON KENNEDY',\n",
       " 'JEANNE KENNEDY',\n",
       " 'JOHN FITZGERALD KENNEDY LANKSTER',\n",
       " 'KATHERINE KENNEDY',\n",
       " 'KATIE KENNEDY',\n",
       " 'KEVIN KENNEDY',\n",
       " 'MAURA KENNEDY',\n",
       " 'MICHAEL KENNEDY',\n",
       " 'RICHARD KENNEDY',\n",
       " 'ROBERT KENNEDY',\n",
       " 'SEAN KENNEDY',\n",
       " 'WARD KENNEDY']"
      ]
     },
     "execution_count": 348,
     "metadata": {},
     "output_type": "execute_result"
    }
   ],
   "source": [
    "findall(' kennedy')"
   ]
  },
  {
   "cell_type": "code",
   "execution_count": 349,
   "metadata": {},
   "outputs": [
    {
     "data": {
      "text/html": [
       "<div>\n",
       "<style scoped>\n",
       "    .dataframe tbody tr th:only-of-type {\n",
       "        vertical-align: middle;\n",
       "    }\n",
       "\n",
       "    .dataframe tbody tr th {\n",
       "        vertical-align: top;\n",
       "    }\n",
       "\n",
       "    .dataframe thead th {\n",
       "        text-align: right;\n",
       "    }\n",
       "</style>\n",
       "<table border=\"1\" class=\"dataframe\">\n",
       "  <thead>\n",
       "    <tr style=\"text-align: right;\">\n",
       "      <th></th>\n",
       "      <th>cmte_id</th>\n",
       "      <th>cmte_nm</th>\n",
       "      <th>tres_nm</th>\n",
       "      <th>cmte_st1</th>\n",
       "      <th>cmte_st2</th>\n",
       "      <th>cmte_city</th>\n",
       "      <th>cmte_st</th>\n",
       "      <th>cmte_zip</th>\n",
       "      <th>cmte_dsgn</th>\n",
       "      <th>cmte_tp</th>\n",
       "      <th>cmte_pty_affiliation</th>\n",
       "      <th>cmte_filing_freq</th>\n",
       "      <th>org_tp</th>\n",
       "      <th>connected_org_nm</th>\n",
       "      <th>cand_id</th>\n",
       "      <th>orig_tres_nm</th>\n",
       "      <th>orig_cmte_st1</th>\n",
       "      <th>address</th>\n",
       "    </tr>\n",
       "  </thead>\n",
       "  <tbody>\n",
       "  </tbody>\n",
       "</table>\n",
       "</div>"
      ],
      "text/plain": [
       "Empty DataFrame\n",
       "Columns: [cmte_id, cmte_nm, tres_nm, cmte_st1, cmte_st2, cmte_city, cmte_st, cmte_zip, cmte_dsgn, cmte_tp, cmte_pty_affiliation, cmte_filing_freq, org_tp, connected_org_nm, cand_id, orig_tres_nm, orig_cmte_st1, address]\n",
       "Index: []"
      ]
     },
     "execution_count": 349,
     "metadata": {},
     "output_type": "execute_result"
    }
   ],
   "source": [
    "cm[cm['tres_nm'].apply(lambda x: x in ['CHRIS KENNEDY', 'CHRISTOPHER KENNEDY'])]"
   ]
  },
  {
   "cell_type": "code",
   "execution_count": 350,
   "metadata": {},
   "outputs": [
    {
     "data": {
      "text/html": [
       "<div>\n",
       "<style scoped>\n",
       "    .dataframe tbody tr th:only-of-type {\n",
       "        vertical-align: middle;\n",
       "    }\n",
       "\n",
       "    .dataframe tbody tr th {\n",
       "        vertical-align: top;\n",
       "    }\n",
       "\n",
       "    .dataframe thead th {\n",
       "        text-align: right;\n",
       "    }\n",
       "</style>\n",
       "<table border=\"1\" class=\"dataframe\">\n",
       "  <thead>\n",
       "    <tr style=\"text-align: right;\">\n",
       "      <th></th>\n",
       "      <th>cmte_id</th>\n",
       "      <th>cmte_nm</th>\n",
       "      <th>tres_nm</th>\n",
       "      <th>cmte_st1</th>\n",
       "      <th>cmte_st2</th>\n",
       "      <th>cmte_city</th>\n",
       "      <th>cmte_st</th>\n",
       "      <th>cmte_zip</th>\n",
       "      <th>cmte_dsgn</th>\n",
       "      <th>cmte_tp</th>\n",
       "      <th>cmte_pty_affiliation</th>\n",
       "      <th>cmte_filing_freq</th>\n",
       "      <th>org_tp</th>\n",
       "      <th>connected_org_nm</th>\n",
       "      <th>cand_id</th>\n",
       "      <th>orig_tres_nm</th>\n",
       "      <th>orig_cmte_st1</th>\n",
       "      <th>address</th>\n",
       "    </tr>\n",
       "  </thead>\n",
       "  <tbody>\n",
       "    <tr>\n",
       "      <td>6627</td>\n",
       "      <td>C00546325</td>\n",
       "      <td>TAKING AN INDEPENDENT PERSPECTIVE TOGETHER FOR...</td>\n",
       "      <td>KATHERINE KENNEDY</td>\n",
       "      <td>2318 CURTIS ST</td>\n",
       "      <td>NaN</td>\n",
       "      <td>DENVER</td>\n",
       "      <td>CO</td>\n",
       "      <td>80205</td>\n",
       "      <td>D</td>\n",
       "      <td>N</td>\n",
       "      <td>UNK</td>\n",
       "      <td>Q</td>\n",
       "      <td>NaN</td>\n",
       "      <td>NaN</td>\n",
       "      <td>NaN</td>\n",
       "      <td>KATHERINE KENNEDY</td>\n",
       "      <td>2318 CURTIS STREET</td>\n",
       "      <td>2318 CURTIS ST, DENVER, CO 80205</td>\n",
       "    </tr>\n",
       "    <tr>\n",
       "      <td>7169</td>\n",
       "      <td>C00558759</td>\n",
       "      <td>PDC ENERGY INC PAC</td>\n",
       "      <td>KATHERINE KENNEDY</td>\n",
       "      <td>1775 SHERMAN ST</td>\n",
       "      <td>NaN</td>\n",
       "      <td>DENVER</td>\n",
       "      <td>CO</td>\n",
       "      <td>80203</td>\n",
       "      <td>U</td>\n",
       "      <td>Q</td>\n",
       "      <td>UNK</td>\n",
       "      <td>Q</td>\n",
       "      <td>C</td>\n",
       "      <td>NaN</td>\n",
       "      <td>NaN</td>\n",
       "      <td>KENNEDY, KATHERINE</td>\n",
       "      <td>1775 SHERMAN STREET SUITE 3000</td>\n",
       "      <td>1775 SHERMAN ST, DENVER, CO 80203</td>\n",
       "    </tr>\n",
       "    <tr>\n",
       "      <td>7399</td>\n",
       "      <td>C00564435</td>\n",
       "      <td>PRINCIPLED CONSERVATIVES OF COLORADO</td>\n",
       "      <td>KATIE KENNEDY</td>\n",
       "      <td>600 17TH ST</td>\n",
       "      <td>NaN</td>\n",
       "      <td>DENVER</td>\n",
       "      <td>CO</td>\n",
       "      <td>80202</td>\n",
       "      <td>U</td>\n",
       "      <td>O</td>\n",
       "      <td>UNK</td>\n",
       "      <td>Q</td>\n",
       "      <td>NaN</td>\n",
       "      <td>NaN</td>\n",
       "      <td>NaN</td>\n",
       "      <td>KATIE KENNEDY</td>\n",
       "      <td>600 17TH STREET SUITE 2800 SOUTH</td>\n",
       "      <td>600 17TH ST, DENVER, CO 80202</td>\n",
       "    </tr>\n",
       "    <tr>\n",
       "      <td>8382</td>\n",
       "      <td>C00580894</td>\n",
       "      <td>VAIL RESORTS EMPLOYEE POLITICAL ACTION COMMITTEE</td>\n",
       "      <td>KATIE KENNEDY</td>\n",
       "      <td>390 INTERLOCKEN CRESCENT</td>\n",
       "      <td>NaN</td>\n",
       "      <td>BROOMFIELD</td>\n",
       "      <td>CO</td>\n",
       "      <td>80021</td>\n",
       "      <td>U</td>\n",
       "      <td>Q</td>\n",
       "      <td>UNK</td>\n",
       "      <td>Q</td>\n",
       "      <td>C</td>\n",
       "      <td>NaN</td>\n",
       "      <td>NaN</td>\n",
       "      <td>KENNEDY, KATIE</td>\n",
       "      <td>390 INTERLOCKEN CRESCENT</td>\n",
       "      <td>390 INTERLOCKEN CRESCENT, BROOMFIELD, CO 80021</td>\n",
       "    </tr>\n",
       "    <tr>\n",
       "      <td>14698</td>\n",
       "      <td>C00670505</td>\n",
       "      <td>COMMITTEE FOR BARRINGTON</td>\n",
       "      <td>KATIE KENNEDY</td>\n",
       "      <td>745 S MILLER ST</td>\n",
       "      <td>NaN</td>\n",
       "      <td>LAKEWOOD</td>\n",
       "      <td>CO</td>\n",
       "      <td>80226</td>\n",
       "      <td>P</td>\n",
       "      <td>H</td>\n",
       "      <td>REP</td>\n",
       "      <td>Q</td>\n",
       "      <td>NaN</td>\n",
       "      <td>NONE</td>\n",
       "      <td>H8CO07094</td>\n",
       "      <td>KENNEDY, KATIE</td>\n",
       "      <td>745 S. MILLER STREET</td>\n",
       "      <td>745 S MILLER ST, LAKEWOOD, CO 80226</td>\n",
       "    </tr>\n",
       "    <tr>\n",
       "      <td>15648</td>\n",
       "      <td>C00680306</td>\n",
       "      <td>BARRIS FOR CONGRESS</td>\n",
       "      <td>KATIE KENNEDY</td>\n",
       "      <td>24853 CHRIS DR</td>\n",
       "      <td>NaN</td>\n",
       "      <td>EVERGREEN</td>\n",
       "      <td>CO</td>\n",
       "      <td>80439</td>\n",
       "      <td>P</td>\n",
       "      <td>H</td>\n",
       "      <td>LIB</td>\n",
       "      <td>Q</td>\n",
       "      <td>NaN</td>\n",
       "      <td>NONE</td>\n",
       "      <td>H8CO02269</td>\n",
       "      <td>KENNEDY, KATIE</td>\n",
       "      <td>24853 CHRIS DRIVE</td>\n",
       "      <td>24853 CHRIS DR, EVERGREEN, CO 80439</td>\n",
       "    </tr>\n",
       "    <tr>\n",
       "      <td>15864</td>\n",
       "      <td>C00682559</td>\n",
       "      <td>PROTECTING OUR CONSTITUTION</td>\n",
       "      <td>KATIE KENNEDY</td>\n",
       "      <td>5910 S UNIVERSITY BLVD C18 NO 254</td>\n",
       "      <td>NaN</td>\n",
       "      <td>GREENWOOD VILLAGE</td>\n",
       "      <td>CO</td>\n",
       "      <td>80121</td>\n",
       "      <td>U</td>\n",
       "      <td>O</td>\n",
       "      <td>UNK</td>\n",
       "      <td>Q</td>\n",
       "      <td>NaN</td>\n",
       "      <td>NONE</td>\n",
       "      <td>NaN</td>\n",
       "      <td>KENNEDY, KATIE</td>\n",
       "      <td>5910 S. UNIVERSITY BLVD C18 NO 254</td>\n",
       "      <td>5910 S UNIVERSITY BLVD C18 NO 254, GREENWOOD V...</td>\n",
       "    </tr>\n",
       "  </tbody>\n",
       "</table>\n",
       "</div>"
      ],
      "text/plain": [
       "         cmte_id                                            cmte_nm  \\\n",
       "6627   C00546325  TAKING AN INDEPENDENT PERSPECTIVE TOGETHER FOR...   \n",
       "7169   C00558759                                 PDC ENERGY INC PAC   \n",
       "7399   C00564435               PRINCIPLED CONSERVATIVES OF COLORADO   \n",
       "8382   C00580894   VAIL RESORTS EMPLOYEE POLITICAL ACTION COMMITTEE   \n",
       "14698  C00670505                           COMMITTEE FOR BARRINGTON   \n",
       "15648  C00680306                                BARRIS FOR CONGRESS   \n",
       "15864  C00682559                        PROTECTING OUR CONSTITUTION   \n",
       "\n",
       "                 tres_nm                           cmte_st1 cmte_st2  \\\n",
       "6627   KATHERINE KENNEDY                     2318 CURTIS ST      NaN   \n",
       "7169   KATHERINE KENNEDY                    1775 SHERMAN ST      NaN   \n",
       "7399       KATIE KENNEDY                        600 17TH ST      NaN   \n",
       "8382       KATIE KENNEDY           390 INTERLOCKEN CRESCENT      NaN   \n",
       "14698      KATIE KENNEDY                    745 S MILLER ST      NaN   \n",
       "15648      KATIE KENNEDY                     24853 CHRIS DR      NaN   \n",
       "15864      KATIE KENNEDY  5910 S UNIVERSITY BLVD C18 NO 254      NaN   \n",
       "\n",
       "               cmte_city cmte_st cmte_zip cmte_dsgn cmte_tp  \\\n",
       "6627              DENVER      CO    80205         D       N   \n",
       "7169              DENVER      CO    80203         U       Q   \n",
       "7399              DENVER      CO    80202         U       O   \n",
       "8382          BROOMFIELD      CO    80021         U       Q   \n",
       "14698           LAKEWOOD      CO    80226         P       H   \n",
       "15648          EVERGREEN      CO    80439         P       H   \n",
       "15864  GREENWOOD VILLAGE      CO    80121         U       O   \n",
       "\n",
       "      cmte_pty_affiliation cmte_filing_freq org_tp connected_org_nm  \\\n",
       "6627                   UNK                Q    NaN              NaN   \n",
       "7169                   UNK                Q      C              NaN   \n",
       "7399                   UNK                Q    NaN              NaN   \n",
       "8382                   UNK                Q      C              NaN   \n",
       "14698                  REP                Q    NaN             NONE   \n",
       "15648                  LIB                Q    NaN             NONE   \n",
       "15864                  UNK                Q    NaN             NONE   \n",
       "\n",
       "         cand_id        orig_tres_nm                       orig_cmte_st1  \\\n",
       "6627         NaN   KATHERINE KENNEDY                  2318 CURTIS STREET   \n",
       "7169         NaN  KENNEDY, KATHERINE      1775 SHERMAN STREET SUITE 3000   \n",
       "7399         NaN       KATIE KENNEDY    600 17TH STREET SUITE 2800 SOUTH   \n",
       "8382         NaN      KENNEDY, KATIE            390 INTERLOCKEN CRESCENT   \n",
       "14698  H8CO07094      KENNEDY, KATIE                745 S. MILLER STREET   \n",
       "15648  H8CO02269      KENNEDY, KATIE                   24853 CHRIS DRIVE   \n",
       "15864        NaN      KENNEDY, KATIE  5910 S. UNIVERSITY BLVD C18 NO 254   \n",
       "\n",
       "                                                 address  \n",
       "6627                    2318 CURTIS ST, DENVER, CO 80205  \n",
       "7169                   1775 SHERMAN ST, DENVER, CO 80203  \n",
       "7399                       600 17TH ST, DENVER, CO 80202  \n",
       "8382      390 INTERLOCKEN CRESCENT, BROOMFIELD, CO 80021  \n",
       "14698                745 S MILLER ST, LAKEWOOD, CO 80226  \n",
       "15648                24853 CHRIS DR, EVERGREEN, CO 80439  \n",
       "15864  5910 S UNIVERSITY BLVD C18 NO 254, GREENWOOD V...  "
      ]
     },
     "execution_count": 350,
     "metadata": {},
     "output_type": "execute_result"
    }
   ],
   "source": [
    "cm[cm['tres_nm'].apply(lambda x: x in ['KATIE KENNEDY', 'KATHERINE KENNEDY'])]"
   ]
  },
  {
   "cell_type": "code",
   "execution_count": 351,
   "metadata": {},
   "outputs": [
    {
     "name": "stdout",
     "output_type": "stream",
     "text": [
      "orig len: 2\n",
      "new len: 7\n"
     ]
    }
   ],
   "source": [
    "new = 'KATHERINE KENNEDY'\n",
    "dones.append(new)\n",
    "\n",
    "these = findall(['kat', 'kennedy'])\n",
    "\n",
    "getall(these, new)"
   ]
  },
  {
   "cell_type": "code",
   "execution_count": 352,
   "metadata": {},
   "outputs": [
    {
     "data": {
      "text/html": [
       "<div>\n",
       "<style scoped>\n",
       "    .dataframe tbody tr th:only-of-type {\n",
       "        vertical-align: middle;\n",
       "    }\n",
       "\n",
       "    .dataframe tbody tr th {\n",
       "        vertical-align: top;\n",
       "    }\n",
       "\n",
       "    .dataframe thead th {\n",
       "        text-align: right;\n",
       "    }\n",
       "</style>\n",
       "<table border=\"1\" class=\"dataframe\">\n",
       "  <thead>\n",
       "    <tr style=\"text-align: right;\">\n",
       "      <th></th>\n",
       "      <th>cmte_id</th>\n",
       "      <th>cmte_nm</th>\n",
       "      <th>tres_nm</th>\n",
       "      <th>cmte_st1</th>\n",
       "      <th>cmte_st2</th>\n",
       "      <th>cmte_city</th>\n",
       "      <th>cmte_st</th>\n",
       "      <th>cmte_zip</th>\n",
       "      <th>cmte_dsgn</th>\n",
       "      <th>cmte_tp</th>\n",
       "      <th>cmte_pty_affiliation</th>\n",
       "      <th>cmte_filing_freq</th>\n",
       "      <th>org_tp</th>\n",
       "      <th>connected_org_nm</th>\n",
       "      <th>cand_id</th>\n",
       "      <th>orig_tres_nm</th>\n",
       "      <th>orig_cmte_st1</th>\n",
       "      <th>address</th>\n",
       "    </tr>\n",
       "  </thead>\n",
       "  <tbody>\n",
       "    <tr>\n",
       "      <td>4648</td>\n",
       "      <td>C00477299</td>\n",
       "      <td>VMWARE, INC. POLITICAL ACTION COMMITTEE (VMWAR...</td>\n",
       "      <td>MICHAEL KENNEDY</td>\n",
       "      <td>3401 HILLVIEW AVE</td>\n",
       "      <td>NaN</td>\n",
       "      <td>PALO ALTO</td>\n",
       "      <td>CA</td>\n",
       "      <td>94304</td>\n",
       "      <td>U</td>\n",
       "      <td>Q</td>\n",
       "      <td>UNK</td>\n",
       "      <td>M</td>\n",
       "      <td>C</td>\n",
       "      <td>NaN</td>\n",
       "      <td>NaN</td>\n",
       "      <td>KENNEDY, MICHAEL</td>\n",
       "      <td>3401 HILLVIEW AVE</td>\n",
       "      <td>3401 HILLVIEW AVE, PALO ALTO, CA 94304</td>\n",
       "    </tr>\n",
       "  </tbody>\n",
       "</table>\n",
       "</div>"
      ],
      "text/plain": [
       "        cmte_id                                            cmte_nm  \\\n",
       "4648  C00477299  VMWARE, INC. POLITICAL ACTION COMMITTEE (VMWAR...   \n",
       "\n",
       "              tres_nm           cmte_st1 cmte_st2  cmte_city cmte_st cmte_zip  \\\n",
       "4648  MICHAEL KENNEDY  3401 HILLVIEW AVE      NaN  PALO ALTO      CA    94304   \n",
       "\n",
       "     cmte_dsgn cmte_tp cmte_pty_affiliation cmte_filing_freq org_tp  \\\n",
       "4648         U       Q                  UNK                M      C   \n",
       "\n",
       "     connected_org_nm cand_id      orig_tres_nm      orig_cmte_st1  \\\n",
       "4648              NaN     NaN  KENNEDY, MICHAEL  3401 HILLVIEW AVE   \n",
       "\n",
       "                                     address  \n",
       "4648  3401 HILLVIEW AVE, PALO ALTO, CA 94304  "
      ]
     },
     "execution_count": 352,
     "metadata": {},
     "output_type": "execute_result"
    }
   ],
   "source": [
    "cm[cm['tres_nm'].apply(lambda x: x in [\n",
    "    'MICHAEL KENNEDY', \n",
    "    'MICHAEL WARREN KENNEDY', \n",
    "])]"
   ]
  },
  {
   "cell_type": "code",
   "execution_count": 353,
   "metadata": {},
   "outputs": [],
   "source": [
    "dones.extend(findall(' kennedy'))"
   ]
  },
  {
   "cell_type": "code",
   "execution_count": 354,
   "metadata": {},
   "outputs": [
    {
     "data": {
      "text/plain": [
       "['MELISSA ALLEN']"
      ]
     },
     "execution_count": 354,
     "metadata": {},
     "output_type": "execute_result"
    }
   ],
   "source": [
    "findall(['mel', 'allen'])"
   ]
  },
  {
   "cell_type": "code",
   "execution_count": 355,
   "metadata": {},
   "outputs": [
    {
     "data": {
      "text/plain": [
       "['MARC HIMMELSTEIN']"
      ]
     },
     "execution_count": 355,
     "metadata": {},
     "output_type": "execute_result"
    }
   ],
   "source": [
    "findall(' himmel')"
   ]
  },
  {
   "cell_type": "code",
   "execution_count": 356,
   "metadata": {},
   "outputs": [],
   "source": [
    "dones.extend(findall(' himmel'))\n",
    "dones.extend(findall(['mel', 'allen']))"
   ]
  },
  {
   "cell_type": "code",
   "execution_count": 357,
   "metadata": {},
   "outputs": [
    {
     "data": {
      "text/plain": [
       "['ALAN REISCHE', 'ALEXANDER REISH', 'DANIEL REISTETER', 'MICHELE REISNER']"
      ]
     },
     "execution_count": 357,
     "metadata": {},
     "output_type": "execute_result"
    }
   ],
   "source": [
    "findall(' reis')"
   ]
  },
  {
   "cell_type": "code",
   "execution_count": 358,
   "metadata": {},
   "outputs": [],
   "source": [
    "dones.extend(findall(' reis'))"
   ]
  },
  {
   "cell_type": "code",
   "execution_count": 359,
   "metadata": {},
   "outputs": [
    {
     "data": {
      "text/plain": [
       "['JAMES DOZIER', 'JOSEPH DOZIER', 'JULIE DOZIER']"
      ]
     },
     "execution_count": 359,
     "metadata": {},
     "output_type": "execute_result"
    }
   ],
   "source": [
    "findall(' doz')"
   ]
  },
  {
   "cell_type": "code",
   "execution_count": 360,
   "metadata": {},
   "outputs": [],
   "source": [
    "dones.extend(findall(' doz'))"
   ]
  },
  {
   "cell_type": "code",
   "execution_count": 361,
   "metadata": {},
   "outputs": [
    {
     "data": {
      "text/plain": [
       "['ADAM ROZANSKY', 'COSTANTINO ROZZO', 'YURY ROZEL']"
      ]
     },
     "execution_count": 361,
     "metadata": {},
     "output_type": "execute_result"
    }
   ],
   "source": [
    "findall(' roz')"
   ]
  },
  {
   "cell_type": "code",
   "execution_count": 362,
   "metadata": {},
   "outputs": [],
   "source": [
    "dones.extend(findall(' roz'))"
   ]
  },
  {
   "cell_type": "code",
   "execution_count": 363,
   "metadata": {},
   "outputs": [
    {
     "data": {
      "text/plain": [
       "['ALYX PATTISON',\n",
       " 'ANDREW PATTERSON',\n",
       " 'CHRIS PATTON',\n",
       " 'JAMES PATTON',\n",
       " 'MELVIN PATTERSON',\n",
       " 'ROBERT PATTISON',\n",
       " 'STEPHEN PATTERSON',\n",
       " 'THERESA PATTARA',\n",
       " 'TOM PATTERSON']"
      ]
     },
     "execution_count": 363,
     "metadata": {},
     "output_type": "execute_result"
    }
   ],
   "source": [
    "findall(' patt')"
   ]
  },
  {
   "cell_type": "code",
   "execution_count": 364,
   "metadata": {},
   "outputs": [],
   "source": [
    "dones.extend(findall(' patt'))"
   ]
  },
  {
   "cell_type": "markdown",
   "metadata": {},
   "source": [
    "The work is never done..."
   ]
  },
  {
   "cell_type": "code",
   "execution_count": 365,
   "metadata": {},
   "outputs": [
    {
     "data": {
      "text/plain": [
       "SCOTT MACKENZIE       13\n",
       "BAILEY MORGAN         12\n",
       "DIANA SAQUELLA        12\n",
       "ALEXANDER HORNADAY    10\n",
       "KATE LIND             10\n",
       "SLOANE SKINNER        10\n",
       "EZEKIEL FREDERICK      9\n",
       "CHRISTINA SIROIS       9\n",
       "RUSSELL MILLER         8\n",
       "THOMAS MAXWELL         8\n",
       "TRAVIS KABRICK         8\n",
       "THOMAS HILTACHK        8\n",
       "GIANNI DONATES         7\n",
       "PAUL TARNAWSKI         7\n",
       "DANIEL SENA            7\n",
       "CARY PETERSON          7\n",
       "EUGENE SLOAN CRAIG     6\n",
       "RYAN PHILLIPS          6\n",
       "MICHAEL ADAMS          6\n",
       "MEGAN MIELNIK          6\n",
       "Name: tres_nm, dtype: int64"
      ]
     },
     "execution_count": 365,
     "metadata": {},
     "output_type": "execute_result"
    }
   ],
   "source": [
    "# checks which have already been deduped and does not display those\n",
    "mask = [False if cm.loc[i, 'tres_nm'] in dones else True for i in list(cm.index)]\n",
    "cm.loc[mask, 'tres_nm'].value_counts()[cm.loc[mask, 'tres_nm'].value_counts() > 1][:20]"
   ]
  },
  {
   "cell_type": "code",
   "execution_count": 366,
   "metadata": {
    "scrolled": false
   },
   "outputs": [
    {
     "name": "stdout",
     "output_type": "stream",
     "text": [
      "(cmte_nm missing)\n",
      "                     tres_nm                             address\n",
      "17010  (no treasurer listed)  PO BOX 33524, WASHINGTON, DC 20033\n",
      "8006   (no treasurer listed)                   nan, nan, nan nan\n",
      "10164  (no treasurer listed)                   nan, nan, nan nan\n",
      "10419  (no treasurer listed)                   nan, nan, nan nan\n",
      "10519  (no treasurer listed)                   nan, nan, nan nan\n",
      "12322  (no treasurer listed)                   nan, nan, nan nan\n",
      "13088  (no treasurer listed)                   nan, nan, nan nan\n",
      "13089  (no treasurer listed)                   nan, nan, nan nan\n",
      "13396  (no treasurer listed)                   nan, nan, nan nan\n",
      "\n",
      "\n",
      "CLEAN WATER ACTION PROJECT\n",
      "                tres_nm                                address\n",
      "17297    SOPHIE AN AOKI       11 S 12TH ST, RICHMOND, VA 23219\n",
      "17337  SANDRA LEDBETTER  1320 18TH ST NW, WASHINGTON, DC 20003\n",
      "17296  SANDRA LEDBETTER        6 SLOANE ST, S ORANGE, NJ 07079\n",
      "17294   SOPHIE ANN AOKI      P O BOX 3361, IOWA CITY, IA 52244\n",
      "\n",
      "\n",
      "COLLINS FOR CONGRESS\n",
      "                   tres_nm                                 address\n",
      "5967       CYNTHIA GIFFORD  176 SYCAMORE LANE, WAKEFIELD, RI 02879\n",
      "9766    CATHERINE ANN PAGE  3045 DARIEN PARK DR, ROSWELL, GA 30076\n",
      "5443  CARROLL BRIAN DANIEL      PO BOX 1295, GAINESVILLE, GA 30503\n",
      "5932       JOCELYN JAKUBUS          PO BOX 386, CLARENCE, NY 14031\n",
      "\n",
      "\n",
      "NATIONAL COMMITTEE TO PRESERVE SOCIAL SECURITY AND MEDICARE\n",
      "                     tres_nm                             address\n",
      "18524  (no treasurer listed)    10 G ST NE, WASHINGTON, DC 20002\n",
      "17642          CHRISTINE KIM    10 G ST NE, WASHINGTON, DC 20004\n",
      "17360    JEFFREY GALGINAITIS  2000 K ST NW, WASHINGTON, DC 20006\n",
      "\n",
      "\n",
      "AMERICAN CONSERVATIVE UNION\n",
      "                     tres_nm                               address\n",
      "17085  (no treasurer listed)    1331 H ST NW, WASHINGTON, DC 20005\n",
      "18503  (no treasurer listed)    1331 H ST NW, WASHINGTON, DC 20005\n",
      "719          MELODIE JOHNSON  201 N UNION ST, ALEXANDRIA, VA 22314\n",
      "\n",
      "\n",
      "NATIONAL EDUCATION ASSOCIATION\n",
      "                     tres_nm                                     address\n",
      "16976  (no treasurer listed)       1201 16TH ST NW, WASHINGTON, DC 20036\n",
      "17326         KENNETH MELLEY       1201 16TH ST NW, WASHINGTON, DC 20036\n",
      "17201            PAULA PURDY  1201 SIXTEENTH ST NW, WASHINGTON, DC 20036\n",
      "\n",
      "\n",
      "NEVADA STATE EDUCATION ASSOCIATION\n",
      "                     tres_nm                                 address\n",
      "17338      DICK VANDER WOUDE      151 EAST PARK ST, CARSON, NV 89701\n",
      "17676       SYLVIA CLAIBORNE  3511 E HARMON AVE, LAS VEGAS, NV 89121\n",
      "18426  (no treasurer listed)  3511 E HARMON AVE, LAS VEGAS, NV 89121\n",
      "\n",
      "\n",
      "LATINOS FOR REFORM\n",
      "                     tres_nm                              address\n",
      "5064         ROBERT DEPOSADA  205 N BERRY LANE, MADISON, VA 22727\n",
      "18415  (no treasurer listed)   205 N BERY LANE, MADISON, VA 22727\n",
      "17031  (no treasurer listed)   PO BOX 26366, ALEXANDRIA, VA 22313\n",
      "\n",
      "\n",
      "NATIONAL ASSOCIATION OF HOME BUILDERS\n",
      "                     tres_nm                                address\n",
      "17028  (no treasurer listed)  1201 15TH ST NW, WASHINGTON, DC 20005\n",
      "18804  (no treasurer listed)  1201 15TH ST NW, WASHINGTON, DC 20005\n",
      "17369           JERRY MALLOY  15TH & M STS NW, WASHINGTON, DC 20005\n",
      "\n",
      "\n",
      "AMERICANS FOR PROSPERITY\n",
      "                     tres_nm                                    address\n",
      "18508  (no treasurer listed)  1310 N COURTHOUSE RD, ARLINGTON, VA 22201\n",
      "16997  (no treasurer listed)      2111 WILSON BLVD, ARLINGTON, VA 22201\n",
      "17086  (no treasurer listed)      2111 WILSON BLVD, ARLINGTON, VA 22201\n",
      "\n",
      "\n",
      "SIERRA CLUB\n",
      "                     tres_nm                                          address\n",
      "17244            DAVID THACK               2101 WEBSTER ST, OAKLAND, CA 94612\n",
      "16988  (no treasurer listed)  85 SECOND ST 2ND FLOOR, SAN FRANCISCO, CA 94105\n",
      "18376  (no treasurer listed)  85 SECOND ST 2ND FLOOR, SAN FRANCISCO, CA 94105\n",
      "\n",
      "\n",
      "SUSAN B ANTHONY LIST INC\n",
      "                     tres_nm                                   address\n",
      "17557           ROBERT KANIA        1707 L ST NW, WASHINGTON, DC 20036\n",
      "18327  (no treasurer listed)  2800 SHIRLINGTON RD, ARLINGTON, VA 22206\n",
      "16984  (no treasurer listed)        A707 L ST NW, WASHINGTON, DC 20036\n",
      "\n",
      "\n",
      "US CHAMBER OF COMMERCE\n",
      "                     tres_nm                             address\n",
      "17002  (no treasurer listed)  1615 H ST NW, WASHINGTON, DC 20062\n",
      "17529        WILLIAMS MILLER  1615 H ST NW, WASHINGTON, DC 20062\n",
      "18494  (no treasurer listed)  1615 H ST NW, WASHINGTON, DC 20062\n",
      "\n",
      "\n"
     ]
    }
   ],
   "source": [
    "dupename = list(cm['cmte_nm'].value_counts()[cm['cmte_nm'].value_counts() > 2].index)\n",
    "\n",
    "for dupe in dupename:\n",
    "    lil_cm = cm.loc[cm['cmte_nm'] == dupe, [\n",
    "#         'cmte_id',\n",
    "        'tres_nm',\n",
    "        'address',\n",
    "    ]].sort_values(['address'])\n",
    "    print(dupe)\n",
    "    print(lil_cm)\n",
    "    print('\\n')"
   ]
  },
  {
   "cell_type": "code",
   "execution_count": 373,
   "metadata": {
    "scrolled": false
   },
   "outputs": [
    {
     "name": "stdout",
     "output_type": "stream",
     "text": [
      "228 S WASHINGTON ST, ALEXANDRIA, VA 22314\n",
      "\n",
      "\n",
      "\t LISA LISKER\n",
      "\n",
      "\n",
      "\t\t AMERICANS UNITED FOR FREEDOM\n",
      "\t\t ARIZONA GRASSROOTS ACTION PAC\n",
      "\t\t BACON VICTORY FUND\n",
      "\t\t BOLD ACTIVE CONSERVATIVES OF NEBRASKA PAC-BACON PAC\n",
      "\t\t BRIDGING THE GAP\n",
      "\t\t BUCKEYE JOINT FUNDRAISING COMMITTEE\n",
      "\t\t BUILDING OUR BASE - BOB PAC\n",
      "\t\t BUILDING RENEWAL IN AMERICA NOW PAC\n",
      "\t\t CITIZENS FOR PROSPERITY IN AMERICA TODAY PAC\n",
      "\t\t CONCERNED AMERICANS FOR FREEDOM & OPPORTUNITY PAC (CAFO PAC)\n",
      "\t\t CRAPO VICTORY COMMITTEE\n",
      "\t\t CREATING OPPORTUNITIES, MARKETS AND ENTHUSIASM IN RURAL KENTUCKY PAC\n",
      "\t\t FREEDOM AND SECURITY PAC\n",
      "\t\t FREEDOM PROJECT; THE\n",
      "\t\t FRIENDS OF WINNING WOMEN 2016\n",
      "\t\t FRIENDS OF WINNING WOMEN 2018\n",
      "\t\t GARDNER VICTORY COMMITTEE\n",
      "\t\t GOP MAJORITY VICTORY FUND\n",
      "\t\t GOP WINNING WOMEN\n",
      "\t\t GRAHAM MAJORITY FUND\n",
      "\t\t GROWING REPUBLICAN ACHIEVEMENTS AND PROMOTING EXCELLENCE-GRAPE JFC\n",
      "\t\t HONOR AND PRINCIPLES PAC\n",
      "\t\t HOUSE CONSERVATIVES FUND\n",
      "\t\t IOWA CONGRESSIONAL MAJORITY FUND; THE\n",
      "\t\t JAMES-RUBIO VICTORY COMMITTEE\n",
      "\t\t JOBS, ENERGY AND OUR FOUNDING FATHERS PAC-JEFF PAC\n",
      "\t\t KATKO FOR CONGRESS\n",
      "\t\t KATKO VICTORY FUND\n",
      "\t\t KELLY REED VICTORY COMMITTEE\n",
      "\t\t KELLY TIBERI JFC\n",
      "\t\t LEAD THE FIGHT PAC\n",
      "\t\t MARKETPLACE IDEAS AND CONSERVATIVE KNOWLEDGE PAC-MICK PAC\n",
      "\t\t MCCONNELL VICTORY COMMITTEE\n",
      "\t\t MCHENRY-CURBELO LEADERSHIP FUND\n",
      "\t\t MILLER SPANO WEBBER VICTORY\n",
      "\t\t MORAN RUBIO VICTORY COMMITTEE\n",
      "\t\t MORE CONSERVATIVES PAC (MCPAC)\n",
      "\t\t NEBRASKA SANDHILLS PAC\n",
      "\t\t NEW PIONEERS PAC\n",
      "\t\t NY GOP VICTORY COMMITTEE\n",
      "\t\t NY GOP VICTORY COMMITTEE 2018\n",
      "\t\t PATRIOT DAY I 2015\n",
      "\t\t PATRIOT DAY III 2015\n",
      "\t\t PAULSEN VICTORY FUND\n",
      "\t\t RECLAIM AMERICA PAC\n",
      "\t\t RED WHITE LOU FUND\n",
      "\t\t RENACCI SENATE VICTORY COMMITTEE\n",
      "\t\t REPUBLICANS IN CONGRESS EMPOWERING AMERICA\n",
      "\t\t RIVALRY JOINT COMMITTEE; THE\n",
      "\t\t ROAD TO FREEDOM POLITICAL ACTION COMMITTEE\n",
      "\t\t SALT CITY PAC\n",
      "\t\t SC 01 VICTORY 2020\n",
      "\t\t SERVICE HONOR COUNTRY ACTION FUND\n",
      "\t\t SUPPORT TO ENSURE VICTORY EVERYWHERE PAC-STEVE PAC\n",
      "\t\t TEAM DUNCAN\n",
      "\t\t TEAM MCHENRY\n",
      "\t\t TENACIOUS PAC\n",
      "\t\t TENNEY NY VICTORY FUND\n",
      "\t\t TENNEY VICTORY FUND\n",
      "\t\t TEXAS SENATE VICTORY COMMITTEE\n",
      "\t\t TILLIS-NRSC COMMITTEE\n",
      "\t\t TOGETHER FOR OUR MAJORITY POLITICAL ACTION COMMITTEE (TOMPAC)\n",
      "\t\t WALDEN VICTORY FUND\n",
      "\t\t WEST VIRGINIA VICTORY FUND\n",
      "\t\t WINNING WOMEN 2018\n",
      "\t\t WINNING WOMEN FOR THE US SENATE\n",
      "\t\t WINNING WOMEN GOP ATLANTA\n",
      "\t\t WINNING WOMEN GOP AZ\n",
      "\t\t WINNING WOMEN GOP CALIFORNIA\n",
      "\t\t WINNING WOMEN RESTORING AMERICA\n",
      "\t\t WINNING WOMEN VICTORY 2018\n",
      "\t\t WINNING WOMEN VICTORY COMMITTEE\n",
      "\t\t YOUNG OPTIMISTIC USEFUL REPUBLICANS JFC\n",
      "\t\t ZINKE DAINES VICTORY ACCOUNT\n",
      "\n",
      "\n",
      "\t KEITH DAVIS\n",
      "\n",
      "\n",
      "\t\t 2018 SENATORS CLASSIC COMMITTEE\n",
      "\t\t ACCOUNTABILITY PAC\n",
      "\t\t ARRINGTON VICTORY COMMITTEE\n",
      "\t\t AYOTTE MAJORITY COMMITTEE\n",
      "\t\t BUCSHON VICTORY COMMITTEE\n",
      "\t\t BULLDOG PAC\n",
      "\t\t CUT THE BULL PAC\n",
      "\t\t FISCHER VICTORY FUND\n",
      "\t\t FOUNDERS COMMITTEE; THE\n",
      "\t\t FRIENDS OF HANDEL\n",
      "\t\t FRIENDS OF LEAH VUKMIR\n",
      "\t\t GA-06 NOMINEE VICTORY FUND\n",
      "\t\t HAWLEY VICTORY COMMITTEE\n",
      "\t\t HELLER VICTORY COMMITTEE\n",
      "\t\t HOUSE MAJORITY TRUST\n",
      "\t\t IMS HEALTH PAC\n",
      "\t\t ISAKSON VICTORY COMMITTEE\n",
      "\t\t KEEP THE SENATE RED 2016\n",
      "\t\t KEEP THE SENATE RED 2018\n",
      "\t\t KENNEDY VICTORY COMMITTEE\n",
      "\t\t KEYSTONE-BUCKEYE FUND\n",
      "\t\t MICHIGAN SENATE NOMINEE FUND\n",
      "\t\t MILLER VICTORY FUND\n",
      "\t\t MONDAY MEETING PAC\n",
      "\t\t MORRISEY-MILLER VICTORY FUND\n",
      "\t\t NCF-DAKOTA 2017 COMMITTEE\n",
      "\t\t NCF-DAKOTA 2018 COMMITTEE\n",
      "\t\t NRSC TARGETED STATE VICTORY COMMITTEE\n",
      "\t\t NRSC/NRCC VICTORY COMMITTEE\n",
      "\t\t TENN POLITICAL ACTION COMMITTEE INC (TENN PAC)\n",
      "\t\t TRUST PAC TEAM REPUBLICANS FOR UTILIZING SENSIBLE TACTICS\n",
      "\t\t UPTON VICTORY COMMITTEE\n",
      "\t\t VUKMIR VICTORY FUND\n",
      "\t\t WICKER VICTORY COMMITTEE\n",
      "\t\t WIN IN 2018\n",
      "\t\t WIN MICHIGAN FUND\n",
      "\t\t WIN WISCONSIN FUND\n",
      "\n",
      "\n",
      "\t DAVID SATTERFIELD\n",
      "\n",
      "\n",
      "\t\t AMERICANS FOR LAW ENFORCEMENT PAC\n",
      "\t\t ARKANSAS HORIZON\n",
      "\t\t BIGGS FOR CONGRESS\n",
      "\t\t BUILDING INNOVATIVE GOOD GOVERNMENT SOLUTIONS PAC\n",
      "\t\t CAROLINA PATRIOT ALLIANCE\n",
      "\t\t COMMITTEE TO PROTECT AMERICA'S ALLIES\n",
      "\t\t CONNECTICUT FIRST\n",
      "\t\t CONSERVATIVE RESULTS\n",
      "\t\t CONSTITUTIONAL CONSERVATIVES\n",
      "\t\t EXCELLENCE IN GOVERNMENT POLITICAL ACTION COMMITTEE\n",
      "\t\t FREE AT LAST PAC\n",
      "\t\t FREEDOM FUND FOR AMERICA'S FUTURE INC\n",
      "\t\t GRAIN AND FEED PAC\n",
      "\t\t GRASSROOTS AWARENESS PAC\n",
      "\t\t HOOSIER HORIZON\n",
      "\t\t IN09 VICTORY FUND\n",
      "\t\t JOHN CATS PAC\n",
      "\t\t JOHN CATS POLITICAL ACTION COMMITTEE\n",
      "\t\t KEYSTONE PRIORITIES\n",
      "\t\t MACK PAC\n",
      "\t\t NATIONAL HORIZON\n",
      "\t\t NEW ENGLAND HOUSE VICTORY FUND\n",
      "\t\t PATRIOT PROSPERITY POLITICAL ACTION COMMITTEE\n",
      "\t\t POLICE ACTION FUND\n",
      "\t\t REDEMPTION PAC\n",
      "\t\t RJC VICTORY FUND\n",
      "\t\t SAFEGUARDING AMERICAN LIBERTIES MORALS & OPPORTUNITIES NOW (SALMON) PAC\n",
      "\t\t SAVE THE SENATE\n",
      "\t\t STARS AND STRIPES FOREVER PAC\n",
      "\t\t STATE 48 PAC\n",
      "\t\t STRONGER NY PAC\n",
      "\t\t SUN PAC USA\n",
      "\t\t SUNSHINE SOLUTIONS\n",
      "\t\t TERM LIMITS NOW POLITICAL ACTION COMMITTEE (TLN PAC)\n",
      "\t\t THE AMERICAN CENTURY PAC\n",
      "\t\t WINNING WOMEN\n",
      "\n",
      "\n",
      "\t TAYLOR MOOSE\n",
      "\n",
      "\n",
      "\t\t PRESCRIPTIONS FOR A STRONGER AMERICA\n",
      "\n",
      "\n",
      "\t GREG LAUGHLIN\n",
      "\n",
      "\n",
      "\t\t FRIENDS OF TEXAS PAC\n",
      "\n",
      "\n",
      "\t JOHN DWYER\n",
      "\n",
      "\n",
      "\t\t USAGAINSTALZHEIMER'S PAC\n",
      "\n",
      "\n",
      "\t FRANCIS KIRLEY\n",
      "\n",
      "\n",
      "\t\t NEXION HEALTH FUND FOR QUALITY LONG TERM CARE INC\n",
      "\n",
      "\n",
      "\t LARRY STEINBERG\n",
      "\n",
      "\n",
      "\t\t BLUEGRASS COMMITTEE\n",
      "\n",
      "\n",
      "\n",
      "\n",
      "918 PENNSYLVANIA AVE SE, WASHINGTON, DC 20003\n",
      "\n",
      "\n",
      "\t JUDITH ZAMORE\n",
      "\n",
      "\n",
      "\t\t 2018 SENATE IMPACT\n",
      "\t\t 2020 COMMITTEE\n",
      "\t\t AFTAB SWING LEFT FUND 2018\n",
      "\t\t AMERICA WORKS FEDERAL PAC\n",
      "\t\t AMERICA WORKS STATE & LOCAL PAC\n",
      "\t\t ARIZONA NEVADA VICTORY FUND\n",
      "\t\t AVIATORS FOR ACTION VICTORY FUND\n",
      "\t\t BATTLEGROUND VICTORY FUND 2018\n",
      "\t\t BAY STATE FOR A MAJORITY\n",
      "\t\t BETSY DIRKSEN LONDRIGAN VICTORY FUND\n",
      "\t\t BLUE IL 18\n",
      "\t\t BLUE SENATE 2018\n",
      "\t\t BROWN WARREN VICTORY FUND\n",
      "\t\t CASEY WILD 2018\n",
      "\t\t COMMON SENSE 2018\n",
      "\t\t CONNECTICUT VICTORY 2018\n",
      "\t\t DEMOCRATIC VICTORY 2018\n",
      "\t\t DEMOCRATS UNITED 2018\n",
      "\t\t DURBIN LONDRIGAN VICTORY FUND\n",
      "\t\t ELECT DEMOCRATIC WOMEN\n",
      "\t\t FLORIDA MISSOURI VICTORY FUND\n",
      "\t\t FOX VALLEY VICTORY FUND\n",
      "\t\t GREEN SENATE IMPACT 2018\n",
      "\t\t HAALAND TORRES SMALL VICTORY FUND\n",
      "\t\t HAWAII PAC\n",
      "\t\t HEIDI JOE VICTORY FUND\n",
      "\t\t HEIDI TINA VICTORY FUND\n",
      "\t\t HEIDI VICTORY FUND\n",
      "\t\t HEINRICH CARPER VICTORY FUND\n",
      "\t\t HEINRICH NELSON VICTORY FUND\n",
      "\t\t HEINRICH TESTER VICTORY FUND\n",
      "\t\t HOULAHAN VICTORY FUND\n",
      "\t\t HOUSE VICTORY PROJECT\n",
      "\t\t ILLINOIS DEMOCRATS 2018\n",
      "\t\t IN MO MT WV VICTORY FUND\n",
      "\t\t JERSEY HOUSE BLUES\n",
      "\t\t JUSTICE 2018\n",
      "\t\t KAREN BASS FOR CONGRESS\n",
      "\t\t MA FOR A MAJORITY\n",
      "\t\t MA HOUSE VICTORY FUND\n",
      "\t\t MASSACHUSETTS WISCONSIN VICTORY FUND 2018\n",
      "\t\t MCCASKILL SINEMA VICTORY FUND\n",
      "\t\t MICHIGAN OHIO VICTORY FUND\n",
      "\t\t MICHIGAN WISCONSIN VICTORY FUND\n",
      "\t\t MIDWEST WOMEN VICTORY FUND\n",
      "\t\t MINNESOTA MASSACHUSETTS VICTORY FUND\n",
      "\t\t MINNESOTA MONTANA VICTORY FUND\n",
      "\t\t MISSOURI OHIO VICTORY FUND\n",
      "\t\t MISSOURI-MONTANA FUND\n",
      "\t\t MN OH PA VICTORY FUND\n",
      "\t\t MONTANA CONNECTICUT VICTORY\n",
      "\t\t MONTANA NORTH DAKOTA VICTORY FUND\n",
      "\t\t MONTANA PENNSYLVANIA VICTORY FUND\n",
      "\t\t NEW HAMPSHIRE PENNSYLVANIA VICTORY FUND\n",
      "\t\t NORTH JERSEY BLUE MAJORITY\n",
      "\t\t OHIO GRASSROOTS VICTORY FUND\n",
      "\t\t OHIO PENNSYLVANIA VICTORY FUND\n",
      "\t\t OHIO RHODE ISLAND VICTORY FUND\n",
      "\t\t OHIO VIRGINIA VICTORY FUND 2018\n",
      "\t\t PROTECT OUR SENATORS FUND\n",
      "\t\t PURPOSE PAC\n",
      "\t\t RED RIVER VALLEY VICTORY FUND\n",
      "\t\t RHODE ISLAND MINNESOTA VICTORY FUND\n",
      "\t\t RHODE ISLAND PENNSYLVANIA VICTORY FUND\n",
      "\t\t SECURE THE HEARTLAND FUND\n",
      "\t\t SECURITY 44\n",
      "\t\t SENATE 2018 IMPACT\n",
      "\t\t SENATE IMPACT 2018\n",
      "\t\t SENATE IMPACT IN & WI\n",
      "\t\t SENATE IMPACT MT & AZ\n",
      "\t\t SENATE IMPACT WI & ND 2018\n",
      "\t\t SENATE IMPACT WV & MT\n",
      "\t\t SENATE IMPACT: FL & NV\n",
      "\t\t SENATE IMPACT: IN & MT\n",
      "\t\t SENATE IMPACT: IN & MT 2018\n",
      "\t\t SENATE IMPACT: MN & NV\n",
      "\t\t SENATE IMPACT: MO & IN\n",
      "\t\t SENATE IMPACT: MO & WI\n",
      "\t\t SENATE IMPACT: MO & WV\n",
      "\t\t SENATE IMPACT: ND & WV\n",
      "\t\t SENATE IMPACT: TN & NV\n",
      "\t\t SENATE IMPACT: WI & ND\n",
      "\t\t SENATE VICTORY 2018\n",
      "\t\t SINEMA KENNEDY VICTORY FUND\n",
      "\t\t STABENOW WARREN VICTORY FUND\n",
      "\t\t STEVENS VICTORY FUND\n",
      "\t\t SWING LEFT NY VICTORY FUND\n",
      "\t\t TAKE BACK THE HOUSE COMMITTEE\n",
      "\t\t TEAM NEW HAMPSHIRE\n",
      "\t\t TEXANS FOR A PROGRESSIVE SENATE\n",
      "\t\t THE COLORADO WAY\n",
      "\t\t UPPER MIDWEST WOMEN VICTORY FUND\n",
      "\t\t VOTEVETS BLUE MOMENTUM WOMEN'S FUND\n",
      "\t\t VOTEVETS VICTORY FUND\n",
      "\t\t WISCONSIN MINNESOTA VICTORY FUND\n",
      "\t\t WISCONSIN VIRGINIA VICTORY FUND\n",
      "\t\t WOMEN MAKING HISTORY 2016\n",
      "\n",
      "\n",
      "\t KRISTIN SOLANDER\n",
      "\n",
      "\n",
      "\t\t HEINRICH & HIRONO FOR SENATE VICTORY\n",
      "\t\t HIRONO-LIEU-MENG VICTORY FUND\n",
      "\t\t SERVE NY\n",
      "\n",
      "\n",
      "\t MEGAN MIELNIK\n",
      "\n",
      "\n",
      "\t\t 1106 FUND\n",
      "\t\t CHCL FUND\n",
      "\n",
      "\n",
      "\t ELLEN TAUSCHER\n",
      "\n",
      "\n",
      "\t\t FEINSTEIN FOR SENATE 2024\n",
      "\t\t FUND FOR THE MAJORITY PAC\n",
      "\n",
      "\n",
      "\t HALLE MAYES\n",
      "\n",
      "\n",
      "\t\t GENERATION GO\n",
      "\n",
      "\n",
      "\t MICHAEL SCHRUM\n",
      "\n",
      "\n",
      "\t\t AMERICAN POSSIBILITIES PAC\n",
      "\n",
      "\n",
      "\t KAREN MASCOTT\n",
      "\n",
      "\n",
      "\t\t EDUCATE AND INNOVATE PAC\n",
      "\n",
      "\n",
      "\t AMY ECKERT\n",
      "\n",
      "\n",
      "\t\t BWC - BECAUSE WOMEN CAN PAC\n",
      "\n",
      "\n",
      "\t MELISSA NISSEN\n",
      "\n",
      "\n",
      "\t\t MERKLEY VICTORY FUND 2020\n",
      "\n",
      "\n",
      "\t AARON WATSON\n",
      "\n",
      "\n",
      "\t\t BONNIE WATSON COLEMAN FOR CONGRESS\n",
      "\n",
      "\n",
      "\n",
      "\n",
      "824 S MILLEDGE AVE, ATHENS, GA 30605\n",
      "\n",
      "\n",
      "\t PAUL KILGORE\n",
      "\n",
      "\n",
      "\t\t 2018 TILLIS SENATE CANDIDATE FUND\n",
      "\t\t ABRAHAM LINCOLN PAC\n",
      "\t\t AMERICA IS WORTH IT\n",
      "\t\t AMERICA'S FUTURE\n",
      "\t\t AMERICANS FOR BBQ 2017\n",
      "\t\t AMERICANS FOR BBQ 2018\n",
      "\t\t AUSTIN SCOTT VICTORY FUND\n",
      "\t\t BCY COMMITTEE\n",
      "\t\t BELIEVE AGAIN PAC\n",
      "\t\t BILL PAC\n",
      "\t\t BOST VICTORY FUND\n",
      "\t\t BUDDY PAC\n",
      "\t\t BUILDING OPPORTUNITIES FOR A STRONGER TOMORROW B.O.S.T. PAC\n",
      "\t\t CHESAPEAKE PAC\n",
      "\t\t COASTAL COMMITTEE 2017\n",
      "\t\t COFFMAN VICTORY FUND 2018\n",
      "\t\t COLLINS LEADERSHIP FUND\n",
      "\t\t CONSERVATIVE LEADERSHIP NOW PAC\n",
      "\t\t CONSERVATIVE WARCHEST PAC\n",
      "\t\t CURBELO VICTORY COMMITTEE\n",
      "\t\t CURBELO/COSTELLO LEADERSHIP COMMITTEE\n",
      "\t\t DBM PAC\n",
      "\t\t DUFFY EMMER JOINT FUNDRAISING COMMITTEE\n",
      "\t\t EMMER VICTORY COMMITTEE\n",
      "\t\t EXCELSIOR PAC\n",
      "\t\t FEDERALIST FREEDOM FUND\n",
      "\t\t FIRST IN FREEDOM PAC\n",
      "\t\t FLORIDA GEORGIA FUND\n",
      "\t\t FREEDOM PAC\n",
      "\t\t FREEDOM'S DEFENSE FUND\n",
      "\t\t FREEDOMWORKS 2017 COMMITTEE\n",
      "\t\t GEORGIA LIFE ALLIANCE ACTION FUND\n",
      "\t\t GEORGIA PAC\n",
      "\t\t GO PAC GO\n",
      "\t\t GOLDEN ISLE COMMITTEE 2017\n",
      "\t\t GROWING OUR SENATE MAJORITY\n",
      "\t\t GT FORCE\n",
      "\t\t HICE FREEDOM FUND\n",
      "\t\t HUDSON FREEDOM FUND\n",
      "\t\t IDEAL IMMIGRATION PAC\n",
      "\t\t INHOFE VICTORY COMMITTEE\n",
      "\t\t INVEST IN THE FUTURE COMMITTEE\n",
      "\t\t JAM PAC\n",
      "\t\t JOHNSON LEADS COMMITTEE\n",
      "\t\t KARIN HOUSLEY VICTORY FUND\n",
      "\t\t KINZINGER-YOPAC VICTORY FUND\n",
      "\t\t LINCOLN PAC\n",
      "\t\t MAST VICTORY COMMITTEE 2018\n",
      "\t\t MCSALLY ARIZONA VICTORY FUND\n",
      "\t\t MCSALLY SCHWEIKERT VICTORY COMMITTEE\n",
      "\t\t MCSALLY SENATE VICTORY FUND\n",
      "\t\t MCSALLY VOTER INTEGRITY FUND\n",
      "\t\t MI VICTORY 2018\n",
      "\t\t MIAMI MIRACLE PAC\n",
      "\t\t MIKE MILLER VICTORY FUND\n",
      "\t\t MILLENNIAL GOP VICTORY COMMITTEE 2017\n",
      "\t\t MISSOURI FOR GOP SENATE MAJORITY\n",
      "\t\t NEW SOLUTIONS VICTORY COMMITTEE\n",
      "\t\t NORTH CAROLINA FREEDOM FUND 2017\n",
      "\t\t PEACH PAC\n",
      "\t\t PEAKS VICTORY COMMITTEE 2018\n",
      "\t\t PONDEROSA PAC\n",
      "\t\t PRESERVE THE SENATE MAJORITY 2018\n",
      "\t\t PROTECT THE SENATE MAJORITY COMMITTEE\n",
      "\t\t PSC REDPAC\n",
      "\t\t RE-JOYCE PAC\n",
      "\t\t REAGAN HERITAGE PAC\n",
      "\t\t REBUILDING AMERICAS TRUST PAC\n",
      "\t\t REED VICTORY COMMITTEE\n",
      "\t\t SECURING THE SENATE MAJORITY COMMITTEE\n",
      "\t\t SHUSTER VICTORY FUND\n",
      "\t\t SMITH VICTORY\n",
      "\t\t SMUCKER VICTORY COMMITTEE\n",
      "\t\t STAND PAC\n",
      "\t\t STAR PAC\n",
      "\t\t STRONG AMERICA FUND\n",
      "\t\t TEAM GRAVES\n",
      "\t\t TEAM LAHOOD\n",
      "\t\t TEAM ROBY VICTORY FUND\n",
      "\t\t TEAM TELLURIDE 2017\n",
      "\t\t TEAM TELLURIDE 2019\n",
      "\t\t TEAM WOODALL\n",
      "\t\t THE BHY COMMITTEE\n",
      "\t\t THE HAWKEYE FUND\n",
      "\t\t THE MCSALLY VICTORY FUND\n",
      "\t\t THUNDERBOLT PAC\n",
      "\t\t TOM ROONEY VICTORY COMMITTEE\n",
      "\t\t TURNER VICTORY FUND\n",
      "\t\t VETERANS VICTORY FUND\n",
      "\t\t WELLS PAC\n",
      "\t\t WHAT A COUNTRY! PAC\n",
      "\t\t WIN ARIZONA FUND\n",
      "\t\t WOMEN LEADERSHIP COMMITTEE\n",
      "\t\t YOHO VICTORY FUND\n",
      "\t\t YOPAC-WHAT A COUNTRY! VICTORY FUND\n",
      "\t\t ZELDIN-LOVE VICTORY FUND 2018\n",
      "\n",
      "\n",
      "\t MEGAN BROWN\n",
      "\n",
      "\n",
      "\t\t INDEPENDENT LEADERSHIP PAC\n",
      "\t\t VALOR FUND\n",
      "\n",
      "\n",
      "\t MICHAEL GOODE\n",
      "\n",
      "\n",
      "\t\t INDEPENDENT LEADERSHIP FUND\n",
      "\t\t VALOR PAC\n",
      "\n",
      "\n",
      "\t GREG MOSING\n",
      "\n",
      "\n",
      "\t\t 2020PAC\n",
      "\n",
      "\n",
      "\n",
      "\n",
      "PO BOX 26141, ALEXANDRIA, VA 22313\n",
      "\n",
      "\n",
      "\t CHRISTOPHER MARSTON\n",
      "\n",
      "\n",
      "\t\t #FIXIT ACTION FUND\n",
      "\t\t 115TH FRESHMEN VICTORY\n",
      "\t\t 8TH DISTRICT REPUBLICAN COMMITTEE (VA)\n",
      "\t\t AMERICA'S FIRST PAC\n",
      "\t\t AMERICAN CATALOG MAILERS ASSOCIATION PAC (ACMA PAC)\n",
      "\t\t AMERICAN ENCORE ACTION\n",
      "\t\t AMERICAN POTENTIAL FUND\n",
      "\t\t AMERICAN POTENTIAL PAC\n",
      "\t\t AMERICAN UPRISING PAC\n",
      "\t\t AMERICAN VALUES PAC INC.\n",
      "\t\t AMIE HOEBER VICTORY FUND\n",
      "\t\t ARIZONA MATTERS\n",
      "\t\t BADLANDS PAC\n",
      "\t\t BLOCKIMPEACHMENT.ORG\n",
      "\t\t BLUM VICTORY FUND\n",
      "\t\t BRAT VICTORY FUND\n",
      "\t\t BUCK LEADERSHIP FUND\n",
      "\t\t BUCKEYE BATTLE PAC\n",
      "\t\t BUDD HARRIS VICTORY FUND\n",
      "\t\t COALITION FOR A SAFE AMERICA\n",
      "\t\t CONSERVATIVE ALLIANCE PAC\n",
      "\t\t CONSERVATIVE, AUTHENTIC, RESPONSIVE LEADERSHIP FOR YOU AND FOR AMERICA\n",
      "\t\t CONSERVATIVES FOR EFFECTIVE GOVERNMENT\n",
      "\t\t COURAGE MAINE\n",
      "\t\t CRAMER VICTORY FUND\n",
      "\t\t CRAMER-HAWLEY VICTORY FUND\n",
      "\t\t DEFEND FREEDOM\n",
      "\t\t DEFENDING DEMOCRACY TOGETHER ACTION FUND\n",
      "\t\t FIGHTING FOR OHIO FUND\n",
      "\t\t FORPAC INC\n",
      "\t\t FREEDOMWORKS VICTORY 2018\n",
      "\t\t FRIENDS OF STEVE NEGRON\n",
      "\t\t GARRETT VICTORY FUND\n",
      "\t\t GFORCE\n",
      "\t\t GIANFORTE DAINES VICTORY COMMITTEE\n",
      "\t\t GIANFORTE VICTORY FUND\n",
      "\t\t GO SOUTH JERSEY\n",
      "\t\t GROWTH AND OPPORTUNITY FUND\n",
      "\t\t HUNTER VICTORY FUND\n",
      "\t\t INSPIRE PAC\n",
      "\t\t JSW STEEL USA PAC (JSW USA PAC)\n",
      "\t\t JUMP INTO ACTION FOR CONSERVATIVES TO KEEP OUR IDEAS ELEVATED PAC\n",
      "\t\t KANSAS LEADERSHIP PAC\n",
      "\t\t LONE STAR LIBERTY\n",
      "\t\t MANY INDIVIDUAL CONSERVATIVES HELPING ELECT LEADERS EVERYWHERE (MICHELEPAC)\n",
      "\t\t MARINO VICTORY FUND\n",
      "\t\t MARLIN PAC\n",
      "\t\t MENTAL HEALTH AWARENESS\n",
      "\t\t MICHIGAN VICTORY FUND 2018\n",
      "\t\t MILLENNIAL ADVOCACY COUNCIL PAC (MAC PAC)\n",
      "\t\t MINNESOTA VICTORY FUND\n",
      "\t\t MOUNTAIN CITY PAC\n",
      "\t\t MOVING AMERICA'S REPUBLICANS INTO NUMBER ONE PAC\n",
      "\t\t NEIGHBORHOOD ALLIANCE PAC\n",
      "\t\t NEW DAWN PAC\n",
      "\t\t NEXTGEN GOP\n",
      "\t\t ONE VOTE\n",
      "\t\t PA IN 18\n",
      "\t\t PEACE THROUGH STRENGTH PAC\n",
      "\t\t PRAYERIE PAC\n",
      "\t\t PRESERVE AMERICA'S FUTURE\n",
      "\t\t PROTECTUS\n",
      "\t\t RAISE THE WALL\n",
      "\t\t RED MAJORITY PAC\n",
      "\t\t RED WHITE AND BLUE FUND\n",
      "\t\t RIGGLEMAN VICTORY FUND\n",
      "\t\t RISING TIDE\n",
      "\t\t SOCIAL SECURITY REFORM NOW\n",
      "\t\t STEWART VICTORY FUND\n",
      "\t\t SUBURBAN VIRGINIA REPUBLICAN COALITION (SUV GOP)\n",
      "\t\t TEAM CRAMER ND\n",
      "\t\t TEAM MARSHALL\n",
      "\t\t TEAM MARTY\n",
      "\t\t THUNDER AND LIGHTNING FUND\n",
      "\t\t TROOIEN FOR US SENATE\n",
      "\t\t US NEWS NETWORK\n",
      "\t\t VFA PAC\n",
      "\t\t VRF\n",
      "\t\t WALORSKI VICTORY FUND\n",
      "\t\t WAR VETERANS FUND\n",
      "\t\t WE STAND FOR BETTER\n",
      "\t\t WHITE COAT WASTE PAC\n",
      "\t\t WIN IN MONTANA\n",
      "\t\t WITTMAN VICTORY COMMITTEE\n",
      "\t\t WORLD MUHAJIR CONGRESS PAC\n",
      "\n",
      "\n",
      "\t BRENDA HANKINS\n",
      "\n",
      "\n",
      "\t\t BALDERSON VICTORY COMMITTEE\n",
      "\t\t MARQUEZ PETERSON VICTORY FUND\n",
      "\t\t PERRY SMUCKER VICTORY FUND\n",
      "\t\t SACCONE VICTORY FUND\n",
      "\n",
      "\n",
      "\t (no treasurer listed)\n",
      "\n",
      "\n",
      "\t\t STAND UP REPUBLIC INC\n",
      "\t\t THE SWAMP ACCOUNTABILITY PROJECT\n",
      "\n",
      "\n",
      "\t RANDY HAYNIE\n",
      "\n",
      "\n",
      "\t\t LOUISIANA PROSPERITY FUND\n",
      "\n",
      "\n",
      "\t MARIO LOPEZ\n",
      "\n",
      "\n",
      "\t\t HISPANIC LEADERSHIP FUND ACTION\n",
      "\n",
      "\n",
      "\t RYAN CALL\n",
      "\n",
      "\n",
      "\t\t REBUILDING AMERICA NOW\n",
      "\n",
      "\n",
      "\n",
      "\n",
      "700 13TH ST NW, WASHINGTON, DC 20005\n",
      "\n",
      "\n",
      "\t (no treasurer listed)\n",
      "\n",
      "\n",
      "\t\t AMERICA WORKING TOGETHER\n",
      "\t\t BLACK ECONOMIC ALLIANCE FUND\n",
      "\t\t BLACK PROGRESSIVE ACTION COALITION\n",
      "\t\t DUTY AND HONOR\n",
      "\t\t MAJORITY FORWARD\n",
      "\n",
      "\n",
      "\t AMY PRITCHARD\n",
      "\n",
      "\n",
      "\t\t AMERIPAC: THE FUND FOR A GREATER AMERICA\n",
      "\t\t HOYER FOR CONGRESS\n",
      "\t\t HOYER'S MAJORITY FUND\n",
      "\n",
      "\n",
      "\t WHITNEY TYMAS\n",
      "\n",
      "\n",
      "\t\t JUSTICE & PUBLIC SAFETY PAC\n",
      "\t\t SAFETY & JUSTICE\n",
      "\n",
      "\n",
      "\t HELEN MILBY\n",
      "\n",
      "\n",
      "\t\t NEW DEMOCRAT COALITION PAC\n",
      "\t\t NEWDEM FUTURE PROGRESS FUND\n",
      "\n",
      "\n",
      "\t SCOTT KAUFMAN\n",
      "\n",
      "\n",
      "\t\t BETTER DAYS FUND\n",
      "\t\t JOBS, OPPORTUNITIES AND EDUCATION PAC (JOE-PAC)\n",
      "\n",
      "\n",
      "\t TIM KALTENBACH\n",
      "\n",
      "\n",
      "\t\t GREAT LAKES PAC\n",
      "\n",
      "\n",
      "\t REBECCA LAMBE\n",
      "\n",
      "\n",
      "\t\t SMP\n",
      "\n",
      "\n",
      "\t KIMBERLY JAMES MORGAN\n",
      "\n",
      "\n",
      "\t\t GLOVER PARK GROUP LLC PAC (GLOVER PARK GROUP PAC)\n",
      "\n",
      "\n",
      "\t LU-SHAWN THOMPSON\n",
      "\n",
      "\n",
      "\t\t IVYPAC\n",
      "\n",
      "\n",
      "\t ETHAN TODRAS-WHITEHILL\n",
      "\n",
      "\n",
      "\t\t SWING LEFT\n",
      "\n",
      "\n",
      "\t ROBERT CAROLINA\n",
      "\n",
      "\n",
      "\t\t GLOBAL DEMOCRATIC PAC\n",
      "\n",
      "\n",
      "\t JUAN MARCOS VILAR\n",
      "\n",
      "\n",
      "\t\t UNITED FOR PROGRESS PAC\n",
      "\n",
      "\n",
      "\t JEFFREY GREENE\n",
      "\n",
      "\n",
      "\t\t SYMANTEC CORPORATION POLITICAL ACTION COMMITTEE\n",
      "\n",
      "\n",
      "\t JOHN RASKIN\n",
      "\n",
      "\n",
      "\t\t FUTURE NOW FUND\n",
      "\n",
      "\n",
      "\t RITA COPELAND\n",
      "\n",
      "\n",
      "\t\t NEXTGEN CLIMATE ACTION COMMITTEE\n",
      "\n",
      "\n",
      "\t MARCUS MASON\n",
      "\n",
      "\n",
      "\t\t PROTECTING OUR VOTE PAC\n",
      "\n",
      "\n",
      "\t JENNIFER GONCALVES BIANCANIELLO\n",
      "\n",
      "\n",
      "\t\t FIGHT BACK PAC\n",
      "\n",
      "\n",
      "\t JEN GILBERT VOSS\n",
      "\n",
      "\n",
      "\t\t FORWARD FOR A BETTER FUTURE\n",
      "\n",
      "\n",
      "\t BOOTH GOODWIN\n",
      "\n",
      "\n",
      "\t\t DUTY AND COUNTRY\n",
      "\n",
      "\n",
      "\t DAVID OPPENLANDER\n",
      "\n",
      "\n",
      "\t\t NATIONAL RENAL ADMINISTRATORS ASSOCIATION POLITICAL ACTION COMMITTEE (NRAA-PAC)\n",
      "\n",
      "\n",
      "\t SHAUNNA THOMAS\n",
      "\n",
      "\n",
      "\t\t ULTRAVIOLET PAC\n",
      "\n",
      "\n",
      "\t GRACE DIAZ\n",
      "\n",
      "\n",
      "\t\t OCEANS PAC\n",
      "\n",
      "\n",
      "\t TOM DANIELS\n",
      "\n",
      "\n",
      "\t\t EL PASO'S FUTURE PAC\n",
      "\n",
      "\n",
      "\t LAUREN KASSAN\n",
      "\n",
      "\n",
      "\t\t REFRESH CLUB, INC./THE WING POLITICAL ACTION COMMITTEE (THE WING PAC)\n",
      "\n",
      "\n",
      "\t NED GRANEY\n",
      "\n",
      "\n",
      "\t\t HARMONY BIOSCIENCES, LLC PAC\n",
      "\n",
      "\n",
      "\t JOHN MCWILLIAMS\n",
      "\n",
      "\n",
      "\t\t MONEYGRAM INTERNATIONAL, INC. PAC\n",
      "\n",
      "\n",
      "\t FRANCES MIDDLEBERG\n",
      "\n",
      "\n",
      "\t\t DEFEAT SLAVERY\n",
      "\n",
      "\n",
      "\t PAUL PELOSI\n",
      "\n",
      "\n",
      "\t\t PAC TO THE FUTURE\n",
      "\n",
      "\n",
      "\t GERALD ADOLPH\n",
      "\n",
      "\n",
      "\t\t BLACK ECONOMIC ALLIANCE PAC\n",
      "\n",
      "\n",
      "\t MARIA GARCIA BERRY\n",
      "\n",
      "\n",
      "\t\t NEW CUBA PAC\n",
      "\n",
      "\n",
      "\t SUSAN GREGORY\n",
      "\n",
      "\n",
      "\t\t WINE INSTITUTE PAC\n",
      "\n",
      "\n",
      "\t MICHAEL TRAPANI\n",
      "\n",
      "\n",
      "\t\t THE KEYSTONE FUND\n",
      "\n",
      "\n",
      "\t PRENTISS BOLIN\n",
      "\n",
      "\n",
      "\t\t UNION PACIFIC CORP. FUND FOR EFFECTIVE GOVERNMENT\n",
      "\n",
      "\n",
      "\t ALIXANDRIA LAPP\n",
      "\n",
      "\n",
      "\t\t HOUSE MAJORITY PAC\n",
      "\n",
      "\n",
      "\t CLAUDE ZOBELL\n",
      "\n",
      "\n",
      "\t\t SEARCHLIGHT LEADERSHIP FUND\n",
      "\n",
      "\n",
      "\t ELIS RIBEIRO\n",
      "\n",
      "\n",
      "\t\t UNITY CONVENTION 2016\n",
      "\n",
      "\n",
      "\t IAN MUSSELMAN\n",
      "\n",
      "\n",
      "\t\t CONTINENTAL AUTOMOTIVE PAC\n",
      "\n",
      "\n",
      "\t SWATI MYLAVARAPU\n",
      "\n",
      "\n",
      "\t\t THE ARENA PAC\n",
      "\n",
      "\n",
      "\t ROBERT AGHAZARIAN\n",
      "\n",
      "\n",
      "\t\t COLORADANS FOR ACCOUNTABILITY\n",
      "\n",
      "\n",
      "\t STEVEN SWIG\n",
      "\n",
      "\n",
      "\t\t NANCY PELOSI FOR CONGRESS\n",
      "\n",
      "\n",
      "\t ABRAHAM ANTUN\n",
      "\n",
      "\n",
      "\t\t NEW MILLENNIUM PAC\n",
      "\n",
      "\n",
      "\t ROBERT RABEN\n",
      "\n",
      "\n",
      "\t\t EL SUPER PAC VOTO LATINO\n",
      "\n",
      "\n",
      "\t MICHAEL SCHMUHL\n",
      "\n",
      "\n",
      "\t\t HITTING HOME PAC\n",
      "\n",
      "\n",
      "\t GEORGE COOPER\n",
      "\n",
      "\n",
      "\t\t AMERICA'S CONSERVATION PAC\n",
      "\n",
      "\n",
      "\t STACIE ES AMAN\n",
      "\n",
      "\n",
      "\t\t GGNSC HOLDINGS LLC/GOLDEN HORIZONS CARE PAC\n",
      "\n",
      "\n",
      "\t BRIAN KELLY\n",
      "\n",
      "\n",
      "\t\t VICTORY IN NOVEMBER ELECTION PAC (VINEPAC)\n",
      "\n",
      "\n",
      "\t DAN WOHL\n",
      "\n",
      "\n",
      "\t\t PLUS3\n",
      "\n",
      "\n",
      "\t WILLIAM HARRIS\n",
      "\n",
      "\n",
      "\t\t KIDSPAC\n",
      "\n",
      "\n",
      "\t JOHN PATERSON\n",
      "\n",
      "\n",
      "\t\t MAKE IT WORK PAC\n",
      "\n",
      "\n",
      "\t CHRIS FADEFF\n",
      "\n",
      "\n",
      "\t\t NEXTGEN CALIFORNIA ACTION COMMITTEE\n",
      "\n",
      "\n",
      "\t KELLY WARD\n",
      "\n",
      "\n",
      "\t\t NATIONAL DEMOCRATIC REDISTRICTING PAC\n",
      "\n",
      "\n",
      "\n",
      "\n"
     ]
    },
    {
     "name": "stdout",
     "output_type": "stream",
     "text": [
      "PO BOX 9891, ARLINGTON, VA 22219\n",
      "\n",
      "\n",
      "\t BENJAMIN OTTENHOFF\n",
      "\n",
      "\n",
      "\t\t ALABAMA 2017 SENATE VICTORY COMMITTEE, A JOINT FUNDRAISING COMMITTEE COMPRISED OF JUDGE ROY MOORE FOR U.S. SENATE AND THE ALABAMA REPUBLICAN PARTY\n",
      "\t\t BERGMAN VICTORY COMMITTEE\n",
      "\t\t BLUE COLLAR VICTORY FUND\n",
      "\t\t BOST VICTORY FUND\n",
      "\t\t BRAUN VICTORY COMMITTEE\n",
      "\t\t COMMON SENSE COMMON SOLUTIONS POLITICAL ACTION COMMITTEE\n",
      "\t\t CONSERVATIVE ACTION PAC\n",
      "\t\t FLORIDA WORKS\n",
      "\t\t FREEDOM AND FAIRNESS VIRGINIA\n",
      "\t\t HANDEL VICTORY FUND\n",
      "\t\t HAWLEY WIN FUND\n",
      "\t\t HELPING AMERICA'S NEXT DEDICATED ELECTED LEADERS PAC\n",
      "\t\t HK VICTORY 2018\n",
      "\t\t ILLINOIS MAJORITY FUND 2016\n",
      "\t\t INDIANA SENATE NOMINEE FUND\n",
      "\t\t INDIANA/MISSOURI VICTORY COMMITTEE\n",
      "\t\t KATKO VICTORY FUND\n",
      "\t\t LET AMERICA WORK\n",
      "\t\t MACARTHUR VICTORY\n",
      "\t\t MAJORITY IN ACTION\n",
      "\t\t MAJORITY VICTORY PROGRAM\n",
      "\t\t MARK WALKER VICTORY COMMITTEE\n",
      "\t\t MOUNTAIN FAMILIES PAC\n",
      "\t\t NRSC TARGETED STATE VICTORY FUND\n",
      "\t\t PATRIOT DAY I 2017\n",
      "\t\t PATRIOT DAY II 2017\n",
      "\t\t PATRIOT DAY III 2018\n",
      "\t\t PATRIOT DAY IV 2018\n",
      "\t\t PATRIOT ROUND IV 2018\n",
      "\t\t POLIQUIN VICTORY FUND\n",
      "\t\t PRIMARY PATRIOT DAY 2018\n",
      "\t\t REACH TO ACHIEVE\n",
      "\t\t ROSENDALE MAJORITY COMMITTEE\n",
      "\t\t STEFANIK VICTORY FUND\n",
      "\t\t STRANGE VICTORY COMMITTEE\n",
      "\t\t STRENGTHEN THE MAJORITY COMMITTEE\n",
      "\t\t STRENGTHEN THE SENATE MAJORITY 2018\n",
      "\t\t TEAM MACARTHUR\n",
      "\t\t THE COMMITTEE TO DEFEND THE MAJORITY\n",
      "\t\t THUNE VICTORY COMMITTEE\n",
      "\t\t WHIP IT GOOD\n",
      "\t\t WIN IN GEORGIA\n",
      "\t\t WIN MISSISSIPPI\n",
      "\t\t WINNING PA\n",
      "\n",
      "\n",
      "\t MICHELE REISNER\n",
      "\n",
      "\n",
      "\t\t DUFFY VICTORY FUND\n",
      "\t\t JUNO PAC\n",
      "\t\t TEAMPAC 2017\n",
      "\t\t TEAMPAC FALL17\n",
      "\n",
      "\n",
      "\t SALVATORE PURPURA\n",
      "\n",
      "\n",
      "\t\t FLORIDA VOTES COUNT\n",
      "\t\t RICK SCOTT VICTORY FUND\n",
      "\t\t TEAM RICK SCOTT\n",
      "\n",
      "\n",
      "\t CALEB CROSBY\n",
      "\n",
      "\n",
      "\t\t ADVANCED MICRO DEVICES, INC. PAC\n",
      "\t\t COMSTOCK VICTORY FUND\n",
      "\n",
      "\n",
      "\t JULIE DOZIER\n",
      "\n",
      "\n",
      "\t\t OHIO FIRST PAC\n",
      "\n",
      "\n",
      "\t JO MERLAU\n",
      "\n",
      "\n",
      "\t\t INDEPENDENT VOICE FOR ILLINOIS PAC\n",
      "\n",
      "\n",
      "\t DEANNA HAYES\n",
      "\n",
      "\n",
      "\t\t RUSHMORE SUPERPAC\n",
      "\n",
      "\n",
      "\n",
      "\n",
      "611 PENNSYLVANIA AVE SE, WASHINGTON, DC 20003\n",
      "\n",
      "\n",
      "\t STEVEN MELE\n",
      "\n",
      "\n",
      "\t\t ALL FOR OUR COUNTRY LEADERSHIP PAC\n",
      "\t\t ALL FOR OUR COUNTRY VICTORY FUND\n",
      "\t\t COLIN ALLRED VICTORY FUND\n",
      "\t\t CORTEZ MASTO VICTORY FUND\n",
      "\t\t DEMOCRATIC CONSERVATION ALLIANCE PAC\n",
      "\t\t DRISKELL VICTORY FUND\n",
      "\t\t GERSHON VICTORY FUND\n",
      "\t\t KATHY MANNING VICTORY FUND\n",
      "\t\t MCCREADY LEVIN VICTORY FUND\n",
      "\t\t MCCREADY VICTORY FUND\n",
      "\t\t MICHIGAN MISSOURI VICTORY FUND\n",
      "\t\t MISSOURI VIRGINIA FUND\n",
      "\t\t MOTOR CITY PAC\n",
      "\t\t PACRONYM\n",
      "\t\t PRESSLEY TRAHAN VICTORY FUND\n",
      "\t\t SMART SOLUTIONS PAC\n",
      "\t\t SPANBERGER VICTORY FUND\n",
      "\t\t TEXAS VICTORY 2018\n",
      "\t\t THE ARENA CANDIDATE PAC HOUSE VICTORY FUND\n",
      "\t\t THE ARENA CANDIDATE PAC WIN FUND\n",
      "\n",
      "\n",
      "\t MEGAN BRENGARTH\n",
      "\n",
      "\n",
      "\t\t CRIST VICTORY FUND\n",
      "\t\t DONNA SHALALA VICTORY FUND\n",
      "\t\t FRONTERA VISION PAC\n",
      "\t\t HOUSE VICTORY 2018\n",
      "\t\t ROSEN VICTORY FUND\n",
      "\t\t SOUTH FLORIDA WOMEN'S VICTORY FUND\n",
      "\t\t WALLACE VICTORY FUND\n",
      "\n",
      "\n",
      "\t LAUREN DECOT LEE\n",
      "\n",
      "\n",
      "\t\t ALL FOR OUR COUNTRY LAS VEGAS VICTORY FUND\n",
      "\t\t ALUMNI 44 COMMITTEE\n",
      "\t\t JON OSSOFF VICTORY FUND\n",
      "\t\t MCGINTY VICTORY 2016\n",
      "\n",
      "\n",
      "\t ABE RAKOV\n",
      "\n",
      "\n",
      "\t\t LET AMERICA VOTE PAC\n",
      "\t\t LET AMERICA VOTE VICTORY FUND\n",
      "\n",
      "\n",
      "\t SWATI MYLAVARAPU\n",
      "\n",
      "\n",
      "\t\t THE ARENA CANDIDATE PAC\n",
      "\n",
      "\n",
      "\t SUSAN JACKSON\n",
      "\n",
      "\n",
      "\t\t BFB PAC\n",
      "\n",
      "\n",
      "\t CARL OBERG\n",
      "\n",
      "\n",
      "\t\t ALTERNATIVEPAC\n",
      "\n",
      "\n",
      "\t JOSH HENDLER\n",
      "\n",
      "\n",
      "\t\t NOT WHO WE ARE PAC\n",
      "\n",
      "\n",
      "\t AMY GUNN\n",
      "\n",
      "\n",
      "\t\t KANDER PAC\n",
      "\n",
      "\n",
      "\t DAVID SILFKA\n",
      "\n",
      "\n",
      "\t\t VOTE TRIPLING PAC\n",
      "\n",
      "\n",
      "\t LAUREN LEE\n",
      "\n",
      "\n",
      "\t\t THE ARENA CANDIDATE PAC VICTORY FUND\n",
      "\n",
      "\n",
      "\t (no treasurer listed)\n",
      "\n",
      "\n",
      "\t\t CATHOLIC ADVOCATE\n",
      "\n",
      "\n",
      "\t LORA HAGGARD\n",
      "\n",
      "\n",
      "\t\t COMMITTEE FOR JUSTICE & FAIRNESS PAC\n",
      "\n",
      "\n",
      "\t MICHAEL PIERSALL\n",
      "\n",
      "\n",
      "\t\t A NEW PROMISE\n",
      "\n",
      "\n",
      "\t CHAUNCEY MCLEAN\n",
      "\n",
      "\n",
      "\t\t FUTURE FORWARD USA PAC\n",
      "\n",
      "\n",
      "\t MICHELLE SHEROD\n",
      "\n",
      "\n",
      "\t\t MISSOURIANS FOR ACCOUNTABILITY AND CHANGE (MACPAC)\n",
      "\n",
      "\n",
      "\t BENJAMIN OTTENHOFF\n",
      "\n",
      "\n",
      "\t\t HANDEL VICTORY COMMITTEE\n",
      "\n",
      "\n",
      "\t JOSEPH SAUNDERS\n",
      "\n",
      "\n",
      "\t\t GOLDEN RULE PAC\n",
      "\n",
      "\n",
      "\t DWIGHT DAVIDSON\n",
      "\n",
      "\n",
      "\t\t LONG LEAF PINE PAC\n",
      "\n",
      "\n",
      "\n",
      "\n",
      "PO BOX 30844, BETHESDA, MD 20824\n",
      "\n",
      "\n",
      "\t STEVEN MARTIN\n",
      "\n",
      "\n",
      "\t\t AD ALLIANCE\n",
      "\t\t BRINGING AMERICA TOGETHER PAC\n",
      "\t\t CARE AMERICA\n",
      "\t\t CLOUD TEXAS VICTORY COMMITTEE\n",
      "\t\t CONGRESSIONAL HOUSE REPUBLICANS IN SERVICE PAC (CHRIS PAC)\n",
      "\t\t COOK VICTORY FUND\n",
      "\t\t DEFEND AMERICA NOW PAC\n",
      "\t\t FRESHMAN AGRICULTURAL REPUBLICAN MEMBERS TRUST AKA FARM TRUST\n",
      "\t\t HEALTH FIRST COMMITTEE\n",
      "\t\t LONE STAR LEADERSHIP PAC\n",
      "\t\t MACARTHUR DONOVAN VICTORY FUND 2018\n",
      "\t\t MACARTHUR-DONOVAN VICTORY FUND\n",
      "\t\t MINNESOTA VICTORY 2018\n",
      "\t\t PANHANDLE PAC\n",
      "\t\t POLIQUIN COMSTOCK VICTORY FUND\n",
      "\t\t RIGHTNOW WOMEN PAC\n",
      "\t\t TEAM FITZ\n",
      "\t\t TEAM GAETZ\n",
      "\t\t WATKINS VICTORY COMMITTEE\n",
      "\n",
      "\n",
      "\t JILL THOMSON\n",
      "\n",
      "\n",
      "\t\t CALIFORNIA VICTORY 2018\n",
      "\t\t MCCARTHY VICTORY FUND\n",
      "\t\t PROTECT THE HOUSE\n",
      "\n",
      "\n",
      "\t VALERIE GIRAMBERK\n",
      "\n",
      "\n",
      "\t\t DAVID SCHWEIKERT FOR CONGRESS\n",
      "\t\t DEFENDING AMERICA'S VALUES EVERYWHERE (TEAM DAVE)\n",
      "\t\t SCHWEIKERT VICTORY COMMITTEE\n",
      "\n",
      "\n",
      "\t BRENDA PEJOVICH\n",
      "\n",
      "\n",
      "\t\t COMMITTEE TO PROTECT PROSPERITY AND FREE ENTERPRISE 2017\n",
      "\t\t JOBS, ECONOMY AND BUDGET FUND (JEB FUND)\n",
      "\n",
      "\n",
      "\t ROBERT CARROLL\n",
      "\n",
      "\n",
      "\t\t BRAD WENSTRUP VICTORY FUND\n",
      "\t\t BUILDING AND RESTORING THE AMERICAN DREAM FUND\n",
      "\n",
      "\n",
      "\t CHRISTOPHER MARSTON\n",
      "\n",
      "\n",
      "\t\t COMSTOCK VICTORY FUND 2018\n",
      "\t\t NOVA POLITICAL ACTION COMMITTEE\n",
      "\n",
      "\n",
      "\t O'LENE STONE\n",
      "\n",
      "\n",
      "\t\t LONGHORN PAC\n",
      "\n",
      "\n",
      "\t JOHN POPRIK\n",
      "\n",
      "\n",
      "\t\t KEYSTONE LEADERSHIP PAC\n",
      "\n",
      "\n",
      "\t MELISSA DUBOIS\n",
      "\n",
      "\n",
      "\t\t MR. SOUTHERN MISSOURIAN IN THE HOUSE PAC\n",
      "\n",
      "\n",
      "\t FREDERIK RIEFKOHL\n",
      "\n",
      "\n",
      "\t\t EQUIDAD POLITICAL ACTION COMMITTEE\n",
      "\n",
      "\n",
      "\t JOCELYN JAKUBUS\n",
      "\n",
      "\n",
      "\t\t COLLINS VICTORY FUND\n",
      "\n",
      "\n",
      "\t JULIE HOOKS DWYER\n",
      "\n",
      "\n",
      "\t\t FUTURE LEADERS POLITICAL ACTION COMMITTEE\n",
      "\n",
      "\n",
      "\t ETHAN ZORFAS\n",
      "\n",
      "\n",
      "\t\t GETTING US INVOLVED NOW, TRANSITIONING AMERICA PAC (GUINTA PAC)\n",
      "\n",
      "\n",
      "\t LUCYNDA RABEN\n",
      "\n",
      "\n",
      "\t\t TEAM ESTES\n",
      "\n",
      "\n",
      "\t CATHY MULLEN\n",
      "\n",
      "\n",
      "\t\t EUREKA POLITICAL ACTION COMMITTEE\n",
      "\n",
      "\n",
      "\t PHIL WALLER\n",
      "\n",
      "\n",
      "\t\t SEMPER FI PAC\n",
      "\n",
      "\n",
      "\n",
      "\n",
      "610 S BLVD, TAMPA, FL 33606\n",
      "\n",
      "\n",
      "\t NANCY WATKINS\n",
      "\n",
      "\n",
      "\t\t AMERICA ON THE MOVE\n",
      "\t\t AMERICAN OPPORTUNITY PAC\n",
      "\t\t AMERICAN PRINCIPLES FUND\n",
      "\t\t BARLETTA VICTORY FUND\n",
      "\t\t BUILD OUR FUTURE PAC\n",
      "\t\t CHRIS STEWART FREEDOM FUND\n",
      "\t\t CITIZENS FOR CANCER AWARENESS FEDERAL PAC\n",
      "\t\t CONSERVATIVE SOLUTIONS PAC\n",
      "\t\t COOL PAC\n",
      "\t\t DEDICATED TO ESTABLISHING NATIONAL TEAMWORK PAC (DENT PAC)\n",
      "\t\t DEFENDING DEMOCRACY FUND\n",
      "\t\t ESAFUND\n",
      "\t\t FLORIDA CONSERVATIVE FUND\n",
      "\t\t FLORIDA FIRST PROJECT\n",
      "\t\t FLORIDA FIRST, FLORIDA FOREVER\n",
      "\t\t FOUR AMIGOS JOINT COMMITTEE; THE\n",
      "\t\t JEWISH FLORIDIANS FOR AMERICA'S FUTURE\n",
      "\t\t LIBERTY AND JUSTICE FUND\n",
      "\t\t LOU VICTORY FUND\n",
      "\t\t PRESERVING AMERICA'S TRADITIONS (PATPAC)\n",
      "\t\t REFORM GOVERNMENT\n",
      "\t\t REFORM GOVERNMENT LEADERSHIP PAC\n",
      "\t\t REVIVE AMERICA PAC\n",
      "\t\t RGM ADVISORS PAC\n",
      "\t\t ROONEY FOR CONGRESS\n",
      "\t\t ROONEY VICTORY\n",
      "\t\t SEAGRASS PAC\n",
      "\t\t SILVER STATE PAC, INC.\n",
      "\t\t STRONGND PAC\n",
      "\t\t TEA PARTY PAC\n",
      "\t\t TED PAC\n",
      "\t\t THE ROSKAM VICTORY COMMITTEE\n",
      "\t\t VICTORY SUPER PAC, INC.\n",
      "\n",
      "\n",
      "\t (no treasurer listed)\n",
      "\n",
      "\n",
      "\t\t ENDING SPENDING INC.\n",
      "\n",
      "\n",
      "\t JEFFREY CARR\n",
      "\n",
      "\n",
      "\t\t CARDIOVASCULAR COALITION, INC. POLITICAL ACTION COMMITTEE\n",
      "\n",
      "\n",
      "\t MICHAEL WATKINS\n",
      "\n",
      "\n",
      "\t\t PEOPLE FOR PINELLAS\n",
      "\n",
      "\n",
      "\t SUE KELLY\n",
      "\n",
      "\n",
      "\t\t TUESDAY GROUP POLITICAL ACTION COMMITTEE\n",
      "\n",
      "\n",
      "\n",
      "\n",
      "777 S FIGUEROA ST, LOS ANGELES, CA 90017\n",
      "\n",
      "\n",
      "\t STEPHEN KAUFMAN\n",
      "\n",
      "\n",
      "\t\t CA BOXER/SCHIFF COMMITTEE\n",
      "\t\t SCHIFF FOR CONGRESS\n",
      "\t\t SCHIFF HOUSE VICTORY FUND\n",
      "\t\t SCHIFF LEADS PAC\n",
      "\t\t SEA CHANGE LEADERSHIP PAC\n",
      "\t\t SHERMAN FOR CONGRESS\n",
      "\t\t WOMEN'S POLITICAL COMMITTEE\n",
      "\n",
      "\n",
      "\t TONY HALE\n",
      "\n",
      "\n",
      "\t\t BLUE MOMENTUM PAC\n",
      "\t\t CALIFORNIA CANDIDATES VICTORY FUND\n",
      "\t\t TED LIEU FOR CONGRESS\n",
      "\n",
      "\n",
      "\t ALEXANDER WARREN\n",
      "\n",
      "\n",
      "\t\t KATIE PORTER FOR CONGRESS\n",
      "\t\t PORTER VICTORY FUND\n",
      "\n",
      "\n",
      "\t NATE SHUTMAN\n",
      "\n",
      "\n",
      "\t\t HARDER HILL LEVIN PORTER VICTORY FUND\n",
      "\t\t LEVIN HARDER VICTORY FUND\n",
      "\n",
      "\n",
      "\t (no treasurer listed)\n",
      "\n",
      "\n",
      "\t\t HUNTINGTON BEACH RESIDENTS FOR SAFE NEIGHBORHOODS IN SUPPORT OF BILLY O'CONNELL FOR HUNTINGTON BEACH CITY COUNCIL 2018\n",
      "\t\t KRC IN ACTION\n",
      "\n",
      "\n",
      "\t CHARLOTTE WHITE\n",
      "\n",
      "\n",
      "\t\t DEMOCRATIC VICTORY FUND\n",
      "\n",
      "\n",
      "\t TONY FAZIO\n",
      "\n",
      "\n",
      "\t\t SENIOR VOTES COUNT\n",
      "\n",
      "\n",
      "\t TINA THOMAS\n",
      "\n",
      "\n",
      "\t\t KAMALA HARRIS VICTORY FUND\n",
      "\n",
      "\n",
      "\t KAREN WINGARD\n",
      "\n",
      "\n",
      "\t\t LOS ANGELES COUNTY DEMOCRATIC CENTRAL COMMITTEE\n",
      "\n",
      "\n",
      "\t EDWARD KURTZ\n",
      "\n",
      "\n",
      "\t\t COURAGE CAMPAIGN SUPER PAC\n",
      "\n",
      "\n",
      "\t JAMIE KANTROWITZ\n",
      "\n",
      "\n",
      "\t\t LOS ANGELES WOMEN'S GIVING COLLECTIVE PAC\n",
      "\n",
      "\n",
      "\t JENNIFER JOAN GALE\n",
      "\n",
      "\n",
      "\t\t CITIZENS FOR AMERICA FIRST\n",
      "\n",
      "\n",
      "\t ASH CHOPRA\n",
      "\n",
      "\n",
      "\t\t CALIFORNIANS FOR INNOVATION\n",
      "\n",
      "\n",
      "\t WENDY GREUEL\n",
      "\n",
      "\n",
      "\t\t CALIFORNIA DEMOCRACY VENTURES FUND\n",
      "\n",
      "\n",
      "\t BRAD GREINER\n",
      "\n",
      "\n",
      "\t\t I''M NOT WITH HIM\n",
      "\n",
      "\n",
      "\t MIKE LEVIN\n",
      "\n",
      "\n",
      "\t\t LEVIN VICTORY FUND\n",
      "\n",
      "\n",
      "\t SIM FARAR\n",
      "\n",
      "\n",
      "\t\t PAC FOR A CHANGE\n",
      "\n",
      "\n",
      "\t BARRY KLEIN\n",
      "\n",
      "\n",
      "\t\t COMMITTEE FOR PROGRESSIVE VALUES\n",
      "\n",
      "\n",
      "\t MICHAEL FRAIOLI\n",
      "\n",
      "\n",
      "\t\t SOUTHERN CALIFORNIA FUND\n",
      "\n",
      "\n",
      "\t JANICE MARTIN\n",
      "\n",
      "\n",
      "\t\t AFRICAN AMERICAN VOTER REGISTRATION EDUCATION AND PARTICIPATION PROJECT - FEDERAL\n",
      "\n",
      "\n",
      "\t ARIANNA JIMENEZ\n",
      "\n",
      "\n",
      "\t\t SERVICE EMPLOYEES INTERNATIONAL UNION UNITED HEALTHCARE WORKERS WEST\n",
      "\n",
      "\n",
      "\t KEN SULZER\n",
      "\n",
      "\n",
      "\t\t USA PAC - UNITED FOR A STRONG AMERICA\n",
      "\n",
      "\n",
      "\t ROBERT HERRERA\n",
      "\n",
      "\n",
      "\t\t LEADERSHIP FOR TODAY AND TOMORROW\n",
      "\n",
      "\n",
      "\t MATTHEW JOHNSON\n",
      "\n",
      "\n",
      "\t\t FEARLESS FOR THE PEOPLE PAC\n",
      "\n",
      "\n",
      "\t LORI ALEXANDER\n",
      "\n",
      "\n",
      "\t\t HEALTH JUSTICE PAC\n",
      "\n",
      "\n",
      "\t IDA YARBROUGH\n",
      "\n",
      "\n",
      "\t\t AFRICAN AMERICAN VOTER REGISTRATION EDUCATION AND PARTICIPATION PROJECT\n",
      "\n",
      "\n",
      "\n",
      "\n",
      "910 17TH ST NW, WASHINGTON, DC 20006\n",
      "\n",
      "\n",
      "\t JANICA KYRIACOPOULOS\n",
      "\n",
      "\n",
      "\t\t ALLRED DELGADO VICTORY FUND\n",
      "\t\t ALLRED HAYES VICTORY FUND\n",
      "\t\t ASPIRE PAC\n",
      "\t\t BUSTOS JEFFRIES VICTORY FUND\n",
      "\t\t CO-6 VICTORY FUND\n",
      "\t\t COURAGE TO LEAD FUND\n",
      "\t\t DAVIDS ROSE VICTORY FUND\n",
      "\t\t DELGADO VICTORY FUND\n",
      "\t\t DONNELLY KAINE VICTORY FUND\n",
      "\t\t DONNELLY VICTORY FUND\n",
      "\t\t HEINRICH VICTORY FUND\n",
      "\t\t JJS VICTORY FUND\n",
      "\t\t LEADERSHIP, OPPORTUNITY, INNOVATION SERVICE PAC - LOIS PAC\n",
      "\t\t LIEU-MENG VICTORY FUND\n",
      "\t\t LUJAN/LOBO VICTORY FUND\n",
      "\t\t NEW YORK RED TO BLUE FUND\n",
      "\t\t REPAIR THE WORLD PAC\n",
      "\t\t ROSE VICTORY FUND\n",
      "\t\t SLOTKIN VICTORY FUND\n",
      "\t\t STAND FOR NEW YORK\n",
      "\n",
      "\n",
      "\t BRIAN FOUCART\n",
      "\n",
      "\n",
      "\t\t 3 AMERICAN QUESTIONS PAC\n",
      "\t\t CASTEN VICTORY FUND\n",
      "\t\t JR VICTORY FUND\n",
      "\t\t NATIONAL DEMOCRATIC TRAINING COMMITTEE PAC\n",
      "\t\t SADDLE PAC\n",
      "\t\t STANTON VICTORY FUND 2018\n",
      "\n",
      "\n",
      "\t JEFFREY WEINSTOCK\n",
      "\n",
      "\n",
      "\t\t TED DEUTCH FOR CONGRESS COMMITTEE\n",
      "\t\t TOGETHER ENCOURAGING DEMOCRACY - T.E.D. PAC\n",
      "\n",
      "\n",
      "\t CORDELIA LEWIS BURKS\n",
      "\n",
      "\n",
      "\t\t DONNELLY FOR INDIANA\n",
      "\n",
      "\n",
      "\t MARCIA DICKSTEIN SUDOLSKY\n",
      "\n",
      "\n",
      "\t\t TRI-STATE MAXED-OUT WOMEN\n",
      "\n",
      "\n",
      "\t NICHOLAS FEMIA\n",
      "\n",
      "\n",
      "\t\t SUPPORTING HOUSE PROBLEM SOLVERS - SHP PAC\n",
      "\n",
      "\n",
      "\t GREG LEVENSON\n",
      "\n",
      "\n",
      "\t\t TURQUOISE PAC\n",
      "\n",
      "\n",
      "\t INGRID DURAN\n",
      "\n",
      "\n",
      "\t\t LATINO LEADERS FOR EQUALITY GROWTH OPPORTUNITY PROGRESSIVE ACTION & CHANGE (LLEGO-PAC)\n",
      "\n",
      "\n",
      "\t RICK GALENA\n",
      "\n",
      "\n",
      "\t\t ARTICLE 1 POLITICAL ACTION COMMITTEE\n",
      "\n",
      "\n",
      "\t SAMMY KYE\n",
      "\n",
      "\n",
      "\t\t AT THE TABLE!\n",
      "\n",
      "\n",
      "\n",
      "\n",
      "PO BOX 15320, WASHINGTON, DC 20003\n",
      "\n",
      "\n",
      "\t JENNIFER MAY\n",
      "\n",
      "\n",
      "\t\t 84 FUND\n",
      "\t\t ACT TO MATTER\n",
      "\t\t AMERICAN INNOVATION FUND\n",
      "\t\t BLUE PENNSYLVANIA 2018\n",
      "\t\t CA LUV PAC (CALIFORNIA LEADERSHIP UNITED FOR VICTORY PAC)\n",
      "\t\t CA MAJORITY MAKERS\n",
      "\t\t COMMITTEE TO RE-ELECT LINDA SANCHEZ\n",
      "\t\t COMMON GOOD PAC\n",
      "\t\t COMMON GROUND VICTORY FUND\n",
      "\t\t DEL PAC\n",
      "\t\t DEMOCRATS RESHAPING AMERICA (DREAMPAC)\n",
      "\t\t DITCH FUND\n",
      "\t\t DOGWOOD PAC\n",
      "\t\t END UNFAIR DISTRICTS\n",
      "\t\t HEALING MICHIGAN\n",
      "\t\t INLAND EMPIRE STRIKES PAC; THE\n",
      "\t\t JOBS AND INNOVATION MATTER PAC (JIM PAC)\n",
      "\t\t JOBS UNITE LABOR AND INDUSTRY IN AMERICA PAC (JULIA PAC)\n",
      "\t\t LEVIN ROUDA VICTORY FUND\n",
      "\t\t LONGJOHN VICTORY FUND\n",
      "\t\t MGS PAC\n",
      "\t\t MI14 PAC\n",
      "\t\t MITRANO VICTORY FUND\n",
      "\t\t PROGRESSIVE MAJORITY PAC\n",
      "\t\t PUGET PAC\n",
      "\t\t ROUDA VICTORY FUND\n",
      "\t\t SUSTAINABLE ENERGY AND ENVIRONMENT COALITION PAC (SEEC PAC)\n",
      "\t\t TAKANO CALIFORNIA WAVE\n",
      "\t\t TAKANO EQUALITY WAVE\n",
      "\t\t THE COLLECTIVE PAC\n",
      "\t\t THE COLLECTIVE SUPER PAC\n",
      "\t\t TONY CARDENAS FOR CONGRESS\n",
      "\t\t WHEN DEMOCRATS TURN OUT PAC\n",
      "\n",
      "\n",
      "\t HANK WILLIS THOMAS\n",
      "\n",
      "\n",
      "\t\t FOR FREEDOMS\n",
      "\n",
      "\n",
      "\t KIEL BRUNNER\n",
      "\n",
      "\n",
      "\t\t PROXY VOTE\n",
      "\n",
      "\n",
      "\n",
      "\n",
      "5429 MADISON AVE, SACRAMENTO, CA 95841\n",
      "\n",
      "\n",
      "\t DENISE LEWIS\n",
      "\n",
      "\n",
      "\t\t AMADOR COUNTY DEMOCRATIC CENTRAL COMMITTEE\n",
      "\t\t AMMAR CAMPA FOR CONGRESS\n",
      "\t\t BUTTE COUNTY DEMOCRATIC CENTRAL COMMITTEE\n",
      "\t\t CALAVERAS COUNTY DEMOCRATIC CENTRAL COMMITTEE\n",
      "\t\t CALIFORNIA MODERATE VOICES\n",
      "\t\t CALIFORNIANS FOR A DEMOCRATIC CONGRESS\n",
      "\t\t CAPA21- FEDERAL\n",
      "\t\t DAVIS DEMOCRATIC CLUB\n",
      "\t\t DEMOCRATIC ACTION CLUB OF CHICO\n",
      "\t\t DEMOCRATIC CLUB OF SOUTHWEST RIVERSIDE COUNTY\n",
      "\t\t EL DORADO COUNTY DEMOCRATIC CENTRAL COMMITTEE\n",
      "\t\t HARRY S. TRUMAN CLUB- FEDERAL\n",
      "\t\t MIKE THOMPSON FOR CONGRESS\n",
      "\t\t OHLONE AREA UNITED DEMOCRATIC CAMPAIGN\n",
      "\t\t PLACER COUNTY DEMOCRATIC CENTRAL COMMITTEE\n",
      "\t\t REDWOOD COAST DEMOCRATS\n",
      "\t\t RIVERSIDE COUNTY DEMOCRATIC CENTRAL COMMITTEE\n",
      "\t\t SIERRA FORWARD\n",
      "\t\t YOLO COUNTY DEMOCRATIC CENTRAL COMMITTEE - FEDERAL ACCOUNT\n",
      "\n",
      "\n",
      "\t (no treasurer listed)\n",
      "\n",
      "\n",
      "\t\t COMMUNITIES FOR A NEW CALIFORNIA C4\n",
      "\t\t COMMUNITIES FOR A NEW CALIFORNIA-FRESNO-TULARE COMMITTEE\n",
      "\t\t SANDRE SWANSON FOR ASSEMBLY 2010\n",
      "\t\t SHARON QUIRK-SILVA FOR ASSEMBLY 2016\n",
      "\n",
      "\n",
      "\t RITA COPELAND\n",
      "\n",
      "\n",
      "\t\t EL DORADO COUNTY DEMOCRATIC CAMPAIGN COALITION\n",
      "\t\t FUND FOR PROGRESS PAC\n",
      "\t\t REFORM THE DNC\n",
      "\n",
      "\n",
      "\t LARRY LEONARD\n",
      "\n",
      "\n",
      "\t\t SONOMA COUNTY DEMOCRATIC CENTRAL COMMITTEE\n",
      "\n",
      "\n",
      "\t LUCILLE BOSS RAMIREZ\n",
      "\n",
      "\n",
      "\t\t SANTA BARBARA COUNTY DEMOCRATIC CENTRAL COMMITTEE FEDERAL PAC\n",
      "\n",
      "\n",
      "\t ABEL LEMAS\n",
      "\n",
      "\n",
      "\t\t STANISLAUS COUNTY DEMOCRATIC CENTRAL COMMITTEE - FEDERAL\n",
      "\n",
      "\n",
      "\t SUSAN PRICE\n",
      "\n",
      "\n",
      "\t\t TEHAMA COUNTY DEMOCRATIC CENTRAL COMMITTEE\n",
      "\n",
      "\n",
      "\t KIM RICHARD\n",
      "\n",
      "\n",
      "\t\t NAPA COUNTY DEMOCRATIC CENTRAL COMMITTEE\n",
      "\n",
      "\n",
      "\t BRUCE EDWIN DANDY\n",
      "\n",
      "\n",
      "\t\t ALLIANCE FOR WATER RESOURCES FOR VENTURA COUNTY POLITICAL ACTION COMMITTEE (AWRPAC)\n",
      "\n",
      "\n",
      "\n",
      "\n",
      "PO BOX 75357, WASHINGTON, DC 20013\n",
      "\n",
      "\n",
      "\t DIANE EVANS\n",
      "\n",
      "\n",
      "\t\t AMERICAN NETWORK OF COMMUNITY OPTIONS AND RESOURCES DISABILITY CHAMPIONS PAC\n",
      "\t\t BOLD DEMOCRATS\n",
      "\t\t BOLD DEMOCRATS I\n",
      "\t\t BOLD DEMOCRATS II\n",
      "\t\t BOLD FRONTLINE DEMOCRATS\n",
      "\t\t BRYCE CAMPA-NAJJAR VICTORY FUND\n",
      "\t\t CHC BOLD PAC\n",
      "\t\t CONGRESSIONAL PROGRESSIVE CAUCUS PAC\n",
      "\t\t FINANCIAL PLANNING ASSOCIATION POLITICAL ACTION COMMITTEE\n",
      "\t\t I GOT YOUR BACK PAC\n",
      "\t\t MAGGIE HASSAN GVP\n",
      "\t\t MAGGIE HASSAN VICTORY FUND\n",
      "\t\t NEW ECONOMY PAC\n",
      "\t\t PETERS VICTORY FUND\n",
      "\t\t PROSPERITY WITH ACCOUNTABILITY\n",
      "\t\t WI BRYCE VICTORY FUND\n",
      "\n",
      "\n",
      "\t BRENDA MOORE\n",
      "\n",
      "\n",
      "\t\t GIVING WILLINGLY EMPOWERING NATIONALLY (GWEN) PAC\n",
      "\n",
      "\n",
      "\t RICK HEGDAHL\n",
      "\n",
      "\n",
      "\t\t VOTEVETS\n",
      "\n",
      "\n",
      "\t JOSEPH ONEK\n",
      "\n",
      "\n",
      "\t\t FAIR JUDICIARY POLITICAL ACTION COMMITTEE\n",
      "\n",
      "\n",
      "\t NICHOLAS LEONARDI\n",
      "\n",
      "\n",
      "\t\t COMMITTEE FOR MARYLAND'S PROGRESS\n",
      "\n",
      "\n",
      "\t RAFAEL LANTIGUA\n",
      "\n",
      "\n",
      "\t\t SERRANO FOR CONGRESS\n",
      "\n",
      "\n"
     ]
    },
    {
     "name": "stdout",
     "output_type": "stream",
     "text": [
      "\t DON ERNST\n",
      "\n",
      "\n",
      "\t\t MISSION PAC\n",
      "\n",
      "\n",
      "\t EARL JENKINS\n",
      "\n",
      "\n",
      "\t\t CONGRESSIONAL BLACK CAUCUS PAC\n",
      "\n",
      "\n",
      "\t ALAN REISCHE\n",
      "\n",
      "\n",
      "\t\t A NEW DIRECTION PAC\n",
      "\n",
      "\n",
      "\t PHIL FOGG\n",
      "\n",
      "\n",
      "\t\t AMERICAN HEALTH CARE ASSOCIATION POLITICAL ACTION COMMITTEE\n",
      "\n",
      "\n",
      "\t MAHMOUD BARAZI\n",
      "\n",
      "\n",
      "\t\t FREE SYRIA PAC\n",
      "\n",
      "\n",
      "\n",
      "\n",
      "555 CAPITOL MALL, SACRAMENTO, CA 95814\n",
      "\n",
      "\n",
      "\t (no treasurer listed)\n",
      "\n",
      "\n",
      "\t\t ALAMEDANS UNITED SUPPORTING VELLA AND ASHCRAFT FOR CITY COUNCIL, ET AL\n",
      "\t\t GOLDEN CALIFORNIA COMMITTEE SPONSORED BY THE SEIU CALIFORNIA STATE COUNCIL\n",
      "\t\t OPPORTUNITY PAC - A COALITION OF TEACHERS HEALTH CARE GIVERS FACULTY MEMBERS SCHOOL EMPLOYEES AND PUBLIC AND PR\n",
      "\t\t PLANNED PARENTHOOD ADVOCACY PROJECT LOS ANGELES COUNTY\n",
      "\t\t PLANNED PARENTHOOD AFFILIATES OF CALIF\n",
      "\n",
      "\n",
      "\t ART PULASKI\n",
      "\n",
      "\n",
      "\t\t COMMITTEE FOR WORKING FAMILIES, SPONSORED BY THE CALIFORNIA LABOR FEDERATION, AFL-CIO\n",
      "\t\t MILLION MORE VOTERS, SPONSORED BY THE CALIFORNIA LABOR FEDERATION, AFL-CIO\n",
      "\n",
      "\n",
      "\t DAVE LOW\n",
      "\n",
      "\n",
      "\t\t PACE OF CALIFORNIA SCHOOL EMPLOYEES ASSOCIATION - LOCAL, STATE, FEDERAL CANDIDATES\n",
      "\n",
      "\n",
      "\t MICHAEL REDARD\n",
      "\n",
      "\n",
      "\t\t PLANNED PARENTHOOD ADVOCACY PROJECT LOS ANGELES COUNTY ACTION FUND\n",
      "\n",
      "\n",
      "\t MARY MCMILLAN\n",
      "\n",
      "\n",
      "\t\t ANNA ESHOO FOR CONGRESS\n",
      "\n",
      "\n",
      "\t MIKE LEVIN\n",
      "\n",
      "\n",
      "\t\t MIKE LEVIN FOR CONGRESS\n",
      "\n",
      "\n",
      "\t BUD DOUGHERTY\n",
      "\n",
      "\n",
      "\t\t CALIFORNIA SCHOOL EMPLOYEES ASSOCIATION\n",
      "\n",
      "\n",
      "\t MONA SONNENSHEIN\n",
      "\n",
      "\n",
      "\t\t PLANNED PARENTHOOD ACTION FUND OF THE PACIFIC SOUTHWEST PAC\n",
      "\n",
      "\n",
      "\t BENJAMIN CARDENAS\n",
      "\n",
      "\n",
      "\t\t NAPOLITANO FOR CONGRESS\n",
      "\n",
      "\n",
      "\t STEVE CROUCH\n",
      "\n",
      "\n",
      "\t\t INTERNATIONAL UNION OF OPERATING ENGINEERS STATIONARY ENGINEERS LOCAL 39 FEDERAL PAC\n",
      "\n",
      "\n",
      "\t RANDY THORNHILL\n",
      "\n",
      "\n",
      "\t\t SOUTHWEST REGIONAL COUNCIL OF CARPENTERS LEGISLATIVE IMPROVEMENT CMTE UNITED BROTHERHOOD OF CARPENTERS & JOINERS OF AMERICA\n",
      "\n",
      "\n",
      "\t DAVID YOUNG\n",
      "\n",
      "\n",
      "\t\t WRITERS GUILD OF AMERICA WEST, INC. PAC (WGAW PAC)\n",
      "\n",
      "\n",
      "\t BILL MACKEY\n",
      "\n",
      "\n",
      "\t\t GRANITE CONSTRUCTION INC. EMPLOYEE PAC - GRANITEPAC\n",
      "\n",
      "\n",
      "\t NABIL EL-GHOROURY\n",
      "\n",
      "\n",
      "\t\t CALIFORNIA ASSOCIATION OF MARRIAGE & FAMILY THERAPISTS PAC\n",
      "\n",
      "\n",
      "\t ALISSA KO\n",
      "\n",
      "\n",
      "\t\t PROTECTING CHOICE IN CALIFORNIA, A PROJECT OF PLANNED PARENTHOOD AFFILIATES OF CALIFORNIA\n",
      "\n",
      "\n",
      "\t JOANNE PARISE\n",
      "\n",
      "\n",
      "\t\t WE VOTE - NOSOTROS VOTAMOS - PPAMM COMMITTEE\n",
      "\n",
      "\n",
      "\t LINDSEY HARMON\n",
      "\n",
      "\n",
      "\t\t NEVADA ADVOCATES FOR PLANNED PARENTHOOD AFFILIATES PAC (NAPPA PAC)\n",
      "\n",
      "\n",
      "\t RIKO MENDEZ\n",
      "\n",
      "\n",
      "\t\t SERVICE EMPLOYEES INTERNATIONAL UNION LOCAL 521 INDEPENDENT EXPENDITURE COMMITTEE\n",
      "\n",
      "\n",
      "\t MARK SHEAHAN\n",
      "\n",
      "\n",
      "\t\t PROFESSIONAL ENGINEERS IN CALIFORNIA GOVERNMENT FEDERAL PAC (PECG FED-PAC)\n",
      "\n",
      "\n",
      "\t MICHAEL LAYTON\n",
      "\n",
      "\n",
      "\t\t SOUTHERN CALIFORNIA PIPE TRADES DISTRICT COUNCIL 16 FEDERAL PAC\n",
      "\n",
      "\n",
      "\t VIMAL NANAVATI\n",
      "\n",
      "\n",
      "\t\t CALIFORNIA MEDICAL ASSOCIATION POLITICAL ACTION COMMITTEE - FEDERAL\n",
      "\n",
      "\n",
      "\n",
      "\n",
      "499 SOUTH CAPITOL ST SW, WASHINGTON, DC 20003\n",
      "\n",
      "\n",
      "\t THOMAS DATWYLER\n",
      "\n",
      "\n",
      "\t\t ABOVE POLITICS\n",
      "\t\t BISHOP HUIZENGA WALBERG VICTORY COMMITTEE\n",
      "\t\t BUILDING NEW MEXICO\n",
      "\t\t DAVIDSON VICTORY FUND\n",
      "\t\t DRAIN THE SWAMP OHIO\n",
      "\t\t FIGHTING FOR CALIFORNIA\n",
      "\t\t FLIGHT PATH AMERICA PAC\n",
      "\t\t GEM PAC\n",
      "\t\t LEAD ENCOURAGE ELECT PAC\n",
      "\t\t LIBERTY OHIO ACTION FUND\n",
      "\t\t ON AZIMUTH PAC\n",
      "\t\t POLIQUIN VICTORY FUND\n",
      "\t\t PROTECTING ARIZONA\n",
      "\t\t RED TIDE PAC\n",
      "\t\t RODNEY DAVIS VICTORY FUND\n",
      "\t\t RODNEY ILLINOIS VICTORY FUND\n",
      "\t\t SAVE OUR FUTURE PAC\n",
      "\t\t YUGE PAC\n",
      "\t\t YUGE POLITICAL ACTION COMMITTEE\n",
      "\n",
      "\n",
      "\t RANDALL BROZ\n",
      "\n",
      "\n",
      "\t\t EDPAC\n",
      "\t\t WHO DAT PAC\n",
      "\n",
      "\n",
      "\t PAUL KIRCHNER\n",
      "\n",
      "\n",
      "\t\t AMERICAN PILOTS' ASSOCIATION POLITICAL ACTION COMMITTEE\n",
      "\n",
      "\n",
      "\t JOHN CLYBURN\n",
      "\n",
      "\n",
      "\t\t BUILDING RELATIONSHIPS IN DIVERSE GEOGRAPHIC ENVIRONMENTS PAC (BRIDGE PAC)\n",
      "\n",
      "\n",
      "\t LINDSAY ANGERHOLZER\n",
      "\n",
      "\n",
      "\t\t THE US CAMPAIGN FUND\n",
      "\n",
      "\n",
      "\n",
      "\n",
      "901 N WASHINGTON ST, ALEXANDRIA, VA 22314\n",
      "\n",
      "\n",
      "\t TIMOTHY KOCH\n",
      "\n",
      "\n",
      "\t\t 2018 REPUBLICAN CHALLENGERS FUND (2018 RCF)\n",
      "\t\t 2018 REPUBLICAN CHALLENGERS FUND II\n",
      "\t\t BARRASSO FISCHER VICTORY FUND\n",
      "\t\t BARRASSO HELLER VICTORY FUND\n",
      "\t\t BARRASSO VICTORY COMMITTEE\n",
      "\t\t BOOZMAN VICTORY 2016\n",
      "\t\t COMMON VALUES PAC\n",
      "\t\t DESANTIS VICTORY COMMITTEE\n",
      "\t\t FIRST PRINCIPLES FUND\n",
      "\t\t INHOFE MULLIN VICTORY FUND\n",
      "\t\t INHOFE VICTORY COMMITTEE 2020\n",
      "\t\t TRUE NORTH PAC\n",
      "\t\t WINSOME LEADERS I\n",
      "\t\t WINSOME LEADERS II\n",
      "\t\t YODER KANSAS VICTORY FUND\n",
      "\t\t YODER VICTORY FUND\n",
      "\n",
      "\n",
      "\t THEODORE KOCH\n",
      "\n",
      "\n",
      "\t\t ANN MARIE PAC\n",
      "\t\t COLLINS VICTORY COMMITTEE\n",
      "\t\t COMMON SENSE WOMEN\n",
      "\t\t KELLY PAC\n",
      "\t\t REPUBLICAN MAJORITY FUND\n",
      "\t\t SANTORUM PATRIOT VOICES FUND\n",
      "\n",
      "\n",
      "\t ANTHONY HOLM\n",
      "\n",
      "\n",
      "\t\t SPEAK OUT FOR AMERICA PAC\n",
      "\n",
      "\n",
      "\t MARK BLOCK\n",
      "\n",
      "\n",
      "\t\t RESTORING AMERICA'S TRADITIONS PAC (RATPAC)\n",
      "\n",
      "\n",
      "\n",
      "\n",
      "120 MARYLAND AVE NE, WASHINGTON, DC 20002\n",
      "\n",
      "\n",
      "\t LAURA MATTHEWS\n",
      "\n",
      "\n",
      "\t\t CALIFORNIA SENATE VICTORY 2018\n",
      "\t\t FLORIDA SENATE 2016\n",
      "\t\t FLORIDA SENATE RECOUNT 2018\n",
      "\t\t HOUSE SENATE VICTORY FUND\n",
      "\t\t MASSACHUSETTS SENATE VICTORY 2018\n",
      "\t\t MCCASKILL 2018 VICTORY\n",
      "\t\t MCCASKILL SENATE VICTORY 2018\n",
      "\t\t MICHIGAN SENATE VICTORY 2018\n",
      "\t\t MINNESOTA SENATE VICTORY 2018\n",
      "\t\t NEVADA LEGACY FUND\n",
      "\t\t NEVADA SENATE VICTORY 2018\n",
      "\t\t NEW MEXICO SENATE VICTORY 2018\n",
      "\t\t OHIO 2018 VICTORY\n",
      "\t\t OHIO SENATE VICTORY 2018\n",
      "\t\t PENNSYLVANIA SENATE VICTORY 2018\n",
      "\t\t RHODE ISLAND SENATE VICTORY 2018\n",
      "\t\t SENATE IMPACT: FLORIDA\n",
      "\t\t VIRGINIA SENATE VICTORY 2018\n",
      "\t\t WISCONSIN SENATE VICTORY 2018\n",
      "\t\t WOMEN ON THE ROAD 2018\n",
      "\t\t WOMEN ON THE ROAD CALIFORNIA 2018\n",
      "\t\t WOMEN ON THE ROAD SEATTLE 2018\n",
      "\n",
      "\n",
      "\t YATES BAROODY\n",
      "\n",
      "\n",
      "\t\t GRASSROOTS VICTORY FUND 2016\n",
      "\n",
      "\n",
      "\t ALLISON WRIGHT\n",
      "\n",
      "\n",
      "\t\t DSCC\n",
      "\n",
      "\n",
      "\n",
      "\n",
      "249 E OCEAN BLVD, LONG BEACH, CA 90802\n",
      "\n",
      "\n",
      "\t DAVID GOULD\n",
      "\n",
      "\n",
      "\t\t CALIFORNIA ARMENIAN AMERICAN DEMOCRATS\n",
      "\t\t CALIFORNIA YOUNG DEMOCRATS FED PAC\n",
      "\t\t CANADA CRESCENTA DEMOCRATIC CLUB\n",
      "\t\t CITIZENS FOR WATERS\n",
      "\t\t DEMOCRATIC CLUB OF THE PASADENA FOOTHILLS\n",
      "\t\t DEMOCRATIC PARTY OF ORANGE COUNTY FED PAC\n",
      "\t\t DEMOCRATIC PARTY OF THE SAN FERNANDO VALLEY\n",
      "\t\t DEMOCRATS FOR ISRAEL\n",
      "\t\t GLENDALE DEMOCRATIC CLUB\n",
      "\t\t GOLDEN STATE POLITICAL ACTION COMMITTEE\n",
      "\t\t MIND MATTERS FEDERAL PAC\n",
      "\t\t NEW VOTER PAC\n",
      "\t\t ORANGE COUNTY VICTORY FUND\n",
      "\t\t ORANGE COUNTY YOUNG DEMOCRATS FEDERAL\n",
      "\t\t PASADENA AREA UNITED DEMOCRATIC HEADQUARTERS\n",
      "\t\t PEOPLE HELPING PEOPLE\n",
      "\t\t STONEWALL DEMOCRATIC CLUB FED PAC\n",
      "\t\t WEST LOS ANGELES HEALTH PAC - FEDERAL\n",
      "\t\t WESTSIDE DEMOCRATIC HQ FEDERAL\n",
      "\n",
      "\n",
      "\t CAROL ROBB\n",
      "\n",
      "\n",
      "\t\t SAN BERNARDINO COUNTY DEMOCRATIC CENTRAL COMMITTEE\n",
      "\n",
      "\n",
      "\t SARAH RASCON\n",
      "\n",
      "\n",
      "\t\t NORTHEAST DEMOCRATIC CLUB\n",
      "\n",
      "\n",
      "\t ALICA GALLAGHER\n",
      "\n",
      "\n",
      "\t\t TAKE A SEAT AMERICA\n",
      "\n",
      "\n",
      "\n",
      "\n",
      "PO BOX 2485, SPRINGFIELD, VA 22152\n",
      "\n",
      "\n",
      "\t ROBERT CARLIN\n",
      "\n",
      "\n",
      "\t\t BRADY CURBELO TIBERI VICTORY 2017\n",
      "\t\t CATHY MCMORRIS RODGERS VICTORY FUND\n",
      "\t\t CAVPAC\n",
      "\t\t CMR POLITICAL ACTION COMMITTEE\n",
      "\t\t COME BACK POLITICAL ACTION COMMITTEE\n",
      "\t\t GIVING US SECURITY POLITICAL ACTION COMMITTEE (GUS PAC)\n",
      "\t\t HUIZENGA VICTORY FUND\n",
      "\t\t LEADERS ONLY UNITE POLITICAL ACTION COMMITTEE (AKA LOU PAC)\n",
      "\t\t LIMITED GOVERNMENT, OPPORTUNITY AND VALUES PAC (LOV PAC)\n",
      "\t\t LOVE VICTORY COMMITTEE\n",
      "\t\t MAKING AMERICA PROSPEROUS PAC\n",
      "\t\t MCMORRIS RODGERS AMERICAN DREAM PROJECT; THE\n",
      "\t\t RELIGHT AMERICA PAC\n",
      "\t\t ROLL ON COLUMBIA POLITICAL ACTION COMMITTEE\n",
      "\t\t ROTHFUS VICTORY COMMITTEE\n",
      "\t\t SPEAK UP AMERICA POLITICAL ACTION COMMITTEE\n",
      "\t\t THE EYE OF THE TIGER POLITICAL ACTION COMMITTEE\n",
      "\t\t TRUTH IS MARKETS WORK FUND A/K/A TIM W FUND\n",
      "\t\t UPPER HAND FUND\n",
      "\n",
      "\n",
      "\t GAUTAM SAMADDER\n",
      "\n",
      "\n",
      "\t\t ASSOCIATION OF PHYSICIANS OF INDIAN ORIGIN POLITICAL ACTION COMMITTEE\n",
      "\n",
      "\n",
      "\t JOE GRANDY\n",
      "\n",
      "\n",
      "\t\t HEALTHCARE FREEDOM FUND\n",
      "\n",
      "\n",
      "\n",
      "\n",
      "1001 PENNSYLVANIA AVE NW, WASHINGTON, DC 20004\n",
      "\n",
      "\n",
      "\t SLOANE SKINNER\n",
      "\n",
      "\n",
      "\t\t B-PAC\n",
      "\t\t CITIZENS FOR COMMON SENSE USA\n",
      "\t\t CONSERVATIVE UTAH\n",
      "\t\t CONSERVATIVES FOR PA\n",
      "\t\t FREEDOM BUILDERS, INC\n",
      "\t\t FREEDOM FUND INDEPENDENT COMMITTEE\n",
      "\t\t KEYSTONE COURAGE\n",
      "\t\t NEW YORK JOBS COUNCIL\n",
      "\t\t OHIO FREEDOM FUND\n",
      "\n",
      "\n",
      "\t CHARLES GANTT\n",
      "\n",
      "\n",
      "\t\t MAVERICK ACTION, INC.\n",
      "\t\t NATIONAL LEADERSHIP COUNCIL PAC\n",
      "\n",
      "\n",
      "\t CHARLES SPIES\n",
      "\n",
      "\n",
      "\t\t CONSERVATIVE LOUISIANA\n",
      "\t\t RESTORE OUR FUTURE, INC.\n",
      "\n",
      "\n",
      "\t CARL BEARDEN\n",
      "\n",
      "\n",
      "\t\t MISSOURI FREEDOM BUILDERS, INC.\n",
      "\n",
      "\n",
      "\t (no treasurer listed)\n",
      "\n",
      "\n",
      "\t\t NATIONAL SECURITY AND OPPORTUNITY FUND\n",
      "\n",
      "\n",
      "\t STACEY DION\n",
      "\n",
      "\n",
      "\t\t CIM (DELAWARE), INC PAC (AKA\"CARLYLE PAC\n",
      "\n",
      "\n",
      "\t JULIE DOZIER\n",
      "\n",
      "\n",
      "\t\t TENTH AMENDMENT ACTION PROJECT\n",
      "\n",
      "\n",
      "\t GREG ELLIOTT\n",
      "\n",
      "\n",
      "\t\t WEST VIRGINIA FREEDOM BUILDERS INC\n",
      "\n",
      "\n",
      "\t DEREK ROSS\n",
      "\n",
      "\n",
      "\t\t CITIZENS FOR A STRONGER NEW JERSEY\n",
      "\n",
      "\n",
      "\t KEVIN RIORDAN\n",
      "\n",
      "\n",
      "\t\t ANTHEM, INC. POLITICAL ACTION COMMITTEE (ANTHEM PAC)\n",
      "\n",
      "\n",
      "\n",
      "\n",
      "701 8TH ST NW, WASHINGTON, DC 20001\n",
      "\n",
      "\n",
      "\t MEREDITH LESHER\n",
      "\n",
      "\n",
      "\t\t CENTER FOR SPORTFISHING POLICY POLITICAL ACTION COMMITTEE AKA CENTER PAC\n",
      "\t\t CONCHO RESOURCES INC PAC\n",
      "\t\t IDAHO CONSERVATIVE GROWTH FUND\n",
      "\t\t OUTPATIENT OPHTHALMIC SURGERY SOCIETY POLITICAL ACTION COMMITTEE\n",
      "\t\t RICH POLITICAL ACTION COMMITTEE\n",
      "\t\t TOM JAMES COMPANY POLITICAL ACTION COMMITTEE\n",
      "\t\t VALUE IN ELECTING WOMEN POLITICAL ACTION COMMITTEE\n",
      "\t\t WILLIAMS AND JENSEN, PLLC POLITICAL ACTION COMMITTEE\n",
      "\t\t ZOETIS GOOD GOVERNMENT FUND\n",
      "\n",
      "\n",
      "\t BENJAMIN BUTTERFIELD\n",
      "\n",
      "\n",
      "\t\t GROWTH ENERGY PAC\n",
      "\n",
      "\n",
      "\t STUART SANDER\n",
      "\n",
      "\n",
      "\t\t FUNDING DEVELOPING LEADERSHIP POLITICAL ACTION COMMITTEE AKA FDL PAC\n",
      "\n",
      "\n",
      "\t AMANDA HOYT\n",
      "\n",
      "\n",
      "\t\t CHENIERE ENERGY, INC. PAC\n",
      "\n",
      "\n",
      "\t LANCE KOLBET\n",
      "\n",
      "\n",
      "\t\t FREEDOM FUND\n",
      "\n",
      "\n",
      "\t SCOTT GRAVES\n",
      "\n",
      "\n",
      "\t\t AMERICAN ASSOCIATION OF CROP INSURERS PAC\n",
      "\n",
      "\n",
      "\t ERIC SWANSON\n",
      "\n",
      "\n",
      "\t\t BATS GLOBAL MARKETS, INC POLITICAL ACTION COMMITTEE\n",
      "\n",
      "\n",
      "\t WILLIAM HORAN\n",
      "\n",
      "\n",
      "\t\t FEDERATION OF EXCHANGE ACCOMODATORS 1031 PAC\n",
      "\n",
      "\n",
      "\t CARLA CAMACHO\n",
      "\n",
      "\n",
      "\t\t ERISA INDUSTRY COMMITTEE POLITICAL ACTION COMMITTEE; THE (ERIC PAC)\n",
      "\n",
      "\n",
      "\t CLAY PARKER DAVIS\n",
      "\n",
      "\n",
      "\t\t HELP AMERICA'S LEADERS POLITICAL ACTION COMMITTEE (HALPAC)\n",
      "\n",
      "\n",
      "\t GREG POLK\n",
      "\n",
      "\n",
      "\t\t STANLEY BLACK & DECKER, INC. POLITICAL ACTION COMMITTEE\n",
      "\n",
      "\n",
      "\t KIMBERLY VANWYHE\n",
      "\n",
      "\n",
      "\t\t DENALI LEADERSHIP PAC\n",
      "\n",
      "\n",
      "\n",
      "\n",
      "nan, nan, nan nan\n",
      "\n",
      "\n",
      "\t (no treasurer listed)\n",
      "\n",
      "\n",
      "\t\t (cmte_nm missing)\n",
      "\t\t BLACK VOTERS MATTER FUND INC\n",
      "\t\t CARLA SPALDING FOR U.S. CONGRESS\n",
      "\t\t DONOGHUE, MARGUERITE\n",
      "\t\t LASKER, MARY W\n",
      "\t\t LIDRON, PETER M\n",
      "\t\t LIERMAN, TERRY\n",
      "\t\t NOWGOVOTE\n",
      "\t\t PETER C FOY\n",
      "\n",
      "\n",
      "\t NANA TCHIENKOU\n",
      "\n",
      "\n",
      "\t\t NANA FOR SENATE\n",
      "\n",
      "\n",
      "\t PAIGE CASSIDY\n",
      "\n",
      "\n",
      "\t\t AT&T CORP\n",
      "\n",
      "\n",
      "\t RUBY GEORGE\n",
      "\n",
      "\n",
      "\t\t DUVAL TEACHERS UNITED\n",
      "\n",
      "\n",
      "\n",
      "\n",
      "PO BOX 83142, GAITHERSBURG, MD 20883\n",
      "\n",
      "\n",
      "\t VICKIE WINPISINGER\n",
      "\n",
      "\n",
      "\t\t COMMITTEE FOR MIDWEST PRIORITIES\n",
      "\t\t DAWG PAC - DEMOCRATS AGAINST WASTE IN GOVERNMENT\n",
      "\t\t DEMOCRATS WIN SEATS (DWS PAC)\n",
      "\t\t DWS VICTORY FUND\n",
      "\t\t HARVEST PAC\n",
      "\t\t JOINING IDEAS TO MOTIVATE MOVEMENT FOR YOU (JIMMY PAC)\n",
      "\t\t PROGRESS PAC\n",
      "\t\t THE GPS VICTORY FUND\n",
      "\t\t TIM RYAN VICTORY FUND\n",
      "\n",
      "\n",
      "\t JOHN CAREY\n",
      "\n",
      "\n",
      "\t\t GREAT AMERICAN FUND\n",
      "\n",
      "\n",
      "\t ERIC LEAVITT\n",
      "\n",
      "\n",
      "\t\t SKIPAC\n",
      "\n",
      "\n",
      "\t MARLENE MOSS\n",
      "\n",
      "\n",
      "\t\t GREATER OPPORTUNITIES FOR LEADERSHIP DEVELOPMENT (GOLD PAC)\n",
      "\n",
      "\n",
      "\t MOLLY ALLEN TUESCA\n",
      "\n",
      "\n",
      "\t\t FUTURE FORUM PAC\n",
      "\n",
      "\n",
      "\t MICHAEL FERRELL\n",
      "\n",
      "\n",
      "\t\t LAB PAC\n",
      "\n",
      "\n",
      "\t ALLEN RYAN\n",
      "\n",
      "\n",
      "\t\t AMERICA 2.0 PAC\n",
      "\n",
      "\n",
      "\t RONALD JACOBS\n",
      "\n",
      "\n",
      "\t\t VEN-PAC\n",
      "\n",
      "\n",
      "\t TINA THOMAS\n",
      "\n",
      "\n",
      "\t\t SAC PAC\n",
      "\n",
      "\n",
      "\t KURT SCHRADER\n",
      "\n",
      "\n",
      "\t\t BLUE DOG POLITICAL ACTION COMMITTEE\n",
      "\n",
      "\n",
      "\t MARK LEVY\n",
      "\n",
      "\n",
      "\t\t BRIDGE THE GAP PAC\n",
      "\n",
      "\n",
      "\n",
      "\n",
      "525 E SEASIDE WAY, LONG BEACH, CA 90802\n",
      "\n",
      "\n",
      "\t GARY CRUMMITT\n",
      "\n",
      "\n",
      "\t\t A PROGRESSIVE CALIFORNIA\n",
      "\t\t AJA BROWN FOR CONGRESS\n",
      "\t\t ANIMAL PAC\n",
      "\t\t BEACH CITIES DEMOCRATS - FEDERAL\n",
      "\t\t BRYAN WITT FOR CONGRESS\n",
      "\t\t CAIR-CA PAC\n",
      "\t\t DEMOC PAC\n",
      "\t\t DEMOCRACY AND PROGRESS\n",
      "\t\t GLOBAL TRADE AND COMMERCE FEDERAL PAC\n",
      "\t\t JOSHUA SCOTT FOR CONGRESS\n",
      "\t\t KOREAN AMERICAN DEMOCRATIC COMMITTEE\n",
      "\t\t LAMBDA DEMOCRATIC CLUB\n",
      "\t\t LOS ANGELES COUNTY ASIAN AMERICAN & PACIFIC ISLANDER DEMOCRATS -FEDERAL\n",
      "\t\t TURKISH COALITION CALIFORNIA PAC (TC-CAL PAC)\n",
      "\t\t WEST END DEMOCRATIC CLUB - FEDERAL\n",
      "\t\t WEST HOLLYWOOD/BEVERLY HILLS DEMOCRATIC HEADQUARTERS COMMITTEE\n",
      "\t\t WRIGHT FOR CONGESS\n",
      "\t\t YOUNG AWARE AMERICANS PAC\n",
      "\n",
      "\n",
      "\n",
      "\n",
      "PO BOX 97275, RALEIGH, NC 27624\n",
      "\n",
      "\n",
      "\t COLLIN MCMICHAEL\n",
      "\n",
      "\n",
      "\t\t BUDD NORTH CAROLINA VICTORY FUND 2018\n",
      "\t\t BUDD VICTORY\n",
      "\t\t BURR NC VICTORY FUND\n",
      "\t\t CONSERVATIVE ROUNDTABLE\n",
      "\t\t GEORGE HOLDING VICTORY COMMITTEE 2018\n",
      "\t\t HARRIS LEADERSHIP FUND\n",
      "\t\t HOLD THE MAJORITY\n",
      "\t\t HOLDING ROUZER MAJORITY COMMITTEE\n",
      "\t\t NC LPAC VICTORY COMMITTEE\n",
      "\t\t NUNES HOLDING MAJORITY COMMITTEE\n",
      "\t\t OLD NORTH STATE PAC\n",
      "\t\t THE HOLDING VICTORY FUND\n",
      "\t\t TOGETHER HOLDING OUR MAJORITY PAC\n",
      "\t\t WALKER FREEDOM FUND\n",
      "\t\t YOUR VOICE COUNTS\n",
      "\n",
      "\n",
      "\t (no treasurer listed)\n",
      "\n",
      "\n",
      "\t\t EASTERN CAROLINA CONSERVATIVE FUND\n",
      "\n",
      "\n",
      "\t DANIEL GURLEY\n",
      "\n",
      "\n",
      "\t\t CITIZENS FOR RESPONSIBLE LEADERSHIP\n",
      "\n",
      "\n",
      "\t PAUL NORCROSS\n",
      "\n",
      "\n",
      "\t\t CITIZENS UNITED FOR EDUCATION\n",
      "\n",
      "\n",
      "\n",
      "\n",
      "332 W LEE HWY, WARRENTON, VA 20186\n",
      "\n",
      "\n",
      "\t STEVE RALLS\n",
      "\n",
      "\n",
      "\t\t ANDY BARR VICTORY COMMITTEE\n",
      "\t\t BLUEGRASS VICTORY COMMITTEE\n",
      "\t\t BOOTS POLITICAL ACTION COMMITTEE\n",
      "\t\t CAPITO VICTORY COMMITTEE\n",
      "\t\t CHRIN WEBBER VICTORY COMMITTEE\n",
      "\t\t DEEDS NOT WORDS POLITICAL ACTION COMMITTEE\n",
      "\t\t FRIENDS OF ANDY BARR COMMITTEE\n",
      "\t\t FUNDING REPUBLICANS SUPPORTING OPPORTUNITY AND GROWTH - JUMP POLITICAL ACTION COMMITTEE\n",
      "\t\t MULLIN VICTORY FUND\n",
      "\t\t SASSE LEADERSHIP COMMITTEE\n",
      "\t\t SENSIBLE AMERICAN SOLUTIONS SUPPORTING EVERYONE PAC\n",
      "\t\t STAUBER VICTORY FUND\n",
      "\t\t STEVE RUSSELL VICTORY FUND\n",
      "\t\t WEBBER VICTORY COMMITTEE\n",
      "\t\t WILD AND WONDERFUL PAC\n",
      "\n",
      "\n",
      "\t JACQUELINE PONDER\n",
      "\n",
      "\n",
      "\t\t COLORADANS FOR FAMILY, MILITARY, AND NATION PAC\n",
      "\n",
      "\n",
      "\t CHARLIE GRIZZLE\n",
      "\n",
      "\n",
      "\t\t BUILDING AMERICA'S REPUBLICAN REPRESENTATION PAC\n",
      "\n",
      "\n",
      "\n",
      "\n",
      "1390 CHAIN BRIDGE RD, MCLEAN, VA 22101\n",
      "\n",
      "\n",
      "\t CABELL HOBBS\n",
      "\n",
      "\n",
      "\t\t DALLAS ENTREPRENEURS - SESSIONS 2018 FUND\n",
      "\t\t DEFENDING AMERICAN VALUES EVERYWHERE PAC (DAVE PAC)\n",
      "\t\t GIANFORTE-ROSENDALE FUND\n",
      "\t\t NEW OC FUTURE PAC\n",
      "\t\t NOEM-RHODEN VICTORY COMMITTEE\n",
      "\t\t RED SENTINEL\n",
      "\t\t RED SENTINEL PAC\n",
      "\t\t TRANSPARENCY IN GOVERNMENT PAC\n",
      "\n",
      "\n",
      "\t MELODIE JOHNSON\n",
      "\n",
      "\n",
      "\t\t AMERICAN UPRISING 2020\n",
      "\t\t EXCELSIORNY PAC\n",
      "\t\t FREEDOMWORKS VICTORY COMMITTEE\n",
      "\t\t IRON DOME ALLIANCE\n",
      "\n",
      "\n"
     ]
    },
    {
     "name": "stdout",
     "output_type": "stream",
     "text": [
      "\t WILLIAM OZANUS\n",
      "\n",
      "\n",
      "\t\t C3 PAC\n",
      "\t\t CIVIC\n",
      "\t\t CONSERVATIVE VOICES PAC\n",
      "\n",
      "\n",
      "\t CHRISTIAN RICKERS\n",
      "\n",
      "\n",
      "\t\t AMERICAN UPRISING PAC\n",
      "\n",
      "\n",
      "\n",
      "\n",
      "C/O RED CURVE SOLUTIONS, BEVERLY, MA 01915\n",
      "\n",
      "\n",
      "\t BRADLEY CRATE\n",
      "\n",
      "\n",
      "\t\t BELIEVE IN AMERICA PAC\n",
      "\t\t CONSERVATIVE FIGHTER FUND\n",
      "\t\t GOLDEN STATE LEADERSHIP PAC\n",
      "\t\t HURD VICTORY FUND\n",
      "\t\t KENNEDY CLUB COMMITTEE\n",
      "\t\t MAVERICK PAC USA\n",
      "\t\t MOONEY VICTORY FUND\n",
      "\t\t PETER TEDESCHI VICTORY COMMITTEE\n",
      "\t\t RESCHENTHALER VICTORY FUND\n",
      "\t\t RVFPAC\n",
      "\t\t SCHNEIDER VICTORY\n",
      "\t\t STRENGTHEN AMERICA COMMITTEE\n",
      "\t\t TEAM MITT\n",
      "\t\t TRUMP MAKE AMERICA GREAT AGAIN COMMITTEE\n",
      "\t\t TRUMP VICTORY\n",
      "\n",
      "\n",
      "\n",
      "\n",
      "601 PENNSYLVANIA AVE NW, WASHINGTON, DC 20004\n",
      "\n",
      "\n",
      "\t CHARLES SPIES\n",
      "\n",
      "\n",
      "\t\t CLARK HILL FEDERAL POLITICAL ACTION COMMITTEE, THE\n",
      "\t\t FUND FOR LOUISIANA'S FUTURE; THE\n",
      "\n",
      "\n",
      "\t EILEEN BRADEN\n",
      "\n",
      "\n",
      "\t\t JPMORGAN CHASE & CO. FEDERAL POLITICAL ACTION COMMITTEE\n",
      "\t\t JPMORGAN CHASE & CO. PAC\n",
      "\n",
      "\n",
      "\t EARL JONES\n",
      "\n",
      "\n",
      "\t\t HAIER US APPLIANCE SOLUTIONS, INC., DBA GE APPLIANCES POLITICAL ACTION COMMITTEE\n",
      "\n",
      "\n",
      "\t MICHAEL KLOBUCHAR\n",
      "\n",
      "\n",
      "\t\t MERCK & CO., INC., EMPLOYEES POLITICAL ACTION COMMITTEE (MERCK PAC)\n",
      "\n",
      "\n",
      "\t RYAN RIESTERER\n",
      "\n",
      "\n",
      "\t\t NATIONAL ASSOCIATION OF MORTGAGE BROKERS\n",
      "\n",
      "\n",
      "\t EMILY DIEDRICH FOSTER\n",
      "\n",
      "\n",
      "\t\t CUMMINS INC. POLITICAL ACTION COMMITTEE (CIPAC)\n",
      "\n",
      "\n",
      "\t DAWN BANDA\n",
      "\n",
      "\n",
      "\t\t AMERICAS HEALTH INSURANCE PLANS PAC (AHIP PAC)\n",
      "\n",
      "\n",
      "\t (no treasurer listed)\n",
      "\n",
      "\n",
      "\t\t NATIONAL ASSOCIATION OF WOMEN BUSINESS OWNERS-PAC\n",
      "\n",
      "\n",
      "\t ANTHONY RUSSO\n",
      "\n",
      "\n",
      "\t\t T-MOBILE USA, INC.  POLITICAL ACTION COMMITTEE (T-PAC)\n",
      "\n",
      "\n",
      "\t EMILY ROY\n",
      "\n",
      "\n",
      "\t\t NATIONAL WEATHER SERVICE EMPLOYEES ORGANIZATION POLITICAL ACTION COMMITTEE\n",
      "\n",
      "\n",
      "\t TRACY HUCKINS\n",
      "\n",
      "\n",
      "\t\t DEMOCRATS FOR LIFE OF AMERICA INDEPENDENT PAC\n",
      "\n",
      "\n",
      "\t JAMES ORCUTT\n",
      "\n",
      "\n",
      "\t\t PHILLIPS 66 PAC\n",
      "\n",
      "\n",
      "\t ROQUITA COLEMAN-WILLIAMS\n",
      "\n",
      "\n",
      "\t\t GRAND TRUNK WESTERN RAILROAD CO. - ILLINOIS CENTRAL RAILROAD CO. PAC (GTW-IC PAC)\n",
      "\n",
      "\n",
      "\n",
      "\n",
      "PO BOX 751271, LAS VEGAS, NV 89136\n",
      "\n",
      "\n",
      "\t CHRISSIE HASTIE\n",
      "\n",
      "\n",
      "\t\t FULL HOUSE PAC\n",
      "\t\t HARDY NEVADA VICTORY FUND\n",
      "\t\t HARDY STEWART VICTORY COMMITTEE\n",
      "\t\t HARDY TARKANIAN VICTORY COMMITTEE\n",
      "\t\t HECK YEAH!\n",
      "\t\t HELLER SENATE VICTORY COMMITTEE\n",
      "\t\t MORNING IN AMERICA PAC\n",
      "\t\t TEAM HARDY NEVADA TOUGH VICTORY FUND\n",
      "\t\t THE PORTER GROUP PAC\n",
      "\t\t WIN NEVADA\n",
      "\n",
      "\n",
      "\t RYAN PHILLIPS\n",
      "\n",
      "\n",
      "\t\t 2016 SENATE MAJORITY COMMITTEE\n",
      "\t\t HECK HARDY NEVADA VICTORY COMMITTEE\n",
      "\t\t HELLER FLAKE VICTORY COMMITTEE\n",
      "\t\t HELLER NEVADA VICTORY FUND\n",
      "\n",
      "\n",
      "\n",
      "\n",
      "2150 RIVER PLAZA DR, SACRAMENTO, CA 95833\n",
      "\n",
      "\n",
      "\t DAVID BAUER\n",
      "\n",
      "\n",
      "\t\t AMERICAN FREE ENTERPRISE PAC\n",
      "\t\t AMERICANS FOR ACCOUNTABILITY IN LEADERSHIP\n",
      "\t\t ATLAS PAC, FEDERAL\n",
      "\t\t CALIFORNIA COAST CREDIT UNION FEDERAL PAC\n",
      "\t\t DENHAM FOR CONGRESS\n",
      "\t\t DENHAM VICTORY FUND\n",
      "\t\t DOUG LAMALFA COMMITTEE\n",
      "\t\t JEFF PAC\n",
      "\t\t MCCLINTOCK FOR CONGRESS\n",
      "\t\t NORCAL WATER JOBS LIBERTY PAC\n",
      "\t\t SACRAMENTO VALLEY LINCOLN CLUB FEDERAL\n",
      "\t\t SUPERIOR CALIFORNIA FEDERAL LEADERSHIP PAC\n",
      "\t\t TAKING OUR MAJORITY PAC (T.O.M.PAC)\n",
      "\n",
      "\n",
      "\t (no treasurer listed)\n",
      "\n",
      "\n",
      "\t\t AMERICAN SIKHS FOR TRUTH\n",
      "\n",
      "\n",
      "\n",
      "\n",
      "2350 KERNER BLVD, SAN RAFAEL, CA 94901\n",
      "\n",
      "\n",
      "\t JASON KAUNE\n",
      "\n",
      "\n",
      "\t\t BIOMARIN PHARMACEUTICAL INC. POLITICAL ACTION COMMITTEE AKA BIOMARIN PAC\n",
      "\t\t GEP ADMINISTRATIVE SERVICES, INC. EMPLOYEE PAC\n",
      "\t\t NEW MAJORITY FEDERAL PAC\n",
      "\t\t PROFESSIONAL SERVICE INDUSTRIES, INC. POLITICAL ACTION COMMITTEE (PSI PAC)\n",
      "\t\t PROSPECT MEDICAL HOLDINGS, INC. POLITICAL ACTION COMMITTEE (PROSPECTPAC)\n",
      "\n",
      "\n",
      "\t STEVEN LUCAS\n",
      "\n",
      "\n",
      "\t\t MGM RESORTS INTERNATIONAL  PAC\n",
      "\t\t SPOONER'S INDEPENDENT EXPENDITURES\n",
      "\t\t SWITCH, INC. PAC\n",
      "\n",
      "\n",
      "\t CHRISTOPHER SKINNELL\n",
      "\n",
      "\n",
      "\t\t PERFORMANT FINANCIAL CORPORATION POLITICAL ACTION COMMITTEE\n",
      "\t\t PINNACLE ENTERTAINMENT, INC. PAC AKA PINNACLE ENTERTAINMENT PAC\n",
      "\n",
      "\n",
      "\t VIGO NIELSEN\n",
      "\n",
      "\n",
      "\t\t FARMERS GROUP, INC., FARMERS INSURANCE EXCHANGE, FIRE INSURANCE EXCHANGE AND TRUCK INSURANCE EXCHANGE POLITICAL ACTION COMMITTEE AKA FARMERS INSURANCE PAC\n",
      "\t\t WOODWARD, INC. FOR EFFECTIVE GOVERNMENT\n",
      "\n",
      "\n",
      "\t (no treasurer listed)\n",
      "\n",
      "\n",
      "\t\t NEW MAJORITY CALIFORNIA\n",
      "\n",
      "\n",
      "\t MICHAEL COLUMBO\n",
      "\n",
      "\n",
      "\t\t OUTFRONT MEDIA INC POLITICAL ACTION COMMITTEE (OFPAC)\n",
      "\n",
      "\n",
      "\n",
      "\n",
      "119 1ST AVE SOUTH, SEATTLE, WA 98104\n",
      "\n",
      "\n",
      "\t JAY PETTERSON\n",
      "\n",
      "\n",
      "\t\t CANTWELL MURPHY VICTORY FUND\n",
      "\t\t CANTWELL VICTORY 2018\n",
      "\t\t CANTWELL WARREN WASHINGTON VICTORY FUND\n",
      "\t\t CANTWELL-HIRONO VICTORY FUND\n",
      "\t\t CANTWELL-STABENOW VICTORY FUND\n",
      "\t\t CANTWELL-WARREN VICTORY FUND\n",
      "\t\t CANTWELL-WHITEHOUSE VICTORY FUND\n",
      "\t\t FLIP WA BLUE 2018\n",
      "\t\t NEW LEADERS PAC\n",
      "\t\t O'ROURKE WASHINGTON DEMOCRATIC VICTORY FUND\n",
      "\t\t PROGRESS FOR USA PAC\n",
      "\t\t VOTER DEFENSE FUND\n",
      "\t\t VOTER PROTECTION PROJECT\n",
      "\t\t WE REPRESENT\n",
      "\n",
      "\n",
      "\n",
      "\n",
      "PO BOX 75650, WASHINGTON, DC 20013\n",
      "\n",
      "\n",
      "\t JOEL RITER\n",
      "\n",
      "\n",
      "\t\t 21ST CENTURY GRANITE LEADERSHIP\n",
      "\t\t A BETTER GEORGIA PAC\n",
      "\t\t AMERICAN FREEDOM BUILDERS ACTION NETWORK\n",
      "\t\t AMERICAN VALUES FIRST\n",
      "\t\t CITIZENS FOR A WORKING AMERICA PAC\n",
      "\t\t CONCRETE AND PORTLAND CEMENT ACTION NETWORK\n",
      "\t\t FOR A BETTER NEW MEXICO\n",
      "\t\t HAYSGO PAC\n",
      "\t\t MARYLAND USA\n",
      "\t\t OHIO STRONG\n",
      "\t\t PENNSYLVANIA FIRST\n",
      "\t\t PENNSYLVANIANS FOR CONSERVATIVE POLICIES\n",
      "\t\t SAFE STREETS SAFE COMMUNITIES\n",
      "\t\t SECURING LOUISIANA'S FUTURE\n",
      "\n",
      "\n",
      "\n",
      "\n",
      "455 CAPITOL MALL, SACRAMENTO, CA 95814\n",
      "\n",
      "\n",
      "\t THOMAS HILTACHK\n",
      "\n",
      "\n",
      "\t\t CALIFORNIANS FOR FISCAL RESPONSIBILITY\n",
      "\t\t COMPUTING TECHNOLOGY INDUSTRY ASSOCIATION PAC (COMPTIA PAC)\n",
      "\t\t HEALTH NET, INCORPORATED POLITICAL ACTION COMMITTEE\n",
      "\t\t NATIONAL ALLIANCE FOR ENVIRONMENTAL REFORM POLITICAL ACTION COMMITTEE\n",
      "\t\t SPIRIT OF DEMOCRACY AMERICA\n",
      "\t\t STAND WITH AMERICA\n",
      "\t\t VICTORY CALIFORNIA\n",
      "\n",
      "\n",
      "\t (no treasurer listed)\n",
      "\n",
      "\n",
      "\t\t BUSINESS ED POLITICAL ACTION COMMITTEE\n",
      "\t\t ECONOMIC FREEDOM FUND\n",
      "\n",
      "\n",
      "\t ASHLEE TITUS\n",
      "\n",
      "\n",
      "\t\t AVERY DENNISON CORPORATION EMPLOYEE POLITICAL ACTION COMMITTEE (ADEPAC)\n",
      "\t\t STAND WITH AMERICA\n",
      "\n",
      "\n",
      "\t BRIAN HILDRETH\n",
      "\n",
      "\n",
      "\t\t LINCOLN CLUB OF NORTHERN CALIFORNIA FEDERAL PAC\n",
      "\n",
      "\n",
      "\t CHARLES BELL\n",
      "\n",
      "\n",
      "\t\t CHILDREN'S HEALTH, LIFE AND DEVELOPMENT POLITICAL ACTION COMMITTEE (CHLD PAC)\n",
      "\n",
      "\n",
      "\n",
      "\n",
      "815 16TH ST NW, WASHINGTON, DC 20006\n",
      "\n",
      "\n",
      "\t (no treasurer listed)\n",
      "\n",
      "\n",
      "\t\t AFL-CIO COMMITTEE ON POLITICAL EDUCATION TREASURY ACCOUNT\n",
      "\t\t AFL-CIO COMMITTEE ON POLITICAL EDUCATION TREASURY FUND\n",
      "\t\t AMERICAN FEDERATION OF LABOR CONGRESS OF INDUSTRIAL ORGANIZATIONS AFL-CIO\n",
      "\t\t TRANSPORTATION TRADES DEPARTMENT AFL-CIO POLITICAL EDUCATION FUND\n",
      "\t\t WORKING AMERICA\n",
      "\n",
      "\n",
      "\t ELIZABETH SHULER\n",
      "\n",
      "\n",
      "\t\t AFL-CIO \n",
      "\t\t AFL-CIO COPE POLITICAL CONTRIBUTIONS COMMITTEE\n",
      "\t\t AMERICAN FEDERATION OF STATE, COUNTY AND MUNICIPAL EMPLOYEES, AFL-CIO\n",
      "\t\t WORKERS' VOICE\n",
      "\n",
      "\n",
      "\t CRYSTAL KING\n",
      "\n",
      "\n",
      "\t\t WORKING AMERICA COALITION\n",
      "\n",
      "\n",
      "\t GREG REGAN\n",
      "\n",
      "\n",
      "\t\t TRANSPORTATION TRADES DEPARTMENT AFL-CIO POLITICAL ACTION COMMITTEE (TTD/PAC)\n",
      "\n",
      "\n",
      "\t TIM GRAY\n",
      "\n",
      "\n",
      "\t\t WORKING AMERICA\n",
      "\n",
      "\n",
      "\t BRENT BOOKER\n",
      "\n",
      "\n",
      "\t\t NORTH AMERICA'S BUILDING TRADES UNIONS POLITICAL EDUCATIONAL FUND\n",
      "\n",
      "\n",
      "\n",
      "\n",
      "430 SOUTH CAPITOL ST SE, WASHINGTON, DC 20003\n",
      "\n",
      "\n",
      "\t TARYN VOGEL\n",
      "\n",
      "\n",
      "\t\t BAER 2018 VICTORY FUND\n",
      "\t\t MUCARSEL-POWELL 2018 VICTORY FUND\n",
      "\t\t SHAPIRO 2018 VICTORY FUND\n",
      "\t\t SODERBERG 2018 VICTORY FUND\n",
      "\n",
      "\n",
      "\t DANIEL SENA\n",
      "\n",
      "\n",
      "\t\t DCCC\n",
      "\t\t NEW JERSEY HOUSE VICTORY FUND\n",
      "\t\t VIRGINIA HOUSE VICTORY FUND\n",
      "\n",
      "\n",
      "\t WILLIAM DERROUGH\n",
      "\n",
      "\n",
      "\t\t DEMOCRATIC NATIONAL COMMITTEE - TRAVEL OFFSET ACCOUNT\n",
      "\t\t DEMOCRATIC PROPERTIES CORPORATION-FEDERAL\n",
      "\t\t DNC SERVICES CORP./DEM. NAT'L COMMITTEE\n",
      "\n",
      "\n",
      "\t JOSEPH SMOLSKIS\n",
      "\n",
      "\n",
      "\t\t DEMOCRATIC GRASSROOTS VICTORY FUND\n",
      "\t\t DEMOCRATIC HOPE FUND\n",
      "\n",
      "\n",
      "\t MANISHA PATEL\n",
      "\n",
      "\n",
      "\t\t DEMOCRATIC NATIONAL CONVENTION COMMITTEE 2016\n",
      "\n",
      "\n",
      "\n",
      "\n",
      "499 S CAPITOL ST SW, WASHINGTON, DC 20003\n",
      "\n",
      "\n",
      "\t LINDSAY ANGERHOLZER\n",
      "\n",
      "\n",
      "\t\t DEMOCRATS UNITED TO CHANGE AND HOPE PAC\n",
      "\t\t EVERGREEN PAC\n",
      "\t\t FRIENDS OF JOHN SARBANES\n",
      "\t\t MAKING A REAL CHANGE - MARC PAC\n",
      "\t\t TAKING THE HILL PAC\n",
      "\t\t TOGETHER EVERYONE REALIZES REAL IMPACT AKA TERRI PAC\n",
      "\n",
      "\n",
      "\t RANDALL BROZ\n",
      "\n",
      "\n",
      "\t\t FIERCE PAC\n",
      "\t\t MILK RIVER PAC\n",
      "\n",
      "\n",
      "\t THOMAS DATWYLER\n",
      "\n",
      "\n",
      "\t\t CONSERVATIVE TRUST OF AMERICA\n",
      "\t\t RESTORING OUR DEMOCRACY (ROD PAC)\n",
      "\n",
      "\n",
      "\t ROD KASSIR\n",
      "\n",
      "\n",
      "\t\t BRAVE PAC\n",
      "\n",
      "\n",
      "\t PLURIA WILLIAM MARSHALL\n",
      "\n",
      "\n",
      "\t\t BOULE' 1904 PAC\n",
      "\n",
      "\n",
      "\t DAVID YOUNGBLOOD\n",
      "\n",
      "\n",
      "\t\t PROTECTING OUR VOTE FEDERAL PAC\n",
      "\n",
      "\n",
      "\n",
      "\n",
      "101 CONSTITUTION AVE NW, WASHINGTON, DC 20001\n",
      "\n",
      "\n",
      "\t (no treasurer listed)\n",
      "\n",
      "\n",
      "\t\t FUELS AMERICA\n",
      "\t\t UNITED BROTHERHOOD OF CARPENTERS AND JOINERS OF AMERICA\n",
      "\n",
      "\n",
      "\t RICHARDSON NOLAN\n",
      "\n",
      "\n",
      "\t\t COALPAC, A POLITICAL ACTION COMMITTEE OF THE NATIONAL MINING ASSOCIATION\n",
      "\t\t MINEPAC, A POLITICAL ACTION COMMITTEE OF THE NATIONAL MINING ASSOCIATION\n",
      "\n",
      "\n",
      "\t MICHELLE DIMAROB\n",
      "\n",
      "\n",
      "\t\t ALTRIA GROUP, INC. POLITICAL ACTION COMMITTEE (ALTRIAPAC)\n",
      "\t\t STE. MICHELLE WINE ESTATES LTD. POLITICAL ACTION COMMITTEE\n",
      "\n",
      "\n",
      "\t LOREEN ZISKA\n",
      "\n",
      "\n",
      "\t\t UNITED BROTHERHOOD OF CARPENTERS AND JOINERS \n",
      "\n",
      "\n",
      "\t SCOTT BROWN\n",
      "\n",
      "\n",
      "\t\t EXELON CORPORATION POLITICAL ACTION COMMITTEE (EXELON PAC)\n",
      "\n",
      "\n",
      "\t JOSEPH FENGLER\n",
      "\n",
      "\n",
      "\t\t HONEYWELL INTERNATIONAL POLITICAL ACTION COMMITTEE\n",
      "\n",
      "\n",
      "\t AMY HUNT\n",
      "\n",
      "\n",
      "\t\t THE GOLDMAN SACHS GROUP, INC. POLITICAL ACTION COMMITTEE\n",
      "\n",
      "\n",
      "\t ELIZABETH VARLEY\n",
      "\n",
      "\n",
      "\t\t AMERIPRISE FINANCIAL INC. POLITICAL ACTION COMMITTEE (AMERIPRISEPAC)\n",
      "\n",
      "\n",
      "\t MARY BETH DONNELLY\n",
      "\n",
      "\n",
      "\t\t NEWMONT MINING CORPORATION PAC\n",
      "\n",
      "\n",
      "\t DONALD WALKER\n",
      "\n",
      "\n",
      "\t\t AMERICAN COUNCIL OF LIFE INSURERS POLITICAL ACTION COMMITTEE\n",
      "\n",
      "\n",
      "\n",
      "\n",
      "124 WASHINGTON ST, FOXBORO, MA 02035\n",
      "\n",
      "\n",
      "\t KEITH LOWEY\n",
      "\n",
      "\n",
      "\t\t ARIZONA NEVADA NEW YORK VICTORY 2018\n",
      "\t\t ELIZABETH WARREN ACTION FUND\n",
      "\t\t GILLIBRAND MCCASKILL SENATE 2018\n",
      "\t\t GILLIBRAND VICTORY FUND\n",
      "\t\t HEIDI HEITKAMP OFF THE SIDELINES VICTORY\n",
      "\t\t NY AND WI VICTORY FUND\n",
      "\t\t PAC FOR A LEVEL PLAYING FIELD\n",
      "\t\t PARITY PAC\n",
      "\t\t PATRIOTIC ARTISTS AND CREATIVES PAC (AKA PAC SQUARED)\n",
      "\t\t PERIMETER PAC\n",
      "\t\t PORTER WARREN VICTORY FUND\n",
      "\t\t RHODE ISLAND VICTORY FUND 2018\n",
      "\n",
      "\n",
      "\t PAUL EGERMAN\n",
      "\n",
      "\n",
      "\t\t ELIZABETH WARREN PRESIDENTIAL EXPLORATORY COMMITTEE, INC.\n",
      "\n",
      "\n",
      "\n",
      "\n",
      "1751 POTOMAC GREENS DR, ALEXANDRIA, VA 22314\n",
      "\n",
      "\n",
      "\t KATHERINE BUCHANAN\n",
      "\n",
      "\n",
      "\t\t BACKPAC\n",
      "\t\t COMMON GROUND PAC\n",
      "\t\t DEMOCRATS FOR OPPORTUNITY FUND\n",
      "\t\t FORWARD TOGETHER PAC\n",
      "\t\t JONES ACTION FUND\n",
      "\t\t JONES VICTORY FUND\n",
      "\t\t KAINE ACTION FUND\n",
      "\t\t KAINE FOR COMMON GROUND\n",
      "\t\t KAINE FOR VIRGINIA\n",
      "\t\t KAINE VICTORY FUND\n",
      "\t\t SAVE OUR SENATE 2\n",
      "\t\t STRENGTHENING VIRGINIA'S WORKING FAMILIES PAC\n",
      "\n",
      "\n",
      "\t DAVID TEMPLE\n",
      "\n",
      "\n",
      "\t\t FRIENDS OF DON BEYER\n",
      "\n",
      "\n",
      "\n",
      "\n",
      "138 CONANT ST, BEVERLY, MA 01915\n",
      "\n",
      "\n",
      "\t BRADLEY CRATE\n",
      "\n",
      "\n",
      "\t\t BADGER VICTORY FUND\n",
      "\t\t CLEVELAND COMMITTEE 2016\n",
      "\t\t JUST LEAD PAC\n",
      "\t\t LEWIS VICTORY FUND\n",
      "\t\t MIKE JOHNSON VICTORY\n",
      "\t\t RICK GREEN VICTORY COMMITTEE\n",
      "\t\t RON JOHNSON VICTORY\n",
      "\t\t TEDESCHI FOR CONGRESS\n",
      "\t\t VA DELEGATE TO CLEVELAND 2016 COMMITTEE #1\n",
      "\t\t VA DELEGATE TO CLEVELAND 2016 COMMITTEE #2\n",
      "\n",
      "\n",
      "\t JAMES MALCZEWSKI\n",
      "\n",
      "\n",
      "\t\t STRATEGY PAC\n",
      "\n",
      "\n",
      "\t CHARLES GANTT\n",
      "\n",
      "\n",
      "\t\t RESTORE AMERICAN LEADERSHIP\n",
      "\n",
      "\n",
      "\n",
      "\n",
      "515 S FIGUEROA ST, LOS ANGELES, CA 90071\n",
      "\n",
      "\n",
      "\t CARY DAVIDSON\n",
      "\n",
      "\n",
      "\t\t ASHTON WOODS CORP. HOMES PAC\n",
      "\t\t EDISON INTERNATIONAL PAC\n",
      "\t\t EQUALITY CALIFORNIA FEDERAL PAC\n",
      "\t\t KB HOME AMERICAN DREAM PAC\n",
      "\t\t NEIGHBORS FOR A BETTER CONGRESS\n",
      "\t\t SCHOOLSFIRST FEDERAL CREDIT UNION EMPLOYEES FEDERAL PAC\n",
      "\t\t SONY MUSIC ENTERTAINMENT PAC\n",
      "\t\t STAMPS.COM, INC. PAC\n",
      "\t\t UNIVISION COMMUNICATIONS INC. POLITICAL ACTION COMMITTEE\n",
      "\n",
      "\n",
      "\t FLORA YIN\n",
      "\n",
      "\n",
      "\t\t STRONG ECONOMY AND NATIONAL SECURITY PAC\n",
      "\n",
      "\n",
      "\t DANA REED\n",
      "\n",
      "\n",
      "\t\t CALIFORNIA NATIONS INDIAN GAMING ASSOCIATION FEDERAL PAC (CNIGA FED PAC)\n",
      "\n",
      "\n",
      "\n",
      "\n",
      "801 PENNSYLVANIA AVE NW, WASHINGTON, DC 20004\n",
      "\n",
      "\n",
      "\t LAUREN MYRICK\n",
      "\n",
      "\n",
      "\t\t NOMURA HOLDING AMERICA INC. POLITICAL ACTION COMMITTEE (NOMURAPAC)\n",
      "\n",
      "\n",
      "\t JOHN ORLANDO\n",
      "\n",
      "\n",
      "\t\t CBS CORPORATION POLITICAL ACTION COMMITTEE\n",
      "\n",
      "\n",
      "\t BRETT LOPER\n",
      "\n",
      "\n",
      "\t\t AMERICAN EXPRESS COMPANY POLITICAL ACTION COMMITTEE (AXPPAC)\n",
      "\n",
      "\n",
      "\t SHAWN O'NEAIL\n",
      "\n",
      "\n",
      "\t\t NOVARTIS CORPORATION POLITICAL ACTION COMMITTEE\n",
      "\n",
      "\n",
      "\t BRIAN TOBIN\n",
      "\n",
      "\n",
      "\t\t NEXTERA ENERGY, INC. POLITICAL ACTION COMMITTEE\n",
      "\n",
      "\n",
      "\t ANDREW WHITMAN\n",
      "\n",
      "\n",
      "\t\t VARIAN MEDICAL SYSTEMS, INC. PAC ('VARIAN PAC')\n",
      "\n",
      "\n",
      "\t ERIC BISHOP\n",
      "\n",
      "\n",
      "\t\t FRESENIUS MEDICAL CARE NORTH AMERICA PAC\n",
      "\n",
      "\n",
      "\t CHRISTOPHER CERONE\n",
      "\n",
      "\n",
      "\t\t ZIMMER BIOMET HOLDINGS, INC. POLITICAL ACTION COMMITTEE (A.K.A. 'ZIMMER BIOMET PAC')\n",
      "\n",
      "\n",
      "\t ROBERT EKSTROM\n",
      "\n",
      "\n",
      "\t\t PINNACLE WEST CAPITAL CORPORATION PAC\n",
      "\n",
      "\n",
      "\t ALISSA LONG\n",
      "\n",
      "\n",
      "\t\t ALLIANT ENERGY CORPORATION EMPLOYEE'S POLITICAL ACTION COMM\n",
      "\n",
      "\n",
      "\t JEFFREY DEBOER\n",
      "\n",
      "\n",
      "\t\t THE REAL ESTATE ROUNDTABLE POLITICAL ACTION COMMITTEE (REALPAC)\n",
      "\n",
      "\n",
      "\n",
      "\n",
      "2776 S ARLINGTON MILL DR, ARLINGTON, VA 22206\n",
      "\n",
      "\n",
      "\t SCOTT MACKENZIE\n",
      "\n",
      "\n",
      "\t\t BLACK REPUBLICAN PAC\n",
      "\t\t CONSERVATIVE MAJORITY FUND\n",
      "\t\t CONSERVATIVE VICTORY FUND\n",
      "\t\t FOUNDED ON TRUTH\n",
      "\t\t HISPANICS FOR A CONSERVATIVE AMERICA\n",
      "\t\t MAN IN THE ARENA\n",
      "\t\t SAVE NEW YORK PAC\n",
      "\t\t STAND AMERICA PAC\n",
      "\t\t TEA PARTY MAJORITY FUND\n",
      "\t\t TEA PARTY VICTORY FUND\n",
      "\t\t THE CONSERVATIVE STRIKEFORCE\n",
      "\n",
      "\n",
      "\n",
      "\n",
      "PO BOX 10822, RALEIGH, NC 27605\n",
      "\n",
      "\n",
      "\t ELIZABETH CURTIS\n",
      "\n",
      "\n",
      "\t\t AMERICA FIRST COMMITTEE\n",
      "\t\t NORTH CAROLINA GUN RIGHTS PAC\n",
      "\t\t NORTH STATE LEADERSHIP COUNCIL\n",
      "\t\t PRINCIPLED LEADERSHIP PROJECT PAC\n",
      "\t\t PRO-LIFE NORTH CAROLINA PAC\n",
      "\t\t SECURE THE VOTE\n",
      "\n",
      "\n",
      "\t CABELL HOBBS\n",
      "\n",
      "\n",
      "\t\t AMERICAN HEROES PAC\n",
      "\t\t AMERICANS AGAINST JUDICIAL ACTIVISM\n",
      "\t\t BLACK AMERICANS FOR LIBERTY\n",
      "\t\t FAMILY VALUES COALITION PAC\n",
      "\t\t LEGALIZE FREEDOM PAC\n",
      "\n",
      "\n",
      "\n",
      "\n",
      "1201 F ST NW, WASHINGTON, DC 20004\n",
      "\n",
      "\n",
      "\t (no treasurer listed)\n",
      "\n",
      "\n",
      "\t\t NATIONAL FEDERATION OF INDEPENDENT BUSINESS\n",
      "\t\t REPUBLICAN STATE LEADERSHIP COMMITTEE\n",
      "\t\t REPUBLICAN STATE LEADERSHIP COMMITTEE - WASHINGTON PAC\n",
      "\n",
      "\n",
      "\t MICHAEL MALONEY\n",
      "\n",
      "\n",
      "\t\t NATIONAL FEDERATION OF INDEPENDENT BUSINESS\n",
      "\t\t NATIONAL FEDERATION OF INDEPENDENT BUSINESS \n",
      "\n",
      "\n",
      "\t KATHERINE WILLIAMS\n",
      "\n",
      "\n",
      "\t\t FRAMATOME INC PAC\n",
      "\n",
      "\n",
      "\t CECILIA GUARIN\n",
      "\n",
      "\n",
      "\t\t CREDIT SUISSE SECURITIES (USA) LLC POLITICAL ACTION COMMITTEE\n",
      "\n",
      "\n",
      "\t LISA VAN VARICK\n",
      "\n",
      "\n",
      "\t\t NUCLEAR ENERGY INSTITUTE FEDERAL POLITICAL ACTION COMMITTEE\n",
      "\n",
      "\n"
     ]
    },
    {
     "name": "stdout",
     "output_type": "stream",
     "text": [
      "\t GREGG SHEIOWITZ\n",
      "\n",
      "\n",
      "\t\t ZURICH HOLDING COMPANY OF AMERICA, INC. COMMITTEE FOR GOOD GOVERNMENT (Z-PAC)\n",
      "\n",
      "\n",
      "\t JEFF SMITH\n",
      "\n",
      "\n",
      "\t\t NATIONAL FEDERATION OF INDEPENDENT BUSINESS FEDERAL POLITICAL ACTION COMMITTEE\n",
      "\n",
      "\n",
      "\t MICHAEL MCGARRY\n",
      "\n",
      "\n",
      "\t\t CRUISE LINES INTERNATIONAL ASSOCIATION PAC (CLIA PAC)\n",
      "\n",
      "\n",
      "\n",
      "\n",
      "1787 TRIBUTE RD, SACRAMENTO, CA 95815\n",
      "\n",
      "\n",
      "\t SHAWNDA DEANE\n",
      "\n",
      "\n",
      "\t\t CA-BAM PAC\n",
      "\t\t CALIFORNIA PROGRESS COALITION\n",
      "\t\t CALIFORNIANS FOR OPPORTUNITY\n",
      "\t\t EAST BAY YOUNG DEMOCRATS - FEDERAL\n",
      "\t\t ELECTING WOMEN SILICON VALLEY FEDERAL PAC\n",
      "\t\t FIGHT BACK CALIFORNIA\n",
      "\t\t NEED TO IMPEACH\n",
      "\t\t PROGRESSIVE WOMEN SILICON VALLEY FEDERAL PAC\n",
      "\n",
      "\n",
      "\t (no treasurer listed)\n",
      "\n",
      "\n",
      "\t\t SAFETY FOR ALL YES ON PROP. 63 NEWSOM BALLOT MEASURE COMMITTEE\n",
      "\n",
      "\n",
      "\t SAL ROSSELLI\n",
      "\n",
      "\n",
      "\t\t NATIONAL UNION OF HEALTHCARE WORKERS FEDERAL COMMITTEE ON POLITICAL EDUCATION\n",
      "\n",
      "\n",
      "\t JACK PHILLIPS\n",
      "\n",
      "\n",
      "\t\t VENTURA COUNTY DEMOCRATIC CENTRAL COMMITTEE\n",
      "\n",
      "\n",
      "\n",
      "\n"
     ]
    }
   ],
   "source": [
    "# show all cmte_nm & tres_nm for committees sharing a street address\n",
    "multiadd = list(cm['address'].value_counts()[cm['address'].value_counts() > 10].index)\n",
    "\n",
    "for add in multiadd:\n",
    "    lil_cm = cm.loc[cm['address'] == add, ['tres_nm', 'cmte_nm']]\\\n",
    "    .sort_values(['tres_nm', 'cmte_nm'], ascending = [True, True]).reset_index(drop = True)\n",
    "    print(add)\n",
    "    print('\\n')\n",
    "    treses = list(lil_cm['tres_nm'].value_counts().index)\n",
    "    for tres in treses:\n",
    "        lil_tres = lil_cm[lil_cm['tres_nm'] == tres]\n",
    "        committees = sorted(list(set(lil_tres['cmte_nm'])))\n",
    "        print('\\t', tres)\n",
    "        print('\\n')\n",
    "        for committee in committees:\n",
    "            print('\\t\\t', committee)\n",
    "        print('\\n')\n",
    "    print('\\n')\n",
    "        \n",
    "#     print(lil_cm.to_csv(None))\n",
    "#     print('\\n')"
   ]
  },
  {
   "cell_type": "markdown",
   "metadata": {},
   "source": [
    "### Other columns"
   ]
  },
  {
   "cell_type": "code",
   "execution_count": null,
   "metadata": {},
   "outputs": [],
   "source": [
    "cmtetp_dict = {\n",
    "    'C' : 'cmte_CommunicationCost',\n",
    "    'D' : 'cmte_DelegateCommittee',\n",
    "    'E' : 'cmte_ElectioneeringComms',\n",
    "    'H' : 'cmte_House',\n",
    "    'I' : 'cmte_IndependentExpenditor',\n",
    "    'S' : 'cmte_Senate',\n",
    "    'N' : 'cmte_PACnonqual',\n",
    "    'Q' : 'cmte_PACqual',\n",
    "    'Y' : 'cmte_Partyqual',\n",
    "    'O' : 'cmte_SuperPAC',\n",
    "    'P' : 'cmte_Presidential',\n",
    "    'U' : 'cmte_Singlecand',\n",
    "    'V' : 'cmte_PACnoncontrib_nonqual',\n",
    "    'W' : 'cmte_PACnoncontrib_qual',\n",
    "    'X' : 'cmte_Partynonqual',\n",
    "    np.nan : np.nan,\n",
    "}\n",
    "\n",
    "cm['cmte_tp'] = [cmtetp_dict[x] for x in cm['cmte_tp']]\n",
    "cm['cmte_tp'].value_counts()"
   ]
  },
  {
   "cell_type": "code",
   "execution_count": null,
   "metadata": {},
   "outputs": [],
   "source": [
    "cmtedsgn_dict = {\n",
    "    'A' : 'Authorized by a candidate',\n",
    "    'B' : 'Lobbyist/Registrant PAC',\n",
    "    'D' : 'Leadership PAC',\n",
    "    'J' : 'Joint fundraiser',\n",
    "    'P' : 'Principal campaign committee',\n",
    "    'U' : 'Unauthorized',\n",
    "    np.nan : np.nan,\n",
    "}\n",
    "\n",
    "cm['cmte_dsgn'] = [cmtedsgn_dict[x] for x in cm['cmte_dsgn']]\n",
    "cm['cmte_dsgn'].value_counts()"
   ]
  },
  {
   "cell_type": "code",
   "execution_count": null,
   "metadata": {},
   "outputs": [],
   "source": [
    "pty_affil = [\n",
    "    np.nan,\n",
    "    '.',\n",
    "    'UKN',\n",
    "    '  0',\n",
    "    'UN',\n",
    "]\n",
    "\n",
    "cm['cmte_pty_affiliation'] = ['UNK' if (x in pty_affil) else x for x in cm['cmte_pty_affiliation']]\n",
    "cm['cmte_pty_affiliation'].value_counts()"
   ]
  },
  {
   "cell_type": "code",
   "execution_count": null,
   "metadata": {},
   "outputs": [],
   "source": [
    "cm['cmte_filing_freq'].value_counts()"
   ]
  },
  {
   "cell_type": "code",
   "execution_count": null,
   "metadata": {},
   "outputs": [],
   "source": [
    "orgtp_dict = {\n",
    "    'C' : 'org_Corporation',\n",
    "    'H' : 'org_HnotonFECsite',\n",
    "    'I' : 'org_InotonFECsite',\n",
    "    'L' : 'org_Labor organization',\n",
    "    'M' : 'org_Membership organization',\n",
    "    'T' : 'org_Trade association',\n",
    "    'V' : 'org_Cooperative',\n",
    "    'W' : 'org_Corporation without capital stock',\n",
    "    np.nan : np.nan,\n",
    "}\n",
    "\n",
    "cm['org_tp'] = [orgtp_dict[x] for x in cm['org_tp']]\n",
    "cm['org_tp'].value_counts()"
   ]
  },
  {
   "cell_type": "code",
   "execution_count": null,
   "metadata": {},
   "outputs": [],
   "source": [
    "cm['connected_org_nm'].value_counts()[:10]"
   ]
  },
  {
   "cell_type": "code",
   "execution_count": null,
   "metadata": {},
   "outputs": [],
   "source": [
    "cm.loc[cm['connected_org_nm'] == 'NONE', 'connected_org_nm'] = np.nan"
   ]
  },
  {
   "cell_type": "code",
   "execution_count": null,
   "metadata": {},
   "outputs": [],
   "source": [
    "cm['connected_org_nm'].value_counts()[:10]"
   ]
  },
  {
   "cell_type": "code",
   "execution_count": null,
   "metadata": {
    "scrolled": false
   },
   "outputs": [],
   "source": [
    "# sorry! these print ugly but it's to display them unabbreviated\n",
    "treses = list(cm['tres_nm'].value_counts()[cm['tres_nm'].value_counts() > 10].index)\n",
    "\n",
    "for tres in treses:\n",
    "    if tres != '(no treasurer listed)':\n",
    "        lil_cm = cm[cm['tres_nm'] == tres]\n",
    "        lil_cm = lil_cm[[\n",
    "            'cmte_id',\n",
    "            'cand_id',\n",
    "            'cmte_nm',\n",
    "\n",
    "        ]].sort_values(['cand_id', 'cmte_nm']).reset_index(drop = True)\n",
    "        pty = list(set(cm.loc[list(lil_cm.index), 'cmte_pty_affiliation']))\n",
    "        ptys = sorted([x for x in pty if (type(x) != float)])\n",
    "        print(''.join([tres, ', treasurer']))\n",
    "        print(len(lil_cm), 'committees')\n",
    "        print('parties:', str(ptys))\n",
    "        print(lil_cm.to_csv(None))\n",
    "        print('\\n\\n')"
   ]
  },
  {
   "cell_type": "code",
   "execution_count": null,
   "metadata": {},
   "outputs": [],
   "source": [
    "cm.to_csv('data/03a_committees.csv', index = False)"
   ]
  }
 ],
 "metadata": {
  "kernelspec": {
   "display_name": "Python 3",
   "language": "python",
   "name": "python3"
  },
  "language_info": {
   "codemirror_mode": {
    "name": "ipython",
    "version": 3
   },
   "file_extension": ".py",
   "mimetype": "text/x-python",
   "name": "python",
   "nbconvert_exporter": "python",
   "pygments_lexer": "ipython3",
   "version": "3.7.4"
  }
 },
 "nbformat": 4,
 "nbformat_minor": 2
}
