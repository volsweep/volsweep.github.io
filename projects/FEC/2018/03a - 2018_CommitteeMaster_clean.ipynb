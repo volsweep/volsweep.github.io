{
 "cells": [
  {
   "cell_type": "markdown",
   "metadata": {},
   "source": [
    "## FEC Campaign Finance\n",
    "\n",
    "### Committee Master"
   ]
  },
  {
   "cell_type": "code",
   "execution_count": 1,
   "metadata": {},
   "outputs": [],
   "source": [
    "import pandas as pd\n",
    "import numpy as np\n",
    "\n",
    "from datetime import datetime as dt"
   ]
  },
  {
   "cell_type": "code",
   "execution_count": 2,
   "metadata": {},
   "outputs": [],
   "source": [
    "year = '2018'"
   ]
  },
  {
   "cell_type": "code",
   "execution_count": 3,
   "metadata": {},
   "outputs": [
    {
     "name": "stdout",
     "output_type": "stream",
     "text": [
      "original length: 19027\n"
     ]
    },
    {
     "data": {
      "text/plain": [
       "3       33\n",
       "4        8\n",
       "5    18982\n",
       "6        1\n",
       "8        3\n",
       "Name: cmte_zip, dtype: int64"
      ]
     },
     "execution_count": 3,
     "metadata": {},
     "output_type": "execute_result"
    }
   ],
   "source": [
    "# read in & clean\n",
    "cm = pd.read_csv(\n",
    "    f'https://www.fec.gov/files/bulk-downloads/{year}/cm{year[2:]}.zip', \n",
    "    sep = '|', \n",
    "    error_bad_lines = False, \n",
    "    header = None, \n",
    ")\n",
    "print('original length:', len(cm))\n",
    "\n",
    "# add column headers from separate file\n",
    "headers = pd.read_csv(\n",
    "    'https://www.fec.gov/files/bulk-downloads/data_dictionaries/cm_header_file.csv', \n",
    ")\n",
    "cm.columns = [x.lower() for x in headers.columns]\n",
    "\n",
    "# fillna\n",
    "cm['cmte_pty_affiliation'].fillna('UNK', inplace = True)\n",
    "\n",
    "# preserve uncleaned tres_nm & cmte_st1\n",
    "cm['orig_tres_nm'] = list(cm['tres_nm'].values)\n",
    "cm['orig_cmte_st1'] = list(cm['cmte_st1'].values)\n",
    "\n",
    "# prep strings for deduping\n",
    "change_dict = {\n",
    "    ' STREET' : ' ST',\n",
    "    'AVENUE' : 'AVE',\n",
    "    ' DRIVE' : ' DR',\n",
    "    ' ROAD' : ' RD',\n",
    "    ' SUITE' : ' STE',\n",
    "    '.' : '',\n",
    "    ',' : '',\n",
    "    'BOULEVARD' : 'BLVD',\n",
    "    ' PLACE' : ' PL',\n",
    "    \n",
    "}\n",
    "keys = list(set(change_dict.keys()))\n",
    "for key in keys:\n",
    "    cm['cmte_st1'] = [str(x).replace(key, change_dict[key]) for x in cm['cmte_st1']]\n",
    "\n",
    "keep_0 = [\n",
    "    ' STE ',\n",
    "    '#',\n",
    "    ' ST ',\n",
    "    ' AVE ',\n",
    "    ' RD ',\n",
    "    ' PL ', \n",
    "    ' BLVD ', \n",
    "    ' DR ',\n",
    "]\n",
    "\n",
    "cm['cmte_st1'] = [x.split(' STE ')[0].split('#')[0].split(' NUM ')[0] for \\\n",
    "                  x in cm['cmte_st1']]\n",
    "cm['cmte_st1'] = [' '.join(str(x).split()) for x in cm['cmte_st1']]\n",
    "\n",
    "cm['cmte_zip'] = [str(x).strip() for x in cm['cmte_zip']]\n",
    "cm.loc[cm['cmte_zip'].apply(lambda x: len(str(x))) == 9, 'cmte_zip'] = \\\n",
    "cm.loc[cm['cmte_zip'].apply(lambda x: len(str(x))) == 9, 'cmte_zip'].apply(lambda x: x[:5])\n",
    "\n",
    "cm['cmte_zip'].apply(lambda x: len(x)).value_counts().sort_index()"
   ]
  },
  {
   "cell_type": "code",
   "execution_count": 4,
   "metadata": {},
   "outputs": [
    {
     "name": "stdout",
     "output_type": "stream",
     "text": [
      "13490\n"
     ]
    }
   ],
   "source": [
    "cands = pd.read_csv('data/02a_cand_clean.csv')\n",
    "\n",
    "cands = list(cands['cand_id'])\n",
    "\n",
    "mask = []\n",
    "for x in cm['cand_id']:\n",
    "    if type(x) == float:\n",
    "        mask.append(True)\n",
    "    else:\n",
    "        if x in cands:\n",
    "            mask.append(True)\n",
    "        else:\n",
    "            mask.append(False)\n",
    "        \n",
    "cm = cm[mask]\n",
    "\n",
    "print(len(cm))"
   ]
  },
  {
   "cell_type": "code",
   "execution_count": 5,
   "metadata": {
    "scrolled": false
   },
   "outputs": [
    {
     "data": {
      "text/html": [
       "<div>\n",
       "<style scoped>\n",
       "    .dataframe tbody tr th:only-of-type {\n",
       "        vertical-align: middle;\n",
       "    }\n",
       "\n",
       "    .dataframe tbody tr th {\n",
       "        vertical-align: top;\n",
       "    }\n",
       "\n",
       "    .dataframe thead th {\n",
       "        text-align: right;\n",
       "    }\n",
       "</style>\n",
       "<table border=\"1\" class=\"dataframe\">\n",
       "  <thead>\n",
       "    <tr style=\"text-align: right;\">\n",
       "      <th></th>\n",
       "      <th>cmte_st1</th>\n",
       "      <th>cmte_city</th>\n",
       "      <th>cmte_st</th>\n",
       "      <th>cmte_zip</th>\n",
       "    </tr>\n",
       "  </thead>\n",
       "  <tbody>\n",
       "    <tr>\n",
       "      <td>18190</td>\n",
       "      <td>510A SHERMAN ST</td>\n",
       "      <td>CANTON</td>\n",
       "      <td>MA</td>\n",
       "      <td>2021</td>\n",
       "    </tr>\n",
       "    <tr>\n",
       "      <td>18199</td>\n",
       "      <td>580 BRIDGE ST</td>\n",
       "      <td>DEDHAM</td>\n",
       "      <td>MA</td>\n",
       "      <td>2026</td>\n",
       "    </tr>\n",
       "    <tr>\n",
       "      <td>18200</td>\n",
       "      <td>580 BRIDGE ST</td>\n",
       "      <td>DEDHAM</td>\n",
       "      <td>MA</td>\n",
       "      <td>2026</td>\n",
       "    </tr>\n",
       "    <tr>\n",
       "      <td>18194</td>\n",
       "      <td>17 PLEASANT HILL AVE</td>\n",
       "      <td>BOSTON</td>\n",
       "      <td>MA</td>\n",
       "      <td>21232813</td>\n",
       "    </tr>\n",
       "    <tr>\n",
       "      <td>18198</td>\n",
       "      <td>33 THORONDIKE ST</td>\n",
       "      <td>BROOKLINE</td>\n",
       "      <td>MA</td>\n",
       "      <td>2446</td>\n",
       "    </tr>\n",
       "    <tr>\n",
       "      <td>18206</td>\n",
       "      <td>393 DORCHESTER RD</td>\n",
       "      <td>LYME</td>\n",
       "      <td>NH</td>\n",
       "      <td>3768</td>\n",
       "    </tr>\n",
       "    <tr>\n",
       "      <td>2060</td>\n",
       "      <td>1210 CORBIN ST</td>\n",
       "      <td>ELIZABETH</td>\n",
       "      <td>NJ</td>\n",
       "      <td>7201</td>\n",
       "    </tr>\n",
       "    <tr>\n",
       "      <td>10840</td>\n",
       "      <td>847 KENSINGTON CV</td>\n",
       "      <td>SPRINGDALE</td>\n",
       "      <td>AR</td>\n",
       "      <td>7276</td>\n",
       "    </tr>\n",
       "    <tr>\n",
       "      <td>18209</td>\n",
       "      <td>111 VICTORIA DR</td>\n",
       "      <td>EATONTOWN</td>\n",
       "      <td>NJ</td>\n",
       "      <td>7724</td>\n",
       "    </tr>\n",
       "    <tr>\n",
       "      <td>18116</td>\n",
       "      <td></td>\n",
       "      <td>.</td>\n",
       "      <td>VA</td>\n",
       "      <td>nan</td>\n",
       "    </tr>\n",
       "    <tr>\n",
       "      <td>6387</td>\n",
       "      <td>1055 CATALPA RD</td>\n",
       "      <td>ARCADIA</td>\n",
       "      <td>CA</td>\n",
       "      <td>nan</td>\n",
       "    </tr>\n",
       "    <tr>\n",
       "      <td>17750</td>\n",
       "      <td>2008 OLDTOWN VALLEY RD SE</td>\n",
       "      <td>NEW PHILADELPHIA</td>\n",
       "      <td>OH</td>\n",
       "      <td>nan</td>\n",
       "    </tr>\n",
       "    <tr>\n",
       "      <td>17959</td>\n",
       "      <td>247 THIRD ST</td>\n",
       "      <td>ASHLAND</td>\n",
       "      <td>OR</td>\n",
       "      <td>nan</td>\n",
       "    </tr>\n",
       "    <tr>\n",
       "      <td>18661</td>\n",
       "      <td>420 KEWANNA DR</td>\n",
       "      <td>JEFFERSONVILLE</td>\n",
       "      <td>IN</td>\n",
       "      <td>nan</td>\n",
       "    </tr>\n",
       "    <tr>\n",
       "      <td>18175</td>\n",
       "      <td>77 GILKISON ST</td>\n",
       "      <td>DUNEDIN OTAGO</td>\n",
       "      <td>ZZ</td>\n",
       "      <td>nan</td>\n",
       "    </tr>\n",
       "    <tr>\n",
       "      <td>18166</td>\n",
       "      <td>801 NKWANHOON BLDG 198-42</td>\n",
       "      <td>SEOUL</td>\n",
       "      <td>ZZ</td>\n",
       "      <td>nan</td>\n",
       "    </tr>\n",
       "    <tr>\n",
       "      <td>18707</td>\n",
       "      <td>868 CHURCH ST -</td>\n",
       "      <td>BOHEMIA</td>\n",
       "      <td>NY</td>\n",
       "      <td>nan</td>\n",
       "    </tr>\n",
       "    <tr>\n",
       "      <td>5044</td>\n",
       "      <td>PO BOX 356</td>\n",
       "      <td>LIVINGSTON</td>\n",
       "      <td>NJ</td>\n",
       "      <td>nan</td>\n",
       "    </tr>\n",
       "    <tr>\n",
       "      <td>17722</td>\n",
       "      <td>nan</td>\n",
       "      <td>HOUSTON</td>\n",
       "      <td>TX</td>\n",
       "      <td>nan</td>\n",
       "    </tr>\n",
       "    <tr>\n",
       "      <td>18056</td>\n",
       "      <td>nan</td>\n",
       "      <td>PHILADELPHIA</td>\n",
       "      <td>PA</td>\n",
       "      <td>nan</td>\n",
       "    </tr>\n",
       "    <tr>\n",
       "      <td>18782</td>\n",
       "      <td>nan</td>\n",
       "      <td>NaN</td>\n",
       "      <td>TX</td>\n",
       "      <td>nan</td>\n",
       "    </tr>\n",
       "    <tr>\n",
       "      <td>8006</td>\n",
       "      <td>nan</td>\n",
       "      <td>NaN</td>\n",
       "      <td>NaN</td>\n",
       "      <td>nan</td>\n",
       "    </tr>\n",
       "    <tr>\n",
       "      <td>9572</td>\n",
       "      <td>nan</td>\n",
       "      <td>NaN</td>\n",
       "      <td>NaN</td>\n",
       "      <td>nan</td>\n",
       "    </tr>\n",
       "    <tr>\n",
       "      <td>10164</td>\n",
       "      <td>nan</td>\n",
       "      <td>NaN</td>\n",
       "      <td>NaN</td>\n",
       "      <td>nan</td>\n",
       "    </tr>\n",
       "    <tr>\n",
       "      <td>10419</td>\n",
       "      <td>nan</td>\n",
       "      <td>NaN</td>\n",
       "      <td>NaN</td>\n",
       "      <td>nan</td>\n",
       "    </tr>\n",
       "    <tr>\n",
       "      <td>10519</td>\n",
       "      <td>nan</td>\n",
       "      <td>NaN</td>\n",
       "      <td>NaN</td>\n",
       "      <td>nan</td>\n",
       "    </tr>\n",
       "    <tr>\n",
       "      <td>11993</td>\n",
       "      <td>nan</td>\n",
       "      <td>NaN</td>\n",
       "      <td>NaN</td>\n",
       "      <td>nan</td>\n",
       "    </tr>\n",
       "    <tr>\n",
       "      <td>12322</td>\n",
       "      <td>nan</td>\n",
       "      <td>NaN</td>\n",
       "      <td>NaN</td>\n",
       "      <td>nan</td>\n",
       "    </tr>\n",
       "    <tr>\n",
       "      <td>13088</td>\n",
       "      <td>nan</td>\n",
       "      <td>NaN</td>\n",
       "      <td>NaN</td>\n",
       "      <td>nan</td>\n",
       "    </tr>\n",
       "    <tr>\n",
       "      <td>13089</td>\n",
       "      <td>nan</td>\n",
       "      <td>NaN</td>\n",
       "      <td>NaN</td>\n",
       "      <td>nan</td>\n",
       "    </tr>\n",
       "    <tr>\n",
       "      <td>13396</td>\n",
       "      <td>nan</td>\n",
       "      <td>NaN</td>\n",
       "      <td>NaN</td>\n",
       "      <td>nan</td>\n",
       "    </tr>\n",
       "    <tr>\n",
       "      <td>16234</td>\n",
       "      <td>nan</td>\n",
       "      <td>NaN</td>\n",
       "      <td>NaN</td>\n",
       "      <td>nan</td>\n",
       "    </tr>\n",
       "    <tr>\n",
       "      <td>17177</td>\n",
       "      <td>nan</td>\n",
       "      <td>NaN</td>\n",
       "      <td>NaN</td>\n",
       "      <td>nan</td>\n",
       "    </tr>\n",
       "    <tr>\n",
       "      <td>17452</td>\n",
       "      <td>nan</td>\n",
       "      <td>NaN</td>\n",
       "      <td>NaN</td>\n",
       "      <td>nan</td>\n",
       "    </tr>\n",
       "    <tr>\n",
       "      <td>17456</td>\n",
       "      <td>nan</td>\n",
       "      <td>NaN</td>\n",
       "      <td>NaN</td>\n",
       "      <td>nan</td>\n",
       "    </tr>\n",
       "    <tr>\n",
       "      <td>17760</td>\n",
       "      <td>nan</td>\n",
       "      <td>NaN</td>\n",
       "      <td>NaN</td>\n",
       "      <td>nan</td>\n",
       "    </tr>\n",
       "    <tr>\n",
       "      <td>17761</td>\n",
       "      <td>nan</td>\n",
       "      <td>NaN</td>\n",
       "      <td>NaN</td>\n",
       "      <td>nan</td>\n",
       "    </tr>\n",
       "    <tr>\n",
       "      <td>17762</td>\n",
       "      <td>nan</td>\n",
       "      <td>NaN</td>\n",
       "      <td>NaN</td>\n",
       "      <td>nan</td>\n",
       "    </tr>\n",
       "    <tr>\n",
       "      <td>17767</td>\n",
       "      <td>nan</td>\n",
       "      <td>NaN</td>\n",
       "      <td>NaN</td>\n",
       "      <td>nan</td>\n",
       "    </tr>\n",
       "    <tr>\n",
       "      <td>17908</td>\n",
       "      <td>nan</td>\n",
       "      <td>NaN</td>\n",
       "      <td>NaN</td>\n",
       "      <td>nan</td>\n",
       "    </tr>\n",
       "  </tbody>\n",
       "</table>\n",
       "</div>"
      ],
      "text/plain": [
       "                        cmte_st1         cmte_city cmte_st  cmte_zip\n",
       "18190            510A SHERMAN ST            CANTON      MA      2021\n",
       "18199              580 BRIDGE ST            DEDHAM      MA      2026\n",
       "18200              580 BRIDGE ST            DEDHAM      MA      2026\n",
       "18194       17 PLEASANT HILL AVE            BOSTON      MA  21232813\n",
       "18198           33 THORONDIKE ST         BROOKLINE      MA      2446\n",
       "18206          393 DORCHESTER RD              LYME      NH      3768\n",
       "2060              1210 CORBIN ST         ELIZABETH      NJ      7201\n",
       "10840          847 KENSINGTON CV        SPRINGDALE      AR      7276\n",
       "18209            111 VICTORIA DR         EATONTOWN      NJ      7724\n",
       "18116                                            .      VA       nan\n",
       "6387             1055 CATALPA RD           ARCADIA      CA       nan\n",
       "17750  2008 OLDTOWN VALLEY RD SE  NEW PHILADELPHIA      OH       nan\n",
       "17959               247 THIRD ST           ASHLAND      OR       nan\n",
       "18661             420 KEWANNA DR    JEFFERSONVILLE      IN       nan\n",
       "18175             77 GILKISON ST     DUNEDIN OTAGO      ZZ       nan\n",
       "18166  801 NKWANHOON BLDG 198-42             SEOUL      ZZ       nan\n",
       "18707            868 CHURCH ST -           BOHEMIA      NY       nan\n",
       "5044                  PO BOX 356        LIVINGSTON      NJ       nan\n",
       "17722                        nan           HOUSTON      TX       nan\n",
       "18056                        nan      PHILADELPHIA      PA       nan\n",
       "18782                        nan               NaN      TX       nan\n",
       "8006                         nan               NaN     NaN       nan\n",
       "9572                         nan               NaN     NaN       nan\n",
       "10164                        nan               NaN     NaN       nan\n",
       "10419                        nan               NaN     NaN       nan\n",
       "10519                        nan               NaN     NaN       nan\n",
       "11993                        nan               NaN     NaN       nan\n",
       "12322                        nan               NaN     NaN       nan\n",
       "13088                        nan               NaN     NaN       nan\n",
       "13089                        nan               NaN     NaN       nan\n",
       "13396                        nan               NaN     NaN       nan\n",
       "16234                        nan               NaN     NaN       nan\n",
       "17177                        nan               NaN     NaN       nan\n",
       "17452                        nan               NaN     NaN       nan\n",
       "17456                        nan               NaN     NaN       nan\n",
       "17760                        nan               NaN     NaN       nan\n",
       "17761                        nan               NaN     NaN       nan\n",
       "17762                        nan               NaN     NaN       nan\n",
       "17767                        nan               NaN     NaN       nan\n",
       "17908                        nan               NaN     NaN       nan"
      ]
     },
     "execution_count": 5,
     "metadata": {},
     "output_type": "execute_result"
    }
   ],
   "source": [
    "cm.loc[cm['cmte_zip'].apply(lambda x: len(str(x))) != 5, \n",
    "       ['cmte_st1', 'cmte_city', 'cmte_st', 'cmte_zip']].sort_values([\n",
    "    'cmte_zip', \n",
    "    'cmte_st1', \n",
    "    'cmte_city',\n",
    "    'cmte_st',\n",
    "])"
   ]
  },
  {
   "cell_type": "code",
   "execution_count": 6,
   "metadata": {},
   "outputs": [],
   "source": [
    "fix_zip = {\n",
    "    '291501' : '29150',\n",
    "    '89053145' : '89015',\n",
    "    '04342443' : '70433',\n",
    "    '21232813' : '02126',\n",
    "    '7276' : '72762',\n",
    "    '2021' : '02021',\n",
    "    '2026' : '02026',\n",
    "    '2446' : '02446',\n",
    "    '3768' : '03768',\n",
    "    '7201' : '07201',\n",
    "    '7724' : '07724',\n",
    "    \n",
    "}\n",
    "for key in list(fix_zip.keys()):\n",
    "    cm.loc[cm['cmte_zip'] == key, 'cmte_zip'] = fix_zip[key]\n",
    "\n",
    "cm.loc[cm['cmte_st1'] == '1055 CATALPA RD', 'cmte_zip'] = '91007'\n",
    "cm.loc[cm['cmte_st1'] == '2008 OLDTOWN VALLEY RD SE', 'cmte_zip'] = '44663'\n",
    "cm.loc[\n",
    "    (cm['cmte_st1'] == '247 THIRD ST') & \\\n",
    "    (cm['cmte_city'] == 'ASHLAND'), \n",
    "    'cmte_zip'] = '97520'\n",
    "cm.loc[cm['cmte_st1'] == '420 KEWANNA DR', 'cmte_zip'] = '47130'\n",
    "cm.loc[cm['cmte_st1'] == '868 CHURCH ST -', 'cmte_zip'] = '11716'\n",
    "cm.loc[\n",
    "    (cm['cmte_st1'] == 'PO BOX 334') & \\\n",
    "    (cm['cmte_city'] == 'DAVIDSONVILLE'), \n",
    "    'cmte_zip'] = '21035'\n",
    "cm.loc[\n",
    "    (cm['cmte_st1'] == 'PO BOX 356') & \\\n",
    "    (cm['cmte_city'] == 'LIVINGSTON'), \n",
    "    'cmte_zip'] = '07039'"
   ]
  },
  {
   "cell_type": "code",
   "execution_count": 7,
   "metadata": {},
   "outputs": [
    {
     "data": {
      "text/html": [
       "<div>\n",
       "<style scoped>\n",
       "    .dataframe tbody tr th:only-of-type {\n",
       "        vertical-align: middle;\n",
       "    }\n",
       "\n",
       "    .dataframe tbody tr th {\n",
       "        vertical-align: top;\n",
       "    }\n",
       "\n",
       "    .dataframe thead th {\n",
       "        text-align: right;\n",
       "    }\n",
       "</style>\n",
       "<table border=\"1\" class=\"dataframe\">\n",
       "  <thead>\n",
       "    <tr style=\"text-align: right;\">\n",
       "      <th></th>\n",
       "      <th>cmte_id</th>\n",
       "      <th>cmte_nm</th>\n",
       "      <th>tres_nm</th>\n",
       "      <th>cmte_st1</th>\n",
       "      <th>cmte_st2</th>\n",
       "      <th>cmte_city</th>\n",
       "      <th>cmte_st</th>\n",
       "      <th>cmte_zip</th>\n",
       "      <th>cmte_dsgn</th>\n",
       "      <th>cmte_tp</th>\n",
       "      <th>cmte_pty_affiliation</th>\n",
       "      <th>cmte_filing_freq</th>\n",
       "      <th>org_tp</th>\n",
       "      <th>connected_org_nm</th>\n",
       "      <th>cand_id</th>\n",
       "      <th>orig_tres_nm</th>\n",
       "      <th>orig_cmte_st1</th>\n",
       "      <th>address</th>\n",
       "    </tr>\n",
       "  </thead>\n",
       "  <tbody>\n",
       "    <tr>\n",
       "      <td>0</td>\n",
       "      <td>C00000018</td>\n",
       "      <td>IRONWORKERS LOCAL UNION NO. 25 POLITICAL EDUCA...</td>\n",
       "      <td>STEVEN N GULICK</td>\n",
       "      <td>43335 W 10 MILE</td>\n",
       "      <td>P O BOX 965</td>\n",
       "      <td>NOVI</td>\n",
       "      <td>MI</td>\n",
       "      <td>48050</td>\n",
       "      <td>U</td>\n",
       "      <td>Q</td>\n",
       "      <td>UNK</td>\n",
       "      <td>T</td>\n",
       "      <td>NaN</td>\n",
       "      <td>IRON WORKERS; INT'L ASS'N OF BRIDGE...</td>\n",
       "      <td>H8TX22313</td>\n",
       "      <td>STEVEN N GULICK</td>\n",
       "      <td>43335 W 10 MILE</td>\n",
       "      <td>43335 W 10 MILE, NOVI, MI 48050</td>\n",
       "    </tr>\n",
       "    <tr>\n",
       "      <td>1</td>\n",
       "      <td>C00000059</td>\n",
       "      <td>HALLMARK CARDS PAC</td>\n",
       "      <td>SARAH MOE</td>\n",
       "      <td>2501 MCGEE</td>\n",
       "      <td>MD #500</td>\n",
       "      <td>KANSAS CITY</td>\n",
       "      <td>MO</td>\n",
       "      <td>64108</td>\n",
       "      <td>U</td>\n",
       "      <td>Q</td>\n",
       "      <td>UNK</td>\n",
       "      <td>M</td>\n",
       "      <td>C</td>\n",
       "      <td>NaN</td>\n",
       "      <td>NaN</td>\n",
       "      <td>SARAH MOE</td>\n",
       "      <td>2501 MCGEE</td>\n",
       "      <td>2501 MCGEE, KANSAS CITY, MO 64108</td>\n",
       "    </tr>\n",
       "  </tbody>\n",
       "</table>\n",
       "</div>"
      ],
      "text/plain": [
       "     cmte_id                                            cmte_nm  \\\n",
       "0  C00000018  IRONWORKERS LOCAL UNION NO. 25 POLITICAL EDUCA...   \n",
       "1  C00000059                                 HALLMARK CARDS PAC   \n",
       "\n",
       "           tres_nm         cmte_st1     cmte_st2    cmte_city cmte_st  \\\n",
       "0  STEVEN N GULICK  43335 W 10 MILE  P O BOX 965         NOVI      MI   \n",
       "1        SARAH MOE       2501 MCGEE      MD #500  KANSAS CITY      MO   \n",
       "\n",
       "  cmte_zip cmte_dsgn cmte_tp cmte_pty_affiliation cmte_filing_freq org_tp  \\\n",
       "0    48050         U       Q                  UNK                T    NaN   \n",
       "1    64108         U       Q                  UNK                M      C   \n",
       "\n",
       "                         connected_org_nm    cand_id     orig_tres_nm  \\\n",
       "0  IRON WORKERS; INT'L ASS'N OF BRIDGE...  H8TX22313  STEVEN N GULICK   \n",
       "1                                     NaN        NaN        SARAH MOE   \n",
       "\n",
       "     orig_cmte_st1                            address  \n",
       "0  43335 W 10 MILE    43335 W 10 MILE, NOVI, MI 48050  \n",
       "1       2501 MCGEE  2501 MCGEE, KANSAS CITY, MO 64108  "
      ]
     },
     "execution_count": 7,
     "metadata": {},
     "output_type": "execute_result"
    }
   ],
   "source": [
    "cm.loc[cm['cmte_zip'].apply(lambda x: len(x) == 3), 'cmte_zip'] = np.nan\n",
    "# create full address column from cleaned parts\n",
    "cm['address'] = \\\n",
    "cm['cmte_st1'].apply(lambda x: str(x).strip()) + ', ' + \\\n",
    "cm['cmte_city'].apply(lambda x: str(x).strip()) + ', ' + \\\n",
    "cm['cmte_st'].apply(lambda x: str(x).strip()) + ' ' + \\\n",
    "cm['cmte_zip'].apply(lambda x: str(x).strip())\n",
    "\n",
    "cm.head(2)"
   ]
  },
  {
   "cell_type": "code",
   "execution_count": 8,
   "metadata": {},
   "outputs": [
    {
     "data": {
      "text/html": [
       "<div>\n",
       "<style scoped>\n",
       "    .dataframe tbody tr th:only-of-type {\n",
       "        vertical-align: middle;\n",
       "    }\n",
       "\n",
       "    .dataframe tbody tr th {\n",
       "        vertical-align: top;\n",
       "    }\n",
       "\n",
       "    .dataframe thead th {\n",
       "        text-align: right;\n",
       "    }\n",
       "</style>\n",
       "<table border=\"1\" class=\"dataframe\">\n",
       "  <thead>\n",
       "    <tr style=\"text-align: right;\">\n",
       "      <th></th>\n",
       "      <th>cmte_id</th>\n",
       "      <th>cmte_nm</th>\n",
       "      <th>tres_nm</th>\n",
       "      <th>cmte_st1</th>\n",
       "      <th>cmte_st2</th>\n",
       "      <th>cmte_city</th>\n",
       "      <th>cmte_st</th>\n",
       "      <th>cmte_zip</th>\n",
       "      <th>cmte_dsgn</th>\n",
       "      <th>cmte_tp</th>\n",
       "      <th>cmte_pty_affiliation</th>\n",
       "      <th>cmte_filing_freq</th>\n",
       "      <th>org_tp</th>\n",
       "      <th>connected_org_nm</th>\n",
       "      <th>cand_id</th>\n",
       "      <th>orig_tres_nm</th>\n",
       "      <th>orig_cmte_st1</th>\n",
       "      <th>address</th>\n",
       "    </tr>\n",
       "  </thead>\n",
       "  <tbody>\n",
       "    <tr>\n",
       "      <td>16591</td>\n",
       "      <td>C00690123</td>\n",
       "      <td>INDEPENDENT VOICES OF CHANGE</td>\n",
       "      <td>PHELAN, JOHN</td>\n",
       "      <td>2 MEGHANS WAY</td>\n",
       "      <td>NaN</td>\n",
       "      <td>LYNN</td>\n",
       "      <td>MA</td>\n",
       "      <td>01904</td>\n",
       "      <td>U</td>\n",
       "      <td>O</td>\n",
       "      <td>UNK</td>\n",
       "      <td>Q</td>\n",
       "      <td>NaN</td>\n",
       "      <td>NONE</td>\n",
       "      <td>H8NJ07256</td>\n",
       "      <td>PHELAN, JOHN</td>\n",
       "      <td>2 MEGHANS WAY</td>\n",
       "      <td>2 MEGHANS WAY, LYNN, MA 01904</td>\n",
       "    </tr>\n",
       "    <tr>\n",
       "      <td>16592</td>\n",
       "      <td>C00690123</td>\n",
       "      <td>INDEPENDENT VOICES OF CHANGE</td>\n",
       "      <td>PHELAN, JOHN</td>\n",
       "      <td>2 MEGHANS WAY</td>\n",
       "      <td>NaN</td>\n",
       "      <td>LYNN</td>\n",
       "      <td>MA</td>\n",
       "      <td>01904</td>\n",
       "      <td>U</td>\n",
       "      <td>O</td>\n",
       "      <td>UNK</td>\n",
       "      <td>Q</td>\n",
       "      <td>NaN</td>\n",
       "      <td>NONE</td>\n",
       "      <td>H8NJ07256</td>\n",
       "      <td>PHELAN, JOHN</td>\n",
       "      <td>2 MEGHANS WAY</td>\n",
       "      <td>2 MEGHANS WAY, LYNN, MA 01904</td>\n",
       "    </tr>\n",
       "  </tbody>\n",
       "</table>\n",
       "</div>"
      ],
      "text/plain": [
       "         cmte_id                       cmte_nm       tres_nm       cmte_st1  \\\n",
       "16591  C00690123  INDEPENDENT VOICES OF CHANGE  PHELAN, JOHN  2 MEGHANS WAY   \n",
       "16592  C00690123  INDEPENDENT VOICES OF CHANGE  PHELAN, JOHN  2 MEGHANS WAY   \n",
       "\n",
       "      cmte_st2 cmte_city cmte_st cmte_zip cmte_dsgn cmte_tp  \\\n",
       "16591      NaN      LYNN      MA    01904         U       O   \n",
       "16592      NaN      LYNN      MA    01904         U       O   \n",
       "\n",
       "      cmte_pty_affiliation cmte_filing_freq org_tp connected_org_nm  \\\n",
       "16591                  UNK                Q    NaN             NONE   \n",
       "16592                  UNK                Q    NaN             NONE   \n",
       "\n",
       "         cand_id  orig_tres_nm  orig_cmte_st1                        address  \n",
       "16591  H8NJ07256  PHELAN, JOHN  2 MEGHANS WAY  2 MEGHANS WAY, LYNN, MA 01904  \n",
       "16592  H8NJ07256  PHELAN, JOHN  2 MEGHANS WAY  2 MEGHANS WAY, LYNN, MA 01904  "
      ]
     },
     "execution_count": 8,
     "metadata": {},
     "output_type": "execute_result"
    }
   ],
   "source": [
    "# check for duplicate rows\n",
    "cm[cm.duplicated(keep = False)]"
   ]
  },
  {
   "cell_type": "code",
   "execution_count": 9,
   "metadata": {},
   "outputs": [],
   "source": [
    "# drop duplicates\n",
    "cm.drop_duplicates(keep = 'first', inplace = True)"
   ]
  },
  {
   "cell_type": "code",
   "execution_count": 10,
   "metadata": {},
   "outputs": [
    {
     "data": {
      "text/plain": [
       "Series([], Name: cmte_id, dtype: int64)"
      ]
     },
     "execution_count": 10,
     "metadata": {},
     "output_type": "execute_result"
    }
   ],
   "source": [
    "# see which cmte_ids appear more than once\n",
    "cm['cmte_id'].value_counts()[cm['cmte_id'].value_counts() > 1]"
   ]
  },
  {
   "cell_type": "code",
   "execution_count": 11,
   "metadata": {},
   "outputs": [
    {
     "data": {
      "text/plain": [
       "cmte_nm                 9\n",
       "cmte_tp                10\n",
       "cmte_dsgn              11\n",
       "cmte_st                19\n",
       "cmte_city              20\n",
       "cmte_zip               25\n",
       "orig_cmte_st1          27\n",
       "tres_nm              1513\n",
       "orig_tres_nm         1513\n",
       "connected_org_nm     7967\n",
       "org_tp               9898\n",
       "cmte_st2            10383\n",
       "cand_id             12344\n",
       "dtype: int64"
      ]
     },
     "execution_count": 11,
     "metadata": {},
     "output_type": "execute_result"
    }
   ],
   "source": [
    "# check for nulls\n",
    "cm.isnull().sum()[cm.isnull().sum() > 0].sort_values()"
   ]
  },
  {
   "cell_type": "code",
   "execution_count": 12,
   "metadata": {},
   "outputs": [
    {
     "data": {
      "text/html": [
       "<div>\n",
       "<style scoped>\n",
       "    .dataframe tbody tr th:only-of-type {\n",
       "        vertical-align: middle;\n",
       "    }\n",
       "\n",
       "    .dataframe tbody tr th {\n",
       "        vertical-align: top;\n",
       "    }\n",
       "\n",
       "    .dataframe thead th {\n",
       "        text-align: right;\n",
       "    }\n",
       "</style>\n",
       "<table border=\"1\" class=\"dataframe\">\n",
       "  <thead>\n",
       "    <tr style=\"text-align: right;\">\n",
       "      <th></th>\n",
       "      <th>cmte_id</th>\n",
       "      <th>cmte_nm</th>\n",
       "      <th>tres_nm</th>\n",
       "      <th>cmte_st1</th>\n",
       "      <th>cmte_st2</th>\n",
       "      <th>cmte_city</th>\n",
       "      <th>cmte_st</th>\n",
       "      <th>cmte_zip</th>\n",
       "      <th>cmte_dsgn</th>\n",
       "      <th>cmte_tp</th>\n",
       "      <th>cmte_pty_affiliation</th>\n",
       "      <th>cmte_filing_freq</th>\n",
       "      <th>org_tp</th>\n",
       "      <th>connected_org_nm</th>\n",
       "      <th>cand_id</th>\n",
       "      <th>orig_tres_nm</th>\n",
       "      <th>orig_cmte_st1</th>\n",
       "      <th>address</th>\n",
       "    </tr>\n",
       "  </thead>\n",
       "  <tbody>\n",
       "    <tr>\n",
       "      <td>8006</td>\n",
       "      <td>C00575308</td>\n",
       "      <td>NaN</td>\n",
       "      <td>NaN</td>\n",
       "      <td>nan</td>\n",
       "      <td>NaN</td>\n",
       "      <td>NaN</td>\n",
       "      <td>NaN</td>\n",
       "      <td>NaN</td>\n",
       "      <td>NaN</td>\n",
       "      <td>NaN</td>\n",
       "      <td>UNK</td>\n",
       "      <td>A</td>\n",
       "      <td>NaN</td>\n",
       "      <td>NaN</td>\n",
       "      <td>NaN</td>\n",
       "      <td>NaN</td>\n",
       "      <td>NaN</td>\n",
       "      <td>nan, nan, nan nan</td>\n",
       "    </tr>\n",
       "    <tr>\n",
       "      <td>10164</td>\n",
       "      <td>C00616649</td>\n",
       "      <td>NaN</td>\n",
       "      <td>NaN</td>\n",
       "      <td>nan</td>\n",
       "      <td>NaN</td>\n",
       "      <td>NaN</td>\n",
       "      <td>NaN</td>\n",
       "      <td>NaN</td>\n",
       "      <td>NaN</td>\n",
       "      <td>NaN</td>\n",
       "      <td>UNK</td>\n",
       "      <td>A</td>\n",
       "      <td>NaN</td>\n",
       "      <td>NaN</td>\n",
       "      <td>NaN</td>\n",
       "      <td>NaN</td>\n",
       "      <td>NaN</td>\n",
       "      <td>nan, nan, nan nan</td>\n",
       "    </tr>\n",
       "    <tr>\n",
       "      <td>10419</td>\n",
       "      <td>C00619916</td>\n",
       "      <td>NaN</td>\n",
       "      <td>NaN</td>\n",
       "      <td>nan</td>\n",
       "      <td>NaN</td>\n",
       "      <td>NaN</td>\n",
       "      <td>NaN</td>\n",
       "      <td>NaN</td>\n",
       "      <td>NaN</td>\n",
       "      <td>NaN</td>\n",
       "      <td>UNK</td>\n",
       "      <td>A</td>\n",
       "      <td>NaN</td>\n",
       "      <td>NaN</td>\n",
       "      <td>NaN</td>\n",
       "      <td>NaN</td>\n",
       "      <td>NaN</td>\n",
       "      <td>nan, nan, nan nan</td>\n",
       "    </tr>\n",
       "    <tr>\n",
       "      <td>10519</td>\n",
       "      <td>C00621201</td>\n",
       "      <td>NaN</td>\n",
       "      <td>NaN</td>\n",
       "      <td>nan</td>\n",
       "      <td>NaN</td>\n",
       "      <td>NaN</td>\n",
       "      <td>NaN</td>\n",
       "      <td>NaN</td>\n",
       "      <td>NaN</td>\n",
       "      <td>NaN</td>\n",
       "      <td>UNK</td>\n",
       "      <td>A</td>\n",
       "      <td>NaN</td>\n",
       "      <td>NaN</td>\n",
       "      <td>NaN</td>\n",
       "      <td>NaN</td>\n",
       "      <td>NaN</td>\n",
       "      <td>nan, nan, nan nan</td>\n",
       "    </tr>\n",
       "    <tr>\n",
       "      <td>12322</td>\n",
       "      <td>C00641233</td>\n",
       "      <td>NaN</td>\n",
       "      <td>NaN</td>\n",
       "      <td>nan</td>\n",
       "      <td>NaN</td>\n",
       "      <td>NaN</td>\n",
       "      <td>NaN</td>\n",
       "      <td>NaN</td>\n",
       "      <td>NaN</td>\n",
       "      <td>NaN</td>\n",
       "      <td>UNK</td>\n",
       "      <td>A</td>\n",
       "      <td>NaN</td>\n",
       "      <td>NaN</td>\n",
       "      <td>NaN</td>\n",
       "      <td>NaN</td>\n",
       "      <td>NaN</td>\n",
       "      <td>nan, nan, nan nan</td>\n",
       "    </tr>\n",
       "    <tr>\n",
       "      <td>13088</td>\n",
       "      <td>C00653873</td>\n",
       "      <td>NaN</td>\n",
       "      <td>NaN</td>\n",
       "      <td>nan</td>\n",
       "      <td>NaN</td>\n",
       "      <td>NaN</td>\n",
       "      <td>NaN</td>\n",
       "      <td>NaN</td>\n",
       "      <td>NaN</td>\n",
       "      <td>NaN</td>\n",
       "      <td>UNK</td>\n",
       "      <td>A</td>\n",
       "      <td>NaN</td>\n",
       "      <td>NaN</td>\n",
       "      <td>NaN</td>\n",
       "      <td>NaN</td>\n",
       "      <td>NaN</td>\n",
       "      <td>nan, nan, nan nan</td>\n",
       "    </tr>\n",
       "    <tr>\n",
       "      <td>13089</td>\n",
       "      <td>C00653881</td>\n",
       "      <td>NaN</td>\n",
       "      <td>NaN</td>\n",
       "      <td>nan</td>\n",
       "      <td>NaN</td>\n",
       "      <td>NaN</td>\n",
       "      <td>NaN</td>\n",
       "      <td>NaN</td>\n",
       "      <td>NaN</td>\n",
       "      <td>NaN</td>\n",
       "      <td>UNK</td>\n",
       "      <td>A</td>\n",
       "      <td>NaN</td>\n",
       "      <td>NaN</td>\n",
       "      <td>NaN</td>\n",
       "      <td>NaN</td>\n",
       "      <td>NaN</td>\n",
       "      <td>nan, nan, nan nan</td>\n",
       "    </tr>\n",
       "    <tr>\n",
       "      <td>13396</td>\n",
       "      <td>C00657031</td>\n",
       "      <td>NaN</td>\n",
       "      <td>NaN</td>\n",
       "      <td>nan</td>\n",
       "      <td>NaN</td>\n",
       "      <td>NaN</td>\n",
       "      <td>NaN</td>\n",
       "      <td>NaN</td>\n",
       "      <td>NaN</td>\n",
       "      <td>NaN</td>\n",
       "      <td>UNK</td>\n",
       "      <td>A</td>\n",
       "      <td>NaN</td>\n",
       "      <td>NaN</td>\n",
       "      <td>NaN</td>\n",
       "      <td>NaN</td>\n",
       "      <td>NaN</td>\n",
       "      <td>nan, nan, nan nan</td>\n",
       "    </tr>\n",
       "    <tr>\n",
       "      <td>17010</td>\n",
       "      <td>C30001184</td>\n",
       "      <td>NaN</td>\n",
       "      <td>NaN</td>\n",
       "      <td>PO BOX 33524</td>\n",
       "      <td>NaN</td>\n",
       "      <td>WASHINGTON</td>\n",
       "      <td>DC</td>\n",
       "      <td>20033</td>\n",
       "      <td>U</td>\n",
       "      <td>E</td>\n",
       "      <td>UNK</td>\n",
       "      <td>A</td>\n",
       "      <td>NaN</td>\n",
       "      <td>NaN</td>\n",
       "      <td>NaN</td>\n",
       "      <td>NaN</td>\n",
       "      <td>PO BOX 33524</td>\n",
       "      <td>PO BOX 33524, WASHINGTON, DC 20033</td>\n",
       "    </tr>\n",
       "  </tbody>\n",
       "</table>\n",
       "</div>"
      ],
      "text/plain": [
       "         cmte_id cmte_nm tres_nm      cmte_st1 cmte_st2   cmte_city cmte_st  \\\n",
       "8006   C00575308     NaN     NaN           nan      NaN         NaN     NaN   \n",
       "10164  C00616649     NaN     NaN           nan      NaN         NaN     NaN   \n",
       "10419  C00619916     NaN     NaN           nan      NaN         NaN     NaN   \n",
       "10519  C00621201     NaN     NaN           nan      NaN         NaN     NaN   \n",
       "12322  C00641233     NaN     NaN           nan      NaN         NaN     NaN   \n",
       "13088  C00653873     NaN     NaN           nan      NaN         NaN     NaN   \n",
       "13089  C00653881     NaN     NaN           nan      NaN         NaN     NaN   \n",
       "13396  C00657031     NaN     NaN           nan      NaN         NaN     NaN   \n",
       "17010  C30001184     NaN     NaN  PO BOX 33524      NaN  WASHINGTON      DC   \n",
       "\n",
       "      cmte_zip cmte_dsgn cmte_tp cmte_pty_affiliation cmte_filing_freq org_tp  \\\n",
       "8006       NaN       NaN     NaN                  UNK                A    NaN   \n",
       "10164      NaN       NaN     NaN                  UNK                A    NaN   \n",
       "10419      NaN       NaN     NaN                  UNK                A    NaN   \n",
       "10519      NaN       NaN     NaN                  UNK                A    NaN   \n",
       "12322      NaN       NaN     NaN                  UNK                A    NaN   \n",
       "13088      NaN       NaN     NaN                  UNK                A    NaN   \n",
       "13089      NaN       NaN     NaN                  UNK                A    NaN   \n",
       "13396      NaN       NaN     NaN                  UNK                A    NaN   \n",
       "17010    20033         U       E                  UNK                A    NaN   \n",
       "\n",
       "      connected_org_nm cand_id orig_tres_nm orig_cmte_st1  \\\n",
       "8006               NaN     NaN          NaN           NaN   \n",
       "10164              NaN     NaN          NaN           NaN   \n",
       "10419              NaN     NaN          NaN           NaN   \n",
       "10519              NaN     NaN          NaN           NaN   \n",
       "12322              NaN     NaN          NaN           NaN   \n",
       "13088              NaN     NaN          NaN           NaN   \n",
       "13089              NaN     NaN          NaN           NaN   \n",
       "13396              NaN     NaN          NaN           NaN   \n",
       "17010              NaN     NaN          NaN  PO BOX 33524   \n",
       "\n",
       "                                  address  \n",
       "8006                    nan, nan, nan nan  \n",
       "10164                   nan, nan, nan nan  \n",
       "10419                   nan, nan, nan nan  \n",
       "10519                   nan, nan, nan nan  \n",
       "12322                   nan, nan, nan nan  \n",
       "13088                   nan, nan, nan nan  \n",
       "13089                   nan, nan, nan nan  \n",
       "13396                   nan, nan, nan nan  \n",
       "17010  PO BOX 33524, WASHINGTON, DC 20033  "
      ]
     },
     "execution_count": 12,
     "metadata": {},
     "output_type": "execute_result"
    }
   ],
   "source": [
    "# see which have missing cmte_nm\n",
    "cm[cm['cmte_nm'].isnull()]"
   ]
  },
  {
   "cell_type": "code",
   "execution_count": 13,
   "metadata": {},
   "outputs": [],
   "source": [
    "# fill in placeholder cmte_nm\n",
    "cm.loc[cm['cmte_nm'].isnull(), 'cmte_nm'] = '(cmte_nm missing)'"
   ]
  },
  {
   "cell_type": "code",
   "execution_count": 14,
   "metadata": {},
   "outputs": [
    {
     "data": {
      "text/html": [
       "<div>\n",
       "<style scoped>\n",
       "    .dataframe tbody tr th:only-of-type {\n",
       "        vertical-align: middle;\n",
       "    }\n",
       "\n",
       "    .dataframe tbody tr th {\n",
       "        vertical-align: top;\n",
       "    }\n",
       "\n",
       "    .dataframe thead th {\n",
       "        text-align: right;\n",
       "    }\n",
       "</style>\n",
       "<table border=\"1\" class=\"dataframe\">\n",
       "  <thead>\n",
       "    <tr style=\"text-align: right;\">\n",
       "      <th></th>\n",
       "      <th>cmte_id</th>\n",
       "      <th>cmte_nm</th>\n",
       "      <th>tres_nm</th>\n",
       "      <th>cmte_st1</th>\n",
       "      <th>cmte_st2</th>\n",
       "      <th>cmte_city</th>\n",
       "      <th>cmte_st</th>\n",
       "      <th>cmte_zip</th>\n",
       "      <th>cmte_dsgn</th>\n",
       "      <th>cmte_tp</th>\n",
       "      <th>cmte_pty_affiliation</th>\n",
       "      <th>cmte_filing_freq</th>\n",
       "      <th>org_tp</th>\n",
       "      <th>connected_org_nm</th>\n",
       "      <th>cand_id</th>\n",
       "      <th>orig_tres_nm</th>\n",
       "      <th>orig_cmte_st1</th>\n",
       "      <th>address</th>\n",
       "    </tr>\n",
       "  </thead>\n",
       "  <tbody>\n",
       "  </tbody>\n",
       "</table>\n",
       "</div>"
      ],
      "text/plain": [
       "Empty DataFrame\n",
       "Columns: [cmte_id, cmte_nm, tres_nm, cmte_st1, cmte_st2, cmte_city, cmte_st, cmte_zip, cmte_dsgn, cmte_tp, cmte_pty_affiliation, cmte_filing_freq, org_tp, connected_org_nm, cand_id, orig_tres_nm, orig_cmte_st1, address]\n",
       "Index: []"
      ]
     },
     "execution_count": 14,
     "metadata": {},
     "output_type": "execute_result"
    }
   ],
   "source": [
    "# see which have missing address\n",
    "# then see if any other rows have matching cmte_nm\n",
    "cm[cm['address'].isnull()]"
   ]
  },
  {
   "cell_type": "code",
   "execution_count": 15,
   "metadata": {},
   "outputs": [
    {
     "data": {
      "text/plain": [
       "228 S WASHINGTON ST, ALEXANDRIA, VA 22314        156\n",
       "918 PENNSYLVANIA AVE SE, WASHINGTON, DC 20003    112\n",
       "824 S MILLEDGE AVE, ATHENS, GA 30605             101\n",
       "PO BOX 26141, ALEXANDRIA, VA 22313                95\n",
       "700 13TH ST NW, WASHINGTON, DC 20005              61\n",
       "PO BOX 9891, ARLINGTON, VA 22219                  56\n",
       "611 PENNSYLVANIA AVE SE, WASHINGTON, DC 20003     48\n",
       "PO BOX 30844, BETHESDA, MD 20824                  41\n",
       "777 S FIGUEROA ST, LOS ANGELES, CA 90017          37\n",
       "610 S BLVD, TAMPA, FL 33606                       37\n",
       "PO BOX 15320, WASHINGTON, DC 20003                35\n",
       "910 17TH ST NW, WASHINGTON, DC 20006              35\n",
       "5429 MADISON AVE, SACRAMENTO, CA 95841            32\n",
       "PO BOX 75357, WASHINGTON, DC 20013                26\n",
       "555 CAPITOL MALL, SACRAMENTO, CA 95814            26\n",
       "901 N WASHINGTON ST, ALEXANDRIA, VA 22314         24\n",
       "499 SOUTH CAPITOL ST SW, WASHINGTON, DC 20003     24\n",
       "120 MARYLAND AVE NE, WASHINGTON, DC 20002         24\n",
       "249 E OCEAN BLVD, LONG BEACH, CA 90802            22\n",
       "PO BOX 2485, SPRINGFIELD, VA 22152                21\n",
       "Name: address, dtype: int64"
      ]
     },
     "execution_count": 15,
     "metadata": {},
     "output_type": "execute_result"
    }
   ],
   "source": [
    "# see which street addresses appear most frequently\n",
    "cm['address'].value_counts()[:20]"
   ]
  },
  {
   "cell_type": "code",
   "execution_count": 16,
   "metadata": {
    "scrolled": false
   },
   "outputs": [
    {
     "name": "stdout",
     "output_type": "stream",
     "text": [
      "1513\n"
     ]
    },
    {
     "data": {
      "text/plain": [
       "(no treasurer listed)    1518\n",
       "PAUL KILGORE              144\n",
       "JUDITH ZAMORE             108\n",
       "CHRIS MARSTON             106\n",
       "LISA LISKER                88\n",
       "JENNIFER MAY               62\n",
       "JAY PETTERSON              56\n",
       "BENJAMIN OTTENHOFF         55\n",
       "DAVID SATTERFIELD          49\n",
       "CABELL HOBBS               47\n",
       "KEITH DAVIS                44\n",
       "BRADLEY CRATE              43\n",
       "NANCY WATKINS              42\n",
       "JANICA KYRIACOPOULOS       41\n",
       "THOMAS DATWYLER            36\n",
       "STEVEN MARTIN              25\n",
       "ROBERT CARLIN              24\n",
       "TIMOTHY KOCH               23\n",
       "DENISE LEWIS               22\n",
       "PATRICK KRASON             22\n",
       "Name: tres_nm, dtype: int64"
      ]
     },
     "execution_count": 16,
     "metadata": {},
     "output_type": "execute_result"
    }
   ],
   "source": [
    "# fill in placeholder for missing treasurer name \n",
    "print(len(cm[cm['tres_nm'].isnull()]))\n",
    "cm.loc[cm['tres_nm'].isnull(), 'tres_nm'] = '(no treasurer listed)'\n",
    "cm.loc[cm['tres_nm'].apply(lambda x: x in ['.', 'NONE', '']), 'tres_nm'] = '(no treasurer listed)'\n",
    "\n",
    "# convert to <first name> <last name> format from <last name>, <first name>\n",
    "cm['tres_nm'] = [' '.join([' '.join(x.split(', ')[1:]), x.split(', ')[0]]) if ', ' in \\\n",
    "                 x else x for x in cm['tres_nm']]\n",
    "# clean up spacing\n",
    "# looks like this could just be ' '.join(x.strip()) \n",
    "# but i feel like i did it this way for a reason... leaving it\n",
    "cm['tres_nm'] = [' '.join([x for x in list(x.split(' ')) if len(x) > 1]).strip() for \\\n",
    "                 x in cm['tres_nm']]\n",
    "\n",
    "# prep for deduping\n",
    "\n",
    "# substitutions\n",
    "subs = {\n",
    "    'XAVUER' : 'XAVIER',\n",
    "    'JSOEPH' : 'JOSEPH',\n",
    "    'WILLAIM' : 'WILLIAM',\n",
    "    'V?RONIQUE' : 'VERONIQUE',\n",
    "    '.' : '',\n",
    "    ',' : '',\n",
    "    \n",
    "}\n",
    "for key in list(subs.keys()):\n",
    "    cm['tres_nm'] = [x.replace(key, subs[key]) for x in cm['tres_nm']]\n",
    "\n",
    "# drops\n",
    "drops = [\n",
    "    'MRS',\n",
    "    'MS',\n",
    "    'MR',\n",
    "    'MISS',\n",
    "    'JR',\n",
    "    'SR',\n",
    "    'UNDEFINED',\n",
    "    'JD',\n",
    "    'CPA',\n",
    "    'HONORABLE',\n",
    "    'FED',\n",
    "    'II', \n",
    "    'III',\n",
    "    'IV',\n",
    "    'ESQ',\n",
    "    'DR',\n",
    "    'MD',\n",
    "    'DO',\n",
    "    'CFO',\n",
    "    'CEO',\n",
    "    'CTO',\n",
    "    'TREAS',\n",
    "    'US',\n",
    "    '1970',\n",
    "    '--SELECT',\n",
    "    '1973',\n",
    "    '1979',\n",
    "    \n",
    "]\n",
    "for droplet in drops:\n",
    "    cm['tres_nm'] = [' '.join([x for x in x.split() if \\\n",
    "                               ((x not in drops) & (len(x) > 1))]) for x in cm['tres_nm']]\n",
    "\n",
    "# a bunch of entries have last name appearing twice; \n",
    "# check for this and keep only first instance\n",
    "cm['tres_nm'] = [x.split() for x in cm['tres_nm']]\n",
    "def f7(seq):\n",
    "    '''https://stackoverflow.com/questions/480214/\\\n",
    "    how-do-you-remove-duplicates-from-a-list-whilst-preserving-order'''\n",
    "    seen = set()\n",
    "    seen_add = seen.add\n",
    "    return [x for x in seq if not (x in seen or seen_add(x))]            \n",
    "cm['tres_nm'] = [' '.join(f7(x)) for x in cm['tres_nm']]\n",
    "\n",
    "# see tres_nms appearing most frequently\n",
    "cm['tres_nm'].value_counts()[:20]"
   ]
  },
  {
   "cell_type": "code",
   "execution_count": 17,
   "metadata": {},
   "outputs": [
    {
     "data": {
      "text/plain": [
       "nan, nan, nan nan                                  16\n",
       "1201 CONNECTICUT AVE NW, WASHINGTON, DC 20036      10\n",
       "700 13TH ST NW, WASHINGTON, DC 20005                6\n",
       "300 M ST SE, WASHINGTON, DC 20003                   5\n",
       "555 CAPITOL MALL, SACRAMENTO, CA 95814              5\n",
       "815 16TH ST NW, WASHINGTON, DC 20006                5\n",
       "1120 CONNECTICUT AVE NW, WASHINGTON, DC 20036       4\n",
       "1747 PENNSYLVANIA AVE NW, WASHINGTON, DC 20006      4\n",
       "PO BOX 2259, WILMINGTON, NC 28402                   4\n",
       "5429 MADISON AVE, SACRAMENTO, CA 95841              4\n",
       "1401 NEW YORK AVE NW, WASHINGTON, DC 20005          4\n",
       "1150 GRAND BLVD, KANSAS CITY, MO 64106              3\n",
       "1875 CONNECTICUT AVE NW, WASHINGTON, DC 20009       3\n",
       "625 BROAD ST, NEWARK, NJ 07102                      3\n",
       "905 16TH ST NW, WASHINGTON, DC 20006                3\n",
       "414 N ORLEANS PLAZA, CHICAGO, IL 60654              3\n",
       "705-2 E BIDWELL ST, FOLSOM, CA 95630                3\n",
       "1800 MASSACHUSETTS AVE NW, WASHINGTON, DC 20036     3\n",
       "515 KING ST, ALEXANDRIA, VA 22314                   3\n",
       "8655 EXPLORER DR, COLORADO SPRINGS, CO 80920        3\n",
       "Name: address, dtype: int64"
      ]
     },
     "execution_count": 17,
     "metadata": {},
     "output_type": "execute_result"
    }
   ],
   "source": [
    "# what is street address of committees not listing treasurer\n",
    "cm.loc[cm['tres_nm'] == '(no treasurer listed)', 'address'].value_counts()[:20]"
   ]
  },
  {
   "cell_type": "code",
   "execution_count": 18,
   "metadata": {},
   "outputs": [
    {
     "data": {
      "text/plain": [
       "['CONSTITUTIONAL RESPONSIBILITY PROJECT',\n",
       " 'SOCAL HEALTH CARE COALITION A PROJECT OF SIXTEEN THIRTY FUND',\n",
       " 'FLORIDIANS FOR A FAIR SHAKE A PROJECT OF SIXTEEN THIRTY FUND',\n",
       " 'DEMAND JUSTICE A PROJECT OF SIXTEEN THIRTY FUND',\n",
       " 'SIXTEEN THIRTY FUND / MAKE IT WORK AMERICA1',\n",
       " 'SIXTEEN THIRTY FUND/MAKE IT WORK ACTION',\n",
       " 'SIXTEEN THIRTY FUND/NOT ONE PENNY',\n",
       " 'FLORIDIANS FOR A FAIR SHAKE A PROJECT OF SIXTEEN THIRTY FUND',\n",
       " 'SOCAL HEALTH CARE COALITION A PROJECT OF SIXTEEN THIRTY FUND',\n",
       " 'OHIOANS FOR ECONOMIC OPPORTUNITY A PROJECT OF SIXTEEN THIRTY FUND']"
      ]
     },
     "execution_count": 18,
     "metadata": {},
     "output_type": "execute_result"
    }
   ],
   "source": [
    "list(cm.loc[cm['address'] == '1201 CONNECTICUT AVE NW, WASHINGTON, DC 20036', 'cmte_nm'])"
   ]
  },
  {
   "cell_type": "code",
   "execution_count": 19,
   "metadata": {},
   "outputs": [
    {
     "data": {
      "text/plain": [
       "['MAJORITY FORWARD',\n",
       " 'MAJORITY FORWARD',\n",
       " 'AMERICA WORKING TOGETHER',\n",
       " 'DUTY AND HONOR',\n",
       " 'BLACK PROGRESSIVE ACTION COALITION',\n",
       " 'BLACK ECONOMIC ALLIANCE FUND']"
      ]
     },
     "execution_count": 19,
     "metadata": {},
     "output_type": "execute_result"
    }
   ],
   "source": [
    "list(cm.loc[\n",
    "    (cm['address'] == '700 13TH ST NW, WASHINGTON, DC 20005') & \\\n",
    "    (cm['tres_nm'] == '(no treasurer listed)'), 'cmte_nm'])"
   ]
  },
  {
   "cell_type": "code",
   "execution_count": 20,
   "metadata": {},
   "outputs": [
    {
     "data": {
      "text/plain": [
       "['PLANNED PARENTHOOD ADVOCACY PROJECT LOS ANGELES COUNTY',\n",
       " 'PLANNED PARENTHOOD AFFILIATES OF CALIF',\n",
       " 'ALAMEDANS UNITED SUPPORTING VELLA AND ASHCRAFT FOR CITY COUNCIL, ET AL',\n",
       " 'OPPORTUNITY PAC - A COALITION OF TEACHERS HEALTH CARE GIVERS FACULTY MEMBERS SCHOOL EMPLOYEES AND PUBLIC AND PR',\n",
       " 'GOLDEN CALIFORNIA COMMITTEE SPONSORED BY THE SEIU CALIFORNIA STATE COUNCIL']"
      ]
     },
     "execution_count": 20,
     "metadata": {},
     "output_type": "execute_result"
    }
   ],
   "source": [
    "list(cm.loc[\n",
    "    (cm['address'] == '555 CAPITOL MALL, SACRAMENTO, CA 95814') & \\\n",
    "    (cm['tres_nm'] == '(no treasurer listed)'), 'cmte_nm'])"
   ]
  },
  {
   "cell_type": "markdown",
   "metadata": {},
   "source": [
    "### Dedupe treasurer names\n",
    "\n",
    "This is a journey."
   ]
  },
  {
   "cell_type": "code",
   "execution_count": 21,
   "metadata": {},
   "outputs": [],
   "source": [
    "def findall(name):\n",
    "    '''find pattern in treasurer names columns'''\n",
    "    all_tres = list(set(cm['tres_nm']))\n",
    "    if type(name) == str:\n",
    "        these = [x for x in all_tres if name.lower() in str(x).lower()]\n",
    "    else:  \n",
    "        these = all_tres\n",
    "        for which in name:\n",
    "            these = [x for x in these if which in str(x).lower()]\n",
    "    return sorted(these)"
   ]
  },
  {
   "cell_type": "code",
   "execution_count": 22,
   "metadata": {},
   "outputs": [],
   "source": [
    "def getall(these, new):\n",
    "    '''assign deduped treasurer name'''\n",
    "    print('orig len:', len(cm[cm['tres_nm'] == new]))\n",
    "    for which in these:\n",
    "        cm.loc[cm['tres_nm'] == which, 'tres_nm'] = new\n",
    "    print('new len:', len(cm[cm['tres_nm'] == new]))\n",
    "    return "
   ]
  },
  {
   "cell_type": "code",
   "execution_count": 23,
   "metadata": {},
   "outputs": [],
   "source": [
    "# this list keeps track of the ones we've already addressed\n",
    "dones = ['(no treasurer listed)']"
   ]
  },
  {
   "cell_type": "code",
   "execution_count": 24,
   "metadata": {},
   "outputs": [
    {
     "data": {
      "text/plain": [
       "['EDWIN JAY KILPATRICK',\n",
       " 'GERALD KILPATRICK',\n",
       " 'JEFFREY TUTTLE KILLEEN',\n",
       " 'KEVIN KILEY',\n",
       " 'LAURA KILMER',\n",
       " 'LAWRENCE KILGORE',\n",
       " 'MEAGHAN KILLION JOYCE',\n",
       " 'MILES KILCOIN',\n",
       " 'PAUL KILGORE',\n",
       " 'RACHEL KILPATRICK',\n",
       " 'TERRY KILROY',\n",
       " 'WILLIAM KILLMER']"
      ]
     },
     "execution_count": 24,
     "metadata": {},
     "output_type": "execute_result"
    }
   ],
   "source": [
    "findall(' kil')"
   ]
  },
  {
   "cell_type": "code",
   "execution_count": 25,
   "metadata": {},
   "outputs": [
    {
     "data": {
      "text/plain": [
       "['JONATHAN JOYCE', 'MEAGHAN KILLION JOYCE', 'STEPHEN JOYCE']"
      ]
     },
     "execution_count": 25,
     "metadata": {},
     "output_type": "execute_result"
    }
   ],
   "source": [
    "findall(' joyce')"
   ]
  },
  {
   "cell_type": "code",
   "execution_count": 26,
   "metadata": {},
   "outputs": [],
   "source": [
    "dones.extend(findall(' kil'))"
   ]
  },
  {
   "cell_type": "code",
   "execution_count": 27,
   "metadata": {},
   "outputs": [
    {
     "data": {
      "text/plain": [
       "['(no treasurer listed)',\n",
       " 'EVAN ROGER LISTOPAD',\n",
       " 'JOHN LISTAK',\n",
       " 'LISA LISKER',\n",
       " 'SUSIE LISA']"
      ]
     },
     "execution_count": 27,
     "metadata": {},
     "output_type": "execute_result"
    }
   ],
   "source": [
    "findall(' lis')"
   ]
  },
  {
   "cell_type": "code",
   "execution_count": 28,
   "metadata": {},
   "outputs": [],
   "source": [
    "dones.extend(findall(' lis'))"
   ]
  },
  {
   "cell_type": "code",
   "execution_count": 29,
   "metadata": {},
   "outputs": [
    {
     "data": {
      "text/plain": [
       "['LISA LISKER']"
      ]
     },
     "execution_count": 29,
     "metadata": {},
     "output_type": "execute_result"
    }
   ],
   "source": [
    "findall('lisker')"
   ]
  },
  {
   "cell_type": "code",
   "execution_count": 30,
   "metadata": {},
   "outputs": [
    {
     "name": "stdout",
     "output_type": "stream",
     "text": [
      "orig len: 88\n",
      "new len: 88\n"
     ]
    }
   ],
   "source": [
    "new = 'LISA LISKER'\n",
    "dones.append(new)\n",
    "\n",
    "these = findall('lisker')\n",
    "\n",
    "getall(these, new)"
   ]
  },
  {
   "cell_type": "code",
   "execution_count": 31,
   "metadata": {},
   "outputs": [
    {
     "data": {
      "text/plain": [
       "['CHRIS MARSTEN', 'CHRIS MARSTON', 'CHRISTOPHER MARSTON']"
      ]
     },
     "execution_count": 31,
     "metadata": {},
     "output_type": "execute_result"
    }
   ],
   "source": [
    "findall(['c', 'marst'])"
   ]
  },
  {
   "cell_type": "code",
   "execution_count": 32,
   "metadata": {},
   "outputs": [
    {
     "data": {
      "text/html": [
       "<div>\n",
       "<style scoped>\n",
       "    .dataframe tbody tr th:only-of-type {\n",
       "        vertical-align: middle;\n",
       "    }\n",
       "\n",
       "    .dataframe tbody tr th {\n",
       "        vertical-align: top;\n",
       "    }\n",
       "\n",
       "    .dataframe thead th {\n",
       "        text-align: right;\n",
       "    }\n",
       "</style>\n",
       "<table border=\"1\" class=\"dataframe\">\n",
       "  <thead>\n",
       "    <tr style=\"text-align: right;\">\n",
       "      <th></th>\n",
       "      <th>cmte_id</th>\n",
       "      <th>cmte_nm</th>\n",
       "      <th>tres_nm</th>\n",
       "      <th>cmte_st1</th>\n",
       "      <th>cmte_st2</th>\n",
       "      <th>cmte_city</th>\n",
       "      <th>cmte_st</th>\n",
       "      <th>cmte_zip</th>\n",
       "      <th>cmte_dsgn</th>\n",
       "      <th>cmte_tp</th>\n",
       "      <th>cmte_pty_affiliation</th>\n",
       "      <th>cmte_filing_freq</th>\n",
       "      <th>org_tp</th>\n",
       "      <th>connected_org_nm</th>\n",
       "      <th>cand_id</th>\n",
       "      <th>orig_tres_nm</th>\n",
       "      <th>orig_cmte_st1</th>\n",
       "      <th>address</th>\n",
       "    </tr>\n",
       "  </thead>\n",
       "  <tbody>\n",
       "    <tr>\n",
       "      <td>11508</td>\n",
       "      <td>C00632760</td>\n",
       "      <td>WHITE COAT WASTE PAC</td>\n",
       "      <td>CHRIS MARSTEN</td>\n",
       "      <td>PO BOX 26141</td>\n",
       "      <td>NaN</td>\n",
       "      <td>ALEXANDRIA</td>\n",
       "      <td>VA</td>\n",
       "      <td>22313</td>\n",
       "      <td>U</td>\n",
       "      <td>Q</td>\n",
       "      <td>UNK</td>\n",
       "      <td>Q</td>\n",
       "      <td>NaN</td>\n",
       "      <td>NaN</td>\n",
       "      <td>NaN</td>\n",
       "      <td>CHRIS MARSTEN</td>\n",
       "      <td>PO BOX 26141</td>\n",
       "      <td>PO BOX 26141, ALEXANDRIA, VA 22313</td>\n",
       "    </tr>\n",
       "    <tr>\n",
       "      <td>12366</td>\n",
       "      <td>C00646463</td>\n",
       "      <td>BUCKEYE BATTLE PAC</td>\n",
       "      <td>CHRIS MARSTEN</td>\n",
       "      <td>PO BOX 26141</td>\n",
       "      <td>NaN</td>\n",
       "      <td>ALEXANDRIA</td>\n",
       "      <td>VA</td>\n",
       "      <td>22313</td>\n",
       "      <td>U</td>\n",
       "      <td>O</td>\n",
       "      <td>UNK</td>\n",
       "      <td>T</td>\n",
       "      <td>NaN</td>\n",
       "      <td>NaN</td>\n",
       "      <td>NaN</td>\n",
       "      <td>CHRIS MARSTEN</td>\n",
       "      <td>PO BOX 26141</td>\n",
       "      <td>PO BOX 26141, ALEXANDRIA, VA 22313</td>\n",
       "    </tr>\n",
       "    <tr>\n",
       "      <td>14309</td>\n",
       "      <td>C00666511</td>\n",
       "      <td>WE STAND FOR BETTER</td>\n",
       "      <td>CHRIS MARSTEN</td>\n",
       "      <td>PO BOX 26141</td>\n",
       "      <td>NaN</td>\n",
       "      <td>ALEXANDRIA</td>\n",
       "      <td>VA</td>\n",
       "      <td>22313</td>\n",
       "      <td>U</td>\n",
       "      <td>O</td>\n",
       "      <td>UNK</td>\n",
       "      <td>Q</td>\n",
       "      <td>NaN</td>\n",
       "      <td>NaN</td>\n",
       "      <td>NaN</td>\n",
       "      <td>CHRIS MARSTEN</td>\n",
       "      <td>PO BOX 26141</td>\n",
       "      <td>PO BOX 26141, ALEXANDRIA, VA 22313</td>\n",
       "    </tr>\n",
       "  </tbody>\n",
       "</table>\n",
       "</div>"
      ],
      "text/plain": [
       "         cmte_id               cmte_nm        tres_nm      cmte_st1 cmte_st2  \\\n",
       "11508  C00632760  WHITE COAT WASTE PAC  CHRIS MARSTEN  PO BOX 26141      NaN   \n",
       "12366  C00646463    BUCKEYE BATTLE PAC  CHRIS MARSTEN  PO BOX 26141      NaN   \n",
       "14309  C00666511   WE STAND FOR BETTER  CHRIS MARSTEN  PO BOX 26141      NaN   \n",
       "\n",
       "        cmte_city cmte_st cmte_zip cmte_dsgn cmte_tp cmte_pty_affiliation  \\\n",
       "11508  ALEXANDRIA      VA    22313         U       Q                  UNK   \n",
       "12366  ALEXANDRIA      VA    22313         U       O                  UNK   \n",
       "14309  ALEXANDRIA      VA    22313         U       O                  UNK   \n",
       "\n",
       "      cmte_filing_freq org_tp connected_org_nm cand_id   orig_tres_nm  \\\n",
       "11508                Q    NaN              NaN     NaN  CHRIS MARSTEN   \n",
       "12366                T    NaN              NaN     NaN  CHRIS MARSTEN   \n",
       "14309                Q    NaN              NaN     NaN  CHRIS MARSTEN   \n",
       "\n",
       "      orig_cmte_st1                             address  \n",
       "11508  PO BOX 26141  PO BOX 26141, ALEXANDRIA, VA 22313  \n",
       "12366  PO BOX 26141  PO BOX 26141, ALEXANDRIA, VA 22313  \n",
       "14309  PO BOX 26141  PO BOX 26141, ALEXANDRIA, VA 22313  "
      ]
     },
     "execution_count": 32,
     "metadata": {},
     "output_type": "execute_result"
    }
   ],
   "source": [
    "cm[cm['tres_nm'] == 'CHRIS MARSTEN']"
   ]
  },
  {
   "cell_type": "code",
   "execution_count": 33,
   "metadata": {},
   "outputs": [
    {
     "data": {
      "text/html": [
       "<div>\n",
       "<style scoped>\n",
       "    .dataframe tbody tr th:only-of-type {\n",
       "        vertical-align: middle;\n",
       "    }\n",
       "\n",
       "    .dataframe tbody tr th {\n",
       "        vertical-align: top;\n",
       "    }\n",
       "\n",
       "    .dataframe thead th {\n",
       "        text-align: right;\n",
       "    }\n",
       "</style>\n",
       "<table border=\"1\" class=\"dataframe\">\n",
       "  <thead>\n",
       "    <tr style=\"text-align: right;\">\n",
       "      <th></th>\n",
       "      <th>cmte_id</th>\n",
       "      <th>cmte_nm</th>\n",
       "      <th>tres_nm</th>\n",
       "      <th>cmte_st1</th>\n",
       "      <th>cmte_st2</th>\n",
       "      <th>cmte_city</th>\n",
       "      <th>cmte_st</th>\n",
       "      <th>cmte_zip</th>\n",
       "      <th>cmte_dsgn</th>\n",
       "      <th>cmte_tp</th>\n",
       "      <th>cmte_pty_affiliation</th>\n",
       "      <th>cmte_filing_freq</th>\n",
       "      <th>org_tp</th>\n",
       "      <th>connected_org_nm</th>\n",
       "      <th>cand_id</th>\n",
       "      <th>orig_tres_nm</th>\n",
       "      <th>orig_cmte_st1</th>\n",
       "      <th>address</th>\n",
       "    </tr>\n",
       "  </thead>\n",
       "  <tbody>\n",
       "    <tr>\n",
       "      <td>3558</td>\n",
       "      <td>C00433524</td>\n",
       "      <td>DUNCAN D. HUNTER FOR CONGRESS</td>\n",
       "      <td>CHRIS MARSTON</td>\n",
       "      <td>PO BOX 1545</td>\n",
       "      <td>NaN</td>\n",
       "      <td>EL CAJON</td>\n",
       "      <td>CA</td>\n",
       "      <td>92022</td>\n",
       "      <td>P</td>\n",
       "      <td>H</td>\n",
       "      <td>REP</td>\n",
       "      <td>Q</td>\n",
       "      <td>NaN</td>\n",
       "      <td>HUNTER VICTORY FUND</td>\n",
       "      <td>H8CA52052</td>\n",
       "      <td>MARSTON, CHRIS</td>\n",
       "      <td>PO BOX 1545</td>\n",
       "      <td>PO BOX 1545, EL CAJON, CA 92022</td>\n",
       "    </tr>\n",
       "    <tr>\n",
       "      <td>3723</td>\n",
       "      <td>C00441014</td>\n",
       "      <td>ROB WITTMAN FOR CONGRESS</td>\n",
       "      <td>CHRIS MARSTON</td>\n",
       "      <td>PO BOX 3770</td>\n",
       "      <td>NaN</td>\n",
       "      <td>OAKTON</td>\n",
       "      <td>VA</td>\n",
       "      <td>22124</td>\n",
       "      <td>P</td>\n",
       "      <td>H</td>\n",
       "      <td>REP</td>\n",
       "      <td>Q</td>\n",
       "      <td>NaN</td>\n",
       "      <td>WITTMAN VICTORY COMMITTEE</td>\n",
       "      <td>H8VA01147</td>\n",
       "      <td>MARSTON, CHRIS</td>\n",
       "      <td>PO BOX 3770</td>\n",
       "      <td>PO BOX 3770, OAKTON, VA 22124</td>\n",
       "    </tr>\n",
       "    <tr>\n",
       "      <td>3919</td>\n",
       "      <td>C00449926</td>\n",
       "      <td>AMERICAN FUTURE FUND POLITICAL ACTION</td>\n",
       "      <td>CHRIS MARSTON</td>\n",
       "      <td>45 N HILL DR</td>\n",
       "      <td>STE 100</td>\n",
       "      <td>WARRENTON</td>\n",
       "      <td>VA</td>\n",
       "      <td>20186</td>\n",
       "      <td>U</td>\n",
       "      <td>W</td>\n",
       "      <td>UNK</td>\n",
       "      <td>M</td>\n",
       "      <td>NaN</td>\n",
       "      <td>NaN</td>\n",
       "      <td>NaN</td>\n",
       "      <td>MARSTON, CHRIS</td>\n",
       "      <td>45 N HILL DR</td>\n",
       "      <td>45 N HILL DR, WARRENTON, VA 20186</td>\n",
       "    </tr>\n",
       "    <tr>\n",
       "      <td>4932</td>\n",
       "      <td>C00486738</td>\n",
       "      <td>MANY INDIVIDUAL CONSERVATIVES HELPING ELECT LE...</td>\n",
       "      <td>CHRIS MARSTON</td>\n",
       "      <td>PO BOX 26141</td>\n",
       "      <td>NaN</td>\n",
       "      <td>ALEXANDRIA</td>\n",
       "      <td>VA</td>\n",
       "      <td>22313</td>\n",
       "      <td>D</td>\n",
       "      <td>Q</td>\n",
       "      <td>UNK</td>\n",
       "      <td>Q</td>\n",
       "      <td>NaN</td>\n",
       "      <td>MICHELE BACHMANN</td>\n",
       "      <td>NaN</td>\n",
       "      <td>MARSTON, CHRIS</td>\n",
       "      <td>PO BOX 26141</td>\n",
       "      <td>PO BOX 26141, ALEXANDRIA, VA 22313</td>\n",
       "    </tr>\n",
       "    <tr>\n",
       "      <td>5364</td>\n",
       "      <td>C00499020</td>\n",
       "      <td>FREEDOMWORKS FOR AMERICA</td>\n",
       "      <td>CHRIS MARSTON</td>\n",
       "      <td>111 K ST NE</td>\n",
       "      <td>STE 600</td>\n",
       "      <td>WASHINGTON</td>\n",
       "      <td>DC</td>\n",
       "      <td>20002</td>\n",
       "      <td>U</td>\n",
       "      <td>O</td>\n",
       "      <td>UNK</td>\n",
       "      <td>Q</td>\n",
       "      <td>NaN</td>\n",
       "      <td>NONE</td>\n",
       "      <td>NaN</td>\n",
       "      <td>MARSTON, CHRIS</td>\n",
       "      <td>111 K ST NE</td>\n",
       "      <td>111 K ST NE, WASHINGTON, DC 20002</td>\n",
       "    </tr>\n",
       "  </tbody>\n",
       "</table>\n",
       "</div>"
      ],
      "text/plain": [
       "        cmte_id                                            cmte_nm  \\\n",
       "3558  C00433524                      DUNCAN D. HUNTER FOR CONGRESS   \n",
       "3723  C00441014                           ROB WITTMAN FOR CONGRESS   \n",
       "3919  C00449926              AMERICAN FUTURE FUND POLITICAL ACTION   \n",
       "4932  C00486738  MANY INDIVIDUAL CONSERVATIVES HELPING ELECT LE...   \n",
       "5364  C00499020                           FREEDOMWORKS FOR AMERICA   \n",
       "\n",
       "            tres_nm      cmte_st1 cmte_st2   cmte_city cmte_st cmte_zip  \\\n",
       "3558  CHRIS MARSTON   PO BOX 1545      NaN    EL CAJON      CA    92022   \n",
       "3723  CHRIS MARSTON   PO BOX 3770      NaN      OAKTON      VA    22124   \n",
       "3919  CHRIS MARSTON  45 N HILL DR  STE 100   WARRENTON      VA    20186   \n",
       "4932  CHRIS MARSTON  PO BOX 26141      NaN  ALEXANDRIA      VA    22313   \n",
       "5364  CHRIS MARSTON   111 K ST NE  STE 600  WASHINGTON      DC    20002   \n",
       "\n",
       "     cmte_dsgn cmte_tp cmte_pty_affiliation cmte_filing_freq org_tp  \\\n",
       "3558         P       H                  REP                Q    NaN   \n",
       "3723         P       H                  REP                Q    NaN   \n",
       "3919         U       W                  UNK                M    NaN   \n",
       "4932         D       Q                  UNK                Q    NaN   \n",
       "5364         U       O                  UNK                Q    NaN   \n",
       "\n",
       "               connected_org_nm    cand_id    orig_tres_nm orig_cmte_st1  \\\n",
       "3558        HUNTER VICTORY FUND  H8CA52052  MARSTON, CHRIS   PO BOX 1545   \n",
       "3723  WITTMAN VICTORY COMMITTEE  H8VA01147  MARSTON, CHRIS   PO BOX 3770   \n",
       "3919                        NaN        NaN  MARSTON, CHRIS  45 N HILL DR   \n",
       "4932           MICHELE BACHMANN        NaN  MARSTON, CHRIS  PO BOX 26141   \n",
       "5364                       NONE        NaN  MARSTON, CHRIS   111 K ST NE   \n",
       "\n",
       "                                 address  \n",
       "3558     PO BOX 1545, EL CAJON, CA 92022  \n",
       "3723       PO BOX 3770, OAKTON, VA 22124  \n",
       "3919   45 N HILL DR, WARRENTON, VA 20186  \n",
       "4932  PO BOX 26141, ALEXANDRIA, VA 22313  \n",
       "5364   111 K ST NE, WASHINGTON, DC 20002  "
      ]
     },
     "execution_count": 33,
     "metadata": {},
     "output_type": "execute_result"
    }
   ],
   "source": [
    "cm[cm['tres_nm'] == 'CHRIS MARSTON'].head()"
   ]
  },
  {
   "cell_type": "code",
   "execution_count": 34,
   "metadata": {},
   "outputs": [
    {
     "name": "stdout",
     "output_type": "stream",
     "text": [
      "orig len: 13\n",
      "new len: 122\n"
     ]
    }
   ],
   "source": [
    "new = 'CHRISTOPHER MARSTON'\n",
    "dones.append(new)\n",
    "\n",
    "these = findall(['c', 'marst'])\n",
    "\n",
    "getall(these, new)"
   ]
  },
  {
   "cell_type": "code",
   "execution_count": 35,
   "metadata": {},
   "outputs": [
    {
     "data": {
      "text/plain": [
       "['ERNESTO MARTINEZ', 'STEVEN MARTIN']"
      ]
     },
     "execution_count": 35,
     "metadata": {},
     "output_type": "execute_result"
    }
   ],
   "source": [
    "findall(['st', ' martin'])"
   ]
  },
  {
   "cell_type": "code",
   "execution_count": 36,
   "metadata": {},
   "outputs": [
    {
     "data": {
      "text/html": [
       "<div>\n",
       "<style scoped>\n",
       "    .dataframe tbody tr th:only-of-type {\n",
       "        vertical-align: middle;\n",
       "    }\n",
       "\n",
       "    .dataframe tbody tr th {\n",
       "        vertical-align: top;\n",
       "    }\n",
       "\n",
       "    .dataframe thead th {\n",
       "        text-align: right;\n",
       "    }\n",
       "</style>\n",
       "<table border=\"1\" class=\"dataframe\">\n",
       "  <thead>\n",
       "    <tr style=\"text-align: right;\">\n",
       "      <th></th>\n",
       "      <th>cmte_id</th>\n",
       "      <th>cmte_nm</th>\n",
       "      <th>tres_nm</th>\n",
       "      <th>cmte_st1</th>\n",
       "      <th>cmte_st2</th>\n",
       "      <th>cmte_city</th>\n",
       "      <th>cmte_st</th>\n",
       "      <th>cmte_zip</th>\n",
       "      <th>cmte_dsgn</th>\n",
       "      <th>cmte_tp</th>\n",
       "      <th>cmte_pty_affiliation</th>\n",
       "      <th>cmte_filing_freq</th>\n",
       "      <th>org_tp</th>\n",
       "      <th>connected_org_nm</th>\n",
       "      <th>cand_id</th>\n",
       "      <th>orig_tres_nm</th>\n",
       "      <th>orig_cmte_st1</th>\n",
       "      <th>address</th>\n",
       "    </tr>\n",
       "  </thead>\n",
       "  <tbody>\n",
       "  </tbody>\n",
       "</table>\n",
       "</div>"
      ],
      "text/plain": [
       "Empty DataFrame\n",
       "Columns: [cmte_id, cmte_nm, tres_nm, cmte_st1, cmte_st2, cmte_city, cmte_st, cmte_zip, cmte_dsgn, cmte_tp, cmte_pty_affiliation, cmte_filing_freq, org_tp, connected_org_nm, cand_id, orig_tres_nm, orig_cmte_st1, address]\n",
       "Index: []"
      ]
     },
     "execution_count": 36,
     "metadata": {},
     "output_type": "execute_result"
    }
   ],
   "source": [
    "cm[cm['tres_nm'] == 'STEVE MARTIN']"
   ]
  },
  {
   "cell_type": "code",
   "execution_count": 37,
   "metadata": {},
   "outputs": [
    {
     "data": {
      "text/html": [
       "<div>\n",
       "<style scoped>\n",
       "    .dataframe tbody tr th:only-of-type {\n",
       "        vertical-align: middle;\n",
       "    }\n",
       "\n",
       "    .dataframe tbody tr th {\n",
       "        vertical-align: top;\n",
       "    }\n",
       "\n",
       "    .dataframe thead th {\n",
       "        text-align: right;\n",
       "    }\n",
       "</style>\n",
       "<table border=\"1\" class=\"dataframe\">\n",
       "  <thead>\n",
       "    <tr style=\"text-align: right;\">\n",
       "      <th></th>\n",
       "      <th>cmte_id</th>\n",
       "      <th>cmte_nm</th>\n",
       "      <th>tres_nm</th>\n",
       "      <th>cmte_st1</th>\n",
       "      <th>cmte_st2</th>\n",
       "      <th>cmte_city</th>\n",
       "      <th>cmte_st</th>\n",
       "      <th>cmte_zip</th>\n",
       "      <th>cmte_dsgn</th>\n",
       "      <th>cmte_tp</th>\n",
       "      <th>cmte_pty_affiliation</th>\n",
       "      <th>cmte_filing_freq</th>\n",
       "      <th>org_tp</th>\n",
       "      <th>connected_org_nm</th>\n",
       "      <th>cand_id</th>\n",
       "      <th>orig_tres_nm</th>\n",
       "      <th>orig_cmte_st1</th>\n",
       "      <th>address</th>\n",
       "    </tr>\n",
       "  </thead>\n",
       "  <tbody>\n",
       "    <tr>\n",
       "      <td>1361</td>\n",
       "      <td>C00233353</td>\n",
       "      <td>AD ALLIANCE</td>\n",
       "      <td>STEVEN MARTIN</td>\n",
       "      <td>PO BOX 30844</td>\n",
       "      <td>NaN</td>\n",
       "      <td>BETHESDA</td>\n",
       "      <td>MD</td>\n",
       "      <td>20824</td>\n",
       "      <td>B</td>\n",
       "      <td>Q</td>\n",
       "      <td>UNK</td>\n",
       "      <td>M</td>\n",
       "      <td>M</td>\n",
       "      <td>NONE</td>\n",
       "      <td>NaN</td>\n",
       "      <td>MARTIN, STEVEN JR.</td>\n",
       "      <td>PO BOX 30844</td>\n",
       "      <td>PO BOX 30844, BETHESDA, MD 20824</td>\n",
       "    </tr>\n",
       "    <tr>\n",
       "      <td>2507</td>\n",
       "      <td>C00372532</td>\n",
       "      <td>MICHAEL BURGESS FOR CONGRESS</td>\n",
       "      <td>STEVEN MARTIN</td>\n",
       "      <td>PO BOX 2334</td>\n",
       "      <td>NaN</td>\n",
       "      <td>DENTON</td>\n",
       "      <td>TX</td>\n",
       "      <td>76202</td>\n",
       "      <td>P</td>\n",
       "      <td>H</td>\n",
       "      <td>REP</td>\n",
       "      <td>Q</td>\n",
       "      <td>NaN</td>\n",
       "      <td>CARE AMERICA</td>\n",
       "      <td>H2TX26093</td>\n",
       "      <td>MARTIN, STEVEN G. JR.</td>\n",
       "      <td>PO BOX 2334</td>\n",
       "      <td>PO BOX 2334, DENTON, TX 76202</td>\n",
       "    </tr>\n",
       "    <tr>\n",
       "      <td>3207</td>\n",
       "      <td>C00415208</td>\n",
       "      <td>LONE STAR LEADERSHIP PAC</td>\n",
       "      <td>STEVEN MARTIN</td>\n",
       "      <td>PO BOX 30844</td>\n",
       "      <td>NaN</td>\n",
       "      <td>BETHESDA</td>\n",
       "      <td>MD</td>\n",
       "      <td>20824</td>\n",
       "      <td>D</td>\n",
       "      <td>Q</td>\n",
       "      <td>UNK</td>\n",
       "      <td>M</td>\n",
       "      <td>NaN</td>\n",
       "      <td>MICHAEL BURGESS</td>\n",
       "      <td>NaN</td>\n",
       "      <td>MARTIN, STEVEN G. JR.</td>\n",
       "      <td>PO BOX 30844</td>\n",
       "      <td>PO BOX 30844, BETHESDA, MD 20824</td>\n",
       "    </tr>\n",
       "    <tr>\n",
       "      <td>5181</td>\n",
       "      <td>C00493783</td>\n",
       "      <td>FRESHMAN AGRICULTURAL REPUBLICAN MEMBERS TRUST...</td>\n",
       "      <td>STEVEN MARTIN</td>\n",
       "      <td>PO BOX 30844</td>\n",
       "      <td>NaN</td>\n",
       "      <td>BETHESDA</td>\n",
       "      <td>MD</td>\n",
       "      <td>20824</td>\n",
       "      <td>J</td>\n",
       "      <td>H</td>\n",
       "      <td>UNK</td>\n",
       "      <td>Q</td>\n",
       "      <td>NaN</td>\n",
       "      <td>NONE</td>\n",
       "      <td>H0AL02087</td>\n",
       "      <td>MARTIN, STEVEN G. JR.</td>\n",
       "      <td>PO BOX 30844</td>\n",
       "      <td>PO BOX 30844, BETHESDA, MD 20824</td>\n",
       "    </tr>\n",
       "    <tr>\n",
       "      <td>6843</td>\n",
       "      <td>C00551366</td>\n",
       "      <td>RIGHTNOW WOMEN PAC</td>\n",
       "      <td>STEVEN MARTIN</td>\n",
       "      <td>PO BOX 30844</td>\n",
       "      <td>NaN</td>\n",
       "      <td>BETHESDA</td>\n",
       "      <td>MD</td>\n",
       "      <td>20824</td>\n",
       "      <td>U</td>\n",
       "      <td>Q</td>\n",
       "      <td>UNK</td>\n",
       "      <td>Q</td>\n",
       "      <td>NaN</td>\n",
       "      <td>NONE</td>\n",
       "      <td>NaN</td>\n",
       "      <td>MARTIN, STEVEN G. JR.</td>\n",
       "      <td>PO BOX 30844</td>\n",
       "      <td>PO BOX 30844, BETHESDA, MD 20824</td>\n",
       "    </tr>\n",
       "  </tbody>\n",
       "</table>\n",
       "</div>"
      ],
      "text/plain": [
       "        cmte_id                                            cmte_nm  \\\n",
       "1361  C00233353                                        AD ALLIANCE   \n",
       "2507  C00372532                       MICHAEL BURGESS FOR CONGRESS   \n",
       "3207  C00415208                           LONE STAR LEADERSHIP PAC   \n",
       "5181  C00493783  FRESHMAN AGRICULTURAL REPUBLICAN MEMBERS TRUST...   \n",
       "6843  C00551366                                 RIGHTNOW WOMEN PAC   \n",
       "\n",
       "            tres_nm      cmte_st1 cmte_st2 cmte_city cmte_st cmte_zip  \\\n",
       "1361  STEVEN MARTIN  PO BOX 30844      NaN  BETHESDA      MD    20824   \n",
       "2507  STEVEN MARTIN   PO BOX 2334      NaN    DENTON      TX    76202   \n",
       "3207  STEVEN MARTIN  PO BOX 30844      NaN  BETHESDA      MD    20824   \n",
       "5181  STEVEN MARTIN  PO BOX 30844      NaN  BETHESDA      MD    20824   \n",
       "6843  STEVEN MARTIN  PO BOX 30844      NaN  BETHESDA      MD    20824   \n",
       "\n",
       "     cmte_dsgn cmte_tp cmte_pty_affiliation cmte_filing_freq org_tp  \\\n",
       "1361         B       Q                  UNK                M      M   \n",
       "2507         P       H                  REP                Q    NaN   \n",
       "3207         D       Q                  UNK                M    NaN   \n",
       "5181         J       H                  UNK                Q    NaN   \n",
       "6843         U       Q                  UNK                Q    NaN   \n",
       "\n",
       "     connected_org_nm    cand_id           orig_tres_nm orig_cmte_st1  \\\n",
       "1361             NONE        NaN     MARTIN, STEVEN JR.  PO BOX 30844   \n",
       "2507     CARE AMERICA  H2TX26093  MARTIN, STEVEN G. JR.   PO BOX 2334   \n",
       "3207  MICHAEL BURGESS        NaN  MARTIN, STEVEN G. JR.  PO BOX 30844   \n",
       "5181             NONE  H0AL02087  MARTIN, STEVEN G. JR.  PO BOX 30844   \n",
       "6843             NONE        NaN  MARTIN, STEVEN G. JR.  PO BOX 30844   \n",
       "\n",
       "                               address  \n",
       "1361  PO BOX 30844, BETHESDA, MD 20824  \n",
       "2507     PO BOX 2334, DENTON, TX 76202  \n",
       "3207  PO BOX 30844, BETHESDA, MD 20824  \n",
       "5181  PO BOX 30844, BETHESDA, MD 20824  \n",
       "6843  PO BOX 30844, BETHESDA, MD 20824  "
      ]
     },
     "execution_count": 37,
     "metadata": {},
     "output_type": "execute_result"
    }
   ],
   "source": [
    "cm[cm['tres_nm'] == 'STEVEN MARTIN'].head()"
   ]
  },
  {
   "cell_type": "code",
   "execution_count": 38,
   "metadata": {},
   "outputs": [],
   "source": [
    "dones.extend(findall(['st', ' martin']))"
   ]
  },
  {
   "cell_type": "code",
   "execution_count": 39,
   "metadata": {},
   "outputs": [
    {
     "data": {
      "text/plain": [
       "['BRADLEY CRATE', 'VIVIAN CRATER']"
      ]
     },
     "execution_count": 39,
     "metadata": {},
     "output_type": "execute_result"
    }
   ],
   "source": [
    "findall(' crat')"
   ]
  },
  {
   "cell_type": "code",
   "execution_count": 40,
   "metadata": {},
   "outputs": [],
   "source": [
    "dones.extend(findall(' crat'))"
   ]
  },
  {
   "cell_type": "code",
   "execution_count": 41,
   "metadata": {},
   "outputs": [
    {
     "data": {
      "text/plain": [
       "['THOMAS CHARLES DATWYLER', 'THOMAS DATWYLER']"
      ]
     },
     "execution_count": 41,
     "metadata": {},
     "output_type": "execute_result"
    }
   ],
   "source": [
    "findall('datwyler')"
   ]
  },
  {
   "cell_type": "code",
   "execution_count": 42,
   "metadata": {},
   "outputs": [
    {
     "name": "stdout",
     "output_type": "stream",
     "text": [
      "orig len: 36\n",
      "new len: 37\n"
     ]
    }
   ],
   "source": [
    "new = 'THOMAS DATWYLER'\n",
    "dones.append(new)\n",
    "\n",
    "these = findall('datwyler')\n",
    "\n",
    "getall(these, new)"
   ]
  },
  {
   "cell_type": "code",
   "execution_count": 43,
   "metadata": {},
   "outputs": [
    {
     "data": {
      "text/plain": [
       "['JUDITH ZAMORE', 'JUDY ZAMORE']"
      ]
     },
     "execution_count": 43,
     "metadata": {},
     "output_type": "execute_result"
    }
   ],
   "source": [
    "findall('zamore')"
   ]
  },
  {
   "cell_type": "code",
   "execution_count": 44,
   "metadata": {},
   "outputs": [
    {
     "name": "stdout",
     "output_type": "stream",
     "text": [
      "orig len: 108\n",
      "new len: 109\n"
     ]
    }
   ],
   "source": [
    "new = 'JUDITH ZAMORE'\n",
    "dones.append(new)\n",
    "\n",
    "these = findall('zamore')\n",
    "\n",
    "getall(these, new)"
   ]
  },
  {
   "cell_type": "code",
   "execution_count": 45,
   "metadata": {},
   "outputs": [
    {
     "data": {
      "text/plain": [
       "['BRENDAN PETTYJOHN', 'JAY PETTERSON']"
      ]
     },
     "execution_count": 45,
     "metadata": {},
     "output_type": "execute_result"
    }
   ],
   "source": [
    "findall(' pett')"
   ]
  },
  {
   "cell_type": "code",
   "execution_count": 46,
   "metadata": {},
   "outputs": [],
   "source": [
    "dones.extend(findall(' pett'))"
   ]
  },
  {
   "cell_type": "code",
   "execution_count": 47,
   "metadata": {},
   "outputs": [
    {
     "data": {
      "text/plain": [
       "['JENNIFER MAY']"
      ]
     },
     "execution_count": 47,
     "metadata": {},
     "output_type": "execute_result"
    }
   ],
   "source": [
    "findall(['jen', 'may'])"
   ]
  },
  {
   "cell_type": "code",
   "execution_count": 48,
   "metadata": {},
   "outputs": [],
   "source": [
    "dones.append('JENNIFER MAY')"
   ]
  },
  {
   "cell_type": "code",
   "execution_count": 49,
   "metadata": {},
   "outputs": [
    {
     "data": {
      "text/html": [
       "<div>\n",
       "<style scoped>\n",
       "    .dataframe tbody tr th:only-of-type {\n",
       "        vertical-align: middle;\n",
       "    }\n",
       "\n",
       "    .dataframe tbody tr th {\n",
       "        vertical-align: top;\n",
       "    }\n",
       "\n",
       "    .dataframe thead th {\n",
       "        text-align: right;\n",
       "    }\n",
       "</style>\n",
       "<table border=\"1\" class=\"dataframe\">\n",
       "  <thead>\n",
       "    <tr style=\"text-align: right;\">\n",
       "      <th></th>\n",
       "      <th>cmte_id</th>\n",
       "      <th>cmte_nm</th>\n",
       "      <th>tres_nm</th>\n",
       "      <th>cmte_st1</th>\n",
       "      <th>cmte_st2</th>\n",
       "      <th>cmte_city</th>\n",
       "      <th>cmte_st</th>\n",
       "      <th>cmte_zip</th>\n",
       "      <th>cmte_dsgn</th>\n",
       "      <th>cmte_tp</th>\n",
       "      <th>cmte_pty_affiliation</th>\n",
       "      <th>cmte_filing_freq</th>\n",
       "      <th>org_tp</th>\n",
       "      <th>connected_org_nm</th>\n",
       "      <th>cand_id</th>\n",
       "      <th>orig_tres_nm</th>\n",
       "      <th>orig_cmte_st1</th>\n",
       "      <th>address</th>\n",
       "    </tr>\n",
       "  </thead>\n",
       "  <tbody>\n",
       "    <tr>\n",
       "      <td>7845</td>\n",
       "      <td>C00572859</td>\n",
       "      <td>GRETCHEN DRISKELL FOR CONGRESS</td>\n",
       "      <td>JENNIFER FAIRFIELD</td>\n",
       "      <td>PO BOX 464</td>\n",
       "      <td>NaN</td>\n",
       "      <td>SALINE</td>\n",
       "      <td>MI</td>\n",
       "      <td>48176</td>\n",
       "      <td>P</td>\n",
       "      <td>H</td>\n",
       "      <td>DEM</td>\n",
       "      <td>Q</td>\n",
       "      <td>NaN</td>\n",
       "      <td>NONE</td>\n",
       "      <td>H6MI07223</td>\n",
       "      <td>FAIRFIELD, JENNIFER</td>\n",
       "      <td>PO BOX 464</td>\n",
       "      <td>PO BOX 464, SALINE, MI 48176</td>\n",
       "    </tr>\n",
       "  </tbody>\n",
       "</table>\n",
       "</div>"
      ],
      "text/plain": [
       "        cmte_id                         cmte_nm             tres_nm  \\\n",
       "7845  C00572859  GRETCHEN DRISKELL FOR CONGRESS  JENNIFER FAIRFIELD   \n",
       "\n",
       "        cmte_st1 cmte_st2 cmte_city cmte_st cmte_zip cmte_dsgn cmte_tp  \\\n",
       "7845  PO BOX 464      NaN    SALINE      MI    48176         P       H   \n",
       "\n",
       "     cmte_pty_affiliation cmte_filing_freq org_tp connected_org_nm    cand_id  \\\n",
       "7845                  DEM                Q    NaN             NONE  H6MI07223   \n",
       "\n",
       "             orig_tres_nm orig_cmte_st1                       address  \n",
       "7845  FAIRFIELD, JENNIFER    PO BOX 464  PO BOX 464, SALINE, MI 48176  "
      ]
     },
     "execution_count": 49,
     "metadata": {},
     "output_type": "execute_result"
    }
   ],
   "source": [
    "# first jennifer for driskell\n",
    "cm[cm['tres_nm'] == 'JENNIFER FAIRFIELD']"
   ]
  },
  {
   "cell_type": "code",
   "execution_count": 50,
   "metadata": {},
   "outputs": [
    {
     "data": {
      "text/html": [
       "<div>\n",
       "<style scoped>\n",
       "    .dataframe tbody tr th:only-of-type {\n",
       "        vertical-align: middle;\n",
       "    }\n",
       "\n",
       "    .dataframe tbody tr th {\n",
       "        vertical-align: top;\n",
       "    }\n",
       "\n",
       "    .dataframe thead th {\n",
       "        text-align: right;\n",
       "    }\n",
       "</style>\n",
       "<table border=\"1\" class=\"dataframe\">\n",
       "  <thead>\n",
       "    <tr style=\"text-align: right;\">\n",
       "      <th></th>\n",
       "      <th>cmte_id</th>\n",
       "      <th>cmte_nm</th>\n",
       "      <th>tres_nm</th>\n",
       "      <th>cmte_st1</th>\n",
       "      <th>cmte_st2</th>\n",
       "      <th>cmte_city</th>\n",
       "      <th>cmte_st</th>\n",
       "      <th>cmte_zip</th>\n",
       "      <th>cmte_dsgn</th>\n",
       "      <th>cmte_tp</th>\n",
       "      <th>cmte_pty_affiliation</th>\n",
       "      <th>cmte_filing_freq</th>\n",
       "      <th>org_tp</th>\n",
       "      <th>connected_org_nm</th>\n",
       "      <th>cand_id</th>\n",
       "      <th>orig_tres_nm</th>\n",
       "      <th>orig_cmte_st1</th>\n",
       "      <th>address</th>\n",
       "    </tr>\n",
       "  </thead>\n",
       "  <tbody>\n",
       "  </tbody>\n",
       "</table>\n",
       "</div>"
      ],
      "text/plain": [
       "Empty DataFrame\n",
       "Columns: [cmte_id, cmte_nm, tres_nm, cmte_st1, cmte_st2, cmte_city, cmte_st, cmte_zip, cmte_dsgn, cmte_tp, cmte_pty_affiliation, cmte_filing_freq, org_tp, connected_org_nm, cand_id, orig_tres_nm, orig_cmte_st1, address]\n",
       "Index: []"
      ]
     },
     "execution_count": 50,
     "metadata": {},
     "output_type": "execute_result"
    }
   ],
   "source": [
    "# second jennifer for driskell.  same?\n",
    "cm[(cm['tres_nm'] == 'JENNIFER MAY') & (cm['cmte_st1'] == 'PO BOX 464')]"
   ]
  },
  {
   "cell_type": "code",
   "execution_count": 51,
   "metadata": {},
   "outputs": [
    {
     "data": {
      "text/plain": [
       "['CRAIG WILLIAMSON', 'LES WILLIAMSON', 'SEAN WILLIAMSON']"
      ]
     },
     "execution_count": 51,
     "metadata": {},
     "output_type": "execute_result"
    }
   ],
   "source": [
    "findall(' williamson')"
   ]
  },
  {
   "cell_type": "code",
   "execution_count": 52,
   "metadata": {},
   "outputs": [],
   "source": [
    "dones.extend(findall(' williamson'))"
   ]
  },
  {
   "cell_type": "code",
   "execution_count": 53,
   "metadata": {},
   "outputs": [
    {
     "data": {
      "text/plain": [
       "['CHUCK KYRISH', 'JANICA KYRIACOPOULOS', 'SAMMY KYE']"
      ]
     },
     "execution_count": 53,
     "metadata": {},
     "output_type": "execute_result"
    }
   ],
   "source": [
    "findall(' ky')"
   ]
  },
  {
   "cell_type": "code",
   "execution_count": 54,
   "metadata": {},
   "outputs": [],
   "source": [
    "dones.extend(findall(' ky'))"
   ]
  },
  {
   "cell_type": "code",
   "execution_count": 55,
   "metadata": {},
   "outputs": [
    {
     "data": {
      "text/plain": [
       "['CATHLEEN WATKINS',\n",
       " 'CHARLES WATKINS',\n",
       " 'MICHAEL WATKINS',\n",
       " 'NANCY WATKINS',\n",
       " 'WILLIAM WATKINS']"
      ]
     },
     "execution_count": 55,
     "metadata": {},
     "output_type": "execute_result"
    }
   ],
   "source": [
    "findall(' watkins')"
   ]
  },
  {
   "cell_type": "code",
   "execution_count": 56,
   "metadata": {},
   "outputs": [
    {
     "data": {
      "text/html": [
       "<div>\n",
       "<style scoped>\n",
       "    .dataframe tbody tr th:only-of-type {\n",
       "        vertical-align: middle;\n",
       "    }\n",
       "\n",
       "    .dataframe tbody tr th {\n",
       "        vertical-align: top;\n",
       "    }\n",
       "\n",
       "    .dataframe thead th {\n",
       "        text-align: right;\n",
       "    }\n",
       "</style>\n",
       "<table border=\"1\" class=\"dataframe\">\n",
       "  <thead>\n",
       "    <tr style=\"text-align: right;\">\n",
       "      <th></th>\n",
       "      <th>cmte_id</th>\n",
       "      <th>cmte_nm</th>\n",
       "      <th>tres_nm</th>\n",
       "      <th>cmte_st1</th>\n",
       "      <th>cmte_st2</th>\n",
       "      <th>cmte_city</th>\n",
       "      <th>cmte_st</th>\n",
       "      <th>cmte_zip</th>\n",
       "      <th>cmte_dsgn</th>\n",
       "      <th>cmte_tp</th>\n",
       "      <th>cmte_pty_affiliation</th>\n",
       "      <th>cmte_filing_freq</th>\n",
       "      <th>org_tp</th>\n",
       "      <th>connected_org_nm</th>\n",
       "      <th>cand_id</th>\n",
       "      <th>orig_tres_nm</th>\n",
       "      <th>orig_cmte_st1</th>\n",
       "      <th>address</th>\n",
       "    </tr>\n",
       "  </thead>\n",
       "  <tbody>\n",
       "  </tbody>\n",
       "</table>\n",
       "</div>"
      ],
      "text/plain": [
       "Empty DataFrame\n",
       "Columns: [cmte_id, cmte_nm, tres_nm, cmte_st1, cmte_st2, cmte_city, cmte_st, cmte_zip, cmte_dsgn, cmte_tp, cmte_pty_affiliation, cmte_filing_freq, org_tp, connected_org_nm, cand_id, orig_tres_nm, orig_cmte_st1, address]\n",
       "Index: []"
      ]
     },
     "execution_count": 56,
     "metadata": {},
     "output_type": "execute_result"
    }
   ],
   "source": [
    "cm[cm['tres_nm'] == 'BILL WATKINS']"
   ]
  },
  {
   "cell_type": "code",
   "execution_count": 57,
   "metadata": {},
   "outputs": [
    {
     "data": {
      "text/html": [
       "<div>\n",
       "<style scoped>\n",
       "    .dataframe tbody tr th:only-of-type {\n",
       "        vertical-align: middle;\n",
       "    }\n",
       "\n",
       "    .dataframe tbody tr th {\n",
       "        vertical-align: top;\n",
       "    }\n",
       "\n",
       "    .dataframe thead th {\n",
       "        text-align: right;\n",
       "    }\n",
       "</style>\n",
       "<table border=\"1\" class=\"dataframe\">\n",
       "  <thead>\n",
       "    <tr style=\"text-align: right;\">\n",
       "      <th></th>\n",
       "      <th>cmte_id</th>\n",
       "      <th>cmte_nm</th>\n",
       "      <th>tres_nm</th>\n",
       "      <th>cmte_st1</th>\n",
       "      <th>cmte_st2</th>\n",
       "      <th>cmte_city</th>\n",
       "      <th>cmte_st</th>\n",
       "      <th>cmte_zip</th>\n",
       "      <th>cmte_dsgn</th>\n",
       "      <th>cmte_tp</th>\n",
       "      <th>cmte_pty_affiliation</th>\n",
       "      <th>cmte_filing_freq</th>\n",
       "      <th>org_tp</th>\n",
       "      <th>connected_org_nm</th>\n",
       "      <th>cand_id</th>\n",
       "      <th>orig_tres_nm</th>\n",
       "      <th>orig_cmte_st1</th>\n",
       "      <th>address</th>\n",
       "    </tr>\n",
       "  </thead>\n",
       "  <tbody>\n",
       "    <tr>\n",
       "      <td>2551</td>\n",
       "      <td>C00376244</td>\n",
       "      <td>KUSTOFF FOR CONGRESS 2002</td>\n",
       "      <td>WILLIAM WATKINS</td>\n",
       "      <td>1661 AARON BRENNER DR</td>\n",
       "      <td>SUITE 300</td>\n",
       "      <td>MEMPHIS</td>\n",
       "      <td>TN</td>\n",
       "      <td>38120</td>\n",
       "      <td>A</td>\n",
       "      <td>H</td>\n",
       "      <td>REP</td>\n",
       "      <td>Q</td>\n",
       "      <td>NaN</td>\n",
       "      <td>NONE</td>\n",
       "      <td>H2TN07103</td>\n",
       "      <td>WATKINS, WILLIAM H JR</td>\n",
       "      <td>1661 AARON BRENNER DRIVE</td>\n",
       "      <td>1661 AARON BRENNER DR, MEMPHIS, TN 38120</td>\n",
       "    </tr>\n",
       "    <tr>\n",
       "      <td>10036</td>\n",
       "      <td>C00614826</td>\n",
       "      <td>KUSTOFF FOR CONGRESS</td>\n",
       "      <td>WILLIAM WATKINS</td>\n",
       "      <td>1661 AARON BRENNER DR</td>\n",
       "      <td>STE 300</td>\n",
       "      <td>MEMPHIS</td>\n",
       "      <td>TN</td>\n",
       "      <td>38120</td>\n",
       "      <td>P</td>\n",
       "      <td>H</td>\n",
       "      <td>REP</td>\n",
       "      <td>Q</td>\n",
       "      <td>NaN</td>\n",
       "      <td>NaN</td>\n",
       "      <td>H2TN07103</td>\n",
       "      <td>WATKINS, WILLIAM H JR</td>\n",
       "      <td>1661 AARON BRENNER DR</td>\n",
       "      <td>1661 AARON BRENNER DR, MEMPHIS, TN 38120</td>\n",
       "    </tr>\n",
       "  </tbody>\n",
       "</table>\n",
       "</div>"
      ],
      "text/plain": [
       "         cmte_id                    cmte_nm          tres_nm  \\\n",
       "2551   C00376244  KUSTOFF FOR CONGRESS 2002  WILLIAM WATKINS   \n",
       "10036  C00614826       KUSTOFF FOR CONGRESS  WILLIAM WATKINS   \n",
       "\n",
       "                    cmte_st1   cmte_st2 cmte_city cmte_st cmte_zip cmte_dsgn  \\\n",
       "2551   1661 AARON BRENNER DR  SUITE 300   MEMPHIS      TN    38120         A   \n",
       "10036  1661 AARON BRENNER DR    STE 300   MEMPHIS      TN    38120         P   \n",
       "\n",
       "      cmte_tp cmte_pty_affiliation cmte_filing_freq org_tp connected_org_nm  \\\n",
       "2551        H                  REP                Q    NaN             NONE   \n",
       "10036       H                  REP                Q    NaN              NaN   \n",
       "\n",
       "         cand_id           orig_tres_nm             orig_cmte_st1  \\\n",
       "2551   H2TN07103  WATKINS, WILLIAM H JR  1661 AARON BRENNER DRIVE   \n",
       "10036  H2TN07103  WATKINS, WILLIAM H JR     1661 AARON BRENNER DR   \n",
       "\n",
       "                                        address  \n",
       "2551   1661 AARON BRENNER DR, MEMPHIS, TN 38120  \n",
       "10036  1661 AARON BRENNER DR, MEMPHIS, TN 38120  "
      ]
     },
     "execution_count": 57,
     "metadata": {},
     "output_type": "execute_result"
    }
   ],
   "source": [
    "cm[cm['tres_nm'] == 'WILLIAM WATKINS']"
   ]
  },
  {
   "cell_type": "code",
   "execution_count": 58,
   "metadata": {},
   "outputs": [
    {
     "name": "stdout",
     "output_type": "stream",
     "text": [
      "orig len: 2\n",
      "new len: 2\n"
     ]
    }
   ],
   "source": [
    "new = 'WILLIAM WATKINS'\n",
    "dones.append(new)\n",
    "\n",
    "these = ['BILL WATKINS', 'WILLIAM WATKINS']\n",
    "\n",
    "getall(these, new)"
   ]
  },
  {
   "cell_type": "code",
   "execution_count": 59,
   "metadata": {},
   "outputs": [],
   "source": [
    "dones.extend(findall(' watkins'))"
   ]
  },
  {
   "cell_type": "code",
   "execution_count": 60,
   "metadata": {},
   "outputs": [
    {
     "data": {
      "text/plain": [
       "['CABELL HOBBS', 'JENNIFER HOBBS', 'NICOLE HOBBS', 'SCOTT HOBBS']"
      ]
     },
     "execution_count": 60,
     "metadata": {},
     "output_type": "execute_result"
    }
   ],
   "source": [
    "findall('hobbs')"
   ]
  },
  {
   "cell_type": "code",
   "execution_count": 61,
   "metadata": {},
   "outputs": [
    {
     "data": {
      "text/plain": [
       "['JASON GILES', 'RODNEY GILES']"
      ]
     },
     "execution_count": 61,
     "metadata": {},
     "output_type": "execute_result"
    }
   ],
   "source": [
    "findall('giles')"
   ]
  },
  {
   "cell_type": "code",
   "execution_count": 62,
   "metadata": {},
   "outputs": [],
   "source": [
    "dones.extend(findall('giles'))"
   ]
  },
  {
   "cell_type": "code",
   "execution_count": 63,
   "metadata": {},
   "outputs": [],
   "source": [
    "dones.extend(findall('hobbs'))"
   ]
  },
  {
   "cell_type": "code",
   "execution_count": 64,
   "metadata": {},
   "outputs": [
    {
     "data": {
      "text/plain": [
       "['ADAM SATTERFIELD', 'DAVID SATTERFIELD', 'STACEY SATTERLEE']"
      ]
     },
     "execution_count": 64,
     "metadata": {},
     "output_type": "execute_result"
    }
   ],
   "source": [
    "findall(' satt')"
   ]
  },
  {
   "cell_type": "code",
   "execution_count": 65,
   "metadata": {},
   "outputs": [],
   "source": [
    "dones.extend(findall(' satt'))"
   ]
  },
  {
   "cell_type": "code",
   "execution_count": 66,
   "metadata": {},
   "outputs": [
    {
     "data": {
      "text/plain": [
       "['BOBBY CURTIS BRACKETT',\n",
       " 'DAVID MARLOW CURTIS',\n",
       " 'ELIZABETH CURTIS',\n",
       " 'JAMES CURTIS',\n",
       " 'KEVIN CURTIS',\n",
       " 'LIZ CURTIS',\n",
       " 'MICHAEL CURTIS DEAN',\n",
       " 'RON CURTIS',\n",
       " 'STEVEN DALE CURTIS']"
      ]
     },
     "execution_count": 66,
     "metadata": {},
     "output_type": "execute_result"
    }
   ],
   "source": [
    "findall(' curtis')"
   ]
  },
  {
   "cell_type": "code",
   "execution_count": 67,
   "metadata": {},
   "outputs": [
    {
     "data": {
      "text/plain": [
       "['BOBBY CURTIS BRACKETT']"
      ]
     },
     "execution_count": 67,
     "metadata": {},
     "output_type": "execute_result"
    }
   ],
   "source": [
    "findall('brackett')"
   ]
  },
  {
   "cell_type": "code",
   "execution_count": 68,
   "metadata": {},
   "outputs": [
    {
     "data": {
      "text/plain": [
       "['MICHAEL CURTIS DEAN']"
      ]
     },
     "execution_count": 68,
     "metadata": {},
     "output_type": "execute_result"
    }
   ],
   "source": [
    "findall(['mi', 'dean'])"
   ]
  },
  {
   "cell_type": "code",
   "execution_count": 69,
   "metadata": {},
   "outputs": [
    {
     "name": "stdout",
     "output_type": "stream",
     "text": [
      "orig len: 15\n",
      "new len: 17\n"
     ]
    }
   ],
   "source": [
    "new = 'ELIZABETH CURTIS'\n",
    "dones.append(new)\n",
    "\n",
    "these = findall(['liz', 'curtis'])\n",
    "\n",
    "getall(these, new)"
   ]
  },
  {
   "cell_type": "code",
   "execution_count": 70,
   "metadata": {},
   "outputs": [],
   "source": [
    "dones.extend(findall(' curtis'))"
   ]
  },
  {
   "cell_type": "code",
   "execution_count": 71,
   "metadata": {},
   "outputs": [
    {
     "data": {
      "text/plain": [
       "['ADAM DAVIS',\n",
       " 'BRADLEY DAVIS',\n",
       " 'BRIAN DAVIS',\n",
       " 'BROOKE DAVIS',\n",
       " 'CASEY DAVISON',\n",
       " 'CLAY PARKER DAVIS',\n",
       " 'CRYSTAL DAVIS-TAYLOR',\n",
       " 'CYNTHIA DAVIS',\n",
       " 'DEBORAH DAVIS',\n",
       " 'DONALD DAVIS',\n",
       " 'DYLAN DAVIS',\n",
       " 'GARY DAVIS',\n",
       " 'HAROLD DAVIS',\n",
       " 'JEFF DAVIS',\n",
       " 'JEREMY DAVIS',\n",
       " 'JOE DAVIS',\n",
       " 'JONATHAN DAVIS',\n",
       " 'KAYOLKA DAVIS',\n",
       " 'KEITH DAVIS',\n",
       " 'KELLY DAVIS',\n",
       " 'KETH DAVIS',\n",
       " 'LANCE DAVIS',\n",
       " 'LESLIE WALTER DAVIS',\n",
       " 'MARIAN DAVIS',\n",
       " 'MARIE ELIZABETH DAVIS',\n",
       " 'MARIENELLA DAVIS',\n",
       " 'MARK DAVIS',\n",
       " 'MICHAEL DAVIS',\n",
       " 'MICHELE DAVISON',\n",
       " 'MILTON DAVIS',\n",
       " 'PAUL DAVIS',\n",
       " 'REGINALD DAVIS',\n",
       " 'RICHARD BERNARD DAVIS',\n",
       " 'RICK DAVISON',\n",
       " 'ROBERT DAVIS',\n",
       " 'SANDRA DAVIS',\n",
       " 'SUSAN DAVIS',\n",
       " 'VANDY DAVIS',\n",
       " 'VERA DAVIS',\n",
       " 'VIRGINIA DAVIS',\n",
       " 'WAYNE DAVIS',\n",
       " 'WILLIAM DAVIS']"
      ]
     },
     "execution_count": 71,
     "metadata": {},
     "output_type": "execute_result"
    }
   ],
   "source": [
    "findall(' davis')"
   ]
  },
  {
   "cell_type": "code",
   "execution_count": 72,
   "metadata": {},
   "outputs": [
    {
     "data": {
      "text/html": [
       "<div>\n",
       "<style scoped>\n",
       "    .dataframe tbody tr th:only-of-type {\n",
       "        vertical-align: middle;\n",
       "    }\n",
       "\n",
       "    .dataframe tbody tr th {\n",
       "        vertical-align: top;\n",
       "    }\n",
       "\n",
       "    .dataframe thead th {\n",
       "        text-align: right;\n",
       "    }\n",
       "</style>\n",
       "<table border=\"1\" class=\"dataframe\">\n",
       "  <thead>\n",
       "    <tr style=\"text-align: right;\">\n",
       "      <th></th>\n",
       "      <th>cmte_id</th>\n",
       "      <th>cmte_nm</th>\n",
       "      <th>tres_nm</th>\n",
       "      <th>cmte_st1</th>\n",
       "      <th>cmte_st2</th>\n",
       "      <th>cmte_city</th>\n",
       "      <th>cmte_st</th>\n",
       "      <th>cmte_zip</th>\n",
       "      <th>cmte_dsgn</th>\n",
       "      <th>cmte_tp</th>\n",
       "      <th>cmte_pty_affiliation</th>\n",
       "      <th>cmte_filing_freq</th>\n",
       "      <th>org_tp</th>\n",
       "      <th>connected_org_nm</th>\n",
       "      <th>cand_id</th>\n",
       "      <th>orig_tres_nm</th>\n",
       "      <th>orig_cmte_st1</th>\n",
       "      <th>address</th>\n",
       "    </tr>\n",
       "  </thead>\n",
       "  <tbody>\n",
       "    <tr>\n",
       "      <td>12062</td>\n",
       "      <td>C00638536</td>\n",
       "      <td>FRIENDS OF DANNER KLINE</td>\n",
       "      <td>WILLIAM DAVIS</td>\n",
       "      <td>PO BOX 430191</td>\n",
       "      <td>NaN</td>\n",
       "      <td>VESTAVIA HILLS</td>\n",
       "      <td>AL</td>\n",
       "      <td>35243</td>\n",
       "      <td>P</td>\n",
       "      <td>H</td>\n",
       "      <td>DEM</td>\n",
       "      <td>Q</td>\n",
       "      <td>NaN</td>\n",
       "      <td>NONE</td>\n",
       "      <td>H8AL06099</td>\n",
       "      <td>DAVIS, WILLIAM</td>\n",
       "      <td>PO BOX 430191</td>\n",
       "      <td>PO BOX 430191, VESTAVIA HILLS, AL 35243</td>\n",
       "    </tr>\n",
       "  </tbody>\n",
       "</table>\n",
       "</div>"
      ],
      "text/plain": [
       "         cmte_id                  cmte_nm        tres_nm       cmte_st1  \\\n",
       "12062  C00638536  FRIENDS OF DANNER KLINE  WILLIAM DAVIS  PO BOX 430191   \n",
       "\n",
       "      cmte_st2       cmte_city cmte_st cmte_zip cmte_dsgn cmte_tp  \\\n",
       "12062      NaN  VESTAVIA HILLS      AL    35243         P       H   \n",
       "\n",
       "      cmte_pty_affiliation cmte_filing_freq org_tp connected_org_nm  \\\n",
       "12062                  DEM                Q    NaN             NONE   \n",
       "\n",
       "         cand_id    orig_tres_nm  orig_cmte_st1  \\\n",
       "12062  H8AL06099  DAVIS, WILLIAM  PO BOX 430191   \n",
       "\n",
       "                                       address  \n",
       "12062  PO BOX 430191, VESTAVIA HILLS, AL 35243  "
      ]
     },
     "execution_count": 72,
     "metadata": {},
     "output_type": "execute_result"
    }
   ],
   "source": [
    "cm[cm['tres_nm'].apply(lambda x: x in ['BILLY DAVIS', 'WILLIAM DAVIS'])]"
   ]
  },
  {
   "cell_type": "code",
   "execution_count": 73,
   "metadata": {},
   "outputs": [
    {
     "data": {
      "text/html": [
       "<div>\n",
       "<style scoped>\n",
       "    .dataframe tbody tr th:only-of-type {\n",
       "        vertical-align: middle;\n",
       "    }\n",
       "\n",
       "    .dataframe tbody tr th {\n",
       "        vertical-align: top;\n",
       "    }\n",
       "\n",
       "    .dataframe thead th {\n",
       "        text-align: right;\n",
       "    }\n",
       "</style>\n",
       "<table border=\"1\" class=\"dataframe\">\n",
       "  <thead>\n",
       "    <tr style=\"text-align: right;\">\n",
       "      <th></th>\n",
       "      <th>cmte_id</th>\n",
       "      <th>cmte_nm</th>\n",
       "      <th>tres_nm</th>\n",
       "      <th>cmte_st1</th>\n",
       "      <th>cmte_st2</th>\n",
       "      <th>cmte_city</th>\n",
       "      <th>cmte_st</th>\n",
       "      <th>cmte_zip</th>\n",
       "      <th>cmte_dsgn</th>\n",
       "      <th>cmte_tp</th>\n",
       "      <th>cmte_pty_affiliation</th>\n",
       "      <th>cmte_filing_freq</th>\n",
       "      <th>org_tp</th>\n",
       "      <th>connected_org_nm</th>\n",
       "      <th>cand_id</th>\n",
       "      <th>orig_tres_nm</th>\n",
       "      <th>orig_cmte_st1</th>\n",
       "      <th>address</th>\n",
       "    </tr>\n",
       "  </thead>\n",
       "  <tbody>\n",
       "    <tr>\n",
       "      <td>14187</td>\n",
       "      <td>C00665232</td>\n",
       "      <td>WIN IN 2018</td>\n",
       "      <td>KETH DAVIS</td>\n",
       "      <td>228 S WASHINGTON ST</td>\n",
       "      <td>SUITE 115</td>\n",
       "      <td>ALEXANDRIA</td>\n",
       "      <td>VA</td>\n",
       "      <td>22314</td>\n",
       "      <td>J</td>\n",
       "      <td>N</td>\n",
       "      <td>UNK</td>\n",
       "      <td>Q</td>\n",
       "      <td>NaN</td>\n",
       "      <td>NONE</td>\n",
       "      <td>NaN</td>\n",
       "      <td>DAVIS, KETH A.</td>\n",
       "      <td>228 S. WASHINGTON STREET</td>\n",
       "      <td>228 S WASHINGTON ST, ALEXANDRIA, VA 22314</td>\n",
       "    </tr>\n",
       "  </tbody>\n",
       "</table>\n",
       "</div>"
      ],
      "text/plain": [
       "         cmte_id      cmte_nm     tres_nm             cmte_st1   cmte_st2  \\\n",
       "14187  C00665232  WIN IN 2018  KETH DAVIS  228 S WASHINGTON ST  SUITE 115   \n",
       "\n",
       "        cmte_city cmte_st cmte_zip cmte_dsgn cmte_tp cmte_pty_affiliation  \\\n",
       "14187  ALEXANDRIA      VA    22314         J       N                  UNK   \n",
       "\n",
       "      cmte_filing_freq org_tp connected_org_nm cand_id    orig_tres_nm  \\\n",
       "14187                Q    NaN             NONE     NaN  DAVIS, KETH A.   \n",
       "\n",
       "                  orig_cmte_st1                                    address  \n",
       "14187  228 S. WASHINGTON STREET  228 S WASHINGTON ST, ALEXANDRIA, VA 22314  "
      ]
     },
     "execution_count": 73,
     "metadata": {},
     "output_type": "execute_result"
    }
   ],
   "source": [
    "cm[cm['tres_nm'] == 'KETH DAVIS']"
   ]
  },
  {
   "cell_type": "code",
   "execution_count": 74,
   "metadata": {
    "scrolled": false
   },
   "outputs": [
    {
     "data": {
      "text/html": [
       "<div>\n",
       "<style scoped>\n",
       "    .dataframe tbody tr th:only-of-type {\n",
       "        vertical-align: middle;\n",
       "    }\n",
       "\n",
       "    .dataframe tbody tr th {\n",
       "        vertical-align: top;\n",
       "    }\n",
       "\n",
       "    .dataframe thead th {\n",
       "        text-align: right;\n",
       "    }\n",
       "</style>\n",
       "<table border=\"1\" class=\"dataframe\">\n",
       "  <thead>\n",
       "    <tr style=\"text-align: right;\">\n",
       "      <th></th>\n",
       "      <th>cmte_id</th>\n",
       "      <th>cmte_nm</th>\n",
       "      <th>tres_nm</th>\n",
       "      <th>cmte_st1</th>\n",
       "      <th>cmte_st2</th>\n",
       "      <th>cmte_city</th>\n",
       "      <th>cmte_st</th>\n",
       "      <th>cmte_zip</th>\n",
       "      <th>cmte_dsgn</th>\n",
       "      <th>cmte_tp</th>\n",
       "      <th>cmte_pty_affiliation</th>\n",
       "      <th>cmte_filing_freq</th>\n",
       "      <th>org_tp</th>\n",
       "      <th>connected_org_nm</th>\n",
       "      <th>cand_id</th>\n",
       "      <th>orig_tres_nm</th>\n",
       "      <th>orig_cmte_st1</th>\n",
       "      <th>address</th>\n",
       "    </tr>\n",
       "  </thead>\n",
       "  <tbody>\n",
       "    <tr>\n",
       "      <td>212</td>\n",
       "      <td>C00027466</td>\n",
       "      <td>NRSC</td>\n",
       "      <td>KEITH DAVIS</td>\n",
       "      <td>425 2ND ST NE</td>\n",
       "      <td>NaN</td>\n",
       "      <td>WASHINGTON</td>\n",
       "      <td>DC</td>\n",
       "      <td>20002</td>\n",
       "      <td>U</td>\n",
       "      <td>Y</td>\n",
       "      <td>REP</td>\n",
       "      <td>M</td>\n",
       "      <td>NaN</td>\n",
       "      <td>2018 TILLIS SENATE CANDIDATE FUND</td>\n",
       "      <td>NaN</td>\n",
       "      <td>DAVIS, KEITH</td>\n",
       "      <td>425 2ND STREET NE</td>\n",
       "      <td>425 2ND ST NE, WASHINGTON, DC 20002</td>\n",
       "    </tr>\n",
       "    <tr>\n",
       "      <td>395</td>\n",
       "      <td>C00075820</td>\n",
       "      <td>NRCC</td>\n",
       "      <td>KEITH DAVIS</td>\n",
       "      <td>320 FIRST ST SE</td>\n",
       "      <td>.</td>\n",
       "      <td>WASHINGTON</td>\n",
       "      <td>DC</td>\n",
       "      <td>20003</td>\n",
       "      <td>U</td>\n",
       "      <td>Y</td>\n",
       "      <td>REP</td>\n",
       "      <td>M</td>\n",
       "      <td>NaN</td>\n",
       "      <td>COLE COMBINED COMMITTEE</td>\n",
       "      <td>NaN</td>\n",
       "      <td>DAVIS, KEITH A.</td>\n",
       "      <td>320 FIRST STREET SE</td>\n",
       "      <td>320 FIRST ST SE, WASHINGTON, DC 20003</td>\n",
       "    </tr>\n",
       "    <tr>\n",
       "      <td>2013</td>\n",
       "      <td>C00330720</td>\n",
       "      <td>TRUST PAC TEAM REPUBLICANS FOR UTILIZING SENSI...</td>\n",
       "      <td>KEITH DAVIS</td>\n",
       "      <td>228 S WASHINGTON ST</td>\n",
       "      <td>SUITE 115</td>\n",
       "      <td>ALEXANDRIA</td>\n",
       "      <td>VA</td>\n",
       "      <td>22314</td>\n",
       "      <td>D</td>\n",
       "      <td>Q</td>\n",
       "      <td>UNK</td>\n",
       "      <td>Q</td>\n",
       "      <td>NaN</td>\n",
       "      <td>NONE</td>\n",
       "      <td>NaN</td>\n",
       "      <td>DAVIS, KEITH A.</td>\n",
       "      <td>228 S. WASHINGTON STREET</td>\n",
       "      <td>228 S WASHINGTON ST, ALEXANDRIA, VA 22314</td>\n",
       "    </tr>\n",
       "    <tr>\n",
       "      <td>2738</td>\n",
       "      <td>C00388421</td>\n",
       "      <td>TENN POLITICAL ACTION COMMITTEE INC (TENN PAC)</td>\n",
       "      <td>KEITH DAVIS</td>\n",
       "      <td>228 S WASHINGTON ST</td>\n",
       "      <td>NaN</td>\n",
       "      <td>ALEXANDRIA</td>\n",
       "      <td>VA</td>\n",
       "      <td>22314</td>\n",
       "      <td>D</td>\n",
       "      <td>Q</td>\n",
       "      <td>UNK</td>\n",
       "      <td>Q</td>\n",
       "      <td>NaN</td>\n",
       "      <td>NONE</td>\n",
       "      <td>NaN</td>\n",
       "      <td>DAVIS, KEITH A.</td>\n",
       "      <td>228 S WASHINGTON STREET SUITE 115</td>\n",
       "      <td>228 S WASHINGTON ST, ALEXANDRIA, VA 22314</td>\n",
       "    </tr>\n",
       "    <tr>\n",
       "      <td>3819</td>\n",
       "      <td>C00445387</td>\n",
       "      <td>IMS HEALTH PAC</td>\n",
       "      <td>KEITH DAVIS</td>\n",
       "      <td>228 S WASHINGTON ST</td>\n",
       "      <td>NaN</td>\n",
       "      <td>ALEXANDRIA</td>\n",
       "      <td>VA</td>\n",
       "      <td>22314</td>\n",
       "      <td>U</td>\n",
       "      <td>Q</td>\n",
       "      <td>UNK</td>\n",
       "      <td>T</td>\n",
       "      <td>C</td>\n",
       "      <td>NaN</td>\n",
       "      <td>NaN</td>\n",
       "      <td>KEITH A DAVIS</td>\n",
       "      <td>228 S WASHINGTON STREET SUITE 115</td>\n",
       "      <td>228 S WASHINGTON ST, ALEXANDRIA, VA 22314</td>\n",
       "    </tr>\n",
       "  </tbody>\n",
       "</table>\n",
       "</div>"
      ],
      "text/plain": [
       "        cmte_id                                            cmte_nm  \\\n",
       "212   C00027466                                               NRSC   \n",
       "395   C00075820                                               NRCC   \n",
       "2013  C00330720  TRUST PAC TEAM REPUBLICANS FOR UTILIZING SENSI...   \n",
       "2738  C00388421     TENN POLITICAL ACTION COMMITTEE INC (TENN PAC)   \n",
       "3819  C00445387                                     IMS HEALTH PAC   \n",
       "\n",
       "          tres_nm             cmte_st1   cmte_st2   cmte_city cmte_st  \\\n",
       "212   KEITH DAVIS        425 2ND ST NE        NaN  WASHINGTON      DC   \n",
       "395   KEITH DAVIS      320 FIRST ST SE          .  WASHINGTON      DC   \n",
       "2013  KEITH DAVIS  228 S WASHINGTON ST  SUITE 115  ALEXANDRIA      VA   \n",
       "2738  KEITH DAVIS  228 S WASHINGTON ST        NaN  ALEXANDRIA      VA   \n",
       "3819  KEITH DAVIS  228 S WASHINGTON ST        NaN  ALEXANDRIA      VA   \n",
       "\n",
       "     cmte_zip cmte_dsgn cmte_tp cmte_pty_affiliation cmte_filing_freq org_tp  \\\n",
       "212     20002         U       Y                  REP                M    NaN   \n",
       "395     20003         U       Y                  REP                M    NaN   \n",
       "2013    22314         D       Q                  UNK                Q    NaN   \n",
       "2738    22314         D       Q                  UNK                Q    NaN   \n",
       "3819    22314         U       Q                  UNK                T      C   \n",
       "\n",
       "                       connected_org_nm cand_id     orig_tres_nm  \\\n",
       "212   2018 TILLIS SENATE CANDIDATE FUND     NaN     DAVIS, KEITH   \n",
       "395             COLE COMBINED COMMITTEE     NaN  DAVIS, KEITH A.   \n",
       "2013                               NONE     NaN  DAVIS, KEITH A.   \n",
       "2738                               NONE     NaN  DAVIS, KEITH A.   \n",
       "3819                                NaN     NaN    KEITH A DAVIS   \n",
       "\n",
       "                          orig_cmte_st1  \\\n",
       "212                   425 2ND STREET NE   \n",
       "395                 320 FIRST STREET SE   \n",
       "2013           228 S. WASHINGTON STREET   \n",
       "2738  228 S WASHINGTON STREET SUITE 115   \n",
       "3819  228 S WASHINGTON STREET SUITE 115   \n",
       "\n",
       "                                        address  \n",
       "212         425 2ND ST NE, WASHINGTON, DC 20002  \n",
       "395       320 FIRST ST SE, WASHINGTON, DC 20003  \n",
       "2013  228 S WASHINGTON ST, ALEXANDRIA, VA 22314  \n",
       "2738  228 S WASHINGTON ST, ALEXANDRIA, VA 22314  \n",
       "3819  228 S WASHINGTON ST, ALEXANDRIA, VA 22314  "
      ]
     },
     "execution_count": 74,
     "metadata": {},
     "output_type": "execute_result"
    }
   ],
   "source": [
    "cm[cm['tres_nm'] == 'KEITH DAVIS'].head()"
   ]
  },
  {
   "cell_type": "code",
   "execution_count": 75,
   "metadata": {},
   "outputs": [
    {
     "name": "stdout",
     "output_type": "stream",
     "text": [
      "orig len: 44\n",
      "new len: 45\n"
     ]
    }
   ],
   "source": [
    "new = 'KEITH DAVIS' \n",
    "dones.append(new)\n",
    "\n",
    "these = ['KEITH DAVIS', 'KETH DAVIS']\n",
    "\n",
    "getall(these, new)"
   ]
  },
  {
   "cell_type": "code",
   "execution_count": 76,
   "metadata": {},
   "outputs": [
    {
     "data": {
      "text/html": [
       "<div>\n",
       "<style scoped>\n",
       "    .dataframe tbody tr th:only-of-type {\n",
       "        vertical-align: middle;\n",
       "    }\n",
       "\n",
       "    .dataframe tbody tr th {\n",
       "        vertical-align: top;\n",
       "    }\n",
       "\n",
       "    .dataframe thead th {\n",
       "        text-align: right;\n",
       "    }\n",
       "</style>\n",
       "<table border=\"1\" class=\"dataframe\">\n",
       "  <thead>\n",
       "    <tr style=\"text-align: right;\">\n",
       "      <th></th>\n",
       "      <th>cmte_id</th>\n",
       "      <th>cmte_nm</th>\n",
       "      <th>tres_nm</th>\n",
       "      <th>cmte_st1</th>\n",
       "      <th>cmte_st2</th>\n",
       "      <th>cmte_city</th>\n",
       "      <th>cmte_st</th>\n",
       "      <th>cmte_zip</th>\n",
       "      <th>cmte_dsgn</th>\n",
       "      <th>cmte_tp</th>\n",
       "      <th>cmte_pty_affiliation</th>\n",
       "      <th>cmte_filing_freq</th>\n",
       "      <th>org_tp</th>\n",
       "      <th>connected_org_nm</th>\n",
       "      <th>cand_id</th>\n",
       "      <th>orig_tres_nm</th>\n",
       "      <th>orig_cmte_st1</th>\n",
       "      <th>address</th>\n",
       "    </tr>\n",
       "  </thead>\n",
       "  <tbody>\n",
       "    <tr>\n",
       "      <td>15960</td>\n",
       "      <td>C00683573</td>\n",
       "      <td>STRENGTH AND PROGRESS INC</td>\n",
       "      <td>MICHAEL DAVIS</td>\n",
       "      <td>30 N GOULD ST</td>\n",
       "      <td>STE 7981</td>\n",
       "      <td>SHERIDAN</td>\n",
       "      <td>WY</td>\n",
       "      <td>82801</td>\n",
       "      <td>U</td>\n",
       "      <td>N</td>\n",
       "      <td>UNK</td>\n",
       "      <td>Q</td>\n",
       "      <td>NaN</td>\n",
       "      <td>NaN</td>\n",
       "      <td>NaN</td>\n",
       "      <td>DAVIS, MICHAEL</td>\n",
       "      <td>30 N GOULD ST</td>\n",
       "      <td>30 N GOULD ST, SHERIDAN, WY 82801</td>\n",
       "    </tr>\n",
       "  </tbody>\n",
       "</table>\n",
       "</div>"
      ],
      "text/plain": [
       "         cmte_id                    cmte_nm        tres_nm       cmte_st1  \\\n",
       "15960  C00683573  STRENGTH AND PROGRESS INC  MICHAEL DAVIS  30 N GOULD ST   \n",
       "\n",
       "       cmte_st2 cmte_city cmte_st cmte_zip cmte_dsgn cmte_tp  \\\n",
       "15960  STE 7981  SHERIDAN      WY    82801         U       N   \n",
       "\n",
       "      cmte_pty_affiliation cmte_filing_freq org_tp connected_org_nm cand_id  \\\n",
       "15960                  UNK                Q    NaN              NaN     NaN   \n",
       "\n",
       "         orig_tres_nm  orig_cmte_st1                            address  \n",
       "15960  DAVIS, MICHAEL  30 N GOULD ST  30 N GOULD ST, SHERIDAN, WY 82801  "
      ]
     },
     "execution_count": 76,
     "metadata": {},
     "output_type": "execute_result"
    }
   ],
   "source": [
    "cm[cm['tres_nm'].apply(lambda x: x in ['MIKE DAVIS', 'MICHAEL DAVIS'])]"
   ]
  },
  {
   "cell_type": "code",
   "execution_count": 77,
   "metadata": {},
   "outputs": [],
   "source": [
    "dones.extend(findall(' davis'))"
   ]
  },
  {
   "cell_type": "code",
   "execution_count": 78,
   "metadata": {},
   "outputs": [
    {
     "data": {
      "text/plain": [
       "['ROB PHILLIPS', 'ROBERT PHILLIPS']"
      ]
     },
     "execution_count": 78,
     "metadata": {},
     "output_type": "execute_result"
    }
   ],
   "source": [
    "findall(['phillips', 'ob'])"
   ]
  },
  {
   "cell_type": "code",
   "execution_count": 79,
   "metadata": {},
   "outputs": [
    {
     "name": "stdout",
     "output_type": "stream",
     "text": [
      "orig len: 20\n",
      "new len: 24\n"
     ]
    }
   ],
   "source": [
    "new = 'ROBERT PHILLIPS' \n",
    "dones.append(new)\n",
    "\n",
    "these = findall(['phillips', 'ob'])\n",
    "\n",
    "getall(these, new)"
   ]
  },
  {
   "cell_type": "code",
   "execution_count": 80,
   "metadata": {},
   "outputs": [
    {
     "data": {
      "text/plain": [
       "['STEVE MELE', 'STEVEN MELE']"
      ]
     },
     "execution_count": 80,
     "metadata": {},
     "output_type": "execute_result"
    }
   ],
   "source": [
    "findall(' mele')"
   ]
  },
  {
   "cell_type": "code",
   "execution_count": 81,
   "metadata": {},
   "outputs": [
    {
     "data": {
      "text/html": [
       "<div>\n",
       "<style scoped>\n",
       "    .dataframe tbody tr th:only-of-type {\n",
       "        vertical-align: middle;\n",
       "    }\n",
       "\n",
       "    .dataframe tbody tr th {\n",
       "        vertical-align: top;\n",
       "    }\n",
       "\n",
       "    .dataframe thead th {\n",
       "        text-align: right;\n",
       "    }\n",
       "</style>\n",
       "<table border=\"1\" class=\"dataframe\">\n",
       "  <thead>\n",
       "    <tr style=\"text-align: right;\">\n",
       "      <th></th>\n",
       "      <th>cmte_id</th>\n",
       "      <th>cmte_nm</th>\n",
       "      <th>tres_nm</th>\n",
       "      <th>cmte_st1</th>\n",
       "      <th>cmte_st2</th>\n",
       "      <th>cmte_city</th>\n",
       "      <th>cmte_st</th>\n",
       "      <th>cmte_zip</th>\n",
       "      <th>cmte_dsgn</th>\n",
       "      <th>cmte_tp</th>\n",
       "      <th>cmte_pty_affiliation</th>\n",
       "      <th>cmte_filing_freq</th>\n",
       "      <th>org_tp</th>\n",
       "      <th>connected_org_nm</th>\n",
       "      <th>cand_id</th>\n",
       "      <th>orig_tres_nm</th>\n",
       "      <th>orig_cmte_st1</th>\n",
       "      <th>address</th>\n",
       "    </tr>\n",
       "  </thead>\n",
       "  <tbody>\n",
       "    <tr>\n",
       "      <td>5594</td>\n",
       "      <td>C00507574</td>\n",
       "      <td>MOTOR CITY PAC</td>\n",
       "      <td>STEVE MELE</td>\n",
       "      <td>611 PENNSYLVANIA AVE SE</td>\n",
       "      <td>STE 143</td>\n",
       "      <td>WASHINGTON</td>\n",
       "      <td>DC</td>\n",
       "      <td>20003</td>\n",
       "      <td>D</td>\n",
       "      <td>Q</td>\n",
       "      <td>UNK</td>\n",
       "      <td>M</td>\n",
       "      <td>NaN</td>\n",
       "      <td>NaN</td>\n",
       "      <td>NaN</td>\n",
       "      <td>MELE, STEVE</td>\n",
       "      <td>611 PENNSYLVANIA AVENUE SE</td>\n",
       "      <td>611 PENNSYLVANIA AVE SE, WASHINGTON, DC 20003</td>\n",
       "    </tr>\n",
       "    <tr>\n",
       "      <td>12747</td>\n",
       "      <td>C00650366</td>\n",
       "      <td>LESLIE COCKBURN FOR CONGRESS</td>\n",
       "      <td>STEVE MELE</td>\n",
       "      <td>PO BOX 186</td>\n",
       "      <td>NaN</td>\n",
       "      <td>SPERRYVILLE</td>\n",
       "      <td>VA</td>\n",
       "      <td>22740</td>\n",
       "      <td>P</td>\n",
       "      <td>H</td>\n",
       "      <td>DEM</td>\n",
       "      <td>Q</td>\n",
       "      <td>NaN</td>\n",
       "      <td>NONE</td>\n",
       "      <td>H8VA05155</td>\n",
       "      <td>MELE, STEVE</td>\n",
       "      <td>PO BOX 186</td>\n",
       "      <td>PO BOX 186, SPERRYVILLE, VA 22740</td>\n",
       "    </tr>\n",
       "    <tr>\n",
       "      <td>16182</td>\n",
       "      <td>C00685842</td>\n",
       "      <td>THE ARENA CANDIDATE PAC HOUSE VICTORY FUND</td>\n",
       "      <td>STEVE MELE</td>\n",
       "      <td>611 PENNSYLVANIA AVE SE</td>\n",
       "      <td>NUM 143</td>\n",
       "      <td>WASHINGTON</td>\n",
       "      <td>DC</td>\n",
       "      <td>20003</td>\n",
       "      <td>J</td>\n",
       "      <td>H</td>\n",
       "      <td>UNK</td>\n",
       "      <td>T</td>\n",
       "      <td>NaN</td>\n",
       "      <td>NaN</td>\n",
       "      <td>NaN</td>\n",
       "      <td>MELE, STEVE</td>\n",
       "      <td>611 PENNSYLVANIA AVE SE</td>\n",
       "      <td>611 PENNSYLVANIA AVE SE, WASHINGTON, DC 20003</td>\n",
       "    </tr>\n",
       "    <tr>\n",
       "      <td>16851</td>\n",
       "      <td>C00692988</td>\n",
       "      <td>ALL FOR OUR COUNTRY VICTORY FUND</td>\n",
       "      <td>STEVE MELE</td>\n",
       "      <td>611 PENNSYLVANIA AVE SE</td>\n",
       "      <td>STE. 143</td>\n",
       "      <td>WASHINGTON</td>\n",
       "      <td>DC</td>\n",
       "      <td>20003</td>\n",
       "      <td>J</td>\n",
       "      <td>N</td>\n",
       "      <td>UNK</td>\n",
       "      <td>Q</td>\n",
       "      <td>NaN</td>\n",
       "      <td>NONE</td>\n",
       "      <td>NaN</td>\n",
       "      <td>MELE, STEVE</td>\n",
       "      <td>611 PENNSYLVANIA AVENUE SE</td>\n",
       "      <td>611 PENNSYLVANIA AVE SE, WASHINGTON, DC 20003</td>\n",
       "    </tr>\n",
       "  </tbody>\n",
       "</table>\n",
       "</div>"
      ],
      "text/plain": [
       "         cmte_id                                     cmte_nm     tres_nm  \\\n",
       "5594   C00507574                              MOTOR CITY PAC  STEVE MELE   \n",
       "12747  C00650366                LESLIE COCKBURN FOR CONGRESS  STEVE MELE   \n",
       "16182  C00685842  THE ARENA CANDIDATE PAC HOUSE VICTORY FUND  STEVE MELE   \n",
       "16851  C00692988            ALL FOR OUR COUNTRY VICTORY FUND  STEVE MELE   \n",
       "\n",
       "                      cmte_st1  cmte_st2    cmte_city cmte_st cmte_zip  \\\n",
       "5594   611 PENNSYLVANIA AVE SE   STE 143   WASHINGTON      DC    20003   \n",
       "12747               PO BOX 186       NaN  SPERRYVILLE      VA    22740   \n",
       "16182  611 PENNSYLVANIA AVE SE   NUM 143   WASHINGTON      DC    20003   \n",
       "16851  611 PENNSYLVANIA AVE SE  STE. 143   WASHINGTON      DC    20003   \n",
       "\n",
       "      cmte_dsgn cmte_tp cmte_pty_affiliation cmte_filing_freq org_tp  \\\n",
       "5594          D       Q                  UNK                M    NaN   \n",
       "12747         P       H                  DEM                Q    NaN   \n",
       "16182         J       H                  UNK                T    NaN   \n",
       "16851         J       N                  UNK                Q    NaN   \n",
       "\n",
       "      connected_org_nm    cand_id orig_tres_nm               orig_cmte_st1  \\\n",
       "5594               NaN        NaN  MELE, STEVE  611 PENNSYLVANIA AVENUE SE   \n",
       "12747             NONE  H8VA05155  MELE, STEVE                  PO BOX 186   \n",
       "16182              NaN        NaN  MELE, STEVE     611 PENNSYLVANIA AVE SE   \n",
       "16851             NONE        NaN  MELE, STEVE  611 PENNSYLVANIA AVENUE SE   \n",
       "\n",
       "                                             address  \n",
       "5594   611 PENNSYLVANIA AVE SE, WASHINGTON, DC 20003  \n",
       "12747              PO BOX 186, SPERRYVILLE, VA 22740  \n",
       "16182  611 PENNSYLVANIA AVE SE, WASHINGTON, DC 20003  \n",
       "16851  611 PENNSYLVANIA AVE SE, WASHINGTON, DC 20003  "
      ]
     },
     "execution_count": 81,
     "metadata": {},
     "output_type": "execute_result"
    }
   ],
   "source": [
    "cm[cm['tres_nm'] == 'STEVE MELE']"
   ]
  },
  {
   "cell_type": "code",
   "execution_count": 82,
   "metadata": {},
   "outputs": [
    {
     "data": {
      "text/html": [
       "<div>\n",
       "<style scoped>\n",
       "    .dataframe tbody tr th:only-of-type {\n",
       "        vertical-align: middle;\n",
       "    }\n",
       "\n",
       "    .dataframe tbody tr th {\n",
       "        vertical-align: top;\n",
       "    }\n",
       "\n",
       "    .dataframe thead th {\n",
       "        text-align: right;\n",
       "    }\n",
       "</style>\n",
       "<table border=\"1\" class=\"dataframe\">\n",
       "  <thead>\n",
       "    <tr style=\"text-align: right;\">\n",
       "      <th></th>\n",
       "      <th>cmte_id</th>\n",
       "      <th>cmte_nm</th>\n",
       "      <th>tres_nm</th>\n",
       "      <th>cmte_st1</th>\n",
       "      <th>cmte_st2</th>\n",
       "      <th>cmte_city</th>\n",
       "      <th>cmte_st</th>\n",
       "      <th>cmte_zip</th>\n",
       "      <th>cmte_dsgn</th>\n",
       "      <th>cmte_tp</th>\n",
       "      <th>cmte_pty_affiliation</th>\n",
       "      <th>cmte_filing_freq</th>\n",
       "      <th>org_tp</th>\n",
       "      <th>connected_org_nm</th>\n",
       "      <th>cand_id</th>\n",
       "      <th>orig_tres_nm</th>\n",
       "      <th>orig_cmte_st1</th>\n",
       "      <th>address</th>\n",
       "    </tr>\n",
       "  </thead>\n",
       "  <tbody>\n",
       "    <tr>\n",
       "      <td>6138</td>\n",
       "      <td>C00526657</td>\n",
       "      <td>TOWARD TOMORROW PAC</td>\n",
       "      <td>STEVEN MELE</td>\n",
       "      <td>PO BOX 544</td>\n",
       "      <td>NaN</td>\n",
       "      <td>SAN ANTONIO</td>\n",
       "      <td>TX</td>\n",
       "      <td>78292</td>\n",
       "      <td>D</td>\n",
       "      <td>Q</td>\n",
       "      <td>UNK</td>\n",
       "      <td>M</td>\n",
       "      <td>NaN</td>\n",
       "      <td>NaN</td>\n",
       "      <td>NaN</td>\n",
       "      <td>MELE, STEVEN</td>\n",
       "      <td>PO BOX 544</td>\n",
       "      <td>PO BOX 544, SAN ANTONIO, TX 78292</td>\n",
       "    </tr>\n",
       "    <tr>\n",
       "      <td>8535</td>\n",
       "      <td>C00583104</td>\n",
       "      <td>CORTEZ MASTO VICTORY FUND</td>\n",
       "      <td>STEVEN MELE</td>\n",
       "      <td>611 PENNSYLVANIA AVE SE</td>\n",
       "      <td>NaN</td>\n",
       "      <td>WASHINGTON</td>\n",
       "      <td>DC</td>\n",
       "      <td>20003</td>\n",
       "      <td>J</td>\n",
       "      <td>N</td>\n",
       "      <td>UNK</td>\n",
       "      <td>T</td>\n",
       "      <td>NaN</td>\n",
       "      <td>NaN</td>\n",
       "      <td>NaN</td>\n",
       "      <td>STEVEN MELE</td>\n",
       "      <td>611 PENNSYLVANIA AVE SE SUITE 143</td>\n",
       "      <td>611 PENNSYLVANIA AVE SE, WASHINGTON, DC 20003</td>\n",
       "    </tr>\n",
       "    <tr>\n",
       "      <td>9460</td>\n",
       "      <td>C00606939</td>\n",
       "      <td>ROSEN FOR NEVADA</td>\n",
       "      <td>STEVEN MELE</td>\n",
       "      <td>PO BOX 27195</td>\n",
       "      <td>NaN</td>\n",
       "      <td>LAS VEGAS</td>\n",
       "      <td>NV</td>\n",
       "      <td>89126</td>\n",
       "      <td>P</td>\n",
       "      <td>S</td>\n",
       "      <td>DEM</td>\n",
       "      <td>Q</td>\n",
       "      <td>NaN</td>\n",
       "      <td>ROSEN VICTORY FUND</td>\n",
       "      <td>S8NV00156</td>\n",
       "      <td>MELE, STEVEN</td>\n",
       "      <td>PO BOX 27195</td>\n",
       "      <td>PO BOX 27195, LAS VEGAS, NV 89126</td>\n",
       "    </tr>\n",
       "    <tr>\n",
       "      <td>10991</td>\n",
       "      <td>C00627232</td>\n",
       "      <td>IVOTE ACTION FUND</td>\n",
       "      <td>STEVEN MELE</td>\n",
       "      <td>722 12TH ST NW</td>\n",
       "      <td>3RD FLOOR</td>\n",
       "      <td>WASHINGTON</td>\n",
       "      <td>DC</td>\n",
       "      <td>20005</td>\n",
       "      <td>U</td>\n",
       "      <td>O</td>\n",
       "      <td>UNK</td>\n",
       "      <td>Q</td>\n",
       "      <td>NaN</td>\n",
       "      <td>NONE</td>\n",
       "      <td>NaN</td>\n",
       "      <td>MELE, STEVEN</td>\n",
       "      <td>722 12TH ST NW</td>\n",
       "      <td>722 12TH ST NW, WASHINGTON, DC 20005</td>\n",
       "    </tr>\n",
       "    <tr>\n",
       "      <td>11170</td>\n",
       "      <td>C00629212</td>\n",
       "      <td>ALL FOR OUR COUNTRY LEADERSHIP PAC</td>\n",
       "      <td>STEVEN MELE</td>\n",
       "      <td>611 PENNSYLVANIA AVE SE</td>\n",
       "      <td>NaN</td>\n",
       "      <td>WASHINGTON</td>\n",
       "      <td>DC</td>\n",
       "      <td>20003</td>\n",
       "      <td>D</td>\n",
       "      <td>Q</td>\n",
       "      <td>UNK</td>\n",
       "      <td>M</td>\n",
       "      <td>NaN</td>\n",
       "      <td>NaN</td>\n",
       "      <td>NaN</td>\n",
       "      <td>STEVEN MELE</td>\n",
       "      <td>611 PENNSYLVANIA AVE SE, #143</td>\n",
       "      <td>611 PENNSYLVANIA AVE SE, WASHINGTON, DC 20003</td>\n",
       "    </tr>\n",
       "  </tbody>\n",
       "</table>\n",
       "</div>"
      ],
      "text/plain": [
       "         cmte_id                             cmte_nm      tres_nm  \\\n",
       "6138   C00526657                 TOWARD TOMORROW PAC  STEVEN MELE   \n",
       "8535   C00583104           CORTEZ MASTO VICTORY FUND  STEVEN MELE   \n",
       "9460   C00606939                    ROSEN FOR NEVADA  STEVEN MELE   \n",
       "10991  C00627232                   IVOTE ACTION FUND  STEVEN MELE   \n",
       "11170  C00629212  ALL FOR OUR COUNTRY LEADERSHIP PAC  STEVEN MELE   \n",
       "\n",
       "                      cmte_st1   cmte_st2    cmte_city cmte_st cmte_zip  \\\n",
       "6138                PO BOX 544        NaN  SAN ANTONIO      TX    78292   \n",
       "8535   611 PENNSYLVANIA AVE SE        NaN   WASHINGTON      DC    20003   \n",
       "9460              PO BOX 27195        NaN    LAS VEGAS      NV    89126   \n",
       "10991           722 12TH ST NW  3RD FLOOR   WASHINGTON      DC    20005   \n",
       "11170  611 PENNSYLVANIA AVE SE        NaN   WASHINGTON      DC    20003   \n",
       "\n",
       "      cmte_dsgn cmte_tp cmte_pty_affiliation cmte_filing_freq org_tp  \\\n",
       "6138          D       Q                  UNK                M    NaN   \n",
       "8535          J       N                  UNK                T    NaN   \n",
       "9460          P       S                  DEM                Q    NaN   \n",
       "10991         U       O                  UNK                Q    NaN   \n",
       "11170         D       Q                  UNK                M    NaN   \n",
       "\n",
       "         connected_org_nm    cand_id  orig_tres_nm  \\\n",
       "6138                  NaN        NaN  MELE, STEVEN   \n",
       "8535                  NaN        NaN   STEVEN MELE   \n",
       "9460   ROSEN VICTORY FUND  S8NV00156  MELE, STEVEN   \n",
       "10991                NONE        NaN  MELE, STEVEN   \n",
       "11170                 NaN        NaN   STEVEN MELE   \n",
       "\n",
       "                           orig_cmte_st1  \\\n",
       "6138                          PO BOX 544   \n",
       "8535   611 PENNSYLVANIA AVE SE SUITE 143   \n",
       "9460                        PO BOX 27195   \n",
       "10991                     722 12TH ST NW   \n",
       "11170      611 PENNSYLVANIA AVE SE, #143   \n",
       "\n",
       "                                             address  \n",
       "6138               PO BOX 544, SAN ANTONIO, TX 78292  \n",
       "8535   611 PENNSYLVANIA AVE SE, WASHINGTON, DC 20003  \n",
       "9460               PO BOX 27195, LAS VEGAS, NV 89126  \n",
       "10991           722 12TH ST NW, WASHINGTON, DC 20005  \n",
       "11170  611 PENNSYLVANIA AVE SE, WASHINGTON, DC 20003  "
      ]
     },
     "execution_count": 82,
     "metadata": {},
     "output_type": "execute_result"
    }
   ],
   "source": [
    "cm[cm['tres_nm'] == 'STEVEN MELE'].head()"
   ]
  },
  {
   "cell_type": "code",
   "execution_count": 83,
   "metadata": {},
   "outputs": [
    {
     "name": "stdout",
     "output_type": "stream",
     "text": [
      "orig len: 22\n",
      "new len: 26\n"
     ]
    }
   ],
   "source": [
    "new = 'STEVEN MELE'\n",
    "dones.append(new)\n",
    "\n",
    "these = findall(['steve', ' mele'])\n",
    "\n",
    "getall(these, new)"
   ]
  },
  {
   "cell_type": "code",
   "execution_count": 84,
   "metadata": {},
   "outputs": [
    {
     "data": {
      "text/plain": [
       "['SUE JACKSON', 'SUSAN JACKSON']"
      ]
     },
     "execution_count": 84,
     "metadata": {},
     "output_type": "execute_result"
    }
   ],
   "source": [
    "findall(['su', 'jackson'])"
   ]
  },
  {
   "cell_type": "code",
   "execution_count": 85,
   "metadata": {},
   "outputs": [
    {
     "name": "stdout",
     "output_type": "stream",
     "text": [
      "orig len: 2\n",
      "new len: 21\n"
     ]
    }
   ],
   "source": [
    "new = 'SUSAN JACKSON'\n",
    "dones.append(new)\n",
    "\n",
    "these = findall(['su', 'jackson'])\n",
    "\n",
    "getall(these, new)"
   ]
  },
  {
   "cell_type": "code",
   "execution_count": 86,
   "metadata": {},
   "outputs": [
    {
     "data": {
      "text/plain": [
       "['BENJAMIN OTTENHOFF', 'TIMOTHY OTTEN']"
      ]
     },
     "execution_count": 86,
     "metadata": {},
     "output_type": "execute_result"
    }
   ],
   "source": [
    "findall(' otte')"
   ]
  },
  {
   "cell_type": "code",
   "execution_count": 87,
   "metadata": {},
   "outputs": [
    {
     "name": "stdout",
     "output_type": "stream",
     "text": [
      "orig len: 55\n",
      "new len: 56\n"
     ]
    }
   ],
   "source": [
    "new = 'BENJAMIN OTTENHOFF'\n",
    "dones.append(new)\n",
    "\n",
    "these = findall(' otte')\n",
    "\n",
    "getall(these, new)"
   ]
  },
  {
   "cell_type": "code",
   "execution_count": 88,
   "metadata": {},
   "outputs": [
    {
     "data": {
      "text/plain": [
       "['ANN MCMILLAN',\n",
       " 'COLLIN MCMICHAEL',\n",
       " 'GEETA MCMILLAN',\n",
       " 'KURT MCMILLAN',\n",
       " 'MARY MCMILLAN']"
      ]
     },
     "execution_count": 88,
     "metadata": {},
     "output_type": "execute_result"
    }
   ],
   "source": [
    "findall(' mcmi')"
   ]
  },
  {
   "cell_type": "code",
   "execution_count": 89,
   "metadata": {},
   "outputs": [],
   "source": [
    "dones.extend(findall(' mcmi'))"
   ]
  },
  {
   "cell_type": "code",
   "execution_count": 90,
   "metadata": {},
   "outputs": [
    {
     "data": {
      "text/plain": [
       "['ANDY LEWIS JAMES',\n",
       " 'CHERYL LEWIS',\n",
       " 'CORDELIA LEWIS BURKS',\n",
       " 'DEBORAH LEWIS',\n",
       " 'DENISE LEWIS',\n",
       " 'EMANUEL LEWIS',\n",
       " 'JACK LEWIS CHARBONNEAU',\n",
       " 'JEFF LEWIS',\n",
       " 'JENNIFER LEWIS',\n",
       " 'KEET LEWIS',\n",
       " 'LARRY LEWIS',\n",
       " 'LEROY LEWIS',\n",
       " 'LINDSAY LEWIS',\n",
       " 'MARC LEWKOWITZ',\n",
       " 'MARK LEWIS',\n",
       " 'MARY PARKER LEWIS',\n",
       " 'MICHAEL LEWIS',\n",
       " 'NANCY LEWIS',\n",
       " 'NATHAN LEWIS WURTZEL',\n",
       " 'PAUL LEWIS',\n",
       " 'ROSS BAZELON LEWIN',\n",
       " \"SABRINA Y'VES LEWIS-JONES\",\n",
       " 'SANDRA LEWIS',\n",
       " 'SCOTT LEWIS',\n",
       " 'WENDY LEWIS',\n",
       " 'WILLIAM LEWIS FANATIA']"
      ]
     },
     "execution_count": 90,
     "metadata": {},
     "output_type": "execute_result"
    }
   ],
   "source": [
    "findall(' lew')"
   ]
  },
  {
   "cell_type": "code",
   "execution_count": 91,
   "metadata": {},
   "outputs": [
    {
     "data": {
      "text/plain": [
       "['ALEX-ST JAMES ANDREW RAILEY-CISCO',\n",
       " 'ANDREW JAMES MCDOWELL',\n",
       " 'ANDY LEWIS JAMES',\n",
       " 'BRANDON MICHAEL JAMES',\n",
       " 'CHANDLER JAMES HOUGHTLEN']"
      ]
     },
     "execution_count": 91,
     "metadata": {},
     "output_type": "execute_result"
    }
   ],
   "source": [
    "findall(['and', ' james'])"
   ]
  },
  {
   "cell_type": "code",
   "execution_count": 92,
   "metadata": {},
   "outputs": [
    {
     "data": {
      "text/plain": [
       "['CORDELIA LEWIS BURKS']"
      ]
     },
     "execution_count": 92,
     "metadata": {},
     "output_type": "execute_result"
    }
   ],
   "source": [
    "findall(['cord', 'burk'])"
   ]
  },
  {
   "cell_type": "code",
   "execution_count": 93,
   "metadata": {},
   "outputs": [
    {
     "data": {
      "text/plain": [
       "['JACK LEWIS CHARBONNEAU']"
      ]
     },
     "execution_count": 93,
     "metadata": {},
     "output_type": "execute_result"
    }
   ],
   "source": [
    "findall('charbon')"
   ]
  },
  {
   "cell_type": "code",
   "execution_count": 94,
   "metadata": {},
   "outputs": [
    {
     "data": {
      "text/plain": [
       "['NATHAN LEWIS WURTZEL']"
      ]
     },
     "execution_count": 94,
     "metadata": {},
     "output_type": "execute_result"
    }
   ],
   "source": [
    "findall(['nat', 'wurtz'])"
   ]
  },
  {
   "cell_type": "code",
   "execution_count": 95,
   "metadata": {},
   "outputs": [
    {
     "data": {
      "text/plain": [
       "['LINDA ALSTON']"
      ]
     },
     "execution_count": 95,
     "metadata": {},
     "output_type": "execute_result"
    }
   ],
   "source": [
    "findall(' alston')"
   ]
  },
  {
   "cell_type": "code",
   "execution_count": 96,
   "metadata": {},
   "outputs": [
    {
     "data": {
      "text/html": [
       "<div>\n",
       "<style scoped>\n",
       "    .dataframe tbody tr th:only-of-type {\n",
       "        vertical-align: middle;\n",
       "    }\n",
       "\n",
       "    .dataframe tbody tr th {\n",
       "        vertical-align: top;\n",
       "    }\n",
       "\n",
       "    .dataframe thead th {\n",
       "        text-align: right;\n",
       "    }\n",
       "</style>\n",
       "<table border=\"1\" class=\"dataframe\">\n",
       "  <thead>\n",
       "    <tr style=\"text-align: right;\">\n",
       "      <th></th>\n",
       "      <th>cmte_id</th>\n",
       "      <th>cmte_nm</th>\n",
       "      <th>tres_nm</th>\n",
       "      <th>cmte_st1</th>\n",
       "      <th>cmte_st2</th>\n",
       "      <th>cmte_city</th>\n",
       "      <th>cmte_st</th>\n",
       "      <th>cmte_zip</th>\n",
       "      <th>cmte_dsgn</th>\n",
       "      <th>cmte_tp</th>\n",
       "      <th>cmte_pty_affiliation</th>\n",
       "      <th>cmte_filing_freq</th>\n",
       "      <th>org_tp</th>\n",
       "      <th>connected_org_nm</th>\n",
       "      <th>cand_id</th>\n",
       "      <th>orig_tres_nm</th>\n",
       "      <th>orig_cmte_st1</th>\n",
       "      <th>address</th>\n",
       "    </tr>\n",
       "  </thead>\n",
       "  <tbody>\n",
       "    <tr>\n",
       "      <td>3934</td>\n",
       "      <td>C00450411</td>\n",
       "      <td>MOMENTUM PAC</td>\n",
       "      <td>WENDY LEWIS</td>\n",
       "      <td>1200 SMITH</td>\n",
       "      <td>SUITE 1600</td>\n",
       "      <td>HOUSTON</td>\n",
       "      <td>TX</td>\n",
       "      <td>77002</td>\n",
       "      <td>U</td>\n",
       "      <td>N</td>\n",
       "      <td>UNK</td>\n",
       "      <td>A</td>\n",
       "      <td>NaN</td>\n",
       "      <td>NaN</td>\n",
       "      <td>NaN</td>\n",
       "      <td>WENDY LEWIS</td>\n",
       "      <td>1200 SMITH</td>\n",
       "      <td>1200 SMITH, HOUSTON, TX 77002</td>\n",
       "    </tr>\n",
       "  </tbody>\n",
       "</table>\n",
       "</div>"
      ],
      "text/plain": [
       "        cmte_id       cmte_nm      tres_nm    cmte_st1    cmte_st2 cmte_city  \\\n",
       "3934  C00450411  MOMENTUM PAC  WENDY LEWIS  1200 SMITH  SUITE 1600   HOUSTON   \n",
       "\n",
       "     cmte_st cmte_zip cmte_dsgn cmte_tp cmte_pty_affiliation cmte_filing_freq  \\\n",
       "3934      TX    77002         U       N                  UNK                A   \n",
       "\n",
       "     org_tp connected_org_nm cand_id orig_tres_nm orig_cmte_st1  \\\n",
       "3934    NaN              NaN     NaN  WENDY LEWIS    1200 SMITH   \n",
       "\n",
       "                            address  \n",
       "3934  1200 SMITH, HOUSTON, TX 77002  "
      ]
     },
     "execution_count": 96,
     "metadata": {},
     "output_type": "execute_result"
    }
   ],
   "source": [
    "cm[cm['tres_nm'] == 'WENDY LEWIS']"
   ]
  },
  {
   "cell_type": "code",
   "execution_count": 97,
   "metadata": {},
   "outputs": [
    {
     "data": {
      "text/html": [
       "<div>\n",
       "<style scoped>\n",
       "    .dataframe tbody tr th:only-of-type {\n",
       "        vertical-align: middle;\n",
       "    }\n",
       "\n",
       "    .dataframe tbody tr th {\n",
       "        vertical-align: top;\n",
       "    }\n",
       "\n",
       "    .dataframe thead th {\n",
       "        text-align: right;\n",
       "    }\n",
       "</style>\n",
       "<table border=\"1\" class=\"dataframe\">\n",
       "  <thead>\n",
       "    <tr style=\"text-align: right;\">\n",
       "      <th></th>\n",
       "      <th>cmte_id</th>\n",
       "      <th>cmte_nm</th>\n",
       "      <th>tres_nm</th>\n",
       "      <th>cmte_st1</th>\n",
       "      <th>cmte_st2</th>\n",
       "      <th>cmte_city</th>\n",
       "      <th>cmte_st</th>\n",
       "      <th>cmte_zip</th>\n",
       "      <th>cmte_dsgn</th>\n",
       "      <th>cmte_tp</th>\n",
       "      <th>cmte_pty_affiliation</th>\n",
       "      <th>cmte_filing_freq</th>\n",
       "      <th>org_tp</th>\n",
       "      <th>connected_org_nm</th>\n",
       "      <th>cand_id</th>\n",
       "      <th>orig_tres_nm</th>\n",
       "      <th>orig_cmte_st1</th>\n",
       "      <th>address</th>\n",
       "    </tr>\n",
       "  </thead>\n",
       "  <tbody>\n",
       "  </tbody>\n",
       "</table>\n",
       "</div>"
      ],
      "text/plain": [
       "Empty DataFrame\n",
       "Columns: [cmte_id, cmte_nm, tres_nm, cmte_st1, cmte_st2, cmte_city, cmte_st, cmte_zip, cmte_dsgn, cmte_tp, cmte_pty_affiliation, cmte_filing_freq, org_tp, connected_org_nm, cand_id, orig_tres_nm, orig_cmte_st1, address]\n",
       "Index: []"
      ]
     },
     "execution_count": 97,
     "metadata": {},
     "output_type": "execute_result"
    }
   ],
   "source": [
    "cm[cm['tres_nm'] == 'WENDY LEWIS ARMSTRONG']"
   ]
  },
  {
   "cell_type": "code",
   "execution_count": 98,
   "metadata": {},
   "outputs": [
    {
     "name": "stdout",
     "output_type": "stream",
     "text": [
      "orig len: 1\n",
      "new len: 1\n"
     ]
    }
   ],
   "source": [
    "new = 'WENDY LEWIS'\n",
    "dones.append(new)\n",
    "\n",
    "these = findall('wendy lewis')\n",
    "\n",
    "getall(these, new)"
   ]
  },
  {
   "cell_type": "code",
   "execution_count": 99,
   "metadata": {},
   "outputs": [],
   "source": [
    "dones.extend(findall(' lew'))"
   ]
  },
  {
   "cell_type": "code",
   "execution_count": 100,
   "metadata": {},
   "outputs": [
    {
     "data": {
      "text/plain": [
       "['CHRISTOPHER LAWLOR', 'KELLY LAWLER', 'SEWARD LAWLOR']"
      ]
     },
     "execution_count": 100,
     "metadata": {},
     "output_type": "execute_result"
    }
   ],
   "source": [
    "findall(' lawl')"
   ]
  },
  {
   "cell_type": "code",
   "execution_count": 101,
   "metadata": {},
   "outputs": [],
   "source": [
    "dones.extend(findall(' lawl'))"
   ]
  },
  {
   "cell_type": "code",
   "execution_count": 102,
   "metadata": {},
   "outputs": [
    {
     "data": {
      "text/plain": [
       "['GARY CRUMMITT', 'JANE CRUMPLER', 'JOHN CRUMP']"
      ]
     },
     "execution_count": 102,
     "metadata": {},
     "output_type": "execute_result"
    }
   ],
   "source": [
    "findall(' crum')"
   ]
  },
  {
   "cell_type": "code",
   "execution_count": 103,
   "metadata": {},
   "outputs": [],
   "source": [
    "dones.extend(findall(' crum'))"
   ]
  },
  {
   "cell_type": "code",
   "execution_count": 104,
   "metadata": {},
   "outputs": [
    {
     "data": {
      "text/plain": [
       "['JEN SLATER', 'TODD SLATER']"
      ]
     },
     "execution_count": 104,
     "metadata": {},
     "output_type": "execute_result"
    }
   ],
   "source": [
    "findall(' slater')"
   ]
  },
  {
   "cell_type": "code",
   "execution_count": 105,
   "metadata": {},
   "outputs": [],
   "source": [
    "dones.extend(findall(' slater'))"
   ]
  },
  {
   "cell_type": "code",
   "execution_count": 106,
   "metadata": {},
   "outputs": [
    {
     "data": {
      "text/plain": [
       "['ALICIA MCCAULEY', 'MICHAEL MCCAULEY', 'MIKE MCCAULEY']"
      ]
     },
     "execution_count": 106,
     "metadata": {},
     "output_type": "execute_result"
    }
   ],
   "source": [
    "findall(' mccaul')"
   ]
  },
  {
   "cell_type": "code",
   "execution_count": 107,
   "metadata": {},
   "outputs": [],
   "source": [
    "dones.extend(findall(' mccaul'))"
   ]
  },
  {
   "cell_type": "code",
   "execution_count": 108,
   "metadata": {},
   "outputs": [
    {
     "data": {
      "text/plain": [
       "['CHRISTOPHER MONTGOMERY WOODFIN',\n",
       " 'DAVA MONTGOMERY',\n",
       " 'DIANE MONTGOMERY',\n",
       " 'JAY MONTGOMERY',\n",
       " 'LUKE MONTGOMERY',\n",
       " 'MEGAN MONTGOMERY',\n",
       " 'RUSSELL MONTGOMERY',\n",
       " 'THOMAS MONTGOMERY']"
      ]
     },
     "execution_count": 108,
     "metadata": {},
     "output_type": "execute_result"
    }
   ],
   "source": [
    "findall(' montg')"
   ]
  },
  {
   "cell_type": "code",
   "execution_count": 109,
   "metadata": {},
   "outputs": [],
   "source": [
    "dones.extend(findall(' montg'))"
   ]
  },
  {
   "cell_type": "code",
   "execution_count": 110,
   "metadata": {},
   "outputs": [
    {
     "data": {
      "text/plain": [
       "['MELISSA NISSEN']"
      ]
     },
     "execution_count": 110,
     "metadata": {},
     "output_type": "execute_result"
    }
   ],
   "source": [
    "findall(' nis')"
   ]
  },
  {
   "cell_type": "code",
   "execution_count": 111,
   "metadata": {},
   "outputs": [],
   "source": [
    "dones.extend(findall(' nis'))"
   ]
  },
  {
   "cell_type": "code",
   "execution_count": 112,
   "metadata": {},
   "outputs": [
    {
     "data": {
      "text/plain": [
       "['LAURA MATTHEWS', 'PAUL MATTHEWS']"
      ]
     },
     "execution_count": 112,
     "metadata": {},
     "output_type": "execute_result"
    }
   ],
   "source": [
    "findall(' matthews')"
   ]
  },
  {
   "cell_type": "code",
   "execution_count": 113,
   "metadata": {},
   "outputs": [],
   "source": [
    "dones.extend(findall(' matthews'))"
   ]
  },
  {
   "cell_type": "code",
   "execution_count": 114,
   "metadata": {},
   "outputs": [
    {
     "data": {
      "text/plain": [
       "['ANN MARIE GOULD', 'DAVID GOULD', 'VAN CHARLES GOULD']"
      ]
     },
     "execution_count": 114,
     "metadata": {},
     "output_type": "execute_result"
    }
   ],
   "source": [
    "findall(' goul')"
   ]
  },
  {
   "cell_type": "code",
   "execution_count": 115,
   "metadata": {},
   "outputs": [
    {
     "data": {
      "text/html": [
       "<div>\n",
       "<style scoped>\n",
       "    .dataframe tbody tr th:only-of-type {\n",
       "        vertical-align: middle;\n",
       "    }\n",
       "\n",
       "    .dataframe tbody tr th {\n",
       "        vertical-align: top;\n",
       "    }\n",
       "\n",
       "    .dataframe thead th {\n",
       "        text-align: right;\n",
       "    }\n",
       "</style>\n",
       "<table border=\"1\" class=\"dataframe\">\n",
       "  <thead>\n",
       "    <tr style=\"text-align: right;\">\n",
       "      <th></th>\n",
       "      <th>cmte_id</th>\n",
       "      <th>cmte_nm</th>\n",
       "      <th>tres_nm</th>\n",
       "      <th>cmte_st1</th>\n",
       "      <th>cmte_st2</th>\n",
       "      <th>cmte_city</th>\n",
       "      <th>cmte_st</th>\n",
       "      <th>cmte_zip</th>\n",
       "      <th>cmte_dsgn</th>\n",
       "      <th>cmte_tp</th>\n",
       "      <th>cmte_pty_affiliation</th>\n",
       "      <th>cmte_filing_freq</th>\n",
       "      <th>org_tp</th>\n",
       "      <th>connected_org_nm</th>\n",
       "      <th>cand_id</th>\n",
       "      <th>orig_tres_nm</th>\n",
       "      <th>orig_cmte_st1</th>\n",
       "      <th>address</th>\n",
       "    </tr>\n",
       "  </thead>\n",
       "  <tbody>\n",
       "  </tbody>\n",
       "</table>\n",
       "</div>"
      ],
      "text/plain": [
       "Empty DataFrame\n",
       "Columns: [cmte_id, cmte_nm, tres_nm, cmte_st1, cmte_st2, cmte_city, cmte_st, cmte_zip, cmte_dsgn, cmte_tp, cmte_pty_affiliation, cmte_filing_freq, org_tp, connected_org_nm, cand_id, orig_tres_nm, orig_cmte_st1, address]\n",
       "Index: []"
      ]
     },
     "execution_count": 115,
     "metadata": {},
     "output_type": "execute_result"
    }
   ],
   "source": [
    "cm[cm['tres_nm'].apply(lambda x: ('ADAM' in x) & ('GOULD' in x))]"
   ]
  },
  {
   "cell_type": "code",
   "execution_count": 116,
   "metadata": {},
   "outputs": [
    {
     "name": "stdout",
     "output_type": "stream",
     "text": [
      "orig len: 0\n",
      "new len: 0\n"
     ]
    }
   ],
   "source": [
    "new = 'ADAM KOHL GOULD'\n",
    "dones.append(new)\n",
    "\n",
    "these = findall(['adam', 'gould'])\n",
    "\n",
    "getall(these, new)"
   ]
  },
  {
   "cell_type": "code",
   "execution_count": 117,
   "metadata": {},
   "outputs": [],
   "source": [
    "dones.extend(findall(' goul'))"
   ]
  },
  {
   "cell_type": "code",
   "execution_count": 118,
   "metadata": {},
   "outputs": [
    {
     "data": {
      "text/plain": [
       "['CHARLES GANTT',\n",
       " 'HARVEY GANTT',\n",
       " 'MARIA VICTORIA GANACIAS BORJA',\n",
       " 'MARY RANDOLPH GANNON',\n",
       " 'PETER GANGI',\n",
       " 'RON GANT']"
      ]
     },
     "execution_count": 118,
     "metadata": {},
     "output_type": "execute_result"
    }
   ],
   "source": [
    "findall(' gan')"
   ]
  },
  {
   "cell_type": "code",
   "execution_count": 119,
   "metadata": {},
   "outputs": [
    {
     "data": {
      "text/plain": [
       "['MARIA VICTORIA GANACIAS BORJA']"
      ]
     },
     "execution_count": 119,
     "metadata": {},
     "output_type": "execute_result"
    }
   ],
   "source": [
    "findall('borja')"
   ]
  },
  {
   "cell_type": "code",
   "execution_count": 120,
   "metadata": {},
   "outputs": [
    {
     "data": {
      "text/plain": [
       "['MARY RANDOLPH GANNON']"
      ]
     },
     "execution_count": 120,
     "metadata": {},
     "output_type": "execute_result"
    }
   ],
   "source": [
    "findall(['mary', 'randolph'])"
   ]
  },
  {
   "cell_type": "code",
   "execution_count": 121,
   "metadata": {},
   "outputs": [],
   "source": [
    "dones.extend(findall(' gan'))"
   ]
  },
  {
   "cell_type": "code",
   "execution_count": 122,
   "metadata": {},
   "outputs": [
    {
     "data": {
      "text/plain": [
       "['HELEN CARLIN', 'JAMES CARLISLE', 'MICHAEL CARLIN', 'ROBERT CARLIN']"
      ]
     },
     "execution_count": 122,
     "metadata": {},
     "output_type": "execute_result"
    }
   ],
   "source": [
    "findall(' carli')"
   ]
  },
  {
   "cell_type": "code",
   "execution_count": 123,
   "metadata": {},
   "outputs": [],
   "source": [
    "dones.extend(findall(' carli'))"
   ]
  },
  {
   "cell_type": "code",
   "execution_count": 124,
   "metadata": {},
   "outputs": [
    {
     "data": {
      "text/plain": [
       "['ALLEN KRAMER',\n",
       " 'BETH KRATOCHVIL',\n",
       " 'BLAKE ALAN KRAPF',\n",
       " 'CATHERINE KRANTZ',\n",
       " 'DAVID KRALLE',\n",
       " 'DAVID KRAMER',\n",
       " 'DON KRAUS',\n",
       " 'JOHN KRALL',\n",
       " 'PATRICK KRASON',\n",
       " 'SHAWN KRAUSE',\n",
       " 'STEVEN KRAVITZ',\n",
       " 'TOM KRAUSE']"
      ]
     },
     "execution_count": 124,
     "metadata": {},
     "output_type": "execute_result"
    }
   ],
   "source": [
    "findall(' kra')"
   ]
  },
  {
   "cell_type": "code",
   "execution_count": 125,
   "metadata": {},
   "outputs": [
    {
     "data": {
      "text/html": [
       "<div>\n",
       "<style scoped>\n",
       "    .dataframe tbody tr th:only-of-type {\n",
       "        vertical-align: middle;\n",
       "    }\n",
       "\n",
       "    .dataframe tbody tr th {\n",
       "        vertical-align: top;\n",
       "    }\n",
       "\n",
       "    .dataframe thead th {\n",
       "        text-align: right;\n",
       "    }\n",
       "</style>\n",
       "<table border=\"1\" class=\"dataframe\">\n",
       "  <thead>\n",
       "    <tr style=\"text-align: right;\">\n",
       "      <th></th>\n",
       "      <th>cmte_id</th>\n",
       "      <th>cmte_nm</th>\n",
       "      <th>tres_nm</th>\n",
       "      <th>cmte_st1</th>\n",
       "      <th>cmte_st2</th>\n",
       "      <th>cmte_city</th>\n",
       "      <th>cmte_st</th>\n",
       "      <th>cmte_zip</th>\n",
       "      <th>cmte_dsgn</th>\n",
       "      <th>cmte_tp</th>\n",
       "      <th>cmte_pty_affiliation</th>\n",
       "      <th>cmte_filing_freq</th>\n",
       "      <th>org_tp</th>\n",
       "      <th>connected_org_nm</th>\n",
       "      <th>cand_id</th>\n",
       "      <th>orig_tres_nm</th>\n",
       "      <th>orig_cmte_st1</th>\n",
       "      <th>address</th>\n",
       "    </tr>\n",
       "  </thead>\n",
       "  <tbody>\n",
       "  </tbody>\n",
       "</table>\n",
       "</div>"
      ],
      "text/plain": [
       "Empty DataFrame\n",
       "Columns: [cmte_id, cmte_nm, tres_nm, cmte_st1, cmte_st2, cmte_city, cmte_st, cmte_zip, cmte_dsgn, cmte_tp, cmte_pty_affiliation, cmte_filing_freq, org_tp, connected_org_nm, cand_id, orig_tres_nm, orig_cmte_st1, address]\n",
       "Index: []"
      ]
     },
     "execution_count": 125,
     "metadata": {},
     "output_type": "execute_result"
    }
   ],
   "source": [
    "cm[cm['tres_nm'] == 'THOMAS KRAUS']"
   ]
  },
  {
   "cell_type": "code",
   "execution_count": 126,
   "metadata": {},
   "outputs": [
    {
     "data": {
      "text/html": [
       "<div>\n",
       "<style scoped>\n",
       "    .dataframe tbody tr th:only-of-type {\n",
       "        vertical-align: middle;\n",
       "    }\n",
       "\n",
       "    .dataframe tbody tr th {\n",
       "        vertical-align: top;\n",
       "    }\n",
       "\n",
       "    .dataframe thead th {\n",
       "        text-align: right;\n",
       "    }\n",
       "</style>\n",
       "<table border=\"1\" class=\"dataframe\">\n",
       "  <thead>\n",
       "    <tr style=\"text-align: right;\">\n",
       "      <th></th>\n",
       "      <th>cmte_id</th>\n",
       "      <th>cmte_nm</th>\n",
       "      <th>tres_nm</th>\n",
       "      <th>cmte_st1</th>\n",
       "      <th>cmte_st2</th>\n",
       "      <th>cmte_city</th>\n",
       "      <th>cmte_st</th>\n",
       "      <th>cmte_zip</th>\n",
       "      <th>cmte_dsgn</th>\n",
       "      <th>cmte_tp</th>\n",
       "      <th>cmte_pty_affiliation</th>\n",
       "      <th>cmte_filing_freq</th>\n",
       "      <th>org_tp</th>\n",
       "      <th>connected_org_nm</th>\n",
       "      <th>cand_id</th>\n",
       "      <th>orig_tres_nm</th>\n",
       "      <th>orig_cmte_st1</th>\n",
       "      <th>address</th>\n",
       "    </tr>\n",
       "  </thead>\n",
       "  <tbody>\n",
       "    <tr>\n",
       "      <td>15667</td>\n",
       "      <td>C00680504</td>\n",
       "      <td>BROADCOM INC. POLITICAL ACTION COMMITTEE (BROA...</td>\n",
       "      <td>TOM KRAUSE</td>\n",
       "      <td>1320 RIDDER PARK DR</td>\n",
       "      <td>NaN</td>\n",
       "      <td>SAN JOSE</td>\n",
       "      <td>CA</td>\n",
       "      <td>95131</td>\n",
       "      <td>U</td>\n",
       "      <td>Q</td>\n",
       "      <td>UNK</td>\n",
       "      <td>M</td>\n",
       "      <td>C</td>\n",
       "      <td>NaN</td>\n",
       "      <td>NaN</td>\n",
       "      <td>KRAUSE, TOM</td>\n",
       "      <td>1320 RIDDER PARK DR.</td>\n",
       "      <td>1320 RIDDER PARK DR, SAN JOSE, CA 95131</td>\n",
       "    </tr>\n",
       "  </tbody>\n",
       "</table>\n",
       "</div>"
      ],
      "text/plain": [
       "         cmte_id                                            cmte_nm  \\\n",
       "15667  C00680504  BROADCOM INC. POLITICAL ACTION COMMITTEE (BROA...   \n",
       "\n",
       "          tres_nm             cmte_st1 cmte_st2 cmte_city cmte_st cmte_zip  \\\n",
       "15667  TOM KRAUSE  1320 RIDDER PARK DR      NaN  SAN JOSE      CA    95131   \n",
       "\n",
       "      cmte_dsgn cmte_tp cmte_pty_affiliation cmte_filing_freq org_tp  \\\n",
       "15667         U       Q                  UNK                M      C   \n",
       "\n",
       "      connected_org_nm cand_id orig_tres_nm         orig_cmte_st1  \\\n",
       "15667              NaN     NaN  KRAUSE, TOM  1320 RIDDER PARK DR.   \n",
       "\n",
       "                                       address  \n",
       "15667  1320 RIDDER PARK DR, SAN JOSE, CA 95131  "
      ]
     },
     "execution_count": 126,
     "metadata": {},
     "output_type": "execute_result"
    }
   ],
   "source": [
    "cm[cm['tres_nm'] == 'TOM KRAUSE']"
   ]
  },
  {
   "cell_type": "code",
   "execution_count": 127,
   "metadata": {},
   "outputs": [],
   "source": [
    "dones.extend(findall(' kra'))"
   ]
  },
  {
   "cell_type": "code",
   "execution_count": 128,
   "metadata": {},
   "outputs": [
    {
     "data": {
      "text/plain": [
       "['KEVIN KOCH',\n",
       " 'LINDA KOCH',\n",
       " 'NICHOLAS KOCH',\n",
       " 'THEODORE KOCH',\n",
       " 'TIMOTHY KOCH',\n",
       " 'TOM KOCHAN']"
      ]
     },
     "execution_count": 128,
     "metadata": {},
     "output_type": "execute_result"
    }
   ],
   "source": [
    "findall(' koch')"
   ]
  },
  {
   "cell_type": "code",
   "execution_count": 129,
   "metadata": {},
   "outputs": [],
   "source": [
    "dones.extend(findall(' koch'))"
   ]
  },
  {
   "cell_type": "code",
   "execution_count": 130,
   "metadata": {},
   "outputs": [
    {
     "data": {
      "text/plain": [
       "['ALAN WINDGASSEN',\n",
       " 'ALISON WINGATE',\n",
       " 'ANDREW WINTERING',\n",
       " 'ARTHUR WINSTEAD',\n",
       " 'BRIGEN WINTERS',\n",
       " 'DEAN WINE',\n",
       " 'ELIZABETH WINN BJORK',\n",
       " 'HICKS WINTERS',\n",
       " 'JOHN WINKLER',\n",
       " 'KAREN WINGARD',\n",
       " 'MICHAEL WINTERHALTER',\n",
       " 'PATRICIA WINTER',\n",
       " 'ROBERT LEROY WINTER',\n",
       " 'ROBERT VAN WINTON',\n",
       " 'STEVE WIND',\n",
       " 'THOMAS WINTER',\n",
       " 'VICKIE WINPISINGER']"
      ]
     },
     "execution_count": 130,
     "metadata": {},
     "output_type": "execute_result"
    }
   ],
   "source": [
    "findall(' win')"
   ]
  },
  {
   "cell_type": "code",
   "execution_count": 131,
   "metadata": {},
   "outputs": [],
   "source": [
    "dones.extend(findall(' win'))"
   ]
  },
  {
   "cell_type": "code",
   "execution_count": 132,
   "metadata": {},
   "outputs": [
    {
     "data": {
      "text/plain": [
       "['ANDREW RITTENBERG',\n",
       " 'ERIN RITTER',\n",
       " 'JOEL RITER',\n",
       " 'MAX WILSON RITTER',\n",
       " 'TOM RITTER']"
      ]
     },
     "execution_count": 132,
     "metadata": {},
     "output_type": "execute_result"
    }
   ],
   "source": [
    "findall(' rit')"
   ]
  },
  {
   "cell_type": "code",
   "execution_count": 133,
   "metadata": {},
   "outputs": [],
   "source": [
    "dones.extend(findall(' rit'))"
   ]
  },
  {
   "cell_type": "code",
   "execution_count": 134,
   "metadata": {},
   "outputs": [
    {
     "data": {
      "text/plain": [
       "['ADAM TATUN',\n",
       " 'ALIX TATE',\n",
       " 'BRIAN TATUM',\n",
       " 'DARRYL TATTRIE',\n",
       " 'ELIZABETH TATE',\n",
       " 'JOHN TATE',\n",
       " 'MARTHA SHAW TATE',\n",
       " 'SAMBA TATA',\n",
       " 'SRINIVASA TATINENI',\n",
       " 'STANLEY TATE']"
      ]
     },
     "execution_count": 134,
     "metadata": {},
     "output_type": "execute_result"
    }
   ],
   "source": [
    "findall(' tat')"
   ]
  },
  {
   "cell_type": "code",
   "execution_count": 135,
   "metadata": {},
   "outputs": [
    {
     "data": {
      "text/html": [
       "<div>\n",
       "<style scoped>\n",
       "    .dataframe tbody tr th:only-of-type {\n",
       "        vertical-align: middle;\n",
       "    }\n",
       "\n",
       "    .dataframe tbody tr th {\n",
       "        vertical-align: top;\n",
       "    }\n",
       "\n",
       "    .dataframe thead th {\n",
       "        text-align: right;\n",
       "    }\n",
       "</style>\n",
       "<table border=\"1\" class=\"dataframe\">\n",
       "  <thead>\n",
       "    <tr style=\"text-align: right;\">\n",
       "      <th></th>\n",
       "      <th>cmte_id</th>\n",
       "      <th>cmte_nm</th>\n",
       "      <th>tres_nm</th>\n",
       "      <th>cmte_st1</th>\n",
       "      <th>cmte_st2</th>\n",
       "      <th>cmte_city</th>\n",
       "      <th>cmte_st</th>\n",
       "      <th>cmte_zip</th>\n",
       "      <th>cmte_dsgn</th>\n",
       "      <th>cmte_tp</th>\n",
       "      <th>cmte_pty_affiliation</th>\n",
       "      <th>cmte_filing_freq</th>\n",
       "      <th>org_tp</th>\n",
       "      <th>connected_org_nm</th>\n",
       "      <th>cand_id</th>\n",
       "      <th>orig_tres_nm</th>\n",
       "      <th>orig_cmte_st1</th>\n",
       "      <th>address</th>\n",
       "    </tr>\n",
       "  </thead>\n",
       "  <tbody>\n",
       "    <tr>\n",
       "      <td>3203</td>\n",
       "      <td>C00415026</td>\n",
       "      <td>AMERICAN FUELS AND PETROCHEMICAL MANUFACTURERS...</td>\n",
       "      <td>BRIAN TATUM</td>\n",
       "      <td>1800 M ST NW</td>\n",
       "      <td>SUITE 900 NORTH</td>\n",
       "      <td>WASHINGTON</td>\n",
       "      <td>DC</td>\n",
       "      <td>20036</td>\n",
       "      <td>B</td>\n",
       "      <td>Q</td>\n",
       "      <td>UNK</td>\n",
       "      <td>M</td>\n",
       "      <td>T</td>\n",
       "      <td>AMERICAN FUELS AND PETROCHEMICAL MANUFACTURERS...</td>\n",
       "      <td>NaN</td>\n",
       "      <td>TATUM, BRIAN</td>\n",
       "      <td>1800 M STREET NW</td>\n",
       "      <td>1800 M ST NW, WASHINGTON, DC 20036</td>\n",
       "    </tr>\n",
       "  </tbody>\n",
       "</table>\n",
       "</div>"
      ],
      "text/plain": [
       "        cmte_id                                            cmte_nm  \\\n",
       "3203  C00415026  AMERICAN FUELS AND PETROCHEMICAL MANUFACTURERS...   \n",
       "\n",
       "          tres_nm      cmte_st1         cmte_st2   cmte_city cmte_st cmte_zip  \\\n",
       "3203  BRIAN TATUM  1800 M ST NW  SUITE 900 NORTH  WASHINGTON      DC    20036   \n",
       "\n",
       "     cmte_dsgn cmte_tp cmte_pty_affiliation cmte_filing_freq org_tp  \\\n",
       "3203         B       Q                  UNK                M      T   \n",
       "\n",
       "                                       connected_org_nm cand_id  orig_tres_nm  \\\n",
       "3203  AMERICAN FUELS AND PETROCHEMICAL MANUFACTURERS...     NaN  TATUM, BRIAN   \n",
       "\n",
       "         orig_cmte_st1                             address  \n",
       "3203  1800 M STREET NW  1800 M ST NW, WASHINGTON, DC 20036  "
      ]
     },
     "execution_count": 135,
     "metadata": {},
     "output_type": "execute_result"
    }
   ],
   "source": [
    "cm[cm['tres_nm'].apply(lambda x: x in ['BRIAN TATUM', 'BRYAN TATUM'])]"
   ]
  },
  {
   "cell_type": "code",
   "execution_count": 136,
   "metadata": {},
   "outputs": [],
   "source": [
    "dones.extend(findall(' tat'))"
   ]
  },
  {
   "cell_type": "code",
   "execution_count": 137,
   "metadata": {},
   "outputs": [
    {
     "data": {
      "text/plain": [
       "['STEVE RALLS', 'STEVEN RALLS']"
      ]
     },
     "execution_count": 137,
     "metadata": {},
     "output_type": "execute_result"
    }
   ],
   "source": [
    "findall('ralls')"
   ]
  },
  {
   "cell_type": "code",
   "execution_count": 138,
   "metadata": {},
   "outputs": [
    {
     "data": {
      "text/html": [
       "<div>\n",
       "<style scoped>\n",
       "    .dataframe tbody tr th:only-of-type {\n",
       "        vertical-align: middle;\n",
       "    }\n",
       "\n",
       "    .dataframe tbody tr th {\n",
       "        vertical-align: top;\n",
       "    }\n",
       "\n",
       "    .dataframe thead th {\n",
       "        text-align: right;\n",
       "    }\n",
       "</style>\n",
       "<table border=\"1\" class=\"dataframe\">\n",
       "  <thead>\n",
       "    <tr style=\"text-align: right;\">\n",
       "      <th></th>\n",
       "      <th>cmte_id</th>\n",
       "      <th>cmte_nm</th>\n",
       "      <th>tres_nm</th>\n",
       "      <th>cmte_st1</th>\n",
       "      <th>cmte_st2</th>\n",
       "      <th>cmte_city</th>\n",
       "      <th>cmte_st</th>\n",
       "      <th>cmte_zip</th>\n",
       "      <th>cmte_dsgn</th>\n",
       "      <th>cmte_tp</th>\n",
       "      <th>cmte_pty_affiliation</th>\n",
       "      <th>cmte_filing_freq</th>\n",
       "      <th>org_tp</th>\n",
       "      <th>connected_org_nm</th>\n",
       "      <th>cand_id</th>\n",
       "      <th>orig_tres_nm</th>\n",
       "      <th>orig_cmte_st1</th>\n",
       "      <th>address</th>\n",
       "    </tr>\n",
       "  </thead>\n",
       "  <tbody>\n",
       "    <tr>\n",
       "      <td>2845</td>\n",
       "      <td>C00395467</td>\n",
       "      <td>JEFF FORTENBERRY FOR UNITED STATES CONGRESS</td>\n",
       "      <td>STEVEN RALLS</td>\n",
       "      <td>PO BOX 30265</td>\n",
       "      <td>NaN</td>\n",
       "      <td>LINCOLN</td>\n",
       "      <td>NE</td>\n",
       "      <td>68503</td>\n",
       "      <td>P</td>\n",
       "      <td>H</td>\n",
       "      <td>REP</td>\n",
       "      <td>Q</td>\n",
       "      <td>NaN</td>\n",
       "      <td>NONE</td>\n",
       "      <td>H4NE01064</td>\n",
       "      <td>RALLS, STEVEN</td>\n",
       "      <td>PO BOX 30265</td>\n",
       "      <td>PO BOX 30265, LINCOLN, NE 68503</td>\n",
       "    </tr>\n",
       "  </tbody>\n",
       "</table>\n",
       "</div>"
      ],
      "text/plain": [
       "        cmte_id                                      cmte_nm       tres_nm  \\\n",
       "2845  C00395467  JEFF FORTENBERRY FOR UNITED STATES CONGRESS  STEVEN RALLS   \n",
       "\n",
       "          cmte_st1 cmte_st2 cmte_city cmte_st cmte_zip cmte_dsgn cmte_tp  \\\n",
       "2845  PO BOX 30265      NaN   LINCOLN      NE    68503         P       H   \n",
       "\n",
       "     cmte_pty_affiliation cmte_filing_freq org_tp connected_org_nm    cand_id  \\\n",
       "2845                  REP                Q    NaN             NONE  H4NE01064   \n",
       "\n",
       "       orig_tres_nm orig_cmte_st1                          address  \n",
       "2845  RALLS, STEVEN  PO BOX 30265  PO BOX 30265, LINCOLN, NE 68503  "
      ]
     },
     "execution_count": 138,
     "metadata": {},
     "output_type": "execute_result"
    }
   ],
   "source": [
    "cm[cm['tres_nm'] == 'STEVEN RALLS']"
   ]
  },
  {
   "cell_type": "code",
   "execution_count": 139,
   "metadata": {},
   "outputs": [
    {
     "data": {
      "text/html": [
       "<div>\n",
       "<style scoped>\n",
       "    .dataframe tbody tr th:only-of-type {\n",
       "        vertical-align: middle;\n",
       "    }\n",
       "\n",
       "    .dataframe tbody tr th {\n",
       "        vertical-align: top;\n",
       "    }\n",
       "\n",
       "    .dataframe thead th {\n",
       "        text-align: right;\n",
       "    }\n",
       "</style>\n",
       "<table border=\"1\" class=\"dataframe\">\n",
       "  <thead>\n",
       "    <tr style=\"text-align: right;\">\n",
       "      <th></th>\n",
       "      <th>cmte_id</th>\n",
       "      <th>cmte_nm</th>\n",
       "      <th>tres_nm</th>\n",
       "      <th>cmte_st1</th>\n",
       "      <th>cmte_st2</th>\n",
       "      <th>cmte_city</th>\n",
       "      <th>cmte_st</th>\n",
       "      <th>cmte_zip</th>\n",
       "      <th>cmte_dsgn</th>\n",
       "      <th>cmte_tp</th>\n",
       "      <th>cmte_pty_affiliation</th>\n",
       "      <th>cmte_filing_freq</th>\n",
       "      <th>org_tp</th>\n",
       "      <th>connected_org_nm</th>\n",
       "      <th>cand_id</th>\n",
       "      <th>orig_tres_nm</th>\n",
       "      <th>orig_cmte_st1</th>\n",
       "      <th>address</th>\n",
       "    </tr>\n",
       "  </thead>\n",
       "  <tbody>\n",
       "    <tr>\n",
       "      <td>3389</td>\n",
       "      <td>C00426494</td>\n",
       "      <td>FOR OUR REPUBLIC'S TRADITIONS FUND AKA FORT FUND</td>\n",
       "      <td>STEVE RALLS</td>\n",
       "      <td>PO BOX 30883</td>\n",
       "      <td>NaN</td>\n",
       "      <td>LINCOLN</td>\n",
       "      <td>NE</td>\n",
       "      <td>68503</td>\n",
       "      <td>D</td>\n",
       "      <td>N</td>\n",
       "      <td>UNK</td>\n",
       "      <td>M</td>\n",
       "      <td>NaN</td>\n",
       "      <td>JEFF FORTENBERRY</td>\n",
       "      <td>NaN</td>\n",
       "      <td>RALLS, STEVE MR.</td>\n",
       "      <td>PO BOX 30883</td>\n",
       "      <td>PO BOX 30883, LINCOLN, NE 68503</td>\n",
       "    </tr>\n",
       "    <tr>\n",
       "      <td>3416</td>\n",
       "      <td>C00427781</td>\n",
       "      <td>ONLINE LENDERS ALLIANCE POLITICAL ACTION COMMI...</td>\n",
       "      <td>STEVE RALLS</td>\n",
       "      <td>PO BOX 15480</td>\n",
       "      <td>SE STATION</td>\n",
       "      <td>WASHINGTON</td>\n",
       "      <td>DC</td>\n",
       "      <td>20003</td>\n",
       "      <td>U</td>\n",
       "      <td>Q</td>\n",
       "      <td>UNK</td>\n",
       "      <td>M</td>\n",
       "      <td>M</td>\n",
       "      <td>ONLINE LENDERS ALLIANCE</td>\n",
       "      <td>NaN</td>\n",
       "      <td>RALLS, STEVE</td>\n",
       "      <td>PO BOX 15480</td>\n",
       "      <td>PO BOX 15480, WASHINGTON, DC 20003</td>\n",
       "    </tr>\n",
       "    <tr>\n",
       "      <td>5012</td>\n",
       "      <td>C00489336</td>\n",
       "      <td>WILD AND WONDERFUL PAC</td>\n",
       "      <td>STEVE RALLS</td>\n",
       "      <td>332 W LEE HWY</td>\n",
       "      <td># 303</td>\n",
       "      <td>WARRENTON</td>\n",
       "      <td>VA</td>\n",
       "      <td>20186</td>\n",
       "      <td>D</td>\n",
       "      <td>Q</td>\n",
       "      <td>UNK</td>\n",
       "      <td>M</td>\n",
       "      <td>NaN</td>\n",
       "      <td>NaN</td>\n",
       "      <td>NaN</td>\n",
       "      <td>RALLS, STEVE</td>\n",
       "      <td>332 W LEE HWY</td>\n",
       "      <td>332 W LEE HWY, WARRENTON, VA 20186</td>\n",
       "    </tr>\n",
       "    <tr>\n",
       "      <td>5345</td>\n",
       "      <td>C00498345</td>\n",
       "      <td>MULLIN FOR CONGRESS</td>\n",
       "      <td>STEVE RALLS</td>\n",
       "      <td>PO BOX 3681</td>\n",
       "      <td>NaN</td>\n",
       "      <td>MUSKOGEE</td>\n",
       "      <td>OK</td>\n",
       "      <td>74402</td>\n",
       "      <td>P</td>\n",
       "      <td>H</td>\n",
       "      <td>REP</td>\n",
       "      <td>Q</td>\n",
       "      <td>NaN</td>\n",
       "      <td>MULLIN VICTORY FUND</td>\n",
       "      <td>H2OK02083</td>\n",
       "      <td>RALLS, STEVE</td>\n",
       "      <td>PO BOX 3681</td>\n",
       "      <td>PO BOX 3681, MUSKOGEE, OK 74402</td>\n",
       "    </tr>\n",
       "    <tr>\n",
       "      <td>5508</td>\n",
       "      <td>C00504365</td>\n",
       "      <td>FUNDING REPUBLICANS SUPPORTING OPPORTUNITY AND...</td>\n",
       "      <td>STEVE RALLS</td>\n",
       "      <td>332 W LEE HWY</td>\n",
       "      <td># 303</td>\n",
       "      <td>WARRENTON</td>\n",
       "      <td>VA</td>\n",
       "      <td>20186</td>\n",
       "      <td>D</td>\n",
       "      <td>N</td>\n",
       "      <td>UNK</td>\n",
       "      <td>T</td>\n",
       "      <td>NaN</td>\n",
       "      <td>NaN</td>\n",
       "      <td>NaN</td>\n",
       "      <td>STEVE RALLS</td>\n",
       "      <td>332 W LEE HWY</td>\n",
       "      <td>332 W LEE HWY, WARRENTON, VA 20186</td>\n",
       "    </tr>\n",
       "  </tbody>\n",
       "</table>\n",
       "</div>"
      ],
      "text/plain": [
       "        cmte_id                                            cmte_nm  \\\n",
       "3389  C00426494   FOR OUR REPUBLIC'S TRADITIONS FUND AKA FORT FUND   \n",
       "3416  C00427781  ONLINE LENDERS ALLIANCE POLITICAL ACTION COMMI...   \n",
       "5012  C00489336                             WILD AND WONDERFUL PAC   \n",
       "5345  C00498345                                MULLIN FOR CONGRESS   \n",
       "5508  C00504365  FUNDING REPUBLICANS SUPPORTING OPPORTUNITY AND...   \n",
       "\n",
       "          tres_nm       cmte_st1    cmte_st2   cmte_city cmte_st cmte_zip  \\\n",
       "3389  STEVE RALLS   PO BOX 30883         NaN     LINCOLN      NE    68503   \n",
       "3416  STEVE RALLS   PO BOX 15480  SE STATION  WASHINGTON      DC    20003   \n",
       "5012  STEVE RALLS  332 W LEE HWY       # 303   WARRENTON      VA    20186   \n",
       "5345  STEVE RALLS    PO BOX 3681         NaN    MUSKOGEE      OK    74402   \n",
       "5508  STEVE RALLS  332 W LEE HWY       # 303   WARRENTON      VA    20186   \n",
       "\n",
       "     cmte_dsgn cmte_tp cmte_pty_affiliation cmte_filing_freq org_tp  \\\n",
       "3389         D       N                  UNK                M    NaN   \n",
       "3416         U       Q                  UNK                M      M   \n",
       "5012         D       Q                  UNK                M    NaN   \n",
       "5345         P       H                  REP                Q    NaN   \n",
       "5508         D       N                  UNK                T    NaN   \n",
       "\n",
       "             connected_org_nm    cand_id      orig_tres_nm  orig_cmte_st1  \\\n",
       "3389         JEFF FORTENBERRY        NaN  RALLS, STEVE MR.   PO BOX 30883   \n",
       "3416  ONLINE LENDERS ALLIANCE        NaN      RALLS, STEVE   PO BOX 15480   \n",
       "5012                      NaN        NaN      RALLS, STEVE  332 W LEE HWY   \n",
       "5345      MULLIN VICTORY FUND  H2OK02083      RALLS, STEVE    PO BOX 3681   \n",
       "5508                      NaN        NaN       STEVE RALLS  332 W LEE HWY   \n",
       "\n",
       "                                 address  \n",
       "3389     PO BOX 30883, LINCOLN, NE 68503  \n",
       "3416  PO BOX 15480, WASHINGTON, DC 20003  \n",
       "5012  332 W LEE HWY, WARRENTON, VA 20186  \n",
       "5345     PO BOX 3681, MUSKOGEE, OK 74402  \n",
       "5508  332 W LEE HWY, WARRENTON, VA 20186  "
      ]
     },
     "execution_count": 139,
     "metadata": {},
     "output_type": "execute_result"
    }
   ],
   "source": [
    "cm[cm['tres_nm'] == 'STEVE RALLS'].head()"
   ]
  },
  {
   "cell_type": "code",
   "execution_count": 140,
   "metadata": {},
   "outputs": [
    {
     "name": "stdout",
     "output_type": "stream",
     "text": [
      "orig len: 22\n",
      "new len: 23\n"
     ]
    }
   ],
   "source": [
    "new = 'STEVE RALLS'\n",
    "dones.append(new)\n",
    "\n",
    "these = findall('ralls')\n",
    "\n",
    "getall(these, new)"
   ]
  },
  {
   "cell_type": "code",
   "execution_count": 141,
   "metadata": {},
   "outputs": [
    {
     "data": {
      "text/plain": [
       "['BECKY HASSLEN',\n",
       " 'CHRISSIE HASTIE',\n",
       " 'GARY HASTY',\n",
       " 'JOSEPH HASTO',\n",
       " 'KHAWAR HASSAN',\n",
       " 'NEIL HASSETT']"
      ]
     },
     "execution_count": 141,
     "metadata": {},
     "output_type": "execute_result"
    }
   ],
   "source": [
    "findall(' has')"
   ]
  },
  {
   "cell_type": "code",
   "execution_count": 142,
   "metadata": {},
   "outputs": [],
   "source": [
    "dones.extend(findall(' has'))"
   ]
  },
  {
   "cell_type": "code",
   "execution_count": 143,
   "metadata": {},
   "outputs": [
    {
     "data": {
      "text/plain": [
       "['EMILY BUCHANAN',\n",
       " 'KATHERINE BUCHANAN',\n",
       " 'KIMBERLY BUCHAN',\n",
       " 'MARY ANNE BUCHANAN',\n",
       " 'SHAWN BUCHTEL',\n",
       " 'TIM BUCHE']"
      ]
     },
     "execution_count": 143,
     "metadata": {},
     "output_type": "execute_result"
    }
   ],
   "source": [
    "findall(' buch')"
   ]
  },
  {
   "cell_type": "code",
   "execution_count": 144,
   "metadata": {},
   "outputs": [],
   "source": [
    "dones.extend(findall(' buch'))"
   ]
  },
  {
   "cell_type": "code",
   "execution_count": 145,
   "metadata": {},
   "outputs": [
    {
     "data": {
      "text/plain": [
       "['ANDREW BACON',\n",
       " 'BENJAMIN BACKER',\n",
       " 'CATHARYNE BACH',\n",
       " 'DAN BACHUS',\n",
       " 'DAN BACKER',\n",
       " 'DANIEL BACINE',\n",
       " 'JA BACHMAN',\n",
       " 'JOEL BACON',\n",
       " 'WILLIAM BACHMAN']"
      ]
     },
     "execution_count": 145,
     "metadata": {},
     "output_type": "execute_result"
    }
   ],
   "source": [
    "findall(' bac')"
   ]
  },
  {
   "cell_type": "code",
   "execution_count": 146,
   "metadata": {},
   "outputs": [],
   "source": [
    "dones.extend(findall(' bac'))"
   ]
  },
  {
   "cell_type": "code",
   "execution_count": 147,
   "metadata": {},
   "outputs": [
    {
     "data": {
      "text/plain": [
       "['KEVIN BROGHAMER', 'LEE ANNE BROGOWSKI', 'MICHAEL BROGAN', 'RICHARD BROGAN']"
      ]
     },
     "execution_count": 147,
     "metadata": {},
     "output_type": "execute_result"
    }
   ],
   "source": [
    "findall(' brog')"
   ]
  },
  {
   "cell_type": "code",
   "execution_count": 148,
   "metadata": {},
   "outputs": [],
   "source": [
    "dones.extend(findall(' brog'))"
   ]
  },
  {
   "cell_type": "code",
   "execution_count": 149,
   "metadata": {},
   "outputs": [
    {
     "data": {
      "text/plain": [
       "['ANDREW GIANNONE',\n",
       " 'FRANCIS GIARDIELLO',\n",
       " 'HOLLY GIARRAPUTO',\n",
       " 'JOEL GIANNELLI',\n",
       " 'SAVERIO GIAMBALVO',\n",
       " 'SUSAN GIANNETTI LONGACRE']"
      ]
     },
     "execution_count": 149,
     "metadata": {},
     "output_type": "execute_result"
    }
   ],
   "source": [
    "findall(' gia')"
   ]
  },
  {
   "cell_type": "code",
   "execution_count": 150,
   "metadata": {},
   "outputs": [
    {
     "data": {
      "text/plain": [
       "['SUSAN GIANNETTI LONGACRE']"
      ]
     },
     "execution_count": 150,
     "metadata": {},
     "output_type": "execute_result"
    }
   ],
   "source": [
    "findall('longacre')"
   ]
  },
  {
   "cell_type": "code",
   "execution_count": 151,
   "metadata": {},
   "outputs": [],
   "source": [
    "dones.extend(findall(' gia'))"
   ]
  },
  {
   "cell_type": "code",
   "execution_count": 152,
   "metadata": {},
   "outputs": [
    {
     "data": {
      "text/plain": [
       "['SHAWNDA DEANE']"
      ]
     },
     "execution_count": 152,
     "metadata": {},
     "output_type": "execute_result"
    }
   ],
   "source": [
    "findall(' deane')"
   ]
  },
  {
   "cell_type": "code",
   "execution_count": 153,
   "metadata": {},
   "outputs": [],
   "source": [
    "dones.extend(findall(' deane'))"
   ]
  },
  {
   "cell_type": "code",
   "execution_count": 154,
   "metadata": {},
   "outputs": [
    {
     "data": {
      "text/plain": [
       "['DEBORAH RUTH HAGAR',\n",
       " 'HILLARY HAGERTY',\n",
       " 'JANICE GWYN HAGERMAN',\n",
       " 'JOHN HAGY',\n",
       " 'LORA HAGGARD',\n",
       " 'PAUL HAGY',\n",
       " 'RICHARD HAGEN',\n",
       " 'SARAH HAGER',\n",
       " 'TIMOTHY HAGAN']"
      ]
     },
     "execution_count": 154,
     "metadata": {},
     "output_type": "execute_result"
    }
   ],
   "source": [
    "findall(' hag')"
   ]
  },
  {
   "cell_type": "code",
   "execution_count": 155,
   "metadata": {},
   "outputs": [],
   "source": [
    "dones.extend(findall(' hag'))"
   ]
  },
  {
   "cell_type": "code",
   "execution_count": 156,
   "metadata": {},
   "outputs": [
    {
     "data": {
      "text/plain": [
       "['LINDSAY ANGERHOLZER']"
      ]
     },
     "execution_count": 156,
     "metadata": {},
     "output_type": "execute_result"
    }
   ],
   "source": [
    "findall(' anger')"
   ]
  },
  {
   "cell_type": "code",
   "execution_count": 157,
   "metadata": {},
   "outputs": [],
   "source": [
    "dones.extend(findall(' anger'))"
   ]
  },
  {
   "cell_type": "code",
   "execution_count": 158,
   "metadata": {},
   "outputs": [
    {
     "data": {
      "text/plain": [
       "['AARON LOWE',\n",
       " 'GRETCHEN LOWE',\n",
       " 'JENNIFER LOWE',\n",
       " 'KEITH LOWEY',\n",
       " 'LUCAS LOWELL EASLEY',\n",
       " 'ROSS LOWE',\n",
       " 'TRAVIS LOWE']"
      ]
     },
     "execution_count": 158,
     "metadata": {},
     "output_type": "execute_result"
    }
   ],
   "source": [
    "findall(' lowe')"
   ]
  },
  {
   "cell_type": "code",
   "execution_count": 159,
   "metadata": {},
   "outputs": [],
   "source": [
    "dones.extend(findall(' lowe'))"
   ]
  },
  {
   "cell_type": "code",
   "execution_count": 160,
   "metadata": {},
   "outputs": [
    {
     "data": {
      "text/plain": [
       "['BRIAN BAUER',\n",
       " 'CARL BAUMAN',\n",
       " 'DAVID BAUER',\n",
       " 'DAWN BAUMAN',\n",
       " 'GARY BAUER',\n",
       " 'LINDA BAUER DARR',\n",
       " 'NATALIE BAUR',\n",
       " 'ORPHEAO BAUM',\n",
       " 'PAULA BAUER',\n",
       " 'TED BAUER']"
      ]
     },
     "execution_count": 160,
     "metadata": {},
     "output_type": "execute_result"
    }
   ],
   "source": [
    "findall(' bau')"
   ]
  },
  {
   "cell_type": "code",
   "execution_count": 161,
   "metadata": {},
   "outputs": [
    {
     "data": {
      "text/plain": [
       "[]"
      ]
     },
     "execution_count": 161,
     "metadata": {},
     "output_type": "execute_result"
    }
   ],
   "source": [
    "findall(['ju', 'mart'])"
   ]
  },
  {
   "cell_type": "code",
   "execution_count": 162,
   "metadata": {},
   "outputs": [],
   "source": [
    "dones.extend(findall(' bau'))"
   ]
  },
  {
   "cell_type": "code",
   "execution_count": 163,
   "metadata": {},
   "outputs": [
    {
     "data": {
      "text/plain": [
       "['BRENT EVANS',\n",
       " 'BRIAN EVANS',\n",
       " 'DEBI EVANS',\n",
       " 'DIANE EVANS',\n",
       " 'DOUG EVANS',\n",
       " 'GEORGE EVANS',\n",
       " 'HEATHER EVANS',\n",
       " 'JAMES EVANS',\n",
       " 'JON EVANS',\n",
       " 'LYLE EVANS',\n",
       " 'MELISSA ANNE EVANS',\n",
       " 'NICHOLAS EVANS',\n",
       " 'WALTER EVANS']"
      ]
     },
     "execution_count": 163,
     "metadata": {},
     "output_type": "execute_result"
    }
   ],
   "source": [
    "findall(' evans')"
   ]
  },
  {
   "cell_type": "code",
   "execution_count": 164,
   "metadata": {},
   "outputs": [
    {
     "data": {
      "text/plain": [
       "['JOHN DOYLE', 'MATTHEW DOYLE', 'PETER DOYLE', 'TIM DOYLE']"
      ]
     },
     "execution_count": 164,
     "metadata": {},
     "output_type": "execute_result"
    }
   ],
   "source": [
    "findall(' doyle')"
   ]
  },
  {
   "cell_type": "code",
   "execution_count": 165,
   "metadata": {},
   "outputs": [],
   "source": [
    "dones.extend(findall(' doyle'))"
   ]
  },
  {
   "cell_type": "code",
   "execution_count": 166,
   "metadata": {},
   "outputs": [],
   "source": [
    "dones.extend(findall(' evans'))"
   ]
  },
  {
   "cell_type": "code",
   "execution_count": 167,
   "metadata": {},
   "outputs": [
    {
     "data": {
      "text/plain": [
       "['DAVE MASON',\n",
       " 'DAVID MASON',\n",
       " 'DIRK MASON CANTRELL',\n",
       " 'DYANA MASON',\n",
       " 'JACQUELINE MASON',\n",
       " 'MARCUS MASON',\n",
       " 'MICHAEL MASON',\n",
       " 'STACY MASON']"
      ]
     },
     "execution_count": 167,
     "metadata": {},
     "output_type": "execute_result"
    }
   ],
   "source": [
    "findall(' mason')"
   ]
  },
  {
   "cell_type": "code",
   "execution_count": 168,
   "metadata": {},
   "outputs": [
    {
     "data": {
      "text/html": [
       "<div>\n",
       "<style scoped>\n",
       "    .dataframe tbody tr th:only-of-type {\n",
       "        vertical-align: middle;\n",
       "    }\n",
       "\n",
       "    .dataframe tbody tr th {\n",
       "        vertical-align: top;\n",
       "    }\n",
       "\n",
       "    .dataframe thead th {\n",
       "        text-align: right;\n",
       "    }\n",
       "</style>\n",
       "<table border=\"1\" class=\"dataframe\">\n",
       "  <thead>\n",
       "    <tr style=\"text-align: right;\">\n",
       "      <th></th>\n",
       "      <th>cmte_id</th>\n",
       "      <th>cmte_nm</th>\n",
       "      <th>tres_nm</th>\n",
       "      <th>cmte_st1</th>\n",
       "      <th>cmte_st2</th>\n",
       "      <th>cmte_city</th>\n",
       "      <th>cmte_st</th>\n",
       "      <th>cmte_zip</th>\n",
       "      <th>cmte_dsgn</th>\n",
       "      <th>cmte_tp</th>\n",
       "      <th>cmte_pty_affiliation</th>\n",
       "      <th>cmte_filing_freq</th>\n",
       "      <th>org_tp</th>\n",
       "      <th>connected_org_nm</th>\n",
       "      <th>cand_id</th>\n",
       "      <th>orig_tres_nm</th>\n",
       "      <th>orig_cmte_st1</th>\n",
       "      <th>address</th>\n",
       "    </tr>\n",
       "  </thead>\n",
       "  <tbody>\n",
       "    <tr>\n",
       "      <td>3021</td>\n",
       "      <td>C00406850</td>\n",
       "      <td>BLUE CROSS BLUE SHIELD OF SOUTH CAROLINA FEDER...</td>\n",
       "      <td>DAVE MASON</td>\n",
       "      <td>INTERSTATE 20 AT ALPINE RD</td>\n",
       "      <td>NaN</td>\n",
       "      <td>COLUMBIA</td>\n",
       "      <td>SC</td>\n",
       "      <td>29214</td>\n",
       "      <td>B</td>\n",
       "      <td>Q</td>\n",
       "      <td>UNK</td>\n",
       "      <td>Q</td>\n",
       "      <td>C</td>\n",
       "      <td>NaN</td>\n",
       "      <td>NaN</td>\n",
       "      <td>MASON, DAVE MR.</td>\n",
       "      <td>INTERSTATE 20 AT ALPINE ROAD</td>\n",
       "      <td>INTERSTATE 20 AT ALPINE RD, COLUMBIA, SC 29214</td>\n",
       "    </tr>\n",
       "  </tbody>\n",
       "</table>\n",
       "</div>"
      ],
      "text/plain": [
       "        cmte_id                                            cmte_nm  \\\n",
       "3021  C00406850  BLUE CROSS BLUE SHIELD OF SOUTH CAROLINA FEDER...   \n",
       "\n",
       "         tres_nm                    cmte_st1 cmte_st2 cmte_city cmte_st  \\\n",
       "3021  DAVE MASON  INTERSTATE 20 AT ALPINE RD      NaN  COLUMBIA      SC   \n",
       "\n",
       "     cmte_zip cmte_dsgn cmte_tp cmte_pty_affiliation cmte_filing_freq org_tp  \\\n",
       "3021    29214         B       Q                  UNK                Q      C   \n",
       "\n",
       "     connected_org_nm cand_id     orig_tres_nm                 orig_cmte_st1  \\\n",
       "3021              NaN     NaN  MASON, DAVE MR.  INTERSTATE 20 AT ALPINE ROAD   \n",
       "\n",
       "                                             address  \n",
       "3021  INTERSTATE 20 AT ALPINE RD, COLUMBIA, SC 29214  "
      ]
     },
     "execution_count": 168,
     "metadata": {},
     "output_type": "execute_result"
    }
   ],
   "source": [
    "cm[cm['tres_nm'] == 'DAVE MASON'].head()"
   ]
  },
  {
   "cell_type": "code",
   "execution_count": 169,
   "metadata": {},
   "outputs": [
    {
     "data": {
      "text/html": [
       "<div>\n",
       "<style scoped>\n",
       "    .dataframe tbody tr th:only-of-type {\n",
       "        vertical-align: middle;\n",
       "    }\n",
       "\n",
       "    .dataframe tbody tr th {\n",
       "        vertical-align: top;\n",
       "    }\n",
       "\n",
       "    .dataframe thead th {\n",
       "        text-align: right;\n",
       "    }\n",
       "</style>\n",
       "<table border=\"1\" class=\"dataframe\">\n",
       "  <thead>\n",
       "    <tr style=\"text-align: right;\">\n",
       "      <th></th>\n",
       "      <th>cmte_id</th>\n",
       "      <th>cmte_nm</th>\n",
       "      <th>tres_nm</th>\n",
       "      <th>cmte_st1</th>\n",
       "      <th>cmte_st2</th>\n",
       "      <th>cmte_city</th>\n",
       "      <th>cmte_st</th>\n",
       "      <th>cmte_zip</th>\n",
       "      <th>cmte_dsgn</th>\n",
       "      <th>cmte_tp</th>\n",
       "      <th>cmte_pty_affiliation</th>\n",
       "      <th>cmte_filing_freq</th>\n",
       "      <th>org_tp</th>\n",
       "      <th>connected_org_nm</th>\n",
       "      <th>cand_id</th>\n",
       "      <th>orig_tres_nm</th>\n",
       "      <th>orig_cmte_st1</th>\n",
       "      <th>address</th>\n",
       "    </tr>\n",
       "  </thead>\n",
       "  <tbody>\n",
       "  </tbody>\n",
       "</table>\n",
       "</div>"
      ],
      "text/plain": [
       "Empty DataFrame\n",
       "Columns: [cmte_id, cmte_nm, tres_nm, cmte_st1, cmte_st2, cmte_city, cmte_st, cmte_zip, cmte_dsgn, cmte_tp, cmte_pty_affiliation, cmte_filing_freq, org_tp, connected_org_nm, cand_id, orig_tres_nm, orig_cmte_st1, address]\n",
       "Index: []"
      ]
     },
     "execution_count": 169,
     "metadata": {},
     "output_type": "execute_result"
    }
   ],
   "source": [
    "cm[(cm['tres_nm'] == 'DAVID MASON') & (cm['cmte_st'] == 'SC')].head()"
   ]
  },
  {
   "cell_type": "code",
   "execution_count": 170,
   "metadata": {},
   "outputs": [
    {
     "data": {
      "text/plain": [
       "['DIRK MASON CANTRELL']"
      ]
     },
     "execution_count": 170,
     "metadata": {},
     "output_type": "execute_result"
    }
   ],
   "source": [
    "findall('cantrell')"
   ]
  },
  {
   "cell_type": "code",
   "execution_count": 171,
   "metadata": {},
   "outputs": [
    {
     "data": {
      "text/html": [
       "<div>\n",
       "<style scoped>\n",
       "    .dataframe tbody tr th:only-of-type {\n",
       "        vertical-align: middle;\n",
       "    }\n",
       "\n",
       "    .dataframe tbody tr th {\n",
       "        vertical-align: top;\n",
       "    }\n",
       "\n",
       "    .dataframe thead th {\n",
       "        text-align: right;\n",
       "    }\n",
       "</style>\n",
       "<table border=\"1\" class=\"dataframe\">\n",
       "  <thead>\n",
       "    <tr style=\"text-align: right;\">\n",
       "      <th></th>\n",
       "      <th>cmte_id</th>\n",
       "      <th>cmte_nm</th>\n",
       "      <th>tres_nm</th>\n",
       "      <th>cmte_st1</th>\n",
       "      <th>cmte_st2</th>\n",
       "      <th>cmte_city</th>\n",
       "      <th>cmte_st</th>\n",
       "      <th>cmte_zip</th>\n",
       "      <th>cmte_dsgn</th>\n",
       "      <th>cmte_tp</th>\n",
       "      <th>cmte_pty_affiliation</th>\n",
       "      <th>cmte_filing_freq</th>\n",
       "      <th>org_tp</th>\n",
       "      <th>connected_org_nm</th>\n",
       "      <th>cand_id</th>\n",
       "      <th>orig_tres_nm</th>\n",
       "      <th>orig_cmte_st1</th>\n",
       "      <th>address</th>\n",
       "    </tr>\n",
       "  </thead>\n",
       "  <tbody>\n",
       "  </tbody>\n",
       "</table>\n",
       "</div>"
      ],
      "text/plain": [
       "Empty DataFrame\n",
       "Columns: [cmte_id, cmte_nm, tres_nm, cmte_st1, cmte_st2, cmte_city, cmte_st, cmte_zip, cmte_dsgn, cmte_tp, cmte_pty_affiliation, cmte_filing_freq, org_tp, connected_org_nm, cand_id, orig_tres_nm, orig_cmte_st1, address]\n",
       "Index: []"
      ]
     },
     "execution_count": 171,
     "metadata": {},
     "output_type": "execute_result"
    }
   ],
   "source": [
    "cm[cm['tres_nm'] == 'MICHAEL THOMAS MASON'].head()"
   ]
  },
  {
   "cell_type": "code",
   "execution_count": 172,
   "metadata": {},
   "outputs": [
    {
     "data": {
      "text/html": [
       "<div>\n",
       "<style scoped>\n",
       "    .dataframe tbody tr th:only-of-type {\n",
       "        vertical-align: middle;\n",
       "    }\n",
       "\n",
       "    .dataframe tbody tr th {\n",
       "        vertical-align: top;\n",
       "    }\n",
       "\n",
       "    .dataframe thead th {\n",
       "        text-align: right;\n",
       "    }\n",
       "</style>\n",
       "<table border=\"1\" class=\"dataframe\">\n",
       "  <thead>\n",
       "    <tr style=\"text-align: right;\">\n",
       "      <th></th>\n",
       "      <th>cmte_id</th>\n",
       "      <th>cmte_nm</th>\n",
       "      <th>tres_nm</th>\n",
       "      <th>cmte_st1</th>\n",
       "      <th>cmte_st2</th>\n",
       "      <th>cmte_city</th>\n",
       "      <th>cmte_st</th>\n",
       "      <th>cmte_zip</th>\n",
       "      <th>cmte_dsgn</th>\n",
       "      <th>cmte_tp</th>\n",
       "      <th>cmte_pty_affiliation</th>\n",
       "      <th>cmte_filing_freq</th>\n",
       "      <th>org_tp</th>\n",
       "      <th>connected_org_nm</th>\n",
       "      <th>cand_id</th>\n",
       "      <th>orig_tres_nm</th>\n",
       "      <th>orig_cmte_st1</th>\n",
       "      <th>address</th>\n",
       "    </tr>\n",
       "  </thead>\n",
       "  <tbody>\n",
       "    <tr>\n",
       "      <td>1574</td>\n",
       "      <td>C00268904</td>\n",
       "      <td>TRINITY INDUSTRIES EMPLOYEE POLITICAL ACTION C...</td>\n",
       "      <td>MICHAEL MASON</td>\n",
       "      <td>2525 N STEMMONS FREEWAY</td>\n",
       "      <td>NaN</td>\n",
       "      <td>DALLAS</td>\n",
       "      <td>TX</td>\n",
       "      <td>75207</td>\n",
       "      <td>B</td>\n",
       "      <td>Q</td>\n",
       "      <td>UNK</td>\n",
       "      <td>M</td>\n",
       "      <td>C</td>\n",
       "      <td>TRINITY INDUSTRIES INC.</td>\n",
       "      <td>NaN</td>\n",
       "      <td>MASON, MICHAEL J.</td>\n",
       "      <td>2525 N. STEMMONS FREEWAY</td>\n",
       "      <td>2525 N STEMMONS FREEWAY, DALLAS, TX 75207</td>\n",
       "    </tr>\n",
       "  </tbody>\n",
       "</table>\n",
       "</div>"
      ],
      "text/plain": [
       "        cmte_id                                            cmte_nm  \\\n",
       "1574  C00268904  TRINITY INDUSTRIES EMPLOYEE POLITICAL ACTION C...   \n",
       "\n",
       "            tres_nm                 cmte_st1 cmte_st2 cmte_city cmte_st  \\\n",
       "1574  MICHAEL MASON  2525 N STEMMONS FREEWAY      NaN    DALLAS      TX   \n",
       "\n",
       "     cmte_zip cmte_dsgn cmte_tp cmte_pty_affiliation cmte_filing_freq org_tp  \\\n",
       "1574    75207         B       Q                  UNK                M      C   \n",
       "\n",
       "             connected_org_nm cand_id       orig_tres_nm  \\\n",
       "1574  TRINITY INDUSTRIES INC.     NaN  MASON, MICHAEL J.   \n",
       "\n",
       "                 orig_cmte_st1                                    address  \n",
       "1574  2525 N. STEMMONS FREEWAY  2525 N STEMMONS FREEWAY, DALLAS, TX 75207  "
      ]
     },
     "execution_count": 172,
     "metadata": {},
     "output_type": "execute_result"
    }
   ],
   "source": [
    "cm[(cm['tres_nm'] == 'MICHAEL MASON') & (cm['cmte_st'] == 'TX')].head()"
   ]
  },
  {
   "cell_type": "code",
   "execution_count": 173,
   "metadata": {},
   "outputs": [
    {
     "name": "stdout",
     "output_type": "stream",
     "text": [
      "orig len: 1\n",
      "new len: 1\n"
     ]
    }
   ],
   "source": [
    "new = 'MICHAEL MASON'\n",
    "dones.append(new)\n",
    "\n",
    "these = findall(['michael', 'mason'])\n",
    "\n",
    "getall(these, new)"
   ]
  },
  {
   "cell_type": "code",
   "execution_count": 174,
   "metadata": {},
   "outputs": [
    {
     "data": {
      "text/plain": [
       "['CHRISTINA HALEY',\n",
       " 'DAN HALEY',\n",
       " 'DONALD BRETT HALE',\n",
       " 'JAMES HALE',\n",
       " 'NANCY HALEY',\n",
       " 'RANDY HALE',\n",
       " 'TONY HALE',\n",
       " 'YVONNE HALEJKO']"
      ]
     },
     "execution_count": 174,
     "metadata": {},
     "output_type": "execute_result"
    }
   ],
   "source": [
    "findall(' hale')"
   ]
  },
  {
   "cell_type": "code",
   "execution_count": 175,
   "metadata": {},
   "outputs": [],
   "source": [
    "dones.extend(findall(' mason'))"
   ]
  },
  {
   "cell_type": "code",
   "execution_count": 176,
   "metadata": {},
   "outputs": [
    {
     "data": {
      "text/plain": [
       "['JOHN LLOYD', 'JUSTIN LLOYD MCNEEL', 'PHILIP LLOYD', 'WILLIS LLOYD']"
      ]
     },
     "execution_count": 176,
     "metadata": {},
     "output_type": "execute_result"
    }
   ],
   "source": [
    "findall(' lloyd')"
   ]
  },
  {
   "cell_type": "code",
   "execution_count": 177,
   "metadata": {},
   "outputs": [
    {
     "data": {
      "text/plain": [
       "['JUSTIN LLOYD MCNEEL']"
      ]
     },
     "execution_count": 177,
     "metadata": {},
     "output_type": "execute_result"
    }
   ],
   "source": [
    "findall(' mcneel')"
   ]
  },
  {
   "cell_type": "code",
   "execution_count": 178,
   "metadata": {},
   "outputs": [],
   "source": [
    "dones.extend(findall(' lloyd'))"
   ]
  },
  {
   "cell_type": "code",
   "execution_count": 179,
   "metadata": {},
   "outputs": [
    {
     "data": {
      "text/plain": [
       "['ANDREW JOHNSON',\n",
       " 'AQUASIA JOHNSON',\n",
       " 'ARLEY JOHNSON',\n",
       " 'ARNOLD JOHNSON',\n",
       " 'BETTY JOHNSON',\n",
       " 'BRAD JOHNSON',\n",
       " 'BRIAN JOHNSON',\n",
       " 'BURT JOHNSON',\n",
       " 'CATHERINE JOHNSON',\n",
       " 'CHARLES JOHNSON',\n",
       " 'CHELSEA JOHNSON',\n",
       " 'CHRIS JOHNSON',\n",
       " 'CLAY JOHNSON',\n",
       " 'CLIFFORD JOHNSON',\n",
       " 'CONSTANCE JOHNSON',\n",
       " 'CORY JOHNSON',\n",
       " 'DAVID JOHNSON',\n",
       " 'DUANE JOSEPH JOHNSON',\n",
       " 'EDDIE JOHNSON',\n",
       " 'EMMA JOHNSON',\n",
       " 'ERIC JOHNSON',\n",
       " 'ERIK ARLEN JOHNSON',\n",
       " 'GEORGE JOHNSON',\n",
       " 'GREGORY JOHNSON',\n",
       " 'JAMES JOHNSON',\n",
       " 'JUDITH JOHNSON',\n",
       " 'JULIE JOHNSON',\n",
       " 'KENNETH JOHNSON',\n",
       " 'LINELL JOHNSON',\n",
       " 'LORRETTA JOHNSON',\n",
       " 'LOUIS JOHNSON',\n",
       " 'MARK JOHNSON',\n",
       " 'MATTHEW JOHNSON',\n",
       " 'MELODIE JOHNSON',\n",
       " 'MICHAEL JOHNSON',\n",
       " 'OTIS LEE JOHNSON',\n",
       " 'PRINCESS JOHNSON',\n",
       " 'ROBERT JOHNSON',\n",
       " 'SARAH JOHNSON',\n",
       " 'STANLEY JOHNSON',\n",
       " 'STEPHEN JOHNSON',\n",
       " 'SUSAN JOHNSON',\n",
       " 'THOMAS JOHNSON',\n",
       " 'THOMAS WAYNE JOHNSON',\n",
       " 'VERDELL JOHNSON',\n",
       " 'WILLIAM JOHNSON']"
      ]
     },
     "execution_count": 179,
     "metadata": {},
     "output_type": "execute_result"
    }
   ],
   "source": [
    "findall(' johnson')"
   ]
  },
  {
   "cell_type": "code",
   "execution_count": 180,
   "metadata": {},
   "outputs": [
    {
     "data": {
      "text/html": [
       "<div>\n",
       "<style scoped>\n",
       "    .dataframe tbody tr th:only-of-type {\n",
       "        vertical-align: middle;\n",
       "    }\n",
       "\n",
       "    .dataframe tbody tr th {\n",
       "        vertical-align: top;\n",
       "    }\n",
       "\n",
       "    .dataframe thead th {\n",
       "        text-align: right;\n",
       "    }\n",
       "</style>\n",
       "<table border=\"1\" class=\"dataframe\">\n",
       "  <thead>\n",
       "    <tr style=\"text-align: right;\">\n",
       "      <th></th>\n",
       "      <th>cmte_id</th>\n",
       "      <th>cmte_nm</th>\n",
       "      <th>tres_nm</th>\n",
       "      <th>cmte_st1</th>\n",
       "      <th>cmte_st2</th>\n",
       "      <th>cmte_city</th>\n",
       "      <th>cmte_st</th>\n",
       "      <th>cmte_zip</th>\n",
       "      <th>cmte_dsgn</th>\n",
       "      <th>cmte_tp</th>\n",
       "      <th>cmte_pty_affiliation</th>\n",
       "      <th>cmte_filing_freq</th>\n",
       "      <th>org_tp</th>\n",
       "      <th>connected_org_nm</th>\n",
       "      <th>cand_id</th>\n",
       "      <th>orig_tres_nm</th>\n",
       "      <th>orig_cmte_st1</th>\n",
       "      <th>address</th>\n",
       "    </tr>\n",
       "  </thead>\n",
       "  <tbody>\n",
       "  </tbody>\n",
       "</table>\n",
       "</div>"
      ],
      "text/plain": [
       "Empty DataFrame\n",
       "Columns: [cmte_id, cmte_nm, tres_nm, cmte_st1, cmte_st2, cmte_city, cmte_st, cmte_zip, cmte_dsgn, cmte_tp, cmte_pty_affiliation, cmte_filing_freq, org_tp, connected_org_nm, cand_id, orig_tres_nm, orig_cmte_st1, address]\n",
       "Index: []"
      ]
     },
     "execution_count": 180,
     "metadata": {},
     "output_type": "execute_result"
    }
   ],
   "source": [
    "cm[cm['tres_nm'] == 'ARLEN JOHNSON']"
   ]
  },
  {
   "cell_type": "code",
   "execution_count": 181,
   "metadata": {},
   "outputs": [
    {
     "data": {
      "text/html": [
       "<div>\n",
       "<style scoped>\n",
       "    .dataframe tbody tr th:only-of-type {\n",
       "        vertical-align: middle;\n",
       "    }\n",
       "\n",
       "    .dataframe tbody tr th {\n",
       "        vertical-align: top;\n",
       "    }\n",
       "\n",
       "    .dataframe thead th {\n",
       "        text-align: right;\n",
       "    }\n",
       "</style>\n",
       "<table border=\"1\" class=\"dataframe\">\n",
       "  <thead>\n",
       "    <tr style=\"text-align: right;\">\n",
       "      <th></th>\n",
       "      <th>cmte_id</th>\n",
       "      <th>cmte_nm</th>\n",
       "      <th>tres_nm</th>\n",
       "      <th>cmte_st1</th>\n",
       "      <th>cmte_st2</th>\n",
       "      <th>cmte_city</th>\n",
       "      <th>cmte_st</th>\n",
       "      <th>cmte_zip</th>\n",
       "      <th>cmte_dsgn</th>\n",
       "      <th>cmte_tp</th>\n",
       "      <th>cmte_pty_affiliation</th>\n",
       "      <th>cmte_filing_freq</th>\n",
       "      <th>org_tp</th>\n",
       "      <th>connected_org_nm</th>\n",
       "      <th>cand_id</th>\n",
       "      <th>orig_tres_nm</th>\n",
       "      <th>orig_cmte_st1</th>\n",
       "      <th>address</th>\n",
       "    </tr>\n",
       "  </thead>\n",
       "  <tbody>\n",
       "    <tr>\n",
       "      <td>16221</td>\n",
       "      <td>C00686238</td>\n",
       "      <td>RESISTERY PAC</td>\n",
       "      <td>ERIK ARLEN JOHNSON</td>\n",
       "      <td>275 LAKE DR</td>\n",
       "      <td>NaN</td>\n",
       "      <td>KENSINGTON</td>\n",
       "      <td>CA</td>\n",
       "      <td>94708</td>\n",
       "      <td>U</td>\n",
       "      <td>O</td>\n",
       "      <td>UNK</td>\n",
       "      <td>Q</td>\n",
       "      <td>NaN</td>\n",
       "      <td>NaN</td>\n",
       "      <td>NaN</td>\n",
       "      <td>ERIK ARLEN JOHNSON</td>\n",
       "      <td>275 LAKE DRIVE</td>\n",
       "      <td>275 LAKE DR, KENSINGTON, CA 94708</td>\n",
       "    </tr>\n",
       "  </tbody>\n",
       "</table>\n",
       "</div>"
      ],
      "text/plain": [
       "         cmte_id        cmte_nm             tres_nm     cmte_st1 cmte_st2  \\\n",
       "16221  C00686238  RESISTERY PAC  ERIK ARLEN JOHNSON  275 LAKE DR      NaN   \n",
       "\n",
       "         cmte_city cmte_st cmte_zip cmte_dsgn cmte_tp cmte_pty_affiliation  \\\n",
       "16221  KENSINGTON       CA    94708         U       O                  UNK   \n",
       "\n",
       "      cmte_filing_freq org_tp connected_org_nm cand_id        orig_tres_nm  \\\n",
       "16221                Q    NaN              NaN     NaN  ERIK ARLEN JOHNSON   \n",
       "\n",
       "        orig_cmte_st1                            address  \n",
       "16221  275 LAKE DRIVE  275 LAKE DR, KENSINGTON, CA 94708  "
      ]
     },
     "execution_count": 181,
     "metadata": {},
     "output_type": "execute_result"
    }
   ],
   "source": [
    "cm[cm['tres_nm'] == 'ERIK ARLEN JOHNSON']"
   ]
  },
  {
   "cell_type": "code",
   "execution_count": 182,
   "metadata": {},
   "outputs": [
    {
     "data": {
      "text/html": [
       "<div>\n",
       "<style scoped>\n",
       "    .dataframe tbody tr th:only-of-type {\n",
       "        vertical-align: middle;\n",
       "    }\n",
       "\n",
       "    .dataframe tbody tr th {\n",
       "        vertical-align: top;\n",
       "    }\n",
       "\n",
       "    .dataframe thead th {\n",
       "        text-align: right;\n",
       "    }\n",
       "</style>\n",
       "<table border=\"1\" class=\"dataframe\">\n",
       "  <thead>\n",
       "    <tr style=\"text-align: right;\">\n",
       "      <th></th>\n",
       "      <th>cmte_id</th>\n",
       "      <th>cmte_nm</th>\n",
       "      <th>tres_nm</th>\n",
       "      <th>cmte_st1</th>\n",
       "      <th>cmte_st2</th>\n",
       "      <th>cmte_city</th>\n",
       "      <th>cmte_st</th>\n",
       "      <th>cmte_zip</th>\n",
       "      <th>cmte_dsgn</th>\n",
       "      <th>cmte_tp</th>\n",
       "      <th>cmte_pty_affiliation</th>\n",
       "      <th>cmte_filing_freq</th>\n",
       "      <th>org_tp</th>\n",
       "      <th>connected_org_nm</th>\n",
       "      <th>cand_id</th>\n",
       "      <th>orig_tres_nm</th>\n",
       "      <th>orig_cmte_st1</th>\n",
       "      <th>address</th>\n",
       "    </tr>\n",
       "  </thead>\n",
       "  <tbody>\n",
       "    <tr>\n",
       "      <td>6169</td>\n",
       "      <td>C00528166</td>\n",
       "      <td>NATIONAL ASSOCIATION FOR FIXED ANNUITIES POLIT...</td>\n",
       "      <td>CHRIS JOHNSON</td>\n",
       "      <td>1155 F ST NW</td>\n",
       "      <td>SUITE 1050</td>\n",
       "      <td>WASHINGTON</td>\n",
       "      <td>DC</td>\n",
       "      <td>20004</td>\n",
       "      <td>U</td>\n",
       "      <td>Q</td>\n",
       "      <td>UNK</td>\n",
       "      <td>Q</td>\n",
       "      <td>T</td>\n",
       "      <td>NaN</td>\n",
       "      <td>NaN</td>\n",
       "      <td>JOHNSON, CHRIS</td>\n",
       "      <td>1155 F ST NW</td>\n",
       "      <td>1155 F ST NW, WASHINGTON, DC 20004</td>\n",
       "    </tr>\n",
       "  </tbody>\n",
       "</table>\n",
       "</div>"
      ],
      "text/plain": [
       "        cmte_id                                            cmte_nm  \\\n",
       "6169  C00528166  NATIONAL ASSOCIATION FOR FIXED ANNUITIES POLIT...   \n",
       "\n",
       "            tres_nm      cmte_st1    cmte_st2   cmte_city cmte_st cmte_zip  \\\n",
       "6169  CHRIS JOHNSON  1155 F ST NW  SUITE 1050  WASHINGTON      DC    20004   \n",
       "\n",
       "     cmte_dsgn cmte_tp cmte_pty_affiliation cmte_filing_freq org_tp  \\\n",
       "6169         U       Q                  UNK                Q      T   \n",
       "\n",
       "     connected_org_nm cand_id    orig_tres_nm orig_cmte_st1  \\\n",
       "6169              NaN     NaN  JOHNSON, CHRIS  1155 F ST NW   \n",
       "\n",
       "                                 address  \n",
       "6169  1155 F ST NW, WASHINGTON, DC 20004  "
      ]
     },
     "execution_count": 182,
     "metadata": {},
     "output_type": "execute_result"
    }
   ],
   "source": [
    "cm[cm['tres_nm'] == 'CHRIS JOHNSON']"
   ]
  },
  {
   "cell_type": "code",
   "execution_count": 183,
   "metadata": {},
   "outputs": [
    {
     "data": {
      "text/html": [
       "<div>\n",
       "<style scoped>\n",
       "    .dataframe tbody tr th:only-of-type {\n",
       "        vertical-align: middle;\n",
       "    }\n",
       "\n",
       "    .dataframe tbody tr th {\n",
       "        vertical-align: top;\n",
       "    }\n",
       "\n",
       "    .dataframe thead th {\n",
       "        text-align: right;\n",
       "    }\n",
       "</style>\n",
       "<table border=\"1\" class=\"dataframe\">\n",
       "  <thead>\n",
       "    <tr style=\"text-align: right;\">\n",
       "      <th></th>\n",
       "      <th>cmte_id</th>\n",
       "      <th>cmte_nm</th>\n",
       "      <th>tres_nm</th>\n",
       "      <th>cmte_st1</th>\n",
       "      <th>cmte_st2</th>\n",
       "      <th>cmte_city</th>\n",
       "      <th>cmte_st</th>\n",
       "      <th>cmte_zip</th>\n",
       "      <th>cmte_dsgn</th>\n",
       "      <th>cmte_tp</th>\n",
       "      <th>cmte_pty_affiliation</th>\n",
       "      <th>cmte_filing_freq</th>\n",
       "      <th>org_tp</th>\n",
       "      <th>connected_org_nm</th>\n",
       "      <th>cand_id</th>\n",
       "      <th>orig_tres_nm</th>\n",
       "      <th>orig_cmte_st1</th>\n",
       "      <th>address</th>\n",
       "    </tr>\n",
       "  </thead>\n",
       "  <tbody>\n",
       "  </tbody>\n",
       "</table>\n",
       "</div>"
      ],
      "text/plain": [
       "Empty DataFrame\n",
       "Columns: [cmte_id, cmte_nm, tres_nm, cmte_st1, cmte_st2, cmte_city, cmte_st, cmte_zip, cmte_dsgn, cmte_tp, cmte_pty_affiliation, cmte_filing_freq, org_tp, connected_org_nm, cand_id, orig_tres_nm, orig_cmte_st1, address]\n",
       "Index: []"
      ]
     },
     "execution_count": 183,
     "metadata": {},
     "output_type": "execute_result"
    }
   ],
   "source": [
    "cm[cm['tres_nm'] == 'CHRISTOPHER LEE JOHNSON']"
   ]
  },
  {
   "cell_type": "code",
   "execution_count": 184,
   "metadata": {},
   "outputs": [
    {
     "data": {
      "text/html": [
       "<div>\n",
       "<style scoped>\n",
       "    .dataframe tbody tr th:only-of-type {\n",
       "        vertical-align: middle;\n",
       "    }\n",
       "\n",
       "    .dataframe tbody tr th {\n",
       "        vertical-align: top;\n",
       "    }\n",
       "\n",
       "    .dataframe thead th {\n",
       "        text-align: right;\n",
       "    }\n",
       "</style>\n",
       "<table border=\"1\" class=\"dataframe\">\n",
       "  <thead>\n",
       "    <tr style=\"text-align: right;\">\n",
       "      <th></th>\n",
       "      <th>cmte_id</th>\n",
       "      <th>cmte_nm</th>\n",
       "      <th>tres_nm</th>\n",
       "      <th>cmte_st1</th>\n",
       "      <th>cmte_st2</th>\n",
       "      <th>cmte_city</th>\n",
       "      <th>cmte_st</th>\n",
       "      <th>cmte_zip</th>\n",
       "      <th>cmte_dsgn</th>\n",
       "      <th>cmte_tp</th>\n",
       "      <th>cmte_pty_affiliation</th>\n",
       "      <th>cmte_filing_freq</th>\n",
       "      <th>org_tp</th>\n",
       "      <th>connected_org_nm</th>\n",
       "      <th>cand_id</th>\n",
       "      <th>orig_tres_nm</th>\n",
       "      <th>orig_cmte_st1</th>\n",
       "      <th>address</th>\n",
       "    </tr>\n",
       "  </thead>\n",
       "  <tbody>\n",
       "  </tbody>\n",
       "</table>\n",
       "</div>"
      ],
      "text/plain": [
       "Empty DataFrame\n",
       "Columns: [cmte_id, cmte_nm, tres_nm, cmte_st1, cmte_st2, cmte_city, cmte_st, cmte_zip, cmte_dsgn, cmte_tp, cmte_pty_affiliation, cmte_filing_freq, org_tp, connected_org_nm, cand_id, orig_tres_nm, orig_cmte_st1, address]\n",
       "Index: []"
      ]
     },
     "execution_count": 184,
     "metadata": {},
     "output_type": "execute_result"
    }
   ],
   "source": [
    "cm[cm['tres_nm'] == 'JIM JOHNSON']"
   ]
  },
  {
   "cell_type": "code",
   "execution_count": 185,
   "metadata": {},
   "outputs": [
    {
     "data": {
      "text/html": [
       "<div>\n",
       "<style scoped>\n",
       "    .dataframe tbody tr th:only-of-type {\n",
       "        vertical-align: middle;\n",
       "    }\n",
       "\n",
       "    .dataframe tbody tr th {\n",
       "        vertical-align: top;\n",
       "    }\n",
       "\n",
       "    .dataframe thead th {\n",
       "        text-align: right;\n",
       "    }\n",
       "</style>\n",
       "<table border=\"1\" class=\"dataframe\">\n",
       "  <thead>\n",
       "    <tr style=\"text-align: right;\">\n",
       "      <th></th>\n",
       "      <th>cmte_id</th>\n",
       "      <th>cmte_nm</th>\n",
       "      <th>tres_nm</th>\n",
       "      <th>cmte_st1</th>\n",
       "      <th>cmte_st2</th>\n",
       "      <th>cmte_city</th>\n",
       "      <th>cmte_st</th>\n",
       "      <th>cmte_zip</th>\n",
       "      <th>cmte_dsgn</th>\n",
       "      <th>cmte_tp</th>\n",
       "      <th>cmte_pty_affiliation</th>\n",
       "      <th>cmte_filing_freq</th>\n",
       "      <th>org_tp</th>\n",
       "      <th>connected_org_nm</th>\n",
       "      <th>cand_id</th>\n",
       "      <th>orig_tres_nm</th>\n",
       "      <th>orig_cmte_st1</th>\n",
       "      <th>address</th>\n",
       "    </tr>\n",
       "  </thead>\n",
       "  <tbody>\n",
       "    <tr>\n",
       "      <td>1378</td>\n",
       "      <td>C00236034</td>\n",
       "      <td>WERNER ENTERPRISES INC POLITICAL ACTION COMMITTEE</td>\n",
       "      <td>JAMES JOHNSON</td>\n",
       "      <td>14507 FRONTIER RD</td>\n",
       "      <td>NaN</td>\n",
       "      <td>OMAHA</td>\n",
       "      <td>NE</td>\n",
       "      <td>68138</td>\n",
       "      <td>U</td>\n",
       "      <td>Q</td>\n",
       "      <td>UNK</td>\n",
       "      <td>Q</td>\n",
       "      <td>C</td>\n",
       "      <td>WERNER ENTERPRISES INC</td>\n",
       "      <td>NaN</td>\n",
       "      <td>JOHNSON, JAMES L.</td>\n",
       "      <td>14507 FRONTIER ROAD</td>\n",
       "      <td>14507 FRONTIER RD, OMAHA, NE 68138</td>\n",
       "    </tr>\n",
       "    <tr>\n",
       "      <td>3162</td>\n",
       "      <td>C00412569</td>\n",
       "      <td>DENTON COUNTY REPUBLICAN VICTORY FUND</td>\n",
       "      <td>JAMES JOHNSON</td>\n",
       "      <td>2921 COUNTRY CLUB RD</td>\n",
       "      <td>NaN</td>\n",
       "      <td>DENTON</td>\n",
       "      <td>TX</td>\n",
       "      <td>76202</td>\n",
       "      <td>U</td>\n",
       "      <td>X</td>\n",
       "      <td>REP</td>\n",
       "      <td>M</td>\n",
       "      <td>M</td>\n",
       "      <td>REPUBLICAN PARTY OF TEXAS</td>\n",
       "      <td>NaN</td>\n",
       "      <td>JOHNSON, JAMES S.</td>\n",
       "      <td>2921 COUNTRY CLUB RD #102</td>\n",
       "      <td>2921 COUNTRY CLUB RD, DENTON, TX 76202</td>\n",
       "    </tr>\n",
       "  </tbody>\n",
       "</table>\n",
       "</div>"
      ],
      "text/plain": [
       "        cmte_id                                            cmte_nm  \\\n",
       "1378  C00236034  WERNER ENTERPRISES INC POLITICAL ACTION COMMITTEE   \n",
       "3162  C00412569              DENTON COUNTY REPUBLICAN VICTORY FUND   \n",
       "\n",
       "            tres_nm              cmte_st1 cmte_st2 cmte_city cmte_st cmte_zip  \\\n",
       "1378  JAMES JOHNSON     14507 FRONTIER RD      NaN     OMAHA      NE    68138   \n",
       "3162  JAMES JOHNSON  2921 COUNTRY CLUB RD      NaN    DENTON      TX    76202   \n",
       "\n",
       "     cmte_dsgn cmte_tp cmte_pty_affiliation cmte_filing_freq org_tp  \\\n",
       "1378         U       Q                  UNK                Q      C   \n",
       "3162         U       X                  REP                M      M   \n",
       "\n",
       "               connected_org_nm cand_id       orig_tres_nm  \\\n",
       "1378     WERNER ENTERPRISES INC     NaN  JOHNSON, JAMES L.   \n",
       "3162  REPUBLICAN PARTY OF TEXAS     NaN  JOHNSON, JAMES S.   \n",
       "\n",
       "                  orig_cmte_st1                                 address  \n",
       "1378        14507 FRONTIER ROAD      14507 FRONTIER RD, OMAHA, NE 68138  \n",
       "3162  2921 COUNTRY CLUB RD #102  2921 COUNTRY CLUB RD, DENTON, TX 76202  "
      ]
     },
     "execution_count": 185,
     "metadata": {},
     "output_type": "execute_result"
    }
   ],
   "source": [
    "cm[cm['tres_nm'] == 'JAMES JOHNSON']"
   ]
  },
  {
   "cell_type": "code",
   "execution_count": 186,
   "metadata": {},
   "outputs": [
    {
     "data": {
      "text/html": [
       "<div>\n",
       "<style scoped>\n",
       "    .dataframe tbody tr th:only-of-type {\n",
       "        vertical-align: middle;\n",
       "    }\n",
       "\n",
       "    .dataframe tbody tr th {\n",
       "        vertical-align: top;\n",
       "    }\n",
       "\n",
       "    .dataframe thead th {\n",
       "        text-align: right;\n",
       "    }\n",
       "</style>\n",
       "<table border=\"1\" class=\"dataframe\">\n",
       "  <thead>\n",
       "    <tr style=\"text-align: right;\">\n",
       "      <th></th>\n",
       "      <th>cmte_id</th>\n",
       "      <th>cmte_nm</th>\n",
       "      <th>tres_nm</th>\n",
       "      <th>cmte_st1</th>\n",
       "      <th>cmte_st2</th>\n",
       "      <th>cmte_city</th>\n",
       "      <th>cmte_st</th>\n",
       "      <th>cmte_zip</th>\n",
       "      <th>cmte_dsgn</th>\n",
       "      <th>cmte_tp</th>\n",
       "      <th>cmte_pty_affiliation</th>\n",
       "      <th>cmte_filing_freq</th>\n",
       "      <th>org_tp</th>\n",
       "      <th>connected_org_nm</th>\n",
       "      <th>cand_id</th>\n",
       "      <th>orig_tres_nm</th>\n",
       "      <th>orig_cmte_st1</th>\n",
       "      <th>address</th>\n",
       "    </tr>\n",
       "  </thead>\n",
       "  <tbody>\n",
       "  </tbody>\n",
       "</table>\n",
       "</div>"
      ],
      "text/plain": [
       "Empty DataFrame\n",
       "Columns: [cmte_id, cmte_nm, tres_nm, cmte_st1, cmte_st2, cmte_city, cmte_st, cmte_zip, cmte_dsgn, cmte_tp, cmte_pty_affiliation, cmte_filing_freq, org_tp, connected_org_nm, cand_id, orig_tres_nm, orig_cmte_st1, address]\n",
       "Index: []"
      ]
     },
     "execution_count": 186,
     "metadata": {},
     "output_type": "execute_result"
    }
   ],
   "source": [
    "cm[cm['tres_nm'] == 'LORETTA JOHNSON']"
   ]
  },
  {
   "cell_type": "code",
   "execution_count": 187,
   "metadata": {},
   "outputs": [
    {
     "data": {
      "text/html": [
       "<div>\n",
       "<style scoped>\n",
       "    .dataframe tbody tr th:only-of-type {\n",
       "        vertical-align: middle;\n",
       "    }\n",
       "\n",
       "    .dataframe tbody tr th {\n",
       "        vertical-align: top;\n",
       "    }\n",
       "\n",
       "    .dataframe thead th {\n",
       "        text-align: right;\n",
       "    }\n",
       "</style>\n",
       "<table border=\"1\" class=\"dataframe\">\n",
       "  <thead>\n",
       "    <tr style=\"text-align: right;\">\n",
       "      <th></th>\n",
       "      <th>cmte_id</th>\n",
       "      <th>cmte_nm</th>\n",
       "      <th>tres_nm</th>\n",
       "      <th>cmte_st1</th>\n",
       "      <th>cmte_st2</th>\n",
       "      <th>cmte_city</th>\n",
       "      <th>cmte_st</th>\n",
       "      <th>cmte_zip</th>\n",
       "      <th>cmte_dsgn</th>\n",
       "      <th>cmte_tp</th>\n",
       "      <th>cmte_pty_affiliation</th>\n",
       "      <th>cmte_filing_freq</th>\n",
       "      <th>org_tp</th>\n",
       "      <th>connected_org_nm</th>\n",
       "      <th>cand_id</th>\n",
       "      <th>orig_tres_nm</th>\n",
       "      <th>orig_cmte_st1</th>\n",
       "      <th>address</th>\n",
       "    </tr>\n",
       "  </thead>\n",
       "  <tbody>\n",
       "    <tr>\n",
       "      <td>216</td>\n",
       "      <td>C00028860</td>\n",
       "      <td>AMERICAN FEDERATION OF TEACHERS, AFL-CIO COMMI...</td>\n",
       "      <td>LORRETTA JOHNSON</td>\n",
       "      <td>555 NEW JERSEY AVE NW</td>\n",
       "      <td>NaN</td>\n",
       "      <td>WASHINGTON</td>\n",
       "      <td>DC</td>\n",
       "      <td>20001</td>\n",
       "      <td>B</td>\n",
       "      <td>Q</td>\n",
       "      <td>UNK</td>\n",
       "      <td>M</td>\n",
       "      <td>L</td>\n",
       "      <td>AMERICAN FEDERATION OF TEACHERS, AFL-CIO</td>\n",
       "      <td>NaN</td>\n",
       "      <td>JOHNSON, LORRETTA</td>\n",
       "      <td>555 NEW JERSEY AVENUE, NW</td>\n",
       "      <td>555 NEW JERSEY AVE NW, WASHINGTON, DC 20001</td>\n",
       "    </tr>\n",
       "    <tr>\n",
       "      <td>17352</td>\n",
       "      <td>C70002472</td>\n",
       "      <td>AMERICAN FEDERATION OF TEACHERS, AFL-CIO</td>\n",
       "      <td>LORRETTA JOHNSON</td>\n",
       "      <td>555 NEW JERSEY AVE NW</td>\n",
       "      <td>NaN</td>\n",
       "      <td>WASHINGTON</td>\n",
       "      <td>DC</td>\n",
       "      <td>20001</td>\n",
       "      <td>U</td>\n",
       "      <td>C</td>\n",
       "      <td>UNK</td>\n",
       "      <td>Q</td>\n",
       "      <td>L</td>\n",
       "      <td>NaN</td>\n",
       "      <td>NaN</td>\n",
       "      <td>JOHNSON, LORRETTA</td>\n",
       "      <td>555 NEW JERSEY AVENUE, N.W.</td>\n",
       "      <td>555 NEW JERSEY AVE NW, WASHINGTON, DC 20001</td>\n",
       "    </tr>\n",
       "  </tbody>\n",
       "</table>\n",
       "</div>"
      ],
      "text/plain": [
       "         cmte_id                                            cmte_nm  \\\n",
       "216    C00028860  AMERICAN FEDERATION OF TEACHERS, AFL-CIO COMMI...   \n",
       "17352  C70002472           AMERICAN FEDERATION OF TEACHERS, AFL-CIO   \n",
       "\n",
       "                tres_nm               cmte_st1 cmte_st2   cmte_city cmte_st  \\\n",
       "216    LORRETTA JOHNSON  555 NEW JERSEY AVE NW      NaN  WASHINGTON      DC   \n",
       "17352  LORRETTA JOHNSON  555 NEW JERSEY AVE NW      NaN  WASHINGTON      DC   \n",
       "\n",
       "      cmte_zip cmte_dsgn cmte_tp cmte_pty_affiliation cmte_filing_freq org_tp  \\\n",
       "216      20001         B       Q                  UNK                M      L   \n",
       "17352    20001         U       C                  UNK                Q      L   \n",
       "\n",
       "                               connected_org_nm cand_id       orig_tres_nm  \\\n",
       "216    AMERICAN FEDERATION OF TEACHERS, AFL-CIO     NaN  JOHNSON, LORRETTA   \n",
       "17352                                       NaN     NaN  JOHNSON, LORRETTA   \n",
       "\n",
       "                     orig_cmte_st1  \\\n",
       "216      555 NEW JERSEY AVENUE, NW   \n",
       "17352  555 NEW JERSEY AVENUE, N.W.   \n",
       "\n",
       "                                           address  \n",
       "216    555 NEW JERSEY AVE NW, WASHINGTON, DC 20001  \n",
       "17352  555 NEW JERSEY AVE NW, WASHINGTON, DC 20001  "
      ]
     },
     "execution_count": 187,
     "metadata": {},
     "output_type": "execute_result"
    }
   ],
   "source": [
    "cm[cm['tres_nm'] == 'LORRETTA JOHNSON']"
   ]
  },
  {
   "cell_type": "code",
   "execution_count": 188,
   "metadata": {},
   "outputs": [
    {
     "name": "stdout",
     "output_type": "stream",
     "text": [
      "orig len: 2\n",
      "new len: 2\n"
     ]
    }
   ],
   "source": [
    "new = 'LORRETTA JOHNSON'\n",
    "dones.append(new)\n",
    "\n",
    "these = findall(['lor', 'etta', 'johnson'])\n",
    "\n",
    "getall(these, new)"
   ]
  },
  {
   "cell_type": "code",
   "execution_count": 189,
   "metadata": {},
   "outputs": [
    {
     "data": {
      "text/plain": [
       "['MICHAEL GIBSON']"
      ]
     },
     "execution_count": 189,
     "metadata": {},
     "output_type": "execute_result"
    }
   ],
   "source": [
    "findall(['mi', 'gibson'])"
   ]
  },
  {
   "cell_type": "code",
   "execution_count": 190,
   "metadata": {},
   "outputs": [],
   "source": [
    "dones.extend(findall(' johnson'))"
   ]
  },
  {
   "cell_type": "code",
   "execution_count": 191,
   "metadata": {},
   "outputs": [
    {
     "data": {
      "text/plain": [
       "[]"
      ]
     },
     "execution_count": 191,
     "metadata": {},
     "output_type": "execute_result"
    }
   ],
   "source": [
    "findall(' goldstein')"
   ]
  },
  {
   "cell_type": "code",
   "execution_count": 192,
   "metadata": {},
   "outputs": [],
   "source": [
    "dones.extend(findall(' goldstein'))"
   ]
  },
  {
   "cell_type": "code",
   "execution_count": 193,
   "metadata": {},
   "outputs": [
    {
     "data": {
      "text/plain": [
       "['BRUCE MARKS',\n",
       " 'ELENA MARKS',\n",
       " 'JEFFREY MARKS',\n",
       " 'MICHELLE MARKS-OSBORNE',\n",
       " 'NANCY MARKS',\n",
       " 'STEPHEN MARKS']"
      ]
     },
     "execution_count": 193,
     "metadata": {},
     "output_type": "execute_result"
    }
   ],
   "source": [
    "findall(' marks')"
   ]
  },
  {
   "cell_type": "code",
   "execution_count": 194,
   "metadata": {},
   "outputs": [],
   "source": [
    "dones.extend(findall(' marks'))"
   ]
  },
  {
   "cell_type": "code",
   "execution_count": 195,
   "metadata": {},
   "outputs": [
    {
     "data": {
      "text/plain": [
       "['RONALD GRAVINO', 'SCOTT GRAVES', 'SHARRON GRAVES']"
      ]
     },
     "execution_count": 195,
     "metadata": {},
     "output_type": "execute_result"
    }
   ],
   "source": [
    "findall(' grav')"
   ]
  },
  {
   "cell_type": "code",
   "execution_count": 196,
   "metadata": {},
   "outputs": [],
   "source": [
    "dones.extend(findall(' grav'))"
   ]
  },
  {
   "cell_type": "code",
   "execution_count": 197,
   "metadata": {},
   "outputs": [
    {
     "data": {
      "text/plain": [
       "['ALYSSA EICHMAN', 'FRED EICHEL', 'RICHARD EICHMAN']"
      ]
     },
     "execution_count": 197,
     "metadata": {},
     "output_type": "execute_result"
    }
   ],
   "source": [
    "findall(' eich')"
   ]
  },
  {
   "cell_type": "code",
   "execution_count": 198,
   "metadata": {},
   "outputs": [],
   "source": [
    "dones.extend(findall(' eich'))"
   ]
  },
  {
   "cell_type": "code",
   "execution_count": 199,
   "metadata": {},
   "outputs": [
    {
     "data": {
      "text/plain": [
       "['BRIAN FOUCART', 'KEITH FOURNIER', 'ROGER FOUNTAIN']"
      ]
     },
     "execution_count": 199,
     "metadata": {},
     "output_type": "execute_result"
    }
   ],
   "source": [
    "findall(' fou')"
   ]
  },
  {
   "cell_type": "code",
   "execution_count": 200,
   "metadata": {},
   "outputs": [],
   "source": [
    "dones.extend(findall(' fou'))"
   ]
  },
  {
   "cell_type": "code",
   "execution_count": 201,
   "metadata": {},
   "outputs": [
    {
     "data": {
      "text/plain": [
       "['ANDY MARTIN',\n",
       " 'ANTONIO MARTINEZ',\n",
       " 'CARL MARTIN NELSON',\n",
       " 'CASSANDRA MARTINEZ',\n",
       " 'CHARLES MARTIN',\n",
       " 'CHRIS MARTIN',\n",
       " 'CLIFFORD MARTIN',\n",
       " 'DAVID MARTIN',\n",
       " 'ED MARTIN',\n",
       " 'EDWARD MARTIN',\n",
       " 'ERNESTO MARTINEZ',\n",
       " 'FRANCES MARTIN',\n",
       " 'GAYLE MARTIN',\n",
       " 'GEMMA MARTIN',\n",
       " 'GREGORY MARTIN WADE',\n",
       " 'JANE MARTIN',\n",
       " 'JANICE MARTIN',\n",
       " 'JEAN MARTINEZ',\n",
       " 'JENA TONICE MARTIN',\n",
       " 'JENNIFER MARTIN',\n",
       " 'JOHN MARTIN',\n",
       " 'JONATHAN MARTIN',\n",
       " 'JOSE DANIEL MARTINES',\n",
       " 'JOSEPH MARTIN',\n",
       " 'KEVIN MARTIN',\n",
       " 'LARISSA MARTINEZ',\n",
       " 'LILIANA MARTINEZ',\n",
       " 'LISA MARTINEZ',\n",
       " 'LOUIE CRUZ MARTINEZ',\n",
       " 'MARIA MARTINEZ',\n",
       " 'MARIO MARTINEZ',\n",
       " 'NOVEL MARTIN',\n",
       " 'PAUL MARTINO',\n",
       " 'PAULETTE MARIE MARTIN',\n",
       " 'ROBERT MARTINEZ',\n",
       " 'ROQUE MARTINEZ',\n",
       " 'SANDRA MARTINEZ',\n",
       " 'SARAH MARTIN',\n",
       " 'STEVEN MARTIN',\n",
       " 'SUSAN MARTIN',\n",
       " 'TERESA MARTINEZ',\n",
       " 'XAVIER MARTINEZ']"
      ]
     },
     "execution_count": 201,
     "metadata": {},
     "output_type": "execute_result"
    }
   ],
   "source": [
    "findall(' martin')"
   ]
  },
  {
   "cell_type": "code",
   "execution_count": 202,
   "metadata": {},
   "outputs": [
    {
     "data": {
      "text/plain": [
       "[]"
      ]
     },
     "execution_count": 202,
     "metadata": {},
     "output_type": "execute_result"
    }
   ],
   "source": [
    "findall(' salazar')"
   ]
  },
  {
   "cell_type": "code",
   "execution_count": 203,
   "metadata": {},
   "outputs": [
    {
     "data": {
      "text/plain": [
       "['MICHAEL JOSEPH SALZBURG-FELTS']"
      ]
     },
     "execution_count": 203,
     "metadata": {},
     "output_type": "execute_result"
    }
   ],
   "source": [
    "findall('salzburg')"
   ]
  },
  {
   "cell_type": "code",
   "execution_count": 204,
   "metadata": {},
   "outputs": [
    {
     "data": {
      "text/html": [
       "<div>\n",
       "<style scoped>\n",
       "    .dataframe tbody tr th:only-of-type {\n",
       "        vertical-align: middle;\n",
       "    }\n",
       "\n",
       "    .dataframe tbody tr th {\n",
       "        vertical-align: top;\n",
       "    }\n",
       "\n",
       "    .dataframe thead th {\n",
       "        text-align: right;\n",
       "    }\n",
       "</style>\n",
       "<table border=\"1\" class=\"dataframe\">\n",
       "  <thead>\n",
       "    <tr style=\"text-align: right;\">\n",
       "      <th></th>\n",
       "      <th>cmte_id</th>\n",
       "      <th>cmte_nm</th>\n",
       "      <th>tres_nm</th>\n",
       "      <th>cmte_st1</th>\n",
       "      <th>cmte_st2</th>\n",
       "      <th>cmte_city</th>\n",
       "      <th>cmte_st</th>\n",
       "      <th>cmte_zip</th>\n",
       "      <th>cmte_dsgn</th>\n",
       "      <th>cmte_tp</th>\n",
       "      <th>cmte_pty_affiliation</th>\n",
       "      <th>cmte_filing_freq</th>\n",
       "      <th>org_tp</th>\n",
       "      <th>connected_org_nm</th>\n",
       "      <th>cand_id</th>\n",
       "      <th>orig_tres_nm</th>\n",
       "      <th>orig_cmte_st1</th>\n",
       "      <th>address</th>\n",
       "    </tr>\n",
       "  </thead>\n",
       "  <tbody>\n",
       "  </tbody>\n",
       "</table>\n",
       "</div>"
      ],
      "text/plain": [
       "Empty DataFrame\n",
       "Columns: [cmte_id, cmte_nm, tres_nm, cmte_st1, cmte_st2, cmte_city, cmte_st, cmte_zip, cmte_dsgn, cmte_tp, cmte_pty_affiliation, cmte_filing_freq, org_tp, connected_org_nm, cand_id, orig_tres_nm, orig_cmte_st1, address]\n",
       "Index: []"
      ]
     },
     "execution_count": 204,
     "metadata": {},
     "output_type": "execute_result"
    }
   ],
   "source": [
    "cm[cm['tres_nm'] == 'STEVE MARTIN']"
   ]
  },
  {
   "cell_type": "code",
   "execution_count": 205,
   "metadata": {},
   "outputs": [
    {
     "data": {
      "text/html": [
       "<div>\n",
       "<style scoped>\n",
       "    .dataframe tbody tr th:only-of-type {\n",
       "        vertical-align: middle;\n",
       "    }\n",
       "\n",
       "    .dataframe tbody tr th {\n",
       "        vertical-align: top;\n",
       "    }\n",
       "\n",
       "    .dataframe thead th {\n",
       "        text-align: right;\n",
       "    }\n",
       "</style>\n",
       "<table border=\"1\" class=\"dataframe\">\n",
       "  <thead>\n",
       "    <tr style=\"text-align: right;\">\n",
       "      <th></th>\n",
       "      <th>cmte_id</th>\n",
       "      <th>cmte_nm</th>\n",
       "      <th>tres_nm</th>\n",
       "      <th>cmte_st1</th>\n",
       "      <th>cmte_st2</th>\n",
       "      <th>cmte_city</th>\n",
       "      <th>cmte_st</th>\n",
       "      <th>cmte_zip</th>\n",
       "      <th>cmte_dsgn</th>\n",
       "      <th>cmte_tp</th>\n",
       "      <th>cmte_pty_affiliation</th>\n",
       "      <th>cmte_filing_freq</th>\n",
       "      <th>org_tp</th>\n",
       "      <th>connected_org_nm</th>\n",
       "      <th>cand_id</th>\n",
       "      <th>orig_tres_nm</th>\n",
       "      <th>orig_cmte_st1</th>\n",
       "      <th>address</th>\n",
       "    </tr>\n",
       "  </thead>\n",
       "  <tbody>\n",
       "  </tbody>\n",
       "</table>\n",
       "</div>"
      ],
      "text/plain": [
       "Empty DataFrame\n",
       "Columns: [cmte_id, cmte_nm, tres_nm, cmte_st1, cmte_st2, cmte_city, cmte_st, cmte_zip, cmte_dsgn, cmte_tp, cmte_pty_affiliation, cmte_filing_freq, org_tp, connected_org_nm, cand_id, orig_tres_nm, orig_cmte_st1, address]\n",
       "Index: []"
      ]
     },
     "execution_count": 205,
     "metadata": {},
     "output_type": "execute_result"
    }
   ],
   "source": [
    "cm[(cm['tres_nm'] == 'STEVEN MARTIN') & (cm['cmte_st'] == 'NC')]"
   ]
  },
  {
   "cell_type": "code",
   "execution_count": 206,
   "metadata": {},
   "outputs": [],
   "source": [
    "dones.extend(findall(' martin'))"
   ]
  },
  {
   "cell_type": "code",
   "execution_count": 207,
   "metadata": {},
   "outputs": [
    {
     "data": {
      "text/plain": [
       "['CARY DAVIDSON', 'DWIGHT DAVIDSON', 'REBECCA DAVIDSON', 'ROBERT DAVIDSON']"
      ]
     },
     "execution_count": 207,
     "metadata": {},
     "output_type": "execute_result"
    }
   ],
   "source": [
    "findall(' davidson')"
   ]
  },
  {
   "cell_type": "code",
   "execution_count": 208,
   "metadata": {},
   "outputs": [
    {
     "data": {
      "text/plain": [
       "['PAUL REYNOLDS']"
      ]
     },
     "execution_count": 208,
     "metadata": {},
     "output_type": "execute_result"
    }
   ],
   "source": [
    "findall(['paul', 'reynolds'])"
   ]
  },
  {
   "cell_type": "code",
   "execution_count": 209,
   "metadata": {},
   "outputs": [
    {
     "data": {
      "text/html": [
       "<div>\n",
       "<style scoped>\n",
       "    .dataframe tbody tr th:only-of-type {\n",
       "        vertical-align: middle;\n",
       "    }\n",
       "\n",
       "    .dataframe tbody tr th {\n",
       "        vertical-align: top;\n",
       "    }\n",
       "\n",
       "    .dataframe thead th {\n",
       "        text-align: right;\n",
       "    }\n",
       "</style>\n",
       "<table border=\"1\" class=\"dataframe\">\n",
       "  <thead>\n",
       "    <tr style=\"text-align: right;\">\n",
       "      <th></th>\n",
       "      <th>cmte_id</th>\n",
       "      <th>cmte_nm</th>\n",
       "      <th>tres_nm</th>\n",
       "      <th>cmte_st1</th>\n",
       "      <th>cmte_st2</th>\n",
       "      <th>cmte_city</th>\n",
       "      <th>cmte_st</th>\n",
       "      <th>cmte_zip</th>\n",
       "      <th>cmte_dsgn</th>\n",
       "      <th>cmte_tp</th>\n",
       "      <th>cmte_pty_affiliation</th>\n",
       "      <th>cmte_filing_freq</th>\n",
       "      <th>org_tp</th>\n",
       "      <th>connected_org_nm</th>\n",
       "      <th>cand_id</th>\n",
       "      <th>orig_tres_nm</th>\n",
       "      <th>orig_cmte_st1</th>\n",
       "      <th>address</th>\n",
       "    </tr>\n",
       "  </thead>\n",
       "  <tbody>\n",
       "    <tr>\n",
       "      <td>12660</td>\n",
       "      <td>C00649459</td>\n",
       "      <td>DIANE FOR COLORADO CD3</td>\n",
       "      <td>PAUL REYNOLDS</td>\n",
       "      <td>PO BOX 771606</td>\n",
       "      <td>NaN</td>\n",
       "      <td>STEAMBOAT SPRINGS</td>\n",
       "      <td>CO</td>\n",
       "      <td>80477</td>\n",
       "      <td>P</td>\n",
       "      <td>H</td>\n",
       "      <td>DEM</td>\n",
       "      <td>Q</td>\n",
       "      <td>NaN</td>\n",
       "      <td>DIANE MITSCH BUSH VICTORY FUND</td>\n",
       "      <td>H8CO03192</td>\n",
       "      <td>REYNOLDS, PAUL D. MR.</td>\n",
       "      <td>PO BOX 771606</td>\n",
       "      <td>PO BOX 771606, STEAMBOAT SPRINGS, CO 80477</td>\n",
       "    </tr>\n",
       "    <tr>\n",
       "      <td>16364</td>\n",
       "      <td>C00687715</td>\n",
       "      <td>DIANE MITSCH BUSH VICTORY FUND</td>\n",
       "      <td>PAUL REYNOLDS</td>\n",
       "      <td>PO BOX 771606</td>\n",
       "      <td>NaN</td>\n",
       "      <td>STEAMBOAT SPRINGS</td>\n",
       "      <td>DC</td>\n",
       "      <td>80477</td>\n",
       "      <td>J</td>\n",
       "      <td>N</td>\n",
       "      <td>UNK</td>\n",
       "      <td>Q</td>\n",
       "      <td>NaN</td>\n",
       "      <td>NONE</td>\n",
       "      <td>NaN</td>\n",
       "      <td>REYNOLDS, PAUL D. MR.</td>\n",
       "      <td>PO BOX 771606</td>\n",
       "      <td>PO BOX 771606, STEAMBOAT SPRINGS, DC 80477</td>\n",
       "    </tr>\n",
       "  </tbody>\n",
       "</table>\n",
       "</div>"
      ],
      "text/plain": [
       "         cmte_id                         cmte_nm        tres_nm  \\\n",
       "12660  C00649459          DIANE FOR COLORADO CD3  PAUL REYNOLDS   \n",
       "16364  C00687715  DIANE MITSCH BUSH VICTORY FUND  PAUL REYNOLDS   \n",
       "\n",
       "            cmte_st1 cmte_st2          cmte_city cmte_st cmte_zip cmte_dsgn  \\\n",
       "12660  PO BOX 771606      NaN  STEAMBOAT SPRINGS      CO    80477         P   \n",
       "16364  PO BOX 771606      NaN  STEAMBOAT SPRINGS      DC    80477         J   \n",
       "\n",
       "      cmte_tp cmte_pty_affiliation cmte_filing_freq org_tp  \\\n",
       "12660       H                  DEM                Q    NaN   \n",
       "16364       N                  UNK                Q    NaN   \n",
       "\n",
       "                     connected_org_nm    cand_id           orig_tres_nm  \\\n",
       "12660  DIANE MITSCH BUSH VICTORY FUND  H8CO03192  REYNOLDS, PAUL D. MR.   \n",
       "16364                            NONE        NaN  REYNOLDS, PAUL D. MR.   \n",
       "\n",
       "       orig_cmte_st1                                     address  \n",
       "12660  PO BOX 771606  PO BOX 771606, STEAMBOAT SPRINGS, CO 80477  \n",
       "16364  PO BOX 771606  PO BOX 771606, STEAMBOAT SPRINGS, DC 80477  "
      ]
     },
     "execution_count": 209,
     "metadata": {},
     "output_type": "execute_result"
    }
   ],
   "source": [
    "cm[cm['tres_nm'] == 'PAUL REYNOLDS']"
   ]
  },
  {
   "cell_type": "code",
   "execution_count": 210,
   "metadata": {},
   "outputs": [
    {
     "data": {
      "text/html": [
       "<div>\n",
       "<style scoped>\n",
       "    .dataframe tbody tr th:only-of-type {\n",
       "        vertical-align: middle;\n",
       "    }\n",
       "\n",
       "    .dataframe tbody tr th {\n",
       "        vertical-align: top;\n",
       "    }\n",
       "\n",
       "    .dataframe thead th {\n",
       "        text-align: right;\n",
       "    }\n",
       "</style>\n",
       "<table border=\"1\" class=\"dataframe\">\n",
       "  <thead>\n",
       "    <tr style=\"text-align: right;\">\n",
       "      <th></th>\n",
       "      <th>cmte_id</th>\n",
       "      <th>cmte_nm</th>\n",
       "      <th>tres_nm</th>\n",
       "      <th>cmte_st1</th>\n",
       "      <th>cmte_st2</th>\n",
       "      <th>cmte_city</th>\n",
       "      <th>cmte_st</th>\n",
       "      <th>cmte_zip</th>\n",
       "      <th>cmte_dsgn</th>\n",
       "      <th>cmte_tp</th>\n",
       "      <th>cmte_pty_affiliation</th>\n",
       "      <th>cmte_filing_freq</th>\n",
       "      <th>org_tp</th>\n",
       "      <th>connected_org_nm</th>\n",
       "      <th>cand_id</th>\n",
       "      <th>orig_tres_nm</th>\n",
       "      <th>orig_cmte_st1</th>\n",
       "      <th>address</th>\n",
       "    </tr>\n",
       "  </thead>\n",
       "  <tbody>\n",
       "  </tbody>\n",
       "</table>\n",
       "</div>"
      ],
      "text/plain": [
       "Empty DataFrame\n",
       "Columns: [cmte_id, cmte_nm, tres_nm, cmte_st1, cmte_st2, cmte_city, cmte_st, cmte_zip, cmte_dsgn, cmte_tp, cmte_pty_affiliation, cmte_filing_freq, org_tp, connected_org_nm, cand_id, orig_tres_nm, orig_cmte_st1, address]\n",
       "Index: []"
      ]
     },
     "execution_count": 210,
     "metadata": {},
     "output_type": "execute_result"
    }
   ],
   "source": [
    "cm[cm['tres_nm'] == 'PAUL DAVIDSON REYNOLDS']"
   ]
  },
  {
   "cell_type": "code",
   "execution_count": 211,
   "metadata": {},
   "outputs": [
    {
     "name": "stdout",
     "output_type": "stream",
     "text": [
      "orig len: 0\n",
      "new len: 2\n"
     ]
    }
   ],
   "source": [
    "new = 'PAUL DAVIDSON REYNOLDS'\n",
    "dones.append(new)\n",
    "\n",
    "these = findall(['paul', 'reynolds'])\n",
    "\n",
    "getall(these, new)"
   ]
  },
  {
   "cell_type": "code",
   "execution_count": 212,
   "metadata": {},
   "outputs": [],
   "source": [
    "dones.extend(findall(' davidson'))"
   ]
  },
  {
   "cell_type": "code",
   "execution_count": 213,
   "metadata": {},
   "outputs": [
    {
     "data": {
      "text/plain": [
       "['ANNE BRENSLEY',\n",
       " 'CHRISTOPHER BRENNAN',\n",
       " 'GREGORY BRENNICK',\n",
       " 'LAUREL BRENNAN',\n",
       " 'MEGAN BRENGARTH',\n",
       " 'OZY ROSE BRENNAN',\n",
       " 'TOM BRENEMAN',\n",
       " 'TUCKER BRENNAN']"
      ]
     },
     "execution_count": 213,
     "metadata": {},
     "output_type": "execute_result"
    }
   ],
   "source": [
    "findall(' bren')"
   ]
  },
  {
   "cell_type": "code",
   "execution_count": 214,
   "metadata": {},
   "outputs": [
    {
     "data": {
      "text/plain": [
       "[]"
      ]
     },
     "execution_count": 214,
     "metadata": {},
     "output_type": "execute_result"
    }
   ],
   "source": [
    "findall(' mantan')"
   ]
  },
  {
   "cell_type": "code",
   "execution_count": 215,
   "metadata": {},
   "outputs": [],
   "source": [
    "dones.extend(findall(' bren'))"
   ]
  },
  {
   "cell_type": "code",
   "execution_count": 216,
   "metadata": {},
   "outputs": [
    {
     "data": {
      "text/plain": [
       "['CHRISTOPHER MONTGOMERY WOODFIN',\n",
       " 'DACEY MONTOYA',\n",
       " 'DARRIN MONTEIRO',\n",
       " 'DAVA MONTGOMERY',\n",
       " 'DIANE MONTGOMERY',\n",
       " 'JAY MONTGOMERY',\n",
       " 'LUKE MONTGOMERY',\n",
       " 'MEGAN MONTGOMERY',\n",
       " 'MICHAEL MONT',\n",
       " 'PATRICIA MONTAGUE',\n",
       " 'RUSSELL MONTGOMERY',\n",
       " 'THOMAS MONTGOMERY']"
      ]
     },
     "execution_count": 216,
     "metadata": {},
     "output_type": "execute_result"
    }
   ],
   "source": [
    "findall(' mont')"
   ]
  },
  {
   "cell_type": "code",
   "execution_count": 217,
   "metadata": {},
   "outputs": [],
   "source": [
    "dones.extend(findall(' mont'))"
   ]
  },
  {
   "cell_type": "code",
   "execution_count": 218,
   "metadata": {},
   "outputs": [
    {
     "data": {
      "text/plain": [
       "['BRENDA HANKINS']"
      ]
     },
     "execution_count": 218,
     "metadata": {},
     "output_type": "execute_result"
    }
   ],
   "source": [
    "findall(' hank')"
   ]
  },
  {
   "cell_type": "code",
   "execution_count": 219,
   "metadata": {},
   "outputs": [],
   "source": [
    "dones.extend(findall(' hank'))"
   ]
  },
  {
   "cell_type": "code",
   "execution_count": 220,
   "metadata": {},
   "outputs": [
    {
     "data": {
      "text/plain": [
       "['GREGORY LESHOCK', 'MEREDITH LESHER', 'WARREN LESHNER']"
      ]
     },
     "execution_count": 220,
     "metadata": {},
     "output_type": "execute_result"
    }
   ],
   "source": [
    "findall(' lesh')"
   ]
  },
  {
   "cell_type": "code",
   "execution_count": 221,
   "metadata": {},
   "outputs": [],
   "source": [
    "dones.extend(findall(' lesh'))"
   ]
  },
  {
   "cell_type": "code",
   "execution_count": 222,
   "metadata": {
    "scrolled": false
   },
   "outputs": [
    {
     "data": {
      "text/plain": [
       "['ANNE BRENSLEY',\n",
       " 'BAILEY BRESSLER',\n",
       " 'BEN BREWSTER',\n",
       " 'BENJAMIN BREUER',\n",
       " 'CATHERINE BRESLER',\n",
       " 'CHARLES BREIT',\n",
       " 'CHRISTOPHER BRENNAN',\n",
       " 'CHRISTOPHER SCOTT BREWER',\n",
       " 'DONALD BRETT HALE',\n",
       " 'GREGORY BRENNICK',\n",
       " 'HANNELORE BREITMEYER-JONES',\n",
       " 'JAMES TROY BREWER',\n",
       " 'JONATHAN BRETT RINGHAM',\n",
       " 'LAUREL BRENNAN',\n",
       " 'MARK BREBBERMAN',\n",
       " 'MEGAN BRENGARTH',\n",
       " 'MICHAEL BREATHES',\n",
       " 'NICOLE BREWIN',\n",
       " 'OZY ROSE BRENNAN',\n",
       " 'PATRICIA BREED',\n",
       " 'PAUL BREAZEALE',\n",
       " 'TOM BRENEMAN',\n",
       " 'TROY BREWER',\n",
       " 'TUCKER BRENNAN',\n",
       " 'VICTOR BREED',\n",
       " 'WADE BREWER']"
      ]
     },
     "execution_count": 222,
     "metadata": {},
     "output_type": "execute_result"
    }
   ],
   "source": [
    "findall(' bre')"
   ]
  },
  {
   "cell_type": "code",
   "execution_count": 223,
   "metadata": {},
   "outputs": [
    {
     "data": {
      "text/html": [
       "<div>\n",
       "<style scoped>\n",
       "    .dataframe tbody tr th:only-of-type {\n",
       "        vertical-align: middle;\n",
       "    }\n",
       "\n",
       "    .dataframe tbody tr th {\n",
       "        vertical-align: top;\n",
       "    }\n",
       "\n",
       "    .dataframe thead th {\n",
       "        text-align: right;\n",
       "    }\n",
       "</style>\n",
       "<table border=\"1\" class=\"dataframe\">\n",
       "  <thead>\n",
       "    <tr style=\"text-align: right;\">\n",
       "      <th></th>\n",
       "      <th>cmte_id</th>\n",
       "      <th>cmte_nm</th>\n",
       "      <th>tres_nm</th>\n",
       "      <th>cmte_st1</th>\n",
       "      <th>cmte_st2</th>\n",
       "      <th>cmte_city</th>\n",
       "      <th>cmte_st</th>\n",
       "      <th>cmte_zip</th>\n",
       "      <th>cmte_dsgn</th>\n",
       "      <th>cmte_tp</th>\n",
       "      <th>cmte_pty_affiliation</th>\n",
       "      <th>cmte_filing_freq</th>\n",
       "      <th>org_tp</th>\n",
       "      <th>connected_org_nm</th>\n",
       "      <th>cand_id</th>\n",
       "      <th>orig_tres_nm</th>\n",
       "      <th>orig_cmte_st1</th>\n",
       "      <th>address</th>\n",
       "    </tr>\n",
       "  </thead>\n",
       "  <tbody>\n",
       "  </tbody>\n",
       "</table>\n",
       "</div>"
      ],
      "text/plain": [
       "Empty DataFrame\n",
       "Columns: [cmte_id, cmte_nm, tres_nm, cmte_st1, cmte_st2, cmte_city, cmte_st, cmte_zip, cmte_dsgn, cmte_tp, cmte_pty_affiliation, cmte_filing_freq, org_tp, connected_org_nm, cand_id, orig_tres_nm, orig_cmte_st1, address]\n",
       "Index: []"
      ]
     },
     "execution_count": 223,
     "metadata": {},
     "output_type": "execute_result"
    }
   ],
   "source": [
    "cm[cm['tres_nm'] == 'JAMES BREWER']"
   ]
  },
  {
   "cell_type": "code",
   "execution_count": 224,
   "metadata": {},
   "outputs": [
    {
     "data": {
      "text/html": [
       "<div>\n",
       "<style scoped>\n",
       "    .dataframe tbody tr th:only-of-type {\n",
       "        vertical-align: middle;\n",
       "    }\n",
       "\n",
       "    .dataframe tbody tr th {\n",
       "        vertical-align: top;\n",
       "    }\n",
       "\n",
       "    .dataframe thead th {\n",
       "        text-align: right;\n",
       "    }\n",
       "</style>\n",
       "<table border=\"1\" class=\"dataframe\">\n",
       "  <thead>\n",
       "    <tr style=\"text-align: right;\">\n",
       "      <th></th>\n",
       "      <th>cmte_id</th>\n",
       "      <th>cmte_nm</th>\n",
       "      <th>tres_nm</th>\n",
       "      <th>cmte_st1</th>\n",
       "      <th>cmte_st2</th>\n",
       "      <th>cmte_city</th>\n",
       "      <th>cmte_st</th>\n",
       "      <th>cmte_zip</th>\n",
       "      <th>cmte_dsgn</th>\n",
       "      <th>cmte_tp</th>\n",
       "      <th>cmte_pty_affiliation</th>\n",
       "      <th>cmte_filing_freq</th>\n",
       "      <th>org_tp</th>\n",
       "      <th>connected_org_nm</th>\n",
       "      <th>cand_id</th>\n",
       "      <th>orig_tres_nm</th>\n",
       "      <th>orig_cmte_st1</th>\n",
       "      <th>address</th>\n",
       "    </tr>\n",
       "  </thead>\n",
       "  <tbody>\n",
       "    <tr>\n",
       "      <td>11743</td>\n",
       "      <td>C00635219</td>\n",
       "      <td>DAVID PAC DELIVERING AMERICAN VALUES IN DC</td>\n",
       "      <td>JAMES TROY BREWER</td>\n",
       "      <td>95 WHITE BRIDGE RD</td>\n",
       "      <td>NaN</td>\n",
       "      <td>NASHVILLE</td>\n",
       "      <td>TN</td>\n",
       "      <td>37205</td>\n",
       "      <td>D</td>\n",
       "      <td>N</td>\n",
       "      <td>UNK</td>\n",
       "      <td>Q</td>\n",
       "      <td>NaN</td>\n",
       "      <td>DAVID KUSTOFF</td>\n",
       "      <td>NaN</td>\n",
       "      <td>JAMES TROY BREWER</td>\n",
       "      <td>95 WHITE BRIDGE RD SUITE 207</td>\n",
       "      <td>95 WHITE BRIDGE RD, NASHVILLE, TN 37205</td>\n",
       "    </tr>\n",
       "    <tr>\n",
       "      <td>15870</td>\n",
       "      <td>C00682633</td>\n",
       "      <td>TENNESSEANS FOR A STRONG AMERICA PAC</td>\n",
       "      <td>JAMES TROY BREWER</td>\n",
       "      <td>95 WHITE BRIDGE RD</td>\n",
       "      <td>SUITE 207</td>\n",
       "      <td>NASHVILLE</td>\n",
       "      <td>TN</td>\n",
       "      <td>37205</td>\n",
       "      <td>U</td>\n",
       "      <td>O</td>\n",
       "      <td>UNK</td>\n",
       "      <td>Q</td>\n",
       "      <td>NaN</td>\n",
       "      <td>NONE</td>\n",
       "      <td>NaN</td>\n",
       "      <td>BREWER, JAMES TROY</td>\n",
       "      <td>95 WHITE BRIDGE RD</td>\n",
       "      <td>95 WHITE BRIDGE RD, NASHVILLE, TN 37205</td>\n",
       "    </tr>\n",
       "  </tbody>\n",
       "</table>\n",
       "</div>"
      ],
      "text/plain": [
       "         cmte_id                                     cmte_nm  \\\n",
       "11743  C00635219  DAVID PAC DELIVERING AMERICAN VALUES IN DC   \n",
       "15870  C00682633        TENNESSEANS FOR A STRONG AMERICA PAC   \n",
       "\n",
       "                 tres_nm            cmte_st1   cmte_st2  cmte_city cmte_st  \\\n",
       "11743  JAMES TROY BREWER  95 WHITE BRIDGE RD        NaN  NASHVILLE      TN   \n",
       "15870  JAMES TROY BREWER  95 WHITE BRIDGE RD  SUITE 207  NASHVILLE      TN   \n",
       "\n",
       "      cmte_zip cmte_dsgn cmte_tp cmte_pty_affiliation cmte_filing_freq org_tp  \\\n",
       "11743    37205         D       N                  UNK                Q    NaN   \n",
       "15870    37205         U       O                  UNK                Q    NaN   \n",
       "\n",
       "      connected_org_nm cand_id        orig_tres_nm  \\\n",
       "11743    DAVID KUSTOFF     NaN   JAMES TROY BREWER   \n",
       "15870             NONE     NaN  BREWER, JAMES TROY   \n",
       "\n",
       "                      orig_cmte_st1                                  address  \n",
       "11743  95 WHITE BRIDGE RD SUITE 207  95 WHITE BRIDGE RD, NASHVILLE, TN 37205  \n",
       "15870            95 WHITE BRIDGE RD  95 WHITE BRIDGE RD, NASHVILLE, TN 37205  "
      ]
     },
     "execution_count": 224,
     "metadata": {},
     "output_type": "execute_result"
    }
   ],
   "source": [
    "cm[cm['tres_nm'] == 'JAMES TROY BREWER']"
   ]
  },
  {
   "cell_type": "code",
   "execution_count": 225,
   "metadata": {},
   "outputs": [
    {
     "name": "stdout",
     "output_type": "stream",
     "text": [
      "orig len: 0\n",
      "new len: 2\n"
     ]
    }
   ],
   "source": [
    "new = 'JAMES BREWER'\n",
    "dones.append(new)\n",
    "\n",
    "these = findall(['james', 'brewer'])\n",
    "\n",
    "getall(these, new)"
   ]
  },
  {
   "cell_type": "code",
   "execution_count": 226,
   "metadata": {},
   "outputs": [
    {
     "data": {
      "text/plain": [
       "['JONATHAN BRETT RINGHAM']"
      ]
     },
     "execution_count": 226,
     "metadata": {},
     "output_type": "execute_result"
    }
   ],
   "source": [
    "findall(' ringham')"
   ]
  },
  {
   "cell_type": "code",
   "execution_count": 227,
   "metadata": {},
   "outputs": [],
   "source": [
    "dones.extend(findall(' bre'))"
   ]
  },
  {
   "cell_type": "code",
   "execution_count": 228,
   "metadata": {},
   "outputs": [
    {
     "data": {
      "text/plain": [
       "['CRYSTAL SELLERS',\n",
       " 'GREGORY SELTZER',\n",
       " 'JANET SELWAY',\n",
       " 'JOHN SELPH',\n",
       " 'JUDITH SELZER',\n",
       " 'KATHY SELVAGGIO',\n",
       " 'LAURA SELKEN',\n",
       " 'LAURIE SELF',\n",
       " 'LINDA SELL',\n",
       " 'MONIKA SELMONT',\n",
       " 'PAUL SELTMAN',\n",
       " 'STEVE SELTZER']"
      ]
     },
     "execution_count": 228,
     "metadata": {},
     "output_type": "execute_result"
    }
   ],
   "source": [
    "findall(' sel')"
   ]
  },
  {
   "cell_type": "code",
   "execution_count": 229,
   "metadata": {},
   "outputs": [
    {
     "data": {
      "text/plain": [
       "[]"
      ]
     },
     "execution_count": 229,
     "metadata": {},
     "output_type": "execute_result"
    }
   ],
   "source": [
    "findall(['ja', 'peters'])"
   ]
  },
  {
   "cell_type": "code",
   "execution_count": 230,
   "metadata": {},
   "outputs": [
    {
     "data": {
      "text/plain": [
       "['SARAH HARPER SCOTT']"
      ]
     },
     "execution_count": 230,
     "metadata": {},
     "output_type": "execute_result"
    }
   ],
   "source": [
    "findall(['sar', 'scot'])"
   ]
  },
  {
   "cell_type": "code",
   "execution_count": 231,
   "metadata": {},
   "outputs": [],
   "source": [
    "dones.extend(findall(' sel'))"
   ]
  },
  {
   "cell_type": "code",
   "execution_count": 232,
   "metadata": {},
   "outputs": [
    {
     "data": {
      "text/plain": [
       "['DAVID OWEN',\n",
       " 'ETHAN OWENS',\n",
       " 'GAIL DENISE OWENS',\n",
       " 'JOHN OWENS',\n",
       " 'LINDA OWENS',\n",
       " 'OSCAR OWENS',\n",
       " 'ROBERT OWENS',\n",
       " 'RODNEY OWEN MOSIER',\n",
       " 'SELENA OWENS',\n",
       " 'STACY OWENS',\n",
       " 'THADDEUS OWENS',\n",
       " 'WENDI OWEN',\n",
       " 'WENDY ANNOR OWENS']"
      ]
     },
     "execution_count": 232,
     "metadata": {},
     "output_type": "execute_result"
    }
   ],
   "source": [
    "findall(' owen')"
   ]
  },
  {
   "cell_type": "code",
   "execution_count": 233,
   "metadata": {},
   "outputs": [
    {
     "data": {
      "text/plain": [
       "['HELEN MOSIER', 'JONATHAN MOSIER', 'RODNEY OWEN MOSIER']"
      ]
     },
     "execution_count": 233,
     "metadata": {},
     "output_type": "execute_result"
    }
   ],
   "source": [
    "findall(' mosier')"
   ]
  },
  {
   "cell_type": "code",
   "execution_count": 234,
   "metadata": {},
   "outputs": [],
   "source": [
    "dones.extend(findall(' owen'))"
   ]
  },
  {
   "cell_type": "code",
   "execution_count": 235,
   "metadata": {},
   "outputs": [
    {
     "data": {
      "text/plain": [
       "['CHRISTOPHER VOROS',\n",
       " 'DATHAN VOELTER',\n",
       " 'FRANCIS VOIGT',\n",
       " 'HARRISON WAGNER VON DWINGELO',\n",
       " 'JEN GILBERT VOSS',\n",
       " 'MARK VOGEL',\n",
       " 'MARTIN VOGT',\n",
       " 'PATRICK VOSS',\n",
       " 'PAUL VOGEL',\n",
       " 'RICHARD VOLIVA',\n",
       " 'ROBERT VOLTMANN',\n",
       " 'ROGER VON TING',\n",
       " 'TARYN VOGEL']"
      ]
     },
     "execution_count": 235,
     "metadata": {},
     "output_type": "execute_result"
    }
   ],
   "source": [
    "findall(' vo')"
   ]
  },
  {
   "cell_type": "code",
   "execution_count": 236,
   "metadata": {},
   "outputs": [
    {
     "data": {
      "text/plain": [
       "[]"
      ]
     },
     "execution_count": 236,
     "metadata": {},
     "output_type": "execute_result"
    }
   ],
   "source": [
    "findall(' luza')"
   ]
  },
  {
   "cell_type": "code",
   "execution_count": 237,
   "metadata": {},
   "outputs": [],
   "source": [
    "dones.extend(findall(' vo'))"
   ]
  },
  {
   "cell_type": "code",
   "execution_count": 238,
   "metadata": {},
   "outputs": [
    {
     "data": {
      "text/plain": [
       "['APRIL BOLING',\n",
       " 'CHRISTINE BOLDT',\n",
       " 'DANIEL BOLLNER',\n",
       " 'DIANE BOLAK',\n",
       " 'DONALD PATRICK BOLENA',\n",
       " 'ELDAR BOLSAKOV',\n",
       " 'JEFFERY BOLTON',\n",
       " 'JERRY BOLES',\n",
       " 'JESSE BOLIN',\n",
       " 'JOHN BOLING',\n",
       " 'KIMBERLY BOLIN',\n",
       " 'MICHAEL BOLAND',\n",
       " 'MICHAEL BOLLENTIN',\n",
       " 'MICHAEL BOLTON',\n",
       " 'MIKE BOLAND',\n",
       " 'NATHAN BOLT',\n",
       " 'PRENTISS BOLIN',\n",
       " 'REGINALD BOLDING',\n",
       " 'TOM BOLOVINOS',\n",
       " 'VINCENT BOLLON']"
      ]
     },
     "execution_count": 238,
     "metadata": {},
     "output_type": "execute_result"
    }
   ],
   "source": [
    "findall(' bol')"
   ]
  },
  {
   "cell_type": "code",
   "execution_count": 239,
   "metadata": {},
   "outputs": [],
   "source": [
    "dones.extend(findall(' bol'))"
   ]
  },
  {
   "cell_type": "code",
   "execution_count": 240,
   "metadata": {
    "scrolled": false
   },
   "outputs": [
    {
     "data": {
      "text/plain": [
       "['AARON HUBBARD',\n",
       " 'BEN HUBBY',\n",
       " 'CHARLES HUBERT HAUSER',\n",
       " 'EDWARD HUBBARD',\n",
       " 'FREDDIE HUBBARD',\n",
       " 'HARRY HUBBARD',\n",
       " 'JACK HUBBARD',\n",
       " 'JIM HUBBARD',\n",
       " 'SCOTT HUBAY',\n",
       " 'TSHOMBE HUBBARD']"
      ]
     },
     "execution_count": 240,
     "metadata": {},
     "output_type": "execute_result"
    }
   ],
   "source": [
    "findall(' hub')"
   ]
  },
  {
   "cell_type": "code",
   "execution_count": 241,
   "metadata": {},
   "outputs": [
    {
     "data": {
      "text/plain": [
       "['CHARLES HUBERT HAUSER']"
      ]
     },
     "execution_count": 241,
     "metadata": {},
     "output_type": "execute_result"
    }
   ],
   "source": [
    "findall(' hauser')"
   ]
  },
  {
   "cell_type": "code",
   "execution_count": 242,
   "metadata": {},
   "outputs": [],
   "source": [
    "dones.extend(findall(' hub'))"
   ]
  },
  {
   "cell_type": "code",
   "execution_count": 243,
   "metadata": {},
   "outputs": [
    {
     "data": {
      "text/plain": [
       "['NINA OZLU TUNCELI', 'WILLIAM OZANUS']"
      ]
     },
     "execution_count": 243,
     "metadata": {},
     "output_type": "execute_result"
    }
   ],
   "source": [
    "findall(' oz')"
   ]
  },
  {
   "cell_type": "code",
   "execution_count": 244,
   "metadata": {},
   "outputs": [
    {
     "data": {
      "text/plain": [
       "['NINA OZLU TUNCELI']"
      ]
     },
     "execution_count": 244,
     "metadata": {},
     "output_type": "execute_result"
    }
   ],
   "source": [
    "findall(' tunc')"
   ]
  },
  {
   "cell_type": "code",
   "execution_count": 245,
   "metadata": {},
   "outputs": [],
   "source": [
    "dones.extend(findall(' oz'))"
   ]
  },
  {
   "cell_type": "code",
   "execution_count": 246,
   "metadata": {},
   "outputs": [
    {
     "data": {
      "text/plain": [
       "['ERIC GROEN', 'REBECCA GROEN']"
      ]
     },
     "execution_count": 246,
     "metadata": {},
     "output_type": "execute_result"
    }
   ],
   "source": [
    "findall(' groe')"
   ]
  },
  {
   "cell_type": "code",
   "execution_count": 247,
   "metadata": {},
   "outputs": [],
   "source": [
    "dones.extend(findall(' groe'))"
   ]
  },
  {
   "cell_type": "code",
   "execution_count": 248,
   "metadata": {},
   "outputs": [
    {
     "data": {
      "text/plain": [
       "['DEREK SOLAR', 'KRISTIN SOLANDER']"
      ]
     },
     "execution_count": 248,
     "metadata": {},
     "output_type": "execute_result"
    }
   ],
   "source": [
    "findall(' sola')"
   ]
  },
  {
   "cell_type": "code",
   "execution_count": 249,
   "metadata": {},
   "outputs": [
    {
     "data": {
      "text/plain": [
       "[]"
      ]
     },
     "execution_count": 249,
     "metadata": {},
     "output_type": "execute_result"
    }
   ],
   "source": [
    "findall(['ed', 'patterson'])"
   ]
  },
  {
   "cell_type": "code",
   "execution_count": 250,
   "metadata": {},
   "outputs": [],
   "source": [
    "dones.extend(findall(' sola'))"
   ]
  },
  {
   "cell_type": "code",
   "execution_count": 251,
   "metadata": {},
   "outputs": [
    {
     "data": {
      "text/plain": [
       "['BEN RUPP', 'DAVID RUPPENICKER', 'JEFFREY RUPPERT', 'LORI RUPPEN']"
      ]
     },
     "execution_count": 251,
     "metadata": {},
     "output_type": "execute_result"
    }
   ],
   "source": [
    "findall(' rupp')"
   ]
  },
  {
   "cell_type": "code",
   "execution_count": 252,
   "metadata": {},
   "outputs": [],
   "source": [
    "dones.extend(findall(' rupp'))"
   ]
  },
  {
   "cell_type": "code",
   "execution_count": 253,
   "metadata": {},
   "outputs": [
    {
     "data": {
      "text/plain": [
       "['ADAM VICTOR SCHILLER',\n",
       " 'AMY SCHILLING',\n",
       " 'ANTHONY SCHIWEIER',\n",
       " 'ERIC SCHIPPERS',\n",
       " 'JAMES SCHISSER',\n",
       " 'JOHN SCHILLING',\n",
       " 'JOSEPH SCHINTZ',\n",
       " 'KEVIN SCHIEFFER',\n",
       " 'LOUIS SCHIAZZA',\n",
       " 'MARY SCHILLING',\n",
       " 'SARAH SCHIMDT']"
      ]
     },
     "execution_count": 253,
     "metadata": {},
     "output_type": "execute_result"
    }
   ],
   "source": [
    "findall(' schi')"
   ]
  },
  {
   "cell_type": "code",
   "execution_count": 254,
   "metadata": {},
   "outputs": [],
   "source": [
    "dones.extend(findall(' schi'))"
   ]
  },
  {
   "cell_type": "code",
   "execution_count": 255,
   "metadata": {},
   "outputs": [
    {
     "data": {
      "text/plain": [
       "[]"
      ]
     },
     "execution_count": 255,
     "metadata": {},
     "output_type": "execute_result"
    }
   ],
   "source": [
    "findall(' guin')"
   ]
  },
  {
   "cell_type": "code",
   "execution_count": 256,
   "metadata": {},
   "outputs": [],
   "source": [
    "dones.extend(findall(' guin'))"
   ]
  },
  {
   "cell_type": "code",
   "execution_count": 257,
   "metadata": {},
   "outputs": [
    {
     "data": {
      "text/plain": [
       "['ANN STONE',\n",
       " 'ERIC STONEHAM',\n",
       " 'LISA STONE',\n",
       " \"O'LENE STONE\",\n",
       " 'ROBIN STONE',\n",
       " 'RUTH ROCHELLE STONER',\n",
       " 'SAMUEL STONE',\n",
       " 'SHARON STONES',\n",
       " 'SHERRI STONE']"
      ]
     },
     "execution_count": 257,
     "metadata": {},
     "output_type": "execute_result"
    }
   ],
   "source": [
    "findall(' stone')"
   ]
  },
  {
   "cell_type": "code",
   "execution_count": 258,
   "metadata": {},
   "outputs": [],
   "source": [
    "dones.extend(findall(' stone'))"
   ]
  },
  {
   "cell_type": "code",
   "execution_count": 259,
   "metadata": {},
   "outputs": [
    {
     "data": {
      "text/plain": [
       "['CALEB CROSBY',\n",
       " 'COLLEEN CROSSEY',\n",
       " 'GRADY CROSBY',\n",
       " 'KAREN CROSS',\n",
       " 'MARK CROSS']"
      ]
     },
     "execution_count": 259,
     "metadata": {},
     "output_type": "execute_result"
    }
   ],
   "source": [
    "findall(' cros')"
   ]
  },
  {
   "cell_type": "code",
   "execution_count": 260,
   "metadata": {},
   "outputs": [],
   "source": [
    "dones.extend(findall(' cros'))"
   ]
  },
  {
   "cell_type": "code",
   "execution_count": 261,
   "metadata": {},
   "outputs": [
    {
     "data": {
      "text/plain": [
       "['ALAN GLAZIER',\n",
       " 'EUSTACE GLASGOW',\n",
       " 'EZRA GLASER',\n",
       " 'JOHN GLANCEY',\n",
       " 'MITCH GLAZIER',\n",
       " 'WILLIAM GLASS']"
      ]
     },
     "execution_count": 261,
     "metadata": {},
     "output_type": "execute_result"
    }
   ],
   "source": [
    "findall(' gla')"
   ]
  },
  {
   "cell_type": "code",
   "execution_count": 262,
   "metadata": {},
   "outputs": [
    {
     "data": {
      "text/plain": [
       "[]"
      ]
     },
     "execution_count": 262,
     "metadata": {},
     "output_type": "execute_result"
    }
   ],
   "source": [
    "findall('hemmig')"
   ]
  },
  {
   "cell_type": "code",
   "execution_count": 263,
   "metadata": {},
   "outputs": [],
   "source": [
    "dones.extend(findall(' gla'))"
   ]
  },
  {
   "cell_type": "code",
   "execution_count": 264,
   "metadata": {},
   "outputs": [
    {
     "data": {
      "text/plain": [
       "['ASHLEY RAGAN', 'JACKI RAGAN', 'JENNIFER RAGAN', 'VIRGINIA RAGAN']"
      ]
     },
     "execution_count": 264,
     "metadata": {},
     "output_type": "execute_result"
    }
   ],
   "source": [
    "findall(' ragan')"
   ]
  },
  {
   "cell_type": "code",
   "execution_count": 265,
   "metadata": {},
   "outputs": [],
   "source": [
    "dones.extend(findall(' ragan'))"
   ]
  },
  {
   "cell_type": "code",
   "execution_count": 266,
   "metadata": {},
   "outputs": [
    {
     "data": {
      "text/plain": [
       "['DAVID MAURO',\n",
       " 'GEORGE MAURER',\n",
       " 'STACEY MAUD',\n",
       " 'TERRY MAUPIN',\n",
       " 'WENDY MAUSOLF']"
      ]
     },
     "execution_count": 266,
     "metadata": {},
     "output_type": "execute_result"
    }
   ],
   "source": [
    "findall(' mau')"
   ]
  },
  {
   "cell_type": "code",
   "execution_count": 267,
   "metadata": {},
   "outputs": [
    {
     "data": {
      "text/plain": [
       "[]"
      ]
     },
     "execution_count": 267,
     "metadata": {},
     "output_type": "execute_result"
    }
   ],
   "source": [
    "findall('littlejohn')"
   ]
  },
  {
   "cell_type": "code",
   "execution_count": 268,
   "metadata": {},
   "outputs": [
    {
     "data": {
      "text/plain": [
       "[]"
      ]
     },
     "execution_count": 268,
     "metadata": {},
     "output_type": "execute_result"
    }
   ],
   "source": [
    "findall('buchser')"
   ]
  },
  {
   "cell_type": "code",
   "execution_count": 269,
   "metadata": {},
   "outputs": [],
   "source": [
    "dones.extend(findall(' mau'))"
   ]
  },
  {
   "cell_type": "code",
   "execution_count": 270,
   "metadata": {},
   "outputs": [
    {
     "data": {
      "text/plain": [
       "['CRAIG SNYDER', 'FRANK SNYDER', 'JASON SNYDER', 'RICHARD SNYDER']"
      ]
     },
     "execution_count": 270,
     "metadata": {},
     "output_type": "execute_result"
    }
   ],
   "source": [
    "findall(' snyd')"
   ]
  },
  {
   "cell_type": "code",
   "execution_count": 271,
   "metadata": {},
   "outputs": [],
   "source": [
    "dones.extend(findall(' snyd'))"
   ]
  },
  {
   "cell_type": "code",
   "execution_count": 272,
   "metadata": {},
   "outputs": [
    {
     "data": {
      "text/plain": [
       "['BYRON PURCELL',\n",
       " 'CRAIG PURSER',\n",
       " 'KENNETH PURNELL YANCY',\n",
       " 'MICHAEL PURZYCKI',\n",
       " 'PAULA PURDY',\n",
       " 'SALVATORE PURPURA',\n",
       " 'SANJAY PURI',\n",
       " 'STARR PURDUE']"
      ]
     },
     "execution_count": 272,
     "metadata": {},
     "output_type": "execute_result"
    }
   ],
   "source": [
    "findall(' pur')"
   ]
  },
  {
   "cell_type": "code",
   "execution_count": 273,
   "metadata": {},
   "outputs": [
    {
     "data": {
      "text/plain": [
       "[]"
      ]
     },
     "execution_count": 273,
     "metadata": {},
     "output_type": "execute_result"
    }
   ],
   "source": [
    "findall(' balc')"
   ]
  },
  {
   "cell_type": "code",
   "execution_count": 274,
   "metadata": {},
   "outputs": [],
   "source": [
    "dones.extend(findall(' pur'))"
   ]
  },
  {
   "cell_type": "code",
   "execution_count": 275,
   "metadata": {},
   "outputs": [
    {
     "data": {
      "text/plain": [
       "['BRYAN LEIB',\n",
       " 'CODY PAUL LEISTIKOW',\n",
       " 'CYNTHIA LEIGH APPLEBAUM',\n",
       " 'ERIC LEIGH KELLER',\n",
       " 'GARY LEIGH',\n",
       " 'GLEN LEIBOWITZ',\n",
       " 'JANE LEIDERMAN',\n",
       " 'JUSTIN LEIGH FARBER',\n",
       " 'MIGUEL LEIJA',\n",
       " 'SUSAN LEIVAS-STURNER']"
      ]
     },
     "execution_count": 275,
     "metadata": {},
     "output_type": "execute_result"
    }
   ],
   "source": [
    "findall(' lei')"
   ]
  },
  {
   "cell_type": "code",
   "execution_count": 276,
   "metadata": {},
   "outputs": [
    {
     "data": {
      "text/plain": [
       "[]"
      ]
     },
     "execution_count": 276,
     "metadata": {},
     "output_type": "execute_result"
    }
   ],
   "source": [
    "findall('bronson')"
   ]
  },
  {
   "cell_type": "code",
   "execution_count": 277,
   "metadata": {},
   "outputs": [
    {
     "data": {
      "text/plain": [
       "[]"
      ]
     },
     "execution_count": 277,
     "metadata": {},
     "output_type": "execute_result"
    }
   ],
   "source": [
    "findall('kasz')"
   ]
  },
  {
   "cell_type": "code",
   "execution_count": 278,
   "metadata": {},
   "outputs": [
    {
     "data": {
      "text/plain": [
       "['CYNTHIA LEIGH APPLEBAUM']"
      ]
     },
     "execution_count": 278,
     "metadata": {},
     "output_type": "execute_result"
    }
   ],
   "source": [
    "findall(['cynth', 'apple'])"
   ]
  },
  {
   "cell_type": "code",
   "execution_count": 279,
   "metadata": {},
   "outputs": [
    {
     "data": {
      "text/plain": [
       "['PAUL FOWLER', 'RICHARD ANTHONY FOWLER', 'SCOTT FOWLER', 'SEAN FOWLER']"
      ]
     },
     "execution_count": 279,
     "metadata": {},
     "output_type": "execute_result"
    }
   ],
   "source": [
    "findall('fowler')"
   ]
  },
  {
   "cell_type": "code",
   "execution_count": 280,
   "metadata": {},
   "outputs": [
    {
     "data": {
      "text/plain": [
       "['AARON KELLER',\n",
       " 'CRAIG KELLER',\n",
       " 'ERIC KELLER',\n",
       " 'ERIC LEIGH KELLER',\n",
       " 'JAMES KELLER',\n",
       " 'LYNNE KELLER']"
      ]
     },
     "execution_count": 280,
     "metadata": {},
     "output_type": "execute_result"
    }
   ],
   "source": [
    "findall('keller')"
   ]
  },
  {
   "cell_type": "code",
   "execution_count": 281,
   "metadata": {},
   "outputs": [
    {
     "data": {
      "text/html": [
       "<div>\n",
       "<style scoped>\n",
       "    .dataframe tbody tr th:only-of-type {\n",
       "        vertical-align: middle;\n",
       "    }\n",
       "\n",
       "    .dataframe tbody tr th {\n",
       "        vertical-align: top;\n",
       "    }\n",
       "\n",
       "    .dataframe thead th {\n",
       "        text-align: right;\n",
       "    }\n",
       "</style>\n",
       "<table border=\"1\" class=\"dataframe\">\n",
       "  <thead>\n",
       "    <tr style=\"text-align: right;\">\n",
       "      <th></th>\n",
       "      <th>cmte_id</th>\n",
       "      <th>cmte_nm</th>\n",
       "      <th>tres_nm</th>\n",
       "      <th>cmte_st1</th>\n",
       "      <th>cmte_st2</th>\n",
       "      <th>cmte_city</th>\n",
       "      <th>cmte_st</th>\n",
       "      <th>cmte_zip</th>\n",
       "      <th>cmte_dsgn</th>\n",
       "      <th>cmte_tp</th>\n",
       "      <th>cmte_pty_affiliation</th>\n",
       "      <th>cmte_filing_freq</th>\n",
       "      <th>org_tp</th>\n",
       "      <th>connected_org_nm</th>\n",
       "      <th>cand_id</th>\n",
       "      <th>orig_tres_nm</th>\n",
       "      <th>orig_cmte_st1</th>\n",
       "      <th>address</th>\n",
       "    </tr>\n",
       "  </thead>\n",
       "  <tbody>\n",
       "    <tr>\n",
       "      <td>16029</td>\n",
       "      <td>C00684282</td>\n",
       "      <td>EDEMOCRATS PAC LLC</td>\n",
       "      <td>ERIC KELLER</td>\n",
       "      <td>70 LINDEN AVE</td>\n",
       "      <td>P O BOX 2134</td>\n",
       "      <td>HADDONFIELD</td>\n",
       "      <td>NJ</td>\n",
       "      <td>08033</td>\n",
       "      <td>U</td>\n",
       "      <td>N</td>\n",
       "      <td>UNK</td>\n",
       "      <td>Q</td>\n",
       "      <td>NaN</td>\n",
       "      <td>NONE</td>\n",
       "      <td>NaN</td>\n",
       "      <td>KELLER, ERIC MR</td>\n",
       "      <td>70 LINDEN AVENUE</td>\n",
       "      <td>70 LINDEN AVE, HADDONFIELD, NJ 08033</td>\n",
       "    </tr>\n",
       "  </tbody>\n",
       "</table>\n",
       "</div>"
      ],
      "text/plain": [
       "         cmte_id             cmte_nm      tres_nm       cmte_st1  \\\n",
       "16029  C00684282  EDEMOCRATS PAC LLC  ERIC KELLER  70 LINDEN AVE   \n",
       "\n",
       "           cmte_st2    cmte_city cmte_st cmte_zip cmte_dsgn cmte_tp  \\\n",
       "16029  P O BOX 2134  HADDONFIELD      NJ    08033         U       N   \n",
       "\n",
       "      cmte_pty_affiliation cmte_filing_freq org_tp connected_org_nm cand_id  \\\n",
       "16029                  UNK                Q    NaN             NONE     NaN   \n",
       "\n",
       "          orig_tres_nm     orig_cmte_st1                               address  \n",
       "16029  KELLER, ERIC MR  70 LINDEN AVENUE  70 LINDEN AVE, HADDONFIELD, NJ 08033  "
      ]
     },
     "execution_count": 281,
     "metadata": {},
     "output_type": "execute_result"
    }
   ],
   "source": [
    "cm[cm['tres_nm'] == 'ERIC KELLER']"
   ]
  },
  {
   "cell_type": "code",
   "execution_count": 282,
   "metadata": {},
   "outputs": [
    {
     "data": {
      "text/html": [
       "<div>\n",
       "<style scoped>\n",
       "    .dataframe tbody tr th:only-of-type {\n",
       "        vertical-align: middle;\n",
       "    }\n",
       "\n",
       "    .dataframe tbody tr th {\n",
       "        vertical-align: top;\n",
       "    }\n",
       "\n",
       "    .dataframe thead th {\n",
       "        text-align: right;\n",
       "    }\n",
       "</style>\n",
       "<table border=\"1\" class=\"dataframe\">\n",
       "  <thead>\n",
       "    <tr style=\"text-align: right;\">\n",
       "      <th></th>\n",
       "      <th>cmte_id</th>\n",
       "      <th>cmte_nm</th>\n",
       "      <th>tres_nm</th>\n",
       "      <th>cmte_st1</th>\n",
       "      <th>cmte_st2</th>\n",
       "      <th>cmte_city</th>\n",
       "      <th>cmte_st</th>\n",
       "      <th>cmte_zip</th>\n",
       "      <th>cmte_dsgn</th>\n",
       "      <th>cmte_tp</th>\n",
       "      <th>cmte_pty_affiliation</th>\n",
       "      <th>cmte_filing_freq</th>\n",
       "      <th>org_tp</th>\n",
       "      <th>connected_org_nm</th>\n",
       "      <th>cand_id</th>\n",
       "      <th>orig_tres_nm</th>\n",
       "      <th>orig_cmte_st1</th>\n",
       "      <th>address</th>\n",
       "    </tr>\n",
       "  </thead>\n",
       "  <tbody>\n",
       "    <tr>\n",
       "      <td>14311</td>\n",
       "      <td>C00666537</td>\n",
       "      <td>PRESS FREEDOM POLITICAL ACTION COMMITTEE</td>\n",
       "      <td>ERIC LEIGH KELLER</td>\n",
       "      <td>902 TURKEY RUN RD</td>\n",
       "      <td>NaN</td>\n",
       "      <td>MCLEAN</td>\n",
       "      <td>VA</td>\n",
       "      <td>22101</td>\n",
       "      <td>U</td>\n",
       "      <td>N</td>\n",
       "      <td>UNK</td>\n",
       "      <td>Q</td>\n",
       "      <td>NaN</td>\n",
       "      <td>NONE</td>\n",
       "      <td>NaN</td>\n",
       "      <td>KELLER, ERIC LEIGH MR.</td>\n",
       "      <td>902 TURKEY RUN ROAD</td>\n",
       "      <td>902 TURKEY RUN RD, MCLEAN, VA 22101</td>\n",
       "    </tr>\n",
       "  </tbody>\n",
       "</table>\n",
       "</div>"
      ],
      "text/plain": [
       "         cmte_id                                   cmte_nm            tres_nm  \\\n",
       "14311  C00666537  PRESS FREEDOM POLITICAL ACTION COMMITTEE  ERIC LEIGH KELLER   \n",
       "\n",
       "                cmte_st1 cmte_st2 cmte_city cmte_st cmte_zip cmte_dsgn  \\\n",
       "14311  902 TURKEY RUN RD      NaN    MCLEAN      VA    22101         U   \n",
       "\n",
       "      cmte_tp cmte_pty_affiliation cmte_filing_freq org_tp connected_org_nm  \\\n",
       "14311       N                  UNK                Q    NaN             NONE   \n",
       "\n",
       "      cand_id            orig_tres_nm        orig_cmte_st1  \\\n",
       "14311     NaN  KELLER, ERIC LEIGH MR.  902 TURKEY RUN ROAD   \n",
       "\n",
       "                                   address  \n",
       "14311  902 TURKEY RUN RD, MCLEAN, VA 22101  "
      ]
     },
     "execution_count": 282,
     "metadata": {},
     "output_type": "execute_result"
    }
   ],
   "source": [
    "cm[cm['tres_nm'] == 'ERIC LEIGH KELLER']"
   ]
  },
  {
   "cell_type": "code",
   "execution_count": 283,
   "metadata": {},
   "outputs": [
    {
     "data": {
      "text/plain": [
       "['AARON HUBBARD',\n",
       " 'EDWARD HUBBARD',\n",
       " 'FREDDIE HUBBARD',\n",
       " 'HARRY HUBBARD',\n",
       " 'JACK HUBBARD',\n",
       " 'JIM HUBBARD',\n",
       " 'TSHOMBE HUBBARD']"
      ]
     },
     "execution_count": 283,
     "metadata": {},
     "output_type": "execute_result"
    }
   ],
   "source": [
    "findall(' hubbard')"
   ]
  },
  {
   "cell_type": "code",
   "execution_count": 284,
   "metadata": {},
   "outputs": [],
   "source": [
    "dones.extend(findall(' lei'))"
   ]
  },
  {
   "cell_type": "code",
   "execution_count": 285,
   "metadata": {},
   "outputs": [
    {
     "data": {
      "text/plain": [
       "['DONALD TEAL', 'GARY TEAL', 'MATT TEAGARDEN', 'RICHARD TEAMAN']"
      ]
     },
     "execution_count": 285,
     "metadata": {},
     "output_type": "execute_result"
    }
   ],
   "source": [
    "findall(' tea')"
   ]
  },
  {
   "cell_type": "code",
   "execution_count": 286,
   "metadata": {},
   "outputs": [],
   "source": [
    "dones.extend(findall(' tea'))"
   ]
  },
  {
   "cell_type": "code",
   "execution_count": 287,
   "metadata": {},
   "outputs": [
    {
     "data": {
      "text/plain": [
       "['DEBORAH RUTH HAGAR',\n",
       " 'JANNA RUTLAND',\n",
       " 'JEFFREY RUTAN',\n",
       " 'JOHN RUTKAUSKAS',\n",
       " 'LUCY RUTISHAUSER',\n",
       " 'REID RUTHERFORD',\n",
       " 'SUSAN RUTT']"
      ]
     },
     "execution_count": 287,
     "metadata": {},
     "output_type": "execute_result"
    }
   ],
   "source": [
    "findall(' rut')"
   ]
  },
  {
   "cell_type": "code",
   "execution_count": 288,
   "metadata": {},
   "outputs": [
    {
     "data": {
      "text/plain": [
       "[]"
      ]
     },
     "execution_count": 288,
     "metadata": {},
     "output_type": "execute_result"
    }
   ],
   "source": [
    "findall('bellar')"
   ]
  },
  {
   "cell_type": "code",
   "execution_count": 289,
   "metadata": {},
   "outputs": [
    {
     "data": {
      "text/plain": [
       "['HEATH MAYO']"
      ]
     },
     "execution_count": 289,
     "metadata": {},
     "output_type": "execute_result"
    }
   ],
   "source": [
    "findall(' mayo')"
   ]
  },
  {
   "cell_type": "code",
   "execution_count": 290,
   "metadata": {},
   "outputs": [],
   "source": [
    "dones.extend(findall(' mayo'))"
   ]
  },
  {
   "cell_type": "code",
   "execution_count": 291,
   "metadata": {},
   "outputs": [],
   "source": [
    "dones.extend(findall(' rut'))"
   ]
  },
  {
   "cell_type": "code",
   "execution_count": 292,
   "metadata": {},
   "outputs": [
    {
     "data": {
      "text/plain": [
       "['ALLEN ELLISON',\n",
       " 'AMY ELLIS',\n",
       " 'GREG ELLIOTT',\n",
       " 'HEIDI ELLIS ROBEY',\n",
       " 'JEROME ELLIOTT TRES TRUSTEE FIELDS',\n",
       " 'JOE ELLISON',\n",
       " 'JOHN CLELLAND ELLIS',\n",
       " 'LISA ELLIS',\n",
       " 'MICHAEL ELLIOTT',\n",
       " 'SCOTT ELLINGTON',\n",
       " 'THERESA ELLINGTON',\n",
       " 'TWANA ELLIOTT']"
      ]
     },
     "execution_count": 292,
     "metadata": {},
     "output_type": "execute_result"
    }
   ],
   "source": [
    "findall(' elli')"
   ]
  },
  {
   "cell_type": "code",
   "execution_count": 293,
   "metadata": {},
   "outputs": [
    {
     "data": {
      "text/plain": [
       "['HEIDI ELLIS ROBEY']"
      ]
     },
     "execution_count": 293,
     "metadata": {},
     "output_type": "execute_result"
    }
   ],
   "source": [
    "findall(' robey')"
   ]
  },
  {
   "cell_type": "code",
   "execution_count": 294,
   "metadata": {},
   "outputs": [
    {
     "data": {
      "text/plain": [
       "['LISA DAHLING', 'THOMAS DAHLEN']"
      ]
     },
     "execution_count": 294,
     "metadata": {},
     "output_type": "execute_result"
    }
   ],
   "source": [
    "findall(' dahl')"
   ]
  },
  {
   "cell_type": "code",
   "execution_count": 295,
   "metadata": {},
   "outputs": [],
   "source": [
    "dones.extend(findall(' elli'))"
   ]
  },
  {
   "cell_type": "code",
   "execution_count": 296,
   "metadata": {},
   "outputs": [
    {
     "data": {
      "text/plain": [
       "['BRONWYN KEENAN',\n",
       " 'DARRYL KEENAN SEGARS',\n",
       " 'DAVID KEEN',\n",
       " 'HELENE KEELEY',\n",
       " 'JOHN KEELING',\n",
       " 'LYNETTE KEETON',\n",
       " 'MICHAEL KEELING',\n",
       " 'THORNTON KEEL']"
      ]
     },
     "execution_count": 296,
     "metadata": {},
     "output_type": "execute_result"
    }
   ],
   "source": [
    "findall(' kee')"
   ]
  },
  {
   "cell_type": "code",
   "execution_count": 297,
   "metadata": {},
   "outputs": [
    {
     "data": {
      "text/plain": [
       "['DARRYL KEENAN SEGARS']"
      ]
     },
     "execution_count": 297,
     "metadata": {},
     "output_type": "execute_result"
    }
   ],
   "source": [
    "findall(' segars')"
   ]
  },
  {
   "cell_type": "code",
   "execution_count": 298,
   "metadata": {},
   "outputs": [],
   "source": [
    "dones.extend(findall(' kee'))"
   ]
  },
  {
   "cell_type": "code",
   "execution_count": 299,
   "metadata": {},
   "outputs": [
    {
     "data": {
      "text/plain": [
       "['AUSTIN BENNET TR JANSSEN',\n",
       " 'BEVE JANE THAKHAMHOR',\n",
       " 'DEBORAH JANSEN',\n",
       " 'DNP APRN JANICE JONES',\n",
       " 'ELAINE JANUS',\n",
       " 'GORAN JANKOVIC',\n",
       " 'JOHN JANKOWSKI',\n",
       " 'LATREASHA JANET GIVENS',\n",
       " 'MICHELLE JANEEN WHITE',\n",
       " 'TIMOTHY JANISSE']"
      ]
     },
     "execution_count": 299,
     "metadata": {},
     "output_type": "execute_result"
    }
   ],
   "source": [
    "findall(' jan')"
   ]
  },
  {
   "cell_type": "code",
   "execution_count": 300,
   "metadata": {},
   "outputs": [
    {
     "data": {
      "text/plain": [
       "['AUSTIN BENNET TR JANSSEN']"
      ]
     },
     "execution_count": 300,
     "metadata": {},
     "output_type": "execute_result"
    }
   ],
   "source": [
    "findall(' janssen')"
   ]
  },
  {
   "cell_type": "code",
   "execution_count": 301,
   "metadata": {},
   "outputs": [
    {
     "data": {
      "text/plain": [
       "['BEVE JANE THAKHAMHOR']"
      ]
     },
     "execution_count": 301,
     "metadata": {},
     "output_type": "execute_result"
    }
   ],
   "source": [
    "findall(' thakh')"
   ]
  },
  {
   "cell_type": "code",
   "execution_count": 302,
   "metadata": {},
   "outputs": [
    {
     "data": {
      "text/plain": [
       "[]"
      ]
     },
     "execution_count": 302,
     "metadata": {},
     "output_type": "execute_result"
    }
   ],
   "source": [
    "findall('osgerby')"
   ]
  },
  {
   "cell_type": "code",
   "execution_count": 303,
   "metadata": {},
   "outputs": [
    {
     "data": {
      "text/plain": [
       "['CYNTHIA WHARTON', 'KOTA WHARTON']"
      ]
     },
     "execution_count": 303,
     "metadata": {},
     "output_type": "execute_result"
    }
   ],
   "source": [
    "findall('wharton')"
   ]
  },
  {
   "cell_type": "code",
   "execution_count": 304,
   "metadata": {},
   "outputs": [
    {
     "data": {
      "text/plain": [
       "[]"
      ]
     },
     "execution_count": 304,
     "metadata": {},
     "output_type": "execute_result"
    }
   ],
   "source": [
    "findall(' tanis')"
   ]
  },
  {
   "cell_type": "code",
   "execution_count": 305,
   "metadata": {},
   "outputs": [],
   "source": [
    "dones.extend(findall(' jan'))"
   ]
  },
  {
   "cell_type": "code",
   "execution_count": 306,
   "metadata": {},
   "outputs": [
    {
     "data": {
      "text/plain": [
       "['ABBY DUPREE']"
      ]
     },
     "execution_count": 306,
     "metadata": {},
     "output_type": "execute_result"
    }
   ],
   "source": [
    "findall(' dupr')"
   ]
  },
  {
   "cell_type": "code",
   "execution_count": 307,
   "metadata": {},
   "outputs": [],
   "source": [
    "dones.extend(findall(' dupr'))"
   ]
  },
  {
   "cell_type": "code",
   "execution_count": 308,
   "metadata": {},
   "outputs": [
    {
     "data": {
      "text/plain": [
       "['ANDREW SCHWARTZ',\n",
       " 'ARTHUR SCHWARTZ',\n",
       " 'JAMES SCHWARTZ',\n",
       " 'JENNIFER SCHWARTZ',\n",
       " 'KARL SCHWARTZ',\n",
       " 'LAURA SCHWARTZ',\n",
       " 'MELODIE SCHWARTZ',\n",
       " 'STEVEN SCHWARTZ']"
      ]
     },
     "execution_count": 308,
     "metadata": {},
     "output_type": "execute_result"
    }
   ],
   "source": [
    "findall(' schwartz')"
   ]
  },
  {
   "cell_type": "code",
   "execution_count": 309,
   "metadata": {},
   "outputs": [
    {
     "data": {
      "text/html": [
       "<div>\n",
       "<style scoped>\n",
       "    .dataframe tbody tr th:only-of-type {\n",
       "        vertical-align: middle;\n",
       "    }\n",
       "\n",
       "    .dataframe tbody tr th {\n",
       "        vertical-align: top;\n",
       "    }\n",
       "\n",
       "    .dataframe thead th {\n",
       "        text-align: right;\n",
       "    }\n",
       "</style>\n",
       "<table border=\"1\" class=\"dataframe\">\n",
       "  <thead>\n",
       "    <tr style=\"text-align: right;\">\n",
       "      <th></th>\n",
       "      <th>cmte_id</th>\n",
       "      <th>cmte_nm</th>\n",
       "      <th>tres_nm</th>\n",
       "      <th>cmte_st1</th>\n",
       "      <th>cmte_st2</th>\n",
       "      <th>cmte_city</th>\n",
       "      <th>cmte_st</th>\n",
       "      <th>cmte_zip</th>\n",
       "      <th>cmte_dsgn</th>\n",
       "      <th>cmte_tp</th>\n",
       "      <th>cmte_pty_affiliation</th>\n",
       "      <th>cmte_filing_freq</th>\n",
       "      <th>org_tp</th>\n",
       "      <th>connected_org_nm</th>\n",
       "      <th>cand_id</th>\n",
       "      <th>orig_tres_nm</th>\n",
       "      <th>orig_cmte_st1</th>\n",
       "      <th>address</th>\n",
       "    </tr>\n",
       "  </thead>\n",
       "  <tbody>\n",
       "    <tr>\n",
       "      <td>8348</td>\n",
       "      <td>C00580415</td>\n",
       "      <td>FASO FOR CONGRESS</td>\n",
       "      <td>LAURA SCHWARTZ</td>\n",
       "      <td>PO BOX 448</td>\n",
       "      <td>NaN</td>\n",
       "      <td>KINDERHOOK</td>\n",
       "      <td>NY</td>\n",
       "      <td>12106</td>\n",
       "      <td>P</td>\n",
       "      <td>H</td>\n",
       "      <td>REP</td>\n",
       "      <td>Q</td>\n",
       "      <td>NaN</td>\n",
       "      <td>FRESHMAN AGRICULTURAL REPUBLICAN MEMBERS TRUST...</td>\n",
       "      <td>H6NY19169</td>\n",
       "      <td>SCHWARTZ, LAURA A. MS.</td>\n",
       "      <td>PO BOX 448</td>\n",
       "      <td>PO BOX 448, KINDERHOOK, NY 12106</td>\n",
       "    </tr>\n",
       "    <tr>\n",
       "      <td>9348</td>\n",
       "      <td>C00602755</td>\n",
       "      <td>LANGE FOR CONGRESS</td>\n",
       "      <td>LAURA SCHWARTZ</td>\n",
       "      <td>PO BOX 481</td>\n",
       "      <td>NaN</td>\n",
       "      <td>SOUTH SALEM</td>\n",
       "      <td>NY</td>\n",
       "      <td>10590</td>\n",
       "      <td>P</td>\n",
       "      <td>H</td>\n",
       "      <td>REP</td>\n",
       "      <td>Q</td>\n",
       "      <td>NaN</td>\n",
       "      <td>NONE</td>\n",
       "      <td>NaN</td>\n",
       "      <td>SCHWARTZ, LAURA A.</td>\n",
       "      <td>PO BOX 481</td>\n",
       "      <td>PO BOX 481, SOUTH SALEM, NY 10590</td>\n",
       "    </tr>\n",
       "    <tr>\n",
       "      <td>10580</td>\n",
       "      <td>C00622100</td>\n",
       "      <td>FASO VICTORY COMMITTEE</td>\n",
       "      <td>LAURA SCHWARTZ</td>\n",
       "      <td>PO BOX 98</td>\n",
       "      <td>NaN</td>\n",
       "      <td>SOUTH SALEM</td>\n",
       "      <td>NY</td>\n",
       "      <td>10590</td>\n",
       "      <td>J</td>\n",
       "      <td>N</td>\n",
       "      <td>UNK</td>\n",
       "      <td>T</td>\n",
       "      <td>NaN</td>\n",
       "      <td>NaN</td>\n",
       "      <td>NaN</td>\n",
       "      <td>SCHWARTZ, LAURA</td>\n",
       "      <td>PO BOX 98</td>\n",
       "      <td>PO BOX 98, SOUTH SALEM, NY 10590</td>\n",
       "    </tr>\n",
       "    <tr>\n",
       "      <td>11309</td>\n",
       "      <td>C00630681</td>\n",
       "      <td>EMPIRE STATE PAC</td>\n",
       "      <td>LAURA SCHWARTZ</td>\n",
       "      <td>PO BOX 98</td>\n",
       "      <td>NaN</td>\n",
       "      <td>SOUTH SALEM</td>\n",
       "      <td>NY</td>\n",
       "      <td>10590</td>\n",
       "      <td>D</td>\n",
       "      <td>N</td>\n",
       "      <td>UNK</td>\n",
       "      <td>Q</td>\n",
       "      <td>NaN</td>\n",
       "      <td>NaN</td>\n",
       "      <td>NaN</td>\n",
       "      <td>SCHWARTZ, LAURA A.</td>\n",
       "      <td>PO BOX 98</td>\n",
       "      <td>PO BOX 98, SOUTH SALEM, NY 10590</td>\n",
       "    </tr>\n",
       "    <tr>\n",
       "      <td>11556</td>\n",
       "      <td>C00633263</td>\n",
       "      <td>JOHN FASO VICTORY COMMITTEE</td>\n",
       "      <td>LAURA SCHWARTZ</td>\n",
       "      <td>PO BOX 98</td>\n",
       "      <td>NaN</td>\n",
       "      <td>SOUTH SALEM</td>\n",
       "      <td>NY</td>\n",
       "      <td>10590</td>\n",
       "      <td>J</td>\n",
       "      <td>N</td>\n",
       "      <td>UNK</td>\n",
       "      <td>Q</td>\n",
       "      <td>NaN</td>\n",
       "      <td>NONE</td>\n",
       "      <td>NaN</td>\n",
       "      <td>SCHWARTZ, LAURA</td>\n",
       "      <td>PO BOX 98</td>\n",
       "      <td>PO BOX 98, SOUTH SALEM, NY 10590</td>\n",
       "    </tr>\n",
       "    <tr>\n",
       "      <td>14735</td>\n",
       "      <td>C00670885</td>\n",
       "      <td>NEW YORK MAJORITY VICTORY</td>\n",
       "      <td>LAURA SCHWARTZ</td>\n",
       "      <td>PO BOX 98</td>\n",
       "      <td>NaN</td>\n",
       "      <td>SOUTH SALEM</td>\n",
       "      <td>NY</td>\n",
       "      <td>10590</td>\n",
       "      <td>J</td>\n",
       "      <td>H</td>\n",
       "      <td>UNK</td>\n",
       "      <td>T</td>\n",
       "      <td>NaN</td>\n",
       "      <td>NaN</td>\n",
       "      <td>NaN</td>\n",
       "      <td>SCHWARTZ, LAURA</td>\n",
       "      <td>PO BOX 98</td>\n",
       "      <td>PO BOX 98, SOUTH SALEM, NY 10590</td>\n",
       "    </tr>\n",
       "    <tr>\n",
       "      <td>15542</td>\n",
       "      <td>C00679225</td>\n",
       "      <td>KEEP THE HOUSE</td>\n",
       "      <td>LAURA SCHWARTZ</td>\n",
       "      <td>PO BOX 98</td>\n",
       "      <td>NaN</td>\n",
       "      <td>SOUTH SALEM</td>\n",
       "      <td>NY</td>\n",
       "      <td>10590</td>\n",
       "      <td>J</td>\n",
       "      <td>N</td>\n",
       "      <td>UNK</td>\n",
       "      <td>T</td>\n",
       "      <td>NaN</td>\n",
       "      <td>NaN</td>\n",
       "      <td>NaN</td>\n",
       "      <td>LAURA SCHWARTZ</td>\n",
       "      <td>P.O. BOX 98</td>\n",
       "      <td>PO BOX 98, SOUTH SALEM, NY 10590</td>\n",
       "    </tr>\n",
       "  </tbody>\n",
       "</table>\n",
       "</div>"
      ],
      "text/plain": [
       "         cmte_id                      cmte_nm         tres_nm    cmte_st1  \\\n",
       "8348   C00580415            FASO FOR CONGRESS  LAURA SCHWARTZ  PO BOX 448   \n",
       "9348   C00602755           LANGE FOR CONGRESS  LAURA SCHWARTZ  PO BOX 481   \n",
       "10580  C00622100       FASO VICTORY COMMITTEE  LAURA SCHWARTZ   PO BOX 98   \n",
       "11309  C00630681             EMPIRE STATE PAC  LAURA SCHWARTZ   PO BOX 98   \n",
       "11556  C00633263  JOHN FASO VICTORY COMMITTEE  LAURA SCHWARTZ   PO BOX 98   \n",
       "14735  C00670885    NEW YORK MAJORITY VICTORY  LAURA SCHWARTZ   PO BOX 98   \n",
       "15542  C00679225               KEEP THE HOUSE  LAURA SCHWARTZ   PO BOX 98   \n",
       "\n",
       "      cmte_st2    cmte_city cmte_st cmte_zip cmte_dsgn cmte_tp  \\\n",
       "8348       NaN   KINDERHOOK      NY    12106         P       H   \n",
       "9348       NaN  SOUTH SALEM      NY    10590         P       H   \n",
       "10580      NaN  SOUTH SALEM      NY    10590         J       N   \n",
       "11309      NaN  SOUTH SALEM      NY    10590         D       N   \n",
       "11556      NaN  SOUTH SALEM      NY    10590         J       N   \n",
       "14735      NaN  SOUTH SALEM      NY    10590         J       H   \n",
       "15542      NaN  SOUTH SALEM      NY    10590         J       N   \n",
       "\n",
       "      cmte_pty_affiliation cmte_filing_freq org_tp  \\\n",
       "8348                   REP                Q    NaN   \n",
       "9348                   REP                Q    NaN   \n",
       "10580                  UNK                T    NaN   \n",
       "11309                  UNK                Q    NaN   \n",
       "11556                  UNK                Q    NaN   \n",
       "14735                  UNK                T    NaN   \n",
       "15542                  UNK                T    NaN   \n",
       "\n",
       "                                        connected_org_nm    cand_id  \\\n",
       "8348   FRESHMAN AGRICULTURAL REPUBLICAN MEMBERS TRUST...  H6NY19169   \n",
       "9348                                                NONE        NaN   \n",
       "10580                                                NaN        NaN   \n",
       "11309                                                NaN        NaN   \n",
       "11556                                               NONE        NaN   \n",
       "14735                                                NaN        NaN   \n",
       "15542                                                NaN        NaN   \n",
       "\n",
       "                 orig_tres_nm orig_cmte_st1                            address  \n",
       "8348   SCHWARTZ, LAURA A. MS.    PO BOX 448   PO BOX 448, KINDERHOOK, NY 12106  \n",
       "9348       SCHWARTZ, LAURA A.    PO BOX 481  PO BOX 481, SOUTH SALEM, NY 10590  \n",
       "10580         SCHWARTZ, LAURA     PO BOX 98   PO BOX 98, SOUTH SALEM, NY 10590  \n",
       "11309      SCHWARTZ, LAURA A.     PO BOX 98   PO BOX 98, SOUTH SALEM, NY 10590  \n",
       "11556         SCHWARTZ, LAURA     PO BOX 98   PO BOX 98, SOUTH SALEM, NY 10590  \n",
       "14735         SCHWARTZ, LAURA     PO BOX 98   PO BOX 98, SOUTH SALEM, NY 10590  \n",
       "15542          LAURA SCHWARTZ   P.O. BOX 98   PO BOX 98, SOUTH SALEM, NY 10590  "
      ]
     },
     "execution_count": 309,
     "metadata": {},
     "output_type": "execute_result"
    }
   ],
   "source": [
    "cm[cm['tres_nm'] == 'LAURA SCHWARTZ']"
   ]
  },
  {
   "cell_type": "code",
   "execution_count": 310,
   "metadata": {},
   "outputs": [
    {
     "data": {
      "text/html": [
       "<div>\n",
       "<style scoped>\n",
       "    .dataframe tbody tr th:only-of-type {\n",
       "        vertical-align: middle;\n",
       "    }\n",
       "\n",
       "    .dataframe tbody tr th {\n",
       "        vertical-align: top;\n",
       "    }\n",
       "\n",
       "    .dataframe thead th {\n",
       "        text-align: right;\n",
       "    }\n",
       "</style>\n",
       "<table border=\"1\" class=\"dataframe\">\n",
       "  <thead>\n",
       "    <tr style=\"text-align: right;\">\n",
       "      <th></th>\n",
       "      <th>cmte_id</th>\n",
       "      <th>cmte_nm</th>\n",
       "      <th>tres_nm</th>\n",
       "      <th>cmte_st1</th>\n",
       "      <th>cmte_st2</th>\n",
       "      <th>cmte_city</th>\n",
       "      <th>cmte_st</th>\n",
       "      <th>cmte_zip</th>\n",
       "      <th>cmte_dsgn</th>\n",
       "      <th>cmte_tp</th>\n",
       "      <th>cmte_pty_affiliation</th>\n",
       "      <th>cmte_filing_freq</th>\n",
       "      <th>org_tp</th>\n",
       "      <th>connected_org_nm</th>\n",
       "      <th>cand_id</th>\n",
       "      <th>orig_tres_nm</th>\n",
       "      <th>orig_cmte_st1</th>\n",
       "      <th>address</th>\n",
       "    </tr>\n",
       "  </thead>\n",
       "  <tbody>\n",
       "  </tbody>\n",
       "</table>\n",
       "</div>"
      ],
      "text/plain": [
       "Empty DataFrame\n",
       "Columns: [cmte_id, cmte_nm, tres_nm, cmte_st1, cmte_st2, cmte_city, cmte_st, cmte_zip, cmte_dsgn, cmte_tp, cmte_pty_affiliation, cmte_filing_freq, org_tp, connected_org_nm, cand_id, orig_tres_nm, orig_cmte_st1, address]\n",
       "Index: []"
      ]
     },
     "execution_count": 310,
     "metadata": {},
     "output_type": "execute_result"
    }
   ],
   "source": [
    "cm[cm['tres_nm'] == 'LAURA ANN SCHWARTZ']"
   ]
  },
  {
   "cell_type": "code",
   "execution_count": 311,
   "metadata": {},
   "outputs": [],
   "source": [
    "dones.extend(findall(' schwartz'))"
   ]
  },
  {
   "cell_type": "code",
   "execution_count": 312,
   "metadata": {},
   "outputs": [
    {
     "data": {
      "text/plain": [
       "['AMIT KAUL',\n",
       " 'EMILY KAUFMAN',\n",
       " 'JASON KAUNE',\n",
       " 'KARL KAUFMANN',\n",
       " 'PHIL KAUFMAN',\n",
       " 'ROBERT KAUFMANN',\n",
       " 'SCOTT KAUFMAN',\n",
       " 'STEPHEN KAUFMAN']"
      ]
     },
     "execution_count": 312,
     "metadata": {},
     "output_type": "execute_result"
    }
   ],
   "source": [
    "findall(' kau')"
   ]
  },
  {
   "cell_type": "code",
   "execution_count": 313,
   "metadata": {},
   "outputs": [
    {
     "data": {
      "text/html": [
       "<div>\n",
       "<style scoped>\n",
       "    .dataframe tbody tr th:only-of-type {\n",
       "        vertical-align: middle;\n",
       "    }\n",
       "\n",
       "    .dataframe tbody tr th {\n",
       "        vertical-align: top;\n",
       "    }\n",
       "\n",
       "    .dataframe thead th {\n",
       "        text-align: right;\n",
       "    }\n",
       "</style>\n",
       "<table border=\"1\" class=\"dataframe\">\n",
       "  <thead>\n",
       "    <tr style=\"text-align: right;\">\n",
       "      <th></th>\n",
       "      <th>cmte_id</th>\n",
       "      <th>cmte_nm</th>\n",
       "      <th>tres_nm</th>\n",
       "      <th>cmte_st1</th>\n",
       "      <th>cmte_st2</th>\n",
       "      <th>cmte_city</th>\n",
       "      <th>cmte_st</th>\n",
       "      <th>cmte_zip</th>\n",
       "      <th>cmte_dsgn</th>\n",
       "      <th>cmte_tp</th>\n",
       "      <th>cmte_pty_affiliation</th>\n",
       "      <th>cmte_filing_freq</th>\n",
       "      <th>org_tp</th>\n",
       "      <th>connected_org_nm</th>\n",
       "      <th>cand_id</th>\n",
       "      <th>orig_tres_nm</th>\n",
       "      <th>orig_cmte_st1</th>\n",
       "      <th>address</th>\n",
       "    </tr>\n",
       "  </thead>\n",
       "  <tbody>\n",
       "  </tbody>\n",
       "</table>\n",
       "</div>"
      ],
      "text/plain": [
       "Empty DataFrame\n",
       "Columns: [cmte_id, cmte_nm, tres_nm, cmte_st1, cmte_st2, cmte_city, cmte_st, cmte_zip, cmte_dsgn, cmte_tp, cmte_pty_affiliation, cmte_filing_freq, org_tp, connected_org_nm, cand_id, orig_tres_nm, orig_cmte_st1, address]\n",
       "Index: []"
      ]
     },
     "execution_count": 313,
     "metadata": {},
     "output_type": "execute_result"
    }
   ],
   "source": [
    "cm[cm['tres_nm'] == 'RON KAUFMAN']"
   ]
  },
  {
   "cell_type": "code",
   "execution_count": 314,
   "metadata": {},
   "outputs": [
    {
     "data": {
      "text/html": [
       "<div>\n",
       "<style scoped>\n",
       "    .dataframe tbody tr th:only-of-type {\n",
       "        vertical-align: middle;\n",
       "    }\n",
       "\n",
       "    .dataframe tbody tr th {\n",
       "        vertical-align: top;\n",
       "    }\n",
       "\n",
       "    .dataframe thead th {\n",
       "        text-align: right;\n",
       "    }\n",
       "</style>\n",
       "<table border=\"1\" class=\"dataframe\">\n",
       "  <thead>\n",
       "    <tr style=\"text-align: right;\">\n",
       "      <th></th>\n",
       "      <th>cmte_id</th>\n",
       "      <th>cmte_nm</th>\n",
       "      <th>tres_nm</th>\n",
       "      <th>cmte_st1</th>\n",
       "      <th>cmte_st2</th>\n",
       "      <th>cmte_city</th>\n",
       "      <th>cmte_st</th>\n",
       "      <th>cmte_zip</th>\n",
       "      <th>cmte_dsgn</th>\n",
       "      <th>cmte_tp</th>\n",
       "      <th>cmte_pty_affiliation</th>\n",
       "      <th>cmte_filing_freq</th>\n",
       "      <th>org_tp</th>\n",
       "      <th>connected_org_nm</th>\n",
       "      <th>cand_id</th>\n",
       "      <th>orig_tres_nm</th>\n",
       "      <th>orig_cmte_st1</th>\n",
       "      <th>address</th>\n",
       "    </tr>\n",
       "  </thead>\n",
       "  <tbody>\n",
       "  </tbody>\n",
       "</table>\n",
       "</div>"
      ],
      "text/plain": [
       "Empty DataFrame\n",
       "Columns: [cmte_id, cmte_nm, tres_nm, cmte_st1, cmte_st2, cmte_city, cmte_st, cmte_zip, cmte_dsgn, cmte_tp, cmte_pty_affiliation, cmte_filing_freq, org_tp, connected_org_nm, cand_id, orig_tres_nm, orig_cmte_st1, address]\n",
       "Index: []"
      ]
     },
     "execution_count": 314,
     "metadata": {},
     "output_type": "execute_result"
    }
   ],
   "source": [
    "cm[cm['tres_nm'] == 'RONALD KAUFMAN']"
   ]
  },
  {
   "cell_type": "code",
   "execution_count": 315,
   "metadata": {},
   "outputs": [
    {
     "name": "stdout",
     "output_type": "stream",
     "text": [
      "orig len: 0\n",
      "new len: 0\n"
     ]
    }
   ],
   "source": [
    "new = 'RONALD KAUFMAN'\n",
    "dones.append(new)\n",
    "\n",
    "these = findall(['ron', ' kaufman'])\n",
    "\n",
    "getall(these, new)"
   ]
  },
  {
   "cell_type": "code",
   "execution_count": 316,
   "metadata": {},
   "outputs": [],
   "source": [
    "dones.extend(findall(' kau'))"
   ]
  },
  {
   "cell_type": "code",
   "execution_count": 317,
   "metadata": {},
   "outputs": [
    {
     "data": {
      "text/plain": [
       "['JOSE RIESCO']"
      ]
     },
     "execution_count": 317,
     "metadata": {},
     "output_type": "execute_result"
    }
   ],
   "source": [
    "findall(' riesc')"
   ]
  },
  {
   "cell_type": "code",
   "execution_count": 318,
   "metadata": {},
   "outputs": [],
   "source": [
    "dones.extend(findall(' riesc'))"
   ]
  },
  {
   "cell_type": "code",
   "execution_count": 319,
   "metadata": {},
   "outputs": [
    {
     "data": {
      "text/plain": [
       "['ARTHUR COPLESTON',\n",
       " 'BILLY COPELAND',\n",
       " 'ELIZABETH COPPINGER',\n",
       " 'MICHAEL COPELEY',\n",
       " 'RITA COPELAND',\n",
       " 'VONA COPP']"
      ]
     },
     "execution_count": 319,
     "metadata": {},
     "output_type": "execute_result"
    }
   ],
   "source": [
    "findall(' cop')"
   ]
  },
  {
   "cell_type": "code",
   "execution_count": 320,
   "metadata": {},
   "outputs": [],
   "source": [
    "dones.extend(findall(' cop'))"
   ]
  },
  {
   "cell_type": "code",
   "execution_count": 321,
   "metadata": {},
   "outputs": [
    {
     "data": {
      "text/plain": [
       "['AJ BALUKOFF',\n",
       " 'BRIANA BALESKIE',\n",
       " 'JAMES BALL',\n",
       " 'JOHN BALLARD',\n",
       " 'JONATHAN BALDWIN',\n",
       " 'JONATHAN BALL',\n",
       " 'JOSHUA BALLARD',\n",
       " 'KAREN BALLARD',\n",
       " 'KEITH BALKCOM',\n",
       " 'KRYSTAL BALL',\n",
       " 'LAURA BALDI',\n",
       " 'MATANGI BALA',\n",
       " 'MATTHEW BALAZIK',\n",
       " 'MICHAEL BALL',\n",
       " 'PAUL BALASSA',\n",
       " 'ROBERT BALGENORTH',\n",
       " 'SUSAN BALKENBUSH',\n",
       " 'TRACEY BALL']"
      ]
     },
     "execution_count": 321,
     "metadata": {},
     "output_type": "execute_result"
    }
   ],
   "source": [
    "findall(' bal')"
   ]
  },
  {
   "cell_type": "code",
   "execution_count": 322,
   "metadata": {},
   "outputs": [],
   "source": [
    "dones.extend(findall(' bal'))"
   ]
  },
  {
   "cell_type": "code",
   "execution_count": 323,
   "metadata": {},
   "outputs": [
    {
     "data": {
      "text/plain": [
       "['VINCENT TALLMAN']"
      ]
     },
     "execution_count": 323,
     "metadata": {},
     "output_type": "execute_result"
    }
   ],
   "source": [
    "findall(' tall')"
   ]
  },
  {
   "cell_type": "code",
   "execution_count": 324,
   "metadata": {},
   "outputs": [],
   "source": [
    "dones.extend(findall(' tall'))"
   ]
  },
  {
   "cell_type": "code",
   "execution_count": 325,
   "metadata": {},
   "outputs": [
    {
     "data": {
      "text/plain": [
       "['JOEL JUKUS']"
      ]
     },
     "execution_count": 325,
     "metadata": {},
     "output_type": "execute_result"
    }
   ],
   "source": [
    "findall(' juk')"
   ]
  },
  {
   "cell_type": "code",
   "execution_count": 326,
   "metadata": {},
   "outputs": [],
   "source": [
    "dones.extend(findall(' juk'))"
   ]
  },
  {
   "cell_type": "code",
   "execution_count": 327,
   "metadata": {},
   "outputs": [
    {
     "data": {
      "text/plain": [
       "[]"
      ]
     },
     "execution_count": 327,
     "metadata": {},
     "output_type": "execute_result"
    }
   ],
   "source": [
    "findall(' milln')"
   ]
  },
  {
   "cell_type": "code",
   "execution_count": 328,
   "metadata": {},
   "outputs": [],
   "source": [
    "dones.extend(findall(' milln'))"
   ]
  },
  {
   "cell_type": "code",
   "execution_count": 329,
   "metadata": {},
   "outputs": [
    {
     "data": {
      "text/plain": [
       "['KIMBERLY GOODEN', 'MICHAEL GOODE', 'WARREN GOODE']"
      ]
     },
     "execution_count": 329,
     "metadata": {},
     "output_type": "execute_result"
    }
   ],
   "source": [
    "findall(' goode')"
   ]
  },
  {
   "cell_type": "code",
   "execution_count": 330,
   "metadata": {},
   "outputs": [],
   "source": [
    "dones.extend(findall(' goode'))"
   ]
  },
  {
   "cell_type": "code",
   "execution_count": 331,
   "metadata": {},
   "outputs": [
    {
     "data": {
      "text/plain": [
       "['ADEN KUN',\n",
       " 'CRAIG KUNKLE',\n",
       " 'DAVE KUNES',\n",
       " 'HOORIA KUNDI',\n",
       " 'JOHN KUNITZ',\n",
       " 'JOHN WILLIAM KUNITZ',\n",
       " 'LORNA KUNEY',\n",
       " 'TEKIN KUNT']"
      ]
     },
     "execution_count": 331,
     "metadata": {},
     "output_type": "execute_result"
    }
   ],
   "source": [
    "findall(' kun')"
   ]
  },
  {
   "cell_type": "code",
   "execution_count": 332,
   "metadata": {},
   "outputs": [
    {
     "data": {
      "text/html": [
       "<div>\n",
       "<style scoped>\n",
       "    .dataframe tbody tr th:only-of-type {\n",
       "        vertical-align: middle;\n",
       "    }\n",
       "\n",
       "    .dataframe tbody tr th {\n",
       "        vertical-align: top;\n",
       "    }\n",
       "\n",
       "    .dataframe thead th {\n",
       "        text-align: right;\n",
       "    }\n",
       "</style>\n",
       "<table border=\"1\" class=\"dataframe\">\n",
       "  <thead>\n",
       "    <tr style=\"text-align: right;\">\n",
       "      <th></th>\n",
       "      <th>cmte_id</th>\n",
       "      <th>cmte_nm</th>\n",
       "      <th>tres_nm</th>\n",
       "      <th>cmte_st1</th>\n",
       "      <th>cmte_st2</th>\n",
       "      <th>cmte_city</th>\n",
       "      <th>cmte_st</th>\n",
       "      <th>cmte_zip</th>\n",
       "      <th>cmte_dsgn</th>\n",
       "      <th>cmte_tp</th>\n",
       "      <th>cmte_pty_affiliation</th>\n",
       "      <th>cmte_filing_freq</th>\n",
       "      <th>org_tp</th>\n",
       "      <th>connected_org_nm</th>\n",
       "      <th>cand_id</th>\n",
       "      <th>orig_tres_nm</th>\n",
       "      <th>orig_cmte_st1</th>\n",
       "      <th>address</th>\n",
       "    </tr>\n",
       "  </thead>\n",
       "  <tbody>\n",
       "    <tr>\n",
       "      <td>10896</td>\n",
       "      <td>C00626093</td>\n",
       "      <td>THIRD CONGRESSIONAL DISTRICT REPUBLICAN PARTY ...</td>\n",
       "      <td>JOHN KUNITZ</td>\n",
       "      <td>PO 390722</td>\n",
       "      <td>NaN</td>\n",
       "      <td>EDINA</td>\n",
       "      <td>MN</td>\n",
       "      <td>55439</td>\n",
       "      <td>U</td>\n",
       "      <td>X</td>\n",
       "      <td>REP</td>\n",
       "      <td>Q</td>\n",
       "      <td>NaN</td>\n",
       "      <td>NONE</td>\n",
       "      <td>NaN</td>\n",
       "      <td>KUNITZ, JOHN W MR.</td>\n",
       "      <td>PO 390722</td>\n",
       "      <td>PO 390722, EDINA, MN 55439</td>\n",
       "    </tr>\n",
       "    <tr>\n",
       "      <td>15499</td>\n",
       "      <td>C00678789</td>\n",
       "      <td>CONSERVATIVES FOR AMERICA</td>\n",
       "      <td>JOHN WILLIAM KUNITZ</td>\n",
       "      <td>6441 BRETTON WAY</td>\n",
       "      <td>NaN</td>\n",
       "      <td>CHANHASSEN</td>\n",
       "      <td>MN</td>\n",
       "      <td>55317</td>\n",
       "      <td>U</td>\n",
       "      <td>X</td>\n",
       "      <td>REP</td>\n",
       "      <td>Q</td>\n",
       "      <td>NaN</td>\n",
       "      <td>NONE</td>\n",
       "      <td>NaN</td>\n",
       "      <td>KUNITZ, JOHN WILLIAM MR</td>\n",
       "      <td>6441 BRETTON WAY</td>\n",
       "      <td>6441 BRETTON WAY, CHANHASSEN, MN 55317</td>\n",
       "    </tr>\n",
       "  </tbody>\n",
       "</table>\n",
       "</div>"
      ],
      "text/plain": [
       "         cmte_id                                            cmte_nm  \\\n",
       "10896  C00626093  THIRD CONGRESSIONAL DISTRICT REPUBLICAN PARTY ...   \n",
       "15499  C00678789                          CONSERVATIVES FOR AMERICA   \n",
       "\n",
       "                   tres_nm          cmte_st1 cmte_st2   cmte_city cmte_st  \\\n",
       "10896          JOHN KUNITZ         PO 390722      NaN       EDINA      MN   \n",
       "15499  JOHN WILLIAM KUNITZ  6441 BRETTON WAY      NaN  CHANHASSEN      MN   \n",
       "\n",
       "      cmte_zip cmte_dsgn cmte_tp cmte_pty_affiliation cmte_filing_freq org_tp  \\\n",
       "10896    55439         U       X                  REP                Q    NaN   \n",
       "15499    55317         U       X                  REP                Q    NaN   \n",
       "\n",
       "      connected_org_nm cand_id             orig_tres_nm     orig_cmte_st1  \\\n",
       "10896             NONE     NaN       KUNITZ, JOHN W MR.         PO 390722   \n",
       "15499             NONE     NaN  KUNITZ, JOHN WILLIAM MR  6441 BRETTON WAY   \n",
       "\n",
       "                                      address  \n",
       "10896              PO 390722, EDINA, MN 55439  \n",
       "15499  6441 BRETTON WAY, CHANHASSEN, MN 55317  "
      ]
     },
     "execution_count": 332,
     "metadata": {},
     "output_type": "execute_result"
    }
   ],
   "source": [
    "cm[cm['tres_nm'].apply(lambda x: ('KUNITZ' in x) & ('JOHN' in x))]"
   ]
  },
  {
   "cell_type": "code",
   "execution_count": 333,
   "metadata": {},
   "outputs": [
    {
     "name": "stdout",
     "output_type": "stream",
     "text": [
      "orig len: 1\n",
      "new len: 2\n"
     ]
    }
   ],
   "source": [
    "new = 'JOHN WILLIAM KUNITZ'\n",
    "dones.append(new)\n",
    "\n",
    "these = findall(['kunitz', 'john'])\n",
    "\n",
    "getall(these, new)"
   ]
  },
  {
   "cell_type": "code",
   "execution_count": 334,
   "metadata": {},
   "outputs": [],
   "source": [
    "dones.extend(findall(' kun'))"
   ]
  },
  {
   "cell_type": "code",
   "execution_count": 335,
   "metadata": {},
   "outputs": [
    {
     "data": {
      "text/plain": [
       "[]"
      ]
     },
     "execution_count": 335,
     "metadata": {},
     "output_type": "execute_result"
    }
   ],
   "source": [
    "findall('lefko')"
   ]
  },
  {
   "cell_type": "code",
   "execution_count": 336,
   "metadata": {},
   "outputs": [
    {
     "data": {
      "text/html": [
       "<div>\n",
       "<style scoped>\n",
       "    .dataframe tbody tr th:only-of-type {\n",
       "        vertical-align: middle;\n",
       "    }\n",
       "\n",
       "    .dataframe tbody tr th {\n",
       "        vertical-align: top;\n",
       "    }\n",
       "\n",
       "    .dataframe thead th {\n",
       "        text-align: right;\n",
       "    }\n",
       "</style>\n",
       "<table border=\"1\" class=\"dataframe\">\n",
       "  <thead>\n",
       "    <tr style=\"text-align: right;\">\n",
       "      <th></th>\n",
       "      <th>cmte_id</th>\n",
       "      <th>cmte_nm</th>\n",
       "      <th>tres_nm</th>\n",
       "      <th>cmte_st1</th>\n",
       "      <th>cmte_st2</th>\n",
       "      <th>cmte_city</th>\n",
       "      <th>cmte_st</th>\n",
       "      <th>cmte_zip</th>\n",
       "      <th>cmte_dsgn</th>\n",
       "      <th>cmte_tp</th>\n",
       "      <th>cmte_pty_affiliation</th>\n",
       "      <th>cmte_filing_freq</th>\n",
       "      <th>org_tp</th>\n",
       "      <th>connected_org_nm</th>\n",
       "      <th>cand_id</th>\n",
       "      <th>orig_tres_nm</th>\n",
       "      <th>orig_cmte_st1</th>\n",
       "      <th>address</th>\n",
       "    </tr>\n",
       "  </thead>\n",
       "  <tbody>\n",
       "  </tbody>\n",
       "</table>\n",
       "</div>"
      ],
      "text/plain": [
       "Empty DataFrame\n",
       "Columns: [cmte_id, cmte_nm, tres_nm, cmte_st1, cmte_st2, cmte_city, cmte_st, cmte_zip, cmte_dsgn, cmte_tp, cmte_pty_affiliation, cmte_filing_freq, org_tp, connected_org_nm, cand_id, orig_tres_nm, orig_cmte_st1, address]\n",
       "Index: []"
      ]
     },
     "execution_count": 336,
     "metadata": {},
     "output_type": "execute_result"
    }
   ],
   "source": [
    "cm[cm['tres_nm'].apply(lambda x: 'LEFKOWITZ' in x)]"
   ]
  },
  {
   "cell_type": "code",
   "execution_count": 337,
   "metadata": {},
   "outputs": [
    {
     "name": "stdout",
     "output_type": "stream",
     "text": [
      "orig len: 0\n",
      "new len: 0\n"
     ]
    }
   ],
   "source": [
    "new = 'JON LEFKOWITZ'\n",
    "dones.append(new)\n",
    "\n",
    "these = findall('lefkowitz')\n",
    "\n",
    "getall(these, new)"
   ]
  },
  {
   "cell_type": "code",
   "execution_count": 338,
   "metadata": {},
   "outputs": [
    {
     "data": {
      "text/plain": [
       "['TIM SIFERT', 'TIMOTHY SIFERT']"
      ]
     },
     "execution_count": 338,
     "metadata": {},
     "output_type": "execute_result"
    }
   ],
   "source": [
    "findall(' sif')"
   ]
  },
  {
   "cell_type": "code",
   "execution_count": 339,
   "metadata": {},
   "outputs": [],
   "source": [
    "dones.extend(findall(' sif'))"
   ]
  },
  {
   "cell_type": "code",
   "execution_count": 340,
   "metadata": {},
   "outputs": [
    {
     "data": {
      "text/plain": [
       "['CRAIG VANDERVEER',\n",
       " 'DAWNE VANDIVER',\n",
       " 'DICK VANDER WOUDE',\n",
       " 'DIRK VANDONGEN',\n",
       " 'ELIZABETH ANN VANDERWAY',\n",
       " 'MIKE VANDERWEY',\n",
       " 'NIGEL VANDERFORD',\n",
       " 'RAY VANDRIESSCHE',\n",
       " 'SHAWN VANDIVER',\n",
       " 'WILLIAM VANDERBROOK']"
      ]
     },
     "execution_count": 340,
     "metadata": {},
     "output_type": "execute_result"
    }
   ],
   "source": [
    "findall(' vand')"
   ]
  },
  {
   "cell_type": "code",
   "execution_count": 341,
   "metadata": {},
   "outputs": [],
   "source": [
    "dones.extend(findall(' vand'))"
   ]
  },
  {
   "cell_type": "code",
   "execution_count": 342,
   "metadata": {},
   "outputs": [
    {
     "data": {
      "text/plain": [
       "[]"
      ]
     },
     "execution_count": 342,
     "metadata": {},
     "output_type": "execute_result"
    }
   ],
   "source": [
    "findall(' changkyu')"
   ]
  },
  {
   "cell_type": "code",
   "execution_count": 343,
   "metadata": {},
   "outputs": [
    {
     "name": "stdout",
     "output_type": "stream",
     "text": [
      "orig len: 0\n",
      "new len: 0\n"
     ]
    }
   ],
   "source": [
    "new = 'JASON CHANGKYU KIM'\n",
    "dones.append(new)\n",
    "\n",
    "these = findall(' changkyu')\n",
    "\n",
    "getall(these, new)"
   ]
  },
  {
   "cell_type": "code",
   "execution_count": 344,
   "metadata": {},
   "outputs": [
    {
     "data": {
      "text/plain": [
       "['ASHLEY NEWMAN']"
      ]
     },
     "execution_count": 344,
     "metadata": {},
     "output_type": "execute_result"
    }
   ],
   "source": [
    "findall(['ash', 'newman'])"
   ]
  },
  {
   "cell_type": "code",
   "execution_count": 345,
   "metadata": {},
   "outputs": [],
   "source": [
    "dones.extend(findall(['ash', 'newman']))"
   ]
  },
  {
   "cell_type": "code",
   "execution_count": 346,
   "metadata": {},
   "outputs": [
    {
     "data": {
      "text/plain": [
       "['BRETT ROGERS',\n",
       " 'CHERI ROGERS',\n",
       " 'CINNAMON ROGERS',\n",
       " 'DENNIS ROGERS',\n",
       " 'EMORY ROGERS',\n",
       " 'GEORGE ROGERS',\n",
       " 'GLEN ROGERS',\n",
       " 'GRACE ROGERS',\n",
       " 'KEVIN ROGERS',\n",
       " 'MARCIA MATHISON ROGERS',\n",
       " 'MICHAEL ROGERS',\n",
       " 'STEVEN ROGERS']"
      ]
     },
     "execution_count": 346,
     "metadata": {},
     "output_type": "execute_result"
    }
   ],
   "source": [
    "findall(' rogers')"
   ]
  },
  {
   "cell_type": "code",
   "execution_count": 347,
   "metadata": {},
   "outputs": [],
   "source": [
    "dones.extend(findall(' rogers'))"
   ]
  },
  {
   "cell_type": "code",
   "execution_count": 348,
   "metadata": {},
   "outputs": [
    {
     "data": {
      "text/plain": [
       "['CASTLEN KENNEDY',\n",
       " 'GORDON KENNEDY',\n",
       " 'JEANNE KENNEDY',\n",
       " 'JOHN FITZGERALD KENNEDY LANKSTER',\n",
       " 'KATHERINE KENNEDY',\n",
       " 'KATIE KENNEDY',\n",
       " 'KEVIN KENNEDY',\n",
       " 'MAURA KENNEDY',\n",
       " 'MICHAEL KENNEDY',\n",
       " 'RICHARD KENNEDY',\n",
       " 'ROBERT KENNEDY',\n",
       " 'SEAN KENNEDY',\n",
       " 'WARD KENNEDY']"
      ]
     },
     "execution_count": 348,
     "metadata": {},
     "output_type": "execute_result"
    }
   ],
   "source": [
    "findall(' kennedy')"
   ]
  },
  {
   "cell_type": "code",
   "execution_count": 349,
   "metadata": {},
   "outputs": [
    {
     "data": {
      "text/html": [
       "<div>\n",
       "<style scoped>\n",
       "    .dataframe tbody tr th:only-of-type {\n",
       "        vertical-align: middle;\n",
       "    }\n",
       "\n",
       "    .dataframe tbody tr th {\n",
       "        vertical-align: top;\n",
       "    }\n",
       "\n",
       "    .dataframe thead th {\n",
       "        text-align: right;\n",
       "    }\n",
       "</style>\n",
       "<table border=\"1\" class=\"dataframe\">\n",
       "  <thead>\n",
       "    <tr style=\"text-align: right;\">\n",
       "      <th></th>\n",
       "      <th>cmte_id</th>\n",
       "      <th>cmte_nm</th>\n",
       "      <th>tres_nm</th>\n",
       "      <th>cmte_st1</th>\n",
       "      <th>cmte_st2</th>\n",
       "      <th>cmte_city</th>\n",
       "      <th>cmte_st</th>\n",
       "      <th>cmte_zip</th>\n",
       "      <th>cmte_dsgn</th>\n",
       "      <th>cmte_tp</th>\n",
       "      <th>cmte_pty_affiliation</th>\n",
       "      <th>cmte_filing_freq</th>\n",
       "      <th>org_tp</th>\n",
       "      <th>connected_org_nm</th>\n",
       "      <th>cand_id</th>\n",
       "      <th>orig_tres_nm</th>\n",
       "      <th>orig_cmte_st1</th>\n",
       "      <th>address</th>\n",
       "    </tr>\n",
       "  </thead>\n",
       "  <tbody>\n",
       "  </tbody>\n",
       "</table>\n",
       "</div>"
      ],
      "text/plain": [
       "Empty DataFrame\n",
       "Columns: [cmte_id, cmte_nm, tres_nm, cmte_st1, cmte_st2, cmte_city, cmte_st, cmte_zip, cmte_dsgn, cmte_tp, cmte_pty_affiliation, cmte_filing_freq, org_tp, connected_org_nm, cand_id, orig_tres_nm, orig_cmte_st1, address]\n",
       "Index: []"
      ]
     },
     "execution_count": 349,
     "metadata": {},
     "output_type": "execute_result"
    }
   ],
   "source": [
    "cm[cm['tres_nm'].apply(lambda x: x in ['CHRIS KENNEDY', 'CHRISTOPHER KENNEDY'])]"
   ]
  },
  {
   "cell_type": "code",
   "execution_count": 350,
   "metadata": {},
   "outputs": [
    {
     "data": {
      "text/html": [
       "<div>\n",
       "<style scoped>\n",
       "    .dataframe tbody tr th:only-of-type {\n",
       "        vertical-align: middle;\n",
       "    }\n",
       "\n",
       "    .dataframe tbody tr th {\n",
       "        vertical-align: top;\n",
       "    }\n",
       "\n",
       "    .dataframe thead th {\n",
       "        text-align: right;\n",
       "    }\n",
       "</style>\n",
       "<table border=\"1\" class=\"dataframe\">\n",
       "  <thead>\n",
       "    <tr style=\"text-align: right;\">\n",
       "      <th></th>\n",
       "      <th>cmte_id</th>\n",
       "      <th>cmte_nm</th>\n",
       "      <th>tres_nm</th>\n",
       "      <th>cmte_st1</th>\n",
       "      <th>cmte_st2</th>\n",
       "      <th>cmte_city</th>\n",
       "      <th>cmte_st</th>\n",
       "      <th>cmte_zip</th>\n",
       "      <th>cmte_dsgn</th>\n",
       "      <th>cmte_tp</th>\n",
       "      <th>cmte_pty_affiliation</th>\n",
       "      <th>cmte_filing_freq</th>\n",
       "      <th>org_tp</th>\n",
       "      <th>connected_org_nm</th>\n",
       "      <th>cand_id</th>\n",
       "      <th>orig_tres_nm</th>\n",
       "      <th>orig_cmte_st1</th>\n",
       "      <th>address</th>\n",
       "    </tr>\n",
       "  </thead>\n",
       "  <tbody>\n",
       "    <tr>\n",
       "      <td>6627</td>\n",
       "      <td>C00546325</td>\n",
       "      <td>TAKING AN INDEPENDENT PERSPECTIVE TOGETHER FOR...</td>\n",
       "      <td>KATHERINE KENNEDY</td>\n",
       "      <td>2318 CURTIS ST</td>\n",
       "      <td>NaN</td>\n",
       "      <td>DENVER</td>\n",
       "      <td>CO</td>\n",
       "      <td>80205</td>\n",
       "      <td>D</td>\n",
       "      <td>N</td>\n",
       "      <td>UNK</td>\n",
       "      <td>Q</td>\n",
       "      <td>NaN</td>\n",
       "      <td>NaN</td>\n",
       "      <td>NaN</td>\n",
       "      <td>KATHERINE KENNEDY</td>\n",
       "      <td>2318 CURTIS STREET</td>\n",
       "      <td>2318 CURTIS ST, DENVER, CO 80205</td>\n",
       "    </tr>\n",
       "    <tr>\n",
       "      <td>7169</td>\n",
       "      <td>C00558759</td>\n",
       "      <td>PDC ENERGY INC PAC</td>\n",
       "      <td>KATHERINE KENNEDY</td>\n",
       "      <td>1775 SHERMAN ST</td>\n",
       "      <td>NaN</td>\n",
       "      <td>DENVER</td>\n",
       "      <td>CO</td>\n",
       "      <td>80203</td>\n",
       "      <td>U</td>\n",
       "      <td>Q</td>\n",
       "      <td>UNK</td>\n",
       "      <td>Q</td>\n",
       "      <td>C</td>\n",
       "      <td>NaN</td>\n",
       "      <td>NaN</td>\n",
       "      <td>KENNEDY, KATHERINE</td>\n",
       "      <td>1775 SHERMAN STREET SUITE 3000</td>\n",
       "      <td>1775 SHERMAN ST, DENVER, CO 80203</td>\n",
       "    </tr>\n",
       "    <tr>\n",
       "      <td>7399</td>\n",
       "      <td>C00564435</td>\n",
       "      <td>PRINCIPLED CONSERVATIVES OF COLORADO</td>\n",
       "      <td>KATIE KENNEDY</td>\n",
       "      <td>600 17TH ST</td>\n",
       "      <td>NaN</td>\n",
       "      <td>DENVER</td>\n",
       "      <td>CO</td>\n",
       "      <td>80202</td>\n",
       "      <td>U</td>\n",
       "      <td>O</td>\n",
       "      <td>UNK</td>\n",
       "      <td>Q</td>\n",
       "      <td>NaN</td>\n",
       "      <td>NaN</td>\n",
       "      <td>NaN</td>\n",
       "      <td>KATIE KENNEDY</td>\n",
       "      <td>600 17TH STREET SUITE 2800 SOUTH</td>\n",
       "      <td>600 17TH ST, DENVER, CO 80202</td>\n",
       "    </tr>\n",
       "    <tr>\n",
       "      <td>8382</td>\n",
       "      <td>C00580894</td>\n",
       "      <td>VAIL RESORTS EMPLOYEE POLITICAL ACTION COMMITTEE</td>\n",
       "      <td>KATIE KENNEDY</td>\n",
       "      <td>390 INTERLOCKEN CRESCENT</td>\n",
       "      <td>NaN</td>\n",
       "      <td>BROOMFIELD</td>\n",
       "      <td>CO</td>\n",
       "      <td>80021</td>\n",
       "      <td>U</td>\n",
       "      <td>Q</td>\n",
       "      <td>UNK</td>\n",
       "      <td>Q</td>\n",
       "      <td>C</td>\n",
       "      <td>NaN</td>\n",
       "      <td>NaN</td>\n",
       "      <td>KENNEDY, KATIE</td>\n",
       "      <td>390 INTERLOCKEN CRESCENT</td>\n",
       "      <td>390 INTERLOCKEN CRESCENT, BROOMFIELD, CO 80021</td>\n",
       "    </tr>\n",
       "    <tr>\n",
       "      <td>14698</td>\n",
       "      <td>C00670505</td>\n",
       "      <td>COMMITTEE FOR BARRINGTON</td>\n",
       "      <td>KATIE KENNEDY</td>\n",
       "      <td>745 S MILLER ST</td>\n",
       "      <td>NaN</td>\n",
       "      <td>LAKEWOOD</td>\n",
       "      <td>CO</td>\n",
       "      <td>80226</td>\n",
       "      <td>P</td>\n",
       "      <td>H</td>\n",
       "      <td>REP</td>\n",
       "      <td>Q</td>\n",
       "      <td>NaN</td>\n",
       "      <td>NONE</td>\n",
       "      <td>H8CO07094</td>\n",
       "      <td>KENNEDY, KATIE</td>\n",
       "      <td>745 S. MILLER STREET</td>\n",
       "      <td>745 S MILLER ST, LAKEWOOD, CO 80226</td>\n",
       "    </tr>\n",
       "    <tr>\n",
       "      <td>15648</td>\n",
       "      <td>C00680306</td>\n",
       "      <td>BARRIS FOR CONGRESS</td>\n",
       "      <td>KATIE KENNEDY</td>\n",
       "      <td>24853 CHRIS DR</td>\n",
       "      <td>NaN</td>\n",
       "      <td>EVERGREEN</td>\n",
       "      <td>CO</td>\n",
       "      <td>80439</td>\n",
       "      <td>P</td>\n",
       "      <td>H</td>\n",
       "      <td>LIB</td>\n",
       "      <td>Q</td>\n",
       "      <td>NaN</td>\n",
       "      <td>NONE</td>\n",
       "      <td>H8CO02269</td>\n",
       "      <td>KENNEDY, KATIE</td>\n",
       "      <td>24853 CHRIS DRIVE</td>\n",
       "      <td>24853 CHRIS DR, EVERGREEN, CO 80439</td>\n",
       "    </tr>\n",
       "    <tr>\n",
       "      <td>15864</td>\n",
       "      <td>C00682559</td>\n",
       "      <td>PROTECTING OUR CONSTITUTION</td>\n",
       "      <td>KATIE KENNEDY</td>\n",
       "      <td>5910 S UNIVERSITY BLVD C18 NO 254</td>\n",
       "      <td>NaN</td>\n",
       "      <td>GREENWOOD VILLAGE</td>\n",
       "      <td>CO</td>\n",
       "      <td>80121</td>\n",
       "      <td>U</td>\n",
       "      <td>O</td>\n",
       "      <td>UNK</td>\n",
       "      <td>Q</td>\n",
       "      <td>NaN</td>\n",
       "      <td>NONE</td>\n",
       "      <td>NaN</td>\n",
       "      <td>KENNEDY, KATIE</td>\n",
       "      <td>5910 S. UNIVERSITY BLVD C18 NO 254</td>\n",
       "      <td>5910 S UNIVERSITY BLVD C18 NO 254, GREENWOOD V...</td>\n",
       "    </tr>\n",
       "  </tbody>\n",
       "</table>\n",
       "</div>"
      ],
      "text/plain": [
       "         cmte_id                                            cmte_nm  \\\n",
       "6627   C00546325  TAKING AN INDEPENDENT PERSPECTIVE TOGETHER FOR...   \n",
       "7169   C00558759                                 PDC ENERGY INC PAC   \n",
       "7399   C00564435               PRINCIPLED CONSERVATIVES OF COLORADO   \n",
       "8382   C00580894   VAIL RESORTS EMPLOYEE POLITICAL ACTION COMMITTEE   \n",
       "14698  C00670505                           COMMITTEE FOR BARRINGTON   \n",
       "15648  C00680306                                BARRIS FOR CONGRESS   \n",
       "15864  C00682559                        PROTECTING OUR CONSTITUTION   \n",
       "\n",
       "                 tres_nm                           cmte_st1 cmte_st2  \\\n",
       "6627   KATHERINE KENNEDY                     2318 CURTIS ST      NaN   \n",
       "7169   KATHERINE KENNEDY                    1775 SHERMAN ST      NaN   \n",
       "7399       KATIE KENNEDY                        600 17TH ST      NaN   \n",
       "8382       KATIE KENNEDY           390 INTERLOCKEN CRESCENT      NaN   \n",
       "14698      KATIE KENNEDY                    745 S MILLER ST      NaN   \n",
       "15648      KATIE KENNEDY                     24853 CHRIS DR      NaN   \n",
       "15864      KATIE KENNEDY  5910 S UNIVERSITY BLVD C18 NO 254      NaN   \n",
       "\n",
       "               cmte_city cmte_st cmte_zip cmte_dsgn cmte_tp  \\\n",
       "6627              DENVER      CO    80205         D       N   \n",
       "7169              DENVER      CO    80203         U       Q   \n",
       "7399              DENVER      CO    80202         U       O   \n",
       "8382          BROOMFIELD      CO    80021         U       Q   \n",
       "14698           LAKEWOOD      CO    80226         P       H   \n",
       "15648          EVERGREEN      CO    80439         P       H   \n",
       "15864  GREENWOOD VILLAGE      CO    80121         U       O   \n",
       "\n",
       "      cmte_pty_affiliation cmte_filing_freq org_tp connected_org_nm  \\\n",
       "6627                   UNK                Q    NaN              NaN   \n",
       "7169                   UNK                Q      C              NaN   \n",
       "7399                   UNK                Q    NaN              NaN   \n",
       "8382                   UNK                Q      C              NaN   \n",
       "14698                  REP                Q    NaN             NONE   \n",
       "15648                  LIB                Q    NaN             NONE   \n",
       "15864                  UNK                Q    NaN             NONE   \n",
       "\n",
       "         cand_id        orig_tres_nm                       orig_cmte_st1  \\\n",
       "6627         NaN   KATHERINE KENNEDY                  2318 CURTIS STREET   \n",
       "7169         NaN  KENNEDY, KATHERINE      1775 SHERMAN STREET SUITE 3000   \n",
       "7399         NaN       KATIE KENNEDY    600 17TH STREET SUITE 2800 SOUTH   \n",
       "8382         NaN      KENNEDY, KATIE            390 INTERLOCKEN CRESCENT   \n",
       "14698  H8CO07094      KENNEDY, KATIE                745 S. MILLER STREET   \n",
       "15648  H8CO02269      KENNEDY, KATIE                   24853 CHRIS DRIVE   \n",
       "15864        NaN      KENNEDY, KATIE  5910 S. UNIVERSITY BLVD C18 NO 254   \n",
       "\n",
       "                                                 address  \n",
       "6627                    2318 CURTIS ST, DENVER, CO 80205  \n",
       "7169                   1775 SHERMAN ST, DENVER, CO 80203  \n",
       "7399                       600 17TH ST, DENVER, CO 80202  \n",
       "8382      390 INTERLOCKEN CRESCENT, BROOMFIELD, CO 80021  \n",
       "14698                745 S MILLER ST, LAKEWOOD, CO 80226  \n",
       "15648                24853 CHRIS DR, EVERGREEN, CO 80439  \n",
       "15864  5910 S UNIVERSITY BLVD C18 NO 254, GREENWOOD V...  "
      ]
     },
     "execution_count": 350,
     "metadata": {},
     "output_type": "execute_result"
    }
   ],
   "source": [
    "cm[cm['tres_nm'].apply(lambda x: x in ['KATIE KENNEDY', 'KATHERINE KENNEDY'])]"
   ]
  },
  {
   "cell_type": "code",
   "execution_count": 351,
   "metadata": {},
   "outputs": [
    {
     "name": "stdout",
     "output_type": "stream",
     "text": [
      "orig len: 2\n",
      "new len: 7\n"
     ]
    }
   ],
   "source": [
    "new = 'KATHERINE KENNEDY'\n",
    "dones.append(new)\n",
    "\n",
    "these = findall(['kat', 'kennedy'])\n",
    "\n",
    "getall(these, new)"
   ]
  },
  {
   "cell_type": "code",
   "execution_count": 352,
   "metadata": {},
   "outputs": [
    {
     "data": {
      "text/html": [
       "<div>\n",
       "<style scoped>\n",
       "    .dataframe tbody tr th:only-of-type {\n",
       "        vertical-align: middle;\n",
       "    }\n",
       "\n",
       "    .dataframe tbody tr th {\n",
       "        vertical-align: top;\n",
       "    }\n",
       "\n",
       "    .dataframe thead th {\n",
       "        text-align: right;\n",
       "    }\n",
       "</style>\n",
       "<table border=\"1\" class=\"dataframe\">\n",
       "  <thead>\n",
       "    <tr style=\"text-align: right;\">\n",
       "      <th></th>\n",
       "      <th>cmte_id</th>\n",
       "      <th>cmte_nm</th>\n",
       "      <th>tres_nm</th>\n",
       "      <th>cmte_st1</th>\n",
       "      <th>cmte_st2</th>\n",
       "      <th>cmte_city</th>\n",
       "      <th>cmte_st</th>\n",
       "      <th>cmte_zip</th>\n",
       "      <th>cmte_dsgn</th>\n",
       "      <th>cmte_tp</th>\n",
       "      <th>cmte_pty_affiliation</th>\n",
       "      <th>cmte_filing_freq</th>\n",
       "      <th>org_tp</th>\n",
       "      <th>connected_org_nm</th>\n",
       "      <th>cand_id</th>\n",
       "      <th>orig_tres_nm</th>\n",
       "      <th>orig_cmte_st1</th>\n",
       "      <th>address</th>\n",
       "    </tr>\n",
       "  </thead>\n",
       "  <tbody>\n",
       "    <tr>\n",
       "      <td>4648</td>\n",
       "      <td>C00477299</td>\n",
       "      <td>VMWARE, INC. POLITICAL ACTION COMMITTEE (VMWAR...</td>\n",
       "      <td>MICHAEL KENNEDY</td>\n",
       "      <td>3401 HILLVIEW AVE</td>\n",
       "      <td>NaN</td>\n",
       "      <td>PALO ALTO</td>\n",
       "      <td>CA</td>\n",
       "      <td>94304</td>\n",
       "      <td>U</td>\n",
       "      <td>Q</td>\n",
       "      <td>UNK</td>\n",
       "      <td>M</td>\n",
       "      <td>C</td>\n",
       "      <td>NaN</td>\n",
       "      <td>NaN</td>\n",
       "      <td>KENNEDY, MICHAEL</td>\n",
       "      <td>3401 HILLVIEW AVE</td>\n",
       "      <td>3401 HILLVIEW AVE, PALO ALTO, CA 94304</td>\n",
       "    </tr>\n",
       "  </tbody>\n",
       "</table>\n",
       "</div>"
      ],
      "text/plain": [
       "        cmte_id                                            cmte_nm  \\\n",
       "4648  C00477299  VMWARE, INC. POLITICAL ACTION COMMITTEE (VMWAR...   \n",
       "\n",
       "              tres_nm           cmte_st1 cmte_st2  cmte_city cmte_st cmte_zip  \\\n",
       "4648  MICHAEL KENNEDY  3401 HILLVIEW AVE      NaN  PALO ALTO      CA    94304   \n",
       "\n",
       "     cmte_dsgn cmte_tp cmte_pty_affiliation cmte_filing_freq org_tp  \\\n",
       "4648         U       Q                  UNK                M      C   \n",
       "\n",
       "     connected_org_nm cand_id      orig_tres_nm      orig_cmte_st1  \\\n",
       "4648              NaN     NaN  KENNEDY, MICHAEL  3401 HILLVIEW AVE   \n",
       "\n",
       "                                     address  \n",
       "4648  3401 HILLVIEW AVE, PALO ALTO, CA 94304  "
      ]
     },
     "execution_count": 352,
     "metadata": {},
     "output_type": "execute_result"
    }
   ],
   "source": [
    "cm[cm['tres_nm'].apply(lambda x: x in [\n",
    "    'MICHAEL KENNEDY', \n",
    "    'MICHAEL WARREN KENNEDY', \n",
    "])]"
   ]
  },
  {
   "cell_type": "code",
   "execution_count": 353,
   "metadata": {},
   "outputs": [],
   "source": [
    "dones.extend(findall(' kennedy'))"
   ]
  },
  {
   "cell_type": "code",
   "execution_count": 354,
   "metadata": {},
   "outputs": [
    {
     "data": {
      "text/plain": [
       "['MELISSA ALLEN']"
      ]
     },
     "execution_count": 354,
     "metadata": {},
     "output_type": "execute_result"
    }
   ],
   "source": [
    "findall(['mel', 'allen'])"
   ]
  },
  {
   "cell_type": "code",
   "execution_count": 355,
   "metadata": {},
   "outputs": [
    {
     "data": {
      "text/plain": [
       "['MARC HIMMELSTEIN']"
      ]
     },
     "execution_count": 355,
     "metadata": {},
     "output_type": "execute_result"
    }
   ],
   "source": [
    "findall(' himmel')"
   ]
  },
  {
   "cell_type": "code",
   "execution_count": 356,
   "metadata": {},
   "outputs": [],
   "source": [
    "dones.extend(findall(' himmel'))\n",
    "dones.extend(findall(['mel', 'allen']))"
   ]
  },
  {
   "cell_type": "code",
   "execution_count": 357,
   "metadata": {},
   "outputs": [
    {
     "data": {
      "text/plain": [
       "['ALAN REISCHE', 'ALEXANDER REISH', 'DANIEL REISTETER', 'MICHELE REISNER']"
      ]
     },
     "execution_count": 357,
     "metadata": {},
     "output_type": "execute_result"
    }
   ],
   "source": [
    "findall(' reis')"
   ]
  },
  {
   "cell_type": "code",
   "execution_count": 358,
   "metadata": {},
   "outputs": [],
   "source": [
    "dones.extend(findall(' reis'))"
   ]
  },
  {
   "cell_type": "code",
   "execution_count": 359,
   "metadata": {},
   "outputs": [
    {
     "data": {
      "text/plain": [
       "['JAMES DOZIER', 'JOSEPH DOZIER', 'JULIE DOZIER']"
      ]
     },
     "execution_count": 359,
     "metadata": {},
     "output_type": "execute_result"
    }
   ],
   "source": [
    "findall(' doz')"
   ]
  },
  {
   "cell_type": "code",
   "execution_count": 360,
   "metadata": {},
   "outputs": [],
   "source": [
    "dones.extend(findall(' doz'))"
   ]
  },
  {
   "cell_type": "code",
   "execution_count": 361,
   "metadata": {},
   "outputs": [
    {
     "data": {
      "text/plain": [
       "['ADAM ROZANSKY', 'COSTANTINO ROZZO', 'YURY ROZEL']"
      ]
     },
     "execution_count": 361,
     "metadata": {},
     "output_type": "execute_result"
    }
   ],
   "source": [
    "findall(' roz')"
   ]
  },
  {
   "cell_type": "code",
   "execution_count": 362,
   "metadata": {},
   "outputs": [],
   "source": [
    "dones.extend(findall(' roz'))"
   ]
  },
  {
   "cell_type": "code",
   "execution_count": 363,
   "metadata": {},
   "outputs": [
    {
     "data": {
      "text/plain": [
       "['ALYX PATTISON',\n",
       " 'ANDREW PATTERSON',\n",
       " 'CHRIS PATTON',\n",
       " 'JAMES PATTON',\n",
       " 'MELVIN PATTERSON',\n",
       " 'ROBERT PATTISON',\n",
       " 'STEPHEN PATTERSON',\n",
       " 'THERESA PATTARA',\n",
       " 'TOM PATTERSON']"
      ]
     },
     "execution_count": 363,
     "metadata": {},
     "output_type": "execute_result"
    }
   ],
   "source": [
    "findall(' patt')"
   ]
  },
  {
   "cell_type": "code",
   "execution_count": 364,
   "metadata": {},
   "outputs": [],
   "source": [
    "dones.extend(findall(' patt'))"
   ]
  },
  {
   "cell_type": "markdown",
   "metadata": {},
   "source": [
    "The work is never done..."
   ]
  },
  {
   "cell_type": "code",
   "execution_count": 365,
   "metadata": {},
   "outputs": [
    {
     "data": {
      "text/plain": [
       "SCOTT MACKENZIE        13\n",
       "BAILEY MORGAN          12\n",
       "DIANA SAQUELLA         12\n",
       "KATE LIND              10\n",
       "SLOANE SKINNER         10\n",
       "ALEXANDER HORNADAY     10\n",
       "EZEKIEL FREDERICK       9\n",
       "CHRISTINA SIROIS        9\n",
       "THOMAS HILTACHK         8\n",
       "THOMAS MAXWELL          8\n",
       "RUSSELL MILLER          8\n",
       "TRAVIS KABRICK          8\n",
       "DANIEL SENA             7\n",
       "CARY PETERSON           7\n",
       "GIANNI DONATES          7\n",
       "PAUL TARNAWSKI          7\n",
       "GREGORY SANBORN         6\n",
       "MARIA WOJCIECHOWSKI     6\n",
       "MEGAN MIELNIK           6\n",
       "RYAN PHILLIPS           6\n",
       "Name: tres_nm, dtype: int64"
      ]
     },
     "execution_count": 365,
     "metadata": {},
     "output_type": "execute_result"
    }
   ],
   "source": [
    "# checks which have already been deduped and does not display those\n",
    "mask = [False if cm.loc[i, 'tres_nm'] in dones else True for i in list(cm.index)]\n",
    "cm.loc[mask, 'tres_nm'].value_counts()[cm.loc[mask, 'tres_nm'].value_counts() > 1][:20]"
   ]
  },
  {
   "cell_type": "code",
   "execution_count": 366,
   "metadata": {
    "scrolled": false
   },
   "outputs": [
    {
     "name": "stdout",
     "output_type": "stream",
     "text": [
      "(cmte_nm missing)\n",
      "                     tres_nm                             address\n",
      "17010  (no treasurer listed)  PO BOX 33524, WASHINGTON, DC 20033\n",
      "8006   (no treasurer listed)                   nan, nan, nan nan\n",
      "10164  (no treasurer listed)                   nan, nan, nan nan\n",
      "10419  (no treasurer listed)                   nan, nan, nan nan\n",
      "10519  (no treasurer listed)                   nan, nan, nan nan\n",
      "12322  (no treasurer listed)                   nan, nan, nan nan\n",
      "13088  (no treasurer listed)                   nan, nan, nan nan\n",
      "13089  (no treasurer listed)                   nan, nan, nan nan\n",
      "13396  (no treasurer listed)                   nan, nan, nan nan\n",
      "\n",
      "\n",
      "COLLINS FOR CONGRESS\n",
      "                   tres_nm                                 address\n",
      "5967       CYNTHIA GIFFORD  176 SYCAMORE LANE, WAKEFIELD, RI 02879\n",
      "9766    CATHERINE ANN PAGE  3045 DARIEN PARK DR, ROSWELL, GA 30076\n",
      "5443  CARROLL BRIAN DANIEL      PO BOX 1295, GAINESVILLE, GA 30503\n",
      "5932       JOCELYN JAKUBUS          PO BOX 386, CLARENCE, NY 14031\n",
      "\n",
      "\n",
      "CLEAN WATER ACTION PROJECT\n",
      "                tres_nm                                address\n",
      "17297    SOPHIE AN AOKI       11 S 12TH ST, RICHMOND, VA 23219\n",
      "17337  SANDRA LEDBETTER  1320 18TH ST NW, WASHINGTON, DC 20003\n",
      "17296  SANDRA LEDBETTER        6 SLOANE ST, S ORANGE, NJ 07079\n",
      "17294   SOPHIE ANN AOKI      P O BOX 3361, IOWA CITY, IA 52244\n",
      "\n",
      "\n",
      "AMERICANS FOR PROSPERITY\n",
      "                     tres_nm                                    address\n",
      "18508  (no treasurer listed)  1310 N COURTHOUSE RD, ARLINGTON, VA 22201\n",
      "16997  (no treasurer listed)      2111 WILSON BLVD, ARLINGTON, VA 22201\n",
      "17086  (no treasurer listed)      2111 WILSON BLVD, ARLINGTON, VA 22201\n",
      "\n",
      "\n",
      "NATIONAL ASSOCIATION OF HOME BUILDERS\n",
      "                     tres_nm                                address\n",
      "17028  (no treasurer listed)  1201 15TH ST NW, WASHINGTON, DC 20005\n",
      "18804  (no treasurer listed)  1201 15TH ST NW, WASHINGTON, DC 20005\n",
      "17369           JERRY MALLOY  15TH & M STS NW, WASHINGTON, DC 20005\n",
      "\n",
      "\n",
      "NATIONAL COMMITTEE TO PRESERVE SOCIAL SECURITY AND MEDICARE\n",
      "                     tres_nm                             address\n",
      "18524  (no treasurer listed)    10 G ST NE, WASHINGTON, DC 20002\n",
      "17642          CHRISTINE KIM    10 G ST NE, WASHINGTON, DC 20004\n",
      "17360    JEFFREY GALGINAITIS  2000 K ST NW, WASHINGTON, DC 20006\n",
      "\n",
      "\n",
      "SUSAN B ANTHONY LIST INC\n",
      "                     tres_nm                                   address\n",
      "17557           ROBERT KANIA        1707 L ST NW, WASHINGTON, DC 20036\n",
      "18327  (no treasurer listed)  2800 SHIRLINGTON RD, ARLINGTON, VA 22206\n",
      "16984  (no treasurer listed)        A707 L ST NW, WASHINGTON, DC 20036\n",
      "\n",
      "\n",
      "NATIONAL EDUCATION ASSOCIATION\n",
      "                     tres_nm                                     address\n",
      "16976  (no treasurer listed)       1201 16TH ST NW, WASHINGTON, DC 20036\n",
      "17326         KENNETH MELLEY       1201 16TH ST NW, WASHINGTON, DC 20036\n",
      "17201            PAULA PURDY  1201 SIXTEENTH ST NW, WASHINGTON, DC 20036\n",
      "\n",
      "\n",
      "AMERICAN CONSERVATIVE UNION\n",
      "                     tres_nm                               address\n",
      "17085  (no treasurer listed)    1331 H ST NW, WASHINGTON, DC 20005\n",
      "18503  (no treasurer listed)    1331 H ST NW, WASHINGTON, DC 20005\n",
      "719          MELODIE JOHNSON  201 N UNION ST, ALEXANDRIA, VA 22314\n",
      "\n",
      "\n",
      "LATINOS FOR REFORM\n",
      "                     tres_nm                              address\n",
      "5064         ROBERT DEPOSADA  205 N BERRY LANE, MADISON, VA 22727\n",
      "18415  (no treasurer listed)   205 N BERY LANE, MADISON, VA 22727\n",
      "17031  (no treasurer listed)   PO BOX 26366, ALEXANDRIA, VA 22313\n",
      "\n",
      "\n",
      "NEVADA STATE EDUCATION ASSOCIATION\n",
      "                     tres_nm                                 address\n",
      "17338      DICK VANDER WOUDE      151 EAST PARK ST, CARSON, NV 89701\n",
      "17676       SYLVIA CLAIBORNE  3511 E HARMON AVE, LAS VEGAS, NV 89121\n",
      "18426  (no treasurer listed)  3511 E HARMON AVE, LAS VEGAS, NV 89121\n",
      "\n",
      "\n",
      "US CHAMBER OF COMMERCE\n",
      "                     tres_nm                             address\n",
      "17002  (no treasurer listed)  1615 H ST NW, WASHINGTON, DC 20062\n",
      "17529        WILLIAMS MILLER  1615 H ST NW, WASHINGTON, DC 20062\n",
      "18494  (no treasurer listed)  1615 H ST NW, WASHINGTON, DC 20062\n",
      "\n",
      "\n",
      "SIERRA CLUB\n",
      "                     tres_nm                                          address\n",
      "17244            DAVID THACK               2101 WEBSTER ST, OAKLAND, CA 94612\n",
      "16988  (no treasurer listed)  85 SECOND ST 2ND FLOOR, SAN FRANCISCO, CA 94105\n",
      "18376  (no treasurer listed)  85 SECOND ST 2ND FLOOR, SAN FRANCISCO, CA 94105\n",
      "\n",
      "\n"
     ]
    }
   ],
   "source": [
    "dupename = list(cm['cmte_nm'].value_counts()[cm['cmte_nm'].value_counts() > 2].index)\n",
    "\n",
    "for dupe in dupename:\n",
    "    lil_cm = cm.loc[cm['cmte_nm'] == dupe, [\n",
    "#         'cmte_id',\n",
    "        'tres_nm',\n",
    "        'address',\n",
    "    ]].sort_values(['address'])\n",
    "    print(dupe)\n",
    "    print(lil_cm)\n",
    "    print('\\n')"
   ]
  },
  {
   "cell_type": "code",
   "execution_count": 367,
   "metadata": {
    "scrolled": false
   },
   "outputs": [
    {
     "name": "stdout",
     "output_type": "stream",
     "text": [
      "228 S WASHINGTON ST, ALEXANDRIA, VA 22314\n",
      ",tres_nm,cmte_nm\n",
      "0,DAVID SATTERFIELD,AMERICANS FOR LAW ENFORCEMENT PAC\n",
      "1,DAVID SATTERFIELD,ARKANSAS HORIZON\n",
      "2,DAVID SATTERFIELD,BIGGS FOR CONGRESS\n",
      "3,DAVID SATTERFIELD,BUILDING INNOVATIVE GOOD GOVERNMENT SOLUTIONS PAC\n",
      "4,DAVID SATTERFIELD,CAROLINA PATRIOT ALLIANCE\n",
      "5,DAVID SATTERFIELD,COMMITTEE TO PROTECT AMERICA'S ALLIES\n",
      "6,DAVID SATTERFIELD,CONNECTICUT FIRST\n",
      "7,DAVID SATTERFIELD,CONSERVATIVE RESULTS\n",
      "8,DAVID SATTERFIELD,CONSTITUTIONAL CONSERVATIVES\n",
      "9,DAVID SATTERFIELD,EXCELLENCE IN GOVERNMENT POLITICAL ACTION COMMITTEE\n",
      "10,DAVID SATTERFIELD,FREE AT LAST PAC\n",
      "11,DAVID SATTERFIELD,FREEDOM FUND FOR AMERICA'S FUTURE INC\n",
      "12,DAVID SATTERFIELD,GRAIN AND FEED PAC\n",
      "13,DAVID SATTERFIELD,GRASSROOTS AWARENESS PAC\n",
      "14,DAVID SATTERFIELD,HOOSIER HORIZON\n",
      "15,DAVID SATTERFIELD,IN09 VICTORY FUND\n",
      "16,DAVID SATTERFIELD,JOHN CATS PAC\n",
      "17,DAVID SATTERFIELD,JOHN CATS POLITICAL ACTION COMMITTEE\n",
      "18,DAVID SATTERFIELD,KEYSTONE PRIORITIES\n",
      "19,DAVID SATTERFIELD,MACK PAC\n",
      "20,DAVID SATTERFIELD,NATIONAL HORIZON\n",
      "21,DAVID SATTERFIELD,NEW ENGLAND HOUSE VICTORY FUND\n",
      "22,DAVID SATTERFIELD,PATRIOT PROSPERITY POLITICAL ACTION COMMITTEE\n",
      "23,DAVID SATTERFIELD,POLICE ACTION FUND\n",
      "24,DAVID SATTERFIELD,REDEMPTION PAC\n",
      "25,DAVID SATTERFIELD,RJC VICTORY FUND\n",
      "26,DAVID SATTERFIELD,SAFEGUARDING AMERICAN LIBERTIES MORALS & OPPORTUNITIES NOW (SALMON) PAC\n",
      "27,DAVID SATTERFIELD,SAVE THE SENATE\n",
      "28,DAVID SATTERFIELD,STARS AND STRIPES FOREVER PAC\n",
      "29,DAVID SATTERFIELD,STATE 48 PAC\n",
      "30,DAVID SATTERFIELD,STRONGER NY PAC\n",
      "31,DAVID SATTERFIELD,SUN PAC USA\n",
      "32,DAVID SATTERFIELD,SUNSHINE SOLUTIONS\n",
      "33,DAVID SATTERFIELD,TERM LIMITS NOW POLITICAL ACTION COMMITTEE (TLN PAC)\n",
      "34,DAVID SATTERFIELD,THE AMERICAN CENTURY PAC\n",
      "35,DAVID SATTERFIELD,WINNING WOMEN\n",
      "36,FRANCIS KIRLEY,NEXION HEALTH FUND FOR QUALITY LONG TERM CARE INC\n",
      "37,GREG LAUGHLIN,FRIENDS OF TEXAS PAC\n",
      "38,JOHN DWYER,USAGAINSTALZHEIMER'S PAC\n",
      "39,KEITH DAVIS,2018 SENATORS CLASSIC COMMITTEE\n",
      "40,KEITH DAVIS,ACCOUNTABILITY PAC\n",
      "41,KEITH DAVIS,ARRINGTON VICTORY COMMITTEE\n",
      "42,KEITH DAVIS,AYOTTE MAJORITY COMMITTEE\n",
      "43,KEITH DAVIS,BUCSHON VICTORY COMMITTEE\n",
      "44,KEITH DAVIS,BULLDOG PAC\n",
      "45,KEITH DAVIS,CUT THE BULL PAC\n",
      "46,KEITH DAVIS,FISCHER VICTORY FUND\n",
      "47,KEITH DAVIS,FISCHER VICTORY FUND\n",
      "48,KEITH DAVIS,FOUNDERS COMMITTEE; THE\n",
      "49,KEITH DAVIS,FRIENDS OF HANDEL\n",
      "50,KEITH DAVIS,FRIENDS OF LEAH VUKMIR\n",
      "51,KEITH DAVIS,GA-06 NOMINEE VICTORY FUND\n",
      "52,KEITH DAVIS,HAWLEY VICTORY COMMITTEE\n",
      "53,KEITH DAVIS,HELLER VICTORY COMMITTEE\n",
      "54,KEITH DAVIS,HOUSE MAJORITY TRUST\n",
      "55,KEITH DAVIS,IMS HEALTH PAC\n",
      "56,KEITH DAVIS,ISAKSON VICTORY COMMITTEE\n",
      "57,KEITH DAVIS,ISAKSON VICTORY COMMITTEE\n",
      "58,KEITH DAVIS,KEEP THE SENATE RED 2016\n",
      "59,KEITH DAVIS,KEEP THE SENATE RED 2018\n",
      "60,KEITH DAVIS,KENNEDY VICTORY COMMITTEE\n",
      "61,KEITH DAVIS,KEYSTONE-BUCKEYE FUND\n",
      "62,KEITH DAVIS,MICHIGAN SENATE NOMINEE FUND\n",
      "63,KEITH DAVIS,MILLER VICTORY FUND\n",
      "64,KEITH DAVIS,MONDAY MEETING PAC\n",
      "65,KEITH DAVIS,MORRISEY-MILLER VICTORY FUND\n",
      "66,KEITH DAVIS,NCF-DAKOTA 2017 COMMITTEE\n",
      "67,KEITH DAVIS,NCF-DAKOTA 2018 COMMITTEE\n",
      "68,KEITH DAVIS,NRSC TARGETED STATE VICTORY COMMITTEE\n",
      "69,KEITH DAVIS,NRSC/NRCC VICTORY COMMITTEE\n",
      "70,KEITH DAVIS,TENN POLITICAL ACTION COMMITTEE INC (TENN PAC)\n",
      "71,KEITH DAVIS,TRUST PAC TEAM REPUBLICANS FOR UTILIZING SENSIBLE TACTICS\n",
      "72,KEITH DAVIS,UPTON VICTORY COMMITTEE\n",
      "73,KEITH DAVIS,UPTON VICTORY COMMITTEE\n",
      "74,KEITH DAVIS,VUKMIR VICTORY FUND\n",
      "75,KEITH DAVIS,WICKER VICTORY COMMITTEE\n",
      "76,KEITH DAVIS,WIN IN 2018\n",
      "77,KEITH DAVIS,WIN MICHIGAN FUND\n",
      "78,KEITH DAVIS,WIN WISCONSIN FUND\n",
      "79,LARRY STEINBERG,BLUEGRASS COMMITTEE\n",
      "80,LISA LISKER,AMERICANS UNITED FOR FREEDOM\n",
      "81,LISA LISKER,ARIZONA GRASSROOTS ACTION PAC\n",
      "82,LISA LISKER,BACON VICTORY FUND\n",
      "83,LISA LISKER,BOLD ACTIVE CONSERVATIVES OF NEBRASKA PAC-BACON PAC\n",
      "84,LISA LISKER,BRIDGING THE GAP\n",
      "85,LISA LISKER,BUCKEYE JOINT FUNDRAISING COMMITTEE\n",
      "86,LISA LISKER,BUILDING OUR BASE - BOB PAC\n",
      "87,LISA LISKER,BUILDING RENEWAL IN AMERICA NOW PAC\n",
      "88,LISA LISKER,CITIZENS FOR PROSPERITY IN AMERICA TODAY PAC\n",
      "89,LISA LISKER,CONCERNED AMERICANS FOR FREEDOM & OPPORTUNITY PAC (CAFO PAC)\n",
      "90,LISA LISKER,CRAPO VICTORY COMMITTEE\n",
      "91,LISA LISKER,\"CREATING OPPORTUNITIES, MARKETS AND ENTHUSIASM IN RURAL KENTUCKY PAC\"\n",
      "92,LISA LISKER,FREEDOM AND SECURITY PAC\n",
      "93,LISA LISKER,FREEDOM PROJECT; THE\n",
      "94,LISA LISKER,FRIENDS OF WINNING WOMEN 2016\n",
      "95,LISA LISKER,FRIENDS OF WINNING WOMEN 2018\n",
      "96,LISA LISKER,GARDNER VICTORY COMMITTEE\n",
      "97,LISA LISKER,GOP MAJORITY VICTORY FUND\n",
      "98,LISA LISKER,GOP WINNING WOMEN\n",
      "99,LISA LISKER,GRAHAM MAJORITY FUND\n",
      "100,LISA LISKER,GROWING REPUBLICAN ACHIEVEMENTS AND PROMOTING EXCELLENCE-GRAPE JFC\n",
      "101,LISA LISKER,HONOR AND PRINCIPLES PAC\n",
      "102,LISA LISKER,HOUSE CONSERVATIVES FUND\n",
      "103,LISA LISKER,IOWA CONGRESSIONAL MAJORITY FUND; THE\n",
      "104,LISA LISKER,JAMES-RUBIO VICTORY COMMITTEE\n",
      "105,LISA LISKER,\"JOBS, ENERGY AND OUR FOUNDING FATHERS PAC-JEFF PAC\"\n",
      "106,LISA LISKER,KATKO FOR CONGRESS\n",
      "107,LISA LISKER,KATKO VICTORY FUND\n",
      "108,LISA LISKER,KELLY REED VICTORY COMMITTEE\n",
      "109,LISA LISKER,KELLY TIBERI JFC\n",
      "110,LISA LISKER,LEAD THE FIGHT PAC\n",
      "111,LISA LISKER,LEAD THE FIGHT PAC\n",
      "112,LISA LISKER,MARKETPLACE IDEAS AND CONSERVATIVE KNOWLEDGE PAC-MICK PAC\n",
      "113,LISA LISKER,MCCONNELL VICTORY COMMITTEE\n",
      "114,LISA LISKER,MCHENRY-CURBELO LEADERSHIP FUND\n",
      "115,LISA LISKER,MILLER SPANO WEBBER VICTORY\n",
      "116,LISA LISKER,MORAN RUBIO VICTORY COMMITTEE\n",
      "117,LISA LISKER,MORE CONSERVATIVES PAC (MCPAC)\n",
      "118,LISA LISKER,NEBRASKA SANDHILLS PAC\n",
      "119,LISA LISKER,NEW PIONEERS PAC\n",
      "120,LISA LISKER,NY GOP VICTORY COMMITTEE\n",
      "121,LISA LISKER,NY GOP VICTORY COMMITTEE 2018\n",
      "122,LISA LISKER,PATRIOT DAY I 2015\n",
      "123,LISA LISKER,PATRIOT DAY III 2015\n",
      "124,LISA LISKER,PAULSEN VICTORY FUND\n",
      "125,LISA LISKER,RECLAIM AMERICA PAC\n",
      "126,LISA LISKER,RED WHITE LOU FUND\n",
      "127,LISA LISKER,RENACCI SENATE VICTORY COMMITTEE\n",
      "128,LISA LISKER,REPUBLICANS IN CONGRESS EMPOWERING AMERICA\n",
      "129,LISA LISKER,RIVALRY JOINT COMMITTEE; THE\n",
      "130,LISA LISKER,ROAD TO FREEDOM POLITICAL ACTION COMMITTEE\n",
      "131,LISA LISKER,SALT CITY PAC\n",
      "132,LISA LISKER,SC 01 VICTORY 2020\n",
      "133,LISA LISKER,SERVICE HONOR COUNTRY ACTION FUND\n",
      "134,LISA LISKER,SUPPORT TO ENSURE VICTORY EVERYWHERE PAC-STEVE PAC\n",
      "135,LISA LISKER,TEAM DUNCAN\n",
      "136,LISA LISKER,TEAM MCHENRY\n",
      "137,LISA LISKER,TENACIOUS PAC\n",
      "138,LISA LISKER,TENNEY NY VICTORY FUND\n",
      "139,LISA LISKER,TENNEY VICTORY FUND\n",
      "140,LISA LISKER,TEXAS SENATE VICTORY COMMITTEE\n",
      "141,LISA LISKER,TILLIS-NRSC COMMITTEE\n",
      "142,LISA LISKER,TOGETHER FOR OUR MAJORITY POLITICAL ACTION COMMITTEE (TOMPAC)\n",
      "143,LISA LISKER,WALDEN VICTORY FUND\n",
      "144,LISA LISKER,WEST VIRGINIA VICTORY FUND\n",
      "145,LISA LISKER,WINNING WOMEN 2018\n",
      "146,LISA LISKER,WINNING WOMEN FOR THE US SENATE\n",
      "147,LISA LISKER,WINNING WOMEN GOP ATLANTA\n",
      "148,LISA LISKER,WINNING WOMEN GOP AZ\n",
      "149,LISA LISKER,WINNING WOMEN GOP CALIFORNIA\n",
      "150,LISA LISKER,WINNING WOMEN RESTORING AMERICA\n",
      "151,LISA LISKER,WINNING WOMEN VICTORY 2018\n",
      "152,LISA LISKER,WINNING WOMEN VICTORY COMMITTEE\n",
      "153,LISA LISKER,YOUNG OPTIMISTIC USEFUL REPUBLICANS JFC\n",
      "154,LISA LISKER,ZINKE DAINES VICTORY ACCOUNT\n",
      "155,TAYLOR MOOSE,PRESCRIPTIONS FOR A STRONGER AMERICA\n",
      "\n",
      "\n",
      "\n",
      "918 PENNSYLVANIA AVE SE, WASHINGTON, DC 20003\n",
      ",tres_nm,cmte_nm\n",
      "0,AARON WATSON,BONNIE WATSON COLEMAN FOR CONGRESS\n",
      "1,AMY ECKERT,BWC - BECAUSE WOMEN CAN PAC\n",
      "2,ELLEN TAUSCHER,FEINSTEIN FOR SENATE 2024\n",
      "3,ELLEN TAUSCHER,FUND FOR THE MAJORITY PAC\n",
      "4,HALLE MAYES,GENERATION GO\n",
      "5,JUDITH ZAMORE,2018 SENATE IMPACT\n",
      "6,JUDITH ZAMORE,2020 COMMITTEE\n",
      "7,JUDITH ZAMORE,AFTAB SWING LEFT FUND 2018\n",
      "8,JUDITH ZAMORE,AMERICA WORKS FEDERAL PAC\n",
      "9,JUDITH ZAMORE,AMERICA WORKS STATE & LOCAL PAC\n",
      "10,JUDITH ZAMORE,ARIZONA NEVADA VICTORY FUND\n",
      "11,JUDITH ZAMORE,AVIATORS FOR ACTION VICTORY FUND\n",
      "12,JUDITH ZAMORE,BATTLEGROUND VICTORY FUND 2018\n",
      "13,JUDITH ZAMORE,BAY STATE FOR A MAJORITY\n",
      "14,JUDITH ZAMORE,BETSY DIRKSEN LONDRIGAN VICTORY FUND\n",
      "15,JUDITH ZAMORE,BLUE IL 18\n",
      "16,JUDITH ZAMORE,BLUE SENATE 2018\n",
      "17,JUDITH ZAMORE,BROWN WARREN VICTORY FUND\n",
      "18,JUDITH ZAMORE,CASEY WILD 2018\n",
      "19,JUDITH ZAMORE,COMMON SENSE 2018\n",
      "20,JUDITH ZAMORE,CONNECTICUT VICTORY 2018\n",
      "21,JUDITH ZAMORE,DEMOCRATIC VICTORY 2018\n",
      "22,JUDITH ZAMORE,DEMOCRATS UNITED 2018\n",
      "23,JUDITH ZAMORE,DURBIN LONDRIGAN VICTORY FUND\n",
      "24,JUDITH ZAMORE,ELECT DEMOCRATIC WOMEN\n",
      "25,JUDITH ZAMORE,FLORIDA MISSOURI VICTORY FUND\n",
      "26,JUDITH ZAMORE,FOX VALLEY VICTORY FUND\n",
      "27,JUDITH ZAMORE,GREEN SENATE IMPACT 2018\n",
      "28,JUDITH ZAMORE,GREEN SENATE IMPACT 2018\n",
      "29,JUDITH ZAMORE,HAALAND TORRES SMALL VICTORY FUND\n",
      "30,JUDITH ZAMORE,HAWAII PAC\n",
      "31,JUDITH ZAMORE,HEIDI JOE VICTORY FUND\n",
      "32,JUDITH ZAMORE,HEIDI TINA VICTORY FUND\n",
      "33,JUDITH ZAMORE,HEIDI VICTORY FUND\n",
      "34,JUDITH ZAMORE,HEINRICH CARPER VICTORY FUND\n",
      "35,JUDITH ZAMORE,HEINRICH NELSON VICTORY FUND\n",
      "36,JUDITH ZAMORE,HEINRICH TESTER VICTORY FUND\n",
      "37,JUDITH ZAMORE,HOULAHAN VICTORY FUND\n",
      "38,JUDITH ZAMORE,HOUSE VICTORY PROJECT\n",
      "39,JUDITH ZAMORE,ILLINOIS DEMOCRATS 2018\n",
      "40,JUDITH ZAMORE,IN MO MT WV VICTORY FUND\n",
      "41,JUDITH ZAMORE,JERSEY HOUSE BLUES\n",
      "42,JUDITH ZAMORE,JUSTICE 2018\n",
      "43,JUDITH ZAMORE,KAREN BASS FOR CONGRESS\n",
      "44,JUDITH ZAMORE,MA FOR A MAJORITY\n",
      "45,JUDITH ZAMORE,MA HOUSE VICTORY FUND\n",
      "46,JUDITH ZAMORE,MASSACHUSETTS WISCONSIN VICTORY FUND 2018\n",
      "47,JUDITH ZAMORE,MCCASKILL SINEMA VICTORY FUND\n",
      "48,JUDITH ZAMORE,MICHIGAN OHIO VICTORY FUND\n",
      "49,JUDITH ZAMORE,MICHIGAN WISCONSIN VICTORY FUND\n",
      "50,JUDITH ZAMORE,MIDWEST WOMEN VICTORY FUND\n",
      "51,JUDITH ZAMORE,MINNESOTA MASSACHUSETTS VICTORY FUND\n",
      "52,JUDITH ZAMORE,MINNESOTA MONTANA VICTORY FUND\n",
      "53,JUDITH ZAMORE,MISSOURI OHIO VICTORY FUND\n",
      "54,JUDITH ZAMORE,MISSOURI-MONTANA FUND\n",
      "55,JUDITH ZAMORE,MN OH PA VICTORY FUND\n",
      "56,JUDITH ZAMORE,MONTANA CONNECTICUT VICTORY\n",
      "57,JUDITH ZAMORE,MONTANA NORTH DAKOTA VICTORY FUND\n",
      "58,JUDITH ZAMORE,MONTANA PENNSYLVANIA VICTORY FUND\n",
      "59,JUDITH ZAMORE,NEW HAMPSHIRE PENNSYLVANIA VICTORY FUND\n",
      "60,JUDITH ZAMORE,NORTH JERSEY BLUE MAJORITY\n",
      "61,JUDITH ZAMORE,OHIO GRASSROOTS VICTORY FUND\n",
      "62,JUDITH ZAMORE,OHIO PENNSYLVANIA VICTORY FUND\n",
      "63,JUDITH ZAMORE,OHIO RHODE ISLAND VICTORY FUND\n",
      "64,JUDITH ZAMORE,OHIO VIRGINIA VICTORY FUND 2018\n",
      "65,JUDITH ZAMORE,PROTECT OUR SENATORS FUND\n",
      "66,JUDITH ZAMORE,PURPOSE PAC\n",
      "67,JUDITH ZAMORE,RED RIVER VALLEY VICTORY FUND\n",
      "68,JUDITH ZAMORE,RHODE ISLAND MINNESOTA VICTORY FUND\n",
      "69,JUDITH ZAMORE,RHODE ISLAND PENNSYLVANIA VICTORY FUND\n",
      "70,JUDITH ZAMORE,SECURE THE HEARTLAND FUND\n",
      "71,JUDITH ZAMORE,SECURITY 44\n",
      "72,JUDITH ZAMORE,SENATE 2018 IMPACT\n",
      "73,JUDITH ZAMORE,SENATE IMPACT 2018\n",
      "74,JUDITH ZAMORE,SENATE IMPACT 2018\n",
      "75,JUDITH ZAMORE,SENATE IMPACT IN & WI\n",
      "76,JUDITH ZAMORE,SENATE IMPACT MT & AZ\n",
      "77,JUDITH ZAMORE,SENATE IMPACT WI & ND 2018\n",
      "78,JUDITH ZAMORE,SENATE IMPACT WV & MT\n",
      "79,JUDITH ZAMORE,SENATE IMPACT: FL & NV\n",
      "80,JUDITH ZAMORE,SENATE IMPACT: IN & MT\n",
      "81,JUDITH ZAMORE,SENATE IMPACT: IN & MT 2018\n",
      "82,JUDITH ZAMORE,SENATE IMPACT: MN & NV\n",
      "83,JUDITH ZAMORE,SENATE IMPACT: MO & IN\n",
      "84,JUDITH ZAMORE,SENATE IMPACT: MO & WI\n",
      "85,JUDITH ZAMORE,SENATE IMPACT: MO & WV\n",
      "86,JUDITH ZAMORE,SENATE IMPACT: ND & WV\n",
      "87,JUDITH ZAMORE,SENATE IMPACT: TN & NV\n",
      "88,JUDITH ZAMORE,SENATE IMPACT: WI & ND\n",
      "89,JUDITH ZAMORE,SENATE VICTORY 2018\n",
      "90,JUDITH ZAMORE,SINEMA KENNEDY VICTORY FUND\n",
      "91,JUDITH ZAMORE,STABENOW WARREN VICTORY FUND\n",
      "92,JUDITH ZAMORE,STEVENS VICTORY FUND\n",
      "93,JUDITH ZAMORE,SWING LEFT NY VICTORY FUND\n",
      "94,JUDITH ZAMORE,TAKE BACK THE HOUSE COMMITTEE\n",
      "95,JUDITH ZAMORE,TEAM NEW HAMPSHIRE\n",
      "96,JUDITH ZAMORE,TEXANS FOR A PROGRESSIVE SENATE\n",
      "97,JUDITH ZAMORE,THE COLORADO WAY\n",
      "98,JUDITH ZAMORE,UPPER MIDWEST WOMEN VICTORY FUND\n",
      "99,JUDITH ZAMORE,VOTEVETS BLUE MOMENTUM WOMEN'S FUND\n",
      "100,JUDITH ZAMORE,VOTEVETS VICTORY FUND\n",
      "101,JUDITH ZAMORE,WISCONSIN MINNESOTA VICTORY FUND\n",
      "102,JUDITH ZAMORE,WISCONSIN VIRGINIA VICTORY FUND\n",
      "103,JUDITH ZAMORE,WOMEN MAKING HISTORY 2016\n",
      "104,KAREN MASCOTT,EDUCATE AND INNOVATE PAC\n",
      "105,KRISTIN SOLANDER,HEINRICH & HIRONO FOR SENATE VICTORY\n",
      "106,KRISTIN SOLANDER,HIRONO-LIEU-MENG VICTORY FUND\n",
      "107,KRISTIN SOLANDER,SERVE NY\n",
      "108,MEGAN MIELNIK,1106 FUND\n",
      "109,MEGAN MIELNIK,CHCL FUND\n",
      "110,MELISSA NISSEN,MERKLEY VICTORY FUND 2020\n",
      "111,MICHAEL SCHRUM,AMERICAN POSSIBILITIES PAC\n",
      "\n",
      "\n",
      "\n",
      "824 S MILLEDGE AVE, ATHENS, GA 30605\n",
      ",tres_nm,cmte_nm\n",
      "0,GREG MOSING,2020PAC\n",
      "1,MEGAN BROWN,INDEPENDENT LEADERSHIP PAC\n",
      "2,MEGAN BROWN,VALOR FUND\n",
      "3,MICHAEL GOODE,INDEPENDENT LEADERSHIP FUND\n",
      "4,MICHAEL GOODE,VALOR PAC\n",
      "5,PAUL KILGORE,2018 TILLIS SENATE CANDIDATE FUND\n",
      "6,PAUL KILGORE,ABRAHAM LINCOLN PAC\n",
      "7,PAUL KILGORE,AMERICA IS WORTH IT\n",
      "8,PAUL KILGORE,AMERICA'S FUTURE\n",
      "9,PAUL KILGORE,AMERICANS FOR BBQ 2017\n",
      "10,PAUL KILGORE,AMERICANS FOR BBQ 2018\n",
      "11,PAUL KILGORE,AUSTIN SCOTT VICTORY FUND\n",
      "12,PAUL KILGORE,BCY COMMITTEE\n",
      "13,PAUL KILGORE,BELIEVE AGAIN PAC\n",
      "14,PAUL KILGORE,BILL PAC\n",
      "15,PAUL KILGORE,BOST VICTORY FUND\n",
      "16,PAUL KILGORE,BUDDY PAC\n",
      "17,PAUL KILGORE,BUILDING OPPORTUNITIES FOR A STRONGER TOMORROW B.O.S.T. PAC\n",
      "18,PAUL KILGORE,CHESAPEAKE PAC\n",
      "19,PAUL KILGORE,COASTAL COMMITTEE 2017\n",
      "20,PAUL KILGORE,COFFMAN VICTORY FUND 2018\n",
      "21,PAUL KILGORE,COLLINS LEADERSHIP FUND\n",
      "22,PAUL KILGORE,CONSERVATIVE LEADERSHIP NOW PAC\n",
      "23,PAUL KILGORE,CONSERVATIVE WARCHEST PAC\n",
      "24,PAUL KILGORE,CURBELO VICTORY COMMITTEE\n",
      "25,PAUL KILGORE,CURBELO/COSTELLO LEADERSHIP COMMITTEE\n",
      "26,PAUL KILGORE,DBM PAC\n",
      "27,PAUL KILGORE,DUFFY EMMER JOINT FUNDRAISING COMMITTEE\n",
      "28,PAUL KILGORE,EMMER VICTORY COMMITTEE\n",
      "29,PAUL KILGORE,EXCELSIOR PAC\n",
      "30,PAUL KILGORE,FEDERALIST FREEDOM FUND\n",
      "31,PAUL KILGORE,FIRST IN FREEDOM PAC\n",
      "32,PAUL KILGORE,FLORIDA GEORGIA FUND\n",
      "33,PAUL KILGORE,FREEDOM PAC\n",
      "34,PAUL KILGORE,FREEDOM'S DEFENSE FUND\n",
      "35,PAUL KILGORE,FREEDOMWORKS 2017 COMMITTEE\n",
      "36,PAUL KILGORE,GEORGIA LIFE ALLIANCE ACTION FUND\n",
      "37,PAUL KILGORE,GEORGIA PAC\n",
      "38,PAUL KILGORE,GO PAC GO\n",
      "39,PAUL KILGORE,GOLDEN ISLE COMMITTEE 2017\n",
      "40,PAUL KILGORE,GROWING OUR SENATE MAJORITY\n",
      "41,PAUL KILGORE,GT FORCE\n",
      "42,PAUL KILGORE,HICE FREEDOM FUND\n",
      "43,PAUL KILGORE,HUDSON FREEDOM FUND\n",
      "44,PAUL KILGORE,IDEAL IMMIGRATION PAC\n",
      "45,PAUL KILGORE,INHOFE VICTORY COMMITTEE\n",
      "46,PAUL KILGORE,INVEST IN THE FUTURE COMMITTEE\n",
      "47,PAUL KILGORE,JAM PAC\n",
      "48,PAUL KILGORE,JOHNSON LEADS COMMITTEE\n",
      "49,PAUL KILGORE,KARIN HOUSLEY VICTORY FUND\n",
      "50,PAUL KILGORE,KINZINGER-YOPAC VICTORY FUND\n",
      "51,PAUL KILGORE,LINCOLN PAC\n",
      "52,PAUL KILGORE,MAST VICTORY COMMITTEE 2018\n",
      "53,PAUL KILGORE,MCSALLY ARIZONA VICTORY FUND\n",
      "54,PAUL KILGORE,MCSALLY SCHWEIKERT VICTORY COMMITTEE\n",
      "55,PAUL KILGORE,MCSALLY SENATE VICTORY FUND\n",
      "56,PAUL KILGORE,MCSALLY VOTER INTEGRITY FUND\n",
      "57,PAUL KILGORE,MI VICTORY 2018\n",
      "58,PAUL KILGORE,MIAMI MIRACLE PAC\n",
      "59,PAUL KILGORE,MIKE MILLER VICTORY FUND\n",
      "60,PAUL KILGORE,MILLENNIAL GOP VICTORY COMMITTEE 2017\n",
      "61,PAUL KILGORE,MISSOURI FOR GOP SENATE MAJORITY\n",
      "62,PAUL KILGORE,NEW SOLUTIONS VICTORY COMMITTEE\n",
      "63,PAUL KILGORE,NORTH CAROLINA FREEDOM FUND 2017\n",
      "64,PAUL KILGORE,PEACH PAC\n",
      "65,PAUL KILGORE,PEAKS VICTORY COMMITTEE 2018\n",
      "66,PAUL KILGORE,PONDEROSA PAC\n",
      "67,PAUL KILGORE,PRESERVE THE SENATE MAJORITY 2018\n",
      "68,PAUL KILGORE,PROTECT THE SENATE MAJORITY COMMITTEE\n",
      "69,PAUL KILGORE,PSC REDPAC\n",
      "70,PAUL KILGORE,RE-JOYCE PAC\n",
      "71,PAUL KILGORE,REAGAN HERITAGE PAC\n",
      "72,PAUL KILGORE,REBUILDING AMERICAS TRUST PAC\n",
      "73,PAUL KILGORE,REED VICTORY COMMITTEE\n",
      "74,PAUL KILGORE,SECURING THE SENATE MAJORITY COMMITTEE\n",
      "75,PAUL KILGORE,SHUSTER VICTORY FUND\n",
      "76,PAUL KILGORE,SMITH VICTORY\n",
      "77,PAUL KILGORE,SMUCKER VICTORY COMMITTEE\n",
      "78,PAUL KILGORE,STAND PAC\n",
      "79,PAUL KILGORE,STAR PAC\n",
      "80,PAUL KILGORE,STRONG AMERICA FUND\n",
      "81,PAUL KILGORE,TEAM GRAVES\n",
      "82,PAUL KILGORE,TEAM LAHOOD\n",
      "83,PAUL KILGORE,TEAM ROBY VICTORY FUND\n",
      "84,PAUL KILGORE,TEAM TELLURIDE 2017\n",
      "85,PAUL KILGORE,TEAM TELLURIDE 2019\n",
      "86,PAUL KILGORE,TEAM WOODALL\n",
      "87,PAUL KILGORE,THE BHY COMMITTEE\n",
      "88,PAUL KILGORE,THE HAWKEYE FUND\n",
      "89,PAUL KILGORE,THE MCSALLY VICTORY FUND\n",
      "90,PAUL KILGORE,THUNDERBOLT PAC\n",
      "91,PAUL KILGORE,TOM ROONEY VICTORY COMMITTEE\n",
      "92,PAUL KILGORE,TURNER VICTORY FUND\n",
      "93,PAUL KILGORE,VETERANS VICTORY FUND\n",
      "94,PAUL KILGORE,WELLS PAC\n",
      "95,PAUL KILGORE,WHAT A COUNTRY! PAC\n",
      "96,PAUL KILGORE,WIN ARIZONA FUND\n",
      "97,PAUL KILGORE,WOMEN LEADERSHIP COMMITTEE\n",
      "98,PAUL KILGORE,YOHO VICTORY FUND\n",
      "99,PAUL KILGORE,YOPAC-WHAT A COUNTRY! VICTORY FUND\n",
      "100,PAUL KILGORE,ZELDIN-LOVE VICTORY FUND 2018\n",
      "\n",
      "\n",
      "\n",
      "PO BOX 26141, ALEXANDRIA, VA 22313\n",
      ",tres_nm,cmte_nm\n",
      "0,(no treasurer listed),STAND UP REPUBLIC INC\n",
      "1,(no treasurer listed),THE SWAMP ACCOUNTABILITY PROJECT\n",
      "2,BRENDA HANKINS,BALDERSON VICTORY COMMITTEE\n",
      "3,BRENDA HANKINS,MARQUEZ PETERSON VICTORY FUND\n",
      "4,BRENDA HANKINS,PERRY SMUCKER VICTORY FUND\n",
      "5,BRENDA HANKINS,SACCONE VICTORY FUND\n",
      "6,CHRISTOPHER MARSTON,#FIXIT ACTION FUND\n",
      "7,CHRISTOPHER MARSTON,115TH FRESHMEN VICTORY\n",
      "8,CHRISTOPHER MARSTON,8TH DISTRICT REPUBLICAN COMMITTEE (VA)\n",
      "9,CHRISTOPHER MARSTON,AMERICA'S FIRST PAC\n",
      "10,CHRISTOPHER MARSTON,AMERICAN CATALOG MAILERS ASSOCIATION PAC (ACMA PAC)\n",
      "11,CHRISTOPHER MARSTON,AMERICAN ENCORE ACTION\n",
      "12,CHRISTOPHER MARSTON,AMERICAN POTENTIAL FUND\n",
      "13,CHRISTOPHER MARSTON,AMERICAN POTENTIAL PAC\n",
      "14,CHRISTOPHER MARSTON,AMERICAN UPRISING PAC\n",
      "15,CHRISTOPHER MARSTON,AMERICAN VALUES PAC INC.\n",
      "16,CHRISTOPHER MARSTON,AMIE HOEBER VICTORY FUND\n",
      "17,CHRISTOPHER MARSTON,ARIZONA MATTERS\n",
      "18,CHRISTOPHER MARSTON,BADLANDS PAC\n",
      "19,CHRISTOPHER MARSTON,BLOCKIMPEACHMENT.ORG\n",
      "20,CHRISTOPHER MARSTON,BLUM VICTORY FUND\n",
      "21,CHRISTOPHER MARSTON,BRAT VICTORY FUND\n",
      "22,CHRISTOPHER MARSTON,BUCK LEADERSHIP FUND\n",
      "23,CHRISTOPHER MARSTON,BUCKEYE BATTLE PAC\n",
      "24,CHRISTOPHER MARSTON,BUDD HARRIS VICTORY FUND\n",
      "25,CHRISTOPHER MARSTON,COALITION FOR A SAFE AMERICA\n",
      "26,CHRISTOPHER MARSTON,CONSERVATIVE ALLIANCE PAC\n",
      "27,CHRISTOPHER MARSTON,\"CONSERVATIVE, AUTHENTIC, RESPONSIVE LEADERSHIP FOR YOU AND FOR AMERICA\"\n",
      "28,CHRISTOPHER MARSTON,CONSERVATIVES FOR EFFECTIVE GOVERNMENT\n",
      "29,CHRISTOPHER MARSTON,COURAGE MAINE\n",
      "30,CHRISTOPHER MARSTON,CRAMER VICTORY FUND\n",
      "31,CHRISTOPHER MARSTON,CRAMER VICTORY FUND\n",
      "32,CHRISTOPHER MARSTON,CRAMER-HAWLEY VICTORY FUND\n",
      "33,CHRISTOPHER MARSTON,DEFEND FREEDOM\n",
      "34,CHRISTOPHER MARSTON,DEFENDING DEMOCRACY TOGETHER ACTION FUND\n",
      "35,CHRISTOPHER MARSTON,FIGHTING FOR OHIO FUND\n",
      "36,CHRISTOPHER MARSTON,FORPAC INC\n",
      "37,CHRISTOPHER MARSTON,FREEDOMWORKS VICTORY 2018\n",
      "38,CHRISTOPHER MARSTON,FRIENDS OF STEVE NEGRON\n",
      "39,CHRISTOPHER MARSTON,GARRETT VICTORY FUND\n",
      "40,CHRISTOPHER MARSTON,GFORCE\n",
      "41,CHRISTOPHER MARSTON,GIANFORTE DAINES VICTORY COMMITTEE\n",
      "42,CHRISTOPHER MARSTON,GIANFORTE VICTORY FUND\n",
      "43,CHRISTOPHER MARSTON,GO SOUTH JERSEY\n",
      "44,CHRISTOPHER MARSTON,GROWTH AND OPPORTUNITY FUND\n",
      "45,CHRISTOPHER MARSTON,HUNTER VICTORY FUND\n",
      "46,CHRISTOPHER MARSTON,INSPIRE PAC\n",
      "47,CHRISTOPHER MARSTON,JSW STEEL USA PAC (JSW USA PAC)\n",
      "48,CHRISTOPHER MARSTON,JUMP INTO ACTION FOR CONSERVATIVES TO KEEP OUR IDEAS ELEVATED PAC\n",
      "49,CHRISTOPHER MARSTON,KANSAS LEADERSHIP PAC\n",
      "50,CHRISTOPHER MARSTON,LONE STAR LIBERTY\n",
      "51,CHRISTOPHER MARSTON,MANY INDIVIDUAL CONSERVATIVES HELPING ELECT LEADERS EVERYWHERE (MICHELEPAC)\n",
      "52,CHRISTOPHER MARSTON,MARINO VICTORY FUND\n",
      "53,CHRISTOPHER MARSTON,MARLIN PAC\n",
      "54,CHRISTOPHER MARSTON,MENTAL HEALTH AWARENESS\n",
      "55,CHRISTOPHER MARSTON,MICHIGAN VICTORY FUND 2018\n",
      "56,CHRISTOPHER MARSTON,MILLENNIAL ADVOCACY COUNCIL PAC (MAC PAC)\n",
      "57,CHRISTOPHER MARSTON,MINNESOTA VICTORY FUND\n",
      "58,CHRISTOPHER MARSTON,MOUNTAIN CITY PAC\n",
      "59,CHRISTOPHER MARSTON,MOVING AMERICA'S REPUBLICANS INTO NUMBER ONE PAC\n",
      "60,CHRISTOPHER MARSTON,NEIGHBORHOOD ALLIANCE PAC\n",
      "61,CHRISTOPHER MARSTON,NEW DAWN PAC\n",
      "62,CHRISTOPHER MARSTON,NEXTGEN GOP\n",
      "63,CHRISTOPHER MARSTON,ONE VOTE\n",
      "64,CHRISTOPHER MARSTON,PA IN 18\n",
      "65,CHRISTOPHER MARSTON,PEACE THROUGH STRENGTH PAC\n",
      "66,CHRISTOPHER MARSTON,PRAYERIE PAC\n",
      "67,CHRISTOPHER MARSTON,PRESERVE AMERICA'S FUTURE\n",
      "68,CHRISTOPHER MARSTON,PROTECTUS\n",
      "69,CHRISTOPHER MARSTON,RAISE THE WALL\n",
      "70,CHRISTOPHER MARSTON,RED MAJORITY PAC\n",
      "71,CHRISTOPHER MARSTON,RED WHITE AND BLUE FUND\n",
      "72,CHRISTOPHER MARSTON,RIGGLEMAN VICTORY FUND\n",
      "73,CHRISTOPHER MARSTON,RISING TIDE\n",
      "74,CHRISTOPHER MARSTON,SOCIAL SECURITY REFORM NOW\n",
      "75,CHRISTOPHER MARSTON,STEWART VICTORY FUND\n",
      "76,CHRISTOPHER MARSTON,SUBURBAN VIRGINIA REPUBLICAN COALITION (SUV GOP)\n",
      "77,CHRISTOPHER MARSTON,TEAM CRAMER ND\n",
      "78,CHRISTOPHER MARSTON,TEAM MARSHALL\n",
      "79,CHRISTOPHER MARSTON,TEAM MARTY\n",
      "80,CHRISTOPHER MARSTON,THUNDER AND LIGHTNING FUND\n",
      "81,CHRISTOPHER MARSTON,TROOIEN FOR US SENATE\n",
      "82,CHRISTOPHER MARSTON,US NEWS NETWORK\n",
      "83,CHRISTOPHER MARSTON,VFA PAC\n",
      "84,CHRISTOPHER MARSTON,VRF\n",
      "85,CHRISTOPHER MARSTON,WALORSKI VICTORY FUND\n",
      "86,CHRISTOPHER MARSTON,WAR VETERANS FUND\n",
      "87,CHRISTOPHER MARSTON,WE STAND FOR BETTER\n",
      "88,CHRISTOPHER MARSTON,WHITE COAT WASTE PAC\n",
      "89,CHRISTOPHER MARSTON,WIN IN MONTANA\n",
      "90,CHRISTOPHER MARSTON,WITTMAN VICTORY COMMITTEE\n",
      "91,CHRISTOPHER MARSTON,WORLD MUHAJIR CONGRESS PAC\n",
      "92,MARIO LOPEZ,HISPANIC LEADERSHIP FUND ACTION\n",
      "93,RANDY HAYNIE,LOUISIANA PROSPERITY FUND\n",
      "94,RYAN CALL,REBUILDING AMERICA NOW\n",
      "\n",
      "\n",
      "\n",
      "700 13TH ST NW, WASHINGTON, DC 20005\n",
      ",tres_nm,cmte_nm\n",
      "0,(no treasurer listed),AMERICA WORKING TOGETHER\n",
      "1,(no treasurer listed),BLACK ECONOMIC ALLIANCE FUND\n",
      "2,(no treasurer listed),BLACK PROGRESSIVE ACTION COALITION\n",
      "3,(no treasurer listed),DUTY AND HONOR\n",
      "4,(no treasurer listed),MAJORITY FORWARD\n",
      "5,(no treasurer listed),MAJORITY FORWARD\n",
      "6,ABRAHAM ANTUN,NEW MILLENNIUM PAC\n",
      "7,ALIXANDRIA LAPP,HOUSE MAJORITY PAC\n",
      "8,AMY PRITCHARD,AMERIPAC: THE FUND FOR A GREATER AMERICA\n",
      "9,AMY PRITCHARD,HOYER FOR CONGRESS\n",
      "10,AMY PRITCHARD,HOYER'S MAJORITY FUND\n",
      "11,BOOTH GOODWIN,DUTY AND COUNTRY\n",
      "12,BRIAN KELLY,VICTORY IN NOVEMBER ELECTION PAC (VINEPAC)\n",
      "13,CHRIS FADEFF,NEXTGEN CALIFORNIA ACTION COMMITTEE\n",
      "14,CLAUDE ZOBELL,SEARCHLIGHT LEADERSHIP FUND\n",
      "15,DAN WOHL,PLUS3\n",
      "16,DAVID OPPENLANDER,NATIONAL RENAL ADMINISTRATORS ASSOCIATION POLITICAL ACTION COMMITTEE (NRAA-PAC)\n",
      "17,ELIS RIBEIRO,UNITY CONVENTION 2016\n",
      "18,ETHAN TODRAS-WHITEHILL,SWING LEFT\n",
      "19,FRANCES MIDDLEBERG,DEFEAT SLAVERY\n",
      "20,GEORGE COOPER,AMERICA'S CONSERVATION PAC\n",
      "21,GERALD ADOLPH,BLACK ECONOMIC ALLIANCE PAC\n",
      "22,GRACE DIAZ,OCEANS PAC\n",
      "23,HELEN MILBY,NEW DEMOCRAT COALITION PAC\n",
      "24,HELEN MILBY,NEWDEM FUTURE PROGRESS FUND\n",
      "25,IAN MUSSELMAN,CONTINENTAL AUTOMOTIVE PAC\n",
      "26,JEFFREY GREENE,SYMANTEC CORPORATION POLITICAL ACTION COMMITTEE\n",
      "27,JEN GILBERT VOSS,FORWARD FOR A BETTER FUTURE\n",
      "28,JENNIFER GONCALVES BIANCANIELLO,FIGHT BACK PAC\n",
      "29,JOHN MCWILLIAMS,\"MONEYGRAM INTERNATIONAL, INC. PAC\"\n",
      "30,JOHN PATERSON,MAKE IT WORK PAC\n",
      "31,JOHN RASKIN,FUTURE NOW FUND\n",
      "32,JUAN MARCOS VILAR,UNITED FOR PROGRESS PAC\n",
      "33,KELLY WARD,NATIONAL DEMOCRATIC REDISTRICTING PAC\n",
      "34,KIMBERLY JAMES MORGAN,GLOVER PARK GROUP LLC PAC (GLOVER PARK GROUP PAC)\n",
      "35,LAUREN KASSAN,\"REFRESH CLUB, INC./THE WING POLITICAL ACTION COMMITTEE (THE WING PAC)\"\n",
      "36,LU-SHAWN THOMPSON,IVYPAC\n",
      "37,MARCUS MASON,PROTECTING OUR VOTE PAC\n",
      "38,MARIA GARCIA BERRY,NEW CUBA PAC\n",
      "39,MICHAEL SCHMUHL,HITTING HOME PAC\n",
      "40,MICHAEL TRAPANI,THE KEYSTONE FUND\n",
      "41,NED GRANEY,\"HARMONY BIOSCIENCES, LLC PAC\"\n",
      "42,PAUL PELOSI,PAC TO THE FUTURE\n",
      "43,PRENTISS BOLIN,UNION PACIFIC CORP. FUND FOR EFFECTIVE GOVERNMENT\n",
      "44,REBECCA LAMBE,SMP\n",
      "45,RITA COPELAND,NEXTGEN CLIMATE ACTION COMMITTEE\n",
      "46,ROBERT AGHAZARIAN,COLORADANS FOR ACCOUNTABILITY\n",
      "47,ROBERT CAROLINA,GLOBAL DEMOCRATIC PAC\n",
      "48,ROBERT RABEN,EL SUPER PAC VOTO LATINO\n",
      "49,SCOTT KAUFMAN,BETTER DAYS FUND\n",
      "50,SCOTT KAUFMAN,\"JOBS, OPPORTUNITIES AND EDUCATION PAC (JOE-PAC)\"\n",
      "51,SHAUNNA THOMAS,ULTRAVIOLET PAC\n",
      "52,STACIE ES AMAN,GGNSC HOLDINGS LLC/GOLDEN HORIZONS CARE PAC\n",
      "53,STEVEN SWIG,NANCY PELOSI FOR CONGRESS\n",
      "54,SUSAN GREGORY,WINE INSTITUTE PAC\n",
      "55,SWATI MYLAVARAPU,THE ARENA PAC\n",
      "56,TIM KALTENBACH,GREAT LAKES PAC\n",
      "57,TOM DANIELS,EL PASO'S FUTURE PAC\n",
      "58,WHITNEY TYMAS,JUSTICE & PUBLIC SAFETY PAC\n",
      "59,WHITNEY TYMAS,SAFETY & JUSTICE\n",
      "60,WILLIAM HARRIS,KIDSPAC\n",
      "\n",
      "\n",
      "\n",
      "PO BOX 9891, ARLINGTON, VA 22219\n",
      ",tres_nm,cmte_nm\n",
      "0,BENJAMIN OTTENHOFF,\"ALABAMA 2017 SENATE VICTORY COMMITTEE, A JOINT FUNDRAISING COMMITTEE COMPRISED OF JUDGE ROY MOORE FOR U.S. SENATE AND THE ALABAMA REPUBLICAN PARTY\"\n",
      "1,BENJAMIN OTTENHOFF,BERGMAN VICTORY COMMITTEE\n",
      "2,BENJAMIN OTTENHOFF,BLUE COLLAR VICTORY FUND\n",
      "3,BENJAMIN OTTENHOFF,BOST VICTORY FUND\n",
      "4,BENJAMIN OTTENHOFF,BRAUN VICTORY COMMITTEE\n",
      "5,BENJAMIN OTTENHOFF,COMMON SENSE COMMON SOLUTIONS POLITICAL ACTION COMMITTEE\n",
      "6,BENJAMIN OTTENHOFF,CONSERVATIVE ACTION PAC\n",
      "7,BENJAMIN OTTENHOFF,FLORIDA WORKS\n",
      "8,BENJAMIN OTTENHOFF,FREEDOM AND FAIRNESS VIRGINIA\n",
      "9,BENJAMIN OTTENHOFF,HANDEL VICTORY FUND\n",
      "10,BENJAMIN OTTENHOFF,HAWLEY WIN FUND\n",
      "11,BENJAMIN OTTENHOFF,HELPING AMERICA'S NEXT DEDICATED ELECTED LEADERS PAC\n",
      "12,BENJAMIN OTTENHOFF,HK VICTORY 2018\n",
      "13,BENJAMIN OTTENHOFF,ILLINOIS MAJORITY FUND 2016\n",
      "14,BENJAMIN OTTENHOFF,INDIANA SENATE NOMINEE FUND\n",
      "15,BENJAMIN OTTENHOFF,INDIANA/MISSOURI VICTORY COMMITTEE\n",
      "16,BENJAMIN OTTENHOFF,KATKO VICTORY FUND\n",
      "17,BENJAMIN OTTENHOFF,LET AMERICA WORK\n",
      "18,BENJAMIN OTTENHOFF,MACARTHUR VICTORY\n",
      "19,BENJAMIN OTTENHOFF,MAJORITY IN ACTION\n",
      "20,BENJAMIN OTTENHOFF,MAJORITY VICTORY PROGRAM\n",
      "21,BENJAMIN OTTENHOFF,MARK WALKER VICTORY COMMITTEE\n",
      "22,BENJAMIN OTTENHOFF,MOUNTAIN FAMILIES PAC\n",
      "23,BENJAMIN OTTENHOFF,NRSC TARGETED STATE VICTORY FUND\n",
      "24,BENJAMIN OTTENHOFF,PATRIOT DAY I 2017\n",
      "25,BENJAMIN OTTENHOFF,PATRIOT DAY II 2017\n",
      "26,BENJAMIN OTTENHOFF,PATRIOT DAY III 2018\n",
      "27,BENJAMIN OTTENHOFF,PATRIOT DAY IV 2018\n",
      "28,BENJAMIN OTTENHOFF,PATRIOT ROUND IV 2018\n",
      "29,BENJAMIN OTTENHOFF,POLIQUIN VICTORY FUND\n",
      "30,BENJAMIN OTTENHOFF,PRIMARY PATRIOT DAY 2018\n",
      "31,BENJAMIN OTTENHOFF,REACH TO ACHIEVE\n",
      "32,BENJAMIN OTTENHOFF,ROSENDALE MAJORITY COMMITTEE\n",
      "33,BENJAMIN OTTENHOFF,STEFANIK VICTORY FUND\n",
      "34,BENJAMIN OTTENHOFF,STRANGE VICTORY COMMITTEE\n",
      "35,BENJAMIN OTTENHOFF,STRENGTHEN THE MAJORITY COMMITTEE\n",
      "36,BENJAMIN OTTENHOFF,STRENGTHEN THE SENATE MAJORITY 2018\n",
      "37,BENJAMIN OTTENHOFF,TEAM MACARTHUR\n",
      "38,BENJAMIN OTTENHOFF,THE COMMITTEE TO DEFEND THE MAJORITY\n",
      "39,BENJAMIN OTTENHOFF,THUNE VICTORY COMMITTEE\n",
      "40,BENJAMIN OTTENHOFF,WHIP IT GOOD\n",
      "41,BENJAMIN OTTENHOFF,WIN IN GEORGIA\n",
      "42,BENJAMIN OTTENHOFF,WIN MISSISSIPPI\n",
      "43,BENJAMIN OTTENHOFF,WINNING PA\n",
      "44,CALEB CROSBY,\"ADVANCED MICRO DEVICES, INC. PAC\"\n",
      "45,CALEB CROSBY,COMSTOCK VICTORY FUND\n",
      "46,DEANNA HAYES,RUSHMORE SUPERPAC\n",
      "47,JO MERLAU,INDEPENDENT VOICE FOR ILLINOIS PAC\n",
      "48,JULIE DOZIER,OHIO FIRST PAC\n",
      "49,MICHELE REISNER,DUFFY VICTORY FUND\n",
      "50,MICHELE REISNER,JUNO PAC\n",
      "51,MICHELE REISNER,TEAMPAC 2017\n",
      "52,MICHELE REISNER,TEAMPAC FALL17\n",
      "53,SALVATORE PURPURA,FLORIDA VOTES COUNT\n",
      "54,SALVATORE PURPURA,RICK SCOTT VICTORY FUND\n",
      "55,SALVATORE PURPURA,TEAM RICK SCOTT\n",
      "\n",
      "\n",
      "\n",
      "611 PENNSYLVANIA AVE SE, WASHINGTON, DC 20003\n",
      ",tres_nm,cmte_nm\n",
      "0,(no treasurer listed),CATHOLIC ADVOCATE\n",
      "1,ABE RAKOV,LET AMERICA VOTE PAC\n",
      "2,ABE RAKOV,LET AMERICA VOTE VICTORY FUND\n",
      "3,AMY GUNN,KANDER PAC\n",
      "4,BENJAMIN OTTENHOFF,HANDEL VICTORY COMMITTEE\n",
      "5,CARL OBERG,ALTERNATIVEPAC\n",
      "6,CHAUNCEY MCLEAN,FUTURE FORWARD USA PAC\n",
      "7,DAVID SILFKA,VOTE TRIPLING PAC\n",
      "8,DWIGHT DAVIDSON,LONG LEAF PINE PAC\n",
      "9,JOSEPH SAUNDERS,GOLDEN RULE PAC\n",
      "10,JOSH HENDLER,NOT WHO WE ARE PAC\n",
      "11,LAUREN DECOT LEE,ALL FOR OUR COUNTRY LAS VEGAS VICTORY FUND\n",
      "12,LAUREN DECOT LEE,ALUMNI 44 COMMITTEE\n",
      "13,LAUREN DECOT LEE,JON OSSOFF VICTORY FUND\n",
      "14,LAUREN DECOT LEE,MCGINTY VICTORY 2016\n",
      "15,LAUREN LEE,THE ARENA CANDIDATE PAC VICTORY FUND\n",
      "16,LORA HAGGARD,COMMITTEE FOR JUSTICE & FAIRNESS PAC\n",
      "17,MEGAN BRENGARTH,CRIST VICTORY FUND\n",
      "18,MEGAN BRENGARTH,DONNA SHALALA VICTORY FUND\n",
      "19,MEGAN BRENGARTH,FRONTERA VISION PAC\n",
      "20,MEGAN BRENGARTH,HOUSE VICTORY 2018\n",
      "21,MEGAN BRENGARTH,ROSEN VICTORY FUND\n",
      "22,MEGAN BRENGARTH,SOUTH FLORIDA WOMEN'S VICTORY FUND\n",
      "23,MEGAN BRENGARTH,WALLACE VICTORY FUND\n",
      "24,MICHAEL PIERSALL,A NEW PROMISE\n",
      "25,MICHELLE SHEROD,MISSOURIANS FOR ACCOUNTABILITY AND CHANGE (MACPAC)\n",
      "26,STEVEN MELE,ALL FOR OUR COUNTRY LEADERSHIP PAC\n",
      "27,STEVEN MELE,ALL FOR OUR COUNTRY VICTORY FUND\n",
      "28,STEVEN MELE,COLIN ALLRED VICTORY FUND\n",
      "29,STEVEN MELE,CORTEZ MASTO VICTORY FUND\n",
      "30,STEVEN MELE,DEMOCRATIC CONSERVATION ALLIANCE PAC\n",
      "31,STEVEN MELE,DRISKELL VICTORY FUND\n",
      "32,STEVEN MELE,GERSHON VICTORY FUND\n",
      "33,STEVEN MELE,KATHY MANNING VICTORY FUND\n",
      "34,STEVEN MELE,MCCREADY LEVIN VICTORY FUND\n",
      "35,STEVEN MELE,MCCREADY VICTORY FUND\n",
      "36,STEVEN MELE,MICHIGAN MISSOURI VICTORY FUND\n",
      "37,STEVEN MELE,MISSOURI VIRGINIA FUND\n",
      "38,STEVEN MELE,MOTOR CITY PAC\n",
      "39,STEVEN MELE,PACRONYM\n",
      "40,STEVEN MELE,PRESSLEY TRAHAN VICTORY FUND\n",
      "41,STEVEN MELE,SMART SOLUTIONS PAC\n",
      "42,STEVEN MELE,SPANBERGER VICTORY FUND\n",
      "43,STEVEN MELE,TEXAS VICTORY 2018\n",
      "44,STEVEN MELE,THE ARENA CANDIDATE PAC HOUSE VICTORY FUND\n",
      "45,STEVEN MELE,THE ARENA CANDIDATE PAC WIN FUND\n",
      "46,SUSAN JACKSON,BFB PAC\n",
      "47,SWATI MYLAVARAPU,THE ARENA CANDIDATE PAC\n",
      "\n",
      "\n",
      "\n",
      "PO BOX 30844, BETHESDA, MD 20824\n",
      ",tres_nm,cmte_nm\n",
      "0,BRENDA PEJOVICH,COMMITTEE TO PROTECT PROSPERITY AND FREE ENTERPRISE 2017\n",
      "1,BRENDA PEJOVICH,\"JOBS, ECONOMY AND BUDGET FUND (JEB FUND)\"\n",
      "2,CATHY MULLEN,EUREKA POLITICAL ACTION COMMITTEE\n",
      "3,CHRISTOPHER MARSTON,COMSTOCK VICTORY FUND 2018\n",
      "4,CHRISTOPHER MARSTON,NOVA POLITICAL ACTION COMMITTEE\n",
      "5,ETHAN ZORFAS,\"GETTING US INVOLVED NOW, TRANSITIONING AMERICA PAC (GUINTA PAC)\"\n",
      "6,FREDERIK RIEFKOHL,EQUIDAD POLITICAL ACTION COMMITTEE\n",
      "7,JILL THOMSON,CALIFORNIA VICTORY 2018\n",
      "8,JILL THOMSON,MCCARTHY VICTORY FUND\n",
      "9,JILL THOMSON,PROTECT THE HOUSE\n",
      "10,JOCELYN JAKUBUS,COLLINS VICTORY FUND\n",
      "11,JOHN POPRIK,KEYSTONE LEADERSHIP PAC\n",
      "12,JULIE HOOKS DWYER,FUTURE LEADERS POLITICAL ACTION COMMITTEE\n",
      "13,LUCYNDA RABEN,TEAM ESTES\n",
      "14,MELISSA DUBOIS,MR. SOUTHERN MISSOURIAN IN THE HOUSE PAC\n",
      "15,O'LENE STONE,LONGHORN PAC\n",
      "16,PHIL WALLER,SEMPER FI PAC\n",
      "17,ROBERT CARROLL,BRAD WENSTRUP VICTORY FUND\n",
      "18,ROBERT CARROLL,BUILDING AND RESTORING THE AMERICAN DREAM FUND\n",
      "19,STEVEN MARTIN,AD ALLIANCE\n",
      "20,STEVEN MARTIN,BRINGING AMERICA TOGETHER PAC\n",
      "21,STEVEN MARTIN,CARE AMERICA\n",
      "22,STEVEN MARTIN,CLOUD TEXAS VICTORY COMMITTEE\n",
      "23,STEVEN MARTIN,CONGRESSIONAL HOUSE REPUBLICANS IN SERVICE PAC (CHRIS PAC)\n",
      "24,STEVEN MARTIN,COOK VICTORY FUND\n",
      "25,STEVEN MARTIN,DEFEND AMERICA NOW PAC\n",
      "26,STEVEN MARTIN,FRESHMAN AGRICULTURAL REPUBLICAN MEMBERS TRUST AKA FARM TRUST\n",
      "27,STEVEN MARTIN,HEALTH FIRST COMMITTEE\n",
      "28,STEVEN MARTIN,LONE STAR LEADERSHIP PAC\n",
      "29,STEVEN MARTIN,MACARTHUR DONOVAN VICTORY FUND 2018\n",
      "30,STEVEN MARTIN,MACARTHUR-DONOVAN VICTORY FUND\n",
      "31,STEVEN MARTIN,MINNESOTA VICTORY 2018\n",
      "32,STEVEN MARTIN,PANHANDLE PAC\n",
      "33,STEVEN MARTIN,POLIQUIN COMSTOCK VICTORY FUND\n",
      "34,STEVEN MARTIN,RIGHTNOW WOMEN PAC\n",
      "35,STEVEN MARTIN,TEAM FITZ\n",
      "36,STEVEN MARTIN,TEAM GAETZ\n",
      "37,STEVEN MARTIN,WATKINS VICTORY COMMITTEE\n",
      "38,VALERIE GIRAMBERK,DAVID SCHWEIKERT FOR CONGRESS\n",
      "39,VALERIE GIRAMBERK,DEFENDING AMERICA'S VALUES EVERYWHERE (TEAM DAVE)\n",
      "40,VALERIE GIRAMBERK,SCHWEIKERT VICTORY COMMITTEE\n",
      "\n",
      "\n",
      "\n",
      "777 S FIGUEROA ST, LOS ANGELES, CA 90017\n",
      ",tres_nm,cmte_nm\n",
      "0,(no treasurer listed),HUNTINGTON BEACH RESIDENTS FOR SAFE NEIGHBORHOODS IN SUPPORT OF BILLY O'CONNELL FOR HUNTINGTON BEACH CITY COUNCIL 2018\n",
      "1,(no treasurer listed),KRC IN ACTION\n",
      "2,ALEXANDER WARREN,KATIE PORTER FOR CONGRESS\n",
      "3,ALEXANDER WARREN,PORTER VICTORY FUND\n",
      "4,ARIANNA JIMENEZ,SERVICE EMPLOYEES INTERNATIONAL UNION UNITED HEALTHCARE WORKERS WEST\n",
      "5,ASH CHOPRA,CALIFORNIANS FOR INNOVATION\n",
      "6,BARRY KLEIN,COMMITTEE FOR PROGRESSIVE VALUES\n",
      "7,BRAD GREINER,I''M NOT WITH HIM\n",
      "8,CHARLOTTE WHITE,DEMOCRATIC VICTORY FUND\n",
      "9,EDWARD KURTZ,COURAGE CAMPAIGN SUPER PAC\n",
      "10,IDA YARBROUGH,AFRICAN AMERICAN VOTER REGISTRATION EDUCATION AND PARTICIPATION PROJECT\n",
      "11,JAMIE KANTROWITZ,LOS ANGELES WOMEN'S GIVING COLLECTIVE PAC\n",
      "12,JANICE MARTIN,AFRICAN AMERICAN VOTER REGISTRATION EDUCATION AND PARTICIPATION PROJECT - FEDERAL\n",
      "13,JENNIFER JOAN GALE,CITIZENS FOR AMERICA FIRST\n",
      "14,KAREN WINGARD,LOS ANGELES COUNTY DEMOCRATIC CENTRAL COMMITTEE\n",
      "15,KEN SULZER,USA PAC - UNITED FOR A STRONG AMERICA\n",
      "16,LORI ALEXANDER,HEALTH JUSTICE PAC\n",
      "17,MATTHEW JOHNSON,FEARLESS FOR THE PEOPLE PAC\n",
      "18,MICHAEL FRAIOLI,SOUTHERN CALIFORNIA FUND\n",
      "19,MIKE LEVIN,LEVIN VICTORY FUND\n",
      "20,NATE SHUTMAN,HARDER HILL LEVIN PORTER VICTORY FUND\n",
      "21,NATE SHUTMAN,LEVIN HARDER VICTORY FUND\n",
      "22,ROBERT HERRERA,LEADERSHIP FOR TODAY AND TOMORROW\n",
      "23,SIM FARAR,PAC FOR A CHANGE\n",
      "24,STEPHEN KAUFMAN,CA BOXER/SCHIFF COMMITTEE\n",
      "25,STEPHEN KAUFMAN,SCHIFF FOR CONGRESS\n",
      "26,STEPHEN KAUFMAN,SCHIFF HOUSE VICTORY FUND\n",
      "27,STEPHEN KAUFMAN,SCHIFF LEADS PAC\n",
      "28,STEPHEN KAUFMAN,SEA CHANGE LEADERSHIP PAC\n",
      "29,STEPHEN KAUFMAN,SHERMAN FOR CONGRESS\n",
      "30,STEPHEN KAUFMAN,WOMEN'S POLITICAL COMMITTEE\n",
      "31,TINA THOMAS,KAMALA HARRIS VICTORY FUND\n",
      "32,TONY FAZIO,SENIOR VOTES COUNT\n",
      "33,TONY HALE,BLUE MOMENTUM PAC\n",
      "34,TONY HALE,CALIFORNIA CANDIDATES VICTORY FUND\n",
      "35,TONY HALE,TED LIEU FOR CONGRESS\n",
      "36,WENDY GREUEL,CALIFORNIA DEMOCRACY VENTURES FUND\n",
      "\n",
      "\n",
      "\n",
      "610 S BLVD, TAMPA, FL 33606\n",
      ",tres_nm,cmte_nm\n",
      "0,(no treasurer listed),ENDING SPENDING INC.\n",
      "1,JEFFREY CARR,\"CARDIOVASCULAR COALITION, INC. POLITICAL ACTION COMMITTEE\"\n",
      "2,MICHAEL WATKINS,PEOPLE FOR PINELLAS\n",
      "3,NANCY WATKINS,AMERICA ON THE MOVE\n",
      "4,NANCY WATKINS,AMERICAN OPPORTUNITY PAC\n",
      "5,NANCY WATKINS,AMERICAN PRINCIPLES FUND\n",
      "6,NANCY WATKINS,BARLETTA VICTORY FUND\n",
      "7,NANCY WATKINS,BUILD OUR FUTURE PAC\n",
      "8,NANCY WATKINS,CHRIS STEWART FREEDOM FUND\n",
      "9,NANCY WATKINS,CITIZENS FOR CANCER AWARENESS FEDERAL PAC\n",
      "10,NANCY WATKINS,CONSERVATIVE SOLUTIONS PAC\n",
      "11,NANCY WATKINS,COOL PAC\n",
      "12,NANCY WATKINS,DEDICATED TO ESTABLISHING NATIONAL TEAMWORK PAC (DENT PAC)\n",
      "13,NANCY WATKINS,DEFENDING DEMOCRACY FUND\n",
      "14,NANCY WATKINS,ESAFUND\n",
      "15,NANCY WATKINS,FLORIDA CONSERVATIVE FUND\n",
      "16,NANCY WATKINS,FLORIDA FIRST PROJECT\n",
      "17,NANCY WATKINS,\"FLORIDA FIRST, FLORIDA FOREVER\"\n",
      "18,NANCY WATKINS,FOUR AMIGOS JOINT COMMITTEE; THE\n",
      "19,NANCY WATKINS,JEWISH FLORIDIANS FOR AMERICA'S FUTURE\n",
      "20,NANCY WATKINS,LIBERTY AND JUSTICE FUND\n",
      "21,NANCY WATKINS,LOU VICTORY FUND\n",
      "22,NANCY WATKINS,PRESERVING AMERICA'S TRADITIONS (PATPAC)\n",
      "23,NANCY WATKINS,REFORM GOVERNMENT\n",
      "24,NANCY WATKINS,REFORM GOVERNMENT LEADERSHIP PAC\n",
      "25,NANCY WATKINS,REVIVE AMERICA PAC\n",
      "26,NANCY WATKINS,RGM ADVISORS PAC\n",
      "27,NANCY WATKINS,ROONEY FOR CONGRESS\n",
      "28,NANCY WATKINS,ROONEY VICTORY\n",
      "29,NANCY WATKINS,SEAGRASS PAC\n",
      "30,NANCY WATKINS,\"SILVER STATE PAC, INC.\"\n",
      "31,NANCY WATKINS,STRONGND PAC\n",
      "32,NANCY WATKINS,TEA PARTY PAC\n",
      "33,NANCY WATKINS,TED PAC\n",
      "34,NANCY WATKINS,THE ROSKAM VICTORY COMMITTEE\n",
      "35,NANCY WATKINS,\"VICTORY SUPER PAC, INC.\"\n",
      "36,SUE KELLY,TUESDAY GROUP POLITICAL ACTION COMMITTEE\n",
      "\n",
      "\n",
      "\n",
      "PO BOX 15320, WASHINGTON, DC 20003\n",
      ",tres_nm,cmte_nm\n",
      "0,HANK WILLIS THOMAS,FOR FREEDOMS\n",
      "1,JENNIFER MAY,84 FUND\n",
      "2,JENNIFER MAY,ACT TO MATTER\n",
      "3,JENNIFER MAY,AMERICAN INNOVATION FUND\n",
      "4,JENNIFER MAY,BLUE PENNSYLVANIA 2018\n",
      "5,JENNIFER MAY,CA LUV PAC (CALIFORNIA LEADERSHIP UNITED FOR VICTORY PAC)\n",
      "6,JENNIFER MAY,CA MAJORITY MAKERS\n",
      "7,JENNIFER MAY,COMMITTEE TO RE-ELECT LINDA SANCHEZ\n",
      "8,JENNIFER MAY,COMMON GOOD PAC\n",
      "9,JENNIFER MAY,COMMON GROUND VICTORY FUND\n",
      "10,JENNIFER MAY,DEL PAC\n",
      "11,JENNIFER MAY,DEMOCRATS RESHAPING AMERICA (DREAMPAC)\n",
      "12,JENNIFER MAY,DITCH FUND\n",
      "13,JENNIFER MAY,DOGWOOD PAC\n",
      "14,JENNIFER MAY,END UNFAIR DISTRICTS\n",
      "15,JENNIFER MAY,HEALING MICHIGAN\n",
      "16,JENNIFER MAY,INLAND EMPIRE STRIKES PAC; THE\n",
      "17,JENNIFER MAY,JOBS AND INNOVATION MATTER PAC (JIM PAC)\n",
      "18,JENNIFER MAY,JOBS UNITE LABOR AND INDUSTRY IN AMERICA PAC (JULIA PAC)\n",
      "19,JENNIFER MAY,LEVIN ROUDA VICTORY FUND\n",
      "20,JENNIFER MAY,LONGJOHN VICTORY FUND\n",
      "21,JENNIFER MAY,MGS PAC\n",
      "22,JENNIFER MAY,MI14 PAC\n",
      "23,JENNIFER MAY,MITRANO VICTORY FUND\n",
      "24,JENNIFER MAY,PROGRESSIVE MAJORITY PAC\n",
      "25,JENNIFER MAY,PUGET PAC\n",
      "26,JENNIFER MAY,ROUDA VICTORY FUND\n",
      "27,JENNIFER MAY,SUSTAINABLE ENERGY AND ENVIRONMENT COALITION PAC (SEEC PAC)\n",
      "28,JENNIFER MAY,TAKANO CALIFORNIA WAVE\n",
      "29,JENNIFER MAY,TAKANO EQUALITY WAVE\n",
      "30,JENNIFER MAY,THE COLLECTIVE PAC\n",
      "31,JENNIFER MAY,THE COLLECTIVE SUPER PAC\n",
      "32,JENNIFER MAY,TONY CARDENAS FOR CONGRESS\n",
      "33,JENNIFER MAY,WHEN DEMOCRATS TURN OUT PAC\n",
      "34,KIEL BRUNNER,PROXY VOTE\n",
      "\n",
      "\n",
      "\n"
     ]
    },
    {
     "name": "stdout",
     "output_type": "stream",
     "text": [
      "910 17TH ST NW, WASHINGTON, DC 20006\n",
      ",tres_nm,cmte_nm\n",
      "0,BRIAN FOUCART,3 AMERICAN QUESTIONS PAC\n",
      "1,BRIAN FOUCART,CASTEN VICTORY FUND\n",
      "2,BRIAN FOUCART,JR VICTORY FUND\n",
      "3,BRIAN FOUCART,NATIONAL DEMOCRATIC TRAINING COMMITTEE PAC\n",
      "4,BRIAN FOUCART,SADDLE PAC\n",
      "5,BRIAN FOUCART,STANTON VICTORY FUND 2018\n",
      "6,CORDELIA LEWIS BURKS,DONNELLY FOR INDIANA\n",
      "7,GREG LEVENSON,TURQUOISE PAC\n",
      "8,INGRID DURAN,LATINO LEADERS FOR EQUALITY GROWTH OPPORTUNITY PROGRESSIVE ACTION & CHANGE (LLEGO-PAC)\n",
      "9,JANICA KYRIACOPOULOS,ALLRED DELGADO VICTORY FUND\n",
      "10,JANICA KYRIACOPOULOS,ALLRED HAYES VICTORY FUND\n",
      "11,JANICA KYRIACOPOULOS,ASPIRE PAC\n",
      "12,JANICA KYRIACOPOULOS,BUSTOS JEFFRIES VICTORY FUND\n",
      "13,JANICA KYRIACOPOULOS,CO-6 VICTORY FUND\n",
      "14,JANICA KYRIACOPOULOS,COURAGE TO LEAD FUND\n",
      "15,JANICA KYRIACOPOULOS,DAVIDS ROSE VICTORY FUND\n",
      "16,JANICA KYRIACOPOULOS,DELGADO VICTORY FUND\n",
      "17,JANICA KYRIACOPOULOS,DONNELLY KAINE VICTORY FUND\n",
      "18,JANICA KYRIACOPOULOS,DONNELLY VICTORY FUND\n",
      "19,JANICA KYRIACOPOULOS,HEINRICH VICTORY FUND\n",
      "20,JANICA KYRIACOPOULOS,JJS VICTORY FUND\n",
      "21,JANICA KYRIACOPOULOS,\"LEADERSHIP, OPPORTUNITY, INNOVATION SERVICE PAC - LOIS PAC\"\n",
      "22,JANICA KYRIACOPOULOS,LIEU-MENG VICTORY FUND\n",
      "23,JANICA KYRIACOPOULOS,LUJAN/LOBO VICTORY FUND\n",
      "24,JANICA KYRIACOPOULOS,NEW YORK RED TO BLUE FUND\n",
      "25,JANICA KYRIACOPOULOS,REPAIR THE WORLD PAC\n",
      "26,JANICA KYRIACOPOULOS,ROSE VICTORY FUND\n",
      "27,JANICA KYRIACOPOULOS,SLOTKIN VICTORY FUND\n",
      "28,JANICA KYRIACOPOULOS,STAND FOR NEW YORK\n",
      "29,JEFFREY WEINSTOCK,TED DEUTCH FOR CONGRESS COMMITTEE\n",
      "30,JEFFREY WEINSTOCK,TOGETHER ENCOURAGING DEMOCRACY - T.E.D. PAC\n",
      "31,MARCIA DICKSTEIN SUDOLSKY,TRI-STATE MAXED-OUT WOMEN\n",
      "32,NICHOLAS FEMIA,SUPPORTING HOUSE PROBLEM SOLVERS - SHP PAC\n",
      "33,RICK GALENA,ARTICLE 1 POLITICAL ACTION COMMITTEE\n",
      "34,SAMMY KYE,AT THE TABLE!\n",
      "\n",
      "\n",
      "\n",
      "5429 MADISON AVE, SACRAMENTO, CA 95841\n",
      ",tres_nm,cmte_nm\n",
      "0,(no treasurer listed),COMMUNITIES FOR A NEW CALIFORNIA C4\n",
      "1,(no treasurer listed),COMMUNITIES FOR A NEW CALIFORNIA-FRESNO-TULARE COMMITTEE\n",
      "2,(no treasurer listed),SANDRE SWANSON FOR ASSEMBLY 2010\n",
      "3,(no treasurer listed),SHARON QUIRK-SILVA FOR ASSEMBLY 2016\n",
      "4,ABEL LEMAS,STANISLAUS COUNTY DEMOCRATIC CENTRAL COMMITTEE - FEDERAL\n",
      "5,BRUCE EDWIN DANDY,ALLIANCE FOR WATER RESOURCES FOR VENTURA COUNTY POLITICAL ACTION COMMITTEE (AWRPAC)\n",
      "6,DENISE LEWIS,AMADOR COUNTY DEMOCRATIC CENTRAL COMMITTEE\n",
      "7,DENISE LEWIS,AMMAR CAMPA FOR CONGRESS\n",
      "8,DENISE LEWIS,BUTTE COUNTY DEMOCRATIC CENTRAL COMMITTEE\n",
      "9,DENISE LEWIS,CALAVERAS COUNTY DEMOCRATIC CENTRAL COMMITTEE\n",
      "10,DENISE LEWIS,CALIFORNIA MODERATE VOICES\n",
      "11,DENISE LEWIS,CALIFORNIANS FOR A DEMOCRATIC CONGRESS\n",
      "12,DENISE LEWIS,CAPA21- FEDERAL\n",
      "13,DENISE LEWIS,DAVIS DEMOCRATIC CLUB\n",
      "14,DENISE LEWIS,DEMOCRATIC ACTION CLUB OF CHICO\n",
      "15,DENISE LEWIS,DEMOCRATIC CLUB OF SOUTHWEST RIVERSIDE COUNTY\n",
      "16,DENISE LEWIS,EL DORADO COUNTY DEMOCRATIC CENTRAL COMMITTEE\n",
      "17,DENISE LEWIS,HARRY S. TRUMAN CLUB- FEDERAL\n",
      "18,DENISE LEWIS,MIKE THOMPSON FOR CONGRESS\n",
      "19,DENISE LEWIS,OHLONE AREA UNITED DEMOCRATIC CAMPAIGN\n",
      "20,DENISE LEWIS,PLACER COUNTY DEMOCRATIC CENTRAL COMMITTEE\n",
      "21,DENISE LEWIS,REDWOOD COAST DEMOCRATS\n",
      "22,DENISE LEWIS,RIVERSIDE COUNTY DEMOCRATIC CENTRAL COMMITTEE\n",
      "23,DENISE LEWIS,SIERRA FORWARD\n",
      "24,DENISE LEWIS,YOLO COUNTY DEMOCRATIC CENTRAL COMMITTEE - FEDERAL ACCOUNT\n",
      "25,KIM RICHARD,NAPA COUNTY DEMOCRATIC CENTRAL COMMITTEE\n",
      "26,LARRY LEONARD,SONOMA COUNTY DEMOCRATIC CENTRAL COMMITTEE\n",
      "27,LUCILLE BOSS RAMIREZ,SANTA BARBARA COUNTY DEMOCRATIC CENTRAL COMMITTEE FEDERAL PAC\n",
      "28,RITA COPELAND,EL DORADO COUNTY DEMOCRATIC CAMPAIGN COALITION\n",
      "29,RITA COPELAND,FUND FOR PROGRESS PAC\n",
      "30,RITA COPELAND,REFORM THE DNC\n",
      "31,SUSAN PRICE,TEHAMA COUNTY DEMOCRATIC CENTRAL COMMITTEE\n",
      "\n",
      "\n",
      "\n",
      "PO BOX 75357, WASHINGTON, DC 20013\n",
      ",tres_nm,cmte_nm\n",
      "0,ALAN REISCHE,A NEW DIRECTION PAC\n",
      "1,BRENDA MOORE,GIVING WILLINGLY EMPOWERING NATIONALLY (GWEN) PAC\n",
      "2,DIANE EVANS,AMERICAN NETWORK OF COMMUNITY OPTIONS AND RESOURCES DISABILITY CHAMPIONS PAC\n",
      "3,DIANE EVANS,BOLD DEMOCRATS\n",
      "4,DIANE EVANS,BOLD DEMOCRATS I\n",
      "5,DIANE EVANS,BOLD DEMOCRATS II\n",
      "6,DIANE EVANS,BOLD FRONTLINE DEMOCRATS\n",
      "7,DIANE EVANS,BRYCE CAMPA-NAJJAR VICTORY FUND\n",
      "8,DIANE EVANS,CHC BOLD PAC\n",
      "9,DIANE EVANS,CONGRESSIONAL PROGRESSIVE CAUCUS PAC\n",
      "10,DIANE EVANS,FINANCIAL PLANNING ASSOCIATION POLITICAL ACTION COMMITTEE\n",
      "11,DIANE EVANS,I GOT YOUR BACK PAC\n",
      "12,DIANE EVANS,MAGGIE HASSAN GVP\n",
      "13,DIANE EVANS,MAGGIE HASSAN VICTORY FUND\n",
      "14,DIANE EVANS,NEW ECONOMY PAC\n",
      "15,DIANE EVANS,PETERS VICTORY FUND\n",
      "16,DIANE EVANS,PROSPERITY WITH ACCOUNTABILITY\n",
      "17,DIANE EVANS,WI BRYCE VICTORY FUND\n",
      "18,DON ERNST,MISSION PAC\n",
      "19,EARL JENKINS,CONGRESSIONAL BLACK CAUCUS PAC\n",
      "20,JOSEPH ONEK,FAIR JUDICIARY POLITICAL ACTION COMMITTEE\n",
      "21,MAHMOUD BARAZI,FREE SYRIA PAC\n",
      "22,NICHOLAS LEONARDI,COMMITTEE FOR MARYLAND'S PROGRESS\n",
      "23,PHIL FOGG,AMERICAN HEALTH CARE ASSOCIATION POLITICAL ACTION COMMITTEE\n",
      "24,RAFAEL LANTIGUA,SERRANO FOR CONGRESS\n",
      "25,RICK HEGDAHL,VOTEVETS\n",
      "\n",
      "\n",
      "\n",
      "555 CAPITOL MALL, SACRAMENTO, CA 95814\n",
      ",tres_nm,cmte_nm\n",
      "0,(no treasurer listed),\"ALAMEDANS UNITED SUPPORTING VELLA AND ASHCRAFT FOR CITY COUNCIL, ET AL\"\n",
      "1,(no treasurer listed),GOLDEN CALIFORNIA COMMITTEE SPONSORED BY THE SEIU CALIFORNIA STATE COUNCIL\n",
      "2,(no treasurer listed),OPPORTUNITY PAC - A COALITION OF TEACHERS HEALTH CARE GIVERS FACULTY MEMBERS SCHOOL EMPLOYEES AND PUBLIC AND PR\n",
      "3,(no treasurer listed),PLANNED PARENTHOOD ADVOCACY PROJECT LOS ANGELES COUNTY\n",
      "4,(no treasurer listed),PLANNED PARENTHOOD AFFILIATES OF CALIF\n",
      "5,ALISSA KO,\"PROTECTING CHOICE IN CALIFORNIA, A PROJECT OF PLANNED PARENTHOOD AFFILIATES OF CALIFORNIA\"\n",
      "6,ART PULASKI,\"COMMITTEE FOR WORKING FAMILIES, SPONSORED BY THE CALIFORNIA LABOR FEDERATION, AFL-CIO\"\n",
      "7,ART PULASKI,\"MILLION MORE VOTERS, SPONSORED BY THE CALIFORNIA LABOR FEDERATION, AFL-CIO\"\n",
      "8,BENJAMIN CARDENAS,NAPOLITANO FOR CONGRESS\n",
      "9,BILL MACKEY,GRANITE CONSTRUCTION INC. EMPLOYEE PAC - GRANITEPAC\n",
      "10,BUD DOUGHERTY,CALIFORNIA SCHOOL EMPLOYEES ASSOCIATION\n",
      "11,DAVE LOW,\"PACE OF CALIFORNIA SCHOOL EMPLOYEES ASSOCIATION - LOCAL, STATE, FEDERAL CANDIDATES\"\n",
      "12,DAVID YOUNG,\"WRITERS GUILD OF AMERICA WEST, INC. PAC (WGAW PAC)\"\n",
      "13,JOANNE PARISE,WE VOTE - NOSOTROS VOTAMOS - PPAMM COMMITTEE\n",
      "14,LINDSEY HARMON,NEVADA ADVOCATES FOR PLANNED PARENTHOOD AFFILIATES PAC (NAPPA PAC)\n",
      "15,MARK SHEAHAN,PROFESSIONAL ENGINEERS IN CALIFORNIA GOVERNMENT FEDERAL PAC (PECG FED-PAC)\n",
      "16,MARY MCMILLAN,ANNA ESHOO FOR CONGRESS\n",
      "17,MICHAEL LAYTON,SOUTHERN CALIFORNIA PIPE TRADES DISTRICT COUNCIL 16 FEDERAL PAC\n",
      "18,MICHAEL REDARD,PLANNED PARENTHOOD ADVOCACY PROJECT LOS ANGELES COUNTY ACTION FUND\n",
      "19,MIKE LEVIN,MIKE LEVIN FOR CONGRESS\n",
      "20,MONA SONNENSHEIN,PLANNED PARENTHOOD ACTION FUND OF THE PACIFIC SOUTHWEST PAC\n",
      "21,NABIL EL-GHOROURY,CALIFORNIA ASSOCIATION OF MARRIAGE & FAMILY THERAPISTS PAC\n",
      "22,RANDY THORNHILL,SOUTHWEST REGIONAL COUNCIL OF CARPENTERS LEGISLATIVE IMPROVEMENT CMTE UNITED BROTHERHOOD OF CARPENTERS & JOINERS OF AMERICA\n",
      "23,RIKO MENDEZ,SERVICE EMPLOYEES INTERNATIONAL UNION LOCAL 521 INDEPENDENT EXPENDITURE COMMITTEE\n",
      "24,STEVE CROUCH,INTERNATIONAL UNION OF OPERATING ENGINEERS STATIONARY ENGINEERS LOCAL 39 FEDERAL PAC\n",
      "25,VIMAL NANAVATI,CALIFORNIA MEDICAL ASSOCIATION POLITICAL ACTION COMMITTEE - FEDERAL\n",
      "\n",
      "\n",
      "\n",
      "901 N WASHINGTON ST, ALEXANDRIA, VA 22314\n",
      ",tres_nm,cmte_nm\n",
      "0,ANTHONY HOLM,SPEAK OUT FOR AMERICA PAC\n",
      "1,MARK BLOCK,RESTORING AMERICA'S TRADITIONS PAC (RATPAC)\n",
      "2,THEODORE KOCH,ANN MARIE PAC\n",
      "3,THEODORE KOCH,COLLINS VICTORY COMMITTEE\n",
      "4,THEODORE KOCH,COMMON SENSE WOMEN\n",
      "5,THEODORE KOCH,KELLY PAC\n",
      "6,THEODORE KOCH,REPUBLICAN MAJORITY FUND\n",
      "7,THEODORE KOCH,SANTORUM PATRIOT VOICES FUND\n",
      "8,TIMOTHY KOCH,2018 REPUBLICAN CHALLENGERS FUND (2018 RCF)\n",
      "9,TIMOTHY KOCH,2018 REPUBLICAN CHALLENGERS FUND II\n",
      "10,TIMOTHY KOCH,BARRASSO FISCHER VICTORY FUND\n",
      "11,TIMOTHY KOCH,BARRASSO HELLER VICTORY FUND\n",
      "12,TIMOTHY KOCH,BARRASSO VICTORY COMMITTEE\n",
      "13,TIMOTHY KOCH,BOOZMAN VICTORY 2016\n",
      "14,TIMOTHY KOCH,COMMON VALUES PAC\n",
      "15,TIMOTHY KOCH,DESANTIS VICTORY COMMITTEE\n",
      "16,TIMOTHY KOCH,FIRST PRINCIPLES FUND\n",
      "17,TIMOTHY KOCH,INHOFE MULLIN VICTORY FUND\n",
      "18,TIMOTHY KOCH,INHOFE VICTORY COMMITTEE 2020\n",
      "19,TIMOTHY KOCH,TRUE NORTH PAC\n",
      "20,TIMOTHY KOCH,WINSOME LEADERS I\n",
      "21,TIMOTHY KOCH,WINSOME LEADERS II\n",
      "22,TIMOTHY KOCH,YODER KANSAS VICTORY FUND\n",
      "23,TIMOTHY KOCH,YODER VICTORY FUND\n",
      "\n",
      "\n",
      "\n",
      "499 SOUTH CAPITOL ST SW, WASHINGTON, DC 20003\n",
      ",tres_nm,cmte_nm\n",
      "0,JOHN CLYBURN,BUILDING RELATIONSHIPS IN DIVERSE GEOGRAPHIC ENVIRONMENTS PAC (BRIDGE PAC)\n",
      "1,LINDSAY ANGERHOLZER,THE US CAMPAIGN FUND\n",
      "2,PAUL KIRCHNER,AMERICAN PILOTS' ASSOCIATION POLITICAL ACTION COMMITTEE\n",
      "3,RANDALL BROZ,EDPAC\n",
      "4,RANDALL BROZ,WHO DAT PAC\n",
      "5,THOMAS DATWYLER,ABOVE POLITICS\n",
      "6,THOMAS DATWYLER,BISHOP HUIZENGA WALBERG VICTORY COMMITTEE\n",
      "7,THOMAS DATWYLER,BUILDING NEW MEXICO\n",
      "8,THOMAS DATWYLER,DAVIDSON VICTORY FUND\n",
      "9,THOMAS DATWYLER,DRAIN THE SWAMP OHIO\n",
      "10,THOMAS DATWYLER,FIGHTING FOR CALIFORNIA\n",
      "11,THOMAS DATWYLER,FLIGHT PATH AMERICA PAC\n",
      "12,THOMAS DATWYLER,GEM PAC\n",
      "13,THOMAS DATWYLER,LEAD ENCOURAGE ELECT PAC\n",
      "14,THOMAS DATWYLER,LIBERTY OHIO ACTION FUND\n",
      "15,THOMAS DATWYLER,ON AZIMUTH PAC\n",
      "16,THOMAS DATWYLER,POLIQUIN VICTORY FUND\n",
      "17,THOMAS DATWYLER,PROTECTING ARIZONA\n",
      "18,THOMAS DATWYLER,RED TIDE PAC\n",
      "19,THOMAS DATWYLER,RODNEY DAVIS VICTORY FUND\n",
      "20,THOMAS DATWYLER,RODNEY ILLINOIS VICTORY FUND\n",
      "21,THOMAS DATWYLER,SAVE OUR FUTURE PAC\n",
      "22,THOMAS DATWYLER,YUGE PAC\n",
      "23,THOMAS DATWYLER,YUGE POLITICAL ACTION COMMITTEE\n",
      "\n",
      "\n",
      "\n",
      "120 MARYLAND AVE NE, WASHINGTON, DC 20002\n",
      ",tres_nm,cmte_nm\n",
      "0,ALLISON WRIGHT,DSCC\n",
      "1,LAURA MATTHEWS,CALIFORNIA SENATE VICTORY 2018\n",
      "2,LAURA MATTHEWS,FLORIDA SENATE 2016\n",
      "3,LAURA MATTHEWS,FLORIDA SENATE RECOUNT 2018\n",
      "4,LAURA MATTHEWS,HOUSE SENATE VICTORY FUND\n",
      "5,LAURA MATTHEWS,MASSACHUSETTS SENATE VICTORY 2018\n",
      "6,LAURA MATTHEWS,MCCASKILL 2018 VICTORY\n",
      "7,LAURA MATTHEWS,MCCASKILL SENATE VICTORY 2018\n",
      "8,LAURA MATTHEWS,MICHIGAN SENATE VICTORY 2018\n",
      "9,LAURA MATTHEWS,MINNESOTA SENATE VICTORY 2018\n",
      "10,LAURA MATTHEWS,NEVADA LEGACY FUND\n",
      "11,LAURA MATTHEWS,NEVADA SENATE VICTORY 2018\n",
      "12,LAURA MATTHEWS,NEW MEXICO SENATE VICTORY 2018\n",
      "13,LAURA MATTHEWS,OHIO 2018 VICTORY\n",
      "14,LAURA MATTHEWS,OHIO SENATE VICTORY 2018\n",
      "15,LAURA MATTHEWS,PENNSYLVANIA SENATE VICTORY 2018\n",
      "16,LAURA MATTHEWS,RHODE ISLAND SENATE VICTORY 2018\n",
      "17,LAURA MATTHEWS,SENATE IMPACT: FLORIDA\n",
      "18,LAURA MATTHEWS,VIRGINIA SENATE VICTORY 2018\n",
      "19,LAURA MATTHEWS,WISCONSIN SENATE VICTORY 2018\n",
      "20,LAURA MATTHEWS,WOMEN ON THE ROAD 2018\n",
      "21,LAURA MATTHEWS,WOMEN ON THE ROAD CALIFORNIA 2018\n",
      "22,LAURA MATTHEWS,WOMEN ON THE ROAD SEATTLE 2018\n",
      "23,YATES BAROODY,GRASSROOTS VICTORY FUND 2016\n",
      "\n",
      "\n",
      "\n",
      "249 E OCEAN BLVD, LONG BEACH, CA 90802\n",
      ",tres_nm,cmte_nm\n",
      "0,ALICA GALLAGHER,TAKE A SEAT AMERICA\n",
      "1,CAROL ROBB,SAN BERNARDINO COUNTY DEMOCRATIC CENTRAL COMMITTEE\n",
      "2,DAVID GOULD,CALIFORNIA ARMENIAN AMERICAN DEMOCRATS\n",
      "3,DAVID GOULD,CALIFORNIA YOUNG DEMOCRATS FED PAC\n",
      "4,DAVID GOULD,CANADA CRESCENTA DEMOCRATIC CLUB\n",
      "5,DAVID GOULD,CITIZENS FOR WATERS\n",
      "6,DAVID GOULD,DEMOCRATIC CLUB OF THE PASADENA FOOTHILLS\n",
      "7,DAVID GOULD,DEMOCRATIC PARTY OF ORANGE COUNTY FED PAC\n",
      "8,DAVID GOULD,DEMOCRATIC PARTY OF THE SAN FERNANDO VALLEY\n",
      "9,DAVID GOULD,DEMOCRATS FOR ISRAEL\n",
      "10,DAVID GOULD,GLENDALE DEMOCRATIC CLUB\n",
      "11,DAVID GOULD,GOLDEN STATE POLITICAL ACTION COMMITTEE\n",
      "12,DAVID GOULD,MIND MATTERS FEDERAL PAC\n",
      "13,DAVID GOULD,NEW VOTER PAC\n",
      "14,DAVID GOULD,ORANGE COUNTY VICTORY FUND\n",
      "15,DAVID GOULD,ORANGE COUNTY YOUNG DEMOCRATS FEDERAL\n",
      "16,DAVID GOULD,PASADENA AREA UNITED DEMOCRATIC HEADQUARTERS\n",
      "17,DAVID GOULD,PEOPLE HELPING PEOPLE\n",
      "18,DAVID GOULD,STONEWALL DEMOCRATIC CLUB FED PAC\n",
      "19,DAVID GOULD,WEST LOS ANGELES HEALTH PAC - FEDERAL\n",
      "20,DAVID GOULD,WESTSIDE DEMOCRATIC HQ FEDERAL\n",
      "21,SARAH RASCON,NORTHEAST DEMOCRATIC CLUB\n",
      "\n",
      "\n",
      "\n",
      "PO BOX 2485, SPRINGFIELD, VA 22152\n",
      ",tres_nm,cmte_nm\n",
      "0,GAUTAM SAMADDER,ASSOCIATION OF PHYSICIANS OF INDIAN ORIGIN POLITICAL ACTION COMMITTEE\n",
      "1,JOE GRANDY,HEALTHCARE FREEDOM FUND\n",
      "2,ROBERT CARLIN,BRADY CURBELO TIBERI VICTORY 2017\n",
      "3,ROBERT CARLIN,CATHY MCMORRIS RODGERS VICTORY FUND\n",
      "4,ROBERT CARLIN,CAVPAC\n",
      "5,ROBERT CARLIN,CMR POLITICAL ACTION COMMITTEE\n",
      "6,ROBERT CARLIN,COME BACK POLITICAL ACTION COMMITTEE\n",
      "7,ROBERT CARLIN,GIVING US SECURITY POLITICAL ACTION COMMITTEE (GUS PAC)\n",
      "8,ROBERT CARLIN,HUIZENGA VICTORY FUND\n",
      "9,ROBERT CARLIN,LEADERS ONLY UNITE POLITICAL ACTION COMMITTEE (AKA LOU PAC)\n",
      "10,ROBERT CARLIN,\"LIMITED GOVERNMENT, OPPORTUNITY AND VALUES PAC (LOV PAC)\"\n",
      "11,ROBERT CARLIN,LOVE VICTORY COMMITTEE\n",
      "12,ROBERT CARLIN,MAKING AMERICA PROSPEROUS PAC\n",
      "13,ROBERT CARLIN,MCMORRIS RODGERS AMERICAN DREAM PROJECT; THE\n",
      "14,ROBERT CARLIN,RELIGHT AMERICA PAC\n",
      "15,ROBERT CARLIN,ROLL ON COLUMBIA POLITICAL ACTION COMMITTEE\n",
      "16,ROBERT CARLIN,ROTHFUS VICTORY COMMITTEE\n",
      "17,ROBERT CARLIN,SPEAK UP AMERICA POLITICAL ACTION COMMITTEE\n",
      "18,ROBERT CARLIN,THE EYE OF THE TIGER POLITICAL ACTION COMMITTEE\n",
      "19,ROBERT CARLIN,TRUTH IS MARKETS WORK FUND A/K/A TIM W FUND\n",
      "20,ROBERT CARLIN,UPPER HAND FUND\n",
      "\n",
      "\n",
      "\n",
      "1001 PENNSYLVANIA AVE NW, WASHINGTON, DC 20004\n",
      ",tres_nm,cmte_nm\n",
      "0,(no treasurer listed),NATIONAL SECURITY AND OPPORTUNITY FUND\n",
      "1,CARL BEARDEN,\"MISSOURI FREEDOM BUILDERS, INC.\"\n",
      "2,CHARLES GANTT,\"MAVERICK ACTION, INC.\"\n",
      "3,CHARLES GANTT,NATIONAL LEADERSHIP COUNCIL PAC\n",
      "4,CHARLES SPIES,CONSERVATIVE LOUISIANA\n",
      "5,CHARLES SPIES,\"RESTORE OUR FUTURE, INC.\"\n",
      "6,DEREK ROSS,CITIZENS FOR A STRONGER NEW JERSEY\n",
      "7,GREG ELLIOTT,WEST VIRGINIA FREEDOM BUILDERS INC\n",
      "8,JULIE DOZIER,TENTH AMENDMENT ACTION PROJECT\n",
      "9,KEVIN RIORDAN,\"ANTHEM, INC. POLITICAL ACTION COMMITTEE (ANTHEM PAC)\"\n",
      "10,SLOANE SKINNER,B-PAC\n",
      "11,SLOANE SKINNER,CITIZENS FOR COMMON SENSE USA\n",
      "12,SLOANE SKINNER,CONSERVATIVE UTAH\n",
      "13,SLOANE SKINNER,CONSERVATIVES FOR PA\n",
      "14,SLOANE SKINNER,\"FREEDOM BUILDERS, INC\"\n",
      "15,SLOANE SKINNER,FREEDOM FUND INDEPENDENT COMMITTEE\n",
      "16,SLOANE SKINNER,KEYSTONE COURAGE\n",
      "17,SLOANE SKINNER,NEW YORK JOBS COUNCIL\n",
      "18,SLOANE SKINNER,OHIO FREEDOM FUND\n",
      "19,STACEY DION,\"CIM (DELAWARE), INC PAC (AKA\"\"CARLYLE PAC\"\n",
      "\n",
      "\n",
      "\n",
      "701 8TH ST NW, WASHINGTON, DC 20001\n",
      ",tres_nm,cmte_nm\n",
      "0,AMANDA HOYT,\"CHENIERE ENERGY, INC. PAC\"\n",
      "1,BENJAMIN BUTTERFIELD,GROWTH ENERGY PAC\n",
      "2,CARLA CAMACHO,ERISA INDUSTRY COMMITTEE POLITICAL ACTION COMMITTEE; THE (ERIC PAC)\n",
      "3,CLAY PARKER DAVIS,HELP AMERICA'S LEADERS POLITICAL ACTION COMMITTEE (HALPAC)\n",
      "4,ERIC SWANSON,\"BATS GLOBAL MARKETS, INC POLITICAL ACTION COMMITTEE\"\n",
      "5,GREG POLK,\"STANLEY BLACK & DECKER, INC. POLITICAL ACTION COMMITTEE\"\n",
      "6,KIMBERLY VANWYHE,DENALI LEADERSHIP PAC\n",
      "7,LANCE KOLBET,FREEDOM FUND\n",
      "8,MEREDITH LESHER,CENTER FOR SPORTFISHING POLICY POLITICAL ACTION COMMITTEE AKA CENTER PAC\n",
      "9,MEREDITH LESHER,CONCHO RESOURCES INC PAC\n",
      "10,MEREDITH LESHER,IDAHO CONSERVATIVE GROWTH FUND\n",
      "11,MEREDITH LESHER,OUTPATIENT OPHTHALMIC SURGERY SOCIETY POLITICAL ACTION COMMITTEE\n",
      "12,MEREDITH LESHER,RICH POLITICAL ACTION COMMITTEE\n",
      "13,MEREDITH LESHER,TOM JAMES COMPANY POLITICAL ACTION COMMITTEE\n",
      "14,MEREDITH LESHER,VALUE IN ELECTING WOMEN POLITICAL ACTION COMMITTEE\n",
      "15,MEREDITH LESHER,\"WILLIAMS AND JENSEN, PLLC POLITICAL ACTION COMMITTEE\"\n",
      "16,MEREDITH LESHER,ZOETIS GOOD GOVERNMENT FUND\n",
      "17,SCOTT GRAVES,AMERICAN ASSOCIATION OF CROP INSURERS PAC\n",
      "18,STUART SANDER,FUNDING DEVELOPING LEADERSHIP POLITICAL ACTION COMMITTEE AKA FDL PAC\n",
      "19,WILLIAM HORAN,FEDERATION OF EXCHANGE ACCOMODATORS 1031 PAC\n",
      "\n",
      "\n",
      "\n",
      "nan, nan, nan nan\n",
      ",tres_nm,cmte_nm\n",
      "0,(no treasurer listed),(cmte_nm missing)\n",
      "1,(no treasurer listed),(cmte_nm missing)\n",
      "2,(no treasurer listed),(cmte_nm missing)\n",
      "3,(no treasurer listed),(cmte_nm missing)\n",
      "4,(no treasurer listed),(cmte_nm missing)\n",
      "5,(no treasurer listed),(cmte_nm missing)\n",
      "6,(no treasurer listed),(cmte_nm missing)\n",
      "7,(no treasurer listed),(cmte_nm missing)\n",
      "8,(no treasurer listed),BLACK VOTERS MATTER FUND INC\n",
      "9,(no treasurer listed),CARLA SPALDING FOR U.S. CONGRESS\n",
      "10,(no treasurer listed),\"DONOGHUE, MARGUERITE\"\n",
      "11,(no treasurer listed),\"LASKER, MARY W\"\n",
      "12,(no treasurer listed),\"LIDRON, PETER M\"\n",
      "13,(no treasurer listed),\"LIERMAN, TERRY\"\n",
      "14,(no treasurer listed),NOWGOVOTE\n",
      "15,(no treasurer listed),PETER C FOY\n",
      "16,NANA TCHIENKOU,NANA FOR SENATE\n",
      "17,PAIGE CASSIDY,AT&T CORP\n",
      "18,RUBY GEORGE,DUVAL TEACHERS UNITED\n",
      "\n",
      "\n",
      "\n",
      "PO BOX 83142, GAITHERSBURG, MD 20883\n",
      ",tres_nm,cmte_nm\n",
      "0,ALLEN RYAN,AMERICA 2.0 PAC\n",
      "1,ERIC LEAVITT,SKIPAC\n",
      "2,JOHN CAREY,GREAT AMERICAN FUND\n",
      "3,KURT SCHRADER,BLUE DOG POLITICAL ACTION COMMITTEE\n",
      "4,MARK LEVY,BRIDGE THE GAP PAC\n",
      "5,MARLENE MOSS,GREATER OPPORTUNITIES FOR LEADERSHIP DEVELOPMENT (GOLD PAC)\n",
      "6,MICHAEL FERRELL,LAB PAC\n",
      "7,MOLLY ALLEN TUESCA,FUTURE FORUM PAC\n",
      "8,RONALD JACOBS,VEN-PAC\n",
      "9,TINA THOMAS,SAC PAC\n",
      "10,VICKIE WINPISINGER,COMMITTEE FOR MIDWEST PRIORITIES\n",
      "11,VICKIE WINPISINGER,DAWG PAC - DEMOCRATS AGAINST WASTE IN GOVERNMENT\n",
      "12,VICKIE WINPISINGER,DEMOCRATS WIN SEATS (DWS PAC)\n",
      "13,VICKIE WINPISINGER,DWS VICTORY FUND\n",
      "14,VICKIE WINPISINGER,HARVEST PAC\n",
      "15,VICKIE WINPISINGER,JOINING IDEAS TO MOTIVATE MOVEMENT FOR YOU (JIMMY PAC)\n",
      "16,VICKIE WINPISINGER,PROGRESS PAC\n",
      "17,VICKIE WINPISINGER,THE GPS VICTORY FUND\n",
      "18,VICKIE WINPISINGER,TIM RYAN VICTORY FUND\n",
      "\n",
      "\n",
      "\n",
      "PO BOX 97275, RALEIGH, NC 27624\n",
      ",tres_nm,cmte_nm\n",
      "0,(no treasurer listed),EASTERN CAROLINA CONSERVATIVE FUND\n",
      "1,COLLIN MCMICHAEL,BUDD NORTH CAROLINA VICTORY FUND 2018\n",
      "2,COLLIN MCMICHAEL,BUDD VICTORY\n",
      "3,COLLIN MCMICHAEL,BURR NC VICTORY FUND\n",
      "4,COLLIN MCMICHAEL,CONSERVATIVE ROUNDTABLE\n",
      "5,COLLIN MCMICHAEL,GEORGE HOLDING VICTORY COMMITTEE 2018\n",
      "6,COLLIN MCMICHAEL,HARRIS LEADERSHIP FUND\n",
      "7,COLLIN MCMICHAEL,HOLD THE MAJORITY\n",
      "8,COLLIN MCMICHAEL,HOLDING ROUZER MAJORITY COMMITTEE\n",
      "9,COLLIN MCMICHAEL,NC LPAC VICTORY COMMITTEE\n",
      "10,COLLIN MCMICHAEL,NUNES HOLDING MAJORITY COMMITTEE\n",
      "11,COLLIN MCMICHAEL,OLD NORTH STATE PAC\n",
      "12,COLLIN MCMICHAEL,THE HOLDING VICTORY FUND\n",
      "13,COLLIN MCMICHAEL,TOGETHER HOLDING OUR MAJORITY PAC\n",
      "14,COLLIN MCMICHAEL,WALKER FREEDOM FUND\n",
      "15,COLLIN MCMICHAEL,YOUR VOICE COUNTS\n",
      "16,DANIEL GURLEY,CITIZENS FOR RESPONSIBLE LEADERSHIP\n",
      "17,PAUL NORCROSS,CITIZENS UNITED FOR EDUCATION\n",
      "\n",
      "\n",
      "\n",
      "525 E SEASIDE WAY, LONG BEACH, CA 90802\n",
      ",tres_nm,cmte_nm\n",
      "0,GARY CRUMMITT,A PROGRESSIVE CALIFORNIA\n",
      "1,GARY CRUMMITT,AJA BROWN FOR CONGRESS\n",
      "2,GARY CRUMMITT,ANIMAL PAC\n",
      "3,GARY CRUMMITT,BEACH CITIES DEMOCRATS - FEDERAL\n",
      "4,GARY CRUMMITT,BRYAN WITT FOR CONGRESS\n",
      "5,GARY CRUMMITT,CAIR-CA PAC\n",
      "6,GARY CRUMMITT,DEMOC PAC\n",
      "7,GARY CRUMMITT,DEMOCRACY AND PROGRESS\n",
      "8,GARY CRUMMITT,GLOBAL TRADE AND COMMERCE FEDERAL PAC\n",
      "9,GARY CRUMMITT,JOSHUA SCOTT FOR CONGRESS\n",
      "10,GARY CRUMMITT,KOREAN AMERICAN DEMOCRATIC COMMITTEE\n",
      "11,GARY CRUMMITT,LAMBDA DEMOCRATIC CLUB\n",
      "12,GARY CRUMMITT,LOS ANGELES COUNTY ASIAN AMERICAN & PACIFIC ISLANDER DEMOCRATS -FEDERAL\n",
      "13,GARY CRUMMITT,TURKISH COALITION CALIFORNIA PAC (TC-CAL PAC)\n",
      "14,GARY CRUMMITT,WEST END DEMOCRATIC CLUB - FEDERAL\n",
      "15,GARY CRUMMITT,WEST HOLLYWOOD/BEVERLY HILLS DEMOCRATIC HEADQUARTERS COMMITTEE\n",
      "16,GARY CRUMMITT,WRIGHT FOR CONGESS\n",
      "17,GARY CRUMMITT,YOUNG AWARE AMERICANS PAC\n",
      "\n",
      "\n",
      "\n",
      "332 W LEE HWY, WARRENTON, VA 20186\n",
      ",tres_nm,cmte_nm\n",
      "0,CHARLIE GRIZZLE,BUILDING AMERICA'S REPUBLICAN REPRESENTATION PAC\n",
      "1,JACQUELINE PONDER,\"COLORADANS FOR FAMILY, MILITARY, AND NATION PAC\"\n",
      "2,STEVE RALLS,ANDY BARR VICTORY COMMITTEE\n",
      "3,STEVE RALLS,BLUEGRASS VICTORY COMMITTEE\n",
      "4,STEVE RALLS,BOOTS POLITICAL ACTION COMMITTEE\n",
      "5,STEVE RALLS,CAPITO VICTORY COMMITTEE\n",
      "6,STEVE RALLS,CHRIN WEBBER VICTORY COMMITTEE\n",
      "7,STEVE RALLS,DEEDS NOT WORDS POLITICAL ACTION COMMITTEE\n",
      "8,STEVE RALLS,FRIENDS OF ANDY BARR COMMITTEE\n",
      "9,STEVE RALLS,FUNDING REPUBLICANS SUPPORTING OPPORTUNITY AND GROWTH - JUMP POLITICAL ACTION COMMITTEE\n",
      "10,STEVE RALLS,MULLIN VICTORY FUND\n",
      "11,STEVE RALLS,SASSE LEADERSHIP COMMITTEE\n",
      "12,STEVE RALLS,SENSIBLE AMERICAN SOLUTIONS SUPPORTING EVERYONE PAC\n",
      "13,STEVE RALLS,STAUBER VICTORY FUND\n",
      "14,STEVE RALLS,STEVE RUSSELL VICTORY FUND\n",
      "15,STEVE RALLS,WEBBER VICTORY COMMITTEE\n",
      "16,STEVE RALLS,WILD AND WONDERFUL PAC\n",
      "\n",
      "\n",
      "\n",
      "1390 CHAIN BRIDGE RD, MCLEAN, VA 22101\n",
      ",tres_nm,cmte_nm\n",
      "0,CABELL HOBBS,DALLAS ENTREPRENEURS - SESSIONS 2018 FUND\n",
      "1,CABELL HOBBS,DEFENDING AMERICAN VALUES EVERYWHERE PAC (DAVE PAC)\n",
      "2,CABELL HOBBS,GIANFORTE-ROSENDALE FUND\n",
      "3,CABELL HOBBS,NEW OC FUTURE PAC\n",
      "4,CABELL HOBBS,NOEM-RHODEN VICTORY COMMITTEE\n",
      "5,CABELL HOBBS,RED SENTINEL\n",
      "6,CABELL HOBBS,RED SENTINEL PAC\n",
      "7,CABELL HOBBS,TRANSPARENCY IN GOVERNMENT PAC\n",
      "8,CHRISTIAN RICKERS,AMERICAN UPRISING PAC\n",
      "9,MELODIE JOHNSON,AMERICAN UPRISING 2020\n",
      "10,MELODIE JOHNSON,EXCELSIORNY PAC\n",
      "11,MELODIE JOHNSON,FREEDOMWORKS VICTORY COMMITTEE\n",
      "12,MELODIE JOHNSON,IRON DOME ALLIANCE\n",
      "13,WILLIAM OZANUS,C3 PAC\n",
      "14,WILLIAM OZANUS,CIVIC\n",
      "15,WILLIAM OZANUS,CONSERVATIVE VOICES PAC\n",
      "\n",
      "\n",
      "\n",
      "C/O RED CURVE SOLUTIONS, BEVERLY, MA 01915\n",
      ",tres_nm,cmte_nm\n",
      "0,BRADLEY CRATE,BELIEVE IN AMERICA PAC\n",
      "1,BRADLEY CRATE,CONSERVATIVE FIGHTER FUND\n",
      "2,BRADLEY CRATE,GOLDEN STATE LEADERSHIP PAC\n",
      "3,BRADLEY CRATE,HURD VICTORY FUND\n",
      "4,BRADLEY CRATE,KENNEDY CLUB COMMITTEE\n",
      "5,BRADLEY CRATE,MAVERICK PAC USA\n",
      "6,BRADLEY CRATE,MOONEY VICTORY FUND\n",
      "7,BRADLEY CRATE,PETER TEDESCHI VICTORY COMMITTEE\n",
      "8,BRADLEY CRATE,RESCHENTHALER VICTORY FUND\n",
      "9,BRADLEY CRATE,RVFPAC\n",
      "10,BRADLEY CRATE,SCHNEIDER VICTORY\n",
      "11,BRADLEY CRATE,STRENGTHEN AMERICA COMMITTEE\n",
      "12,BRADLEY CRATE,TEAM MITT\n",
      "13,BRADLEY CRATE,TRUMP MAKE AMERICA GREAT AGAIN COMMITTEE\n",
      "14,BRADLEY CRATE,TRUMP VICTORY\n",
      "\n",
      "\n",
      "\n",
      "601 PENNSYLVANIA AVE NW, WASHINGTON, DC 20004\n",
      ",tres_nm,cmte_nm\n",
      "0,(no treasurer listed),NATIONAL ASSOCIATION OF WOMEN BUSINESS OWNERS-PAC\n",
      "1,ANTHONY RUSSO,\"T-MOBILE USA, INC.  POLITICAL ACTION COMMITTEE (T-PAC)\"\n",
      "2,CHARLES SPIES,\"CLARK HILL FEDERAL POLITICAL ACTION COMMITTEE, THE\"\n",
      "3,CHARLES SPIES,FUND FOR LOUISIANA'S FUTURE; THE\n",
      "4,DAWN BANDA,AMERICAS HEALTH INSURANCE PLANS PAC (AHIP PAC)\n",
      "5,EARL JONES,\"HAIER US APPLIANCE SOLUTIONS, INC., DBA GE APPLIANCES POLITICAL ACTION COMMITTEE\"\n",
      "6,EILEEN BRADEN,JPMORGAN CHASE & CO. FEDERAL POLITICAL ACTION COMMITTEE\n",
      "7,EILEEN BRADEN,JPMORGAN CHASE & CO. PAC\n",
      "8,EMILY DIEDRICH FOSTER,CUMMINS INC. POLITICAL ACTION COMMITTEE (CIPAC)\n",
      "9,EMILY ROY,NATIONAL WEATHER SERVICE EMPLOYEES ORGANIZATION POLITICAL ACTION COMMITTEE\n",
      "10,JAMES ORCUTT,PHILLIPS 66 PAC\n",
      "11,MICHAEL KLOBUCHAR,\"MERCK & CO., INC., EMPLOYEES POLITICAL ACTION COMMITTEE (MERCK PAC)\"\n",
      "12,ROQUITA COLEMAN-WILLIAMS,GRAND TRUNK WESTERN RAILROAD CO. - ILLINOIS CENTRAL RAILROAD CO. PAC (GTW-IC PAC)\n",
      "13,RYAN RIESTERER,NATIONAL ASSOCIATION OF MORTGAGE BROKERS\n",
      "14,TRACY HUCKINS,DEMOCRATS FOR LIFE OF AMERICA INDEPENDENT PAC\n",
      "\n",
      "\n",
      "\n",
      "PO BOX 751271, LAS VEGAS, NV 89136\n",
      ",tres_nm,cmte_nm\n",
      "0,CHRISSIE HASTIE,FULL HOUSE PAC\n",
      "1,CHRISSIE HASTIE,HARDY NEVADA VICTORY FUND\n",
      "2,CHRISSIE HASTIE,HARDY STEWART VICTORY COMMITTEE\n",
      "3,CHRISSIE HASTIE,HARDY TARKANIAN VICTORY COMMITTEE\n",
      "4,CHRISSIE HASTIE,HARDY TARKANIAN VICTORY COMMITTEE\n",
      "5,CHRISSIE HASTIE,HECK YEAH!\n",
      "6,CHRISSIE HASTIE,HELLER SENATE VICTORY COMMITTEE\n",
      "7,CHRISSIE HASTIE,MORNING IN AMERICA PAC\n",
      "8,CHRISSIE HASTIE,TEAM HARDY NEVADA TOUGH VICTORY FUND\n",
      "9,CHRISSIE HASTIE,THE PORTER GROUP PAC\n",
      "10,CHRISSIE HASTIE,WIN NEVADA\n",
      "11,RYAN PHILLIPS,2016 SENATE MAJORITY COMMITTEE\n",
      "12,RYAN PHILLIPS,HECK HARDY NEVADA VICTORY COMMITTEE\n",
      "13,RYAN PHILLIPS,HELLER FLAKE VICTORY COMMITTEE\n",
      "14,RYAN PHILLIPS,HELLER NEVADA VICTORY FUND\n",
      "\n",
      "\n",
      "\n"
     ]
    },
    {
     "name": "stdout",
     "output_type": "stream",
     "text": [
      "119 1ST AVE SOUTH, SEATTLE, WA 98104\n",
      ",tres_nm,cmte_nm\n",
      "0,JAY PETTERSON,CANTWELL MURPHY VICTORY FUND\n",
      "1,JAY PETTERSON,CANTWELL VICTORY 2018\n",
      "2,JAY PETTERSON,CANTWELL WARREN WASHINGTON VICTORY FUND\n",
      "3,JAY PETTERSON,CANTWELL-HIRONO VICTORY FUND\n",
      "4,JAY PETTERSON,CANTWELL-STABENOW VICTORY FUND\n",
      "5,JAY PETTERSON,CANTWELL-WARREN VICTORY FUND\n",
      "6,JAY PETTERSON,CANTWELL-WHITEHOUSE VICTORY FUND\n",
      "7,JAY PETTERSON,FLIP WA BLUE 2018\n",
      "8,JAY PETTERSON,NEW LEADERS PAC\n",
      "9,JAY PETTERSON,O'ROURKE WASHINGTON DEMOCRATIC VICTORY FUND\n",
      "10,JAY PETTERSON,PROGRESS FOR USA PAC\n",
      "11,JAY PETTERSON,VOTER DEFENSE FUND\n",
      "12,JAY PETTERSON,VOTER PROTECTION PROJECT\n",
      "13,JAY PETTERSON,WE REPRESENT\n",
      "\n",
      "\n",
      "\n",
      "2150 RIVER PLAZA DR, SACRAMENTO, CA 95833\n",
      ",tres_nm,cmte_nm\n",
      "0,(no treasurer listed),AMERICAN SIKHS FOR TRUTH\n",
      "1,DAVID BAUER,AMERICAN FREE ENTERPRISE PAC\n",
      "2,DAVID BAUER,AMERICANS FOR ACCOUNTABILITY IN LEADERSHIP\n",
      "3,DAVID BAUER,\"ATLAS PAC, FEDERAL\"\n",
      "4,DAVID BAUER,CALIFORNIA COAST CREDIT UNION FEDERAL PAC\n",
      "5,DAVID BAUER,DENHAM FOR CONGRESS\n",
      "6,DAVID BAUER,DENHAM VICTORY FUND\n",
      "7,DAVID BAUER,DOUG LAMALFA COMMITTEE\n",
      "8,DAVID BAUER,JEFF PAC\n",
      "9,DAVID BAUER,MCCLINTOCK FOR CONGRESS\n",
      "10,DAVID BAUER,NORCAL WATER JOBS LIBERTY PAC\n",
      "11,DAVID BAUER,SACRAMENTO VALLEY LINCOLN CLUB FEDERAL\n",
      "12,DAVID BAUER,SUPERIOR CALIFORNIA FEDERAL LEADERSHIP PAC\n",
      "13,DAVID BAUER,TAKING OUR MAJORITY PAC (T.O.M.PAC)\n",
      "\n",
      "\n",
      "\n",
      "PO BOX 75650, WASHINGTON, DC 20013\n",
      ",tres_nm,cmte_nm\n",
      "0,JOEL RITER,21ST CENTURY GRANITE LEADERSHIP\n",
      "1,JOEL RITER,A BETTER GEORGIA PAC\n",
      "2,JOEL RITER,AMERICAN FREEDOM BUILDERS ACTION NETWORK\n",
      "3,JOEL RITER,AMERICAN VALUES FIRST\n",
      "4,JOEL RITER,CITIZENS FOR A WORKING AMERICA PAC\n",
      "5,JOEL RITER,CONCRETE AND PORTLAND CEMENT ACTION NETWORK\n",
      "6,JOEL RITER,FOR A BETTER NEW MEXICO\n",
      "7,JOEL RITER,HAYSGO PAC\n",
      "8,JOEL RITER,MARYLAND USA\n",
      "9,JOEL RITER,OHIO STRONG\n",
      "10,JOEL RITER,PENNSYLVANIA FIRST\n",
      "11,JOEL RITER,PENNSYLVANIANS FOR CONSERVATIVE POLICIES\n",
      "12,JOEL RITER,SAFE STREETS SAFE COMMUNITIES\n",
      "13,JOEL RITER,SECURING LOUISIANA'S FUTURE\n",
      "\n",
      "\n",
      "\n",
      "2350 KERNER BLVD, SAN RAFAEL, CA 94901\n",
      ",tres_nm,cmte_nm\n",
      "0,(no treasurer listed),NEW MAJORITY CALIFORNIA\n",
      "1,CHRISTOPHER SKINNELL,PERFORMANT FINANCIAL CORPORATION POLITICAL ACTION COMMITTEE\n",
      "2,CHRISTOPHER SKINNELL,\"PINNACLE ENTERTAINMENT, INC. PAC AKA PINNACLE ENTERTAINMENT PAC\"\n",
      "3,JASON KAUNE,BIOMARIN PHARMACEUTICAL INC. POLITICAL ACTION COMMITTEE AKA BIOMARIN PAC\n",
      "4,JASON KAUNE,\"GEP ADMINISTRATIVE SERVICES, INC. EMPLOYEE PAC\"\n",
      "5,JASON KAUNE,NEW MAJORITY FEDERAL PAC\n",
      "6,JASON KAUNE,\"PROFESSIONAL SERVICE INDUSTRIES, INC. POLITICAL ACTION COMMITTEE (PSI PAC)\"\n",
      "7,JASON KAUNE,\"PROSPECT MEDICAL HOLDINGS, INC. POLITICAL ACTION COMMITTEE (PROSPECTPAC)\"\n",
      "8,MICHAEL COLUMBO,OUTFRONT MEDIA INC POLITICAL ACTION COMMITTEE (OFPAC)\n",
      "9,STEVEN LUCAS,MGM RESORTS INTERNATIONAL  PAC\n",
      "10,STEVEN LUCAS,SPOONER'S INDEPENDENT EXPENDITURES\n",
      "11,STEVEN LUCAS,\"SWITCH, INC. PAC\"\n",
      "12,VIGO NIELSEN,\"FARMERS GROUP, INC., FARMERS INSURANCE EXCHANGE, FIRE INSURANCE EXCHANGE AND TRUCK INSURANCE EXCHANGE POLITICAL ACTION COMMITTEE AKA FARMERS INSURANCE PAC\"\n",
      "13,VIGO NIELSEN,\"WOODWARD, INC. FOR EFFECTIVE GOVERNMENT\"\n",
      "\n",
      "\n",
      "\n",
      "101 CONSTITUTION AVE NW, WASHINGTON, DC 20001\n",
      ",tres_nm,cmte_nm\n",
      "0,(no treasurer listed),FUELS AMERICA\n",
      "1,(no treasurer listed),UNITED BROTHERHOOD OF CARPENTERS AND JOINERS OF AMERICA\n",
      "2,AMY HUNT,\"THE GOLDMAN SACHS GROUP, INC. POLITICAL ACTION COMMITTEE\"\n",
      "3,DONALD WALKER,AMERICAN COUNCIL OF LIFE INSURERS POLITICAL ACTION COMMITTEE\n",
      "4,ELIZABETH VARLEY,AMERIPRISE FINANCIAL INC. POLITICAL ACTION COMMITTEE (AMERIPRISEPAC)\n",
      "5,JOSEPH FENGLER,HONEYWELL INTERNATIONAL POLITICAL ACTION COMMITTEE\n",
      "6,LOREEN ZISKA,UNITED BROTHERHOOD OF CARPENTERS AND JOINERS \n",
      "7,MARY BETH DONNELLY,NEWMONT MINING CORPORATION PAC\n",
      "8,MICHELLE DIMAROB,\"ALTRIA GROUP, INC. POLITICAL ACTION COMMITTEE (ALTRIAPAC)\"\n",
      "9,MICHELLE DIMAROB,STE. MICHELLE WINE ESTATES LTD. POLITICAL ACTION COMMITTEE\n",
      "10,RICHARDSON NOLAN,\"COALPAC, A POLITICAL ACTION COMMITTEE OF THE NATIONAL MINING ASSOCIATION\"\n",
      "11,RICHARDSON NOLAN,\"MINEPAC, A POLITICAL ACTION COMMITTEE OF THE NATIONAL MINING ASSOCIATION\"\n",
      "12,SCOTT BROWN,EXELON CORPORATION POLITICAL ACTION COMMITTEE (EXELON PAC)\n",
      "\n",
      "\n",
      "\n",
      "499 S CAPITOL ST SW, WASHINGTON, DC 20003\n",
      ",tres_nm,cmte_nm\n",
      "0,DAVID YOUNGBLOOD,PROTECTING OUR VOTE FEDERAL PAC\n",
      "1,LINDSAY ANGERHOLZER,DEMOCRATS UNITED TO CHANGE AND HOPE PAC\n",
      "2,LINDSAY ANGERHOLZER,EVERGREEN PAC\n",
      "3,LINDSAY ANGERHOLZER,FRIENDS OF JOHN SARBANES\n",
      "4,LINDSAY ANGERHOLZER,MAKING A REAL CHANGE - MARC PAC\n",
      "5,LINDSAY ANGERHOLZER,TAKING THE HILL PAC\n",
      "6,LINDSAY ANGERHOLZER,TOGETHER EVERYONE REALIZES REAL IMPACT AKA TERRI PAC\n",
      "7,PLURIA WILLIAM MARSHALL,BOULE' 1904 PAC\n",
      "8,RANDALL BROZ,FIERCE PAC\n",
      "9,RANDALL BROZ,MILK RIVER PAC\n",
      "10,ROD KASSIR,BRAVE PAC\n",
      "11,THOMAS DATWYLER,CONSERVATIVE TRUST OF AMERICA\n",
      "12,THOMAS DATWYLER,RESTORING OUR DEMOCRACY (ROD PAC)\n",
      "\n",
      "\n",
      "\n",
      "124 WASHINGTON ST, FOXBORO, MA 02035\n",
      ",tres_nm,cmte_nm\n",
      "0,KEITH LOWEY,ARIZONA NEVADA NEW YORK VICTORY 2018\n",
      "1,KEITH LOWEY,ELIZABETH WARREN ACTION FUND\n",
      "2,KEITH LOWEY,GILLIBRAND MCCASKILL SENATE 2018\n",
      "3,KEITH LOWEY,GILLIBRAND VICTORY FUND\n",
      "4,KEITH LOWEY,HEIDI HEITKAMP OFF THE SIDELINES VICTORY\n",
      "5,KEITH LOWEY,NY AND WI VICTORY FUND\n",
      "6,KEITH LOWEY,PAC FOR A LEVEL PLAYING FIELD\n",
      "7,KEITH LOWEY,PARITY PAC\n",
      "8,KEITH LOWEY,PATRIOTIC ARTISTS AND CREATIVES PAC (AKA PAC SQUARED)\n",
      "9,KEITH LOWEY,PERIMETER PAC\n",
      "10,KEITH LOWEY,PORTER WARREN VICTORY FUND\n",
      "11,KEITH LOWEY,RHODE ISLAND VICTORY FUND 2018\n",
      "12,PAUL EGERMAN,\"ELIZABETH WARREN PRESIDENTIAL EXPLORATORY COMMITTEE, INC.\"\n",
      "\n",
      "\n",
      "\n",
      "1751 POTOMAC GREENS DR, ALEXANDRIA, VA 22314\n",
      ",tres_nm,cmte_nm\n",
      "0,DAVID TEMPLE,FRIENDS OF DON BEYER\n",
      "1,KATHERINE BUCHANAN,BACKPAC\n",
      "2,KATHERINE BUCHANAN,COMMON GROUND PAC\n",
      "3,KATHERINE BUCHANAN,DEMOCRATS FOR OPPORTUNITY FUND\n",
      "4,KATHERINE BUCHANAN,FORWARD TOGETHER PAC\n",
      "5,KATHERINE BUCHANAN,JONES ACTION FUND\n",
      "6,KATHERINE BUCHANAN,JONES VICTORY FUND\n",
      "7,KATHERINE BUCHANAN,KAINE ACTION FUND\n",
      "8,KATHERINE BUCHANAN,KAINE FOR COMMON GROUND\n",
      "9,KATHERINE BUCHANAN,KAINE FOR VIRGINIA\n",
      "10,KATHERINE BUCHANAN,KAINE VICTORY FUND\n",
      "11,KATHERINE BUCHANAN,SAVE OUR SENATE 2\n",
      "12,KATHERINE BUCHANAN,STRENGTHENING VIRGINIA'S WORKING FAMILIES PAC\n",
      "\n",
      "\n",
      "\n",
      "815 16TH ST NW, WASHINGTON, DC 20006\n",
      ",tres_nm,cmte_nm\n",
      "0,(no treasurer listed),AFL-CIO COMMITTEE ON POLITICAL EDUCATION TREASURY ACCOUNT\n",
      "1,(no treasurer listed),AFL-CIO COMMITTEE ON POLITICAL EDUCATION TREASURY FUND\n",
      "2,(no treasurer listed),AMERICAN FEDERATION OF LABOR CONGRESS OF INDUSTRIAL ORGANIZATIONS AFL-CIO\n",
      "3,(no treasurer listed),TRANSPORTATION TRADES DEPARTMENT AFL-CIO POLITICAL EDUCATION FUND\n",
      "4,(no treasurer listed),WORKING AMERICA\n",
      "5,BRENT BOOKER,NORTH AMERICA'S BUILDING TRADES UNIONS POLITICAL EDUCATIONAL FUND\n",
      "6,CRYSTAL KING,WORKING AMERICA COALITION\n",
      "7,ELIZABETH SHULER,AFL-CIO \n",
      "8,ELIZABETH SHULER,AFL-CIO COPE POLITICAL CONTRIBUTIONS COMMITTEE\n",
      "9,ELIZABETH SHULER,\"AMERICAN FEDERATION OF STATE, COUNTY AND MUNICIPAL EMPLOYEES, AFL-CIO\"\n",
      "10,ELIZABETH SHULER,WORKERS' VOICE\n",
      "11,GREG REGAN,TRANSPORTATION TRADES DEPARTMENT AFL-CIO POLITICAL ACTION COMMITTEE (TTD/PAC)\n",
      "12,TIM GRAY,WORKING AMERICA\n",
      "\n",
      "\n",
      "\n",
      "455 CAPITOL MALL, SACRAMENTO, CA 95814\n",
      ",tres_nm,cmte_nm\n",
      "0,(no treasurer listed),BUSINESS ED POLITICAL ACTION COMMITTEE\n",
      "1,(no treasurer listed),ECONOMIC FREEDOM FUND\n",
      "2,ASHLEE TITUS,AVERY DENNISON CORPORATION EMPLOYEE POLITICAL ACTION COMMITTEE (ADEPAC)\n",
      "3,ASHLEE TITUS,STAND WITH AMERICA\n",
      "4,BRIAN HILDRETH,LINCOLN CLUB OF NORTHERN CALIFORNIA FEDERAL PAC\n",
      "5,CHARLES BELL,\"CHILDREN'S HEALTH, LIFE AND DEVELOPMENT POLITICAL ACTION COMMITTEE (CHLD PAC)\"\n",
      "6,THOMAS HILTACHK,CALIFORNIANS FOR FISCAL RESPONSIBILITY\n",
      "7,THOMAS HILTACHK,COMPUTING TECHNOLOGY INDUSTRY ASSOCIATION PAC (COMPTIA PAC)\n",
      "8,THOMAS HILTACHK,\"HEALTH NET, INCORPORATED POLITICAL ACTION COMMITTEE\"\n",
      "9,THOMAS HILTACHK,NATIONAL ALLIANCE FOR ENVIRONMENTAL REFORM POLITICAL ACTION COMMITTEE\n",
      "10,THOMAS HILTACHK,SPIRIT OF DEMOCRACY AMERICA\n",
      "11,THOMAS HILTACHK,STAND WITH AMERICA\n",
      "12,THOMAS HILTACHK,VICTORY CALIFORNIA\n",
      "\n",
      "\n",
      "\n",
      "430 SOUTH CAPITOL ST SE, WASHINGTON, DC 20003\n",
      ",tres_nm,cmte_nm\n",
      "0,DANIEL SENA,DCCC\n",
      "1,DANIEL SENA,NEW JERSEY HOUSE VICTORY FUND\n",
      "2,DANIEL SENA,VIRGINIA HOUSE VICTORY FUND\n",
      "3,JOSEPH SMOLSKIS,DEMOCRATIC GRASSROOTS VICTORY FUND\n",
      "4,JOSEPH SMOLSKIS,DEMOCRATIC HOPE FUND\n",
      "5,MANISHA PATEL,DEMOCRATIC NATIONAL CONVENTION COMMITTEE 2016\n",
      "6,TARYN VOGEL,BAER 2018 VICTORY FUND\n",
      "7,TARYN VOGEL,MUCARSEL-POWELL 2018 VICTORY FUND\n",
      "8,TARYN VOGEL,SHAPIRO 2018 VICTORY FUND\n",
      "9,TARYN VOGEL,SODERBERG 2018 VICTORY FUND\n",
      "10,WILLIAM DERROUGH,DEMOCRATIC NATIONAL COMMITTEE - TRAVEL OFFSET ACCOUNT\n",
      "11,WILLIAM DERROUGH,DEMOCRATIC PROPERTIES CORPORATION-FEDERAL\n",
      "12,WILLIAM DERROUGH,DNC SERVICES CORP./DEM. NAT'L COMMITTEE\n",
      "\n",
      "\n",
      "\n",
      "138 CONANT ST, BEVERLY, MA 01915\n",
      ",tres_nm,cmte_nm\n",
      "0,BRADLEY CRATE,BADGER VICTORY FUND\n",
      "1,BRADLEY CRATE,CLEVELAND COMMITTEE 2016\n",
      "2,BRADLEY CRATE,JUST LEAD PAC\n",
      "3,BRADLEY CRATE,LEWIS VICTORY FUND\n",
      "4,BRADLEY CRATE,MIKE JOHNSON VICTORY\n",
      "5,BRADLEY CRATE,RICK GREEN VICTORY COMMITTEE\n",
      "6,BRADLEY CRATE,RON JOHNSON VICTORY\n",
      "7,BRADLEY CRATE,TEDESCHI FOR CONGRESS\n",
      "8,BRADLEY CRATE,VA DELEGATE TO CLEVELAND 2016 COMMITTEE #1\n",
      "9,BRADLEY CRATE,VA DELEGATE TO CLEVELAND 2016 COMMITTEE #2\n",
      "10,CHARLES GANTT,RESTORE AMERICAN LEADERSHIP\n",
      "11,JAMES MALCZEWSKI,STRATEGY PAC\n",
      "\n",
      "\n",
      "\n",
      "801 PENNSYLVANIA AVE NW, WASHINGTON, DC 20004\n",
      ",tres_nm,cmte_nm\n",
      "0,ALISSA LONG,ALLIANT ENERGY CORPORATION EMPLOYEE'S POLITICAL ACTION COMM\n",
      "1,ANDREW WHITMAN,\"VARIAN MEDICAL SYSTEMS, INC. PAC ('VARIAN PAC')\"\n",
      "2,BRETT LOPER,AMERICAN EXPRESS COMPANY POLITICAL ACTION COMMITTEE (AXPPAC)\n",
      "3,BRIAN TOBIN,\"NEXTERA ENERGY, INC. POLITICAL ACTION COMMITTEE\"\n",
      "4,CHRISTOPHER CERONE,\"ZIMMER BIOMET HOLDINGS, INC. POLITICAL ACTION COMMITTEE (A.K.A. 'ZIMMER BIOMET PAC')\"\n",
      "5,ERIC BISHOP,FRESENIUS MEDICAL CARE NORTH AMERICA PAC\n",
      "6,JEFFREY DEBOER,THE REAL ESTATE ROUNDTABLE POLITICAL ACTION COMMITTEE (REALPAC)\n",
      "7,JOHN ORLANDO,CBS CORPORATION POLITICAL ACTION COMMITTEE\n",
      "8,LAUREN MYRICK,NOMURA HOLDING AMERICA INC. POLITICAL ACTION COMMITTEE (NOMURAPAC)\n",
      "9,ROBERT EKSTROM,PINNACLE WEST CAPITAL CORPORATION PAC\n",
      "10,SHAWN O'NEAIL,NOVARTIS CORPORATION POLITICAL ACTION COMMITTEE\n",
      "\n",
      "\n",
      "\n"
     ]
    },
    {
     "name": "stdout",
     "output_type": "stream",
     "text": [
      "2776 S ARLINGTON MILL DR, ARLINGTON, VA 22206\n",
      ",tres_nm,cmte_nm\n",
      "0,SCOTT MACKENZIE,BLACK REPUBLICAN PAC\n",
      "1,SCOTT MACKENZIE,CONSERVATIVE MAJORITY FUND\n",
      "2,SCOTT MACKENZIE,CONSERVATIVE VICTORY FUND\n",
      "3,SCOTT MACKENZIE,FOUNDED ON TRUTH\n",
      "4,SCOTT MACKENZIE,HISPANICS FOR A CONSERVATIVE AMERICA\n",
      "5,SCOTT MACKENZIE,MAN IN THE ARENA\n",
      "6,SCOTT MACKENZIE,SAVE NEW YORK PAC\n",
      "7,SCOTT MACKENZIE,STAND AMERICA PAC\n",
      "8,SCOTT MACKENZIE,TEA PARTY MAJORITY FUND\n",
      "9,SCOTT MACKENZIE,TEA PARTY VICTORY FUND\n",
      "10,SCOTT MACKENZIE,THE CONSERVATIVE STRIKEFORCE\n",
      "\n",
      "\n",
      "\n",
      "1787 TRIBUTE RD, SACRAMENTO, CA 95815\n",
      ",tres_nm,cmte_nm\n",
      "0,(no treasurer listed),SAFETY FOR ALL YES ON PROP. 63 NEWSOM BALLOT MEASURE COMMITTEE\n",
      "1,JACK PHILLIPS,VENTURA COUNTY DEMOCRATIC CENTRAL COMMITTEE\n",
      "2,SAL ROSSELLI,NATIONAL UNION OF HEALTHCARE WORKERS FEDERAL COMMITTEE ON POLITICAL EDUCATION\n",
      "3,SHAWNDA DEANE,CA-BAM PAC\n",
      "4,SHAWNDA DEANE,CALIFORNIA PROGRESS COALITION\n",
      "5,SHAWNDA DEANE,CALIFORNIANS FOR OPPORTUNITY\n",
      "6,SHAWNDA DEANE,EAST BAY YOUNG DEMOCRATS - FEDERAL\n",
      "7,SHAWNDA DEANE,ELECTING WOMEN SILICON VALLEY FEDERAL PAC\n",
      "8,SHAWNDA DEANE,FIGHT BACK CALIFORNIA\n",
      "9,SHAWNDA DEANE,NEED TO IMPEACH\n",
      "10,SHAWNDA DEANE,PROGRESSIVE WOMEN SILICON VALLEY FEDERAL PAC\n",
      "\n",
      "\n",
      "\n",
      "1201 F ST NW, WASHINGTON, DC 20004\n",
      ",tres_nm,cmte_nm\n",
      "0,(no treasurer listed),NATIONAL FEDERATION OF INDEPENDENT BUSINESS\n",
      "1,(no treasurer listed),REPUBLICAN STATE LEADERSHIP COMMITTEE\n",
      "2,(no treasurer listed),REPUBLICAN STATE LEADERSHIP COMMITTEE - WASHINGTON PAC\n",
      "3,CECILIA GUARIN,CREDIT SUISSE SECURITIES (USA) LLC POLITICAL ACTION COMMITTEE\n",
      "4,GREGG SHEIOWITZ,\"ZURICH HOLDING COMPANY OF AMERICA, INC. COMMITTEE FOR GOOD GOVERNMENT (Z-PAC)\"\n",
      "5,JEFF SMITH,NATIONAL FEDERATION OF INDEPENDENT BUSINESS FEDERAL POLITICAL ACTION COMMITTEE\n",
      "6,KATHERINE WILLIAMS,FRAMATOME INC PAC\n",
      "7,LISA VAN VARICK,NUCLEAR ENERGY INSTITUTE FEDERAL POLITICAL ACTION COMMITTEE\n",
      "8,MICHAEL MALONEY,NATIONAL FEDERATION OF INDEPENDENT BUSINESS\n",
      "9,MICHAEL MALONEY,NATIONAL FEDERATION OF INDEPENDENT BUSINESS \n",
      "10,MICHAEL MCGARRY,CRUISE LINES INTERNATIONAL ASSOCIATION PAC (CLIA PAC)\n",
      "\n",
      "\n",
      "\n",
      "515 S FIGUEROA ST, LOS ANGELES, CA 90071\n",
      ",tres_nm,cmte_nm\n",
      "0,CARY DAVIDSON,ASHTON WOODS CORP. HOMES PAC\n",
      "1,CARY DAVIDSON,EDISON INTERNATIONAL PAC\n",
      "2,CARY DAVIDSON,EQUALITY CALIFORNIA FEDERAL PAC\n",
      "3,CARY DAVIDSON,KB HOME AMERICAN DREAM PAC\n",
      "4,CARY DAVIDSON,NEIGHBORS FOR A BETTER CONGRESS\n",
      "5,CARY DAVIDSON,SCHOOLSFIRST FEDERAL CREDIT UNION EMPLOYEES FEDERAL PAC\n",
      "6,CARY DAVIDSON,SONY MUSIC ENTERTAINMENT PAC\n",
      "7,CARY DAVIDSON,\"STAMPS.COM, INC. PAC\"\n",
      "8,CARY DAVIDSON,UNIVISION COMMUNICATIONS INC. POLITICAL ACTION COMMITTEE\n",
      "9,DANA REED,CALIFORNIA NATIONS INDIAN GAMING ASSOCIATION FEDERAL PAC (CNIGA FED PAC)\n",
      "10,FLORA YIN,STRONG ECONOMY AND NATIONAL SECURITY PAC\n",
      "\n",
      "\n",
      "\n",
      "PO BOX 10822, RALEIGH, NC 27605\n",
      ",tres_nm,cmte_nm\n",
      "0,CABELL HOBBS,AMERICAN HEROES PAC\n",
      "1,CABELL HOBBS,AMERICANS AGAINST JUDICIAL ACTIVISM\n",
      "2,CABELL HOBBS,BLACK AMERICANS FOR LIBERTY\n",
      "3,CABELL HOBBS,FAMILY VALUES COALITION PAC\n",
      "4,CABELL HOBBS,LEGALIZE FREEDOM PAC\n",
      "5,ELIZABETH CURTIS,AMERICA FIRST COMMITTEE\n",
      "6,ELIZABETH CURTIS,NORTH CAROLINA GUN RIGHTS PAC\n",
      "7,ELIZABETH CURTIS,NORTH STATE LEADERSHIP COUNCIL\n",
      "8,ELIZABETH CURTIS,PRINCIPLED LEADERSHIP PROJECT PAC\n",
      "9,ELIZABETH CURTIS,PRO-LIFE NORTH CAROLINA PAC\n",
      "10,ELIZABETH CURTIS,SECURE THE VOTE\n",
      "\n",
      "\n",
      "\n"
     ]
    }
   ],
   "source": [
    "# show all cmte_nm & tres_nm for committees sharing a street address\n",
    "multiadd = list(cm['address'].value_counts()[cm['address'].value_counts() > 10].index)\n",
    "\n",
    "for add in multiadd:\n",
    "    lil_cm = cm.loc[cm['address'] == add, ['tres_nm', 'cmte_nm']]\\\n",
    "    .sort_values(['tres_nm', 'cmte_nm'], ascending = [True, True]).reset_index(drop = True)\n",
    "    print(add)\n",
    "    print(lil_cm.to_csv(None))\n",
    "    print('\\n')"
   ]
  },
  {
   "cell_type": "markdown",
   "metadata": {},
   "source": [
    "### Other columns"
   ]
  },
  {
   "cell_type": "code",
   "execution_count": 368,
   "metadata": {},
   "outputs": [
    {
     "data": {
      "text/plain": [
       "cmte_PACnonqual               3268\n",
       "cmte_PACqual                  3220\n",
       "cmte_SuperPAC                 2207\n",
       "cmte_IndependentExpenditor    1326\n",
       "cmte_House                    1274\n",
       "cmte_CommunicationCost         526\n",
       "cmte_Partynonqual              299\n",
       "cmte_PACnoncontrib_nonqual     286\n",
       "cmte_ElectioneeringComms       285\n",
       "cmte_Partyqual                 267\n",
       "cmte_Senate                    197\n",
       "cmte_Singlecand                136\n",
       "cmte_Presidential              129\n",
       "cmte_PACnoncontrib_qual         55\n",
       "cmte_DelegateCommittee           4\n",
       "Name: cmte_tp, dtype: int64"
      ]
     },
     "execution_count": 368,
     "metadata": {},
     "output_type": "execute_result"
    }
   ],
   "source": [
    "cmtetp_dict = {\n",
    "    'C' : 'cmte_CommunicationCost',\n",
    "    'D' : 'cmte_DelegateCommittee',\n",
    "    'E' : 'cmte_ElectioneeringComms',\n",
    "    'H' : 'cmte_House',\n",
    "    'I' : 'cmte_IndependentExpenditor',\n",
    "    'S' : 'cmte_Senate',\n",
    "    'N' : 'cmte_PACnonqual',\n",
    "    'Q' : 'cmte_PACqual',\n",
    "    'Y' : 'cmte_Partyqual',\n",
    "    'O' : 'cmte_SuperPAC',\n",
    "    'P' : 'cmte_Presidential',\n",
    "    'U' : 'cmte_Singlecand',\n",
    "    'V' : 'cmte_PACnoncontrib_nonqual',\n",
    "    'W' : 'cmte_PACnoncontrib_qual',\n",
    "    'X' : 'cmte_Partynonqual',\n",
    "    np.nan : np.nan,\n",
    "}\n",
    "\n",
    "cm['cmte_tp'] = [cmtetp_dict[x] for x in cm['cmte_tp']]\n",
    "cm['cmte_tp'].value_counts()"
   ]
  },
  {
   "cell_type": "code",
   "execution_count": 369,
   "metadata": {},
   "outputs": [
    {
     "data": {
      "text/plain": [
       "Unauthorized                    9194\n",
       "Lobbyist/Registrant PAC         1378\n",
       "Principal campaign committee    1338\n",
       "Joint fundraiser                 872\n",
       "Leadership PAC                   658\n",
       "Authorized by a candidate         38\n",
       "Name: cmte_dsgn, dtype: int64"
      ]
     },
     "execution_count": 369,
     "metadata": {},
     "output_type": "execute_result"
    }
   ],
   "source": [
    "cmtedsgn_dict = {\n",
    "    'A' : 'Authorized by a candidate',\n",
    "    'B' : 'Lobbyist/Registrant PAC',\n",
    "    'D' : 'Leadership PAC',\n",
    "    'J' : 'Joint fundraiser',\n",
    "    'P' : 'Principal campaign committee',\n",
    "    'U' : 'Unauthorized',\n",
    "    np.nan : np.nan,\n",
    "}\n",
    "\n",
    "cm['cmte_dsgn'] = [cmtedsgn_dict[x] for x in cm['cmte_dsgn']]\n",
    "cm['cmte_dsgn'].value_counts()"
   ]
  },
  {
   "cell_type": "code",
   "execution_count": 370,
   "metadata": {},
   "outputs": [
    {
     "data": {
      "text/plain": [
       "UNK    11461\n",
       "DEM      914\n",
       "REP      722\n",
       "LIB       76\n",
       "IND       69\n",
       "NNE       50\n",
       "GRE       34\n",
       "NAT       27\n",
       "OTH       27\n",
       "W         14\n",
       "NPA       12\n",
       "DFL       10\n",
       "CON        7\n",
       "REF        5\n",
       "NON        5\n",
       "IDP        5\n",
       "AIP        5\n",
       "SWP        3\n",
       "SEP        3\n",
       "CRV        2\n",
       "AMP        2\n",
       "FED        2\n",
       "COM        2\n",
       "PFP        2\n",
       "NAP        2\n",
       "PRO        2\n",
       "GRN        2\n",
       "CST        2\n",
       "WOR        1\n",
       "UUP        1\n",
       "WRI        1\n",
       "PPO        1\n",
       "GWP        1\n",
       "NLP        1\n",
       "CIT        1\n",
       "TEX        1\n",
       "ALP        1\n",
       "WFP        1\n",
       "WHG        1\n",
       "PAC        1\n",
       "TN         1\n",
       "IAP        1\n",
       "ACE        1\n",
       "ICD        1\n",
       "WF         1\n",
       "WAD        1\n",
       "TX         1\n",
       "TUP        1\n",
       "FUX        1\n",
       "REC        1\n",
       "Name: cmte_pty_affiliation, dtype: int64"
      ]
     },
     "execution_count": 370,
     "metadata": {},
     "output_type": "execute_result"
    }
   ],
   "source": [
    "pty_affil = [\n",
    "    np.nan,\n",
    "    '.',\n",
    "    'UKN',\n",
    "    '  0',\n",
    "    'UN',\n",
    "]\n",
    "\n",
    "cm['cmte_pty_affiliation'] = ['UNK' if (x in pty_affil) else x for x in cm['cmte_pty_affiliation']]\n",
    "cm['cmte_pty_affiliation'].value_counts()"
   ]
  },
  {
   "cell_type": "code",
   "execution_count": 371,
   "metadata": {},
   "outputs": [
    {
     "data": {
      "text/plain": [
       "Q    6737\n",
       "A    3245\n",
       "M    1932\n",
       "T    1575\n",
       "Name: cmte_filing_freq, dtype: int64"
      ]
     },
     "execution_count": 371,
     "metadata": {},
     "output_type": "execute_result"
    }
   ],
   "source": [
    "cm['cmte_filing_freq'].value_counts()"
   ]
  },
  {
   "cell_type": "code",
   "execution_count": 372,
   "metadata": {},
   "outputs": [
    {
     "data": {
      "text/plain": [
       "org_Corporation                          1744\n",
       "org_Trade association                     757\n",
       "org_Membership organization               529\n",
       "org_Labor organization                    401\n",
       "org_Corporation without capital stock     104\n",
       "org_Cooperative                            45\n",
       "org_HnotonFECsite                           7\n",
       "org_InotonFECsite                           4\n",
       "Name: org_tp, dtype: int64"
      ]
     },
     "execution_count": 372,
     "metadata": {},
     "output_type": "execute_result"
    }
   ],
   "source": [
    "orgtp_dict = {\n",
    "    'C' : 'org_Corporation',\n",
    "    'H' : 'org_HnotonFECsite',\n",
    "    'I' : 'org_InotonFECsite',\n",
    "    'L' : 'org_Labor organization',\n",
    "    'M' : 'org_Membership organization',\n",
    "    'T' : 'org_Trade association',\n",
    "    'V' : 'org_Cooperative',\n",
    "    'W' : 'org_Corporation without capital stock',\n",
    "    np.nan : np.nan,\n",
    "}\n",
    "\n",
    "cm['org_tp'] = [orgtp_dict[x] for x in cm['org_tp']]\n",
    "cm['org_tp'].value_counts()"
   ]
  },
  {
   "cell_type": "code",
   "execution_count": 373,
   "metadata": {},
   "outputs": [
    {
     "data": {
      "text/plain": [
       "NONE                                                                  2596\n",
       "DOLLARS FOR DEMOCRATS                                                   12\n",
       "SERVE AMERICA VICTORY FUND                                              10\n",
       "REPUBLICANS INSPIRING SUCCESS & EMPOWERMENT PROJECT (RISE PROJECT)       8\n",
       "DIGIDEMS COMMITTEE                                                       8\n",
       "REPUBLICAN PARTY OF TEXAS                                                7\n",
       "REPUBLICAN PARTY OF VIRGINIA INC                                         6\n",
       "DEMOCRATIC PARTY OF VIRGINIA                                             6\n",
       "REPUBLICAN NATIONAL COMMITTEE                                            5\n",
       "SMITH                                                                    5\n",
       "Name: connected_org_nm, dtype: int64"
      ]
     },
     "execution_count": 373,
     "metadata": {},
     "output_type": "execute_result"
    }
   ],
   "source": [
    "cm['connected_org_nm'].value_counts()[:10]"
   ]
  },
  {
   "cell_type": "code",
   "execution_count": 374,
   "metadata": {},
   "outputs": [],
   "source": [
    "cm.loc[cm['connected_org_nm'] == 'NONE', 'connected_org_nm'] = np.nan"
   ]
  },
  {
   "cell_type": "code",
   "execution_count": 375,
   "metadata": {},
   "outputs": [
    {
     "data": {
      "text/plain": [
       "DOLLARS FOR DEMOCRATS                                                 12\n",
       "SERVE AMERICA VICTORY FUND                                            10\n",
       "DIGIDEMS COMMITTEE                                                     8\n",
       "REPUBLICANS INSPIRING SUCCESS & EMPOWERMENT PROJECT (RISE PROJECT)     8\n",
       "REPUBLICAN PARTY OF TEXAS                                              7\n",
       "REPUBLICAN PARTY OF VIRGINIA INC                                       6\n",
       "DEMOCRATIC PARTY OF VIRGINIA                                           6\n",
       "CALIFORNIA REPUBLICAN PARTY                                            5\n",
       "SMITH                                                                  5\n",
       "REPUBLICAN NATIONAL COMMITTEE                                          5\n",
       "Name: connected_org_nm, dtype: int64"
      ]
     },
     "execution_count": 375,
     "metadata": {},
     "output_type": "execute_result"
    }
   ],
   "source": [
    "cm['connected_org_nm'].value_counts()[:10]"
   ]
  },
  {
   "cell_type": "code",
   "execution_count": 376,
   "metadata": {
    "scrolled": false
   },
   "outputs": [
    {
     "name": "stderr",
     "output_type": "stream",
     "text": [
      "/opt/anaconda3/lib/python3.7/site-packages/pandas/core/indexing.py:961: FutureWarning: \n",
      "Passing list-likes to .loc or [] with any missing label will raise\n",
      "KeyError in the future, you can use .reindex() as an alternative.\n",
      "\n",
      "See the documentation here:\n",
      "https://pandas.pydata.org/pandas-docs/stable/user_guide/indexing.html#deprecate-loc-reindex-listlike\n",
      "  return getattr(section, self.name)[new_key]\n"
     ]
    },
    {
     "name": "stdout",
     "output_type": "stream",
     "text": [
      "PAUL KILGORE, treasurer\n",
      "144 committees\n",
      "parties: ['CRV', 'DEM', 'NAT', 'NNE', 'REP', 'UNK']\n",
      ",cmte_id,cand_id,cmte_nm\n",
      "0,C00569079,H0GA07125,HICE FREEDOM FUND\n",
      "1,C00544445,H0GA07125,JODY HICE FOR CONGRESS\n",
      "2,C00544510,H0GA08099,AUSTIN SCOTT VICTORY FUND\n",
      "3,C00462556,H0GA09030,GRAVES FOR CONGRESS\n",
      "4,C00501866,H0GA09030,TEAM GRAVES\n",
      "5,C00458877,H0IL11052,KINZINGER FOR CONGRESS\n",
      "6,C00467522,H0IL14080,RANDY HULTGREN FOR CONGRESS\n",
      "7,C00476820,H0OH06189,JOHNSON FOR CONGRESS\n",
      "8,C00497115,H0PA04220,ROTHFUS FOR CONGRESS\n",
      "9,C00504522,H2NC08185,HUDSON FOR CONGRESS\n",
      "10,C00548818,H2NC08185,HUDSON FREEDOM FUND\n",
      "11,C00551374,H4AL06098,GARY PALMER FOR CONGRESS\n",
      "12,C00573378,H4CO04090,BUCK FOR COLORADO\n",
      "13,C00546846,H4FL26038,CARLOS CURBELO CONGRESS\n",
      "14,C00565374,H4FL26038,CURBELO VICTORY COMMITTEE\n",
      "15,C00543967,H4GA01039,BUDDY CARTER FOR CONGRESS\n",
      "16,C00545749,H4MN06087,EMMER FOR CONGRESS\n",
      "17,C00573444,H4MN06087,EMMER VICTORY COMMITTEE\n",
      "18,C00573436,H4MO08162,SMITH VICTORY\n",
      "19,C00559393,H4WA04104,DAN NEWHOUSE FOR CONGRESS\n",
      "20,C00632257,H6FL18097,MAST FOR CONGRESS\n",
      "21,C00610212,H6WI08155,MIKE GALLAGHER FOR WISCONSIN\n",
      "22,C00666396,H8FL06148,MICHAEL WALTZ FOR CONGRESS\n",
      "23,C00648816,H8FL07062,MIKE MILLER FOR CONGRESS\n",
      "24,C00435974,H8MD01094,ANDY HARRIS FOR CONGRESS\n",
      "25,C00674259,H8PA13125,DR JOHN JOYCE FOR CONGRESS\n",
      "26,C00666040,S8AZ00221,MCSALLY FOR SENATE INC\n",
      "27,C00675223,,2018 TILLIS SENATE CANDIDATE FUND\n",
      "28,C00631051,,ABRAHAM LINCOLN PAC\n",
      "29,C00575076,,ADAM KINZINGER - FUTURE 1ST COMMITTEE\n",
      "30,C00624775,,AMERICA IS WORTH IT\n",
      "31,C00542589,,AMERICA'S FUTURE\n",
      "32,C00633081,,AMERICANS FOR BBQ 2017\n",
      "33,C00666792,,AMERICANS FOR BBQ 2018\n",
      "34,C00658146,,BCY COMMITTEE\n",
      "35,C00545079,,BELIEF IN LIFE AND LIBERTY POLITICAL ACTION COMMITTEE (BILL'S PAC)\n",
      "36,C00559237,,BELIEVE AGAIN PAC\n",
      "37,C00412288,,BILL PAC\n",
      "38,C00681585,,BOST VICTORY FUND\n",
      "39,C00597062,,BUDDY PAC\n",
      "40,C00629832,,BUILDING OPPORTUNITIES FOR A STRONGER TOMORROW B.O.S.T. PAC\n",
      "41,C00492819,,CHESAPEAKE PAC\n",
      "42,C00653139,,COASTAL COMMITTEE 2017\n",
      "43,C00676023,,COFFMAN VICTORY FUND 2018\n",
      "44,C00631663,,COLLINS LEADERSHIP FUND\n",
      "45,C00672592,,CONSERVATIVE LEADERSHIP NOW PAC\n",
      "46,C00585893,,CONSERVATIVE PROMISES PAC\n",
      "47,C00557595,,CONSERVATIVE WARCHEST PAC\n",
      "48,C00631416,,CURBELO/COSTELLO LEADERSHIP COMMITTEE\n",
      "49,C00581991,,DAVID YOUNG VICTORY FUND\n",
      "50,C00540393,,DBM PAC\n",
      "51,C00576181,,DOLD VICTORY COMMITTEE\n",
      "52,C00605584,,DUFFY EMMER JOINT FUNDRAISING COMMITTEE\n",
      "53,C00592089,,ELECTING MAJORITY MAKING EFFECTIVE REPUBLICANS\n",
      "54,C00541078,,EXCELSIOR PAC\n",
      "55,C00654319,,FEDERALIST FREEDOM FUND\n",
      "56,C00540146,,FIRST IN FREEDOM PAC\n",
      "57,C00479253,,FIRST TEAM PAC\n",
      "58,C00659144,,FLORIDA GEORGIA FUND\n",
      "59,C00482703,,FREEDOM PAC\n",
      "60,C00401786,,FREEDOM'S DEFENSE FUND\n",
      "61,C00650713,,FREEDOMWORKS 2017 COMMITTEE\n",
      "62,C00638643,,GEORGIA LIFE ALLIANCE ACTION FUND\n",
      "63,C00490235,,GEORGIA PAC\n",
      "64,C00657262,,GO PAC GO\n",
      "65,C00640847,,GOLDEN ISLE COMMITTEE 2017\n",
      "66,C00448191,,GOP GENERATION Y FUND\n",
      "67,C00580381,,GRANITE STATE SOLUTIONS\n",
      "68,C00687517,,GROWING OUR SENATE MAJORITY\n",
      "69,C00685784,,GT FORCE\n",
      "70,C00653725,,HOOSIER VALUES\n",
      "71,C00690131,,IDEAL IMMIGRATION PAC\n",
      "72,C00654806,,INHOFE VICTORY COMMITTEE\n",
      "73,C00676858,,INVEST IN THE FUTURE COMMITTEE\n",
      "74,C00656777,,JAM PAC\n",
      "75,C00522425,,JET PAC\n",
      "76,C00685156,,JOHNSON LEADS COMMITTEE\n",
      "77,C00684670,,KARIN HOUSLEY VICTORY FUND\n",
      "78,C00631044,,KINZINGER-YOPAC VICTORY FUND\n",
      "79,C00491241,,LINCOLN PAC\n",
      "80,C00298000,,MADISON PROJECT INC.\n",
      "81,C00570739,,MAKE DC LISTEN\n",
      "82,C00583161,,MAST VICTORY COMMITTEE 2018\n",
      "83,C00686543,,MCSALLY ARIZONA VICTORY FUND\n",
      "84,C00690370,,MCSALLY SCHWEIKERT VICTORY COMMITTEE\n",
      "85,C00678458,,MCSALLY SENATE VICTORY FUND\n",
      "86,C00691295,,MCSALLY VOTER INTEGRITY FUND\n",
      "87,C00684167,,MI VICTORY 2018\n",
      "88,C00679415,,MIAMI MIRACLE PAC\n",
      "89,C00688804,,MIKE MILLER VICTORY FUND\n",
      "90,C00629956,,MILLENNIAL GOP VICTORY COMMITTEE 2017\n",
      "91,C00685107,,MISSOURI FOR GOP SENATE MAJORITY\n",
      "92,C00619585,,MOUNTAIN STATE VICTORY PAC\n",
      "93,C00611400,,NEW ENERGY IN WASHINGTON HOUSE PAC NEW HOUSE PAC\n",
      "94,C00658260,,NEW SOLUTIONS VICTORY COMMITTEE\n",
      "95,C00631374,,NORTH CAROLINA FREEDOM FUND 2017\n",
      "96,C00624627,,PALMER VICTORY COMMITTEE\n",
      "97,C00569921,,PEACH PAC\n",
      "98,C00663252,,PEAKS VICTORY COMMITTEE 2018\n",
      "99,C00581892,,PONDEROSA PAC\n",
      "100,C00682716,,PRESERVE THE SENATE MAJORITY 2018\n",
      "101,C00377689,,PROSPERITY ACTION INC.\n",
      "102,C00681601,,PROTECT THE SENATE MAJORITY COMMITTEE\n",
      "103,C00693127,,PSC REDPAC\n",
      "104,C00691501,,RE-JOYCE PAC\n",
      "105,C00615351,,REAGAN HERITAGE PAC\n",
      "106,C00569558,,REBUILDING AMERICAS TRUST PAC\n",
      "107,C00635052,,REED VICTORY COMMITTEE\n",
      "108,C00344648,,RELY ON YOUR BELIEFS FUND\n",
      "109,C00637298,,RYAN-MCCARTHY VICTORY\n",
      "110,C00570226,,SEAL PAC SUPPORTING ELECTING AMERICAN LEADERS PAC\n",
      "111,C00679951,,\"SECURING OHIO'S FUTURE ACTION FUND, INC.\"\n",
      "112,C00687269,,SECURING THE SENATE MAJORITY COMMITTEE\n",
      "113,C00524181,,SENATE CONSERVATIVES ACTION\n",
      "114,C00448696,,SENATE CONSERVATIVES FUND\n",
      "115,C00627208,,SHUSTER VICTORY FUND\n",
      "116,C00625806,,SMUCKER VICTORY COMMITTEE\n",
      "117,C00658484,,SMUCKER VICTORY COMMITTEE\n",
      "118,C00568089,,STAND PAC\n",
      "119,C00636837,,STAR PAC\n",
      "120,C00686667,,STARS AND STRIPES AMERICA\n",
      "121,C00625194,,STRONG AMERICA FUND\n",
      "122,C00540898,,TEA PARTY PATRIOTS CITIZENS FUND\n",
      "123,C00623959,,TEAM GALLAGHER\n",
      "124,C00619486,,TEAM LAHOOD\n",
      "125,C00651463,,TEAM ROBY VICTORY FUND\n",
      "126,C00631747,,TEAM TELLURIDE 2017\n",
      "127,C00692848,,TEAM TELLURIDE 2019\n",
      "128,C00629014,,TEAM WOODALL\n",
      "129,C00630277,,THE BHY COMMITTEE\n",
      "130,C00673053,,THE HAWKEYE FUND\n",
      "131,C00582734,,THE MCSALLY VICTORY FUND\n",
      "132,C00574376,,THUNDERBOLT PAC\n",
      "133,C00582148,,TOM ROONEY VICTORY COMMITTEE\n",
      "134,C00611962,,TURNER VICTORY FUND\n",
      "135,C00660167,,VETERANS VICTORY FUND\n",
      "136,C00500793,,WELLS PAC\n",
      "137,C00571646,,WHAT A COUNTRY! PAC\n",
      "138,C00686964,,WIN ARIZONA FUND\n",
      "139,C00684837,,WOMEN LEADERSHIP COMMITTEE\n",
      "140,C00688622,,YOHO VICTORY FUND\n",
      "141,C00666008,,YOPAC-WHAT A COUNTRY! VICTORY FUND\n",
      "142,C00683987,,YOUNG VICTORY COMMITTEE\n",
      "143,C00666081,,ZELDIN-LOVE VICTORY FUND 2018\n",
      "\n",
      "\n",
      "\n",
      "\n",
      "CHRISTOPHER MARSTON, treasurer\n",
      "122 committees\n",
      "parties: ['CRV', 'DEM', 'NNE', 'REP', 'UNK']\n",
      ",cmte_id,cand_id,cmte_nm\n",
      "0,C00468579,H0IN02190,WALORSKI FOR CONGRESS INC\n",
      "1,C00554261,H4VA10089,COMSTOCK FOR CONGRESS\n",
      "2,C00576173,H6KS01179,KANSANS FOR MARSHALL\n",
      "3,C00433524,H8CA52052,DUNCAN D. HUNTER FOR CONGRESS\n",
      "4,C00657981,H8NH02275,FRIENDS OF STEVE NEGRON\n",
      "5,C00658583,H8PA15245,MARTY FOR CONGRESS INC\n",
      "6,C00441014,H8VA01147,ROB WITTMAN FOR CONGRESS\n",
      "7,C00638148,S8MA00268,SHIVA 4 SENATE\n",
      "8,C00676866,S8MN00636,TROOIEN FOR US SENATE\n",
      "9,C00504704,S8ND00120,CRAMER FOR SENATE\n",
      "10,C00686105,S8ND00120,TEAM CRAMER ND\n",
      "11,C00684746,,#FIXIT ACTION FUND\n",
      "12,C00659722,,115TH FRESHMEN VICTORY\n",
      "13,C00043919,,8TH DISTRICT REPUBLICAN COMMITTEE (VA)\n",
      "14,C00507384,,ALEXANDRIA REPUBLICAN CITY COMMITTEE\n",
      "15,C00620641,,AMERICA REVIVED PAC\n",
      "16,C00524314,,AMERICA'S FIRST PAC\n",
      "17,C00567016,,AMERICAN ALLIANCE\n",
      "18,C00671909,,AMERICAN CATALOG MAILERS ASSOCIATION PAC (ACMA PAC)\n",
      "19,C00547265,,AMERICAN COMMITMENT ACTION FUND\n",
      "20,C00575100,,AMERICAN ENCORE ACTION\n",
      "21,C00449926,,AMERICAN FUTURE FUND POLITICAL ACTION\n",
      "22,C00688788,,AMERICAN POTENTIAL FUND\n",
      "23,C00685941,,AMERICAN POTENTIAL PAC\n",
      "24,C00640078,,AMERICAN UPRISING PAC\n",
      "25,C00623371,,AMERICAN VALUES PAC INC.\n",
      "26,C00622407,,AMIE HOEBER VICTORY FUND\n",
      "27,C00692947,,ARIZONA MATTERS\n",
      "28,C00526350,,AUTISM SUPER PAC; THE\n",
      "29,C00543207,,BADLANDS PAC\n",
      "30,C00668822,,BERT FOR SENATE\n",
      "31,C00567784,,BLACK AMERICANS FOR A BETTER FUTURE\n",
      "32,C00634303,,BLOCKIMPEACHMENT.ORG\n",
      "33,C00681833,,BLUM VICTORY FUND\n",
      "34,C00667881,,BRAT VICTORY FUND\n",
      "35,C00659193,,BUCK LEADERSHIP FUND\n",
      "36,C00646463,,BUCKEYE BATTLE PAC\n",
      "37,C00686147,,BUDD HARRIS VICTORY FUND\n",
      "38,C00549865,,CHENEGA CORPORATION PAC (CHENEGA PAC)\n",
      "39,C00675579,,COALITION FOR A SAFE AMERICA\n",
      "40,C00633347,,COMSTOCK VICTORY FUND 2018\n",
      "41,C00674432,,CONSERVATIVE ALLIANCE PAC\n",
      "42,C00573154,,\"CONSERVATIVE, AUTHENTIC, RESPONSIVE LEADERSHIP FOR YOU AND FOR AMERICA\"\n",
      "43,C00574749,,CONSERVATIVES FOR EFFECTIVE GOVERNMENT\n",
      "44,C00688192,,COURAGE MAINE\n",
      "45,C00565861,,CRAMER VICTORY FUND\n",
      "46,C00662353,,CRAMER VICTORY FUND\n",
      "47,C00685321,,CRAMER-HAWLEY VICTORY FUND\n",
      "48,C00638932,,DEAL HER OUT PAC\n",
      "49,C00663732,,DEFEND FREEDOM\n",
      "50,C00665596,,DEFENDING DEMOCRACY TOGETHER ACTION FUND\n",
      "51,C00574046,,EMPOWERING AMERICA\n",
      "52,C00574038,,EMPOWERING AMERICA FUND\n",
      "53,C00573014,,FIGHTING FOR OHIO FUND\n",
      "54,C00634576,,FOR A BETTER AMERICA\n",
      "55,C00690818,,FORPAC INC\n",
      "56,C00499020,,FREEDOMWORKS FOR AMERICA\n",
      "57,C00573550,,FREEDOMWORKS PAC\n",
      "58,C00673962,,FREEDOMWORKS VICTORY 2018\n",
      "59,C00622589,,GARRETT VICTORY FUND\n",
      "60,C00612283,,GEORGIANS FIRST FUND\n",
      "61,C00640888,,GFORCE\n",
      "62,C00678524,,GIANFORTE DAINES VICTORY COMMITTEE\n",
      "63,C00635235,,GIANFORTE VICTORY FUND\n",
      "64,C00679670,,GO SOUTH JERSEY\n",
      "65,C00679555,,GROWTH AND OPPORTUNITY FUND\n",
      "66,C00568840,,GROWTH POLITICAL ACTION COMMITTEE ('GROWTH PAC')\n",
      "67,C00608158,,HUNTER VICTORY FUND\n",
      "68,C00674150,,INSPIRE PAC\n",
      "69,C00669283,,JSW STEEL USA PAC (JSW USA PAC)\n",
      "70,C00582726,,JUMP INTO ACTION FOR CONSERVATIVES TO KEEP OUR IDEAS ELEVATED PAC\n",
      "71,C00632323,,KANSAS LEADERSHIP PAC\n",
      "72,C00514653,,LIBERTY FOR ALL ACTION FUND\n",
      "73,C00629931,,LONE STAR LIBERTY\n",
      "74,C00486738,,MANY INDIVIDUAL CONSERVATIVES HELPING ELECT LEADERS EVERYWHERE (MICHELEPAC)\n",
      "75,C00602870,,MARINO VICTORY FUND\n",
      "76,C00492868,,MARLIN PAC\n",
      "77,C00683490,,MENTAL HEALTH AWARENESS\n",
      "78,C00667956,,MICHIGAN VICTORY FUND 2018\n",
      "79,C00660290,,MILLENNIAL ADVOCACY COUNCIL PAC (MAC PAC)\n",
      "80,C00680207,,MINNESOTA VICTORY FUND\n",
      "81,C00665521,,MOUNTAIN CITY PAC\n",
      "82,C00593475,,MOVING AMERICA'S REPUBLICANS INTO NUMBER ONE PAC\n",
      "83,C00587717,,NATIONAL CONSERVATIVE COMMITTEE\n",
      "84,C00592196,,NEIGHBORHOOD ALLIANCE PAC\n",
      "85,C00679878,,NEPHRON PHARMACEUTICALS CORPORATION POLITICAL ACTION COMMITTEE (NEPHRON PAC)\n",
      "86,C00571604,,NEW AMERICAN COALITION\n",
      "87,C00622860,,NEW DAWN PAC\n",
      "88,C00564773,,NEXTGEN GOP\n",
      "89,C00585554,,NOVA POLITICAL ACTION COMMITTEE\n",
      "90,C00647206,,ONE GENERATION\n",
      "91,C00574277,,ONE VOTE\n",
      "92,C00654707,,OUR FOUNDING PRINCIPLES\n",
      "93,C00669374,,PA IN 18\n",
      "94,C00525824,,PEACE THROUGH STRENGTH PAC\n",
      "95,C00691915,,PRAYERIE PAC\n",
      "96,C00523456,,PRESERVE AMERICA'S FUTURE\n",
      "97,C00609917,,\"PROTECT LOUISIANA, INC.\"\n",
      "98,C00592030,,PROTECTUS\n",
      "99,C00635532,,RAISE THE WALL\n",
      "100,C00684688,,RED MAJORITY PAC\n",
      "101,C00503417,,RED WHITE AND BLUE FUND\n",
      "102,C00680496,,RIGGLEMAN VICTORY FUND\n",
      "103,C00630459,,RISING TIDE\n",
      "104,C00109991,,SMALL BUSINESS INVESTOR ALLIANCE PAC\n",
      "105,C00683482,,SOCIAL SECURITY REFORM NOW\n",
      "106,C00566372,,STATE CONSERVATIVE REFORM ACTION PAC (SCRAP)\n",
      "107,C00683839,,STEWART VICTORY FUND\n",
      "108,C00676247,,SUBURBAN VIRGINIA REPUBLICAN COALITION (SUV GOP)\n",
      "109,C00632950,,TEAM MARSHALL\n",
      "110,C00681684,,TEAM MARTY\n",
      "111,C00687301,,THUNDER AND LIGHTNING FUND\n",
      "112,C00619478,,US NEWS NETWORK\n",
      "113,C00540724,,VFA PAC\n",
      "114,C00684787,,VRF\n",
      "115,C00630764,,WALORSKI VICTORY FUND\n",
      "116,C00675637,,WAR VETERANS FUND\n",
      "117,C00666511,,WE STAND FOR BETTER\n",
      "118,C00632760,,WHITE COAT WASTE PAC\n",
      "119,C00638858,,WIN IN MONTANA\n",
      "120,C00678854,,WITTMAN VICTORY COMMITTEE\n",
      "121,C00651034,,WORLD MUHAJIR CONGRESS PAC\n",
      "\n",
      "\n",
      "\n",
      "\n",
      "JUDITH ZAMORE, treasurer\n",
      "109 committees\n",
      "parties: ['DEM', 'NNE', 'REP', 'UNK']\n",
      ",cmte_id,cand_id,cmte_nm\n",
      "0,C00476523,H0CA33117,KAREN BASS FOR CONGRESS\n",
      "1,C00656686,H8NJ07223,TOM MALINOWSKI FOR CONGRESS\n",
      "2,C00631705,S0CA00199,SENATE VICTORY 2018\n",
      "3,C00631960,S0NY00410,BLUE SENATE 2018\n",
      "4,C00667501,S0WV00090,SENATE 2018 IMPACT\n",
      "5,C00676817,S0WV00090,SENATE IMPACT WV & MT\n",
      "6,C00682591,S0WV00090,SENATE IMPACT: MO & WV\n",
      "7,C00636811,S0WV00090,SENATE IMPACT: ND & WV\n",
      "8,C00667493,S2CT00132,MONTANA CONNECTICUT VICTORY\n",
      "9,C00634360,S2CT00132,SENATE IMPACT 2018\n",
      "10,C00633925,S2HI00106,JUSTICE 2018\n",
      "11,C00660639,S2IN00091,2018 SENATE IMPACT\n",
      "12,C00673293,S2IN00091,HEIDI JOE VICTORY FUND\n",
      "13,C00657569,S2IN00091,SENATE IMPACT IN & WI\n",
      "14,C00679340,S2IN00091,SENATE IMPACT: IN & MT 2018\n",
      "15,C00635300,S2IN00091,SENATE IMPACT: MO & IN\n",
      "16,C00655688,S2MA00170,BROWN WARREN VICTORY FUND\n",
      "17,C00633073,S2MA00170,MASSACHUSETTS WISCONSIN VICTORY FUND 2018\n",
      "18,C00637173,S2MA00170,STABENOW WARREN VICTORY FUND\n",
      "19,C00677450,S2ND00099,HEIDI TINA VICTORY FUND\n",
      "20,C00638296,S2ND00099,MONTANA NORTH DAKOTA VICTORY FUND\n",
      "21,C00655662,S2ND00099,SECURE THE HEARTLAND FUND\n",
      "22,C00662916,S2ND00099,SENATE IMPACT WI & ND 2018\n",
      "23,C00633578,S2ND00099,SENATE IMPACT: WI & ND\n",
      "24,C00673061,S2NM00088,HEINRICH CARPER VICTORY FUND\n",
      "25,C00668814,S2NM00088,HEINRICH NELSON VICTORY FUND\n",
      "26,C00648089,S2VA00142,OHIO VIRGINIA VICTORY FUND 2018\n",
      "27,C00662114,S2VA00142,SENATE IMPACT 2018\n",
      "28,C00648071,S2VA00142,WISCONSIN VIRGINIA VICTORY FUND\n",
      "29,C00637165,S2WI00219,GREEN SENATE IMPACT 2018\n",
      "30,C00636803,S2WI00219,MICHIGAN WISCONSIN VICTORY FUND\n",
      "31,C00680066,S2WI00219,MIDWEST WOMEN VICTORY FUND\n",
      "32,C00674192,S2WI00219,SENATE IMPACT: MO & WI\n",
      "33,C00630467,S2WI00219,TEXANS FOR A PROGRESSIVE SENATE\n",
      "34,C00634352,S2WI00219,UPPER MIDWEST WOMEN VICTORY FUND\n",
      "35,C00672527,S2WI00219,WISCONSIN MINNESOTA VICTORY FUND\n",
      "36,C00653485,S6MN00267,MN OH PA VICTORY FUND\n",
      "37,C00630806,S6MN00267,RHODE ISLAND MINNESOTA VICTORY FUND\n",
      "38,C00655670,S6MO00305,COMMON SENSE 2018\n",
      "39,C00663153,S6MO00305,FLORIDA MISSOURI VICTORY FUND\n",
      "40,C00630616,S6MO00305,MISSOURI-MONTANA FUND\n",
      "41,C00660357,S6MT00162,HEINRICH TESTER VICTORY FUND\n",
      "42,C00666032,S6MT00162,SENATE IMPACT MT & AZ\n",
      "43,C00555342,S6OH00163,CANARY FUND\n",
      "44,C00264697,S6OH00163,FRIENDS OF SHERROD BROWN\n",
      "45,C00678094,S6OH00163,MICHIGAN OHIO VICTORY FUND\n",
      "46,C00578609,S6OH00163,OHIO GRASSROOTS VICTORY FUND\n",
      "47,C00544296,S6OH00163,OHIO PENNSYLVANIA VICTORY FUND\n",
      "48,C00661314,S8AZ00197,ARIZONA NEVADA VICTORY FUND\n",
      "49,C00677468,S8AZ00197,GREEN SENATE IMPACT 2018\n",
      "50,C00665265,S8FL00166,SENATE IMPACT: FL & NV\n",
      "51,C00681460,S8MN00578,SENATE IMPACT: MN & NV\n",
      "52,C00672519,S8NV00156,SENATE IMPACT: TN & NV\n",
      "53,C00638197,,2020 COMMITTEE\n",
      "54,C00681916,,AFTAB SWING LEFT FUND 2018\n",
      "55,C00331694,,AMERICA WORKS FEDERAL PAC\n",
      "56,C00690073,,AMERICA WORKS STATE & LOCAL PAC\n",
      "57,C00684613,,AVIATORS FOR ACTION VICTORY FUND\n",
      "58,C00688002,,BATTLEGROUND VICTORY FUND 2018\n",
      "59,C00678607,,BAY STATE FOR A MAJORITY\n",
      "60,C00574384,,BENNET COLORADO VICTORY\n",
      "61,C00687129,,BETSY DIRKSEN LONDRIGAN VICTORY FUND\n",
      "62,C00493700,,BLUE HEN FEDERAL PAC\n",
      "63,C00676445,,BLUE HEN STATE & LOCAL PAC\n",
      "64,C00679357,,BLUE IL 18\n",
      "65,C00686634,,CASEY WILD 2018\n",
      "66,C00636449,,CONNECTICUT VICTORY 2018\n",
      "67,C00684423,,DEMOCRATIC VICTORY 2018\n",
      "68,C00684076,,DEMOCRATS UNITED 2018\n",
      "69,C00684894,,DURBIN LONDRIGAN VICTORY FUND\n",
      "70,C00636100,,DURBIN VICTORY FUND\n",
      "71,C00685297,,ELECT DEMOCRATIC WOMEN\n",
      "72,C00688168,,FOX VALLEY VICTORY FUND\n",
      "73,C00682294,,HAALAND TORRES SMALL VICTORY FUND\n",
      "74,C00567693,,HAWAII PAC\n",
      "75,C00629253,,HEIDI VICTORY FUND\n",
      "76,C00666321,,HOULAHAN VICTORY FUND\n",
      "77,C00675488,,HOUSE VICTORY PROJECT\n",
      "78,C00683920,,ILLINOIS DEMOCRATS 2018\n",
      "79,C00667485,,IN MO MT WV VICTORY FUND\n",
      "80,C00687335,,JERSEY HOUSE BLUES\n",
      "81,C00673731,,MA FOR A MAJORITY\n",
      "82,C00685438,,MA HOUSE VICTORY FUND\n",
      "83,C00683995,,MCCASKILL SINEMA VICTORY FUND\n",
      "84,C00656801,,MINNESOTA MASSACHUSETTS VICTORY FUND\n",
      "85,C00646711,,MINNESOTA MONTANA VICTORY FUND\n",
      "86,C00656322,,MISSOURI OHIO VICTORY FUND\n",
      "87,C00677203,,MONTANA PENNSYLVANIA VICTORY FUND\n",
      "88,C00403592,,NARRAGANSETT BAY PAC\n",
      "89,C00624619,,NEW HAMPSHIRE PENNSYLVANIA VICTORY FUND\n",
      "90,C00689299,,NORTH JERSEY BLUE MAJORITY\n",
      "91,C00492983,,NUTMEG PAC\n",
      "92,C00631135,,OHIO PENNSYLVANIA VICTORY FUND\n",
      "93,C00603415,,OHIO RHODE ISLAND VICTORY FUND\n",
      "94,C00676387,,PROTECT OUR SENATORS FUND\n",
      "95,C00497131,,PURPOSE PAC\n",
      "96,C00640672,,RED RIVER VALLEY VICTORY FUND\n",
      "97,C00631143,,RHODE ISLAND PENNSYLVANIA VICTORY FUND\n",
      "98,C00677104,,SECURITY 44\n",
      "99,C00640649,,SENATE IMPACT: IN & MT\n",
      "100,C00667634,,SINEMA KENNEDY VICTORY FUND\n",
      "101,C00686071,,STEVENS VICTORY FUND\n",
      "102,C00683409,,SWING LEFT NY VICTORY FUND\n",
      "103,C00674606,,TAKE BACK THE HOUSE COMMITTEE\n",
      "104,C00641217,,TEAM NEW HAMPSHIRE\n",
      "105,C00634006,,THE COLORADO WAY\n",
      "106,C00683516,,VOTEVETS BLUE MOMENTUM WOMEN'S FUND\n",
      "107,C00665646,,VOTEVETS VICTORY FUND\n",
      "108,C00626911,,WOMEN MAKING HISTORY 2016\n",
      "\n",
      "\n",
      "\n",
      "\n",
      "LISA LISKER, treasurer\n",
      "88 committees\n",
      "parties: ['DEM', 'NNE', 'REP', 'UNK']\n",
      ",cmte_id,cand_id,cmte_nm\n",
      "0,C00589945,H0MI02094,RIVALRY JOINT COMMITTEE; THE\n",
      "1,C00573477,H0TX23086,PATRIOT DAY I 2015\n",
      "2,C00506048,H2SC07066,TOM RICE FOR CONGRESS\n",
      "3,C00584730,H4MI08135,PATRIOT DAY III 2015\n",
      "4,C00393629,H4NC10047,MCHENRY FOR CONGRESS\n",
      "5,C00632828,H4NY22051,CLAUDIA TENNEY FOR CONGRESS\n",
      "6,C00556365,H4NY24073,KATKO FOR CONGRESS\n",
      "7,C00588764,H6KY01110,COMER FOR CONGRESS\n",
      "8,C00542787,H6OR02116,WALDEN VICTORY FUND\n",
      "9,C00668491,H8SC04250,WILLIAM TIMMONS FOR CONGRESS\n",
      "10,C00670109,S2NE00094,WINNING WOMEN FOR THE US SENATE\n",
      "11,C00669093,S8NY00215,CHELE FARLEY FOR SENATE INC\n",
      "12,C00684233,S8OH00102,RENACCI SENATE VICTORY COMMITTEE\n",
      "13,C00682252,S8PA00320,RED WHITE LOU FUND\n",
      "14,C00568717,,AMERICAN UNITY FUND INC FEDERAL COMMITTEE\n",
      "15,C00673327,,AMERICANS UNITED FOR FREEDOM\n",
      "16,C00558445,,ARIZONA GRASSROOTS ACTION PAC\n",
      "17,C00654426,,BACON VICTORY FUND\n",
      "18,C00647420,,BOLD ACTIVE CONSERVATIVES OF NEBRASKA PAC-BACON PAC\n",
      "19,C00568709,,BRIDGING THE GAP\n",
      "20,C00059733,,BROWN-FORMAN CORPORATION NON-PARTISAN COMMITTEE FOR RESPONSIBLE GOVERNMENT\n",
      "21,C00628271,,BUCKEYE JOINT FUNDRAISING COMMITTEE\n",
      "22,C00510248,,BUILDING OUR BASE - BOB PAC\n",
      "23,C00589994,,BUILDING RENEWAL IN AMERICA NOW PAC\n",
      "24,C00491654,,CITIZENS FOR PROSPERITY IN AMERICA TODAY PAC\n",
      "25,C00481176,,CONCERNED AMERICANS FOR FREEDOM & OPPORTUNITY PAC (CAFO PAC)\n",
      "26,C00660571,,CONSERVATIVE WESTERN PRIORITIES\n",
      "27,C00649574,,CRAPO VICTORY COMMITTEE\n",
      "28,C00650853,,\"CREATING OPPORTUNITIES, MARKETS AND ENTHUSIASM IN RURAL KENTUCKY PAC\"\n",
      "29,C00437061,,FREEDOM AND SECURITY PAC\n",
      "30,C00305805,,FREEDOM PROJECT; THE\n",
      "31,C00625004,,FRIENDS OF WINNING WOMEN 2016\n",
      "32,C00670661,,FRIENDS OF WINNING WOMEN 2018\n",
      "33,C00633271,,GARDNER VICTORY COMMITTEE\n",
      "34,C00687749,,GOP MAJORITY VICTORY FUND\n",
      "35,C00673319,,GOP WINNING WOMEN\n",
      "36,C00690891,,GRAHAM MAJORITY FUND\n",
      "37,C00633313,,GROWING REPUBLICAN ACHIEVEMENTS AND PROMOTING EXCELLENCE-GRAPE JFC\n",
      "38,C00674291,,HONOR AND PRINCIPLES PAC\n",
      "39,C00326439,,HOUSE CONSERVATIVES FUND\n",
      "40,C00503300,,IOWA CONGRESSIONAL MAJORITY FUND; THE\n",
      "41,C00685305,,JAMES-RUBIO VICTORY COMMITTEE\n",
      "42,C00516724,,\"JOBS, ENERGY AND OUR FOUNDING FATHERS PAC-JEFF PAC\"\n",
      "43,C00678243,,KATKO VICTORY FUND\n",
      "44,C00682062,,KELLY REED VICTORY COMMITTEE\n",
      "45,C00622514,,KELLY TIBERI JFC\n",
      "46,C00662676,,LEAD THE FIGHT PAC\n",
      "47,C00682476,,LEAD THE FIGHT PAC\n",
      "48,C00502591,,MARKETPLACE IDEAS AND CONSERVATIVE KNOWLEDGE PAC-MICK PAC\n",
      "49,C00638007,,MCCONNELL VICTORY COMMITTEE\n",
      "50,C00657957,,MCHENRY-CURBELO LEADERSHIP FUND\n",
      "51,C00686865,,METOO OHIO\n",
      "52,C00689810,,MILLER SPANO WEBBER VICTORY\n",
      "53,C00692681,,MORAN RUBIO VICTORY COMMITTEE\n",
      "54,C00540187,,MORE CONSERVATIVES PAC (MCPAC)\n",
      "55,C00540054,,NEBRASKA SANDHILLS PAC\n",
      "56,C00459123,,NEW PIONEERS PAC\n",
      "57,C00613760,,NY GOP VICTORY COMMITTEE\n",
      "58,C00659086,,NY GOP VICTORY COMMITTEE 2018\n",
      "59,C00687863,,PAULSEN VICTORY FUND\n",
      "60,C00525543,,PROJECT WEST POLITICAL ACTION COMMITTEE\n",
      "61,C00500025,,RECLAIM AMERICA PAC\n",
      "62,C00566117,,REPUBLICANS IN CONGRESS EMPOWERING AMERICA\n",
      "63,C00486043,,ROAD TO FREEDOM POLITICAL ACTION COMMITTEE\n",
      "64,C00608463,,SALT CITY PAC\n",
      "65,C00715540,,SC 01 VICTORY 2020\n",
      "66,C00577668,,SERVICE HONOR COUNTRY ACTION FUND\n",
      "67,C00501478,,SUPPORT TO ENSURE VICTORY EVERYWHERE PAC-STEVE PAC\n",
      "68,C00678227,,TEAM DUNCAN\n",
      "69,C00544650,,TEAM MCHENRY\n",
      "70,C00635367,,TENACIOUS PAC\n",
      "71,C00677047,,TENNESSEANS FOR A BETTER TOMORROW\n",
      "72,C00682070,,TENNEY NY VICTORY FUND\n",
      "73,C00638718,,TENNEY VICTORY FUND\n",
      "74,C00667238,,TEXAS SENATE VICTORY COMMITTEE\n",
      "75,C00633289,,TILLIS-NRSC COMMITTEE\n",
      "76,C00364174,,TOGETHER FOR OUR MAJORITY POLITICAL ACTION COMMITTEE (TOMPAC)\n",
      "77,C00685313,,WEST VIRGINIA VICTORY FUND\n",
      "78,C00147173,,\"WINE AND SPIRITS WHOLESALERS OF AMERICA, INC. POLITICAL ACTION COMMITTEE\"\n",
      "79,C00672717,,WINNING WOMEN 2018\n",
      "80,C00677302,,WINNING WOMEN GOP ATLANTA\n",
      "81,C00680967,,WINNING WOMEN GOP AZ\n",
      "82,C00677310,,WINNING WOMEN GOP CALIFORNIA\n",
      "83,C00673905,,WINNING WOMEN RESTORING AMERICA\n",
      "84,C00667329,,WINNING WOMEN VICTORY 2018\n",
      "85,C00613752,,WINNING WOMEN VICTORY COMMITTEE\n",
      "86,C00660738,,YOUNG OPTIMISTIC USEFUL REPUBLICANS JFC\n",
      "87,C00618884,,ZINKE DAINES VICTORY ACCOUNT\n",
      "\n",
      "\n",
      "\n",
      "\n",
      "JENNIFER MAY, treasurer\n",
      "62 committees\n",
      "parties: ['DEM', 'NNE', 'REP', 'UNK']\n",
      ",cmte_id,cand_id,cmte_nm\n",
      "0,C00513077,H2CA00120,JULIA BROWNLEY FOR CONGRESS\n",
      "1,C00528547,H2CA00120,JULIA BROWNLEY VICTORY FUND\n",
      "2,C00498873,H2CA28113,TONY CARDENAS FOR CONGRESS\n",
      "3,C00561761,H2CA31125,AGUILAR VICTORY FUND\n",
      "4,C00510461,H2CA31125,PETE AGUILAR FOR CONGRESS\n",
      "5,C00525402,H2CA36439,RUIZ VICTORY FUND\n",
      "6,C00384057,H2CA39078,COMMITTEE TO RE-ELECT LINDA SANCHEZ\n",
      "7,C00498667,H2CA43245,MARK TAKANO FOR CONGRESS\n",
      "8,C00610964,H6VA04061,MCEACHIN FOR CONGRESS\n",
      "9,C00450577,H8NV03036,DEMOCRATS TIME IN NEVADA\n",
      "10,C00499467,H8NV03036,TITUS FOR CONGRESS\n",
      "11,C00648725,H8NY22151,BRINDISI FOR CONGRESS\n",
      "12,C00665471,H8OH10119,THERESA GASPER FOR CONGRESS\n",
      "13,C00634709,H8SC05174,ARCHIE PARNELL FOR CONGRESS\n",
      "14,C00652297,H8TX23121,GINA ORTIZ JONES FOR CONGRESS\n",
      "15,C00567800,,314 PAC\n",
      "16,C00651729,,84 FUND\n",
      "17,C00662700,,ACT TO MATTER\n",
      "18,C00616250,,AMERICAN INNOVATION FUND\n",
      "19,C00655449,,BLUE PENNSYLVANIA 2018\n",
      "20,C00659789,,BRINDISI VICTORY FUND\n",
      "21,C00573709,,CA LUV PAC (CALIFORNIA LEADERSHIP UNITED FOR VICTORY PAC)\n",
      "22,C00682682,,CA MAJORITY MAKERS\n",
      "23,C00669929,,COMMON GOOD PAC\n",
      "24,C00672147,,COMMON GROUND VICTORY FUND\n",
      "25,C00686782,,CUNNINGHAM VICTORY FUND\n",
      "26,C00523670,,DEL PAC\n",
      "27,C00423079,,DEMOCRATS RESHAPING AMERICA (DREAMPAC)\n",
      "28,C00609842,,DIANA KASTENBAUM FOR CONGRESS\n",
      "29,C00688739,,DITCH FUND\n",
      "30,C00664326,,DOGWOOD PAC\n",
      "31,C00569871,,DOING RIGHT - RESULTS ACTION UNITY LEADERSHIP PAC DR RAUL PAC\n",
      "32,C00647347,,END UNFAIR DISTRICTS\n",
      "33,C00550970,,EQUALITY PAC\n",
      "34,C00577049,,FLORIDIANS FOR A STRONG MIDDLE CLASS\n",
      "35,C00658575,,GHLM JOINT FUNDRAISING COMMITTEE\n",
      "36,C00687988,,HEALING MICHIGAN\n",
      "37,C00633032,,IMPEACH THIS RACIST UNQUALIFIED MISOGYNIST PRESIDENT PAC\n",
      "38,C00547356,,INLAND EMPIRE STRIKES PAC; THE\n",
      "39,C00494112,,JOBS AND INNOVATION MATTER PAC (JIM PAC)\n",
      "40,C00567495,,JOBS UNITE LABOR AND INDUSTRY IN AMERICA PAC (JULIA PAC)\n",
      "41,C00662346,,KOHL VICTORY FUND\n",
      "42,C00683466,,LEVIN ROUDA VICTORY FUND\n",
      "43,C00686030,,LONGJOHN VICTORY FUND\n",
      "44,C00699421,,MGS PAC\n",
      "45,C00572438,,MI14 PAC\n",
      "46,C00594507,,MIDDLE CLASS VALUES PAC\n",
      "47,C00685883,,MITRANO VICTORY FUND\n",
      "48,C00681999,,ORTIZ JONES VICTORY FUND\n",
      "49,C00663609,,PROGRESSIVE MAJORITY PAC\n",
      "50,C00551168,,PUGET PAC\n",
      "51,C00683474,,ROUDA VICTORY FUND\n",
      "52,C00625095,,SUOZZI VICTORY FUND\n",
      "53,C00581785,,SUSTAINABLE ENERGY AND ENVIRONMENT COALITION PAC (SEEC PAC)\n",
      "54,C00588632,,TADDEO VICTORY FUND\n",
      "55,C00682021,,TAKANO CALIFORNIA WAVE\n",
      "56,C00682013,,TAKANO EQUALITY WAVE\n",
      "57,C00617381,,THE COLLECTIVE PAC\n",
      "58,C00592808,,THE COLLECTIVE SUPER PAC\n",
      "59,C00619460,,UPSTATE NEW YORK VICTORY FUND\n",
      "60,C00669960,,WHEN DEMOCRATS TURN OUT PAC\n",
      "61,C00685214,,WILD VICTORY FUND\n",
      "\n",
      "\n",
      "\n",
      "\n",
      "BENJAMIN OTTENHOFF, treasurer\n",
      "56 committees\n",
      "parties: ['DEM', 'NNE', 'REP', 'UNK']\n",
      ",cmte_id,cand_id,cmte_nm\n",
      "0,C00394957,H0LA01087,SCALISE FOR CONGRESS\n",
      "1,C00568162,H0LA01087,SCALISE LEADERSHIP FUND\n",
      "2,C00681163,S8AZ00221,STRENGTHEN THE SENATE MAJORITY 2018\n",
      "3,C00680454,S8IN00171,BRAUN VICTORY COMMITTEE\n",
      "4,C00658906,,\"ALABAMA 2017 SENATE VICTORY COMMITTEE, A JOINT FUNDRAISING COMMITTEE COMPRISED OF JUDGE ROY MOORE FOR U.S. SENATE AND THE ALABAMA REPUBLICAN PARTY\"\n",
      "5,C00626507,,BERGMAN VICTORY COMMITTEE\n",
      "6,C00640854,,BLUE COLLAR VICTORY FUND\n",
      "7,C00581132,,BOST VICTORY FUND\n",
      "8,C00576215,,CHARTER SCHOOLS ACTION PAC\n",
      "9,C00345058,,COMMON SENSE COMMON SOLUTIONS POLITICAL ACTION COMMITTEE\n",
      "10,C00615906,,CONSERVATIVE ACTION PAC\n",
      "11,C00614560,,CONSERVATIVE OUTSIDER PAC\n",
      "12,C00668301,,DEFENDARIZONA\n",
      "13,C00621870,,FLORIDA WORKS\n",
      "14,C00623777,,FREEDOM AND FAIRNESS VIRGINIA\n",
      "15,C00638494,,HANDEL VICTORY COMMITTEE\n",
      "16,C00667907,,HANDEL VICTORY FUND\n",
      "17,C00669986,,HAWLEY WIN FUND\n",
      "18,C00650630,,HELPING AMERICA'S NEXT DEDICATED ELECTED LEADERS PAC\n",
      "19,C00688085,,HK VICTORY 2018\n",
      "20,C00584706,,ILLINOIS MAJORITY FUND 2016\n",
      "21,C00677922,,INDIANA SENATE NOMINEE FUND\n",
      "22,C00678169,,INDIANA/MISSOURI VICTORY COMMITTEE\n",
      "23,C00580472,,KATKO VICTORY FUND\n",
      "24,C00576744,,KENTUCKY REPUBLICAN LEADERSHIP FUND 2016\n",
      "25,C00582700,,LET AMERICA WORK\n",
      "26,C00634287,,LONGHORN INNOVATIONS\n",
      "27,C00646927,,MACARTHUR VICTORY\n",
      "28,C00681429,,MAJORITY IN ACTION\n",
      "29,C00684159,,MAJORITY VICTORY PROGRAM\n",
      "30,C00669853,,MARK WALKER VICTORY COMMITTEE\n",
      "31,C00674689,,MOUNTAIN FAMILIES PAC\n",
      "32,C00679381,,NRSC TARGETED STATE VICTORY FUND\n",
      "33,C00634089,,PATRIOT DAY I 2017\n",
      "34,C00641514,,PATRIOT DAY II 2017\n",
      "35,C00672865,,PATRIOT DAY III 2018\n",
      "36,C00681577,,PATRIOT DAY IV 2018\n",
      "37,C00687434,,PATRIOT ROUND IV 2018\n",
      "38,C00581165,,POLIQUIN VICTORY FUND\n",
      "39,C00676882,,PRIMARY PATRIOT DAY 2018\n",
      "40,C00279505,,RAIN AND HAIL INSURANCE SOCIETY POLITICAL ACTION COMMITTEE\n",
      "41,C00637348,,REACH TO ACHIEVE\n",
      "42,C00681874,,ROSENDALE MAJORITY COMMITTEE\n",
      "43,C00580779,,STEFANIK VICTORY FUND\n",
      "44,C00639625,,STOP SANCTUARY CITIES PAC\n",
      "45,C00640599,,STRANGE VICTORY COMMITTEE\n",
      "46,C00636209,,STRENGTHEN THE MAJORITY COMMITTEE\n",
      "47,C00675124,,TEAM MACARTHUR\n",
      "48,C00674499,,TEAM SCALISE FEDERAL\n",
      "49,C00623223,,TEAM TIBERI\n",
      "50,C00649467,,THE COMMITTEE TO DEFEND THE MAJORITY\n",
      "51,C00673715,,THUNE VICTORY COMMITTEE\n",
      "52,C00622423,,WHIP IT GOOD\n",
      "53,C00646562,,WIN IN GEORGIA\n",
      "54,C00686972,,WIN MISSISSIPPI\n",
      "55,C00689133,,WINNING PA\n",
      "\n",
      "\n",
      "\n",
      "\n",
      "JAY PETTERSON, treasurer\n",
      "56 committees\n",
      "parties: ['DEM', 'NNE', 'REP', 'UNK']\n",
      ",cmte_id,cand_id,cmte_nm\n",
      "0,C00472159,H0WA03161,DENNY HECK FOR CONGRESS\n",
      "1,C00459099,H0WA08046,DELBENE FOR CONGRESS\n",
      "2,C00668228,H2NV04011,NEVADANS FOR STEVEN HORSFORD\n",
      "3,C00514893,H2WA06129,PEOPLE FOR DEREK KILMER\n",
      "4,C00577353,H6CA44103,BARRAGAN FOR CONGRESS\n",
      "5,C00655613,H6NV04020,SUSIE LEE FOR CONGRESS\n",
      "6,C00304709,H6WA09025,ADAM SMITH FOR CONGRESS COMMITTEE\n",
      "7,C00665711,H8AK00140,ALYSE FOR ALASKA\n",
      "8,C00638510,H8CA22139,ANDREW JANZ FOR CONGRESS\n",
      "9,C00650648,H8CA39174,CISNEROS FOR CONGRESS\n",
      "10,C00655183,H8NY24090,FRIENDS OF DANA BALTER\n",
      "11,C00675108,H8NY25105,JOE MORELLE FOR CONGRESS\n",
      "12,C00664375,H8VA02111,ELAINE FOR CONGRESS\n",
      "13,C00660472,H8WA03198,ELECT CAROLYN LONG\n",
      "14,C00654400,H8WA05193,LISA BROWN FOR CONGRESS\n",
      "15,C00654251,S2HI00106,CANTWELL-HIRONO VICTORY FUND\n",
      "16,C00679217,S2MA00170,CANTWELL-WARREN VICTORY FUND\n",
      "17,C00667220,S8WA00194,CANTWELL-WHITEHOUSE VICTORY FUND\n",
      "18,C00349506,S8WA00194,FRIENDS OF MARIA\n",
      "19,C00663146,S8WY00189,TRAUNER FOR THE PEOPLE OF WYOMING\n",
      "20,C00663633,,ALLIANCE FOR GUN RESPONSIBILITY FEDERAL VICTORY FUND\n",
      "21,C00686915,,ALYSE GALVIN VICTORY FUND 2018\n",
      "22,C00492025,,AMERICAN DEFENSE AND MILITARY PAC (ADAM PAC)\n",
      "23,C00677393,,BROWN VICTORY FUND\n",
      "24,C00675520,,CANTWELL MURPHY VICTORY FUND\n",
      "25,C00651513,,CANTWELL VICTORY 2018\n",
      "26,C00652438,,CANTWELL WARREN WASHINGTON VICTORY FUND\n",
      "27,C00671453,,CANTWELL-STABENOW VICTORY FUND\n",
      "28,C00684811,,CISNEROS VICTORY FUND\n",
      "29,C00531632,,\"DEFENSE, ECONOMIC RENEWAL, EDUCATION AND KNOWLEDGE PAC\"\n",
      "30,C00587519,,DELBENE VICTORY FUND\n",
      "31,C00677161,,END THE NRA\n",
      "32,C00686014,,FLIP WA BLUE 2018\n",
      "33,C00684274,,FRIENDS OF LISA AND SEAN\n",
      "34,C00548792,,HELPING EVERY CAMPAIGN KICKOFF (HECK PAC)\n",
      "35,C00682849,,HORSFORD LEE VICTORY FUND\n",
      "36,C00684654,,HORSFORD VICTORY 2018 COMMITTEE\n",
      "37,C00682229,,JANZ VICTORY FUND\n",
      "38,C00651638,,KEY WINS PAC\n",
      "39,C00623264,,KIHUEN VICTORY FUND\n",
      "40,C00587501,,KILMER VICTORY FUND\n",
      "41,C00673483,,KILMER VICTORY FUND 2018\n",
      "42,C00650796,,LITTLE PAC\n",
      "43,C00686113,,LONG VICTORY FUND\n",
      "44,C00659771,,LUCHADORA PAC\n",
      "45,C00684571,,LURIA VICTORY FUND\n",
      "46,C00690495,,MCMURRAY MORELLE VICTORY FUND\n",
      "47,C00684134,,NEW LEADERS PAC\n",
      "48,C00678417,,O'ROURKE WASHINGTON DEMOCRATIC VICTORY FUND\n",
      "49,C00623538,,PROGRESS FOR USA PAC\n",
      "50,C00635391,,RED TO BLUE CA\n",
      "51,C00678201,,SUSIE LEE VICTORY FUND\n",
      "52,C00632224,,VOTER DEFENSE FUND\n",
      "53,C00692319,,VOTER PROTECTION PROJECT\n",
      "54,C00638957,,WE REPRESENT\n",
      "55,C00683797,,XOCHITL FOR NEW MEXICO VICTORY FUND\n",
      "\n",
      "\n",
      "\n",
      "\n",
      "DAVID SATTERFIELD, treasurer\n",
      "49 committees\n",
      "parties: ['DEM', 'NNE', 'REP', 'UNK']\n",
      ",cmte_id,cand_id,cmte_nm\n",
      "0,C00610451,H6AZ05083,BIGGS FOR CONGRESS\n",
      "1,C00590463,H6IN09176,TREY FOR CONGRESS\n",
      "2,C00617662,H6LA03148,CAPTAIN HIGGINS FOR CONGRESS\n",
      "3,C00588657,H6TX19099,TEXANS FOR JODEY ARRINGTON\n",
      "4,C00640268,H8AZ09024,STEVE FERRARA FOR CONGRESS\n",
      "5,C00657098,H8MA03114,RICK GREEN FOR CONGRESS\n",
      "6,C00633255,S8NM00200,MICK RICH FOR US SENATE\n",
      "7,C00625830,,AMERICANS FOR LAW ENFORCEMENT PAC\n",
      "8,C00547497,,ARKANSAS HORIZON\n",
      "9,C00633164,,BUILDING INNOVATIVE GOOD GOVERNMENT SOLUTIONS PAC\n",
      "10,C00554394,,CAROLINA PATRIOT ALLIANCE\n",
      "11,C00531673,,COMMITTEE TO PROTECT AMERICA'S ALLIES\n",
      "12,C00488437,,CONCERNED TAXPAYERS OF AMERICA\n",
      "13,C00630723,,CONNECTICUT FIRST\n",
      "14,C00610337,,CONSERVATIVE RESULTS\n",
      "15,C00518779,,CONSERVATIVES ACTING TOGETHER POLITICAL ACTION COMMITTEE (CATPAC)\n",
      "16,C00620120,,CONSTITUTIONAL CONSERVATIVES\n",
      "17,C00163238,,DAVIS WRIGHT POLITICAL ACTION COMMITTEE\n",
      "18,C00531806,,EXCELLENCE IN GOVERNMENT POLITICAL ACTION COMMITTEE\n",
      "19,C00547117,,FREE AT LAST PAC\n",
      "20,C00516112,,FREEDOM FUND FOR AMERICA'S FUTURE INC\n",
      "21,C00609966,,GRAIN AND FEED PAC\n",
      "22,C00618033,,GRASSROOTS AWARENESS PAC\n",
      "23,C00682005,,HOOSIER HORIZON\n",
      "24,C00680413,,IN09 VICTORY FUND\n",
      "25,C00628289,,JOHN CATS PAC\n",
      "26,C00651059,,JOHN CATS POLITICAL ACTION COMMITTEE\n",
      "27,C00632117,,KEYSTONE PRIORITIES\n",
      "28,C00391243,,MACK PAC\n",
      "29,C00479964,,MOTOR AND EQUIPMENT MANUFACTURERS ASSOCIATION PAC (MEMA PAC)\n",
      "30,C00519363,,NATIONAL HORIZON\n",
      "31,C00687921,,NEW ENGLAND HOUSE VICTORY FUND\n",
      "32,C00525386,,PATRIOT PROSPERITY POLITICAL ACTION COMMITTEE\n",
      "33,C00380527,,\"PERNOD RICARD USA, LLC POLITICAL ACTION COMMITTEE\"\n",
      "34,C00653030,,POLICE ACTION FUND\n",
      "35,C00652305,,REDEMPTION PAC\n",
      "36,C00528554,,RJC VICTORY FUND\n",
      "37,C00534032,,SAFEGUARDING AMERICAN LIBERTIES MORALS & OPPORTUNITIES NOW (SALMON) PAC\n",
      "38,C00621706,,SAVE THE SENATE\n",
      "39,C00635243,,STARS AND STRIPES FOREVER PAC\n",
      "40,C00691220,,STATE 48 PAC\n",
      "41,C00626663,,STRONGER NY PAC\n",
      "42,C00624783,,SUN PAC USA\n",
      "43,C00617324,,SUNSHINE SOLUTIONS\n",
      "44,C00635110,,TERM LIMITS NOW POLITICAL ACTION COMMITTEE (TLN PAC)\n",
      "45,C00661934,,THE AMERICAN CENTURY PAC\n",
      "46,C00514125,,THE AMERICAN FOUNDATIONS COMMITTEE\n",
      "47,C00678987,,THE LH PAC\n",
      "48,C00549568,,WINNING WOMEN\n",
      "\n",
      "\n",
      "\n",
      "\n",
      "CABELL HOBBS, treasurer\n",
      "47 committees\n",
      "parties: ['DEM', 'NNE', 'REP', 'UNK']\n",
      ",cmte_id,cand_id,cmte_nm\n",
      "0,C00547893,H4NY21079,ELISE FOR CONGRESS\n",
      "1,C00670547,H8ND00096,ARMSTRONG FOR CONGRESS\n",
      "2,C00542423,S2TX00312,TED CRUZ VICTORY COMMITTEE\n",
      "3,C00638387,,#PROJECTREDTX\n",
      "4,C00687327,,AMERICAN FREEDOM AND OPPORTUNITY PAC\n",
      "5,C00633230,,AMERICAN HEROES PAC\n",
      "6,C00633206,,AMERICANS AGAINST JUDICIAL ACTIVISM\n",
      "7,C00577155,,APEX CLEAN ENERGY INC PAC\n",
      "8,C00633214,,BLACK AMERICANS FOR LIBERTY\n",
      "9,C00544411,,CATALYST PAC\n",
      "10,C00668244,,COMMONWEALTH CONSERVATIVE LEADERSHIP FUND\n",
      "11,C00618215,,CONSERVATIVE NATIONAL SECURITY PAC\n",
      "12,C00688549,,DAKOTA LEADERSHIP PAC\n",
      "13,C00493072,,DAKOTA PAC\n",
      "14,C00685586,,DALLAS ENTREPRENEURS - SESSIONS 2018 FUND\n",
      "15,C00571216,,DEFENDING AMERICAN VALUES EVERYWHERE PAC (DAVE PAC)\n",
      "16,C00578963,,DICK MORRIS' JUST SAY NO TO HER! PAC\n",
      "17,C00570945,,E-PAC\n",
      "18,C00630632,,ELISE VICTORY FUND\n",
      "19,C00633222,,FAMILY VALUES COALITION PAC\n",
      "20,C00692723,,FRESH VOICES FUND\n",
      "21,C00682518,,GIANFORTE-ROSENDALE FUND\n",
      "22,C00640664,,GREAT AMERICA COMMITTEE\n",
      "23,C00655324,,HOOSIERS FOR CONSERVATIVE VALUES\n",
      "24,C00566851,,JOBS OPPORTUNITY AND NEW IDEAS PAC\n",
      "25,C00536540,,\"JOBS, FREEDOM, AND SECURITY PAC\"\n",
      "26,C00542431,,JOHN BOLTON PAC\n",
      "27,C00542464,,JOHN BOLTON SUPER PAC\n",
      "28,C00607184,,JOYCE VICTORY COMMITTEE\n",
      "29,C00633115,,LEGALIZE FREEDOM PAC\n",
      "30,C00675173,,NEW OC FUTURE PAC\n",
      "31,C00686469,,NOEM-RHODEN VICTORY COMMITTEE\n",
      "32,C00532630,,OUR AMERICAN CENTURY\n",
      "33,C00666305,,OUR CONSERVATIVE TEXAS FUTURE\n",
      "34,C00486878,,PEOPLE'S MAJORITY\n",
      "35,C00688390,,PETE SESSIONS VICTORY COMMITTEE\n",
      "36,C00593327,,PRESCRIPTION FOR A STRONGER AMERICA\n",
      "37,C00675181,,RED SENTINEL\n",
      "38,C00675199,,RED SENTINEL PAC\n",
      "39,C00688564,,RIMF\n",
      "40,C00681007,,ROSENDALE VICTORY FUND\n",
      "41,C00691147,,ROUGHRIDER PAC\n",
      "42,C00636084,,SOLUTIONS FOR WISCONSIN\n",
      "43,C00687871,,TEXAS VICTORY FUND\n",
      "44,C00684019,,TRANSPARENCY IN GOVERNMENT PAC\n",
      "45,C00636894,,TRUSTED HOOSIERS PAC\n",
      "46,C00567685,,USA FIRST PAC\n",
      "\n",
      "\n",
      "\n",
      "\n",
      "KEITH DAVIS, treasurer\n",
      "45 committees\n",
      "parties: ['DEM', 'NNE', 'REP', 'UNK']\n",
      ",cmte_id,cand_id,cmte_nm\n",
      "0,C00679605,H0IN08114,BUCSHON VICTORY COMMITTEE\n",
      "1,C00501288,H6MI04113,UPTON VICTORY COMMITTEE\n",
      "2,C00658880,H6MI04113,UPTON VICTORY COMMITTEE\n",
      "3,C00634949,H8GA06286,FRIENDS OF HANDEL\n",
      "4,C00684266,H8WV03097,MILLER VICTORY FUND\n",
      "5,C00572107,S2NE00094,FISCHER VICTORY FUND\n",
      "6,C00689471,S2NV00183,FOUNDERS COMMITTEE; THE\n",
      "7,C00607812,S2NV00183,HELLER VICTORY COMMITTEE\n",
      "8,C00676676,S2TX00312,2018 SENATORS CLASSIC COMMITTEE\n",
      "9,C00683029,S8IN00171,KEEP THE SENATE RED 2018\n",
      "10,C00656926,S8MO00160,HAWLEY VICTORY COMMITTEE\n",
      "11,C00572099,S8MS00196,WICKER VICTORY COMMITTEE\n",
      "12,C00681635,S8WI00224,FRIENDS OF LEAH VUKMIR\n",
      "13,C00689398,S8WV00143,MORRISEY-MILLER VICTORY FUND\n",
      "14,C00471813,,ACCOUNTABILITY PAC\n",
      "15,C00680512,,ARRINGTON VICTORY COMMITTEE\n",
      "16,C00625301,,AYOTTE MAJORITY COMMITTEE\n",
      "17,C00672733,,BULLDOG PAC\n",
      "18,C00457705,,\"COUNTRY FIRST POLITICAL ACTION COMMITTEE, INC. (COUNTRY FIRST PAC)\"\n",
      "19,C00691626,,CUT THE BULL PAC\n",
      "20,C00678367,,FISCHER VICTORY FUND\n",
      "21,C00634998,,GA-06 NOMINEE VICTORY FUND\n",
      "22,C00480061,,HOUSE MAJORITY TRUST\n",
      "23,C00445387,,IMS HEALTH PAC\n",
      "24,C00577635,,ISAKSON VICTORY COMMITTEE\n",
      "25,C00639328,,ISAKSON VICTORY COMMITTEE\n",
      "26,C00622530,,KEEP THE SENATE RED 2016\n",
      "27,C00629329,,KENNEDY VICTORY COMMITTEE\n",
      "28,C00680736,,KEYSTONE-BUCKEYE FUND\n",
      "29,C00683748,,MICHIGAN SENATE NOMINEE FUND\n",
      "30,C00494567,,MONDAY MEETING PAC\n",
      "31,C00636886,,NCF-DAKOTA 2017 COMMITTEE\n",
      "32,C00676148,,NCF-DAKOTA 2018 COMMITTEE\n",
      "33,C00603365,,NEW YORK WINS PAC\n",
      "34,C00075820,,NRCC\n",
      "35,C00027466,,NRSC\n",
      "36,C00617498,,NRSC TARGETED STATE VICTORY COMMITTEE\n",
      "37,C00546663,,NRSC/NRCC VICTORY COMMITTEE\n",
      "38,C00570325,,STAND FOR PRINCIPLE PAC\n",
      "39,C00388421,,TENN POLITICAL ACTION COMMITTEE INC (TENN PAC)\n",
      "40,C00330720,,TRUST PAC TEAM REPUBLICANS FOR UTILIZING SENSIBLE TACTICS\n",
      "41,C00685792,,VUKMIR VICTORY FUND\n",
      "42,C00665232,,WIN IN 2018\n",
      "43,C00683730,,WIN MICHIGAN FUND\n",
      "44,C00682112,,WIN WISCONSIN FUND\n",
      "\n",
      "\n",
      "\n",
      "\n",
      "BRADLEY CRATE, treasurer\n",
      "43 committees\n",
      "parties: ['DEM', 'NNE', 'REP', 'UNK']\n",
      ",cmte_id,cand_id,cmte_nm\n",
      "0,C00545467,H0TX23086,HURD FOR CONGRESS\n",
      "1,C00548180,H4AR04048,WESTERMAN FOR CONGRESS\n",
      "2,C00568113,H4WV02080,MOONEY VICTORY FUND\n",
      "3,C00589234,H6MN02149,\"JASON LEWIS FOR CONGRESS, INC.\"\n",
      "4,C00664151,H8CT04214,HARRY FOR CT INC.\n",
      "5,C00672956,H8MA06133,SCHNEIDER FOR CONGRESS\n",
      "6,C00658492,H8MA09046,TEDESCHI FOR CONGRESS\n",
      "7,C00651497,H8NY03151,DEBONO FOR CONGRESS\n",
      "8,C00657833,H8PA18199,GUY FOR CONGRESS\n",
      "9,C00661561,H8VA06104,\"BEN CLINE FOR CONGRESS, INC.\"\n",
      "10,C00670695,S8UT00176,ROMNEY FOR UTAH INC\n",
      "11,C00651075,S8WV00143,MORRISEY FOR SENATE INC\n",
      "12,C00489948,,\"ALVAREZ & MARSAL HOLDINGS, LLC PAC\"\n",
      "13,C00641142,,AMERICANS FOR LEGISLATING EXCELLENCE PAC\n",
      "14,C00589341,,BADGER VICTORY FUND\n",
      "15,C00691154,,BELIEVE IN AMERICA PAC\n",
      "16,C00623025,,CLEVELAND COMMITTEE 2016\n",
      "17,C00682740,,CONSERVATIVE FIGHTER FUND\n",
      "18,C00635557,,DO RIGHT BAYOU PAC\n",
      "19,C00635565,,GARRET GRAVES VICTORY FUND\n",
      "20,C00523639,,GOLDEN STATE LEADERSHIP PAC\n",
      "21,C00605212,,HAVING UNWAVERING RESOLVE AND DETERMINATION PAC\n",
      "22,C00611012,,HURD VICTORY FUND\n",
      "23,C00631994,,JUST LEAD PAC\n",
      "24,C00651018,,KENNEDY CLUB COMMITTEE\n",
      "25,C00607721,,LAND OF OPPORTUNITY PAC\n",
      "26,C00632000,,LEWIS VICTORY FUND\n",
      "27,C00549782,,MASSACHUSETTS VICTORY COMMITTEE\n",
      "28,C00427435,,MAVERICK PAC USA\n",
      "29,C00628966,,MIKE JOHNSON VICTORY\n",
      "30,C00571208,,ONE GEORGIA PAC\n",
      "31,C00686899,,PETER TEDESCHI VICTORY COMMITTEE\n",
      "32,C00689836,,RESCHENTHALER VICTORY FUND\n",
      "33,C00681189,,RICK GREEN VICTORY COMMITTEE\n",
      "34,C00671933,,RON JOHNSON VICTORY\n",
      "35,C00689208,,RVFPAC\n",
      "36,C00689083,,SCHNEIDER VICTORY\n",
      "37,C00656108,,STRENGTHEN AMERICA COMMITTEE\n",
      "38,C00691170,,TEAM MITT\n",
      "39,C00618371,,TRUMP MAKE AMERICA GREAT AGAIN COMMITTEE\n",
      "40,C00618389,,TRUMP VICTORY\n",
      "41,C00623017,,VA DELEGATE TO CLEVELAND 2016 COMMITTEE #1\n",
      "42,C00623074,,VA DELEGATE TO CLEVELAND 2016 COMMITTEE #2\n",
      "\n",
      "\n",
      "\n",
      "\n",
      "NANCY WATKINS, treasurer\n",
      "42 committees\n",
      "parties: ['DEM', 'NNE', 'REP', 'UNK']\n",
      ",cmte_id,cand_id,cmte_nm\n",
      "0,C00481911,H0FL08208,DANIEL WEBSTER FOR CONGRESS\n",
      "1,C00484360,H6CA22125,FOUR AMIGOS JOINT COMMITTEE; THE\n",
      "2,C00618223,H6FL19087,ROONEY FOR CONGRESS\n",
      "3,C00410969,H6IL06117,ROSKAM FOR CONGRESS COMMITTEE\n",
      "4,C00494674,H6IL06117,THE ROSKAM VICTORY COMMITTEE\n",
      "5,C00444968,H8FL15107,FRIENDS OF BILL POSEY\n",
      "6,C00647180,H8UT03238,\"FLORIDA FIRST, FLORIDA FOREVER\"\n",
      "7,C00445122,S8PA00320,LOU BARLETTA FOR SENATE\n",
      "8,C00526012,,AMERICA ON THE MOVE\n",
      "9,C00550368,,AMERICAN OPPORTUNITY PAC\n",
      "10,C00527804,,AMERICAN PRINCIPLES FUND\n",
      "11,C00610980,,BARLETTA VICTORY FUND\n",
      "12,C00625947,,BUILD OUR FUTURE PAC\n",
      "13,C00663260,,CHRIS STEWART FREEDOM FUND\n",
      "14,C00455907,,CITIZENS FOR CANCER AWARENESS FEDERAL PAC\n",
      "15,C00541292,,CONSERVATIVE SOLUTIONS PAC\n",
      "16,C00525592,,COOL PAC\n",
      "17,C00427930,,DEDICATED TO ESTABLISHING NATIONAL TEAMWORK PAC (DENT PAC)\n",
      "18,C00680074,,DEFENDING DEMOCRACY FUND\n",
      "19,C00489856,,ESAFUND\n",
      "20,C00651612,,FIGHTING FOR NEVADA\n",
      "21,C00671388,,FLORIDA CONSERVATIVE FUND\n",
      "22,C00620476,,FLORIDA FIRST PROJECT\n",
      "23,C00626689,,JEWISH FLORIDIANS FOR AMERICA'S FUTURE\n",
      "24,C00667832,,JOHNS FOR CONGRESS\n",
      "25,C00628438,,LIBERTY AND JUSTICE FUND\n",
      "26,C00655399,,LOU VICTORY FUND\n",
      "27,C00555086,,MAKING ACTIONS COUNT POLITICAL ACTION COMMITTEE (MACPAC)\n",
      "28,C00603621,,OUR PRINCIPLES PAC\n",
      "29,C00383869,,PRESERVING AMERICA'S TRADITIONS (PATPAC)\n",
      "30,C00575456,,REFORM GOVERNMENT\n",
      "31,C00578054,,REFORM GOVERNMENT LEADERSHIP PAC\n",
      "32,C00451294,,REPUBLICAN OPERATION TO SECURE AND KEEP A MAJORITY\n",
      "33,C00506105,,REVIVE AMERICA PAC\n",
      "34,C00500363,,RGM ADVISORS PAC\n",
      "35,C00626655,,ROONEY VICTORY\n",
      "36,C00563338,,SEAGRASS PAC\n",
      "37,C00619965,,\"SILVER STATE PAC, INC.\"\n",
      "38,C00671628,,STRONGND PAC\n",
      "39,C00692129,,TEA PARTY PAC\n",
      "40,C00568956,,TED PAC\n",
      "41,C00579730,,\"VICTORY SUPER PAC, INC.\"\n",
      "\n",
      "\n",
      "\n",
      "\n",
      "JANICA KYRIACOPOULOS, treasurer\n",
      "41 committees\n",
      "parties: ['DEM', 'NNE', 'REP', 'UNK']\n",
      ",cmte_id,cand_id,cmte_nm\n",
      "0,C00461061,H0CA03078,BERA FOR CONGRESS\n",
      "1,C00519900,H0CA03078,BERA VICTORY FUND\n",
      "2,C00462697,H0CA10149,GARAMENDI FOR CONGRESS\n",
      "3,C00494856,H2FL14053,LOIS FRANKEL FOR CONGRESS\n",
      "4,C00414318,H6IA02146,LOEBSACK FOR CONGRESS\n",
      "5,C00592659,H6TX15162,VICENTE GONZALEZ FOR CONGRESS\n",
      "6,C00650150,H8MI08102,ELISSA SLOTKIN FOR CONGRESS\n",
      "7,C00571885,H8NM03196,LUJAN/LOBO VICTORY FUND\n",
      "8,C00652248,H8NY11113,MAX ROSE FOR CONGRESS\n",
      "9,C00633859,H8NY19181,DELGADO FOR CONGRESS\n",
      "10,C00630202,S2IN00091,DONNELLY VICTORY FUND\n",
      "11,C00603019,S2NM00088,HEINRICH VICTORY FUND\n",
      "12,C00686675,,ALLRED DELGADO VICTORY FUND\n",
      "13,C00686857,,ALLRED HAYES VICTORY FUND\n",
      "14,C00403675,,AMERICA FORWARD LEADERSHIP PAC\n",
      "15,C00561779,,AMERICAN INNOVATION POLITICAL ACTION COMMITTEE (AMI PAC)\n",
      "16,C00506907,,ASPIRE PAC\n",
      "17,C00632596,,AUSTIN INNOVATION 2017\n",
      "18,C00687913,,BUSTOS JEFFRIES VICTORY FUND\n",
      "19,C00685487,,CEMG FUND\n",
      "20,C00689315,,CO-6 VICTORY FUND\n",
      "21,C00675306,,COURAGE TO LEAD FUND\n",
      "22,C00686550,,DAVIDS ROSE VICTORY FUND\n",
      "23,C00685024,,DELGADO VICTORY FUND\n",
      "24,C00676072,,DONNELLY KAINE VICTORY FUND\n",
      "25,C00640029,,FOCUS ON THE FUTURE\n",
      "26,C00652164,,JERSEY VALUES PAC\n",
      "27,C00678466,,JJS VICTORY FUND\n",
      "28,C00617803,,\"JOBS, EDUCATION, & FAMILIES FIRST - JEFF PAC\"\n",
      "29,C00545137,,\"LEADERSHIP, OPPORTUNITY, INNOVATION SERVICE PAC - LOIS PAC\"\n",
      "30,C00675090,,LIEU-MENG VICTORY FUND\n",
      "31,C00495705,,MAKE IT IN AMERICA PAC\n",
      "32,C00459925,,MURPHPAC\n",
      "33,C00639823,,MURPHY VICTORY COMMITTEE\n",
      "34,C00683268,,NEW YORK RED TO BLUE FUND\n",
      "35,C00625038,,NJ-5 VICTORY FUND\n",
      "36,C00691345,,REPAIR THE WORLD PAC\n",
      "37,C00685933,,ROSE VICTORY FUND\n",
      "38,C00659029,,SLOTKIN VICTORY FUND\n",
      "39,C00685263,,STAND FOR NEW YORK\n",
      "40,C00528067,,SUPER WOMEN PAC\n",
      "\n",
      "\n",
      "\n",
      "\n",
      "THOMAS DATWYLER, treasurer\n",
      "37 committees\n",
      "parties: ['DEM', 'NNE', 'REP', 'UNK']\n",
      ",cmte_id,cand_id,cmte_nm\n",
      "0,C00521948,H2IL13120,RODNEY FOR CONGRESS\n",
      "1,C00518654,H4ME02234,POLIQUIN FOR CONGRESS\n",
      "2,C00600718,H6OH08315,DAVIDSON FOR CONGRESS\n",
      "3,C00670257,H8CA16065,ELIZABETH HENG FOR CONGRESS\n",
      "4,C00685735,H8CA16065,SAVE OUR FUTURE PAC\n",
      "5,C00677286,H8WI01156,\"STEIL FOR WISCONSIN, INC.\"\n",
      "6,C00664219,S8MN00586,HOUSLEY FOR SENATE COMMITTEE\n",
      "7,C00673707,,ABOVE POLITICS\n",
      "8,C00666339,,BISHOP HUIZENGA WALBERG VICTORY COMMITTEE\n",
      "9,C00683185,,BUILDING NEW MEXICO\n",
      "10,C00630608,,COALITION FOR AMERICAN VETERANS PAC\n",
      "11,C00688598,,CONSERVATIVE TRUST OF AMERICA\n",
      "12,C00652206,,DAVIDSON VICTORY FUND\n",
      "13,C00659730,,DRAIN THE SWAMP OHIO\n",
      "14,C00672725,,FIGHTING FOR CALIFORNIA\n",
      "15,C00661884,,FIGHTING FOR COLORADO\n",
      "16,C00686329,,FLIGHT PATH AMERICA PAC\n",
      "17,C00570416,,GATORPAC\n",
      "18,C00665950,,GEM PAC\n",
      "19,C00494302,,LEAD ENCOURAGE ELECT PAC\n",
      "20,C00692608,,LIBERTY OHIO ACTION FUND\n",
      "21,C00634519,,ON AZIMUTH PAC\n",
      "22,C00660514,,\"OUR HOME, OUR FIGHT\"\n",
      "23,C00587832,,PINE TREE PAC\n",
      "24,C00663765,,POLIQUIN VICTORY FUND\n",
      "25,C00682435,,PROTECTING ARIZONA\n",
      "26,C00663872,,PROTECTING OHIO\n",
      "27,C00689026,,RED TIDE PAC\n",
      "28,C00452482,,REPUBLICAN PARTY OF CUYAHOGA COUNTY FEDERAL CAMPAIGN COMMITTEE\n",
      "29,C00573493,,RESTORING OUR DEMOCRACY (ROD PAC)\n",
      "30,C00667014,,RIGHT TIME MINNESOTA\n",
      "31,C00581116,,RODNEY DAVIS VICTORY FUND\n",
      "32,C00687632,,RODNEY ILLINOIS VICTORY FUND\n",
      "33,C00575837,,SACRED HONOR USA PAC\n",
      "34,C00686980,,STEIL VICTORY FUND\n",
      "35,C00657080,,YUGE PAC\n",
      "36,C00682278,,YUGE POLITICAL ACTION COMMITTEE\n",
      "\n",
      "\n",
      "\n",
      "\n",
      "STEVEN MELE, treasurer\n",
      "26 committees\n",
      "parties: ['DEM', 'NNE', 'REP', 'UNK']\n",
      ",cmte_id,cand_id,cmte_nm\n",
      "0,C00650366,H8VA05155,LESLIE COCKBURN FOR CONGRESS\n",
      "1,C00649913,H8VA07094,SPANBERGER FOR CONGRESS\n",
      "2,C00648238,S2VA00142,MISSOURI VIRGINIA FUND\n",
      "3,C00639203,S6MO00305,MICHIGAN MISSOURI VICTORY FUND\n",
      "4,C00606939,S8NV00156,ROSEN FOR NEVADA\n",
      "5,C00629212,,ALL FOR OUR COUNTRY LEADERSHIP PAC\n",
      "6,C00692988,,ALL FOR OUR COUNTRY VICTORY FUND\n",
      "7,C00684902,,COLIN ALLRED VICTORY FUND\n",
      "8,C00583104,,CORTEZ MASTO VICTORY FUND\n",
      "9,C00657452,,DEMOCRATIC CONSERVATION ALLIANCE PAC\n",
      "10,C00688127,,DRISKELL VICTORY FUND\n",
      "11,C00682732,,GERSHON VICTORY FUND\n",
      "12,C00632562,,INTEGRITY FIRST PAC\n",
      "13,C00627232,,IVOTE ACTION FUND\n",
      "14,C00680298,,KATHY MANNING VICTORY FUND\n",
      "15,C00685479,,MCCREADY LEVIN VICTORY FUND\n",
      "16,C00680025,,MCCREADY VICTORY FUND\n",
      "17,C00507574,,MOTOR CITY PAC\n",
      "18,C00646877,,PACRONYM\n",
      "19,C00688424,,PRESSLEY TRAHAN VICTORY FUND\n",
      "20,C00654475,,SMART SOLUTIONS PAC\n",
      "21,C00685016,,SPANBERGER VICTORY FUND\n",
      "22,C00681262,,TEXAS VICTORY 2018\n",
      "23,C00685842,,THE ARENA CANDIDATE PAC HOUSE VICTORY FUND\n",
      "24,C00684514,,THE ARENA CANDIDATE PAC WIN FUND\n",
      "25,C00526657,,TOWARD TOMORROW PAC\n",
      "\n",
      "\n",
      "\n",
      "\n",
      "STEVEN MARTIN, treasurer\n",
      "25 committees\n",
      "parties: ['DEM', 'NNE', 'REP', 'UNK']\n",
      ",cmte_id,cand_id,cmte_nm\n",
      "0,C00493783,H0AL02087,FRESHMAN AGRICULTURAL REPUBLICAN MEMBERS TRUST AKA FARM TRUST\n",
      "1,C00624841,H0IN08114,HEALTH FIRST COMMITTEE\n",
      "2,C00372532,H2TX26093,MICHAEL BURGESS FOR CONGRESS\n",
      "3,C00612432,H6FL01119,FRIENDS OF MATT GAETZ\n",
      "4,C00577999,H6IN03229,\"JIM BANKS FOR CONGRESS, INC.\"\n",
      "5,C00571869,H6NY11174,DONOVAN FOR CONGRESS\n",
      "6,C00660050,H8KS02199,COMMITTEE TO ELECT STEVE WATKINS\n",
      "7,C00233353,,AD ALLIANCE\n",
      "8,C00647354,,BRINGING AMERICA TOGETHER PAC\n",
      "9,C00650267,,BUILDING A NATIONAL KNOWLEGEABLE SECURITY PAC\n",
      "10,C00663302,,CARE AMERICA\n",
      "11,C00690065,,CLOUD TEXAS VICTORY COMMITTEE\n",
      "12,C00554535,,CONGRESSIONAL HOUSE REPUBLICANS IN SERVICE PAC (CHRIS PAC)\n",
      "13,C00655092,,COOK VICTORY FUND\n",
      "14,C00624809,,DEFEND AMERICA NOW PAC\n",
      "15,C00415208,,LONE STAR LEADERSHIP PAC\n",
      "16,C00689190,,MACARTHUR DONOVAN VICTORY FUND 2018\n",
      "17,C00637553,,MACARTHUR-DONOVAN VICTORY FUND\n",
      "18,C00688218,,MINNESOTA VICTORY 2018\n",
      "19,C00634196,,PANHANDLE PAC\n",
      "20,C00677278,,POLIQUIN COMSTOCK VICTORY FUND\n",
      "21,C00551366,,RIGHTNOW WOMEN PAC\n",
      "22,C00652644,,TEAM FITZ\n",
      "23,C00635540,,TEAM GAETZ\n",
      "24,C00688556,,WATKINS VICTORY COMMITTEE\n",
      "\n",
      "\n",
      "\n",
      "\n",
      "ROBERT PHILLIPS, treasurer\n",
      "24 committees\n",
      "parties: ['DEM', 'NNE', 'REP', 'UNK']\n",
      ",cmte_id,cand_id,cmte_nm\n",
      "0,C00663054,H8AZ02185,LEA MARQUEZ PETERSON FOR CONGRESS\n",
      "1,C00676668,H8FL15230,ROSS SPANO FOR CONGRESS\n",
      "2,C00636092,H8OK01157,HERN FOR CONGRESS\n",
      "3,C00637207,S8ME00130,ERIC BRAKEY FOR US SENATE\n",
      "4,C00688267,,CENTRAL VALLEY'S FUTURE\n",
      "5,C00675918,,CONSERVATIVES FOR OKLAHOMA\n",
      "6,C00650580,,ESSEX VILLAGE COMMUNITY ALLIANCE\n",
      "7,C00617134,,FLORIDIANS FOR FREEDOM\n",
      "8,C00685115,,GROWING OUR OWN DYNAMIC ECONOMY NOW\n",
      "9,C00692715,,HELP ELECT REPUBLICANS NOW\n",
      "10,C00660811,,HOLD WASHINGTON ACCOUNTABLE\n",
      "11,C00674176,,INSURING AMERICA'S FUTURE\n",
      "12,C00674952,,KANSANS CAN DO ANYTHING PAC\n",
      "13,C00680124,,MAINE 2018 VICTORY COMMITTEE\n",
      "14,C00652339,,MOUNTAIN STATE PAC\n",
      "15,C00684118,,SEND HER HOME\n",
      "16,C00607382,,STOP CAREER POLITICIANS\n",
      "17,C00684712,,TARKANIAN VICTORY FUND\n",
      "18,C00678680,,TEXANS FOR A STRONG AMERICA\n",
      "19,C00615245,,TEXANS FOR INTEGRITY\n",
      "20,C00686808,,TEXAS VICTORY FUND\n",
      "21,C00576371,,THE PEOPLE'S SHERIFF\n",
      "22,C00616342,,VIRGINIANS FOR CONSERVATIVE GOVERNMENT\n",
      "23,C00669002,,WISCONSIN VALUES PAC\n",
      "\n",
      "\n",
      "\n",
      "\n",
      "ROBERT CARLIN, treasurer\n",
      "24 committees\n",
      "parties: ['DEM', 'NNE', 'REP', 'UNK']\n",
      ",cmte_id,cand_id,cmte_nm\n",
      "0,C00580043,H0MI02094,HUIZENGA VICTORY FUND\n",
      "1,C00608885,H0PA04220,ROTHFUS VICTORY COMMITTEE\n",
      "2,C00505776,H2UT04023,FRIENDS OF MIA LOVE\n",
      "3,C00543199,H4WA05077,MCMORRIS RODGERS AMERICAN DREAM PROJECT; THE\n",
      "4,C00359463,,\"AMERICAN SUBCONTRACTORS ASSOCIATION, INC., POLITICAL ACTION COMMITTEE AKA ASA-PAC\"\n",
      "5,C00648394,,BRADY CURBELO TIBERI VICTORY 2017\n",
      "6,C00670752,,CATHY MCMORRIS RODGERS VICTORY FUND\n",
      "7,C00511840,,CAVPAC\n",
      "8,C00469429,,CMR POLITICAL ACTION COMMITTEE\n",
      "9,C00400457,,COME BACK POLITICAL ACTION COMMITTEE\n",
      "10,C00531517,,GIVING US SECURITY POLITICAL ACTION COMMITTEE (GUS PAC)\n",
      "11,C00564369,,LEADERS ONLY UNITE POLITICAL ACTION COMMITTEE (AKA LOU PAC)\n",
      "12,C00541680,,\"LIMITED GOVERNMENT, OPPORTUNITY AND VALUES PAC (LOV PAC)\"\n",
      "13,C00592329,,LOVE VICTORY COMMITTEE\n",
      "14,C00445379,,MAKING AMERICA PROSPEROUS PAC\n",
      "15,C00235762,,NATIONAL AUTOMATIC MERCHANDISING ASSOCIATION POLITICAL ACTION COMMITTEE (NAMA-PAC)\n",
      "16,C00577676,,RELIGHT AMERICA PAC\n",
      "17,C00497578,,ROLL ON COLUMBIA POLITICAL ACTION COMMITTEE\n",
      "18,C00376756,,SPEAK UP AMERICA POLITICAL ACTION COMMITTEE\n",
      "19,C00467431,,THE EYE OF THE TIGER POLITICAL ACTION COMMITTEE\n",
      "20,C00498360,,TRUTH IS MARKETS WORK FUND A/K/A TIM W FUND\n",
      "21,C00503151,,UPPER HAND FUND\n",
      "22,C00619775,,WILSON LEADERSHIP FUND\n",
      "23,C00689463,,WILSON TIMMONS VICTORY COMMITTEE\n",
      "\n",
      "\n",
      "\n",
      "\n",
      "STEVE RALLS, treasurer\n",
      "23 committees\n",
      "parties: ['DEM', 'NNE', 'REP', 'UNK']\n",
      ",cmte_id,cand_id,cmte_nm\n",
      "0,C00498345,H2OK02083,MULLIN FOR CONGRESS\n",
      "1,C00395467,H4NE01064,JEFF FORTENBERRY FOR UNITED STATES CONGRESS\n",
      "2,C00558510,H4OK05132,STEVE RUSSELL FOR CONGRESS\n",
      "3,C00672824,H8CA53084,MURTAUGH FOR CONGRESS\n",
      "4,C00669069,H8NJ11217,WEBBER FOR CONGRESS\n",
      "5,C00618777,,ANDY BARR VICTORY COMMITTEE\n",
      "6,C00676353,,BLUEGRASS VICTORY COMMITTEE\n",
      "7,C00567545,,BOOTS POLITICAL ACTION COMMITTEE\n",
      "8,C00635094,,CAPITO VICTORY COMMITTEE\n",
      "9,C00689224,,CHRIN WEBBER VICTORY COMMITTEE\n",
      "10,C00569293,,DEEDS NOT WORDS POLITICAL ACTION COMMITTEE\n",
      "11,C00426494,,FOR OUR REPUBLIC'S TRADITIONS FUND AKA FORT FUND\n",
      "12,C00633792,,FRIENDS OF ANDY BARR COMMITTEE\n",
      "13,C00504365,,FUNDING REPUBLICANS SUPPORTING OPPORTUNITY AND GROWTH - JUMP POLITICAL ACTION COMMITTEE\n",
      "14,C00567081,,MASTER LIMITED PARTNERSHIP ASSOCIATION POLITICAL ACTION COMMITTEE\n",
      "15,C00577361,,MULLIN VICTORY FUND\n",
      "16,C00427781,,ONLINE LENDERS ALLIANCE POLITICAL ACTION COMMITTEE (OLA PAC)\n",
      "17,C00617712,,SASSE LEADERSHIP COMMITTEE\n",
      "18,C00571802,,SENSIBLE AMERICAN SOLUTIONS SUPPORTING EVERYONE PAC\n",
      "19,C00684175,,STAUBER VICTORY FUND\n",
      "20,C00632653,,STEVE RUSSELL VICTORY FUND\n",
      "21,C00683714,,WEBBER VICTORY COMMITTEE\n",
      "22,C00489336,,WILD AND WONDERFUL PAC\n",
      "\n",
      "\n",
      "\n",
      "\n",
      "TIMOTHY KOCH, treasurer\n",
      "23 committees\n",
      "parties: ['DEM', 'NNE', 'REP', 'UNK']\n",
      ",cmte_id,cand_id,cmte_nm\n",
      "0,C00576801,S2NV00183,BARRASSO HELLER VICTORY FUND\n",
      "1,C00544114,S6WY00068,BARRASSO VICTORY COMMITTEE\n",
      "2,C00674770,S8MO00160,WINSOME LEADERS I\n",
      "3,C00686741,S8MO00160,WINSOME LEADERS II\n",
      "4,C00666214,S8MO00202,O'DEAR FOR US SENATE\n",
      "5,C00655589,,2018 REPUBLICAN CHALLENGERS FUND (2018 RCF)\n",
      "6,C00669317,,2018 REPUBLICAN CHALLENGERS FUND II\n",
      "7,C00573055,,AMERICA LEADS\n",
      "8,C00640946,,BARRASSO FISCHER VICTORY FUND\n",
      "9,C00580555,,BOOZMAN VICTORY 2016\n",
      "10,C00442368,,COMMON VALUES PAC\n",
      "11,C00624031,,DESANTIS VICTORY COMMITTEE\n",
      "12,C00531822,,FIRST PRINCIPLES FUND\n",
      "13,C00326082,,FUND FOR A CONSERVATIVE FUTURE\n",
      "14,C00653899,,INHOFE MULLIN VICTORY FUND\n",
      "15,C00677724,,INHOFE VICTORY COMMITTEE 2020\n",
      "16,C00620500,,NATIONAL COMMITTEE OF ASIAN AMERICAN REPUBLICANS\n",
      "17,C00602896,,RAMPART PAC\n",
      "18,C00571000,,TRUE NORTH PAC\n",
      "19,C00659011,,\"WITH HONOR FUND, INC.\"\n",
      "20,C00661272,,WITH HONOR PAC\n",
      "21,C00681924,,YODER KANSAS VICTORY FUND\n",
      "22,C00524843,,YODER VICTORY FUND\n",
      "\n",
      "\n",
      "\n",
      "\n",
      "LORA HAGGARD, treasurer\n",
      "22 committees\n",
      "parties: ['DEM', 'NNE', 'REP', 'UNK']\n",
      ",cmte_id,cand_id,cmte_nm\n",
      "0,C00620443,H6FL07140,STEPHANIE MURPHY FOR CONGRESS\n",
      "1,C00685545,H8NJ11142,AMC FUND\n",
      "2,C00640003,H8NJ11142,MIKIE SHERRILL FOR CONGRESS\n",
      "3,C00411330,S4VT00033,FRIENDS OF BERNIE SANDERS\n",
      "4,C00682419,,CALIFORNIANS CHOOSE CHANGE\n",
      "5,C00677252,,CAMPAIGN FOR ACCOUNTABLE TRANSPARENT GOVERNMENT\n",
      "6,C30000319,,CITIZENS FOR A STRONG SENATE\n",
      "7,C00617266,,CITIZENS FOR SAFE COMMUNITIES\n",
      "8,C00488429,,CITIZENS FOR STRENGTH AND SECURITY PAC\n",
      "9,C00617258,,COALITION FOR PROGRESSIVE LEADERSHIP\n",
      "10,C00526442,,COMMITTEE FOR JUSTICE & FAIRNESS PAC\n",
      "11,C00632992,,DEVELOPING A NEW GENERATION PAC (DANG PAC)\n",
      "12,C00689851,,GEORGIA BLUE VICTORY FUND\n",
      "13,C00627869,,GEORGIA VICTORY FUND 2016\n",
      "14,C00656629,,GOLDEN STATE PROGRESS\n",
      "15,C00625020,,MURPHY VICTORY FUND\n",
      "16,C00584961,,OHIO FORWARD INDEPENDENT EXPEDITURE POLICTICAL COMMITTEE\n",
      "17,C00665844,,PACTION\n",
      "18,C00406553,,PROGRESSIVE VOTERS OF AMERICA\n",
      "19,C00624130,,SANTARSIERO VICTORY FUND\n",
      "20,C00687665,,WEXTON VICTORY FUND\n",
      "21,C00672972,,WOMEN VETERANS FOR AMERICA\n",
      "\n",
      "\n",
      "\n",
      "\n",
      "LAURA MATTHEWS, treasurer\n",
      "22 committees\n",
      "parties: ['DEM', 'NNE', 'REP', 'UNK']\n",
      ",cmte_id,cand_id,cmte_nm\n",
      "0,C00660084,S0CA00199,CALIFORNIA SENATE VICTORY 2018\n",
      "1,C00685057,S0CA00199,WOMEN ON THE ROAD 2018\n",
      "2,C00672857,S0CA00199,WOMEN ON THE ROAD CALIFORNIA 2018\n",
      "3,C00639815,S2MA00170,MASSACHUSETTS SENATE VICTORY 2018\n",
      "4,C00635979,S2NM00088,NEW MEXICO SENATE VICTORY 2018\n",
      "5,C00666917,S2WI00219,WISCONSIN SENATE VICTORY 2018\n",
      "6,C00653857,S6MN00267,MINNESOTA SENATE VICTORY 2018\n",
      "7,C00667337,S6MO00305,MCCASKILL 2018 VICTORY\n",
      "8,C00641084,S6MO00305,MCCASKILL SENATE VICTORY 2018\n",
      "9,C00635987,S6OH00163,OHIO SENATE VICTORY 2018\n",
      "10,C00682260,S6PA00217,PENNSYLVANIA SENATE VICTORY 2018\n",
      "11,C00631796,S8FL00166,FLORIDA SENATE RECOUNT 2018\n",
      "12,C00636191,S8MI00281,MICHIGAN SENATE VICTORY 2018\n",
      "13,C00672840,S8MN00578,WOMEN ON THE ROAD SEATTLE 2018\n",
      "14,C00599506,,FLORIDA SENATE 2016\n",
      "15,C00462333,,HOUSE SENATE VICTORY FUND\n",
      "16,C00626069,,NEVADA LEGACY FUND\n",
      "17,C00654491,,NEVADA SENATE VICTORY 2018\n",
      "18,C00679787,,OHIO 2018 VICTORY\n",
      "19,C00648667,,RHODE ISLAND SENATE VICTORY 2018\n",
      "20,C00647073,,SENATE IMPACT: FLORIDA\n",
      "21,C00651067,,VIRGINIA SENATE VICTORY 2018\n",
      "\n",
      "\n",
      "\n",
      "\n",
      "DENISE LEWIS, treasurer\n",
      "22 committees\n",
      "parties: ['DEM', 'NNE', 'REP', 'UNK']\n",
      ",cmte_id,cand_id,cmte_nm\n",
      "0,C00326363,H8CA01109,MIKE THOMPSON FOR CONGRESS\n",
      "1,C00635888,H8CA50098,AMMAR CAMPA FOR CONGRESS\n",
      "2,C00614354,,AMADOR COUNTY DEMOCRATIC CENTRAL COMMITTEE\n",
      "3,C00565929,,BUTTE COUNTY DEMOCRATIC CENTRAL COMMITTEE\n",
      "4,C00612424,,CALAVERAS COUNTY DEMOCRATIC CENTRAL COMMITTEE\n",
      "5,C00686337,,CALIFORNIA MODERATE VOICES\n",
      "6,C00633321,,CALIFORNIANS FOR A DEMOCRATIC CONGRESS\n",
      "7,C00564690,,CAPA21- FEDERAL\n",
      "8,C00656348,,CD 1 ALLIANCE\n",
      "9,C00491050,,DAVIS DEMOCRATIC CLUB\n",
      "10,C00407866,,DEMOCRATIC ACTION CLUB OF CHICO\n",
      "11,C00419283,,DEMOCRATIC CLUB OF SOUTHWEST RIVERSIDE COUNTY\n",
      "12,C00483412,,EL DORADO COUNTY DEMOCRATIC CENTRAL COMMITTEE\n",
      "13,C00491365,,HARRY S. TRUMAN CLUB- FEDERAL\n",
      "14,C00382283,,OHLONE AREA UNITED DEMOCRATIC CAMPAIGN\n",
      "15,C00433318,,PLACER COUNTY DEMOCRATIC CENTRAL COMMITTEE\n",
      "16,C00429464,,REDWOOD COAST DEMOCRATS\n",
      "17,C00396994,,RIVERSIDE COUNTY DEMOCRATIC CENTRAL COMMITTEE\n",
      "18,C00647297,,SIERRA FORWARD\n",
      "19,C00276659,,SLO COUNTY DEMOCRATIC PARTY-FEDERAL\n",
      "20,C00686253,,WE THE PEOPLE - SAN DIEGO COUNTY\n",
      "21,C00453712,,YOLO COUNTY DEMOCRATIC CENTRAL COMMITTEE - FEDERAL ACCOUNT\n",
      "\n",
      "\n",
      "\n",
      "\n",
      "PATRICK KRASON, treasurer\n",
      "22 committees\n",
      "parties: ['DEM', 'NNE', 'REP', 'UNK']\n",
      ",cmte_id,cand_id,cmte_nm\n",
      "0,C00492124,,AMERICAN PRIDE PAC\n",
      "1,C00692996,,BLACK CONSERVATIVE FEDERATION PAC\n",
      "2,C00560599,,BLACK CONSERVATIVES FUND\n",
      "3,C00658971,,BOLD DECISIVE ACTION PAC\n",
      "4,C00573642,,BUILD NOW POLITICAL ACTION COMMITTEE\n",
      "5,C00662254,,CANNABIS CATALYST POLITICAL ACTION COMMITTEE\n",
      "6,C00635649,,FULL REPEAL PAC\n",
      "7,C00661041,,GREATER MARYLAND POLITICAL ACTION COMMITTEE\n",
      "8,C00685826,,JUSTICE FOR ALL POLITICAL ACTION COMMITTEE\n",
      "9,C00675314,,LEGALIZE NOW POLITICAL ACTION COMMITTEE\n",
      "10,C00675322,,LEGALIZE NOW VIRGINIA POLITICAL ACTION COMMITTEE\n",
      "11,C00692673,,LIBERTY FIRST GRASSROOTS PAC\n",
      "12,C00574061,,LOUISIANA VICTORY FUND\n",
      "13,C00654269,,MAGA COALITION POLITICAL ACTION COMMITTEE\n",
      "14,C00630822,,MAKE ISRAEL GREAT AGAIN POLITICAL ACTION COMMITTEE\n",
      "15,C00630814,,MAKE VIRGINIA GREAT AGAIN POLITICAL ACTION COMMITTEE\n",
      "16,C00468447,,ONE NATION PAC\n",
      "17,C00664433,,PAUPAC / PATRIOTIC AMERICANS UNITED PAC\n",
      "18,C00630830,,STAND WITH POTUS POLITICAL ACTION COMMITTEE\n",
      "19,C00630921,,STRONGER VIRGINIA POLITICAL ACTION COMMITTEE\n",
      "20,C00691261,,URBAN RED POLITICAL ACTION COMMITTEE\n",
      "21,C00616912,,WOMEN VOTE SMART\n",
      "\n",
      "\n",
      "\n",
      "\n",
      "COLLIN MCMICHAEL, treasurer\n",
      "21 committees\n",
      "parties: ['DEM', 'NNE', 'REP', 'UNK']\n",
      ",cmte_id,cand_id,cmte_nm\n",
      "0,C00305052,H2NC01081,WALTER JONES COMMITTEE\n",
      "1,C00503094,H2NC11080,MEADOWS FOR CONGRESS\n",
      "2,C00499236,H2NC13110,GEORGE HOLDING FOR CONGRESS INC.\n",
      "3,C00573352,H2NC13110,NUNES HOLDING MAJORITY COMMITTEE\n",
      "4,C00557421,H2NC13110,THE HOLDING VICTORY FUND\n",
      "5,C00543231,H4NC06052,WALKER 4 NC\n",
      "6,C00614776,H6NC13129,TED BUDD FOR CONGRESS\n",
      "7,C00615492,,BATTLEGROUND PAC\n",
      "8,C00692103,,BUDD NORTH CAROLINA VICTORY FUND 2018\n",
      "9,C00638049,,BUDD VICTORY\n",
      "10,C00620617,,BURR NC VICTORY FUND\n",
      "11,C00549725,,CONSERVATIVE ROUNDTABLE\n",
      "12,C00688895,,GEORGE HOLDING VICTORY COMMITTEE 2018\n",
      "13,C00685180,,HARRIS LEADERSHIP FUND\n",
      "14,C00625475,,HOLD THE MAJORITY\n",
      "15,C00688309,,HOLDING ROUZER MAJORITY COMMITTEE\n",
      "16,C00680165,,NC LPAC VICTORY COMMITTEE\n",
      "17,C00633818,,OLD NORTH STATE PAC\n",
      "18,C00571323,,TOGETHER HOLDING OUR MAJORITY PAC\n",
      "19,C00634154,,WALKER FREEDOM FUND\n",
      "20,C00626903,,YOUR VOICE COUNTS\n",
      "\n",
      "\n",
      "\n",
      "\n"
     ]
    },
    {
     "name": "stdout",
     "output_type": "stream",
     "text": [
      "SUSAN JACKSON, treasurer\n",
      "21 committees\n",
      "parties: ['DEM', 'NNE', 'REP', 'UNK']\n",
      ",cmte_id,cand_id,cmte_nm\n",
      "0,C00500421,H2OR01133,BONAMICI FOR CONGRESS\n",
      "1,C00543363,H4PA13199,CITIZENS FOR BOYLE\n",
      "2,C00664409,H8CA01257,AUDREY DENNEY FOR CONGRESS\n",
      "3,C00639146,H8CA10126,JOSH HARDER FOR CONGRESS\n",
      "4,C00677096,H8FL15271,KRISTEN CARLSON FOR CONGRESS COMMITTEE\n",
      "5,C00658286,H8NC02110,LINDA COLEMAN FOR CONGRESS\n",
      "6,C00649194,H8NC06079,WATTS FOR CONGRESS\n",
      "7,C00639773,H8NC07101,KYLE HORTON FOR CONGRESS\n",
      "8,C00657015,H8NY02104,LIUBA FOR CONGRESS\n",
      "9,C00649004,H8OR02161,MCLEOD-SKINNER FOR OREGON\n",
      "10,C00584805,,BFB PAC\n",
      "11,C00690461,,COLEMAN VICTORY FUND\n",
      "12,C00671164,,COMMITTEE FOR JUSTICE AND INTEGRITY\n",
      "13,C00543116,,GOOD FRIENDS PAC\n",
      "14,C00682161,,HARDER VICTORY FUND\n",
      "15,C00683086,,HILL LEVIN PORTER VICTORY FUND\n",
      "16,C00684951,,HILL SWING LEFT FUND 2018\n",
      "17,C00682153,,HILL VICTORY FUND\n",
      "18,C00686444,,LIUBA VICTORY FUND\n",
      "19,C00686717,,ROUDA HILL VICTORY FUND\n",
      "20,C00668954,,SO CAL VICTORY FUND\n",
      "\n",
      "\n",
      "\n",
      "\n",
      "JEN SLATER, treasurer\n",
      "20 committees\n",
      "parties: ['DEM', 'NNE', 'REP', 'UNK']\n",
      ",cmte_id,cand_id,cmte_nm\n",
      "0,C00564674,H4CA45097,MIMI WALTERS VICTORY FUND\n",
      "1,C00546853,H4CA45097,WALTERS FOR CONGRESS\n",
      "2,C00658021,H8CA08120,TIM DONNELLY FOR CONGRESS\n",
      "3,C00639690,H8CA26114,ANTONIO SABATO JR FOR CONGRESS\n",
      "4,C00224691,H8CA42061,ROHRABACHER FOR CONGRESS\n",
      "5,C00665513,H8CA49082,DIANE HARKEY FOR CONGRESS\n",
      "6,C00632786,,AMERICANS FOR SENSIBLE REFORM\n",
      "7,C00318766,,CALIFORNIA INDEPENDENT PETROLEUM ASSOCIATION FEDERAL PAC\n",
      "8,C00613364,,GIVE ME LIBERTY PAC\n",
      "9,C00684704,,HELPING ALL REPUBLICANS THIS KEY ELECTION YEAR - HARKEY PAC\n",
      "10,C00450320,,INVEST IN A STRONG AND SECURE AMERICA\n",
      "11,C00327007,,ISSA FOR US SENATE\n",
      "12,C00680702,,KEEPING INTEGRITY MEANINGFUL IN THE 36TH (KIM36 PAC)\n",
      "13,C00454819,,MAF FREEDOM PAC - MOVE AMERICA FORWARD FREEDOM PAC - MAF PAC\n",
      "14,C00564658,,MAKING INVESTMENTS MAJORITY INSURED PAC\n",
      "15,C00685461,,ROHRABACHER VICTORY FUND\n",
      "16,C00609396,,STRONG AMERICA PAC\n",
      "17,C00490136,,THE LINCOLN CLUB OF ORANGE COUNTY FEDERAL IE COMMITTEE\n",
      "18,C00328401,,THE LINCOLN CLUB OF ORANGE COUNTY FEDERAL PAC\n",
      "19,C00684639,,WALTERS-GRANT VICTORY FUND\n",
      "\n",
      "\n",
      "\n",
      "\n",
      "DAVID GOULD, treasurer\n",
      "19 committees\n",
      "parties: ['DEM', 'NNE', 'REP', 'UNK']\n",
      ",cmte_id,cand_id,cmte_nm\n",
      "0,C00167585,H4CA23011,CITIZENS FOR WATERS\n",
      "1,C00500546,,CALIFORNIA ARMENIAN AMERICAN DEMOCRATS\n",
      "2,C00632281,,CALIFORNIA YOUNG DEMOCRATS FED PAC\n",
      "3,C00411082,,CANADA CRESCENTA DEMOCRATIC CLUB\n",
      "4,C00401463,,DEMOCRATIC CLUB OF THE PASADENA FOOTHILLS\n",
      "5,C00321943,,DEMOCRATIC PARTY OF ORANGE COUNTY FED PAC\n",
      "6,C00326751,,DEMOCRATIC PARTY OF THE SAN FERNANDO VALLEY\n",
      "7,C00429571,,DEMOCRATS FOR ISRAEL\n",
      "8,C00463547,,GLENDALE DEMOCRATIC CLUB\n",
      "9,C00145342,,GOLDEN STATE POLITICAL ACTION COMMITTEE\n",
      "10,C00543579,,MIND MATTERS FEDERAL PAC\n",
      "11,C00684662,,NEW VOTER PAC\n",
      "12,C00404202,,ORANGE COUNTY VICTORY FUND\n",
      "13,C00412072,,ORANGE COUNTY YOUNG DEMOCRATS FEDERAL\n",
      "14,C00380568,,PASADENA AREA UNITED DEMOCRATIC HEADQUARTERS\n",
      "15,C00248948,,PEOPLE HELPING PEOPLE\n",
      "16,C00323923,,STONEWALL DEMOCRATIC CLUB FED PAC\n",
      "17,C00198861,,WEST LOS ANGELES HEALTH PAC - FEDERAL\n",
      "18,C00673590,,WESTSIDE DEMOCRATIC HQ FEDERAL\n",
      "\n",
      "\n",
      "\n",
      "\n",
      "GARY CRUMMITT, treasurer\n",
      "19 committees\n",
      "parties: ['DEM', 'NNE', 'REP', 'UNK']\n",
      ",cmte_id,cand_id,cmte_nm\n",
      "0,C00608430,H6CA33106,WRIGHT FOR CONGESS\n",
      "1,C00654335,H8CA27112,BRYAN WITT FOR CONGRESS\n",
      "2,C00682179,H8CA32088,JOSHUA SCOTT FOR CONGRESS\n",
      "3,C00672436,H8CA44117,AJA BROWN FOR CONGRESS\n",
      "4,C00657973,,A PROGRESSIVE CALIFORNIA\n",
      "5,C00674804,,ANIMAL PAC\n",
      "6,C00403816,,BEACH CITIES DEMOCRATS - FEDERAL\n",
      "7,C00396556,,CAIR-CA PAC\n",
      "8,C00439646,,DEMOC PAC\n",
      "9,C00629006,,DEMOCRACY AND PROGRESS\n",
      "10,C00627349,,GLOBAL TRADE AND COMMERCE FEDERAL PAC\n",
      "11,C00405563,,KOREAN AMERICAN DEMOCRATIC COMMITTEE\n",
      "12,C00493932,,LAMBDA DEMOCRATIC CLUB\n",
      "13,C00636522,,LOS ANGELES COUNTY ASIAN AMERICAN & PACIFIC ISLANDER DEMOCRATS -FEDERAL\n",
      "14,C00398727,,NORTHEAST DEMOCRATIC HEADQUARTERS PAC\n",
      "15,C00489898,,TURKISH COALITION CALIFORNIA PAC (TC-CAL PAC)\n",
      "16,C00416271,,WEST END DEMOCRATIC CLUB - FEDERAL\n",
      "17,C00627356,,WEST HOLLYWOOD/BEVERLY HILLS DEMOCRATIC HEADQUARTERS COMMITTEE\n",
      "18,C00620153,,YOUNG AWARE AMERICANS PAC\n",
      "\n",
      "\n",
      "\n",
      "\n",
      "DIANE EVANS, treasurer\n",
      "18 committees\n",
      "parties: ['DEM', 'NNE', 'REP', 'UNK']\n",
      ",cmte_id,cand_id,cmte_nm\n",
      "0,C00554089,H2CA52089,PETERS VICTORY FUND\n",
      "1,C00638122,,AMERICAN NETWORK OF COMMUNITY OPTIONS AND RESOURCES DISABILITY CHAMPIONS PAC\n",
      "2,C00034645,,AMERICAN SOCIETY FOR CLINICAL LABORATORY SCIENCE POLITICAL ACTION COMMITTEE (FKA ASMT/PAC)\n",
      "3,C00656074,,BOLD DEMOCRATS\n",
      "4,C00662726,,BOLD DEMOCRATS I\n",
      "5,C00662734,,BOLD DEMOCRATS II\n",
      "6,C00648832,,BOLD FRONTLINE DEMOCRATS\n",
      "7,C00688119,,BRYCE CAMPA-NAJJAR VICTORY FUND\n",
      "8,C00365536,,CHC BOLD PAC\n",
      "9,C00513176,,CONGRESSIONAL PROGRESSIVE CAUCUS PAC\n",
      "10,C00370130,,FINANCIAL PLANNING ASSOCIATION POLITICAL ACTION COMMITTEE\n",
      "11,C00633156,,I GOT YOUR BACK PAC\n",
      "12,C00634733,,MAGGIE HASSAN GVP\n",
      "13,C00591362,,MAGGIE HASSAN VICTORY FUND\n",
      "14,C00489831,,NEW ECONOMY PAC\n",
      "15,C00622043,,PROSPERITY WITH ACCOUNTABILITY\n",
      "16,C00675942,,WI BRYCE VICTORY FUND\n",
      "17,C00650192,,ZODIACPAC\n",
      "\n",
      "\n",
      "\n",
      "\n",
      "KELLY LAWLER, treasurer\n",
      "18 committees\n",
      "parties: ['DEM', 'NNE', 'REP', 'UNK']\n",
      ",cmte_id,cand_id,cmte_nm\n",
      "0,C00630319,H4CA25123,KNIGHT VICTORY FUND\n",
      "1,C00554014,H4CA25123,STEVE KNIGHT FOR CONGRESS\n",
      "2,C00671370,H8CA15117,RUDY PETERS FOR CONGRESS\n",
      "3,C00683532,H8CA19051,JUSTIN AGUILERA FOR CONGRESS\n",
      "4,C00665638,H8CA39240,YOUNG KIM FOR CONGRESS\n",
      "5,C00561308,,CALIFORNIA FUTURE FUND PAC\n",
      "6,C00495010,,CONSERVATIVE CAMPAIGN COMMITTEE\n",
      "7,C00652180,,DOUBLE EAGLE PAC\n",
      "8,C00683508,,FOREVER YOUTH ORGANIZATION UTILIZING A NEW GENERATION PAC (FOREVER Y.O.U.N.G. PAC)\n",
      "9,C00392795,,GEN EQUITY FEDERAL PAC\n",
      "10,C00510701,,JOBS OPPORTUNITY AND FREEDOM POLITICAL ACTION COMMITTEE - JOFPAC\n",
      "11,C00500637,,JOE PAC\n",
      "12,C00682088,,KIM VICTORY FUND\n",
      "13,C00654152,,PRINCIPLES AND LEADERSHIP PAC\n",
      "14,C00510107,,TAXPAYER NETWORK PAC\n",
      "15,C00619072,,TEA PARTY EXPRESS CAMPAIGN FUND\n",
      "16,C00454074,,TEAPARTYEXPRESS.ORG\n",
      "17,C00673517,,TIME FOR CHANGE\n",
      "\n",
      "\n",
      "\n",
      "\n",
      "CHRISSIE HASTIE, treasurer\n",
      "18 committees\n",
      "parties: ['DEM', 'NNE', 'REP', 'UNK']\n",
      ",cmte_id,cand_id,cmte_nm\n",
      "0,C00666461,H8NV04059,CRESENT HARDY FOR CONGRESS\n",
      "1,C00494229,S2NV00183,HELLER FOR SENATE\n",
      "2,C00607234,,CURE 4 LOUISIANA'S FUTURE PAC\n",
      "3,C00567651,,ENGAGE AMERICA ACTION\n",
      "4,C00550541,,ENGAGE NEVADA ACTION\n",
      "5,C00541128,,FULL HOUSE PAC\n",
      "6,C00684993,,HARDY NEVADA VICTORY FUND\n",
      "7,C00689620,,HARDY STEWART VICTORY COMMITTEE\n",
      "8,C00621896,,HARDY TARKANIAN VICTORY COMMITTEE\n",
      "9,C00689968,,HARDY TARKANIAN VICTORY COMMITTEE\n",
      "10,C00626192,,HECK YEAH!\n",
      "11,C00637843,,HELLER SENATE VICTORY COMMITTEE\n",
      "12,C00471607,,HELLERHIGHWATER PAC\n",
      "13,C00562595,,MORNING IN AMERICA PAC\n",
      "14,C00685891,,TEAM HARDY NEVADA TOUGH VICTORY FUND\n",
      "15,C00689513,,THE NEXT FIFTY\n",
      "16,C00507913,,THE PORTER GROUP PAC\n",
      "17,C00687616,,WIN NEVADA\n",
      "\n",
      "\n",
      "\n",
      "\n",
      "KEITH LOWEY, treasurer\n",
      "18 committees\n",
      "parties: ['DEM', 'NNE', 'REP', 'UNK']\n",
      ",cmte_id,cand_id,cmte_nm\n",
      "0,C00665166,S0NY00410,ARIZONA NEVADA NEW YORK VICTORY 2018\n",
      "1,C00413914,S0NY00410,GILLIBRAND FOR SENATE\n",
      "2,C00577189,,DUCKWORTH VICTORY FUND\n",
      "3,C00623736,,DURBIN DUCKWORTH VICTORY FUND\n",
      "4,C00631861,,ELIZABETH WARREN ACTION FUND\n",
      "5,C00477067,,EMPIRE PAC\n",
      "6,C00651943,,GILLIBRAND MCCASKILL SENATE 2018\n",
      "7,C00629964,,GILLIBRAND VICTORY FUND\n",
      "8,C00689273,,HEIDI HEITKAMP OFF THE SIDELINES VICTORY\n",
      "9,C00623785,,ILLINOIS COORDINATED VICTORY FUND 2016\n",
      "10,C00681353,,NY AND WI VICTORY FUND\n",
      "11,C00525600,,OFF THE SIDELINES PAC\n",
      "12,C00540195,,PAC FOR A LEVEL PLAYING FIELD\n",
      "13,C00575712,,PARITY PAC\n",
      "14,C00622506,,PATRIOTIC ARTISTS AND CREATIVES PAC (AKA PAC SQUARED)\n",
      "15,C00544254,,PERIMETER PAC\n",
      "16,C00676619,,PORTER WARREN VICTORY FUND\n",
      "17,C00629907,,RHODE ISLAND VICTORY FUND 2018\n",
      "\n",
      "\n",
      "\n",
      "\n",
      "ELIZABETH CURTIS, treasurer\n",
      "17 committees\n",
      "parties: ['DEM', 'NNE', 'REP', 'UNK']\n",
      ",cmte_id,cand_id,cmte_nm\n",
      "0,C00510958,H2AZ09035,WENDYROGERS.ORG\n",
      "1,C00661629,H8FL22061,KIMAZ FOR CONGRESS\n",
      "2,C00676726,H8NJ02232,GROSSMAN FOR CONGRESS COMMITTEE\n",
      "3,C00650374,S8VA00297,STEWART FOR SENATE INC\n",
      "4,C00653345,,AMERICA FIRST COMMITTEE\n",
      "5,C00661645,,AMERICA SPEAKS PAC\n",
      "6,C00648899,,AMERICA'S CONSTITUTION PAC\n",
      "7,C00653352,,DEFEAT THE ESTABLISHMENT PAC\n",
      "8,C00662072,,DRAIN THE DC SWAMP PAC\n",
      "9,C00689356,,KEEPING AMERICA GREAT PAC\n",
      "10,C00627794,,NORTH CAROLINA GUN RIGHTS PAC\n",
      "11,C00636225,,NORTH STATE LEADERSHIP COUNCIL\n",
      "12,C00623348,,PRINCIPLED LEADERSHIP PROJECT PAC\n",
      "13,C00627943,,PRO-LIFE NORTH CAROLINA PAC\n",
      "14,C00681650,,SECURE THE VOTE\n",
      "15,C00669077,,SINGH FOR SENATE\n",
      "16,C00686360,,STOPBLOOMBERG PAC\n",
      "\n",
      "\n",
      "\n",
      "\n",
      "DARRYL TATTRIE, treasurer\n",
      "16 committees\n",
      "parties: ['DEM', 'NNE', 'REP', 'UNK']\n",
      ",cmte_id,cand_id,cmte_nm\n",
      "0,C00547240,H4MA06090,MOULTON FOR CONGRESS\n",
      "1,C00646752,H8OH07123,KEN HARBAUGH FOR CONGRESS\n",
      "2,C00664896,,CULLUM NUMBER VICTORY FUND\n",
      "3,C00613919,,EMILY CAIN VICTORY FUND\n",
      "4,C00571182,,GETTING STUFF DONE PAC (GSD-PAC)\n",
      "5,C00684415,,JARED GOLDEN VICTORY FUND\n",
      "6,C00669127,,KIRKPATRICK VICTORY FUND\n",
      "7,C00683458,,LIMITLESS HORIZONS\n",
      "8,C00651554,,MOULTON LEADERSHIP FUND\n",
      "9,C00663716,,O'HALLERAN VICTORY FUND\n",
      "10,C00684092,,SECURE PROGRESS\n",
      "11,C00571174,,SERVE AMERICA PAC\n",
      "12,C00656439,,SERVE AMERICA PAC - RESTRICTED\n",
      "13,C00653295,,SERVE AMERICA VICTORY FUND\n",
      "14,C00682328,,SERVE AMERICA WOMEN'S VICTORY FUND\n",
      "15,C00660068,,SINEMA VICTORY FUND\n",
      "\n",
      "\n",
      "\n",
      "\n",
      "RICHARD EICHMAN, treasurer\n",
      "15 committees\n",
      "parties: ['DEM', 'NNE', 'UNK']\n",
      ",cmte_id,cand_id,cmte_nm\n",
      "0,C00630574,,AMERICAN OLIVE OIL PRODUCERS ASSOCIATION FEDERAL PAC\n",
      "1,C00674234,,APARTMENT ASSOCIATION OF ORANGE COUNTY PAC\n",
      "2,C00627992,,\"CALIFORNIA ALMOND INDUSTRY PAC FEDERAL, SPONSORED BY THE ALMOND ALLIANCE OF CALIFORNIA\"\n",
      "3,C00628578,,CALIFORNIA ASSOCIATION OF LICENSED REPOSSESSORS FEDERAL PAC\n",
      "4,C00155366,,CALIFORNIA ASSOCIATION OF WINEGRAPE GROWERS - FEDERAL\n",
      "5,C00082834,,CALIFORNIA BANKERS ASSOCIATION FEDERAL (CALBANKPAC)\n",
      "6,C00530725,,CALIFORNIA BERRY FARMERS FEDERAL PAC\n",
      "7,C00518787,,CALIFORNIA CATTLEMEN'S ASSOCIATION FEDERAL PAC\n",
      "8,C00250464,,CALIFORNIA COTTON GINNERS AND GROWERS ASSN PAC - FEDERAL\n",
      "9,C00631085,,\"CHAMBERPAC FED, SPONSORED BY CALIFORNIA CHAMBER OF COMMERCE\"\n",
      "10,C00487892,,GOLD AND SILVER POLITICAL ACTION COMMITTEE - FEDERAL\n",
      "11,C00245910,,PACIFIC COAST PRODUCERS POLITICAL ACTION COMMITTEE\n",
      "12,C00099002,,\"SUNKIST GROWERS, INC. PAC - FEDERAL\"\n",
      "13,C00409342,,WESCOM CREDIT UNION FEDERAL PAC\n",
      "14,C00683235,,WESTERN AGRICULTURAL PROCESSORS ASSOCIATION FEDERAL PAC\n",
      "\n",
      "\n",
      "\n",
      "\n",
      "JOEL RITER, treasurer\n",
      "15 committees\n",
      "parties: ['DEM', 'NNE', 'UNK']\n",
      ",cmte_id,cand_id,cmte_nm\n",
      "0,C00590562,,21ST CENTURY GRANITE LEADERSHIP\n",
      "1,C00679746,,A BETTER GEORGIA PAC\n",
      "2,C00568543,,AMERICAN FREEDOM BUILDERS ACTION NETWORK\n",
      "3,C00654764,,AMERICAN VALUES FIRST\n",
      "4,C00488767,,CITIZENS FOR A WORKING AMERICA PAC\n",
      "5,C00568519,,CONCRETE AND PORTLAND CEMENT ACTION NETWORK\n",
      "6,C00656199,,FOR A BETTER NEW MEXICO\n",
      "7,C00659003,,HAYSGO PAC\n",
      "8,C00581777,,MARYLAND USA\n",
      "9,C00638502,,OHIO CONSERVATIVES FOR A CHANGE\n",
      "10,C00678276,,OHIO STRONG\n",
      "11,C00663922,,PENNSYLVANIA FIRST\n",
      "12,C00661850,,PENNSYLVANIANS FOR CONSERVATIVE POLICIES\n",
      "13,C00687806,,SAFE STREETS SAFE COMMUNITIES\n",
      "14,C00692509,,SECURING LOUISIANA'S FUTURE\n",
      "\n",
      "\n",
      "\n",
      "\n",
      "MEGAN BRENGARTH, treasurer\n",
      "15 committees\n",
      "parties: ['DEM', 'NNE', 'UNK']\n",
      ",cmte_id,cand_id,cmte_nm\n",
      "0,C00652719,H8IL14174,LAUREN UNDERWOOD FOR CONGRESS\n",
      "1,C00662577,H8NC13067,KATHY MANNING FOR CONGRESS\n",
      "2,C00655233,H8WI08045,BEAU FOR CONGRESS\n",
      "3,C00649384,,CAROLYN FOR CONGRESS\n",
      "4,C00690040,,COCKBURN VICTORY FUND\n",
      "5,C00678581,,CRIST VICTORY FUND\n",
      "6,C00688291,,DONNA SHALALA VICTORY FUND\n",
      "7,C00677708,,FRONTERA VISION PAC\n",
      "8,C00683367,,HOUSE VICTORY 2018\n",
      "9,C00690172,,MIKE ESPY VICTORY FUND\n",
      "10,C00624338,,ROSEN VICTORY FUND\n",
      "11,C00680439,,SOUTH FLORIDA WOMEN'S VICTORY FUND\n",
      "12,C00692590,,SUNSHINE ORGANIZATION FOR TREMENDOUS OPPORTUNITIES (SOTO PAC)\n",
      "13,C00612101,,SUPREME COURT MAJORITY PAC\n",
      "14,C00680710,,WALLACE VICTORY FUND\n",
      "\n",
      "\n",
      "\n",
      "\n",
      "SHAWNDA DEANE, treasurer\n",
      "14 committees\n",
      "parties: ['DEM', 'NNE', 'UNK']\n",
      ",cmte_id,cand_id,cmte_nm\n",
      "0,C00646794,,CA-BAM PAC\n",
      "1,C00625848,,CALIFORNIA PROGRESS COALITION\n",
      "2,C00621391,,CALIFORNIANS FOR OPPORTUNITY\n",
      "3,C00501858,,EAST BAY YOUNG DEMOCRATS - FEDERAL\n",
      "4,C00608471,,ELECTING WOMEN SILICON VALLEY FEDERAL PAC\n",
      "5,C00641183,,FIGHT BACK CALIFORNIA\n",
      "6,C00389189,,LAKE COUNTY DEMOCRATIC CENTRAL COMMITTEE\n",
      "7,C70006028,,NATIONAL UNION OF HEALTHCARE WORKERS\n",
      "8,C00658526,,NEED TO IMPEACH\n",
      "9,C00572933,,PROGRESSIVE WOMEN SILICON VALLEY FEDERAL PAC\n",
      "10,C00647628,,ROB BONTA FOR ASSEMBLY 2018\n",
      "11,C00402826,,SAN DIEGO COUNTY DEMOCRATIC PARTY (FED. ACCT.)\n",
      "12,C00529891,,SAN JOAQUIN COUNTY DEMOCRATIC CENTRAL COMMITTEE\n",
      "13,C00636944,,SISTER DISTRICT PROJECT\n",
      "\n",
      "\n",
      "\n",
      "\n",
      "CHARLES GANTT, treasurer\n",
      "14 committees\n",
      "parties: ['DEM', 'NNE', 'UNK']\n",
      ",cmte_id,cand_id,cmte_nm\n",
      "0,C00635607,,\"35TH, INC.\"\n",
      "1,C00677351,,A BRIGHT NEW DAY\n",
      "2,C00576900,,BETTER LOUISIANA PAC\n",
      "3,C00562785,,CAMPAIGN FOR JOBS AND OPPORTUNITY\n",
      "4,C00521757,,CHARACTER COUNTS POLITICAL ACTION COMMITTEE\n",
      "5,C00602649,,MARATHON PAC\n",
      "6,C00634204,,MASSACHUSETTS FIRST\n",
      "7,C00684217,,\"MAVERICK ACTION, INC.\"\n",
      "8,C00631804,,NATIONAL LEADERSHIP COUNCIL PAC\n",
      "9,C00655415,,\"PA INTEGRITY PAC, INC.\"\n",
      "10,C00666701,,\"REBUILDING NEW YORK PAC, INC.\"\n",
      "11,C00610147,,RESTORE AMERICAN LEADERSHIP\n",
      "12,C00675413,,TEXANS FOR A STRONG AND SECURE AMERICA\n",
      "13,C00651976,,WAKE UP WASHINGTON\n",
      "\n",
      "\n",
      "\n",
      "\n",
      "DAVID BAUER, treasurer\n",
      "14 committees\n",
      "parties: ['DEM', 'NNE', 'UNK']\n",
      ",cmte_id,cand_id,cmte_nm\n",
      "0,C00473272,H0CA19173,DENHAM FOR CONGRESS\n",
      "1,C00496018,H0CA19173,DENHAM VICTORY FUND\n",
      "2,C00509422,H2CA02142,DOUG LAMALFA COMMITTEE\n",
      "3,C00446815,H8CA04152,MCCLINTOCK FOR CONGRESS\n",
      "4,C00305870,,AMERICAN FREE ENTERPRISE PAC\n",
      "5,C00514224,,AMERICANS FOR ACCOUNTABILITY IN LEADERSHIP\n",
      "6,C00425645,,\"ATLAS PAC, FEDERAL\"\n",
      "7,C00417774,,CALIFORNIA COAST CREDIT UNION FEDERAL PAC\n",
      "8,C00489112,,JEFF PAC\n",
      "9,C00625715,,JONES VICTORY COMMITTEE\n",
      "10,C00576249,,NORCAL WATER JOBS LIBERTY PAC\n",
      "11,C00377051,,SACRAMENTO VALLEY LINCOLN CLUB FEDERAL\n",
      "12,C00317511,,SUPERIOR CALIFORNIA FEDERAL LEADERSHIP PAC\n",
      "13,C00461137,,TAKING OUR MAJORITY PAC (T.O.M.PAC)\n",
      "\n",
      "\n",
      "\n",
      "\n",
      "SCOTT MACKENZIE, treasurer\n",
      "13 committees\n",
      "parties: ['DEM', 'NNE', 'UNK']\n",
      ",cmte_id,cand_id,cmte_nm\n",
      "0,C00437053,,BLACK REPUBLICAN PAC\n",
      "1,C00622381,,CARELESS PAC\n",
      "2,C00524454,,CONSERVATIVE MAJORITY FUND\n",
      "3,C00481085,,CONSERVATIVE VICTORY FUND\n",
      "4,C00525725,,FOUNDED ON TRUTH\n",
      "5,C00448886,,HISPANICS FOR A CONSERVATIVE AMERICA\n",
      "6,C00407940,,MAN IN THE ARENA\n",
      "7,C00407882,,SAVE NEW YORK PAC\n",
      "8,C00480681,,STAND AMERICA PAC\n",
      "9,C00566174,,TEA PARTY MAJORITY FUND\n",
      "10,C00491290,,TEA PARTY VICTORY FUND\n",
      "11,C00457291,,THE CONSERVATIVE STRIKEFORCE\n",
      "12,C00553560,,VIGOP (VIRGIN ISLANDS REPUBLICAN PARTY)\n",
      "\n",
      "\n",
      "\n",
      "\n",
      "THOMAS MONTGOMERY, treasurer\n",
      "13 committees\n",
      "parties: ['DEM', 'NNE', 'UNK']\n",
      ",cmte_id,cand_id,cmte_nm\n",
      "0,C00672980,H8CA12270,REMMER FOR CONGRESS\n",
      "1,C00409490,,CALAVERAS COUNTY REPUBLICAN CENTRAL COMMITTEE (FEDERAL)\n",
      "2,C00629147,,CALIFORNIA FREEDOM AND PROSPERITY PAC\n",
      "3,C00688812,,CITIZENS FOR A RED WAVE PAC\n",
      "4,C00680546,,COMMITTEE FOR LIFE LIBERTY & PROPERTY\n",
      "5,C00609420,,DANNY TURNER FOR CONGRESS\n",
      "6,C00603639,,LAKE COUNTY REPUBLICAN PARTY\n",
      "7,C00666263,,MOBIUS POLITICAL ACTION COMMITTEE\n",
      "8,C00389981,,MONTEREY COUNTY REPUBLICAN CENTRAL COMMITTEE (FED.)\n",
      "9,C00659912,,OSMENA FOR CONGRESS\n",
      "10,C00546127,,REPUBLICAN PARTY OF LA COUNTY - 66TH AD (FEDERAL)\n",
      "11,C00325464,,TUOLUMNE COUNTY REPUBLICAN PARTY (FED)\n",
      "12,C00688820,,US CITIZENS PAC\n",
      "\n",
      "\n",
      "\n",
      "\n",
      "DAN BACKER, treasurer\n",
      "13 committees\n",
      "parties: ['DEM', 'NNE', 'UNK']\n",
      ",cmte_id,cand_id,cmte_nm\n",
      "0,C00662148,,BIKERS FOR THE PRESIDENT PAC\n",
      "1,C00550400,,BIT PAC\n",
      "2,C00668178,,BIT PAC\n",
      "3,C00469239,,COMBAT VETERANS FOR CONGRESS PAC\n",
      "4,C00496505,,CONSERVATIVE ACTION FUND\n",
      "5,C00623769,,\"GEORGE WASHINGTON LEADERSHIP FOUNDATION, INC.\"\n",
      "6,C00583617,,GRASSROOTS VICTORY\n",
      "7,C00674572,,GRASSROOTS VICTORY\n",
      "8,C00608489,,GREAT AMERICA PAC\n",
      "9,C00629352,,STOP MICHELLE PAC\n",
      "10,C00608166,,TEA PARTY FORWARD\n",
      "11,C00544767,,THE COMMITTEE TO DEFEND THE PRESIDENT\n",
      "12,C00468868,,ZP ACTION\n",
      "\n",
      "\n",
      "\n",
      "\n",
      "VICKIE WINPISINGER, treasurer\n",
      "13 committees\n",
      "parties: ['DEM', 'NNE', 'UNK']\n",
      ",cmte_id,cand_id,cmte_nm\n",
      "0,C00545582,H4FL20023,DWS VICTORY FUND\n",
      "1,C00202416,H6GA05217,JOHN LEWIS FOR CONGRESS\n",
      "2,C00687467,,BRENDAN KELLY VICTORY FUND\n",
      "3,C00681510,,COMMITTEE FOR MIDWEST PRIORITIES\n",
      "4,C00455360,,DAWG PAC - DEMOCRATS AGAINST WASTE IN GOVERNMENT\n",
      "5,C00425470,,DEMOCRATS WIN SEATS (DWS PAC)\n",
      "6,C00415869,,HARVEST PAC\n",
      "7,C00321596,,HOUSE MAJORITY FUND\n",
      "8,C00680132,,JOINING IDEAS TO MOTIVATE MOVEMENT FOR YOU (JIMMY PAC)\n",
      "9,C00351056,,PROGRESS PAC\n",
      "10,C00677625,,THE GPS VICTORY FUND\n",
      "11,C00578096,,\"THE PRIVATE INVESTOR COALITION, INC. POLITICAL ACTION COMMITTEE\"\n",
      "12,C00681742,,TIM RYAN VICTORY FUND\n",
      "\n",
      "\n",
      "\n",
      "\n",
      "KATHERINE BUCHANAN, treasurer\n",
      "12 committees\n",
      "parties: ['DEM', 'NNE', 'UNK']\n",
      ",cmte_id,cand_id,cmte_nm\n",
      "0,C00572388,S2VA00142,KAINE FOR COMMON GROUND\n",
      "1,C00495358,S2VA00142,KAINE FOR VIRGINIA\n",
      "2,C00566562,,BACKPAC\n",
      "3,C00538835,,COMMON GROUND PAC\n",
      "4,C00658377,,DEMOCRATS FOR OPPORTUNITY FUND\n",
      "5,C00412791,,FORWARD TOGETHER PAC\n",
      "6,C00689448,,JONES ACTION FUND\n",
      "7,C00689430,,JONES VICTORY FUND\n",
      "8,C00629394,,KAINE ACTION FUND\n",
      "9,C00629378,,KAINE VICTORY FUND\n",
      "10,C00638114,,SAVE OUR SENATE 2\n",
      "11,C00625111,,STRENGTHENING VIRGINIA'S WORKING FAMILIES PAC\n",
      "\n",
      "\n",
      "\n",
      "\n",
      "CARY DAVIDSON, treasurer\n",
      "12 committees\n",
      "parties: ['DEM', 'NNE', 'UNK']\n",
      ",cmte_id,cand_id,cmte_nm\n",
      "0,C00555367,,ASHTON WOODS CORP. HOMES PAC\n",
      "1,C00019653,,EDISON INTERNATIONAL PAC\n",
      "2,C00493635,,EQUALITY CALIFORNIA FEDERAL PAC\n",
      "3,C00417139,,KB HOME AMERICAN DREAM PAC\n",
      "4,C00430066,,KINECTA FEDERAL CREDIT UNION FEDERAL PAC\n",
      "5,C00668970,,NEIGHBORS FOR A BETTER CONGRESS\n",
      "6,C00390633,,SCHOOLSFIRST FEDERAL CREDIT UNION EMPLOYEES FEDERAL PAC\n",
      "7,C00680561,,SONY MUSIC ENTERTAINMENT PAC\n",
      "8,C00282038,,\"SONY PICTURES ENTERTAINMENT, INC. PAC\"\n",
      "9,C00416636,,\"STAMPS.COM, INC. PAC\"\n",
      "10,C00392464,,UNIVERSAL MUSIC GROUP POLITICAL ACTION COMMITTEE\n",
      "11,C00435735,,UNIVISION COMMUNICATIONS INC. POLITICAL ACTION COMMITTEE\n",
      "\n",
      "\n",
      "\n",
      "\n",
      "DIANA SAQUELLA, treasurer\n",
      "12 committees\n",
      "parties: ['DEM', 'NNE', 'UNK']\n",
      ",cmte_id,cand_id,cmte_nm\n",
      "0,C70003439,,ALLEGANY COUNTY TEACHERS ASSN\n",
      "1,C70003520,,CARROLL COUNTY EDUCATION ASSN\n",
      "2,C70003496,,CECIL COUNTY CLASSROOM TEACHERS ASSN\n",
      "3,C70003462,,GARRETT COUNTY EDUCATION ASSN\n",
      "4,C70003454,,KENT COUNTY TEACHERS ASSN\n",
      "5,C70003538,,MARYLAND STATE TEACHERS ASSN\n",
      "6,C70003488,,PRINCE GEORGE'S COUNTY EDUCATION ASSN\n",
      "7,C70003512,,QUEEN ANNE'S COUNTY EDUCATION ASSN\n",
      "8,C70003561,,TEACHERS ASSN BALTIMORE COUNTY\n",
      "9,C70003579,,TEACHERS ASSN OF ANNE ARUNDEL COUNTY\n",
      "10,C70003504,,WICOMICO COUNTY EDUCATION ASSN\n",
      "11,C70003470,,WORCESTER COUNTY TEACHERS ASSN\n",
      "\n",
      "\n",
      "\n",
      "\n",
      "DAVID MASON, treasurer\n",
      "12 committees\n",
      "parties: ['DEM', 'NNE', 'UNK']\n",
      ",cmte_id,cand_id,cmte_nm\n",
      "0,C00001198,,AMERICAN HOTEL AND LODGING ASSOCIATION POLITICAL ACTION COMMITTEE ('HOTELPAC')\n",
      "1,C00491340,,ARISTOTLE INTERNATIONAL INC. POLITICAL ACTION COMMITTEE (ARISTOTLE PAC)\n",
      "2,C00381954,,ATMOS ENERGY CORPORATION PAC\n",
      "3,C00243444,,ENERGYSOUTH PAC\n",
      "4,C00496307,,MARATHON PETROLEUM CORPORATION EMPLOYEES POLITICAL ACTION COMMITTEE (MPAC)\n",
      "5,C00630087,,MODERN MARKETS INITIATIVE PAC (MMI PAC)\n",
      "6,C00522094,,PSYCHOLOGY PAC OF AMERICAN PSYCHOLOGICAL ASSOCIATION SERVICES INC.\n",
      "7,C00507053,,PURO PAC INC.\n",
      "8,C00240457,,SOCIETY FOR RELIEF OF DISTRESSED AND DECAYED PILOTS POLITICAL ACTION COMMITTEE\n",
      "9,C00089342,,SPRINT CORPORATION POLITICAL ACTION COMMITTEE\n",
      "10,C00369090,,THE WENDYS COMPANY POLITICAL ACTION COMMITTEE\n",
      "11,C00102152,,WASHINGTON GAS LIGHT COMPANY PAC\n",
      "\n",
      "\n",
      "\n",
      "\n",
      "BAILEY MORGAN, treasurer\n",
      "12 committees\n",
      "parties: ['DEM', 'NNE', 'UNK']\n",
      ",cmte_id,cand_id,cmte_nm\n",
      "0,C00523159,,AFFORDABLE HEALTH CARE FOR AMERICA PAC\n",
      "1,C00523092,,AMERICAN ALLIANCE FOR AFRICA PAC\n",
      "2,C00526558,,AMERICANS FOR AFFORDABLE HOUSING AND ASSISTING THE SHELTERLESS\n",
      "3,C00526608,,AMERICANS FOR PRISON REFORM\n",
      "4,C00523084,,CHRISTIANITY IN ACTION PAC\n",
      "5,C00523076,,CONCERNED VOTERS FOR THE ARTS PAC\n",
      "6,C00523100,,IMPROVING LIFE IN THE AMERICAS AND CARIBBEAN PAC\n",
      "7,C00526566,,\"PEACEFUL AMERICANS AGAINST WAR, VIOLENCE AND GUN PROLIFERATION\"\n",
      "8,C00523134,,PROGRESS FOR NATIVE AMERICAN INDIANS BLACKS AND HISPANICS PAC\n",
      "9,C00526574,,RESTORE AMERICAN LABOR FORCE\n",
      "10,C00523118,,TOWARDS A GREENER AMERICA PAC\n",
      "11,C00523142,,URBAN WORKS USA PAC\n",
      "\n",
      "\n",
      "\n",
      "\n",
      "GEMMA MARTIN, treasurer\n",
      "12 committees\n",
      "parties: ['DEM', 'NNE', 'UNK']\n",
      ",cmte_id,cand_id,cmte_nm\n",
      "0,C00512970,H2MA04073,JOE KENNEDY FOR CONGRESS\n",
      "1,C00541888,H4MA05084,KATHERINE CLARK FOR CONGRESS\n",
      "2,C00543504,,4 MA PAC\n",
      "3,C00569343,,ALLIANCE FOR A BETTER RHODE ISLAND\n",
      "4,C00639112,,CLARK KENNEDY VICTORY FUND\n",
      "5,C00605600,,CLARK TSONGAS VICTORY FUND\n",
      "6,C00491142,,COMMON SENSE DEMOCRAT PAC\n",
      "7,C00574970,,FAIR SHOT PAC\n",
      "8,C00647172,,HASSAN CLARK VICTORY FUND\n",
      "9,C00380733,,MASSACHUSETTS BIOTECHNOLOGY COUNCIL INC. FEDERAL POLITICAL ACTION COMMITTEE\n",
      "10,C00530667,,PROTECT OUR SCHOOLS FUND\n",
      "11,C00503870,,RETHINK PAC\n",
      "\n",
      "\n",
      "\n",
      "\n",
      "MIKE MCCAULEY, treasurer\n",
      "11 committees\n",
      "parties: ['DEM', 'UNK']\n",
      ",cmte_id,cand_id,cmte_nm\n",
      "0,C00374231,H2UT01094,ROB BISHOP FOR CONGRESS\n",
      "1,C00647339,H8UT03238,CURTIS FOR CONGRESS\n",
      "2,C00654459,H8UT03238,TEAM CURTIS JOINT FUNDRAISING COMMITTEE\n",
      "3,C00679001,,ARIZONA FUTURE FUND PAC\n",
      "4,C00655829,,ARIZONA GOLDWATER TRADITION PAC\n",
      "5,C00684472,,ELECT LIBERTY PAC\n",
      "6,C00557587,,LETSALLVOTE.ORG\n",
      "7,C00570465,,OUR AMERICA PAC\n",
      "8,C00452771,,PIONEER PAC\n",
      "9,C00682336,,STAPLETON VICTORY FUND\n",
      "10,C00654186,,UTAH FIRST PAC\n",
      "\n",
      "\n",
      "\n",
      "\n"
     ]
    },
    {
     "name": "stdout",
     "output_type": "stream",
     "text": [
      "MEREDITH LESHER, treasurer\n",
      "11 committees\n",
      "parties: ['DEM', 'UNK']\n",
      ",cmte_id,cand_id,cmte_nm\n",
      "0,C00435024,,CENTER FOR SPORTFISHING POLICY POLITICAL ACTION COMMITTEE AKA CENTER PAC\n",
      "1,C00542092,,CONCHO RESOURCES INC PAC\n",
      "2,C00366682,,HERO'S FUND\n",
      "3,C00544270,,IDAHO CONSERVATIVE GROWTH FUND\n",
      "4,C00217323,,OUTPATIENT OPHTHALMIC SURGERY SOCIETY POLITICAL ACTION COMMITTEE\n",
      "5,C00387670,,RICH POLITICAL ACTION COMMITTEE\n",
      "6,C00326256,,SECURITY TRADERS ASSOCIATION POLITICAL ACTION COMMITTEE\n",
      "7,C00337972,,TOM JAMES COMPANY POLITICAL ACTION COMMITTEE\n",
      "8,C00327189,,VALUE IN ELECTING WOMEN POLITICAL ACTION COMMITTEE\n",
      "9,C00039206,,\"WILLIAMS AND JENSEN, PLLC POLITICAL ACTION COMMITTEE\"\n",
      "10,C00541177,,ZOETIS GOOD GOVERNMENT FUND\n",
      "\n",
      "\n",
      "\n",
      "\n",
      "CALEB CROSBY, treasurer\n",
      "11 committees\n",
      "parties: ['DEM', 'UNK']\n",
      ",cmte_id,cand_id,cmte_nm\n",
      "0,C00582304,H6FL02208,FRIENDS OF NEAL DUNN\n",
      "1,C00404483,,\"ADVANCED MICRO DEVICES, INC. PAC\"\n",
      "2,C00487363,,AMERICAN CROSSROADS\n",
      "3,C00608943,,\"CLEARPATH ACTION, INC.\"\n",
      "4,C00574632,,COMSTOCK VICTORY FUND\n",
      "5,C00504530,,CONGRESSIONAL LEADERSHIP FUND\n",
      "6,C00527531,,FREE MARKETS PAC INC\n",
      "7,C00621326,,GOVERNING MAJORITY\n",
      "8,C00625574,,SAVE AMERICA FROM ITS GOVERNMENT\n",
      "9,C00571703,,SENATE LEADERSHIP FUND\n",
      "10,C00504761,,YG ACTION FUND\n",
      "\n",
      "\n",
      "\n",
      "\n",
      "HOLLY GIARRAPUTO, treasurer\n",
      "11 committees\n",
      "parties: ['DEM', 'UNK']\n",
      ",cmte_id,cand_id,cmte_nm\n",
      "0,C00557280,H2NY22139,HUDSON VALLEY VICTORY FUND\n",
      "1,C00512426,H2NY22139,SEAN PATRICK MALONEY FOR CONGRESS\n",
      "2,C00401034,H4NY27076,BRIAN HIGGINS FOR CONGRESS\n",
      "3,C00667964,H8OH12297,O'CONNOR FOR CONGRESS\n",
      "4,C00675041,H8PA14065,BOERIO FOR CONGRESS\n",
      "5,C00547679,S6MT00162,TESTER VICTORY FUND\n",
      "6,C00677534,,2018 MAJORITY MAKERS FUND\n",
      "7,C00650754,,BIG SKY VALUES PAC\n",
      "8,C00549014,,HUDSON VALLEY PAC\n",
      "9,C00684225,,NEW CONGRESS FUND\n",
      "10,C00637652,,QUIST VICTORY FUND\n",
      "\n",
      "\n",
      "\n",
      "\n"
     ]
    }
   ],
   "source": [
    "# sorry! these print ugly but it's to display them unabbreviated\n",
    "treses = list(cm['tres_nm'].value_counts()[cm['tres_nm'].value_counts() > 10].index)\n",
    "\n",
    "for tres in treses:\n",
    "    if tres != '(no treasurer listed)':\n",
    "        lil_cm = cm[cm['tres_nm'] == tres]\n",
    "        lil_cm = lil_cm[[\n",
    "            'cmte_id',\n",
    "            'cand_id',\n",
    "            'cmte_nm',\n",
    "\n",
    "        ]].sort_values(['cand_id', 'cmte_nm']).reset_index(drop = True)\n",
    "        pty = list(set(cm.loc[list(lil_cm.index), 'cmte_pty_affiliation']))\n",
    "        ptys = sorted([x for x in pty if (type(x) != float)])\n",
    "        print(''.join([tres, ', treasurer']))\n",
    "        print(len(lil_cm), 'committees')\n",
    "        print('parties:', str(ptys))\n",
    "        print(lil_cm.to_csv(None))\n",
    "        print('\\n\\n')"
   ]
  },
  {
   "cell_type": "code",
   "execution_count": 377,
   "metadata": {},
   "outputs": [],
   "source": [
    "cm.to_csv('data/03a_committees.csv', index = False)"
   ]
  }
 ],
 "metadata": {
  "kernelspec": {
   "display_name": "Python 3",
   "language": "python",
   "name": "python3"
  },
  "language_info": {
   "codemirror_mode": {
    "name": "ipython",
    "version": 3
   },
   "file_extension": ".py",
   "mimetype": "text/x-python",
   "name": "python",
   "nbconvert_exporter": "python",
   "pygments_lexer": "ipython3",
   "version": "3.7.4"
  }
 },
 "nbformat": 4,
 "nbformat_minor": 2
}
