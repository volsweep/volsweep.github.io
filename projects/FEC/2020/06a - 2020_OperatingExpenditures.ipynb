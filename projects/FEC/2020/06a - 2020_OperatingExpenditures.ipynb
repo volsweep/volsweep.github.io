{
 "cells": [
  {
   "cell_type": "markdown",
   "metadata": {},
   "source": [
    "## FEC 2018 Campaign Finance: \n",
    "\n",
    "### Operating expenditures"
   ]
  },
  {
   "cell_type": "code",
   "execution_count": 1,
   "metadata": {},
   "outputs": [],
   "source": [
    "import pandas as pd\n",
    "import numpy as np\n",
    "import matplotlib.pyplot as plt\n",
    "import warnings\n",
    "warnings.filterwarnings('ignore')\n",
    "\n",
    "from copy import deepcopy\n",
    "from datetime import datetime as dt\n",
    "\n",
    "%matplotlib inline"
   ]
  },
  {
   "cell_type": "code",
   "execution_count": 19,
   "metadata": {},
   "outputs": [
    {
     "data": {
      "text/html": [
       "<div>\n",
       "<style scoped>\n",
       "    .dataframe tbody tr th:only-of-type {\n",
       "        vertical-align: middle;\n",
       "    }\n",
       "\n",
       "    .dataframe tbody tr th {\n",
       "        vertical-align: top;\n",
       "    }\n",
       "\n",
       "    .dataframe thead th {\n",
       "        text-align: right;\n",
       "    }\n",
       "</style>\n",
       "<table border=\"1\" class=\"dataframe\">\n",
       "  <thead>\n",
       "    <tr style=\"text-align: right;\">\n",
       "      <th></th>\n",
       "      <th>cmte_id</th>\n",
       "      <th>amndt_ind</th>\n",
       "      <th>rpt_yr</th>\n",
       "      <th>rpt_tp</th>\n",
       "      <th>image_num</th>\n",
       "      <th>line_num</th>\n",
       "      <th>form_tp_cd</th>\n",
       "      <th>sched_tp_cd</th>\n",
       "      <th>name</th>\n",
       "      <th>city</th>\n",
       "      <th>...</th>\n",
       "      <th>purpose</th>\n",
       "      <th>category</th>\n",
       "      <th>category_desc</th>\n",
       "      <th>memo_cd</th>\n",
       "      <th>memo_text</th>\n",
       "      <th>entity_tp</th>\n",
       "      <th>sub_id</th>\n",
       "      <th>file_num</th>\n",
       "      <th>tran_id</th>\n",
       "      <th>back_ref_tran_id</th>\n",
       "    </tr>\n",
       "  </thead>\n",
       "  <tbody>\n",
       "    <tr>\n",
       "      <td>0</td>\n",
       "      <td>C00626739</td>\n",
       "      <td>N</td>\n",
       "      <td>2017</td>\n",
       "      <td>YE</td>\n",
       "      <td>201801249090614233</td>\n",
       "      <td>21B</td>\n",
       "      <td>F3X</td>\n",
       "      <td>SB</td>\n",
       "      <td>ACTBLUE TECHNICAL SERVICES</td>\n",
       "      <td>SOMERVILLE</td>\n",
       "      <td>...</td>\n",
       "      <td>ONLINE CREDIT CARD PROCESSING FEE</td>\n",
       "      <td>003</td>\n",
       "      <td>Solicitation and Fundraising Expenses</td>\n",
       "      <td>NaN</td>\n",
       "      <td>NaN</td>\n",
       "      <td>ORG</td>\n",
       "      <td>4012420181503169942</td>\n",
       "      <td>1199698</td>\n",
       "      <td>VTDEGA3ZWX3</td>\n",
       "      <td>NaN</td>\n",
       "    </tr>\n",
       "    <tr>\n",
       "      <td>1</td>\n",
       "      <td>C00626739</td>\n",
       "      <td>N</td>\n",
       "      <td>2017</td>\n",
       "      <td>YE</td>\n",
       "      <td>201801249090614238</td>\n",
       "      <td>21B</td>\n",
       "      <td>F3X</td>\n",
       "      <td>SB</td>\n",
       "      <td>FACEBOOK</td>\n",
       "      <td>MENLO PARK</td>\n",
       "      <td>...</td>\n",
       "      <td>ANTI-PAUL RYAN ADVERTISING</td>\n",
       "      <td>004</td>\n",
       "      <td>Advertising Expenses</td>\n",
       "      <td>NaN</td>\n",
       "      <td>NaN</td>\n",
       "      <td>ORG</td>\n",
       "      <td>4012420181503169972</td>\n",
       "      <td>1199698</td>\n",
       "      <td>VTDEGA3ZFM4</td>\n",
       "      <td>NaN</td>\n",
       "    </tr>\n",
       "  </tbody>\n",
       "</table>\n",
       "<p>2 rows × 25 columns</p>\n",
       "</div>"
      ],
      "text/plain": [
       "     cmte_id amndt_ind  rpt_yr rpt_tp           image_num line_num form_tp_cd  \\\n",
       "0  C00626739         N    2017     YE  201801249090614233      21B        F3X   \n",
       "1  C00626739         N    2017     YE  201801249090614238      21B        F3X   \n",
       "\n",
       "  sched_tp_cd                        name        city  ...  \\\n",
       "0          SB  ACTBLUE TECHNICAL SERVICES  SOMERVILLE  ...   \n",
       "1          SB                    FACEBOOK  MENLO PARK  ...   \n",
       "\n",
       "                             purpose category  \\\n",
       "0  ONLINE CREDIT CARD PROCESSING FEE      003   \n",
       "1         ANTI-PAUL RYAN ADVERTISING      004   \n",
       "\n",
       "                            category_desc  memo_cd memo_text entity_tp  \\\n",
       "0  Solicitation and Fundraising Expenses       NaN       NaN       ORG   \n",
       "1                   Advertising Expenses       NaN       NaN       ORG   \n",
       "\n",
       "                sub_id file_num      tran_id back_ref_tran_id  \n",
       "0  4012420181503169942  1199698  VTDEGA3ZWX3              NaN  \n",
       "1  4012420181503169972  1199698  VTDEGA3ZFM4              NaN  \n",
       "\n",
       "[2 rows x 25 columns]"
      ]
     },
     "execution_count": 19,
     "metadata": {},
     "output_type": "execute_result"
    }
   ],
   "source": [
    "# add column headers from separate file\n",
    "headers = pd.read_csv('assets/oppexp_header_file.csv')\n",
    "\n",
    "# read in & clean\n",
    "opp = pd.read_csv('assets/oppexp18.zip', sep = '|', error_bad_lines = False, header = None)\n",
    "print('original length:', len(opp))\n",
    "\n",
    "opp.dropna(axis = 1, how = 'all', inplace = True)\n",
    "\n",
    "opp.columns = [x.lower() for x in headers.columns]\n",
    "\n",
    "opp.head(2)"
   ]
  },
  {
   "cell_type": "code",
   "execution_count": 22,
   "metadata": {},
   "outputs": [
    {
     "data": {
      "text/html": [
       "<div>\n",
       "<style scoped>\n",
       "    .dataframe tbody tr th:only-of-type {\n",
       "        vertical-align: middle;\n",
       "    }\n",
       "\n",
       "    .dataframe tbody tr th {\n",
       "        vertical-align: top;\n",
       "    }\n",
       "\n",
       "    .dataframe thead th {\n",
       "        text-align: right;\n",
       "    }\n",
       "</style>\n",
       "<table border=\"1\" class=\"dataframe\">\n",
       "  <thead>\n",
       "    <tr style=\"text-align: right;\">\n",
       "      <th></th>\n",
       "      <th>cmte_id</th>\n",
       "      <th>amndt_ind</th>\n",
       "      <th>rpt_yr</th>\n",
       "      <th>rpt_tp</th>\n",
       "      <th>image_num</th>\n",
       "      <th>line_num</th>\n",
       "      <th>form_tp_cd</th>\n",
       "      <th>sched_tp_cd</th>\n",
       "      <th>name</th>\n",
       "      <th>city</th>\n",
       "      <th>...</th>\n",
       "      <th>purpose</th>\n",
       "      <th>category</th>\n",
       "      <th>category_desc</th>\n",
       "      <th>memo_cd</th>\n",
       "      <th>memo_text</th>\n",
       "      <th>entity_tp</th>\n",
       "      <th>sub_id</th>\n",
       "      <th>file_num</th>\n",
       "      <th>tran_id</th>\n",
       "      <th>back_ref_tran_id</th>\n",
       "    </tr>\n",
       "  </thead>\n",
       "  <tbody>\n",
       "    <tr>\n",
       "      <td>0</td>\n",
       "      <td>C00626739</td>\n",
       "      <td>N</td>\n",
       "      <td>2017</td>\n",
       "      <td>YE</td>\n",
       "      <td>201801249090614233</td>\n",
       "      <td>21B</td>\n",
       "      <td>F3X</td>\n",
       "      <td>SB</td>\n",
       "      <td>ACTBLUE TECHNICAL SERVICES</td>\n",
       "      <td>SOMERVILLE</td>\n",
       "      <td>...</td>\n",
       "      <td>ONLINE CREDIT CARD PROCESSING FEE</td>\n",
       "      <td>003</td>\n",
       "      <td>Solicitation and Fundraising Expenses</td>\n",
       "      <td>NaN</td>\n",
       "      <td>NaN</td>\n",
       "      <td>ORG</td>\n",
       "      <td>4012420181503169942</td>\n",
       "      <td>1199698</td>\n",
       "      <td>VTDEGA3ZWX3</td>\n",
       "      <td>NaN</td>\n",
       "    </tr>\n",
       "    <tr>\n",
       "      <td>1</td>\n",
       "      <td>C00626739</td>\n",
       "      <td>N</td>\n",
       "      <td>2017</td>\n",
       "      <td>YE</td>\n",
       "      <td>201801249090614238</td>\n",
       "      <td>21B</td>\n",
       "      <td>F3X</td>\n",
       "      <td>SB</td>\n",
       "      <td>FACEBOOK</td>\n",
       "      <td>MENLO PARK</td>\n",
       "      <td>...</td>\n",
       "      <td>ANTI-PAUL RYAN ADVERTISING</td>\n",
       "      <td>004</td>\n",
       "      <td>Advertising Expenses</td>\n",
       "      <td>NaN</td>\n",
       "      <td>NaN</td>\n",
       "      <td>ORG</td>\n",
       "      <td>4012420181503169972</td>\n",
       "      <td>1199698</td>\n",
       "      <td>VTDEGA3ZFM4</td>\n",
       "      <td>NaN</td>\n",
       "    </tr>\n",
       "  </tbody>\n",
       "</table>\n",
       "<p>2 rows × 25 columns</p>\n",
       "</div>"
      ],
      "text/plain": [
       "     cmte_id amndt_ind  rpt_yr rpt_tp           image_num line_num form_tp_cd  \\\n",
       "0  C00626739         N    2017     YE  201801249090614233      21B        F3X   \n",
       "1  C00626739         N    2017     YE  201801249090614238      21B        F3X   \n",
       "\n",
       "  sched_tp_cd                        name        city  ...  \\\n",
       "0          SB  ACTBLUE TECHNICAL SERVICES  SOMERVILLE  ...   \n",
       "1          SB                    FACEBOOK  MENLO PARK  ...   \n",
       "\n",
       "                             purpose category  \\\n",
       "0  ONLINE CREDIT CARD PROCESSING FEE      003   \n",
       "1         ANTI-PAUL RYAN ADVERTISING      004   \n",
       "\n",
       "                            category_desc  memo_cd memo_text entity_tp  \\\n",
       "0  Solicitation and Fundraising Expenses       NaN       NaN       ORG   \n",
       "1                   Advertising Expenses       NaN       NaN       ORG   \n",
       "\n",
       "                sub_id file_num      tran_id back_ref_tran_id  \n",
       "0  4012420181503169942  1199698  VTDEGA3ZWX3              NaN  \n",
       "1  4012420181503169972  1199698  VTDEGA3ZFM4              NaN  \n",
       "\n",
       "[2 rows x 25 columns]"
      ]
     },
     "execution_count": 22,
     "metadata": {},
     "output_type": "execute_result"
    }
   ],
   "source": [
    "# inspect only lines from opp corresponding to cand_id in df\n",
    "cm = pd.read_csv('assets/committees_2018.csv')\n",
    "print(len(cm))\n",
    "cms = list(set(cm['cmte_id']))\n",
    "mask = [True if opp.loc[i, 'cmte_id'] in cms else \\\n",
    "        False for i in list(opp.index)]\n",
    "opp = opp[mask]\n",
    "print(len(opp))\n",
    "\n",
    "opp.head(2)"
   ]
  },
  {
   "cell_type": "code",
   "execution_count": 23,
   "metadata": {},
   "outputs": [
    {
     "data": {
      "text/plain": [
       "N    1094558\n",
       "A     695493\n",
       "T       9022\n",
       "Name: amndt_ind, dtype: int64"
      ]
     },
     "execution_count": 23,
     "metadata": {},
     "output_type": "execute_result"
    }
   ],
   "source": [
    "opp['amndt_ind'].value_counts()"
   ]
  },
  {
   "cell_type": "code",
   "execution_count": 24,
   "metadata": {},
   "outputs": [
    {
     "data": {
      "text/plain": [
       "2018    1171475\n",
       "2017     627598\n",
       "Name: rpt_yr, dtype: int64"
      ]
     },
     "execution_count": 24,
     "metadata": {},
     "output_type": "execute_result"
    }
   ],
   "source": [
    "opp['rpt_yr'].value_counts()"
   ]
  },
  {
   "cell_type": "code",
   "execution_count": 25,
   "metadata": {},
   "outputs": [
    {
     "data": {
      "text/plain": [
       "Q3     310190\n",
       "Q2     274323\n",
       "YE     266490\n",
       "Q1     233908\n",
       "30G    147498\n",
       "12P     92213\n",
       "12G     68240\n",
       "M9      40568\n",
       "M10     39859\n",
       "M8      38189\n",
       "M7      35340\n",
       "M6      33938\n",
       "MY      33936\n",
       "M5      32235\n",
       "M4      31241\n",
       "M3      25586\n",
       "M2      22976\n",
       "M12     14368\n",
       "M11     14162\n",
       "12S     12631\n",
       "TER     11235\n",
       "30S      8137\n",
       "12R      7889\n",
       "30R      2449\n",
       "12C      1448\n",
       "30P        22\n",
       " M4         2\n",
       "Name: rpt_tp, dtype: int64"
      ]
     },
     "execution_count": 25,
     "metadata": {},
     "output_type": "execute_result"
    }
   ],
   "source": [
    "opp['rpt_tp'].value_counts()"
   ]
  },
  {
   "cell_type": "code",
   "execution_count": 26,
   "metadata": {},
   "outputs": [
    {
     "data": {
      "text/plain": [
       "ACTBLUE TECHNICAL SERVICES              56589\n",
       "UBER                                    27046\n",
       "PAYPAL FEE                              21898\n",
       "ANEDOT                                  21463\n",
       "AMERICAN AIRLINES                       21338\n",
       "                                        ...  \n",
       "1000 UNIVERSITY AVENUE PROPERTIES,LP        1\n",
       "CHRISTIAN NAKKASHIAN                        1\n",
       "MULHOLLAND, BOB                             1\n",
       "LEISHMAN, WADE                              1\n",
       "MRHAB INVESTMENT LLC                        1\n",
       "Name: name, Length: 171264, dtype: int64"
      ]
     },
     "execution_count": 26,
     "metadata": {},
     "output_type": "execute_result"
    }
   ],
   "source": [
    "opp['name'].value_counts()"
   ]
  },
  {
   "cell_type": "code",
   "execution_count": 29,
   "metadata": {},
   "outputs": [
    {
     "data": {
      "text/plain": [
       "Administrative/Salary/Overhead Expenses     312796\n",
       "Travel Expenses                              73318\n",
       "Solicitation and Fundraising Expenses        58663\n",
       "Advertising Expenses                         29832\n",
       "Campaign Event Expenses                      13233\n",
       "Campaign Materials                           11136\n",
       "Political Contributions                       4228\n",
       "Polling Expenses                              2409\n",
       "Donations                                     1410\n",
       "Transfers                                      170\n",
       "Loan Repayments                                137\n",
       "Refunds of Contributions                       129\n",
       "Name: category_desc, dtype: int64"
      ]
     },
     "execution_count": 29,
     "metadata": {},
     "output_type": "execute_result"
    }
   ],
   "source": [
    "opp['category_desc'].value_counts()"
   ]
  },
  {
   "cell_type": "code",
   "execution_count": 28,
   "metadata": {},
   "outputs": [
    {
     "data": {
      "text/plain": [
       "TRAVEL                                      12523\n",
       "TRANSPORTATION                               2820\n",
       "TRAVEL/ACCOMMODATION /MEALS                  2352\n",
       "TRAVEL EXPENSE                                901\n",
       "RIDE SHARE SERVICE                            677\n",
       "                                            ...  \n",
       "PAC CAB FARE                                    1\n",
       "CAREFARE                                        1\n",
       "UBER CAB FARE (DUSTY JOHNSON)                   1\n",
       "CAR SERVICE - TYNGSBORO TO BOSTON               1\n",
       "REIMBURSEMENT [SB17.12955]: TRAVEL:GROUN        1\n",
       "Name: purpose, Length: 555, dtype: int64"
      ]
     },
     "execution_count": 28,
     "metadata": {},
     "output_type": "execute_result"
    }
   ],
   "source": [
    "opp.loc[opp['name'] == 'UBER', 'purpose'].value_counts()"
   ]
  },
  {
   "cell_type": "code",
   "execution_count": null,
   "metadata": {},
   "outputs": [],
   "source": [
    "cmtetp_dict = {\n",
    "    'H' : 'cmte_House',\n",
    "    'S' : 'cmte_Senate',\n",
    "    'N' : 'cmte_PACnonqual',\n",
    "    'Q' : 'cmte_PACqual',\n",
    "    'Y' : 'cmte_Partyqual',\n",
    "    'O' : 'cmte_SuperPAC',\n",
    "    'U' : 'cmte_Singlecand',\n",
    "}\n",
    "\n",
    "opp['cmte_tp'] = [cmtetp_dict[x] for x in opp['cmte_tp']]\n",
    "opp['cmte_tp'].value_counts()"
   ]
  },
  {
   "cell_type": "code",
   "execution_count": null,
   "metadata": {},
   "outputs": [],
   "source": [
    "cmtedsgn_dict = {\n",
    "    'A' : 'Authorized by a candidate',\n",
    "    'B' : 'Lobbyist/Registrant PAC',\n",
    "    'D' : 'Leadership PAC',\n",
    "    'J' : 'Joint fundraiser',\n",
    "    'P' : 'Principal campaign committee',\n",
    "    'U' : 'Unauthorized',\n",
    "}\n",
    "\n",
    "opp['cmte_dsgn'] = [cmtedsgn_dict[x] for x in opp['cmte_dsgn']]\n",
    "opp['cmte_dsgn'].value_counts()"
   ]
  },
  {
   "cell_type": "code",
   "execution_count": null,
   "metadata": {},
   "outputs": [],
   "source": [
    "set(opp['linkage_id'].value_counts())"
   ]
  },
  {
   "cell_type": "code",
   "execution_count": null,
   "metadata": {},
   "outputs": [],
   "source": [
    "opp.head()"
   ]
  },
  {
   "cell_type": "code",
   "execution_count": null,
   "metadata": {},
   "outputs": [],
   "source": [
    "opp.to_csv('assets/cand_comm_linkages.csv', index = False)"
   ]
  }
 ],
 "metadata": {
  "kernelspec": {
   "display_name": "Python 3",
   "language": "python",
   "name": "python3"
  },
  "language_info": {
   "codemirror_mode": {
    "name": "ipython",
    "version": 3
   },
   "file_extension": ".py",
   "mimetype": "text/x-python",
   "name": "python",
   "nbconvert_exporter": "python",
   "pygments_lexer": "ipython3",
   "version": "3.7.4"
  }
 },
 "nbformat": 4,
 "nbformat_minor": 2
}
