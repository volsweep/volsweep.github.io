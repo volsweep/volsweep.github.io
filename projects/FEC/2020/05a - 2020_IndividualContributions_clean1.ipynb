{
 "cells": [
  {
   "cell_type": "markdown",
   "metadata": {},
   "source": [
    "## FEC Campaign Finance: \n",
    "\n",
    "### Individual contributions"
   ]
  },
  {
   "cell_type": "code",
   "execution_count": 1,
   "metadata": {},
   "outputs": [],
   "source": [
    "import pandas as pd\n",
    "import warnings\n",
    "warnings.filterwarnings('ignore')\n",
    "\n",
    "from datetime import datetime as dt"
   ]
  },
  {
   "cell_type": "code",
   "execution_count": 2,
   "metadata": {},
   "outputs": [],
   "source": [
    "year = '2020'\n",
    "mindate = dt.strptime(f'0101{str(int(year) - 2)}', '%m%d%Y')\n",
    "maxdate = dt.strptime(f'1231{int(year) - 1}', '%m%d%Y')"
   ]
  },
  {
   "cell_type": "code",
   "execution_count": 3,
   "metadata": {},
   "outputs": [
    {
     "data": {
      "text/html": [
       "<div>\n",
       "<style scoped>\n",
       "    .dataframe tbody tr th:only-of-type {\n",
       "        vertical-align: middle;\n",
       "    }\n",
       "\n",
       "    .dataframe tbody tr th {\n",
       "        vertical-align: top;\n",
       "    }\n",
       "\n",
       "    .dataframe thead th {\n",
       "        text-align: right;\n",
       "    }\n",
       "</style>\n",
       "<table border=\"1\" class=\"dataframe\">\n",
       "  <thead>\n",
       "    <tr style=\"text-align: right;\">\n",
       "      <th></th>\n",
       "      <th>cand_id</th>\n",
       "      <th>cand_election_yr</th>\n",
       "      <th>cmte_id</th>\n",
       "      <th>cmte_tp</th>\n",
       "      <th>cmte_dsgn</th>\n",
       "      <th>cand_name</th>\n",
       "    </tr>\n",
       "  </thead>\n",
       "  <tbody>\n",
       "    <tr>\n",
       "      <td>0</td>\n",
       "      <td>H0AL01055</td>\n",
       "      <td>2020</td>\n",
       "      <td>C00697789</td>\n",
       "      <td>cmte_House</td>\n",
       "      <td>Principal campaign committee</td>\n",
       "      <td>CARL, JERRY LEE, JR</td>\n",
       "    </tr>\n",
       "    <tr>\n",
       "      <td>1</td>\n",
       "      <td>H0AL01063</td>\n",
       "      <td>2020</td>\n",
       "      <td>C00701557</td>\n",
       "      <td>cmte_House</td>\n",
       "      <td>Principal campaign committee</td>\n",
       "      <td>LAMBERT, DOUGLAS WESTLEY III</td>\n",
       "    </tr>\n",
       "    <tr>\n",
       "      <td>2</td>\n",
       "      <td>H0AL01071</td>\n",
       "      <td>2020</td>\n",
       "      <td>C00701409</td>\n",
       "      <td>cmte_House</td>\n",
       "      <td>Principal campaign committee</td>\n",
       "      <td>PRINGLE, CHRISTOPHER PAUL</td>\n",
       "    </tr>\n",
       "    <tr>\n",
       "      <td>3</td>\n",
       "      <td>H0AL01089</td>\n",
       "      <td>2020</td>\n",
       "      <td>C00703066</td>\n",
       "      <td>cmte_House</td>\n",
       "      <td>Principal campaign committee</td>\n",
       "      <td>HIGHTOWER, BILL</td>\n",
       "    </tr>\n",
       "    <tr>\n",
       "      <td>4</td>\n",
       "      <td>H0AL01097</td>\n",
       "      <td>2020</td>\n",
       "      <td>C00708867</td>\n",
       "      <td>cmte_House</td>\n",
       "      <td>Principal campaign committee</td>\n",
       "      <td>AVERHART, JAMES</td>\n",
       "    </tr>\n",
       "  </tbody>\n",
       "</table>\n",
       "</div>"
      ],
      "text/plain": [
       "     cand_id  cand_election_yr    cmte_id     cmte_tp  \\\n",
       "0  H0AL01055              2020  C00697789  cmte_House   \n",
       "1  H0AL01063              2020  C00701557  cmte_House   \n",
       "2  H0AL01071              2020  C00701409  cmte_House   \n",
       "3  H0AL01089              2020  C00703066  cmte_House   \n",
       "4  H0AL01097              2020  C00708867  cmte_House   \n",
       "\n",
       "                      cmte_dsgn                     cand_name  \n",
       "0  Principal campaign committee           CARL, JERRY LEE, JR  \n",
       "1  Principal campaign committee  LAMBERT, DOUGLAS WESTLEY III  \n",
       "2  Principal campaign committee     PRINGLE, CHRISTOPHER PAUL  \n",
       "3  Principal campaign committee               HIGHTOWER, BILL  \n",
       "4  Principal campaign committee               AVERHART, JAMES  "
      ]
     },
     "execution_count": 3,
     "metadata": {},
     "output_type": "execute_result"
    }
   ],
   "source": [
    "ccl = pd.read_csv('data/02/cand_comm_linkages_02a.csv')\n",
    "ccl.head()"
   ]
  },
  {
   "cell_type": "code",
   "execution_count": 4,
   "metadata": {},
   "outputs": [],
   "source": [
    "cm = pd.read_csv('data/03/committees_03a.csv')\n",
    "cm_dict = dict(zip(cm['cmte_id'], cm['cmte_nm']))\n",
    "del cm"
   ]
  },
  {
   "cell_type": "code",
   "execution_count": 5,
   "metadata": {
    "scrolled": false
   },
   "outputs": [
    {
     "name": "stderr",
     "output_type": "stream",
     "text": [
      "b'Skipping line 8160152: expected 21 fields, saw 26\\n'\n"
     ]
    },
    {
     "name": "stdout",
     "output_type": "stream",
     "text": [
      "original length: 8723558\n",
      "number of cmte_ids in indiv but not in ccl: 4757\n",
      "remove transaction_amt == 0: 8669589\n"
     ]
    },
    {
     "data": {
      "text/html": [
       "<div>\n",
       "<style scoped>\n",
       "    .dataframe tbody tr th:only-of-type {\n",
       "        vertical-align: middle;\n",
       "    }\n",
       "\n",
       "    .dataframe tbody tr th {\n",
       "        vertical-align: top;\n",
       "    }\n",
       "\n",
       "    .dataframe thead th {\n",
       "        text-align: right;\n",
       "    }\n",
       "</style>\n",
       "<table border=\"1\" class=\"dataframe\">\n",
       "  <thead>\n",
       "    <tr style=\"text-align: right;\">\n",
       "      <th></th>\n",
       "      <th>cmte_id</th>\n",
       "      <th>amndt_ind</th>\n",
       "      <th>rpt_tp</th>\n",
       "      <th>transaction_pgi</th>\n",
       "      <th>image_num</th>\n",
       "      <th>transaction_tp</th>\n",
       "      <th>entity_tp</th>\n",
       "      <th>name</th>\n",
       "      <th>city</th>\n",
       "      <th>state</th>\n",
       "      <th>...</th>\n",
       "      <th>occupation</th>\n",
       "      <th>transaction_dt</th>\n",
       "      <th>transaction_amt</th>\n",
       "      <th>other_id</th>\n",
       "      <th>tran_id</th>\n",
       "      <th>file_num</th>\n",
       "      <th>memo_cd</th>\n",
       "      <th>memo_text</th>\n",
       "      <th>sub_id</th>\n",
       "      <th>cmte_nm</th>\n",
       "    </tr>\n",
       "  </thead>\n",
       "  <tbody>\n",
       "    <tr>\n",
       "      <td>0</td>\n",
       "      <td>C00432906</td>\n",
       "      <td>T</td>\n",
       "      <td>Termination</td>\n",
       "      <td>P2018</td>\n",
       "      <td>201901219143901218</td>\n",
       "      <td>22Y</td>\n",
       "      <td>IND</td>\n",
       "      <td>LEMUNYON, GLENN</td>\n",
       "      <td>WASHINGTON</td>\n",
       "      <td>DC</td>\n",
       "      <td>...</td>\n",
       "      <td>NaN</td>\n",
       "      <td>1182019.0</td>\n",
       "      <td>-500</td>\n",
       "      <td>NaN</td>\n",
       "      <td>SB20A.55755</td>\n",
       "      <td>1305860</td>\n",
       "      <td>NaN</td>\n",
       "      <td>NaN</td>\n",
       "      <td>4021320191639407453</td>\n",
       "      <td>TOM ROONEY FOR CONGRESS</td>\n",
       "    </tr>\n",
       "    <tr>\n",
       "      <td>1</td>\n",
       "      <td>C00432906</td>\n",
       "      <td>T</td>\n",
       "      <td>Termination</td>\n",
       "      <td>P2018</td>\n",
       "      <td>201901219143901218</td>\n",
       "      <td>22Y</td>\n",
       "      <td>IND</td>\n",
       "      <td>LEMUNYON, GLENN</td>\n",
       "      <td>WASHINGTON</td>\n",
       "      <td>DC</td>\n",
       "      <td>...</td>\n",
       "      <td>NaN</td>\n",
       "      <td>1182019.0</td>\n",
       "      <td>500</td>\n",
       "      <td>NaN</td>\n",
       "      <td>SB20A.55756</td>\n",
       "      <td>1305860</td>\n",
       "      <td>NaN</td>\n",
       "      <td>NaN</td>\n",
       "      <td>4021320191639407455</td>\n",
       "      <td>TOM ROONEY FOR CONGRESS</td>\n",
       "    </tr>\n",
       "    <tr>\n",
       "      <td>2</td>\n",
       "      <td>C00638478</td>\n",
       "      <td>T</td>\n",
       "      <td>Termination</td>\n",
       "      <td>P2018</td>\n",
       "      <td>201901289144040160</td>\n",
       "      <td>15C</td>\n",
       "      <td>CAN</td>\n",
       "      <td>JANOWICZ, PHILIP</td>\n",
       "      <td>BUENA PARK</td>\n",
       "      <td>CA</td>\n",
       "      <td>...</td>\n",
       "      <td>CANDIDATE</td>\n",
       "      <td>1282019.0</td>\n",
       "      <td>33000</td>\n",
       "      <td>H8CA39133</td>\n",
       "      <td>3703296</td>\n",
       "      <td>1307800</td>\n",
       "      <td>NaN</td>\n",
       "      <td>CONVERTING PRIMARY LOAN TO CONTRIBUTION</td>\n",
       "      <td>4021220191639267649</td>\n",
       "      <td>FRIENDS OF PHIL JANOWICZ</td>\n",
       "    </tr>\n",
       "    <tr>\n",
       "      <td>3</td>\n",
       "      <td>C00640870</td>\n",
       "      <td>T</td>\n",
       "      <td>Termination</td>\n",
       "      <td>P2018</td>\n",
       "      <td>201901259144002482</td>\n",
       "      <td>15C</td>\n",
       "      <td>CAN</td>\n",
       "      <td>RICHARDSON, CHARDO</td>\n",
       "      <td>LONGWOOD</td>\n",
       "      <td>FL</td>\n",
       "      <td>...</td>\n",
       "      <td>INFORMATION REQUESTED</td>\n",
       "      <td>1242019.0</td>\n",
       "      <td>76</td>\n",
       "      <td>H8FL07054</td>\n",
       "      <td>VTQYWHKD8W6</td>\n",
       "      <td>1307204</td>\n",
       "      <td>NaN</td>\n",
       "      <td>CONTRIBUTION FOR DEBT RETIREMENT</td>\n",
       "      <td>4021320191639532337</td>\n",
       "      <td>CHARDO RICHARDSON FOR CONGRESS</td>\n",
       "    </tr>\n",
       "    <tr>\n",
       "      <td>4</td>\n",
       "      <td>C00638478</td>\n",
       "      <td>T</td>\n",
       "      <td>Termination</td>\n",
       "      <td>P2018</td>\n",
       "      <td>201901289144040158</td>\n",
       "      <td>15</td>\n",
       "      <td>IND</td>\n",
       "      <td>STEVENS, RICHARD</td>\n",
       "      <td>DIAMOND BAR</td>\n",
       "      <td>CA</td>\n",
       "      <td>...</td>\n",
       "      <td>NOT EMPLOYED</td>\n",
       "      <td>1252019.0</td>\n",
       "      <td>-50</td>\n",
       "      <td>NaN</td>\n",
       "      <td>3703278</td>\n",
       "      <td>1307800</td>\n",
       "      <td>NaN</td>\n",
       "      <td>CHECK LOST</td>\n",
       "      <td>4021220191639267645</td>\n",
       "      <td>FRIENDS OF PHIL JANOWICZ</td>\n",
       "    </tr>\n",
       "  </tbody>\n",
       "</table>\n",
       "<p>5 rows × 22 columns</p>\n",
       "</div>"
      ],
      "text/plain": [
       "     cmte_id amndt_ind       rpt_tp transaction_pgi           image_num  \\\n",
       "0  C00432906         T  Termination           P2018  201901219143901218   \n",
       "1  C00432906         T  Termination           P2018  201901219143901218   \n",
       "2  C00638478         T  Termination           P2018  201901289144040160   \n",
       "3  C00640870         T  Termination           P2018  201901259144002482   \n",
       "4  C00638478         T  Termination           P2018  201901289144040158   \n",
       "\n",
       "  transaction_tp entity_tp                name         city state  ...  \\\n",
       "0            22Y       IND     LEMUNYON, GLENN   WASHINGTON    DC  ...   \n",
       "1            22Y       IND     LEMUNYON, GLENN   WASHINGTON    DC  ...   \n",
       "2            15C       CAN    JANOWICZ, PHILIP   BUENA PARK    CA  ...   \n",
       "3            15C       CAN  RICHARDSON, CHARDO     LONGWOOD    FL  ...   \n",
       "4             15       IND    STEVENS, RICHARD  DIAMOND BAR    CA  ...   \n",
       "\n",
       "              occupation transaction_dt transaction_amt   other_id  \\\n",
       "0                    NaN      1182019.0            -500        NaN   \n",
       "1                    NaN      1182019.0             500        NaN   \n",
       "2              CANDIDATE      1282019.0           33000  H8CA39133   \n",
       "3  INFORMATION REQUESTED      1242019.0              76  H8FL07054   \n",
       "4           NOT EMPLOYED      1252019.0             -50        NaN   \n",
       "\n",
       "       tran_id file_num memo_cd                                memo_text  \\\n",
       "0  SB20A.55755  1305860     NaN                                      NaN   \n",
       "1  SB20A.55756  1305860     NaN                                      NaN   \n",
       "2      3703296  1307800     NaN  CONVERTING PRIMARY LOAN TO CONTRIBUTION   \n",
       "3  VTQYWHKD8W6  1307204     NaN         CONTRIBUTION FOR DEBT RETIREMENT   \n",
       "4      3703278  1307800     NaN                               CHECK LOST   \n",
       "\n",
       "                sub_id                         cmte_nm  \n",
       "0  4021320191639407453         TOM ROONEY FOR CONGRESS  \n",
       "1  4021320191639407455         TOM ROONEY FOR CONGRESS  \n",
       "2  4021220191639267649        FRIENDS OF PHIL JANOWICZ  \n",
       "3  4021320191639532337  CHARDO RICHARDSON FOR CONGRESS  \n",
       "4  4021220191639267645        FRIENDS OF PHIL JANOWICZ  \n",
       "\n",
       "[5 rows x 22 columns]"
      ]
     },
     "execution_count": 5,
     "metadata": {},
     "output_type": "execute_result"
    }
   ],
   "source": [
    "# add column headers from separate file\n",
    "headers = pd.read_csv('data/indiv_header_file.csv')\n",
    "\n",
    "# read in & clean\n",
    "# https://www.fec.gov/files/bulk-downloads/2020/indiv20.zip\n",
    "indiv = pd.read_csv(\n",
    "    f'data/indiv{year[2:]}/itcont.txt', \n",
    "    sep = '|', \n",
    "    error_bad_lines = False, \n",
    "    header = None, \n",
    "\n",
    ")\n",
    "indiv.columns = [x.lower() for x in headers.columns]\n",
    "print('original length:', len(indiv))\n",
    "\n",
    "# diff # unique cmte_ids in indiv vs # unique cmte_ids in ccl\n",
    "print('number of cmte_ids in indiv but not in ccl:', \n",
    "      len(set(indiv['cmte_id']) - set(ccl['cmte_id'].values)))\n",
    "\n",
    "# remove transaction_amt == 0\n",
    "indiv = indiv[indiv['transaction_amt'] != 0]\n",
    "print('remove transaction_amt == 0:', len(indiv))\n",
    "\n",
    "# add cmte_nm column\n",
    "indiv['cmte_nm'] = [cm_dict[x] for x in indiv['cmte_id']]\n",
    "\n",
    "# make report type readable\n",
    "rpttp = pd.read_csv('data/04/pas2_rpttp.csv')\n",
    "rpttp = rpttp[['Report type code', 'Report type', 'explanation']]\n",
    "rpttp_dict = dict(zip(rpttp['Report type code'], rpttp['Report type']))\n",
    "indiv['rpt_tp'] = [rpttp_dict[x] for x in indiv['rpt_tp']]\n",
    "del rpttp_dict\n",
    "\n",
    "indiv.head()"
   ]
  },
  {
   "cell_type": "code",
   "execution_count": 6,
   "metadata": {},
   "outputs": [
    {
     "name": "stdout",
     "output_type": "stream",
     "text": [
      "transaction_amt total for null date: 1694\n"
     ]
    },
    {
     "data": {
      "text/plain": [
       "ALABAMA NURSING HOME ASSOCIATION FEDERAL POLITICAL ACTION COMMITTEE (ANHA PAC)    4\n",
       "INVENERGY LLC PAC                                                                 3\n",
       "Name: cmte_nm, dtype: int64"
      ]
     },
     "execution_count": 6,
     "metadata": {},
     "output_type": "execute_result"
    }
   ],
   "source": [
    "# which cmte_nms have null dates\n",
    "print('transaction_amt total for null date:', \n",
    "      indiv.loc[indiv['transaction_dt'].isnull(), 'transaction_amt'].sum())\n",
    "indiv.loc[indiv['transaction_dt'].isnull(), 'cmte_nm'].value_counts()[:10]"
   ]
  },
  {
   "cell_type": "code",
   "execution_count": 7,
   "metadata": {},
   "outputs": [
    {
     "name": "stdout",
     "output_type": "stream",
     "text": [
      "remove missing dates: 8669582\n"
     ]
    }
   ],
   "source": [
    "# remove null date rows\n",
    "indiv = indiv[pd.notnull(indiv['transaction_dt'])]\n",
    "print('remove missing dates:', len(indiv))"
   ]
  },
  {
   "cell_type": "code",
   "execution_count": 8,
   "metadata": {},
   "outputs": [
    {
     "name": "stdout",
     "output_type": "stream",
     "text": [
      "slice on dates: 8668654\n"
     ]
    }
   ],
   "source": [
    "# convert to datetime\n",
    "indiv['transaction_dt'] = [dt.strptime(str(int(x)), '%m%d%Y') for \\\n",
    "                           x in indiv['transaction_dt']]\n",
    "\n",
    "# slice on dates\n",
    "indiv = indiv[(indiv['transaction_dt'] >= mindate) & (indiv['transaction_dt'] <= maxdate)]\n",
    "print('slice on dates:', len(indiv))\n",
    "\n",
    "indiv.sort_values(['transaction_dt'], inplace = True)"
   ]
  },
  {
   "cell_type": "code",
   "execution_count": 9,
   "metadata": {},
   "outputs": [
    {
     "data": {
      "text/plain": [
       "Mid-year             1874014\n",
       "October quarterly    1476564\n",
       "July quarterly        759730\n",
       "December monthly      590082\n",
       "November monthly      581828\n",
       "Year end              581503\n",
       "October monthly       485677\n",
       "September monthly     433921\n",
       "August monthly        387522\n",
       "July monthly          339240\n",
       "June monthly          295269\n",
       "April quarterly       278758\n",
       "May monthly           224235\n",
       "April monthly         175642\n",
       "March monthly         104258\n",
       "February monthly       56803\n",
       "Post-special            9657\n",
       "Pre-special             9288\n",
       "Termination             2913\n",
       "Pre-primary              857\n",
       "Pre-Runoff               824\n",
       "Pre-general               69\n",
       "Name: rpt_tp, dtype: int64"
      ]
     },
     "execution_count": 9,
     "metadata": {},
     "output_type": "execute_result"
    }
   ],
   "source": [
    "indiv['rpt_tp'].value_counts()"
   ]
  },
  {
   "cell_type": "code",
   "execution_count": 14,
   "metadata": {},
   "outputs": [
    {
     "data": {
      "text/plain": [
       "AETNA INC. POLITICAL ACTION COMMITTEE                          354\n",
       "JOE SESTAK FOR PRESIDENT                                       252\n",
       "GARLAND TUCKER FOR SENATE                                      245\n",
       "RICHARD BEW FOR CONGRESS                                       191\n",
       "FOX CORPORATION POLITICAL ACTION COMMITTEE  II (FOX PAC II)     84\n",
       "BAUGH FOR CONGRESS                                              66\n",
       "IDAHO VICTORY FUND PAC                                          60\n",
       "ABBIE HODGSON FOR CONGRESS                                      56\n",
       "GEP ADMINISTRATIVE SERVICES, INC. EMPLOYEE PAC                  50\n",
       "BRUNO A BARREIRO CAMPAIGN                                       47\n",
       "BARRASSO CASSIDY VICTORY FUND                                   44\n",
       "BLUE GREEN VICTORY FUND                                         43\n",
       "TIM CANOVA FOR CONGRESS                                         43\n",
       "BYRNE FOR CONGRESS                                              42\n",
       "HATCH ELECTION COMMITTEE INC                                    42\n",
       "MANSFIELD FOR NORTH CAROLINA                                    40\n",
       "SHERRILL CUNNINGHAM VICTORY FUND                                38\n",
       "FIERCE ON THE FRONTLINE                                         38\n",
       "DEM SENATE 2020                                                 38\n",
       "GOTTHEIMER ROSE VICTORY FUND                                    37\n",
       "COMMITTEE TO DRAFT SHERROD BROWN FOR PRESIDENT 2020             36\n",
       "PA-CT VICTORY FUND                                              36\n",
       "GRAHAM-GALLAGHER VICTORY FUND                                   35\n",
       "AARON SCHEINBERG FOR CONGRESS                                   33\n",
       "PROBLEM SOLVERS HEROES                                          32\n",
       "JIM LOWER FOR CONGRESS                                          31\n",
       "FRICKE FOR CONGRESS                                             29\n",
       "ROSE SLOTKIN VICTORY FUND                                       28\n",
       "SAVE OUR HOUSE VICTORY FUND                                     28\n",
       "CROW/NEGUSE VICTORY FUND                                        27\n",
       "Name: cmte_nm, dtype: int64"
      ]
     },
     "execution_count": 14,
     "metadata": {},
     "output_type": "execute_result"
    }
   ],
   "source": [
    "indiv.loc[indiv['rpt_tp'] == 'Termination', 'cmte_nm'].value_counts()[:30]"
   ]
  },
  {
   "cell_type": "code",
   "execution_count": 16,
   "metadata": {},
   "outputs": [
    {
     "name": "stdout",
     "output_type": "stream",
     "text": [
      "transaction_amt total for 'X' memo_cd: 18307747\n"
     ]
    },
    {
     "data": {
      "text/plain": [
       "DONALD J. TRUMP FOR PRESIDENT, INC.                                      4811\n",
       "PETE FOR AMERICA, INC.                                                   3137\n",
       "EMILY'S LIST                                                             2371\n",
       "AMERICAN ASSOCIATION FOR JUSTICE POLITICAL ACTION COMMITTEE (AAJ PAC)    1249\n",
       "TEAM GRAHAM, INC.                                                         858\n",
       "DCCC                                                                      764\n",
       "TEXANS FOR SENATOR JOHN CORNYN INC.                                       688\n",
       "CLUB FOR GROWTH PAC                                                       661\n",
       "CORY 2020                                                                 589\n",
       "BILL CASSIDY FOR US SENATE                                                558\n",
       "PERDUE FOR SENATE                                                         531\n",
       "MCSALLY FOR SENATE INC                                                    494\n",
       "JOHN JAMES FOR SENATE, INC.                                               423\n",
       "SETH MOULTON FOR AMERICA, INC.                                            417\n",
       "NEW DEMOCRAT COALITION ACTION FUND                                        386\n",
       "BIDEN FOR PRESIDENT                                                       357\n",
       "AMY MCGRATH FOR SENATE, INC.                                              313\n",
       "COTTON FOR SENATE, INC.                                                   285\n",
       "KANSANS FOR MARSHALL                                                      241\n",
       "JONI FOR IOWA                                                             239\n",
       "Name: cmte_nm, dtype: int64"
      ]
     },
     "execution_count": 16,
     "metadata": {},
     "output_type": "execute_result"
    }
   ],
   "source": [
    "# which names have 'X' memo_cd; these rows don't count against FEC limits\n",
    "print('transaction_amt total for \\'X\\' memo_cd:', \n",
    "      indiv.loc[indiv['memo_cd'] == 'X', 'transaction_amt'].sum())\n",
    "indiv.loc[indiv['memo_cd'] == 'X', 'cmte_nm'].value_counts()[:20]"
   ]
  },
  {
   "cell_type": "code",
   "execution_count": 17,
   "metadata": {},
   "outputs": [
    {
     "data": {
      "text/plain": [
       "N    6435470\n",
       "A    2230516\n",
       "T       2668\n",
       "Name: amndt_ind, dtype: int64"
      ]
     },
     "execution_count": 17,
     "metadata": {},
     "output_type": "execute_result"
    }
   ],
   "source": [
    "indiv['amndt_ind'].value_counts()"
   ]
  },
  {
   "cell_type": "code",
   "execution_count": 18,
   "metadata": {},
   "outputs": [
    {
     "data": {
      "text/plain": [
       "IND    8656705\n",
       "CAN       5279\n",
       "ORG       4793\n",
       "PAC       1331\n",
       "CCM        264\n",
       "COM        221\n",
       "PTY         12\n",
       "Name: entity_tp, dtype: int64"
      ]
     },
     "execution_count": 18,
     "metadata": {},
     "output_type": "execute_result"
    }
   ],
   "source": [
    "indiv['entity_tp'].value_counts()"
   ]
  },
  {
   "cell_type": "code",
   "execution_count": null,
   "metadata": {},
   "outputs": [],
   "source": [
    "indiv.to_csv(f'data/05/indiv_contrib_{year}.csv', index = False)"
   ]
  }
 ],
 "metadata": {
  "kernelspec": {
   "display_name": "Python 3",
   "language": "python",
   "name": "python3"
  },
  "language_info": {
   "codemirror_mode": {
    "name": "ipython",
    "version": 3
   },
   "file_extension": ".py",
   "mimetype": "text/x-python",
   "name": "python",
   "nbconvert_exporter": "python",
   "pygments_lexer": "ipython3",
   "version": "3.7.4"
  }
 },
 "nbformat": 4,
 "nbformat_minor": 2
}
